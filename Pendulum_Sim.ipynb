{
 "cells": [
  {
   "cell_type": "code",
   "execution_count": 1,
   "metadata": {},
   "outputs": [],
   "source": [
    "from pydrake.examples.pendulum import PendulumParams, PendulumPlant\n",
    "from pydrake.all import Linearize, LinearQuadraticRegulator\n",
    "import numpy as np\n",
    "import control\n",
    "\n",
    "import matplotlib.pyplot as plt\n",
    "from pydrake.systems.analysis import Simulator\n",
    "from pydrake.systems.framework import DiagramBuilder\n",
    "from pydrake.systems.primitives import LogVectorOutput\n",
    "\n",
    "from pydrake.symbolic import Variable\n",
    "from pydrake.systems.primitives import SymbolicVectorSystem\n",
    "import pydrake.forwarddiff"
   ]
  },
  {
   "cell_type": "code",
   "execution_count": 105,
   "metadata": {},
   "outputs": [],
   "source": [
    "t = Variable(\"t\")\n",
    "td = Variable(\"td\")\n",
    "u = Variable(\"u\")\n",
    "\n",
    "p = PendulumParams()\n",
    "\n",
    "x = np.hstack([t, td])\n",
    "\n",
    "dv_0 = td\n",
    "dv_1 = (-p.damping()/(p.mass()*p.length()**2))*td - (p.gravity()/p.length())*pydrake.forwarddiff.sin(t) + u\n",
    "\n",
    "x_dot = np.array([dv_0, dv_1])\n",
    "\n",
    "continuous_vector_system = SymbolicVectorSystem(state=x, input = [u], dynamics=x_dot, output=x)"
   ]
  },
  {
   "cell_type": "code",
   "execution_count": 111,
   "metadata": {},
   "outputs": [],
   "source": [
    "plant = PendulumPlant()\n",
    "context = plant.CreateDefaultContext()\n",
    "plant.get_input_port().FixValue(context, [0])\n",
    "context.SetContinuousState([np.pi, 0])\n",
    "\n",
    "linearized_plant = Linearize(plant, context)\n",
    "\n",
    "A = linearized_plant.A()\n",
    "B = linearized_plant.B()\n",
    "Q = np.diag([10, 1])\n",
    "R = [1]\n",
    "\n",
    "X, L, G = control.care(A, B, Q, R)\n",
    "\n",
    "something = LinearQuadraticRegulator(A, B, Q, R)"
   ]
  },
  {
   "cell_type": "code",
   "execution_count": 112,
   "metadata": {},
   "outputs": [
    {
     "data": {
      "text/plain": [
       "array([[10.74101105,  2.42596626]])"
      ]
     },
     "execution_count": 112,
     "metadata": {},
     "output_type": "execute_result"
    }
   ],
   "source": [
    "something[0]"
   ]
  },
  {
   "cell_type": "code",
   "execution_count": 113,
   "metadata": {},
   "outputs": [
    {
     "data": {
      "text/plain": [
       "array([[10.74101105,  2.42596626]])"
      ]
     },
     "execution_count": 113,
     "metadata": {},
     "output_type": "execute_result"
    }
   ],
   "source": [
    "G"
   ]
  },
  {
   "cell_type": "code",
   "execution_count": 114,
   "metadata": {},
   "outputs": [
    {
     "data": {
      "text/plain": [
       "array([[ 0.  ,  1.  ],\n",
       "       [19.62, -0.4 ]])"
      ]
     },
     "execution_count": 114,
     "metadata": {},
     "output_type": "execute_result"
    }
   ],
   "source": [
    "A"
   ]
  },
  {
   "cell_type": "code",
   "execution_count": 115,
   "metadata": {},
   "outputs": [
    {
     "data": {
      "text/plain": [
       "array([[0.],\n",
       "       [4.]])"
      ]
     },
     "execution_count": 115,
     "metadata": {},
     "output_type": "execute_result"
    }
   ],
   "source": [
    "B"
   ]
  },
  {
   "cell_type": "code",
   "execution_count": null,
   "metadata": {},
   "outputs": [],
   "source": []
  },
  {
   "cell_type": "code",
   "execution_count": 20,
   "metadata": {},
   "outputs": [
    {
     "data": {
      "text/plain": [
       "32.98667452366236"
      ]
     },
     "execution_count": 20,
     "metadata": {},
     "output_type": "execute_result"
    }
   ],
   "source": [
    "np.rad2deg(log.data().view()[0][-1])"
   ]
  },
  {
   "cell_type": "code",
   "execution_count": 2,
   "metadata": {},
   "outputs": [],
   "source": [
    "import math\n",
    "\n",
    "import matplotlib.pyplot as plt\n",
    "import mpld3\n",
    "import numpy as np\n",
    "from IPython.display import HTML, display\n",
    "from pydrake.all import (AddMultibodyPlantSceneGraph, ControllabilityMatrix,\n",
    "                         DiagramBuilder, Linearize, LinearQuadraticRegulator,\n",
    "                         MeshcatVisualizerCpp, Parser, Saturation, SceneGraph,\n",
    "                         Simulator, StartMeshcat, WrapToSystem)\n",
    "from pydrake.examples.pendulum import (PendulumGeometry, PendulumInput,\n",
    "                                      PendulumPlant, PendulumState)\n",
    "from pydrake.examples.quadrotor import (QuadrotorGeometry, QuadrotorPlant,\n",
    "                                        StabilizingLQRController)\n",
    "from pydrake.solvers.mathematicalprogram import MathematicalProgram, Solve\n",
    "\n",
    "from underactuated import FindResource, running_as_notebook\n",
    "from underactuated.meshcat_cpp_utils import MeshcatSliders\n",
    "from underactuated.quadrotor2d import Quadrotor2D, Quadrotor2DVisualizer\n",
    "\n",
    "if running_as_notebook:\n",
    "    mpld3.enable_notebook()\n"
   ]
  },
  {
   "cell_type": "code",
   "execution_count": 62,
   "metadata": {},
   "outputs": [
    {
     "data": {
      "image/png": "[encoded data removed]",
      "text/html": [
       "\n",
       "\n",
       "<style>\n",
       "\n",
       "</style>\n",
       "\n",
       "<div id=\"fig_el1673041406351916897129863276129\"></div>\n",
       "<script>\n",
       "function mpld3_load_lib(url, callback){\n",
       "  var s = document.createElement('script');\n",
       "  s.src = url;\n",
       "  s.async = true;\n",
       "  s.onreadystatechange = s.onload = callback;\n",
       "  s.onerror = function(){console.warn(\"failed to load library \" + url);};\n",
       "  document.getElementsByTagName(\"head\")[0].appendChild(s);\n",
       "}\n",
       "\n",
       "if(typeof(mpld3) !== \"undefined\" && mpld3._mpld3IsLoaded){\n",
       "   // already loaded: just create the figure\n",
       "   !function(mpld3){\n",
       "       \n",
       "       mpld3.draw_figure(\"fig_el1673041406351916897129863276129\", {\"width\": 432.0, \"height\": 288.0, \"axes\": [{\"bbox\": [0.125, 0.125, 0.775, 0.755], \"xlim\": [-0.2, 4.2], \"ylim\": [-0.15708450770650637, 3.2986753858911713], \"xdomain\": [-0.2, 4.2], \"ydomain\": [-0.15708450770650637, 3.2986753858911713], \"xscale\": \"linear\", \"yscale\": \"linear\", \"axes\": [{\"position\": \"bottom\", \"nticks\": 11, \"tickvalues\": null, \"tickformat_formatter\": \"\", \"tickformat\": null, \"scale\": \"linear\", \"fontsize\": 10.0, \"grid\": {\"gridOn\": false}, \"visible\": true}, {\"position\": \"left\", \"nticks\": 9, \"tickvalues\": null, \"tickformat_formatter\": \"\", \"tickformat\": null, \"scale\": \"linear\", \"fontsize\": 10.0, \"grid\": {\"gridOn\": false}, \"visible\": true}], \"axesbg\": \"#FFFFFF\", \"axesbgalpha\": null, \"zoomable\": true, \"id\": \"el167304140635191691776\", \"lines\": [{\"data\": \"data01\", \"xindex\": 0, \"yindex\": 1, \"coordinates\": \"data\", \"id\": \"el167304140635192369600\", \"color\": \"#1F77B4\", \"linewidth\": 1.5, \"dasharray\": \"none\", \"alpha\": 1, \"zorder\": 2, \"drawstyle\": \"default\"}, {\"data\": \"data01\", \"xindex\": 0, \"yindex\": 2, \"coordinates\": \"data\", \"id\": \"el167304140635192369648\", \"color\": \"#FF7F0E\", \"linewidth\": 1.5, \"dasharray\": \"none\", \"alpha\": 1, \"zorder\": 2, \"drawstyle\": \"default\"}], \"paths\": [], \"markers\": [], \"texts\": [{\"text\": \"t\", \"position\": [0.49999999999999994, -0.09657836644591611], \"coordinates\": \"axes\", \"h_anchor\": \"middle\", \"v_baseline\": \"hanging\", \"rotation\": -0.0, \"fontsize\": 10.0, \"color\": \"#000000\", \"alpha\": 1, \"zorder\": 3, \"id\": \"el167304140635191623296\"}, {\"text\": \"y(t)\", \"position\": [-0.08064516129032258, 0.49999999999999994], \"coordinates\": \"axes\", \"h_anchor\": \"middle\", \"v_baseline\": \"auto\", \"rotation\": -90.0, \"fontsize\": 10.0, \"color\": \"#000000\", \"alpha\": 1, \"zorder\": 3, \"id\": \"el167304140635191620704\"}], \"collections\": [], \"images\": [], \"sharex\": [], \"sharey\": []}], \"data\": {\"data01\": [[0.0, 3.1386016368340197, 0.016507112165583544], [0.0001, 3.138603287103624, 0.016498280683010947], [0.0006000000000000001, 3.13861152521714, 0.016454192605227895], [0.0031000000000000003, 3.1386523867103744, 0.016235476367547564], [0.015600000000000001, 3.138848688210025, 0.015183859189096267], [0.07269500899553884, 3.139596178366737, 0.01116381137120093], [0.12979001799107767, 3.140145200099347, 0.008189581105544508], [0.18688502698661652, 3.140547492804997, 0.005992633613108922], [0.2577670101209794, 3.140900070378489, 0.00404807339964503], [0.3286489932553423, 3.141137710716009, 0.0027206347526523107], [0.416986745797446, 3.141327829689525, 0.0016412887844206904], [0.5053244983395497, 3.141441973609313, 0.000978599207589277], [0.6053244983395497, 3.141516364225863, 0.0005339300107310513], [0.7053244983395497, 3.1415565393373717, 0.00028363173054533046], [0.8053244983395497, 3.14157757340265, 0.0001449456452681685], [0.9053244983395496, 3.1415880872240827, 6.969298349575915e-05], [1.0053244983395497, 3.1415929553482003, 3.002703090126171e-05], [1.1053244983395498, 3.141594894574245, 9.99307710091319e-06], [1.20532449833955, 3.1415953907276406, 5.485882679727344e-07], [1.30532449833955, 3.1415952357252332, -3.361405534660421e-06], [1.40532449833955, 3.141594836271441, -4.512542975544783e-06], [1.5053244983395502, 3.14159438951504, -4.392406807779836e-06], [1.6053244983395503, 3.141593981746569, -3.7712424186347092e-06], [1.7053244983395504, 3.141593642956794, -3.027384459198567e-06], [1.8053244983395504, 3.141593376346792, -2.3305861795913566e-06], [1.9053244983395505, 3.1415931738124323, -1.7437082325590914e-06], [2.0053244983395504, 3.1415930237108065, -1.2779761990046441e-06], [2.1053244983395505, 3.141592914477832, -9.221669749178672e-07], [2.2053244983395506, 3.141592836088283, -6.573960488501556e-07], [2.3053244983395507, 3.1415927804486725, -4.641257795442204e-07], [2.4053244983395508, 3.141592741305221, -3.250988560842036e-07], [2.505324498339551, 3.1415927139667366, -2.262334178419203e-07], [2.605324498339551, 3.1415926949883786, -1.5657308679339824e-07], [2.705324498339551, 3.1415926818807263, -1.0785940237045013e-07], [2.805324498339551, 3.141592672867046, -7.400650798769205e-08], [2.905324498339551, 3.14159266669177, -5.06045518193097e-08], [3.0053244983395513, 3.141592662474752, -3.4499470282224365e-08], [3.1053244983395514, 3.1415926596031105, -2.3458566437712182e-08], [3.2053244983395515, 3.1415926576524478, -1.591453683393049e-08], [3.3053244983395516, 3.141592656330272, -1.0774736226377685e-08], [3.4053244983395516, 3.141592655435813, -7.281808448713653e-09], [3.5053244983395517, 3.1415926548317397, -4.913351020709231e-09], [3.605324498339552, 3.1415926544243993, -3.3105241596248763e-09], [3.705324498339552, 3.141592654150094, -2.2277225609168065e-09], [3.805324498339552, 3.1415926539656, -1.4973647045641487e-09], [3.905324498339552, 3.141592653841648, -1.0054175696669746e-09], [4.0, 3.1415926537621344, -6.891223717468979e-10]]}, \"id\": \"el167304140635191689712\", \"plugins\": [{\"type\": \"reset\"}, {\"type\": \"zoom\", \"button\": true, \"enabled\": false}, {\"type\": \"boxzoom\", \"button\": true, \"enabled\": false}]});\n",
       "   }(mpld3);\n",
       "}else if(typeof define === \"function\" && define.amd){\n",
       "   // require.js is available: use it to load d3/mpld3\n",
       "   require.config({paths: {d3: \"https://d3js.org/d3.v5\"}});\n",
       "   require([\"d3\"], function(d3){\n",
       "      window.d3 = d3;\n",
       "      mpld3_load_lib(\"https://mpld3.github.io/js/mpld3.v0.5.8.js\", function(){\n",
       "         \n",
       "         mpld3.draw_figure(\"fig_el1673041406351916897129863276129\", {\"width\": 432.0, \"height\": 288.0, \"axes\": [{\"bbox\": [0.125, 0.125, 0.775, 0.755], \"xlim\": [-0.2, 4.2], \"ylim\": [-0.15708450770650637, 3.2986753858911713], \"xdomain\": [-0.2, 4.2], \"ydomain\": [-0.15708450770650637, 3.2986753858911713], \"xscale\": \"linear\", \"yscale\": \"linear\", \"axes\": [{\"position\": \"bottom\", \"nticks\": 11, \"tickvalues\": null, \"tickformat_formatter\": \"\", \"tickformat\": null, \"scale\": \"linear\", \"fontsize\": 10.0, \"grid\": {\"gridOn\": false}, \"visible\": true}, {\"position\": \"left\", \"nticks\": 9, \"tickvalues\": null, \"tickformat_formatter\": \"\", \"tickformat\": null, \"scale\": \"linear\", \"fontsize\": 10.0, \"grid\": {\"gridOn\": false}, \"visible\": true}], \"axesbg\": \"#FFFFFF\", \"axesbgalpha\": null, \"zoomable\": true, \"id\": \"el167304140635191691776\", \"lines\": [{\"data\": \"data01\", \"xindex\": 0, \"yindex\": 1, \"coordinates\": \"data\", \"id\": \"el167304140635192369600\", \"color\": \"#1F77B4\", \"linewidth\": 1.5, \"dasharray\": \"none\", \"alpha\": 1, \"zorder\": 2, \"drawstyle\": \"default\"}, {\"data\": \"data01\", \"xindex\": 0, \"yindex\": 2, \"coordinates\": \"data\", \"id\": \"el167304140635192369648\", \"color\": \"#FF7F0E\", \"linewidth\": 1.5, \"dasharray\": \"none\", \"alpha\": 1, \"zorder\": 2, \"drawstyle\": \"default\"}], \"paths\": [], \"markers\": [], \"texts\": [{\"text\": \"t\", \"position\": [0.49999999999999994, -0.09657836644591611], \"coordinates\": \"axes\", \"h_anchor\": \"middle\", \"v_baseline\": \"hanging\", \"rotation\": -0.0, \"fontsize\": 10.0, \"color\": \"#000000\", \"alpha\": 1, \"zorder\": 3, \"id\": \"el167304140635191623296\"}, {\"text\": \"y(t)\", \"position\": [-0.08064516129032258, 0.49999999999999994], \"coordinates\": \"axes\", \"h_anchor\": \"middle\", \"v_baseline\": \"auto\", \"rotation\": -90.0, \"fontsize\": 10.0, \"color\": \"#000000\", \"alpha\": 1, \"zorder\": 3, \"id\": \"el167304140635191620704\"}], \"collections\": [], \"images\": [], \"sharex\": [], \"sharey\": []}], \"data\": {\"data01\": [[0.0, 3.1386016368340197, 0.016507112165583544], [0.0001, 3.138603287103624, 0.016498280683010947], [0.0006000000000000001, 3.13861152521714, 0.016454192605227895], [0.0031000000000000003, 3.1386523867103744, 0.016235476367547564], [0.015600000000000001, 3.138848688210025, 0.015183859189096267], [0.07269500899553884, 3.139596178366737, 0.01116381137120093], [0.12979001799107767, 3.140145200099347, 0.008189581105544508], [0.18688502698661652, 3.140547492804997, 0.005992633613108922], [0.2577670101209794, 3.140900070378489, 0.00404807339964503], [0.3286489932553423, 3.141137710716009, 0.0027206347526523107], [0.416986745797446, 3.141327829689525, 0.0016412887844206904], [0.5053244983395497, 3.141441973609313, 0.000978599207589277], [0.6053244983395497, 3.141516364225863, 0.0005339300107310513], [0.7053244983395497, 3.1415565393373717, 0.00028363173054533046], [0.8053244983395497, 3.14157757340265, 0.0001449456452681685], [0.9053244983395496, 3.1415880872240827, 6.969298349575915e-05], [1.0053244983395497, 3.1415929553482003, 3.002703090126171e-05], [1.1053244983395498, 3.141594894574245, 9.99307710091319e-06], [1.20532449833955, 3.1415953907276406, 5.485882679727344e-07], [1.30532449833955, 3.1415952357252332, -3.361405534660421e-06], [1.40532449833955, 3.141594836271441, -4.512542975544783e-06], [1.5053244983395502, 3.14159438951504, -4.392406807779836e-06], [1.6053244983395503, 3.141593981746569, -3.7712424186347092e-06], [1.7053244983395504, 3.141593642956794, -3.027384459198567e-06], [1.8053244983395504, 3.141593376346792, -2.3305861795913566e-06], [1.9053244983395505, 3.1415931738124323, -1.7437082325590914e-06], [2.0053244983395504, 3.1415930237108065, -1.2779761990046441e-06], [2.1053244983395505, 3.141592914477832, -9.221669749178672e-07], [2.2053244983395506, 3.141592836088283, -6.573960488501556e-07], [2.3053244983395507, 3.1415927804486725, -4.641257795442204e-07], [2.4053244983395508, 3.141592741305221, -3.250988560842036e-07], [2.505324498339551, 3.1415927139667366, -2.262334178419203e-07], [2.605324498339551, 3.1415926949883786, -1.5657308679339824e-07], [2.705324498339551, 3.1415926818807263, -1.0785940237045013e-07], [2.805324498339551, 3.141592672867046, -7.400650798769205e-08], [2.905324498339551, 3.14159266669177, -5.06045518193097e-08], [3.0053244983395513, 3.141592662474752, -3.4499470282224365e-08], [3.1053244983395514, 3.1415926596031105, -2.3458566437712182e-08], [3.2053244983395515, 3.1415926576524478, -1.591453683393049e-08], [3.3053244983395516, 3.141592656330272, -1.0774736226377685e-08], [3.4053244983395516, 3.141592655435813, -7.281808448713653e-09], [3.5053244983395517, 3.1415926548317397, -4.913351020709231e-09], [3.605324498339552, 3.1415926544243993, -3.3105241596248763e-09], [3.705324498339552, 3.141592654150094, -2.2277225609168065e-09], [3.805324498339552, 3.1415926539656, -1.4973647045641487e-09], [3.905324498339552, 3.141592653841648, -1.0054175696669746e-09], [4.0, 3.1415926537621344, -6.891223717468979e-10]]}, \"id\": \"el167304140635191689712\", \"plugins\": [{\"type\": \"reset\"}, {\"type\": \"zoom\", \"button\": true, \"enabled\": false}, {\"type\": \"boxzoom\", \"button\": true, \"enabled\": false}]});\n",
       "      });\n",
       "    });\n",
       "}else{\n",
       "    // require.js not available: dynamically load d3 & mpld3\n",
       "    mpld3_load_lib(\"https://d3js.org/d3.v5.js\", function(){\n",
       "         mpld3_load_lib(\"https://mpld3.github.io/js/mpld3.v0.5.8.js\", function(){\n",
       "                 \n",
       "                 mpld3.draw_figure(\"fig_el1673041406351916897129863276129\", {\"width\": 432.0, \"height\": 288.0, \"axes\": [{\"bbox\": [0.125, 0.125, 0.775, 0.755], \"xlim\": [-0.2, 4.2], \"ylim\": [-0.15708450770650637, 3.2986753858911713], \"xdomain\": [-0.2, 4.2], \"ydomain\": [-0.15708450770650637, 3.2986753858911713], \"xscale\": \"linear\", \"yscale\": \"linear\", \"axes\": [{\"position\": \"bottom\", \"nticks\": 11, \"tickvalues\": null, \"tickformat_formatter\": \"\", \"tickformat\": null, \"scale\": \"linear\", \"fontsize\": 10.0, \"grid\": {\"gridOn\": false}, \"visible\": true}, {\"position\": \"left\", \"nticks\": 9, \"tickvalues\": null, \"tickformat_formatter\": \"\", \"tickformat\": null, \"scale\": \"linear\", \"fontsize\": 10.0, \"grid\": {\"gridOn\": false}, \"visible\": true}], \"axesbg\": \"#FFFFFF\", \"axesbgalpha\": null, \"zoomable\": true, \"id\": \"el167304140635191691776\", \"lines\": [{\"data\": \"data01\", \"xindex\": 0, \"yindex\": 1, \"coordinates\": \"data\", \"id\": \"el167304140635192369600\", \"color\": \"#1F77B4\", \"linewidth\": 1.5, \"dasharray\": \"none\", \"alpha\": 1, \"zorder\": 2, \"drawstyle\": \"default\"}, {\"data\": \"data01\", \"xindex\": 0, \"yindex\": 2, \"coordinates\": \"data\", \"id\": \"el167304140635192369648\", \"color\": \"#FF7F0E\", \"linewidth\": 1.5, \"dasharray\": \"none\", \"alpha\": 1, \"zorder\": 2, \"drawstyle\": \"default\"}], \"paths\": [], \"markers\": [], \"texts\": [{\"text\": \"t\", \"position\": [0.49999999999999994, -0.09657836644591611], \"coordinates\": \"axes\", \"h_anchor\": \"middle\", \"v_baseline\": \"hanging\", \"rotation\": -0.0, \"fontsize\": 10.0, \"color\": \"#000000\", \"alpha\": 1, \"zorder\": 3, \"id\": \"el167304140635191623296\"}, {\"text\": \"y(t)\", \"position\": [-0.08064516129032258, 0.49999999999999994], \"coordinates\": \"axes\", \"h_anchor\": \"middle\", \"v_baseline\": \"auto\", \"rotation\": -90.0, \"fontsize\": 10.0, \"color\": \"#000000\", \"alpha\": 1, \"zorder\": 3, \"id\": \"el167304140635191620704\"}], \"collections\": [], \"images\": [], \"sharex\": [], \"sharey\": []}], \"data\": {\"data01\": [[0.0, 3.1386016368340197, 0.016507112165583544], [0.0001, 3.138603287103624, 0.016498280683010947], [0.0006000000000000001, 3.13861152521714, 0.016454192605227895], [0.0031000000000000003, 3.1386523867103744, 0.016235476367547564], [0.015600000000000001, 3.138848688210025, 0.015183859189096267], [0.07269500899553884, 3.139596178366737, 0.01116381137120093], [0.12979001799107767, 3.140145200099347, 0.008189581105544508], [0.18688502698661652, 3.140547492804997, 0.005992633613108922], [0.2577670101209794, 3.140900070378489, 0.00404807339964503], [0.3286489932553423, 3.141137710716009, 0.0027206347526523107], [0.416986745797446, 3.141327829689525, 0.0016412887844206904], [0.5053244983395497, 3.141441973609313, 0.000978599207589277], [0.6053244983395497, 3.141516364225863, 0.0005339300107310513], [0.7053244983395497, 3.1415565393373717, 0.00028363173054533046], [0.8053244983395497, 3.14157757340265, 0.0001449456452681685], [0.9053244983395496, 3.1415880872240827, 6.969298349575915e-05], [1.0053244983395497, 3.1415929553482003, 3.002703090126171e-05], [1.1053244983395498, 3.141594894574245, 9.99307710091319e-06], [1.20532449833955, 3.1415953907276406, 5.485882679727344e-07], [1.30532449833955, 3.1415952357252332, -3.361405534660421e-06], [1.40532449833955, 3.141594836271441, -4.512542975544783e-06], [1.5053244983395502, 3.14159438951504, -4.392406807779836e-06], [1.6053244983395503, 3.141593981746569, -3.7712424186347092e-06], [1.7053244983395504, 3.141593642956794, -3.027384459198567e-06], [1.8053244983395504, 3.141593376346792, -2.3305861795913566e-06], [1.9053244983395505, 3.1415931738124323, -1.7437082325590914e-06], [2.0053244983395504, 3.1415930237108065, -1.2779761990046441e-06], [2.1053244983395505, 3.141592914477832, -9.221669749178672e-07], [2.2053244983395506, 3.141592836088283, -6.573960488501556e-07], [2.3053244983395507, 3.1415927804486725, -4.641257795442204e-07], [2.4053244983395508, 3.141592741305221, -3.250988560842036e-07], [2.505324498339551, 3.1415927139667366, -2.262334178419203e-07], [2.605324498339551, 3.1415926949883786, -1.5657308679339824e-07], [2.705324498339551, 3.1415926818807263, -1.0785940237045013e-07], [2.805324498339551, 3.141592672867046, -7.400650798769205e-08], [2.905324498339551, 3.14159266669177, -5.06045518193097e-08], [3.0053244983395513, 3.141592662474752, -3.4499470282224365e-08], [3.1053244983395514, 3.1415926596031105, -2.3458566437712182e-08], [3.2053244983395515, 3.1415926576524478, -1.591453683393049e-08], [3.3053244983395516, 3.141592656330272, -1.0774736226377685e-08], [3.4053244983395516, 3.141592655435813, -7.281808448713653e-09], [3.5053244983395517, 3.1415926548317397, -4.913351020709231e-09], [3.605324498339552, 3.1415926544243993, -3.3105241596248763e-09], [3.705324498339552, 3.141592654150094, -2.2277225609168065e-09], [3.805324498339552, 3.1415926539656, -1.4973647045641487e-09], [3.905324498339552, 3.141592653841648, -1.0054175696669746e-09], [4.0, 3.1415926537621344, -6.891223717468979e-10]]}, \"id\": \"el167304140635191689712\", \"plugins\": [{\"type\": \"reset\"}, {\"type\": \"zoom\", \"button\": true, \"enabled\": false}, {\"type\": \"boxzoom\", \"button\": true, \"enabled\": false}]});\n",
       "            })\n",
       "         });\n",
       "}\n",
       "</script>"
      ],
      "text/plain": [
       "<Figure size 432x288 with 1 Axes>"
      ]
     },
     "metadata": {
      "needs_background": "light"
     },
     "output_type": "display_data"
    }
   ],
   "source": [
    "t = Variable(\"t\")\n",
    "td = Variable(\"td\")\n",
    "u = Variable(\"u\")\n",
    "\n",
    "p = PendulumParams()\n",
    "\n",
    "x = np.hstack([t, td])\n",
    "\n",
    "dv_0 = td\n",
    "dv_1 = (-p.damping()/(p.mass()*p.length()**2))*td - (p.gravity()/p.length())*pydrake.forwarddiff.sin(t) + u\n",
    "\n",
    "x_dot = np.array([dv_0, dv_1])\n",
    "\n",
    "continuous_vector_system = SymbolicVectorSystem(state=x, input = [u], dynamics=x_dot, output=x)\n",
    "\n",
    "def UprightState():\n",
    "#     state = PendulumState()\n",
    "#     state.set_theta(np.pi)\n",
    "#     state.set_thetadot(0.)\n",
    "    return np.array([np.pi, 0])\n",
    "\n",
    "def acrobot_balancing_example():\n",
    "\n",
    "    def BalancingLQR():\n",
    "        global DICK\n",
    "        # Design an LQR controller for stabilizing the Acrobot around the upright.\n",
    "        # Returns a (static) AffineSystem that implements the controller (in\n",
    "        # the original AcrobotState coordinates).\n",
    "\n",
    "        pend = continuous_vector_system\n",
    "        context = pend.CreateDefaultContext()\n",
    "\n",
    "        pend.get_input_port(0).FixValue(context, [0])\n",
    "\n",
    "        context.SetContinuousState(UprightState())\n",
    "\n",
    "        Q = np.diag((10., 1))\n",
    "        R = [1]\n",
    "        \n",
    "        return LinearQuadraticRegulator(pend, context, Q, R)\n",
    "\n",
    "\n",
    "    builder = DiagramBuilder()\n",
    "    pendulum = builder.AddSystem(continuous_vector_system)\n",
    "\n",
    "    saturation = builder.AddSystem(Saturation(min_value=[-10], max_value=[10]))\n",
    "    builder.Connect(saturation.get_output_port(0), pendulum.get_input_port(0))\n",
    "    wrapangles = WrapToSystem(2)\n",
    "    wrapangles.set_interval(0, 0, 2. * np.pi)\n",
    "    wrapto = builder.AddSystem(wrapangles)\n",
    "    builder.Connect(pendulum.get_output_port(0), wrapto.get_input_port(0))\n",
    "    controller = builder.AddSystem(BalancingLQR())\n",
    "    builder.Connect(wrapto.get_output_port(0), controller.get_input_port(0))\n",
    "    builder.Connect(controller.get_output_port(0), saturation.get_input_port(0))\n",
    "    \n",
    "    logger = LogVectorOutput(wrapto.get_output_port(0), builder)\n",
    "    \n",
    "    diagram = builder.Build()\n",
    "    \n",
    "    # Set up a simulator to run this diagram\n",
    "    simulator = Simulator(diagram)\n",
    "    context = simulator.get_mutable_context()\n",
    "\n",
    "    # Simulate\n",
    "    simulator.set_target_realtime_rate(0.0)\n",
    "    duration = 4.0 if running_as_notebook else 0.1\n",
    "    for i in range(1):\n",
    "        context.SetTime(0.)\n",
    "        context.SetContinuousState(UprightState() +\n",
    "                                0.05 * np.random.randn(2,))\n",
    "        simulator.Initialize()\n",
    "        simulator.AdvanceTo(duration)\n",
    "        \n",
    "        log = logger.FindLog(context)\n",
    "        plt.figure()\n",
    "        plt.plot(log.sample_times(), log.data().transpose())\n",
    "        plt.xlabel('t')\n",
    "        plt.ylabel('y(t)');\n",
    "    \n",
    "\n",
    "acrobot_balancing_example()"
   ]
  },
  {
   "cell_type": "code",
   "execution_count": 68,
   "metadata": {},
   "outputs": [
    {
     "data": {
      "text/plain": [
       "array([], dtype=float64)"
      ]
     },
     "execution_count": 68,
     "metadata": {},
     "output_type": "execute_result"
    }
   ],
   "source": [
    "DICK.f0()"
   ]
  },
  {
   "cell_type": "code",
   "execution_count": 138,
   "metadata": {},
   "outputs": [
    {
     "data": {
      "image/png": "[encoded data removed]",
      "text/html": [
       "\n",
       "\n",
       "<style>\n",
       "\n",
       "</style>\n",
       "\n",
       "<div id=\"fig_el1673041406357527055209338421217\"></div>\n",
       "<script>\n",
       "function mpld3_load_lib(url, callback){\n",
       "  var s = document.createElement('script');\n",
       "  s.src = url;\n",
       "  s.async = true;\n",
       "  s.onreadystatechange = s.onload = callback;\n",
       "  s.onerror = function(){console.warn(\"failed to load library \" + url);};\n",
       "  document.getElementsByTagName(\"head\")[0].appendChild(s);\n",
       "}\n",
       "\n",
       "if(typeof(mpld3) !== \"undefined\" && mpld3._mpld3IsLoaded){\n",
       "   // already loaded: just create the figure\n",
       "   !function(mpld3){\n",
       "       \n",
       "       mpld3.draw_figure(\"fig_el1673041406357527055209338421217\", {\"width\": 432.0, \"height\": 288.0, \"axes\": [{\"bbox\": [0.125, 0.125, 0.775, 0.755], \"xlim\": [-0.2, 4.2], \"ylim\": [-0.19451237434720103, 3.300454773048288], \"xdomain\": [-0.2, 4.2], \"ydomain\": [-0.19451237434720103, 3.300454773048288], \"xscale\": \"linear\", \"yscale\": \"linear\", \"axes\": [{\"position\": \"bottom\", \"nticks\": 11, \"tickvalues\": null, \"tickformat_formatter\": \"\", \"tickformat\": null, \"scale\": \"linear\", \"fontsize\": 10.0, \"grid\": {\"gridOn\": false}, \"visible\": true}, {\"position\": \"left\", \"nticks\": 9, \"tickvalues\": null, \"tickformat_formatter\": \"\", \"tickformat\": null, \"scale\": \"linear\", \"fontsize\": 10.0, \"grid\": {\"gridOn\": false}, \"visible\": true}], \"axesbg\": \"#FFFFFF\", \"axesbgalpha\": null, \"zoomable\": true, \"id\": \"el167304140635752003184\", \"lines\": [{\"data\": \"data01\", \"xindex\": 0, \"yindex\": 1, \"coordinates\": \"data\", \"id\": \"el167304140635191088656\", \"color\": \"#1F77B4\", \"linewidth\": 1.5, \"dasharray\": \"none\", \"alpha\": 1, \"zorder\": 2, \"drawstyle\": \"default\"}, {\"data\": \"data01\", \"xindex\": 0, \"yindex\": 2, \"coordinates\": \"data\", \"id\": \"el167304140635191089232\", \"color\": \"#FF7F0E\", \"linewidth\": 1.5, \"dasharray\": \"none\", \"alpha\": 1, \"zorder\": 2, \"drawstyle\": \"default\"}], \"paths\": [], \"markers\": [], \"texts\": [{\"text\": \"t\", \"position\": [0.49999999999999994, -0.09657836644591611], \"coordinates\": \"axes\", \"h_anchor\": \"middle\", \"v_baseline\": \"hanging\", \"rotation\": -0.0, \"fontsize\": 10.0, \"color\": \"#000000\", \"alpha\": 1, \"zorder\": 3, \"id\": \"el167304140635193984144\"}, {\"text\": \"y(t)\", \"position\": [-0.08064516129032258, 0.49999999999999994], \"coordinates\": \"axes\", \"h_anchor\": \"middle\", \"v_baseline\": \"auto\", \"rotation\": -90.0, \"fontsize\": 10.0, \"color\": \"#000000\", \"alpha\": 1, \"zorder\": 3, \"id\": \"el167304140635190966112\"}], \"collections\": [], \"images\": [], \"sharex\": [], \"sharey\": []}], \"data\": {\"data01\": [[0.0, 3.1291045751723967, -0.03565023128376971], [0.0001, 3.129101013406978, -0.035585086665589565], [0.0006000000000000001, 3.1290833021387217, -0.03526022498687058], [0.0031000000000000003, 3.128997162567681, -0.03365728625720838], [0.015600000000000001, 3.1286241561309387, -0.0261564587600372], [0.0374392526070574, 3.1281792549136407, -0.014926884955191148], [0.05927850521411479, 3.127956371006258, -0.005772051284461453], [0.08111775782117218, 3.127913764029287, 0.001627496424270388], [0.10295701042822958, 3.1280161594660436, 0.007545476053953829], [0.12918828812982006, 3.1282890514992703, 0.013024404003015966], [0.15541956583141053, 3.1286859169400025, 0.017043934263548652], [0.181650843533001, 3.129172293534278, 0.019887239349584383], [0.2078821212345915, 3.129720482086504, 0.02178813374573699], [0.24131950968666052, 3.130474130052683, 0.02314790401869586], [0.27475689813872956, 3.131257503877527, 0.02360583909324175], [0.30819428659079856, 3.132044755775429, 0.023410446725267074], [0.350479327269688, 3.133017318033408, 0.022524120212511566], [0.39276436794857744, 3.1339421214672467, 0.021182835278160388], [0.4445169568028684, 3.1349877844864804, 0.01921727965038464], [0.4962695456571594, 3.135927752942292, 0.017120244980933733], [0.5643799989548727, 3.136999956800873, 0.014416985833889468], [0.6324904522525859, 3.1378954453827292, 0.011938010084691465], [0.7324904522525859, 3.1389290196120356, 0.008865795234938276], [0.8324904522525859, 3.1396902502672805, 0.006464208277058563], [0.9324904522525859, 3.1402422038686075, 0.0046551493001554], [1.032490452252586, 3.1406381754963384, 0.003323796151364504], [1.132490452252586, 3.1409201462569225, 0.002358957124341356], [1.2324904522525861, 3.141119886392795, 0.001667028650795791], [1.3324904522525862, 3.1412608468060084, 0.001174431229997747], [1.4324904522525863, 3.1413600566562065, 0.0008255514945605464], [1.5324904522525864, 3.1414297452287085, 0.0005793720514674506], [1.6324904522525865, 3.141478627266456, 0.00040612371042897995], [1.7324904522525866, 3.1415128792188183, 0.0002844360432398649], [1.8324904522525867, 3.1415368615311863, 0.00019908419115240592], [1.9324904522525868, 3.1415536439621436, 0.00013927975767461827], [2.0324904522525866, 3.1415653832380412, 9.74073736616419e-05], [2.1324904522525867, 3.1415735923766235, 6.810632692174124e-05], [2.232490452252587, 3.141579331668192, 4.761059472544711e-05], [2.332490452252587, 3.1415833435559817, 3.32783171790185e-05], [2.432490452252587, 3.14158614761836, 2.3258204588155136e-05], [2.532490452252587, 3.141588107314055, 1.6253970390389363e-05], [2.632490452252587, 3.1415894768130737, 1.135846238717733e-05], [2.7324904522525872, 3.141590433818305, 7.937113057371989e-06], [2.8324904522525873, 3.1415911025498713, 5.546168310423845e-06], [2.9324904522525874, 3.141591569831008, 3.875380045813437e-06], [3.0324904522525875, 3.1415918963410356, 2.707875968848407e-06], [3.1324904522525876, 3.141592124484904, 1.8920745656131557e-06], [3.2324904522525877, 3.14159228389531, 1.322038362037303e-06], [3.3324904522525878, 3.141592395278921, 9.237345080216071e-07], [3.432490452252588, 3.14159247310471, 6.45428729785317e-07], [3.532490452252588, 3.141592527482808, 4.5097031737793245e-07], [3.632490452252588, 3.141592565477524, 3.150986547355875e-07], [3.732490452252588, 3.141592592024891, 2.2016300820745953e-07], [3.832490452252588, 3.1415926105738268, 1.5383018815370942e-07], [3.9324904522525883, 3.141592623534156, 1.0748264991783572e-07], [4.0, 3.1415926299848564, 8.441420617198891e-08]]}, \"id\": \"el167304140635752705520\", \"plugins\": [{\"type\": \"reset\"}, {\"type\": \"zoom\", \"button\": true, \"enabled\": false}, {\"type\": \"boxzoom\", \"button\": true, \"enabled\": false}]});\n",
       "   }(mpld3);\n",
       "}else if(typeof define === \"function\" && define.amd){\n",
       "   // require.js is available: use it to load d3/mpld3\n",
       "   require.config({paths: {d3: \"https://d3js.org/d3.v5\"}});\n",
       "   require([\"d3\"], function(d3){\n",
       "      window.d3 = d3;\n",
       "      mpld3_load_lib(\"https://mpld3.github.io/js/mpld3.v0.5.8.js\", function(){\n",
       "         \n",
       "         mpld3.draw_figure(\"fig_el1673041406357527055209338421217\", {\"width\": 432.0, \"height\": 288.0, \"axes\": [{\"bbox\": [0.125, 0.125, 0.775, 0.755], \"xlim\": [-0.2, 4.2], \"ylim\": [-0.19451237434720103, 3.300454773048288], \"xdomain\": [-0.2, 4.2], \"ydomain\": [-0.19451237434720103, 3.300454773048288], \"xscale\": \"linear\", \"yscale\": \"linear\", \"axes\": [{\"position\": \"bottom\", \"nticks\": 11, \"tickvalues\": null, \"tickformat_formatter\": \"\", \"tickformat\": null, \"scale\": \"linear\", \"fontsize\": 10.0, \"grid\": {\"gridOn\": false}, \"visible\": true}, {\"position\": \"left\", \"nticks\": 9, \"tickvalues\": null, \"tickformat_formatter\": \"\", \"tickformat\": null, \"scale\": \"linear\", \"fontsize\": 10.0, \"grid\": {\"gridOn\": false}, \"visible\": true}], \"axesbg\": \"#FFFFFF\", \"axesbgalpha\": null, \"zoomable\": true, \"id\": \"el167304140635752003184\", \"lines\": [{\"data\": \"data01\", \"xindex\": 0, \"yindex\": 1, \"coordinates\": \"data\", \"id\": \"el167304140635191088656\", \"color\": \"#1F77B4\", \"linewidth\": 1.5, \"dasharray\": \"none\", \"alpha\": 1, \"zorder\": 2, \"drawstyle\": \"default\"}, {\"data\": \"data01\", \"xindex\": 0, \"yindex\": 2, \"coordinates\": \"data\", \"id\": \"el167304140635191089232\", \"color\": \"#FF7F0E\", \"linewidth\": 1.5, \"dasharray\": \"none\", \"alpha\": 1, \"zorder\": 2, \"drawstyle\": \"default\"}], \"paths\": [], \"markers\": [], \"texts\": [{\"text\": \"t\", \"position\": [0.49999999999999994, -0.09657836644591611], \"coordinates\": \"axes\", \"h_anchor\": \"middle\", \"v_baseline\": \"hanging\", \"rotation\": -0.0, \"fontsize\": 10.0, \"color\": \"#000000\", \"alpha\": 1, \"zorder\": 3, \"id\": \"el167304140635193984144\"}, {\"text\": \"y(t)\", \"position\": [-0.08064516129032258, 0.49999999999999994], \"coordinates\": \"axes\", \"h_anchor\": \"middle\", \"v_baseline\": \"auto\", \"rotation\": -90.0, \"fontsize\": 10.0, \"color\": \"#000000\", \"alpha\": 1, \"zorder\": 3, \"id\": \"el167304140635190966112\"}], \"collections\": [], \"images\": [], \"sharex\": [], \"sharey\": []}], \"data\": {\"data01\": [[0.0, 3.1291045751723967, -0.03565023128376971], [0.0001, 3.129101013406978, -0.035585086665589565], [0.0006000000000000001, 3.1290833021387217, -0.03526022498687058], [0.0031000000000000003, 3.128997162567681, -0.03365728625720838], [0.015600000000000001, 3.1286241561309387, -0.0261564587600372], [0.0374392526070574, 3.1281792549136407, -0.014926884955191148], [0.05927850521411479, 3.127956371006258, -0.005772051284461453], [0.08111775782117218, 3.127913764029287, 0.001627496424270388], [0.10295701042822958, 3.1280161594660436, 0.007545476053953829], [0.12918828812982006, 3.1282890514992703, 0.013024404003015966], [0.15541956583141053, 3.1286859169400025, 0.017043934263548652], [0.181650843533001, 3.129172293534278, 0.019887239349584383], [0.2078821212345915, 3.129720482086504, 0.02178813374573699], [0.24131950968666052, 3.130474130052683, 0.02314790401869586], [0.27475689813872956, 3.131257503877527, 0.02360583909324175], [0.30819428659079856, 3.132044755775429, 0.023410446725267074], [0.350479327269688, 3.133017318033408, 0.022524120212511566], [0.39276436794857744, 3.1339421214672467, 0.021182835278160388], [0.4445169568028684, 3.1349877844864804, 0.01921727965038464], [0.4962695456571594, 3.135927752942292, 0.017120244980933733], [0.5643799989548727, 3.136999956800873, 0.014416985833889468], [0.6324904522525859, 3.1378954453827292, 0.011938010084691465], [0.7324904522525859, 3.1389290196120356, 0.008865795234938276], [0.8324904522525859, 3.1396902502672805, 0.006464208277058563], [0.9324904522525859, 3.1402422038686075, 0.0046551493001554], [1.032490452252586, 3.1406381754963384, 0.003323796151364504], [1.132490452252586, 3.1409201462569225, 0.002358957124341356], [1.2324904522525861, 3.141119886392795, 0.001667028650795791], [1.3324904522525862, 3.1412608468060084, 0.001174431229997747], [1.4324904522525863, 3.1413600566562065, 0.0008255514945605464], [1.5324904522525864, 3.1414297452287085, 0.0005793720514674506], [1.6324904522525865, 3.141478627266456, 0.00040612371042897995], [1.7324904522525866, 3.1415128792188183, 0.0002844360432398649], [1.8324904522525867, 3.1415368615311863, 0.00019908419115240592], [1.9324904522525868, 3.1415536439621436, 0.00013927975767461827], [2.0324904522525866, 3.1415653832380412, 9.74073736616419e-05], [2.1324904522525867, 3.1415735923766235, 6.810632692174124e-05], [2.232490452252587, 3.141579331668192, 4.761059472544711e-05], [2.332490452252587, 3.1415833435559817, 3.32783171790185e-05], [2.432490452252587, 3.14158614761836, 2.3258204588155136e-05], [2.532490452252587, 3.141588107314055, 1.6253970390389363e-05], [2.632490452252587, 3.1415894768130737, 1.135846238717733e-05], [2.7324904522525872, 3.141590433818305, 7.937113057371989e-06], [2.8324904522525873, 3.1415911025498713, 5.546168310423845e-06], [2.9324904522525874, 3.141591569831008, 3.875380045813437e-06], [3.0324904522525875, 3.1415918963410356, 2.707875968848407e-06], [3.1324904522525876, 3.141592124484904, 1.8920745656131557e-06], [3.2324904522525877, 3.14159228389531, 1.322038362037303e-06], [3.3324904522525878, 3.141592395278921, 9.237345080216071e-07], [3.432490452252588, 3.14159247310471, 6.45428729785317e-07], [3.532490452252588, 3.141592527482808, 4.5097031737793245e-07], [3.632490452252588, 3.141592565477524, 3.150986547355875e-07], [3.732490452252588, 3.141592592024891, 2.2016300820745953e-07], [3.832490452252588, 3.1415926105738268, 1.5383018815370942e-07], [3.9324904522525883, 3.141592623534156, 1.0748264991783572e-07], [4.0, 3.1415926299848564, 8.441420617198891e-08]]}, \"id\": \"el167304140635752705520\", \"plugins\": [{\"type\": \"reset\"}, {\"type\": \"zoom\", \"button\": true, \"enabled\": false}, {\"type\": \"boxzoom\", \"button\": true, \"enabled\": false}]});\n",
       "      });\n",
       "    });\n",
       "}else{\n",
       "    // require.js not available: dynamically load d3 & mpld3\n",
       "    mpld3_load_lib(\"https://d3js.org/d3.v5.js\", function(){\n",
       "         mpld3_load_lib(\"https://mpld3.github.io/js/mpld3.v0.5.8.js\", function(){\n",
       "                 \n",
       "                 mpld3.draw_figure(\"fig_el1673041406357527055209338421217\", {\"width\": 432.0, \"height\": 288.0, \"axes\": [{\"bbox\": [0.125, 0.125, 0.775, 0.755], \"xlim\": [-0.2, 4.2], \"ylim\": [-0.19451237434720103, 3.300454773048288], \"xdomain\": [-0.2, 4.2], \"ydomain\": [-0.19451237434720103, 3.300454773048288], \"xscale\": \"linear\", \"yscale\": \"linear\", \"axes\": [{\"position\": \"bottom\", \"nticks\": 11, \"tickvalues\": null, \"tickformat_formatter\": \"\", \"tickformat\": null, \"scale\": \"linear\", \"fontsize\": 10.0, \"grid\": {\"gridOn\": false}, \"visible\": true}, {\"position\": \"left\", \"nticks\": 9, \"tickvalues\": null, \"tickformat_formatter\": \"\", \"tickformat\": null, \"scale\": \"linear\", \"fontsize\": 10.0, \"grid\": {\"gridOn\": false}, \"visible\": true}], \"axesbg\": \"#FFFFFF\", \"axesbgalpha\": null, \"zoomable\": true, \"id\": \"el167304140635752003184\", \"lines\": [{\"data\": \"data01\", \"xindex\": 0, \"yindex\": 1, \"coordinates\": \"data\", \"id\": \"el167304140635191088656\", \"color\": \"#1F77B4\", \"linewidth\": 1.5, \"dasharray\": \"none\", \"alpha\": 1, \"zorder\": 2, \"drawstyle\": \"default\"}, {\"data\": \"data01\", \"xindex\": 0, \"yindex\": 2, \"coordinates\": \"data\", \"id\": \"el167304140635191089232\", \"color\": \"#FF7F0E\", \"linewidth\": 1.5, \"dasharray\": \"none\", \"alpha\": 1, \"zorder\": 2, \"drawstyle\": \"default\"}], \"paths\": [], \"markers\": [], \"texts\": [{\"text\": \"t\", \"position\": [0.49999999999999994, -0.09657836644591611], \"coordinates\": \"axes\", \"h_anchor\": \"middle\", \"v_baseline\": \"hanging\", \"rotation\": -0.0, \"fontsize\": 10.0, \"color\": \"#000000\", \"alpha\": 1, \"zorder\": 3, \"id\": \"el167304140635193984144\"}, {\"text\": \"y(t)\", \"position\": [-0.08064516129032258, 0.49999999999999994], \"coordinates\": \"axes\", \"h_anchor\": \"middle\", \"v_baseline\": \"auto\", \"rotation\": -90.0, \"fontsize\": 10.0, \"color\": \"#000000\", \"alpha\": 1, \"zorder\": 3, \"id\": \"el167304140635190966112\"}], \"collections\": [], \"images\": [], \"sharex\": [], \"sharey\": []}], \"data\": {\"data01\": [[0.0, 3.1291045751723967, -0.03565023128376971], [0.0001, 3.129101013406978, -0.035585086665589565], [0.0006000000000000001, 3.1290833021387217, -0.03526022498687058], [0.0031000000000000003, 3.128997162567681, -0.03365728625720838], [0.015600000000000001, 3.1286241561309387, -0.0261564587600372], [0.0374392526070574, 3.1281792549136407, -0.014926884955191148], [0.05927850521411479, 3.127956371006258, -0.005772051284461453], [0.08111775782117218, 3.127913764029287, 0.001627496424270388], [0.10295701042822958, 3.1280161594660436, 0.007545476053953829], [0.12918828812982006, 3.1282890514992703, 0.013024404003015966], [0.15541956583141053, 3.1286859169400025, 0.017043934263548652], [0.181650843533001, 3.129172293534278, 0.019887239349584383], [0.2078821212345915, 3.129720482086504, 0.02178813374573699], [0.24131950968666052, 3.130474130052683, 0.02314790401869586], [0.27475689813872956, 3.131257503877527, 0.02360583909324175], [0.30819428659079856, 3.132044755775429, 0.023410446725267074], [0.350479327269688, 3.133017318033408, 0.022524120212511566], [0.39276436794857744, 3.1339421214672467, 0.021182835278160388], [0.4445169568028684, 3.1349877844864804, 0.01921727965038464], [0.4962695456571594, 3.135927752942292, 0.017120244980933733], [0.5643799989548727, 3.136999956800873, 0.014416985833889468], [0.6324904522525859, 3.1378954453827292, 0.011938010084691465], [0.7324904522525859, 3.1389290196120356, 0.008865795234938276], [0.8324904522525859, 3.1396902502672805, 0.006464208277058563], [0.9324904522525859, 3.1402422038686075, 0.0046551493001554], [1.032490452252586, 3.1406381754963384, 0.003323796151364504], [1.132490452252586, 3.1409201462569225, 0.002358957124341356], [1.2324904522525861, 3.141119886392795, 0.001667028650795791], [1.3324904522525862, 3.1412608468060084, 0.001174431229997747], [1.4324904522525863, 3.1413600566562065, 0.0008255514945605464], [1.5324904522525864, 3.1414297452287085, 0.0005793720514674506], [1.6324904522525865, 3.141478627266456, 0.00040612371042897995], [1.7324904522525866, 3.1415128792188183, 0.0002844360432398649], [1.8324904522525867, 3.1415368615311863, 0.00019908419115240592], [1.9324904522525868, 3.1415536439621436, 0.00013927975767461827], [2.0324904522525866, 3.1415653832380412, 9.74073736616419e-05], [2.1324904522525867, 3.1415735923766235, 6.810632692174124e-05], [2.232490452252587, 3.141579331668192, 4.761059472544711e-05], [2.332490452252587, 3.1415833435559817, 3.32783171790185e-05], [2.432490452252587, 3.14158614761836, 2.3258204588155136e-05], [2.532490452252587, 3.141588107314055, 1.6253970390389363e-05], [2.632490452252587, 3.1415894768130737, 1.135846238717733e-05], [2.7324904522525872, 3.141590433818305, 7.937113057371989e-06], [2.8324904522525873, 3.1415911025498713, 5.546168310423845e-06], [2.9324904522525874, 3.141591569831008, 3.875380045813437e-06], [3.0324904522525875, 3.1415918963410356, 2.707875968848407e-06], [3.1324904522525876, 3.141592124484904, 1.8920745656131557e-06], [3.2324904522525877, 3.14159228389531, 1.322038362037303e-06], [3.3324904522525878, 3.141592395278921, 9.237345080216071e-07], [3.432490452252588, 3.14159247310471, 6.45428729785317e-07], [3.532490452252588, 3.141592527482808, 4.5097031737793245e-07], [3.632490452252588, 3.141592565477524, 3.150986547355875e-07], [3.732490452252588, 3.141592592024891, 2.2016300820745953e-07], [3.832490452252588, 3.1415926105738268, 1.5383018815370942e-07], [3.9324904522525883, 3.141592623534156, 1.0748264991783572e-07], [4.0, 3.1415926299848564, 8.441420617198891e-08]]}, \"id\": \"el167304140635752705520\", \"plugins\": [{\"type\": \"reset\"}, {\"type\": \"zoom\", \"button\": true, \"enabled\": false}, {\"type\": \"boxzoom\", \"button\": true, \"enabled\": false}]});\n",
       "            })\n",
       "         });\n",
       "}\n",
       "</script>"
      ],
      "text/plain": [
       "<Figure size 432x288 with 1 Axes>"
      ]
     },
     "metadata": {
      "needs_background": "light"
     },
     "output_type": "display_data"
    }
   ],
   "source": [
    "t = Variable(\"t\")\n",
    "td = Variable(\"td\")\n",
    "\n",
    "p = PendulumParams()\n",
    "\n",
    "x = np.hstack([t, td])\n",
    "\n",
    "u = -G2@(x  - UprightState())\n",
    "u = u[0]\n",
    "\n",
    "dv_0 = td\n",
    "dv_1 = (-p.damping()/(p.mass()*p.length()**2))*td - (p.gravity()/p.length())*pydrake.forwarddiff.sin(t) + u\n",
    "\n",
    "x_dot = np.array([dv_0, dv_1])\n",
    "\n",
    "continuous_vector_system = SymbolicVectorSystem(state=x, dynamics=x_dot, output=x)\n",
    "\n",
    "def UprightState():\n",
    "#     state = PendulumState()\n",
    "#     state.set_theta(np.pi)\n",
    "#     state.set_thetadot(0.)\n",
    "    return np.array([np.pi, 0])\n",
    "\n",
    "def acrobot_balancing_example():\n",
    "\n",
    "    builder = DiagramBuilder()\n",
    "    pendulum = builder.AddSystem(continuous_vector_system)\n",
    "\n",
    "    wrapangles = WrapToSystem(2)\n",
    "    wrapangles.set_interval(0, 0, 2. * np.pi)\n",
    "    wrapto = builder.AddSystem(wrapangles)\n",
    "    builder.Connect(pendulum.get_output_port(0), wrapto.get_input_port(0))\n",
    "    \n",
    "    logger = LogVectorOutput(wrapto.get_output_port(0), builder)\n",
    "    \n",
    "    diagram = builder.Build()\n",
    "    \n",
    "    # Set up a simulator to run this diagram\n",
    "    simulator = Simulator(diagram)\n",
    "    context = simulator.get_mutable_context()\n",
    "\n",
    "    # Simulate\n",
    "    simulator.set_target_realtime_rate(0.0)\n",
    "    duration = 4.0 if running_as_notebook else 0.1\n",
    "    for i in range(1):\n",
    "        context.SetTime(0.)\n",
    "        context.SetContinuousState(UprightState() +\n",
    "                                0.05 * np.random.randn(2,))\n",
    "        simulator.Initialize()\n",
    "        simulator.AdvanceTo(duration)\n",
    "        \n",
    "        log = logger.FindLog(context)\n",
    "        plt.figure()\n",
    "        plt.plot(log.sample_times(), log.data().transpose())\n",
    "        plt.xlabel('t')\n",
    "        plt.ylabel('y(t)');\n",
    "    \n",
    "\n",
    "acrobot_balancing_example()"
   ]
  },
  {
   "cell_type": "code",
   "execution_count": 121,
   "metadata": {},
   "outputs": [],
   "source": [
    "A = np.array([[0, 1], [p.gravity()/p.length(), -p.damping()/(p.mass()*p.length()**2)]])\n",
    "B = np.array([[0], [1]])\n",
    "\n",
    "Q = np.diag([10, 1])\n",
    "R = [1]\n",
    "\n",
    "X, L, G = control.care(A, B, Q, R)\n",
    "\n",
    "something = LinearQuadraticRegulator(A, B, Q, R)"
   ]
  },
  {
   "cell_type": "code",
   "execution_count": 122,
   "metadata": {},
   "outputs": [
    {
     "data": {
      "text/plain": [
       "array([[39.4932081 ,  8.55245308]])"
      ]
     },
     "execution_count": 122,
     "metadata": {},
     "output_type": "execute_result"
    }
   ],
   "source": [
    "G"
   ]
  },
  {
   "cell_type": "code",
   "execution_count": 123,
   "metadata": {},
   "outputs": [
    {
     "data": {
      "text/plain": [
       "array([[39.4932081 ,  8.55245308]])"
      ]
     },
     "execution_count": 123,
     "metadata": {},
     "output_type": "execute_result"
    }
   ],
   "source": [
    "something[0]"
   ]
  },
  {
   "cell_type": "code",
   "execution_count": 124,
   "metadata": {},
   "outputs": [
    {
     "data": {
      "text/plain": [
       "array([[ 0.  ,  1.  ],\n",
       "       [19.62, -0.4 ]])"
      ]
     },
     "execution_count": 124,
     "metadata": {},
     "output_type": "execute_result"
    }
   ],
   "source": [
    "A"
   ]
  },
  {
   "cell_type": "code",
   "execution_count": 132,
   "metadata": {},
   "outputs": [],
   "source": [
    "E = np.array([[1, 0], [0, p.mass()*p.length()**2]])\n",
    "A = np.array([[0, 1], [p.mass()*p.gravity()*p.length(), -p.damping()]])\n",
    "B = np.array([[0], [1]])\n",
    "\n",
    "\n",
    "X, L, G = control.care(A, B, Q, R, E=E)"
   ]
  },
  {
   "cell_type": "code",
   "execution_count": 133,
   "metadata": {},
   "outputs": [
    {
     "data": {
      "text/plain": [
       "array([[10.74101105,  2.42596626]])"
      ]
     },
     "execution_count": 133,
     "metadata": {},
     "output_type": "execute_result"
    }
   ],
   "source": [
    "G"
   ]
  },
  {
   "cell_type": "code",
   "execution_count": 135,
   "metadata": {},
   "outputs": [],
   "source": [
    "G2 = G/(p.mass()*p.length()**2)"
   ]
  },
  {
   "cell_type": "code",
   "execution_count": null,
   "metadata": {},
   "outputs": [],
   "source": []
  }
 ],
 "metadata": {
  "kernelspec": {
   "display_name": "Python 3",
   "language": "python",
   "name": "python3"
  },
  "language_info": {
   "codemirror_mode": {
    "name": "ipython",
    "version": 3
   },
   "file_extension": ".py",
   "mimetype": "text/x-python",
   "name": "python",
   "nbconvert_exporter": "python",
   "pygments_lexer": "ipython3",
   "version": "3.8.10"
  }
 },
 "nbformat": 4,
 "nbformat_minor": 4
}
