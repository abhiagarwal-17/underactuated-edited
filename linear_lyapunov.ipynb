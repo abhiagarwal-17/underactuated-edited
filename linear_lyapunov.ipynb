{
 "cells": [
  {
   "cell_type": "markdown",
   "metadata": {},
   "source": [
    "## Pendulum Downward Using Lyapunov and Upward using LQR and Lyapunov"
   ]
  },
  {
   "cell_type": "code",
   "execution_count": 1,
   "metadata": {},
   "outputs": [],
   "source": [
    "import scipy\n",
    "import control\n",
    "import numpy as np\n",
    "import sympy as sp\n",
    "from sympy.physics.vector import dynamicsymbols as dynamicsymbols\n",
    "\n",
    "from pydrake.all import (LinearQuadraticRegulator, MathematicalProgram, Variables,\n",
    "                         Solve, RealContinuousLyapunovEquation)\n",
    "\n",
    "import matplotlib.pyplot as plt\n",
    "import mpld3\n",
    "import numpy as np\n",
    "from IPython.display import Markdown, display\n",
    "from pydrake.all import (Jacobian, MathematicalProgram, Polynomial,\n",
    "                         RegionOfAttraction, RegionOfAttractionOptions, Solve,\n",
    "                         SymbolicVectorSystem, ToLatex, Variable, Variables,\n",
    "                         plot_sublevelset_expression)\n",
    "from pydrake.examples.pendulum import PendulumParams\n",
    "from pydrake.examples.van_der_pol import VanDerPolOscillator\n",
    "from pydrake.symbolic import Polynomial\n",
    "\n",
    "from underactuated import plot_2d_phase_portrait, running_as_notebook\n",
    "\n",
    "from pydrake.all import (AddMultibodyPlantSceneGraph, ControllabilityMatrix,\n",
    "                         DiagramBuilder, Linearize, LinearQuadraticRegulator,\n",
    "                         MeshcatVisualizerCpp, Parser, Saturation, SceneGraph,\n",
    "                         Simulator, StartMeshcat, WrapToSystem)\n",
    "\n",
    "if running_as_notebook:\n",
    "    mpld3.enable_notebook()\n",
    "\n",
    "import math"
   ]
  },
  {
   "cell_type": "code",
   "execution_count": 2,
   "metadata": {},
   "outputs": [],
   "source": [
    "from pydrake.examples.pendulum import PendulumParams, PendulumPlant\n",
    "\n",
    "p = PendulumParams()\n",
    "\n",
    "b = p.damping()\n",
    "m = p.mass()\n",
    "length = p.length()\n",
    "g = p.gravity()\n",
    "grav = p.gravity()"
   ]
  },
  {
   "cell_type": "markdown",
   "metadata": {},
   "source": [
    "## Simple Pendulum Example\n",
    "\n",
    "Take the Lyapunov function at the vertical down position and verify that it will grow as the alternations converge. "
   ]
  },
  {
   "cell_type": "code",
   "execution_count": 4,
   "metadata": {},
   "outputs": [],
   "source": [
    "# explicit dynamics\n",
    "plant = PendulumPlant()\n",
    "context = plant.CreateDefaultContext()\n",
    "plant.get_input_port().FixValue(context, [0])\n",
    "context.SetContinuousState([0, 0])\n",
    "\n",
    "linearized_plant = Linearize(plant, context)\n",
    "\n",
    "A = linearized_plant.A()\n",
    "Q = np.eye(2)\n",
    "P = RealContinuousLyapunovEquation(A, Q)\n",
    "X1 = control.lyap(A.T, Q)"
   ]
  },
  {
   "cell_type": "code",
   "execution_count": 5,
   "metadata": {},
   "outputs": [
    {
     "data": {
      "text/markdown": [
       "$ V(x)=(0.050968400x_{0} x_{1} + 25.785193680x_{0}^{2} + 1.313710499x_{1}^{2})$"
      ],
      "text/plain": [
       "<IPython.core.display.Markdown object>"
      ]
     },
     "metadata": {},
     "output_type": "display_data"
    },
    {
     "name": "stdout",
     "output_type": "stream",
     "text": [
      "Lambda solution status: 1\n",
      "V solution status: 1\n"
     ]
    },
    {
     "data": {
      "text/markdown": [
       "$ V(x)=(0.000000000 - 0.000000000x_{0} - 0.000000000x_{1} + 0.058812414x_{0} x_{1} + 25.148088222x_{0}^{2} + 1.279074892x_{1}^{2})$"
      ],
      "text/plain": [
       "<IPython.core.display.Markdown object>"
      ]
     },
     "metadata": {},
     "output_type": "display_data"
    },
    {
     "name": "stdout",
     "output_type": "stream",
     "text": [
      "Lambda solution status: 1\n",
      "V solution status: 1\n"
     ]
    },
    {
     "data": {
      "text/markdown": [
       "$ V(x)=(0.000000000 - 0.000000000x_{0} - 0.000000000x_{1} + 0.063062259x_{0} x_{1} + 24.528546646x_{0}^{2} + 1.245323622x_{1}^{2})$"
      ],
      "text/plain": [
       "<IPython.core.display.Markdown object>"
      ]
     },
     "metadata": {},
     "output_type": "display_data"
    },
    {
     "name": "stdout",
     "output_type": "stream",
     "text": [
      "Lambda solution status: 1\n",
      "V solution status: 1\n"
     ]
    },
    {
     "data": {
      "text/markdown": [
       "$ V(x)=(0.000000000 + 0.000000000x_{0} - 0.000000000x_{1} + 0.064968877x_{0} x_{1} + 23.926033185x_{0}^{2} + 1.212707138x_{1}^{2})$"
      ],
      "text/plain": [
       "<IPython.core.display.Markdown object>"
      ]
     },
     "metadata": {},
     "output_type": "display_data"
    },
    {
     "name": "stdout",
     "output_type": "stream",
     "text": [
      "Lambda solution status: 1\n",
      "V solution status: 1\n"
     ]
    },
    {
     "data": {
      "text/markdown": [
       "$ V(x)=(0.000000000 + 0.000000000x_{0} + 0.000000000x_{1} + 0.065348478x_{0} x_{1} + 23.339922999x_{0}^{2} + 1.181285676x_{1}^{2})$"
      ],
      "text/plain": [
       "<IPython.core.display.Markdown object>"
      ]
     },
     "metadata": {},
     "output_type": "display_data"
    },
    {
     "name": "stdout",
     "output_type": "stream",
     "text": [
      "Lambda solution status: 1\n",
      "V solution status: 1\n"
     ]
    },
    {
     "data": {
      "text/markdown": [
       "$ V(x)=(0.000000000 - 0.000000000x_{0} + 0.000000000x_{1} + 0.064753292x_{0} x_{1} + 22.769838045x_{0}^{2} + 1.151047863x_{1}^{2})$"
      ],
      "text/plain": [
       "<IPython.core.display.Markdown object>"
      ]
     },
     "metadata": {},
     "output_type": "display_data"
    },
    {
     "name": "stdout",
     "output_type": "stream",
     "text": [
      "Lambda solution status: 1\n",
      "V solution status: 1\n"
     ]
    },
    {
     "data": {
      "text/markdown": [
       "$ V(x)=(0.000000000 - 0.000000000x_{0} - 0.000000000x_{1} + 0.063553842x_{0} x_{1} + 22.215513589x_{0}^{2} + 1.121946112x_{1}^{2})$"
      ],
      "text/plain": [
       "<IPython.core.display.Markdown object>"
      ]
     },
     "metadata": {},
     "output_type": "display_data"
    },
    {
     "name": "stdout",
     "output_type": "stream",
     "text": [
      "Lambda solution status: 1\n",
      "V solution status: 1\n"
     ]
    },
    {
     "data": {
      "text/markdown": [
       "$ V(x)=(0.000000000 - 0.000000000x_{0} - 0.000000000x_{1} + 0.061992585x_{0} x_{1} + 21.676668112x_{0}^{2} + 1.093914689x_{1}^{2})$"
      ],
      "text/plain": [
       "<IPython.core.display.Markdown object>"
      ]
     },
     "metadata": {},
     "output_type": "display_data"
    },
    {
     "name": "stdout",
     "output_type": "stream",
     "text": [
      "Lambda solution status: 1\n",
      "V solution status: 1\n"
     ]
    },
    {
     "data": {
      "text/markdown": [
       "$ V(x)=(0.000000000 - 0.000000000x_{0} + 0.000000000x_{1} + 0.060223633x_{0} x_{1} + 21.152945734x_{0}^{2} + 1.066880944x_{1}^{2})$"
      ],
      "text/plain": [
       "<IPython.core.display.Markdown object>"
      ]
     },
     "metadata": {},
     "output_type": "display_data"
    },
    {
     "name": "stdout",
     "output_type": "stream",
     "text": [
      "Lambda solution status: 1\n",
      "V solution status: 1\n"
     ]
    },
    {
     "data": {
      "text/markdown": [
       "$ V(x)=(0.000000000 + 0.000000000x_{0} + 0.000000000x_{1} + 0.058339288x_{0} x_{1} + 20.643961091x_{0}^{2} + 1.040774631x_{1}^{2})$"
      ],
      "text/plain": [
       "<IPython.core.display.Markdown object>"
      ]
     },
     "metadata": {},
     "output_type": "display_data"
    },
    {
     "name": "stdout",
     "output_type": "stream",
     "text": [
      "Lambda solution status: 1\n",
      "V solution status: 1\n"
     ]
    },
    {
     "data": {
      "text/markdown": [
       "$ V(x)=(0.000000000 - 0.000000000x_{0} - 0.000000000x_{1} + 0.056388604x_{0} x_{1} + 20.149795307x_{0}^{2} + 1.015557919x_{1}^{2})$"
      ],
      "text/plain": [
       "<IPython.core.display.Markdown object>"
      ]
     },
     "metadata": {},
     "output_type": "display_data"
    },
    {
     "name": "stdout",
     "output_type": "stream",
     "text": [
      "Lambda solution status: 1\n",
      "V solution status: 1\n"
     ]
    },
    {
     "data": {
      "text/markdown": [
       "$ V(x)=(0.000000000 + 0.000000000x_{0} + 0.000000000x_{1} + 0.054406766x_{0} x_{1} + 19.670145103x_{0}^{2} + 0.991179873x_{1}^{2})$"
      ],
      "text/plain": [
       "<IPython.core.display.Markdown object>"
      ]
     },
     "metadata": {},
     "output_type": "display_data"
    },
    {
     "name": "stdout",
     "output_type": "stream",
     "text": [
      "Lambda solution status: 1\n",
      "V solution status: 1\n"
     ]
    },
    {
     "data": {
      "text/markdown": [
       "$ V(x)=(0.000000000 - 0.000000000x_{0} + 0.000000000x_{1} + 0.052421773x_{0} x_{1} + 19.204758276x_{0}^{2} + 0.967601764x_{1}^{2})$"
      ],
      "text/plain": [
       "<IPython.core.display.Markdown object>"
      ]
     },
     "metadata": {},
     "output_type": "display_data"
    },
    {
     "name": "stdout",
     "output_type": "stream",
     "text": [
      "Lambda solution status: 1\n",
      "V solution status: 1\n"
     ]
    },
    {
     "data": {
      "text/markdown": [
       "$ V(x)=(0.000000000 - 0.000000000x_{0} - 0.000000000x_{1} + 0.050454735x_{0} x_{1} + 18.753462585x_{0}^{2} + 0.944795388x_{1}^{2})$"
      ],
      "text/plain": [
       "<IPython.core.display.Markdown object>"
      ]
     },
     "metadata": {},
     "output_type": "display_data"
    },
    {
     "name": "stdout",
     "output_type": "stream",
     "text": [
      "Lambda solution status: 1\n",
      "V solution status: 1\n"
     ]
    },
    {
     "data": {
      "text/markdown": [
       "$ V(x)=(0.000000000 - 0.000000000x_{0} - 0.000000000x_{1} + 0.048502406x_{0} x_{1} + 18.316142151x_{0}^{2} + 0.922736190x_{1}^{2})$"
      ],
      "text/plain": [
       "<IPython.core.display.Markdown object>"
      ]
     },
     "metadata": {},
     "output_type": "display_data"
    },
    {
     "name": "stdout",
     "output_type": "stream",
     "text": [
      "Lambda solution status: 1\n",
      "V solution status: 1\n"
     ]
    },
    {
     "data": {
      "text/markdown": [
       "$ V(x)=(0.000000000 + 0.000000000x_{0} - 0.000000000x_{1} + 0.046550772x_{0} x_{1} + 17.892808844x_{0}^{2} + 0.901409545x_{1}^{2})$"
      ],
      "text/plain": [
       "<IPython.core.display.Markdown object>"
      ]
     },
     "metadata": {},
     "output_type": "display_data"
    },
    {
     "name": "stdout",
     "output_type": "stream",
     "text": [
      "Lambda solution status: 1\n",
      "V solution status: 1\n"
     ]
    },
    {
     "data": {
      "text/markdown": [
       "$ V(x)=(0.000000000 + 0.000000000x_{0} + 0.000000000x_{1} + 0.044636063x_{0} x_{1} + 17.483367450x_{0}^{2} + 0.880809951x_{1}^{2})$"
      ],
      "text/plain": [
       "<IPython.core.display.Markdown object>"
      ]
     },
     "metadata": {},
     "output_type": "display_data"
    },
    {
     "name": "stdout",
     "output_type": "stream",
     "text": [
      "Lambda solution status: 1\n",
      "V solution status: 1\n"
     ]
    },
    {
     "data": {
      "text/markdown": [
       "$ V(x)=(0.000000000 - 0.000000000x_{0} + 0.000000000x_{1} + 0.042828506x_{0} x_{1} + 17.086447403x_{0}^{2} + 0.860871777x_{1}^{2})$"
      ],
      "text/plain": [
       "<IPython.core.display.Markdown object>"
      ]
     },
     "metadata": {},
     "output_type": "display_data"
    },
    {
     "name": "stdout",
     "output_type": "stream",
     "text": [
      "Lambda solution status: 1\n",
      "V solution status: 1\n"
     ]
    },
    {
     "data": {
      "text/markdown": [
       "$ V(x)=(0.000000000 + 0.000000000x_{0} + 0.000000000x_{1} + 0.041147912x_{0} x_{1} + 16.700907971x_{0}^{2} + 0.841530250x_{1}^{2})$"
      ],
      "text/plain": [
       "<IPython.core.display.Markdown object>"
      ]
     },
     "metadata": {},
     "output_type": "display_data"
    },
    {
     "name": "stdout",
     "output_type": "stream",
     "text": [
      "Lambda solution status: 1\n",
      "V solution status: 1\n"
     ]
    },
    {
     "data": {
      "text/markdown": [
       "$ V(x)=(0.000000000 + 0.000000000x_{0} + 0.000000000x_{1} + 0.039604207x_{0} x_{1} + 16.325870312x_{0}^{2} + 0.822734641x_{1}^{2})$"
      ],
      "text/plain": [
       "<IPython.core.display.Markdown object>"
      ]
     },
     "metadata": {},
     "output_type": "display_data"
    },
    {
     "name": "stdout",
     "output_type": "stream",
     "text": [
      "Lambda solution status: 1\n",
      "V solution status: 1\n"
     ]
    },
    {
     "data": {
      "text/markdown": [
       "$ V(x)=(0.000000000 + 0.000000000x_{0} + 0.000000000x_{1} + 0.038198083x_{0} x_{1} + 15.960608778x_{0}^{2} + 0.804442296x_{1}^{2})$"
      ],
      "text/plain": [
       "<IPython.core.display.Markdown object>"
      ]
     },
     "metadata": {},
     "output_type": "display_data"
    },
    {
     "name": "stdout",
     "output_type": "stream",
     "text": [
      "Lambda solution status: 1\n",
      "V solution status: 1\n"
     ]
    },
    {
     "data": {
      "text/markdown": [
       "$ V(x)=(0.000000000 + 0.000000000x_{0} - 0.000000000x_{1} + 0.036925433x_{0} x_{1} + 15.604530109x_{0}^{2} + 0.786617988x_{1}^{2})$"
      ],
      "text/plain": [
       "<IPython.core.display.Markdown object>"
      ]
     },
     "metadata": {},
     "output_type": "display_data"
    },
    {
     "name": "stdout",
     "output_type": "stream",
     "text": [
      "Lambda solution status: 1\n",
      "V solution status: 1\n"
     ]
    },
    {
     "data": {
      "text/markdown": [
       "$ V(x)=(0.000000000 - 0.000000000x_{0} - 0.000000000x_{1} + 0.035772139x_{0} x_{1} + 15.257042083x_{0}^{2} + 0.769226494x_{1}^{2})$"
      ],
      "text/plain": [
       "<IPython.core.display.Markdown object>"
      ]
     },
     "metadata": {},
     "output_type": "display_data"
    },
    {
     "name": "stdout",
     "output_type": "stream",
     "text": [
      "Lambda solution status: 1\n",
      "V solution status: 1\n"
     ]
    },
    {
     "data": {
      "text/markdown": [
       "$ V(x)=(0.000000000 + 0.000000000x_{0} + 0.000000000x_{1} + 0.034701269x_{0} x_{1} + 14.913413128x_{0}^{2} + 0.752037363x_{1}^{2})$"
      ],
      "text/plain": [
       "<IPython.core.display.Markdown object>"
      ]
     },
     "metadata": {},
     "output_type": "display_data"
    },
    {
     "name": "stdout",
     "output_type": "stream",
     "text": [
      "Lambda solution status: 1\n",
      "V solution status: 1\n"
     ]
    },
    {
     "data": {
      "text/markdown": [
       "$ V(x)=(0.000000000 + 0.000000000x_{0} + 0.000000000x_{1} + 0.033720285x_{0} x_{1} + 14.573180316x_{0}^{2} + 0.735017676x_{1}^{2})$"
      ],
      "text/plain": [
       "<IPython.core.display.Markdown object>"
      ]
     },
     "metadata": {},
     "output_type": "display_data"
    },
    {
     "name": "stdout",
     "output_type": "stream",
     "text": [
      "Lambda solution status: 1\n",
      "V solution status: 1\n"
     ]
    },
    {
     "data": {
      "text/markdown": [
       "$ V(x)=(0.000000000 + 0.000000000x_{0} + 0.000000000x_{1} + 0.032826816x_{0} x_{1} + 14.237446677x_{0}^{2} + 0.718212557x_{1}^{2})$"
      ],
      "text/plain": [
       "<IPython.core.display.Markdown object>"
      ]
     },
     "metadata": {},
     "output_type": "display_data"
    },
    {
     "name": "stdout",
     "output_type": "stream",
     "text": [
      "Lambda solution status: 1\n",
      "V solution status: 1\n"
     ]
    },
    {
     "data": {
      "text/markdown": [
       "$ V(x)=(0.000000000 - 0.000000000x_{0} - 0.000000000x_{1} + 0.032002292x_{0} x_{1} + 13.907117504x_{0}^{2} + 0.701661190x_{1}^{2})$"
      ],
      "text/plain": [
       "<IPython.core.display.Markdown object>"
      ]
     },
     "metadata": {},
     "output_type": "display_data"
    },
    {
     "name": "stdout",
     "output_type": "stream",
     "text": [
      "Lambda solution status: 1\n",
      "V solution status: 1\n"
     ]
    },
    {
     "data": {
      "text/markdown": [
       "$ V(x)=(0.000000000 + 0.000000000x_{0} + 0.000000000x_{1} + 0.031224626x_{0} x_{1} + 13.582843811x_{0}^{2} + 0.685393846x_{1}^{2})$"
      ],
      "text/plain": [
       "<IPython.core.display.Markdown object>"
      ]
     },
     "metadata": {},
     "output_type": "display_data"
    },
    {
     "name": "stdout",
     "output_type": "stream",
     "text": [
      "Lambda solution status: 1\n",
      "V solution status: 1\n"
     ]
    },
    {
     "data": {
      "text/markdown": [
       "$ V(x)=(0.000000000 + 0.000000000x_{0} + 0.000000000x_{1} + 0.030475419x_{0} x_{1} + 13.265006543x_{0}^{2} + 0.669430315x_{1}^{2})$"
      ],
      "text/plain": [
       "<IPython.core.display.Markdown object>"
      ]
     },
     "metadata": {},
     "output_type": "display_data"
    },
    {
     "name": "stdout",
     "output_type": "stream",
     "text": [
      "Lambda solution status: 1\n",
      "V solution status: 1\n"
     ]
    },
    {
     "data": {
      "text/markdown": [
       "$ V(x)=(0.000000000 - 0.000000000x_{0} + 0.000000000x_{1} + 0.029742875x_{0} x_{1} + 12.953754952x_{0}^{2} + 0.653780828x_{1}^{2})$"
      ],
      "text/plain": [
       "<IPython.core.display.Markdown object>"
      ]
     },
     "metadata": {},
     "output_type": "display_data"
    },
    {
     "name": "stdout",
     "output_type": "stream",
     "text": [
      "Lambda solution status: 1\n",
      "V solution status: 1\n"
     ]
    },
    {
     "data": {
      "text/markdown": [
       "$ V(x)=(0.000000000 + 0.000000000x_{0} - 0.000000000x_{1} + 0.029021052x_{0} x_{1} + 12.649074979x_{0}^{2} + 0.638448301x_{1}^{2})$"
      ],
      "text/plain": [
       "<IPython.core.display.Markdown object>"
      ]
     },
     "metadata": {},
     "output_type": "display_data"
    },
    {
     "name": "stdout",
     "output_type": "stream",
     "text": [
      "Lambda solution status: 1\n",
      "V solution status: 1\n"
     ]
    },
    {
     "data": {
      "text/markdown": [
       "$ V(x)=(0.000000000 + 0.000000000x_{0} - 0.000000000x_{1} + 0.028308617x_{0} x_{1} + 12.350856852x_{0}^{2} + 0.623430974x_{1}^{2})$"
      ],
      "text/plain": [
       "<IPython.core.display.Markdown object>"
      ]
     },
     "metadata": {},
     "output_type": "display_data"
    },
    {
     "name": "stdout",
     "output_type": "stream",
     "text": [
      "Lambda solution status: 1\n",
      "V solution status: 1\n"
     ]
    },
    {
     "data": {
      "text/markdown": [
       "$ V(x)=(0.000000000 - 0.000000000x_{0} - 0.000000000x_{1} + 0.027607012x_{0} x_{1} + 12.058944681x_{0}^{2} + 0.608724382x_{1}^{2})$"
      ],
      "text/plain": [
       "<IPython.core.display.Markdown object>"
      ]
     },
     "metadata": {},
     "output_type": "display_data"
    },
    {
     "name": "stdout",
     "output_type": "stream",
     "text": [
      "Lambda solution status: 1\n",
      "V solution status: 1\n"
     ]
    },
    {
     "data": {
      "text/markdown": [
       "$ V(x)=(0.000000000 + 0.000000000x_{0} + 0.000000000x_{1} + 0.026918866x_{0} x_{1} + 11.773166981x_{0}^{2} + 0.594322609x_{1}^{2})$"
      ],
      "text/plain": [
       "<IPython.core.display.Markdown object>"
      ]
     },
     "metadata": {},
     "output_type": "display_data"
    },
    {
     "name": "stdout",
     "output_type": "stream",
     "text": [
      "Lambda solution status: 1\n",
      "V solution status: 1\n"
     ]
    },
    {
     "data": {
      "text/markdown": [
       "$ V(x)=(0.000000000 + 0.000000000x_{0} + 0.000000000x_{1} + 0.026246928x_{0} x_{1} + 11.493352623x_{0}^{2} + 0.580219039x_{1}^{2})$"
      ],
      "text/plain": [
       "<IPython.core.display.Markdown object>"
      ]
     },
     "metadata": {},
     "output_type": "display_data"
    },
    {
     "name": "stdout",
     "output_type": "stream",
     "text": [
      "Lambda solution status: 1\n",
      "V solution status: 1\n"
     ]
    },
    {
     "data": {
      "text/markdown": [
       "$ V(x)=(0.000000000 + 0.000000000x_{0} - 0.000000000x_{1} + 0.025593606x_{0} x_{1} + 11.219337707x_{0}^{2} + 0.566406816x_{1}^{2})$"
      ],
      "text/plain": [
       "<IPython.core.display.Markdown object>"
      ]
     },
     "metadata": {},
     "output_type": "display_data"
    },
    {
     "name": "stdout",
     "output_type": "stream",
     "text": [
      "Lambda solution status: 1\n",
      "V solution status: 1\n"
     ]
    },
    {
     "data": {
      "text/markdown": [
       "$ V(x)=(0.000000000 - 0.000000000x_{0} + 0.000000000x_{1} + 0.024960469x_{0} x_{1} + 10.950968160x_{0}^{2} + 0.552878978x_{1}^{2})$"
      ],
      "text/plain": [
       "<IPython.core.display.Markdown object>"
      ]
     },
     "metadata": {},
     "output_type": "display_data"
    },
    {
     "name": "stdout",
     "output_type": "stream",
     "text": [
      "Lambda solution status: 1\n",
      "V solution status: 1\n"
     ]
    },
    {
     "data": {
      "text/markdown": [
       "$ V(x)=(0.000000000 - 0.000000000x_{0} + 0.000000000x_{1} + 0.024348432x_{0} x_{1} + 10.688099028x_{0}^{2} + 0.539628684x_{1}^{2})$"
      ],
      "text/plain": [
       "<IPython.core.display.Markdown object>"
      ]
     },
     "metadata": {},
     "output_type": "display_data"
    },
    {
     "name": "stdout",
     "output_type": "stream",
     "text": [
      "Lambda solution status: 1\n",
      "V solution status: 1\n"
     ]
    },
    {
     "data": {
      "text/markdown": [
       "$ V(x)=(0.000000000 + 0.000000000x_{0} - 0.000000000x_{1} + 0.023757648x_{0} x_{1} + 10.430594662x_{0}^{2} + 0.526649260x_{1}^{2})$"
      ],
      "text/plain": [
       "<IPython.core.display.Markdown object>"
      ]
     },
     "metadata": {},
     "output_type": "display_data"
    },
    {
     "name": "stdout",
     "output_type": "stream",
     "text": [
      "Lambda solution status: 1\n",
      "V solution status: 1\n"
     ]
    },
    {
     "data": {
      "text/markdown": [
       "$ V(x)=(0.000000000 + 0.000000000x_{0} + 0.000000000x_{1} + 0.023187837x_{0} x_{1} + 10.178325238x_{0}^{2} + 0.513934156x_{1}^{2})$"
      ],
      "text/plain": [
       "<IPython.core.display.Markdown object>"
      ]
     },
     "metadata": {},
     "output_type": "display_data"
    },
    {
     "name": "stdout",
     "output_type": "stream",
     "text": [
      "Lambda solution status: 1\n",
      "V solution status: 1\n"
     ]
    },
    {
     "data": {
      "text/markdown": [
       "$ V(x)=(0.000000000 - 0.000000000x_{0} - 0.000000000x_{1} + 0.022638275x_{0} x_{1} + 9.931165462x_{0}^{2} + 0.501476970x_{1}^{2})$"
      ],
      "text/plain": [
       "<IPython.core.display.Markdown object>"
      ]
     },
     "metadata": {},
     "output_type": "display_data"
    },
    {
     "name": "stdout",
     "output_type": "stream",
     "text": [
      "Lambda solution status: 1\n",
      "V solution status: 1\n"
     ]
    },
    {
     "data": {
      "text/markdown": [
       "$ V(x)=(0.000000000 - 0.000000000x_{0} + 0.000000000x_{1} + 0.022107885x_{0} x_{1} + 9.688993945x_{0}^{2} + 0.489271417x_{1}^{2})$"
      ],
      "text/plain": [
       "<IPython.core.display.Markdown object>"
      ]
     },
     "metadata": {},
     "output_type": "display_data"
    },
    {
     "name": "stdout",
     "output_type": "stream",
     "text": [
      "Lambda solution status: 1\n",
      "V solution status: 1\n"
     ]
    },
    {
     "data": {
      "text/markdown": [
       "$ V(x)=(0.000000000 + 0.000000000x_{0} - 0.000000000x_{1} + 0.021595431x_{0} x_{1} + 9.451692346x_{0}^{2} + 0.477311367x_{1}^{2})$"
      ],
      "text/plain": [
       "<IPython.core.display.Markdown object>"
      ]
     },
     "metadata": {},
     "output_type": "display_data"
    },
    {
     "name": "stdout",
     "output_type": "stream",
     "text": [
      "Lambda solution status: 1\n",
      "V solution status: 1\n"
     ]
    },
    {
     "data": {
      "text/markdown": [
       "$ V(x)=(0.000000000 + 0.000000000x_{0} - 0.000000000x_{1} + 0.021099692x_{0} x_{1} + 9.219144886x_{0}^{2} + 0.465590855x_{1}^{2})$"
      ],
      "text/plain": [
       "<IPython.core.display.Markdown object>"
      ]
     },
     "metadata": {},
     "output_type": "display_data"
    },
    {
     "name": "stdout",
     "output_type": "stream",
     "text": [
      "Lambda solution status: 1\n",
      "V solution status: 1\n"
     ]
    },
    {
     "data": {
      "text/markdown": [
       "$ V(x)=(0.000000000 + 0.000000000x_{0} + 0.000000000x_{1} + 0.020615720x_{0} x_{1} + 8.991334957x_{0}^{2} + 0.454110153x_{1}^{2})$"
      ],
      "text/plain": [
       "<IPython.core.display.Markdown object>"
      ]
     },
     "metadata": {},
     "output_type": "display_data"
    },
    {
     "name": "stdout",
     "output_type": "stream",
     "text": [
      "Lambda solution status: 1\n",
      "V solution status: 1\n"
     ]
    },
    {
     "data": {
      "text/markdown": [
       "$ V(x)=(0.000000000 - 0.000000000x_{0} + 0.000000000x_{1} + 0.020142052x_{0} x_{1} + 8.768215349x_{0}^{2} + 0.442867016x_{1}^{2})$"
      ],
      "text/plain": [
       "<IPython.core.display.Markdown object>"
      ]
     },
     "metadata": {},
     "output_type": "display_data"
    },
    {
     "name": "stdout",
     "output_type": "stream",
     "text": [
      "Lambda solution status: 1\n",
      "V solution status: 1\n"
     ]
    },
    {
     "data": {
      "text/markdown": [
       "$ V(x)=(0.000000000 + 0.000000000x_{0} - 0.000000000x_{1} + 0.019679326x_{0} x_{1} + 8.549678618x_{0}^{2} + 0.431855288x_{1}^{2})$"
      ],
      "text/plain": [
       "<IPython.core.display.Markdown object>"
      ]
     },
     "metadata": {},
     "output_type": "display_data"
    },
    {
     "name": "stdout",
     "output_type": "stream",
     "text": [
      "Lambda solution status: 1\n",
      "V solution status: 1\n"
     ]
    },
    {
     "data": {
      "text/markdown": [
       "$ V(x)=(0.000000000 - 0.000000000x_{0} + 0.000000000x_{1} + 0.019227384x_{0} x_{1} + 8.335617397x_{0}^{2} + 0.421068978x_{1}^{2})$"
      ],
      "text/plain": [
       "<IPython.core.display.Markdown object>"
      ]
     },
     "metadata": {},
     "output_type": "display_data"
    },
    {
     "name": "stdout",
     "output_type": "stream",
     "text": [
      "Lambda solution status: 1\n",
      "V solution status: 1\n"
     ]
    },
    {
     "data": {
      "text/markdown": [
       "$ V(x)=(0.000000000 - 0.000000000x_{0} + 0.000000000x_{1} + 0.018785814x_{0} x_{1} + 8.125925767x_{0}^{2} + 0.410502354x_{1}^{2})$"
      ],
      "text/plain": [
       "<IPython.core.display.Markdown object>"
      ]
     },
     "metadata": {},
     "output_type": "display_data"
    },
    {
     "name": "stdout",
     "output_type": "stream",
     "text": [
      "Lambda solution status: 1\n",
      "V solution status: 1\n"
     ]
    },
    {
     "data": {
      "text/markdown": [
       "$ V(x)=(0.000000000 + 0.000000000x_{0} - 0.000000000x_{1} + 0.018354398x_{0} x_{1} + 7.920499970x_{0}^{2} + 0.400149999x_{1}^{2})$"
      ],
      "text/plain": [
       "<IPython.core.display.Markdown object>"
      ]
     },
     "metadata": {},
     "output_type": "display_data"
    },
    {
     "name": "stdout",
     "output_type": "stream",
     "text": [
      "Lambda solution status: 1\n",
      "V solution status: 1\n"
     ]
    },
    {
     "data": {
      "text/markdown": [
       "$ V(x)=(0.000000000 + 0.000000000x_{0} - 0.000000000x_{1} + 0.017933129x_{0} x_{1} + 7.719238837x_{0}^{2} + 0.390006766x_{1}^{2})$"
      ],
      "text/plain": [
       "<IPython.core.display.Markdown object>"
      ]
     },
     "metadata": {},
     "output_type": "display_data"
    },
    {
     "name": "stdout",
     "output_type": "stream",
     "text": [
      "Lambda solution status: 1\n",
      "V solution status: 1\n"
     ]
    },
    {
     "data": {
      "text/markdown": [
       "$ V(x)=(0.000000000 - 0.000000000x_{0} + 0.000000000x_{1} + 0.017522304x_{0} x_{1} + 7.522043545x_{0}^{2} + 0.380067751x_{1}^{2})$"
      ],
      "text/plain": [
       "<IPython.core.display.Markdown object>"
      ]
     },
     "metadata": {},
     "output_type": "display_data"
    },
    {
     "name": "stdout",
     "output_type": "stream",
     "text": [
      "Lambda solution status: 1\n",
      "V solution status: 1\n"
     ]
    },
    {
     "data": {
      "text/markdown": [
       "$ V(x)=(0.000000000 - 0.000000000x_{0} - 0.000000000x_{1} + 0.017119926x_{0} x_{1} + 7.328813612x_{0}^{2} + 0.370329734x_{1}^{2})$"
      ],
      "text/plain": [
       "<IPython.core.display.Markdown object>"
      ]
     },
     "metadata": {},
     "output_type": "display_data"
    },
    {
     "name": "stdout",
     "output_type": "stream",
     "text": [
      "Lambda solution status: 1\n",
      "V solution status: 1\n"
     ]
    },
    {
     "data": {
      "text/markdown": [
       "$ V(x)=(0.000000000 + 0.000000000x_{0} + 0.000000000x_{1} + 0.016732277x_{0} x_{1} + 7.139462429x_{0}^{2} + 0.360784786x_{1}^{2})$"
      ],
      "text/plain": [
       "<IPython.core.display.Markdown object>"
      ]
     },
     "metadata": {},
     "output_type": "display_data"
    },
    {
     "name": "stdout",
     "output_type": "stream",
     "text": [
      "Lambda solution status: 1\n",
      "V solution status: 1\n"
     ]
    },
    {
     "data": {
      "text/markdown": [
       "$ V(x)=(0.000000000 + 0.000000000x_{0} - 0.000000000x_{1} + 0.016355948x_{0} x_{1} + 6.953888888x_{0}^{2} + 0.351429912x_{1}^{2})$"
      ],
      "text/plain": [
       "<IPython.core.display.Markdown object>"
      ]
     },
     "metadata": {},
     "output_type": "display_data"
    },
    {
     "name": "stdout",
     "output_type": "stream",
     "text": [
      "Lambda solution status: 1\n",
      "V solution status: 1\n"
     ]
    },
    {
     "data": {
      "text/markdown": [
       "$ V(x)=(0.000000000 + 0.000000000x_{0} - 0.000000000x_{1} + 0.015991160x_{0} x_{1} + 6.771998287x_{0}^{2} + 0.342260427x_{1}^{2})$"
      ],
      "text/plain": [
       "<IPython.core.display.Markdown object>"
      ]
     },
     "metadata": {},
     "output_type": "display_data"
    },
    {
     "name": "stdout",
     "output_type": "stream",
     "text": [
      "Lambda solution status: 1\n",
      "V solution status: 1\n"
     ]
    },
    {
     "data": {
      "text/markdown": [
       "$ V(x)=(0.000000000 - 0.000000000x_{0} + 0.000000000x_{1} + 0.015637658x_{0} x_{1} + 6.593694899x_{0}^{2} + 0.333271507x_{1}^{2})$"
      ],
      "text/plain": [
       "<IPython.core.display.Markdown object>"
      ]
     },
     "metadata": {},
     "output_type": "display_data"
    },
    {
     "name": "stdout",
     "output_type": "stream",
     "text": [
      "Lambda solution status: 1\n",
      "V solution status: 1\n"
     ]
    },
    {
     "data": {
      "text/markdown": [
       "$ V(x)=(0.000000000 - 0.000000000x_{0} + 0.000000000x_{1} + 0.015294729x_{0} x_{1} + 6.418882231x_{0}^{2} + 0.324458209x_{1}^{2})$"
      ],
      "text/plain": [
       "<IPython.core.display.Markdown object>"
      ]
     },
     "metadata": {},
     "output_type": "display_data"
    },
    {
     "name": "stdout",
     "output_type": "stream",
     "text": [
      "Lambda solution status: 1\n",
      "V solution status: 1\n"
     ]
    },
    {
     "data": {
      "text/markdown": [
       "$ V(x)=(0.000000000 + 0.000000000x_{0} + 0.000000000x_{1} + 0.014961207x_{0} x_{1} + 6.247462956x_{0}^{2} + 0.315815489x_{1}^{2})$"
      ],
      "text/plain": [
       "<IPython.core.display.Markdown object>"
      ]
     },
     "metadata": {},
     "output_type": "display_data"
    },
    {
     "name": "stdout",
     "output_type": "stream",
     "text": [
      "Lambda solution status: 1\n",
      "V solution status: 1\n"
     ]
    },
    {
     "data": {
      "text/markdown": [
       "$ V(x)=(0.000000000 + 0.000000000x_{0} + 0.000000000x_{1} + 0.014635600x_{0} x_{1} + 6.079339173x_{0}^{2} + 0.307338252x_{1}^{2})$"
      ],
      "text/plain": [
       "<IPython.core.display.Markdown object>"
      ]
     },
     "metadata": {},
     "output_type": "display_data"
    },
    {
     "name": "stdout",
     "output_type": "stream",
     "text": [
      "Lambda solution status: 1\n",
      "V solution status: 1\n"
     ]
    },
    {
     "data": {
      "text/markdown": [
       "$ V(x)=(0.000000000 + 0.000000000x_{0} + 0.000000000x_{1} + 0.014316121x_{0} x_{1} + 5.914412950x_{0}^{2} + 0.299021365x_{1}^{2})$"
      ],
      "text/plain": [
       "<IPython.core.display.Markdown object>"
      ]
     },
     "metadata": {},
     "output_type": "display_data"
    },
    {
     "name": "stdout",
     "output_type": "stream",
     "text": [
      "Lambda solution status: 1\n",
      "V solution status: 1\n"
     ]
    },
    {
     "data": {
      "text/markdown": [
       "$ V(x)=(0.000000000 + 0.000000000x_{0} - 0.000000000x_{1} + 0.014000898x_{0} x_{1} + 5.752586699x_{0}^{2} + 0.290859733x_{1}^{2})$"
      ],
      "text/plain": [
       "<IPython.core.display.Markdown object>"
      ]
     },
     "metadata": {},
     "output_type": "display_data"
    },
    {
     "name": "stdout",
     "output_type": "stream",
     "text": [
      "Lambda solution status: 1\n",
      "V solution status: 1\n"
     ]
    },
    {
     "data": {
      "text/markdown": [
       "$ V(x)=(0.000000000 + 0.000000000x_{0} + 0.000000000x_{1} + 0.013684698x_{0} x_{1} + 5.593698448x_{0}^{2} + 0.282845202x_{1}^{2})$"
      ],
      "text/plain": [
       "<IPython.core.display.Markdown object>"
      ]
     },
     "metadata": {},
     "output_type": "display_data"
    },
    {
     "name": "stdout",
     "output_type": "stream",
     "text": [
      "Lambda solution status: 1\n",
      "V solution status: 1\n"
     ]
    },
    {
     "data": {
      "text/markdown": [
       "$ V(x)=(0.000000000 - 0.000000000x_{0} + 0.000000000x_{1} + 0.013365103x_{0} x_{1} + 5.437612517x_{0}^{2} + 0.274970856x_{1}^{2})$"
      ],
      "text/plain": [
       "<IPython.core.display.Markdown object>"
      ]
     },
     "metadata": {},
     "output_type": "display_data"
    },
    {
     "name": "stdout",
     "output_type": "stream",
     "text": [
      "Lambda solution status: 1\n",
      "V solution status: 1\n"
     ]
    },
    {
     "data": {
      "text/markdown": [
       "$ V(x)=(0.000000000 + 0.000000000x_{0} - 0.000000000x_{1} + 0.013038796x_{0} x_{1} + 5.284210864x_{0}^{2} + 0.267230267x_{1}^{2})$"
      ],
      "text/plain": [
       "<IPython.core.display.Markdown object>"
      ]
     },
     "metadata": {},
     "output_type": "display_data"
    },
    {
     "name": "stdout",
     "output_type": "stream",
     "text": [
      "Lambda solution status: 1\n",
      "V solution status: 1\n"
     ]
    },
    {
     "data": {
      "text/markdown": [
       "$ V(x)=(0.000000000 + 0.000000000x_{0} + 0.000000000x_{1} + 0.012702156x_{0} x_{1} + 5.133356143x_{0}^{2} + 0.259616074x_{1}^{2})$"
      ],
      "text/plain": [
       "<IPython.core.display.Markdown object>"
      ]
     },
     "metadata": {},
     "output_type": "display_data"
    },
    {
     "name": "stdout",
     "output_type": "stream",
     "text": [
      "Lambda solution status: 1\n",
      "V solution status: 1\n"
     ]
    },
    {
     "data": {
      "text/markdown": [
       "$ V(x)=(0.000000000 - 0.000000000x_{0} + 0.000000000x_{1} + 0.012350403x_{0} x_{1} + 4.984883001x_{0}^{2} + 0.252119420x_{1}^{2})$"
      ],
      "text/plain": [
       "<IPython.core.display.Markdown object>"
      ]
     },
     "metadata": {},
     "output_type": "display_data"
    },
    {
     "name": "stdout",
     "output_type": "stream",
     "text": [
      "Lambda solution status: 1\n",
      "V solution status: 1\n"
     ]
    },
    {
     "data": {
      "text/markdown": [
       "$ V(x)=(0.000000000 + 0.000000000x_{0} + 0.000000000x_{1} + 0.012099064x_{0} x_{1} + 4.840036081x_{0}^{2} + 0.244816697x_{1}^{2})$"
      ],
      "text/plain": [
       "<IPython.core.display.Markdown object>"
      ]
     },
     "metadata": {},
     "output_type": "display_data"
    },
    {
     "name": "stdout",
     "output_type": "stream",
     "text": [
      "Lambda solution status: 1\n",
      "V solution status: 1\n"
     ]
    },
    {
     "data": {
      "text/markdown": [
       "$ V(x)=(0.000000000 + 0.000000000x_{0} + 0.000000000x_{1} + 0.011966450x_{0} x_{1} + 4.699372127x_{0}^{2} + 0.237733835x_{1}^{2})$"
      ],
      "text/plain": [
       "<IPython.core.display.Markdown object>"
      ]
     },
     "metadata": {},
     "output_type": "display_data"
    },
    {
     "name": "stdout",
     "output_type": "stream",
     "text": [
      "Lambda solution status: 1\n",
      "V solution status: 1\n"
     ]
    },
    {
     "data": {
      "text/markdown": [
       "$ V(x)=(0.000000000 + 0.000000000x_{0} - 0.000000000x_{1} + 0.012148593x_{0} x_{1} + 4.563590657x_{0}^{2} + 0.230936736x_{1}^{2})$"
      ],
      "text/plain": [
       "<IPython.core.display.Markdown object>"
      ]
     },
     "metadata": {},
     "output_type": "display_data"
    },
    {
     "name": "stdout",
     "output_type": "stream",
     "text": [
      "Lambda solution status: 1\n",
      "V solution status: 1\n"
     ]
    },
    {
     "data": {
      "text/markdown": [
       "$ V(x)=(0.000000000 + 0.000000000x_{0} - 0.000000000x_{1} + 0.012135064x_{0} x_{1} + 4.429993373x_{0}^{2} + 0.224202374x_{1}^{2})$"
      ],
      "text/plain": [
       "<IPython.core.display.Markdown object>"
      ]
     },
     "metadata": {},
     "output_type": "display_data"
    },
    {
     "name": "stdout",
     "output_type": "stream",
     "text": [
      "Lambda solution status: 1\n",
      "V solution status: 1\n"
     ]
    },
    {
     "data": {
      "text/markdown": [
       "$ V(x)=(0.000000000 + 0.000000000x_{0} + 0.000000000x_{1} + 0.012023099x_{0} x_{1} + 4.298939328x_{0}^{2} + 0.217575319x_{1}^{2})$"
      ],
      "text/plain": [
       "<IPython.core.display.Markdown object>"
      ]
     },
     "metadata": {},
     "output_type": "display_data"
    },
    {
     "name": "stdout",
     "output_type": "stream",
     "text": [
      "Lambda solution status: 1\n",
      "V solution status: 1\n"
     ]
    },
    {
     "data": {
      "text/markdown": [
       "$ V(x)=(0.000000000 + 0.000000000x_{0} - 0.000000000x_{1} + 0.011843261x_{0} x_{1} + 4.170417850x_{0}^{2} + 0.211065052x_{1}^{2})$"
      ],
      "text/plain": [
       "<IPython.core.display.Markdown object>"
      ]
     },
     "metadata": {},
     "output_type": "display_data"
    },
    {
     "name": "stdout",
     "output_type": "stream",
     "text": [
      "Lambda solution status: 1\n",
      "V solution status: 1\n"
     ]
    },
    {
     "data": {
      "text/markdown": [
       "$ V(x)=(0.000000000 + 0.000000000x_{0} - 0.000000000x_{1} + 0.011606664x_{0} x_{1} + 4.044474226x_{0}^{2} + 0.204678223x_{1}^{2})$"
      ],
      "text/plain": [
       "<IPython.core.display.Markdown object>"
      ]
     },
     "metadata": {},
     "output_type": "display_data"
    },
    {
     "name": "stdout",
     "output_type": "stream",
     "text": [
      "Lambda solution status: 1\n",
      "V solution status: 1\n"
     ]
    },
    {
     "data": {
      "text/markdown": [
       "$ V(x)=(0.000000000 - 0.000000000x_{0} + 0.000000000x_{1} + 0.011267402x_{0} x_{1} + 3.921339974x_{0}^{2} + 0.198420361x_{1}^{2})$"
      ],
      "text/plain": [
       "<IPython.core.display.Markdown object>"
      ]
     },
     "metadata": {},
     "output_type": "display_data"
    },
    {
     "name": "stdout",
     "output_type": "stream",
     "text": [
      "Lambda solution status: 1\n",
      "V solution status: 1\n"
     ]
    },
    {
     "data": {
      "text/markdown": [
       "$ V(x)=(0.000000000 - 0.000000000x_{0} + 0.000000000x_{1} + 0.010855508x_{0} x_{1} + 3.800043777x_{0}^{2} + 0.192250644x_{1}^{2})$"
      ],
      "text/plain": [
       "<IPython.core.display.Markdown object>"
      ]
     },
     "metadata": {},
     "output_type": "display_data"
    },
    {
     "name": "stdout",
     "output_type": "stream",
     "text": [
      "Lambda solution status: 1\n",
      "V solution status: 1\n"
     ]
    },
    {
     "data": {
      "text/markdown": [
       "$ V(x)=(0.000000000 - 0.000000000x_{0} + 0.000000000x_{1} + 0.010549966x_{0} x_{1} + 3.681560564x_{0}^{2} + 0.186249505x_{1}^{2})$"
      ],
      "text/plain": [
       "<IPython.core.display.Markdown object>"
      ]
     },
     "metadata": {},
     "output_type": "display_data"
    },
    {
     "name": "stdout",
     "output_type": "stream",
     "text": [
      "Lambda solution status: 1\n",
      "V solution status: 1\n"
     ]
    },
    {
     "data": {
      "text/markdown": [
       "$ V(x)=(0.000000000 - 0.000000000x_{0} - 0.000000000x_{1} + 0.010333458x_{0} x_{1} + 3.565831329x_{0}^{2} + 0.180404157x_{1}^{2})$"
      ],
      "text/plain": [
       "<IPython.core.display.Markdown object>"
      ]
     },
     "metadata": {},
     "output_type": "display_data"
    },
    {
     "name": "stdout",
     "output_type": "stream",
     "text": [
      "Lambda solution status: 1\n",
      "V solution status: 1\n"
     ]
    },
    {
     "data": {
      "text/markdown": [
       "$ V(x)=(0.000000000 - 0.000000000x_{0} - 0.000000000x_{1} + 0.010178386x_{0} x_{1} + 3.452797806x_{0}^{2} + 0.174702766x_{1}^{2})$"
      ],
      "text/plain": [
       "<IPython.core.display.Markdown object>"
      ]
     },
     "metadata": {},
     "output_type": "display_data"
    },
    {
     "name": "stdout",
     "output_type": "stream",
     "text": [
      "Lambda solution status: 1\n",
      "V solution status: 1\n"
     ]
    },
    {
     "data": {
      "text/markdown": [
       "$ V(x)=(0.000000000 + 0.000000000x_{0} - 0.000000000x_{1} + 0.010054140x_{0} x_{1} + 3.342358717x_{0}^{2} + 0.169133271x_{1}^{2})$"
      ],
      "text/plain": [
       "<IPython.core.display.Markdown object>"
      ]
     },
     "metadata": {},
     "output_type": "display_data"
    },
    {
     "name": "stdout",
     "output_type": "stream",
     "text": [
      "Lambda solution status: 1\n",
      "V solution status: 1\n"
     ]
    },
    {
     "data": {
      "text/markdown": [
       "$ V(x)=(0.000000000 + 0.000000000x_{0} - 0.000000000x_{1} + 0.009941641x_{0} x_{1} + 3.234473440x_{0}^{2} + 0.163690371x_{1}^{2})$"
      ],
      "text/plain": [
       "<IPython.core.display.Markdown object>"
      ]
     },
     "metadata": {},
     "output_type": "display_data"
    },
    {
     "name": "stdout",
     "output_type": "stream",
     "text": [
      "Lambda solution status: 1\n",
      "V solution status: 1\n"
     ]
    },
    {
     "data": {
      "text/markdown": [
       "$ V(x)=(0.000000000 - 0.000000000x_{0} - 0.000000000x_{1} + 0.009975593x_{0} x_{1} + 3.130050801x_{0}^{2} + 0.158441892x_{1}^{2})$"
      ],
      "text/plain": [
       "<IPython.core.display.Markdown object>"
      ]
     },
     "metadata": {},
     "output_type": "display_data"
    },
    {
     "name": "stdout",
     "output_type": "stream",
     "text": [
      "Lambda solution status: 1\n",
      "V solution status: 1\n"
     ]
    },
    {
     "data": {
      "text/markdown": [
       "$ V(x)=(0.000000000 - 0.000000000x_{0} - 0.000000000x_{1} + 0.009946074x_{0} x_{1} + 3.028227903x_{0}^{2} + 0.153306381x_{1}^{2})$"
      ],
      "text/plain": [
       "<IPython.core.display.Markdown object>"
      ]
     },
     "metadata": {},
     "output_type": "display_data"
    },
    {
     "name": "stdout",
     "output_type": "stream",
     "text": [
      "Lambda solution status: 1\n",
      "V solution status: 1\n"
     ]
    },
    {
     "data": {
      "text/markdown": [
       "$ V(x)=(0.000000000 + 0.000000000x_{0} + 0.000000000x_{1} + 0.009820316x_{0} x_{1} + 2.929118349x_{0}^{2} + 0.148292068x_{1}^{2})$"
      ],
      "text/plain": [
       "<IPython.core.display.Markdown object>"
      ]
     },
     "metadata": {},
     "output_type": "display_data"
    },
    {
     "name": "stdout",
     "output_type": "stream",
     "text": [
      "Lambda solution status: 1\n",
      "V solution status: 1\n"
     ]
    },
    {
     "data": {
      "text/markdown": [
       "$ V(x)=(0.000000000 - 0.000000000x_{0} + 0.000000000x_{1} + 0.009629065x_{0} x_{1} + 2.832754005x_{0}^{2} + 0.143409642x_{1}^{2})$"
      ],
      "text/plain": [
       "<IPython.core.display.Markdown object>"
      ]
     },
     "metadata": {},
     "output_type": "display_data"
    },
    {
     "name": "stdout",
     "output_type": "stream",
     "text": [
      "Lambda solution status: 1\n",
      "V solution status: 1\n"
     ]
    },
    {
     "data": {
      "text/markdown": [
       "$ V(x)=(0.000000000 - 0.000000000x_{0} + 0.000000000x_{1} + 0.009394353x_{0} x_{1} + 2.739136562x_{0}^{2} + 0.138664237x_{1}^{2})$"
      ],
      "text/plain": [
       "<IPython.core.display.Markdown object>"
      ]
     },
     "metadata": {},
     "output_type": "display_data"
    },
    {
     "name": "stdout",
     "output_type": "stream",
     "text": [
      "Lambda solution status: 1\n",
      "V solution status: 1\n"
     ]
    },
    {
     "data": {
      "text/markdown": [
       "$ V(x)=(0.000000000 + 0.000000000x_{0} + 0.000000000x_{1} + 0.009131659x_{0} x_{1} + 2.648247172x_{0}^{2} + 0.134057468x_{1}^{2})$"
      ],
      "text/plain": [
       "<IPython.core.display.Markdown object>"
      ]
     },
     "metadata": {},
     "output_type": "display_data"
    },
    {
     "name": "stdout",
     "output_type": "stream",
     "text": [
      "Lambda solution status: 1\n",
      "V solution status: 1\n"
     ]
    },
    {
     "data": {
      "text/markdown": [
       "$ V(x)=(0.000000000 - 0.000000000x_{0} + 0.000000000x_{1} + 0.008851749x_{0} x_{1} + 2.560053399x_{0}^{2} + 0.129588811x_{1}^{2})$"
      ],
      "text/plain": [
       "<IPython.core.display.Markdown object>"
      ]
     },
     "metadata": {},
     "output_type": "display_data"
    },
    {
     "name": "stdout",
     "output_type": "stream",
     "text": [
      "Lambda solution status: 1\n",
      "V solution status: 1\n"
     ]
    },
    {
     "data": {
      "text/markdown": [
       "$ V(x)=(0.000000000 + 0.000000000x_{0} - 0.000000000x_{1} + 0.008561533x_{0} x_{1} + 2.474509410x_{0}^{2} + 0.125256176x_{1}^{2})$"
      ],
      "text/plain": [
       "<IPython.core.display.Markdown object>"
      ]
     },
     "metadata": {},
     "output_type": "display_data"
    },
    {
     "name": "stdout",
     "output_type": "stream",
     "text": [
      "Lambda solution status: 1\n",
      "V solution status: 1\n"
     ]
    },
    {
     "data": {
      "text/markdown": [
       "$ V(x)=(0.000000000 + 0.000000000x_{0} + 0.000000000x_{1} + 0.008266223x_{0} x_{1} + 2.391566981x_{0}^{2} + 0.121057055x_{1}^{2})$"
      ],
      "text/plain": [
       "<IPython.core.display.Markdown object>"
      ]
     },
     "metadata": {},
     "output_type": "display_data"
    },
    {
     "name": "stdout",
     "output_type": "stream",
     "text": [
      "Lambda solution status: 1\n",
      "V solution status: 1\n"
     ]
    },
    {
     "data": {
      "text/markdown": [
       "$ V(x)=(0.000000000 + 0.000000000x_{0} - 0.000000000x_{1} + 0.007969662x_{0} x_{1} + 2.311174193x_{0}^{2} + 0.116988590x_{1}^{2})$"
      ],
      "text/plain": [
       "<IPython.core.display.Markdown object>"
      ]
     },
     "metadata": {},
     "output_type": "display_data"
    },
    {
     "name": "stdout",
     "output_type": "stream",
     "text": [
      "Lambda solution status: 1\n",
      "V solution status: 1\n"
     ]
    },
    {
     "data": {
      "text/markdown": [
       "$ V(x)=(0.000000000 + 0.000000000x_{0} - 0.000000000x_{1} + 0.007674672x_{0} x_{1} + 2.233273581x_{0}^{2} + 0.113047572x_{1}^{2})$"
      ],
      "text/plain": [
       "<IPython.core.display.Markdown object>"
      ]
     },
     "metadata": {},
     "output_type": "display_data"
    },
    {
     "name": "stdout",
     "output_type": "stream",
     "text": [
      "Lambda solution status: 1\n",
      "V solution status: 1\n"
     ]
    },
    {
     "data": {
      "text/markdown": [
       "$ V(x)=(0.000000000 - 0.000000000x_{0} - 0.000000000x_{1} + 0.007383530x_{0} x_{1} + 2.157800040x_{0}^{2} + 0.109230421x_{1}^{2})$"
      ],
      "text/plain": [
       "<IPython.core.display.Markdown object>"
      ]
     },
     "metadata": {},
     "output_type": "display_data"
    },
    {
     "name": "stdout",
     "output_type": "stream",
     "text": [
      "Lambda solution status: 1\n",
      "V solution status: 1\n"
     ]
    },
    {
     "data": {
      "text/markdown": [
       "$ V(x)=(0.000000000 + 0.000000000x_{0} + 0.000000000x_{1} + 0.007099169x_{0} x_{1} + 2.084679304x_{0}^{2} + 0.105533243x_{1}^{2})$"
      ],
      "text/plain": [
       "<IPython.core.display.Markdown object>"
      ]
     },
     "metadata": {},
     "output_type": "display_data"
    },
    {
     "name": "stdout",
     "output_type": "stream",
     "text": [
      "Lambda solution status: 1\n",
      "V solution status: 1\n"
     ]
    },
    {
     "data": {
      "text/markdown": [
       "$ V(x)=(0.000000000 + 0.000000000x_{0} - 0.000000000x_{1} + 0.006825812x_{0} x_{1} + 2.013814416x_{0}^{2} + 0.101951170x_{1}^{2})$"
      ],
      "text/plain": [
       "<IPython.core.display.Markdown object>"
      ]
     },
     "metadata": {},
     "output_type": "display_data"
    },
    {
     "name": "stdout",
     "output_type": "stream",
     "text": [
      "Lambda solution status: 1\n",
      "V solution status: 1\n"
     ]
    },
    {
     "data": {
      "text/markdown": [
       "$ V(x)=(0.000000000 + 0.000000000x_{0} - 0.000000000x_{1} + 0.006569723x_{0} x_{1} + 1.945047147x_{0}^{2} + 0.098476348x_{1}^{2})$"
      ],
      "text/plain": [
       "<IPython.core.display.Markdown object>"
      ]
     },
     "metadata": {},
     "output_type": "display_data"
    },
    {
     "name": "stdout",
     "output_type": "stream",
     "text": [
      "Lambda solution status: 1\n",
      "V solution status: 1\n"
     ]
    },
    {
     "data": {
      "text/markdown": [
       "$ V(x)=(0.000000000 - 0.000000000x_{0} - 0.000000000x_{1} + 0.006344132x_{0} x_{1} + 1.878120915x_{0}^{2} + 0.095096557x_{1}^{2})$"
      ],
      "text/plain": [
       "<IPython.core.display.Markdown object>"
      ]
     },
     "metadata": {},
     "output_type": "display_data"
    },
    {
     "name": "stdout",
     "output_type": "stream",
     "text": [
      "Lambda solution status: 1\n",
      "V solution status: 1\n"
     ]
    },
    {
     "data": {
      "text/markdown": [
       "$ V(x)=(0.000000000 + 0.000000000x_{0} - 0.000000000x_{1} + 0.006064789x_{0} x_{1} + 1.814274805x_{0}^{2} + 0.091865260x_{1}^{2})$"
      ],
      "text/plain": [
       "<IPython.core.display.Markdown object>"
      ]
     },
     "metadata": {},
     "output_type": "display_data"
    },
    {
     "name": "stdout",
     "output_type": "stream",
     "text": [
      "Lambda solution status: 1\n",
      "V solution status: 1\n"
     ]
    },
    {
     "data": {
      "text/markdown": [
       "$ V(x)=(0.000000000 - 0.000000000x_{0} - 0.000000000x_{1} + 0.005743952x_{0} x_{1} + 1.753649731x_{0}^{2} + 0.088793259x_{1}^{2})$"
      ],
      "text/plain": [
       "<IPython.core.display.Markdown object>"
      ]
     },
     "metadata": {},
     "output_type": "display_data"
    },
    {
     "name": "stdout",
     "output_type": "stream",
     "text": [
      "Lambda solution status: 1\n",
      "V solution status: 1\n"
     ]
    },
    {
     "data": {
      "text/markdown": [
       "$ V(x)=(0.000000000 - 0.000000000x_{0} - 0.000000000x_{1} + 0.005384609x_{0} x_{1} + 1.696230216x_{0}^{2} + 0.085881386x_{1}^{2})$"
      ],
      "text/plain": [
       "<IPython.core.display.Markdown object>"
      ]
     },
     "metadata": {},
     "output_type": "display_data"
    },
    {
     "name": "stdout",
     "output_type": "stream",
     "text": [
      "Lambda solution status: 1\n",
      "V solution status: 1\n"
     ]
    },
    {
     "data": {
      "text/markdown": [
       "$ V(x)=(0.000000000 + 0.000000000x_{0} + 0.000000000x_{1} + 0.004979457x_{0} x_{1} + 1.641091998x_{0}^{2} + 0.083082949x_{1}^{2})$"
      ],
      "text/plain": [
       "<IPython.core.display.Markdown object>"
      ]
     },
     "metadata": {},
     "output_type": "display_data"
    },
    {
     "name": "stdout",
     "output_type": "stream",
     "text": [
      "Lambda solution status: 1\n",
      "V solution status: 1\n"
     ]
    },
    {
     "data": {
      "text/markdown": [
       "$ V(x)=(0.000000000 + 0.000000000x_{0} + 0.000000000x_{1} + 0.004556271x_{0} x_{1} + 1.588169506x_{0}^{2} + 0.080397152x_{1}^{2})$"
      ],
      "text/plain": [
       "<IPython.core.display.Markdown object>"
      ]
     },
     "metadata": {},
     "output_type": "display_data"
    },
    {
     "name": "stdout",
     "output_type": "stream",
     "text": [
      "Lambda solution status: 1\n",
      "V solution status: 1\n"
     ]
    },
    {
     "data": {
      "text/markdown": [
       "$ V(x)=(0.000000000 + 0.000000000x_{0} + 0.000000000x_{1} + 0.004132255x_{0} x_{1} + 1.537311240x_{0}^{2} + 0.077817496x_{1}^{2})$"
      ],
      "text/plain": [
       "<IPython.core.display.Markdown object>"
      ]
     },
     "metadata": {},
     "output_type": "display_data"
    },
    {
     "name": "stdout",
     "output_type": "stream",
     "text": [
      "Lambda solution status: 1\n",
      "V solution status: 1\n"
     ]
    },
    {
     "data": {
      "text/markdown": [
       "$ V(x)=(0.000000000 - 0.000000000x_{0} + 0.000000000x_{1} + 0.003719706x_{0} x_{1} + 1.488457355x_{0}^{2} + 0.075341535x_{1}^{2})$"
      ],
      "text/plain": [
       "<IPython.core.display.Markdown object>"
      ]
     },
     "metadata": {},
     "output_type": "display_data"
    },
    {
     "name": "stdout",
     "output_type": "stream",
     "text": [
      "Lambda solution status: 1\n",
      "V solution status: 1\n"
     ]
    },
    {
     "data": {
      "text/markdown": [
       "$ V(x)=(0.000000000 + 0.000000000x_{0} + 0.000000000x_{1} + 0.003360300x_{0} x_{1} + 1.441666565x_{0}^{2} + 0.072976167x_{1}^{2})$"
      ],
      "text/plain": [
       "<IPython.core.display.Markdown object>"
      ]
     },
     "metadata": {},
     "output_type": "display_data"
    },
    {
     "name": "stdout",
     "output_type": "stream",
     "text": [
      "Lambda solution status: 1\n",
      "V solution status: 1\n"
     ]
    },
    {
     "data": {
      "text/markdown": [
       "$ V(x)=(0.000000000 - 0.000000000x_{0} + 0.000000000x_{1} + 0.002999656x_{0} x_{1} + 1.395795933x_{0}^{2} + 0.070655367x_{1}^{2})$"
      ],
      "text/plain": [
       "<IPython.core.display.Markdown object>"
      ]
     },
     "metadata": {},
     "output_type": "display_data"
    },
    {
     "name": "stdout",
     "output_type": "stream",
     "text": [
      "Lambda solution status: 1\n",
      "V solution status: 1\n"
     ]
    },
    {
     "data": {
      "text/markdown": [
       "$ V(x)=(0.000000000 - 0.000000000x_{0} + 0.000000000x_{1} + 0.002901085x_{0} x_{1} + 1.352952609x_{0}^{2} + 0.068517083x_{1}^{2})$"
      ],
      "text/plain": [
       "<IPython.core.display.Markdown object>"
      ]
     },
     "metadata": {},
     "output_type": "display_data"
    },
    {
     "name": "stdout",
     "output_type": "stream",
     "text": [
      "Lambda solution status: 1\n",
      "V solution status: 1\n"
     ]
    },
    {
     "data": {
      "text/markdown": [
       "$ V(x)=(0.000000000 + 0.000000000x_{0} - 0.000000000x_{1} + 0.002775932x_{0} x_{1} + 1.311584104x_{0}^{2} + 0.066444398x_{1}^{2})$"
      ],
      "text/plain": [
       "<IPython.core.display.Markdown object>"
      ]
     },
     "metadata": {},
     "output_type": "display_data"
    },
    {
     "name": "stdout",
     "output_type": "stream",
     "text": [
      "Lambda solution status: 1\n",
      "V solution status: 1\n"
     ]
    },
    {
     "data": {
      "text/markdown": [
       "$ V(x)=(0.000000000 + 0.000000000x_{0} + 0.000000000x_{1} + 0.002635739x_{0} x_{1} + 1.271645992x_{0}^{2} + 0.064437901x_{1}^{2})$"
      ],
      "text/plain": [
       "<IPython.core.display.Markdown object>"
      ]
     },
     "metadata": {},
     "output_type": "display_data"
    },
    {
     "name": "stdout",
     "output_type": "stream",
     "text": [
      "Lambda solution status: 1\n",
      "V solution status: 1\n"
     ]
    },
    {
     "data": {
      "text/markdown": [
       "$ V(x)=(0.000000000 - 0.000000000x_{0} + 0.000000000x_{1} + 0.002480937x_{0} x_{1} + 1.233056137x_{0}^{2} + 0.062494417x_{1}^{2})$"
      ],
      "text/plain": [
       "<IPython.core.display.Markdown object>"
      ]
     },
     "metadata": {},
     "output_type": "display_data"
    },
    {
     "name": "stdout",
     "output_type": "stream",
     "text": [
      "Lambda solution status: 1\n",
      "V solution status: 1\n"
     ]
    },
    {
     "data": {
      "text/markdown": [
       "$ V(x)=(0.000000000 - 0.000000000x_{0} + 0.000000000x_{1} + 0.002193082x_{0} x_{1} + 1.194776911x_{0}^{2} + 0.060546790x_{1}^{2})$"
      ],
      "text/plain": [
       "<IPython.core.display.Markdown object>"
      ]
     },
     "metadata": {},
     "output_type": "display_data"
    },
    {
     "name": "stdout",
     "output_type": "stream",
     "text": [
      "Lambda solution status: 1\n",
      "V solution status: 1\n"
     ]
    },
    {
     "data": {
      "text/markdown": [
       "$ V(x)=(0.000000000 + 0.000000000x_{0} + 0.000000000x_{1} + 0.002117354x_{0} x_{1} + 1.160387386x_{0}^{2} + 0.058822681x_{1}^{2})$"
      ],
      "text/plain": [
       "<IPython.core.display.Markdown object>"
      ]
     },
     "metadata": {},
     "output_type": "display_data"
    },
    {
     "name": "stdout",
     "output_type": "stream",
     "text": [
      "Lambda solution status: 1\n",
      "V solution status: 1\n"
     ]
    },
    {
     "data": {
      "text/markdown": [
       "$ V(x)=(0.000000000 + 0.000000000x_{0} - 0.000000000x_{1} + 0.001857103x_{0} x_{1} + 1.126133563x_{0}^{2} + 0.057082428x_{1}^{2})$"
      ],
      "text/plain": [
       "<IPython.core.display.Markdown object>"
      ]
     },
     "metadata": {},
     "output_type": "display_data"
    },
    {
     "name": "stdout",
     "output_type": "stream",
     "text": [
      "Lambda solution status: 1\n",
      "V solution status: 1\n"
     ]
    },
    {
     "data": {
      "text/markdown": [
       "$ V(x)=(0.000000000 - 0.000000000x_{0} + 0.000000000x_{1} + 0.001862439x_{0} x_{1} + 1.094730649x_{0}^{2} + 0.055513236x_{1}^{2})$"
      ],
      "text/plain": [
       "<IPython.core.display.Markdown object>"
      ]
     },
     "metadata": {},
     "output_type": "display_data"
    },
    {
     "name": "stdout",
     "output_type": "stream",
     "text": [
      "Lambda solution status: 1\n",
      "V solution status: 1\n"
     ]
    },
    {
     "data": {
      "text/markdown": [
       "$ V(x)=(0.000000000 - 0.000000000x_{0} - 0.000000000x_{1} + 0.001776100x_{0} x_{1} + 1.064725891x_{0}^{2} + 0.054002218x_{1}^{2})$"
      ],
      "text/plain": [
       "<IPython.core.display.Markdown object>"
      ]
     },
     "metadata": {},
     "output_type": "display_data"
    },
    {
     "name": "stdout",
     "output_type": "stream",
     "text": [
      "Lambda solution status: 1\n",
      "V solution status: 1\n"
     ]
    },
    {
     "data": {
      "text/markdown": [
       "$ V(x)=(0.000000000 + 0.000000000x_{0} + 0.000000000x_{1} + 0.001716553x_{0} x_{1} + 1.035988622x_{0}^{2} + 0.052555956x_{1}^{2})$"
      ],
      "text/plain": [
       "<IPython.core.display.Markdown object>"
      ]
     },
     "metadata": {},
     "output_type": "display_data"
    },
    {
     "name": "stdout",
     "output_type": "stream",
     "text": [
      "Lambda solution status: 1\n",
      "V solution status: 1\n"
     ]
    },
    {
     "data": {
      "text/markdown": [
       "$ V(x)=(0.000000000 - 0.000000000x_{0} - 0.000000000x_{1} + 0.001684921x_{0} x_{1} + 1.008205567x_{0}^{2} + 0.051158157x_{1}^{2})$"
      ],
      "text/plain": [
       "<IPython.core.display.Markdown object>"
      ]
     },
     "metadata": {},
     "output_type": "display_data"
    },
    {
     "name": "stdout",
     "output_type": "stream",
     "text": [
      "Lambda solution status: 1\n",
      "V solution status: 1\n"
     ]
    },
    {
     "data": {
      "text/markdown": [
       "$ V(x)=(0.000000000 - 0.000000000x_{0} - 0.000000000x_{1} + 0.001677205x_{0} x_{1} + 0.981008821x_{0}^{2} + 0.049790309x_{1}^{2})$"
      ],
      "text/plain": [
       "<IPython.core.display.Markdown object>"
      ]
     },
     "metadata": {},
     "output_type": "display_data"
    },
    {
     "name": "stdout",
     "output_type": "stream",
     "text": [
      "Lambda solution status: 1\n",
      "V solution status: 1\n"
     ]
    },
    {
     "data": {
      "text/markdown": [
       "$ V(x)=(0.000000000 - 0.000000000x_{0} + 0.000000000x_{1} + 0.001666533x_{0} x_{1} + 0.954441706x_{0}^{2} + 0.048452106x_{1}^{2})$"
      ],
      "text/plain": [
       "<IPython.core.display.Markdown object>"
      ]
     },
     "metadata": {},
     "output_type": "display_data"
    },
    {
     "name": "stdout",
     "output_type": "stream",
     "text": [
      "Lambda solution status: 1\n",
      "V solution status: 1\n"
     ]
    },
    {
     "data": {
      "text/markdown": [
       "$ V(x)=(0.000000000 - 0.000000000x_{0} - 0.000000000x_{1} + 0.001619463x_{0} x_{1} + 0.928450211x_{0}^{2} + 0.047137858x_{1}^{2})$"
      ],
      "text/plain": [
       "<IPython.core.display.Markdown object>"
      ]
     },
     "metadata": {},
     "output_type": "display_data"
    },
    {
     "name": "stdout",
     "output_type": "stream",
     "text": [
      "Lambda solution status: 1\n",
      "V solution status: 1\n"
     ]
    },
    {
     "data": {
      "text/markdown": [
       "$ V(x)=(0.000000000 - 0.000000000x_{0} + 0.000000000x_{1} + 0.001532294x_{0} x_{1} + 0.902875734x_{0}^{2} + 0.045839757x_{1}^{2})$"
      ],
      "text/plain": [
       "<IPython.core.display.Markdown object>"
      ]
     },
     "metadata": {},
     "output_type": "display_data"
    },
    {
     "name": "stdout",
     "output_type": "stream",
     "text": [
      "Lambda solution status: 1\n",
      "V solution status: 1\n"
     ]
    },
    {
     "data": {
      "text/markdown": [
       "$ V(x)=(0.000000000 + 0.000000000x_{0} + 0.000000000x_{1} + 0.001450097x_{0} x_{1} + 0.877665534x_{0}^{2} + 0.044560460x_{1}^{2})$"
      ],
      "text/plain": [
       "<IPython.core.display.Markdown object>"
      ]
     },
     "metadata": {},
     "output_type": "display_data"
    },
    {
     "name": "stdout",
     "output_type": "stream",
     "text": [
      "Lambda solution status: 1\n",
      "V solution status: 1\n"
     ]
    },
    {
     "data": {
      "text/markdown": [
       "$ V(x)=(0.000000000 + 0.000000000x_{0} - 0.000000000x_{1} + 0.001384804x_{0} x_{1} + 0.852525017x_{0}^{2} + 0.043285580x_{1}^{2})$"
      ],
      "text/plain": [
       "<IPython.core.display.Markdown object>"
      ]
     },
     "metadata": {},
     "output_type": "display_data"
    },
    {
     "name": "stdout",
     "output_type": "stream",
     "text": [
      "Lambda solution status: 1\n",
      "V solution status: 1\n"
     ]
    },
    {
     "data": {
      "text/markdown": [
       "$ V(x)=(0.000000000 - 0.000000000x_{0} - 0.000000000x_{1} + 0.001322288x_{0} x_{1} + 0.827437816x_{0}^{2} + 0.042012939x_{1}^{2})$"
      ],
      "text/plain": [
       "<IPython.core.display.Markdown object>"
      ]
     },
     "metadata": {},
     "output_type": "display_data"
    },
    {
     "name": "stdout",
     "output_type": "stream",
     "text": [
      "Lambda solution status: 1\n",
      "V solution status: 1\n"
     ]
    },
    {
     "data": {
      "text/markdown": [
       "$ V(x)=(0.000000000 - 0.000000000x_{0} - 0.000000000x_{1} + 0.001223222x_{0} x_{1} + 0.802199824x_{0}^{2} + 0.040728217x_{1}^{2})$"
      ],
      "text/plain": [
       "<IPython.core.display.Markdown object>"
      ]
     },
     "metadata": {},
     "output_type": "display_data"
    },
    {
     "name": "stdout",
     "output_type": "stream",
     "text": [
      "Lambda solution status: 1\n",
      "V solution status: 1\n"
     ]
    },
    {
     "data": {
      "text/markdown": [
       "$ V(x)=(0.000000000 + 0.000000000x_{0} - 0.000000000x_{1} + 0.001280834x_{0} x_{1} + 0.777612551x_{0}^{2} + 0.039490456x_{1}^{2})$"
      ],
      "text/plain": [
       "<IPython.core.display.Markdown object>"
      ]
     },
     "metadata": {},
     "output_type": "display_data"
    },
    {
     "name": "stdout",
     "output_type": "stream",
     "text": [
      "Lambda solution status: 1\n",
      "V solution status: 1\n"
     ]
    },
    {
     "data": {
      "text/markdown": [
       "$ V(x)=(0.000000000 + 0.000000000x_{0} - 0.000000000x_{1} + 0.001315921x_{0} x_{1} + 0.752996308x_{0}^{2} + 0.038247905x_{1}^{2})$"
      ],
      "text/plain": [
       "<IPython.core.display.Markdown object>"
      ]
     },
     "metadata": {},
     "output_type": "display_data"
    },
    {
     "name": "stdout",
     "output_type": "stream",
     "text": [
      "Lambda solution status: 1\n",
      "V solution status: 1\n"
     ]
    },
    {
     "data": {
      "text/markdown": [
       "$ V(x)=(0.000000000 + 0.000000000x_{0} + 0.000000000x_{1} + 0.001359411x_{0} x_{1} + 0.728570215x_{0}^{2} + 0.037014950x_{1}^{2})$"
      ],
      "text/plain": [
       "<IPython.core.display.Markdown object>"
      ]
     },
     "metadata": {},
     "output_type": "display_data"
    },
    {
     "name": "stdout",
     "output_type": "stream",
     "text": [
      "Lambda solution status: 1\n",
      "V solution status: 1\n"
     ]
    },
    {
     "data": {
      "text/markdown": [
       "$ V(x)=(0.000000000 + 0.000000000x_{0} + 0.000000000x_{1} + 0.001435073x_{0} x_{1} + 0.704485766x_{0}^{2} + 0.035801587x_{1}^{2})$"
      ],
      "text/plain": [
       "<IPython.core.display.Markdown object>"
      ]
     },
     "metadata": {},
     "output_type": "display_data"
    },
    {
     "name": "stdout",
     "output_type": "stream",
     "text": [
      "Lambda solution status: 1\n",
      "V solution status: 1\n"
     ]
    },
    {
     "data": {
      "text/markdown": [
       "$ V(x)=(0.000000000 - 0.000000000x_{0} + 0.000000000x_{1} + 0.001307794x_{0} x_{1} + 0.680340902x_{0}^{2} + 0.034564454x_{1}^{2})$"
      ],
      "text/plain": [
       "<IPython.core.display.Markdown object>"
      ]
     },
     "metadata": {},
     "output_type": "display_data"
    },
    {
     "name": "stdout",
     "output_type": "stream",
     "text": [
      "Lambda solution status: 1\n",
      "V solution status: 1\n"
     ]
    },
    {
     "data": {
      "text/markdown": [
       "$ V(x)=(0.000000000 + 0.000000000x_{0} + 0.000000000x_{1} + 0.001332802x_{0} x_{1} + 0.657049686x_{0}^{2} + 0.033385954x_{1}^{2})$"
      ],
      "text/plain": [
       "<IPython.core.display.Markdown object>"
      ]
     },
     "metadata": {},
     "output_type": "display_data"
    },
    {
     "name": "stdout",
     "output_type": "stream",
     "text": [
      "Lambda solution status: 1\n",
      "V solution status: 1\n"
     ]
    },
    {
     "data": {
      "text/markdown": [
       "$ V(x)=(0.000000000 - 0.000000000x_{0} + 0.000000000x_{1} + 0.001233949x_{0} x_{1} + 0.633751278x_{0}^{2} + 0.032195208x_{1}^{2})$"
      ],
      "text/plain": [
       "<IPython.core.display.Markdown object>"
      ]
     },
     "metadata": {},
     "output_type": "display_data"
    },
    {
     "name": "stdout",
     "output_type": "stream",
     "text": [
      "Lambda solution status: 1\n",
      "V solution status: 1\n"
     ]
    },
    {
     "data": {
      "text/markdown": [
       "$ V(x)=(0.000000000 - 0.000000000x_{0} - 0.000000000x_{1} + 0.001226787x_{0} x_{1} + 0.610693000x_{0}^{2} + 0.031025182x_{1}^{2})$"
      ],
      "text/plain": [
       "<IPython.core.display.Markdown object>"
      ]
     },
     "metadata": {},
     "output_type": "display_data"
    },
    {
     "name": "stdout",
     "output_type": "stream",
     "text": [
      "Lambda solution status: 1\n",
      "V solution status: 1\n"
     ]
    },
    {
     "data": {
      "text/markdown": [
       "$ V(x)=(0.000000000 - 0.000000000x_{0} - 0.000000000x_{1} + 0.001267187x_{0} x_{1} + 0.587317195x_{0}^{2} + 0.029842796x_{1}^{2})$"
      ],
      "text/plain": [
       "<IPython.core.display.Markdown object>"
      ]
     },
     "metadata": {},
     "output_type": "display_data"
    },
    {
     "name": "stdout",
     "output_type": "stream",
     "text": [
      "Lambda solution status: 1\n",
      "V solution status: 1\n"
     ]
    },
    {
     "data": {
      "text/markdown": [
       "$ V(x)=(0.000000000 - 0.000000000x_{0} + 0.000000000x_{1} + 0.001335408x_{0} x_{1} + 0.563360833x_{0}^{2} + 0.028631428x_{1}^{2})$"
      ],
      "text/plain": [
       "<IPython.core.display.Markdown object>"
      ]
     },
     "metadata": {},
     "output_type": "display_data"
    },
    {
     "name": "stdout",
     "output_type": "stream",
     "text": [
      "Lambda solution status: 1\n",
      "V solution status: 1\n"
     ]
    },
    {
     "data": {
      "text/markdown": [
       "$ V(x)=(0.000000000 + 0.000000000x_{0} + 0.000000000x_{1} + 0.001385372x_{0} x_{1} + 0.539461308x_{0}^{2} + 0.027419767x_{1}^{2})$"
      ],
      "text/plain": [
       "<IPython.core.display.Markdown object>"
      ]
     },
     "metadata": {},
     "output_type": "display_data"
    },
    {
     "name": "stdout",
     "output_type": "stream",
     "text": [
      "Lambda solution status: 1\n",
      "V solution status: 1\n"
     ]
    },
    {
     "data": {
      "text/markdown": [
       "$ V(x)=(0.000000000 - 0.000000000x_{0} + 0.000000000x_{1} + 0.001393316x_{0} x_{1} + 0.516042893x_{0}^{2} + 0.026228080x_{1}^{2})$"
      ],
      "text/plain": [
       "<IPython.core.display.Markdown object>"
      ]
     },
     "metadata": {},
     "output_type": "display_data"
    },
    {
     "name": "stdout",
     "output_type": "stream",
     "text": [
      "Lambda solution status: 1\n",
      "V solution status: 1\n"
     ]
    },
    {
     "data": {
      "text/markdown": [
       "$ V(x)=(0.000000000 - 0.000000000x_{0} - 0.000000000x_{1} + 0.001320970x_{0} x_{1} + 0.493075644x_{0}^{2} + 0.025052369x_{1}^{2})$"
      ],
      "text/plain": [
       "<IPython.core.display.Markdown object>"
      ]
     },
     "metadata": {},
     "output_type": "display_data"
    },
    {
     "name": "stdout",
     "output_type": "stream",
     "text": [
      "Lambda solution status: 1\n",
      "V solution status: 1\n"
     ]
    },
    {
     "data": {
      "text/markdown": [
       "$ V(x)=(0.000000000 + 0.000000000x_{0} - 0.000000000x_{1} + 0.001202762x_{0} x_{1} + 0.470391808x_{0}^{2} + 0.023888833x_{1}^{2})$"
      ],
      "text/plain": [
       "<IPython.core.display.Markdown object>"
      ]
     },
     "metadata": {},
     "output_type": "display_data"
    },
    {
     "name": "stdout",
     "output_type": "stream",
     "text": [
      "Lambda solution status: 1\n",
      "V solution status: 1\n"
     ]
    },
    {
     "data": {
      "text/markdown": [
       "$ V(x)=(0.000000000 + 0.000000000x_{0} + 0.000000000x_{1} + 0.001103438x_{0} x_{1} + 0.447954493x_{0}^{2} + 0.022741966x_{1}^{2})$"
      ],
      "text/plain": [
       "<IPython.core.display.Markdown object>"
      ]
     },
     "metadata": {},
     "output_type": "display_data"
    },
    {
     "name": "stdout",
     "output_type": "stream",
     "text": [
      "Lambda solution status: 1\n",
      "V solution status: 1\n"
     ]
    },
    {
     "data": {
      "text/markdown": [
       "$ V(x)=(0.000000000 + 0.000000000x_{0} - 0.000000000x_{1} + 0.001060061x_{0} x_{1} + 0.425984745x_{0}^{2} + 0.021625175x_{1}^{2})$"
      ],
      "text/plain": [
       "<IPython.core.display.Markdown object>"
      ]
     },
     "metadata": {},
     "output_type": "display_data"
    },
    {
     "name": "stdout",
     "output_type": "stream",
     "text": [
      "Lambda solution status: 1\n",
      "V solution status: 1\n"
     ]
    },
    {
     "data": {
      "text/markdown": [
       "$ V(x)=(0.000000000 + 0.000000000x_{0} - 0.000000000x_{1} + 0.001012664x_{0} x_{1} + 0.403864197x_{0}^{2} + 0.020500873x_{1}^{2})$"
      ],
      "text/plain": [
       "<IPython.core.display.Markdown object>"
      ]
     },
     "metadata": {},
     "output_type": "display_data"
    },
    {
     "name": "stdout",
     "output_type": "stream",
     "text": [
      "Lambda solution status: 1\n",
      "V solution status: 1\n"
     ]
    },
    {
     "data": {
      "text/markdown": [
       "$ V(x)=(0.000000000 - 0.000000000x_{0} + 0.000000000x_{1} + 0.000946973x_{0} x_{1} + 0.382762940x_{0}^{2} + 0.019427408x_{1}^{2})$"
      ],
      "text/plain": [
       "<IPython.core.display.Markdown object>"
      ]
     },
     "metadata": {},
     "output_type": "display_data"
    },
    {
     "name": "stdout",
     "output_type": "stream",
     "text": [
      "Lambda solution status: 1\n",
      "V solution status: 1\n"
     ]
    },
    {
     "data": {
      "text/markdown": [
       "$ V(x)=(0.000000000 + 0.000000000x_{0} - 0.000000000x_{1} + 0.000874901x_{0} x_{1} + 0.363024023x_{0}^{2} + 0.018423595x_{1}^{2})$"
      ],
      "text/plain": [
       "<IPython.core.display.Markdown object>"
      ]
     },
     "metadata": {},
     "output_type": "display_data"
    },
    {
     "name": "stdout",
     "output_type": "stream",
     "text": [
      "Lambda solution status: 1\n",
      "V solution status: 1\n"
     ]
    },
    {
     "data": {
      "text/markdown": [
       "$ V(x)=(0.000000000 + 0.000000000x_{0} + 0.000000000x_{1} + 0.000794229x_{0} x_{1} + 0.345268861x_{0}^{2} + 0.017520991x_{1}^{2})$"
      ],
      "text/plain": [
       "<IPython.core.display.Markdown object>"
      ]
     },
     "metadata": {},
     "output_type": "display_data"
    },
    {
     "name": "stdout",
     "output_type": "stream",
     "text": [
      "Lambda solution status: 1\n",
      "V solution status: 1\n"
     ]
    },
    {
     "data": {
      "text/markdown": [
       "$ V(x)=(0.000000000 + 0.000000000x_{0} - 0.000000000x_{1} + 0.000721482x_{0} x_{1} + 0.329191490x_{0}^{2} + 0.016704651x_{1}^{2})$"
      ],
      "text/plain": [
       "<IPython.core.display.Markdown object>"
      ]
     },
     "metadata": {},
     "output_type": "display_data"
    },
    {
     "name": "stdout",
     "output_type": "stream",
     "text": [
      "Lambda solution status: 1\n",
      "V solution status: 1\n"
     ]
    },
    {
     "data": {
      "text/markdown": [
       "$ V(x)=(0.000000000 + 0.000000000x_{0} + 0.000000000x_{1} + 0.000670878x_{0} x_{1} + 0.313798483x_{0}^{2} + 0.015924662x_{1}^{2})$"
      ],
      "text/plain": [
       "<IPython.core.display.Markdown object>"
      ]
     },
     "metadata": {},
     "output_type": "display_data"
    },
    {
     "name": "stdout",
     "output_type": "stream",
     "text": [
      "Lambda solution status: 1\n",
      "V solution status: 1\n"
     ]
    },
    {
     "data": {
      "text/markdown": [
       "$ V(x)=(0.000000000 - 0.000000000x_{0} + 0.000000000x_{1} + 0.000594477x_{0} x_{1} + 0.299311728x_{0}^{2} + 0.015188758x_{1}^{2})$"
      ],
      "text/plain": [
       "<IPython.core.display.Markdown object>"
      ]
     },
     "metadata": {},
     "output_type": "display_data"
    },
    {
     "name": "stdout",
     "output_type": "stream",
     "text": [
      "Lambda solution status: 1\n",
      "V solution status: 1\n"
     ]
    },
    {
     "data": {
      "text/markdown": [
       "$ V(x)=(0.000000000 - 0.000000000x_{0} + 0.000000000x_{1} + 0.000519307x_{0} x_{1} + 0.285572663x_{0}^{2} + 0.014490827x_{1}^{2})$"
      ],
      "text/plain": [
       "<IPython.core.display.Markdown object>"
      ]
     },
     "metadata": {},
     "output_type": "display_data"
    },
    {
     "name": "stdout",
     "output_type": "stream",
     "text": [
      "Lambda solution status: 1\n",
      "V solution status: 1\n"
     ]
    },
    {
     "data": {
      "text/markdown": [
       "$ V(x)=(0.000000000 - 0.000000000x_{0} + 0.000000000x_{1} + 0.000455621x_{0} x_{1} + 0.272608583x_{0}^{2} + 0.013832805x_{1}^{2})$"
      ],
      "text/plain": [
       "<IPython.core.display.Markdown object>"
      ]
     },
     "metadata": {},
     "output_type": "display_data"
    },
    {
     "name": "stdout",
     "output_type": "stream",
     "text": [
      "Lambda solution status: 1\n",
      "V solution status: 1\n"
     ]
    },
    {
     "data": {
      "text/markdown": [
       "$ V(x)=(0.000000000 + 0.000000000x_{0} + 0.000000000x_{1} + 0.000405973x_{0} x_{1} + 0.260382335x_{0}^{2} + 0.013212866x_{1}^{2})$"
      ],
      "text/plain": [
       "<IPython.core.display.Markdown object>"
      ]
     },
     "metadata": {},
     "output_type": "display_data"
    },
    {
     "name": "stdout",
     "output_type": "stream",
     "text": [
      "Lambda solution status: 1\n",
      "V solution status: 1\n"
     ]
    },
    {
     "data": {
      "text/markdown": [
       "$ V(x)=(0.000000000 - 0.000000000x_{0} - 0.000000000x_{1} + 0.000364537x_{0} x_{1} + 0.248704135x_{0}^{2} + 0.012621018x_{1}^{2})$"
      ],
      "text/plain": [
       "<IPython.core.display.Markdown object>"
      ]
     },
     "metadata": {},
     "output_type": "display_data"
    },
    {
     "name": "stdout",
     "output_type": "stream",
     "text": [
      "Lambda solution status: 1\n",
      "V solution status: 1\n"
     ]
    },
    {
     "data": {
      "text/markdown": [
       "$ V(x)=(0.000000000 + 0.000000000x_{0} + 0.000000000x_{1} + 0.000330596x_{0} x_{1} + 0.237499855x_{0}^{2} + 0.012053380x_{1}^{2})$"
      ],
      "text/plain": [
       "<IPython.core.display.Markdown object>"
      ]
     },
     "metadata": {},
     "output_type": "display_data"
    },
    {
     "name": "stdout",
     "output_type": "stream",
     "text": [
      "Lambda solution status: 1\n",
      "V solution status: 1\n"
     ]
    },
    {
     "data": {
      "text/markdown": [
       "$ V(x)=(0.000000000 + 0.000000000x_{0} - 0.000000000x_{1} + 0.000302745x_{0} x_{1} + 0.226734020x_{0}^{2} + 0.011508016x_{1}^{2})$"
      ],
      "text/plain": [
       "<IPython.core.display.Markdown object>"
      ]
     },
     "metadata": {},
     "output_type": "display_data"
    },
    {
     "name": "stdout",
     "output_type": "stream",
     "text": [
      "Lambda solution status: 1\n",
      "V solution status: 1\n"
     ]
    },
    {
     "data": {
      "text/markdown": [
       "$ V(x)=(0.000000000 - 0.000000000x_{0} - 0.000000000x_{1} + 0.000279436x_{0} x_{1} + 0.216428918x_{0}^{2} + 0.010985898x_{1}^{2})$"
      ],
      "text/plain": [
       "<IPython.core.display.Markdown object>"
      ]
     },
     "metadata": {},
     "output_type": "display_data"
    },
    {
     "name": "stdout",
     "output_type": "stream",
     "text": [
      "Lambda solution status: 1\n",
      "V solution status: 1\n"
     ]
    },
    {
     "data": {
      "text/markdown": [
       "$ V(x)=(0.000000000 - 0.000000000x_{0} - 0.000000000x_{1} + 0.000251205x_{0} x_{1} + 0.206278470x_{0}^{2} + 0.010471338x_{1}^{2})$"
      ],
      "text/plain": [
       "<IPython.core.display.Markdown object>"
      ]
     },
     "metadata": {},
     "output_type": "display_data"
    },
    {
     "name": "stdout",
     "output_type": "stream",
     "text": [
      "Lambda solution status: 1\n",
      "V solution status: 1\n"
     ]
    },
    {
     "data": {
      "text/markdown": [
       "$ V(x)=(0.000000000 - 0.000000000x_{0} + 0.000000000x_{1} + 0.000226666x_{0} x_{1} + 0.196535310x_{0}^{2} + 0.009977489x_{1}^{2})$"
      ],
      "text/plain": [
       "<IPython.core.display.Markdown object>"
      ]
     },
     "metadata": {},
     "output_type": "display_data"
    },
    {
     "name": "stdout",
     "output_type": "stream",
     "text": [
      "Lambda solution status: 1\n",
      "V solution status: 1\n"
     ]
    },
    {
     "data": {
      "text/markdown": [
       "$ V(x)=(0.000000000 + 0.000000000x_{0} + 0.000000000x_{1} + 0.000205930x_{0} x_{1} + 0.187323639x_{0}^{2} + 0.009510540x_{1}^{2})$"
      ],
      "text/plain": [
       "<IPython.core.display.Markdown object>"
      ]
     },
     "metadata": {},
     "output_type": "display_data"
    },
    {
     "name": "stdout",
     "output_type": "stream",
     "text": [
      "Lambda solution status: 1\n",
      "V solution status: 1\n"
     ]
    },
    {
     "data": {
      "text/markdown": [
       "$ V(x)=(0.000000000 - 0.000000000x_{0} - 0.000000000x_{1} + 0.000189697x_{0} x_{1} + 0.178455748x_{0}^{2} + 0.009061085x_{1}^{2})$"
      ],
      "text/plain": [
       "<IPython.core.display.Markdown object>"
      ]
     },
     "metadata": {},
     "output_type": "display_data"
    },
    {
     "name": "stdout",
     "output_type": "stream",
     "text": [
      "Lambda solution status: 1\n",
      "V solution status: 1\n"
     ]
    },
    {
     "data": {
      "text/markdown": [
       "$ V(x)=(0.000000000 + 0.000000000x_{0} + 0.000000000x_{1} + 0.000173835x_{0} x_{1} + 0.169815685x_{0}^{2} + 0.008623124x_{1}^{2})$"
      ],
      "text/plain": [
       "<IPython.core.display.Markdown object>"
      ]
     },
     "metadata": {},
     "output_type": "display_data"
    },
    {
     "name": "stdout",
     "output_type": "stream",
     "text": [
      "Lambda solution status: 1\n",
      "V solution status: 1\n"
     ]
    },
    {
     "data": {
      "text/markdown": [
       "$ V(x)=(0.000000000 - 0.000000000x_{0} + 0.000000000x_{1} + 0.000159028x_{0} x_{1} + 0.161463444x_{0}^{2} + 0.008199689x_{1}^{2})$"
      ],
      "text/plain": [
       "<IPython.core.display.Markdown object>"
      ]
     },
     "metadata": {},
     "output_type": "display_data"
    },
    {
     "name": "stdout",
     "output_type": "stream",
     "text": [
      "Lambda solution status: 1\n",
      "V solution status: 1\n"
     ]
    },
    {
     "data": {
      "text/markdown": [
       "$ V(x)=(0.000000000 + 0.000000000x_{0} + 0.000000000x_{1} + 0.000145554x_{0} x_{1} + 0.153409301x_{0}^{2} + 0.007791304x_{1}^{2})$"
      ],
      "text/plain": [
       "<IPython.core.display.Markdown object>"
      ]
     },
     "metadata": {},
     "output_type": "display_data"
    },
    {
     "name": "stdout",
     "output_type": "stream",
     "text": [
      "Lambda solution status: 1\n",
      "V solution status: 1\n"
     ]
    },
    {
     "data": {
      "text/markdown": [
       "$ V(x)=(0.000000000 + 0.000000000x_{0} + 0.000000000x_{1} + 0.000133603x_{0} x_{1} + 0.145622949x_{0}^{2} + 0.007396443x_{1}^{2})$"
      ],
      "text/plain": [
       "<IPython.core.display.Markdown object>"
      ]
     },
     "metadata": {},
     "output_type": "display_data"
    },
    {
     "name": "stdout",
     "output_type": "stream",
     "text": [
      "Lambda solution status: 1\n",
      "V solution status: 1\n"
     ]
    },
    {
     "data": {
      "text/markdown": [
       "$ V(x)=(0.000000000 + 0.000000000x_{0} + 0.000000000x_{1} + 0.000127482x_{0} x_{1} + 0.138079331x_{0}^{2} + 0.007013925x_{1}^{2})$"
      ],
      "text/plain": [
       "<IPython.core.display.Markdown object>"
      ]
     },
     "metadata": {},
     "output_type": "display_data"
    },
    {
     "name": "stdout",
     "output_type": "stream",
     "text": [
      "Lambda solution status: 1\n",
      "V solution status: 1\n"
     ]
    },
    {
     "data": {
      "text/markdown": [
       "$ V(x)=(0.000000000 - 0.000000000x_{0} + 0.000000000x_{1} + 0.000118285x_{0} x_{1} + 0.130849674x_{0}^{2} + 0.006647126x_{1}^{2})$"
      ],
      "text/plain": [
       "<IPython.core.display.Markdown object>"
      ]
     },
     "metadata": {},
     "output_type": "display_data"
    },
    {
     "name": "stdout",
     "output_type": "stream",
     "text": [
      "Lambda solution status: 1\n",
      "V solution status: 1\n"
     ]
    },
    {
     "data": {
      "text/markdown": [
       "$ V(x)=(0.000000000 + 0.000000000x_{0} + 0.000000000x_{1} + 0.000108618x_{0} x_{1} + 0.123890726x_{0}^{2} + 0.006293976x_{1}^{2})$"
      ],
      "text/plain": [
       "<IPython.core.display.Markdown object>"
      ]
     },
     "metadata": {},
     "output_type": "display_data"
    },
    {
     "name": "stdout",
     "output_type": "stream",
     "text": [
      "Lambda solution status: 1\n",
      "V solution status: 1\n"
     ]
    },
    {
     "data": {
      "text/markdown": [
       "$ V(x)=(0.000000000 - 0.000000000x_{0} + 0.000000000x_{1} + 0.000099318x_{0} x_{1} + 0.117193038x_{0}^{2} + 0.005954038x_{1}^{2})$"
      ],
      "text/plain": [
       "<IPython.core.display.Markdown object>"
      ]
     },
     "metadata": {},
     "output_type": "display_data"
    },
    {
     "name": "stdout",
     "output_type": "stream",
     "text": [
      "Lambda solution status: 1\n",
      "V solution status: 1\n"
     ]
    },
    {
     "data": {
      "text/markdown": [
       "$ V(x)=(0.000000000 + 0.000000000x_{0} + 0.000000000x_{1} + 0.000090762x_{0} x_{1} + 0.110744208x_{0}^{2} + 0.005626701x_{1}^{2})$"
      ],
      "text/plain": [
       "<IPython.core.display.Markdown object>"
      ]
     },
     "metadata": {},
     "output_type": "display_data"
    },
    {
     "name": "stdout",
     "output_type": "stream",
     "text": [
      "Lambda solution status: 1\n",
      "V solution status: 1\n"
     ]
    },
    {
     "data": {
      "text/markdown": [
       "$ V(x)=(0.000000000 + 0.000000000x_{0} + 0.000000000x_{1} + 0.000083075x_{0} x_{1} + 0.104526785x_{0}^{2} + 0.005311087x_{1}^{2})$"
      ],
      "text/plain": [
       "<IPython.core.display.Markdown object>"
      ]
     },
     "metadata": {},
     "output_type": "display_data"
    },
    {
     "name": "stdout",
     "output_type": "stream",
     "text": [
      "Lambda solution status: 1\n",
      "V solution status: 1\n"
     ]
    },
    {
     "data": {
      "text/markdown": [
       "$ V(x)=(0.000000000 + 0.000000000x_{0} - 0.000000000x_{1} + 0.000076624x_{0} x_{1} + 0.098498474x_{0}^{2} + 0.005005063x_{1}^{2})$"
      ],
      "text/plain": [
       "<IPython.core.display.Markdown object>"
      ]
     },
     "metadata": {},
     "output_type": "display_data"
    },
    {
     "name": "stdout",
     "output_type": "stream",
     "text": [
      "Lambda solution status: 1\n",
      "V solution status: 1\n"
     ]
    },
    {
     "data": {
      "text/markdown": [
       "$ V(x)=(0.000000000 - 0.000000000x_{0} - 0.000000000x_{1} + 0.000071178x_{0} x_{1} + 0.092634099x_{0}^{2} + 0.004707345x_{1}^{2})$"
      ],
      "text/plain": [
       "<IPython.core.display.Markdown object>"
      ]
     },
     "metadata": {},
     "output_type": "display_data"
    },
    {
     "name": "stdout",
     "output_type": "stream",
     "text": [
      "Lambda solution status: 1\n",
      "V solution status: 1\n"
     ]
    },
    {
     "data": {
      "text/markdown": [
       "$ V(x)=(0.000000000 - 0.000000000x_{0} - 0.000000000x_{1} + 0.000066653x_{0} x_{1} + 0.086903837x_{0}^{2} + 0.004416418x_{1}^{2})$"
      ],
      "text/plain": [
       "<IPython.core.display.Markdown object>"
      ]
     },
     "metadata": {},
     "output_type": "display_data"
    },
    {
     "name": "stdout",
     "output_type": "stream",
     "text": [
      "Lambda solution status: 1\n",
      "V solution status: 1\n"
     ]
    },
    {
     "data": {
      "text/markdown": [
       "$ V(x)=(0.000000000 - 0.000000000x_{0} - 0.000000000x_{1} + 0.000063016x_{0} x_{1} + 0.081270267x_{0}^{2} + 0.004130382x_{1}^{2})$"
      ],
      "text/plain": [
       "<IPython.core.display.Markdown object>"
      ]
     },
     "metadata": {},
     "output_type": "display_data"
    },
    {
     "name": "stdout",
     "output_type": "stream",
     "text": [
      "Lambda solution status: 1\n",
      "V solution status: 1\n"
     ]
    },
    {
     "data": {
      "text/markdown": [
       "$ V(x)=(0.000000000 - 0.000000000x_{0} - 0.000000000x_{1} + 0.000058908x_{0} x_{1} + 0.075770503x_{0}^{2} + 0.003851110x_{1}^{2})$"
      ],
      "text/plain": [
       "<IPython.core.display.Markdown object>"
      ]
     },
     "metadata": {},
     "output_type": "display_data"
    },
    {
     "name": "stdout",
     "output_type": "stream",
     "text": [
      "Lambda solution status: 1\n",
      "V solution status: 1\n"
     ]
    },
    {
     "data": {
      "text/markdown": [
       "$ V(x)=(0.000000000 - 0.000000000x_{0} + 0.000000000x_{1} + 0.000057274x_{0} x_{1} + 0.070240877x_{0}^{2} + 0.003567023x_{1}^{2})$"
      ],
      "text/plain": [
       "<IPython.core.display.Markdown object>"
      ]
     },
     "metadata": {},
     "output_type": "display_data"
    },
    {
     "name": "stdout",
     "output_type": "stream",
     "text": [
      "Lambda solution status: 1\n",
      "V solution status: 1\n"
     ]
    },
    {
     "data": {
      "text/markdown": [
       "$ V(x)=(0.000000000 - 0.000000000x_{0} - 0.000000000x_{1} + 0.000058076x_{0} x_{1} + 0.064361959x_{0}^{2} + 0.003272662x_{1}^{2})$"
      ],
      "text/plain": [
       "<IPython.core.display.Markdown object>"
      ]
     },
     "metadata": {},
     "output_type": "display_data"
    },
    {
     "name": "stdout",
     "output_type": "stream",
     "text": [
      "Lambda solution status: 1\n",
      "V solution status: 1\n"
     ]
    },
    {
     "data": {
      "text/markdown": [
       "$ V(x)=(0.000000000 + 0.000000000x_{0} + 0.000000000x_{1} + 0.000060825x_{0} x_{1} + 0.058294614x_{0}^{2} + 0.002964426x_{1}^{2})$"
      ],
      "text/plain": [
       "<IPython.core.display.Markdown object>"
      ]
     },
     "metadata": {},
     "output_type": "display_data"
    },
    {
     "name": "stdout",
     "output_type": "stream",
     "text": [
      "Lambda solution status: 1\n",
      "V solution status: 1\n"
     ]
    },
    {
     "data": {
      "text/markdown": [
       "$ V(x)=(0.000000000 - 0.000000000x_{0} + 0.000000000x_{1} + 0.000060507x_{0} x_{1} + 0.052435859x_{0}^{2} + 0.002666644x_{1}^{2})$"
      ],
      "text/plain": [
       "<IPython.core.display.Markdown object>"
      ]
     },
     "metadata": {},
     "output_type": "display_data"
    },
    {
     "name": "stdout",
     "output_type": "stream",
     "text": [
      "Lambda solution status: 1\n",
      "V solution status: 1\n"
     ]
    },
    {
     "data": {
      "text/markdown": [
       "$ V(x)=(0.000000000 + 0.000000000x_{0} - 0.000000000x_{1} + 0.000056530x_{0} x_{1} + 0.047054635x_{0}^{2} + 0.002393008x_{1}^{2})$"
      ],
      "text/plain": [
       "<IPython.core.display.Markdown object>"
      ]
     },
     "metadata": {},
     "output_type": "display_data"
    },
    {
     "name": "stdout",
     "output_type": "stream",
     "text": [
      "Lambda solution status: 1\n",
      "V solution status: 1\n"
     ]
    },
    {
     "data": {
      "text/markdown": [
       "$ V(x)=(0.000000000 - 0.000000000x_{0} + 0.000000000x_{1} + 0.000049908x_{0} x_{1} + 0.042303483x_{0}^{2} + 0.002151331x_{1}^{2})$"
      ],
      "text/plain": [
       "<IPython.core.display.Markdown object>"
      ]
     },
     "metadata": {},
     "output_type": "display_data"
    },
    {
     "name": "stdout",
     "output_type": "stream",
     "text": [
      "Lambda solution status: 1\n",
      "V solution status: 1\n"
     ]
    },
    {
     "data": {
      "text/markdown": [
       "$ V(x)=(0.000000000 + 0.000000000x_{0} + 0.000000000x_{1} + 0.000042209x_{0} x_{1} + 0.038204893x_{0}^{2} + 0.001942813x_{1}^{2})$"
      ],
      "text/plain": [
       "<IPython.core.display.Markdown object>"
      ]
     },
     "metadata": {},
     "output_type": "display_data"
    },
    {
     "name": "stdout",
     "output_type": "stream",
     "text": [
      "Lambda solution status: 1\n",
      "V solution status: 1\n"
     ]
    },
    {
     "data": {
      "text/markdown": [
       "$ V(x)=(0.000000000 - 0.000000000x_{0} + 0.000000000x_{1} + 0.000034734x_{0} x_{1} + 0.034491964x_{0}^{2} + 0.001753955x_{1}^{2})$"
      ],
      "text/plain": [
       "<IPython.core.display.Markdown object>"
      ]
     },
     "metadata": {},
     "output_type": "display_data"
    },
    {
     "name": "stdout",
     "output_type": "stream",
     "text": [
      "Lambda solution status: 1\n",
      "V solution status: 1\n"
     ]
    },
    {
     "data": {
      "text/markdown": [
       "$ V(x)=(0.000000000 + 0.000000000x_{0} + 0.000000000x_{1} + 0.000028063x_{0} x_{1} + 0.031217333x_{0}^{2} + 0.001587402x_{1}^{2})$"
      ],
      "text/plain": [
       "<IPython.core.display.Markdown object>"
      ]
     },
     "metadata": {},
     "output_type": "display_data"
    },
    {
     "name": "stdout",
     "output_type": "stream",
     "text": [
      "Lambda solution status: 1\n",
      "V solution status: 1\n"
     ]
    },
    {
     "data": {
      "text/markdown": [
       "$ V(x)=(0.000000000 - 0.000000000x_{0} - 0.000000000x_{1} + 0.000022399x_{0} x_{1} + 0.028321596x_{0}^{2} + 0.001440134x_{1}^{2})$"
      ],
      "text/plain": [
       "<IPython.core.display.Markdown object>"
      ]
     },
     "metadata": {},
     "output_type": "display_data"
    },
    {
     "name": "stdout",
     "output_type": "stream",
     "text": [
      "Lambda solution status: 1\n",
      "V solution status: 1\n"
     ]
    },
    {
     "data": {
      "text/markdown": [
       "$ V(x)=(0.000000000 - 0.000000000x_{0} + 0.000000000x_{1} + 0.000017506x_{0} x_{1} + 0.025803038x_{0}^{2} + 0.001312052x_{1}^{2})$"
      ],
      "text/plain": [
       "<IPython.core.display.Markdown object>"
      ]
     },
     "metadata": {},
     "output_type": "display_data"
    },
    {
     "name": "stdout",
     "output_type": "stream",
     "text": [
      "Lambda solution status: 1\n",
      "V solution status: 1\n"
     ]
    },
    {
     "data": {
      "text/markdown": [
       "$ V(x)=(0.000000000 + 0.000000000x_{0} + 0.000000000x_{1} + 0.000013287x_{0} x_{1} + 0.023648981x_{0}^{2} + 0.001202509x_{1}^{2})$"
      ],
      "text/plain": [
       "<IPython.core.display.Markdown object>"
      ]
     },
     "metadata": {},
     "output_type": "display_data"
    },
    {
     "name": "stdout",
     "output_type": "stream",
     "text": [
      "Lambda solution status: 1\n",
      "V solution status: 1\n"
     ]
    },
    {
     "data": {
      "text/markdown": [
       "$ V(x)=(0.000000000 - 0.000000000x_{0} - 0.000000000x_{1} + 0.000010087x_{0} x_{1} + 0.021748206x_{0}^{2} + 0.001105852x_{1}^{2})$"
      ],
      "text/plain": [
       "<IPython.core.display.Markdown object>"
      ]
     },
     "metadata": {},
     "output_type": "display_data"
    },
    {
     "name": "stdout",
     "output_type": "stream",
     "text": [
      "Lambda solution status: 1\n"
     ]
    },
    {
     "ename": "KeyboardInterrupt",
     "evalue": "",
     "output_type": "error",
     "traceback": [
      "\u001b[0;31m---------------------------------------------------------------------------\u001b[0m",
      "\u001b[0;31mKeyboardInterrupt\u001b[0m                         Traceback (most recent call last)",
      "\u001b[0;32m<ipython-input-5-89f64d5328ec>\u001b[0m in \u001b[0;36m<module>\u001b[0;34m\u001b[0m\n\u001b[1;32m    112\u001b[0m \u001b[0;34m\u001b[0m\u001b[0m\n\u001b[1;32m    113\u001b[0m \u001b[0mV_degree\u001b[0m \u001b[0;34m=\u001b[0m \u001b[0;36m2\u001b[0m\u001b[0;34m\u001b[0m\u001b[0;34m\u001b[0m\u001b[0m\n\u001b[0;32m--> 114\u001b[0;31m \u001b[0mV\u001b[0m\u001b[0;34m,\u001b[0m \u001b[0mQ\u001b[0m \u001b[0;34m=\u001b[0m \u001b[0mproblem_solver_implicit\u001b[0m\u001b[0;34m(\u001b[0m\u001b[0mP\u001b[0m\u001b[0;34m,\u001b[0m \u001b[0mV_degree\u001b[0m\u001b[0;34m)\u001b[0m\u001b[0;34m\u001b[0m\u001b[0;34m\u001b[0m\u001b[0m\n\u001b[0m",
      "\u001b[0;32m<ipython-input-5-89f64d5328ec>\u001b[0m in \u001b[0;36mproblem_solver_implicit\u001b[0;34m(S, V_degree)\u001b[0m\n\u001b[1;32m    103\u001b[0m \u001b[0;31m#         print(alpha)\u001b[0m\u001b[0;34m\u001b[0m\u001b[0;34m\u001b[0m\u001b[0;34m\u001b[0m\u001b[0m\n\u001b[1;32m    104\u001b[0m \u001b[0;34m\u001b[0m\u001b[0m\n\u001b[0;32m--> 105\u001b[0;31m         \u001b[0mV\u001b[0m\u001b[0;34m,\u001b[0m \u001b[0mQ\u001b[0m \u001b[0;34m=\u001b[0m \u001b[0mfind_implicit_V\u001b[0m\u001b[0;34m(\u001b[0m\u001b[0mx\u001b[0m\u001b[0;34m,\u001b[0m \u001b[0mxd\u001b[0m\u001b[0;34m,\u001b[0m \u001b[0mlambda_\u001b[0m\u001b[0;34m,\u001b[0m \u001b[0mlambda_g\u001b[0m\u001b[0;34m,\u001b[0m \u001b[0mg_poly\u001b[0m\u001b[0;34m,\u001b[0m \u001b[0mV_degree\u001b[0m\u001b[0;34m)\u001b[0m\u001b[0;34m\u001b[0m\u001b[0;34m\u001b[0m\u001b[0m\n\u001b[0m\u001b[1;32m    106\u001b[0m \u001b[0;34m\u001b[0m\u001b[0m\n\u001b[1;32m    107\u001b[0m         \u001b[0mVdot\u001b[0m \u001b[0;34m=\u001b[0m \u001b[0mV\u001b[0m\u001b[0;34m.\u001b[0m\u001b[0mJacobian\u001b[0m\u001b[0;34m(\u001b[0m\u001b[0mx\u001b[0m\u001b[0;34m)\u001b[0m\u001b[0;34m.\u001b[0m\u001b[0mdot\u001b[0m\u001b[0;34m(\u001b[0m\u001b[0mxd\u001b[0m\u001b[0;34m)\u001b[0m\u001b[0;34m\u001b[0m\u001b[0;34m\u001b[0m\u001b[0m\n",
      "\u001b[0;32m<ipython-input-5-89f64d5328ec>\u001b[0m in \u001b[0;36mfind_implicit_V\u001b[0;34m(x, xd, lambda_, lambda_g, g, V_degree)\u001b[0m\n\u001b[1;32m     61\u001b[0m \u001b[0;34m\u001b[0m\u001b[0m\n\u001b[1;32m     62\u001b[0m     \u001b[0msolver\u001b[0m \u001b[0;34m=\u001b[0m \u001b[0mMosekSolver\u001b[0m\u001b[0;34m(\u001b[0m\u001b[0;34m)\u001b[0m\u001b[0;34m\u001b[0m\u001b[0;34m\u001b[0m\u001b[0m\n\u001b[0;32m---> 63\u001b[0;31m     \u001b[0mresult\u001b[0m \u001b[0;34m=\u001b[0m \u001b[0msolver\u001b[0m\u001b[0;34m.\u001b[0m\u001b[0mSolve\u001b[0m\u001b[0;34m(\u001b[0m\u001b[0mprog\u001b[0m\u001b[0;34m)\u001b[0m\u001b[0;34m\u001b[0m\u001b[0;34m\u001b[0m\u001b[0m\n\u001b[0m\u001b[1;32m     64\u001b[0m \u001b[0;34m\u001b[0m\u001b[0m\n\u001b[1;32m     65\u001b[0m     \u001b[0mk\u001b[0m \u001b[0;34m=\u001b[0m \u001b[0mresult\u001b[0m\u001b[0;34m.\u001b[0m\u001b[0mget_solver_details\u001b[0m\u001b[0;34m(\u001b[0m\u001b[0;34m)\u001b[0m\u001b[0;34m.\u001b[0m\u001b[0msolution_status\u001b[0m\u001b[0;34m\u001b[0m\u001b[0;34m\u001b[0m\u001b[0m\n",
      "\u001b[0;31mKeyboardInterrupt\u001b[0m: "
     ]
    }
   ],
   "source": [
    "#doing the van der pol oscillator implicitly\n",
    "\n",
    "from pydrake.solvers.mathematicalprogram import MathematicalProgram, SolverOptions, Solve\n",
    "from pydrake.solvers.csdp import CsdpSolver\n",
    "from pydrake.solvers.mosek import MosekSolver\n",
    "\n",
    "negative_infinity = float('-inf')\n",
    "\n",
    "def find_implicit_lambdas(x, xd, V, Vdot, g):\n",
    "    prog = MathematicalProgram()\n",
    "    prog.AddIndeterminates(x)\n",
    "    prog.AddIndeterminates(xd)\n",
    "        \n",
    "    y = np.hstack([x, xd])\n",
    "    \n",
    "    l_deg = math.ceil(V.TotalDegree()/2) * 2\n",
    "    \n",
    "    lambda_ = prog.NewSosPolynomial(Variables(y), l_deg)[0]\n",
    "    \n",
    "    lambda_g = []\n",
    "    \n",
    "    for i in range(g.size): \n",
    "        gi_deg = max(l_deg + V.TotalDegree() - g[i].TotalDegree(), 0)\n",
    "        lambda_g.append(prog.NewFreePolynomial(Variables(y), gi_deg))\n",
    "        \n",
    "    lambda_g = np.array(lambda_g)    \n",
    "  \n",
    "    prog.AddSosConstraint(-Vdot + lambda_*(V - 1) + lambda_g.dot(g))\n",
    "        \n",
    "    solver = MosekSolver()\n",
    "    result = solver.Solve(prog)\n",
    "    \n",
    "    k = result.get_solver_details().solution_status\n",
    "                \n",
    "    print(\"Lambda solution status: \" + str(k))\n",
    "    \n",
    "    assert result.is_success()\n",
    "    \n",
    "    lambda_g_results = []\n",
    "    \n",
    "    for i in range(g.size):\n",
    "        lambda_g_results.append(result.GetSolution(lambda_g[i]).RemoveTermsWithSmallCoefficients(1e-5))\n",
    "    \n",
    "    return result.GetSolution(lambda_).RemoveTermsWithSmallCoefficients(1e-5), np.array(lambda_g_results)\n",
    "\n",
    "def find_implicit_V(x, xd, lambda_, lambda_g, g, V_degree):\n",
    "    prog = MathematicalProgram()\n",
    "    prog.AddIndeterminates(x)\n",
    "    prog.AddIndeterminates(xd)\n",
    "    \n",
    "    y = np.hstack([x, xd])\n",
    "        \n",
    "    V, Q = prog.NewSosPolynomial(Variables(x), V_degree)\n",
    "    Vdot = V.Jacobian(x).dot(xd)\n",
    "    \n",
    "    prog.AddSosConstraint(-Vdot + lambda_*(V - 1) + lambda_g.dot(g))\n",
    "    \n",
    "    prog.AddLinearCost(np.trace(Q))    \n",
    "    #prog.AddLinearConstraint(V.ToExpression().Substitute({x[0]: 0, x[1]:0, xd[0]: 0, xd[1]: 0}) == 0)\n",
    "    prog.AddLinearConstraint(V.ToExpression().Substitute({x[0]: 0, x[1]:0}) == 0)\n",
    "    \n",
    "    solver = MosekSolver()\n",
    "    result = solver.Solve(prog)\n",
    "    \n",
    "    k = result.get_solver_details().solution_status\n",
    "                \n",
    "    print(\"V solution status: \" + str(k))\n",
    "    \n",
    "    assert result.is_success()\n",
    "        \n",
    "    return result.GetSolution(V), result.GetSolution(Q)\n",
    "\n",
    "\n",
    "def problem_solver_implicit(S, V_degree):\n",
    "    prog = MathematicalProgram()\n",
    "    x = prog.NewIndeterminates(2, \"x\")\n",
    "    xd = prog.NewIndeterminates(2, \"xd\")\n",
    "        \n",
    "    g0 = xd[0] - x[1]\n",
    "    g1 = m*(length**2)*xd[1] + b*x[1] + m*grav*length*x[0]\n",
    "    \n",
    "    g = np.array([g0, g1])\n",
    "    \n",
    "    V = x.T@P@x\n",
    "    Vdot = V.Jacobian(x).dot(xd)\n",
    "    \n",
    "    V = Polynomial(V)\n",
    "    Vdot = Polynomial(Vdot)\n",
    "    \n",
    "    g_poly = []\n",
    "    for i in range(g.size):\n",
    "        g_poly.append(Polynomial(g[i]))\n",
    "        \n",
    "    g_poly = np.array(g_poly)\n",
    "    \n",
    "    display(Markdown(\"$ V(x)=\"+ToLatex(V.ToExpression(), 9)+\"$\"))\n",
    "    for i in range(200):\n",
    "        lambda_, lambda_g = find_implicit_lambdas(x, xd, V, Vdot, g_poly)\n",
    "        \n",
    "#         display(Markdown(\"$ \\lambda(x)=\"+ToLatex(lambda_.ToExpression())+\"$\"))\n",
    "#         display(Markdown(\"$ \\lambda_g(x)=\"+ToLatex(lambda_g[0].ToExpression())+\"$\"))\n",
    "#         display(Markdown(\"$ \\lambda_g(x)=\"+ToLatex(lambda_g[1].ToExpression())+\"$\"))\n",
    "#         print(alpha)\n",
    "        \n",
    "        V, Q = find_implicit_V(x, xd, lambda_, lambda_g, g_poly, V_degree)\n",
    "        \n",
    "        Vdot = V.Jacobian(x).dot(xd)\n",
    "     \n",
    "        display(Markdown(\"$ V(x)=\"+ToLatex(V.ToExpression(), 9)+\"$\"))\n",
    "        \n",
    "    return V, Q\n",
    "\n",
    "V_degree = 2\n",
    "V, Q = problem_solver_implicit(P, V_degree)"
   ]
  },
  {
   "cell_type": "code",
   "execution_count": 57,
   "metadata": {
    "scrolled": true
   },
   "outputs": [
    {
     "data": {
      "text/markdown": [
       "$V(x) = (0.050968x_{0} x_{1} + 25.785194x_{0}^{2} + 1.313710x_{1}^{2})$"
      ],
      "text/plain": [
       "<IPython.core.display.Markdown object>"
      ]
     },
     "metadata": {},
     "output_type": "display_data"
    },
    {
     "name": "stdout",
     "output_type": "stream",
     "text": [
      "Status of first solver on step 0: 1\n",
      "Status of second solver on step 0: 1\n"
     ]
    },
    {
     "data": {
      "text/markdown": [
       "$V(x) = (0.004926x_{0} x_{1} + 3.587715x_{0}^{2} + 0.182810x_{1}^{2})$"
      ],
      "text/plain": [
       "<IPython.core.display.Markdown object>"
      ]
     },
     "metadata": {},
     "output_type": "display_data"
    },
    {
     "name": "stdout",
     "output_type": "stream",
     "text": [
      "Status of first solver on step 1: 1\n",
      "Status of second solver on step 1: 1\n"
     ]
    },
    {
     "data": {
      "text/markdown": [
       "$V(x) = (0.002776x_{0} x_{1} + 2.291521x_{0}^{2} + 0.116767x_{1}^{2})$"
      ],
      "text/plain": [
       "<IPython.core.display.Markdown object>"
      ]
     },
     "metadata": {},
     "output_type": "display_data"
    },
    {
     "name": "stdout",
     "output_type": "stream",
     "text": [
      "Status of first solver on step 2: 1\n",
      "Status of second solver on step 2: 1\n"
     ]
    },
    {
     "data": {
      "text/markdown": [
       "$V(x) = (0.001750x_{0} x_{1} + 1.805002x_{0}^{2} + 0.091980x_{1}^{2})$"
      ],
      "text/plain": [
       "<IPython.core.display.Markdown object>"
      ]
     },
     "metadata": {},
     "output_type": "display_data"
    },
    {
     "name": "stdout",
     "output_type": "stream",
     "text": [
      "Status of first solver on step 3: 1\n",
      "Status of second solver on step 3: 1\n"
     ]
    },
    {
     "data": {
      "text/markdown": [
       "$V(x) = (0.001158x_{0} x_{1} + 1.559421x_{0}^{2} + 0.079469x_{1}^{2})$"
      ],
      "text/plain": [
       "<IPython.core.display.Markdown object>"
      ]
     },
     "metadata": {},
     "output_type": "display_data"
    },
    {
     "name": "stdout",
     "output_type": "stream",
     "text": [
      "Status of first solver on step 4: 1\n",
      "Status of second solver on step 4: 1\n"
     ]
    },
    {
     "data": {
      "text/markdown": [
       "$V(x) = (0.000805x_{0} x_{1} + 1.375743x_{0}^{2} + 0.070111x_{1}^{2})$"
      ],
      "text/plain": [
       "<IPython.core.display.Markdown object>"
      ]
     },
     "metadata": {},
     "output_type": "display_data"
    },
    {
     "name": "stdout",
     "output_type": "stream",
     "text": [
      "Status of first solver on step 5: 1\n",
      "Status of second solver on step 5: 1\n"
     ]
    },
    {
     "data": {
      "text/markdown": [
       "$V(x) = (0.000602x_{0} x_{1} + 1.223411x_{0}^{2} + 0.062349x_{1}^{2})$"
      ],
      "text/plain": [
       "<IPython.core.display.Markdown object>"
      ]
     },
     "metadata": {},
     "output_type": "display_data"
    },
    {
     "name": "stdout",
     "output_type": "stream",
     "text": [
      "Status of first solver on step 6: 1\n",
      "Status of second solver on step 6: 1\n"
     ]
    },
    {
     "data": {
      "text/markdown": [
       "$V(x) = (1.099266x_{0}^{2} + 0.056028x_{1}^{2})$"
      ],
      "text/plain": [
       "<IPython.core.display.Markdown object>"
      ]
     },
     "metadata": {},
     "output_type": "display_data"
    },
    {
     "name": "stdout",
     "output_type": "stream",
     "text": [
      "Status of first solver on step 7: 1\n",
      "Status of second solver on step 7: 1\n"
     ]
    },
    {
     "data": {
      "text/markdown": [
       "$V(x) = (0.994957x_{0}^{2} + 0.050711x_{1}^{2})$"
      ],
      "text/plain": [
       "<IPython.core.display.Markdown object>"
      ]
     },
     "metadata": {},
     "output_type": "display_data"
    },
    {
     "name": "stdout",
     "output_type": "stream",
     "text": [
      "Status of first solver on step 8: 1\n",
      "Status of second solver on step 8: 1\n"
     ]
    },
    {
     "data": {
      "text/markdown": [
       "$V(x) = (0.896997x_{0}^{2} + 0.045719x_{1}^{2})$"
      ],
      "text/plain": [
       "<IPython.core.display.Markdown object>"
      ]
     },
     "metadata": {},
     "output_type": "display_data"
    },
    {
     "name": "stdout",
     "output_type": "stream",
     "text": [
      "Status of first solver on step 9: 1\n",
      "Status of second solver on step 9: 1\n"
     ]
    },
    {
     "data": {
      "text/markdown": [
       "$V(x) = (0.797317x_{0}^{2} + 0.040638x_{1}^{2})$"
      ],
      "text/plain": [
       "<IPython.core.display.Markdown object>"
      ]
     },
     "metadata": {},
     "output_type": "display_data"
    },
    {
     "name": "stdout",
     "output_type": "stream",
     "text": [
      "Status of first solver on step 10: 1\n",
      "Status of second solver on step 10: 1\n"
     ]
    },
    {
     "data": {
      "text/markdown": [
       "$V(x) = (0.691967x_{0}^{2} + 0.035268x_{1}^{2})$"
      ],
      "text/plain": [
       "<IPython.core.display.Markdown object>"
      ]
     },
     "metadata": {},
     "output_type": "display_data"
    },
    {
     "name": "stdout",
     "output_type": "stream",
     "text": [
      "Status of first solver on step 11: 1\n",
      "Status of second solver on step 11: 1\n"
     ]
    },
    {
     "data": {
      "text/markdown": [
       "$V(x) = (0.603885x_{0}^{2} + 0.030779x_{1}^{2})$"
      ],
      "text/plain": [
       "<IPython.core.display.Markdown object>"
      ]
     },
     "metadata": {},
     "output_type": "display_data"
    },
    {
     "name": "stdout",
     "output_type": "stream",
     "text": [
      "Status of first solver on step 12: 1\n",
      "Status of second solver on step 12: 1\n"
     ]
    },
    {
     "data": {
      "text/markdown": [
       "$V(x) = (0.532581x_{0}^{2} + 0.027145x_{1}^{2})$"
      ],
      "text/plain": [
       "<IPython.core.display.Markdown object>"
      ]
     },
     "metadata": {},
     "output_type": "display_data"
    },
    {
     "name": "stdout",
     "output_type": "stream",
     "text": [
      "Status of first solver on step 13: 1\n",
      "Status of second solver on step 13: 1\n"
     ]
    },
    {
     "data": {
      "text/markdown": [
       "$V(x) = (0.474302x_{0}^{2} + 0.024174x_{1}^{2})$"
      ],
      "text/plain": [
       "<IPython.core.display.Markdown object>"
      ]
     },
     "metadata": {},
     "output_type": "display_data"
    },
    {
     "name": "stdout",
     "output_type": "stream",
     "text": [
      "Status of first solver on step 14: 1\n",
      "Status of second solver on step 14: 1\n"
     ]
    },
    {
     "data": {
      "text/markdown": [
       "$V(x) = (0.423681x_{0}^{2} + 0.021594x_{1}^{2})$"
      ],
      "text/plain": [
       "<IPython.core.display.Markdown object>"
      ]
     },
     "metadata": {},
     "output_type": "display_data"
    },
    {
     "name": "stdout",
     "output_type": "stream",
     "text": [
      "Status of first solver on step 15: 1\n",
      "Status of second solver on step 15: 1\n"
     ]
    },
    {
     "data": {
      "text/markdown": [
       "$V(x) = (0.373772x_{0}^{2} + 0.019051x_{1}^{2})$"
      ],
      "text/plain": [
       "<IPython.core.display.Markdown object>"
      ]
     },
     "metadata": {},
     "output_type": "display_data"
    },
    {
     "name": "stdout",
     "output_type": "stream",
     "text": [
      "Status of first solver on step 16: 1\n",
      "Status of second solver on step 16: 1\n"
     ]
    },
    {
     "data": {
      "text/markdown": [
       "$V(x) = (0.332566x_{0}^{2} + 0.016950x_{1}^{2})$"
      ],
      "text/plain": [
       "<IPython.core.display.Markdown object>"
      ]
     },
     "metadata": {},
     "output_type": "display_data"
    },
    {
     "name": "stdout",
     "output_type": "stream",
     "text": [
      "Status of first solver on step 17: 1\n",
      "Status of second solver on step 17: 1\n"
     ]
    },
    {
     "data": {
      "text/markdown": [
       "$V(x) = (0.297182x_{0}^{2} + 0.015147x_{1}^{2})$"
      ],
      "text/plain": [
       "<IPython.core.display.Markdown object>"
      ]
     },
     "metadata": {},
     "output_type": "display_data"
    },
    {
     "name": "stdout",
     "output_type": "stream",
     "text": [
      "Status of first solver on step 18: 1\n",
      "Status of second solver on step 18: 1\n"
     ]
    },
    {
     "data": {
      "text/markdown": [
       "$V(x) = (0.266463x_{0}^{2} + 0.013581x_{1}^{2})$"
      ],
      "text/plain": [
       "<IPython.core.display.Markdown object>"
      ]
     },
     "metadata": {},
     "output_type": "display_data"
    },
    {
     "name": "stdout",
     "output_type": "stream",
     "text": [
      "Status of first solver on step 19: 1\n",
      "Status of second solver on step 19: 1\n"
     ]
    },
    {
     "data": {
      "text/markdown": [
       "$V(x) = 0$"
      ],
      "text/plain": [
       "<IPython.core.display.Markdown object>"
      ]
     },
     "metadata": {},
     "output_type": "display_data"
    }
   ],
   "source": [
    "#THIS CODE WORKS\n",
    "from pydrake.solvers.mathematicalprogram import MathematicalProgram, SolverOptions, Solve\n",
    "from pydrake.solvers.csdp import CsdpSolver\n",
    "from pydrake.solvers.mosek import MosekSolver\n",
    "\n",
    "def findLambda(x, V, Vdot, count):\n",
    "    prog = MathematicalProgram()\n",
    "    prog.AddIndeterminates(x)\n",
    "    \n",
    "    #V = Polynomial(V).RemoveTermsWithSmallCoefficients(1e-5).ToExpression()\n",
    "    \n",
    "    lambda_ = prog.NewSosPolynomial(Variables(x), 2)[0].ToExpression()\n",
    "        \n",
    "    prog.AddSosConstraint(-Vdot - lambda_*(1 - V))\n",
    "    prog.AddSosConstraint(lambda_)\n",
    "    \n",
    "    solver = MosekSolver()\n",
    "    result = solver.Solve(prog)\n",
    "    \n",
    "    k = result.get_solver_details().solution_status\n",
    "        \n",
    "    print('Status of first solver on step ' + str(count) + ': ' + str(k))\n",
    "    assert result.is_success()\n",
    "    \n",
    "    return result.GetSolution(lambda_)\n",
    "\n",
    "\n",
    "def findV(x, lambda_, f, count):\n",
    "    prog = MathematicalProgram()\n",
    "    prog.AddIndeterminates(x)\n",
    "    \n",
    "    lambda_ = Polynomial(lambda_).RemoveTermsWithSmallCoefficients(1e-2).ToExpression()\n",
    "        \n",
    "    temp, Q = prog.NewSosPolynomial(Variables(x), 2)\n",
    "    V = temp.ToExpression()\n",
    "            \n",
    "    prog.AddLinearConstraint(V.Substitute({x[0]: 0, x[1]:0}) == 0)\n",
    "    \n",
    "    Vdot = V.Jacobian(x).dot(f)\n",
    "    \n",
    "    prog.AddSosConstraint(-Vdot - lambda_*(1 - V))\n",
    "    \n",
    "#     prog.AddSosConstraint(np.trace(Q))\n",
    "    \n",
    "    A = Q[0, 0]\n",
    "    B = 2*Q[1, 0]\n",
    "    C = Q[1, 1]\n",
    "    \n",
    "    prog.AddCost(A)\n",
    "    prog.AddCost(C)\n",
    "    prog.AddCost(-B)\n",
    "    \n",
    "    solver = MosekSolver()\n",
    "    result = solver.Solve(prog)\n",
    "        \n",
    "    k = result.get_solver_details().solution_status\n",
    "                \n",
    "    print('Status of second solver on step ' + str(count) + ': ' + str(k))\n",
    "    assert result.is_success()\n",
    "    \n",
    "    return result.GetSolution(V), result.GetSolution(Q)\n",
    "\n",
    "def setup_solver():  \n",
    "    count = 0\n",
    "    prog = MathematicalProgram()\n",
    "    x = prog.NewIndeterminates(2, \"x\")\n",
    "    \n",
    "    f0 = x[1]\n",
    "    f1 = (-b/(m*length**2))*x[1] - (grav/length)*(x[0])\n",
    "    \n",
    "    f = np.array([f0, f1])\n",
    "    \n",
    "    V = x.T@P@x\n",
    "    \n",
    "    display(Markdown(\"$V(x) = \" + ToLatex(\n",
    "    Polynomial(V).RemoveTermsWithSmallCoefficients(1e-5).ToExpression(),6) + \"$\"))\n",
    "        \n",
    "    #Vdot = x.T@P@A@x + x.T@A.T@P@x\n",
    "    Vdot = V.Jacobian(x).dot(f)\n",
    "    \n",
    "    for i in range(20): \n",
    "        lambda_ = findLambda(x, V, Vdot, count)\n",
    "        \n",
    "#         display(Markdown(\"$\\lambda (x) = \" + ToLatex(\n",
    "#         Polynomial(lambda_).RemoveTermsWithSmallCoefficients(1e-5).ToExpression(),6) + \"$\"))\n",
    "        \n",
    "        V, Q = findV(x, lambda_, f, count)\n",
    "        \n",
    "        display(Markdown(\"$V(x) = \" + ToLatex(\n",
    "        Polynomial(V).RemoveTermsWithSmallCoefficients(1e-5).ToExpression(),6) + \"$\"))\n",
    "        \n",
    "        Vdot = V.Jacobian(x).dot(f)\n",
    "        \n",
    "        count += 1\n",
    "    return V, Q\n",
    "    \n",
    "    \n",
    "V, Q = setup_solver()"
   ]
  },
  {
   "cell_type": "markdown",
   "metadata": {},
   "source": [
    "### Pendulum Upright Example\n",
    "Goal is to stabalize the pendulum in the upward position and certify the region of stability using Lyapunov analysis after we have found the controller.  \n",
    "\n",
    "For this we first need to do a change or coordinates: $\\tilde{\\theta} = \\theta - \\pi$ \n",
    "\n",
    "The dynamics now become: \n",
    "$ml^2\\ddot{\\tilde{\\theta}} + b\\dot{\\tilde{\\theta}} - mgl\\sin{\\tilde{\\theta}} = 0$\n",
    "\n",
    "Here $\\theta$ is the angle with the vertical when in the downward position as defined by default in Drake"
   ]
  },
  {
   "cell_type": "code",
   "execution_count": 5,
   "metadata": {},
   "outputs": [],
   "source": [
    "p = PendulumParams()\n",
    "\n",
    "# Add the Linearization\n",
    "A = np.array([[0, 1], [p.mass()*p.gravity()*p.length(), -p.damping()]])\n",
    "B = np.array([[0], [1]])\n",
    "E = np.array([[1, 0], [0, p.mass()*p.length()*p.length()]])\n",
    "\n",
    "# Add LQR Costs\n",
    "Q = np.diag([10, 1])\n",
    "R = [1]\n",
    "\n",
    "# matrix needed for algorithm\n",
    "S = np.array([[0], [0]])"
   ]
  },
  {
   "cell_type": "code",
   "execution_count": 6,
   "metadata": {},
   "outputs": [],
   "source": [
    "# solve the generalized care\n",
    "X, L, G = control.care(A, B, Q, R, S, E)"
   ]
  },
  {
   "cell_type": "code",
   "execution_count": 7,
   "metadata": {},
   "outputs": [
    {
     "data": {
      "text/plain": [
       "array([[10.74101105,  2.42596626]])"
      ]
     },
     "execution_count": 7,
     "metadata": {},
     "output_type": "execute_result"
    }
   ],
   "source": [
    "# G = R^-1B^TXE is the gain matrix to become A - BG for closed loop\n",
    "G"
   ]
  },
  {
   "cell_type": "code",
   "execution_count": 8,
   "metadata": {},
   "outputs": [
    {
     "data": {
      "text/plain": [
       "array([10.74101105,  0.        ,  2.42596626])"
      ]
     },
     "execution_count": 8,
     "metadata": {},
     "output_type": "execute_result"
    }
   ],
   "source": [
    "G_casted = np.insert(G, 1, 0)\n",
    "G_casted"
   ]
  },
  {
   "cell_type": "markdown",
   "metadata": {},
   "source": [
    "To do Lyapunov analysis: close the loop and solve the linear Lyapunov equation. Then, use the dynamics to find the ROA"
   ]
  },
  {
   "cell_type": "code",
   "execution_count": 9,
   "metadata": {},
   "outputs": [],
   "source": [
    "A_closed = A - B@G\n",
    "\n",
    "Q_ly = np.eye(2)\n",
    "P = control.lyap(A_closed.T, Q_ly, E = E.T)\n",
    "candidate_matrix = E.T@P@E"
   ]
  },
  {
   "cell_type": "markdown",
   "metadata": {},
   "source": [
    "u = -Gx. Remember to add this to the dynamics equations in the SOS program"
   ]
  },
  {
   "cell_type": "code",
   "execution_count": 12,
   "metadata": {},
   "outputs": [
    {
     "data": {
      "text/markdown": [
       "$ V(x)=(0.042837479x_{0} x_{1} + 1.421101750x_{0}^{2} + 0.051605869x_{1}^{2})$"
      ],
      "text/plain": [
       "<IPython.core.display.Markdown object>"
      ]
     },
     "metadata": {},
     "output_type": "display_data"
    },
    {
     "name": "stdout",
     "output_type": "stream",
     "text": [
      "Lambda solution status: 1\n",
      "V solution status: 1\n"
     ]
    },
    {
     "data": {
      "text/markdown": [
       "$ V(x)=(0.000000000 - 0.000000000x_{0} - 0.000000000x_{1} + 0.047357625x_{0} x_{1} + 1.205675635x_{0}^{2} + 0.043871794x_{1}^{2})$"
      ],
      "text/plain": [
       "<IPython.core.display.Markdown object>"
      ]
     },
     "metadata": {},
     "output_type": "display_data"
    },
    {
     "name": "stdout",
     "output_type": "stream",
     "text": [
      "Lambda solution status: 1\n",
      "V solution status: 1\n"
     ]
    },
    {
     "data": {
      "text/markdown": [
       "$ V(x)=(0.000000000 - 0.000000000x_{0} + 0.000000000x_{1} + 0.048533584x_{0} x_{1} + 1.019652540x_{0}^{2} + 0.036714577x_{1}^{2})$"
      ],
      "text/plain": [
       "<IPython.core.display.Markdown object>"
      ]
     },
     "metadata": {},
     "output_type": "display_data"
    },
    {
     "name": "stdout",
     "output_type": "stream",
     "text": [
      "Lambda solution status: 1\n",
      "V solution status: 1\n"
     ]
    },
    {
     "data": {
      "text/markdown": [
       "$ V(x)=(0.000000000 + 0.000000000x_{0} + 0.000000000x_{1} + 0.047610659x_{0} x_{1} + 0.855844675x_{0}^{2} + 0.030523051x_{1}^{2})$"
      ],
      "text/plain": [
       "<IPython.core.display.Markdown object>"
      ]
     },
     "metadata": {},
     "output_type": "display_data"
    },
    {
     "name": "stdout",
     "output_type": "stream",
     "text": [
      "Lambda solution status: 1\n",
      "V solution status: 1\n"
     ]
    },
    {
     "data": {
      "text/markdown": [
       "$ V(x)=(0.000000000 + 0.000000000x_{0} + 0.000000000x_{1} + 0.045095254x_{0} x_{1} + 0.714325033x_{0}^{2} + 0.025243582x_{1}^{2})$"
      ],
      "text/plain": [
       "<IPython.core.display.Markdown object>"
      ]
     },
     "metadata": {},
     "output_type": "display_data"
    },
    {
     "name": "stdout",
     "output_type": "stream",
     "text": [
      "Lambda solution status: 1\n",
      "V solution status: 1\n"
     ]
    },
    {
     "data": {
      "text/markdown": [
       "$ V(x)=(0.000000000 - 0.000000000x_{0} + 0.000000000x_{1} + 0.040755836x_{0} x_{1} + 0.588159968x_{0}^{2} + 0.020762609x_{1}^{2})$"
      ],
      "text/plain": [
       "<IPython.core.display.Markdown object>"
      ]
     },
     "metadata": {},
     "output_type": "display_data"
    },
    {
     "name": "stdout",
     "output_type": "stream",
     "text": [
      "Lambda solution status: 1\n",
      "V solution status: 1\n"
     ]
    },
    {
     "data": {
      "text/markdown": [
       "$ V(x)=(0.000000000 + 0.000000000x_{0} - 0.000000000x_{1} + 0.036765067x_{0} x_{1} + 0.495894193x_{0}^{2} + 0.017257504x_{1}^{2})$"
      ],
      "text/plain": [
       "<IPython.core.display.Markdown object>"
      ]
     },
     "metadata": {},
     "output_type": "display_data"
    },
    {
     "name": "stdout",
     "output_type": "stream",
     "text": [
      "Lambda solution status: 1\n",
      "V solution status: 1\n"
     ]
    },
    {
     "data": {
      "text/markdown": [
       "$ V(x)=(0.000000000 + 0.000000000x_{0} - 0.000000000x_{1} + 0.032201380x_{0} x_{1} + 0.420800966x_{0}^{2} + 0.014172528x_{1}^{2})$"
      ],
      "text/plain": [
       "<IPython.core.display.Markdown object>"
      ]
     },
     "metadata": {},
     "output_type": "display_data"
    },
    {
     "name": "stdout",
     "output_type": "stream",
     "text": [
      "Lambda solution status: 1\n",
      "V solution status: 1\n"
     ]
    },
    {
     "data": {
      "text/markdown": [
       "$ V(x)=(0.000000000 + 0.000000000x_{0} - 0.000000000x_{1} + 0.027171476x_{0} x_{1} + 0.352614294x_{0}^{2} + 0.011303443x_{1}^{2})$"
      ],
      "text/plain": [
       "<IPython.core.display.Markdown object>"
      ]
     },
     "metadata": {},
     "output_type": "display_data"
    },
    {
     "name": "stdout",
     "output_type": "stream",
     "text": [
      "Lambda solution status: 1\n",
      "V solution status: 1\n"
     ]
    },
    {
     "data": {
      "text/markdown": [
       "$ V(x)=(0.000000000 - 0.000000000x_{0} - 0.000000000x_{1} + 0.022631136x_{0} x_{1} + 0.295438403x_{0}^{2} + 0.009037607x_{1}^{2})$"
      ],
      "text/plain": [
       "<IPython.core.display.Markdown object>"
      ]
     },
     "metadata": {},
     "output_type": "display_data"
    },
    {
     "name": "stdout",
     "output_type": "stream",
     "text": [
      "Lambda solution status: 1\n",
      "V solution status: 1\n"
     ]
    },
    {
     "data": {
      "text/markdown": [
       "$ V(x)=(0.000000000 - 0.000000000x_{0} - 0.000000000x_{1} + 0.018165323x_{0} x_{1} + 0.242495173x_{0}^{2} + 0.007189290x_{1}^{2})$"
      ],
      "text/plain": [
       "<IPython.core.display.Markdown object>"
      ]
     },
     "metadata": {},
     "output_type": "display_data"
    },
    {
     "name": "stdout",
     "output_type": "stream",
     "text": [
      "Lambda solution status: 1\n",
      "V solution status: 1\n"
     ]
    },
    {
     "data": {
      "text/markdown": [
       "$ V(x)=(0.000000000 + 0.000000000x_{0} + 0.000000000x_{1} + 0.014428247x_{0} x_{1} + 0.199457960x_{0}^{2} + 0.005685727x_{1}^{2})$"
      ],
      "text/plain": [
       "<IPython.core.display.Markdown object>"
      ]
     },
     "metadata": {},
     "output_type": "display_data"
    },
    {
     "name": "stdout",
     "output_type": "stream",
     "text": [
      "Lambda solution status: 1\n",
      "V solution status: 1\n"
     ]
    },
    {
     "data": {
      "text/markdown": [
       "$ V(x)=(0.000000000 + 0.000000000x_{0} + 0.000000000x_{1} + 0.011315623x_{0} x_{1} + 0.164429424x_{0}^{2} + 0.004442596x_{1}^{2})$"
      ],
      "text/plain": [
       "<IPython.core.display.Markdown object>"
      ]
     },
     "metadata": {},
     "output_type": "display_data"
    },
    {
     "name": "stdout",
     "output_type": "stream",
     "text": [
      "Lambda solution status: 1\n",
      "V solution status: 1\n"
     ]
    },
    {
     "data": {
      "text/markdown": [
       "$ V(x)=(0.000000000 + 0.000000000x_{0} + 0.000000000x_{1} + 0.008911707x_{0} x_{1} + 0.134994071x_{0}^{2} + 0.003533408x_{1}^{2})$"
      ],
      "text/plain": [
       "<IPython.core.display.Markdown object>"
      ]
     },
     "metadata": {},
     "output_type": "display_data"
    },
    {
     "name": "stdout",
     "output_type": "stream",
     "text": [
      "Lambda solution status: 1\n",
      "V solution status: 1\n"
     ]
    },
    {
     "data": {
      "text/markdown": [
       "$ V(x)=(0.000000000 - 0.000000000x_{0} - 0.000000000x_{1} + 0.006919296x_{0} x_{1} + 0.107146047x_{0}^{2} + 0.002805545x_{1}^{2})$"
      ],
      "text/plain": [
       "<IPython.core.display.Markdown object>"
      ]
     },
     "metadata": {},
     "output_type": "display_data"
    },
    {
     "name": "stdout",
     "output_type": "stream",
     "text": [
      "Lambda solution status: 1\n",
      "V solution status: 1\n"
     ]
    },
    {
     "data": {
      "text/markdown": [
       "$ V(x)=(0.000000000 + 0.000000000x_{0} - 0.000000000x_{1} + 0.005196581x_{0} x_{1} + 0.081258249x_{0}^{2} + 0.002240269x_{1}^{2})$"
      ],
      "text/plain": [
       "<IPython.core.display.Markdown object>"
      ]
     },
     "metadata": {},
     "output_type": "display_data"
    },
    {
     "name": "stdout",
     "output_type": "stream",
     "text": [
      "Lambda solution status: 1\n",
      "V solution status: 1\n"
     ]
    },
    {
     "data": {
      "text/markdown": [
       "$ V(x)=(0.000000000 + 0.000000000x_{0} + 0.000000000x_{1} + 0.003817531x_{0} x_{1} + 0.066511605x_{0}^{2} + 0.001680244x_{1}^{2})$"
      ],
      "text/plain": [
       "<IPython.core.display.Markdown object>"
      ]
     },
     "metadata": {},
     "output_type": "display_data"
    },
    {
     "name": "stdout",
     "output_type": "stream",
     "text": [
      "Lambda solution status: 1\n",
      "V solution status: 1\n"
     ]
    },
    {
     "data": {
      "text/markdown": [
       "$ V(x)=(0.000000000 + 0.000000000x_{0} + 0.000000000x_{1} + 0.002801920x_{0} x_{1} + 0.055395027x_{0}^{2} + 0.001271286x_{1}^{2})$"
      ],
      "text/plain": [
       "<IPython.core.display.Markdown object>"
      ]
     },
     "metadata": {},
     "output_type": "display_data"
    },
    {
     "name": "stdout",
     "output_type": "stream",
     "text": [
      "Lambda solution status: 1\n",
      "V solution status: 1\n"
     ]
    },
    {
     "data": {
      "text/markdown": [
       "$ V(x)=(0.000000000 + 0.000000000x_{0} + 0.000000000x_{1} + 0.002110180x_{0} x_{1} + 0.047481902x_{0}^{2} + 0.000988053x_{1}^{2})$"
      ],
      "text/plain": [
       "<IPython.core.display.Markdown object>"
      ]
     },
     "metadata": {},
     "output_type": "display_data"
    },
    {
     "name": "stdout",
     "output_type": "stream",
     "text": [
      "Lambda solution status: 1\n",
      "V solution status: 1\n"
     ]
    },
    {
     "data": {
      "text/markdown": [
       "$ V(x)=(0.000000000 - 0.000000000x_{0} - 0.000000000x_{1} + 0.001597174x_{0} x_{1} + 0.040731571x_{0}^{2} + 0.000782375x_{1}^{2})$"
      ],
      "text/plain": [
       "<IPython.core.display.Markdown object>"
      ]
     },
     "metadata": {},
     "output_type": "display_data"
    },
    {
     "name": "stdout",
     "output_type": "stream",
     "text": [
      "Lambda solution status: 1\n",
      "V solution status: 1\n"
     ]
    },
    {
     "data": {
      "text/markdown": [
       "$ V(x)=(0.000000000 + 0.000000000x_{0} + 0.000000000x_{1} + 0.001212771x_{0} x_{1} + 0.033613972x_{0}^{2} + 0.000615058x_{1}^{2})$"
      ],
      "text/plain": [
       "<IPython.core.display.Markdown object>"
      ]
     },
     "metadata": {},
     "output_type": "display_data"
    },
    {
     "name": "stdout",
     "output_type": "stream",
     "text": [
      "Lambda solution status: 1\n",
      "V solution status: 1\n"
     ]
    },
    {
     "data": {
      "text/markdown": [
       "$ V(x)=(0.000000000 + 0.000000000x_{0} - 0.000000000x_{1} + 0.000893115x_{0} x_{1} + 0.025873369x_{0}^{2} + 0.000462124x_{1}^{2})$"
      ],
      "text/plain": [
       "<IPython.core.display.Markdown object>"
      ]
     },
     "metadata": {},
     "output_type": "display_data"
    },
    {
     "name": "stdout",
     "output_type": "stream",
     "text": [
      "Lambda solution status: 1\n",
      "V solution status: 1\n"
     ]
    },
    {
     "data": {
      "text/markdown": [
       "$ V(x)=(0.000000000 + 0.000000000x_{0} - 0.000000000x_{1} + 0.000676189x_{0} x_{1} + 0.020347703x_{0}^{2} + 0.000356673x_{1}^{2})$"
      ],
      "text/plain": [
       "<IPython.core.display.Markdown object>"
      ]
     },
     "metadata": {},
     "output_type": "display_data"
    },
    {
     "name": "stdout",
     "output_type": "stream",
     "text": [
      "Lambda solution status: 1\n",
      "V solution status: 1\n"
     ]
    },
    {
     "data": {
      "text/markdown": [
       "$ V(x)=(0.000000000 + 0.000000000x_{0} - 0.000000000x_{1} + 0.000530214x_{0} x_{1} + 0.016525897x_{0}^{2} + 0.000285153x_{1}^{2})$"
      ],
      "text/plain": [
       "<IPython.core.display.Markdown object>"
      ]
     },
     "metadata": {},
     "output_type": "display_data"
    },
    {
     "name": "stdout",
     "output_type": "stream",
     "text": [
      "Lambda solution status: 1\n",
      "V solution status: 1\n"
     ]
    },
    {
     "data": {
      "text/markdown": [
       "$ V(x)=(0.000000000 + 0.000000000x_{0} + 0.000000000x_{1} + 0.000437610x_{0} x_{1} + 0.014038165x_{0}^{2} + 0.000239396x_{1}^{2})$"
      ],
      "text/plain": [
       "<IPython.core.display.Markdown object>"
      ]
     },
     "metadata": {},
     "output_type": "display_data"
    },
    {
     "name": "stdout",
     "output_type": "stream",
     "text": [
      "Lambda solution status: 1\n",
      "V solution status: 1\n"
     ]
    },
    {
     "data": {
      "text/markdown": [
       "$ V(x)=(0.000000000 + 0.000000000x_{0} + 0.000000000x_{1} + 0.000365328x_{0} x_{1} + 0.011948962x_{0}^{2} + 0.000202444x_{1}^{2})$"
      ],
      "text/plain": [
       "<IPython.core.display.Markdown object>"
      ]
     },
     "metadata": {},
     "output_type": "display_data"
    },
    {
     "name": "stdout",
     "output_type": "stream",
     "text": [
      "Lambda solution status: 1\n",
      "V solution status: 1\n"
     ]
    },
    {
     "data": {
      "text/markdown": [
       "$ V(x)=(0.000000000 - 0.000000000x_{0} + 0.000000000x_{1} + 0.000303818x_{0} x_{1} + 0.010055926x_{0}^{2} + 0.000169930x_{1}^{2})$"
      ],
      "text/plain": [
       "<IPython.core.display.Markdown object>"
      ]
     },
     "metadata": {},
     "output_type": "display_data"
    },
    {
     "name": "stdout",
     "output_type": "stream",
     "text": [
      "Lambda solution status: 1\n",
      "V solution status: 1\n"
     ]
    },
    {
     "data": {
      "text/markdown": [
       "$ V(x)=(0.000000000 - 0.000000000x_{0} - 0.000000000x_{1} + 0.000254964x_{0} x_{1} + 0.008521712x_{0}^{2} + 0.000143728x_{1}^{2})$"
      ],
      "text/plain": [
       "<IPython.core.display.Markdown object>"
      ]
     },
     "metadata": {},
     "output_type": "display_data"
    },
    {
     "name": "stdout",
     "output_type": "stream",
     "text": [
      "Lambda solution status: 1\n",
      "V solution status: 1\n"
     ]
    },
    {
     "data": {
      "text/markdown": [
       "$ V(x)=(0.000000016 - 0.000000000x_{0} - 0.000000000x_{1} + 0.000216112x_{0} x_{1} + 0.007303550x_{0}^{2} + 0.000122900x_{1}^{2})$"
      ],
      "text/plain": [
       "<IPython.core.display.Markdown object>"
      ]
     },
     "metadata": {},
     "output_type": "display_data"
    },
    {
     "name": "stdout",
     "output_type": "stream",
     "text": [
      "Lambda solution status: 1\n",
      "V solution status: 1\n"
     ]
    },
    {
     "data": {
      "text/markdown": [
       "$ V(x)=(0.000000012 - 0.000000000x_{0} + 0.000000000x_{1} + 0.000183588x_{0} x_{1} + 0.006246481x_{0}^{2} + 0.000105027x_{1}^{2})$"
      ],
      "text/plain": [
       "<IPython.core.display.Markdown object>"
      ]
     },
     "metadata": {},
     "output_type": "display_data"
    },
    {
     "name": "stdout",
     "output_type": "stream",
     "text": [
      "Lambda solution status: 1\n",
      "V solution status: 1\n"
     ]
    },
    {
     "data": {
      "text/markdown": [
       "$ V(x)=(0.000000009 + 0.000000000x_{0} + 0.000000000x_{1} + 0.000155658x_{0} x_{1} + 0.005318554x_{0}^{2} + 0.000089414x_{1}^{2})$"
      ],
      "text/plain": [
       "<IPython.core.display.Markdown object>"
      ]
     },
     "metadata": {},
     "output_type": "display_data"
    },
    {
     "name": "stdout",
     "output_type": "stream",
     "text": [
      "Lambda solution status: 1\n",
      "V solution status: 1\n"
     ]
    },
    {
     "data": {
      "text/markdown": [
       "$ V(x)=(0.000000018 + 0.000000000x_{0} + 0.000000000x_{1} + 0.000130151x_{0} x_{1} + 0.004475486x_{0}^{2} + 0.000075159x_{1}^{2})$"
      ],
      "text/plain": [
       "<IPython.core.display.Markdown object>"
      ]
     },
     "metadata": {},
     "output_type": "display_data"
    },
    {
     "name": "stdout",
     "output_type": "stream",
     "text": [
      "Lambda solution status: 1\n",
      "V solution status: 1\n"
     ]
    },
    {
     "data": {
      "text/markdown": [
       "$ V(x)=(0.000000007 + 0.000000000x_{0} + 0.000000000x_{1} + 0.000101537x_{0} x_{1} + 0.003488302x_{0}^{2} + 0.000058647x_{1}^{2})$"
      ],
      "text/plain": [
       "<IPython.core.display.Markdown object>"
      ]
     },
     "metadata": {},
     "output_type": "display_data"
    },
    {
     "name": "stdout",
     "output_type": "stream",
     "text": [
      "Lambda solution status: 1\n",
      "V solution status: 1\n"
     ]
    },
    {
     "data": {
      "text/markdown": [
       "$ V(x)=(0.000000009 - 0.000000000x_{0} - 0.000000000x_{1} + 0.000081289x_{0} x_{1} + 0.002801147x_{0}^{2} + 0.000047112x_{1}^{2})$"
      ],
      "text/plain": [
       "<IPython.core.display.Markdown object>"
      ]
     },
     "metadata": {},
     "output_type": "display_data"
    },
    {
     "name": "stdout",
     "output_type": "stream",
     "text": [
      "Lambda solution status: 1\n",
      "V solution status: 1\n"
     ]
    },
    {
     "data": {
      "text/markdown": [
       "$ V(x)=(0.000000003 - 0.000000000x_{0} - 0.000000000x_{1} + 0.000071136x_{0} x_{1} + 0.002447499x_{0}^{2} + 0.000041230x_{1}^{2})$"
      ],
      "text/plain": [
       "<IPython.core.display.Markdown object>"
      ]
     },
     "metadata": {},
     "output_type": "display_data"
    },
    {
     "name": "stdout",
     "output_type": "stream",
     "text": [
      "Lambda solution status: 1\n",
      "V solution status: 1\n"
     ]
    },
    {
     "data": {
      "text/markdown": [
       "$ V(x)=(0.000000004 + 0.000000000x_{0} + 0.000000000x_{1} + 0.000058445x_{0} x_{1} + 0.002012799x_{0}^{2} + 0.000033936x_{1}^{2})$"
      ],
      "text/plain": [
       "<IPython.core.display.Markdown object>"
      ]
     },
     "metadata": {},
     "output_type": "display_data"
    },
    {
     "name": "stdout",
     "output_type": "stream",
     "text": [
      "Lambda solution status: 1\n",
      "V solution status: 1\n"
     ]
    },
    {
     "data": {
      "text/markdown": [
       "$ V(x)=(0.000000003 + 0.000000000x_{0} + 0.000000000x_{1} + 0.000048029x_{0} x_{1} + 0.001654202x_{0}^{2} + 0.000027936x_{1}^{2})$"
      ],
      "text/plain": [
       "<IPython.core.display.Markdown object>"
      ]
     },
     "metadata": {},
     "output_type": "display_data"
    },
    {
     "name": "stdout",
     "output_type": "stream",
     "text": [
      "Lambda solution status: 1\n",
      "V solution status: 1\n"
     ]
    },
    {
     "data": {
      "text/markdown": [
       "$ V(x)=(0.000000002 + 0.000000000x_{0} + 0.000000000x_{1} + 0.000039598x_{0} x_{1} + 0.001364754x_{0}^{2} + 0.000023085x_{1}^{2})$"
      ],
      "text/plain": [
       "<IPython.core.display.Markdown object>"
      ]
     },
     "metadata": {},
     "output_type": "display_data"
    },
    {
     "name": "stdout",
     "output_type": "stream",
     "text": [
      "Lambda solution status: 1\n",
      "V solution status: 1\n"
     ]
    },
    {
     "data": {
      "text/markdown": [
       "$ V(x)=(0.000000001 - 0.000000000x_{0} - 0.000000000x_{1} + 0.000032399x_{0} x_{1} + 0.001118083x_{0}^{2} + 0.000018942x_{1}^{2})$"
      ],
      "text/plain": [
       "<IPython.core.display.Markdown object>"
      ]
     },
     "metadata": {},
     "output_type": "display_data"
    },
    {
     "name": "stdout",
     "output_type": "stream",
     "text": [
      "Lambda solution status: 1\n",
      "V solution status: 1\n"
     ]
    },
    {
     "data": {
      "text/markdown": [
       "$ V(x)=(0.000000001 + 0.000000000x_{0} + 0.000000000x_{1} + 0.000026189x_{0} x_{1} + 0.000905357x_{0}^{2} + 0.000015361x_{1}^{2})$"
      ],
      "text/plain": [
       "<IPython.core.display.Markdown object>"
      ]
     },
     "metadata": {},
     "output_type": "display_data"
    },
    {
     "name": "stdout",
     "output_type": "stream",
     "text": [
      "Lambda solution status: 1\n",
      "V solution status: 1\n"
     ]
    },
    {
     "data": {
      "text/markdown": [
       "$ V(x)=(0.000000003 + 0.000000000x_{0} + 0.000000000x_{1} + 0.000021086x_{0} x_{1} + 0.000733670x_{0}^{2} + 0.000012448x_{1}^{2})$"
      ],
      "text/plain": [
       "<IPython.core.display.Markdown object>"
      ]
     },
     "metadata": {},
     "output_type": "display_data"
    },
    {
     "name": "stdout",
     "output_type": "stream",
     "text": [
      "Lambda solution status: 1\n",
      "V solution status: 1\n"
     ]
    },
    {
     "data": {
      "text/markdown": [
       "$ V(x)=(0.000000002 - 0.000000000x_{0} + 0.000000000x_{1} + 0.000017151x_{0} x_{1} + 0.000599201x_{0}^{2} + 0.000010170x_{1}^{2})$"
      ],
      "text/plain": [
       "<IPython.core.display.Markdown object>"
      ]
     },
     "metadata": {},
     "output_type": "display_data"
    },
    {
     "name": "stdout",
     "output_type": "stream",
     "text": [
      "Lambda solution status: 1\n",
      "V solution status: 1\n"
     ]
    },
    {
     "data": {
      "text/markdown": [
       "$ V(x)=(0.000000002 - 0.000000000x_{0} - 0.000000000x_{1} + 0.000013188x_{0} x_{1} + 0.000456889x_{0}^{2} + 0.000007838x_{1}^{2})$"
      ],
      "text/plain": [
       "<IPython.core.display.Markdown object>"
      ]
     },
     "metadata": {},
     "output_type": "display_data"
    },
    {
     "name": "stdout",
     "output_type": "stream",
     "text": [
      "Lambda solution status: 1\n",
      "V solution status: 1\n"
     ]
    },
    {
     "data": {
      "text/markdown": [
       "$ V(x)=(0.000000001 + 0.000000000x_{0} + 0.000000000x_{1} + 0.000009972x_{0} x_{1} + 0.000344452x_{0}^{2} + 0.000005961x_{1}^{2})$"
      ],
      "text/plain": [
       "<IPython.core.display.Markdown object>"
      ]
     },
     "metadata": {},
     "output_type": "display_data"
    },
    {
     "name": "stdout",
     "output_type": "stream",
     "text": [
      "Lambda solution status: 1\n",
      "V solution status: 1\n"
     ]
    },
    {
     "data": {
      "text/markdown": [
       "$ V(x)=(0.000000001 - 0.000000000x_{0} - 0.000000000x_{1} + 0.000007640x_{0} x_{1} + 0.000264407x_{0}^{2} + 0.000004611x_{1}^{2})$"
      ],
      "text/plain": [
       "<IPython.core.display.Markdown object>"
      ]
     },
     "metadata": {},
     "output_type": "display_data"
    },
    {
     "name": "stdout",
     "output_type": "stream",
     "text": [
      "Lambda solution status: 1\n",
      "V solution status: 1\n"
     ]
    },
    {
     "data": {
      "text/markdown": [
       "$ V(x)=(0.000000004 + 0.000000000x_{0} - 0.000000000x_{1} + 0.000005642x_{0} x_{1} + 0.000201509x_{0}^{2} + 0.000003505x_{1}^{2})$"
      ],
      "text/plain": [
       "<IPython.core.display.Markdown object>"
      ]
     },
     "metadata": {},
     "output_type": "display_data"
    },
    {
     "name": "stdout",
     "output_type": "stream",
     "text": [
      "Lambda solution status: 1\n",
      "V solution status: 1\n"
     ]
    },
    {
     "data": {
      "text/markdown": [
       "$ V(x)=(0.000000002 - 0.000000000x_{0} - 0.000000000x_{1} + 0.000003079x_{0} x_{1} + 0.000102878x_{0}^{2} + 0.000001849x_{1}^{2})$"
      ],
      "text/plain": [
       "<IPython.core.display.Markdown object>"
      ]
     },
     "metadata": {},
     "output_type": "display_data"
    },
    {
     "name": "stdout",
     "output_type": "stream",
     "text": [
      "Lambda solution status: 1\n",
      "V solution status: 1\n"
     ]
    },
    {
     "data": {
      "text/markdown": [
       "$ V(x)=(0.000000002 - 0.000000000x_{0} - 0.000000000x_{1} + 0.000001703x_{0} x_{1} + 0.000051948x_{0}^{2} + 0.000000980x_{1}^{2})$"
      ],
      "text/plain": [
       "<IPython.core.display.Markdown object>"
      ]
     },
     "metadata": {},
     "output_type": "display_data"
    },
    {
     "name": "stdout",
     "output_type": "stream",
     "text": [
      "Lambda solution status: 1\n",
      "V solution status: 1\n"
     ]
    },
    {
     "data": {
      "text/markdown": [
       "$ V(x)=(0.000000001 - 0.000000000x_{0} - 0.000000000x_{1} + 0.000000866x_{0} x_{1} + 0.000027327x_{0}^{2} + 0.000000511x_{1}^{2})$"
      ],
      "text/plain": [
       "<IPython.core.display.Markdown object>"
      ]
     },
     "metadata": {},
     "output_type": "display_data"
    },
    {
     "name": "stdout",
     "output_type": "stream",
     "text": [
      "Lambda solution status: 1\n",
      "V solution status: 1\n"
     ]
    },
    {
     "data": {
      "text/markdown": [
       "$ V(x)=(0.000000000 - 0.000000000x_{0} + 0.000000000x_{1} + 0.000000572x_{0} x_{1} + 0.000013832x_{0}^{2} + 0.000000294x_{1}^{2})$"
      ],
      "text/plain": [
       "<IPython.core.display.Markdown object>"
      ]
     },
     "metadata": {},
     "output_type": "display_data"
    },
    {
     "name": "stdout",
     "output_type": "stream",
     "text": [
      "Lambda solution status: 1\n",
      "V solution status: 1\n"
     ]
    },
    {
     "data": {
      "text/markdown": [
       "$ V(x)=(0.000000000 - 0.000000000x_{0} - 0.000000000x_{1} + 0.000000312x_{0} x_{1} + 0.000007017x_{0}^{2} + 0.000000156x_{1}^{2})$"
      ],
      "text/plain": [
       "<IPython.core.display.Markdown object>"
      ]
     },
     "metadata": {},
     "output_type": "display_data"
    },
    {
     "name": "stdout",
     "output_type": "stream",
     "text": [
      "Lambda solution status: 1\n",
      "V solution status: 1\n"
     ]
    },
    {
     "data": {
      "text/markdown": [
       "$ V(x)=(0.000000008 - 0.000000000x_{0} + 0.000000000x_{1} - 0.000000153x_{0} x_{1} + 0.000003201x_{0}^{2} + 0.000000006x_{1}^{2})$"
      ],
      "text/plain": [
       "<IPython.core.display.Markdown object>"
      ]
     },
     "metadata": {},
     "output_type": "display_data"
    },
    {
     "name": "stdout",
     "output_type": "stream",
     "text": [
      "Lambda solution status: 1\n",
      "V solution status: 1\n"
     ]
    },
    {
     "data": {
      "text/markdown": [
       "$ V(x)=(0.000000004 - 0.000000000x_{0} + 0.000000000x_{1} - 0.000000107x_{0} x_{1} + 0.000001589x_{0}^{2} + 0.000000002x_{1}^{2})$"
      ],
      "text/plain": [
       "<IPython.core.display.Markdown object>"
      ]
     },
     "metadata": {},
     "output_type": "display_data"
    },
    {
     "name": "stdout",
     "output_type": "stream",
     "text": [
      "Lambda solution status: 1\n",
      "V solution status: 1\n"
     ]
    },
    {
     "data": {
      "text/markdown": [
       "$ V(x)=(0.000000004 + 0.000000000x_{0} + 0.000000000x_{1} - 0.000000073x_{0} x_{1} + 0.000000800x_{0}^{2} + 0.000000003x_{1}^{2})$"
      ],
      "text/plain": [
       "<IPython.core.display.Markdown object>"
      ]
     },
     "metadata": {},
     "output_type": "display_data"
    },
    {
     "name": "stdout",
     "output_type": "stream",
     "text": [
      "Lambda solution status: 1\n",
      "V solution status: 1\n"
     ]
    },
    {
     "data": {
      "text/markdown": [
       "$ V(x)=(0.000000005 + 0.000000000x_{0} - 0.000000000x_{1} - 0.000000086x_{0} x_{1} + 0.000000366x_{0}^{2} + 0.000000006x_{1}^{2})$"
      ],
      "text/plain": [
       "<IPython.core.display.Markdown object>"
      ]
     },
     "metadata": {},
     "output_type": "display_data"
    },
    {
     "name": "stdout",
     "output_type": "stream",
     "text": [
      "Lambda solution status: 1\n",
      "V solution status: 1\n"
     ]
    },
    {
     "data": {
      "text/markdown": [
       "$ V(x)=(0.000000003 + 0.000000000x_{0} + 0.000000000x_{1} - 0.000000062x_{0} x_{1} + 0.000000165x_{0}^{2} + 0.000000007x_{1}^{2})$"
      ],
      "text/plain": [
       "<IPython.core.display.Markdown object>"
      ]
     },
     "metadata": {},
     "output_type": "display_data"
    },
    {
     "name": "stdout",
     "output_type": "stream",
     "text": [
      "Lambda solution status: 1\n",
      "V solution status: 1\n"
     ]
    },
    {
     "data": {
      "text/markdown": [
       "$ V(x)=(0.000000007 + 0.000000000x_{0} + 0.000000000x_{1} - 0.000000024x_{0} x_{1} + 0.000000104x_{0}^{2} + 0.000000006x_{1}^{2})$"
      ],
      "text/plain": [
       "<IPython.core.display.Markdown object>"
      ]
     },
     "metadata": {},
     "output_type": "display_data"
    },
    {
     "name": "stdout",
     "output_type": "stream",
     "text": [
      "Lambda solution status: 1\n",
      "V solution status: 1\n"
     ]
    },
    {
     "data": {
      "text/markdown": [
       "$ V(x)=(0.000000004 - 0.000000000x_{0} + 0.000000000x_{1} + 0.000000144x_{0} x_{1} + 0.000000209x_{0}^{2} + 0.000000041x_{1}^{2})$"
      ],
      "text/plain": [
       "<IPython.core.display.Markdown object>"
      ]
     },
     "metadata": {},
     "output_type": "display_data"
    },
    {
     "name": "stdout",
     "output_type": "stream",
     "text": [
      "Lambda solution status: 1\n",
      "V solution status: 1\n"
     ]
    },
    {
     "data": {
      "text/markdown": [
       "$ V(x)=(0.000000005 - 0.000000000x_{0} + 0.000000000x_{1} - 0.000000001x_{0} x_{1} + 0.000000032x_{0}^{2} + 0.000000005x_{1}^{2})$"
      ],
      "text/plain": [
       "<IPython.core.display.Markdown object>"
      ]
     },
     "metadata": {},
     "output_type": "display_data"
    },
    {
     "name": "stdout",
     "output_type": "stream",
     "text": [
      "Lambda solution status: 1\n",
      "V solution status: 1\n"
     ]
    },
    {
     "data": {
      "text/markdown": [
       "$ V(x)=(0.000000003 - 0.000000000x_{0} + 0.000000000x_{1} - 0.000000005x_{0} x_{1} + 0.000000010x_{0}^{2} + 0.000000004x_{1}^{2})$"
      ],
      "text/plain": [
       "<IPython.core.display.Markdown object>"
      ]
     },
     "metadata": {},
     "output_type": "display_data"
    },
    {
     "name": "stdout",
     "output_type": "stream",
     "text": [
      "Lambda solution status: 1\n",
      "V solution status: 1\n"
     ]
    },
    {
     "data": {
      "text/markdown": [
       "$ V(x)=(0.000000002 - 0.000000000x_{0} + 0.000000000x_{1} - 0.000000001x_{0} x_{1} + 0.000000008x_{0}^{2} + 0.000000003x_{1}^{2})$"
      ],
      "text/plain": [
       "<IPython.core.display.Markdown object>"
      ]
     },
     "metadata": {},
     "output_type": "display_data"
    },
    {
     "name": "stdout",
     "output_type": "stream",
     "text": [
      "Lambda solution status: 1\n",
      "V solution status: 1\n"
     ]
    },
    {
     "data": {
      "text/markdown": [
       "$ V(x)=(0.000000002 - 0.000000000x_{0} - 0.000000000x_{1} - 0.000000001x_{0} x_{1} + 0.000000005x_{0}^{2} + 0.000000003x_{1}^{2})$"
      ],
      "text/plain": [
       "<IPython.core.display.Markdown object>"
      ]
     },
     "metadata": {},
     "output_type": "display_data"
    },
    {
     "name": "stdout",
     "output_type": "stream",
     "text": [
      "Lambda solution status: 1\n",
      "V solution status: 1\n"
     ]
    },
    {
     "data": {
      "text/markdown": [
       "$ V(x)=(0.000000001 - 0.000000000x_{0} - 0.000000000x_{1} - 0.000000002x_{0} x_{1} + 0.000000004x_{0}^{2} + 0.000000002x_{1}^{2})$"
      ],
      "text/plain": [
       "<IPython.core.display.Markdown object>"
      ]
     },
     "metadata": {},
     "output_type": "display_data"
    },
    {
     "name": "stdout",
     "output_type": "stream",
     "text": [
      "Lambda solution status: 1\n",
      "V solution status: 1\n"
     ]
    },
    {
     "data": {
      "text/markdown": [
       "$ V(x)=(0.000000001 - 0.000000000x_{0} + 0.000000000x_{1} - 0.000000002x_{0} x_{1} + 0.000000003x_{0}^{2} + 0.000000002x_{1}^{2})$"
      ],
      "text/plain": [
       "<IPython.core.display.Markdown object>"
      ]
     },
     "metadata": {},
     "output_type": "display_data"
    },
    {
     "name": "stdout",
     "output_type": "stream",
     "text": [
      "Lambda solution status: 1\n",
      "V solution status: 1\n"
     ]
    },
    {
     "data": {
      "text/markdown": [
       "$ V(x)=(0.000000001 - 0.000000000x_{0} + 0.000000000x_{1} - 0.000000002x_{0} x_{1} + 0.000000003x_{0}^{2} + 0.000000002x_{1}^{2})$"
      ],
      "text/plain": [
       "<IPython.core.display.Markdown object>"
      ]
     },
     "metadata": {},
     "output_type": "display_data"
    },
    {
     "name": "stdout",
     "output_type": "stream",
     "text": [
      "Lambda solution status: 1\n",
      "V solution status: 1\n"
     ]
    },
    {
     "data": {
      "text/markdown": [
       "$ V(x)=(0.000000001 + 0.000000000x_{0} + 0.000000000x_{1} - 0.000000002x_{0} x_{1} + 0.000000003x_{0}^{2} + 0.000000002x_{1}^{2})$"
      ],
      "text/plain": [
       "<IPython.core.display.Markdown object>"
      ]
     },
     "metadata": {},
     "output_type": "display_data"
    },
    {
     "name": "stdout",
     "output_type": "stream",
     "text": [
      "Lambda solution status: 1\n",
      "V solution status: 1\n"
     ]
    },
    {
     "data": {
      "text/markdown": [
       "$ V(x)=(0.000000003 - 0.000000000x_{0} - 0.000000000x_{1} - 0.000000003x_{0} x_{1} + 0.000000005x_{0}^{2} + 0.000000004x_{1}^{2})$"
      ],
      "text/plain": [
       "<IPython.core.display.Markdown object>"
      ]
     },
     "metadata": {},
     "output_type": "display_data"
    },
    {
     "name": "stdout",
     "output_type": "stream",
     "text": [
      "Lambda solution status: 1\n",
      "V solution status: 1\n"
     ]
    },
    {
     "data": {
      "text/markdown": [
       "$ V(x)=(0.000000002 - 0.000000000x_{0} + 0.000000000x_{1} - 0.000000002x_{0} x_{1} + 0.000000004x_{0}^{2} + 0.000000002x_{1}^{2})$"
      ],
      "text/plain": [
       "<IPython.core.display.Markdown object>"
      ]
     },
     "metadata": {},
     "output_type": "display_data"
    },
    {
     "name": "stdout",
     "output_type": "stream",
     "text": [
      "Lambda solution status: 1\n",
      "V solution status: 1\n"
     ]
    },
    {
     "data": {
      "text/markdown": [
       "$ V(x)=(0.000000001 + 0.000000000x_{0} + 0.000000000x_{1} - 0.000000002x_{0} x_{1} + 0.000000004x_{0}^{2} + 0.000000002x_{1}^{2})$"
      ],
      "text/plain": [
       "<IPython.core.display.Markdown object>"
      ]
     },
     "metadata": {},
     "output_type": "display_data"
    },
    {
     "name": "stdout",
     "output_type": "stream",
     "text": [
      "Lambda solution status: 1\n",
      "V solution status: 1\n"
     ]
    },
    {
     "data": {
      "text/markdown": [
       "$ V(x)=(0.000000001 + 0.000000000x_{0} + 0.000000000x_{1} - 0.000000002x_{0} x_{1} + 0.000000003x_{0}^{2} + 0.000000002x_{1}^{2})$"
      ],
      "text/plain": [
       "<IPython.core.display.Markdown object>"
      ]
     },
     "metadata": {},
     "output_type": "display_data"
    },
    {
     "name": "stdout",
     "output_type": "stream",
     "text": [
      "Lambda solution status: 1\n",
      "V solution status: 1\n"
     ]
    },
    {
     "data": {
      "text/markdown": [
       "$ V(x)=(0.000000001 - 0.000000000x_{0} - 0.000000000x_{1} - 0.000000002x_{0} x_{1} + 0.000000003x_{0}^{2} + 0.000000002x_{1}^{2})$"
      ],
      "text/plain": [
       "<IPython.core.display.Markdown object>"
      ]
     },
     "metadata": {},
     "output_type": "display_data"
    },
    {
     "name": "stdout",
     "output_type": "stream",
     "text": [
      "Lambda solution status: 1\n",
      "V solution status: 1\n"
     ]
    },
    {
     "data": {
      "text/markdown": [
       "$ V(x)=(0.000000001 - 0.000000000x_{0} + 0.000000000x_{1} - 0.000000001x_{0} x_{1} + 0.000000003x_{0}^{2} + 0.000000002x_{1}^{2})$"
      ],
      "text/plain": [
       "<IPython.core.display.Markdown object>"
      ]
     },
     "metadata": {},
     "output_type": "display_data"
    },
    {
     "name": "stdout",
     "output_type": "stream",
     "text": [
      "Lambda solution status: 1\n",
      "V solution status: 1\n"
     ]
    },
    {
     "data": {
      "text/markdown": [
       "$ V(x)=(0.000000003 - 0.000000000x_{0} + 0.000000000x_{1} - 0.000000003x_{0} x_{1} + 0.000000005x_{0}^{2} + 0.000000003x_{1}^{2})$"
      ],
      "text/plain": [
       "<IPython.core.display.Markdown object>"
      ]
     },
     "metadata": {},
     "output_type": "display_data"
    },
    {
     "name": "stdout",
     "output_type": "stream",
     "text": [
      "Lambda solution status: 1\n",
      "V solution status: 1\n"
     ]
    },
    {
     "data": {
      "text/markdown": [
       "$ V(x)=(0.000000002 - 0.000000000x_{0} - 0.000000000x_{1} - 0.000000002x_{0} x_{1} + 0.000000004x_{0}^{2} + 0.000000002x_{1}^{2})$"
      ],
      "text/plain": [
       "<IPython.core.display.Markdown object>"
      ]
     },
     "metadata": {},
     "output_type": "display_data"
    },
    {
     "name": "stdout",
     "output_type": "stream",
     "text": [
      "Lambda solution status: 1\n",
      "V solution status: 1\n"
     ]
    },
    {
     "data": {
      "text/markdown": [
       "$ V(x)=(0.000000001 - 0.000000000x_{0} - 0.000000000x_{1} - 0.000000002x_{0} x_{1} + 0.000000003x_{0}^{2} + 0.000000002x_{1}^{2})$"
      ],
      "text/plain": [
       "<IPython.core.display.Markdown object>"
      ]
     },
     "metadata": {},
     "output_type": "display_data"
    },
    {
     "name": "stdout",
     "output_type": "stream",
     "text": [
      "Lambda solution status: 1\n",
      "V solution status: 1\n"
     ]
    },
    {
     "data": {
      "text/markdown": [
       "$ V(x)=(0.000000001 + 0.000000000x_{0} - 0.000000000x_{1} - 0.000000002x_{0} x_{1} + 0.000000003x_{0}^{2} + 0.000000002x_{1}^{2})$"
      ],
      "text/plain": [
       "<IPython.core.display.Markdown object>"
      ]
     },
     "metadata": {},
     "output_type": "display_data"
    },
    {
     "name": "stdout",
     "output_type": "stream",
     "text": [
      "Lambda solution status: 1\n",
      "V solution status: 1\n"
     ]
    },
    {
     "data": {
      "text/markdown": [
       "$ V(x)=(0.000000001 - 0.000000000x_{0} + 0.000000000x_{1} - 0.000000002x_{0} x_{1} + 0.000000003x_{0}^{2} + 0.000000002x_{1}^{2})$"
      ],
      "text/plain": [
       "<IPython.core.display.Markdown object>"
      ]
     },
     "metadata": {},
     "output_type": "display_data"
    },
    {
     "name": "stdout",
     "output_type": "stream",
     "text": [
      "Lambda solution status: 1\n",
      "V solution status: 1\n"
     ]
    },
    {
     "data": {
      "text/markdown": [
       "$ V(x)=(0.000000001 + 0.000000000x_{0} + 0.000000000x_{1} - 0.000000001x_{0} x_{1} + 0.000000003x_{0}^{2} + 0.000000002x_{1}^{2})$"
      ],
      "text/plain": [
       "<IPython.core.display.Markdown object>"
      ]
     },
     "metadata": {},
     "output_type": "display_data"
    },
    {
     "name": "stdout",
     "output_type": "stream",
     "text": [
      "Lambda solution status: 1\n",
      "V solution status: 1\n"
     ]
    },
    {
     "data": {
      "text/markdown": [
       "$ V(x)=(0.000000003 + 0.000000000x_{0} + 0.000000000x_{1} - 0.000000003x_{0} x_{1} + 0.000000004x_{0}^{2} + 0.000000003x_{1}^{2})$"
      ],
      "text/plain": [
       "<IPython.core.display.Markdown object>"
      ]
     },
     "metadata": {},
     "output_type": "display_data"
    },
    {
     "name": "stdout",
     "output_type": "stream",
     "text": [
      "Lambda solution status: 1\n",
      "V solution status: 1\n"
     ]
    },
    {
     "data": {
      "text/markdown": [
       "$ V(x)=(0.000000002 - 0.000000000x_{0} + 0.000000000x_{1} - 0.000000002x_{0} x_{1} + 0.000000004x_{0}^{2} + 0.000000002x_{1}^{2})$"
      ],
      "text/plain": [
       "<IPython.core.display.Markdown object>"
      ]
     },
     "metadata": {},
     "output_type": "display_data"
    },
    {
     "name": "stdout",
     "output_type": "stream",
     "text": [
      "Lambda solution status: 1\n",
      "V solution status: 1\n"
     ]
    },
    {
     "data": {
      "text/markdown": [
       "$ V(x)=(0.000000001 - 0.000000000x_{0} + 0.000000000x_{1} - 0.000000002x_{0} x_{1} + 0.000000003x_{0}^{2} + 0.000000002x_{1}^{2})$"
      ],
      "text/plain": [
       "<IPython.core.display.Markdown object>"
      ]
     },
     "metadata": {},
     "output_type": "display_data"
    },
    {
     "name": "stdout",
     "output_type": "stream",
     "text": [
      "Lambda solution status: 1\n",
      "V solution status: 1\n"
     ]
    },
    {
     "data": {
      "text/markdown": [
       "$ V(x)=(0.000000001 - 0.000000000x_{0} + 0.000000000x_{1} - 0.000000002x_{0} x_{1} + 0.000000003x_{0}^{2} + 0.000000002x_{1}^{2})$"
      ],
      "text/plain": [
       "<IPython.core.display.Markdown object>"
      ]
     },
     "metadata": {},
     "output_type": "display_data"
    },
    {
     "name": "stdout",
     "output_type": "stream",
     "text": [
      "Lambda solution status: 1\n",
      "V solution status: 1\n"
     ]
    },
    {
     "data": {
      "text/markdown": [
       "$ V(x)=(0.000000001 + 0.000000000x_{0} + 0.000000000x_{1} - 0.000000002x_{0} x_{1} + 0.000000003x_{0}^{2} + 0.000000002x_{1}^{2})$"
      ],
      "text/plain": [
       "<IPython.core.display.Markdown object>"
      ]
     },
     "metadata": {},
     "output_type": "display_data"
    },
    {
     "name": "stdout",
     "output_type": "stream",
     "text": [
      "Lambda solution status: 1\n",
      "V solution status: 1\n"
     ]
    },
    {
     "data": {
      "text/markdown": [
       "$ V(x)=(0.000000003 - 0.000000000x_{0} - 0.000000000x_{1} - 0.000000003x_{0} x_{1} + 0.000000005x_{0}^{2} + 0.000000004x_{1}^{2})$"
      ],
      "text/plain": [
       "<IPython.core.display.Markdown object>"
      ]
     },
     "metadata": {},
     "output_type": "display_data"
    },
    {
     "name": "stdout",
     "output_type": "stream",
     "text": [
      "Lambda solution status: 1\n",
      "V solution status: 1\n"
     ]
    },
    {
     "data": {
      "text/markdown": [
       "$ V(x)=(0.000000002 + 0.000000000x_{0} - 0.000000000x_{1} - 0.000000002x_{0} x_{1} + 0.000000004x_{0}^{2} + 0.000000002x_{1}^{2})$"
      ],
      "text/plain": [
       "<IPython.core.display.Markdown object>"
      ]
     },
     "metadata": {},
     "output_type": "display_data"
    },
    {
     "name": "stdout",
     "output_type": "stream",
     "text": [
      "Lambda solution status: 1\n",
      "V solution status: 1\n"
     ]
    },
    {
     "data": {
      "text/markdown": [
       "$ V(x)=(0.000000001 - 0.000000000x_{0} - 0.000000000x_{1} - 0.000000002x_{0} x_{1} + 0.000000004x_{0}^{2} + 0.000000002x_{1}^{2})$"
      ],
      "text/plain": [
       "<IPython.core.display.Markdown object>"
      ]
     },
     "metadata": {},
     "output_type": "display_data"
    },
    {
     "name": "stdout",
     "output_type": "stream",
     "text": [
      "Lambda solution status: 1\n",
      "V solution status: 1\n"
     ]
    },
    {
     "data": {
      "text/markdown": [
       "$ V(x)=(0.000000001 + 0.000000000x_{0} - 0.000000000x_{1} - 0.000000002x_{0} x_{1} + 0.000000003x_{0}^{2} + 0.000000002x_{1}^{2})$"
      ],
      "text/plain": [
       "<IPython.core.display.Markdown object>"
      ]
     },
     "metadata": {},
     "output_type": "display_data"
    },
    {
     "name": "stdout",
     "output_type": "stream",
     "text": [
      "Lambda solution status: 1\n",
      "V solution status: 1\n"
     ]
    },
    {
     "data": {
      "text/markdown": [
       "$ V(x)=(0.000000001 - 0.000000000x_{0} - 0.000000000x_{1} - 0.000000002x_{0} x_{1} + 0.000000003x_{0}^{2} + 0.000000002x_{1}^{2})$"
      ],
      "text/plain": [
       "<IPython.core.display.Markdown object>"
      ]
     },
     "metadata": {},
     "output_type": "display_data"
    },
    {
     "name": "stdout",
     "output_type": "stream",
     "text": [
      "Lambda solution status: 1\n",
      "V solution status: 1\n"
     ]
    },
    {
     "data": {
      "text/markdown": [
       "$ V(x)=(0.000000001 - 0.000000000x_{0} - 0.000000000x_{1} - 0.000000001x_{0} x_{1} + 0.000000003x_{0}^{2} + 0.000000002x_{1}^{2})$"
      ],
      "text/plain": [
       "<IPython.core.display.Markdown object>"
      ]
     },
     "metadata": {},
     "output_type": "display_data"
    },
    {
     "name": "stdout",
     "output_type": "stream",
     "text": [
      "Lambda solution status: 1\n",
      "V solution status: 1\n"
     ]
    },
    {
     "data": {
      "text/markdown": [
       "$ V(x)=(0.000000003 + 0.000000000x_{0} + 0.000000000x_{1} - 0.000000003x_{0} x_{1} + 0.000000005x_{0}^{2} + 0.000000003x_{1}^{2})$"
      ],
      "text/plain": [
       "<IPython.core.display.Markdown object>"
      ]
     },
     "metadata": {},
     "output_type": "display_data"
    },
    {
     "name": "stdout",
     "output_type": "stream",
     "text": [
      "Lambda solution status: 1\n",
      "V solution status: 1\n"
     ]
    },
    {
     "data": {
      "text/markdown": [
       "$ V(x)=(0.000000002 + 0.000000000x_{0} - 0.000000000x_{1} - 0.000000002x_{0} x_{1} + 0.000000004x_{0}^{2} + 0.000000002x_{1}^{2})$"
      ],
      "text/plain": [
       "<IPython.core.display.Markdown object>"
      ]
     },
     "metadata": {},
     "output_type": "display_data"
    },
    {
     "name": "stdout",
     "output_type": "stream",
     "text": [
      "Lambda solution status: 1\n",
      "V solution status: 1\n"
     ]
    },
    {
     "data": {
      "text/markdown": [
       "$ V(x)=(0.000000001 + 0.000000000x_{0} - 0.000000000x_{1} - 0.000000002x_{0} x_{1} + 0.000000004x_{0}^{2} + 0.000000002x_{1}^{2})$"
      ],
      "text/plain": [
       "<IPython.core.display.Markdown object>"
      ]
     },
     "metadata": {},
     "output_type": "display_data"
    },
    {
     "name": "stdout",
     "output_type": "stream",
     "text": [
      "Lambda solution status: 1\n",
      "V solution status: 1\n"
     ]
    },
    {
     "data": {
      "text/markdown": [
       "$ V(x)=(0.000000001 + 0.000000000x_{0} - 0.000000000x_{1} - 0.000000002x_{0} x_{1} + 0.000000003x_{0}^{2} + 0.000000002x_{1}^{2})$"
      ],
      "text/plain": [
       "<IPython.core.display.Markdown object>"
      ]
     },
     "metadata": {},
     "output_type": "display_data"
    },
    {
     "name": "stdout",
     "output_type": "stream",
     "text": [
      "Lambda solution status: 1\n",
      "V solution status: 1\n"
     ]
    },
    {
     "data": {
      "text/markdown": [
       "$ V(x)=(0.000000001 + 0.000000000x_{0} - 0.000000000x_{1} - 0.000000002x_{0} x_{1} + 0.000000003x_{0}^{2} + 0.000000002x_{1}^{2})$"
      ],
      "text/plain": [
       "<IPython.core.display.Markdown object>"
      ]
     },
     "metadata": {},
     "output_type": "display_data"
    },
    {
     "name": "stdout",
     "output_type": "stream",
     "text": [
      "Lambda solution status: 1\n",
      "V solution status: 1\n"
     ]
    },
    {
     "data": {
      "text/markdown": [
       "$ V(x)=(0.000000001 - 0.000000000x_{0} - 0.000000000x_{1} - 0.000000001x_{0} x_{1} + 0.000000003x_{0}^{2} + 0.000000002x_{1}^{2})$"
      ],
      "text/plain": [
       "<IPython.core.display.Markdown object>"
      ]
     },
     "metadata": {},
     "output_type": "display_data"
    },
    {
     "name": "stdout",
     "output_type": "stream",
     "text": [
      "Lambda solution status: 1\n",
      "V solution status: 1\n"
     ]
    },
    {
     "data": {
      "text/markdown": [
       "$ V(x)=(0.000000003 - 0.000000000x_{0} - 0.000000000x_{1} - 0.000000003x_{0} x_{1} + 0.000000005x_{0}^{2} + 0.000000003x_{1}^{2})$"
      ],
      "text/plain": [
       "<IPython.core.display.Markdown object>"
      ]
     },
     "metadata": {},
     "output_type": "display_data"
    },
    {
     "name": "stdout",
     "output_type": "stream",
     "text": [
      "Lambda solution status: 1\n",
      "V solution status: 1\n"
     ]
    },
    {
     "data": {
      "text/markdown": [
       "$ V(x)=(0.000000002 - 0.000000000x_{0} + 0.000000000x_{1} - 0.000000002x_{0} x_{1} + 0.000000004x_{0}^{2} + 0.000000002x_{1}^{2})$"
      ],
      "text/plain": [
       "<IPython.core.display.Markdown object>"
      ]
     },
     "metadata": {},
     "output_type": "display_data"
    },
    {
     "name": "stdout",
     "output_type": "stream",
     "text": [
      "Lambda solution status: 1\n",
      "V solution status: 1\n"
     ]
    },
    {
     "data": {
      "text/markdown": [
       "$ V(x)=(0.000000001 + 0.000000000x_{0} + 0.000000000x_{1} - 0.000000002x_{0} x_{1} + 0.000000003x_{0}^{2} + 0.000000002x_{1}^{2})$"
      ],
      "text/plain": [
       "<IPython.core.display.Markdown object>"
      ]
     },
     "metadata": {},
     "output_type": "display_data"
    },
    {
     "name": "stdout",
     "output_type": "stream",
     "text": [
      "Lambda solution status: 1\n",
      "V solution status: 1\n"
     ]
    },
    {
     "data": {
      "text/markdown": [
       "$ V(x)=(0.000000001 + 0.000000000x_{0} - 0.000000000x_{1} - 0.000000002x_{0} x_{1} + 0.000000003x_{0}^{2} + 0.000000002x_{1}^{2})$"
      ],
      "text/plain": [
       "<IPython.core.display.Markdown object>"
      ]
     },
     "metadata": {},
     "output_type": "display_data"
    },
    {
     "name": "stdout",
     "output_type": "stream",
     "text": [
      "Lambda solution status: 1\n",
      "V solution status: 1\n"
     ]
    },
    {
     "data": {
      "text/markdown": [
       "$ V(x)=(0.000000001 + 0.000000000x_{0} - 0.000000000x_{1} - 0.000000002x_{0} x_{1} + 0.000000003x_{0}^{2} + 0.000000002x_{1}^{2})$"
      ],
      "text/plain": [
       "<IPython.core.display.Markdown object>"
      ]
     },
     "metadata": {},
     "output_type": "display_data"
    },
    {
     "name": "stdout",
     "output_type": "stream",
     "text": [
      "Lambda solution status: 1\n",
      "V solution status: 1\n"
     ]
    },
    {
     "data": {
      "text/markdown": [
       "$ V(x)=(0.000000001 + 0.000000000x_{0} + 0.000000000x_{1} - 0.000000001x_{0} x_{1} + 0.000000003x_{0}^{2} + 0.000000002x_{1}^{2})$"
      ],
      "text/plain": [
       "<IPython.core.display.Markdown object>"
      ]
     },
     "metadata": {},
     "output_type": "display_data"
    },
    {
     "name": "stdout",
     "output_type": "stream",
     "text": [
      "Lambda solution status: 1\n",
      "V solution status: 1\n"
     ]
    },
    {
     "data": {
      "text/markdown": [
       "$ V(x)=(0.000000003 + 0.000000000x_{0} - 0.000000000x_{1} - 0.000000003x_{0} x_{1} + 0.000000004x_{0}^{2} + 0.000000003x_{1}^{2})$"
      ],
      "text/plain": [
       "<IPython.core.display.Markdown object>"
      ]
     },
     "metadata": {},
     "output_type": "display_data"
    },
    {
     "name": "stdout",
     "output_type": "stream",
     "text": [
      "Lambda solution status: 1\n",
      "V solution status: 1\n"
     ]
    },
    {
     "data": {
      "text/markdown": [
       "$ V(x)=(0.000000001 + 0.000000000x_{0} - 0.000000000x_{1} - 0.000000002x_{0} x_{1} + 0.000000004x_{0}^{2} + 0.000000002x_{1}^{2})$"
      ],
      "text/plain": [
       "<IPython.core.display.Markdown object>"
      ]
     },
     "metadata": {},
     "output_type": "display_data"
    },
    {
     "name": "stdout",
     "output_type": "stream",
     "text": [
      "Lambda solution status: 1\n",
      "V solution status: 1\n"
     ]
    },
    {
     "data": {
      "text/markdown": [
       "$ V(x)=(0.000000001 + 0.000000000x_{0} - 0.000000000x_{1} - 0.000000002x_{0} x_{1} + 0.000000003x_{0}^{2} + 0.000000002x_{1}^{2})$"
      ],
      "text/plain": [
       "<IPython.core.display.Markdown object>"
      ]
     },
     "metadata": {},
     "output_type": "display_data"
    },
    {
     "name": "stdout",
     "output_type": "stream",
     "text": [
      "Lambda solution status: 1\n",
      "V solution status: 1\n"
     ]
    },
    {
     "data": {
      "text/markdown": [
       "$ V(x)=(0.000000001 - 0.000000000x_{0} - 0.000000000x_{1} - 0.000000002x_{0} x_{1} + 0.000000003x_{0}^{2} + 0.000000002x_{1}^{2})$"
      ],
      "text/plain": [
       "<IPython.core.display.Markdown object>"
      ]
     },
     "metadata": {},
     "output_type": "display_data"
    },
    {
     "name": "stdout",
     "output_type": "stream",
     "text": [
      "Lambda solution status: 1\n",
      "V solution status: 1\n"
     ]
    },
    {
     "data": {
      "text/markdown": [
       "$ V(x)=(0.000000001 + 0.000000000x_{0} - 0.000000000x_{1} - 0.000000002x_{0} x_{1} + 0.000000003x_{0}^{2} + 0.000000002x_{1}^{2})$"
      ],
      "text/plain": [
       "<IPython.core.display.Markdown object>"
      ]
     },
     "metadata": {},
     "output_type": "display_data"
    },
    {
     "name": "stdout",
     "output_type": "stream",
     "text": [
      "Lambda solution status: 1\n",
      "V solution status: 1\n"
     ]
    },
    {
     "data": {
      "text/markdown": [
       "$ V(x)=(0.000000003 - 0.000000000x_{0} - 0.000000000x_{1} - 0.000000003x_{0} x_{1} + 0.000000005x_{0}^{2} + 0.000000004x_{1}^{2})$"
      ],
      "text/plain": [
       "<IPython.core.display.Markdown object>"
      ]
     },
     "metadata": {},
     "output_type": "display_data"
    },
    {
     "name": "stdout",
     "output_type": "stream",
     "text": [
      "Lambda solution status: 1\n",
      "V solution status: 1\n"
     ]
    },
    {
     "data": {
      "text/markdown": [
       "$ V(x)=(0.000000002 + 0.000000000x_{0} - 0.000000000x_{1} - 0.000000002x_{0} x_{1} + 0.000000004x_{0}^{2} + 0.000000002x_{1}^{2})$"
      ],
      "text/plain": [
       "<IPython.core.display.Markdown object>"
      ]
     },
     "metadata": {},
     "output_type": "display_data"
    },
    {
     "name": "stdout",
     "output_type": "stream",
     "text": [
      "Lambda solution status: 1\n",
      "V solution status: 1\n"
     ]
    },
    {
     "data": {
      "text/markdown": [
       "$ V(x)=(0.000000001 - 0.000000000x_{0} - 0.000000000x_{1} - 0.000000002x_{0} x_{1} + 0.000000004x_{0}^{2} + 0.000000002x_{1}^{2})$"
      ],
      "text/plain": [
       "<IPython.core.display.Markdown object>"
      ]
     },
     "metadata": {},
     "output_type": "display_data"
    },
    {
     "name": "stdout",
     "output_type": "stream",
     "text": [
      "Lambda solution status: 1\n",
      "V solution status: 1\n"
     ]
    },
    {
     "data": {
      "text/markdown": [
       "$ V(x)=(0.000000001 - 0.000000000x_{0} + 0.000000000x_{1} - 0.000000002x_{0} x_{1} + 0.000000003x_{0}^{2} + 0.000000002x_{1}^{2})$"
      ],
      "text/plain": [
       "<IPython.core.display.Markdown object>"
      ]
     },
     "metadata": {},
     "output_type": "display_data"
    },
    {
     "name": "stdout",
     "output_type": "stream",
     "text": [
      "Lambda solution status: 1\n",
      "V solution status: 1\n"
     ]
    },
    {
     "data": {
      "text/markdown": [
       "$ V(x)=(0.000000001 - 0.000000000x_{0} - 0.000000000x_{1} - 0.000000002x_{0} x_{1} + 0.000000003x_{0}^{2} + 0.000000002x_{1}^{2})$"
      ],
      "text/plain": [
       "<IPython.core.display.Markdown object>"
      ]
     },
     "metadata": {},
     "output_type": "display_data"
    },
    {
     "name": "stdout",
     "output_type": "stream",
     "text": [
      "Lambda solution status: 1\n",
      "V solution status: 1\n"
     ]
    },
    {
     "data": {
      "text/markdown": [
       "$ V(x)=(0.000000001 - 0.000000000x_{0} + 0.000000000x_{1} - 0.000000001x_{0} x_{1} + 0.000000003x_{0}^{2} + 0.000000002x_{1}^{2})$"
      ],
      "text/plain": [
       "<IPython.core.display.Markdown object>"
      ]
     },
     "metadata": {},
     "output_type": "display_data"
    },
    {
     "name": "stdout",
     "output_type": "stream",
     "text": [
      "Lambda solution status: 1\n",
      "V solution status: 1\n"
     ]
    },
    {
     "data": {
      "text/markdown": [
       "$ V(x)=(0.000000003 - 0.000000000x_{0} - 0.000000000x_{1} - 0.000000003x_{0} x_{1} + 0.000000005x_{0}^{2} + 0.000000003x_{1}^{2})$"
      ],
      "text/plain": [
       "<IPython.core.display.Markdown object>"
      ]
     },
     "metadata": {},
     "output_type": "display_data"
    },
    {
     "name": "stdout",
     "output_type": "stream",
     "text": [
      "Lambda solution status: 1\n",
      "V solution status: 1\n"
     ]
    },
    {
     "data": {
      "text/markdown": [
       "$ V(x)=(0.000000002 + 0.000000000x_{0} + 0.000000000x_{1} - 0.000000002x_{0} x_{1} + 0.000000004x_{0}^{2} + 0.000000002x_{1}^{2})$"
      ],
      "text/plain": [
       "<IPython.core.display.Markdown object>"
      ]
     },
     "metadata": {},
     "output_type": "display_data"
    },
    {
     "name": "stdout",
     "output_type": "stream",
     "text": [
      "Lambda solution status: 1\n",
      "V solution status: 1\n"
     ]
    },
    {
     "data": {
      "text/markdown": [
       "$ V(x)=(0.000000001 + 0.000000000x_{0} - 0.000000000x_{1} - 0.000000002x_{0} x_{1} + 0.000000004x_{0}^{2} + 0.000000002x_{1}^{2})$"
      ],
      "text/plain": [
       "<IPython.core.display.Markdown object>"
      ]
     },
     "metadata": {},
     "output_type": "display_data"
    },
    {
     "name": "stdout",
     "output_type": "stream",
     "text": [
      "Lambda solution status: 1\n",
      "V solution status: 1\n"
     ]
    },
    {
     "data": {
      "text/markdown": [
       "$ V(x)=(0.000000001 - 0.000000000x_{0} + 0.000000000x_{1} - 0.000000002x_{0} x_{1} + 0.000000003x_{0}^{2} + 0.000000002x_{1}^{2})$"
      ],
      "text/plain": [
       "<IPython.core.display.Markdown object>"
      ]
     },
     "metadata": {},
     "output_type": "display_data"
    },
    {
     "name": "stdout",
     "output_type": "stream",
     "text": [
      "Lambda solution status: 1\n",
      "V solution status: 1\n"
     ]
    },
    {
     "data": {
      "text/markdown": [
       "$ V(x)=(0.000000001 + 0.000000000x_{0} - 0.000000000x_{1} - 0.000000002x_{0} x_{1} + 0.000000003x_{0}^{2} + 0.000000002x_{1}^{2})$"
      ],
      "text/plain": [
       "<IPython.core.display.Markdown object>"
      ]
     },
     "metadata": {},
     "output_type": "display_data"
    },
    {
     "name": "stdout",
     "output_type": "stream",
     "text": [
      "Lambda solution status: 1\n",
      "V solution status: 1\n"
     ]
    },
    {
     "data": {
      "text/markdown": [
       "$ V(x)=(0.000000001 + 0.000000000x_{0} + 0.000000000x_{1} - 0.000000001x_{0} x_{1} + 0.000000003x_{0}^{2} + 0.000000002x_{1}^{2})$"
      ],
      "text/plain": [
       "<IPython.core.display.Markdown object>"
      ]
     },
     "metadata": {},
     "output_type": "display_data"
    },
    {
     "name": "stdout",
     "output_type": "stream",
     "text": [
      "Lambda solution status: 1\n",
      "V solution status: 1\n"
     ]
    },
    {
     "data": {
      "text/markdown": [
       "$ V(x)=(0.000000003 + 0.000000000x_{0} - 0.000000000x_{1} - 0.000000003x_{0} x_{1} + 0.000000005x_{0}^{2} + 0.000000003x_{1}^{2})$"
      ],
      "text/plain": [
       "<IPython.core.display.Markdown object>"
      ]
     },
     "metadata": {},
     "output_type": "display_data"
    },
    {
     "name": "stdout",
     "output_type": "stream",
     "text": [
      "Lambda solution status: 1\n",
      "V solution status: 1\n"
     ]
    },
    {
     "data": {
      "text/markdown": [
       "$ V(x)=(0.000000002 - 0.000000000x_{0} - 0.000000000x_{1} - 0.000000002x_{0} x_{1} + 0.000000004x_{0}^{2} + 0.000000002x_{1}^{2})$"
      ],
      "text/plain": [
       "<IPython.core.display.Markdown object>"
      ]
     },
     "metadata": {},
     "output_type": "display_data"
    },
    {
     "name": "stdout",
     "output_type": "stream",
     "text": [
      "Lambda solution status: 1\n",
      "V solution status: 1\n"
     ]
    },
    {
     "data": {
      "text/markdown": [
       "$ V(x)=(0.000000001 - 0.000000000x_{0} - 0.000000000x_{1} - 0.000000002x_{0} x_{1} + 0.000000003x_{0}^{2} + 0.000000002x_{1}^{2})$"
      ],
      "text/plain": [
       "<IPython.core.display.Markdown object>"
      ]
     },
     "metadata": {},
     "output_type": "display_data"
    },
    {
     "name": "stdout",
     "output_type": "stream",
     "text": [
      "Lambda solution status: 1\n",
      "V solution status: 1\n"
     ]
    },
    {
     "data": {
      "text/markdown": [
       "$ V(x)=(0.000000001 + 0.000000000x_{0} - 0.000000000x_{1} - 0.000000002x_{0} x_{1} + 0.000000003x_{0}^{2} + 0.000000002x_{1}^{2})$"
      ],
      "text/plain": [
       "<IPython.core.display.Markdown object>"
      ]
     },
     "metadata": {},
     "output_type": "display_data"
    },
    {
     "name": "stdout",
     "output_type": "stream",
     "text": [
      "Lambda solution status: 1\n",
      "V solution status: 1\n"
     ]
    },
    {
     "data": {
      "text/markdown": [
       "$ V(x)=(0.000000001 + 0.000000000x_{0} - 0.000000000x_{1} - 0.000000002x_{0} x_{1} + 0.000000003x_{0}^{2} + 0.000000002x_{1}^{2})$"
      ],
      "text/plain": [
       "<IPython.core.display.Markdown object>"
      ]
     },
     "metadata": {},
     "output_type": "display_data"
    },
    {
     "name": "stdout",
     "output_type": "stream",
     "text": [
      "Lambda solution status: 1\n",
      "V solution status: 1\n"
     ]
    },
    {
     "data": {
      "text/markdown": [
       "$ V(x)=(0.000000001 - 0.000000000x_{0} + 0.000000000x_{1} - 0.000000001x_{0} x_{1} + 0.000000003x_{0}^{2} + 0.000000002x_{1}^{2})$"
      ],
      "text/plain": [
       "<IPython.core.display.Markdown object>"
      ]
     },
     "metadata": {},
     "output_type": "display_data"
    },
    {
     "name": "stdout",
     "output_type": "stream",
     "text": [
      "Lambda solution status: 1\n",
      "V solution status: 1\n"
     ]
    },
    {
     "data": {
      "text/markdown": [
       "$ V(x)=(0.000000003 + 0.000000000x_{0} - 0.000000000x_{1} - 0.000000003x_{0} x_{1} + 0.000000004x_{0}^{2} + 0.000000003x_{1}^{2})$"
      ],
      "text/plain": [
       "<IPython.core.display.Markdown object>"
      ]
     },
     "metadata": {},
     "output_type": "display_data"
    },
    {
     "name": "stdout",
     "output_type": "stream",
     "text": [
      "Lambda solution status: 1\n",
      "V solution status: 1\n"
     ]
    },
    {
     "data": {
      "text/markdown": [
       "$ V(x)=(0.000000002 + 0.000000000x_{0} - 0.000000000x_{1} - 0.000000002x_{0} x_{1} + 0.000000004x_{0}^{2} + 0.000000002x_{1}^{2})$"
      ],
      "text/plain": [
       "<IPython.core.display.Markdown object>"
      ]
     },
     "metadata": {},
     "output_type": "display_data"
    },
    {
     "name": "stdout",
     "output_type": "stream",
     "text": [
      "Lambda solution status: 1\n",
      "V solution status: 1\n"
     ]
    },
    {
     "data": {
      "text/markdown": [
       "$ V(x)=(0.000000001 - 0.000000000x_{0} + 0.000000000x_{1} - 0.000000002x_{0} x_{1} + 0.000000003x_{0}^{2} + 0.000000002x_{1}^{2})$"
      ],
      "text/plain": [
       "<IPython.core.display.Markdown object>"
      ]
     },
     "metadata": {},
     "output_type": "display_data"
    },
    {
     "name": "stdout",
     "output_type": "stream",
     "text": [
      "Lambda solution status: 1\n",
      "V solution status: 1\n"
     ]
    },
    {
     "data": {
      "text/markdown": [
       "$ V(x)=(0.000000001 - 0.000000000x_{0} - 0.000000000x_{1} - 0.000000002x_{0} x_{1} + 0.000000003x_{0}^{2} + 0.000000002x_{1}^{2})$"
      ],
      "text/plain": [
       "<IPython.core.display.Markdown object>"
      ]
     },
     "metadata": {},
     "output_type": "display_data"
    },
    {
     "name": "stdout",
     "output_type": "stream",
     "text": [
      "Lambda solution status: 1\n",
      "V solution status: 1\n"
     ]
    },
    {
     "data": {
      "text/markdown": [
       "$ V(x)=(0.000000001 - 0.000000000x_{0} + 0.000000000x_{1} - 0.000000002x_{0} x_{1} + 0.000000003x_{0}^{2} + 0.000000002x_{1}^{2})$"
      ],
      "text/plain": [
       "<IPython.core.display.Markdown object>"
      ]
     },
     "metadata": {},
     "output_type": "display_data"
    },
    {
     "name": "stdout",
     "output_type": "stream",
     "text": [
      "Lambda solution status: 1\n",
      "V solution status: 1\n"
     ]
    },
    {
     "data": {
      "text/markdown": [
       "$ V(x)=(0.000000003 - 0.000000000x_{0} + 0.000000000x_{1} - 0.000000003x_{0} x_{1} + 0.000000005x_{0}^{2} + 0.000000004x_{1}^{2})$"
      ],
      "text/plain": [
       "<IPython.core.display.Markdown object>"
      ]
     },
     "metadata": {},
     "output_type": "display_data"
    },
    {
     "name": "stdout",
     "output_type": "stream",
     "text": [
      "Lambda solution status: 1\n",
      "V solution status: 1\n"
     ]
    },
    {
     "data": {
      "text/markdown": [
       "$ V(x)=(0.000000002 - 0.000000000x_{0} - 0.000000000x_{1} - 0.000000002x_{0} x_{1} + 0.000000004x_{0}^{2} + 0.000000002x_{1}^{2})$"
      ],
      "text/plain": [
       "<IPython.core.display.Markdown object>"
      ]
     },
     "metadata": {},
     "output_type": "display_data"
    },
    {
     "name": "stdout",
     "output_type": "stream",
     "text": [
      "Lambda solution status: 1\n",
      "V solution status: 1\n"
     ]
    },
    {
     "data": {
      "text/markdown": [
       "$ V(x)=(0.000000001 + 0.000000000x_{0} + 0.000000000x_{1} - 0.000000002x_{0} x_{1} + 0.000000004x_{0}^{2} + 0.000000002x_{1}^{2})$"
      ],
      "text/plain": [
       "<IPython.core.display.Markdown object>"
      ]
     },
     "metadata": {},
     "output_type": "display_data"
    },
    {
     "name": "stdout",
     "output_type": "stream",
     "text": [
      "Lambda solution status: 1\n",
      "V solution status: 1\n"
     ]
    },
    {
     "data": {
      "text/markdown": [
       "$ V(x)=(0.000000001 - 0.000000000x_{0} + 0.000000000x_{1} - 0.000000002x_{0} x_{1} + 0.000000003x_{0}^{2} + 0.000000002x_{1}^{2})$"
      ],
      "text/plain": [
       "<IPython.core.display.Markdown object>"
      ]
     },
     "metadata": {},
     "output_type": "display_data"
    },
    {
     "name": "stdout",
     "output_type": "stream",
     "text": [
      "Lambda solution status: 1\n",
      "V solution status: 1\n"
     ]
    },
    {
     "data": {
      "text/markdown": [
       "$ V(x)=(0.000000001 - 0.000000000x_{0} - 0.000000000x_{1} - 0.000000002x_{0} x_{1} + 0.000000003x_{0}^{2} + 0.000000002x_{1}^{2})$"
      ],
      "text/plain": [
       "<IPython.core.display.Markdown object>"
      ]
     },
     "metadata": {},
     "output_type": "display_data"
    },
    {
     "name": "stdout",
     "output_type": "stream",
     "text": [
      "Lambda solution status: 1\n",
      "V solution status: 1\n"
     ]
    },
    {
     "data": {
      "text/markdown": [
       "$ V(x)=(0.000000001 - 0.000000000x_{0} + 0.000000000x_{1} - 0.000000001x_{0} x_{1} + 0.000000003x_{0}^{2} + 0.000000002x_{1}^{2})$"
      ],
      "text/plain": [
       "<IPython.core.display.Markdown object>"
      ]
     },
     "metadata": {},
     "output_type": "display_data"
    },
    {
     "name": "stdout",
     "output_type": "stream",
     "text": [
      "Lambda solution status: 1\n",
      "V solution status: 1\n"
     ]
    },
    {
     "data": {
      "text/markdown": [
       "$ V(x)=(0.000000003 + 0.000000000x_{0} - 0.000000000x_{1} - 0.000000003x_{0} x_{1} + 0.000000005x_{0}^{2} + 0.000000003x_{1}^{2})$"
      ],
      "text/plain": [
       "<IPython.core.display.Markdown object>"
      ]
     },
     "metadata": {},
     "output_type": "display_data"
    },
    {
     "name": "stdout",
     "output_type": "stream",
     "text": [
      "Lambda solution status: 1\n",
      "V solution status: 1\n"
     ]
    },
    {
     "data": {
      "text/markdown": [
       "$ V(x)=(0.000000002 + 0.000000000x_{0} + 0.000000000x_{1} - 0.000000002x_{0} x_{1} + 0.000000004x_{0}^{2} + 0.000000002x_{1}^{2})$"
      ],
      "text/plain": [
       "<IPython.core.display.Markdown object>"
      ]
     },
     "metadata": {},
     "output_type": "display_data"
    },
    {
     "name": "stdout",
     "output_type": "stream",
     "text": [
      "Lambda solution status: 1\n",
      "V solution status: 1\n"
     ]
    },
    {
     "data": {
      "text/markdown": [
       "$ V(x)=(0.000000001 + 0.000000000x_{0} + 0.000000000x_{1} - 0.000000002x_{0} x_{1} + 0.000000004x_{0}^{2} + 0.000000002x_{1}^{2})$"
      ],
      "text/plain": [
       "<IPython.core.display.Markdown object>"
      ]
     },
     "metadata": {},
     "output_type": "display_data"
    },
    {
     "name": "stdout",
     "output_type": "stream",
     "text": [
      "Lambda solution status: 1\n",
      "V solution status: 1\n"
     ]
    },
    {
     "data": {
      "text/markdown": [
       "$ V(x)=(0.000000001 + 0.000000000x_{0} + 0.000000000x_{1} - 0.000000002x_{0} x_{1} + 0.000000003x_{0}^{2} + 0.000000002x_{1}^{2})$"
      ],
      "text/plain": [
       "<IPython.core.display.Markdown object>"
      ]
     },
     "metadata": {},
     "output_type": "display_data"
    },
    {
     "name": "stdout",
     "output_type": "stream",
     "text": [
      "Lambda solution status: 1\n",
      "V solution status: 1\n"
     ]
    },
    {
     "data": {
      "text/markdown": [
       "$ V(x)=(0.000000001 + 0.000000000x_{0} - 0.000000000x_{1} - 0.000000002x_{0} x_{1} + 0.000000003x_{0}^{2} + 0.000000002x_{1}^{2})$"
      ],
      "text/plain": [
       "<IPython.core.display.Markdown object>"
      ]
     },
     "metadata": {},
     "output_type": "display_data"
    },
    {
     "name": "stdout",
     "output_type": "stream",
     "text": [
      "Lambda solution status: 1\n",
      "V solution status: 1\n"
     ]
    },
    {
     "data": {
      "text/markdown": [
       "$ V(x)=(0.000000001 - 0.000000000x_{0} + 0.000000000x_{1} - 0.000000001x_{0} x_{1} + 0.000000003x_{0}^{2} + 0.000000002x_{1}^{2})$"
      ],
      "text/plain": [
       "<IPython.core.display.Markdown object>"
      ]
     },
     "metadata": {},
     "output_type": "display_data"
    },
    {
     "name": "stdout",
     "output_type": "stream",
     "text": [
      "Lambda solution status: 1\n",
      "V solution status: 1\n"
     ]
    },
    {
     "data": {
      "text/markdown": [
       "$ V(x)=(0.000000003 + 0.000000000x_{0} - 0.000000000x_{1} - 0.000000003x_{0} x_{1} + 0.000000005x_{0}^{2} + 0.000000003x_{1}^{2})$"
      ],
      "text/plain": [
       "<IPython.core.display.Markdown object>"
      ]
     },
     "metadata": {},
     "output_type": "display_data"
    },
    {
     "name": "stdout",
     "output_type": "stream",
     "text": [
      "Lambda solution status: 1\n",
      "V solution status: 1\n"
     ]
    },
    {
     "data": {
      "text/markdown": [
       "$ V(x)=(0.000000002 + 0.000000000x_{0} - 0.000000000x_{1} - 0.000000002x_{0} x_{1} + 0.000000004x_{0}^{2} + 0.000000002x_{1}^{2})$"
      ],
      "text/plain": [
       "<IPython.core.display.Markdown object>"
      ]
     },
     "metadata": {},
     "output_type": "display_data"
    },
    {
     "name": "stdout",
     "output_type": "stream",
     "text": [
      "Lambda solution status: 1\n",
      "V solution status: 1\n"
     ]
    },
    {
     "data": {
      "text/markdown": [
       "$ V(x)=(0.000000001 - 0.000000000x_{0} - 0.000000000x_{1} - 0.000000002x_{0} x_{1} + 0.000000003x_{0}^{2} + 0.000000002x_{1}^{2})$"
      ],
      "text/plain": [
       "<IPython.core.display.Markdown object>"
      ]
     },
     "metadata": {},
     "output_type": "display_data"
    },
    {
     "name": "stdout",
     "output_type": "stream",
     "text": [
      "Lambda solution status: 1\n",
      "V solution status: 1\n"
     ]
    },
    {
     "data": {
      "text/markdown": [
       "$ V(x)=(0.000000001 - 0.000000000x_{0} - 0.000000000x_{1} - 0.000000002x_{0} x_{1} + 0.000000003x_{0}^{2} + 0.000000002x_{1}^{2})$"
      ],
      "text/plain": [
       "<IPython.core.display.Markdown object>"
      ]
     },
     "metadata": {},
     "output_type": "display_data"
    },
    {
     "name": "stdout",
     "output_type": "stream",
     "text": [
      "Lambda solution status: 1\n",
      "V solution status: 1\n"
     ]
    },
    {
     "data": {
      "text/markdown": [
       "$ V(x)=(0.000000001 + 0.000000000x_{0} - 0.000000000x_{1} - 0.000000002x_{0} x_{1} + 0.000000003x_{0}^{2} + 0.000000002x_{1}^{2})$"
      ],
      "text/plain": [
       "<IPython.core.display.Markdown object>"
      ]
     },
     "metadata": {},
     "output_type": "display_data"
    },
    {
     "name": "stdout",
     "output_type": "stream",
     "text": [
      "Lambda solution status: 1\n",
      "V solution status: 1\n"
     ]
    },
    {
     "data": {
      "text/markdown": [
       "$ V(x)=(0.000000001 + 0.000000000x_{0} - 0.000000000x_{1} - 0.000000001x_{0} x_{1} + 0.000000003x_{0}^{2} + 0.000000002x_{1}^{2})$"
      ],
      "text/plain": [
       "<IPython.core.display.Markdown object>"
      ]
     },
     "metadata": {},
     "output_type": "display_data"
    },
    {
     "name": "stdout",
     "output_type": "stream",
     "text": [
      "Lambda solution status: 1\n",
      "V solution status: 1\n"
     ]
    },
    {
     "data": {
      "text/markdown": [
       "$ V(x)=(0.000000003 - 0.000000000x_{0} + 0.000000000x_{1} - 0.000000003x_{0} x_{1} + 0.000000005x_{0}^{2} + 0.000000003x_{1}^{2})$"
      ],
      "text/plain": [
       "<IPython.core.display.Markdown object>"
      ]
     },
     "metadata": {},
     "output_type": "display_data"
    },
    {
     "name": "stdout",
     "output_type": "stream",
     "text": [
      "Lambda solution status: 1\n",
      "V solution status: 1\n"
     ]
    },
    {
     "data": {
      "text/markdown": [
       "$ V(x)=(0.000000002 + 0.000000000x_{0} + 0.000000000x_{1} - 0.000000002x_{0} x_{1} + 0.000000004x_{0}^{2} + 0.000000002x_{1}^{2})$"
      ],
      "text/plain": [
       "<IPython.core.display.Markdown object>"
      ]
     },
     "metadata": {},
     "output_type": "display_data"
    },
    {
     "name": "stdout",
     "output_type": "stream",
     "text": [
      "Lambda solution status: 1\n",
      "V solution status: 1\n"
     ]
    },
    {
     "data": {
      "text/markdown": [
       "$ V(x)=(0.000000001 + 0.000000000x_{0} - 0.000000000x_{1} - 0.000000002x_{0} x_{1} + 0.000000003x_{0}^{2} + 0.000000002x_{1}^{2})$"
      ],
      "text/plain": [
       "<IPython.core.display.Markdown object>"
      ]
     },
     "metadata": {},
     "output_type": "display_data"
    },
    {
     "name": "stdout",
     "output_type": "stream",
     "text": [
      "Lambda solution status: 1\n",
      "V solution status: 1\n"
     ]
    },
    {
     "data": {
      "text/markdown": [
       "$ V(x)=(0.000000001 + 0.000000000x_{0} + 0.000000000x_{1} - 0.000000002x_{0} x_{1} + 0.000000003x_{0}^{2} + 0.000000002x_{1}^{2})$"
      ],
      "text/plain": [
       "<IPython.core.display.Markdown object>"
      ]
     },
     "metadata": {},
     "output_type": "display_data"
    },
    {
     "name": "stdout",
     "output_type": "stream",
     "text": [
      "Lambda solution status: 1\n",
      "V solution status: 1\n"
     ]
    },
    {
     "data": {
      "text/markdown": [
       "$ V(x)=(0.000000001 - 0.000000000x_{0} + 0.000000000x_{1} - 0.000000002x_{0} x_{1} + 0.000000003x_{0}^{2} + 0.000000002x_{1}^{2})$"
      ],
      "text/plain": [
       "<IPython.core.display.Markdown object>"
      ]
     },
     "metadata": {},
     "output_type": "display_data"
    },
    {
     "name": "stdout",
     "output_type": "stream",
     "text": [
      "Lambda solution status: 1\n",
      "V solution status: 1\n"
     ]
    },
    {
     "data": {
      "text/markdown": [
       "$ V(x)=(0.000000001 + 0.000000000x_{0} - 0.000000000x_{1} - 0.000000001x_{0} x_{1} + 0.000000003x_{0}^{2} + 0.000000002x_{1}^{2})$"
      ],
      "text/plain": [
       "<IPython.core.display.Markdown object>"
      ]
     },
     "metadata": {},
     "output_type": "display_data"
    },
    {
     "name": "stdout",
     "output_type": "stream",
     "text": [
      "Lambda solution status: 1\n",
      "V solution status: 1\n"
     ]
    },
    {
     "data": {
      "text/markdown": [
       "$ V(x)=(0.000000003 - 0.000000000x_{0} - 0.000000000x_{1} - 0.000000003x_{0} x_{1} + 0.000000004x_{0}^{2} + 0.000000003x_{1}^{2})$"
      ],
      "text/plain": [
       "<IPython.core.display.Markdown object>"
      ]
     },
     "metadata": {},
     "output_type": "display_data"
    },
    {
     "name": "stdout",
     "output_type": "stream",
     "text": [
      "Lambda solution status: 1\n",
      "V solution status: 1\n"
     ]
    },
    {
     "data": {
      "text/markdown": [
       "$ V(x)=(0.000000002 + 0.000000000x_{0} + 0.000000000x_{1} - 0.000000002x_{0} x_{1} + 0.000000004x_{0}^{2} + 0.000000002x_{1}^{2})$"
      ],
      "text/plain": [
       "<IPython.core.display.Markdown object>"
      ]
     },
     "metadata": {},
     "output_type": "display_data"
    },
    {
     "name": "stdout",
     "output_type": "stream",
     "text": [
      "Lambda solution status: 1\n",
      "V solution status: 1\n"
     ]
    },
    {
     "data": {
      "text/markdown": [
       "$ V(x)=(0.000000001 - 0.000000000x_{0} - 0.000000000x_{1} - 0.000000002x_{0} x_{1} + 0.000000003x_{0}^{2} + 0.000000002x_{1}^{2})$"
      ],
      "text/plain": [
       "<IPython.core.display.Markdown object>"
      ]
     },
     "metadata": {},
     "output_type": "display_data"
    },
    {
     "name": "stdout",
     "output_type": "stream",
     "text": [
      "Lambda solution status: 1\n",
      "V solution status: 1\n"
     ]
    },
    {
     "data": {
      "text/markdown": [
       "$ V(x)=(0.000000001 - 0.000000000x_{0} - 0.000000000x_{1} - 0.000000002x_{0} x_{1} + 0.000000003x_{0}^{2} + 0.000000002x_{1}^{2})$"
      ],
      "text/plain": [
       "<IPython.core.display.Markdown object>"
      ]
     },
     "metadata": {},
     "output_type": "display_data"
    },
    {
     "name": "stdout",
     "output_type": "stream",
     "text": [
      "Lambda solution status: 1\n",
      "V solution status: 1\n"
     ]
    },
    {
     "data": {
      "text/markdown": [
       "$ V(x)=(0.000000001 - 0.000000000x_{0} - 0.000000000x_{1} - 0.000000002x_{0} x_{1} + 0.000000003x_{0}^{2} + 0.000000002x_{1}^{2})$"
      ],
      "text/plain": [
       "<IPython.core.display.Markdown object>"
      ]
     },
     "metadata": {},
     "output_type": "display_data"
    },
    {
     "name": "stdout",
     "output_type": "stream",
     "text": [
      "Lambda solution status: 1\n",
      "V solution status: 1\n"
     ]
    },
    {
     "data": {
      "text/markdown": [
       "$ V(x)=(0.000000001 - 0.000000000x_{0} + 0.000000000x_{1} - 0.000000001x_{0} x_{1} + 0.000000003x_{0}^{2} + 0.000000002x_{1}^{2})$"
      ],
      "text/plain": [
       "<IPython.core.display.Markdown object>"
      ]
     },
     "metadata": {},
     "output_type": "display_data"
    },
    {
     "name": "stdout",
     "output_type": "stream",
     "text": [
      "Lambda solution status: 1\n",
      "V solution status: 1\n"
     ]
    },
    {
     "data": {
      "text/markdown": [
       "$ V(x)=(0.000000003 + 0.000000000x_{0} - 0.000000000x_{1} - 0.000000003x_{0} x_{1} + 0.000000004x_{0}^{2} + 0.000000003x_{1}^{2})$"
      ],
      "text/plain": [
       "<IPython.core.display.Markdown object>"
      ]
     },
     "metadata": {},
     "output_type": "display_data"
    },
    {
     "name": "stdout",
     "output_type": "stream",
     "text": [
      "Lambda solution status: 1\n",
      "V solution status: 1\n"
     ]
    },
    {
     "data": {
      "text/markdown": [
       "$ V(x)=(0.000000001 + 0.000000000x_{0} + 0.000000000x_{1} - 0.000000002x_{0} x_{1} + 0.000000004x_{0}^{2} + 0.000000002x_{1}^{2})$"
      ],
      "text/plain": [
       "<IPython.core.display.Markdown object>"
      ]
     },
     "metadata": {},
     "output_type": "display_data"
    },
    {
     "name": "stdout",
     "output_type": "stream",
     "text": [
      "Lambda solution status: 1\n",
      "V solution status: 1\n"
     ]
    },
    {
     "data": {
      "text/markdown": [
       "$ V(x)=(0.000000001 + 0.000000000x_{0} - 0.000000000x_{1} - 0.000000002x_{0} x_{1} + 0.000000003x_{0}^{2} + 0.000000002x_{1}^{2})$"
      ],
      "text/plain": [
       "<IPython.core.display.Markdown object>"
      ]
     },
     "metadata": {},
     "output_type": "display_data"
    },
    {
     "name": "stdout",
     "output_type": "stream",
     "text": [
      "Lambda solution status: 1\n",
      "V solution status: 1\n"
     ]
    },
    {
     "data": {
      "text/markdown": [
       "$ V(x)=(0.000000001 - 0.000000000x_{0} + 0.000000000x_{1} - 0.000000002x_{0} x_{1} + 0.000000003x_{0}^{2} + 0.000000002x_{1}^{2})$"
      ],
      "text/plain": [
       "<IPython.core.display.Markdown object>"
      ]
     },
     "metadata": {},
     "output_type": "display_data"
    },
    {
     "name": "stdout",
     "output_type": "stream",
     "text": [
      "Lambda solution status: 1\n",
      "V solution status: 1\n"
     ]
    },
    {
     "data": {
      "text/markdown": [
       "$ V(x)=(0.000000001 - 0.000000000x_{0} - 0.000000000x_{1} - 0.000000002x_{0} x_{1} + 0.000000003x_{0}^{2} + 0.000000002x_{1}^{2})$"
      ],
      "text/plain": [
       "<IPython.core.display.Markdown object>"
      ]
     },
     "metadata": {},
     "output_type": "display_data"
    },
    {
     "name": "stdout",
     "output_type": "stream",
     "text": [
      "Lambda solution status: 1\n",
      "V solution status: 1\n"
     ]
    },
    {
     "data": {
      "text/markdown": [
       "$ V(x)=(0.000000001 - 0.000000000x_{0} + 0.000000000x_{1} - 0.000000001x_{0} x_{1} + 0.000000003x_{0}^{2} + 0.000000002x_{1}^{2})$"
      ],
      "text/plain": [
       "<IPython.core.display.Markdown object>"
      ]
     },
     "metadata": {},
     "output_type": "display_data"
    },
    {
     "name": "stdout",
     "output_type": "stream",
     "text": [
      "Lambda solution status: 1\n",
      "V solution status: 1\n"
     ]
    },
    {
     "data": {
      "text/markdown": [
       "$ V(x)=(0.000000003 + 0.000000000x_{0} + 0.000000000x_{1} - 0.000000003x_{0} x_{1} + 0.000000004x_{0}^{2} + 0.000000003x_{1}^{2})$"
      ],
      "text/plain": [
       "<IPython.core.display.Markdown object>"
      ]
     },
     "metadata": {},
     "output_type": "display_data"
    },
    {
     "name": "stdout",
     "output_type": "stream",
     "text": [
      "Lambda solution status: 1\n",
      "V solution status: 1\n"
     ]
    },
    {
     "data": {
      "text/markdown": [
       "$ V(x)=(0.000000002 - 0.000000000x_{0} - 0.000000000x_{1} - 0.000000002x_{0} x_{1} + 0.000000004x_{0}^{2} + 0.000000002x_{1}^{2})$"
      ],
      "text/plain": [
       "<IPython.core.display.Markdown object>"
      ]
     },
     "metadata": {},
     "output_type": "display_data"
    },
    {
     "name": "stdout",
     "output_type": "stream",
     "text": [
      "Lambda solution status: 1\n",
      "V solution status: 1\n"
     ]
    },
    {
     "data": {
      "text/markdown": [
       "$ V(x)=(0.000000001 + 0.000000000x_{0} - 0.000000000x_{1} - 0.000000002x_{0} x_{1} + 0.000000003x_{0}^{2} + 0.000000002x_{1}^{2})$"
      ],
      "text/plain": [
       "<IPython.core.display.Markdown object>"
      ]
     },
     "metadata": {},
     "output_type": "display_data"
    },
    {
     "name": "stdout",
     "output_type": "stream",
     "text": [
      "Lambda solution status: 1\n",
      "V solution status: 1\n"
     ]
    },
    {
     "data": {
      "text/markdown": [
       "$ V(x)=(0.000000001 + 0.000000000x_{0} - 0.000000000x_{1} - 0.000000002x_{0} x_{1} + 0.000000003x_{0}^{2} + 0.000000002x_{1}^{2})$"
      ],
      "text/plain": [
       "<IPython.core.display.Markdown object>"
      ]
     },
     "metadata": {},
     "output_type": "display_data"
    },
    {
     "name": "stdout",
     "output_type": "stream",
     "text": [
      "Lambda solution status: 1\n",
      "V solution status: 1\n"
     ]
    },
    {
     "data": {
      "text/markdown": [
       "$ V(x)=(0.000000001 - 0.000000000x_{0} - 0.000000000x_{1} - 0.000000002x_{0} x_{1} + 0.000000003x_{0}^{2} + 0.000000002x_{1}^{2})$"
      ],
      "text/plain": [
       "<IPython.core.display.Markdown object>"
      ]
     },
     "metadata": {},
     "output_type": "display_data"
    },
    {
     "name": "stdout",
     "output_type": "stream",
     "text": [
      "Lambda solution status: 1\n",
      "V solution status: 1\n"
     ]
    },
    {
     "data": {
      "text/markdown": [
       "$ V(x)=(0.000000001 + 0.000000000x_{0} + 0.000000000x_{1} - 0.000000001x_{0} x_{1} + 0.000000003x_{0}^{2} + 0.000000002x_{1}^{2})$"
      ],
      "text/plain": [
       "<IPython.core.display.Markdown object>"
      ]
     },
     "metadata": {},
     "output_type": "display_data"
    },
    {
     "name": "stdout",
     "output_type": "stream",
     "text": [
      "Lambda solution status: 1\n",
      "V solution status: 1\n"
     ]
    },
    {
     "data": {
      "text/markdown": [
       "$ V(x)=(0.000000003 - 0.000000000x_{0} + 0.000000000x_{1} - 0.000000003x_{0} x_{1} + 0.000000004x_{0}^{2} + 0.000000003x_{1}^{2})$"
      ],
      "text/plain": [
       "<IPython.core.display.Markdown object>"
      ]
     },
     "metadata": {},
     "output_type": "display_data"
    },
    {
     "name": "stdout",
     "output_type": "stream",
     "text": [
      "Lambda solution status: 1\n",
      "V solution status: 1\n"
     ]
    },
    {
     "data": {
      "text/markdown": [
       "$ V(x)=(0.000000002 - 0.000000000x_{0} + 0.000000000x_{1} - 0.000000002x_{0} x_{1} + 0.000000004x_{0}^{2} + 0.000000002x_{1}^{2})$"
      ],
      "text/plain": [
       "<IPython.core.display.Markdown object>"
      ]
     },
     "metadata": {},
     "output_type": "display_data"
    },
    {
     "name": "stdout",
     "output_type": "stream",
     "text": [
      "Lambda solution status: 1\n",
      "V solution status: 1\n"
     ]
    },
    {
     "data": {
      "text/markdown": [
       "$ V(x)=(0.000000001 + 0.000000000x_{0} + 0.000000000x_{1} - 0.000000002x_{0} x_{1} + 0.000000003x_{0}^{2} + 0.000000002x_{1}^{2})$"
      ],
      "text/plain": [
       "<IPython.core.display.Markdown object>"
      ]
     },
     "metadata": {},
     "output_type": "display_data"
    },
    {
     "name": "stdout",
     "output_type": "stream",
     "text": [
      "Lambda solution status: 1\n",
      "V solution status: 1\n"
     ]
    },
    {
     "data": {
      "text/markdown": [
       "$ V(x)=(0.000000001 + 0.000000000x_{0} - 0.000000000x_{1} - 0.000000002x_{0} x_{1} + 0.000000003x_{0}^{2} + 0.000000002x_{1}^{2})$"
      ],
      "text/plain": [
       "<IPython.core.display.Markdown object>"
      ]
     },
     "metadata": {},
     "output_type": "display_data"
    },
    {
     "name": "stdout",
     "output_type": "stream",
     "text": [
      "Lambda solution status: 1\n",
      "V solution status: 1\n"
     ]
    },
    {
     "data": {
      "text/markdown": [
       "$ V(x)=(0.000000001 + 0.000000000x_{0} - 0.000000000x_{1} - 0.000000002x_{0} x_{1} + 0.000000003x_{0}^{2} + 0.000000002x_{1}^{2})$"
      ],
      "text/plain": [
       "<IPython.core.display.Markdown object>"
      ]
     },
     "metadata": {},
     "output_type": "display_data"
    },
    {
     "name": "stdout",
     "output_type": "stream",
     "text": [
      "Lambda solution status: 1\n",
      "V solution status: 1\n"
     ]
    },
    {
     "data": {
      "text/markdown": [
       "$ V(x)=(0.000000001 + 0.000000000x_{0} + 0.000000000x_{1} - 0.000000001x_{0} x_{1} + 0.000000003x_{0}^{2} + 0.000000002x_{1}^{2})$"
      ],
      "text/plain": [
       "<IPython.core.display.Markdown object>"
      ]
     },
     "metadata": {},
     "output_type": "display_data"
    },
    {
     "name": "stdout",
     "output_type": "stream",
     "text": [
      "Lambda solution status: 1\n",
      "V solution status: 1\n"
     ]
    },
    {
     "data": {
      "text/markdown": [
       "$ V(x)=(0.000000003 + 0.000000000x_{0} - 0.000000000x_{1} - 0.000000003x_{0} x_{1} + 0.000000004x_{0}^{2} + 0.000000003x_{1}^{2})$"
      ],
      "text/plain": [
       "<IPython.core.display.Markdown object>"
      ]
     },
     "metadata": {},
     "output_type": "display_data"
    },
    {
     "name": "stdout",
     "output_type": "stream",
     "text": [
      "Lambda solution status: 1\n",
      "V solution status: 1\n"
     ]
    },
    {
     "data": {
      "text/markdown": [
       "$ V(x)=(0.000000002 + 0.000000000x_{0} + 0.000000000x_{1} - 0.000000002x_{0} x_{1} + 0.000000004x_{0}^{2} + 0.000000002x_{1}^{2})$"
      ],
      "text/plain": [
       "<IPython.core.display.Markdown object>"
      ]
     },
     "metadata": {},
     "output_type": "display_data"
    },
    {
     "name": "stdout",
     "output_type": "stream",
     "text": [
      "Lambda solution status: 1\n",
      "V solution status: 1\n"
     ]
    },
    {
     "data": {
      "text/markdown": [
       "$ V(x)=(0.000000001 - 0.000000000x_{0} + 0.000000000x_{1} - 0.000000002x_{0} x_{1} + 0.000000003x_{0}^{2} + 0.000000002x_{1}^{2})$"
      ],
      "text/plain": [
       "<IPython.core.display.Markdown object>"
      ]
     },
     "metadata": {},
     "output_type": "display_data"
    },
    {
     "name": "stdout",
     "output_type": "stream",
     "text": [
      "Lambda solution status: 1\n",
      "V solution status: 1\n"
     ]
    },
    {
     "data": {
      "text/markdown": [
       "$ V(x)=(0.000000001 + 0.000000000x_{0} - 0.000000000x_{1} - 0.000000002x_{0} x_{1} + 0.000000003x_{0}^{2} + 0.000000002x_{1}^{2})$"
      ],
      "text/plain": [
       "<IPython.core.display.Markdown object>"
      ]
     },
     "metadata": {},
     "output_type": "display_data"
    },
    {
     "name": "stdout",
     "output_type": "stream",
     "text": [
      "Lambda solution status: 1\n",
      "V solution status: 1\n"
     ]
    },
    {
     "data": {
      "text/markdown": [
       "$ V(x)=(0.000000001 - 0.000000000x_{0} + 0.000000000x_{1} - 0.000000002x_{0} x_{1} + 0.000000003x_{0}^{2} + 0.000000002x_{1}^{2})$"
      ],
      "text/plain": [
       "<IPython.core.display.Markdown object>"
      ]
     },
     "metadata": {},
     "output_type": "display_data"
    },
    {
     "name": "stdout",
     "output_type": "stream",
     "text": [
      "Lambda solution status: 1\n",
      "V solution status: 1\n"
     ]
    },
    {
     "data": {
      "text/markdown": [
       "$ V(x)=(0.000000001 + 0.000000000x_{0} + 0.000000000x_{1} - 0.000000001x_{0} x_{1} + 0.000000003x_{0}^{2} + 0.000000002x_{1}^{2})$"
      ],
      "text/plain": [
       "<IPython.core.display.Markdown object>"
      ]
     },
     "metadata": {},
     "output_type": "display_data"
    },
    {
     "name": "stdout",
     "output_type": "stream",
     "text": [
      "Lambda solution status: 1\n",
      "V solution status: 1\n"
     ]
    },
    {
     "data": {
      "text/markdown": [
       "$ V(x)=(0.000000003 - 0.000000000x_{0} + 0.000000000x_{1} - 0.000000003x_{0} x_{1} + 0.000000005x_{0}^{2} + 0.000000003x_{1}^{2})$"
      ],
      "text/plain": [
       "<IPython.core.display.Markdown object>"
      ]
     },
     "metadata": {},
     "output_type": "display_data"
    },
    {
     "name": "stdout",
     "output_type": "stream",
     "text": [
      "Lambda solution status: 1\n",
      "V solution status: 1\n"
     ]
    },
    {
     "data": {
      "text/markdown": [
       "$ V(x)=(0.000000002 - 0.000000000x_{0} + 0.000000000x_{1} - 0.000000002x_{0} x_{1} + 0.000000004x_{0}^{2} + 0.000000002x_{1}^{2})$"
      ],
      "text/plain": [
       "<IPython.core.display.Markdown object>"
      ]
     },
     "metadata": {},
     "output_type": "display_data"
    },
    {
     "name": "stdout",
     "output_type": "stream",
     "text": [
      "Lambda solution status: 1\n",
      "V solution status: 1\n"
     ]
    },
    {
     "data": {
      "text/markdown": [
       "$ V(x)=(0.000000001 - 0.000000000x_{0} - 0.000000000x_{1} - 0.000000002x_{0} x_{1} + 0.000000003x_{0}^{2} + 0.000000002x_{1}^{2})$"
      ],
      "text/plain": [
       "<IPython.core.display.Markdown object>"
      ]
     },
     "metadata": {},
     "output_type": "display_data"
    },
    {
     "name": "stdout",
     "output_type": "stream",
     "text": [
      "Lambda solution status: 1\n",
      "V solution status: 1\n"
     ]
    },
    {
     "data": {
      "text/markdown": [
       "$ V(x)=(0.000000001 - 0.000000000x_{0} - 0.000000000x_{1} - 0.000000002x_{0} x_{1} + 0.000000003x_{0}^{2} + 0.000000002x_{1}^{2})$"
      ],
      "text/plain": [
       "<IPython.core.display.Markdown object>"
      ]
     },
     "metadata": {},
     "output_type": "display_data"
    },
    {
     "name": "stdout",
     "output_type": "stream",
     "text": [
      "Lambda solution status: 1\n",
      "V solution status: 1\n"
     ]
    },
    {
     "data": {
      "text/markdown": [
       "$ V(x)=(0.000000001 - 0.000000000x_{0} + 0.000000000x_{1} - 0.000000002x_{0} x_{1} + 0.000000003x_{0}^{2} + 0.000000002x_{1}^{2})$"
      ],
      "text/plain": [
       "<IPython.core.display.Markdown object>"
      ]
     },
     "metadata": {},
     "output_type": "display_data"
    },
    {
     "name": "stdout",
     "output_type": "stream",
     "text": [
      "Lambda solution status: 1\n",
      "V solution status: 1\n"
     ]
    },
    {
     "data": {
      "text/markdown": [
       "$ V(x)=(0.000000001 - 0.000000000x_{0} + 0.000000000x_{1} - 0.000000001x_{0} x_{1} + 0.000000003x_{0}^{2} + 0.000000002x_{1}^{2})$"
      ],
      "text/plain": [
       "<IPython.core.display.Markdown object>"
      ]
     },
     "metadata": {},
     "output_type": "display_data"
    },
    {
     "name": "stdout",
     "output_type": "stream",
     "text": [
      "Lambda solution status: 1\n",
      "V solution status: 1\n"
     ]
    },
    {
     "data": {
      "text/markdown": [
       "$ V(x)=(0.000000003 + 0.000000000x_{0} - 0.000000000x_{1} - 0.000000003x_{0} x_{1} + 0.000000004x_{0}^{2} + 0.000000003x_{1}^{2})$"
      ],
      "text/plain": [
       "<IPython.core.display.Markdown object>"
      ]
     },
     "metadata": {},
     "output_type": "display_data"
    },
    {
     "name": "stdout",
     "output_type": "stream",
     "text": [
      "Lambda solution status: 1\n",
      "V solution status: 1\n"
     ]
    },
    {
     "data": {
      "text/markdown": [
       "$ V(x)=(0.000000002 + 0.000000000x_{0} + 0.000000000x_{1} - 0.000000002x_{0} x_{1} + 0.000000004x_{0}^{2} + 0.000000002x_{1}^{2})$"
      ],
      "text/plain": [
       "<IPython.core.display.Markdown object>"
      ]
     },
     "metadata": {},
     "output_type": "display_data"
    },
    {
     "name": "stdout",
     "output_type": "stream",
     "text": [
      "Lambda solution status: 1\n",
      "V solution status: 1\n"
     ]
    },
    {
     "data": {
      "text/markdown": [
       "$ V(x)=(0.000000001 - 0.000000000x_{0} + 0.000000000x_{1} - 0.000000002x_{0} x_{1} + 0.000000003x_{0}^{2} + 0.000000002x_{1}^{2})$"
      ],
      "text/plain": [
       "<IPython.core.display.Markdown object>"
      ]
     },
     "metadata": {},
     "output_type": "display_data"
    },
    {
     "name": "stdout",
     "output_type": "stream",
     "text": [
      "Lambda solution status: 1\n",
      "V solution status: 1\n"
     ]
    },
    {
     "data": {
      "text/markdown": [
       "$ V(x)=(0.000000001 + 0.000000000x_{0} + 0.000000000x_{1} - 0.000000002x_{0} x_{1} + 0.000000003x_{0}^{2} + 0.000000002x_{1}^{2})$"
      ],
      "text/plain": [
       "<IPython.core.display.Markdown object>"
      ]
     },
     "metadata": {},
     "output_type": "display_data"
    },
    {
     "name": "stdout",
     "output_type": "stream",
     "text": [
      "Lambda solution status: 1\n",
      "V solution status: 1\n"
     ]
    },
    {
     "data": {
      "text/markdown": [
       "$ V(x)=(0.000000001 - 0.000000000x_{0} - 0.000000000x_{1} - 0.000000002x_{0} x_{1} + 0.000000003x_{0}^{2} + 0.000000002x_{1}^{2})$"
      ],
      "text/plain": [
       "<IPython.core.display.Markdown object>"
      ]
     },
     "metadata": {},
     "output_type": "display_data"
    },
    {
     "name": "stdout",
     "output_type": "stream",
     "text": [
      "Lambda solution status: 1\n",
      "V solution status: 1\n"
     ]
    },
    {
     "data": {
      "text/markdown": [
       "$ V(x)=(0.000000001 - 0.000000000x_{0} - 0.000000000x_{1} - 0.000000001x_{0} x_{1} + 0.000000003x_{0}^{2} + 0.000000002x_{1}^{2})$"
      ],
      "text/plain": [
       "<IPython.core.display.Markdown object>"
      ]
     },
     "metadata": {},
     "output_type": "display_data"
    },
    {
     "name": "stdout",
     "output_type": "stream",
     "text": [
      "Lambda solution status: 1\n",
      "V solution status: 1\n"
     ]
    },
    {
     "data": {
      "text/markdown": [
       "$ V(x)=(0.000000003 - 0.000000000x_{0} + 0.000000000x_{1} - 0.000000003x_{0} x_{1} + 0.000000004x_{0}^{2} + 0.000000003x_{1}^{2})$"
      ],
      "text/plain": [
       "<IPython.core.display.Markdown object>"
      ]
     },
     "metadata": {},
     "output_type": "display_data"
    },
    {
     "name": "stdout",
     "output_type": "stream",
     "text": [
      "Lambda solution status: 1\n",
      "V solution status: 1\n"
     ]
    },
    {
     "data": {
      "text/markdown": [
       "$ V(x)=(0.000000001 + 0.000000000x_{0} + 0.000000000x_{1} - 0.000000002x_{0} x_{1} + 0.000000004x_{0}^{2} + 0.000000002x_{1}^{2})$"
      ],
      "text/plain": [
       "<IPython.core.display.Markdown object>"
      ]
     },
     "metadata": {},
     "output_type": "display_data"
    },
    {
     "name": "stdout",
     "output_type": "stream",
     "text": [
      "Lambda solution status: 1\n",
      "V solution status: 1\n"
     ]
    },
    {
     "data": {
      "text/markdown": [
       "$ V(x)=(0.000000001 - 0.000000000x_{0} + 0.000000000x_{1} - 0.000000002x_{0} x_{1} + 0.000000003x_{0}^{2} + 0.000000002x_{1}^{2})$"
      ],
      "text/plain": [
       "<IPython.core.display.Markdown object>"
      ]
     },
     "metadata": {},
     "output_type": "display_data"
    },
    {
     "name": "stdout",
     "output_type": "stream",
     "text": [
      "Lambda solution status: 1\n",
      "V solution status: 1\n"
     ]
    },
    {
     "data": {
      "text/markdown": [
       "$ V(x)=(0.000000001 - 0.000000000x_{0} + 0.000000000x_{1} - 0.000000002x_{0} x_{1} + 0.000000003x_{0}^{2} + 0.000000002x_{1}^{2})$"
      ],
      "text/plain": [
       "<IPython.core.display.Markdown object>"
      ]
     },
     "metadata": {},
     "output_type": "display_data"
    },
    {
     "name": "stdout",
     "output_type": "stream",
     "text": [
      "Lambda solution status: 1\n",
      "V solution status: 1\n"
     ]
    },
    {
     "data": {
      "text/markdown": [
       "$ V(x)=(0.000000001 - 0.000000000x_{0} - 0.000000000x_{1} - 0.000000002x_{0} x_{1} + 0.000000003x_{0}^{2} + 0.000000002x_{1}^{2})$"
      ],
      "text/plain": [
       "<IPython.core.display.Markdown object>"
      ]
     },
     "metadata": {},
     "output_type": "display_data"
    },
    {
     "name": "stdout",
     "output_type": "stream",
     "text": [
      "Lambda solution status: 1\n",
      "V solution status: 1\n"
     ]
    },
    {
     "data": {
      "text/markdown": [
       "$ V(x)=(0.000000003 + 0.000000000x_{0} + 0.000000000x_{1} - 0.000000003x_{0} x_{1} + 0.000000005x_{0}^{2} + 0.000000004x_{1}^{2})$"
      ],
      "text/plain": [
       "<IPython.core.display.Markdown object>"
      ]
     },
     "metadata": {},
     "output_type": "display_data"
    }
   ],
   "source": [
    "# Use this as a starting candidate for ROA study\n",
    "\n",
    "#doing the van der pol oscillator implicitly\n",
    "\n",
    "from pydrake.solvers.mathematicalprogram import MathematicalProgram, SolverOptions, Solve\n",
    "from pydrake.solvers.csdp import CsdpSolver\n",
    "from pydrake.solvers.mosek import MosekSolver\n",
    "\n",
    "negative_infinity = float('-inf')\n",
    "\n",
    "def find_implicit_lambdas(x, xd, V, Vdot, g):\n",
    "    prog = MathematicalProgram()\n",
    "    prog.AddIndeterminates(x)\n",
    "    prog.AddIndeterminates(xd)\n",
    "        \n",
    "    y = np.hstack([x, xd])\n",
    "    \n",
    "    l_deg = math.ceil(V.TotalDegree()/2) * 2\n",
    "    \n",
    "    lambda_ = prog.NewSosPolynomial(Variables(y), l_deg)[0]\n",
    "    \n",
    "    lambda_g = []\n",
    "    \n",
    "    for i in range(g.size): \n",
    "        gi_deg = max(l_deg + V.TotalDegree() - g[i].TotalDegree(), 0)\n",
    "        lambda_g.append(prog.NewFreePolynomial(Variables(y), gi_deg))\n",
    "        \n",
    "    lambda_g = np.array(lambda_g)    \n",
    "  \n",
    "    prog.AddSosConstraint(-Vdot + lambda_*(V - 1) + lambda_g.dot(g))\n",
    "        \n",
    "    solver = MosekSolver()\n",
    "    result = solver.Solve(prog)\n",
    "    \n",
    "    k = result.get_solver_details().solution_status\n",
    "                \n",
    "    print(\"Lambda solution status: \" + str(k))\n",
    "    \n",
    "    assert result.is_success()\n",
    "    \n",
    "    lambda_g_results = []\n",
    "    \n",
    "    for i in range(g.size):\n",
    "        lambda_g_results.append(result.GetSolution(lambda_g[i]).RemoveTermsWithSmallCoefficients(1e-5))\n",
    "    \n",
    "    return result.GetSolution(lambda_).RemoveTermsWithSmallCoefficients(1e-5), np.array(lambda_g_results)\n",
    "\n",
    "def find_implicit_V(x, xd, lambda_, lambda_g, g, V_degree):\n",
    "    prog = MathematicalProgram()\n",
    "    prog.AddIndeterminates(x)\n",
    "    prog.AddIndeterminates(xd)\n",
    "    \n",
    "    y = np.hstack([x, xd])\n",
    "        \n",
    "    V, Q = prog.NewSosPolynomial(Variables(x), V_degree)\n",
    "    Vdot = V.Jacobian(x).dot(xd)\n",
    "    \n",
    "    prog.AddSosConstraint(-Vdot + lambda_*(V - 1) + lambda_g.dot(g))\n",
    "    \n",
    "    prog.AddLinearCost(np.trace(Q))    \n",
    "    #prog.AddLinearConstraint(V.ToExpression().Substitute({x[0]: 0, x[1]:0, xd[0]: 0, xd[1]: 0}) == 0)\n",
    "    prog.AddLinearConstraint(V.ToExpression().Substitute({x[0]: 0, x[1]:0}) == 0)\n",
    "    \n",
    "    solver = MosekSolver()\n",
    "    result = solver.Solve(prog)\n",
    "    \n",
    "    k = result.get_solver_details().solution_status\n",
    "                \n",
    "    print(\"V solution status: \" + str(k))\n",
    "    \n",
    "    assert result.is_success()\n",
    "        \n",
    "    return result.GetSolution(V), result.GetSolution(Q)\n",
    "\n",
    "\n",
    "def problem_solver_implicit(S, V_degree, G):\n",
    "    prog = MathematicalProgram()\n",
    "    x = prog.NewIndeterminates(2, \"x\")\n",
    "    xd = prog.NewIndeterminates(2, \"xd\")\n",
    "    \n",
    "    u = -G@x\n",
    "    sinx = x[0]\n",
    "    \n",
    "    g0 = xd[0] - x[1]\n",
    "    g1 = p.mass()*(p.length()**2)*xd[1] + p.damping()*x[1] - p.mass()*p.gravity()*p.length()*sinx - u[0]\n",
    "    \n",
    "    g = np.array([g0, g1])\n",
    "    \n",
    "    V = x.T@S@x\n",
    "    Vdot = V.Jacobian(x).dot(xd)\n",
    "    \n",
    "    V = Polynomial(V)\n",
    "    Vdot = Polynomial(Vdot)\n",
    "    \n",
    "    g_poly = []\n",
    "    for i in range(g.size):\n",
    "        g_poly.append(Polynomial(g[i]))\n",
    "        \n",
    "    g_poly = np.array(g_poly)\n",
    "    \n",
    "    display(Markdown(\"$ V(x)=\"+ToLatex(V.ToExpression(), 9)+\"$\"))\n",
    "    for i in range(200):\n",
    "        lambda_, lambda_g = find_implicit_lambdas(x, xd, V, Vdot, g_poly)\n",
    "        \n",
    "#         display(Markdown(\"$ \\lambda(x)=\"+ToLatex(lambda_.ToExpression())+\"$\"))\n",
    "#         display(Markdown(\"$ \\lambda_g(x)=\"+ToLatex(lambda_g[0].ToExpression())+\"$\"))\n",
    "#         display(Markdown(\"$ \\lambda_g(x)=\"+ToLatex(lambda_g[1].ToExpression())+\"$\"))\n",
    "#         print(alpha)\n",
    "        \n",
    "        V, Q = find_implicit_V(x, xd, lambda_, lambda_g, g_poly, V_degree)\n",
    "        \n",
    "        Vdot = V.Jacobian(x).dot(xd)\n",
    "     \n",
    "        display(Markdown(\"$ V(x)=\"+ToLatex(V.ToExpression(), 9)+\"$\"))\n",
    "        \n",
    "    return V, Q\n",
    "\n",
    "V_degree = 2\n",
    "V, Q = problem_solver_implicit(candidate_matrix, V_degree, G)"
   ]
  },
  {
   "cell_type": "code",
   "execution_count": 13,
   "metadata": {},
   "outputs": [],
   "source": [
    "# now the states become sin(theta), theta_dot\n",
    "# the controller K gets multiplies by K and the new state\n",
    "# input this U in the equations of motion\n",
    "# now linearize\n",
    "# feed this linearization into the "
   ]
  },
  {
   "cell_type": "code",
   "execution_count": 14,
   "metadata": {},
   "outputs": [],
   "source": [
    "import sympy as sp\n",
    "from sympy.physics.mechanics import dynamicsymbols as dynamicsymbols\n",
    "from sympy import sin as symsin\n",
    "from sympy import cos as symcos"
   ]
  },
  {
   "cell_type": "code",
   "execution_count": 15,
   "metadata": {},
   "outputs": [
    {
     "name": "stdout",
     "output_type": "stream",
     "text": [
      "<class 'sympy.core.add.Add'>\n",
      "1.42110175013269*theta(t)**2 + 0.0428374788479707*theta(t)*theta_dot_initial(t) + 0.0516058694571062*theta_dot_initial(t)**2\n"
     ]
    }
   ],
   "source": [
    "theta, s, c = dynamicsymbols('theta s c')\n",
    "t = sp.symbols('t')\n",
    "theta_dot_initial = dynamicsymbols('theta_dot_initial')\n",
    "\n",
    "theta_dot = sp.diff(theta, t)\n",
    "\n",
    "m = p.mass()\n",
    "grav = p.gravity()\n",
    "length = p.length()\n",
    "b = p.damping()\n",
    "\n",
    "state = np.array([theta, theta_dot_initial])\n",
    "\n",
    "V = state.T@candidate_matrix@state\n",
    "print(type(V))\n",
    "V = sp.simplify(V)\n",
    "\n",
    "print(V)\n",
    "\n",
    "subs_dict = {theta**2: (2-2*c), theta: s}\n",
    "V = V.subs(subs_dict)\n",
    "\n",
    "subs_dict_2 = {theta_dot_initial: theta_dot}\n",
    "V = V.subs(subs_dict_2)"
   ]
  },
  {
   "cell_type": "code",
   "execution_count": 16,
   "metadata": {},
   "outputs": [
    {
     "data": {
      "text/latex": [
       "$\\displaystyle - 2.84220350026538 c{\\left(t \\right)} + 0.0428374788479707 s{\\left(t \\right)} \\frac{d}{d t} \\theta{\\left(t \\right)} + 0.0516058694571062 \\left(\\frac{d}{d t} \\theta{\\left(t \\right)}\\right)^{2} + 2.84220350026538$"
      ],
      "text/plain": [
       "-2.84220350026538*c(t) + 0.0428374788479707*s(t)*Derivative(theta(t), t) + 0.0516058694571062*Derivative(theta(t), t)**2 + 2.84220350026538"
      ]
     },
     "execution_count": 16,
     "metadata": {},
     "output_type": "execute_result"
    }
   ],
   "source": [
    "V"
   ]
  },
  {
   "cell_type": "code",
   "execution_count": 17,
   "metadata": {},
   "outputs": [
    {
     "name": "stdout",
     "output_type": "stream",
     "text": [
      "[ 0.0590662  -0.0074662  -0.58786123  3.43006123]\n",
      "[1.42143665 0.05127097]\n"
     ]
    }
   ],
   "source": [
    "candidate_matrix_new = np.array([[0.0516, 0, 0.021, 0], [0, 0, 0, -1.42], [0.021, 0, 0, 0], [0, -1.42, 0, 2.8422]])\n",
    "\n",
    "print(np.linalg.eigvals(candidate_matrix_new))\n",
    "print(np.linalg.eigvals(candidate_matrix))"
   ]
  },
  {
   "cell_type": "code",
   "execution_count": 18,
   "metadata": {
    "scrolled": true
   },
   "outputs": [
    {
     "data": {
      "text/markdown": [
       "$ V(x)=(2.842200000 - 2.840000000c_{0} + 0.042000000s_{0} theta_dot_{0} + 0.051600000theta_dot_{0}^{2})$"
      ],
      "text/plain": [
       "<IPython.core.display.Markdown object>"
      ]
     },
     "metadata": {},
     "output_type": "display_data"
    },
    {
     "name": "stdout",
     "output_type": "stream",
     "text": [
      "Lambda solution status: 1\n",
      "V solution status: 1\n"
     ]
    },
    {
     "data": {
      "text/markdown": [
       "$ V(x)=(6.631793360 - 3.387416523s_{0} - 9.876103091c_{0} - 0.251230409theta_dot_{0} + 2.522214577s_{0} c_{0} + 0.063035176s_{0} theta_dot_{0} + 0.188193977c_{0} theta_dot_{0} + 0.432592411s_{0}^{2} + 3.676919265c_{0}^{2} + 0.016355774theta_dot_{0}^{2})$"
      ],
      "text/plain": [
       "<IPython.core.display.Markdown object>"
      ]
     },
     "metadata": {},
     "output_type": "display_data"
    },
    {
     "name": "stdout",
     "output_type": "stream",
     "text": [
      "Lambda solution status: 1\n",
      "V solution status: 1\n"
     ]
    },
    {
     "data": {
      "text/markdown": [
       "$ V(x)=(4.827050655 - 3.249087412s_{0} - 6.404994502c_{0} - 0.781835261theta_dot_{0} + 2.153058722s_{0} c_{0} + 0.244560905s_{0} theta_dot_{0} + 0.537272752c_{0} theta_dot_{0} + 0.548011083s_{0}^{2} + 2.125961453c_{0}^{2} + 0.099469906theta_dot_{0}^{2})$"
      ],
      "text/plain": [
       "<IPython.core.display.Markdown object>"
      ]
     },
     "metadata": {},
     "output_type": "display_data"
    },
    {
     "name": "stdout",
     "output_type": "stream",
     "text": [
      "Lambda solution status: 1\n",
      "V solution status: 1\n"
     ]
    },
    {
     "data": {
      "text/markdown": [
       "$ V(x)=(3.385157712 - 2.828007488s_{0} - 3.942289902c_{0} - 0.916412576theta_dot_{0} + 1.643554950s_{0} c_{0} + 0.353840973s_{0} theta_dot_{0} + 0.562569566c_{0} theta_dot_{0} + 0.592222481s_{0}^{2} + 1.149362248c_{0}^{2} + 0.194369965theta_dot_{0}^{2})$"
      ],
      "text/plain": [
       "<IPython.core.display.Markdown object>"
      ]
     },
     "metadata": {},
     "output_type": "display_data"
    },
    {
     "name": "stdout",
     "output_type": "stream",
     "text": [
      "Lambda solution status: 1\n",
      "V solution status: 1\n"
     ]
    },
    {
     "data": {
      "text/markdown": [
       "$ V(x)=(2.348022709 - 2.305007373s_{0} - 2.390999328c_{0} - 0.719790985theta_dot_{0} + 1.172656128s_{0} c_{0} + 0.335402959s_{0} theta_dot_{0} + 0.384383149c_{0} theta_dot_{0} + 0.566166093s_{0}^{2} + 0.609161772c_{0}^{2} + 0.225200997theta_dot_{0}^{2})$"
      ],
      "text/plain": [
       "<IPython.core.display.Markdown object>"
      ]
     },
     "metadata": {},
     "output_type": "display_data"
    },
    {
     "name": "stdout",
     "output_type": "stream",
     "text": [
      "Lambda solution status: 1\n",
      "V solution status: 1\n"
     ]
    },
    {
     "data": {
      "text/markdown": [
       "$ V(x)=(1.638172640 - 1.775554339s_{0} - 1.500766198c_{0} - 0.434242009theta_dot_{0} + 0.813290871s_{0} c_{0} + 0.237747839s_{0} theta_dot_{0} + 0.196491885c_{0} theta_dot_{0} + 0.481125035s_{0}^{2} + 0.343731993c_{0}^{2} + 0.165369266theta_dot_{0}^{2})$"
      ],
      "text/plain": [
       "<IPython.core.display.Markdown object>"
      ]
     },
     "metadata": {},
     "output_type": "display_data"
    },
    {
     "name": "stdout",
     "output_type": "stream",
     "text": [
      "Lambda solution status: 1\n",
      "V solution status: 1\n"
     ]
    },
    {
     "data": {
      "text/markdown": [
       "$ V(x)=(1.153300173 - 1.312227672s_{0} - 0.994349928c_{0} - 0.256414199theta_dot_{0} + 0.565291128s_{0} c_{0} + 0.154054283s_{0} theta_dot_{0} + 0.102358227c_{0} theta_dot_{0} + 0.373461822s_{0}^{2} + 0.214524476c_{0}^{2} + 0.098790769theta_dot_{0}^{2})$"
      ],
      "text/plain": [
       "<IPython.core.display.Markdown object>"
      ]
     },
     "metadata": {},
     "output_type": "display_data"
    },
    {
     "name": "stdout",
     "output_type": "stream",
     "text": [
      "Lambda solution status: 1\n",
      "V solution status: 1\n"
     ]
    },
    {
     "data": {
      "text/markdown": [
       "$ V(x)=(0.816006385 - 0.943357596s_{0} - 0.688639323c_{0} - 0.152988628theta_dot_{0} + 0.397685385s_{0} c_{0} + 0.094727423s_{0} theta_dot_{0} + 0.058260102c_{0} theta_dot_{0} + 0.272831536s_{0}^{2} + 0.145473613c_{0}^{2} + 0.060571315theta_dot_{0}^{2})$"
      ],
      "text/plain": [
       "<IPython.core.display.Markdown object>"
      ]
     },
     "metadata": {},
     "output_type": "display_data"
    },
    {
     "name": "stdout",
     "output_type": "stream",
     "text": [
      "Lambda solution status: 1\n",
      "V solution status: 1\n"
     ]
    },
    {
     "data": {
      "text/markdown": [
       "$ V(x)=(0.573681725 - 0.660027414s_{0} - 0.487327991c_{0} - 0.088606366theta_dot_{0} + 0.280136405s_{0} c_{0} + 0.054691704s_{0} theta_dot_{0} + 0.033914261c_{0} theta_dot_{0} + 0.189943196s_{0}^{2} + 0.103594078c_{0}^{2} + 0.037714015theta_dot_{0}^{2})$"
      ],
      "text/plain": [
       "<IPython.core.display.Markdown object>"
      ]
     },
     "metadata": {},
     "output_type": "display_data"
    },
    {
     "name": "stdout",
     "output_type": "stream",
     "text": [
      "Lambda solution status: 1\n",
      "V solution status: 1\n"
     ]
    },
    {
     "data": {
      "text/markdown": [
       "$ V(x)=(0.397950900 - 0.448144998s_{0} - 0.347746164c_{0} - 0.046459485theta_dot_{0} + 0.195747010s_{0} c_{0} + 0.027710197s_{0} theta_dot_{0} + 0.018748774c_{0} theta_dot_{0} + 0.126196001s_{0}^{2} + 0.075997251c_{0}^{2} + 0.022474402theta_dot_{0}^{2})$"
      ],
      "text/plain": [
       "<IPython.core.display.Markdown object>"
      ]
     },
     "metadata": {},
     "output_type": "display_data"
    },
    {
     "name": "stdout",
     "output_type": "stream",
     "text": [
      "Lambda solution status: 1\n",
      "V solution status: 1\n"
     ]
    },
    {
     "data": {
      "text/markdown": [
       "$ V(x)=(0.274789469 - 0.299580356s_{0} - 0.249994604c_{0} - 0.019688411theta_dot_{0} + 0.136271603s_{0} c_{0} + 0.010981833s_{0} theta_dot_{0} + 0.008706470c_{0} theta_dot_{0} + 0.081653292s_{0}^{2} + 0.056860595c_{0}^{2} + 0.012058276theta_dot_{0}^{2})$"
      ],
      "text/plain": [
       "<IPython.core.display.Markdown object>"
      ]
     },
     "metadata": {},
     "output_type": "display_data"
    },
    {
     "name": "stdout",
     "output_type": "stream",
     "text": [
      "Lambda solution status: 1\n",
      "V solution status: 1\n"
     ]
    },
    {
     "data": {
      "text/markdown": [
       "$ V(x)=(0.187367055 - 0.197945325s_{0} - 0.176787292c_{0} - 0.005458629theta_dot_{0} + 0.093380852s_{0} c_{0} + 0.002720274s_{0} theta_dot_{0} + 0.002738335c_{0} theta_dot_{0} + 0.052281842s_{0}^{2} + 0.041702868c_{0}^{2} + 0.004124260theta_dot_{0}^{2})$"
      ],
      "text/plain": [
       "<IPython.core.display.Markdown object>"
      ]
     },
     "metadata": {},
     "output_type": "display_data"
    },
    {
     "name": "stdout",
     "output_type": "stream",
     "text": [
      "Lambda solution status: 1\n",
      "V solution status: 1\n"
     ]
    },
    {
     "data": {
      "text/markdown": [
       "$ V(x)=(0.127545235 - 0.132639119s_{0} - 0.122448845c_{0} - 0.000349593theta_dot_{0} + 0.063669284s_{0} c_{0} + 0.000195288s_{0} theta_dot_{0} + 0.000154283c_{0} theta_dot_{0} + 0.034484266s_{0}^{2} + 0.029389179c_{0}^{2} + 0.000300368theta_dot_{0}^{2})$"
      ],
      "text/plain": [
       "<IPython.core.display.Markdown object>"
      ]
     },
     "metadata": {},
     "output_type": "display_data"
    },
    {
     "name": "stdout",
     "output_type": "stream",
     "text": [
      "Lambda solution status: 1\n",
      "V solution status: 1\n"
     ]
    },
    {
     "data": {
      "text/markdown": [
       "$ V(x)=(0.090593235 - 0.092657025s_{0} - 0.088529048c_{0} + 0.000227048theta_dot_{0} + 0.045272906s_{0} c_{0} - 0.000115949s_{0} theta_dot_{0} - 0.000111098c_{0} theta_dot_{0} + 0.023691958s_{0}^{2} + 0.021627973c_{0}^{2} + 0.000033919theta_dot_{0}^{2})$"
      ],
      "text/plain": [
       "<IPython.core.display.Markdown object>"
      ]
     },
     "metadata": {},
     "output_type": "display_data"
    },
    {
     "name": "stdout",
     "output_type": "stream",
     "text": [
      "Lambda solution status: 1\n",
      "V solution status: 1\n"
     ]
    },
    {
     "data": {
      "text/markdown": [
       "$ V(x)=(0.064310325 - 0.065117208s_{0} - 0.063501740c_{0} + 0.000272427theta_dot_{0} + 0.032149235s_{0} c_{0} - 0.000137828s_{0} theta_dot_{0} - 0.000134596c_{0} theta_dot_{0} + 0.016483556s_{0}^{2} + 0.015675833c_{0}^{2} + 0.000027748theta_dot_{0}^{2})$"
      ],
      "text/plain": [
       "<IPython.core.display.Markdown object>"
      ]
     },
     "metadata": {},
     "output_type": "display_data"
    },
    {
     "name": "stdout",
     "output_type": "stream",
     "text": [
      "Lambda solution status: 1\n",
      "V solution status: 1\n"
     ]
    },
    {
     "data": {
      "text/markdown": [
       "$ V(x)=(0.045370403 - 0.045617609s_{0} - 0.045122611c_{0} + 0.000280491theta_dot_{0} + 0.022684233s_{0} c_{0} - 0.000140839s_{0} theta_dot_{0} - 0.000139650c_{0} theta_dot_{0} + 0.011466541s_{0}^{2} + 0.011219044c_{0}^{2} + 0.000028296theta_dot_{0}^{2})$"
      ],
      "text/plain": [
       "<IPython.core.display.Markdown object>"
      ]
     },
     "metadata": {},
     "output_type": "display_data"
    },
    {
     "name": "stdout",
     "output_type": "stream",
     "text": [
      "Lambda solution status: 1\n",
      "V solution status: 1\n"
     ]
    },
    {
     "data": {
      "text/markdown": [
       "$ V(x)=(0.032037975 - 0.032043805s_{0} - 0.032031514c_{0} + 0.000251104theta_dot_{0} + 0.016018664s_{0} c_{0} - 0.000125415s_{0} theta_dot_{0} - 0.000125687c_{0} theta_dot_{0} + 0.008012412s_{0}^{2} + 0.008006267c_{0}^{2} + 0.000023891theta_dot_{0}^{2})$"
      ],
      "text/plain": [
       "<IPython.core.display.Markdown object>"
      ]
     },
     "metadata": {},
     "output_type": "display_data"
    },
    {
     "name": "stdout",
     "output_type": "stream",
     "text": [
      "Lambda solution status: 1\n",
      "V solution status: 1\n"
     ]
    },
    {
     "data": {
      "text/markdown": [
       "$ V(x)=(0.023145530 - 0.023050454s_{0} - 0.023240221c_{0} + 0.000197315theta_dot_{0} + 0.011572369s_{0} c_{0} - 0.000098159s_{0} theta_dot_{0} - 0.000099154c_{0} theta_dot_{0} + 0.005738947s_{0}^{2} + 0.005833829c_{0}^{2} + 0.000016315theta_dot_{0}^{2})$"
      ],
      "text/plain": [
       "<IPython.core.display.Markdown object>"
      ]
     },
     "metadata": {},
     "output_type": "display_data"
    },
    {
     "name": "stdout",
     "output_type": "stream",
     "text": [
      "Lambda solution status: 1\n",
      "V solution status: 1\n"
     ]
    },
    {
     "data": {
      "text/markdown": [
       "$ V(x)=(0.017253922 - 0.017163356s_{0} - 0.017344164c_{0} + 0.000131987theta_dot_{0} + 0.008626555s_{0} c_{0} - 0.000065613s_{0} theta_dot_{0} - 0.000066375c_{0} theta_dot_{0} + 0.004268320s_{0}^{2} + 0.004358723c_{0}^{2} + 0.000009476theta_dot_{0}^{2})$"
      ],
      "text/plain": [
       "<IPython.core.display.Markdown object>"
      ]
     },
     "metadata": {},
     "output_type": "display_data"
    },
    {
     "name": "stdout",
     "output_type": "stream",
     "text": [
      "Lambda solution status: 1\n",
      "V solution status: 1\n"
     ]
    },
    {
     "data": {
      "text/markdown": [
       "$ V(x)=(0.013731464 - 0.013680461s_{0} - 0.013781735c_{0} + 0.000064161theta_dot_{0} + 0.006865268s_{0} c_{0} - 0.000031942s_{0} theta_dot_{0} - 0.000032217c_{0} theta_dot_{0} + 0.003407414s_{0}^{2} + 0.003458049c_{0}^{2} + 0.000003864theta_dot_{0}^{2})$"
      ],
      "text/plain": [
       "<IPython.core.display.Markdown object>"
      ]
     },
     "metadata": {},
     "output_type": "display_data"
    },
    {
     "name": "stdout",
     "output_type": "stream",
     "text": [
      "Lambda solution status: 1\n",
      "V solution status: 1\n"
     ]
    },
    {
     "data": {
      "text/markdown": [
       "$ V(x)=(0.012076781 - 0.012066482s_{0} - 0.012086717c_{0} + 0.000014675theta_dot_{0} + 0.006038198s_{0} c_{0} - 0.000007331s_{0} theta_dot_{0} - 0.000007344c_{0} theta_dot_{0} + 0.003014051s_{0}^{2} + 0.003024168c_{0}^{2} + 0.000000745theta_dot_{0}^{2})$"
      ],
      "text/plain": [
       "<IPython.core.display.Markdown object>"
      ]
     },
     "metadata": {},
     "output_type": "display_data"
    },
    {
     "name": "stdout",
     "output_type": "stream",
     "text": [
      "Lambda solution status: 1\n",
      "V solution status: 1\n"
     ]
    },
    {
     "data": {
      "text/markdown": [
       "$ V(x)=(0.011681885 - 0.011682666s_{0} - 0.011680798c_{0} + 0.000000714theta_dot_{0} + 0.005840777s_{0} c_{0} - 0.000000392s_{0} theta_dot_{0} - 0.000000322c_{0} theta_dot_{0} + 0.002920868s_{0}^{2} + 0.002919934c_{0}^{2} + 0.000000914theta_dot_{0}^{2})$"
      ],
      "text/plain": [
       "<IPython.core.display.Markdown object>"
      ]
     },
     "metadata": {},
     "output_type": "display_data"
    },
    {
     "name": "stdout",
     "output_type": "stream",
     "text": [
      "Lambda solution status: 1\n",
      "V solution status: 1\n"
     ]
    },
    {
     "data": {
      "text/markdown": [
       "$ V(x)=(0.011656501 - 0.011656487s_{0} - 0.011656153c_{0} + 0.000000032theta_dot_{0} + 0.005828068s_{0} c_{0} - 0.000000013s_{0} theta_dot_{0} - 0.000000018c_{0} theta_dot_{0} + 0.002914119s_{0}^{2} + 0.002913952c_{0}^{2} + 0.000000548theta_dot_{0}^{2})$"
      ],
      "text/plain": [
       "<IPython.core.display.Markdown object>"
      ]
     },
     "metadata": {},
     "output_type": "display_data"
    },
    {
     "name": "stdout",
     "output_type": "stream",
     "text": [
      "Lambda solution status: 1\n",
      "V solution status: 1\n"
     ]
    },
    {
     "data": {
      "text/markdown": [
       "$ V(x)=(0.011656351 - 0.011656244s_{0} - 0.011656180c_{0} - 0.000000004theta_dot_{0} + 0.005828027s_{0} c_{0} + 0.000000001s_{0} theta_dot_{0} + 0.000000002c_{0} theta_dot_{0} + 0.002914039s_{0}^{2} + 0.002914007c_{0}^{2} + 0.000000277theta_dot_{0}^{2})$"
      ],
      "text/plain": [
       "<IPython.core.display.Markdown object>"
      ]
     },
     "metadata": {},
     "output_type": "display_data"
    },
    {
     "name": "stdout",
     "output_type": "stream",
     "text": [
      "Lambda solution status: 1\n",
      "V solution status: 1\n"
     ]
    },
    {
     "data": {
      "text/markdown": [
       "$ V(x)=(0.011656532 - 0.011657358s_{0} - 0.011655502c_{0} + 0.000000007theta_dot_{0} + 0.005828151s_{0} c_{0} - 0.000000010s_{0} theta_dot_{0} + 0.000000003c_{0} theta_dot_{0} + 0.002914553s_{0}^{2} + 0.002913625c_{0}^{2} + 0.000000154theta_dot_{0}^{2})$"
      ],
      "text/plain": [
       "<IPython.core.display.Markdown object>"
      ]
     },
     "metadata": {},
     "output_type": "display_data"
    },
    {
     "name": "stdout",
     "output_type": "stream",
     "text": [
      "Lambda solution status: 1\n",
      "V solution status: 1\n"
     ]
    },
    {
     "data": {
      "text/markdown": [
       "$ V(x)=(0.011656576 - 0.011656897s_{0} - 0.011656141c_{0} + 0.000000001theta_dot_{0} + 0.005828220s_{0} c_{0} - 0.000000007s_{0} theta_dot_{0} + 0.000000005c_{0} theta_dot_{0} + 0.002914310s_{0}^{2} + 0.002913932c_{0}^{2} + 0.000000104theta_dot_{0}^{2})$"
      ],
      "text/plain": [
       "<IPython.core.display.Markdown object>"
      ]
     },
     "metadata": {},
     "output_type": "display_data"
    },
    {
     "name": "stdout",
     "output_type": "stream",
     "text": [
      "Lambda solution status: 1\n",
      "V solution status: 1\n"
     ]
    },
    {
     "data": {
      "text/markdown": [
       "$ V(x)=(0.011656442 - 0.011656371s_{0} - 0.011656329c_{0} - 0.000000001theta_dot_{0} + 0.005828120s_{0} c_{0} + 0.000000003s_{0} theta_dot_{0} - 0.000000003c_{0} theta_dot_{0} + 0.002914080s_{0}^{2} + 0.002914058c_{0}^{2} + 0.000000090theta_dot_{0}^{2})$"
      ],
      "text/plain": [
       "<IPython.core.display.Markdown object>"
      ]
     },
     "metadata": {},
     "output_type": "display_data"
    },
    {
     "name": "stdout",
     "output_type": "stream",
     "text": [
      "Lambda solution status: 1\n",
      "V solution status: 1\n"
     ]
    },
    {
     "data": {
      "text/markdown": [
       "$ V(x)=(0.011656428 - 0.011656338s_{0} - 0.011656328c_{0} + 0.000000008theta_dot_{0} + 0.005828100s_{0} c_{0} - 0.000000017s_{0} theta_dot_{0} + 0.000000009c_{0} theta_dot_{0} + 0.002914071s_{0}^{2} + 0.002914067c_{0}^{2} + 0.000000073theta_dot_{0}^{2})$"
      ],
      "text/plain": [
       "<IPython.core.display.Markdown object>"
      ]
     },
     "metadata": {},
     "output_type": "display_data"
    },
    {
     "name": "stdout",
     "output_type": "stream",
     "text": [
      "Lambda solution status: 1\n",
      "V solution status: 1\n"
     ]
    },
    {
     "data": {
      "text/markdown": [
       "$ V(x)=(0.011656540 - 0.011654401s_{0} - 0.011658547c_{0} - 0.000000003theta_dot_{0} + 0.005828197s_{0} c_{0} + 0.000000000s_{0} theta_dot_{0} + 0.000000002c_{0} theta_dot_{0} + 0.002913069s_{0}^{2} + 0.002915141c_{0}^{2} + 0.000000040theta_dot_{0}^{2})$"
      ],
      "text/plain": [
       "<IPython.core.display.Markdown object>"
      ]
     },
     "metadata": {},
     "output_type": "display_data"
    },
    {
     "name": "stdout",
     "output_type": "stream",
     "text": [
      "Lambda solution status: 1\n",
      "V solution status: 1\n"
     ]
    },
    {
     "data": {
      "text/markdown": [
       "$ V(x)=(0.011656515 - 0.011655974s_{0} - 0.011656923c_{0} - 0.000000005theta_dot_{0} + 0.005828177s_{0} c_{0} - 0.000000012s_{0} theta_dot_{0} + 0.000000017c_{0} theta_dot_{0} + 0.002913865s_{0}^{2} + 0.002914340c_{0}^{2} + 0.000000073theta_dot_{0}^{2})$"
      ],
      "text/plain": [
       "<IPython.core.display.Markdown object>"
      ]
     },
     "metadata": {},
     "output_type": "display_data"
    },
    {
     "name": "stdout",
     "output_type": "stream",
     "text": [
      "Lambda solution status: 1\n",
      "V solution status: 1\n"
     ]
    },
    {
     "data": {
      "text/markdown": [
       "$ V(x)=(0.011656421 - 0.011656232s_{0} - 0.011656429c_{0} + 0.000000001theta_dot_{0} + 0.005828103s_{0} c_{0} - 0.000000004s_{0} theta_dot_{0} + 0.000000003c_{0} theta_dot_{0} + 0.002914019s_{0}^{2} + 0.002914118c_{0}^{2} + 0.000000065theta_dot_{0}^{2})$"
      ],
      "text/plain": [
       "<IPython.core.display.Markdown object>"
      ]
     },
     "metadata": {},
     "output_type": "display_data"
    },
    {
     "name": "stdout",
     "output_type": "stream",
     "text": [
      "Lambda solution status: 1\n",
      "V solution status: 1\n"
     ]
    },
    {
     "data": {
      "text/markdown": [
       "$ V(x)=(0.011656586 - 0.011656609s_{0} - 0.011656451c_{0} - 0.000000003theta_dot_{0} + 0.005828229s_{0} c_{0} + 0.000000005s_{0} theta_dot_{0} - 0.000000002c_{0} theta_dot_{0} + 0.002914161s_{0}^{2} + 0.002914082c_{0}^{2} + 0.000000047theta_dot_{0}^{2})$"
      ],
      "text/plain": [
       "<IPython.core.display.Markdown object>"
      ]
     },
     "metadata": {},
     "output_type": "display_data"
    },
    {
     "name": "stdout",
     "output_type": "stream",
     "text": [
      "Lambda solution status: 1\n",
      "V solution status: 1\n"
     ]
    },
    {
     "data": {
      "text/markdown": [
       "$ V(x)=(0.011656551 - 0.011656369s_{0} - 0.011656607c_{0} - 0.000000002theta_dot_{0} + 0.005828203s_{0} c_{0} + 0.000000005s_{0} theta_dot_{0} - 0.000000003c_{0} theta_dot_{0} + 0.002914051s_{0}^{2} + 0.002914170c_{0}^{2} + 0.000000052theta_dot_{0}^{2})$"
      ],
      "text/plain": [
       "<IPython.core.display.Markdown object>"
      ]
     },
     "metadata": {},
     "output_type": "display_data"
    },
    {
     "name": "stdout",
     "output_type": "stream",
     "text": [
      "Lambda solution status: 1\n",
      "V solution status: 1\n"
     ]
    },
    {
     "data": {
      "text/markdown": [
       "$ V(x)=(0.011656467 - 0.011656331s_{0} - 0.011656385c_{0} + 0.000000030theta_dot_{0} + 0.005828113s_{0} c_{0} - 0.000000011s_{0} theta_dot_{0} - 0.000000019c_{0} theta_dot_{0} + 0.002914054s_{0}^{2} + 0.002914081c_{0}^{2} + 0.000000063theta_dot_{0}^{2})$"
      ],
      "text/plain": [
       "<IPython.core.display.Markdown object>"
      ]
     },
     "metadata": {},
     "output_type": "display_data"
    },
    {
     "name": "stdout",
     "output_type": "stream",
     "text": [
      "Lambda solution status: 1\n",
      "V solution status: 1\n"
     ]
    },
    {
     "data": {
      "text/markdown": [
       "$ V(x)=(0.011656484 - 0.011656397s_{0} - 0.011656408c_{0} + 0.000000000theta_dot_{0} + 0.005828152s_{0} c_{0} + 0.000000002s_{0} theta_dot_{0} - 0.000000002c_{0} theta_dot_{0} + 0.002914082s_{0}^{2} + 0.002914088c_{0}^{2} + 0.000000058theta_dot_{0}^{2})$"
      ],
      "text/plain": [
       "<IPython.core.display.Markdown object>"
      ]
     },
     "metadata": {},
     "output_type": "display_data"
    },
    {
     "name": "stdout",
     "output_type": "stream",
     "text": [
      "Lambda solution status: 1\n",
      "V solution status: 1\n"
     ]
    },
    {
     "data": {
      "text/markdown": [
       "$ V(x)=(0.011656531 - 0.011657342s_{0} - 0.011655576c_{0} - 0.000000010theta_dot_{0} + 0.005828175s_{0} c_{0} - 0.000000011s_{0} theta_dot_{0} + 0.000000022c_{0} theta_dot_{0} + 0.002914548s_{0}^{2} + 0.002913665c_{0}^{2} + 0.000000065theta_dot_{0}^{2})$"
      ],
      "text/plain": [
       "<IPython.core.display.Markdown object>"
      ]
     },
     "metadata": {},
     "output_type": "display_data"
    },
    {
     "name": "stdout",
     "output_type": "stream",
     "text": [
      "Lambda solution status: 1\n",
      "V solution status: 1\n"
     ]
    },
    {
     "data": {
      "text/markdown": [
       "$ V(x)=(0.011656545 - 0.011656523s_{0} - 0.011656443c_{0} - 0.000000005theta_dot_{0} + 0.005828203s_{0} c_{0} + 0.000000004s_{0} theta_dot_{0} + 0.000000001c_{0} theta_dot_{0} + 0.002914129s_{0}^{2} + 0.002914089c_{0}^{2} + 0.000000059theta_dot_{0}^{2})$"
      ],
      "text/plain": [
       "<IPython.core.display.Markdown object>"
      ]
     },
     "metadata": {},
     "output_type": "display_data"
    },
    {
     "name": "stdout",
     "output_type": "stream",
     "text": [
      "Lambda solution status: 1\n",
      "V solution status: 1\n"
     ]
    },
    {
     "data": {
      "text/markdown": [
       "$ V(x)=(0.011656423 - 0.011656363s_{0} - 0.011656296c_{0} + 0.000000000theta_dot_{0} + 0.005828109s_{0} c_{0} - 0.000000001s_{0} theta_dot_{0} + 0.000000001c_{0} theta_dot_{0} + 0.002914080s_{0}^{2} + 0.002914047c_{0}^{2} + 0.000000068theta_dot_{0}^{2})$"
      ],
      "text/plain": [
       "<IPython.core.display.Markdown object>"
      ]
     },
     "metadata": {},
     "output_type": "display_data"
    },
    {
     "name": "stdout",
     "output_type": "stream",
     "text": [
      "Lambda solution status: 1\n",
      "V solution status: 1\n"
     ]
    },
    {
     "data": {
      "text/markdown": [
       "$ V(x)=(0.011656428 - 0.011656457s_{0} - 0.011656238c_{0} - 0.000000001theta_dot_{0} + 0.005828123s_{0} c_{0} + 0.000000002s_{0} theta_dot_{0} - 0.000000001c_{0} theta_dot_{0} + 0.002914127s_{0}^{2} + 0.002914018c_{0}^{2} + 0.000000081theta_dot_{0}^{2})$"
      ],
      "text/plain": [
       "<IPython.core.display.Markdown object>"
      ]
     },
     "metadata": {},
     "output_type": "display_data"
    },
    {
     "name": "stdout",
     "output_type": "stream",
     "text": [
      "Lambda solution status: 1\n",
      "V solution status: 1\n"
     ]
    },
    {
     "data": {
      "text/markdown": [
       "$ V(x)=(0.011656513 - 0.011656339s_{0} - 0.011656512c_{0} + 0.000000020theta_dot_{0} + 0.005828162s_{0} c_{0} - 0.000000015s_{0} theta_dot_{0} - 0.000000006c_{0} theta_dot_{0} + 0.002914045s_{0}^{2} + 0.002914132c_{0}^{2} + 0.000000070theta_dot_{0}^{2})$"
      ],
      "text/plain": [
       "<IPython.core.display.Markdown object>"
      ]
     },
     "metadata": {},
     "output_type": "display_data"
    },
    {
     "name": "stdout",
     "output_type": "stream",
     "text": [
      "Lambda solution status: 1\n",
      "V solution status: 1\n"
     ]
    },
    {
     "data": {
      "text/markdown": [
       "$ V(x)=(0.011656517 - 0.011656916s_{0} - 0.011655972c_{0} + 0.000000005theta_dot_{0} + 0.005828171s_{0} c_{0} - 0.000000005s_{0} theta_dot_{0} + 0.000000000c_{0} theta_dot_{0} + 0.002914337s_{0}^{2} + 0.002913864c_{0}^{2} + 0.000000054theta_dot_{0}^{2})$"
      ],
      "text/plain": [
       "<IPython.core.display.Markdown object>"
      ]
     },
     "metadata": {},
     "output_type": "display_data"
    },
    {
     "name": "stdout",
     "output_type": "stream",
     "text": [
      "Lambda solution status: 1\n",
      "V solution status: 1\n"
     ]
    },
    {
     "data": {
      "text/markdown": [
       "$ V(x)=(0.011656505 - 0.011656408s_{0} - 0.011656441c_{0} - 0.000000003theta_dot_{0} + 0.005828163s_{0} c_{0} + 0.000000001s_{0} theta_dot_{0} + 0.000000002c_{0} theta_dot_{0} + 0.002914082s_{0}^{2} + 0.002914099c_{0}^{2} + 0.000000064theta_dot_{0}^{2})$"
      ],
      "text/plain": [
       "<IPython.core.display.Markdown object>"
      ]
     },
     "metadata": {},
     "output_type": "display_data"
    },
    {
     "name": "stdout",
     "output_type": "stream",
     "text": [
      "Lambda solution status: 1\n",
      "V solution status: 1\n"
     ]
    },
    {
     "data": {
      "text/markdown": [
       "$ V(x)=(0.011656412 - 0.011656256s_{0} - 0.011656380c_{0} - 0.000000002theta_dot_{0} + 0.005828096s_{0} c_{0} + 0.000000001s_{0} theta_dot_{0} + 0.000000001c_{0} theta_dot_{0} + 0.002914033s_{0}^{2} + 0.002914095c_{0}^{2} + 0.000000069theta_dot_{0}^{2})$"
      ],
      "text/plain": [
       "<IPython.core.display.Markdown object>"
      ]
     },
     "metadata": {},
     "output_type": "display_data"
    },
    {
     "name": "stdout",
     "output_type": "stream",
     "text": [
      "Lambda solution status: 1\n",
      "V solution status: 1\n"
     ]
    },
    {
     "data": {
      "text/markdown": [
       "$ V(x)=(0.011656518 - 0.011656698s_{0} - 0.011656203c_{0} - 0.000000011theta_dot_{0} + 0.005828179s_{0} c_{0} + 0.000000013s_{0} theta_dot_{0} - 0.000000002c_{0} theta_dot_{0} + 0.002914226s_{0}^{2} + 0.002913978c_{0}^{2} + 0.000000056theta_dot_{0}^{2})$"
      ],
      "text/plain": [
       "<IPython.core.display.Markdown object>"
      ]
     },
     "metadata": {},
     "output_type": "display_data"
    },
    {
     "name": "stdout",
     "output_type": "stream",
     "text": [
      "Lambda solution status: 1\n",
      "V solution status: 1\n"
     ]
    },
    {
     "data": {
      "text/markdown": [
       "$ V(x)=(0.011656405 - 0.011656313s_{0} - 0.011656303c_{0} - 0.000000003theta_dot_{0} + 0.005828096s_{0} c_{0} + 0.000000000s_{0} theta_dot_{0} + 0.000000003c_{0} theta_dot_{0} + 0.002914060s_{0}^{2} + 0.002914055c_{0}^{2} + 0.000000065theta_dot_{0}^{2})$"
      ],
      "text/plain": [
       "<IPython.core.display.Markdown object>"
      ]
     },
     "metadata": {},
     "output_type": "display_data"
    },
    {
     "name": "stdout",
     "output_type": "stream",
     "text": [
      "Lambda solution status: 1\n",
      "V solution status: 1\n"
     ]
    },
    {
     "data": {
      "text/markdown": [
       "$ V(x)=(0.011656421 - 0.011656118s_{0} - 0.011656526c_{0} + 0.000000015theta_dot_{0} + 0.005828101s_{0} c_{0} - 0.000000003s_{0} theta_dot_{0} - 0.000000012c_{0} theta_dot_{0} + 0.002913959s_{0}^{2} + 0.002914163c_{0}^{2} + 0.000000072theta_dot_{0}^{2})$"
      ],
      "text/plain": [
       "<IPython.core.display.Markdown object>"
      ]
     },
     "metadata": {},
     "output_type": "display_data"
    },
    {
     "name": "stdout",
     "output_type": "stream",
     "text": [
      "Lambda solution status: 1\n",
      "V solution status: 1\n"
     ]
    },
    {
     "data": {
      "text/markdown": [
       "$ V(x)=(0.011656597 - 0.011656542s_{0} - 0.011656541c_{0} - 0.000000004theta_dot_{0} + 0.005828238s_{0} c_{0} + 0.000000002s_{0} theta_dot_{0} + 0.000000001c_{0} theta_dot_{0} + 0.002914125s_{0}^{2} + 0.002914124c_{0}^{2} + 0.000000048theta_dot_{0}^{2})$"
      ],
      "text/plain": [
       "<IPython.core.display.Markdown object>"
      ]
     },
     "metadata": {},
     "output_type": "display_data"
    },
    {
     "name": "stdout",
     "output_type": "stream",
     "text": [
      "Lambda solution status: 1\n",
      "V solution status: 1\n"
     ]
    },
    {
     "data": {
      "text/markdown": [
       "$ V(x)=(0.011656468 - 0.011656517s_{0} - 0.011656249c_{0} - 0.000000001theta_dot_{0} + 0.005828137s_{0} c_{0} + 0.000000005s_{0} theta_dot_{0} - 0.000000004c_{0} theta_dot_{0} + 0.002914147s_{0}^{2} + 0.002914013c_{0}^{2} + 0.000000060theta_dot_{0}^{2})$"
      ],
      "text/plain": [
       "<IPython.core.display.Markdown object>"
      ]
     },
     "metadata": {},
     "output_type": "display_data"
    },
    {
     "name": "stdout",
     "output_type": "stream",
     "text": [
      "Lambda solution status: 1\n",
      "V solution status: 1\n"
     ]
    },
    {
     "data": {
      "text/markdown": [
       "$ V(x)=(0.011656397 - 0.011656188s_{0} - 0.011656411c_{0} + 0.000000000theta_dot_{0} + 0.005828085s_{0} c_{0} - 0.000000004s_{0} theta_dot_{0} + 0.000000004c_{0} theta_dot_{0} + 0.002914003s_{0}^{2} + 0.002914114c_{0}^{2} + 0.000000061theta_dot_{0}^{2})$"
      ],
      "text/plain": [
       "<IPython.core.display.Markdown object>"
      ]
     },
     "metadata": {},
     "output_type": "display_data"
    },
    {
     "name": "stdout",
     "output_type": "stream",
     "text": [
      "Lambda solution status: 1\n",
      "V solution status: 1\n"
     ]
    },
    {
     "data": {
      "text/markdown": [
       "$ V(x)=(0.011656395 - 0.011656420s_{0} - 0.011656178c_{0} - 0.000000001theta_dot_{0} + 0.005828086s_{0} c_{0} - 0.000000006s_{0} theta_dot_{0} + 0.000000007c_{0} theta_dot_{0} + 0.002914119s_{0}^{2} + 0.002913998c_{0}^{2} + 0.000000059theta_dot_{0}^{2})$"
      ],
      "text/plain": [
       "<IPython.core.display.Markdown object>"
      ]
     },
     "metadata": {},
     "output_type": "display_data"
    },
    {
     "name": "stdout",
     "output_type": "stream",
     "text": [
      "Lambda solution status: 1\n",
      "V solution status: 1\n"
     ]
    },
    {
     "data": {
      "text/markdown": [
       "$ V(x)=(0.011656553 - 0.011656815s_{0} - 0.011656164c_{0} - 0.000000003theta_dot_{0} + 0.005828201s_{0} c_{0} - 0.000000001s_{0} theta_dot_{0} + 0.000000004c_{0} theta_dot_{0} + 0.002914275s_{0}^{2} + 0.002913950c_{0}^{2} + 0.000000044theta_dot_{0}^{2})$"
      ],
      "text/plain": [
       "<IPython.core.display.Markdown object>"
      ]
     },
     "metadata": {},
     "output_type": "display_data"
    },
    {
     "name": "stdout",
     "output_type": "stream",
     "text": [
      "Lambda solution status: 1\n",
      "V solution status: 1\n"
     ]
    },
    {
     "data": {
      "text/markdown": [
       "$ V(x)=(0.011656471 - 0.011656715s_{0} - 0.011656052c_{0} + 0.000000010theta_dot_{0} + 0.005828138s_{0} c_{0} + 0.000000003s_{0} theta_dot_{0} - 0.000000013c_{0} theta_dot_{0} + 0.002914244s_{0}^{2} + 0.002913913c_{0}^{2} + 0.000000054theta_dot_{0}^{2})$"
      ],
      "text/plain": [
       "<IPython.core.display.Markdown object>"
      ]
     },
     "metadata": {},
     "output_type": "display_data"
    },
    {
     "name": "stdout",
     "output_type": "stream",
     "text": [
      "Lambda solution status: 1\n",
      "V solution status: 1\n"
     ]
    },
    {
     "data": {
      "text/markdown": [
       "$ V(x)=(0.011656449 - 0.011656529s_{0} - 0.011656196c_{0} + 0.000000003theta_dot_{0} + 0.005828125s_{0} c_{0} + 0.000000004s_{0} theta_dot_{0} - 0.000000007c_{0} theta_dot_{0} + 0.002914158s_{0}^{2} + 0.002913992c_{0}^{2} + 0.000000058theta_dot_{0}^{2})$"
      ],
      "text/plain": [
       "<IPython.core.display.Markdown object>"
      ]
     },
     "metadata": {},
     "output_type": "display_data"
    },
    {
     "name": "stdout",
     "output_type": "stream",
     "text": [
      "Lambda solution status: 1\n",
      "V solution status: 1\n"
     ]
    },
    {
     "data": {
      "text/markdown": [
       "$ V(x)=(0.011656570 - 0.011656028s_{0} - 0.011656926c_{0} + 0.000000058theta_dot_{0} + 0.005828181s_{0} c_{0} - 0.000000030s_{0} theta_dot_{0} - 0.000000028c_{0} theta_dot_{0} + 0.002913877s_{0}^{2} + 0.002914326c_{0}^{2} + 0.000000038theta_dot_{0}^{2})$"
      ],
      "text/plain": [
       "<IPython.core.display.Markdown object>"
      ]
     },
     "metadata": {},
     "output_type": "display_data"
    },
    {
     "name": "stdout",
     "output_type": "stream",
     "text": [
      "Lambda solution status: 1\n",
      "V solution status: 1\n"
     ]
    },
    {
     "data": {
      "text/markdown": [
       "$ V(x)=(0.011656596 - 0.011656648s_{0} - 0.011656435c_{0} - 0.000000004theta_dot_{0} + 0.005828236s_{0} c_{0} + 0.000000005s_{0} theta_dot_{0} - 0.000000000c_{0} theta_dot_{0} + 0.002914179s_{0}^{2} + 0.002914072c_{0}^{2} + 0.000000041theta_dot_{0}^{2})$"
      ],
      "text/plain": [
       "<IPython.core.display.Markdown object>"
      ]
     },
     "metadata": {},
     "output_type": "display_data"
    },
    {
     "name": "stdout",
     "output_type": "stream",
     "text": [
      "Lambda solution status: 1\n",
      "V solution status: 1\n"
     ]
    },
    {
     "data": {
      "text/markdown": [
       "$ V(x)=(0.011656322 - 0.011655761s_{0} - 0.011656653c_{0} - 0.000000002theta_dot_{0} + 0.005828031s_{0} c_{0} + 0.000000018s_{0} theta_dot_{0} - 0.000000015c_{0} theta_dot_{0} + 0.002913808s_{0}^{2} + 0.002914254c_{0}^{2} + 0.000000084theta_dot_{0}^{2})$"
      ],
      "text/plain": [
       "<IPython.core.display.Markdown object>"
      ]
     },
     "metadata": {},
     "output_type": "display_data"
    },
    {
     "name": "stdout",
     "output_type": "stream",
     "text": [
      "Lambda solution status: 1\n",
      "V solution status: 1\n"
     ]
    },
    {
     "data": {
      "text/markdown": [
       "$ V(x)=(0.011656232 - 0.011656137s_{0} - 0.011656083c_{0} - 0.000000002theta_dot_{0} + 0.005827986s_{0} c_{0} + 0.000000003s_{0} theta_dot_{0} - 0.000000001c_{0} theta_dot_{0} + 0.002914015s_{0}^{2} + 0.002913988c_{0}^{2} + 0.000000064theta_dot_{0}^{2})$"
      ],
      "text/plain": [
       "<IPython.core.display.Markdown object>"
      ]
     },
     "metadata": {},
     "output_type": "display_data"
    },
    {
     "name": "stdout",
     "output_type": "stream",
     "text": [
      "Lambda solution status: 1\n",
      "V solution status: 1\n"
     ]
    },
    {
     "data": {
      "text/markdown": [
       "$ V(x)=(0.011656506 - 0.011656422s_{0} - 0.011656444c_{0} + 0.000000006theta_dot_{0} + 0.005828169s_{0} c_{0} - 0.000000004s_{0} theta_dot_{0} - 0.000000002c_{0} theta_dot_{0} + 0.002914090s_{0}^{2} + 0.002914101c_{0}^{2} + 0.000000055theta_dot_{0}^{2})$"
      ],
      "text/plain": [
       "<IPython.core.display.Markdown object>"
      ]
     },
     "metadata": {},
     "output_type": "display_data"
    },
    {
     "name": "stdout",
     "output_type": "stream",
     "text": [
      "Lambda solution status: 1\n",
      "V solution status: 1\n"
     ]
    },
    {
     "data": {
      "text/markdown": [
       "$ V(x)=(0.011656540 - 0.011656503s_{0} - 0.011656434c_{0} + 0.000000011theta_dot_{0} + 0.005828192s_{0} c_{0} - 0.000000003s_{0} theta_dot_{0} - 0.000000008c_{0} theta_dot_{0} + 0.002914120s_{0}^{2} + 0.002914085c_{0}^{2} + 0.000000048theta_dot_{0}^{2})$"
      ],
      "text/plain": [
       "<IPython.core.display.Markdown object>"
      ]
     },
     "metadata": {},
     "output_type": "display_data"
    },
    {
     "name": "stdout",
     "output_type": "stream",
     "text": [
      "Lambda solution status: 1\n",
      "V solution status: 1\n"
     ]
    },
    {
     "data": {
      "text/markdown": [
       "$ V(x)=(0.011656527 - 0.011656652s_{0} - 0.011656238c_{0} + 0.000000006theta_dot_{0} + 0.005828172s_{0} c_{0} - 0.000000004s_{0} theta_dot_{0} - 0.000000001c_{0} theta_dot_{0} + 0.002914199s_{0}^{2} + 0.002913992c_{0}^{2} + 0.000000044theta_dot_{0}^{2})$"
      ],
      "text/plain": [
       "<IPython.core.display.Markdown object>"
      ]
     },
     "metadata": {},
     "output_type": "display_data"
    },
    {
     "name": "stdout",
     "output_type": "stream",
     "text": [
      "Lambda solution status: 1\n",
      "V solution status: 1\n"
     ]
    },
    {
     "data": {
      "text/markdown": [
       "$ V(x)=(0.011656562 - 0.011656992s_{0} - 0.011656004c_{0} - 0.000000001theta_dot_{0} + 0.005828201s_{0} c_{0} - 0.000000004s_{0} theta_dot_{0} + 0.000000005c_{0} theta_dot_{0} + 0.002914363s_{0}^{2} + 0.002913869c_{0}^{2} + 0.000000043theta_dot_{0}^{2})$"
      ],
      "text/plain": [
       "<IPython.core.display.Markdown object>"
      ]
     },
     "metadata": {},
     "output_type": "display_data"
    },
    {
     "name": "stdout",
     "output_type": "stream",
     "text": [
      "Lambda solution status: 1\n",
      "V solution status: 1\n"
     ]
    },
    {
     "data": {
      "text/markdown": [
       "$ V(x)=(0.011656587 - 0.011656633s_{0} - 0.011656409c_{0} + 0.000000013theta_dot_{0} + 0.005828221s_{0} c_{0} - 0.000000009s_{0} theta_dot_{0} - 0.000000004c_{0} theta_dot_{0} + 0.002914173s_{0}^{2} + 0.002914061c_{0}^{2} + 0.000000035theta_dot_{0}^{2})$"
      ],
      "text/plain": [
       "<IPython.core.display.Markdown object>"
      ]
     },
     "metadata": {},
     "output_type": "display_data"
    },
    {
     "name": "stdout",
     "output_type": "stream",
     "text": [
      "Lambda solution status: 1\n",
      "V solution status: 1\n"
     ]
    },
    {
     "data": {
      "text/markdown": [
       "$ V(x)=(0.011656455 - 0.011656366s_{0} - 0.011656372c_{0} - 0.000000008theta_dot_{0} + 0.005828129s_{0} c_{0} + 0.000000005s_{0} theta_dot_{0} + 0.000000003c_{0} theta_dot_{0} + 0.002914075s_{0}^{2} + 0.002914079c_{0}^{2} + 0.000000061theta_dot_{0}^{2})$"
      ],
      "text/plain": [
       "<IPython.core.display.Markdown object>"
      ]
     },
     "metadata": {},
     "output_type": "display_data"
    },
    {
     "name": "stdout",
     "output_type": "stream",
     "text": [
      "Lambda solution status: 1\n",
      "V solution status: 1\n"
     ]
    },
    {
     "data": {
      "text/markdown": [
       "$ V(x)=(0.011656495 - 0.011656506s_{0} - 0.011656319c_{0} + 0.000000005theta_dot_{0} + 0.005828156s_{0} c_{0} + 0.000000000s_{0} theta_dot_{0} - 0.000000005c_{0} theta_dot_{0} + 0.002914134s_{0}^{2} + 0.002914040c_{0}^{2} + 0.000000052theta_dot_{0}^{2})$"
      ],
      "text/plain": [
       "<IPython.core.display.Markdown object>"
      ]
     },
     "metadata": {},
     "output_type": "display_data"
    },
    {
     "name": "stdout",
     "output_type": "stream",
     "text": [
      "Lambda solution status: 1\n",
      "V solution status: 1\n"
     ]
    },
    {
     "data": {
      "text/markdown": [
       "$ V(x)=(0.011656575 - 0.011656610s_{0} - 0.011656364c_{0} + 0.000000048theta_dot_{0} + 0.005828195s_{0} c_{0} - 0.000000025s_{0} theta_dot_{0} - 0.000000023c_{0} theta_dot_{0} + 0.002914163s_{0}^{2} + 0.002914041c_{0}^{2} + 0.000000034theta_dot_{0}^{2})$"
      ],
      "text/plain": [
       "<IPython.core.display.Markdown object>"
      ]
     },
     "metadata": {},
     "output_type": "display_data"
    },
    {
     "name": "stdout",
     "output_type": "stream",
     "text": [
      "Lambda solution status: 1\n",
      "V solution status: 1\n"
     ]
    },
    {
     "data": {
      "text/markdown": [
       "$ V(x)=(0.011656619 - 0.011656710s_{0} - 0.011656408c_{0} + 0.000000021theta_dot_{0} + 0.005828244s_{0} c_{0} - 0.000000008s_{0} theta_dot_{0} - 0.000000012c_{0} theta_dot_{0} + 0.002914202s_{0}^{2} + 0.002914051c_{0}^{2} + 0.000000031theta_dot_{0}^{2})$"
      ],
      "text/plain": [
       "<IPython.core.display.Markdown object>"
      ]
     },
     "metadata": {},
     "output_type": "display_data"
    },
    {
     "name": "stdout",
     "output_type": "stream",
     "text": [
      "Lambda solution status: 1\n",
      "V solution status: 1\n"
     ]
    },
    {
     "data": {
      "text/markdown": [
       "$ V(x)=(0.011656572 - 0.011656755s_{0} - 0.011656271c_{0} + 0.000000000theta_dot_{0} + 0.005828217s_{0} c_{0} - 0.000000004s_{0} theta_dot_{0} + 0.000000004c_{0} theta_dot_{0} + 0.002914240s_{0}^{2} + 0.002913998c_{0}^{2} + 0.000000043theta_dot_{0}^{2})$"
      ],
      "text/plain": [
       "<IPython.core.display.Markdown object>"
      ]
     },
     "metadata": {},
     "output_type": "display_data"
    },
    {
     "name": "stdout",
     "output_type": "stream",
     "text": [
      "Lambda solution status: 1\n",
      "V solution status: 1\n"
     ]
    },
    {
     "data": {
      "text/markdown": [
       "$ V(x)=(0.011656412 - 0.011656318s_{0} - 0.011656320c_{0} - 0.000000002theta_dot_{0} + 0.005828102s_{0} c_{0} + 0.000000003s_{0} theta_dot_{0} - 0.000000001c_{0} theta_dot_{0} + 0.002914061s_{0}^{2} + 0.002914062c_{0}^{2} + 0.000000064theta_dot_{0}^{2})$"
      ],
      "text/plain": [
       "<IPython.core.display.Markdown object>"
      ]
     },
     "metadata": {},
     "output_type": "display_data"
    },
    {
     "name": "stdout",
     "output_type": "stream",
     "text": [
      "Lambda solution status: 1\n",
      "V solution status: 1\n"
     ]
    },
    {
     "data": {
      "text/markdown": [
       "$ V(x)=(0.011656437 - 0.011656224s_{0} - 0.011656473c_{0} - 0.000000009theta_dot_{0} + 0.005828121s_{0} c_{0} + 0.000000008s_{0} theta_dot_{0} + 0.000000001c_{0} theta_dot_{0} + 0.002914008s_{0}^{2} + 0.002914133c_{0}^{2} + 0.000000066theta_dot_{0}^{2})$"
      ],
      "text/plain": [
       "<IPython.core.display.Markdown object>"
      ]
     },
     "metadata": {},
     "output_type": "display_data"
    },
    {
     "name": "stdout",
     "output_type": "stream",
     "text": [
      "Lambda solution status: 1\n",
      "V solution status: 1\n"
     ]
    },
    {
     "data": {
      "text/markdown": [
       "$ V(x)=(0.011656571 - 0.011656535s_{0} - 0.011656481c_{0} + 0.000000000theta_dot_{0} + 0.005828216s_{0} c_{0} + 0.000000001s_{0} theta_dot_{0} - 0.000000001c_{0} theta_dot_{0} + 0.002914128s_{0}^{2} + 0.002914101c_{0}^{2} + 0.000000050theta_dot_{0}^{2})$"
      ],
      "text/plain": [
       "<IPython.core.display.Markdown object>"
      ]
     },
     "metadata": {},
     "output_type": "display_data"
    },
    {
     "name": "stdout",
     "output_type": "stream",
     "text": [
      "Lambda solution status: 1\n",
      "V solution status: 1\n"
     ]
    },
    {
     "data": {
      "text/markdown": [
       "$ V(x)=(0.011656495 - 0.011656871s_{0} - 0.011655966c_{0} - 0.000000001theta_dot_{0} + 0.005828154s_{0} c_{0} - 0.000000004s_{0} theta_dot_{0} + 0.000000006c_{0} theta_dot_{0} + 0.002914320s_{0}^{2} + 0.002913868c_{0}^{2} + 0.000000052theta_dot_{0}^{2})$"
      ],
      "text/plain": [
       "<IPython.core.display.Markdown object>"
      ]
     },
     "metadata": {},
     "output_type": "display_data"
    },
    {
     "name": "stdout",
     "output_type": "stream",
     "text": [
      "Lambda solution status: 1\n",
      "V solution status: 1\n"
     ]
    },
    {
     "data": {
      "text/markdown": [
       "$ V(x)=(0.011656447 - 0.011656416s_{0} - 0.011656287c_{0} + 0.000000009theta_dot_{0} + 0.005828120s_{0} c_{0} - 0.000000007s_{0} theta_dot_{0} - 0.000000002c_{0} theta_dot_{0} + 0.002914100s_{0}^{2} + 0.002914036c_{0}^{2} + 0.000000053theta_dot_{0}^{2})$"
      ],
      "text/plain": [
       "<IPython.core.display.Markdown object>"
      ]
     },
     "metadata": {},
     "output_type": "display_data"
    },
    {
     "name": "stdout",
     "output_type": "stream",
     "text": [
      "Lambda solution status: 1\n",
      "V solution status: 1\n"
     ]
    },
    {
     "data": {
      "text/markdown": [
       "$ V(x)=(0.011656423 - 0.011656290s_{0} - 0.011656362c_{0} - 0.000000003theta_dot_{0} + 0.005828105s_{0} c_{0} - 0.000000001s_{0} theta_dot_{0} + 0.000000004c_{0} theta_dot_{0} + 0.002914044s_{0}^{2} + 0.002914080c_{0}^{2} + 0.000000061theta_dot_{0}^{2})$"
      ],
      "text/plain": [
       "<IPython.core.display.Markdown object>"
      ]
     },
     "metadata": {},
     "output_type": "display_data"
    },
    {
     "name": "stdout",
     "output_type": "stream",
     "text": [
      "Lambda solution status: 1\n",
      "V solution status: 1\n"
     ]
    },
    {
     "data": {
      "text/markdown": [
       "$ V(x)=(0.011656586 - 0.011656532s_{0} - 0.011656496c_{0} + 0.000000002theta_dot_{0} + 0.005828216s_{0} c_{0} - 0.000000001s_{0} theta_dot_{0} - 0.000000001c_{0} theta_dot_{0} + 0.002914122s_{0}^{2} + 0.002914104c_{0}^{2} + 0.000000039theta_dot_{0}^{2})$"
      ],
      "text/plain": [
       "<IPython.core.display.Markdown object>"
      ]
     },
     "metadata": {},
     "output_type": "display_data"
    },
    {
     "name": "stdout",
     "output_type": "stream",
     "text": [
      "Lambda solution status: 1\n",
      "V solution status: 1\n"
     ]
    },
    {
     "data": {
      "text/markdown": [
       "$ V(x)=(0.011656611 - 0.011656573s_{0} - 0.011656541c_{0} - 0.000000000theta_dot_{0} + 0.005828246s_{0} c_{0} + 0.000000000s_{0} theta_dot_{0} + 0.000000000c_{0} theta_dot_{0} + 0.002914136s_{0}^{2} + 0.002914120c_{0}^{2} + 0.000000037theta_dot_{0}^{2})$"
      ],
      "text/plain": [
       "<IPython.core.display.Markdown object>"
      ]
     },
     "metadata": {},
     "output_type": "display_data"
    },
    {
     "name": "stdout",
     "output_type": "stream",
     "text": [
      "Lambda solution status: 1\n",
      "V solution status: 1\n"
     ]
    },
    {
     "data": {
      "text/markdown": [
       "$ V(x)=(0.011656471 - 0.011656662s_{0} - 0.011656122c_{0} - 0.000000004theta_dot_{0} + 0.005828139s_{0} c_{0} - 0.000000009s_{0} theta_dot_{0} + 0.000000012c_{0} theta_dot_{0} + 0.002914222s_{0}^{2} + 0.002913953c_{0}^{2} + 0.000000052theta_dot_{0}^{2})$"
      ],
      "text/plain": [
       "<IPython.core.display.Markdown object>"
      ]
     },
     "metadata": {},
     "output_type": "display_data"
    },
    {
     "name": "stdout",
     "output_type": "stream",
     "text": [
      "Lambda solution status: 1\n",
      "V solution status: 1\n"
     ]
    },
    {
     "data": {
      "text/markdown": [
       "$ V(x)=(0.011656617 - 0.011656724s_{0} - 0.011656396c_{0} + 0.000000007theta_dot_{0} + 0.005828245s_{0} c_{0} + 0.000000002s_{0} theta_dot_{0} - 0.000000009c_{0} theta_dot_{0} + 0.002914211s_{0}^{2} + 0.002914047c_{0}^{2} + 0.000000041theta_dot_{0}^{2})$"
      ],
      "text/plain": [
       "<IPython.core.display.Markdown object>"
      ]
     },
     "metadata": {},
     "output_type": "display_data"
    },
    {
     "name": "stdout",
     "output_type": "stream",
     "text": [
      "Lambda solution status: 1\n",
      "V solution status: 1\n"
     ]
    },
    {
     "data": {
      "text/markdown": [
       "$ V(x)=(0.011656443 - 0.011656501s_{0} - 0.011656211c_{0} - 0.000000000theta_dot_{0} + 0.005828122s_{0} c_{0} + 0.000000005s_{0} theta_dot_{0} - 0.000000005c_{0} theta_dot_{0} + 0.002914146s_{0}^{2} + 0.002914001c_{0}^{2} + 0.000000061theta_dot_{0}^{2})$"
      ],
      "text/plain": [
       "<IPython.core.display.Markdown object>"
      ]
     },
     "metadata": {},
     "output_type": "display_data"
    },
    {
     "name": "stdout",
     "output_type": "stream",
     "text": [
      "Lambda solution status: 1\n",
      "V solution status: 1\n"
     ]
    },
    {
     "data": {
      "text/markdown": [
       "$ V(x)=(0.011656467 - 0.011656160s_{0} - 0.011656615c_{0} + 0.000000001theta_dot_{0} + 0.005828141s_{0} c_{0} - 0.000000005s_{0} theta_dot_{0} + 0.000000004c_{0} theta_dot_{0} + 0.002913970s_{0}^{2} + 0.002914197c_{0}^{2} + 0.000000065theta_dot_{0}^{2})$"
      ],
      "text/plain": [
       "<IPython.core.display.Markdown object>"
      ]
     },
     "metadata": {},
     "output_type": "display_data"
    },
    {
     "name": "stdout",
     "output_type": "stream",
     "text": [
      "Lambda solution status: 1\n",
      "V solution status: 1\n"
     ]
    },
    {
     "data": {
      "text/markdown": [
       "$ V(x)=(0.011656448 - 0.011656241s_{0} - 0.011656484c_{0} - 0.000000005theta_dot_{0} + 0.005828127s_{0} c_{0} - 0.000000002s_{0} theta_dot_{0} + 0.000000007c_{0} theta_dot_{0} + 0.002914014s_{0}^{2} + 0.002914135c_{0}^{2} + 0.000000063theta_dot_{0}^{2})$"
      ],
      "text/plain": [
       "<IPython.core.display.Markdown object>"
      ]
     },
     "metadata": {},
     "output_type": "display_data"
    },
    {
     "name": "stdout",
     "output_type": "stream",
     "text": [
      "Lambda solution status: 1\n",
      "V solution status: 1\n"
     ]
    },
    {
     "data": {
      "text/markdown": [
       "$ V(x)=(0.011656469 - 0.011656500s_{0} - 0.011656207c_{0} + 0.000000055theta_dot_{0} + 0.005828111s_{0} c_{0} - 0.000000024s_{0} theta_dot_{0} - 0.000000030c_{0} theta_dot_{0} + 0.002914137s_{0}^{2} + 0.002913991c_{0}^{2} + 0.000000043theta_dot_{0}^{2})$"
      ],
      "text/plain": [
       "<IPython.core.display.Markdown object>"
      ]
     },
     "metadata": {},
     "output_type": "display_data"
    },
    {
     "name": "stdout",
     "output_type": "stream",
     "text": [
      "Lambda solution status: 1\n",
      "V solution status: 1\n"
     ]
    },
    {
     "data": {
      "text/markdown": [
       "$ V(x)=(0.011656469 - 0.011656186s_{0} - 0.011656532c_{0} + 0.000000046theta_dot_{0} + 0.005828114s_{0} c_{0} - 0.000000023s_{0} theta_dot_{0} - 0.000000023c_{0} theta_dot_{0} + 0.002913981s_{0}^{2} + 0.002914154c_{0}^{2} + 0.000000043theta_dot_{0}^{2})$"
      ],
      "text/plain": [
       "<IPython.core.display.Markdown object>"
      ]
     },
     "metadata": {},
     "output_type": "display_data"
    },
    {
     "name": "stdout",
     "output_type": "stream",
     "text": [
      "Lambda solution status: 1\n",
      "V solution status: 1\n"
     ]
    },
    {
     "data": {
      "text/markdown": [
       "$ V(x)=(0.011656656 - 0.011655870s_{0} - 0.011657311c_{0} + 0.000000045theta_dot_{0} + 0.005828258s_{0} c_{0} - 0.000000025s_{0} theta_dot_{0} - 0.000000020c_{0} theta_dot_{0} + 0.002913774s_{0}^{2} + 0.002914494c_{0}^{2} + 0.000000028theta_dot_{0}^{2})$"
      ],
      "text/plain": [
       "<IPython.core.display.Markdown object>"
      ]
     },
     "metadata": {},
     "output_type": "display_data"
    },
    {
     "name": "stdout",
     "output_type": "stream",
     "text": [
      "Lambda solution status: 1\n",
      "V solution status: 1\n"
     ]
    },
    {
     "data": {
      "text/markdown": [
       "$ V(x)=(0.011656580 - 0.011656196s_{0} - 0.011656849c_{0} - 0.000000002theta_dot_{0} + 0.005828224s_{0} c_{0} + 0.000000002s_{0} theta_dot_{0} + 0.000000001c_{0} theta_dot_{0} + 0.002913957s_{0}^{2} + 0.002914284c_{0}^{2} + 0.000000049theta_dot_{0}^{2})$"
      ],
      "text/plain": [
       "<IPython.core.display.Markdown object>"
      ]
     },
     "metadata": {},
     "output_type": "display_data"
    },
    {
     "name": "stdout",
     "output_type": "stream",
     "text": [
      "Lambda solution status: 1\n",
      "V solution status: 1\n"
     ]
    },
    {
     "data": {
      "text/markdown": [
       "$ V(x)=(0.011656460 - 0.011656542s_{0} - 0.011656211c_{0} - 0.000000002theta_dot_{0} + 0.005828138s_{0} c_{0} - 0.000000002s_{0} theta_dot_{0} + 0.000000004c_{0} theta_dot_{0} + 0.002914161s_{0}^{2} + 0.002913995c_{0}^{2} + 0.000000061theta_dot_{0}^{2})$"
      ],
      "text/plain": [
       "<IPython.core.display.Markdown object>"
      ]
     },
     "metadata": {},
     "output_type": "display_data"
    },
    {
     "name": "stdout",
     "output_type": "stream",
     "text": [
      "Lambda solution status: 1\n",
      "V solution status: 1\n"
     ]
    },
    {
     "data": {
      "text/markdown": [
       "$ V(x)=(0.011656454 - 0.011656290s_{0} - 0.011656440c_{0} + 0.000000003theta_dot_{0} + 0.005828125s_{0} c_{0} + 0.000000002s_{0} theta_dot_{0} - 0.000000005c_{0} theta_dot_{0} + 0.002914038s_{0}^{2} + 0.002914113c_{0}^{2} + 0.000000055theta_dot_{0}^{2})$"
      ],
      "text/plain": [
       "<IPython.core.display.Markdown object>"
      ]
     },
     "metadata": {},
     "output_type": "display_data"
    },
    {
     "name": "stdout",
     "output_type": "stream",
     "text": [
      "Lambda solution status: 1\n",
      "V solution status: 1\n"
     ]
    },
    {
     "data": {
      "text/markdown": [
       "$ V(x)=(0.011656610 - 0.011656458s_{0} - 0.011656606c_{0} + 0.000000048theta_dot_{0} + 0.005828223s_{0} c_{0} - 0.000000024s_{0} theta_dot_{0} - 0.000000024c_{0} theta_dot_{0} + 0.002914078s_{0}^{2} + 0.002914153c_{0}^{2} + 0.000000039theta_dot_{0}^{2})$"
      ],
      "text/plain": [
       "<IPython.core.display.Markdown object>"
      ]
     },
     "metadata": {},
     "output_type": "display_data"
    },
    {
     "name": "stdout",
     "output_type": "stream",
     "text": [
      "Lambda solution status: 1\n",
      "V solution status: 1\n"
     ]
    },
    {
     "data": {
      "text/markdown": [
       "$ V(x)=(0.011656445 - 0.011656042s_{0} - 0.011656664c_{0} + 0.000000003theta_dot_{0} + 0.005828119s_{0} c_{0} - 0.000000010s_{0} theta_dot_{0} + 0.000000007c_{0} theta_dot_{0} + 0.002913916s_{0}^{2} + 0.002914227c_{0}^{2} + 0.000000053theta_dot_{0}^{2})$"
      ],
      "text/plain": [
       "<IPython.core.display.Markdown object>"
      ]
     },
     "metadata": {},
     "output_type": "display_data"
    },
    {
     "name": "stdout",
     "output_type": "stream",
     "text": [
      "Lambda solution status: 1\n",
      "V solution status: 1\n"
     ]
    },
    {
     "data": {
      "text/markdown": [
       "$ V(x)=(0.011656450 - 0.011656293s_{0} - 0.011656436c_{0} - 0.000000002theta_dot_{0} + 0.005828124s_{0} c_{0} + 0.000000009s_{0} theta_dot_{0} - 0.000000007c_{0} theta_dot_{0} + 0.002914042s_{0}^{2} + 0.002914114c_{0}^{2} + 0.000000059theta_dot_{0}^{2})$"
      ],
      "text/plain": [
       "<IPython.core.display.Markdown object>"
      ]
     },
     "metadata": {},
     "output_type": "display_data"
    },
    {
     "name": "stdout",
     "output_type": "stream",
     "text": [
      "Lambda solution status: 1\n",
      "V solution status: 1\n"
     ]
    },
    {
     "data": {
      "text/markdown": [
       "$ V(x)=(0.011656479 - 0.011656369s_{0} - 0.011656427c_{0} - 0.000000012theta_dot_{0} + 0.005828150s_{0} c_{0} + 0.000000007s_{0} theta_dot_{0} + 0.000000005c_{0} theta_dot_{0} + 0.002914069s_{0}^{2} + 0.002914098c_{0}^{2} + 0.000000059theta_dot_{0}^{2})$"
      ],
      "text/plain": [
       "<IPython.core.display.Markdown object>"
      ]
     },
     "metadata": {},
     "output_type": "display_data"
    },
    {
     "name": "stdout",
     "output_type": "stream",
     "text": [
      "Lambda solution status: 1\n",
      "V solution status: 1\n"
     ]
    },
    {
     "data": {
      "text/markdown": [
       "$ V(x)=(0.011656537 - 0.011656670s_{0} - 0.011656271c_{0} - 0.000000002theta_dot_{0} + 0.005828193s_{0} c_{0} + 0.000000006s_{0} theta_dot_{0} - 0.000000005c_{0} theta_dot_{0} + 0.002914205s_{0}^{2} + 0.002914005c_{0}^{2} + 0.000000053theta_dot_{0}^{2})$"
      ],
      "text/plain": [
       "<IPython.core.display.Markdown object>"
      ]
     },
     "metadata": {},
     "output_type": "display_data"
    },
    {
     "name": "stdout",
     "output_type": "stream",
     "text": [
      "Lambda solution status: 1\n",
      "V solution status: 1\n"
     ]
    },
    {
     "data": {
      "text/markdown": [
       "$ V(x)=(0.011656484 - 0.011656754s_{0} - 0.011656041c_{0} + 0.000000002theta_dot_{0} + 0.005828143s_{0} c_{0} - 0.000000008s_{0} theta_dot_{0} + 0.000000006c_{0} theta_dot_{0} + 0.002914262s_{0}^{2} + 0.002913906c_{0}^{2} + 0.000000048theta_dot_{0}^{2})$"
      ],
      "text/plain": [
       "<IPython.core.display.Markdown object>"
      ]
     },
     "metadata": {},
     "output_type": "display_data"
    },
    {
     "name": "stdout",
     "output_type": "stream",
     "text": [
      "Lambda solution status: 1\n",
      "V solution status: 1\n"
     ]
    },
    {
     "data": {
      "text/markdown": [
       "$ V(x)=(0.011656554 - 0.011656497s_{0} - 0.011656481c_{0} + 0.000000001theta_dot_{0} + 0.005828205s_{0} c_{0} + 0.000000000s_{0} theta_dot_{0} - 0.000000001c_{0} theta_dot_{0} + 0.002914113s_{0}^{2} + 0.002914105c_{0}^{2} + 0.000000048theta_dot_{0}^{2})$"
      ],
      "text/plain": [
       "<IPython.core.display.Markdown object>"
      ]
     },
     "metadata": {},
     "output_type": "display_data"
    },
    {
     "name": "stdout",
     "output_type": "stream",
     "text": [
      "Lambda solution status: 1\n",
      "V solution status: 1\n"
     ]
    },
    {
     "data": {
      "text/markdown": [
       "$ V(x)=(0.011656463 - 0.011655822s_{0} - 0.011656812c_{0} + 0.000000098theta_dot_{0} + 0.005828080s_{0} c_{0} - 0.000000055s_{0} theta_dot_{0} - 0.000000044c_{0} theta_dot_{0} + 0.002913798s_{0}^{2} + 0.002914293c_{0}^{2} + 0.000000039theta_dot_{0}^{2})$"
      ],
      "text/plain": [
       "<IPython.core.display.Markdown object>"
      ]
     },
     "metadata": {},
     "output_type": "display_data"
    },
    {
     "name": "stdout",
     "output_type": "stream",
     "text": [
      "Lambda solution status: 1\n",
      "V solution status: 1\n"
     ]
    },
    {
     "data": {
      "text/markdown": [
       "$ V(x)=(0.011656524 - 0.011656187s_{0} - 0.011656721c_{0} - 0.000000003theta_dot_{0} + 0.005828180s_{0} c_{0} + 0.000000005s_{0} theta_dot_{0} - 0.000000002c_{0} theta_dot_{0} + 0.002913969s_{0}^{2} + 0.002914236c_{0}^{2} + 0.000000044theta_dot_{0}^{2})$"
      ],
      "text/plain": [
       "<IPython.core.display.Markdown object>"
      ]
     },
     "metadata": {},
     "output_type": "display_data"
    },
    {
     "name": "stdout",
     "output_type": "stream",
     "text": [
      "Lambda solution status: 1\n",
      "V solution status: 1\n"
     ]
    },
    {
     "data": {
      "text/markdown": [
       "$ V(x)=(0.011656495 - 0.011656083s_{0} - 0.011656747c_{0} + 0.000000001theta_dot_{0} + 0.005828156s_{0} c_{0} - 0.000000006s_{0} theta_dot_{0} + 0.000000005c_{0} theta_dot_{0} + 0.002913923s_{0}^{2} + 0.002914255c_{0}^{2} + 0.000000050theta_dot_{0}^{2})$"
      ],
      "text/plain": [
       "<IPython.core.display.Markdown object>"
      ]
     },
     "metadata": {},
     "output_type": "display_data"
    },
    {
     "name": "stdout",
     "output_type": "stream",
     "text": [
      "Lambda solution status: 1\n",
      "V solution status: 1\n"
     ]
    },
    {
     "data": {
      "text/markdown": [
       "$ V(x)=(0.011656487 - 0.011656551s_{0} - 0.011656255c_{0} + 0.000000005theta_dot_{0} + 0.005828150s_{0} c_{0} - 0.000000007s_{0} theta_dot_{0} + 0.000000002c_{0} theta_dot_{0} + 0.002914158s_{0}^{2} + 0.002914010c_{0}^{2} + 0.000000052theta_dot_{0}^{2})$"
      ],
      "text/plain": [
       "<IPython.core.display.Markdown object>"
      ]
     },
     "metadata": {},
     "output_type": "display_data"
    },
    {
     "name": "stdout",
     "output_type": "stream",
     "text": [
      "Lambda solution status: 1\n",
      "V solution status: 1\n"
     ]
    },
    {
     "data": {
      "text/markdown": [
       "$ V(x)=(0.011656398 - 0.011657060s_{0} - 0.011655541c_{0} - 0.000000003theta_dot_{0} + 0.005828083s_{0} c_{0} - 0.000000016s_{0} theta_dot_{0} + 0.000000019c_{0} theta_dot_{0} + 0.002914440s_{0}^{2} + 0.002913681c_{0}^{2} + 0.000000067theta_dot_{0}^{2})$"
      ],
      "text/plain": [
       "<IPython.core.display.Markdown object>"
      ]
     },
     "metadata": {},
     "output_type": "display_data"
    },
    {
     "name": "stdout",
     "output_type": "stream",
     "text": [
      "Lambda solution status: 1\n",
      "V solution status: 1\n"
     ]
    },
    {
     "data": {
      "text/markdown": [
       "$ V(x)=(0.011656410 - 0.011656652s_{0} - 0.011655968c_{0} + 0.000000012theta_dot_{0} + 0.005828092s_{0} c_{0} + 0.000000002s_{0} theta_dot_{0} - 0.000000014c_{0} theta_dot_{0} + 0.002914230s_{0}^{2} + 0.002913887c_{0}^{2} + 0.000000066theta_dot_{0}^{2})$"
      ],
      "text/plain": [
       "<IPython.core.display.Markdown object>"
      ]
     },
     "metadata": {},
     "output_type": "display_data"
    },
    {
     "name": "stdout",
     "output_type": "stream",
     "text": [
      "Lambda solution status: 1\n",
      "V solution status: 1\n"
     ]
    },
    {
     "data": {
      "text/markdown": [
       "$ V(x)=(0.011656447 - 0.011656257s_{0} - 0.011656472c_{0} - 0.000000002theta_dot_{0} + 0.005828128s_{0} c_{0} + 0.000000006s_{0} theta_dot_{0} - 0.000000004c_{0} theta_dot_{0} + 0.002914023s_{0}^{2} + 0.002914131c_{0}^{2} + 0.000000061theta_dot_{0}^{2})$"
      ],
      "text/plain": [
       "<IPython.core.display.Markdown object>"
      ]
     },
     "metadata": {},
     "output_type": "display_data"
    },
    {
     "name": "stdout",
     "output_type": "stream",
     "text": [
      "Lambda solution status: 1\n",
      "V solution status: 1\n"
     ]
    },
    {
     "data": {
      "text/markdown": [
       "$ V(x)=(0.011656402 - 0.011656106s_{0} - 0.011656405c_{0} + 0.000000084theta_dot_{0} + 0.005828039s_{0} c_{0} - 0.000000043s_{0} theta_dot_{0} - 0.000000041c_{0} theta_dot_{0} + 0.002913960s_{0}^{2} + 0.002914110c_{0}^{2} + 0.000000048theta_dot_{0}^{2})$"
      ],
      "text/plain": [
       "<IPython.core.display.Markdown object>"
      ]
     },
     "metadata": {},
     "output_type": "display_data"
    }
   ],
   "source": [
    "# Use this as a starting candidate for ROA study\n",
    "\n",
    "#doing the van der pol oscillator implicitly\n",
    "\n",
    "from pydrake.solvers.mathematicalprogram import MathematicalProgram, SolverOptions, Solve\n",
    "from pydrake.solvers.csdp import CsdpSolver\n",
    "from pydrake.solvers.mosek import MosekSolver\n",
    "\n",
    "negative_infinity = float('-inf')\n",
    "coeff = 1e-5\n",
    "\n",
    "def find_implicit_lambdas(x, xd, V, Vdot, g):\n",
    "    prog = MathematicalProgram()\n",
    "    prog.AddIndeterminates(x)\n",
    "    prog.AddIndeterminates(xd)\n",
    "        \n",
    "    y = np.hstack([x, xd])\n",
    "    \n",
    "    l_deg = math.ceil(V.TotalDegree()/2) * 2\n",
    "    \n",
    "    lambda_ = prog.NewSosPolynomial(Variables(y), l_deg)[0]\n",
    "    \n",
    "    lambda_g = []\n",
    "    \n",
    "    for i in range(g.size): \n",
    "        gi_deg = max(l_deg + V.TotalDegree() - g[i].TotalDegree(), 0)\n",
    "        lambda_g.append(prog.NewFreePolynomial(Variables(y), gi_deg))\n",
    "        \n",
    "    lambda_g = np.array(lambda_g)    \n",
    "    \n",
    "    s_deg = max(l_deg + V.TotalDegree() - 2, 0)\n",
    "    lambda_s = prog.NewFreePolynomial(Variables(y), s_deg)\n",
    "    \n",
    "    trig = Polynomial(x[0]**2 + x[1]**2 - 1)\n",
    "  \n",
    "    prog.AddSosConstraint(-Vdot + lambda_*(V - 0.001) + lambda_g.dot(g) - lambda_s*trig)\n",
    "        \n",
    "    solver = MosekSolver()\n",
    "    result = solver.Solve(prog)\n",
    "    \n",
    "    k = result.get_solver_details().solution_status\n",
    "                \n",
    "    print(\"Lambda solution status: \" + str(k))\n",
    "    \n",
    "    assert result.is_success()\n",
    "    \n",
    "    lambda_g_results = []\n",
    "    \n",
    "    for i in range(g.size):\n",
    "        lambda_g_results.append(result.GetSolution(lambda_g[i]).RemoveTermsWithSmallCoefficients(coeff))\n",
    "    \n",
    "    return result.GetSolution(lambda_).RemoveTermsWithSmallCoefficients(coeff), np.array(lambda_g_results), \\\n",
    "result.GetSolution(lambda_s).RemoveTermsWithSmallCoefficients(coeff)\n",
    "\n",
    "def find_implicit_V(x, xd, lambda_, lambda_g, lambda_s, g, V_degree):\n",
    "    prog = MathematicalProgram()\n",
    "    prog.AddIndeterminates(x)\n",
    "    prog.AddIndeterminates(xd)\n",
    "            \n",
    "    V, Q = prog.NewSosPolynomial(Variables(x), V_degree)\n",
    "    Vdot = V.Jacobian(x).dot(xd)\n",
    "    \n",
    "    trig = Polynomial(x[0]**2 + x[1]**2 - 1)\n",
    "    prog.AddSosConstraint(-Vdot + lambda_*(V - 0.001) + lambda_g.dot(g) - lambda_s*trig)\n",
    "    \n",
    "    mgl = p.mass()*p.length()*p.gravity()\n",
    "    \n",
    "    prog.AddLinearCost(np.trace(Q))    \n",
    "    prog.AddLinearConstraint(V.ToExpression().Substitute({x[0]: 1, x[1]:1, x[2]:0}) == 0)\n",
    "    \n",
    "    solver = MosekSolver()\n",
    "    result = solver.Solve(prog)\n",
    "    \n",
    "    k = result.get_solver_details().solution_status\n",
    "                \n",
    "    print(\"V solution status: \" + str(k))\n",
    "    \n",
    "    assert result.is_success()\n",
    "        \n",
    "    return result.GetSolution(V), result.GetSolution(Q)\n",
    "\n",
    "\n",
    "def problem_solver_implicit(S, V_degree, G):\n",
    "    prog = MathematicalProgram()\n",
    "    s = prog.NewIndeterminates(1, \"s\")\n",
    "    c = prog.NewIndeterminates(1, \"c\")\n",
    "    theta_dot = prog.NewIndeterminates(1, \"theta_dot\")\n",
    "    \n",
    "    xd = prog.NewIndeterminates(3, 'xd')\n",
    "    \n",
    "    state_V = np.hstack([theta_dot, c, s, [1]])\n",
    "    \n",
    "    x = np.hstack([s, c, theta_dot])\n",
    "    \n",
    "    u = -G@x\n",
    "        \n",
    "    g0 = xd[0] - c[0]*theta_dot[0]\n",
    "    g1 = xd[1] + s[0]*theta_dot[0]\n",
    "    g2 = p.mass()*(p.length()**2)*xd[2] + p.damping()*theta_dot[0] - p.mass()*p.gravity()*p.length()*s[0] - u\n",
    "    \n",
    "    g = np.array([g0, g1, g2])\n",
    "    \n",
    "    V = state_V.T@S@state_V\n",
    "    Vdot = V.Jacobian(x).dot(xd)\n",
    "    \n",
    "    V = Polynomial(V)\n",
    "    Vdot = Polynomial(Vdot)\n",
    "    \n",
    "    g_poly = []\n",
    "    for i in range(g.size):\n",
    "        g_poly.append(Polynomial(g[i]))\n",
    "        \n",
    "    g_poly = np.array(g_poly)\n",
    "    \n",
    "    display(Markdown(\"$ V(x)=\"+ToLatex(V.ToExpression(), 9)+\"$\"))\n",
    "    for i in range(100):\n",
    "        lambda_, lambda_g, lambda_s = find_implicit_lambdas(x, xd, V, Vdot, g_poly)\n",
    "        \n",
    "#         display(Markdown(\"$ \\lambda(x)=\"+ToLatex(lambda_s.ToExpression())+\"$\"))\n",
    "#         display(Markdown(\"$ \\lambda_g(x)=\"+ToLatex(lambda_g[0].ToExpression())+\"$\"))\n",
    "#         display(Markdown(\"$ \\lambda_g(x)=\"+ToLatex(lambda_g[1].ToExpression())+\"$\"))\n",
    "        \n",
    "        V, Q = find_implicit_V(x, xd, lambda_, lambda_g, lambda_s, g_poly, V_degree)\n",
    "        \n",
    "        Vdot = V.Jacobian(x).dot(xd)\n",
    "     \n",
    "        display(Markdown(\"$ V(x)=\"+ToLatex(V.ToExpression(), 9)+\"$\"))\n",
    "        \n",
    "    return V, Q\n",
    "\n",
    "V_degree = 2\n",
    "V, Q = problem_solver_implicit(candidate_matrix_new, V_degree, G_casted)"
   ]
  },
  {
   "cell_type": "code",
   "execution_count": 23,
   "metadata": {},
   "outputs": [
    {
     "data": {
      "text/markdown": [
       "$ V(x)=(2.842200000 - 2.840000000c_{0} + 0.042000000s_{0} theta_dot_{0} + 0.051600000theta_dot_{0}^{2})$"
      ],
      "text/plain": [
       "<IPython.core.display.Markdown object>"
      ]
     },
     "metadata": {},
     "output_type": "display_data"
    },
    {
     "name": "stdout",
     "output_type": "stream",
     "text": [
      "Lambda solution status: 1\n",
      "V solution status: 1\n"
     ]
    },
    {
     "data": {
      "text/markdown": [
       "$ V(x)=(4.115838798 - 3.043749965s_{0} - 5.187773415c_{0} + 0.646126512theta_dot_{0} + 1.912004561s_{0} c_{0} - 0.208852596s_{0} theta_dot_{0} - 0.437262844c_{0} theta_dot_{0} + 0.565844074s_{0}^{2} + 1.637835948c_{0}^{2} + 0.097994607theta_dot_{0}^{2})$"
      ],
      "text/plain": [
       "<IPython.core.display.Markdown object>"
      ]
     },
     "metadata": {},
     "output_type": "display_data"
    },
    {
     "data": {
      "text/markdown": [
       "$ u(x)=(4.265839193 - 7.895268924s_{0} - 2.631571825c_{0} - 1.633031763theta_dot_{0})$"
      ],
      "text/plain": [
       "<IPython.core.display.Markdown object>"
      ]
     },
     "metadata": {},
     "output_type": "display_data"
    },
    {
     "ename": "RuntimeError",
     "evalue": "Expression ( - 4.1148387978488072 * S(6,6) - a(27) + S(24,24) + (a(3) * a(83))) is non-linear.",
     "output_type": "error",
     "traceback": [
      "\u001b[0;31m---------------------------------------------------------------------------\u001b[0m",
      "\u001b[0;31mRuntimeError\u001b[0m                              Traceback (most recent call last)",
      "\u001b[0;32m<ipython-input-23-7fc135220cab>\u001b[0m in \u001b[0;36m<module>\u001b[0;34m\u001b[0m\n\u001b[1;32m    141\u001b[0m \u001b[0;34m\u001b[0m\u001b[0m\n\u001b[1;32m    142\u001b[0m \u001b[0mV_degree\u001b[0m \u001b[0;34m=\u001b[0m \u001b[0;36m2\u001b[0m\u001b[0;34m\u001b[0m\u001b[0;34m\u001b[0m\u001b[0m\n\u001b[0;32m--> 143\u001b[0;31m \u001b[0mV\u001b[0m\u001b[0;34m,\u001b[0m \u001b[0mQ\u001b[0m \u001b[0;34m=\u001b[0m \u001b[0mproblem_solver_implicit\u001b[0m\u001b[0;34m(\u001b[0m\u001b[0mcandidate_matrix_new\u001b[0m\u001b[0;34m,\u001b[0m \u001b[0mV_degree\u001b[0m\u001b[0;34m,\u001b[0m \u001b[0mG_casted\u001b[0m\u001b[0;34m)\u001b[0m\u001b[0;34m\u001b[0m\u001b[0;34m\u001b[0m\u001b[0m\n\u001b[0m",
      "\u001b[0;32m<ipython-input-23-7fc135220cab>\u001b[0m in \u001b[0;36mproblem_solver_implicit\u001b[0;34m(S, V_degree, G)\u001b[0m\n\u001b[1;32m    120\u001b[0m     \u001b[0mdisplay\u001b[0m\u001b[0;34m(\u001b[0m\u001b[0mMarkdown\u001b[0m\u001b[0;34m(\u001b[0m\u001b[0;34m\"$ V(x)=\"\u001b[0m\u001b[0;34m+\u001b[0m\u001b[0mToLatex\u001b[0m\u001b[0;34m(\u001b[0m\u001b[0mV\u001b[0m\u001b[0;34m.\u001b[0m\u001b[0mToExpression\u001b[0m\u001b[0;34m(\u001b[0m\u001b[0;34m)\u001b[0m\u001b[0;34m,\u001b[0m \u001b[0;36m9\u001b[0m\u001b[0;34m)\u001b[0m\u001b[0;34m+\u001b[0m\u001b[0;34m\"$\"\u001b[0m\u001b[0;34m)\u001b[0m\u001b[0;34m)\u001b[0m\u001b[0;34m\u001b[0m\u001b[0;34m\u001b[0m\u001b[0m\n\u001b[1;32m    121\u001b[0m     \u001b[0;32mfor\u001b[0m \u001b[0mi\u001b[0m \u001b[0;32min\u001b[0m \u001b[0mrange\u001b[0m\u001b[0;34m(\u001b[0m\u001b[0;36m10\u001b[0m\u001b[0;34m)\u001b[0m\u001b[0;34m:\u001b[0m\u001b[0;34m\u001b[0m\u001b[0;34m\u001b[0m\u001b[0m\n\u001b[0;32m--> 122\u001b[0;31m         \u001b[0mlambda_\u001b[0m\u001b[0;34m,\u001b[0m \u001b[0mlambda_g\u001b[0m\u001b[0;34m,\u001b[0m \u001b[0mlambda_s\u001b[0m \u001b[0;34m=\u001b[0m \u001b[0mfind_implicit_lambdas\u001b[0m\u001b[0;34m(\u001b[0m\u001b[0mx\u001b[0m\u001b[0;34m,\u001b[0m \u001b[0mxd\u001b[0m\u001b[0;34m,\u001b[0m \u001b[0mV\u001b[0m\u001b[0;34m,\u001b[0m \u001b[0mVdot\u001b[0m\u001b[0;34m,\u001b[0m \u001b[0mg_poly\u001b[0m\u001b[0;34m)\u001b[0m\u001b[0;34m\u001b[0m\u001b[0;34m\u001b[0m\u001b[0m\n\u001b[0m\u001b[1;32m    123\u001b[0m \u001b[0;34m\u001b[0m\u001b[0m\n\u001b[1;32m    124\u001b[0m \u001b[0;31m#         display(Markdown(\"$ \\lambda(x)=\"+ToLatex(lambda_s.ToExpression())+\"$\"))\u001b[0m\u001b[0;34m\u001b[0m\u001b[0;34m\u001b[0m\u001b[0;34m\u001b[0m\u001b[0m\n",
      "\u001b[0;32m<ipython-input-23-7fc135220cab>\u001b[0m in \u001b[0;36mfind_implicit_lambdas\u001b[0;34m(x, xd, V, Vdot, g)\u001b[0m\n\u001b[1;32m     32\u001b[0m     \u001b[0mtrig\u001b[0m \u001b[0;34m=\u001b[0m \u001b[0mPolynomial\u001b[0m\u001b[0;34m(\u001b[0m\u001b[0mx\u001b[0m\u001b[0;34m[\u001b[0m\u001b[0;36m0\u001b[0m\u001b[0;34m]\u001b[0m\u001b[0;34m**\u001b[0m\u001b[0;36m2\u001b[0m \u001b[0;34m+\u001b[0m \u001b[0mx\u001b[0m\u001b[0;34m[\u001b[0m\u001b[0;36m1\u001b[0m\u001b[0;34m]\u001b[0m\u001b[0;34m**\u001b[0m\u001b[0;36m2\u001b[0m \u001b[0;34m-\u001b[0m \u001b[0;36m1\u001b[0m\u001b[0;34m)\u001b[0m\u001b[0;34m\u001b[0m\u001b[0;34m\u001b[0m\u001b[0m\n\u001b[1;32m     33\u001b[0m \u001b[0;34m\u001b[0m\u001b[0m\n\u001b[0;32m---> 34\u001b[0;31m     \u001b[0mprog\u001b[0m\u001b[0;34m.\u001b[0m\u001b[0mAddSosConstraint\u001b[0m\u001b[0;34m(\u001b[0m\u001b[0;34m-\u001b[0m\u001b[0mVdot\u001b[0m \u001b[0;34m+\u001b[0m \u001b[0mlambda_\u001b[0m\u001b[0;34m*\u001b[0m\u001b[0;34m(\u001b[0m\u001b[0mV\u001b[0m \u001b[0;34m-\u001b[0m \u001b[0;36m0.001\u001b[0m\u001b[0;34m)\u001b[0m \u001b[0;34m+\u001b[0m \u001b[0mlambda_g\u001b[0m\u001b[0;34m.\u001b[0m\u001b[0mdot\u001b[0m\u001b[0;34m(\u001b[0m\u001b[0mg\u001b[0m\u001b[0;34m)\u001b[0m \u001b[0;34m-\u001b[0m \u001b[0mlambda_s\u001b[0m\u001b[0;34m*\u001b[0m\u001b[0mtrig\u001b[0m\u001b[0;34m)\u001b[0m\u001b[0;34m\u001b[0m\u001b[0;34m\u001b[0m\u001b[0m\n\u001b[0m\u001b[1;32m     35\u001b[0m \u001b[0;34m\u001b[0m\u001b[0m\n\u001b[1;32m     36\u001b[0m     \u001b[0msolver\u001b[0m \u001b[0;34m=\u001b[0m \u001b[0mMosekSolver\u001b[0m\u001b[0;34m(\u001b[0m\u001b[0;34m)\u001b[0m\u001b[0;34m\u001b[0m\u001b[0;34m\u001b[0m\u001b[0m\n",
      "\u001b[0;31mRuntimeError\u001b[0m: Expression ( - 4.1148387978488072 * S(6,6) - a(27) + S(24,24) + (a(3) * a(83))) is non-linear."
     ]
    }
   ],
   "source": [
    "# finding the control input itself \n",
    "\n",
    "from pydrake.solvers.mathematicalprogram import MathematicalProgram, SolverOptions, Solve\n",
    "from pydrake.solvers.csdp import CsdpSolver\n",
    "from pydrake.solvers.mosek import MosekSolver\n",
    "\n",
    "negative_infinity = float('-inf')\n",
    "coeff = 1e-5\n",
    "\n",
    "def find_implicit_lambdas(x, xd, V, Vdot, g):\n",
    "    prog = MathematicalProgram()\n",
    "    prog.AddIndeterminates(x)\n",
    "    prog.AddIndeterminates(xd)\n",
    "        \n",
    "    y = np.hstack([x, xd])\n",
    "    \n",
    "    l_deg = math.ceil(V.TotalDegree()/2) * 2\n",
    "    \n",
    "    lambda_ = prog.NewSosPolynomial(Variables(y), l_deg)[0]\n",
    "    \n",
    "    lambda_g = []\n",
    "    \n",
    "    for i in range(g.size): \n",
    "        gi_deg = max(l_deg + V.TotalDegree() - g[i].TotalDegree(), 0)\n",
    "        lambda_g.append(prog.NewFreePolynomial(Variables(y), gi_deg))\n",
    "        \n",
    "    lambda_g = np.array(lambda_g)    \n",
    "    \n",
    "    s_deg = max(l_deg + V.TotalDegree() - 2, 0)\n",
    "    lambda_s = prog.NewFreePolynomial(Variables(y), s_deg)\n",
    "    \n",
    "    trig = Polynomial(x[0]**2 + x[1]**2 - 1)\n",
    "  \n",
    "    prog.AddSosConstraint(-Vdot + lambda_*(V - 0.001) + lambda_g.dot(g) - lambda_s*trig)\n",
    "        \n",
    "    solver = MosekSolver()\n",
    "    result = solver.Solve(prog)\n",
    "    \n",
    "    k = result.get_solver_details().solution_status\n",
    "                \n",
    "    print(\"Lambda solution status: \" + str(k))\n",
    "    \n",
    "    assert result.is_success()\n",
    "    \n",
    "    lambda_g_results = []\n",
    "    \n",
    "    for i in range(g.size):\n",
    "        lambda_g_results.append(result.GetSolution(lambda_g[i]).RemoveTermsWithSmallCoefficients(coeff))\n",
    "    \n",
    "    return result.GetSolution(lambda_).RemoveTermsWithSmallCoefficients(coeff), np.array(lambda_g_results), \\\n",
    "result.GetSolution(lambda_s).RemoveTermsWithSmallCoefficients(coeff)\n",
    "\n",
    "def find_implicit_V(x, xd, lambda_, lambda_g, lambda_s, g, V_degree):\n",
    "    prog = MathematicalProgram()\n",
    "    prog.AddIndeterminates(x)\n",
    "    prog.AddIndeterminates(xd)\n",
    "            \n",
    "    V, Q = prog.NewSosPolynomial(Variables(x), V_degree)\n",
    "    Vdot = V.Jacobian(x).dot(xd)\n",
    "    \n",
    "    # the u business\n",
    "    u = prog.NewFreePolynomial(Variables(x), 1)\n",
    "    \n",
    "    g2 = Polynomial(p.mass()*(p.length()**2)*xd[2] + p.damping()*x[2] \\\n",
    "                    - p.mass()*p.gravity()*p.length()*x[0]) - u\n",
    "    g[2] = g2\n",
    "    \n",
    "    trig = Polynomial(x[0]**2 + x[1]**2 - 1)\n",
    "    prog.AddSosConstraint(-Vdot + lambda_*(V - 0.001) + lambda_g.dot(g) - lambda_s*trig)\n",
    "    \n",
    "    mgl = p.mass()*p.length()*p.gravity()\n",
    "    \n",
    "    prog.AddLinearCost(np.trace(Q))    \n",
    "    prog.AddLinearConstraint(V.ToExpression().Substitute({x[0]: 1, x[1]:1, x[2]:0}) == 0)\n",
    "    \n",
    "    solver = MosekSolver()\n",
    "    result = solver.Solve(prog)\n",
    "    \n",
    "    k = result.get_solver_details().solution_status\n",
    "                \n",
    "    print(\"V solution status: \" + str(k))\n",
    "    \n",
    "    assert result.is_success()\n",
    "        \n",
    "    return result.GetSolution(V), result.GetSolution(Q), result.GetSolution(u)\n",
    "\n",
    "\n",
    "def problem_solver_implicit(S, V_degree, G):\n",
    "    prog = MathematicalProgram()\n",
    "    s = prog.NewIndeterminates(1, \"s\")\n",
    "    c = prog.NewIndeterminates(1, \"c\")\n",
    "    theta_dot = prog.NewIndeterminates(1, \"theta_dot\")\n",
    "    \n",
    "    xd = prog.NewIndeterminates(3, 'xd')\n",
    "    \n",
    "    state_V = np.hstack([theta_dot, c, s, [1]])\n",
    "    \n",
    "    x = np.hstack([s, c, theta_dot])\n",
    "    \n",
    "    u = -G@x\n",
    "        \n",
    "    g0 = xd[0] - x[1]*x[2]\n",
    "    g1 = xd[1] + x[0]*x[2]\n",
    "    g2 = p.mass()*(p.length()**2)*xd[2] + p.damping()*x[2] - p.mass()*p.gravity()*p.length()*x[0] - u\n",
    "    \n",
    "    g = np.array([g0, g1, g2])\n",
    "    \n",
    "    V = state_V.T@S@state_V\n",
    "    Vdot = V.Jacobian(x).dot(xd)\n",
    "    \n",
    "    V = Polynomial(V)\n",
    "    Vdot = Polynomial(Vdot)\n",
    "    \n",
    "    g_poly = []\n",
    "    for i in range(g.size):\n",
    "        g_poly.append(Polynomial(g[i]))\n",
    "        \n",
    "    g_poly = np.array(g_poly)\n",
    "    \n",
    "    display(Markdown(\"$ V(x)=\"+ToLatex(V.ToExpression(), 9)+\"$\"))\n",
    "    for i in range(10):\n",
    "        lambda_, lambda_g, lambda_s = find_implicit_lambdas(x, xd, V, Vdot, g_poly)\n",
    "        \n",
    "#         display(Markdown(\"$ \\lambda(x)=\"+ToLatex(lambda_s.ToExpression())+\"$\"))\n",
    "#         display(Markdown(\"$ \\lambda_g(x)=\"+ToLatex(lambda_g[0].ToExpression())+\"$\"))\n",
    "#         display(Markdown(\"$ \\lambda_g(x)=\"+ToLatex(lambda_g[1].ToExpression())+\"$\"))\n",
    "        \n",
    "        V, Q, u = find_implicit_V(x, xd, lambda_, lambda_g, lambda_s, g_poly, V_degree)\n",
    "        \n",
    "        g2 = Polynomial(p.mass()*(p.length()**2)*xd[2] + p.damping()*x[2] \\\n",
    "                    - p.mass()*p.gravity()*p.length()*x[0]) - u\n",
    "        g[2] = g2\n",
    "        \n",
    "        Vdot = V.Jacobian(x).dot(xd)\n",
    "     \n",
    "        display(Markdown(\"$ V(x)=\"+ToLatex(V.ToExpression(), 9)+\"$\"))\n",
    "        \n",
    "        display(Markdown(\"$ u(x)=\"+ToLatex(u.ToExpression(), 9)+\"$\"))\n",
    "        \n",
    "    return V, Q\n",
    "\n",
    "V_degree = 2\n",
    "V, Q = problem_solver_implicit(candidate_matrix_new, V_degree, G_casted)"
   ]
  },
  {
   "cell_type": "code",
   "execution_count": 115,
   "metadata": {},
   "outputs": [
    {
     "data": {
      "text/markdown": [
       "$ V(x)=(2.842200000 - 2.840000000c_{0} + 0.042000000s_{0} theta_dot_{0} + 0.051600000theta_dot_{0}^{2})$"
      ],
      "text/plain": [
       "<IPython.core.display.Markdown object>"
      ]
     },
     "metadata": {},
     "output_type": "display_data"
    },
    {
     "name": "stdout",
     "output_type": "stream",
     "text": [
      "Lambda solution status: 1\n",
      "0.0021999878517211164\n"
     ]
    },
    {
     "data": {
      "text/markdown": [
       "$ V(x)=(2.842200000 - 2.840000000c_{0} + 0.042000000s_{0} theta_dot_{0} + 0.051600000theta_dot_{0}^{2})$"
      ],
      "text/plain": [
       "<IPython.core.display.Markdown object>"
      ]
     },
     "metadata": {},
     "output_type": "display_data"
    }
   ],
   "source": [
    "# finding the bound\n",
    "\n",
    "from pydrake.solvers.mathematicalprogram import MathematicalProgram, SolverOptions, Solve\n",
    "from pydrake.solvers.csdp import CsdpSolver\n",
    "from pydrake.solvers.mosek import MosekSolver\n",
    "\n",
    "negative_infinity = float('-inf')\n",
    "coeff = 1e-2\n",
    "\n",
    "def find_implicit_lambdas(x, xd, V, Vdot, g):\n",
    "    prog = MathematicalProgram()\n",
    "    prog.AddIndeterminates(x)\n",
    "    prog.AddIndeterminates(xd)\n",
    "    rho = prog.NewContinuousVariables(1, 'rho')[0]\n",
    "        \n",
    "    y = np.hstack([x, xd])\n",
    "    \n",
    "    l_deg = math.ceil(Vdot.TotalDegree()/2) * 2\n",
    "    \n",
    "    lambda_ = prog.NewSosPolynomial(Variables(y), l_deg)[0]\n",
    "    \n",
    "    lambda_g = []\n",
    "    \n",
    "    for i in range(g.size): \n",
    "        gi_deg = max(l_deg + Vdot.TotalDegree() - g[i].TotalDegree(), 0)\n",
    "        lambda_g.append(prog.NewFreePolynomial(Variables(y), gi_deg))\n",
    "        \n",
    "    lambda_g = np.array(lambda_g)    \n",
    "    \n",
    "    s_deg = max(l_deg + Vdot.TotalDegree() - 2, 0)\n",
    "    lambda_s = prog.NewFreePolynomial(Variables(y), s_deg)\n",
    "    \n",
    "    trig = Polynomial(x[0]**2 + x[1]**2 - 1)    \n",
    "    # level set as optimization variable\n",
    "    prog.AddSosConstraint(Polynomial(x.dot(x))*(V - rho) -lambda_*Vdot + lambda_g.dot(g) + lambda_s*trig)\n",
    "    \n",
    "    prog.AddLinearCost(-rho)\n",
    "        \n",
    "    solver = MosekSolver()\n",
    "    result = solver.Solve(prog)\n",
    "    \n",
    "    k = result.get_solver_details().solution_status\n",
    "                \n",
    "    print(\"Lambda solution status: \" + str(k))\n",
    "    \n",
    "    assert result.is_success()\n",
    "    \n",
    "    lambda_g_results = []\n",
    "    \n",
    "    for i in range(g.size):\n",
    "        lambda_g_results.append(result.GetSolution(lambda_g[i]).RemoveTermsWithSmallCoefficients(coeff))\n",
    "    \n",
    "    return result.GetSolution(lambda_).RemoveTermsWithSmallCoefficients(coeff), np.array(lambda_g_results), \\\n",
    "result.GetSolution(lambda_s).RemoveTermsWithSmallCoefficients(coeff), result.GetSolution(rho)\n",
    "\n",
    "\n",
    "def problem_solver_implicit(S, V_degree, G):\n",
    "    prog = MathematicalProgram()\n",
    "    s = prog.NewIndeterminates(1, \"s\")\n",
    "    c = prog.NewIndeterminates(1, \"c\")\n",
    "    theta_dot = prog.NewIndeterminates(1, \"theta_dot\")\n",
    "    \n",
    "    xd = prog.NewIndeterminates(3, 'xd')\n",
    "    \n",
    "    state_V = np.hstack([theta_dot, c, s, [1]])\n",
    "    \n",
    "    x = np.hstack([s, c, theta_dot])\n",
    "    \n",
    "    u = -G@x\n",
    "        \n",
    "    g0 = xd[0] - c[0]*theta_dot[0]\n",
    "    g1 = xd[1] + s[0]*theta_dot[0]\n",
    "    g2 = p.mass()*(p.length()**2)*xd[2] + p.damping()*theta_dot[0] - p.mass()*p.gravity()*p.length()*s[0] - u\n",
    "    \n",
    "    g = np.array([g0, g1, g2])\n",
    "    \n",
    "    V = state_V.T@S@state_V\n",
    "    Vdot = V.Jacobian(x).dot(xd)\n",
    "    \n",
    "    V = Polynomial(V)\n",
    "    Vdot = Polynomial(Vdot)\n",
    "    \n",
    "    g_poly = []\n",
    "    for i in range(g.size):\n",
    "        g_poly.append(Polynomial(g[i]))\n",
    "        \n",
    "    g_poly = np.array(g_poly)\n",
    "    \n",
    "    display(Markdown(\"$ V(x)=\"+ToLatex(V.ToExpression(), 9)+\"$\"))\n",
    "    for i in range(1):\n",
    "        lambda_, lambda_g, lambda_s, rho = find_implicit_lambdas(x, xd, V, Vdot, g_poly)\n",
    "        \n",
    "#         display(Markdown(\"$ \\lambda(x)=\"+ToLatex(lambda_s.ToExpression())+\"$\"))\n",
    "#         display(Markdown(\"$ \\lambda_g(x)=\"+ToLatex(lambda_g[0].ToExpression())+\"$\"))\n",
    "#         display(Markdown(\"$ \\lambda_g(x)=\"+ToLatex(lambda_g[1].ToExpression())+\"$\"))\n",
    "        \n",
    "        #V, Q = find_implicit_V(x, xd, lambda_, lambda_g, lambda_s, g_poly, V_degree)\n",
    "        print(rho)\n",
    "        \n",
    "        Vdot = V.Jacobian(x).dot(xd)\n",
    "     \n",
    "        display(Markdown(\"$ V(x)=\"+ToLatex(V.ToExpression(), 9)+\"$\"))\n",
    "        \n",
    "    return V, Q\n",
    "\n",
    "V_degree = 2\n",
    "V, Q = problem_solver_implicit(candidate_matrix_new, V_degree, G_casted)"
   ]
  },
  {
   "cell_type": "code",
   "execution_count": 199,
   "metadata": {},
   "outputs": [],
   "source": [
    "var_list = list(V.indeterminates())\n",
    "s = var_list[0]\n",
    "c = var_list[1]\n",
    "theta_dot = var_list[2]"
   ]
  },
  {
   "cell_type": "code",
   "execution_count": 200,
   "metadata": {
    "scrolled": false
   },
   "outputs": [
    {
     "ename": "AttributeError",
     "evalue": "'pydrake.examples.acrobot.AcrobotParams' object has no attribute 'mass'",
     "output_type": "error",
     "traceback": [
      "\u001b[0;31m---------------------------------------------------------------------------\u001b[0m",
      "\u001b[0;31mAttributeError\u001b[0m                            Traceback (most recent call last)",
      "\u001b[0;32m<ipython-input-200-777521286b2b>\u001b[0m in \u001b[0;36m<module>\u001b[0;34m\u001b[0m\n\u001b[1;32m      3\u001b[0m \u001b[0mnqd\u001b[0m \u001b[0;34m=\u001b[0m \u001b[0;36m151\u001b[0m\u001b[0;34m\u001b[0m\u001b[0;34m\u001b[0m\u001b[0m\n\u001b[1;32m      4\u001b[0m \u001b[0mq\u001b[0m \u001b[0;34m=\u001b[0m \u001b[0mnp\u001b[0m\u001b[0;34m.\u001b[0m\u001b[0mlinspace\u001b[0m\u001b[0;34m(\u001b[0m\u001b[0;34m-\u001b[0m\u001b[0;36m2\u001b[0m \u001b[0;34m*\u001b[0m \u001b[0mnp\u001b[0m\u001b[0;34m.\u001b[0m\u001b[0mpi\u001b[0m\u001b[0;34m,\u001b[0m \u001b[0;36m2\u001b[0m \u001b[0;34m*\u001b[0m \u001b[0mnp\u001b[0m\u001b[0;34m.\u001b[0m\u001b[0mpi\u001b[0m\u001b[0;34m,\u001b[0m \u001b[0mnq\u001b[0m\u001b[0;34m)\u001b[0m\u001b[0;34m\u001b[0m\u001b[0;34m\u001b[0m\u001b[0m\n\u001b[0;32m----> 5\u001b[0;31m \u001b[0mqd\u001b[0m \u001b[0;34m=\u001b[0m \u001b[0mnp\u001b[0m\u001b[0;34m.\u001b[0m\u001b[0mlinspace\u001b[0m\u001b[0;34m(\u001b[0m\u001b[0;34m-\u001b[0m\u001b[0;36m50\u001b[0m \u001b[0;34m*\u001b[0m \u001b[0mp\u001b[0m\u001b[0;34m.\u001b[0m\u001b[0mmass\u001b[0m\u001b[0;34m(\u001b[0m\u001b[0;34m)\u001b[0m\u001b[0;34m*\u001b[0m\u001b[0mp\u001b[0m\u001b[0;34m.\u001b[0m\u001b[0mgravity\u001b[0m\u001b[0;34m(\u001b[0m\u001b[0;34m)\u001b[0m\u001b[0;34m*\u001b[0m\u001b[0mp\u001b[0m\u001b[0;34m.\u001b[0m\u001b[0mlength\u001b[0m\u001b[0;34m(\u001b[0m\u001b[0;34m)\u001b[0m\u001b[0;34m,\u001b[0m \u001b[0;36m50\u001b[0m \u001b[0;34m*\u001b[0m \u001b[0mp\u001b[0m\u001b[0;34m.\u001b[0m\u001b[0mmass\u001b[0m\u001b[0;34m(\u001b[0m\u001b[0;34m)\u001b[0m\u001b[0;34m*\u001b[0m\u001b[0mp\u001b[0m\u001b[0;34m.\u001b[0m\u001b[0mgravity\u001b[0m\u001b[0;34m(\u001b[0m\u001b[0;34m)\u001b[0m\u001b[0;34m*\u001b[0m\u001b[0mp\u001b[0m\u001b[0;34m.\u001b[0m\u001b[0mlength\u001b[0m\u001b[0;34m(\u001b[0m\u001b[0;34m)\u001b[0m\u001b[0;34m,\u001b[0m \u001b[0mnqd\u001b[0m\u001b[0;34m)\u001b[0m\u001b[0;34m\u001b[0m\u001b[0;34m\u001b[0m\u001b[0m\n\u001b[0m\u001b[1;32m      6\u001b[0m \u001b[0mQ\u001b[0m\u001b[0;34m,\u001b[0m \u001b[0mQD\u001b[0m \u001b[0;34m=\u001b[0m \u001b[0mnp\u001b[0m\u001b[0;34m.\u001b[0m\u001b[0mmeshgrid\u001b[0m\u001b[0;34m(\u001b[0m\u001b[0mq\u001b[0m\u001b[0;34m,\u001b[0m \u001b[0mqd\u001b[0m\u001b[0;34m)\u001b[0m\u001b[0;34m\u001b[0m\u001b[0;34m\u001b[0m\u001b[0m\n\u001b[1;32m      7\u001b[0m \u001b[0mEnergy\u001b[0m \u001b[0;34m=\u001b[0m \u001b[0;36m.5\u001b[0m \u001b[0;34m*\u001b[0m \u001b[0mp\u001b[0m\u001b[0;34m.\u001b[0m\u001b[0mmass\u001b[0m\u001b[0;34m(\u001b[0m\u001b[0;34m)\u001b[0m \u001b[0;34m*\u001b[0m \u001b[0mp\u001b[0m\u001b[0;34m.\u001b[0m\u001b[0mlength\u001b[0m\u001b[0;34m(\u001b[0m\u001b[0;34m)\u001b[0m\u001b[0;34m**\u001b[0m\u001b[0;36m2\u001b[0m \u001b[0;34m*\u001b[0m \u001b[0mQD\u001b[0m\u001b[0;34m**\u001b[0m\u001b[0;36m2\u001b[0m \u001b[0;34m+\u001b[0m \u001b[0mp\u001b[0m\u001b[0;34m.\u001b[0m\u001b[0mmass\u001b[0m\u001b[0;34m(\u001b[0m\u001b[0;34m)\u001b[0m\u001b[0;34m*\u001b[0m\u001b[0mp\u001b[0m\u001b[0;34m.\u001b[0m\u001b[0mgravity\u001b[0m\u001b[0;34m(\u001b[0m\u001b[0;34m)\u001b[0m\u001b[0;34m*\u001b[0m\u001b[0mp\u001b[0m\u001b[0;34m.\u001b[0m\u001b[0mlength\u001b[0m\u001b[0;34m(\u001b[0m\u001b[0;34m)\u001b[0m \u001b[0;34m*\u001b[0m \u001b[0;34m(\u001b[0m\u001b[0;36m1\u001b[0m \u001b[0;34m-\u001b[0m \u001b[0mnp\u001b[0m\u001b[0;34m.\u001b[0m\u001b[0mcos\u001b[0m\u001b[0;34m(\u001b[0m\u001b[0mQ\u001b[0m\u001b[0;34m)\u001b[0m\u001b[0;34m)\u001b[0m\u001b[0;34m\u001b[0m\u001b[0;34m\u001b[0m\u001b[0m\n",
      "\u001b[0;31mAttributeError\u001b[0m: 'pydrake.examples.acrobot.AcrobotParams' object has no attribute 'mass'"
     ]
    }
   ],
   "source": [
    "# Plot the results as contour plots.\n",
    "nq = 151\n",
    "nqd = 151\n",
    "q = np.linspace(-2 * np.pi, 2 * np.pi, nq)\n",
    "qd = np.linspace(-50 * p.mass()*p.gravity()*p.length(), 50 * p.mass()*p.gravity()*p.length(), nqd)\n",
    "Q, QD = np.meshgrid(q, qd)\n",
    "Energy = .5 * p.mass() * p.length()**2 * QD**2 + p.mass()*p.gravity()*p.length() * (1 - np.cos(Q))\n",
    "Vplot = Q.copy()\n",
    "env = {s: 0., c: 1., theta_dot: 0}\n",
    "for i in range(nq):\n",
    "    for j in range(nqd):\n",
    "        env[s] = np.sin(Q[i, j])\n",
    "        env[c] = np.cos(Q[i, j])\n",
    "        env[theta_dot] = QD[i, j]\n",
    "        Vplot[i, j] = V.Evaluate(env)\n",
    "\n",
    "# plt.rc(\"text\", usetex=True)\n",
    "fig, ax = plt.subplots()\n",
    "ax.contour(Q, QD, Vplot)\n",
    "ax.contour(Q, QD, Vplot, levels = [0.009], colors = 'r')\n",
    "ax.contour(Q, QD, Energy, alpha=0.5, linestyles=\"dashed\")\n",
    "ax.set_xlabel(\"theta\")\n",
    "ax.set_ylabel(\"thetadot\")\n",
    "ax.set_title(\"V (solid) and Mechanical Energy (dashed)\")"
   ]
  },
  {
   "cell_type": "code",
   "execution_count": 40,
   "metadata": {},
   "outputs": [
    {
     "data": {
      "text/plain": [
       "array([[10.74101105,  2.42596626]])"
      ]
     },
     "execution_count": 40,
     "metadata": {},
     "output_type": "execute_result"
    }
   ],
   "source": [
    "G"
   ]
  },
  {
   "cell_type": "code",
   "execution_count": 225,
   "metadata": {},
   "outputs": [
    {
     "data": {
      "text/markdown": [
       "$\\begin{bmatrix} S_{0,0} & S_{1,0} & S_{2,0} & S_{3,0} \\\\ S_{1,0} & S_{1,1} & S_{2,1} & S_{3,1} \\\\ S_{2,0} & S_{2,1} & S_{2,2} & S_{3,2} \\\\ S_{3,0} & S_{3,1} & S_{3,2} & S_{3,3} \\end{bmatrix}$"
      ],
      "text/plain": [
       "<IPython.core.display.Markdown object>"
      ]
     },
     "metadata": {},
     "output_type": "display_data"
    }
   ],
   "source": [
    "prog = MathematicalProgram()\n",
    "s = prog.NewIndeterminates(1, 's')\n",
    "c = prog.NewIndeterminates(1, 'c')\n",
    "theta = prog.NewIndeterminates(1, 'theta')\n",
    "\n",
    "state = np.hstack([s, c, theta])\n",
    "\n",
    "V, Q = prog.NewSosPolynomial(Variables(state), 2)\n",
    "\n",
    "display(Markdown(\"$\"+ToLatex(Q)+\"$\"))"
   ]
  },
  {
   "cell_type": "code",
   "execution_count": 29,
   "metadata": {},
   "outputs": [
    {
     "ename": "AttributeError",
     "evalue": "'Add' object has no attribute 'ToExpression'",
     "output_type": "error",
     "traceback": [
      "\u001b[0;31m---------------------------------------------------------------------------\u001b[0m",
      "\u001b[0;31mAttributeError\u001b[0m                            Traceback (most recent call last)",
      "\u001b[0;32m<ipython-input-29-d592cbab032e>\u001b[0m in \u001b[0;36m<module>\u001b[0;34m\u001b[0m\n\u001b[0;32m----> 1\u001b[0;31m \u001b[0mdisplay\u001b[0m\u001b[0;34m(\u001b[0m\u001b[0mMarkdown\u001b[0m\u001b[0;34m(\u001b[0m\u001b[0;34m\"$\"\u001b[0m\u001b[0;34m+\u001b[0m\u001b[0mToLatex\u001b[0m\u001b[0;34m(\u001b[0m\u001b[0mV\u001b[0m\u001b[0;34m.\u001b[0m\u001b[0mToExpression\u001b[0m\u001b[0;34m(\u001b[0m\u001b[0;34m)\u001b[0m\u001b[0;34m)\u001b[0m\u001b[0;34m+\u001b[0m\u001b[0;34m\"$\"\u001b[0m\u001b[0;34m)\u001b[0m\u001b[0;34m)\u001b[0m\u001b[0;34m\u001b[0m\u001b[0;34m\u001b[0m\u001b[0m\n\u001b[0m",
      "\u001b[0;31mAttributeError\u001b[0m: 'Add' object has no attribute 'ToExpression'"
     ]
    }
   ],
   "source": [
    "display(Markdown(\"$\"+ToLatex(V.ToExpression())+\"$\"))"
   ]
  },
  {
   "cell_type": "code",
   "execution_count": null,
   "metadata": {},
   "outputs": [],
   "source": [
    "\n",
    "\n",
    "\n",
    "\n",
    "\n",
    "\n",
    "\n",
    "\n",
    "\n",
    "\n",
    "\n",
    "\n",
    "\n",
    "\n",
    "\n",
    "\n",
    "\n",
    "\n",
    "\n",
    "\n",
    "\n",
    "\n",
    "\n",
    "\n",
    "\n",
    "\n",
    "\n",
    "\n",
    "\n",
    "\n",
    "\n",
    "\n",
    "\n",
    "\n",
    "\n",
    "\n",
    "\n",
    "\n",
    "\n",
    "\n",
    "\n",
    "\n",
    "\n",
    "\n",
    "\n",
    "\n",
    "\n",
    "\n",
    "\n",
    "\n",
    "\n",
    "\n",
    "\n",
    "\n",
    "\n",
    "\n",
    "\n",
    "\n"
   ]
  },
  {
   "cell_type": "code",
   "execution_count": 36,
   "metadata": {},
   "outputs": [
    {
     "data": {
      "text/plain": [
       "array([[39.4932081 ,  8.55245308]])"
      ]
     },
     "execution_count": 36,
     "metadata": {},
     "output_type": "execute_result"
    }
   ],
   "source": [
    "G_explicit"
   ]
  },
  {
   "cell_type": "code",
   "execution_count": null,
   "metadata": {},
   "outputs": [],
   "source": []
  },
  {
   "cell_type": "markdown",
   "metadata": {},
   "source": [
    "## Acrobot Example"
   ]
  },
  {
   "cell_type": "code",
   "execution_count": 192,
   "metadata": {},
   "outputs": [],
   "source": [
    "from pydrake.examples.acrobot import (AcrobotGeometry, AcrobotInput,\n",
    "                                      AcrobotPlant, AcrobotState, AcrobotParams)"
   ]
  },
  {
   "cell_type": "code",
   "execution_count": 193,
   "metadata": {},
   "outputs": [],
   "source": [
    "p = AcrobotParams()"
   ]
  },
  {
   "cell_type": "code",
   "execution_count": 194,
   "metadata": {},
   "outputs": [
    {
     "data": {
      "text/plain": [
       "<bound method PyCapsule.m2 of AcrobotParams([1.0, 1.0, 1.0, 2.0, 0.5, 1.0, 0.083, 0.33, 0.1, 0.1, 9.81])>"
      ]
     },
     "execution_count": 194,
     "metadata": {},
     "output_type": "execute_result"
    }
   ],
   "source": [
    "p.m2"
   ]
  },
  {
   "cell_type": "code",
   "execution_count": 195,
   "metadata": {},
   "outputs": [
    {
     "data": {
      "text/plain": [
       "pydrake.examples.acrobot.AcrobotPlant"
      ]
     },
     "execution_count": 195,
     "metadata": {},
     "output_type": "execute_result"
    }
   ],
   "source": [
    "plant = AcrobotPlant()\n",
    "context = plant.CreateDefaultContext()\n",
    "type(plant)"
   ]
  },
  {
   "cell_type": "code",
   "execution_count": 196,
   "metadata": {},
   "outputs": [
    {
     "data": {
      "text/plain": [
       "array([[4.663, 2.33 ],\n",
       "       [2.33 , 1.33 ]])"
      ]
     },
     "execution_count": 196,
     "metadata": {},
     "output_type": "execute_result"
    }
   ],
   "source": [
    "plant.MassMatrix(context)"
   ]
  },
  {
   "cell_type": "code",
   "execution_count": 197,
   "metadata": {},
   "outputs": [
    {
     "data": {
      "text/plain": [
       "array([0., 0.])"
      ]
     },
     "execution_count": 197,
     "metadata": {},
     "output_type": "execute_result"
    }
   ],
   "source": [
    "plant.DynamicsBiasTerm(context)\n",
    "\n",
    "\n",
    "\n",
    "\n",
    "\n",
    "\n",
    "\n",
    "\n",
    "\n",
    "\n",
    "\n",
    "\n",
    "\n",
    "\n",
    "\n",
    "\n"
   ]
  },
  {
   "cell_type": "markdown",
   "metadata": {},
   "source": [
    "## Searching for Pendulum Control Input Explicitly"
   ]
  },
  {
   "cell_type": "code",
   "execution_count": 7,
   "metadata": {},
   "outputs": [],
   "source": [
    "# explicit linearization\n",
    "A_explicit = np.array([[0, 1], [p.gravity()/p.length(), -p.damping()/(p.mass()*p.length()*p.length())]])\n",
    "B_explicit = np.array([[0], [1]])\n",
    "\n",
    "Q_explicit = np.diag([10, 1])\n",
    "R_explicit = [1]\n",
    "\n",
    "X_explicit, L_explicit, G_explicit = control.care(A_explicit, B_explicit, Q_explicit, R_explicit)"
   ]
  },
  {
   "cell_type": "code",
   "execution_count": 14,
   "metadata": {},
   "outputs": [
    {
     "data": {
      "text/plain": [
       "array([39.4932081 ,  0.        ,  8.55245308])"
      ]
     },
     "execution_count": 14,
     "metadata": {},
     "output_type": "execute_result"
    }
   ],
   "source": [
    "G_explicit\n",
    "G_explicit_casted = np.insert(G_explicit, 1, 0)\n",
    "G_explicit_casted"
   ]
  },
  {
   "cell_type": "code",
   "execution_count": 12,
   "metadata": {},
   "outputs": [],
   "source": [
    "A_cl_ex = A_explicit - B_explicit@G_explicit\n",
    "Q_ly_ex = np.eye(2)\n",
    "P_ex = control.lyap(A_cl_ex.T, Q_ly_ex)"
   ]
  },
  {
   "cell_type": "code",
   "execution_count": 13,
   "metadata": {},
   "outputs": [
    {
     "data": {
      "text/plain": [
       "array([[1.39102074, 0.0251595 ],\n",
       "       [0.0251595 , 0.05866096]])"
      ]
     },
     "execution_count": 13,
     "metadata": {},
     "output_type": "execute_result"
    }
   ],
   "source": [
    "P_ex"
   ]
  },
  {
   "cell_type": "code",
   "execution_count": 51,
   "metadata": {},
   "outputs": [
    {
     "data": {
      "text/markdown": [
       "$V(x) = (2.780000 - 2.780000c_{0} + 0.053000s_{0} \\dot{O}_{0} + 0.058600\\dot{O}_{0}^{2})$"
      ],
      "text/plain": [
       "<IPython.core.display.Markdown object>"
      ]
     },
     "metadata": {},
     "output_type": "display_data"
    },
    {
     "name": "stdout",
     "output_type": "stream",
     "text": [
      "Status of first solver on step 0: 1\n",
      "Status of second solver on step 0: 7\n"
     ]
    },
    {
     "ename": "AssertionError",
     "evalue": "",
     "output_type": "error",
     "traceback": [
      "\u001b[0;31m---------------------------------------------------------------------------\u001b[0m",
      "\u001b[0;31mAssertionError\u001b[0m                            Traceback (most recent call last)",
      "\u001b[0;32m<ipython-input-51-7d92df86ecd5>\u001b[0m in \u001b[0;36m<module>\u001b[0;34m\u001b[0m\n\u001b[1;32m    112\u001b[0m \u001b[0;34m\u001b[0m\u001b[0m\n\u001b[1;32m    113\u001b[0m \u001b[0;34m\u001b[0m\u001b[0m\n\u001b[0;32m--> 114\u001b[0;31m \u001b[0mV\u001b[0m\u001b[0;34m,\u001b[0m \u001b[0mQ\u001b[0m \u001b[0;34m=\u001b[0m \u001b[0msetup_solver\u001b[0m\u001b[0;34m(\u001b[0m\u001b[0mP_ex\u001b[0m\u001b[0;34m,\u001b[0m \u001b[0mG_explicit_casted\u001b[0m\u001b[0;34m)\u001b[0m\u001b[0;34m\u001b[0m\u001b[0;34m\u001b[0m\u001b[0m\n\u001b[0m",
      "\u001b[0;32m<ipython-input-51-7d92df86ecd5>\u001b[0m in \u001b[0;36msetup_solver\u001b[0;34m(P, G)\u001b[0m\n\u001b[1;32m    101\u001b[0m \u001b[0;31m#         Polynomial(lambda_).RemoveTermsWithSmallCoefficients(1e-5).ToExpression(),6) + \"$\"))\u001b[0m\u001b[0;34m\u001b[0m\u001b[0;34m\u001b[0m\u001b[0;34m\u001b[0m\u001b[0m\n\u001b[1;32m    102\u001b[0m \u001b[0;34m\u001b[0m\u001b[0m\n\u001b[0;32m--> 103\u001b[0;31m         \u001b[0mV\u001b[0m\u001b[0;34m,\u001b[0m \u001b[0mQ\u001b[0m \u001b[0;34m=\u001b[0m \u001b[0mfindV\u001b[0m\u001b[0;34m(\u001b[0m\u001b[0mx\u001b[0m\u001b[0;34m,\u001b[0m \u001b[0mlambda_\u001b[0m\u001b[0;34m,\u001b[0m \u001b[0mlambda_s\u001b[0m\u001b[0;34m,\u001b[0m \u001b[0mu\u001b[0m\u001b[0;34m,\u001b[0m \u001b[0mf\u001b[0m\u001b[0;34m,\u001b[0m \u001b[0mcount\u001b[0m\u001b[0;34m)\u001b[0m\u001b[0;34m\u001b[0m\u001b[0;34m\u001b[0m\u001b[0m\n\u001b[0m\u001b[1;32m    104\u001b[0m \u001b[0;34m\u001b[0m\u001b[0m\n\u001b[1;32m    105\u001b[0m         \u001b[0mdisplay\u001b[0m\u001b[0;34m(\u001b[0m\u001b[0mMarkdown\u001b[0m\u001b[0;34m(\u001b[0m\u001b[0;34m\"$V(x) = \"\u001b[0m \u001b[0;34m+\u001b[0m \u001b[0mToLatex\u001b[0m\u001b[0;34m(\u001b[0m\u001b[0mV\u001b[0m\u001b[0;34m.\u001b[0m\u001b[0mRemoveTermsWithSmallCoefficients\u001b[0m\u001b[0;34m(\u001b[0m\u001b[0;36m1e-5\u001b[0m\u001b[0;34m)\u001b[0m\u001b[0;34m.\u001b[0m\u001b[0mToExpression\u001b[0m\u001b[0;34m(\u001b[0m\u001b[0;34m)\u001b[0m\u001b[0;34m,\u001b[0m\u001b[0;36m6\u001b[0m\u001b[0;34m)\u001b[0m \u001b[0;34m+\u001b[0m \u001b[0;34m\"$\"\u001b[0m\u001b[0;34m)\u001b[0m\u001b[0;34m)\u001b[0m\u001b[0;34m\u001b[0m\u001b[0;34m\u001b[0m\u001b[0m\n",
      "\u001b[0;32m<ipython-input-51-7d92df86ecd5>\u001b[0m in \u001b[0;36mfindV\u001b[0;34m(x, lambda_, lambda_s, u, f, count)\u001b[0m\n\u001b[1;32m     68\u001b[0m \u001b[0;34m\u001b[0m\u001b[0m\n\u001b[1;32m     69\u001b[0m     \u001b[0mprint\u001b[0m\u001b[0;34m(\u001b[0m\u001b[0;34m'Status of second solver on step '\u001b[0m \u001b[0;34m+\u001b[0m \u001b[0mstr\u001b[0m\u001b[0;34m(\u001b[0m\u001b[0mcount\u001b[0m\u001b[0;34m)\u001b[0m \u001b[0;34m+\u001b[0m \u001b[0;34m': '\u001b[0m \u001b[0;34m+\u001b[0m \u001b[0mstr\u001b[0m\u001b[0;34m(\u001b[0m\u001b[0mk\u001b[0m\u001b[0;34m)\u001b[0m\u001b[0;34m)\u001b[0m\u001b[0;34m\u001b[0m\u001b[0;34m\u001b[0m\u001b[0m\n\u001b[0;32m---> 70\u001b[0;31m     \u001b[0;32massert\u001b[0m \u001b[0mresult\u001b[0m\u001b[0;34m.\u001b[0m\u001b[0mis_success\u001b[0m\u001b[0;34m(\u001b[0m\u001b[0;34m)\u001b[0m\u001b[0;34m\u001b[0m\u001b[0;34m\u001b[0m\u001b[0m\n\u001b[0m\u001b[1;32m     71\u001b[0m \u001b[0;34m\u001b[0m\u001b[0m\n\u001b[1;32m     72\u001b[0m     \u001b[0;32mreturn\u001b[0m \u001b[0mresult\u001b[0m\u001b[0;34m.\u001b[0m\u001b[0mGetSolution\u001b[0m\u001b[0;34m(\u001b[0m\u001b[0mV\u001b[0m\u001b[0;34m)\u001b[0m\u001b[0;34m,\u001b[0m \u001b[0mresult\u001b[0m\u001b[0;34m.\u001b[0m\u001b[0mGetSolution\u001b[0m\u001b[0;34m(\u001b[0m\u001b[0mQ\u001b[0m\u001b[0;34m)\u001b[0m\u001b[0;34m\u001b[0m\u001b[0;34m\u001b[0m\u001b[0m\n",
      "\u001b[0;31mAssertionError\u001b[0m: "
     ]
    }
   ],
   "source": [
    "#THIS CODE WORKS\n",
    "from pydrake.solvers.mathematicalprogram import MathematicalProgram, SolverOptions, Solve\n",
    "from pydrake.solvers.csdp import CsdpSolver\n",
    "from pydrake.solvers.mosek import MosekSolver\n",
    "\n",
    "def findLambda(x, V, Vdot, count, f):\n",
    "    prog = MathematicalProgram()\n",
    "    prog.AddIndeterminates(x)\n",
    "        \n",
    "    l_deg = math.ceil(V.TotalDegree()/2) * 2\n",
    "    \n",
    "    lambda_, Q_l = prog.NewSosPolynomial(Variables(x), l_deg)\n",
    "    \n",
    "    s_deg = max(l_deg + V.TotalDegree() - 2, 0)\n",
    "    \n",
    "    lambda_s = prog.NewFreePolynomial(Variables(x), s_deg)\n",
    "    \n",
    "    u = prog.NewFreePolynomial(Variables(x), 1)\n",
    "    f2 = Polynomial((-b/(m*length**2))*x[2] + (grav/length)*x[0]) + u\n",
    "    f[2] = f2\n",
    "    \n",
    "    Vdot = V.Jacobian(x).dot(f)\n",
    "    \n",
    "    trig = Polynomial(x[0]**2 + x[1]**2 - 1)\n",
    "    prog.AddSosConstraint(-Vdot - lambda_*(1 - V) + lambda_s*trig)\n",
    "    \n",
    "    solver = MosekSolver()\n",
    "    result = solver.Solve(prog)\n",
    "    \n",
    "    k = result.get_solver_details().solution_status\n",
    "        \n",
    "    print('Status of first solver on step ' + str(count) + ': ' + str(k))\n",
    "    assert result.is_success()\n",
    "    \n",
    "    return result.GetSolution(lambda_), result.GetSolution(lambda_s), result.GetSolution(u)\n",
    "\n",
    "\n",
    "def findV(x, lambda_, lambda_s, u, f, count):\n",
    "    prog = MathematicalProgram()\n",
    "    prog.AddIndeterminates(x)    \n",
    "    \n",
    "    V, Q = prog.NewSosPolynomial(Variables(x), 2)\n",
    "            \n",
    "    prog.AddLinearConstraint(V.ToExpression().Substitute({x[0]: 0, x[1]:1, x[2]: 0}) == 0)\n",
    "    \n",
    "    f2 = Polynomial((-b/(m*length**2))*x[2] + (grav/length)*x[0]) + u\n",
    "    f[2] = f2\n",
    "    \n",
    "    Vdot = V.Jacobian(x).dot(f)\n",
    "    \n",
    "    trig = Polynomial(x[0]**2 + x[1]**2 - 1)\n",
    "    prog.AddSosConstraint(-Vdot - lambda_*(1 - V) + lambda_s*trig)\n",
    "    \n",
    "    prog.AddLinearCost(np.trace(Q))\n",
    "    \n",
    "#     A = Q[0, 0]\n",
    "#     B = 2*Q[1, 0]\n",
    "#     C = Q[1, 1]\n",
    "    \n",
    "#     prog.AddCost(A)\n",
    "#     prog.AddCost(C)\n",
    "#     prog.AddCost(-B)\n",
    "    \n",
    "    solver = MosekSolver()\n",
    "    result = solver.Solve(prog)\n",
    "        \n",
    "    k = result.get_solver_details().solution_status\n",
    "                \n",
    "    print('Status of second solver on step ' + str(count) + ': ' + str(k))\n",
    "    assert result.is_success()\n",
    "    \n",
    "    return result.GetSolution(V), result.GetSolution(Q)\n",
    "\n",
    "def setup_solver(P, G):  \n",
    "    count = 0\n",
    "    prog = MathematicalProgram()\n",
    "    s = prog.NewIndeterminates(1, \"s\")\n",
    "    c = prog.NewIndeterminates(1, \"c\")\n",
    "    theta_dot = prog.NewIndeterminates(1, \"\\dot{O}\")\n",
    "    \n",
    "    x = np.hstack([s, c, theta_dot])\n",
    "    \n",
    "    f0 = Polynomial(x[1] * x[2])\n",
    "    f1 = Polynomial(-x[0] * x[2])\n",
    "    f2 = Polynomial((-b/(m*length**2))*x[2] + (grav/length)*x[0] - G@x)\n",
    "    \n",
    "    f = np.array([f0, f1, f2])\n",
    "    \n",
    "    V = 2.78 - 2.78*c[0] + 0.0586*theta_dot[0]**2 + 0.053*s[0]*theta_dot[0]\n",
    "    \n",
    "    V = Polynomial(V)\n",
    "    \n",
    "    display(Markdown(\"$V(x) = \" + ToLatex(V.RemoveTermsWithSmallCoefficients(1e-5).ToExpression(),6) + \"$\"))\n",
    "        \n",
    "    Vdot = V.Jacobian(x).dot(f)\n",
    "    \n",
    "    for i in range(1): \n",
    "        lambda_, lambda_s, u = findLambda(x, V, Vdot, count, f)\n",
    "        \n",
    "#         display(Markdown(\"$\\lambda (x) = \" + ToLatex(\n",
    "#         Polynomial(lambda_).RemoveTermsWithSmallCoefficients(1e-5).ToExpression(),6) + \"$\"))\n",
    "        \n",
    "        V, Q = findV(x, lambda_, lambda_s, u, f, count)\n",
    "        \n",
    "        display(Markdown(\"$V(x) = \" + ToLatex(V.RemoveTermsWithSmallCoefficients(1e-5).ToExpression(),6) + \"$\"))\n",
    "        display(Markdown(\"$u(x) = \" + ToLatex(u.RemoveTermsWithSmallCoefficients(1e-5).ToExpression(),6) + \"$\"))\n",
    "        \n",
    "        Vdot = V.Jacobian(x).dot(f)\n",
    "        \n",
    "        count += 1\n",
    "    return V, Q\n",
    "    \n",
    "    \n",
    "V, Q = setup_solver(P_ex, G_explicit_casted)"
   ]
  },
  {
   "cell_type": "code",
   "execution_count": null,
   "metadata": {},
   "outputs": [],
   "source": []
  }
 ],
 "metadata": {
  "kernelspec": {
   "display_name": "Python 3",
   "language": "python",
   "name": "python3"
  },
  "language_info": {
   "codemirror_mode": {
    "name": "ipython",
    "version": 3
   },
   "file_extension": ".py",
   "mimetype": "text/x-python",
   "name": "python",
   "nbconvert_exporter": "python",
   "pygments_lexer": "ipython3",
   "version": "3.8.10"
  }
 },
 "nbformat": 4,
 "nbformat_minor": 4
}
