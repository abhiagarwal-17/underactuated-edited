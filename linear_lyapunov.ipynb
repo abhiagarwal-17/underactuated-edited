{
 "cells": [
  {
   "cell_type": "markdown",
   "metadata": {},
   "source": [
    "## Standard Continuous Time Lyapunov Equation"
   ]
  },
  {
   "cell_type": "code",
   "execution_count": 4,
   "metadata": {},
   "outputs": [],
   "source": [
    "import scipy\n",
    "import control\n",
    "import numpy as np\n",
    "import sympy as sp\n",
    "from sympy.physics.vector import dynamicsymbols as dynamicsymbols\n",
    "\n",
    "from pydrake.all import (LinearQuadraticRegulator, MathematicalProgram, Variables,\n",
    "                         Solve, RealContinuousLyapunovEquation)\n",
    "\n",
    "import matplotlib.pyplot as plt\n",
    "import mpld3\n",
    "import numpy as np\n",
    "from IPython.display import Markdown, display\n",
    "from pydrake.all import (Jacobian, MathematicalProgram, Polynomial,\n",
    "                         RegionOfAttraction, RegionOfAttractionOptions, Solve,\n",
    "                         SymbolicVectorSystem, ToLatex, Variable, Variables,\n",
    "                         plot_sublevelset_expression)\n",
    "from pydrake.examples.pendulum import PendulumParams\n",
    "from pydrake.examples.van_der_pol import VanDerPolOscillator\n",
    "from pydrake.symbolic import Polynomial\n",
    "\n",
    "from underactuated import plot_2d_phase_portrait, running_as_notebook\n",
    "\n",
    "from pydrake.all import (AddMultibodyPlantSceneGraph, ControllabilityMatrix,\n",
    "                         DiagramBuilder, Linearize, LinearQuadraticRegulator,\n",
    "                         MeshcatVisualizerCpp, Parser, Saturation, SceneGraph,\n",
    "                         Simulator, StartMeshcat, WrapToSystem)\n",
    "\n",
    "if running_as_notebook:\n",
    "    mpld3.enable_notebook()\n",
    "\n",
    "import math"
   ]
  },
  {
   "cell_type": "code",
   "execution_count": 5,
   "metadata": {},
   "outputs": [],
   "source": [
    "from pydrake.examples.pendulum import PendulumParams, PendulumPlant\n",
    "\n",
    "p = PendulumParams()\n",
    "\n",
    "b = p.damping()\n",
    "m = p.mass()\n",
    "length = p.length()\n",
    "g = p.gravity()\n",
    "grav = p.gravity()"
   ]
  },
  {
   "cell_type": "markdown",
   "metadata": {},
   "source": [
    "## Simple Pendulum Example\n",
    "\n",
    "Take the Lyapunov function at the vertical down position and verify that it will grow as the alternations converge. "
   ]
  },
  {
   "cell_type": "code",
   "execution_count": 55,
   "metadata": {},
   "outputs": [],
   "source": [
    "# explicit dynamics\n",
    "plant = PendulumPlant()\n",
    "context = plant.CreateDefaultContext()\n",
    "plant.get_input_port().FixValue(context, [0])\n",
    "context.SetContinuousState([0, 0])\n",
    "\n",
    "linearized_plant = Linearize(plant, context)\n",
    "\n",
    "A = linearized_plant.A()\n",
    "Q = np.eye(2)\n",
    "P = RealContinuousLyapunovEquation(A, Q)\n",
    "X1 = control.lyap(A.T, Q)"
   ]
  },
  {
   "cell_type": "code",
   "execution_count": 22,
   "metadata": {},
   "outputs": [
    {
     "data": {
      "text/markdown": [
       "$ V(x)=(0.050968400x_{0} x_{1} + 25.785193680x_{0}^{2} + 1.313710499x_{1}^{2})$"
      ],
      "text/plain": [
       "<IPython.core.display.Markdown object>"
      ]
     },
     "metadata": {},
     "output_type": "display_data"
    },
    {
     "name": "stdout",
     "output_type": "stream",
     "text": [
      "Lambda solution status: 1\n",
      "V solution status: 1\n"
     ]
    },
    {
     "data": {
      "text/markdown": [
       "$ V(x)=(0.000000000 - 0.000000000x_{0} - 0.000000000x_{1} + 0.058812414x_{0} x_{1} + 25.148088222x_{0}^{2} + 1.279074892x_{1}^{2})$"
      ],
      "text/plain": [
       "<IPython.core.display.Markdown object>"
      ]
     },
     "metadata": {},
     "output_type": "display_data"
    },
    {
     "name": "stdout",
     "output_type": "stream",
     "text": [
      "Lambda solution status: 1\n",
      "V solution status: 1\n"
     ]
    },
    {
     "data": {
      "text/markdown": [
       "$ V(x)=(0.000000000 - 0.000000000x_{0} - 0.000000000x_{1} + 0.063062259x_{0} x_{1} + 24.528546646x_{0}^{2} + 1.245323622x_{1}^{2})$"
      ],
      "text/plain": [
       "<IPython.core.display.Markdown object>"
      ]
     },
     "metadata": {},
     "output_type": "display_data"
    },
    {
     "name": "stdout",
     "output_type": "stream",
     "text": [
      "Lambda solution status: 1\n",
      "V solution status: 1\n"
     ]
    },
    {
     "data": {
      "text/markdown": [
       "$ V(x)=(0.000000000 + 0.000000000x_{0} - 0.000000000x_{1} + 0.064968877x_{0} x_{1} + 23.926033185x_{0}^{2} + 1.212707138x_{1}^{2})$"
      ],
      "text/plain": [
       "<IPython.core.display.Markdown object>"
      ]
     },
     "metadata": {},
     "output_type": "display_data"
    },
    {
     "name": "stdout",
     "output_type": "stream",
     "text": [
      "Lambda solution status: 1\n",
      "V solution status: 1\n"
     ]
    },
    {
     "data": {
      "text/markdown": [
       "$ V(x)=(0.000000000 + 0.000000000x_{0} + 0.000000000x_{1} + 0.065348478x_{0} x_{1} + 23.339922999x_{0}^{2} + 1.181285676x_{1}^{2})$"
      ],
      "text/plain": [
       "<IPython.core.display.Markdown object>"
      ]
     },
     "metadata": {},
     "output_type": "display_data"
    },
    {
     "name": "stdout",
     "output_type": "stream",
     "text": [
      "Lambda solution status: 1\n",
      "V solution status: 1\n"
     ]
    },
    {
     "data": {
      "text/markdown": [
       "$ V(x)=(0.000000000 - 0.000000000x_{0} + 0.000000000x_{1} + 0.064753292x_{0} x_{1} + 22.769838045x_{0}^{2} + 1.151047863x_{1}^{2})$"
      ],
      "text/plain": [
       "<IPython.core.display.Markdown object>"
      ]
     },
     "metadata": {},
     "output_type": "display_data"
    },
    {
     "name": "stdout",
     "output_type": "stream",
     "text": [
      "Lambda solution status: 1\n",
      "V solution status: 1\n"
     ]
    },
    {
     "data": {
      "text/markdown": [
       "$ V(x)=(0.000000000 - 0.000000000x_{0} - 0.000000000x_{1} + 0.063553842x_{0} x_{1} + 22.215513589x_{0}^{2} + 1.121946112x_{1}^{2})$"
      ],
      "text/plain": [
       "<IPython.core.display.Markdown object>"
      ]
     },
     "metadata": {},
     "output_type": "display_data"
    },
    {
     "name": "stdout",
     "output_type": "stream",
     "text": [
      "Lambda solution status: 1\n",
      "V solution status: 1\n"
     ]
    },
    {
     "data": {
      "text/markdown": [
       "$ V(x)=(0.000000000 - 0.000000000x_{0} - 0.000000000x_{1} + 0.061992585x_{0} x_{1} + 21.676668112x_{0}^{2} + 1.093914689x_{1}^{2})$"
      ],
      "text/plain": [
       "<IPython.core.display.Markdown object>"
      ]
     },
     "metadata": {},
     "output_type": "display_data"
    },
    {
     "name": "stdout",
     "output_type": "stream",
     "text": [
      "Lambda solution status: 1\n",
      "V solution status: 1\n"
     ]
    },
    {
     "data": {
      "text/markdown": [
       "$ V(x)=(0.000000000 - 0.000000000x_{0} + 0.000000000x_{1} + 0.060223633x_{0} x_{1} + 21.152945734x_{0}^{2} + 1.066880944x_{1}^{2})$"
      ],
      "text/plain": [
       "<IPython.core.display.Markdown object>"
      ]
     },
     "metadata": {},
     "output_type": "display_data"
    },
    {
     "name": "stdout",
     "output_type": "stream",
     "text": [
      "Lambda solution status: 1\n",
      "V solution status: 1\n"
     ]
    },
    {
     "data": {
      "text/markdown": [
       "$ V(x)=(0.000000000 + 0.000000000x_{0} + 0.000000000x_{1} + 0.058339288x_{0} x_{1} + 20.643961091x_{0}^{2} + 1.040774631x_{1}^{2})$"
      ],
      "text/plain": [
       "<IPython.core.display.Markdown object>"
      ]
     },
     "metadata": {},
     "output_type": "display_data"
    },
    {
     "name": "stdout",
     "output_type": "stream",
     "text": [
      "Lambda solution status: 1\n",
      "V solution status: 1\n"
     ]
    },
    {
     "data": {
      "text/markdown": [
       "$ V(x)=(0.000000000 - 0.000000000x_{0} - 0.000000000x_{1} + 0.056388604x_{0} x_{1} + 20.149795307x_{0}^{2} + 1.015557919x_{1}^{2})$"
      ],
      "text/plain": [
       "<IPython.core.display.Markdown object>"
      ]
     },
     "metadata": {},
     "output_type": "display_data"
    },
    {
     "name": "stdout",
     "output_type": "stream",
     "text": [
      "Lambda solution status: 1\n",
      "V solution status: 1\n"
     ]
    },
    {
     "data": {
      "text/markdown": [
       "$ V(x)=(0.000000000 + 0.000000000x_{0} + 0.000000000x_{1} + 0.054406766x_{0} x_{1} + 19.670145103x_{0}^{2} + 0.991179873x_{1}^{2})$"
      ],
      "text/plain": [
       "<IPython.core.display.Markdown object>"
      ]
     },
     "metadata": {},
     "output_type": "display_data"
    },
    {
     "name": "stdout",
     "output_type": "stream",
     "text": [
      "Lambda solution status: 1\n",
      "V solution status: 1\n"
     ]
    },
    {
     "data": {
      "text/markdown": [
       "$ V(x)=(0.000000000 - 0.000000000x_{0} + 0.000000000x_{1} + 0.052421773x_{0} x_{1} + 19.204758276x_{0}^{2} + 0.967601764x_{1}^{2})$"
      ],
      "text/plain": [
       "<IPython.core.display.Markdown object>"
      ]
     },
     "metadata": {},
     "output_type": "display_data"
    },
    {
     "name": "stdout",
     "output_type": "stream",
     "text": [
      "Lambda solution status: 1\n",
      "V solution status: 1\n"
     ]
    },
    {
     "data": {
      "text/markdown": [
       "$ V(x)=(0.000000000 - 0.000000000x_{0} - 0.000000000x_{1} + 0.050454735x_{0} x_{1} + 18.753462585x_{0}^{2} + 0.944795388x_{1}^{2})$"
      ],
      "text/plain": [
       "<IPython.core.display.Markdown object>"
      ]
     },
     "metadata": {},
     "output_type": "display_data"
    },
    {
     "name": "stdout",
     "output_type": "stream",
     "text": [
      "Lambda solution status: 1\n",
      "V solution status: 1\n"
     ]
    },
    {
     "data": {
      "text/markdown": [
       "$ V(x)=(0.000000000 - 0.000000000x_{0} - 0.000000000x_{1} + 0.048502406x_{0} x_{1} + 18.316142151x_{0}^{2} + 0.922736190x_{1}^{2})$"
      ],
      "text/plain": [
       "<IPython.core.display.Markdown object>"
      ]
     },
     "metadata": {},
     "output_type": "display_data"
    },
    {
     "name": "stdout",
     "output_type": "stream",
     "text": [
      "Lambda solution status: 1\n",
      "V solution status: 1\n"
     ]
    },
    {
     "data": {
      "text/markdown": [
       "$ V(x)=(0.000000000 + 0.000000000x_{0} - 0.000000000x_{1} + 0.046550772x_{0} x_{1} + 17.892808844x_{0}^{2} + 0.901409545x_{1}^{2})$"
      ],
      "text/plain": [
       "<IPython.core.display.Markdown object>"
      ]
     },
     "metadata": {},
     "output_type": "display_data"
    },
    {
     "name": "stdout",
     "output_type": "stream",
     "text": [
      "Lambda solution status: 1\n",
      "V solution status: 1\n"
     ]
    },
    {
     "data": {
      "text/markdown": [
       "$ V(x)=(0.000000000 + 0.000000000x_{0} + 0.000000000x_{1} + 0.044636063x_{0} x_{1} + 17.483367450x_{0}^{2} + 0.880809951x_{1}^{2})$"
      ],
      "text/plain": [
       "<IPython.core.display.Markdown object>"
      ]
     },
     "metadata": {},
     "output_type": "display_data"
    },
    {
     "name": "stdout",
     "output_type": "stream",
     "text": [
      "Lambda solution status: 1\n",
      "V solution status: 1\n"
     ]
    },
    {
     "data": {
      "text/markdown": [
       "$ V(x)=(0.000000000 - 0.000000000x_{0} + 0.000000000x_{1} + 0.042828506x_{0} x_{1} + 17.086447403x_{0}^{2} + 0.860871777x_{1}^{2})$"
      ],
      "text/plain": [
       "<IPython.core.display.Markdown object>"
      ]
     },
     "metadata": {},
     "output_type": "display_data"
    },
    {
     "name": "stdout",
     "output_type": "stream",
     "text": [
      "Lambda solution status: 1\n",
      "V solution status: 1\n"
     ]
    },
    {
     "data": {
      "text/markdown": [
       "$ V(x)=(0.000000000 + 0.000000000x_{0} + 0.000000000x_{1} + 0.041147912x_{0} x_{1} + 16.700907971x_{0}^{2} + 0.841530250x_{1}^{2})$"
      ],
      "text/plain": [
       "<IPython.core.display.Markdown object>"
      ]
     },
     "metadata": {},
     "output_type": "display_data"
    },
    {
     "name": "stdout",
     "output_type": "stream",
     "text": [
      "Lambda solution status: 1\n",
      "V solution status: 1\n"
     ]
    },
    {
     "data": {
      "text/markdown": [
       "$ V(x)=(0.000000000 + 0.000000000x_{0} + 0.000000000x_{1} + 0.039604207x_{0} x_{1} + 16.325870312x_{0}^{2} + 0.822734641x_{1}^{2})$"
      ],
      "text/plain": [
       "<IPython.core.display.Markdown object>"
      ]
     },
     "metadata": {},
     "output_type": "display_data"
    },
    {
     "name": "stdout",
     "output_type": "stream",
     "text": [
      "Lambda solution status: 1\n",
      "V solution status: 1\n"
     ]
    },
    {
     "data": {
      "text/markdown": [
       "$ V(x)=(0.000000000 + 0.000000000x_{0} + 0.000000000x_{1} + 0.038198083x_{0} x_{1} + 15.960608778x_{0}^{2} + 0.804442296x_{1}^{2})$"
      ],
      "text/plain": [
       "<IPython.core.display.Markdown object>"
      ]
     },
     "metadata": {},
     "output_type": "display_data"
    },
    {
     "name": "stdout",
     "output_type": "stream",
     "text": [
      "Lambda solution status: 1\n",
      "V solution status: 1\n"
     ]
    },
    {
     "data": {
      "text/markdown": [
       "$ V(x)=(0.000000000 + 0.000000000x_{0} - 0.000000000x_{1} + 0.036925433x_{0} x_{1} + 15.604530109x_{0}^{2} + 0.786617988x_{1}^{2})$"
      ],
      "text/plain": [
       "<IPython.core.display.Markdown object>"
      ]
     },
     "metadata": {},
     "output_type": "display_data"
    },
    {
     "name": "stdout",
     "output_type": "stream",
     "text": [
      "Lambda solution status: 1\n",
      "V solution status: 1\n"
     ]
    },
    {
     "data": {
      "text/markdown": [
       "$ V(x)=(0.000000000 - 0.000000000x_{0} - 0.000000000x_{1} + 0.035772139x_{0} x_{1} + 15.257042083x_{0}^{2} + 0.769226494x_{1}^{2})$"
      ],
      "text/plain": [
       "<IPython.core.display.Markdown object>"
      ]
     },
     "metadata": {},
     "output_type": "display_data"
    },
    {
     "name": "stdout",
     "output_type": "stream",
     "text": [
      "Lambda solution status: 1\n",
      "V solution status: 1\n"
     ]
    },
    {
     "data": {
      "text/markdown": [
       "$ V(x)=(0.000000000 + 0.000000000x_{0} + 0.000000000x_{1} + 0.034701269x_{0} x_{1} + 14.913413128x_{0}^{2} + 0.752037363x_{1}^{2})$"
      ],
      "text/plain": [
       "<IPython.core.display.Markdown object>"
      ]
     },
     "metadata": {},
     "output_type": "display_data"
    },
    {
     "name": "stdout",
     "output_type": "stream",
     "text": [
      "Lambda solution status: 1\n",
      "V solution status: 1\n"
     ]
    },
    {
     "data": {
      "text/markdown": [
       "$ V(x)=(0.000000000 + 0.000000000x_{0} + 0.000000000x_{1} + 0.033720285x_{0} x_{1} + 14.573180316x_{0}^{2} + 0.735017676x_{1}^{2})$"
      ],
      "text/plain": [
       "<IPython.core.display.Markdown object>"
      ]
     },
     "metadata": {},
     "output_type": "display_data"
    },
    {
     "name": "stdout",
     "output_type": "stream",
     "text": [
      "Lambda solution status: 1\n",
      "V solution status: 1\n"
     ]
    },
    {
     "data": {
      "text/markdown": [
       "$ V(x)=(0.000000000 + 0.000000000x_{0} + 0.000000000x_{1} + 0.032826816x_{0} x_{1} + 14.237446677x_{0}^{2} + 0.718212557x_{1}^{2})$"
      ],
      "text/plain": [
       "<IPython.core.display.Markdown object>"
      ]
     },
     "metadata": {},
     "output_type": "display_data"
    },
    {
     "name": "stdout",
     "output_type": "stream",
     "text": [
      "Lambda solution status: 1\n",
      "V solution status: 1\n"
     ]
    },
    {
     "data": {
      "text/markdown": [
       "$ V(x)=(0.000000000 - 0.000000000x_{0} - 0.000000000x_{1} + 0.032002292x_{0} x_{1} + 13.907117504x_{0}^{2} + 0.701661190x_{1}^{2})$"
      ],
      "text/plain": [
       "<IPython.core.display.Markdown object>"
      ]
     },
     "metadata": {},
     "output_type": "display_data"
    },
    {
     "name": "stdout",
     "output_type": "stream",
     "text": [
      "Lambda solution status: 1\n",
      "V solution status: 1\n"
     ]
    },
    {
     "data": {
      "text/markdown": [
       "$ V(x)=(0.000000000 + 0.000000000x_{0} + 0.000000000x_{1} + 0.031224626x_{0} x_{1} + 13.582843811x_{0}^{2} + 0.685393846x_{1}^{2})$"
      ],
      "text/plain": [
       "<IPython.core.display.Markdown object>"
      ]
     },
     "metadata": {},
     "output_type": "display_data"
    },
    {
     "name": "stdout",
     "output_type": "stream",
     "text": [
      "Lambda solution status: 1\n",
      "V solution status: 1\n"
     ]
    },
    {
     "data": {
      "text/markdown": [
       "$ V(x)=(0.000000000 + 0.000000000x_{0} + 0.000000000x_{1} + 0.030475419x_{0} x_{1} + 13.265006543x_{0}^{2} + 0.669430315x_{1}^{2})$"
      ],
      "text/plain": [
       "<IPython.core.display.Markdown object>"
      ]
     },
     "metadata": {},
     "output_type": "display_data"
    },
    {
     "name": "stdout",
     "output_type": "stream",
     "text": [
      "Lambda solution status: 1\n",
      "V solution status: 1\n"
     ]
    },
    {
     "data": {
      "text/markdown": [
       "$ V(x)=(0.000000000 - 0.000000000x_{0} + 0.000000000x_{1} + 0.029742875x_{0} x_{1} + 12.953754952x_{0}^{2} + 0.653780828x_{1}^{2})$"
      ],
      "text/plain": [
       "<IPython.core.display.Markdown object>"
      ]
     },
     "metadata": {},
     "output_type": "display_data"
    },
    {
     "name": "stdout",
     "output_type": "stream",
     "text": [
      "Lambda solution status: 1\n",
      "V solution status: 1\n"
     ]
    },
    {
     "data": {
      "text/markdown": [
       "$ V(x)=(0.000000000 + 0.000000000x_{0} - 0.000000000x_{1} + 0.029021052x_{0} x_{1} + 12.649074979x_{0}^{2} + 0.638448301x_{1}^{2})$"
      ],
      "text/plain": [
       "<IPython.core.display.Markdown object>"
      ]
     },
     "metadata": {},
     "output_type": "display_data"
    },
    {
     "name": "stdout",
     "output_type": "stream",
     "text": [
      "Lambda solution status: 1\n",
      "V solution status: 1\n"
     ]
    },
    {
     "data": {
      "text/markdown": [
       "$ V(x)=(0.000000000 + 0.000000000x_{0} - 0.000000000x_{1} + 0.028308617x_{0} x_{1} + 12.350856852x_{0}^{2} + 0.623430974x_{1}^{2})$"
      ],
      "text/plain": [
       "<IPython.core.display.Markdown object>"
      ]
     },
     "metadata": {},
     "output_type": "display_data"
    },
    {
     "name": "stdout",
     "output_type": "stream",
     "text": [
      "Lambda solution status: 1\n",
      "V solution status: 1\n"
     ]
    },
    {
     "data": {
      "text/markdown": [
       "$ V(x)=(0.000000000 - 0.000000000x_{0} - 0.000000000x_{1} + 0.027607012x_{0} x_{1} + 12.058944681x_{0}^{2} + 0.608724382x_{1}^{2})$"
      ],
      "text/plain": [
       "<IPython.core.display.Markdown object>"
      ]
     },
     "metadata": {},
     "output_type": "display_data"
    },
    {
     "name": "stdout",
     "output_type": "stream",
     "text": [
      "Lambda solution status: 1\n",
      "V solution status: 1\n"
     ]
    },
    {
     "data": {
      "text/markdown": [
       "$ V(x)=(0.000000000 + 0.000000000x_{0} + 0.000000000x_{1} + 0.026918866x_{0} x_{1} + 11.773166981x_{0}^{2} + 0.594322609x_{1}^{2})$"
      ],
      "text/plain": [
       "<IPython.core.display.Markdown object>"
      ]
     },
     "metadata": {},
     "output_type": "display_data"
    },
    {
     "name": "stdout",
     "output_type": "stream",
     "text": [
      "Lambda solution status: 1\n",
      "V solution status: 1\n"
     ]
    },
    {
     "data": {
      "text/markdown": [
       "$ V(x)=(0.000000000 + 0.000000000x_{0} + 0.000000000x_{1} + 0.026246928x_{0} x_{1} + 11.493352623x_{0}^{2} + 0.580219039x_{1}^{2})$"
      ],
      "text/plain": [
       "<IPython.core.display.Markdown object>"
      ]
     },
     "metadata": {},
     "output_type": "display_data"
    },
    {
     "name": "stdout",
     "output_type": "stream",
     "text": [
      "Lambda solution status: 1\n",
      "V solution status: 1\n"
     ]
    },
    {
     "data": {
      "text/markdown": [
       "$ V(x)=(0.000000000 + 0.000000000x_{0} - 0.000000000x_{1} + 0.025593606x_{0} x_{1} + 11.219337707x_{0}^{2} + 0.566406816x_{1}^{2})$"
      ],
      "text/plain": [
       "<IPython.core.display.Markdown object>"
      ]
     },
     "metadata": {},
     "output_type": "display_data"
    },
    {
     "name": "stdout",
     "output_type": "stream",
     "text": [
      "Lambda solution status: 1\n",
      "V solution status: 1\n"
     ]
    },
    {
     "data": {
      "text/markdown": [
       "$ V(x)=(0.000000000 - 0.000000000x_{0} + 0.000000000x_{1} + 0.024960469x_{0} x_{1} + 10.950968160x_{0}^{2} + 0.552878978x_{1}^{2})$"
      ],
      "text/plain": [
       "<IPython.core.display.Markdown object>"
      ]
     },
     "metadata": {},
     "output_type": "display_data"
    },
    {
     "name": "stdout",
     "output_type": "stream",
     "text": [
      "Lambda solution status: 1\n",
      "V solution status: 1\n"
     ]
    },
    {
     "data": {
      "text/markdown": [
       "$ V(x)=(0.000000000 - 0.000000000x_{0} + 0.000000000x_{1} + 0.024348432x_{0} x_{1} + 10.688099028x_{0}^{2} + 0.539628684x_{1}^{2})$"
      ],
      "text/plain": [
       "<IPython.core.display.Markdown object>"
      ]
     },
     "metadata": {},
     "output_type": "display_data"
    },
    {
     "name": "stdout",
     "output_type": "stream",
     "text": [
      "Lambda solution status: 1\n",
      "V solution status: 1\n"
     ]
    },
    {
     "data": {
      "text/markdown": [
       "$ V(x)=(0.000000000 + 0.000000000x_{0} - 0.000000000x_{1} + 0.023757648x_{0} x_{1} + 10.430594662x_{0}^{2} + 0.526649260x_{1}^{2})$"
      ],
      "text/plain": [
       "<IPython.core.display.Markdown object>"
      ]
     },
     "metadata": {},
     "output_type": "display_data"
    },
    {
     "name": "stdout",
     "output_type": "stream",
     "text": [
      "Lambda solution status: 1\n",
      "V solution status: 1\n"
     ]
    },
    {
     "data": {
      "text/markdown": [
       "$ V(x)=(0.000000000 + 0.000000000x_{0} + 0.000000000x_{1} + 0.023187837x_{0} x_{1} + 10.178325238x_{0}^{2} + 0.513934156x_{1}^{2})$"
      ],
      "text/plain": [
       "<IPython.core.display.Markdown object>"
      ]
     },
     "metadata": {},
     "output_type": "display_data"
    },
    {
     "name": "stdout",
     "output_type": "stream",
     "text": [
      "Lambda solution status: 1\n",
      "V solution status: 1\n"
     ]
    },
    {
     "data": {
      "text/markdown": [
       "$ V(x)=(0.000000000 - 0.000000000x_{0} - 0.000000000x_{1} + 0.022638275x_{0} x_{1} + 9.931165462x_{0}^{2} + 0.501476970x_{1}^{2})$"
      ],
      "text/plain": [
       "<IPython.core.display.Markdown object>"
      ]
     },
     "metadata": {},
     "output_type": "display_data"
    },
    {
     "name": "stdout",
     "output_type": "stream",
     "text": [
      "Lambda solution status: 1\n",
      "V solution status: 1\n"
     ]
    },
    {
     "data": {
      "text/markdown": [
       "$ V(x)=(0.000000000 - 0.000000000x_{0} + 0.000000000x_{1} + 0.022107885x_{0} x_{1} + 9.688993945x_{0}^{2} + 0.489271417x_{1}^{2})$"
      ],
      "text/plain": [
       "<IPython.core.display.Markdown object>"
      ]
     },
     "metadata": {},
     "output_type": "display_data"
    },
    {
     "name": "stdout",
     "output_type": "stream",
     "text": [
      "Lambda solution status: 1\n",
      "V solution status: 1\n"
     ]
    },
    {
     "data": {
      "text/markdown": [
       "$ V(x)=(0.000000000 + 0.000000000x_{0} - 0.000000000x_{1} + 0.021595431x_{0} x_{1} + 9.451692346x_{0}^{2} + 0.477311367x_{1}^{2})$"
      ],
      "text/plain": [
       "<IPython.core.display.Markdown object>"
      ]
     },
     "metadata": {},
     "output_type": "display_data"
    },
    {
     "name": "stdout",
     "output_type": "stream",
     "text": [
      "Lambda solution status: 1\n",
      "V solution status: 1\n"
     ]
    },
    {
     "data": {
      "text/markdown": [
       "$ V(x)=(0.000000000 + 0.000000000x_{0} - 0.000000000x_{1} + 0.021099692x_{0} x_{1} + 9.219144886x_{0}^{2} + 0.465590855x_{1}^{2})$"
      ],
      "text/plain": [
       "<IPython.core.display.Markdown object>"
      ]
     },
     "metadata": {},
     "output_type": "display_data"
    },
    {
     "name": "stdout",
     "output_type": "stream",
     "text": [
      "Lambda solution status: 1\n",
      "V solution status: 1\n"
     ]
    },
    {
     "data": {
      "text/markdown": [
       "$ V(x)=(0.000000000 + 0.000000000x_{0} + 0.000000000x_{1} + 0.020615720x_{0} x_{1} + 8.991334957x_{0}^{2} + 0.454110153x_{1}^{2})$"
      ],
      "text/plain": [
       "<IPython.core.display.Markdown object>"
      ]
     },
     "metadata": {},
     "output_type": "display_data"
    },
    {
     "name": "stdout",
     "output_type": "stream",
     "text": [
      "Lambda solution status: 1\n",
      "V solution status: 1\n"
     ]
    },
    {
     "data": {
      "text/markdown": [
       "$ V(x)=(0.000000000 - 0.000000000x_{0} + 0.000000000x_{1} + 0.020142052x_{0} x_{1} + 8.768215349x_{0}^{2} + 0.442867016x_{1}^{2})$"
      ],
      "text/plain": [
       "<IPython.core.display.Markdown object>"
      ]
     },
     "metadata": {},
     "output_type": "display_data"
    },
    {
     "name": "stdout",
     "output_type": "stream",
     "text": [
      "Lambda solution status: 1\n",
      "V solution status: 1\n"
     ]
    },
    {
     "data": {
      "text/markdown": [
       "$ V(x)=(0.000000000 + 0.000000000x_{0} - 0.000000000x_{1} + 0.019679326x_{0} x_{1} + 8.549678618x_{0}^{2} + 0.431855288x_{1}^{2})$"
      ],
      "text/plain": [
       "<IPython.core.display.Markdown object>"
      ]
     },
     "metadata": {},
     "output_type": "display_data"
    },
    {
     "name": "stdout",
     "output_type": "stream",
     "text": [
      "Lambda solution status: 1\n",
      "V solution status: 1\n"
     ]
    },
    {
     "data": {
      "text/markdown": [
       "$ V(x)=(0.000000000 - 0.000000000x_{0} + 0.000000000x_{1} + 0.019227384x_{0} x_{1} + 8.335617397x_{0}^{2} + 0.421068978x_{1}^{2})$"
      ],
      "text/plain": [
       "<IPython.core.display.Markdown object>"
      ]
     },
     "metadata": {},
     "output_type": "display_data"
    },
    {
     "name": "stdout",
     "output_type": "stream",
     "text": [
      "Lambda solution status: 1\n",
      "V solution status: 1\n"
     ]
    },
    {
     "data": {
      "text/markdown": [
       "$ V(x)=(0.000000000 - 0.000000000x_{0} + 0.000000000x_{1} + 0.018785814x_{0} x_{1} + 8.125925767x_{0}^{2} + 0.410502354x_{1}^{2})$"
      ],
      "text/plain": [
       "<IPython.core.display.Markdown object>"
      ]
     },
     "metadata": {},
     "output_type": "display_data"
    },
    {
     "name": "stdout",
     "output_type": "stream",
     "text": [
      "Lambda solution status: 1\n",
      "V solution status: 1\n"
     ]
    },
    {
     "data": {
      "text/markdown": [
       "$ V(x)=(0.000000000 + 0.000000000x_{0} - 0.000000000x_{1} + 0.018354398x_{0} x_{1} + 7.920499970x_{0}^{2} + 0.400149999x_{1}^{2})$"
      ],
      "text/plain": [
       "<IPython.core.display.Markdown object>"
      ]
     },
     "metadata": {},
     "output_type": "display_data"
    },
    {
     "name": "stdout",
     "output_type": "stream",
     "text": [
      "Lambda solution status: 1\n",
      "V solution status: 1\n"
     ]
    },
    {
     "data": {
      "text/markdown": [
       "$ V(x)=(0.000000000 + 0.000000000x_{0} - 0.000000000x_{1} + 0.017933129x_{0} x_{1} + 7.719238837x_{0}^{2} + 0.390006766x_{1}^{2})$"
      ],
      "text/plain": [
       "<IPython.core.display.Markdown object>"
      ]
     },
     "metadata": {},
     "output_type": "display_data"
    },
    {
     "name": "stdout",
     "output_type": "stream",
     "text": [
      "Lambda solution status: 1\n",
      "V solution status: 1\n"
     ]
    },
    {
     "data": {
      "text/markdown": [
       "$ V(x)=(0.000000000 - 0.000000000x_{0} + 0.000000000x_{1} + 0.017522304x_{0} x_{1} + 7.522043545x_{0}^{2} + 0.380067751x_{1}^{2})$"
      ],
      "text/plain": [
       "<IPython.core.display.Markdown object>"
      ]
     },
     "metadata": {},
     "output_type": "display_data"
    },
    {
     "name": "stdout",
     "output_type": "stream",
     "text": [
      "Lambda solution status: 1\n",
      "V solution status: 1\n"
     ]
    },
    {
     "data": {
      "text/markdown": [
       "$ V(x)=(0.000000000 - 0.000000000x_{0} - 0.000000000x_{1} + 0.017119926x_{0} x_{1} + 7.328813612x_{0}^{2} + 0.370329734x_{1}^{2})$"
      ],
      "text/plain": [
       "<IPython.core.display.Markdown object>"
      ]
     },
     "metadata": {},
     "output_type": "display_data"
    },
    {
     "name": "stdout",
     "output_type": "stream",
     "text": [
      "Lambda solution status: 1\n",
      "V solution status: 1\n"
     ]
    },
    {
     "data": {
      "text/markdown": [
       "$ V(x)=(0.000000000 + 0.000000000x_{0} + 0.000000000x_{1} + 0.016732277x_{0} x_{1} + 7.139462429x_{0}^{2} + 0.360784786x_{1}^{2})$"
      ],
      "text/plain": [
       "<IPython.core.display.Markdown object>"
      ]
     },
     "metadata": {},
     "output_type": "display_data"
    },
    {
     "name": "stdout",
     "output_type": "stream",
     "text": [
      "Lambda solution status: 1\n",
      "V solution status: 1\n"
     ]
    },
    {
     "data": {
      "text/markdown": [
       "$ V(x)=(0.000000000 + 0.000000000x_{0} - 0.000000000x_{1} + 0.016355948x_{0} x_{1} + 6.953888888x_{0}^{2} + 0.351429912x_{1}^{2})$"
      ],
      "text/plain": [
       "<IPython.core.display.Markdown object>"
      ]
     },
     "metadata": {},
     "output_type": "display_data"
    },
    {
     "name": "stdout",
     "output_type": "stream",
     "text": [
      "Lambda solution status: 1\n",
      "V solution status: 1\n"
     ]
    },
    {
     "data": {
      "text/markdown": [
       "$ V(x)=(0.000000000 + 0.000000000x_{0} - 0.000000000x_{1} + 0.015991160x_{0} x_{1} + 6.771998287x_{0}^{2} + 0.342260427x_{1}^{2})$"
      ],
      "text/plain": [
       "<IPython.core.display.Markdown object>"
      ]
     },
     "metadata": {},
     "output_type": "display_data"
    },
    {
     "name": "stdout",
     "output_type": "stream",
     "text": [
      "Lambda solution status: 1\n",
      "V solution status: 1\n"
     ]
    },
    {
     "data": {
      "text/markdown": [
       "$ V(x)=(0.000000000 - 0.000000000x_{0} + 0.000000000x_{1} + 0.015637658x_{0} x_{1} + 6.593694899x_{0}^{2} + 0.333271507x_{1}^{2})$"
      ],
      "text/plain": [
       "<IPython.core.display.Markdown object>"
      ]
     },
     "metadata": {},
     "output_type": "display_data"
    },
    {
     "name": "stdout",
     "output_type": "stream",
     "text": [
      "Lambda solution status: 1\n",
      "V solution status: 1\n"
     ]
    },
    {
     "data": {
      "text/markdown": [
       "$ V(x)=(0.000000000 - 0.000000000x_{0} + 0.000000000x_{1} + 0.015294729x_{0} x_{1} + 6.418882231x_{0}^{2} + 0.324458209x_{1}^{2})$"
      ],
      "text/plain": [
       "<IPython.core.display.Markdown object>"
      ]
     },
     "metadata": {},
     "output_type": "display_data"
    },
    {
     "name": "stdout",
     "output_type": "stream",
     "text": [
      "Lambda solution status: 1\n",
      "V solution status: 1\n"
     ]
    },
    {
     "data": {
      "text/markdown": [
       "$ V(x)=(0.000000000 + 0.000000000x_{0} + 0.000000000x_{1} + 0.014961207x_{0} x_{1} + 6.247462956x_{0}^{2} + 0.315815489x_{1}^{2})$"
      ],
      "text/plain": [
       "<IPython.core.display.Markdown object>"
      ]
     },
     "metadata": {},
     "output_type": "display_data"
    },
    {
     "name": "stdout",
     "output_type": "stream",
     "text": [
      "Lambda solution status: 1\n",
      "V solution status: 1\n"
     ]
    },
    {
     "data": {
      "text/markdown": [
       "$ V(x)=(0.000000000 + 0.000000000x_{0} + 0.000000000x_{1} + 0.014635600x_{0} x_{1} + 6.079339173x_{0}^{2} + 0.307338252x_{1}^{2})$"
      ],
      "text/plain": [
       "<IPython.core.display.Markdown object>"
      ]
     },
     "metadata": {},
     "output_type": "display_data"
    },
    {
     "name": "stdout",
     "output_type": "stream",
     "text": [
      "Lambda solution status: 1\n",
      "V solution status: 1\n"
     ]
    },
    {
     "data": {
      "text/markdown": [
       "$ V(x)=(0.000000000 + 0.000000000x_{0} + 0.000000000x_{1} + 0.014316121x_{0} x_{1} + 5.914412950x_{0}^{2} + 0.299021365x_{1}^{2})$"
      ],
      "text/plain": [
       "<IPython.core.display.Markdown object>"
      ]
     },
     "metadata": {},
     "output_type": "display_data"
    },
    {
     "name": "stdout",
     "output_type": "stream",
     "text": [
      "Lambda solution status: 1\n",
      "V solution status: 1\n"
     ]
    },
    {
     "data": {
      "text/markdown": [
       "$ V(x)=(0.000000000 + 0.000000000x_{0} - 0.000000000x_{1} + 0.014000898x_{0} x_{1} + 5.752586699x_{0}^{2} + 0.290859733x_{1}^{2})$"
      ],
      "text/plain": [
       "<IPython.core.display.Markdown object>"
      ]
     },
     "metadata": {},
     "output_type": "display_data"
    },
    {
     "name": "stdout",
     "output_type": "stream",
     "text": [
      "Lambda solution status: 1\n",
      "V solution status: 1\n"
     ]
    },
    {
     "data": {
      "text/markdown": [
       "$ V(x)=(0.000000000 + 0.000000000x_{0} + 0.000000000x_{1} + 0.013684698x_{0} x_{1} + 5.593698448x_{0}^{2} + 0.282845202x_{1}^{2})$"
      ],
      "text/plain": [
       "<IPython.core.display.Markdown object>"
      ]
     },
     "metadata": {},
     "output_type": "display_data"
    },
    {
     "name": "stdout",
     "output_type": "stream",
     "text": [
      "Lambda solution status: 1\n",
      "V solution status: 1\n"
     ]
    },
    {
     "data": {
      "text/markdown": [
       "$ V(x)=(0.000000000 - 0.000000000x_{0} + 0.000000000x_{1} + 0.013365103x_{0} x_{1} + 5.437612517x_{0}^{2} + 0.274970856x_{1}^{2})$"
      ],
      "text/plain": [
       "<IPython.core.display.Markdown object>"
      ]
     },
     "metadata": {},
     "output_type": "display_data"
    },
    {
     "name": "stdout",
     "output_type": "stream",
     "text": [
      "Lambda solution status: 1\n",
      "V solution status: 1\n"
     ]
    },
    {
     "data": {
      "text/markdown": [
       "$ V(x)=(0.000000000 + 0.000000000x_{0} - 0.000000000x_{1} + 0.013038796x_{0} x_{1} + 5.284210864x_{0}^{2} + 0.267230267x_{1}^{2})$"
      ],
      "text/plain": [
       "<IPython.core.display.Markdown object>"
      ]
     },
     "metadata": {},
     "output_type": "display_data"
    },
    {
     "name": "stdout",
     "output_type": "stream",
     "text": [
      "Lambda solution status: 1\n",
      "V solution status: 1\n"
     ]
    },
    {
     "data": {
      "text/markdown": [
       "$ V(x)=(0.000000000 + 0.000000000x_{0} + 0.000000000x_{1} + 0.012702156x_{0} x_{1} + 5.133356143x_{0}^{2} + 0.259616074x_{1}^{2})$"
      ],
      "text/plain": [
       "<IPython.core.display.Markdown object>"
      ]
     },
     "metadata": {},
     "output_type": "display_data"
    },
    {
     "name": "stdout",
     "output_type": "stream",
     "text": [
      "Lambda solution status: 1\n",
      "V solution status: 1\n"
     ]
    },
    {
     "data": {
      "text/markdown": [
       "$ V(x)=(0.000000000 - 0.000000000x_{0} + 0.000000000x_{1} + 0.012350403x_{0} x_{1} + 4.984883001x_{0}^{2} + 0.252119420x_{1}^{2})$"
      ],
      "text/plain": [
       "<IPython.core.display.Markdown object>"
      ]
     },
     "metadata": {},
     "output_type": "display_data"
    },
    {
     "name": "stdout",
     "output_type": "stream",
     "text": [
      "Lambda solution status: 1\n",
      "V solution status: 1\n"
     ]
    },
    {
     "data": {
      "text/markdown": [
       "$ V(x)=(0.000000000 + 0.000000000x_{0} + 0.000000000x_{1} + 0.012099064x_{0} x_{1} + 4.840036081x_{0}^{2} + 0.244816697x_{1}^{2})$"
      ],
      "text/plain": [
       "<IPython.core.display.Markdown object>"
      ]
     },
     "metadata": {},
     "output_type": "display_data"
    },
    {
     "name": "stdout",
     "output_type": "stream",
     "text": [
      "Lambda solution status: 1\n",
      "V solution status: 1\n"
     ]
    },
    {
     "data": {
      "text/markdown": [
       "$ V(x)=(0.000000000 + 0.000000000x_{0} + 0.000000000x_{1} + 0.011966450x_{0} x_{1} + 4.699372127x_{0}^{2} + 0.237733835x_{1}^{2})$"
      ],
      "text/plain": [
       "<IPython.core.display.Markdown object>"
      ]
     },
     "metadata": {},
     "output_type": "display_data"
    },
    {
     "name": "stdout",
     "output_type": "stream",
     "text": [
      "Lambda solution status: 1\n",
      "V solution status: 1\n"
     ]
    },
    {
     "data": {
      "text/markdown": [
       "$ V(x)=(0.000000000 + 0.000000000x_{0} - 0.000000000x_{1} + 0.012148593x_{0} x_{1} + 4.563590657x_{0}^{2} + 0.230936736x_{1}^{2})$"
      ],
      "text/plain": [
       "<IPython.core.display.Markdown object>"
      ]
     },
     "metadata": {},
     "output_type": "display_data"
    },
    {
     "name": "stdout",
     "output_type": "stream",
     "text": [
      "Lambda solution status: 1\n",
      "V solution status: 1\n"
     ]
    },
    {
     "data": {
      "text/markdown": [
       "$ V(x)=(0.000000000 + 0.000000000x_{0} - 0.000000000x_{1} + 0.012135064x_{0} x_{1} + 4.429993373x_{0}^{2} + 0.224202374x_{1}^{2})$"
      ],
      "text/plain": [
       "<IPython.core.display.Markdown object>"
      ]
     },
     "metadata": {},
     "output_type": "display_data"
    },
    {
     "name": "stdout",
     "output_type": "stream",
     "text": [
      "Lambda solution status: 1\n",
      "V solution status: 1\n"
     ]
    },
    {
     "data": {
      "text/markdown": [
       "$ V(x)=(0.000000000 + 0.000000000x_{0} + 0.000000000x_{1} + 0.012023099x_{0} x_{1} + 4.298939328x_{0}^{2} + 0.217575319x_{1}^{2})$"
      ],
      "text/plain": [
       "<IPython.core.display.Markdown object>"
      ]
     },
     "metadata": {},
     "output_type": "display_data"
    },
    {
     "name": "stdout",
     "output_type": "stream",
     "text": [
      "Lambda solution status: 1\n",
      "V solution status: 1\n"
     ]
    },
    {
     "data": {
      "text/markdown": [
       "$ V(x)=(0.000000000 + 0.000000000x_{0} - 0.000000000x_{1} + 0.011843261x_{0} x_{1} + 4.170417850x_{0}^{2} + 0.211065052x_{1}^{2})$"
      ],
      "text/plain": [
       "<IPython.core.display.Markdown object>"
      ]
     },
     "metadata": {},
     "output_type": "display_data"
    },
    {
     "name": "stdout",
     "output_type": "stream",
     "text": [
      "Lambda solution status: 1\n",
      "V solution status: 1\n"
     ]
    },
    {
     "data": {
      "text/markdown": [
       "$ V(x)=(0.000000000 + 0.000000000x_{0} - 0.000000000x_{1} + 0.011606664x_{0} x_{1} + 4.044474226x_{0}^{2} + 0.204678223x_{1}^{2})$"
      ],
      "text/plain": [
       "<IPython.core.display.Markdown object>"
      ]
     },
     "metadata": {},
     "output_type": "display_data"
    },
    {
     "name": "stdout",
     "output_type": "stream",
     "text": [
      "Lambda solution status: 1\n",
      "V solution status: 1\n"
     ]
    },
    {
     "data": {
      "text/markdown": [
       "$ V(x)=(0.000000000 - 0.000000000x_{0} + 0.000000000x_{1} + 0.011267402x_{0} x_{1} + 3.921339974x_{0}^{2} + 0.198420361x_{1}^{2})$"
      ],
      "text/plain": [
       "<IPython.core.display.Markdown object>"
      ]
     },
     "metadata": {},
     "output_type": "display_data"
    },
    {
     "name": "stdout",
     "output_type": "stream",
     "text": [
      "Lambda solution status: 1\n",
      "V solution status: 1\n"
     ]
    },
    {
     "data": {
      "text/markdown": [
       "$ V(x)=(0.000000000 - 0.000000000x_{0} + 0.000000000x_{1} + 0.010855508x_{0} x_{1} + 3.800043777x_{0}^{2} + 0.192250644x_{1}^{2})$"
      ],
      "text/plain": [
       "<IPython.core.display.Markdown object>"
      ]
     },
     "metadata": {},
     "output_type": "display_data"
    },
    {
     "name": "stdout",
     "output_type": "stream",
     "text": [
      "Lambda solution status: 1\n",
      "V solution status: 1\n"
     ]
    },
    {
     "data": {
      "text/markdown": [
       "$ V(x)=(0.000000000 - 0.000000000x_{0} + 0.000000000x_{1} + 0.010549966x_{0} x_{1} + 3.681560564x_{0}^{2} + 0.186249505x_{1}^{2})$"
      ],
      "text/plain": [
       "<IPython.core.display.Markdown object>"
      ]
     },
     "metadata": {},
     "output_type": "display_data"
    },
    {
     "name": "stdout",
     "output_type": "stream",
     "text": [
      "Lambda solution status: 1\n",
      "V solution status: 1\n"
     ]
    },
    {
     "data": {
      "text/markdown": [
       "$ V(x)=(0.000000000 - 0.000000000x_{0} - 0.000000000x_{1} + 0.010333458x_{0} x_{1} + 3.565831329x_{0}^{2} + 0.180404157x_{1}^{2})$"
      ],
      "text/plain": [
       "<IPython.core.display.Markdown object>"
      ]
     },
     "metadata": {},
     "output_type": "display_data"
    },
    {
     "name": "stdout",
     "output_type": "stream",
     "text": [
      "Lambda solution status: 1\n",
      "V solution status: 1\n"
     ]
    },
    {
     "data": {
      "text/markdown": [
       "$ V(x)=(0.000000000 - 0.000000000x_{0} - 0.000000000x_{1} + 0.010178386x_{0} x_{1} + 3.452797806x_{0}^{2} + 0.174702766x_{1}^{2})$"
      ],
      "text/plain": [
       "<IPython.core.display.Markdown object>"
      ]
     },
     "metadata": {},
     "output_type": "display_data"
    },
    {
     "name": "stdout",
     "output_type": "stream",
     "text": [
      "Lambda solution status: 1\n",
      "V solution status: 1\n"
     ]
    },
    {
     "data": {
      "text/markdown": [
       "$ V(x)=(0.000000000 + 0.000000000x_{0} - 0.000000000x_{1} + 0.010054140x_{0} x_{1} + 3.342358717x_{0}^{2} + 0.169133271x_{1}^{2})$"
      ],
      "text/plain": [
       "<IPython.core.display.Markdown object>"
      ]
     },
     "metadata": {},
     "output_type": "display_data"
    },
    {
     "name": "stdout",
     "output_type": "stream",
     "text": [
      "Lambda solution status: 1\n",
      "V solution status: 1\n"
     ]
    },
    {
     "data": {
      "text/markdown": [
       "$ V(x)=(0.000000000 + 0.000000000x_{0} - 0.000000000x_{1} + 0.009941641x_{0} x_{1} + 3.234473440x_{0}^{2} + 0.163690371x_{1}^{2})$"
      ],
      "text/plain": [
       "<IPython.core.display.Markdown object>"
      ]
     },
     "metadata": {},
     "output_type": "display_data"
    },
    {
     "name": "stdout",
     "output_type": "stream",
     "text": [
      "Lambda solution status: 1\n",
      "V solution status: 1\n"
     ]
    },
    {
     "data": {
      "text/markdown": [
       "$ V(x)=(0.000000000 - 0.000000000x_{0} - 0.000000000x_{1} + 0.009975593x_{0} x_{1} + 3.130050801x_{0}^{2} + 0.158441892x_{1}^{2})$"
      ],
      "text/plain": [
       "<IPython.core.display.Markdown object>"
      ]
     },
     "metadata": {},
     "output_type": "display_data"
    },
    {
     "name": "stdout",
     "output_type": "stream",
     "text": [
      "Lambda solution status: 1\n",
      "V solution status: 1\n"
     ]
    },
    {
     "data": {
      "text/markdown": [
       "$ V(x)=(0.000000000 - 0.000000000x_{0} - 0.000000000x_{1} + 0.009946074x_{0} x_{1} + 3.028227903x_{0}^{2} + 0.153306381x_{1}^{2})$"
      ],
      "text/plain": [
       "<IPython.core.display.Markdown object>"
      ]
     },
     "metadata": {},
     "output_type": "display_data"
    },
    {
     "name": "stdout",
     "output_type": "stream",
     "text": [
      "Lambda solution status: 1\n",
      "V solution status: 1\n"
     ]
    },
    {
     "data": {
      "text/markdown": [
       "$ V(x)=(0.000000000 + 0.000000000x_{0} + 0.000000000x_{1} + 0.009820316x_{0} x_{1} + 2.929118349x_{0}^{2} + 0.148292068x_{1}^{2})$"
      ],
      "text/plain": [
       "<IPython.core.display.Markdown object>"
      ]
     },
     "metadata": {},
     "output_type": "display_data"
    },
    {
     "name": "stdout",
     "output_type": "stream",
     "text": [
      "Lambda solution status: 1\n",
      "V solution status: 1\n"
     ]
    },
    {
     "data": {
      "text/markdown": [
       "$ V(x)=(0.000000000 - 0.000000000x_{0} + 0.000000000x_{1} + 0.009629065x_{0} x_{1} + 2.832754005x_{0}^{2} + 0.143409642x_{1}^{2})$"
      ],
      "text/plain": [
       "<IPython.core.display.Markdown object>"
      ]
     },
     "metadata": {},
     "output_type": "display_data"
    },
    {
     "name": "stdout",
     "output_type": "stream",
     "text": [
      "Lambda solution status: 1\n",
      "V solution status: 1\n"
     ]
    },
    {
     "data": {
      "text/markdown": [
       "$ V(x)=(0.000000000 - 0.000000000x_{0} + 0.000000000x_{1} + 0.009394353x_{0} x_{1} + 2.739136562x_{0}^{2} + 0.138664237x_{1}^{2})$"
      ],
      "text/plain": [
       "<IPython.core.display.Markdown object>"
      ]
     },
     "metadata": {},
     "output_type": "display_data"
    },
    {
     "name": "stdout",
     "output_type": "stream",
     "text": [
      "Lambda solution status: 1\n",
      "V solution status: 1\n"
     ]
    },
    {
     "data": {
      "text/markdown": [
       "$ V(x)=(0.000000000 + 0.000000000x_{0} + 0.000000000x_{1} + 0.009131659x_{0} x_{1} + 2.648247172x_{0}^{2} + 0.134057468x_{1}^{2})$"
      ],
      "text/plain": [
       "<IPython.core.display.Markdown object>"
      ]
     },
     "metadata": {},
     "output_type": "display_data"
    },
    {
     "name": "stdout",
     "output_type": "stream",
     "text": [
      "Lambda solution status: 1\n",
      "V solution status: 1\n"
     ]
    },
    {
     "data": {
      "text/markdown": [
       "$ V(x)=(0.000000000 - 0.000000000x_{0} + 0.000000000x_{1} + 0.008851749x_{0} x_{1} + 2.560053399x_{0}^{2} + 0.129588811x_{1}^{2})$"
      ],
      "text/plain": [
       "<IPython.core.display.Markdown object>"
      ]
     },
     "metadata": {},
     "output_type": "display_data"
    },
    {
     "name": "stdout",
     "output_type": "stream",
     "text": [
      "Lambda solution status: 1\n",
      "V solution status: 1\n"
     ]
    },
    {
     "data": {
      "text/markdown": [
       "$ V(x)=(0.000000000 + 0.000000000x_{0} - 0.000000000x_{1} + 0.008561533x_{0} x_{1} + 2.474509410x_{0}^{2} + 0.125256176x_{1}^{2})$"
      ],
      "text/plain": [
       "<IPython.core.display.Markdown object>"
      ]
     },
     "metadata": {},
     "output_type": "display_data"
    },
    {
     "name": "stdout",
     "output_type": "stream",
     "text": [
      "Lambda solution status: 1\n",
      "V solution status: 1\n"
     ]
    },
    {
     "data": {
      "text/markdown": [
       "$ V(x)=(0.000000000 + 0.000000000x_{0} + 0.000000000x_{1} + 0.008266223x_{0} x_{1} + 2.391566981x_{0}^{2} + 0.121057055x_{1}^{2})$"
      ],
      "text/plain": [
       "<IPython.core.display.Markdown object>"
      ]
     },
     "metadata": {},
     "output_type": "display_data"
    },
    {
     "name": "stdout",
     "output_type": "stream",
     "text": [
      "Lambda solution status: 1\n",
      "V solution status: 1\n"
     ]
    },
    {
     "data": {
      "text/markdown": [
       "$ V(x)=(0.000000000 + 0.000000000x_{0} - 0.000000000x_{1} + 0.007969662x_{0} x_{1} + 2.311174193x_{0}^{2} + 0.116988590x_{1}^{2})$"
      ],
      "text/plain": [
       "<IPython.core.display.Markdown object>"
      ]
     },
     "metadata": {},
     "output_type": "display_data"
    },
    {
     "name": "stdout",
     "output_type": "stream",
     "text": [
      "Lambda solution status: 1\n",
      "V solution status: 1\n"
     ]
    },
    {
     "data": {
      "text/markdown": [
       "$ V(x)=(0.000000000 + 0.000000000x_{0} - 0.000000000x_{1} + 0.007674672x_{0} x_{1} + 2.233273581x_{0}^{2} + 0.113047572x_{1}^{2})$"
      ],
      "text/plain": [
       "<IPython.core.display.Markdown object>"
      ]
     },
     "metadata": {},
     "output_type": "display_data"
    },
    {
     "name": "stdout",
     "output_type": "stream",
     "text": [
      "Lambda solution status: 1\n",
      "V solution status: 1\n"
     ]
    },
    {
     "data": {
      "text/markdown": [
       "$ V(x)=(0.000000000 - 0.000000000x_{0} - 0.000000000x_{1} + 0.007383530x_{0} x_{1} + 2.157800040x_{0}^{2} + 0.109230421x_{1}^{2})$"
      ],
      "text/plain": [
       "<IPython.core.display.Markdown object>"
      ]
     },
     "metadata": {},
     "output_type": "display_data"
    },
    {
     "name": "stdout",
     "output_type": "stream",
     "text": [
      "Lambda solution status: 1\n",
      "V solution status: 1\n"
     ]
    },
    {
     "data": {
      "text/markdown": [
       "$ V(x)=(0.000000000 + 0.000000000x_{0} + 0.000000000x_{1} + 0.007099169x_{0} x_{1} + 2.084679304x_{0}^{2} + 0.105533243x_{1}^{2})$"
      ],
      "text/plain": [
       "<IPython.core.display.Markdown object>"
      ]
     },
     "metadata": {},
     "output_type": "display_data"
    },
    {
     "name": "stdout",
     "output_type": "stream",
     "text": [
      "Lambda solution status: 1\n",
      "V solution status: 1\n"
     ]
    },
    {
     "data": {
      "text/markdown": [
       "$ V(x)=(0.000000000 + 0.000000000x_{0} - 0.000000000x_{1} + 0.006825812x_{0} x_{1} + 2.013814416x_{0}^{2} + 0.101951170x_{1}^{2})$"
      ],
      "text/plain": [
       "<IPython.core.display.Markdown object>"
      ]
     },
     "metadata": {},
     "output_type": "display_data"
    },
    {
     "name": "stdout",
     "output_type": "stream",
     "text": [
      "Lambda solution status: 1\n",
      "V solution status: 1\n"
     ]
    },
    {
     "data": {
      "text/markdown": [
       "$ V(x)=(0.000000000 + 0.000000000x_{0} - 0.000000000x_{1} + 0.006569723x_{0} x_{1} + 1.945047147x_{0}^{2} + 0.098476348x_{1}^{2})$"
      ],
      "text/plain": [
       "<IPython.core.display.Markdown object>"
      ]
     },
     "metadata": {},
     "output_type": "display_data"
    },
    {
     "name": "stdout",
     "output_type": "stream",
     "text": [
      "Lambda solution status: 1\n",
      "V solution status: 1\n"
     ]
    },
    {
     "data": {
      "text/markdown": [
       "$ V(x)=(0.000000000 - 0.000000000x_{0} - 0.000000000x_{1} + 0.006344132x_{0} x_{1} + 1.878120915x_{0}^{2} + 0.095096557x_{1}^{2})$"
      ],
      "text/plain": [
       "<IPython.core.display.Markdown object>"
      ]
     },
     "metadata": {},
     "output_type": "display_data"
    },
    {
     "name": "stdout",
     "output_type": "stream",
     "text": [
      "Lambda solution status: 1\n",
      "V solution status: 1\n"
     ]
    },
    {
     "data": {
      "text/markdown": [
       "$ V(x)=(0.000000000 + 0.000000000x_{0} - 0.000000000x_{1} + 0.006064789x_{0} x_{1} + 1.814274805x_{0}^{2} + 0.091865260x_{1}^{2})$"
      ],
      "text/plain": [
       "<IPython.core.display.Markdown object>"
      ]
     },
     "metadata": {},
     "output_type": "display_data"
    },
    {
     "name": "stdout",
     "output_type": "stream",
     "text": [
      "Lambda solution status: 1\n",
      "V solution status: 1\n"
     ]
    },
    {
     "data": {
      "text/markdown": [
       "$ V(x)=(0.000000000 - 0.000000000x_{0} - 0.000000000x_{1} + 0.005743952x_{0} x_{1} + 1.753649731x_{0}^{2} + 0.088793259x_{1}^{2})$"
      ],
      "text/plain": [
       "<IPython.core.display.Markdown object>"
      ]
     },
     "metadata": {},
     "output_type": "display_data"
    },
    {
     "name": "stdout",
     "output_type": "stream",
     "text": [
      "Lambda solution status: 1\n",
      "V solution status: 1\n"
     ]
    },
    {
     "data": {
      "text/markdown": [
       "$ V(x)=(0.000000000 - 0.000000000x_{0} - 0.000000000x_{1} + 0.005384609x_{0} x_{1} + 1.696230216x_{0}^{2} + 0.085881386x_{1}^{2})$"
      ],
      "text/plain": [
       "<IPython.core.display.Markdown object>"
      ]
     },
     "metadata": {},
     "output_type": "display_data"
    },
    {
     "name": "stdout",
     "output_type": "stream",
     "text": [
      "Lambda solution status: 1\n",
      "V solution status: 1\n"
     ]
    },
    {
     "data": {
      "text/markdown": [
       "$ V(x)=(0.000000000 + 0.000000000x_{0} + 0.000000000x_{1} + 0.004979457x_{0} x_{1} + 1.641091998x_{0}^{2} + 0.083082949x_{1}^{2})$"
      ],
      "text/plain": [
       "<IPython.core.display.Markdown object>"
      ]
     },
     "metadata": {},
     "output_type": "display_data"
    },
    {
     "name": "stdout",
     "output_type": "stream",
     "text": [
      "Lambda solution status: 1\n",
      "V solution status: 1\n"
     ]
    },
    {
     "data": {
      "text/markdown": [
       "$ V(x)=(0.000000000 + 0.000000000x_{0} + 0.000000000x_{1} + 0.004556271x_{0} x_{1} + 1.588169506x_{0}^{2} + 0.080397152x_{1}^{2})$"
      ],
      "text/plain": [
       "<IPython.core.display.Markdown object>"
      ]
     },
     "metadata": {},
     "output_type": "display_data"
    },
    {
     "name": "stdout",
     "output_type": "stream",
     "text": [
      "Lambda solution status: 1\n",
      "V solution status: 1\n"
     ]
    },
    {
     "data": {
      "text/markdown": [
       "$ V(x)=(0.000000000 + 0.000000000x_{0} + 0.000000000x_{1} + 0.004132255x_{0} x_{1} + 1.537311240x_{0}^{2} + 0.077817496x_{1}^{2})$"
      ],
      "text/plain": [
       "<IPython.core.display.Markdown object>"
      ]
     },
     "metadata": {},
     "output_type": "display_data"
    },
    {
     "name": "stdout",
     "output_type": "stream",
     "text": [
      "Lambda solution status: 1\n",
      "V solution status: 1\n"
     ]
    },
    {
     "data": {
      "text/markdown": [
       "$ V(x)=(0.000000000 - 0.000000000x_{0} + 0.000000000x_{1} + 0.003719706x_{0} x_{1} + 1.488457355x_{0}^{2} + 0.075341535x_{1}^{2})$"
      ],
      "text/plain": [
       "<IPython.core.display.Markdown object>"
      ]
     },
     "metadata": {},
     "output_type": "display_data"
    },
    {
     "name": "stdout",
     "output_type": "stream",
     "text": [
      "Lambda solution status: 1\n",
      "V solution status: 1\n"
     ]
    },
    {
     "data": {
      "text/markdown": [
       "$ V(x)=(0.000000000 + 0.000000000x_{0} + 0.000000000x_{1} + 0.003360300x_{0} x_{1} + 1.441666565x_{0}^{2} + 0.072976167x_{1}^{2})$"
      ],
      "text/plain": [
       "<IPython.core.display.Markdown object>"
      ]
     },
     "metadata": {},
     "output_type": "display_data"
    },
    {
     "name": "stdout",
     "output_type": "stream",
     "text": [
      "Lambda solution status: 1\n",
      "V solution status: 1\n"
     ]
    },
    {
     "data": {
      "text/markdown": [
       "$ V(x)=(0.000000000 - 0.000000000x_{0} + 0.000000000x_{1} + 0.002999656x_{0} x_{1} + 1.395795933x_{0}^{2} + 0.070655367x_{1}^{2})$"
      ],
      "text/plain": [
       "<IPython.core.display.Markdown object>"
      ]
     },
     "metadata": {},
     "output_type": "display_data"
    },
    {
     "name": "stdout",
     "output_type": "stream",
     "text": [
      "Lambda solution status: 1\n",
      "V solution status: 1\n"
     ]
    },
    {
     "data": {
      "text/markdown": [
       "$ V(x)=(0.000000000 - 0.000000000x_{0} + 0.000000000x_{1} + 0.002901085x_{0} x_{1} + 1.352952609x_{0}^{2} + 0.068517083x_{1}^{2})$"
      ],
      "text/plain": [
       "<IPython.core.display.Markdown object>"
      ]
     },
     "metadata": {},
     "output_type": "display_data"
    },
    {
     "name": "stdout",
     "output_type": "stream",
     "text": [
      "Lambda solution status: 1\n",
      "V solution status: 1\n"
     ]
    },
    {
     "data": {
      "text/markdown": [
       "$ V(x)=(0.000000000 + 0.000000000x_{0} - 0.000000000x_{1} + 0.002775932x_{0} x_{1} + 1.311584104x_{0}^{2} + 0.066444398x_{1}^{2})$"
      ],
      "text/plain": [
       "<IPython.core.display.Markdown object>"
      ]
     },
     "metadata": {},
     "output_type": "display_data"
    },
    {
     "name": "stdout",
     "output_type": "stream",
     "text": [
      "Lambda solution status: 1\n",
      "V solution status: 1\n"
     ]
    },
    {
     "data": {
      "text/markdown": [
       "$ V(x)=(0.000000000 + 0.000000000x_{0} + 0.000000000x_{1} + 0.002635739x_{0} x_{1} + 1.271645992x_{0}^{2} + 0.064437901x_{1}^{2})$"
      ],
      "text/plain": [
       "<IPython.core.display.Markdown object>"
      ]
     },
     "metadata": {},
     "output_type": "display_data"
    },
    {
     "name": "stdout",
     "output_type": "stream",
     "text": [
      "Lambda solution status: 1\n",
      "V solution status: 1\n"
     ]
    },
    {
     "data": {
      "text/markdown": [
       "$ V(x)=(0.000000000 - 0.000000000x_{0} + 0.000000000x_{1} + 0.002480937x_{0} x_{1} + 1.233056137x_{0}^{2} + 0.062494417x_{1}^{2})$"
      ],
      "text/plain": [
       "<IPython.core.display.Markdown object>"
      ]
     },
     "metadata": {},
     "output_type": "display_data"
    },
    {
     "name": "stdout",
     "output_type": "stream",
     "text": [
      "Lambda solution status: 1\n",
      "V solution status: 1\n"
     ]
    },
    {
     "data": {
      "text/markdown": [
       "$ V(x)=(0.000000000 - 0.000000000x_{0} + 0.000000000x_{1} + 0.002193082x_{0} x_{1} + 1.194776911x_{0}^{2} + 0.060546790x_{1}^{2})$"
      ],
      "text/plain": [
       "<IPython.core.display.Markdown object>"
      ]
     },
     "metadata": {},
     "output_type": "display_data"
    },
    {
     "name": "stdout",
     "output_type": "stream",
     "text": [
      "Lambda solution status: 1\n",
      "V solution status: 1\n"
     ]
    },
    {
     "data": {
      "text/markdown": [
       "$ V(x)=(0.000000000 + 0.000000000x_{0} + 0.000000000x_{1} + 0.002117354x_{0} x_{1} + 1.160387386x_{0}^{2} + 0.058822681x_{1}^{2})$"
      ],
      "text/plain": [
       "<IPython.core.display.Markdown object>"
      ]
     },
     "metadata": {},
     "output_type": "display_data"
    },
    {
     "name": "stdout",
     "output_type": "stream",
     "text": [
      "Lambda solution status: 1\n",
      "V solution status: 1\n"
     ]
    },
    {
     "data": {
      "text/markdown": [
       "$ V(x)=(0.000000000 + 0.000000000x_{0} - 0.000000000x_{1} + 0.001857103x_{0} x_{1} + 1.126133563x_{0}^{2} + 0.057082428x_{1}^{2})$"
      ],
      "text/plain": [
       "<IPython.core.display.Markdown object>"
      ]
     },
     "metadata": {},
     "output_type": "display_data"
    },
    {
     "name": "stdout",
     "output_type": "stream",
     "text": [
      "Lambda solution status: 1\n",
      "V solution status: 1\n"
     ]
    },
    {
     "data": {
      "text/markdown": [
       "$ V(x)=(0.000000000 - 0.000000000x_{0} + 0.000000000x_{1} + 0.001862439x_{0} x_{1} + 1.094730649x_{0}^{2} + 0.055513236x_{1}^{2})$"
      ],
      "text/plain": [
       "<IPython.core.display.Markdown object>"
      ]
     },
     "metadata": {},
     "output_type": "display_data"
    },
    {
     "name": "stdout",
     "output_type": "stream",
     "text": [
      "Lambda solution status: 1\n",
      "V solution status: 1\n"
     ]
    },
    {
     "data": {
      "text/markdown": [
       "$ V(x)=(0.000000000 - 0.000000000x_{0} - 0.000000000x_{1} + 0.001776100x_{0} x_{1} + 1.064725891x_{0}^{2} + 0.054002218x_{1}^{2})$"
      ],
      "text/plain": [
       "<IPython.core.display.Markdown object>"
      ]
     },
     "metadata": {},
     "output_type": "display_data"
    },
    {
     "name": "stdout",
     "output_type": "stream",
     "text": [
      "Lambda solution status: 1\n",
      "V solution status: 1\n"
     ]
    },
    {
     "data": {
      "text/markdown": [
       "$ V(x)=(0.000000000 + 0.000000000x_{0} + 0.000000000x_{1} + 0.001716553x_{0} x_{1} + 1.035988622x_{0}^{2} + 0.052555956x_{1}^{2})$"
      ],
      "text/plain": [
       "<IPython.core.display.Markdown object>"
      ]
     },
     "metadata": {},
     "output_type": "display_data"
    },
    {
     "name": "stdout",
     "output_type": "stream",
     "text": [
      "Lambda solution status: 1\n",
      "V solution status: 1\n"
     ]
    },
    {
     "data": {
      "text/markdown": [
       "$ V(x)=(0.000000000 - 0.000000000x_{0} - 0.000000000x_{1} + 0.001684921x_{0} x_{1} + 1.008205567x_{0}^{2} + 0.051158157x_{1}^{2})$"
      ],
      "text/plain": [
       "<IPython.core.display.Markdown object>"
      ]
     },
     "metadata": {},
     "output_type": "display_data"
    },
    {
     "name": "stdout",
     "output_type": "stream",
     "text": [
      "Lambda solution status: 1\n",
      "V solution status: 1\n"
     ]
    },
    {
     "data": {
      "text/markdown": [
       "$ V(x)=(0.000000000 - 0.000000000x_{0} - 0.000000000x_{1} + 0.001677205x_{0} x_{1} + 0.981008821x_{0}^{2} + 0.049790309x_{1}^{2})$"
      ],
      "text/plain": [
       "<IPython.core.display.Markdown object>"
      ]
     },
     "metadata": {},
     "output_type": "display_data"
    },
    {
     "name": "stdout",
     "output_type": "stream",
     "text": [
      "Lambda solution status: 1\n",
      "V solution status: 1\n"
     ]
    },
    {
     "data": {
      "text/markdown": [
       "$ V(x)=(0.000000000 - 0.000000000x_{0} + 0.000000000x_{1} + 0.001666533x_{0} x_{1} + 0.954441706x_{0}^{2} + 0.048452106x_{1}^{2})$"
      ],
      "text/plain": [
       "<IPython.core.display.Markdown object>"
      ]
     },
     "metadata": {},
     "output_type": "display_data"
    },
    {
     "name": "stdout",
     "output_type": "stream",
     "text": [
      "Lambda solution status: 1\n",
      "V solution status: 1\n"
     ]
    },
    {
     "data": {
      "text/markdown": [
       "$ V(x)=(0.000000000 - 0.000000000x_{0} - 0.000000000x_{1} + 0.001619463x_{0} x_{1} + 0.928450211x_{0}^{2} + 0.047137858x_{1}^{2})$"
      ],
      "text/plain": [
       "<IPython.core.display.Markdown object>"
      ]
     },
     "metadata": {},
     "output_type": "display_data"
    },
    {
     "name": "stdout",
     "output_type": "stream",
     "text": [
      "Lambda solution status: 1\n",
      "V solution status: 1\n"
     ]
    },
    {
     "data": {
      "text/markdown": [
       "$ V(x)=(0.000000000 - 0.000000000x_{0} + 0.000000000x_{1} + 0.001532294x_{0} x_{1} + 0.902875734x_{0}^{2} + 0.045839757x_{1}^{2})$"
      ],
      "text/plain": [
       "<IPython.core.display.Markdown object>"
      ]
     },
     "metadata": {},
     "output_type": "display_data"
    },
    {
     "name": "stdout",
     "output_type": "stream",
     "text": [
      "Lambda solution status: 1\n",
      "V solution status: 1\n"
     ]
    },
    {
     "data": {
      "text/markdown": [
       "$ V(x)=(0.000000000 + 0.000000000x_{0} + 0.000000000x_{1} + 0.001450097x_{0} x_{1} + 0.877665534x_{0}^{2} + 0.044560460x_{1}^{2})$"
      ],
      "text/plain": [
       "<IPython.core.display.Markdown object>"
      ]
     },
     "metadata": {},
     "output_type": "display_data"
    },
    {
     "name": "stdout",
     "output_type": "stream",
     "text": [
      "Lambda solution status: 1\n",
      "V solution status: 1\n"
     ]
    },
    {
     "data": {
      "text/markdown": [
       "$ V(x)=(0.000000000 + 0.000000000x_{0} - 0.000000000x_{1} + 0.001384804x_{0} x_{1} + 0.852525017x_{0}^{2} + 0.043285580x_{1}^{2})$"
      ],
      "text/plain": [
       "<IPython.core.display.Markdown object>"
      ]
     },
     "metadata": {},
     "output_type": "display_data"
    },
    {
     "name": "stdout",
     "output_type": "stream",
     "text": [
      "Lambda solution status: 1\n",
      "V solution status: 1\n"
     ]
    },
    {
     "data": {
      "text/markdown": [
       "$ V(x)=(0.000000000 - 0.000000000x_{0} - 0.000000000x_{1} + 0.001322288x_{0} x_{1} + 0.827437816x_{0}^{2} + 0.042012939x_{1}^{2})$"
      ],
      "text/plain": [
       "<IPython.core.display.Markdown object>"
      ]
     },
     "metadata": {},
     "output_type": "display_data"
    },
    {
     "name": "stdout",
     "output_type": "stream",
     "text": [
      "Lambda solution status: 1\n",
      "V solution status: 1\n"
     ]
    },
    {
     "data": {
      "text/markdown": [
       "$ V(x)=(0.000000000 - 0.000000000x_{0} - 0.000000000x_{1} + 0.001223222x_{0} x_{1} + 0.802199824x_{0}^{2} + 0.040728217x_{1}^{2})$"
      ],
      "text/plain": [
       "<IPython.core.display.Markdown object>"
      ]
     },
     "metadata": {},
     "output_type": "display_data"
    },
    {
     "name": "stdout",
     "output_type": "stream",
     "text": [
      "Lambda solution status: 1\n",
      "V solution status: 1\n"
     ]
    },
    {
     "data": {
      "text/markdown": [
       "$ V(x)=(0.000000000 + 0.000000000x_{0} - 0.000000000x_{1} + 0.001280834x_{0} x_{1} + 0.777612551x_{0}^{2} + 0.039490456x_{1}^{2})$"
      ],
      "text/plain": [
       "<IPython.core.display.Markdown object>"
      ]
     },
     "metadata": {},
     "output_type": "display_data"
    },
    {
     "name": "stdout",
     "output_type": "stream",
     "text": [
      "Lambda solution status: 1\n",
      "V solution status: 1\n"
     ]
    },
    {
     "data": {
      "text/markdown": [
       "$ V(x)=(0.000000000 + 0.000000000x_{0} - 0.000000000x_{1} + 0.001315921x_{0} x_{1} + 0.752996308x_{0}^{2} + 0.038247905x_{1}^{2})$"
      ],
      "text/plain": [
       "<IPython.core.display.Markdown object>"
      ]
     },
     "metadata": {},
     "output_type": "display_data"
    },
    {
     "name": "stdout",
     "output_type": "stream",
     "text": [
      "Lambda solution status: 1\n",
      "V solution status: 1\n"
     ]
    },
    {
     "data": {
      "text/markdown": [
       "$ V(x)=(0.000000000 + 0.000000000x_{0} + 0.000000000x_{1} + 0.001359411x_{0} x_{1} + 0.728570215x_{0}^{2} + 0.037014950x_{1}^{2})$"
      ],
      "text/plain": [
       "<IPython.core.display.Markdown object>"
      ]
     },
     "metadata": {},
     "output_type": "display_data"
    },
    {
     "name": "stdout",
     "output_type": "stream",
     "text": [
      "Lambda solution status: 1\n",
      "V solution status: 1\n"
     ]
    },
    {
     "data": {
      "text/markdown": [
       "$ V(x)=(0.000000000 + 0.000000000x_{0} + 0.000000000x_{1} + 0.001435073x_{0} x_{1} + 0.704485766x_{0}^{2} + 0.035801587x_{1}^{2})$"
      ],
      "text/plain": [
       "<IPython.core.display.Markdown object>"
      ]
     },
     "metadata": {},
     "output_type": "display_data"
    },
    {
     "name": "stdout",
     "output_type": "stream",
     "text": [
      "Lambda solution status: 1\n",
      "V solution status: 1\n"
     ]
    },
    {
     "data": {
      "text/markdown": [
       "$ V(x)=(0.000000000 - 0.000000000x_{0} + 0.000000000x_{1} + 0.001307794x_{0} x_{1} + 0.680340902x_{0}^{2} + 0.034564454x_{1}^{2})$"
      ],
      "text/plain": [
       "<IPython.core.display.Markdown object>"
      ]
     },
     "metadata": {},
     "output_type": "display_data"
    },
    {
     "name": "stdout",
     "output_type": "stream",
     "text": [
      "Lambda solution status: 1\n",
      "V solution status: 1\n"
     ]
    },
    {
     "data": {
      "text/markdown": [
       "$ V(x)=(0.000000000 + 0.000000000x_{0} + 0.000000000x_{1} + 0.001332802x_{0} x_{1} + 0.657049686x_{0}^{2} + 0.033385954x_{1}^{2})$"
      ],
      "text/plain": [
       "<IPython.core.display.Markdown object>"
      ]
     },
     "metadata": {},
     "output_type": "display_data"
    },
    {
     "name": "stdout",
     "output_type": "stream",
     "text": [
      "Lambda solution status: 1\n",
      "V solution status: 1\n"
     ]
    },
    {
     "data": {
      "text/markdown": [
       "$ V(x)=(0.000000000 - 0.000000000x_{0} + 0.000000000x_{1} + 0.001233949x_{0} x_{1} + 0.633751278x_{0}^{2} + 0.032195208x_{1}^{2})$"
      ],
      "text/plain": [
       "<IPython.core.display.Markdown object>"
      ]
     },
     "metadata": {},
     "output_type": "display_data"
    },
    {
     "name": "stdout",
     "output_type": "stream",
     "text": [
      "Lambda solution status: 1\n",
      "V solution status: 1\n"
     ]
    },
    {
     "data": {
      "text/markdown": [
       "$ V(x)=(0.000000000 - 0.000000000x_{0} - 0.000000000x_{1} + 0.001226787x_{0} x_{1} + 0.610693000x_{0}^{2} + 0.031025182x_{1}^{2})$"
      ],
      "text/plain": [
       "<IPython.core.display.Markdown object>"
      ]
     },
     "metadata": {},
     "output_type": "display_data"
    },
    {
     "name": "stdout",
     "output_type": "stream",
     "text": [
      "Lambda solution status: 1\n",
      "V solution status: 1\n"
     ]
    },
    {
     "data": {
      "text/markdown": [
       "$ V(x)=(0.000000000 - 0.000000000x_{0} - 0.000000000x_{1} + 0.001267187x_{0} x_{1} + 0.587317195x_{0}^{2} + 0.029842796x_{1}^{2})$"
      ],
      "text/plain": [
       "<IPython.core.display.Markdown object>"
      ]
     },
     "metadata": {},
     "output_type": "display_data"
    },
    {
     "name": "stdout",
     "output_type": "stream",
     "text": [
      "Lambda solution status: 1\n",
      "V solution status: 1\n"
     ]
    },
    {
     "data": {
      "text/markdown": [
       "$ V(x)=(0.000000000 - 0.000000000x_{0} + 0.000000000x_{1} + 0.001335408x_{0} x_{1} + 0.563360833x_{0}^{2} + 0.028631428x_{1}^{2})$"
      ],
      "text/plain": [
       "<IPython.core.display.Markdown object>"
      ]
     },
     "metadata": {},
     "output_type": "display_data"
    },
    {
     "name": "stdout",
     "output_type": "stream",
     "text": [
      "Lambda solution status: 1\n",
      "V solution status: 1\n"
     ]
    },
    {
     "data": {
      "text/markdown": [
       "$ V(x)=(0.000000000 + 0.000000000x_{0} + 0.000000000x_{1} + 0.001385372x_{0} x_{1} + 0.539461308x_{0}^{2} + 0.027419767x_{1}^{2})$"
      ],
      "text/plain": [
       "<IPython.core.display.Markdown object>"
      ]
     },
     "metadata": {},
     "output_type": "display_data"
    },
    {
     "name": "stdout",
     "output_type": "stream",
     "text": [
      "Lambda solution status: 1\n",
      "V solution status: 1\n"
     ]
    },
    {
     "data": {
      "text/markdown": [
       "$ V(x)=(0.000000000 - 0.000000000x_{0} + 0.000000000x_{1} + 0.001393316x_{0} x_{1} + 0.516042893x_{0}^{2} + 0.026228080x_{1}^{2})$"
      ],
      "text/plain": [
       "<IPython.core.display.Markdown object>"
      ]
     },
     "metadata": {},
     "output_type": "display_data"
    },
    {
     "name": "stdout",
     "output_type": "stream",
     "text": [
      "Lambda solution status: 1\n",
      "V solution status: 1\n"
     ]
    },
    {
     "data": {
      "text/markdown": [
       "$ V(x)=(0.000000000 - 0.000000000x_{0} - 0.000000000x_{1} + 0.001320970x_{0} x_{1} + 0.493075644x_{0}^{2} + 0.025052369x_{1}^{2})$"
      ],
      "text/plain": [
       "<IPython.core.display.Markdown object>"
      ]
     },
     "metadata": {},
     "output_type": "display_data"
    },
    {
     "name": "stdout",
     "output_type": "stream",
     "text": [
      "Lambda solution status: 1\n",
      "V solution status: 1\n"
     ]
    },
    {
     "data": {
      "text/markdown": [
       "$ V(x)=(0.000000000 + 0.000000000x_{0} - 0.000000000x_{1} + 0.001202762x_{0} x_{1} + 0.470391808x_{0}^{2} + 0.023888833x_{1}^{2})$"
      ],
      "text/plain": [
       "<IPython.core.display.Markdown object>"
      ]
     },
     "metadata": {},
     "output_type": "display_data"
    },
    {
     "name": "stdout",
     "output_type": "stream",
     "text": [
      "Lambda solution status: 1\n",
      "V solution status: 1\n"
     ]
    },
    {
     "data": {
      "text/markdown": [
       "$ V(x)=(0.000000000 + 0.000000000x_{0} + 0.000000000x_{1} + 0.001103438x_{0} x_{1} + 0.447954493x_{0}^{2} + 0.022741966x_{1}^{2})$"
      ],
      "text/plain": [
       "<IPython.core.display.Markdown object>"
      ]
     },
     "metadata": {},
     "output_type": "display_data"
    },
    {
     "name": "stdout",
     "output_type": "stream",
     "text": [
      "Lambda solution status: 1\n",
      "V solution status: 1\n"
     ]
    },
    {
     "data": {
      "text/markdown": [
       "$ V(x)=(0.000000000 + 0.000000000x_{0} - 0.000000000x_{1} + 0.001060061x_{0} x_{1} + 0.425984745x_{0}^{2} + 0.021625175x_{1}^{2})$"
      ],
      "text/plain": [
       "<IPython.core.display.Markdown object>"
      ]
     },
     "metadata": {},
     "output_type": "display_data"
    },
    {
     "name": "stdout",
     "output_type": "stream",
     "text": [
      "Lambda solution status: 1\n",
      "V solution status: 1\n"
     ]
    },
    {
     "data": {
      "text/markdown": [
       "$ V(x)=(0.000000000 + 0.000000000x_{0} - 0.000000000x_{1} + 0.001012664x_{0} x_{1} + 0.403864197x_{0}^{2} + 0.020500873x_{1}^{2})$"
      ],
      "text/plain": [
       "<IPython.core.display.Markdown object>"
      ]
     },
     "metadata": {},
     "output_type": "display_data"
    },
    {
     "name": "stdout",
     "output_type": "stream",
     "text": [
      "Lambda solution status: 1\n",
      "V solution status: 1\n"
     ]
    },
    {
     "data": {
      "text/markdown": [
       "$ V(x)=(0.000000000 - 0.000000000x_{0} + 0.000000000x_{1} + 0.000946973x_{0} x_{1} + 0.382762940x_{0}^{2} + 0.019427408x_{1}^{2})$"
      ],
      "text/plain": [
       "<IPython.core.display.Markdown object>"
      ]
     },
     "metadata": {},
     "output_type": "display_data"
    },
    {
     "name": "stdout",
     "output_type": "stream",
     "text": [
      "Lambda solution status: 1\n",
      "V solution status: 1\n"
     ]
    },
    {
     "data": {
      "text/markdown": [
       "$ V(x)=(0.000000000 + 0.000000000x_{0} - 0.000000000x_{1} + 0.000874901x_{0} x_{1} + 0.363024023x_{0}^{2} + 0.018423595x_{1}^{2})$"
      ],
      "text/plain": [
       "<IPython.core.display.Markdown object>"
      ]
     },
     "metadata": {},
     "output_type": "display_data"
    },
    {
     "name": "stdout",
     "output_type": "stream",
     "text": [
      "Lambda solution status: 1\n",
      "V solution status: 1\n"
     ]
    },
    {
     "data": {
      "text/markdown": [
       "$ V(x)=(0.000000000 + 0.000000000x_{0} + 0.000000000x_{1} + 0.000794229x_{0} x_{1} + 0.345268861x_{0}^{2} + 0.017520991x_{1}^{2})$"
      ],
      "text/plain": [
       "<IPython.core.display.Markdown object>"
      ]
     },
     "metadata": {},
     "output_type": "display_data"
    },
    {
     "name": "stdout",
     "output_type": "stream",
     "text": [
      "Lambda solution status: 1\n",
      "V solution status: 1\n"
     ]
    },
    {
     "data": {
      "text/markdown": [
       "$ V(x)=(0.000000000 + 0.000000000x_{0} - 0.000000000x_{1} + 0.000721482x_{0} x_{1} + 0.329191490x_{0}^{2} + 0.016704651x_{1}^{2})$"
      ],
      "text/plain": [
       "<IPython.core.display.Markdown object>"
      ]
     },
     "metadata": {},
     "output_type": "display_data"
    },
    {
     "name": "stdout",
     "output_type": "stream",
     "text": [
      "Lambda solution status: 1\n",
      "V solution status: 1\n"
     ]
    },
    {
     "data": {
      "text/markdown": [
       "$ V(x)=(0.000000000 + 0.000000000x_{0} + 0.000000000x_{1} + 0.000670878x_{0} x_{1} + 0.313798483x_{0}^{2} + 0.015924662x_{1}^{2})$"
      ],
      "text/plain": [
       "<IPython.core.display.Markdown object>"
      ]
     },
     "metadata": {},
     "output_type": "display_data"
    },
    {
     "name": "stdout",
     "output_type": "stream",
     "text": [
      "Lambda solution status: 1\n",
      "V solution status: 1\n"
     ]
    },
    {
     "data": {
      "text/markdown": [
       "$ V(x)=(0.000000000 - 0.000000000x_{0} + 0.000000000x_{1} + 0.000594477x_{0} x_{1} + 0.299311728x_{0}^{2} + 0.015188758x_{1}^{2})$"
      ],
      "text/plain": [
       "<IPython.core.display.Markdown object>"
      ]
     },
     "metadata": {},
     "output_type": "display_data"
    },
    {
     "name": "stdout",
     "output_type": "stream",
     "text": [
      "Lambda solution status: 1\n",
      "V solution status: 1\n"
     ]
    },
    {
     "data": {
      "text/markdown": [
       "$ V(x)=(0.000000000 - 0.000000000x_{0} + 0.000000000x_{1} + 0.000519307x_{0} x_{1} + 0.285572663x_{0}^{2} + 0.014490827x_{1}^{2})$"
      ],
      "text/plain": [
       "<IPython.core.display.Markdown object>"
      ]
     },
     "metadata": {},
     "output_type": "display_data"
    },
    {
     "name": "stdout",
     "output_type": "stream",
     "text": [
      "Lambda solution status: 1\n",
      "V solution status: 1\n"
     ]
    },
    {
     "data": {
      "text/markdown": [
       "$ V(x)=(0.000000000 - 0.000000000x_{0} + 0.000000000x_{1} + 0.000455621x_{0} x_{1} + 0.272608583x_{0}^{2} + 0.013832805x_{1}^{2})$"
      ],
      "text/plain": [
       "<IPython.core.display.Markdown object>"
      ]
     },
     "metadata": {},
     "output_type": "display_data"
    },
    {
     "name": "stdout",
     "output_type": "stream",
     "text": [
      "Lambda solution status: 1\n",
      "V solution status: 1\n"
     ]
    },
    {
     "data": {
      "text/markdown": [
       "$ V(x)=(0.000000000 + 0.000000000x_{0} + 0.000000000x_{1} + 0.000405973x_{0} x_{1} + 0.260382335x_{0}^{2} + 0.013212866x_{1}^{2})$"
      ],
      "text/plain": [
       "<IPython.core.display.Markdown object>"
      ]
     },
     "metadata": {},
     "output_type": "display_data"
    },
    {
     "name": "stdout",
     "output_type": "stream",
     "text": [
      "Lambda solution status: 1\n",
      "V solution status: 1\n"
     ]
    },
    {
     "data": {
      "text/markdown": [
       "$ V(x)=(0.000000000 - 0.000000000x_{0} - 0.000000000x_{1} + 0.000364537x_{0} x_{1} + 0.248704135x_{0}^{2} + 0.012621018x_{1}^{2})$"
      ],
      "text/plain": [
       "<IPython.core.display.Markdown object>"
      ]
     },
     "metadata": {},
     "output_type": "display_data"
    },
    {
     "name": "stdout",
     "output_type": "stream",
     "text": [
      "Lambda solution status: 1\n",
      "V solution status: 1\n"
     ]
    },
    {
     "data": {
      "text/markdown": [
       "$ V(x)=(0.000000000 + 0.000000000x_{0} + 0.000000000x_{1} + 0.000330596x_{0} x_{1} + 0.237499855x_{0}^{2} + 0.012053380x_{1}^{2})$"
      ],
      "text/plain": [
       "<IPython.core.display.Markdown object>"
      ]
     },
     "metadata": {},
     "output_type": "display_data"
    },
    {
     "name": "stdout",
     "output_type": "stream",
     "text": [
      "Lambda solution status: 1\n",
      "V solution status: 1\n"
     ]
    },
    {
     "data": {
      "text/markdown": [
       "$ V(x)=(0.000000000 + 0.000000000x_{0} - 0.000000000x_{1} + 0.000302745x_{0} x_{1} + 0.226734020x_{0}^{2} + 0.011508016x_{1}^{2})$"
      ],
      "text/plain": [
       "<IPython.core.display.Markdown object>"
      ]
     },
     "metadata": {},
     "output_type": "display_data"
    },
    {
     "name": "stdout",
     "output_type": "stream",
     "text": [
      "Lambda solution status: 1\n",
      "V solution status: 1\n"
     ]
    },
    {
     "data": {
      "text/markdown": [
       "$ V(x)=(0.000000000 - 0.000000000x_{0} - 0.000000000x_{1} + 0.000279436x_{0} x_{1} + 0.216428918x_{0}^{2} + 0.010985898x_{1}^{2})$"
      ],
      "text/plain": [
       "<IPython.core.display.Markdown object>"
      ]
     },
     "metadata": {},
     "output_type": "display_data"
    },
    {
     "name": "stdout",
     "output_type": "stream",
     "text": [
      "Lambda solution status: 1\n",
      "V solution status: 1\n"
     ]
    },
    {
     "data": {
      "text/markdown": [
       "$ V(x)=(0.000000000 - 0.000000000x_{0} - 0.000000000x_{1} + 0.000251205x_{0} x_{1} + 0.206278470x_{0}^{2} + 0.010471338x_{1}^{2})$"
      ],
      "text/plain": [
       "<IPython.core.display.Markdown object>"
      ]
     },
     "metadata": {},
     "output_type": "display_data"
    },
    {
     "name": "stdout",
     "output_type": "stream",
     "text": [
      "Lambda solution status: 1\n",
      "V solution status: 1\n"
     ]
    },
    {
     "data": {
      "text/markdown": [
       "$ V(x)=(0.000000000 - 0.000000000x_{0} + 0.000000000x_{1} + 0.000226666x_{0} x_{1} + 0.196535310x_{0}^{2} + 0.009977489x_{1}^{2})$"
      ],
      "text/plain": [
       "<IPython.core.display.Markdown object>"
      ]
     },
     "metadata": {},
     "output_type": "display_data"
    },
    {
     "name": "stdout",
     "output_type": "stream",
     "text": [
      "Lambda solution status: 1\n",
      "V solution status: 1\n"
     ]
    },
    {
     "data": {
      "text/markdown": [
       "$ V(x)=(0.000000000 + 0.000000000x_{0} + 0.000000000x_{1} + 0.000205930x_{0} x_{1} + 0.187323639x_{0}^{2} + 0.009510540x_{1}^{2})$"
      ],
      "text/plain": [
       "<IPython.core.display.Markdown object>"
      ]
     },
     "metadata": {},
     "output_type": "display_data"
    },
    {
     "name": "stdout",
     "output_type": "stream",
     "text": [
      "Lambda solution status: 1\n",
      "V solution status: 1\n"
     ]
    },
    {
     "data": {
      "text/markdown": [
       "$ V(x)=(0.000000000 - 0.000000000x_{0} - 0.000000000x_{1} + 0.000189697x_{0} x_{1} + 0.178455748x_{0}^{2} + 0.009061085x_{1}^{2})$"
      ],
      "text/plain": [
       "<IPython.core.display.Markdown object>"
      ]
     },
     "metadata": {},
     "output_type": "display_data"
    },
    {
     "name": "stdout",
     "output_type": "stream",
     "text": [
      "Lambda solution status: 1\n",
      "V solution status: 1\n"
     ]
    },
    {
     "data": {
      "text/markdown": [
       "$ V(x)=(0.000000000 + 0.000000000x_{0} + 0.000000000x_{1} + 0.000173835x_{0} x_{1} + 0.169815685x_{0}^{2} + 0.008623124x_{1}^{2})$"
      ],
      "text/plain": [
       "<IPython.core.display.Markdown object>"
      ]
     },
     "metadata": {},
     "output_type": "display_data"
    },
    {
     "name": "stdout",
     "output_type": "stream",
     "text": [
      "Lambda solution status: 1\n",
      "V solution status: 1\n"
     ]
    },
    {
     "data": {
      "text/markdown": [
       "$ V(x)=(0.000000000 - 0.000000000x_{0} + 0.000000000x_{1} + 0.000159028x_{0} x_{1} + 0.161463444x_{0}^{2} + 0.008199689x_{1}^{2})$"
      ],
      "text/plain": [
       "<IPython.core.display.Markdown object>"
      ]
     },
     "metadata": {},
     "output_type": "display_data"
    },
    {
     "name": "stdout",
     "output_type": "stream",
     "text": [
      "Lambda solution status: 1\n",
      "V solution status: 1\n"
     ]
    },
    {
     "data": {
      "text/markdown": [
       "$ V(x)=(0.000000000 + 0.000000000x_{0} + 0.000000000x_{1} + 0.000145554x_{0} x_{1} + 0.153409301x_{0}^{2} + 0.007791304x_{1}^{2})$"
      ],
      "text/plain": [
       "<IPython.core.display.Markdown object>"
      ]
     },
     "metadata": {},
     "output_type": "display_data"
    },
    {
     "name": "stdout",
     "output_type": "stream",
     "text": [
      "Lambda solution status: 1\n",
      "V solution status: 1\n"
     ]
    },
    {
     "data": {
      "text/markdown": [
       "$ V(x)=(0.000000000 + 0.000000000x_{0} + 0.000000000x_{1} + 0.000133603x_{0} x_{1} + 0.145622949x_{0}^{2} + 0.007396443x_{1}^{2})$"
      ],
      "text/plain": [
       "<IPython.core.display.Markdown object>"
      ]
     },
     "metadata": {},
     "output_type": "display_data"
    },
    {
     "name": "stdout",
     "output_type": "stream",
     "text": [
      "Lambda solution status: 1\n",
      "V solution status: 1\n"
     ]
    },
    {
     "data": {
      "text/markdown": [
       "$ V(x)=(0.000000000 + 0.000000000x_{0} + 0.000000000x_{1} + 0.000127482x_{0} x_{1} + 0.138079331x_{0}^{2} + 0.007013925x_{1}^{2})$"
      ],
      "text/plain": [
       "<IPython.core.display.Markdown object>"
      ]
     },
     "metadata": {},
     "output_type": "display_data"
    },
    {
     "name": "stdout",
     "output_type": "stream",
     "text": [
      "Lambda solution status: 1\n",
      "V solution status: 1\n"
     ]
    },
    {
     "data": {
      "text/markdown": [
       "$ V(x)=(0.000000000 - 0.000000000x_{0} + 0.000000000x_{1} + 0.000118285x_{0} x_{1} + 0.130849674x_{0}^{2} + 0.006647126x_{1}^{2})$"
      ],
      "text/plain": [
       "<IPython.core.display.Markdown object>"
      ]
     },
     "metadata": {},
     "output_type": "display_data"
    },
    {
     "name": "stdout",
     "output_type": "stream",
     "text": [
      "Lambda solution status: 1\n",
      "V solution status: 1\n"
     ]
    },
    {
     "data": {
      "text/markdown": [
       "$ V(x)=(0.000000000 + 0.000000000x_{0} + 0.000000000x_{1} + 0.000108618x_{0} x_{1} + 0.123890726x_{0}^{2} + 0.006293976x_{1}^{2})$"
      ],
      "text/plain": [
       "<IPython.core.display.Markdown object>"
      ]
     },
     "metadata": {},
     "output_type": "display_data"
    },
    {
     "name": "stdout",
     "output_type": "stream",
     "text": [
      "Lambda solution status: 1\n",
      "V solution status: 1\n"
     ]
    },
    {
     "data": {
      "text/markdown": [
       "$ V(x)=(0.000000000 - 0.000000000x_{0} + 0.000000000x_{1} + 0.000099318x_{0} x_{1} + 0.117193038x_{0}^{2} + 0.005954038x_{1}^{2})$"
      ],
      "text/plain": [
       "<IPython.core.display.Markdown object>"
      ]
     },
     "metadata": {},
     "output_type": "display_data"
    },
    {
     "name": "stdout",
     "output_type": "stream",
     "text": [
      "Lambda solution status: 1\n",
      "V solution status: 1\n"
     ]
    },
    {
     "data": {
      "text/markdown": [
       "$ V(x)=(0.000000000 + 0.000000000x_{0} + 0.000000000x_{1} + 0.000090762x_{0} x_{1} + 0.110744208x_{0}^{2} + 0.005626701x_{1}^{2})$"
      ],
      "text/plain": [
       "<IPython.core.display.Markdown object>"
      ]
     },
     "metadata": {},
     "output_type": "display_data"
    },
    {
     "name": "stdout",
     "output_type": "stream",
     "text": [
      "Lambda solution status: 1\n",
      "V solution status: 1\n"
     ]
    },
    {
     "data": {
      "text/markdown": [
       "$ V(x)=(0.000000000 + 0.000000000x_{0} + 0.000000000x_{1} + 0.000083075x_{0} x_{1} + 0.104526785x_{0}^{2} + 0.005311087x_{1}^{2})$"
      ],
      "text/plain": [
       "<IPython.core.display.Markdown object>"
      ]
     },
     "metadata": {},
     "output_type": "display_data"
    },
    {
     "name": "stdout",
     "output_type": "stream",
     "text": [
      "Lambda solution status: 1\n",
      "V solution status: 1\n"
     ]
    },
    {
     "data": {
      "text/markdown": [
       "$ V(x)=(0.000000000 + 0.000000000x_{0} - 0.000000000x_{1} + 0.000076624x_{0} x_{1} + 0.098498474x_{0}^{2} + 0.005005063x_{1}^{2})$"
      ],
      "text/plain": [
       "<IPython.core.display.Markdown object>"
      ]
     },
     "metadata": {},
     "output_type": "display_data"
    },
    {
     "name": "stdout",
     "output_type": "stream",
     "text": [
      "Lambda solution status: 1\n",
      "V solution status: 1\n"
     ]
    },
    {
     "data": {
      "text/markdown": [
       "$ V(x)=(0.000000000 - 0.000000000x_{0} - 0.000000000x_{1} + 0.000071178x_{0} x_{1} + 0.092634099x_{0}^{2} + 0.004707345x_{1}^{2})$"
      ],
      "text/plain": [
       "<IPython.core.display.Markdown object>"
      ]
     },
     "metadata": {},
     "output_type": "display_data"
    },
    {
     "name": "stdout",
     "output_type": "stream",
     "text": [
      "Lambda solution status: 1\n",
      "V solution status: 1\n"
     ]
    },
    {
     "data": {
      "text/markdown": [
       "$ V(x)=(0.000000000 - 0.000000000x_{0} - 0.000000000x_{1} + 0.000066653x_{0} x_{1} + 0.086903837x_{0}^{2} + 0.004416418x_{1}^{2})$"
      ],
      "text/plain": [
       "<IPython.core.display.Markdown object>"
      ]
     },
     "metadata": {},
     "output_type": "display_data"
    },
    {
     "name": "stdout",
     "output_type": "stream",
     "text": [
      "Lambda solution status: 1\n",
      "V solution status: 1\n"
     ]
    },
    {
     "data": {
      "text/markdown": [
       "$ V(x)=(0.000000000 - 0.000000000x_{0} - 0.000000000x_{1} + 0.000063016x_{0} x_{1} + 0.081270267x_{0}^{2} + 0.004130382x_{1}^{2})$"
      ],
      "text/plain": [
       "<IPython.core.display.Markdown object>"
      ]
     },
     "metadata": {},
     "output_type": "display_data"
    },
    {
     "name": "stdout",
     "output_type": "stream",
     "text": [
      "Lambda solution status: 1\n",
      "V solution status: 1\n"
     ]
    },
    {
     "data": {
      "text/markdown": [
       "$ V(x)=(0.000000000 - 0.000000000x_{0} - 0.000000000x_{1} + 0.000058908x_{0} x_{1} + 0.075770503x_{0}^{2} + 0.003851110x_{1}^{2})$"
      ],
      "text/plain": [
       "<IPython.core.display.Markdown object>"
      ]
     },
     "metadata": {},
     "output_type": "display_data"
    },
    {
     "name": "stdout",
     "output_type": "stream",
     "text": [
      "Lambda solution status: 1\n",
      "V solution status: 1\n"
     ]
    },
    {
     "data": {
      "text/markdown": [
       "$ V(x)=(0.000000000 - 0.000000000x_{0} + 0.000000000x_{1} + 0.000057274x_{0} x_{1} + 0.070240877x_{0}^{2} + 0.003567023x_{1}^{2})$"
      ],
      "text/plain": [
       "<IPython.core.display.Markdown object>"
      ]
     },
     "metadata": {},
     "output_type": "display_data"
    },
    {
     "name": "stdout",
     "output_type": "stream",
     "text": [
      "Lambda solution status: 1\n",
      "V solution status: 1\n"
     ]
    },
    {
     "data": {
      "text/markdown": [
       "$ V(x)=(0.000000000 - 0.000000000x_{0} - 0.000000000x_{1} + 0.000058076x_{0} x_{1} + 0.064361959x_{0}^{2} + 0.003272662x_{1}^{2})$"
      ],
      "text/plain": [
       "<IPython.core.display.Markdown object>"
      ]
     },
     "metadata": {},
     "output_type": "display_data"
    },
    {
     "name": "stdout",
     "output_type": "stream",
     "text": [
      "Lambda solution status: 1\n",
      "V solution status: 1\n"
     ]
    },
    {
     "data": {
      "text/markdown": [
       "$ V(x)=(0.000000000 + 0.000000000x_{0} + 0.000000000x_{1} + 0.000060825x_{0} x_{1} + 0.058294614x_{0}^{2} + 0.002964426x_{1}^{2})$"
      ],
      "text/plain": [
       "<IPython.core.display.Markdown object>"
      ]
     },
     "metadata": {},
     "output_type": "display_data"
    },
    {
     "name": "stdout",
     "output_type": "stream",
     "text": [
      "Lambda solution status: 1\n",
      "V solution status: 1\n"
     ]
    },
    {
     "data": {
      "text/markdown": [
       "$ V(x)=(0.000000000 - 0.000000000x_{0} + 0.000000000x_{1} + 0.000060507x_{0} x_{1} + 0.052435859x_{0}^{2} + 0.002666644x_{1}^{2})$"
      ],
      "text/plain": [
       "<IPython.core.display.Markdown object>"
      ]
     },
     "metadata": {},
     "output_type": "display_data"
    },
    {
     "name": "stdout",
     "output_type": "stream",
     "text": [
      "Lambda solution status: 1\n",
      "V solution status: 1\n"
     ]
    },
    {
     "data": {
      "text/markdown": [
       "$ V(x)=(0.000000000 + 0.000000000x_{0} - 0.000000000x_{1} + 0.000056530x_{0} x_{1} + 0.047054635x_{0}^{2} + 0.002393008x_{1}^{2})$"
      ],
      "text/plain": [
       "<IPython.core.display.Markdown object>"
      ]
     },
     "metadata": {},
     "output_type": "display_data"
    },
    {
     "name": "stdout",
     "output_type": "stream",
     "text": [
      "Lambda solution status: 1\n",
      "V solution status: 1\n"
     ]
    },
    {
     "data": {
      "text/markdown": [
       "$ V(x)=(0.000000000 - 0.000000000x_{0} + 0.000000000x_{1} + 0.000049908x_{0} x_{1} + 0.042303483x_{0}^{2} + 0.002151331x_{1}^{2})$"
      ],
      "text/plain": [
       "<IPython.core.display.Markdown object>"
      ]
     },
     "metadata": {},
     "output_type": "display_data"
    },
    {
     "name": "stdout",
     "output_type": "stream",
     "text": [
      "Lambda solution status: 1\n",
      "V solution status: 1\n"
     ]
    },
    {
     "data": {
      "text/markdown": [
       "$ V(x)=(0.000000000 + 0.000000000x_{0} + 0.000000000x_{1} + 0.000042209x_{0} x_{1} + 0.038204893x_{0}^{2} + 0.001942813x_{1}^{2})$"
      ],
      "text/plain": [
       "<IPython.core.display.Markdown object>"
      ]
     },
     "metadata": {},
     "output_type": "display_data"
    },
    {
     "name": "stdout",
     "output_type": "stream",
     "text": [
      "Lambda solution status: 1\n",
      "V solution status: 1\n"
     ]
    },
    {
     "data": {
      "text/markdown": [
       "$ V(x)=(0.000000000 - 0.000000000x_{0} + 0.000000000x_{1} + 0.000034734x_{0} x_{1} + 0.034491964x_{0}^{2} + 0.001753955x_{1}^{2})$"
      ],
      "text/plain": [
       "<IPython.core.display.Markdown object>"
      ]
     },
     "metadata": {},
     "output_type": "display_data"
    },
    {
     "name": "stdout",
     "output_type": "stream",
     "text": [
      "Lambda solution status: 1\n",
      "V solution status: 1\n"
     ]
    },
    {
     "data": {
      "text/markdown": [
       "$ V(x)=(0.000000000 + 0.000000000x_{0} + 0.000000000x_{1} + 0.000028063x_{0} x_{1} + 0.031217333x_{0}^{2} + 0.001587402x_{1}^{2})$"
      ],
      "text/plain": [
       "<IPython.core.display.Markdown object>"
      ]
     },
     "metadata": {},
     "output_type": "display_data"
    },
    {
     "name": "stdout",
     "output_type": "stream",
     "text": [
      "Lambda solution status: 1\n",
      "V solution status: 1\n"
     ]
    },
    {
     "data": {
      "text/markdown": [
       "$ V(x)=(0.000000000 - 0.000000000x_{0} - 0.000000000x_{1} + 0.000022399x_{0} x_{1} + 0.028321596x_{0}^{2} + 0.001440134x_{1}^{2})$"
      ],
      "text/plain": [
       "<IPython.core.display.Markdown object>"
      ]
     },
     "metadata": {},
     "output_type": "display_data"
    },
    {
     "name": "stdout",
     "output_type": "stream",
     "text": [
      "Lambda solution status: 1\n",
      "V solution status: 1\n"
     ]
    },
    {
     "data": {
      "text/markdown": [
       "$ V(x)=(0.000000000 - 0.000000000x_{0} + 0.000000000x_{1} + 0.000017506x_{0} x_{1} + 0.025803038x_{0}^{2} + 0.001312052x_{1}^{2})$"
      ],
      "text/plain": [
       "<IPython.core.display.Markdown object>"
      ]
     },
     "metadata": {},
     "output_type": "display_data"
    },
    {
     "name": "stdout",
     "output_type": "stream",
     "text": [
      "Lambda solution status: 1\n",
      "V solution status: 1\n"
     ]
    },
    {
     "data": {
      "text/markdown": [
       "$ V(x)=(0.000000000 + 0.000000000x_{0} + 0.000000000x_{1} + 0.000013287x_{0} x_{1} + 0.023648981x_{0}^{2} + 0.001202509x_{1}^{2})$"
      ],
      "text/plain": [
       "<IPython.core.display.Markdown object>"
      ]
     },
     "metadata": {},
     "output_type": "display_data"
    },
    {
     "name": "stdout",
     "output_type": "stream",
     "text": [
      "Lambda solution status: 1\n",
      "V solution status: 1\n"
     ]
    },
    {
     "data": {
      "text/markdown": [
       "$ V(x)=(0.000000000 - 0.000000000x_{0} - 0.000000000x_{1} + 0.000010087x_{0} x_{1} + 0.021748206x_{0}^{2} + 0.001105852x_{1}^{2})$"
      ],
      "text/plain": [
       "<IPython.core.display.Markdown object>"
      ]
     },
     "metadata": {},
     "output_type": "display_data"
    },
    {
     "name": "stdout",
     "output_type": "stream",
     "text": [
      "Lambda solution status: 1\n",
      "V solution status: 1\n"
     ]
    },
    {
     "data": {
      "text/markdown": [
       "$ V(x)=(0.000000000 + 0.000000000x_{0} - 0.000000000x_{1} + 0.000008029x_{0} x_{1} + 0.019967100x_{0}^{2} + 0.001015297x_{1}^{2})$"
      ],
      "text/plain": [
       "<IPython.core.display.Markdown object>"
      ]
     },
     "metadata": {},
     "output_type": "display_data"
    },
    {
     "name": "stdout",
     "output_type": "stream",
     "text": [
      "Lambda solution status: 1\n",
      "V solution status: 1\n"
     ]
    },
    {
     "data": {
      "text/markdown": [
       "$ V(x)=(0.000000000 + 0.000000000x_{0} + 0.000000000x_{1} + 0.000006939x_{0} x_{1} + 0.018200931x_{0}^{2} + 0.000925516x_{1}^{2})$"
      ],
      "text/plain": [
       "<IPython.core.display.Markdown object>"
      ]
     },
     "metadata": {},
     "output_type": "display_data"
    },
    {
     "name": "stdout",
     "output_type": "stream",
     "text": [
      "Lambda solution status: 1\n",
      "V solution status: 1\n"
     ]
    },
    {
     "data": {
      "text/markdown": [
       "$ V(x)=(0.000000000 - 0.000000000x_{0} + 0.000000000x_{1} + 0.000006388x_{0} x_{1} + 0.016432667x_{0}^{2} + 0.000835633x_{1}^{2})$"
      ],
      "text/plain": [
       "<IPython.core.display.Markdown object>"
      ]
     },
     "metadata": {},
     "output_type": "display_data"
    },
    {
     "name": "stdout",
     "output_type": "stream",
     "text": [
      "Lambda solution status: 1\n",
      "V solution status: 1\n"
     ]
    },
    {
     "data": {
      "text/markdown": [
       "$ V(x)=(0.000000000 + 0.000000000x_{0} + 0.000000000x_{1} + 0.000006011x_{0} x_{1} + 0.014696382x_{0}^{2} + 0.000747373x_{1}^{2})$"
      ],
      "text/plain": [
       "<IPython.core.display.Markdown object>"
      ]
     },
     "metadata": {},
     "output_type": "display_data"
    },
    {
     "name": "stdout",
     "output_type": "stream",
     "text": [
      "Lambda solution status: 1\n",
      "V solution status: 1\n"
     ]
    },
    {
     "data": {
      "text/markdown": [
       "$ V(x)=(0.000000000 + 0.000000000x_{0} + 0.000000000x_{1} + 0.000005561x_{0} x_{1} + 0.013044562x_{0}^{2} + 0.000663399x_{1}^{2})$"
      ],
      "text/plain": [
       "<IPython.core.display.Markdown object>"
      ]
     },
     "metadata": {},
     "output_type": "display_data"
    },
    {
     "name": "stdout",
     "output_type": "stream",
     "text": [
      "Lambda solution status: 1\n",
      "V solution status: 1\n"
     ]
    },
    {
     "data": {
      "text/markdown": [
       "$ V(x)=(0.000000000 - 0.000000000x_{0} - 0.000000000x_{1} + 0.000005005x_{0} x_{1} + 0.011505552x_{0}^{2} + 0.000585152x_{1}^{2})$"
      ],
      "text/plain": [
       "<IPython.core.display.Markdown object>"
      ]
     },
     "metadata": {},
     "output_type": "display_data"
    },
    {
     "name": "stdout",
     "output_type": "stream",
     "text": [
      "Lambda solution status: 1\n",
      "V solution status: 1\n"
     ]
    },
    {
     "data": {
      "text/markdown": [
       "$ V(x)=(0.000000000 + 0.000000000x_{0} + 0.000000000x_{1} + 0.000004392x_{0} x_{1} + 0.010086446x_{0}^{2} + 0.000512994x_{1}^{2})$"
      ],
      "text/plain": [
       "<IPython.core.display.Markdown object>"
      ]
     },
     "metadata": {},
     "output_type": "display_data"
    },
    {
     "name": "stdout",
     "output_type": "stream",
     "text": [
      "Lambda solution status: 1\n",
      "V solution status: 1\n"
     ]
    },
    {
     "data": {
      "text/markdown": [
       "$ V(x)=(0.000000000 + 0.000000000x_{0} + 0.000000000x_{1} + 0.000003575x_{0} x_{1} + 0.008880619x_{0}^{2} + 0.000451673x_{1}^{2})$"
      ],
      "text/plain": [
       "<IPython.core.display.Markdown object>"
      ]
     },
     "metadata": {},
     "output_type": "display_data"
    },
    {
     "name": "stdout",
     "output_type": "stream",
     "text": [
      "Lambda solution status: 1\n",
      "V solution status: 1\n"
     ]
    },
    {
     "data": {
      "text/markdown": [
       "$ V(x)=(0.000000000 - 0.000000000x_{0} - 0.000000000x_{1} + 0.000002830x_{0} x_{1} + 0.007819807x_{0}^{2} + 0.000397725x_{1}^{2})$"
      ],
      "text/plain": [
       "<IPython.core.display.Markdown object>"
      ]
     },
     "metadata": {},
     "output_type": "display_data"
    },
    {
     "name": "stdout",
     "output_type": "stream",
     "text": [
      "Lambda solution status: 1\n",
      "V solution status: 1\n"
     ]
    },
    {
     "data": {
      "text/markdown": [
       "$ V(x)=(0.000000000 - 0.000000000x_{0} - 0.000000000x_{1} + 0.000002221x_{0} x_{1} + 0.006875427x_{0}^{2} + 0.000349697x_{1}^{2})$"
      ],
      "text/plain": [
       "<IPython.core.display.Markdown object>"
      ]
     },
     "metadata": {},
     "output_type": "display_data"
    },
    {
     "name": "stdout",
     "output_type": "stream",
     "text": [
      "Lambda solution status: 1\n",
      "V solution status: 1\n"
     ]
    },
    {
     "data": {
      "text/markdown": [
       "$ V(x)=(0.000000000 - 0.000000000x_{0} - 0.000000000x_{1} + 0.000001744x_{0} x_{1} + 0.006031873x_{0}^{2} + 0.000306796x_{1}^{2})$"
      ],
      "text/plain": [
       "<IPython.core.display.Markdown object>"
      ]
     },
     "metadata": {},
     "output_type": "display_data"
    },
    {
     "name": "stdout",
     "output_type": "stream",
     "text": [
      "Lambda solution status: 1\n",
      "V solution status: 1\n"
     ]
    },
    {
     "data": {
      "text/markdown": [
       "$ V(x)=(0.000000000 - 0.000000000x_{0} - 0.000000000x_{1} + 0.000001360x_{0} x_{1} + 0.005291324x_{0}^{2} + 0.000269132x_{1}^{2})$"
      ],
      "text/plain": [
       "<IPython.core.display.Markdown object>"
      ]
     },
     "metadata": {},
     "output_type": "display_data"
    },
    {
     "name": "stdout",
     "output_type": "stream",
     "text": [
      "Lambda solution status: 1\n",
      "V solution status: 1\n"
     ]
    },
    {
     "data": {
      "text/markdown": [
       "$ V(x)=(0.000000000 + 0.000000000x_{0} + 0.000000000x_{1} + 0.000001050x_{0} x_{1} + 0.004646298x_{0}^{2} + 0.000236327x_{1}^{2})$"
      ],
      "text/plain": [
       "<IPython.core.display.Markdown object>"
      ]
     },
     "metadata": {},
     "output_type": "display_data"
    },
    {
     "name": "stdout",
     "output_type": "stream",
     "text": [
      "Lambda solution status: 1\n",
      "V solution status: 1\n"
     ]
    },
    {
     "data": {
      "text/markdown": [
       "$ V(x)=(0.000000000 - 0.000000000x_{0} + 0.000000000x_{1} + 0.000000834x_{0} x_{1} + 0.004055590x_{0}^{2} + 0.000206284x_{1}^{2})$"
      ],
      "text/plain": [
       "<IPython.core.display.Markdown object>"
      ]
     },
     "metadata": {},
     "output_type": "display_data"
    }
   ],
   "source": [
    "#doing the van der pol oscillator implicitly\n",
    "\n",
    "from pydrake.solvers.mathematicalprogram import MathematicalProgram, SolverOptions, Solve\n",
    "from pydrake.solvers.csdp import CsdpSolver\n",
    "from pydrake.solvers.mosek import MosekSolver\n",
    "\n",
    "negative_infinity = float('-inf')\n",
    "\n",
    "def find_implicit_lambdas(x, xd, V, Vdot, g):\n",
    "    prog = MathematicalProgram()\n",
    "    prog.AddIndeterminates(x)\n",
    "    prog.AddIndeterminates(xd)\n",
    "        \n",
    "    y = np.hstack([x, xd])\n",
    "    \n",
    "    l_deg = math.ceil(V.TotalDegree()/2) * 2\n",
    "    \n",
    "    lambda_ = prog.NewSosPolynomial(Variables(y), l_deg)[0]\n",
    "    \n",
    "    lambda_g = []\n",
    "    \n",
    "    for i in range(g.size): \n",
    "        gi_deg = max(l_deg + V.TotalDegree() - g[i].TotalDegree(), 0)\n",
    "        lambda_g.append(prog.NewFreePolynomial(Variables(y), gi_deg))\n",
    "        \n",
    "    lambda_g = np.array(lambda_g)    \n",
    "  \n",
    "    prog.AddSosConstraint(-Vdot + lambda_*(V - 1) + lambda_g.dot(g))\n",
    "        \n",
    "    solver = MosekSolver()\n",
    "    result = solver.Solve(prog)\n",
    "    \n",
    "    k = result.get_solver_details().solution_status\n",
    "                \n",
    "    print(\"Lambda solution status: \" + str(k))\n",
    "    \n",
    "    assert result.is_success()\n",
    "    \n",
    "    lambda_g_results = []\n",
    "    \n",
    "    for i in range(g.size):\n",
    "        lambda_g_results.append(result.GetSolution(lambda_g[i]).RemoveTermsWithSmallCoefficients(1e-5))\n",
    "    \n",
    "    return result.GetSolution(lambda_).RemoveTermsWithSmallCoefficients(1e-5), np.array(lambda_g_results)\n",
    "\n",
    "def find_implicit_V(x, xd, lambda_, lambda_g, g, V_degree):\n",
    "    prog = MathematicalProgram()\n",
    "    prog.AddIndeterminates(x)\n",
    "    prog.AddIndeterminates(xd)\n",
    "    \n",
    "    y = np.hstack([x, xd])\n",
    "        \n",
    "    V, Q = prog.NewSosPolynomial(Variables(x), V_degree)\n",
    "    Vdot = V.Jacobian(x).dot(xd)\n",
    "    \n",
    "    prog.AddSosConstraint(-Vdot + lambda_*(V - 1) + lambda_g.dot(g))\n",
    "    \n",
    "    prog.AddLinearCost(np.trace(Q))    \n",
    "    #prog.AddLinearConstraint(V.ToExpression().Substitute({x[0]: 0, x[1]:0, xd[0]: 0, xd[1]: 0}) == 0)\n",
    "    prog.AddLinearConstraint(V.ToExpression().Substitute({x[0]: 0, x[1]:0}) == 0)\n",
    "    \n",
    "    solver = MosekSolver()\n",
    "    result = solver.Solve(prog)\n",
    "    \n",
    "    k = result.get_solver_details().solution_status\n",
    "                \n",
    "    print(\"V solution status: \" + str(k))\n",
    "    \n",
    "    assert result.is_success()\n",
    "        \n",
    "    return result.GetSolution(V), result.GetSolution(Q)\n",
    "\n",
    "\n",
    "def problem_solver_implicit(S, V_degree):\n",
    "    prog = MathematicalProgram()\n",
    "    x = prog.NewIndeterminates(2, \"x\")\n",
    "    xd = prog.NewIndeterminates(2, \"xd\")\n",
    "        \n",
    "    g0 = xd[0] - x[1]\n",
    "    g1 = m*(length**2)*xd[1] + b*x[1] + m*grav*length*x[0]\n",
    "    \n",
    "    g = np.array([g0, g1])\n",
    "    \n",
    "    V = x.T@P@x\n",
    "    Vdot = V.Jacobian(x).dot(xd)\n",
    "    \n",
    "    V = Polynomial(V)\n",
    "    Vdot = Polynomial(Vdot)\n",
    "    \n",
    "    g_poly = []\n",
    "    for i in range(g.size):\n",
    "        g_poly.append(Polynomial(g[i]))\n",
    "        \n",
    "    g_poly = np.array(g_poly)\n",
    "    \n",
    "    display(Markdown(\"$ V(x)=\"+ToLatex(V.ToExpression(), 9)+\"$\"))\n",
    "    for i in range(200):\n",
    "        lambda_, lambda_g = find_implicit_lambdas(x, xd, V, Vdot, g_poly)\n",
    "        \n",
    "#         display(Markdown(\"$ \\lambda(x)=\"+ToLatex(lambda_.ToExpression())+\"$\"))\n",
    "#         display(Markdown(\"$ \\lambda_g(x)=\"+ToLatex(lambda_g[0].ToExpression())+\"$\"))\n",
    "#         display(Markdown(\"$ \\lambda_g(x)=\"+ToLatex(lambda_g[1].ToExpression())+\"$\"))\n",
    "#         print(alpha)\n",
    "        \n",
    "        V, Q = find_implicit_V(x, xd, lambda_, lambda_g, g_poly, V_degree)\n",
    "        \n",
    "        Vdot = V.Jacobian(x).dot(xd)\n",
    "     \n",
    "        display(Markdown(\"$ V(x)=\"+ToLatex(V.ToExpression(), 9)+\"$\"))\n",
    "        \n",
    "    return V, Q\n",
    "\n",
    "V_degree = 2\n",
    "V, Q = problem_solver_implicit(P, V_degree)"
   ]
  },
  {
   "cell_type": "code",
   "execution_count": 57,
   "metadata": {
    "scrolled": true
   },
   "outputs": [
    {
     "data": {
      "text/markdown": [
       "$V(x) = (0.050968x_{0} x_{1} + 25.785194x_{0}^{2} + 1.313710x_{1}^{2})$"
      ],
      "text/plain": [
       "<IPython.core.display.Markdown object>"
      ]
     },
     "metadata": {},
     "output_type": "display_data"
    },
    {
     "name": "stdout",
     "output_type": "stream",
     "text": [
      "Status of first solver on step 0: 1\n",
      "Status of second solver on step 0: 1\n"
     ]
    },
    {
     "data": {
      "text/markdown": [
       "$V(x) = (0.004926x_{0} x_{1} + 3.587715x_{0}^{2} + 0.182810x_{1}^{2})$"
      ],
      "text/plain": [
       "<IPython.core.display.Markdown object>"
      ]
     },
     "metadata": {},
     "output_type": "display_data"
    },
    {
     "name": "stdout",
     "output_type": "stream",
     "text": [
      "Status of first solver on step 1: 1\n",
      "Status of second solver on step 1: 1\n"
     ]
    },
    {
     "data": {
      "text/markdown": [
       "$V(x) = (0.002776x_{0} x_{1} + 2.291521x_{0}^{2} + 0.116767x_{1}^{2})$"
      ],
      "text/plain": [
       "<IPython.core.display.Markdown object>"
      ]
     },
     "metadata": {},
     "output_type": "display_data"
    },
    {
     "name": "stdout",
     "output_type": "stream",
     "text": [
      "Status of first solver on step 2: 1\n",
      "Status of second solver on step 2: 1\n"
     ]
    },
    {
     "data": {
      "text/markdown": [
       "$V(x) = (0.001750x_{0} x_{1} + 1.805002x_{0}^{2} + 0.091980x_{1}^{2})$"
      ],
      "text/plain": [
       "<IPython.core.display.Markdown object>"
      ]
     },
     "metadata": {},
     "output_type": "display_data"
    },
    {
     "name": "stdout",
     "output_type": "stream",
     "text": [
      "Status of first solver on step 3: 1\n",
      "Status of second solver on step 3: 1\n"
     ]
    },
    {
     "data": {
      "text/markdown": [
       "$V(x) = (0.001158x_{0} x_{1} + 1.559421x_{0}^{2} + 0.079469x_{1}^{2})$"
      ],
      "text/plain": [
       "<IPython.core.display.Markdown object>"
      ]
     },
     "metadata": {},
     "output_type": "display_data"
    },
    {
     "name": "stdout",
     "output_type": "stream",
     "text": [
      "Status of first solver on step 4: 1\n",
      "Status of second solver on step 4: 1\n"
     ]
    },
    {
     "data": {
      "text/markdown": [
       "$V(x) = (0.000805x_{0} x_{1} + 1.375743x_{0}^{2} + 0.070111x_{1}^{2})$"
      ],
      "text/plain": [
       "<IPython.core.display.Markdown object>"
      ]
     },
     "metadata": {},
     "output_type": "display_data"
    },
    {
     "name": "stdout",
     "output_type": "stream",
     "text": [
      "Status of first solver on step 5: 1\n",
      "Status of second solver on step 5: 1\n"
     ]
    },
    {
     "data": {
      "text/markdown": [
       "$V(x) = (0.000602x_{0} x_{1} + 1.223411x_{0}^{2} + 0.062349x_{1}^{2})$"
      ],
      "text/plain": [
       "<IPython.core.display.Markdown object>"
      ]
     },
     "metadata": {},
     "output_type": "display_data"
    },
    {
     "name": "stdout",
     "output_type": "stream",
     "text": [
      "Status of first solver on step 6: 1\n",
      "Status of second solver on step 6: 1\n"
     ]
    },
    {
     "data": {
      "text/markdown": [
       "$V(x) = (1.099266x_{0}^{2} + 0.056028x_{1}^{2})$"
      ],
      "text/plain": [
       "<IPython.core.display.Markdown object>"
      ]
     },
     "metadata": {},
     "output_type": "display_data"
    },
    {
     "name": "stdout",
     "output_type": "stream",
     "text": [
      "Status of first solver on step 7: 1\n",
      "Status of second solver on step 7: 1\n"
     ]
    },
    {
     "data": {
      "text/markdown": [
       "$V(x) = (0.994957x_{0}^{2} + 0.050711x_{1}^{2})$"
      ],
      "text/plain": [
       "<IPython.core.display.Markdown object>"
      ]
     },
     "metadata": {},
     "output_type": "display_data"
    },
    {
     "name": "stdout",
     "output_type": "stream",
     "text": [
      "Status of first solver on step 8: 1\n",
      "Status of second solver on step 8: 1\n"
     ]
    },
    {
     "data": {
      "text/markdown": [
       "$V(x) = (0.896997x_{0}^{2} + 0.045719x_{1}^{2})$"
      ],
      "text/plain": [
       "<IPython.core.display.Markdown object>"
      ]
     },
     "metadata": {},
     "output_type": "display_data"
    },
    {
     "name": "stdout",
     "output_type": "stream",
     "text": [
      "Status of first solver on step 9: 1\n",
      "Status of second solver on step 9: 1\n"
     ]
    },
    {
     "data": {
      "text/markdown": [
       "$V(x) = (0.797317x_{0}^{2} + 0.040638x_{1}^{2})$"
      ],
      "text/plain": [
       "<IPython.core.display.Markdown object>"
      ]
     },
     "metadata": {},
     "output_type": "display_data"
    },
    {
     "name": "stdout",
     "output_type": "stream",
     "text": [
      "Status of first solver on step 10: 1\n",
      "Status of second solver on step 10: 1\n"
     ]
    },
    {
     "data": {
      "text/markdown": [
       "$V(x) = (0.691967x_{0}^{2} + 0.035268x_{1}^{2})$"
      ],
      "text/plain": [
       "<IPython.core.display.Markdown object>"
      ]
     },
     "metadata": {},
     "output_type": "display_data"
    },
    {
     "name": "stdout",
     "output_type": "stream",
     "text": [
      "Status of first solver on step 11: 1\n",
      "Status of second solver on step 11: 1\n"
     ]
    },
    {
     "data": {
      "text/markdown": [
       "$V(x) = (0.603885x_{0}^{2} + 0.030779x_{1}^{2})$"
      ],
      "text/plain": [
       "<IPython.core.display.Markdown object>"
      ]
     },
     "metadata": {},
     "output_type": "display_data"
    },
    {
     "name": "stdout",
     "output_type": "stream",
     "text": [
      "Status of first solver on step 12: 1\n",
      "Status of second solver on step 12: 1\n"
     ]
    },
    {
     "data": {
      "text/markdown": [
       "$V(x) = (0.532581x_{0}^{2} + 0.027145x_{1}^{2})$"
      ],
      "text/plain": [
       "<IPython.core.display.Markdown object>"
      ]
     },
     "metadata": {},
     "output_type": "display_data"
    },
    {
     "name": "stdout",
     "output_type": "stream",
     "text": [
      "Status of first solver on step 13: 1\n",
      "Status of second solver on step 13: 1\n"
     ]
    },
    {
     "data": {
      "text/markdown": [
       "$V(x) = (0.474302x_{0}^{2} + 0.024174x_{1}^{2})$"
      ],
      "text/plain": [
       "<IPython.core.display.Markdown object>"
      ]
     },
     "metadata": {},
     "output_type": "display_data"
    },
    {
     "name": "stdout",
     "output_type": "stream",
     "text": [
      "Status of first solver on step 14: 1\n",
      "Status of second solver on step 14: 1\n"
     ]
    },
    {
     "data": {
      "text/markdown": [
       "$V(x) = (0.423681x_{0}^{2} + 0.021594x_{1}^{2})$"
      ],
      "text/plain": [
       "<IPython.core.display.Markdown object>"
      ]
     },
     "metadata": {},
     "output_type": "display_data"
    },
    {
     "name": "stdout",
     "output_type": "stream",
     "text": [
      "Status of first solver on step 15: 1\n",
      "Status of second solver on step 15: 1\n"
     ]
    },
    {
     "data": {
      "text/markdown": [
       "$V(x) = (0.373772x_{0}^{2} + 0.019051x_{1}^{2})$"
      ],
      "text/plain": [
       "<IPython.core.display.Markdown object>"
      ]
     },
     "metadata": {},
     "output_type": "display_data"
    },
    {
     "name": "stdout",
     "output_type": "stream",
     "text": [
      "Status of first solver on step 16: 1\n",
      "Status of second solver on step 16: 1\n"
     ]
    },
    {
     "data": {
      "text/markdown": [
       "$V(x) = (0.332566x_{0}^{2} + 0.016950x_{1}^{2})$"
      ],
      "text/plain": [
       "<IPython.core.display.Markdown object>"
      ]
     },
     "metadata": {},
     "output_type": "display_data"
    },
    {
     "name": "stdout",
     "output_type": "stream",
     "text": [
      "Status of first solver on step 17: 1\n",
      "Status of second solver on step 17: 1\n"
     ]
    },
    {
     "data": {
      "text/markdown": [
       "$V(x) = (0.297182x_{0}^{2} + 0.015147x_{1}^{2})$"
      ],
      "text/plain": [
       "<IPython.core.display.Markdown object>"
      ]
     },
     "metadata": {},
     "output_type": "display_data"
    },
    {
     "name": "stdout",
     "output_type": "stream",
     "text": [
      "Status of first solver on step 18: 1\n",
      "Status of second solver on step 18: 1\n"
     ]
    },
    {
     "data": {
      "text/markdown": [
       "$V(x) = (0.266463x_{0}^{2} + 0.013581x_{1}^{2})$"
      ],
      "text/plain": [
       "<IPython.core.display.Markdown object>"
      ]
     },
     "metadata": {},
     "output_type": "display_data"
    },
    {
     "name": "stdout",
     "output_type": "stream",
     "text": [
      "Status of first solver on step 19: 1\n",
      "Status of second solver on step 19: 1\n"
     ]
    },
    {
     "data": {
      "text/markdown": [
       "$V(x) = 0$"
      ],
      "text/plain": [
       "<IPython.core.display.Markdown object>"
      ]
     },
     "metadata": {},
     "output_type": "display_data"
    }
   ],
   "source": [
    "#THIS CODE WORKS\n",
    "from pydrake.solvers.mathematicalprogram import MathematicalProgram, SolverOptions, Solve\n",
    "from pydrake.solvers.csdp import CsdpSolver\n",
    "from pydrake.solvers.mosek import MosekSolver\n",
    "\n",
    "def findLambda(x, V, Vdot, count):\n",
    "    prog = MathematicalProgram()\n",
    "    prog.AddIndeterminates(x)\n",
    "    \n",
    "    #V = Polynomial(V).RemoveTermsWithSmallCoefficients(1e-5).ToExpression()\n",
    "    \n",
    "    lambda_ = prog.NewSosPolynomial(Variables(x), 2)[0].ToExpression()\n",
    "        \n",
    "    prog.AddSosConstraint(-Vdot - lambda_*(1 - V))\n",
    "    prog.AddSosConstraint(lambda_)\n",
    "    \n",
    "    solver = MosekSolver()\n",
    "    result = solver.Solve(prog)\n",
    "    \n",
    "    k = result.get_solver_details().solution_status\n",
    "        \n",
    "    print('Status of first solver on step ' + str(count) + ': ' + str(k))\n",
    "    assert result.is_success()\n",
    "    \n",
    "    return result.GetSolution(lambda_)\n",
    "\n",
    "\n",
    "def findV(x, lambda_, f, count):\n",
    "    prog = MathematicalProgram()\n",
    "    prog.AddIndeterminates(x)\n",
    "    \n",
    "    lambda_ = Polynomial(lambda_).RemoveTermsWithSmallCoefficients(1e-2).ToExpression()\n",
    "        \n",
    "    temp, Q = prog.NewSosPolynomial(Variables(x), 2)\n",
    "    V = temp.ToExpression()\n",
    "            \n",
    "    prog.AddLinearConstraint(V.Substitute({x[0]: 0, x[1]:0}) == 0)\n",
    "    \n",
    "    Vdot = V.Jacobian(x).dot(f)\n",
    "    \n",
    "    prog.AddSosConstraint(-Vdot - lambda_*(1 - V))\n",
    "    \n",
    "#     prog.AddSosConstraint(np.trace(Q))\n",
    "    \n",
    "    A = Q[0, 0]\n",
    "    B = 2*Q[1, 0]\n",
    "    C = Q[1, 1]\n",
    "    \n",
    "    prog.AddCost(A)\n",
    "    prog.AddCost(C)\n",
    "    prog.AddCost(-B)\n",
    "    \n",
    "    solver = MosekSolver()\n",
    "    result = solver.Solve(prog)\n",
    "        \n",
    "    k = result.get_solver_details().solution_status\n",
    "                \n",
    "    print('Status of second solver on step ' + str(count) + ': ' + str(k))\n",
    "    assert result.is_success()\n",
    "    \n",
    "    return result.GetSolution(V), result.GetSolution(Q)\n",
    "\n",
    "def setup_solver():  \n",
    "    count = 0\n",
    "    prog = MathematicalProgram()\n",
    "    x = prog.NewIndeterminates(2, \"x\")\n",
    "    \n",
    "    f0 = x[1]\n",
    "    f1 = (-b/(m*length**2))*x[1] - (grav/length)*(x[0])\n",
    "    \n",
    "    f = np.array([f0, f1])\n",
    "    \n",
    "    V = x.T@P@x\n",
    "    \n",
    "    display(Markdown(\"$V(x) = \" + ToLatex(\n",
    "    Polynomial(V).RemoveTermsWithSmallCoefficients(1e-5).ToExpression(),6) + \"$\"))\n",
    "        \n",
    "    #Vdot = x.T@P@A@x + x.T@A.T@P@x\n",
    "    Vdot = V.Jacobian(x).dot(f)\n",
    "    \n",
    "    for i in range(20): \n",
    "        lambda_ = findLambda(x, V, Vdot, count)\n",
    "        \n",
    "#         display(Markdown(\"$\\lambda (x) = \" + ToLatex(\n",
    "#         Polynomial(lambda_).RemoveTermsWithSmallCoefficients(1e-5).ToExpression(),6) + \"$\"))\n",
    "        \n",
    "        V, Q = findV(x, lambda_, f, count)\n",
    "        \n",
    "        display(Markdown(\"$V(x) = \" + ToLatex(\n",
    "        Polynomial(V).RemoveTermsWithSmallCoefficients(1e-5).ToExpression(),6) + \"$\"))\n",
    "        \n",
    "        Vdot = V.Jacobian(x).dot(f)\n",
    "        \n",
    "        count += 1\n",
    "    return V, Q\n",
    "    \n",
    "    \n",
    "V, Q = setup_solver()"
   ]
  },
  {
   "cell_type": "markdown",
   "metadata": {},
   "source": [
    "### Pendulum Upright Example\n",
    "Goal is to stabalize the pendulum in the upward position and certify the region of stability using Lyapunov analysis after we have found the controller.  \n",
    "\n",
    "For this we first need to do a change or coordinates: $\\tilde{\\theta} = \\theta - \\pi$ \n",
    "\n",
    "The dynamics now become: \n",
    "$ml^2\\ddot{\\tilde{\\theta}} + b\\dot{\\tilde{\\theta}} - mgl\\sin{\\tilde{\\theta}} = 0$\n",
    "\n",
    "Here $\\theta$ is the angle with the vertical when in the downward position as defined by default in Drake"
   ]
  },
  {
   "cell_type": "code",
   "execution_count": 65,
   "metadata": {},
   "outputs": [],
   "source": [
    "p = PendulumParams()\n",
    "\n",
    "# Add the Linearization\n",
    "A = np.array([[0, 1], [p.mass()*p.gravity()*p.length(), -p.damping()]])\n",
    "B = np.array([[0], [1]])\n",
    "E = np.array([[1, 0], [0, p.mass()*p.length()*p.length()]])\n",
    "\n",
    "# Add LQR Costs\n",
    "Q = np.diag([10, 1])\n",
    "R = [1]\n",
    "\n",
    "# matrix needed for algorithm\n",
    "S = np.array([[0], [0]])"
   ]
  },
  {
   "cell_type": "code",
   "execution_count": 66,
   "metadata": {},
   "outputs": [],
   "source": [
    "# solve the generalized care\n",
    "X, L, G = control.care(A, B, Q, R, S, E)"
   ]
  },
  {
   "cell_type": "code",
   "execution_count": 67,
   "metadata": {},
   "outputs": [
    {
     "data": {
      "text/plain": [
       "array([[10.74101105,  2.42596626]])"
      ]
     },
     "execution_count": 67,
     "metadata": {},
     "output_type": "execute_result"
    }
   ],
   "source": [
    "# G = R^-1B^TXE is the gain matrix to become A - BG for closed loop\n",
    "G"
   ]
  },
  {
   "cell_type": "markdown",
   "metadata": {},
   "source": [
    "To do Lyapunov analysis: close the loop and solve the linear Lyapunov equation. Then, use the dynamics to find the ROA"
   ]
  },
  {
   "cell_type": "code",
   "execution_count": 68,
   "metadata": {},
   "outputs": [],
   "source": [
    "A_closed = A - B@G\n",
    "\n",
    "Q_ly = np.eye(2)\n",
    "P = control.lyap(A_closed.T, Q_ly, E = E.T)\n",
    "candidate_matrix = E.T@P@E"
   ]
  },
  {
   "cell_type": "markdown",
   "metadata": {},
   "source": [
    "u = -Gx. Remember to add this to the dynamics equations in the SOS program"
   ]
  },
  {
   "cell_type": "code",
   "execution_count": 81,
   "metadata": {},
   "outputs": [
    {
     "data": {
      "text/markdown": [
       "$ V(x)=(0.042837479x_{0} x_{1} + 1.421101750x_{0}^{2} + 0.051605869x_{1}^{2})$"
      ],
      "text/plain": [
       "<IPython.core.display.Markdown object>"
      ]
     },
     "metadata": {},
     "output_type": "display_data"
    },
    {
     "name": "stdout",
     "output_type": "stream",
     "text": [
      "Lambda solution status: 1\n",
      "V solution status: 1\n"
     ]
    },
    {
     "data": {
      "text/markdown": [
       "$ V(x)=(0.000000000 - 0.000000000x_{0} - 0.000000000x_{1} + 0.056976379x_{0} x_{1} + 1.135005532x_{0}^{2} + 0.041001326x_{1}^{2})$"
      ],
      "text/plain": [
       "<IPython.core.display.Markdown object>"
      ]
     },
     "metadata": {},
     "output_type": "display_data"
    },
    {
     "name": "stdout",
     "output_type": "stream",
     "text": [
      "Lambda solution status: 1\n",
      "V solution status: 1\n"
     ]
    },
    {
     "data": {
      "text/markdown": [
       "$ V(x)=(0.000000000 + 0.000000000x_{0} + 0.000000000x_{1} + 0.060421048x_{0} x_{1} + 0.925917515x_{0}^{2} + 0.031651785x_{1}^{2})$"
      ],
      "text/plain": [
       "<IPython.core.display.Markdown object>"
      ]
     },
     "metadata": {},
     "output_type": "display_data"
    },
    {
     "name": "stdout",
     "output_type": "stream",
     "text": [
      "Lambda solution status: 1\n",
      "V solution status: 1\n"
     ]
    },
    {
     "data": {
      "text/markdown": [
       "$ V(x)=(0.000000000 + 0.000000000x_{0} + 0.000000000x_{1} + 0.056922190x_{0} x_{1} + 0.769096334x_{0}^{2} + 0.023985190x_{1}^{2})$"
      ],
      "text/plain": [
       "<IPython.core.display.Markdown object>"
      ]
     },
     "metadata": {},
     "output_type": "display_data"
    },
    {
     "name": "stdout",
     "output_type": "stream",
     "text": [
      "Lambda solution status: 1\n",
      "V solution status: 1\n"
     ]
    },
    {
     "data": {
      "text/markdown": [
       "$ V(x)=(0.000000000 - 0.000000000x_{0} - 0.000000000x_{1} + 0.050403414x_{0} x_{1} + 0.649861370x_{0}^{2} + 0.018309298x_{1}^{2})$"
      ],
      "text/plain": [
       "<IPython.core.display.Markdown object>"
      ]
     },
     "metadata": {},
     "output_type": "display_data"
    },
    {
     "name": "stdout",
     "output_type": "stream",
     "text": [
      "Lambda solution status: 1\n",
      "V solution status: 1\n"
     ]
    },
    {
     "data": {
      "text/markdown": [
       "$ V(x)=(0.000000000 + 0.000000000x_{0} + 0.000000000x_{1} + 0.043212809x_{0} x_{1} + 0.553862056x_{0}^{2} + 0.014060976x_{1}^{2})$"
      ],
      "text/plain": [
       "<IPython.core.display.Markdown object>"
      ]
     },
     "metadata": {},
     "output_type": "display_data"
    },
    {
     "name": "stdout",
     "output_type": "stream",
     "text": [
      "Lambda solution status: 1\n",
      "V solution status: 1\n"
     ]
    },
    {
     "data": {
      "text/markdown": [
       "$ V(x)=(0.000000000 - 0.000000000x_{0} - 0.000000000x_{1} + 0.036286320x_{0} x_{1} + 0.473255321x_{0}^{2} + 0.010863080x_{1}^{2})$"
      ],
      "text/plain": [
       "<IPython.core.display.Markdown object>"
      ]
     },
     "metadata": {},
     "output_type": "display_data"
    },
    {
     "name": "stdout",
     "output_type": "stream",
     "text": [
      "Lambda solution status: 1\n",
      "V solution status: 1\n"
     ]
    },
    {
     "data": {
      "text/markdown": [
       "$ V(x)=(0.000000000 - 0.000000000x_{0} - 0.000000000x_{1} + 0.030012540x_{0} x_{1} + 0.403839586x_{0}^{2} + 0.008465411x_{1}^{2})$"
      ],
      "text/plain": [
       "<IPython.core.display.Markdown object>"
      ]
     },
     "metadata": {},
     "output_type": "display_data"
    },
    {
     "name": "stdout",
     "output_type": "stream",
     "text": [
      "Lambda solution status: 1\n",
      "V solution status: 1\n"
     ]
    },
    {
     "data": {
      "text/markdown": [
       "$ V(x)=(0.000000000 - 0.000000000x_{0} - 0.000000000x_{1} + 0.024555960x_{0} x_{1} + 0.343850058x_{0}^{2} + 0.006643291x_{1}^{2})$"
      ],
      "text/plain": [
       "<IPython.core.display.Markdown object>"
      ]
     },
     "metadata": {},
     "output_type": "display_data"
    },
    {
     "name": "stdout",
     "output_type": "stream",
     "text": [
      "Lambda solution status: 1\n",
      "V solution status: 1\n"
     ]
    },
    {
     "data": {
      "text/markdown": [
       "$ V(x)=(0.000000000 - 0.000000000x_{0} - 0.000000000x_{1} + 0.019970783x_{0} x_{1} + 0.293528161x_{0}^{2} + 0.005284848x_{1}^{2})$"
      ],
      "text/plain": [
       "<IPython.core.display.Markdown object>"
      ]
     },
     "metadata": {},
     "output_type": "display_data"
    },
    {
     "name": "stdout",
     "output_type": "stream",
     "text": [
      "Lambda solution status: 1\n",
      "V solution status: 1\n"
     ]
    },
    {
     "data": {
      "text/markdown": [
       "$ V(x)=(0.000000000 - 0.000000000x_{0} - 0.000000000x_{1} + 0.016189655x_{0} x_{1} + 0.251424462x_{0}^{2} + 0.004257291x_{1}^{2})$"
      ],
      "text/plain": [
       "<IPython.core.display.Markdown object>"
      ]
     },
     "metadata": {},
     "output_type": "display_data"
    },
    {
     "name": "stdout",
     "output_type": "stream",
     "text": [
      "Lambda solution status: 1\n",
      "V solution status: 1\n"
     ]
    },
    {
     "data": {
      "text/markdown": [
       "$ V(x)=(0.000000000 - 0.000000000x_{0} - 0.000000000x_{1} + 0.013130357x_{0} x_{1} + 0.215476953x_{0}^{2} + 0.003468343x_{1}^{2})$"
      ],
      "text/plain": [
       "<IPython.core.display.Markdown object>"
      ]
     },
     "metadata": {},
     "output_type": "display_data"
    },
    {
     "name": "stdout",
     "output_type": "stream",
     "text": [
      "Lambda solution status: 1\n",
      "V solution status: 1\n"
     ]
    },
    {
     "data": {
      "text/markdown": [
       "$ V(x)=(0.000000000 + 0.000000000x_{0} + 0.000000000x_{1} + 0.010636233x_{0} x_{1} + 0.183729983x_{0}^{2} + 0.002852352x_{1}^{2})$"
      ],
      "text/plain": [
       "<IPython.core.display.Markdown object>"
      ]
     },
     "metadata": {},
     "output_type": "display_data"
    },
    {
     "name": "stdout",
     "output_type": "stream",
     "text": [
      "Lambda solution status: 1\n",
      "V solution status: 1\n"
     ]
    },
    {
     "data": {
      "text/markdown": [
       "$ V(x)=(0.000000000 + 0.000000000x_{0} + 0.000000000x_{1} + 0.008628086x_{0} x_{1} + 0.155851764x_{0}^{2} + 0.002363140x_{1}^{2})$"
      ],
      "text/plain": [
       "<IPython.core.display.Markdown object>"
      ]
     },
     "metadata": {},
     "output_type": "display_data"
    },
    {
     "name": "stdout",
     "output_type": "stream",
     "text": [
      "Lambda solution status: 1\n",
      "V solution status: 1\n"
     ]
    },
    {
     "data": {
      "text/markdown": [
       "$ V(x)=(0.000000000 + 0.000000000x_{0} + 0.000000000x_{1} + 0.007097415x_{0} x_{1} + 0.132092349x_{0}^{2} + 0.001966576x_{1}^{2})$"
      ],
      "text/plain": [
       "<IPython.core.display.Markdown object>"
      ]
     },
     "metadata": {},
     "output_type": "display_data"
    },
    {
     "name": "stdout",
     "output_type": "stream",
     "text": [
      "Lambda solution status: 1\n",
      "V solution status: 1\n"
     ]
    },
    {
     "data": {
      "text/markdown": [
       "$ V(x)=(0.000000000 - 0.000000000x_{0} - 0.000000000x_{1} + 0.005872579x_{0} x_{1} + 0.110655000x_{0}^{2} + 0.001622384x_{1}^{2})$"
      ],
      "text/plain": [
       "<IPython.core.display.Markdown object>"
      ]
     },
     "metadata": {},
     "output_type": "display_data"
    },
    {
     "name": "stdout",
     "output_type": "stream",
     "text": [
      "Lambda solution status: 1\n",
      "V solution status: 1\n"
     ]
    },
    {
     "data": {
      "text/markdown": [
       "$ V(x)=(0.000000000 + 0.000000000x_{0} + 0.000000000x_{1} + 0.004807931x_{0} x_{1} + 0.088171814x_{0}^{2} + 0.001295260x_{1}^{2})$"
      ],
      "text/plain": [
       "<IPython.core.display.Markdown object>"
      ]
     },
     "metadata": {},
     "output_type": "display_data"
    },
    {
     "name": "stdout",
     "output_type": "stream",
     "text": [
      "Lambda solution status: 1\n",
      "V solution status: 1\n"
     ]
    },
    {
     "data": {
      "text/markdown": [
       "$ V(x)=(0.000000000 - 0.000000000x_{0} - 0.000000000x_{1} + 0.004024843x_{0} x_{1} + 0.071022121x_{0}^{2} + 0.001031690x_{1}^{2})$"
      ],
      "text/plain": [
       "<IPython.core.display.Markdown object>"
      ]
     },
     "metadata": {},
     "output_type": "display_data"
    },
    {
     "name": "stdout",
     "output_type": "stream",
     "text": [
      "Lambda solution status: 1\n",
      "V solution status: 1\n"
     ]
    },
    {
     "data": {
      "text/markdown": [
       "$ V(x)=(0.000000000 + 0.000000000x_{0} - 0.000000000x_{1} + 0.003399505x_{0} x_{1} + 0.059473803x_{0}^{2} + 0.000914733x_{1}^{2})$"
      ],
      "text/plain": [
       "<IPython.core.display.Markdown object>"
      ]
     },
     "metadata": {},
     "output_type": "display_data"
    },
    {
     "name": "stdout",
     "output_type": "stream",
     "text": [
      "Lambda solution status: 1\n",
      "V solution status: 1\n"
     ]
    },
    {
     "data": {
      "text/markdown": [
       "$ V(x)=(0.000000000 - 0.000000000x_{0} + 0.000000000x_{1} + 0.002917510x_{0} x_{1} + 0.052128518x_{0}^{2} + 0.000872398x_{1}^{2})$"
      ],
      "text/plain": [
       "<IPython.core.display.Markdown object>"
      ]
     },
     "metadata": {},
     "output_type": "display_data"
    },
    {
     "name": "stdout",
     "output_type": "stream",
     "text": [
      "Lambda solution status: 1\n",
      "V solution status: 1\n"
     ]
    },
    {
     "data": {
      "text/markdown": [
       "$ V(x)=(0.000000000 + 0.000000000x_{0} - 0.000000000x_{1} + 0.002543349x_{0} x_{1} + 0.047451129x_{0}^{2} + 0.000860054x_{1}^{2})$"
      ],
      "text/plain": [
       "<IPython.core.display.Markdown object>"
      ]
     },
     "metadata": {},
     "output_type": "display_data"
    },
    {
     "name": "stdout",
     "output_type": "stream",
     "text": [
      "Lambda solution status: 1\n",
      "V solution status: 1\n"
     ]
    },
    {
     "data": {
      "text/markdown": [
       "$ V(x)=(0.000000000 - 0.000000000x_{0} + 0.000000000x_{1} + 0.002257850x_{0} x_{1} + 0.044686667x_{0}^{2} + 0.000862168x_{1}^{2})$"
      ],
      "text/plain": [
       "<IPython.core.display.Markdown object>"
      ]
     },
     "metadata": {},
     "output_type": "display_data"
    },
    {
     "name": "stdout",
     "output_type": "stream",
     "text": [
      "Lambda solution status: 1\n",
      "V solution status: 1\n"
     ]
    },
    {
     "data": {
      "text/markdown": [
       "$ V(x)=(0.000000000 + 0.000000000x_{0} - 0.000000000x_{1} + 0.002034778x_{0} x_{1} + 0.043648846x_{0}^{2} + 0.000883950x_{1}^{2})$"
      ],
      "text/plain": [
       "<IPython.core.display.Markdown object>"
      ]
     },
     "metadata": {},
     "output_type": "display_data"
    },
    {
     "name": "stdout",
     "output_type": "stream",
     "text": [
      "Lambda solution status: 1\n",
      "V solution status: 1\n"
     ]
    },
    {
     "data": {
      "text/markdown": [
       "$ V(x)=(0.000000000 - 0.000000000x_{0} + 0.000000000x_{1} + 0.001861636x_{0} x_{1} + 0.042934708x_{0}^{2} + 0.000878677x_{1}^{2})$"
      ],
      "text/plain": [
       "<IPython.core.display.Markdown object>"
      ]
     },
     "metadata": {},
     "output_type": "display_data"
    },
    {
     "name": "stdout",
     "output_type": "stream",
     "text": [
      "Lambda solution status: 1\n",
      "V solution status: 1\n"
     ]
    },
    {
     "data": {
      "text/markdown": [
       "$ V(x)=(0.000000000 - 0.000000000x_{0} + 0.000000000x_{1} + 0.001719759x_{0} x_{1} + 0.042786495x_{0}^{2} + 0.000873441x_{1}^{2})$"
      ],
      "text/plain": [
       "<IPython.core.display.Markdown object>"
      ]
     },
     "metadata": {},
     "output_type": "display_data"
    },
    {
     "name": "stdout",
     "output_type": "stream",
     "text": [
      "Lambda solution status: 1\n",
      "V solution status: 1\n"
     ]
    },
    {
     "data": {
      "text/markdown": [
       "$ V(x)=(0.000000000 + 0.000000000x_{0} - 0.000000000x_{1} + 0.001602058x_{0} x_{1} + 0.042741549x_{0}^{2} + 0.000862836x_{1}^{2})$"
      ],
      "text/plain": [
       "<IPython.core.display.Markdown object>"
      ]
     },
     "metadata": {},
     "output_type": "display_data"
    },
    {
     "name": "stdout",
     "output_type": "stream",
     "text": [
      "Lambda solution status: 1\n",
      "V solution status: 1\n"
     ]
    },
    {
     "data": {
      "text/markdown": [
       "$ V(x)=(0.000000000 - 0.000000000x_{0} + 0.000000000x_{1} + 0.001502255x_{0} x_{1} + 0.042871417x_{0}^{2} + 0.000856417x_{1}^{2})$"
      ],
      "text/plain": [
       "<IPython.core.display.Markdown object>"
      ]
     },
     "metadata": {},
     "output_type": "display_data"
    },
    {
     "name": "stdout",
     "output_type": "stream",
     "text": [
      "Lambda solution status: 1\n",
      "V solution status: 1\n"
     ]
    },
    {
     "data": {
      "text/markdown": [
       "$ V(x)=(0.000000000 + 0.000000000x_{0} - 0.000000000x_{1} + 0.001417865x_{0} x_{1} + 0.043044069x_{0}^{2} + 0.000851028x_{1}^{2})$"
      ],
      "text/plain": [
       "<IPython.core.display.Markdown object>"
      ]
     },
     "metadata": {},
     "output_type": "display_data"
    },
    {
     "name": "stdout",
     "output_type": "stream",
     "text": [
      "Lambda solution status: 1\n",
      "V solution status: 1\n"
     ]
    },
    {
     "data": {
      "text/markdown": [
       "$ V(x)=(0.000000000 + 0.000000000x_{0} - 0.000000000x_{1} + 0.001346889x_{0} x_{1} + 0.043249691x_{0}^{2} + 0.000847612x_{1}^{2})$"
      ],
      "text/plain": [
       "<IPython.core.display.Markdown object>"
      ]
     },
     "metadata": {},
     "output_type": "display_data"
    },
    {
     "name": "stdout",
     "output_type": "stream",
     "text": [
      "Lambda solution status: 1\n",
      "V solution status: 1\n"
     ]
    },
    {
     "data": {
      "text/markdown": [
       "$ V(x)=(0.000000000 - 0.000000000x_{0} + 0.000000000x_{1} + 0.001287573x_{0} x_{1} + 0.043468828x_{0}^{2} + 0.000845404x_{1}^{2})$"
      ],
      "text/plain": [
       "<IPython.core.display.Markdown object>"
      ]
     },
     "metadata": {},
     "output_type": "display_data"
    },
    {
     "name": "stdout",
     "output_type": "stream",
     "text": [
      "Lambda solution status: 1\n",
      "V solution status: 1\n"
     ]
    },
    {
     "data": {
      "text/markdown": [
       "$ V(x)=(0.000000000 - 0.000000000x_{0} + 0.000000000x_{1} + 0.001239460x_{0} x_{1} + 0.043591773x_{0}^{2} + 0.000841154x_{1}^{2})$"
      ],
      "text/plain": [
       "<IPython.core.display.Markdown object>"
      ]
     },
     "metadata": {},
     "output_type": "display_data"
    },
    {
     "name": "stdout",
     "output_type": "stream",
     "text": [
      "Lambda solution status: 1\n",
      "V solution status: 1\n"
     ]
    },
    {
     "data": {
      "text/markdown": [
       "$ V(x)=(0.000000000 - 0.000000000x_{0} + 0.000000000x_{1} + 0.001201401x_{0} x_{1} + 0.043707019x_{0}^{2} + 0.000838558x_{1}^{2})$"
      ],
      "text/plain": [
       "<IPython.core.display.Markdown object>"
      ]
     },
     "metadata": {},
     "output_type": "display_data"
    },
    {
     "name": "stdout",
     "output_type": "stream",
     "text": [
      "Lambda solution status: 1\n",
      "V solution status: 1\n"
     ]
    },
    {
     "data": {
      "text/markdown": [
       "$ V(x)=(0.000000000 - 0.000000000x_{0} + 0.000000000x_{1} + 0.001171390x_{0} x_{1} + 0.043782028x_{0}^{2} + 0.000835775x_{1}^{2})$"
      ],
      "text/plain": [
       "<IPython.core.display.Markdown object>"
      ]
     },
     "metadata": {},
     "output_type": "display_data"
    },
    {
     "name": "stdout",
     "output_type": "stream",
     "text": [
      "Lambda solution status: 1\n",
      "V solution status: 1\n"
     ]
    },
    {
     "data": {
      "text/markdown": [
       "$ V(x)=(0.000000000 - 0.000000000x_{0} + 0.000000000x_{1} + 0.001147839x_{0} x_{1} + 0.043875754x_{0}^{2} + 0.000835105x_{1}^{2})$"
      ],
      "text/plain": [
       "<IPython.core.display.Markdown object>"
      ]
     },
     "metadata": {},
     "output_type": "display_data"
    },
    {
     "name": "stdout",
     "output_type": "stream",
     "text": [
      "Lambda solution status: 1\n",
      "V solution status: 1\n"
     ]
    },
    {
     "data": {
      "text/markdown": [
       "$ V(x)=(0.000000000 + 0.000000000x_{0} - 0.000000000x_{1} + 0.001128653x_{0} x_{1} + 0.044004973x_{0}^{2} + 0.000836093x_{1}^{2})$"
      ],
      "text/plain": [
       "<IPython.core.display.Markdown object>"
      ]
     },
     "metadata": {},
     "output_type": "display_data"
    },
    {
     "name": "stdout",
     "output_type": "stream",
     "text": [
      "Lambda solution status: 1\n",
      "V solution status: 1\n"
     ]
    },
    {
     "data": {
      "text/markdown": [
       "$ V(x)=(0.000000000 - 0.000000000x_{0} + 0.000000000x_{1} + 0.001113191x_{0} x_{1} + 0.044134584x_{0}^{2} + 0.000837613x_{1}^{2})$"
      ],
      "text/plain": [
       "<IPython.core.display.Markdown object>"
      ]
     },
     "metadata": {},
     "output_type": "display_data"
    },
    {
     "name": "stdout",
     "output_type": "stream",
     "text": [
      "Lambda solution status: 1\n",
      "V solution status: 1\n"
     ]
    },
    {
     "data": {
      "text/markdown": [
       "$ V(x)=(0.000000000 - 0.000000000x_{0} + 0.000000000x_{1} + 0.001100370x_{0} x_{1} + 0.044283582x_{0}^{2} + 0.000840145x_{1}^{2})$"
      ],
      "text/plain": [
       "<IPython.core.display.Markdown object>"
      ]
     },
     "metadata": {},
     "output_type": "display_data"
    },
    {
     "name": "stdout",
     "output_type": "stream",
     "text": [
      "Lambda solution status: 1\n",
      "V solution status: 1\n"
     ]
    },
    {
     "data": {
      "text/markdown": [
       "$ V(x)=(0.000000000 + 0.000000000x_{0} - 0.000000000x_{1} + 0.001090306x_{0} x_{1} + 0.044396846x_{0}^{2} + 0.000841975x_{1}^{2})$"
      ],
      "text/plain": [
       "<IPython.core.display.Markdown object>"
      ]
     },
     "metadata": {},
     "output_type": "display_data"
    },
    {
     "name": "stdout",
     "output_type": "stream",
     "text": [
      "Lambda solution status: 1\n",
      "V solution status: 1\n"
     ]
    },
    {
     "data": {
      "text/markdown": [
       "$ V(x)=(0.000000000 - 0.000000000x_{0} + 0.000000000x_{1} + 0.001081820x_{0} x_{1} + 0.044522837x_{0}^{2} + 0.000844455x_{1}^{2})$"
      ],
      "text/plain": [
       "<IPython.core.display.Markdown object>"
      ]
     },
     "metadata": {},
     "output_type": "display_data"
    },
    {
     "name": "stdout",
     "output_type": "stream",
     "text": [
      "Lambda solution status: 1\n",
      "V solution status: 1\n"
     ]
    },
    {
     "data": {
      "text/markdown": [
       "$ V(x)=(0.000000000 - 0.000000000x_{0} + 0.000000000x_{1} + 0.001074587x_{0} x_{1} + 0.044664513x_{0}^{2} + 0.000847566x_{1}^{2})$"
      ],
      "text/plain": [
       "<IPython.core.display.Markdown object>"
      ]
     },
     "metadata": {},
     "output_type": "display_data"
    },
    {
     "name": "stdout",
     "output_type": "stream",
     "text": [
      "Lambda solution status: 1\n",
      "V solution status: 1\n"
     ]
    },
    {
     "data": {
      "text/markdown": [
       "$ V(x)=(0.000000000 - 0.000000000x_{0} + 0.000000000x_{1} + 0.001068387x_{0} x_{1} + 0.044821750x_{0}^{2} + 0.000851245x_{1}^{2})$"
      ],
      "text/plain": [
       "<IPython.core.display.Markdown object>"
      ]
     },
     "metadata": {},
     "output_type": "display_data"
    },
    {
     "name": "stdout",
     "output_type": "stream",
     "text": [
      "Lambda solution status: 1\n",
      "V solution status: 1\n"
     ]
    },
    {
     "data": {
      "text/markdown": [
       "$ V(x)=(0.000000000 - 0.000000000x_{0} + 0.000000000x_{1} + 0.001062999x_{0} x_{1} + 0.044992717x_{0}^{2} + 0.000855392x_{1}^{2})$"
      ],
      "text/plain": [
       "<IPython.core.display.Markdown object>"
      ]
     },
     "metadata": {},
     "output_type": "display_data"
    },
    {
     "name": "stdout",
     "output_type": "stream",
     "text": [
      "Lambda solution status: 1\n",
      "V solution status: 1\n"
     ]
    },
    {
     "data": {
      "text/markdown": [
       "$ V(x)=(0.000000000 + 0.000000000x_{0} - 0.000000000x_{1} + 0.001058334x_{0} x_{1} + 0.045175180x_{0}^{2} + 0.000859957x_{1}^{2})$"
      ],
      "text/plain": [
       "<IPython.core.display.Markdown object>"
      ]
     },
     "metadata": {},
     "output_type": "display_data"
    },
    {
     "name": "stdout",
     "output_type": "stream",
     "text": [
      "Lambda solution status: 1\n",
      "V solution status: 1\n"
     ]
    },
    {
     "data": {
      "text/markdown": [
       "$ V(x)=(0.000000000 - 0.000000000x_{0} + 0.000000000x_{1} + 0.001054295x_{0} x_{1} + 0.045368304x_{0}^{2} + 0.000864885x_{1}^{2})$"
      ],
      "text/plain": [
       "<IPython.core.display.Markdown object>"
      ]
     },
     "metadata": {},
     "output_type": "display_data"
    },
    {
     "name": "stdout",
     "output_type": "stream",
     "text": [
      "Lambda solution status: 1\n",
      "V solution status: 1\n"
     ]
    },
    {
     "data": {
      "text/markdown": [
       "$ V(x)=(0.000000000 + 0.000000000x_{0} - 0.000000000x_{1} + 0.001050766x_{0} x_{1} + 0.045569691x_{0}^{2} + 0.000870131x_{1}^{2})$"
      ],
      "text/plain": [
       "<IPython.core.display.Markdown object>"
      ]
     },
     "metadata": {},
     "output_type": "display_data"
    },
    {
     "name": "stdout",
     "output_type": "stream",
     "text": [
      "Lambda solution status: 1\n",
      "V solution status: 1\n"
     ]
    },
    {
     "data": {
      "text/markdown": [
       "$ V(x)=(0.000000000 - 0.000000000x_{0} + 0.000000000x_{1} + 0.001047690x_{0} x_{1} + 0.045779168x_{0}^{2} + 0.000875664x_{1}^{2})$"
      ],
      "text/plain": [
       "<IPython.core.display.Markdown object>"
      ]
     },
     "metadata": {},
     "output_type": "display_data"
    },
    {
     "name": "stdout",
     "output_type": "stream",
     "text": [
      "Lambda solution status: 1\n",
      "V solution status: 1\n"
     ]
    },
    {
     "data": {
      "text/markdown": [
       "$ V(x)=(0.000000000 + 0.000000000x_{0} - 0.000000000x_{1} + 0.001045002x_{0} x_{1} + 0.045995233x_{0}^{2} + 0.000881428x_{1}^{2})$"
      ],
      "text/plain": [
       "<IPython.core.display.Markdown object>"
      ]
     },
     "metadata": {},
     "output_type": "display_data"
    },
    {
     "name": "stdout",
     "output_type": "stream",
     "text": [
      "Lambda solution status: 1\n",
      "V solution status: 7\n"
     ]
    },
    {
     "ename": "AssertionError",
     "evalue": "",
     "output_type": "error",
     "traceback": [
      "\u001b[0;31m---------------------------------------------------------------------------\u001b[0m",
      "\u001b[0;31mAssertionError\u001b[0m                            Traceback (most recent call last)",
      "\u001b[0;32m<ipython-input-81-01988540032a>\u001b[0m in \u001b[0;36m<module>\u001b[0;34m\u001b[0m\n\u001b[1;32m    116\u001b[0m \u001b[0;34m\u001b[0m\u001b[0m\n\u001b[1;32m    117\u001b[0m \u001b[0mV_degree\u001b[0m \u001b[0;34m=\u001b[0m \u001b[0;36m2\u001b[0m\u001b[0;34m\u001b[0m\u001b[0;34m\u001b[0m\u001b[0m\n\u001b[0;32m--> 118\u001b[0;31m \u001b[0mV\u001b[0m\u001b[0;34m,\u001b[0m \u001b[0mQ\u001b[0m \u001b[0;34m=\u001b[0m \u001b[0mproblem_solver_implicit\u001b[0m\u001b[0;34m(\u001b[0m\u001b[0mcandidate_matrix\u001b[0m\u001b[0;34m,\u001b[0m \u001b[0mV_degree\u001b[0m\u001b[0;34m,\u001b[0m \u001b[0mG\u001b[0m\u001b[0;34m)\u001b[0m\u001b[0;34m\u001b[0m\u001b[0;34m\u001b[0m\u001b[0m\n\u001b[0m",
      "\u001b[0;32m<ipython-input-81-01988540032a>\u001b[0m in \u001b[0;36mproblem_solver_implicit\u001b[0;34m(S, V_degree, G)\u001b[0m\n\u001b[1;32m    107\u001b[0m \u001b[0;31m#         print(alpha)\u001b[0m\u001b[0;34m\u001b[0m\u001b[0;34m\u001b[0m\u001b[0;34m\u001b[0m\u001b[0m\n\u001b[1;32m    108\u001b[0m \u001b[0;34m\u001b[0m\u001b[0m\n\u001b[0;32m--> 109\u001b[0;31m         \u001b[0mV\u001b[0m\u001b[0;34m,\u001b[0m \u001b[0mQ\u001b[0m \u001b[0;34m=\u001b[0m \u001b[0mfind_implicit_V\u001b[0m\u001b[0;34m(\u001b[0m\u001b[0mx\u001b[0m\u001b[0;34m,\u001b[0m \u001b[0mxd\u001b[0m\u001b[0;34m,\u001b[0m \u001b[0mlambda_\u001b[0m\u001b[0;34m,\u001b[0m \u001b[0mlambda_g\u001b[0m\u001b[0;34m,\u001b[0m \u001b[0mg_poly\u001b[0m\u001b[0;34m,\u001b[0m \u001b[0mV_degree\u001b[0m\u001b[0;34m)\u001b[0m\u001b[0;34m\u001b[0m\u001b[0;34m\u001b[0m\u001b[0m\n\u001b[0m\u001b[1;32m    110\u001b[0m \u001b[0;34m\u001b[0m\u001b[0m\n\u001b[1;32m    111\u001b[0m         \u001b[0mVdot\u001b[0m \u001b[0;34m=\u001b[0m \u001b[0mV\u001b[0m\u001b[0;34m.\u001b[0m\u001b[0mJacobian\u001b[0m\u001b[0;34m(\u001b[0m\u001b[0mx\u001b[0m\u001b[0;34m)\u001b[0m\u001b[0;34m.\u001b[0m\u001b[0mdot\u001b[0m\u001b[0;34m(\u001b[0m\u001b[0mxd\u001b[0m\u001b[0;34m)\u001b[0m\u001b[0;34m\u001b[0m\u001b[0;34m\u001b[0m\u001b[0m\n",
      "\u001b[0;32m<ipython-input-81-01988540032a>\u001b[0m in \u001b[0;36mfind_implicit_V\u001b[0;34m(x, xd, lambda_, lambda_g, g, V_degree)\u001b[0m\n\u001b[1;32m     69\u001b[0m     \u001b[0mprint\u001b[0m\u001b[0;34m(\u001b[0m\u001b[0;34m\"V solution status: \"\u001b[0m \u001b[0;34m+\u001b[0m \u001b[0mstr\u001b[0m\u001b[0;34m(\u001b[0m\u001b[0mk\u001b[0m\u001b[0;34m)\u001b[0m\u001b[0;34m)\u001b[0m\u001b[0;34m\u001b[0m\u001b[0;34m\u001b[0m\u001b[0m\n\u001b[1;32m     70\u001b[0m \u001b[0;34m\u001b[0m\u001b[0m\n\u001b[0;32m---> 71\u001b[0;31m     \u001b[0;32massert\u001b[0m \u001b[0mresult\u001b[0m\u001b[0;34m.\u001b[0m\u001b[0mis_success\u001b[0m\u001b[0;34m(\u001b[0m\u001b[0;34m)\u001b[0m\u001b[0;34m\u001b[0m\u001b[0;34m\u001b[0m\u001b[0m\n\u001b[0m\u001b[1;32m     72\u001b[0m \u001b[0;34m\u001b[0m\u001b[0m\n\u001b[1;32m     73\u001b[0m     \u001b[0;32mreturn\u001b[0m \u001b[0mresult\u001b[0m\u001b[0;34m.\u001b[0m\u001b[0mGetSolution\u001b[0m\u001b[0;34m(\u001b[0m\u001b[0mV\u001b[0m\u001b[0;34m)\u001b[0m\u001b[0;34m,\u001b[0m \u001b[0mresult\u001b[0m\u001b[0;34m.\u001b[0m\u001b[0mGetSolution\u001b[0m\u001b[0;34m(\u001b[0m\u001b[0mQ\u001b[0m\u001b[0;34m)\u001b[0m\u001b[0;34m\u001b[0m\u001b[0;34m\u001b[0m\u001b[0m\n",
      "\u001b[0;31mAssertionError\u001b[0m: "
     ]
    }
   ],
   "source": [
    "# Use this as a starting candidate for ROA study\n",
    "\n",
    "#doing the van der pol oscillator implicitly\n",
    "\n",
    "from pydrake.solvers.mathematicalprogram import MathematicalProgram, SolverOptions, Solve\n",
    "from pydrake.solvers.csdp import CsdpSolver\n",
    "from pydrake.solvers.mosek import MosekSolver\n",
    "\n",
    "negative_infinity = float('-inf')\n",
    "\n",
    "def find_implicit_lambdas(x, xd, V, Vdot, g):\n",
    "    prog = MathematicalProgram()\n",
    "    prog.AddIndeterminates(x)\n",
    "    prog.AddIndeterminates(xd)\n",
    "        \n",
    "    y = np.hstack([x, xd])\n",
    "    \n",
    "    l_deg = math.ceil(V.TotalDegree()/2) * 2\n",
    "    \n",
    "    lambda_ = prog.NewSosPolynomial(Variables(y), l_deg)[0]\n",
    "    \n",
    "    lambda_g = []\n",
    "    \n",
    "    for i in range(g.size): \n",
    "        gi_deg = max(l_deg + V.TotalDegree() - g[i].TotalDegree(), 0)\n",
    "        lambda_g.append(prog.NewFreePolynomial(Variables(y), gi_deg))\n",
    "        \n",
    "    lambda_g = np.array(lambda_g)    \n",
    "  \n",
    "    prog.AddSosConstraint(-Vdot + lambda_*(V - 1) + lambda_g.dot(g))\n",
    "        \n",
    "    solver = MosekSolver()\n",
    "    result = solver.Solve(prog)\n",
    "    \n",
    "    k = result.get_solver_details().solution_status\n",
    "                \n",
    "    print(\"Lambda solution status: \" + str(k))\n",
    "    \n",
    "    assert result.is_success()\n",
    "    \n",
    "    lambda_g_results = []\n",
    "    \n",
    "    for i in range(g.size):\n",
    "        lambda_g_results.append(result.GetSolution(lambda_g[i]).RemoveTermsWithSmallCoefficients(1e-5))\n",
    "    \n",
    "    return result.GetSolution(lambda_).RemoveTermsWithSmallCoefficients(1e-5), np.array(lambda_g_results)\n",
    "\n",
    "def find_implicit_V(x, xd, lambda_, lambda_g, g, V_degree):\n",
    "    prog = MathematicalProgram()\n",
    "    prog.AddIndeterminates(x)\n",
    "    prog.AddIndeterminates(xd)\n",
    "    \n",
    "    y = np.hstack([x, xd])\n",
    "        \n",
    "    V, Q = prog.NewSosPolynomial(Variables(x), V_degree)\n",
    "    Vdot = V.Jacobian(x).dot(xd)\n",
    "    \n",
    "    prog.AddSosConstraint(-Vdot + lambda_*(V - 1) + lambda_g.dot(g))\n",
    "    \n",
    "    prog.AddLinearCost(np.trace(Q))    \n",
    "    #prog.AddLinearConstraint(V.ToExpression().Substitute({x[0]: 0, x[1]:0, xd[0]: 0, xd[1]: 0}) == 0)\n",
    "    prog.AddLinearConstraint(V.ToExpression().Substitute({x[0]: 0, x[1]:0}) == 0)\n",
    "    \n",
    "    solver = MosekSolver()\n",
    "    result = solver.Solve(prog)\n",
    "    \n",
    "    k = result.get_solver_details().solution_status\n",
    "                \n",
    "    print(\"V solution status: \" + str(k))\n",
    "    \n",
    "    assert result.is_success()\n",
    "        \n",
    "    return result.GetSolution(V), result.GetSolution(Q)\n",
    "\n",
    "\n",
    "def problem_solver_implicit(S, V_degree, G):\n",
    "    prog = MathematicalProgram()\n",
    "    x = prog.NewIndeterminates(2, \"x\")\n",
    "    xd = prog.NewIndeterminates(2, \"xd\")\n",
    "    \n",
    "    u = -G@x\n",
    "    sinx = x[0] - (x[0]**3)/6 \n",
    "    \n",
    "    g0 = xd[0] - x[1]\n",
    "    g1 = p.mass()*(p.length()**2)*xd[1] + p.damping()*x[1] - p.mass()*p.gravity()*p.length()*sinx - u[0]\n",
    "    \n",
    "    g = np.array([g0, g1])\n",
    "    \n",
    "    V = x.T@S@x\n",
    "    Vdot = V.Jacobian(x).dot(xd)\n",
    "    \n",
    "    V = Polynomial(V)\n",
    "    Vdot = Polynomial(Vdot)\n",
    "    \n",
    "    g_poly = []\n",
    "    for i in range(g.size):\n",
    "        g_poly.append(Polynomial(g[i]))\n",
    "        \n",
    "    g_poly = np.array(g_poly)\n",
    "    \n",
    "    display(Markdown(\"$ V(x)=\"+ToLatex(V.ToExpression(), 9)+\"$\"))\n",
    "    for i in range(200):\n",
    "        lambda_, lambda_g = find_implicit_lambdas(x, xd, V, Vdot, g_poly)\n",
    "        \n",
    "#         display(Markdown(\"$ \\lambda(x)=\"+ToLatex(lambda_.ToExpression())+\"$\"))\n",
    "#         display(Markdown(\"$ \\lambda_g(x)=\"+ToLatex(lambda_g[0].ToExpression())+\"$\"))\n",
    "#         display(Markdown(\"$ \\lambda_g(x)=\"+ToLatex(lambda_g[1].ToExpression())+\"$\"))\n",
    "#         print(alpha)\n",
    "        \n",
    "        V, Q = find_implicit_V(x, xd, lambda_, lambda_g, g_poly, V_degree)\n",
    "        \n",
    "        Vdot = V.Jacobian(x).dot(xd)\n",
    "     \n",
    "        display(Markdown(\"$ V(x)=\"+ToLatex(V.ToExpression(), 9)+\"$\"))\n",
    "        \n",
    "    return V, Q\n",
    "\n",
    "V_degree = 2\n",
    "V, Q = problem_solver_implicit(candidate_matrix, V_degree, G)"
   ]
  },
  {
   "cell_type": "code",
   "execution_count": 33,
   "metadata": {},
   "outputs": [],
   "source": [
    "# explicit linearization\n",
    "A_explicit = np.array([[0, 1], [p.gravity()/p.length(), -p.damping()/(p.mass()*p.length()*p.length())]])\n",
    "B_explicit = np.array([[0], [1]])\n",
    "\n",
    "Q_explicit = np.diag([10, 1])\n",
    "R_explicit = [1]\n",
    "\n",
    "K_explicit, S_explicit = LinearQuadraticRegulator(A_explicit, B_explicit, Q_explicit, R_explicit)"
   ]
  },
  {
   "cell_type": "code",
   "execution_count": 34,
   "metadata": {},
   "outputs": [],
   "source": [
    "X_explicit, L_explicit, G_explicit = control.care(A_explicit, B_explicit, Q_explicit, R_explicit)"
   ]
  },
  {
   "cell_type": "code",
   "execution_count": 35,
   "metadata": {},
   "outputs": [
    {
     "data": {
      "text/plain": [
       "array([[39.4932081 ,  8.55245308]])"
      ]
     },
     "execution_count": 35,
     "metadata": {},
     "output_type": "execute_result"
    }
   ],
   "source": [
    "K_explicit"
   ]
  },
  {
   "cell_type": "code",
   "execution_count": 36,
   "metadata": {},
   "outputs": [
    {
     "data": {
      "text/plain": [
       "array([[39.4932081 ,  8.55245308]])"
      ]
     },
     "execution_count": 36,
     "metadata": {},
     "output_type": "execute_result"
    }
   ],
   "source": [
    "G_explicit"
   ]
  },
  {
   "cell_type": "code",
   "execution_count": 37,
   "metadata": {},
   "outputs": [
    {
     "data": {
      "text/plain": [
       "array([[39.4932081 ,  8.55245308]])"
      ]
     },
     "execution_count": 37,
     "metadata": {},
     "output_type": "execute_result"
    }
   ],
   "source": [
    "B_explicit.T@X_explicit"
   ]
  },
  {
   "cell_type": "code",
   "execution_count": 42,
   "metadata": {},
   "outputs": [],
   "source": [
    "A_cl_ex = A_explicit - B_explicit@K_explicit\n",
    "Q_ly_ex = np.eye(2)"
   ]
  },
  {
   "cell_type": "code",
   "execution_count": 43,
   "metadata": {},
   "outputs": [],
   "source": [
    "P_ex = control.lyap(A_cl_ex.T, Q_ly_ex)"
   ]
  },
  {
   "cell_type": "code",
   "execution_count": 44,
   "metadata": {},
   "outputs": [
    {
     "data": {
      "text/plain": [
       "array([1.39149567, 0.05818603])"
      ]
     },
     "execution_count": 44,
     "metadata": {},
     "output_type": "execute_result"
    }
   ],
   "source": [
    "np.linalg.eigvals(P_ex)"
   ]
  },
  {
   "cell_type": "code",
   "execution_count": 52,
   "metadata": {},
   "outputs": [
    {
     "data": {
      "text/plain": [
       "array([[1.39102074, 0.0251595 ],\n",
       "       [0.0251595 , 0.05866096]])"
      ]
     },
     "execution_count": 52,
     "metadata": {},
     "output_type": "execute_result"
    }
   ],
   "source": [
    "P_ex"
   ]
  },
  {
   "cell_type": "code",
   "execution_count": 53,
   "metadata": {},
   "outputs": [
    {
     "data": {
      "text/plain": [
       "array([[1.42110175, 0.02141874],\n",
       "       [0.02141874, 0.05160587]])"
      ]
     },
     "execution_count": 53,
     "metadata": {},
     "output_type": "execute_result"
    }
   ],
   "source": [
    "candidate_matrix"
   ]
  },
  {
   "cell_type": "code",
   "execution_count": null,
   "metadata": {},
   "outputs": [],
   "source": []
  },
  {
   "cell_type": "code",
   "execution_count": 64,
   "metadata": {
    "scrolled": true
   },
   "outputs": [
    {
     "data": {
      "text/markdown": [
       "$V(x) = (0.042837x_{0} x_{1} + 1.421102x_{0}^{2} + 0.051606x_{1}^{2})$"
      ],
      "text/plain": [
       "<IPython.core.display.Markdown object>"
      ]
     },
     "metadata": {},
     "output_type": "display_data"
    },
    {
     "name": "stdout",
     "output_type": "stream",
     "text": [
      "Status of first solver on step 0: 5\n"
     ]
    },
    {
     "ename": "AssertionError",
     "evalue": "",
     "output_type": "error",
     "traceback": [
      "\u001b[0;31m---------------------------------------------------------------------------\u001b[0m",
      "\u001b[0;31mAssertionError\u001b[0m                            Traceback (most recent call last)",
      "\u001b[0;32m<ipython-input-64-e24a5a835df1>\u001b[0m in \u001b[0;36m<module>\u001b[0;34m\u001b[0m\n\u001b[1;32m     96\u001b[0m \u001b[0;34m\u001b[0m\u001b[0m\n\u001b[1;32m     97\u001b[0m \u001b[0;34m\u001b[0m\u001b[0m\n\u001b[0;32m---> 98\u001b[0;31m \u001b[0mV\u001b[0m\u001b[0;34m,\u001b[0m \u001b[0mQ\u001b[0m \u001b[0;34m=\u001b[0m \u001b[0msetup_solver\u001b[0m\u001b[0;34m(\u001b[0m\u001b[0;34m)\u001b[0m\u001b[0;34m\u001b[0m\u001b[0;34m\u001b[0m\u001b[0m\n\u001b[0m",
      "\u001b[0;32m<ipython-input-64-e24a5a835df1>\u001b[0m in \u001b[0;36msetup_solver\u001b[0;34m()\u001b[0m\n\u001b[1;32m     80\u001b[0m \u001b[0;34m\u001b[0m\u001b[0m\n\u001b[1;32m     81\u001b[0m     \u001b[0;32mfor\u001b[0m \u001b[0mi\u001b[0m \u001b[0;32min\u001b[0m \u001b[0mrange\u001b[0m\u001b[0;34m(\u001b[0m\u001b[0;36m20\u001b[0m\u001b[0;34m)\u001b[0m\u001b[0;34m:\u001b[0m\u001b[0;34m\u001b[0m\u001b[0;34m\u001b[0m\u001b[0m\n\u001b[0;32m---> 82\u001b[0;31m         \u001b[0mlambda_\u001b[0m \u001b[0;34m=\u001b[0m \u001b[0mfindLambda\u001b[0m\u001b[0;34m(\u001b[0m\u001b[0mx\u001b[0m\u001b[0;34m,\u001b[0m \u001b[0mV\u001b[0m\u001b[0;34m,\u001b[0m \u001b[0mVdot\u001b[0m\u001b[0;34m,\u001b[0m \u001b[0mcount\u001b[0m\u001b[0;34m)\u001b[0m\u001b[0;34m\u001b[0m\u001b[0;34m\u001b[0m\u001b[0m\n\u001b[0m\u001b[1;32m     83\u001b[0m \u001b[0;34m\u001b[0m\u001b[0m\n\u001b[1;32m     84\u001b[0m \u001b[0;31m#         display(Markdown(\"$\\lambda (x) = \" + ToLatex(\u001b[0m\u001b[0;34m\u001b[0m\u001b[0;34m\u001b[0m\u001b[0;34m\u001b[0m\u001b[0m\n",
      "\u001b[0;32m<ipython-input-64-e24a5a835df1>\u001b[0m in \u001b[0;36mfindLambda\u001b[0;34m(x, V, Vdot, count)\u001b[0m\n\u001b[1;32m     21\u001b[0m \u001b[0;34m\u001b[0m\u001b[0m\n\u001b[1;32m     22\u001b[0m     \u001b[0mprint\u001b[0m\u001b[0;34m(\u001b[0m\u001b[0;34m'Status of first solver on step '\u001b[0m \u001b[0;34m+\u001b[0m \u001b[0mstr\u001b[0m\u001b[0;34m(\u001b[0m\u001b[0mcount\u001b[0m\u001b[0;34m)\u001b[0m \u001b[0;34m+\u001b[0m \u001b[0;34m': '\u001b[0m \u001b[0;34m+\u001b[0m \u001b[0mstr\u001b[0m\u001b[0;34m(\u001b[0m\u001b[0mk\u001b[0m\u001b[0;34m)\u001b[0m\u001b[0;34m)\u001b[0m\u001b[0;34m\u001b[0m\u001b[0;34m\u001b[0m\u001b[0m\n\u001b[0;32m---> 23\u001b[0;31m     \u001b[0;32massert\u001b[0m \u001b[0mresult\u001b[0m\u001b[0;34m.\u001b[0m\u001b[0mis_success\u001b[0m\u001b[0;34m(\u001b[0m\u001b[0;34m)\u001b[0m\u001b[0;34m\u001b[0m\u001b[0;34m\u001b[0m\u001b[0m\n\u001b[0m\u001b[1;32m     24\u001b[0m \u001b[0;34m\u001b[0m\u001b[0m\n\u001b[1;32m     25\u001b[0m     \u001b[0;32mreturn\u001b[0m \u001b[0mresult\u001b[0m\u001b[0;34m.\u001b[0m\u001b[0mGetSolution\u001b[0m\u001b[0;34m(\u001b[0m\u001b[0mlambda_\u001b[0m\u001b[0;34m)\u001b[0m\u001b[0;34m\u001b[0m\u001b[0;34m\u001b[0m\u001b[0m\n",
      "\u001b[0;31mAssertionError\u001b[0m: "
     ]
    }
   ],
   "source": [
    "#THIS CODE WORKS\n",
    "from pydrake.solvers.mathematicalprogram import MathematicalProgram, SolverOptions, Solve\n",
    "from pydrake.solvers.csdp import CsdpSolver\n",
    "from pydrake.solvers.mosek import MosekSolver\n",
    "\n",
    "def findLambda(x, V, Vdot, count):\n",
    "    prog = MathematicalProgram()\n",
    "    prog.AddIndeterminates(x)\n",
    "    \n",
    "    #V = Polynomial(V).RemoveTermsWithSmallCoefficients(1e-5).ToExpression()\n",
    "    \n",
    "    lambda_ = prog.NewSosPolynomial(Variables(x), 2)[0].ToExpression()\n",
    "        \n",
    "    prog.AddSosConstraint(-Vdot - lambda_*(1 - V))\n",
    "    prog.AddSosConstraint(lambda_)\n",
    "    \n",
    "    solver = MosekSolver()\n",
    "    result = solver.Solve(prog)\n",
    "    \n",
    "    k = result.get_solver_details().solution_status\n",
    "        \n",
    "    print('Status of first solver on step ' + str(count) + ': ' + str(k))\n",
    "    assert result.is_success()\n",
    "    \n",
    "    return result.GetSolution(lambda_)\n",
    "\n",
    "\n",
    "def findV(x, lambda_, f, count):\n",
    "    prog = MathematicalProgram()\n",
    "    prog.AddIndeterminates(x)\n",
    "    \n",
    "    lambda_ = Polynomial(lambda_).RemoveTermsWithSmallCoefficients(1e-2).ToExpression()\n",
    "        \n",
    "    temp, Q = prog.NewSosPolynomial(Variables(x), 2)\n",
    "    V = temp.ToExpression()\n",
    "            \n",
    "    prog.AddLinearConstraint(V.Substitute({x[0]: 0, x[1]:0}) == 0)\n",
    "    \n",
    "    Vdot = V.Jacobian(x).dot(f)\n",
    "    \n",
    "    prog.AddSosConstraint(-Vdot - lambda_*(1 - V))\n",
    "    \n",
    "#     prog.AddSosConstraint(np.trace(Q))\n",
    "    \n",
    "    A = Q[0, 0]\n",
    "    B = 2*Q[1, 0]\n",
    "    C = Q[1, 1]\n",
    "    \n",
    "    prog.AddCost(A)\n",
    "    prog.AddCost(C)\n",
    "    prog.AddCost(-B)\n",
    "    \n",
    "    solver = MosekSolver()\n",
    "    result = solver.Solve(prog)\n",
    "        \n",
    "    k = result.get_solver_details().solution_status\n",
    "                \n",
    "    print('Status of second solver on step ' + str(count) + ': ' + str(k))\n",
    "    assert result.is_success()\n",
    "    \n",
    "    return result.GetSolution(V), result.GetSolution(Q)\n",
    "\n",
    "def setup_solver():  \n",
    "    count = 0\n",
    "    prog = MathematicalProgram()\n",
    "    x = prog.NewIndeterminates(2, \"x\")\n",
    "    \n",
    "    f0 = x[1]\n",
    "    f1 = (-b/(m*length**2))*x[1] + (grav/length)*(x[0])\n",
    "    \n",
    "    f = np.array([f0, f1])\n",
    "    \n",
    "    V = x.T@candidate_matrix@x\n",
    "    \n",
    "    display(Markdown(\"$V(x) = \" + ToLatex(\n",
    "    Polynomial(V).RemoveTermsWithSmallCoefficients(1e-5).ToExpression(),6) + \"$\"))\n",
    "        \n",
    "    #Vdot = x.T@P@A@x + x.T@A.T@P@x\n",
    "    Vdot = V.Jacobian(x).dot(f)\n",
    "    \n",
    "    for i in range(20): \n",
    "        lambda_ = findLambda(x, V, Vdot, count)\n",
    "        \n",
    "#         display(Markdown(\"$\\lambda (x) = \" + ToLatex(\n",
    "#         Polynomial(lambda_).RemoveTermsWithSmallCoefficients(1e-5).ToExpression(),6) + \"$\"))\n",
    "        \n",
    "        V, Q = findV(x, lambda_, f, count)\n",
    "        \n",
    "        display(Markdown(\"$V(x) = \" + ToLatex(\n",
    "        Polynomial(V).RemoveTermsWithSmallCoefficients(1e-5).ToExpression(),6) + \"$\"))\n",
    "        \n",
    "        Vdot = V.Jacobian(x).dot(f)\n",
    "        \n",
    "        count += 1\n",
    "    return V, Q\n",
    "    \n",
    "    \n",
    "V, Q = setup_solver()"
   ]
  },
  {
   "cell_type": "code",
   "execution_count": null,
   "metadata": {},
   "outputs": [],
   "source": []
  }
 ],
 "metadata": {
  "kernelspec": {
   "display_name": "Python 3",
   "language": "python",
   "name": "python3"
  },
  "language_info": {
   "codemirror_mode": {
    "name": "ipython",
    "version": 3
   },
   "file_extension": ".py",
   "mimetype": "text/x-python",
   "name": "python",
   "nbconvert_exporter": "python",
   "pygments_lexer": "ipython3",
   "version": "3.8.10"
  }
 },
 "nbformat": 4,
 "nbformat_minor": 4
}
