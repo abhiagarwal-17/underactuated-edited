{
 "cells": [
  {
   "cell_type": "markdown",
   "metadata": {},
   "source": [
    "## Standard Continuous Time Lyapunov Equation"
   ]
  },
  {
   "cell_type": "code",
   "execution_count": 66,
   "metadata": {},
   "outputs": [],
   "source": [
    "import scipy\n",
    "import control\n",
    "import numpy as np\n",
    "import sympy as sp\n",
    "from sympy.physics.vector import dynamicsymbols as dynamicsymbols\n",
    "\n",
    "from pydrake.all import (LinearQuadraticRegulator, MathematicalProgram, Variables,\n",
    "                         Solve, RealContinuousLyapunovEquation)"
   ]
  },
  {
   "cell_type": "code",
   "execution_count": 5,
   "metadata": {},
   "outputs": [],
   "source": [
    "f = lambda x: [- x[1], x[0] + (x[0]**2 - 1) * x[1]]"
   ]
  },
  {
   "cell_type": "code",
   "execution_count": 6,
   "metadata": {},
   "outputs": [],
   "source": [
    "A = np.array([[0, -1], [1, -1]])\n",
    "Q = np.eye(2)"
   ]
  },
  {
   "cell_type": "code",
   "execution_count": 9,
   "metadata": {},
   "outputs": [],
   "source": [
    "X1 = control.lyap(A.T, Q)"
   ]
  },
  {
   "cell_type": "code",
   "execution_count": 10,
   "metadata": {},
   "outputs": [
    {
     "data": {
      "text/plain": [
       "array([[ 1.5, -0.5],\n",
       "       [-0.5,  1. ]])"
      ]
     },
     "execution_count": 10,
     "metadata": {},
     "output_type": "execute_result"
    }
   ],
   "source": [
    "X1"
   ]
  },
  {
   "cell_type": "code",
   "execution_count": 21,
   "metadata": {},
   "outputs": [],
   "source": [
    "E = np.eye(2)\n",
    "E[0, 1] = 2"
   ]
  },
  {
   "cell_type": "code",
   "execution_count": 22,
   "metadata": {},
   "outputs": [],
   "source": [
    "X2 = control.lyap(A.T, Q, E = E)"
   ]
  },
  {
   "cell_type": "code",
   "execution_count": 23,
   "metadata": {},
   "outputs": [
    {
     "data": {
      "text/plain": [
       "array([[-3.5,  1.5],\n",
       "       [ 1.5, -1. ]])"
      ]
     },
     "execution_count": 23,
     "metadata": {},
     "output_type": "execute_result"
    }
   ],
   "source": [
    "X2"
   ]
  },
  {
   "cell_type": "markdown",
   "metadata": {},
   "source": [
    "## Cart Pole Dynamics\n",
    "\n",
    "For reference of dynamics, see Shen Shen's quotient ring optimization paper. \n",
    "Assume unit mass and unit length\n",
    "\n",
    "Write the dynamics as \n",
    "M $\\times$ y = F"
   ]
  },
  {
   "cell_type": "code",
   "execution_count": 31,
   "metadata": {},
   "outputs": [],
   "source": [
    "g, t = sp.symbols('g t')\n",
    "u = sp.symbols('u')\n",
    "q0, q1 = dynamicsymbols('q0 q1')"
   ]
  },
  {
   "cell_type": "code",
   "execution_count": 63,
   "metadata": {},
   "outputs": [],
   "source": [
    "q0_dot = sp.diff(q0, t)\n",
    "q1_dot = sp.diff(q1, t)\n",
    "\n",
    "q0_dotdot = sp.diff(q0_dot, t)\n",
    "q1_dotdot = sp.diff(q1_dot, t)"
   ]
  },
  {
   "cell_type": "code",
   "execution_count": 64,
   "metadata": {},
   "outputs": [],
   "source": [
    "# state vector\n",
    "y = sp.Matrix([q0, q1, q0_dot, q1_dot])\n",
    "y_dot = sp.Matrix([q0_dot, q1_dot, q0_dotdot, q1_dotdot])\n",
    "\n",
    "# force vector\n",
    "F = sp.Matrix([q0_dot, q1_dot, q1_dot*sp.cos(q1), -1*g*sp.cos(q1)])\n",
    "\n",
    "# mass matrix\n",
    "M = sp.Matrix([[1, 0, 0, 0], [0, 1, 0, 0], [0, 0, 2, -sp.sin(q1)], [0, 0, -sp.sin(q1), 1]]) "
   ]
  },
  {
   "cell_type": "markdown",
   "metadata": {},
   "source": [
    "## Cart Pole Explicitly\n",
    "\n",
    "Write the dynamics as $\\dot{y}$ = f(y)"
   ]
  },
  {
   "cell_type": "code",
   "execution_count": 68,
   "metadata": {},
   "outputs": [],
   "source": [
    "f = sp.simplify(M.inv()*F)"
   ]
  },
  {
   "cell_type": "code",
   "execution_count": 78,
   "metadata": {},
   "outputs": [
    {
     "data": {
      "text/latex": [
       "$\\displaystyle \\left[\\begin{matrix}0 & 0 & 1 & 0\\\\0 & 0 & 0 & 1\\\\0 & 10 & 0 & 0\\\\0 & 20 & 0 & 0\\end{matrix}\\right]$"
      ],
      "text/plain": [
       "Matrix([\n",
       "[0,  0, 1, 0],\n",
       "[0,  0, 0, 1],\n",
       "[0, 10, 0, 0],\n",
       "[0, 20, 0, 0]])"
      ]
     },
     "execution_count": 78,
     "metadata": {},
     "output_type": "execute_result"
    }
   ],
   "source": [
    "# linearize now\n",
    "A = f.jacobian(y)\n",
    "\n",
    "# substitute values at equilibrium point\n",
    "sp.simplify(A.subs([(q1, sp.pi/2), (g, 10)]))"
   ]
  },
  {
   "cell_type": "code",
   "execution_count": 79,
   "metadata": {},
   "outputs": [],
   "source": [
    "A = np.array([[0, 0, 1, 0], [0, 0, 0, 1], [0, 10, 0, 0], [0, 20, 0, 0]])\n",
    "Q = np.eye(4)"
   ]
  },
  {
   "cell_type": "code",
   "execution_count": 80,
   "metadata": {},
   "outputs": [
    {
     "ename": "SlycotResultWarning",
     "evalue": "\nThe matrices `A` and `-A'` have common or very close eigenvalues",
     "output_type": "error",
     "traceback": [
      "\u001b[0;31m---------------------------------------------------------------------------\u001b[0m",
      "\u001b[0;31mSlycotResultWarning\u001b[0m                       Traceback (most recent call last)",
      "\u001b[0;32m<ipython-input-80-b1d5668ade0a>\u001b[0m in \u001b[0;36m<module>\u001b[0;34m\u001b[0m\n\u001b[0;32m----> 1\u001b[0;31m \u001b[0mX1\u001b[0m \u001b[0;34m=\u001b[0m \u001b[0mcontrol\u001b[0m\u001b[0;34m.\u001b[0m\u001b[0mlyap\u001b[0m\u001b[0;34m(\u001b[0m\u001b[0mA\u001b[0m\u001b[0;34m.\u001b[0m\u001b[0mT\u001b[0m\u001b[0;34m,\u001b[0m \u001b[0mQ\u001b[0m\u001b[0;34m)\u001b[0m\u001b[0;34m\u001b[0m\u001b[0;34m\u001b[0m\u001b[0m\n\u001b[0m",
      "\u001b[0;32m~/.local/lib/python3.8/site-packages/control/mateqn.py\u001b[0m in \u001b[0;36mlyap\u001b[0;34m(A, Q, C, E, method)\u001b[0m\n\u001b[1;32m    170\u001b[0m             \u001b[0mwarnings\u001b[0m\u001b[0;34m.\u001b[0m\u001b[0msimplefilter\u001b[0m\u001b[0;34m(\u001b[0m\u001b[0;34m\"error\"\u001b[0m\u001b[0;34m,\u001b[0m \u001b[0mcategory\u001b[0m\u001b[0;34m=\u001b[0m\u001b[0mSlycotResultWarning\u001b[0m\u001b[0;34m)\u001b[0m\u001b[0;34m\u001b[0m\u001b[0;34m\u001b[0m\u001b[0m\n\u001b[1;32m    171\u001b[0m             \u001b[0mX\u001b[0m\u001b[0;34m,\u001b[0m \u001b[0mscale\u001b[0m\u001b[0;34m,\u001b[0m \u001b[0msep\u001b[0m\u001b[0;34m,\u001b[0m \u001b[0mferr\u001b[0m\u001b[0;34m,\u001b[0m \u001b[0mw\u001b[0m \u001b[0;34m=\u001b[0m\u001b[0;31m \u001b[0m\u001b[0;31m\\\u001b[0m\u001b[0;34m\u001b[0m\u001b[0;34m\u001b[0m\u001b[0m\n\u001b[0;32m--> 172\u001b[0;31m                 \u001b[0msb03md\u001b[0m\u001b[0;34m(\u001b[0m\u001b[0mn\u001b[0m\u001b[0;34m,\u001b[0m \u001b[0;34m-\u001b[0m\u001b[0mQ\u001b[0m\u001b[0;34m,\u001b[0m \u001b[0mA\u001b[0m\u001b[0;34m,\u001b[0m \u001b[0meye\u001b[0m\u001b[0;34m(\u001b[0m\u001b[0mn\u001b[0m\u001b[0;34m,\u001b[0m \u001b[0mn\u001b[0m\u001b[0;34m)\u001b[0m\u001b[0;34m,\u001b[0m \u001b[0;34m'C'\u001b[0m\u001b[0;34m,\u001b[0m \u001b[0mtrana\u001b[0m\u001b[0;34m=\u001b[0m\u001b[0;34m'T'\u001b[0m\u001b[0;34m)\u001b[0m\u001b[0;34m\u001b[0m\u001b[0;34m\u001b[0m\u001b[0m\n\u001b[0m\u001b[1;32m    173\u001b[0m \u001b[0;34m\u001b[0m\u001b[0m\n\u001b[1;32m    174\u001b[0m     \u001b[0;31m# Solve the Sylvester equation\u001b[0m\u001b[0;34m\u001b[0m\u001b[0;34m\u001b[0m\u001b[0;34m\u001b[0m\u001b[0m\n",
      "\u001b[0;32m~/.local/lib/python3.8/site-packages/slycot/synthesis.py\u001b[0m in \u001b[0;36msb03md\u001b[0;34m(n, C, A, U, dico, job, fact, trana, ldwork)\u001b[0m\n\u001b[1;32m    791\u001b[0m         \u001b[0;32mraise\u001b[0m \u001b[0mSlycotParameterError\u001b[0m\u001b[0;34m(\u001b[0m\u001b[0;34m'dico must be either D or C'\u001b[0m\u001b[0;34m,\u001b[0m \u001b[0;34m-\u001b[0m\u001b[0;36m1\u001b[0m\u001b[0;34m)\u001b[0m\u001b[0;34m\u001b[0m\u001b[0;34m\u001b[0m\u001b[0m\n\u001b[1;32m    792\u001b[0m     \u001b[0mout\u001b[0m \u001b[0;34m=\u001b[0m \u001b[0m_wrapper\u001b[0m\u001b[0;34m.\u001b[0m\u001b[0msb03md\u001b[0m\u001b[0;34m(\u001b[0m\u001b[0mdico\u001b[0m\u001b[0;34m,\u001b[0m\u001b[0mn\u001b[0m\u001b[0;34m,\u001b[0m\u001b[0mC\u001b[0m\u001b[0;34m,\u001b[0m\u001b[0mA\u001b[0m\u001b[0;34m,\u001b[0m\u001b[0mU\u001b[0m\u001b[0;34m,\u001b[0m\u001b[0mjob\u001b[0m\u001b[0;34m=\u001b[0m\u001b[0mjob\u001b[0m\u001b[0;34m,\u001b[0m\u001b[0mfact\u001b[0m\u001b[0;34m=\u001b[0m\u001b[0mfact\u001b[0m\u001b[0;34m,\u001b[0m\u001b[0mtrana\u001b[0m\u001b[0;34m=\u001b[0m\u001b[0mtrana\u001b[0m\u001b[0;34m,\u001b[0m\u001b[0mldwork\u001b[0m\u001b[0;34m=\u001b[0m\u001b[0mldwork\u001b[0m\u001b[0;34m)\u001b[0m\u001b[0;34m\u001b[0m\u001b[0;34m\u001b[0m\u001b[0m\n\u001b[0;32m--> 793\u001b[0;31m     \u001b[0mraise_if_slycot_error\u001b[0m\u001b[0;34m(\u001b[0m\u001b[0mout\u001b[0m\u001b[0;34m[\u001b[0m\u001b[0;34m-\u001b[0m\u001b[0;36m1\u001b[0m\u001b[0;34m]\u001b[0m\u001b[0;34m,\u001b[0m \u001b[0marg_list\u001b[0m\u001b[0;34m,\u001b[0m \u001b[0msb03md\u001b[0m\u001b[0;34m.\u001b[0m\u001b[0m__doc__\u001b[0m\u001b[0;34m,\u001b[0m \u001b[0mlocals\u001b[0m\u001b[0;34m(\u001b[0m\u001b[0;34m)\u001b[0m\u001b[0;34m)\u001b[0m\u001b[0;34m\u001b[0m\u001b[0;34m\u001b[0m\u001b[0m\n\u001b[0m\u001b[1;32m    794\u001b[0m     \u001b[0mX\u001b[0m\u001b[0;34m,\u001b[0m\u001b[0mscale\u001b[0m\u001b[0;34m,\u001b[0m\u001b[0msep\u001b[0m\u001b[0;34m,\u001b[0m\u001b[0mferr\u001b[0m\u001b[0;34m,\u001b[0m\u001b[0mwr\u001b[0m\u001b[0;34m,\u001b[0m\u001b[0mwi\u001b[0m \u001b[0;34m=\u001b[0m \u001b[0mout\u001b[0m\u001b[0;34m[\u001b[0m\u001b[0;34m:\u001b[0m\u001b[0;34m-\u001b[0m\u001b[0;36m1\u001b[0m\u001b[0;34m]\u001b[0m\u001b[0;34m\u001b[0m\u001b[0;34m\u001b[0m\u001b[0m\n\u001b[1;32m    795\u001b[0m     \u001b[0mw\u001b[0m \u001b[0;34m=\u001b[0m \u001b[0m_np\u001b[0m\u001b[0;34m.\u001b[0m\u001b[0mzeros\u001b[0m\u001b[0;34m(\u001b[0m\u001b[0mn\u001b[0m\u001b[0;34m,\u001b[0m\u001b[0;34m'complex64'\u001b[0m\u001b[0;34m)\u001b[0m\u001b[0;34m\u001b[0m\u001b[0;34m\u001b[0m\u001b[0m\n",
      "\u001b[0;32m~/.local/lib/python3.8/site-packages/slycot/exceptions.py\u001b[0m in \u001b[0;36mraise_if_slycot_error\u001b[0;34m(info, arg_list, docstring, checkvars)\u001b[0m\n\u001b[1;32m    239\u001b[0m         \u001b[0;32mif\u001b[0m \u001b[0mwarning\u001b[0m \u001b[0;32mand\u001b[0m \u001b[0mmessage\u001b[0m\u001b[0;34m:\u001b[0m\u001b[0;34m\u001b[0m\u001b[0;34m\u001b[0m\u001b[0m\n\u001b[1;32m    240\u001b[0m             \u001b[0mfmessage\u001b[0m \u001b[0;34m=\u001b[0m \u001b[0;34m'\\n'\u001b[0m \u001b[0;34m+\u001b[0m \u001b[0mmessage\u001b[0m\u001b[0;34m.\u001b[0m\u001b[0mformat\u001b[0m\u001b[0;34m(\u001b[0m\u001b[0;34m**\u001b[0m\u001b[0mcheckvars\u001b[0m\u001b[0;34m)\u001b[0m\u001b[0;34m.\u001b[0m\u001b[0mstrip\u001b[0m\u001b[0;34m(\u001b[0m\u001b[0;34m)\u001b[0m\u001b[0;34m\u001b[0m\u001b[0;34m\u001b[0m\u001b[0m\n\u001b[0;32m--> 241\u001b[0;31m             \u001b[0mwarn\u001b[0m\u001b[0;34m(\u001b[0m\u001b[0mglobals\u001b[0m\u001b[0;34m(\u001b[0m\u001b[0;34m)\u001b[0m\u001b[0;34m[\u001b[0m\u001b[0mwarning\u001b[0m\u001b[0;34m]\u001b[0m\u001b[0;34m(\u001b[0m\u001b[0mfmessage\u001b[0m\u001b[0;34m,\u001b[0m \u001b[0miwarn\u001b[0m\u001b[0;34m,\u001b[0m \u001b[0minfo\u001b[0m\u001b[0;34m)\u001b[0m\u001b[0;34m)\u001b[0m\u001b[0;34m\u001b[0m\u001b[0;34m\u001b[0m\u001b[0m\n\u001b[0m\u001b[1;32m    242\u001b[0m             \u001b[0;32mreturn\u001b[0m\u001b[0;34m\u001b[0m\u001b[0;34m\u001b[0m\u001b[0m\n\u001b[1;32m    243\u001b[0m \u001b[0;34m\u001b[0m\u001b[0m\n",
      "\u001b[0;31mSlycotResultWarning\u001b[0m: \nThe matrices `A` and `-A'` have common or very close eigenvalues"
     ]
    }
   ],
   "source": [
    "X1 = control.lyap(A.T, Q)"
   ]
  },
  {
   "cell_type": "code",
   "execution_count": 81,
   "metadata": {},
   "outputs": [
    {
     "ename": "RuntimeError",
     "evalue": "RealContinuousLyapunovEquation(): Solution is not unique!",
     "output_type": "error",
     "traceback": [
      "\u001b[0;31m---------------------------------------------------------------------------\u001b[0m",
      "\u001b[0;31mRuntimeError\u001b[0m                              Traceback (most recent call last)",
      "\u001b[0;32m<ipython-input-81-ea9488a6689f>\u001b[0m in \u001b[0;36m<module>\u001b[0;34m\u001b[0m\n\u001b[0;32m----> 1\u001b[0;31m \u001b[0mP\u001b[0m \u001b[0;34m=\u001b[0m \u001b[0mRealContinuousLyapunovEquation\u001b[0m\u001b[0;34m(\u001b[0m\u001b[0mA\u001b[0m\u001b[0;34m,\u001b[0m \u001b[0mQ\u001b[0m\u001b[0;34m)\u001b[0m\u001b[0;34m\u001b[0m\u001b[0;34m\u001b[0m\u001b[0m\n\u001b[0m",
      "\u001b[0;31mRuntimeError\u001b[0m: RealContinuousLyapunovEquation(): Solution is not unique!"
     ]
    }
   ],
   "source": [
    "P = RealContinuousLyapunovEquation(A, Q)"
   ]
  },
  {
   "cell_type": "markdown",
   "metadata": {},
   "source": [
    "## Cart Pole Implicitly"
   ]
  },
  {
   "cell_type": "code",
   "execution_count": 85,
   "metadata": {},
   "outputs": [
    {
     "data": {
      "text/latex": [
       "$\\displaystyle \\left[\\begin{matrix}0 & 0 & 1 & 0\\\\0 & 0 & 0 & 1\\\\0 & - \\frac{d}{d t} \\frac{\\pi}{2} & 0 & 0\\\\0 & g & 0 & 0\\end{matrix}\\right]$"
      ],
      "text/plain": [
       "Matrix([\n",
       "[0,                    0, 1, 0],\n",
       "[0,                    0, 0, 1],\n",
       "[0, -Derivative(pi/2, t), 0, 0],\n",
       "[0,                    g, 0, 0]])"
      ]
     },
     "execution_count": 85,
     "metadata": {},
     "output_type": "execute_result"
    }
   ],
   "source": [
    "A = F.jacobian(y)\n",
    "A.subs([(q1, sp.pi/2)])"
   ]
  },
  {
   "cell_type": "code",
   "execution_count": 83,
   "metadata": {},
   "outputs": [
    {
     "data": {
      "text/plain": [
       "array([[1., 0., 0., 0.],\n",
       "       [0., 1., 0., 0.],\n",
       "       [0., 0., 2., 0.],\n",
       "       [0., 0., 0., 1.]])"
      ]
     },
     "execution_count": 83,
     "metadata": {},
     "output_type": "execute_result"
    }
   ],
   "source": [
    "E = np.eye(4)\n",
    "E[2, 2] = 2"
   ]
  },
  {
   "cell_type": "code",
   "execution_count": 86,
   "metadata": {},
   "outputs": [],
   "source": [
    "A = np.array([[0, 0, 1, 0], [0, 0, 0, 1], [0, 0, 0, 0], [0, 10, 0, 0]])"
   ]
  },
  {
   "cell_type": "code",
   "execution_count": 88,
   "metadata": {},
   "outputs": [
    {
     "ename": "SlycotResultWarning",
     "evalue": "\nDICO = 'C' and the pencil A - lambda * E has a\ndegenerate pair of eigenvalues. That is, lambda_i =\n-lambda_j for some i and j, where lambda_i and\nlambda_j are eigenvalues of A - lambda * E. Hence,\nequation (1) is singular;  perturbed values were\nused to solve the equation (but the matrices A and\nE are unchanged).",
     "output_type": "error",
     "traceback": [
      "\u001b[0;31m---------------------------------------------------------------------------\u001b[0m",
      "\u001b[0;31mSlycotResultWarning\u001b[0m                       Traceback (most recent call last)",
      "\u001b[0;32m<ipython-input-88-da9c609edbdf>\u001b[0m in \u001b[0;36m<module>\u001b[0;34m\u001b[0m\n\u001b[0;32m----> 1\u001b[0;31m \u001b[0mX2\u001b[0m \u001b[0;34m=\u001b[0m \u001b[0mcontrol\u001b[0m\u001b[0;34m.\u001b[0m\u001b[0mlyap\u001b[0m\u001b[0;34m(\u001b[0m\u001b[0mA\u001b[0m\u001b[0;34m.\u001b[0m\u001b[0mT\u001b[0m\u001b[0;34m,\u001b[0m \u001b[0mQ\u001b[0m\u001b[0;34m,\u001b[0m \u001b[0mE\u001b[0m \u001b[0;34m=\u001b[0m \u001b[0mE\u001b[0m\u001b[0;34m)\u001b[0m\u001b[0;34m\u001b[0m\u001b[0;34m\u001b[0m\u001b[0m\n\u001b[0m",
      "\u001b[0;32m~/.local/lib/python3.8/site-packages/control/mateqn.py\u001b[0m in \u001b[0;36mlyap\u001b[0;34m(A, Q, C, E, method)\u001b[0m\n\u001b[1;32m    207\u001b[0m             \u001b[0mwarnings\u001b[0m\u001b[0;34m.\u001b[0m\u001b[0msimplefilter\u001b[0m\u001b[0;34m(\u001b[0m\u001b[0;34m\"error\"\u001b[0m\u001b[0;34m,\u001b[0m \u001b[0mcategory\u001b[0m\u001b[0;34m=\u001b[0m\u001b[0mSlycotResultWarning\u001b[0m\u001b[0;34m)\u001b[0m\u001b[0;34m\u001b[0m\u001b[0;34m\u001b[0m\u001b[0m\n\u001b[1;32m    208\u001b[0m             \u001b[0mA\u001b[0m\u001b[0;34m,\u001b[0m \u001b[0mE\u001b[0m\u001b[0;34m,\u001b[0m \u001b[0mQ\u001b[0m\u001b[0;34m,\u001b[0m \u001b[0mZ\u001b[0m\u001b[0;34m,\u001b[0m \u001b[0mX\u001b[0m\u001b[0;34m,\u001b[0m \u001b[0mscale\u001b[0m\u001b[0;34m,\u001b[0m \u001b[0msep\u001b[0m\u001b[0;34m,\u001b[0m \u001b[0mferr\u001b[0m\u001b[0;34m,\u001b[0m \u001b[0malphar\u001b[0m\u001b[0;34m,\u001b[0m \u001b[0malphai\u001b[0m\u001b[0;34m,\u001b[0m \u001b[0mbeta\u001b[0m \u001b[0;34m=\u001b[0m\u001b[0;31m \u001b[0m\u001b[0;31m\\\u001b[0m\u001b[0;34m\u001b[0m\u001b[0;34m\u001b[0m\u001b[0m\n\u001b[0;32m--> 209\u001b[0;31m                 sg03ad('C', 'B', 'N', 'T', 'L', n,\n\u001b[0m\u001b[1;32m    210\u001b[0m                        A, E, eye(n, n), eye(n, n), -Q)\n\u001b[1;32m    211\u001b[0m \u001b[0;34m\u001b[0m\u001b[0m\n",
      "\u001b[0;32m~/.local/lib/python3.8/site-packages/slycot/synthesis.py\u001b[0m in \u001b[0;36msg03ad\u001b[0;34m(dico, job, fact, trans, uplo, N, A, E, Q, Z, X, ldwork)\u001b[0m\n\u001b[1;32m   1905\u001b[0m     \u001b[0mout\u001b[0m \u001b[0;34m=\u001b[0m \u001b[0m_wrapper\u001b[0m\u001b[0;34m.\u001b[0m\u001b[0msg03ad\u001b[0m\u001b[0;34m(\u001b[0m\u001b[0mdico\u001b[0m\u001b[0;34m,\u001b[0m\u001b[0mjob\u001b[0m\u001b[0;34m,\u001b[0m\u001b[0mfact\u001b[0m\u001b[0;34m,\u001b[0m\u001b[0mtrans\u001b[0m\u001b[0;34m,\u001b[0m\u001b[0muplo\u001b[0m\u001b[0;34m,\u001b[0m\u001b[0mN\u001b[0m\u001b[0;34m,\u001b[0m\u001b[0mA\u001b[0m\u001b[0;34m,\u001b[0m\u001b[0mE\u001b[0m\u001b[0;34m,\u001b[0m\u001b[0mQ\u001b[0m\u001b[0;34m,\u001b[0m\u001b[0mZ\u001b[0m\u001b[0;34m,\u001b[0m\u001b[0mX\u001b[0m\u001b[0;34m,\u001b[0m\u001b[0mldwork\u001b[0m\u001b[0;34m)\u001b[0m\u001b[0;34m\u001b[0m\u001b[0;34m\u001b[0m\u001b[0m\n\u001b[1;32m   1906\u001b[0m \u001b[0;34m\u001b[0m\u001b[0m\n\u001b[0;32m-> 1907\u001b[0;31m     \u001b[0mraise_if_slycot_error\u001b[0m\u001b[0;34m(\u001b[0m\u001b[0mout\u001b[0m\u001b[0;34m[\u001b[0m\u001b[0;34m-\u001b[0m\u001b[0;36m1\u001b[0m\u001b[0;34m]\u001b[0m\u001b[0;34m,\u001b[0m \u001b[0marg_list\u001b[0m\u001b[0;34m,\u001b[0m \u001b[0msg03ad\u001b[0m\u001b[0;34m.\u001b[0m\u001b[0m__doc__\u001b[0m\u001b[0;34m)\u001b[0m\u001b[0;34m\u001b[0m\u001b[0;34m\u001b[0m\u001b[0m\n\u001b[0m\u001b[1;32m   1908\u001b[0m \u001b[0;34m\u001b[0m\u001b[0m\n\u001b[1;32m   1909\u001b[0m     \u001b[0;32mreturn\u001b[0m \u001b[0mout\u001b[0m\u001b[0;34m[\u001b[0m\u001b[0;34m:\u001b[0m\u001b[0;34m-\u001b[0m\u001b[0;36m1\u001b[0m\u001b[0;34m]\u001b[0m\u001b[0;34m\u001b[0m\u001b[0;34m\u001b[0m\u001b[0m\n",
      "\u001b[0;32m~/.local/lib/python3.8/site-packages/slycot/exceptions.py\u001b[0m in \u001b[0;36mraise_if_slycot_error\u001b[0;34m(info, arg_list, docstring, checkvars)\u001b[0m\n\u001b[1;32m    239\u001b[0m         \u001b[0;32mif\u001b[0m \u001b[0mwarning\u001b[0m \u001b[0;32mand\u001b[0m \u001b[0mmessage\u001b[0m\u001b[0;34m:\u001b[0m\u001b[0;34m\u001b[0m\u001b[0;34m\u001b[0m\u001b[0m\n\u001b[1;32m    240\u001b[0m             \u001b[0mfmessage\u001b[0m \u001b[0;34m=\u001b[0m \u001b[0;34m'\\n'\u001b[0m \u001b[0;34m+\u001b[0m \u001b[0mmessage\u001b[0m\u001b[0;34m.\u001b[0m\u001b[0mformat\u001b[0m\u001b[0;34m(\u001b[0m\u001b[0;34m**\u001b[0m\u001b[0mcheckvars\u001b[0m\u001b[0;34m)\u001b[0m\u001b[0;34m.\u001b[0m\u001b[0mstrip\u001b[0m\u001b[0;34m(\u001b[0m\u001b[0;34m)\u001b[0m\u001b[0;34m\u001b[0m\u001b[0;34m\u001b[0m\u001b[0m\n\u001b[0;32m--> 241\u001b[0;31m             \u001b[0mwarn\u001b[0m\u001b[0;34m(\u001b[0m\u001b[0mglobals\u001b[0m\u001b[0;34m(\u001b[0m\u001b[0;34m)\u001b[0m\u001b[0;34m[\u001b[0m\u001b[0mwarning\u001b[0m\u001b[0;34m]\u001b[0m\u001b[0;34m(\u001b[0m\u001b[0mfmessage\u001b[0m\u001b[0;34m,\u001b[0m \u001b[0miwarn\u001b[0m\u001b[0;34m,\u001b[0m \u001b[0minfo\u001b[0m\u001b[0;34m)\u001b[0m\u001b[0;34m)\u001b[0m\u001b[0;34m\u001b[0m\u001b[0;34m\u001b[0m\u001b[0m\n\u001b[0m\u001b[1;32m    242\u001b[0m             \u001b[0;32mreturn\u001b[0m\u001b[0;34m\u001b[0m\u001b[0;34m\u001b[0m\u001b[0m\n\u001b[1;32m    243\u001b[0m \u001b[0;34m\u001b[0m\u001b[0m\n",
      "\u001b[0;31mSlycotResultWarning\u001b[0m: \nDICO = 'C' and the pencil A - lambda * E has a\ndegenerate pair of eigenvalues. That is, lambda_i =\n-lambda_j for some i and j, where lambda_i and\nlambda_j are eigenvalues of A - lambda * E. Hence,\nequation (1) is singular;  perturbed values were\nused to solve the equation (but the matrices A and\nE are unchanged)."
     ]
    }
   ],
   "source": [
    "X2 = control.lyap(A.T, Q, E = E)"
   ]
  },
  {
   "cell_type": "code",
   "execution_count": 89,
   "metadata": {},
   "outputs": [],
   "source": [
    "import math\n",
    "\n",
    "import matplotlib.pyplot as plt\n",
    "import mpld3\n",
    "import numpy as np\n",
    "from IPython.display import HTML, display\n",
    "from pydrake.all import (AddMultibodyPlantSceneGraph, ControllabilityMatrix,\n",
    "                         DiagramBuilder, Linearize, LinearQuadraticRegulator,\n",
    "                         MeshcatVisualizerCpp, Parser, Saturation, SceneGraph,\n",
    "                         Simulator, StartMeshcat, WrapToSystem)\n",
    "from pydrake.examples.acrobot import (AcrobotGeometry, AcrobotInput,\n",
    "                                      AcrobotPlant, AcrobotState)\n",
    "from pydrake.examples.quadrotor import (QuadrotorGeometry, QuadrotorPlant,\n",
    "                                        StabilizingLQRController)\n",
    "from pydrake.solvers.mathematicalprogram import MathematicalProgram, Solve\n",
    "\n",
    "from underactuated import FindResource, running_as_notebook\n",
    "from underactuated.meshcat_cpp_utils import MeshcatSliders\n",
    "from underactuated.quadrotor2d import Quadrotor2D, Quadrotor2DVisualizer\n",
    "\n",
    "if running_as_notebook:\n",
    "    mpld3.enable_notebook()\n"
   ]
  },
  {
   "cell_type": "code",
   "execution_count": 90,
   "metadata": {},
   "outputs": [
    {
     "name": "stderr",
     "output_type": "stream",
     "text": [
      "INFO:drake:Meshcat listening for connections at http://localhost:7001\n"
     ]
    }
   ],
   "source": [
    "meshcat = StartMeshcat()"
   ]
  },
  {
   "cell_type": "code",
   "execution_count": 91,
   "metadata": {},
   "outputs": [],
   "source": [
    "def cartpole_balancing_example():\n",
    "    def UprightState():\n",
    "        state = (0, np.pi, 0, 0)\n",
    "        return state\n",
    "\n",
    "    def Controllability(plant):\n",
    "        context = plant.CreateDefaultContext()\n",
    "        plant.get_actuation_input_port().FixValue(context, [0])\n",
    "        plant.SetPositionsAndVelocities(context, UprightState())\n",
    "\n",
    "        linearized_plant = Linearize(\n",
    "            plant,\n",
    "            context,\n",
    "            input_port_index=plant.get_actuation_input_port().get_index(), output_port_index=plant.get_state_output_port().get_index())\n",
    "        print(linearized_plant.A())\n",
    "        print(linearized_plant.B())\n",
    "        print(\n",
    "            f\"The singular values of the controllability matrix are: {np.linalg.svd(ControllabilityMatrix(linearized_plant), compute_uv=False)}\"\n",
    "        )\n",
    "\n",
    "    def BalancingLQR(plant):\n",
    "        # Design an LQR controller for stabilizing the CartPole around the upright.\n",
    "        # Returns a (static) AffineSystem that implements the controller (in\n",
    "        # the original CartPole coordinates).\n",
    "\n",
    "        context = plant.CreateDefaultContext()\n",
    "        plant.get_actuation_input_port().FixValue(context, [0])\n",
    "\n",
    "        plant.SetPositionsAndVelocities(context, UprightState())\n",
    "\n",
    "        Q = np.diag((10., 10., 1., 1.))\n",
    "        R = np.array([1])\n",
    "\n",
    "        # MultibodyPlant has many (optional) input ports, so we must pass the\n",
    "        # input_port_index to LQR.\n",
    "        return LinearQuadraticRegulator(\n",
    "            plant,\n",
    "            context,\n",
    "            Q,\n",
    "            R,\n",
    "            input_port_index=plant.get_actuation_input_port().get_index())\n",
    "\n",
    "\n",
    "    builder = DiagramBuilder()\n",
    "    plant, scene_graph = AddMultibodyPlantSceneGraph(builder, time_step=0.1)\n",
    "    file_name = FindResource(\"models/cartpole.urdf\")\n",
    "    Parser(plant).AddModelFromFile(file_name)\n",
    "    plant.Finalize()\n",
    "\n",
    "    controller = builder.AddSystem(BalancingLQR(plant))\n",
    "    builder.Connect(plant.get_state_output_port(), controller.get_input_port(0))\n",
    "    builder.Connect(controller.get_output_port(0),\n",
    "                    plant.get_actuation_input_port())\n",
    "\n",
    "    # Setup visualization\n",
    "    meshcat.Delete()\n",
    "    meshcat.Set2dRenderMode(xmin=-2.5, xmax=2.5, ymin=-1.0, ymax=2.5)\n",
    "    MeshcatVisualizerCpp.AddToBuilder(builder, scene_graph, meshcat)\n",
    "\n",
    "    diagram = builder.Build()\n",
    "\n",
    "    # Set up a simulator to run this diagram\n",
    "    simulator = Simulator(diagram)\n",
    "    context = simulator.get_mutable_context()\n",
    "    plant_context = plant.GetMyMutableContextFromRoot(context)\n",
    "\n",
    "    # Simulate\n",
    "    simulator.set_target_realtime_rate(1.0 if running_as_notebook else 0.0)\n",
    "    duration = 5.0 if running_as_notebook else 0.1\n",
    "    for i in range(5):\n",
    "        context.SetTime(0.)\n",
    "        plant.SetPositionsAndVelocities(\n",
    "            plant_context,\n",
    "            UprightState() + 0.1 * np.random.randn(4,))\n",
    "        simulator.Initialize()\n",
    "        simulator.AdvanceTo(duration)\n",
    "\n",
    "np.set_printoptions(formatter={'float': lambda x: \"{0:0.4f}\".format(x)})\n",
    "cartpole_balancing_example()"
   ]
  },
  {
   "cell_type": "code",
   "execution_count": 94,
   "metadata": {},
   "outputs": [
    {
     "name": "stdout",
     "output_type": "stream",
     "text": [
      "[[1.0000 0.0098 0.1000 0.0000]\n",
      " [0.0000 1.2158 0.0000 0.1000]\n",
      " [0.0000 0.0981 1.0000 0.0000]\n",
      " [0.0000 2.1582 0.0000 1.0000]]\n",
      "[[0.0010]\n",
      " [0.0020]\n",
      " [0.0100]\n",
      " [0.0200]]\n",
      "The singular values of the controllability matrix are: [0.0735 0.0069 0.0009 0.0000]\n"
     ]
    }
   ],
   "source": [
    "def UprightState():\n",
    "    state = (0, np.pi, 0, 0)\n",
    "    return state\n",
    "\n",
    "\n",
    "builder = DiagramBuilder()\n",
    "plant, scene_graph = AddMultibodyPlantSceneGraph(builder, time_step=0.1)\n",
    "file_name = FindResource(\"models/cartpole.urdf\")\n",
    "Parser(plant).AddModelFromFile(file_name)\n",
    "plant.Finalize()\n",
    "\n",
    "\n",
    "context = plant.CreateDefaultContext()\n",
    "plant.get_actuation_input_port().FixValue(context, [0])\n",
    "plant.SetPositionsAndVelocities(context, UprightState())\n",
    "\n",
    "linearized_plant = Linearize(\n",
    "    plant,\n",
    "    context,\n",
    "    input_port_index=plant.get_actuation_input_port().get_index(), output_port_index=plant.get_state_output_port().get_index())\n",
    "\n",
    "print(linearized_plant.A())\n",
    "print(linearized_plant.B())\n",
    "print(\n",
    "    f\"The singular values of the controllability matrix are: {np.linalg.svd(ControllabilityMatrix(linearized_plant), compute_uv=False)}\"\n",
    ")"
   ]
  },
  {
   "cell_type": "code",
   "execution_count": null,
   "metadata": {},
   "outputs": [],
   "source": []
  }
 ],
 "metadata": {
  "kernelspec": {
   "display_name": "Python 3",
   "language": "python",
   "name": "python3"
  },
  "language_info": {
   "codemirror_mode": {
    "name": "ipython",
    "version": 3
   },
   "file_extension": ".py",
   "mimetype": "text/x-python",
   "name": "python",
   "nbconvert_exporter": "python",
   "pygments_lexer": "ipython3",
   "version": "3.8.10"
  }
 },
 "nbformat": 4,
 "nbformat_minor": 4
}
