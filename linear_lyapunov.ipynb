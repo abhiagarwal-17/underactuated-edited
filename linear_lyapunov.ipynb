{
 "cells": [
  {
   "cell_type": "markdown",
   "metadata": {},
   "source": [
    "## Standard Continuous Time Lyapunov Equation"
   ]
  },
  {
   "cell_type": "code",
   "execution_count": 1,
   "metadata": {},
   "outputs": [],
   "source": [
    "import scipy\n",
    "import control\n",
    "import numpy as np\n",
    "import sympy as sp\n",
    "from sympy.physics.vector import dynamicsymbols as dynamicsymbols\n",
    "\n",
    "from pydrake.all import (LinearQuadraticRegulator, MathematicalProgram, Variables,\n",
    "                         Solve, RealContinuousLyapunovEquation)\n",
    "\n",
    "import matplotlib.pyplot as plt\n",
    "import mpld3\n",
    "import numpy as np\n",
    "from IPython.display import Markdown, display\n",
    "from pydrake.all import (Jacobian, MathematicalProgram, Polynomial,\n",
    "                         RegionOfAttraction, RegionOfAttractionOptions, Solve,\n",
    "                         SymbolicVectorSystem, ToLatex, Variable, Variables,\n",
    "                         plot_sublevelset_expression)\n",
    "from pydrake.examples.pendulum import PendulumParams\n",
    "from pydrake.examples.van_der_pol import VanDerPolOscillator\n",
    "from pydrake.symbolic import Polynomial\n",
    "\n",
    "from underactuated import plot_2d_phase_portrait, running_as_notebook\n",
    "\n",
    "if running_as_notebook:\n",
    "    mpld3.enable_notebook()\n",
    "\n",
    "import math"
   ]
  },
  {
   "cell_type": "code",
   "execution_count": 18,
   "metadata": {},
   "outputs": [],
   "source": [
    "f = lambda x: [- x[1], x[0] + (x[0]**2 - 1) * x[1]]"
   ]
  },
  {
   "cell_type": "code",
   "execution_count": 19,
   "metadata": {},
   "outputs": [],
   "source": [
    "A = np.array([[0, -1], [1, -1]])\n",
    "Q = np.eye(2)"
   ]
  },
  {
   "cell_type": "code",
   "execution_count": 20,
   "metadata": {},
   "outputs": [],
   "source": [
    "X1 = control.lyap(A.T, Q)"
   ]
  },
  {
   "cell_type": "code",
   "execution_count": 21,
   "metadata": {},
   "outputs": [
    {
     "data": {
      "text/plain": [
       "array([[ 1.5, -0.5],\n",
       "       [-0.5,  1. ]])"
      ]
     },
     "execution_count": 21,
     "metadata": {},
     "output_type": "execute_result"
    }
   ],
   "source": [
    "X1"
   ]
  },
  {
   "cell_type": "code",
   "execution_count": 22,
   "metadata": {},
   "outputs": [],
   "source": [
    "E = np.eye(2)"
   ]
  },
  {
   "cell_type": "code",
   "execution_count": 23,
   "metadata": {},
   "outputs": [],
   "source": [
    "X2 = control.lyap(A.T, Q, E = E)"
   ]
  },
  {
   "cell_type": "code",
   "execution_count": 24,
   "metadata": {},
   "outputs": [
    {
     "data": {
      "text/plain": [
       "array([[ 1.5, -0.5],\n",
       "       [-0.5,  1. ]])"
      ]
     },
     "execution_count": 24,
     "metadata": {},
     "output_type": "execute_result"
    }
   ],
   "source": [
    "X2"
   ]
  },
  {
   "cell_type": "markdown",
   "metadata": {},
   "source": [
    "## Cart Pole Dynamics\n",
    "\n",
    "For reference of dynamics, see Shen Shen's quotient ring optimization paper. \n",
    "Assume unit mass and unit length\n",
    "\n",
    "Write the dynamics as \n",
    "M $\\times$ y = F"
   ]
  },
  {
   "cell_type": "code",
   "execution_count": 25,
   "metadata": {},
   "outputs": [],
   "source": [
    "g, t = sp.symbols('g t')\n",
    "u = sp.symbols('u')\n",
    "q0, q1 = dynamicsymbols('q0 q1')"
   ]
  },
  {
   "cell_type": "code",
   "execution_count": 26,
   "metadata": {},
   "outputs": [],
   "source": [
    "q0_dot = sp.diff(q0, t)\n",
    "q1_dot = sp.diff(q1, t)\n",
    "\n",
    "q0_dotdot = sp.diff(q0_dot, t)\n",
    "q1_dotdot = sp.diff(q1_dot, t)"
   ]
  },
  {
   "cell_type": "code",
   "execution_count": 36,
   "metadata": {},
   "outputs": [],
   "source": [
    "# state vector\n",
    "y = sp.Matrix([q0, q1, q0_dot, q1_dot])\n",
    "y_dot = sp.Matrix([q0_dot, q1_dot, q0_dotdot, q1_dotdot])\n",
    "\n",
    "# force vector\n",
    "F = sp.Matrix([q0_dot, q1_dot, -(q1_dot**2)*sp.sin(q1), 1*g*sp.sin(q1)])\n",
    "\n",
    "# mass matrix\n",
    "M = sp.Matrix([[1, 0, 0, 0], [0, 1, 0, 0], [0, 0, 2, sp.cos(q1)], [0, 0, sp.cos(q1), 1]]) "
   ]
  },
  {
   "cell_type": "markdown",
   "metadata": {},
   "source": [
    "## Cart Pole Explicitly\n",
    "\n",
    "Write the dynamics as $\\dot{y}$ = f(y)"
   ]
  },
  {
   "cell_type": "code",
   "execution_count": 37,
   "metadata": {},
   "outputs": [
    {
     "data": {
      "text/latex": [
       "$\\displaystyle \\left[\\begin{matrix}\\frac{d}{d t} \\operatorname{q_{0}}{\\left(t \\right)}\\\\\\frac{d}{d t} \\operatorname{q_{1}}{\\left(t \\right)}\\\\\\frac{\\left(g \\cos{\\left(\\operatorname{q_{1}}{\\left(t \\right)} \\right)} + \\left(\\frac{d}{d t} \\operatorname{q_{1}}{\\left(t \\right)}\\right)^{2}\\right) \\sin{\\left(\\operatorname{q_{1}}{\\left(t \\right)} \\right)}}{\\cos^{2}{\\left(\\operatorname{q_{1}}{\\left(t \\right)} \\right)} - 2}\\\\- \\frac{\\left(2 g + \\cos{\\left(\\operatorname{q_{1}}{\\left(t \\right)} \\right)} \\left(\\frac{d}{d t} \\operatorname{q_{1}}{\\left(t \\right)}\\right)^{2}\\right) \\sin{\\left(\\operatorname{q_{1}}{\\left(t \\right)} \\right)}}{\\cos^{2}{\\left(\\operatorname{q_{1}}{\\left(t \\right)} \\right)} - 2}\\end{matrix}\\right]$"
      ],
      "text/plain": [
       "Matrix([\n",
       "[                                                      Derivative(q0(t), t)],\n",
       "[                                                      Derivative(q1(t), t)],\n",
       "[   (g*cos(q1(t)) + Derivative(q1(t), t)**2)*sin(q1(t))/(cos(q1(t))**2 - 2)],\n",
       "[-(2*g + cos(q1(t))*Derivative(q1(t), t)**2)*sin(q1(t))/(cos(q1(t))**2 - 2)]])"
      ]
     },
     "execution_count": 37,
     "metadata": {},
     "output_type": "execute_result"
    }
   ],
   "source": [
    "f = sp.simplify(M.inv()*F)\n",
    "\n",
    "f"
   ]
  },
  {
   "cell_type": "code",
   "execution_count": 39,
   "metadata": {},
   "outputs": [
    {
     "data": {
      "text/latex": [
       "$\\displaystyle \\left[\\begin{matrix}0 & 0 & 1 & 0\\\\0 & 0 & 0 & 1\\\\0 & -1 & 0 & 0\\\\0 & -2 & 0 & 0\\end{matrix}\\right]$"
      ],
      "text/plain": [
       "Matrix([\n",
       "[0,  0, 1, 0],\n",
       "[0,  0, 0, 1],\n",
       "[0, -1, 0, 0],\n",
       "[0, -2, 0, 0]])"
      ]
     },
     "execution_count": 39,
     "metadata": {},
     "output_type": "execute_result"
    }
   ],
   "source": [
    "# linearize now\n",
    "A = f.jacobian(y)\n",
    "\n",
    "# substitute values at equilibrium point\n",
    "sp.simplify(A.subs([(q1, sp.pi), (g, 1)]))"
   ]
  },
  {
   "cell_type": "code",
   "execution_count": 40,
   "metadata": {},
   "outputs": [],
   "source": [
    "A = np.array([[0, 0, 1, 0], [0, 0, 0, 1], [0, 10, 0, 0], [0, 20, 0, 0]])\n",
    "Q = np.eye(4)"
   ]
  },
  {
   "cell_type": "code",
   "execution_count": 41,
   "metadata": {},
   "outputs": [
    {
     "ename": "SlycotResultWarning",
     "evalue": "\nThe matrices `A` and `-A'` have common or very close eigenvalues",
     "output_type": "error",
     "traceback": [
      "\u001b[0;31m---------------------------------------------------------------------------\u001b[0m",
      "\u001b[0;31mSlycotResultWarning\u001b[0m                       Traceback (most recent call last)",
      "\u001b[0;32m<ipython-input-41-b1d5668ade0a>\u001b[0m in \u001b[0;36m<module>\u001b[0;34m\u001b[0m\n\u001b[0;32m----> 1\u001b[0;31m \u001b[0mX1\u001b[0m \u001b[0;34m=\u001b[0m \u001b[0mcontrol\u001b[0m\u001b[0;34m.\u001b[0m\u001b[0mlyap\u001b[0m\u001b[0;34m(\u001b[0m\u001b[0mA\u001b[0m\u001b[0;34m.\u001b[0m\u001b[0mT\u001b[0m\u001b[0;34m,\u001b[0m \u001b[0mQ\u001b[0m\u001b[0;34m)\u001b[0m\u001b[0;34m\u001b[0m\u001b[0;34m\u001b[0m\u001b[0m\n\u001b[0m",
      "\u001b[0;32m~/.local/lib/python3.8/site-packages/control/mateqn.py\u001b[0m in \u001b[0;36mlyap\u001b[0;34m(A, Q, C, E, method)\u001b[0m\n\u001b[1;32m    170\u001b[0m             \u001b[0mwarnings\u001b[0m\u001b[0;34m.\u001b[0m\u001b[0msimplefilter\u001b[0m\u001b[0;34m(\u001b[0m\u001b[0;34m\"error\"\u001b[0m\u001b[0;34m,\u001b[0m \u001b[0mcategory\u001b[0m\u001b[0;34m=\u001b[0m\u001b[0mSlycotResultWarning\u001b[0m\u001b[0;34m)\u001b[0m\u001b[0;34m\u001b[0m\u001b[0;34m\u001b[0m\u001b[0m\n\u001b[1;32m    171\u001b[0m             \u001b[0mX\u001b[0m\u001b[0;34m,\u001b[0m \u001b[0mscale\u001b[0m\u001b[0;34m,\u001b[0m \u001b[0msep\u001b[0m\u001b[0;34m,\u001b[0m \u001b[0mferr\u001b[0m\u001b[0;34m,\u001b[0m \u001b[0mw\u001b[0m \u001b[0;34m=\u001b[0m\u001b[0;31m \u001b[0m\u001b[0;31m\\\u001b[0m\u001b[0;34m\u001b[0m\u001b[0;34m\u001b[0m\u001b[0m\n\u001b[0;32m--> 172\u001b[0;31m                 \u001b[0msb03md\u001b[0m\u001b[0;34m(\u001b[0m\u001b[0mn\u001b[0m\u001b[0;34m,\u001b[0m \u001b[0;34m-\u001b[0m\u001b[0mQ\u001b[0m\u001b[0;34m,\u001b[0m \u001b[0mA\u001b[0m\u001b[0;34m,\u001b[0m \u001b[0meye\u001b[0m\u001b[0;34m(\u001b[0m\u001b[0mn\u001b[0m\u001b[0;34m,\u001b[0m \u001b[0mn\u001b[0m\u001b[0;34m)\u001b[0m\u001b[0;34m,\u001b[0m \u001b[0;34m'C'\u001b[0m\u001b[0;34m,\u001b[0m \u001b[0mtrana\u001b[0m\u001b[0;34m=\u001b[0m\u001b[0;34m'T'\u001b[0m\u001b[0;34m)\u001b[0m\u001b[0;34m\u001b[0m\u001b[0;34m\u001b[0m\u001b[0m\n\u001b[0m\u001b[1;32m    173\u001b[0m \u001b[0;34m\u001b[0m\u001b[0m\n\u001b[1;32m    174\u001b[0m     \u001b[0;31m# Solve the Sylvester equation\u001b[0m\u001b[0;34m\u001b[0m\u001b[0;34m\u001b[0m\u001b[0;34m\u001b[0m\u001b[0m\n",
      "\u001b[0;32m~/.local/lib/python3.8/site-packages/slycot/synthesis.py\u001b[0m in \u001b[0;36msb03md\u001b[0;34m(n, C, A, U, dico, job, fact, trana, ldwork)\u001b[0m\n\u001b[1;32m    791\u001b[0m         \u001b[0;32mraise\u001b[0m \u001b[0mSlycotParameterError\u001b[0m\u001b[0;34m(\u001b[0m\u001b[0;34m'dico must be either D or C'\u001b[0m\u001b[0;34m,\u001b[0m \u001b[0;34m-\u001b[0m\u001b[0;36m1\u001b[0m\u001b[0;34m)\u001b[0m\u001b[0;34m\u001b[0m\u001b[0;34m\u001b[0m\u001b[0m\n\u001b[1;32m    792\u001b[0m     \u001b[0mout\u001b[0m \u001b[0;34m=\u001b[0m \u001b[0m_wrapper\u001b[0m\u001b[0;34m.\u001b[0m\u001b[0msb03md\u001b[0m\u001b[0;34m(\u001b[0m\u001b[0mdico\u001b[0m\u001b[0;34m,\u001b[0m\u001b[0mn\u001b[0m\u001b[0;34m,\u001b[0m\u001b[0mC\u001b[0m\u001b[0;34m,\u001b[0m\u001b[0mA\u001b[0m\u001b[0;34m,\u001b[0m\u001b[0mU\u001b[0m\u001b[0;34m,\u001b[0m\u001b[0mjob\u001b[0m\u001b[0;34m=\u001b[0m\u001b[0mjob\u001b[0m\u001b[0;34m,\u001b[0m\u001b[0mfact\u001b[0m\u001b[0;34m=\u001b[0m\u001b[0mfact\u001b[0m\u001b[0;34m,\u001b[0m\u001b[0mtrana\u001b[0m\u001b[0;34m=\u001b[0m\u001b[0mtrana\u001b[0m\u001b[0;34m,\u001b[0m\u001b[0mldwork\u001b[0m\u001b[0;34m=\u001b[0m\u001b[0mldwork\u001b[0m\u001b[0;34m)\u001b[0m\u001b[0;34m\u001b[0m\u001b[0;34m\u001b[0m\u001b[0m\n\u001b[0;32m--> 793\u001b[0;31m     \u001b[0mraise_if_slycot_error\u001b[0m\u001b[0;34m(\u001b[0m\u001b[0mout\u001b[0m\u001b[0;34m[\u001b[0m\u001b[0;34m-\u001b[0m\u001b[0;36m1\u001b[0m\u001b[0;34m]\u001b[0m\u001b[0;34m,\u001b[0m \u001b[0marg_list\u001b[0m\u001b[0;34m,\u001b[0m \u001b[0msb03md\u001b[0m\u001b[0;34m.\u001b[0m\u001b[0m__doc__\u001b[0m\u001b[0;34m,\u001b[0m \u001b[0mlocals\u001b[0m\u001b[0;34m(\u001b[0m\u001b[0;34m)\u001b[0m\u001b[0;34m)\u001b[0m\u001b[0;34m\u001b[0m\u001b[0;34m\u001b[0m\u001b[0m\n\u001b[0m\u001b[1;32m    794\u001b[0m     \u001b[0mX\u001b[0m\u001b[0;34m,\u001b[0m\u001b[0mscale\u001b[0m\u001b[0;34m,\u001b[0m\u001b[0msep\u001b[0m\u001b[0;34m,\u001b[0m\u001b[0mferr\u001b[0m\u001b[0;34m,\u001b[0m\u001b[0mwr\u001b[0m\u001b[0;34m,\u001b[0m\u001b[0mwi\u001b[0m \u001b[0;34m=\u001b[0m \u001b[0mout\u001b[0m\u001b[0;34m[\u001b[0m\u001b[0;34m:\u001b[0m\u001b[0;34m-\u001b[0m\u001b[0;36m1\u001b[0m\u001b[0;34m]\u001b[0m\u001b[0;34m\u001b[0m\u001b[0;34m\u001b[0m\u001b[0m\n\u001b[1;32m    795\u001b[0m     \u001b[0mw\u001b[0m \u001b[0;34m=\u001b[0m \u001b[0m_np\u001b[0m\u001b[0;34m.\u001b[0m\u001b[0mzeros\u001b[0m\u001b[0;34m(\u001b[0m\u001b[0mn\u001b[0m\u001b[0;34m,\u001b[0m\u001b[0;34m'complex64'\u001b[0m\u001b[0;34m)\u001b[0m\u001b[0;34m\u001b[0m\u001b[0;34m\u001b[0m\u001b[0m\n",
      "\u001b[0;32m~/.local/lib/python3.8/site-packages/slycot/exceptions.py\u001b[0m in \u001b[0;36mraise_if_slycot_error\u001b[0;34m(info, arg_list, docstring, checkvars)\u001b[0m\n\u001b[1;32m    239\u001b[0m         \u001b[0;32mif\u001b[0m \u001b[0mwarning\u001b[0m \u001b[0;32mand\u001b[0m \u001b[0mmessage\u001b[0m\u001b[0;34m:\u001b[0m\u001b[0;34m\u001b[0m\u001b[0;34m\u001b[0m\u001b[0m\n\u001b[1;32m    240\u001b[0m             \u001b[0mfmessage\u001b[0m \u001b[0;34m=\u001b[0m \u001b[0;34m'\\n'\u001b[0m \u001b[0;34m+\u001b[0m \u001b[0mmessage\u001b[0m\u001b[0;34m.\u001b[0m\u001b[0mformat\u001b[0m\u001b[0;34m(\u001b[0m\u001b[0;34m**\u001b[0m\u001b[0mcheckvars\u001b[0m\u001b[0;34m)\u001b[0m\u001b[0;34m.\u001b[0m\u001b[0mstrip\u001b[0m\u001b[0;34m(\u001b[0m\u001b[0;34m)\u001b[0m\u001b[0;34m\u001b[0m\u001b[0;34m\u001b[0m\u001b[0m\n\u001b[0;32m--> 241\u001b[0;31m             \u001b[0mwarn\u001b[0m\u001b[0;34m(\u001b[0m\u001b[0mglobals\u001b[0m\u001b[0;34m(\u001b[0m\u001b[0;34m)\u001b[0m\u001b[0;34m[\u001b[0m\u001b[0mwarning\u001b[0m\u001b[0;34m]\u001b[0m\u001b[0;34m(\u001b[0m\u001b[0mfmessage\u001b[0m\u001b[0;34m,\u001b[0m \u001b[0miwarn\u001b[0m\u001b[0;34m,\u001b[0m \u001b[0minfo\u001b[0m\u001b[0;34m)\u001b[0m\u001b[0;34m)\u001b[0m\u001b[0;34m\u001b[0m\u001b[0;34m\u001b[0m\u001b[0m\n\u001b[0m\u001b[1;32m    242\u001b[0m             \u001b[0;32mreturn\u001b[0m\u001b[0;34m\u001b[0m\u001b[0;34m\u001b[0m\u001b[0m\n\u001b[1;32m    243\u001b[0m \u001b[0;34m\u001b[0m\u001b[0m\n",
      "\u001b[0;31mSlycotResultWarning\u001b[0m: \nThe matrices `A` and `-A'` have common or very close eigenvalues"
     ]
    }
   ],
   "source": [
    "X1 = control.lyap(A.T, Q)"
   ]
  },
  {
   "cell_type": "code",
   "execution_count": 42,
   "metadata": {},
   "outputs": [
    {
     "ename": "RuntimeError",
     "evalue": "RealContinuousLyapunovEquation(): Solution is not unique!",
     "output_type": "error",
     "traceback": [
      "\u001b[0;31m---------------------------------------------------------------------------\u001b[0m",
      "\u001b[0;31mRuntimeError\u001b[0m                              Traceback (most recent call last)",
      "\u001b[0;32m<ipython-input-42-ea9488a6689f>\u001b[0m in \u001b[0;36m<module>\u001b[0;34m\u001b[0m\n\u001b[0;32m----> 1\u001b[0;31m \u001b[0mP\u001b[0m \u001b[0;34m=\u001b[0m \u001b[0mRealContinuousLyapunovEquation\u001b[0m\u001b[0;34m(\u001b[0m\u001b[0mA\u001b[0m\u001b[0;34m,\u001b[0m \u001b[0mQ\u001b[0m\u001b[0;34m)\u001b[0m\u001b[0;34m\u001b[0m\u001b[0;34m\u001b[0m\u001b[0m\n\u001b[0m",
      "\u001b[0;31mRuntimeError\u001b[0m: RealContinuousLyapunovEquation(): Solution is not unique!"
     ]
    }
   ],
   "source": [
    "P = RealContinuousLyapunovEquation(A, Q)"
   ]
  },
  {
   "cell_type": "markdown",
   "metadata": {},
   "source": [
    "## Cart Pole Implicitly"
   ]
  },
  {
   "cell_type": "code",
   "execution_count": 85,
   "metadata": {},
   "outputs": [
    {
     "data": {
      "text/latex": [
       "$\\displaystyle \\left[\\begin{matrix}0 & 0 & 1 & 0\\\\0 & 0 & 0 & 1\\\\0 & - \\frac{d}{d t} \\frac{\\pi}{2} & 0 & 0\\\\0 & g & 0 & 0\\end{matrix}\\right]$"
      ],
      "text/plain": [
       "Matrix([\n",
       "[0,                    0, 1, 0],\n",
       "[0,                    0, 0, 1],\n",
       "[0, -Derivative(pi/2, t), 0, 0],\n",
       "[0,                    g, 0, 0]])"
      ]
     },
     "execution_count": 85,
     "metadata": {},
     "output_type": "execute_result"
    }
   ],
   "source": [
    "A = F.jacobian(y)\n",
    "A.subs([(q1, sp.pi/2)])"
   ]
  },
  {
   "cell_type": "code",
   "execution_count": 83,
   "metadata": {},
   "outputs": [
    {
     "data": {
      "text/plain": [
       "array([[1., 0., 0., 0.],\n",
       "       [0., 1., 0., 0.],\n",
       "       [0., 0., 2., 0.],\n",
       "       [0., 0., 0., 1.]])"
      ]
     },
     "execution_count": 83,
     "metadata": {},
     "output_type": "execute_result"
    }
   ],
   "source": [
    "E = np.eye(4)\n",
    "E[2, 2] = 2"
   ]
  },
  {
   "cell_type": "code",
   "execution_count": 86,
   "metadata": {},
   "outputs": [],
   "source": [
    "A = np.array([[0, 0, 1, 0], [0, 0, 0, 1], [0, 0, 0, 0], [0, 10, 0, 0]])"
   ]
  },
  {
   "cell_type": "code",
   "execution_count": 88,
   "metadata": {},
   "outputs": [
    {
     "ename": "SlycotResultWarning",
     "evalue": "\nDICO = 'C' and the pencil A - lambda * E has a\ndegenerate pair of eigenvalues. That is, lambda_i =\n-lambda_j for some i and j, where lambda_i and\nlambda_j are eigenvalues of A - lambda * E. Hence,\nequation (1) is singular;  perturbed values were\nused to solve the equation (but the matrices A and\nE are unchanged).",
     "output_type": "error",
     "traceback": [
      "\u001b[0;31m---------------------------------------------------------------------------\u001b[0m",
      "\u001b[0;31mSlycotResultWarning\u001b[0m                       Traceback (most recent call last)",
      "\u001b[0;32m<ipython-input-88-da9c609edbdf>\u001b[0m in \u001b[0;36m<module>\u001b[0;34m\u001b[0m\n\u001b[0;32m----> 1\u001b[0;31m \u001b[0mX2\u001b[0m \u001b[0;34m=\u001b[0m \u001b[0mcontrol\u001b[0m\u001b[0;34m.\u001b[0m\u001b[0mlyap\u001b[0m\u001b[0;34m(\u001b[0m\u001b[0mA\u001b[0m\u001b[0;34m.\u001b[0m\u001b[0mT\u001b[0m\u001b[0;34m,\u001b[0m \u001b[0mQ\u001b[0m\u001b[0;34m,\u001b[0m \u001b[0mE\u001b[0m \u001b[0;34m=\u001b[0m \u001b[0mE\u001b[0m\u001b[0;34m)\u001b[0m\u001b[0;34m\u001b[0m\u001b[0;34m\u001b[0m\u001b[0m\n\u001b[0m",
      "\u001b[0;32m~/.local/lib/python3.8/site-packages/control/mateqn.py\u001b[0m in \u001b[0;36mlyap\u001b[0;34m(A, Q, C, E, method)\u001b[0m\n\u001b[1;32m    207\u001b[0m             \u001b[0mwarnings\u001b[0m\u001b[0;34m.\u001b[0m\u001b[0msimplefilter\u001b[0m\u001b[0;34m(\u001b[0m\u001b[0;34m\"error\"\u001b[0m\u001b[0;34m,\u001b[0m \u001b[0mcategory\u001b[0m\u001b[0;34m=\u001b[0m\u001b[0mSlycotResultWarning\u001b[0m\u001b[0;34m)\u001b[0m\u001b[0;34m\u001b[0m\u001b[0;34m\u001b[0m\u001b[0m\n\u001b[1;32m    208\u001b[0m             \u001b[0mA\u001b[0m\u001b[0;34m,\u001b[0m \u001b[0mE\u001b[0m\u001b[0;34m,\u001b[0m \u001b[0mQ\u001b[0m\u001b[0;34m,\u001b[0m \u001b[0mZ\u001b[0m\u001b[0;34m,\u001b[0m \u001b[0mX\u001b[0m\u001b[0;34m,\u001b[0m \u001b[0mscale\u001b[0m\u001b[0;34m,\u001b[0m \u001b[0msep\u001b[0m\u001b[0;34m,\u001b[0m \u001b[0mferr\u001b[0m\u001b[0;34m,\u001b[0m \u001b[0malphar\u001b[0m\u001b[0;34m,\u001b[0m \u001b[0malphai\u001b[0m\u001b[0;34m,\u001b[0m \u001b[0mbeta\u001b[0m \u001b[0;34m=\u001b[0m\u001b[0;31m \u001b[0m\u001b[0;31m\\\u001b[0m\u001b[0;34m\u001b[0m\u001b[0;34m\u001b[0m\u001b[0m\n\u001b[0;32m--> 209\u001b[0;31m                 sg03ad('C', 'B', 'N', 'T', 'L', n,\n\u001b[0m\u001b[1;32m    210\u001b[0m                        A, E, eye(n, n), eye(n, n), -Q)\n\u001b[1;32m    211\u001b[0m \u001b[0;34m\u001b[0m\u001b[0m\n",
      "\u001b[0;32m~/.local/lib/python3.8/site-packages/slycot/synthesis.py\u001b[0m in \u001b[0;36msg03ad\u001b[0;34m(dico, job, fact, trans, uplo, N, A, E, Q, Z, X, ldwork)\u001b[0m\n\u001b[1;32m   1905\u001b[0m     \u001b[0mout\u001b[0m \u001b[0;34m=\u001b[0m \u001b[0m_wrapper\u001b[0m\u001b[0;34m.\u001b[0m\u001b[0msg03ad\u001b[0m\u001b[0;34m(\u001b[0m\u001b[0mdico\u001b[0m\u001b[0;34m,\u001b[0m\u001b[0mjob\u001b[0m\u001b[0;34m,\u001b[0m\u001b[0mfact\u001b[0m\u001b[0;34m,\u001b[0m\u001b[0mtrans\u001b[0m\u001b[0;34m,\u001b[0m\u001b[0muplo\u001b[0m\u001b[0;34m,\u001b[0m\u001b[0mN\u001b[0m\u001b[0;34m,\u001b[0m\u001b[0mA\u001b[0m\u001b[0;34m,\u001b[0m\u001b[0mE\u001b[0m\u001b[0;34m,\u001b[0m\u001b[0mQ\u001b[0m\u001b[0;34m,\u001b[0m\u001b[0mZ\u001b[0m\u001b[0;34m,\u001b[0m\u001b[0mX\u001b[0m\u001b[0;34m,\u001b[0m\u001b[0mldwork\u001b[0m\u001b[0;34m)\u001b[0m\u001b[0;34m\u001b[0m\u001b[0;34m\u001b[0m\u001b[0m\n\u001b[1;32m   1906\u001b[0m \u001b[0;34m\u001b[0m\u001b[0m\n\u001b[0;32m-> 1907\u001b[0;31m     \u001b[0mraise_if_slycot_error\u001b[0m\u001b[0;34m(\u001b[0m\u001b[0mout\u001b[0m\u001b[0;34m[\u001b[0m\u001b[0;34m-\u001b[0m\u001b[0;36m1\u001b[0m\u001b[0;34m]\u001b[0m\u001b[0;34m,\u001b[0m \u001b[0marg_list\u001b[0m\u001b[0;34m,\u001b[0m \u001b[0msg03ad\u001b[0m\u001b[0;34m.\u001b[0m\u001b[0m__doc__\u001b[0m\u001b[0;34m)\u001b[0m\u001b[0;34m\u001b[0m\u001b[0;34m\u001b[0m\u001b[0m\n\u001b[0m\u001b[1;32m   1908\u001b[0m \u001b[0;34m\u001b[0m\u001b[0m\n\u001b[1;32m   1909\u001b[0m     \u001b[0;32mreturn\u001b[0m \u001b[0mout\u001b[0m\u001b[0;34m[\u001b[0m\u001b[0;34m:\u001b[0m\u001b[0;34m-\u001b[0m\u001b[0;36m1\u001b[0m\u001b[0;34m]\u001b[0m\u001b[0;34m\u001b[0m\u001b[0;34m\u001b[0m\u001b[0m\n",
      "\u001b[0;32m~/.local/lib/python3.8/site-packages/slycot/exceptions.py\u001b[0m in \u001b[0;36mraise_if_slycot_error\u001b[0;34m(info, arg_list, docstring, checkvars)\u001b[0m\n\u001b[1;32m    239\u001b[0m         \u001b[0;32mif\u001b[0m \u001b[0mwarning\u001b[0m \u001b[0;32mand\u001b[0m \u001b[0mmessage\u001b[0m\u001b[0;34m:\u001b[0m\u001b[0;34m\u001b[0m\u001b[0;34m\u001b[0m\u001b[0m\n\u001b[1;32m    240\u001b[0m             \u001b[0mfmessage\u001b[0m \u001b[0;34m=\u001b[0m \u001b[0;34m'\\n'\u001b[0m \u001b[0;34m+\u001b[0m \u001b[0mmessage\u001b[0m\u001b[0;34m.\u001b[0m\u001b[0mformat\u001b[0m\u001b[0;34m(\u001b[0m\u001b[0;34m**\u001b[0m\u001b[0mcheckvars\u001b[0m\u001b[0;34m)\u001b[0m\u001b[0;34m.\u001b[0m\u001b[0mstrip\u001b[0m\u001b[0;34m(\u001b[0m\u001b[0;34m)\u001b[0m\u001b[0;34m\u001b[0m\u001b[0;34m\u001b[0m\u001b[0m\n\u001b[0;32m--> 241\u001b[0;31m             \u001b[0mwarn\u001b[0m\u001b[0;34m(\u001b[0m\u001b[0mglobals\u001b[0m\u001b[0;34m(\u001b[0m\u001b[0;34m)\u001b[0m\u001b[0;34m[\u001b[0m\u001b[0mwarning\u001b[0m\u001b[0;34m]\u001b[0m\u001b[0;34m(\u001b[0m\u001b[0mfmessage\u001b[0m\u001b[0;34m,\u001b[0m \u001b[0miwarn\u001b[0m\u001b[0;34m,\u001b[0m \u001b[0minfo\u001b[0m\u001b[0;34m)\u001b[0m\u001b[0;34m)\u001b[0m\u001b[0;34m\u001b[0m\u001b[0;34m\u001b[0m\u001b[0m\n\u001b[0m\u001b[1;32m    242\u001b[0m             \u001b[0;32mreturn\u001b[0m\u001b[0;34m\u001b[0m\u001b[0;34m\u001b[0m\u001b[0m\n\u001b[1;32m    243\u001b[0m \u001b[0;34m\u001b[0m\u001b[0m\n",
      "\u001b[0;31mSlycotResultWarning\u001b[0m: \nDICO = 'C' and the pencil A - lambda * E has a\ndegenerate pair of eigenvalues. That is, lambda_i =\n-lambda_j for some i and j, where lambda_i and\nlambda_j are eigenvalues of A - lambda * E. Hence,\nequation (1) is singular;  perturbed values were\nused to solve the equation (but the matrices A and\nE are unchanged)."
     ]
    }
   ],
   "source": [
    "X2 = control.lyap(A.T, Q, E = E)"
   ]
  },
  {
   "cell_type": "code",
   "execution_count": 3,
   "metadata": {},
   "outputs": [],
   "source": [
    "import math\n",
    "\n",
    "import matplotlib.pyplot as plt\n",
    "import mpld3\n",
    "import numpy as np\n",
    "from IPython.display import HTML, display\n",
    "from pydrake.all import (AddMultibodyPlantSceneGraph, ControllabilityMatrix,\n",
    "                         DiagramBuilder, Linearize, LinearQuadraticRegulator,\n",
    "                         MeshcatVisualizerCpp, Parser, Saturation, SceneGraph,\n",
    "                         Simulator, StartMeshcat, WrapToSystem)\n",
    "from pydrake.examples.acrobot import (AcrobotGeometry, AcrobotInput,\n",
    "                                      AcrobotPlant, AcrobotState)\n",
    "from pydrake.examples.quadrotor import (QuadrotorGeometry, QuadrotorPlant,\n",
    "                                        StabilizingLQRController)\n",
    "from pydrake.solvers.mathematicalprogram import MathematicalProgram, Solve\n",
    "\n",
    "from underactuated import FindResource, running_as_notebook\n",
    "from underactuated.meshcat_cpp_utils import MeshcatSliders\n",
    "from underactuated.quadrotor2d import Quadrotor2D, Quadrotor2DVisualizer\n",
    "\n",
    "if running_as_notebook:\n",
    "    mpld3.enable_notebook()\n"
   ]
  },
  {
   "cell_type": "code",
   "execution_count": 90,
   "metadata": {},
   "outputs": [
    {
     "name": "stderr",
     "output_type": "stream",
     "text": [
      "INFO:drake:Meshcat listening for connections at http://localhost:7001\n"
     ]
    }
   ],
   "source": [
    "meshcat = StartMeshcat()"
   ]
  },
  {
   "cell_type": "code",
   "execution_count": 91,
   "metadata": {},
   "outputs": [],
   "source": [
    "def cartpole_balancing_example():\n",
    "    def UprightState():\n",
    "        state = (0, np.pi, 0, 0)\n",
    "        return state\n",
    "\n",
    "    def Controllability(plant):\n",
    "        context = plant.CreateDefaultContext()\n",
    "        plant.get_actuation_input_port().FixValue(context, [0])\n",
    "        plant.SetPositionsAndVelocities(context, UprightState())\n",
    "\n",
    "        linearized_plant = Linearize(\n",
    "            plant,\n",
    "            context,\n",
    "            input_port_index=plant.get_actuation_input_port().get_index(), output_port_index=plant.get_state_output_port().get_index())\n",
    "        print(linearized_plant.A())\n",
    "        print(linearized_plant.B())\n",
    "        print(\n",
    "            f\"The singular values of the controllability matrix are: {np.linalg.svd(ControllabilityMatrix(linearized_plant), compute_uv=False)}\"\n",
    "        )\n",
    "\n",
    "    def BalancingLQR(plant):\n",
    "        # Design an LQR controller for stabilizing the CartPole around the upright.\n",
    "        # Returns a (static) AffineSystem that implements the controller (in\n",
    "        # the original CartPole coordinates).\n",
    "\n",
    "        context = plant.CreateDefaultContext()\n",
    "        plant.get_actuation_input_port().FixValue(context, [0])\n",
    "\n",
    "        plant.SetPositionsAndVelocities(context, UprightState())\n",
    "\n",
    "        Q = np.diag((10., 10., 1., 1.))\n",
    "        R = np.array([1])\n",
    "\n",
    "        # MultibodyPlant has many (optional) input ports, so we must pass the\n",
    "        # input_port_index to LQR.\n",
    "        return LinearQuadraticRegulator(\n",
    "            plant,\n",
    "            context,\n",
    "            Q,\n",
    "            R,\n",
    "            input_port_index=plant.get_actuation_input_port().get_index())\n",
    "\n",
    "\n",
    "    builder = DiagramBuilder()\n",
    "    plant, scene_graph = AddMultibodyPlantSceneGraph(builder, time_step=0.1)\n",
    "    file_name = FindResource(\"models/cartpole.urdf\")\n",
    "    Parser(plant).AddModelFromFile(file_name)\n",
    "    plant.Finalize()\n",
    "\n",
    "    controller = builder.AddSystem(BalancingLQR(plant))\n",
    "    builder.Connect(plant.get_state_output_port(), controller.get_input_port(0))\n",
    "    builder.Connect(controller.get_output_port(0),\n",
    "                    plant.get_actuation_input_port())\n",
    "\n",
    "    # Setup visualization\n",
    "    meshcat.Delete()\n",
    "    meshcat.Set2dRenderMode(xmin=-2.5, xmax=2.5, ymin=-1.0, ymax=2.5)\n",
    "    MeshcatVisualizerCpp.AddToBuilder(builder, scene_graph, meshcat)\n",
    "\n",
    "    diagram = builder.Build()\n",
    "\n",
    "    # Set up a simulator to run this diagram\n",
    "    simulator = Simulator(diagram)\n",
    "    context = simulator.get_mutable_context()\n",
    "    plant_context = plant.GetMyMutableContextFromRoot(context)\n",
    "\n",
    "    # Simulate\n",
    "    simulator.set_target_realtime_rate(1.0 if running_as_notebook else 0.0)\n",
    "    duration = 5.0 if running_as_notebook else 0.1\n",
    "    for i in range(5):\n",
    "        context.SetTime(0.)\n",
    "        plant.SetPositionsAndVelocities(\n",
    "            plant_context,\n",
    "            UprightState() + 0.1 * np.random.randn(4,))\n",
    "        simulator.Initialize()\n",
    "        simulator.AdvanceTo(duration)\n",
    "\n",
    "np.set_printoptions(formatter={'float': lambda x: \"{0:0.4f}\".format(x)})\n",
    "cartpole_balancing_example()"
   ]
  },
  {
   "cell_type": "code",
   "execution_count": 56,
   "metadata": {},
   "outputs": [
    {
     "name": "stdout",
     "output_type": "stream",
     "text": [
      "[[1.      0.00981 0.1     0.     ]\n",
      " [0.      1.21582 0.      0.1    ]\n",
      " [0.      0.0981  1.      0.     ]\n",
      " [0.      2.1582  0.      1.     ]]\n",
      "[[0.001]\n",
      " [0.002]\n",
      " [0.01 ]\n",
      " [0.02 ]]\n",
      "The singular values of the controllability matrix are: [7.34703681e-02 6.86635424e-03 9.15774466e-04 3.33296725e-05]\n"
     ]
    }
   ],
   "source": [
    "def UprightState():\n",
    "    state = (0, np.pi, 0, 0)\n",
    "    return state\n",
    "\n",
    "\n",
    "builder = DiagramBuilder()\n",
    "plant, scene_graph = AddMultibodyPlantSceneGraph(builder, time_step=0.1)\n",
    "file_name = FindResource(\"models/cartpole.urdf\")\n",
    "Parser(plant).AddModelFromFile(file_name)\n",
    "plant.Finalize()\n",
    "\n",
    "\n",
    "context = plant.CreateDefaultContext()\n",
    "plant.get_actuation_input_port().FixValue(context, [0])\n",
    "plant.SetPositionsAndVelocities(context, UprightState())\n",
    "\n",
    "linearized_plant = Linearize(\n",
    "    plant,\n",
    "    context,\n",
    "    input_port_index=plant.get_actuation_input_port().get_index(), output_port_index=plant.get_state_output_port().get_index())\n",
    "\n",
    "print(linearized_plant.A())\n",
    "print(linearized_plant.B())\n",
    "print(\n",
    "    f\"The singular values of the controllability matrix are: {np.linalg.svd(ControllabilityMatrix(linearized_plant), compute_uv=False)}\"\n",
    ")"
   ]
  },
  {
   "cell_type": "code",
   "execution_count": 82,
   "metadata": {},
   "outputs": [],
   "source": [
    "A = np.array([[0, 0, 1, 0], [0, 0, 0, 1], [0, 0, 0, 0], [0, 4.91, 0, 0]])\n",
    "M = np.array([[1, 0, 0, 0], [0, 1, 0, 0], [0, 0, 11, -0.5], [0, 0, -0.5, 0.25]])\n",
    "\n",
    "ans = np.linalg.inv(M)@A"
   ]
  },
  {
   "cell_type": "code",
   "execution_count": 83,
   "metadata": {},
   "outputs": [
    {
     "data": {
      "text/plain": [
       "array([[ 0.   ,  0.   ,  1.   ,  0.   ],\n",
       "       [ 0.   ,  0.   ,  0.   ,  1.   ],\n",
       "       [ 0.   ,  0.982,  0.   ,  0.   ],\n",
       "       [ 0.   , 21.604,  0.   ,  0.   ]])"
      ]
     },
     "execution_count": 83,
     "metadata": {},
     "output_type": "execute_result"
    }
   ],
   "source": [
    "ans"
   ]
  },
  {
   "cell_type": "code",
   "execution_count": 112,
   "metadata": {},
   "outputs": [],
   "source": [
    "from pydrake.examples.pendulum import PendulumParams, PendulumPlant\n",
    "\n",
    "p = PendulumParams()\n",
    "\n",
    "b = p.damping()\n",
    "m = p.mass()\n",
    "length = p.length()\n",
    "g = p.gravity()\n",
    "grav = p.gravity()"
   ]
  },
  {
   "cell_type": "markdown",
   "metadata": {},
   "source": [
    "## Simple Pendulum Example"
   ]
  },
  {
   "cell_type": "code",
   "execution_count": 113,
   "metadata": {},
   "outputs": [],
   "source": [
    "# explicit dynamics\n",
    "plant = PendulumPlant()\n",
    "context = plant.CreateDefaultContext()\n",
    "plant.get_input_port().FixValue(context, [0])\n",
    "context.SetContinuousState([0, 0])\n",
    "\n",
    "linearized_plant = Linearize(plant, context)\n",
    "\n",
    "A = linearized_plant.A()\n",
    "Q = np.eye(2)\n",
    "P = RealContinuousLyapunovEquation(A, Q)\n",
    "X1 = control.lyap(A.T, Q)"
   ]
  },
  {
   "cell_type": "code",
   "execution_count": 114,
   "metadata": {},
   "outputs": [
    {
     "data": {
      "text/plain": [
       "array([[2.57851937e+01, 2.54841998e-02],\n",
       "       [2.54841998e-02, 1.31371050e+00]])"
      ]
     },
     "execution_count": 114,
     "metadata": {},
     "output_type": "execute_result"
    }
   ],
   "source": [
    "P"
   ]
  },
  {
   "cell_type": "code",
   "execution_count": 103,
   "metadata": {},
   "outputs": [
    {
     "data": {
      "text/plain": [
       "array([[  0.  ,   1.  ],\n",
       "       [-19.62,  -0.4 ]])"
      ]
     },
     "execution_count": 103,
     "metadata": {},
     "output_type": "execute_result"
    }
   ],
   "source": [
    "A"
   ]
  },
  {
   "cell_type": "code",
   "execution_count": 104,
   "metadata": {},
   "outputs": [
    {
     "data": {
      "text/plain": [
       "array([[2.57851937e+01, 2.54841998e-02],\n",
       "       [2.54841998e-02, 1.31371050e+00]])"
      ]
     },
     "execution_count": 104,
     "metadata": {},
     "output_type": "execute_result"
    }
   ],
   "source": [
    "X1"
   ]
  },
  {
   "cell_type": "code",
   "execution_count": 106,
   "metadata": {},
   "outputs": [
    {
     "ename": "TypeError",
     "evalue": "failed in converting 7th argument `a' of _wrapper.sg03ad to C/Fortran array",
     "output_type": "error",
     "traceback": [
      "\u001b[0;31m---------------------------------------------------------------------------\u001b[0m",
      "\u001b[0;31mTypeError\u001b[0m                                 Traceback (most recent call last)",
      "\u001b[0;31mTypeError\u001b[0m: float() argument must be a string or a number, not 'pydrake.symbolic.Expression'",
      "\nThe above exception was the direct cause of the following exception:\n",
      "\u001b[0;31mTypeError\u001b[0m                                 Traceback (most recent call last)",
      "\u001b[0;32m<ipython-input-106-40a0b77637ae>\u001b[0m in \u001b[0;36m<module>\u001b[0;34m\u001b[0m\n\u001b[1;32m      3\u001b[0m \u001b[0mA\u001b[0m \u001b[0;34m=\u001b[0m \u001b[0mnp\u001b[0m\u001b[0;34m.\u001b[0m\u001b[0marray\u001b[0m\u001b[0;34m(\u001b[0m\u001b[0;34m[\u001b[0m\u001b[0;34m[\u001b[0m\u001b[0;36m0\u001b[0m\u001b[0;34m,\u001b[0m \u001b[0;36m1\u001b[0m\u001b[0;34m]\u001b[0m\u001b[0;34m,\u001b[0m \u001b[0;34m[\u001b[0m\u001b[0;34m-\u001b[0m\u001b[0mm\u001b[0m\u001b[0;34m*\u001b[0m\u001b[0mg\u001b[0m\u001b[0;34m*\u001b[0m\u001b[0ml\u001b[0m\u001b[0;34m,\u001b[0m \u001b[0;34m-\u001b[0m\u001b[0mb\u001b[0m\u001b[0;34m]\u001b[0m\u001b[0;34m]\u001b[0m\u001b[0;34m)\u001b[0m\u001b[0;34m\u001b[0m\u001b[0;34m\u001b[0m\u001b[0m\n\u001b[1;32m      4\u001b[0m \u001b[0;34m\u001b[0m\u001b[0m\n\u001b[0;32m----> 5\u001b[0;31m \u001b[0mX2\u001b[0m \u001b[0;34m=\u001b[0m \u001b[0mcontrol\u001b[0m\u001b[0;34m.\u001b[0m\u001b[0mlyap\u001b[0m\u001b[0;34m(\u001b[0m\u001b[0mA\u001b[0m\u001b[0;34m.\u001b[0m\u001b[0mT\u001b[0m\u001b[0;34m,\u001b[0m \u001b[0mQ\u001b[0m\u001b[0;34m,\u001b[0m \u001b[0mE\u001b[0m \u001b[0;34m=\u001b[0m \u001b[0mE\u001b[0m\u001b[0;34m.\u001b[0m\u001b[0mT\u001b[0m\u001b[0;34m)\u001b[0m\u001b[0;34m\u001b[0m\u001b[0;34m\u001b[0m\u001b[0m\n\u001b[0m",
      "\u001b[0;32m~/.local/lib/python3.8/site-packages/control/mateqn.py\u001b[0m in \u001b[0;36mlyap\u001b[0;34m(A, Q, C, E, method)\u001b[0m\n\u001b[1;32m    207\u001b[0m             \u001b[0mwarnings\u001b[0m\u001b[0;34m.\u001b[0m\u001b[0msimplefilter\u001b[0m\u001b[0;34m(\u001b[0m\u001b[0;34m\"error\"\u001b[0m\u001b[0;34m,\u001b[0m \u001b[0mcategory\u001b[0m\u001b[0;34m=\u001b[0m\u001b[0mSlycotResultWarning\u001b[0m\u001b[0;34m)\u001b[0m\u001b[0;34m\u001b[0m\u001b[0;34m\u001b[0m\u001b[0m\n\u001b[1;32m    208\u001b[0m             \u001b[0mA\u001b[0m\u001b[0;34m,\u001b[0m \u001b[0mE\u001b[0m\u001b[0;34m,\u001b[0m \u001b[0mQ\u001b[0m\u001b[0;34m,\u001b[0m \u001b[0mZ\u001b[0m\u001b[0;34m,\u001b[0m \u001b[0mX\u001b[0m\u001b[0;34m,\u001b[0m \u001b[0mscale\u001b[0m\u001b[0;34m,\u001b[0m \u001b[0msep\u001b[0m\u001b[0;34m,\u001b[0m \u001b[0mferr\u001b[0m\u001b[0;34m,\u001b[0m \u001b[0malphar\u001b[0m\u001b[0;34m,\u001b[0m \u001b[0malphai\u001b[0m\u001b[0;34m,\u001b[0m \u001b[0mbeta\u001b[0m \u001b[0;34m=\u001b[0m\u001b[0;31m \u001b[0m\u001b[0;31m\\\u001b[0m\u001b[0;34m\u001b[0m\u001b[0;34m\u001b[0m\u001b[0m\n\u001b[0;32m--> 209\u001b[0;31m                 sg03ad('C', 'B', 'N', 'T', 'L', n,\n\u001b[0m\u001b[1;32m    210\u001b[0m                        A, E, eye(n, n), eye(n, n), -Q)\n\u001b[1;32m    211\u001b[0m \u001b[0;34m\u001b[0m\u001b[0m\n",
      "\u001b[0;32m~/.local/lib/python3.8/site-packages/slycot/synthesis.py\u001b[0m in \u001b[0;36msg03ad\u001b[0;34m(dico, job, fact, trans, uplo, N, A, E, Q, Z, X, ldwork)\u001b[0m\n\u001b[1;32m   1903\u001b[0m             \u001b[0mldwork\u001b[0m \u001b[0;34m=\u001b[0m \u001b[0mmax\u001b[0m\u001b[0;34m(\u001b[0m\u001b[0;36m1\u001b[0m\u001b[0;34m,\u001b[0m\u001b[0;36m2\u001b[0m\u001b[0;34m*\u001b[0m\u001b[0mN\u001b[0m\u001b[0;34m**\u001b[0m\u001b[0;36m2\u001b[0m\u001b[0;34m,\u001b[0m\u001b[0;36m8\u001b[0m\u001b[0;34m*\u001b[0m\u001b[0mN\u001b[0m\u001b[0;34m+\u001b[0m\u001b[0;36m16\u001b[0m\u001b[0;34m)\u001b[0m\u001b[0;34m\u001b[0m\u001b[0;34m\u001b[0m\u001b[0m\n\u001b[1;32m   1904\u001b[0m \u001b[0;34m\u001b[0m\u001b[0m\n\u001b[0;32m-> 1905\u001b[0;31m     \u001b[0mout\u001b[0m \u001b[0;34m=\u001b[0m \u001b[0m_wrapper\u001b[0m\u001b[0;34m.\u001b[0m\u001b[0msg03ad\u001b[0m\u001b[0;34m(\u001b[0m\u001b[0mdico\u001b[0m\u001b[0;34m,\u001b[0m\u001b[0mjob\u001b[0m\u001b[0;34m,\u001b[0m\u001b[0mfact\u001b[0m\u001b[0;34m,\u001b[0m\u001b[0mtrans\u001b[0m\u001b[0;34m,\u001b[0m\u001b[0muplo\u001b[0m\u001b[0;34m,\u001b[0m\u001b[0mN\u001b[0m\u001b[0;34m,\u001b[0m\u001b[0mA\u001b[0m\u001b[0;34m,\u001b[0m\u001b[0mE\u001b[0m\u001b[0;34m,\u001b[0m\u001b[0mQ\u001b[0m\u001b[0;34m,\u001b[0m\u001b[0mZ\u001b[0m\u001b[0;34m,\u001b[0m\u001b[0mX\u001b[0m\u001b[0;34m,\u001b[0m\u001b[0mldwork\u001b[0m\u001b[0;34m)\u001b[0m\u001b[0;34m\u001b[0m\u001b[0;34m\u001b[0m\u001b[0m\n\u001b[0m\u001b[1;32m   1906\u001b[0m \u001b[0;34m\u001b[0m\u001b[0m\n\u001b[1;32m   1907\u001b[0m     \u001b[0mraise_if_slycot_error\u001b[0m\u001b[0;34m(\u001b[0m\u001b[0mout\u001b[0m\u001b[0;34m[\u001b[0m\u001b[0;34m-\u001b[0m\u001b[0;36m1\u001b[0m\u001b[0;34m]\u001b[0m\u001b[0;34m,\u001b[0m \u001b[0marg_list\u001b[0m\u001b[0;34m,\u001b[0m \u001b[0msg03ad\u001b[0m\u001b[0;34m.\u001b[0m\u001b[0m__doc__\u001b[0m\u001b[0;34m)\u001b[0m\u001b[0;34m\u001b[0m\u001b[0;34m\u001b[0m\u001b[0m\n",
      "\u001b[0;31mTypeError\u001b[0m: failed in converting 7th argument `a' of _wrapper.sg03ad to C/Fortran array"
     ]
    }
   ],
   "source": [
    "# implicit dynamics\n",
    "E = np.array([[1, 0], [0, m*(l**2)]])\n",
    "A = np.array([[0, 1], [-m*g*l, -b]])\n",
    "\n",
    "X2 = control.lyap(A.T, Q, E = E.T)"
   ]
  },
  {
   "cell_type": "code",
   "execution_count": 107,
   "metadata": {},
   "outputs": [
    {
     "ename": "NameError",
     "evalue": "name 'X2' is not defined",
     "output_type": "error",
     "traceback": [
      "\u001b[0;31m---------------------------------------------------------------------------\u001b[0m",
      "\u001b[0;31mNameError\u001b[0m                                 Traceback (most recent call last)",
      "\u001b[0;32m<ipython-input-107-fc316cca30c5>\u001b[0m in \u001b[0;36m<module>\u001b[0;34m\u001b[0m\n\u001b[0;32m----> 1\u001b[0;31m \u001b[0mX2\u001b[0m\u001b[0;34m\u001b[0m\u001b[0;34m\u001b[0m\u001b[0m\n\u001b[0m",
      "\u001b[0;31mNameError\u001b[0m: name 'X2' is not defined"
     ]
    }
   ],
   "source": [
    "X2"
   ]
  },
  {
   "cell_type": "code",
   "execution_count": 108,
   "metadata": {},
   "outputs": [
    {
     "ename": "NameError",
     "evalue": "name 'X2' is not defined",
     "output_type": "error",
     "traceback": [
      "\u001b[0;31m---------------------------------------------------------------------------\u001b[0m",
      "\u001b[0;31mNameError\u001b[0m                                 Traceback (most recent call last)",
      "\u001b[0;32m<ipython-input-108-31bc82ca7a0e>\u001b[0m in \u001b[0;36m<module>\u001b[0;34m\u001b[0m\n\u001b[0;32m----> 1\u001b[0;31m \u001b[0mS\u001b[0m \u001b[0;34m=\u001b[0m \u001b[0mE\u001b[0m\u001b[0;34m.\u001b[0m\u001b[0mT\u001b[0m\u001b[0;34m@\u001b[0m\u001b[0mX2\u001b[0m\u001b[0;34m@\u001b[0m\u001b[0mE\u001b[0m\u001b[0;34m\u001b[0m\u001b[0;34m\u001b[0m\u001b[0m\n\u001b[0m\u001b[1;32m      2\u001b[0m \u001b[0mS\u001b[0m\u001b[0;34m\u001b[0m\u001b[0;34m\u001b[0m\u001b[0m\n",
      "\u001b[0;31mNameError\u001b[0m: name 'X2' is not defined"
     ]
    }
   ],
   "source": [
    "S = E.T@X2@E\n",
    "S"
   ]
  },
  {
   "cell_type": "markdown",
   "metadata": {},
   "source": [
    "### Using these solutions as starting candidates for alternations\n",
    "\n",
    "For this we first need to do a change or coordinates: $\\tilde{\\theta} = \\theta - \\pi$ \n",
    "\n",
    "The dynamics now become: \n",
    "$ml^2\\ddot{\\tilde{\\theta}} + b\\dot{\\tilde{\\theta}} - mgl\\sin{\\tilde{\\theta}} = 0$\n",
    "\n",
    "In this case, this doesn't change the value of the matrices found above"
   ]
  },
  {
   "cell_type": "code",
   "execution_count": 121,
   "metadata": {},
   "outputs": [
    {
     "data": {
      "text/markdown": [
       "$ V(x)=(0.050968400x_{0} x_{1} + 25.785193680x_{0}^{2} + 1.313710499x_{1}^{2})$"
      ],
      "text/plain": [
       "<IPython.core.display.Markdown object>"
      ]
     },
     "metadata": {},
     "output_type": "display_data"
    },
    {
     "name": "stdout",
     "output_type": "stream",
     "text": [
      "Lambda solution status: 1\n",
      "V solution status: 1\n"
     ]
    },
    {
     "data": {
      "text/markdown": [
       "$ V(x)=(0.000000000 - 0.000000000x_{0} - 0.000000000x_{1} + 0.058812414x_{0} x_{1} + 25.148088222x_{0}^{2} + 1.279074892x_{1}^{2})$"
      ],
      "text/plain": [
       "<IPython.core.display.Markdown object>"
      ]
     },
     "metadata": {},
     "output_type": "display_data"
    },
    {
     "name": "stdout",
     "output_type": "stream",
     "text": [
      "Lambda solution status: 1\n",
      "V solution status: 1\n"
     ]
    },
    {
     "data": {
      "text/markdown": [
       "$ V(x)=(0.000000000 - 0.000000000x_{0} - 0.000000000x_{1} + 0.063062259x_{0} x_{1} + 24.528546646x_{0}^{2} + 1.245323622x_{1}^{2})$"
      ],
      "text/plain": [
       "<IPython.core.display.Markdown object>"
      ]
     },
     "metadata": {},
     "output_type": "display_data"
    },
    {
     "name": "stdout",
     "output_type": "stream",
     "text": [
      "Lambda solution status: 1\n",
      "V solution status: 1\n"
     ]
    },
    {
     "data": {
      "text/markdown": [
       "$ V(x)=(0.000000000 + 0.000000000x_{0} - 0.000000000x_{1} + 0.064968877x_{0} x_{1} + 23.926033185x_{0}^{2} + 1.212707138x_{1}^{2})$"
      ],
      "text/plain": [
       "<IPython.core.display.Markdown object>"
      ]
     },
     "metadata": {},
     "output_type": "display_data"
    },
    {
     "name": "stdout",
     "output_type": "stream",
     "text": [
      "Lambda solution status: 1\n",
      "V solution status: 1\n"
     ]
    },
    {
     "data": {
      "text/markdown": [
       "$ V(x)=(0.000000000 + 0.000000000x_{0} + 0.000000000x_{1} + 0.065348478x_{0} x_{1} + 23.339922999x_{0}^{2} + 1.181285676x_{1}^{2})$"
      ],
      "text/plain": [
       "<IPython.core.display.Markdown object>"
      ]
     },
     "metadata": {},
     "output_type": "display_data"
    },
    {
     "name": "stdout",
     "output_type": "stream",
     "text": [
      "Lambda solution status: 1\n",
      "V solution status: 1\n"
     ]
    },
    {
     "data": {
      "text/markdown": [
       "$ V(x)=(0.000000000 - 0.000000000x_{0} + 0.000000000x_{1} + 0.064753292x_{0} x_{1} + 22.769838045x_{0}^{2} + 1.151047863x_{1}^{2})$"
      ],
      "text/plain": [
       "<IPython.core.display.Markdown object>"
      ]
     },
     "metadata": {},
     "output_type": "display_data"
    },
    {
     "name": "stdout",
     "output_type": "stream",
     "text": [
      "Lambda solution status: 1\n",
      "V solution status: 1\n"
     ]
    },
    {
     "data": {
      "text/markdown": [
       "$ V(x)=(0.000000000 - 0.000000000x_{0} - 0.000000000x_{1} + 0.063553842x_{0} x_{1} + 22.215513589x_{0}^{2} + 1.121946112x_{1}^{2})$"
      ],
      "text/plain": [
       "<IPython.core.display.Markdown object>"
      ]
     },
     "metadata": {},
     "output_type": "display_data"
    },
    {
     "name": "stdout",
     "output_type": "stream",
     "text": [
      "Lambda solution status: 1\n",
      "V solution status: 1\n"
     ]
    },
    {
     "data": {
      "text/markdown": [
       "$ V(x)=(0.000000000 - 0.000000000x_{0} - 0.000000000x_{1} + 0.061992585x_{0} x_{1} + 21.676668112x_{0}^{2} + 1.093914689x_{1}^{2})$"
      ],
      "text/plain": [
       "<IPython.core.display.Markdown object>"
      ]
     },
     "metadata": {},
     "output_type": "display_data"
    },
    {
     "name": "stdout",
     "output_type": "stream",
     "text": [
      "Lambda solution status: 1\n",
      "V solution status: 1\n"
     ]
    },
    {
     "data": {
      "text/markdown": [
       "$ V(x)=(0.000000000 - 0.000000000x_{0} + 0.000000000x_{1} + 0.060223633x_{0} x_{1} + 21.152945734x_{0}^{2} + 1.066880944x_{1}^{2})$"
      ],
      "text/plain": [
       "<IPython.core.display.Markdown object>"
      ]
     },
     "metadata": {},
     "output_type": "display_data"
    },
    {
     "name": "stdout",
     "output_type": "stream",
     "text": [
      "Lambda solution status: 1\n",
      "V solution status: 1\n"
     ]
    },
    {
     "data": {
      "text/markdown": [
       "$ V(x)=(0.000000000 + 0.000000000x_{0} + 0.000000000x_{1} + 0.058339288x_{0} x_{1} + 20.643961091x_{0}^{2} + 1.040774631x_{1}^{2})$"
      ],
      "text/plain": [
       "<IPython.core.display.Markdown object>"
      ]
     },
     "metadata": {},
     "output_type": "display_data"
    },
    {
     "name": "stdout",
     "output_type": "stream",
     "text": [
      "Lambda solution status: 1\n",
      "V solution status: 1\n"
     ]
    },
    {
     "data": {
      "text/markdown": [
       "$ V(x)=(0.000000000 - 0.000000000x_{0} - 0.000000000x_{1} + 0.056388604x_{0} x_{1} + 20.149795307x_{0}^{2} + 1.015557919x_{1}^{2})$"
      ],
      "text/plain": [
       "<IPython.core.display.Markdown object>"
      ]
     },
     "metadata": {},
     "output_type": "display_data"
    },
    {
     "name": "stdout",
     "output_type": "stream",
     "text": [
      "Lambda solution status: 1\n",
      "V solution status: 1\n"
     ]
    },
    {
     "data": {
      "text/markdown": [
       "$ V(x)=(0.000000000 + 0.000000000x_{0} + 0.000000000x_{1} + 0.054406766x_{0} x_{1} + 19.670145103x_{0}^{2} + 0.991179873x_{1}^{2})$"
      ],
      "text/plain": [
       "<IPython.core.display.Markdown object>"
      ]
     },
     "metadata": {},
     "output_type": "display_data"
    },
    {
     "name": "stdout",
     "output_type": "stream",
     "text": [
      "Lambda solution status: 1\n",
      "V solution status: 1\n"
     ]
    },
    {
     "data": {
      "text/markdown": [
       "$ V(x)=(0.000000000 - 0.000000000x_{0} + 0.000000000x_{1} + 0.052421773x_{0} x_{1} + 19.204758276x_{0}^{2} + 0.967601764x_{1}^{2})$"
      ],
      "text/plain": [
       "<IPython.core.display.Markdown object>"
      ]
     },
     "metadata": {},
     "output_type": "display_data"
    },
    {
     "name": "stdout",
     "output_type": "stream",
     "text": [
      "Lambda solution status: 1\n",
      "V solution status: 1\n"
     ]
    },
    {
     "data": {
      "text/markdown": [
       "$ V(x)=(0.000000000 - 0.000000000x_{0} - 0.000000000x_{1} + 0.050454735x_{0} x_{1} + 18.753462585x_{0}^{2} + 0.944795388x_{1}^{2})$"
      ],
      "text/plain": [
       "<IPython.core.display.Markdown object>"
      ]
     },
     "metadata": {},
     "output_type": "display_data"
    },
    {
     "name": "stdout",
     "output_type": "stream",
     "text": [
      "Lambda solution status: 1\n",
      "V solution status: 1\n"
     ]
    },
    {
     "data": {
      "text/markdown": [
       "$ V(x)=(0.000000000 - 0.000000000x_{0} - 0.000000000x_{1} + 0.048502406x_{0} x_{1} + 18.316142151x_{0}^{2} + 0.922736190x_{1}^{2})$"
      ],
      "text/plain": [
       "<IPython.core.display.Markdown object>"
      ]
     },
     "metadata": {},
     "output_type": "display_data"
    },
    {
     "name": "stdout",
     "output_type": "stream",
     "text": [
      "Lambda solution status: 1\n",
      "V solution status: 1\n"
     ]
    },
    {
     "data": {
      "text/markdown": [
       "$ V(x)=(0.000000000 + 0.000000000x_{0} - 0.000000000x_{1} + 0.046550772x_{0} x_{1} + 17.892808844x_{0}^{2} + 0.901409545x_{1}^{2})$"
      ],
      "text/plain": [
       "<IPython.core.display.Markdown object>"
      ]
     },
     "metadata": {},
     "output_type": "display_data"
    },
    {
     "name": "stdout",
     "output_type": "stream",
     "text": [
      "Lambda solution status: 1\n",
      "V solution status: 1\n"
     ]
    },
    {
     "data": {
      "text/markdown": [
       "$ V(x)=(0.000000000 + 0.000000000x_{0} + 0.000000000x_{1} + 0.044636063x_{0} x_{1} + 17.483367450x_{0}^{2} + 0.880809951x_{1}^{2})$"
      ],
      "text/plain": [
       "<IPython.core.display.Markdown object>"
      ]
     },
     "metadata": {},
     "output_type": "display_data"
    },
    {
     "name": "stdout",
     "output_type": "stream",
     "text": [
      "Lambda solution status: 1\n",
      "V solution status: 1\n"
     ]
    },
    {
     "data": {
      "text/markdown": [
       "$ V(x)=(0.000000000 - 0.000000000x_{0} + 0.000000000x_{1} + 0.042828506x_{0} x_{1} + 17.086447403x_{0}^{2} + 0.860871777x_{1}^{2})$"
      ],
      "text/plain": [
       "<IPython.core.display.Markdown object>"
      ]
     },
     "metadata": {},
     "output_type": "display_data"
    },
    {
     "name": "stdout",
     "output_type": "stream",
     "text": [
      "Lambda solution status: 1\n",
      "V solution status: 1\n"
     ]
    },
    {
     "data": {
      "text/markdown": [
       "$ V(x)=(0.000000000 + 0.000000000x_{0} + 0.000000000x_{1} + 0.041147912x_{0} x_{1} + 16.700907971x_{0}^{2} + 0.841530250x_{1}^{2})$"
      ],
      "text/plain": [
       "<IPython.core.display.Markdown object>"
      ]
     },
     "metadata": {},
     "output_type": "display_data"
    },
    {
     "name": "stdout",
     "output_type": "stream",
     "text": [
      "Lambda solution status: 1\n",
      "V solution status: 1\n"
     ]
    },
    {
     "data": {
      "text/markdown": [
       "$ V(x)=(0.000000000 + 0.000000000x_{0} + 0.000000000x_{1} + 0.039604207x_{0} x_{1} + 16.325870312x_{0}^{2} + 0.822734641x_{1}^{2})$"
      ],
      "text/plain": [
       "<IPython.core.display.Markdown object>"
      ]
     },
     "metadata": {},
     "output_type": "display_data"
    },
    {
     "name": "stdout",
     "output_type": "stream",
     "text": [
      "Lambda solution status: 1\n",
      "V solution status: 1\n"
     ]
    },
    {
     "data": {
      "text/markdown": [
       "$ V(x)=(0.000000000 + 0.000000000x_{0} + 0.000000000x_{1} + 0.038198083x_{0} x_{1} + 15.960608778x_{0}^{2} + 0.804442296x_{1}^{2})$"
      ],
      "text/plain": [
       "<IPython.core.display.Markdown object>"
      ]
     },
     "metadata": {},
     "output_type": "display_data"
    },
    {
     "name": "stdout",
     "output_type": "stream",
     "text": [
      "Lambda solution status: 1\n",
      "V solution status: 1\n"
     ]
    },
    {
     "data": {
      "text/markdown": [
       "$ V(x)=(0.000000000 + 0.000000000x_{0} - 0.000000000x_{1} + 0.036925433x_{0} x_{1} + 15.604530109x_{0}^{2} + 0.786617988x_{1}^{2})$"
      ],
      "text/plain": [
       "<IPython.core.display.Markdown object>"
      ]
     },
     "metadata": {},
     "output_type": "display_data"
    },
    {
     "name": "stdout",
     "output_type": "stream",
     "text": [
      "Lambda solution status: 1\n",
      "V solution status: 1\n"
     ]
    },
    {
     "data": {
      "text/markdown": [
       "$ V(x)=(0.000000000 - 0.000000000x_{0} - 0.000000000x_{1} + 0.035772139x_{0} x_{1} + 15.257042083x_{0}^{2} + 0.769226494x_{1}^{2})$"
      ],
      "text/plain": [
       "<IPython.core.display.Markdown object>"
      ]
     },
     "metadata": {},
     "output_type": "display_data"
    },
    {
     "name": "stdout",
     "output_type": "stream",
     "text": [
      "Lambda solution status: 1\n",
      "V solution status: 1\n"
     ]
    },
    {
     "data": {
      "text/markdown": [
       "$ V(x)=(0.000000000 + 0.000000000x_{0} + 0.000000000x_{1} + 0.034701269x_{0} x_{1} + 14.913413128x_{0}^{2} + 0.752037363x_{1}^{2})$"
      ],
      "text/plain": [
       "<IPython.core.display.Markdown object>"
      ]
     },
     "metadata": {},
     "output_type": "display_data"
    },
    {
     "name": "stdout",
     "output_type": "stream",
     "text": [
      "Lambda solution status: 1\n",
      "V solution status: 1\n"
     ]
    },
    {
     "data": {
      "text/markdown": [
       "$ V(x)=(0.000000000 + 0.000000000x_{0} + 0.000000000x_{1} + 0.033720285x_{0} x_{1} + 14.573180316x_{0}^{2} + 0.735017676x_{1}^{2})$"
      ],
      "text/plain": [
       "<IPython.core.display.Markdown object>"
      ]
     },
     "metadata": {},
     "output_type": "display_data"
    },
    {
     "name": "stdout",
     "output_type": "stream",
     "text": [
      "Lambda solution status: 1\n",
      "V solution status: 1\n"
     ]
    },
    {
     "data": {
      "text/markdown": [
       "$ V(x)=(0.000000000 + 0.000000000x_{0} + 0.000000000x_{1} + 0.032826816x_{0} x_{1} + 14.237446677x_{0}^{2} + 0.718212557x_{1}^{2})$"
      ],
      "text/plain": [
       "<IPython.core.display.Markdown object>"
      ]
     },
     "metadata": {},
     "output_type": "display_data"
    },
    {
     "name": "stdout",
     "output_type": "stream",
     "text": [
      "Lambda solution status: 1\n",
      "V solution status: 1\n"
     ]
    },
    {
     "data": {
      "text/markdown": [
       "$ V(x)=(0.000000000 - 0.000000000x_{0} - 0.000000000x_{1} + 0.032002292x_{0} x_{1} + 13.907117504x_{0}^{2} + 0.701661190x_{1}^{2})$"
      ],
      "text/plain": [
       "<IPython.core.display.Markdown object>"
      ]
     },
     "metadata": {},
     "output_type": "display_data"
    },
    {
     "name": "stdout",
     "output_type": "stream",
     "text": [
      "Lambda solution status: 1\n",
      "V solution status: 1\n"
     ]
    },
    {
     "data": {
      "text/markdown": [
       "$ V(x)=(0.000000000 + 0.000000000x_{0} + 0.000000000x_{1} + 0.031224626x_{0} x_{1} + 13.582843811x_{0}^{2} + 0.685393846x_{1}^{2})$"
      ],
      "text/plain": [
       "<IPython.core.display.Markdown object>"
      ]
     },
     "metadata": {},
     "output_type": "display_data"
    },
    {
     "name": "stdout",
     "output_type": "stream",
     "text": [
      "Lambda solution status: 1\n",
      "V solution status: 1\n"
     ]
    },
    {
     "data": {
      "text/markdown": [
       "$ V(x)=(0.000000000 + 0.000000000x_{0} + 0.000000000x_{1} + 0.030475419x_{0} x_{1} + 13.265006543x_{0}^{2} + 0.669430315x_{1}^{2})$"
      ],
      "text/plain": [
       "<IPython.core.display.Markdown object>"
      ]
     },
     "metadata": {},
     "output_type": "display_data"
    },
    {
     "name": "stdout",
     "output_type": "stream",
     "text": [
      "Lambda solution status: 1\n",
      "V solution status: 1\n"
     ]
    },
    {
     "data": {
      "text/markdown": [
       "$ V(x)=(0.000000000 - 0.000000000x_{0} + 0.000000000x_{1} + 0.029742875x_{0} x_{1} + 12.953754952x_{0}^{2} + 0.653780828x_{1}^{2})$"
      ],
      "text/plain": [
       "<IPython.core.display.Markdown object>"
      ]
     },
     "metadata": {},
     "output_type": "display_data"
    },
    {
     "name": "stdout",
     "output_type": "stream",
     "text": [
      "Lambda solution status: 1\n",
      "V solution status: 1\n"
     ]
    },
    {
     "data": {
      "text/markdown": [
       "$ V(x)=(0.000000000 + 0.000000000x_{0} - 0.000000000x_{1} + 0.029021052x_{0} x_{1} + 12.649074979x_{0}^{2} + 0.638448301x_{1}^{2})$"
      ],
      "text/plain": [
       "<IPython.core.display.Markdown object>"
      ]
     },
     "metadata": {},
     "output_type": "display_data"
    },
    {
     "name": "stdout",
     "output_type": "stream",
     "text": [
      "Lambda solution status: 1\n",
      "V solution status: 1\n"
     ]
    },
    {
     "data": {
      "text/markdown": [
       "$ V(x)=(0.000000000 + 0.000000000x_{0} - 0.000000000x_{1} + 0.028308617x_{0} x_{1} + 12.350856852x_{0}^{2} + 0.623430974x_{1}^{2})$"
      ],
      "text/plain": [
       "<IPython.core.display.Markdown object>"
      ]
     },
     "metadata": {},
     "output_type": "display_data"
    },
    {
     "name": "stdout",
     "output_type": "stream",
     "text": [
      "Lambda solution status: 1\n",
      "V solution status: 1\n"
     ]
    },
    {
     "data": {
      "text/markdown": [
       "$ V(x)=(0.000000000 - 0.000000000x_{0} - 0.000000000x_{1} + 0.027607012x_{0} x_{1} + 12.058944681x_{0}^{2} + 0.608724382x_{1}^{2})$"
      ],
      "text/plain": [
       "<IPython.core.display.Markdown object>"
      ]
     },
     "metadata": {},
     "output_type": "display_data"
    },
    {
     "name": "stdout",
     "output_type": "stream",
     "text": [
      "Lambda solution status: 1\n",
      "V solution status: 1\n"
     ]
    },
    {
     "data": {
      "text/markdown": [
       "$ V(x)=(0.000000000 + 0.000000000x_{0} + 0.000000000x_{1} + 0.026918866x_{0} x_{1} + 11.773166981x_{0}^{2} + 0.594322609x_{1}^{2})$"
      ],
      "text/plain": [
       "<IPython.core.display.Markdown object>"
      ]
     },
     "metadata": {},
     "output_type": "display_data"
    },
    {
     "name": "stdout",
     "output_type": "stream",
     "text": [
      "Lambda solution status: 1\n",
      "V solution status: 1\n"
     ]
    },
    {
     "data": {
      "text/markdown": [
       "$ V(x)=(0.000000000 + 0.000000000x_{0} + 0.000000000x_{1} + 0.026246928x_{0} x_{1} + 11.493352623x_{0}^{2} + 0.580219039x_{1}^{2})$"
      ],
      "text/plain": [
       "<IPython.core.display.Markdown object>"
      ]
     },
     "metadata": {},
     "output_type": "display_data"
    },
    {
     "name": "stdout",
     "output_type": "stream",
     "text": [
      "Lambda solution status: 1\n",
      "V solution status: 1\n"
     ]
    },
    {
     "data": {
      "text/markdown": [
       "$ V(x)=(0.000000000 + 0.000000000x_{0} - 0.000000000x_{1} + 0.025593606x_{0} x_{1} + 11.219337707x_{0}^{2} + 0.566406816x_{1}^{2})$"
      ],
      "text/plain": [
       "<IPython.core.display.Markdown object>"
      ]
     },
     "metadata": {},
     "output_type": "display_data"
    },
    {
     "name": "stdout",
     "output_type": "stream",
     "text": [
      "Lambda solution status: 1\n",
      "V solution status: 1\n"
     ]
    },
    {
     "data": {
      "text/markdown": [
       "$ V(x)=(0.000000000 - 0.000000000x_{0} + 0.000000000x_{1} + 0.024960469x_{0} x_{1} + 10.950968160x_{0}^{2} + 0.552878978x_{1}^{2})$"
      ],
      "text/plain": [
       "<IPython.core.display.Markdown object>"
      ]
     },
     "metadata": {},
     "output_type": "display_data"
    },
    {
     "name": "stdout",
     "output_type": "stream",
     "text": [
      "Lambda solution status: 1\n",
      "V solution status: 1\n"
     ]
    },
    {
     "data": {
      "text/markdown": [
       "$ V(x)=(0.000000000 - 0.000000000x_{0} + 0.000000000x_{1} + 0.024348432x_{0} x_{1} + 10.688099028x_{0}^{2} + 0.539628684x_{1}^{2})$"
      ],
      "text/plain": [
       "<IPython.core.display.Markdown object>"
      ]
     },
     "metadata": {},
     "output_type": "display_data"
    },
    {
     "name": "stdout",
     "output_type": "stream",
     "text": [
      "Lambda solution status: 1\n",
      "V solution status: 1\n"
     ]
    },
    {
     "data": {
      "text/markdown": [
       "$ V(x)=(0.000000000 + 0.000000000x_{0} - 0.000000000x_{1} + 0.023757648x_{0} x_{1} + 10.430594662x_{0}^{2} + 0.526649260x_{1}^{2})$"
      ],
      "text/plain": [
       "<IPython.core.display.Markdown object>"
      ]
     },
     "metadata": {},
     "output_type": "display_data"
    },
    {
     "name": "stdout",
     "output_type": "stream",
     "text": [
      "Lambda solution status: 1\n",
      "V solution status: 1\n"
     ]
    },
    {
     "data": {
      "text/markdown": [
       "$ V(x)=(0.000000000 + 0.000000000x_{0} + 0.000000000x_{1} + 0.023187837x_{0} x_{1} + 10.178325238x_{0}^{2} + 0.513934156x_{1}^{2})$"
      ],
      "text/plain": [
       "<IPython.core.display.Markdown object>"
      ]
     },
     "metadata": {},
     "output_type": "display_data"
    },
    {
     "name": "stdout",
     "output_type": "stream",
     "text": [
      "Lambda solution status: 1\n",
      "V solution status: 1\n"
     ]
    },
    {
     "data": {
      "text/markdown": [
       "$ V(x)=(0.000000000 - 0.000000000x_{0} - 0.000000000x_{1} + 0.022638275x_{0} x_{1} + 9.931165462x_{0}^{2} + 0.501476970x_{1}^{2})$"
      ],
      "text/plain": [
       "<IPython.core.display.Markdown object>"
      ]
     },
     "metadata": {},
     "output_type": "display_data"
    },
    {
     "name": "stdout",
     "output_type": "stream",
     "text": [
      "Lambda solution status: 1\n",
      "V solution status: 1\n"
     ]
    },
    {
     "data": {
      "text/markdown": [
       "$ V(x)=(0.000000000 - 0.000000000x_{0} + 0.000000000x_{1} + 0.022107885x_{0} x_{1} + 9.688993945x_{0}^{2} + 0.489271417x_{1}^{2})$"
      ],
      "text/plain": [
       "<IPython.core.display.Markdown object>"
      ]
     },
     "metadata": {},
     "output_type": "display_data"
    },
    {
     "name": "stdout",
     "output_type": "stream",
     "text": [
      "Lambda solution status: 1\n",
      "V solution status: 1\n"
     ]
    },
    {
     "data": {
      "text/markdown": [
       "$ V(x)=(0.000000000 + 0.000000000x_{0} - 0.000000000x_{1} + 0.021595431x_{0} x_{1} + 9.451692346x_{0}^{2} + 0.477311367x_{1}^{2})$"
      ],
      "text/plain": [
       "<IPython.core.display.Markdown object>"
      ]
     },
     "metadata": {},
     "output_type": "display_data"
    },
    {
     "name": "stdout",
     "output_type": "stream",
     "text": [
      "Lambda solution status: 1\n",
      "V solution status: 1\n"
     ]
    },
    {
     "data": {
      "text/markdown": [
       "$ V(x)=(0.000000000 + 0.000000000x_{0} - 0.000000000x_{1} + 0.021099692x_{0} x_{1} + 9.219144886x_{0}^{2} + 0.465590855x_{1}^{2})$"
      ],
      "text/plain": [
       "<IPython.core.display.Markdown object>"
      ]
     },
     "metadata": {},
     "output_type": "display_data"
    },
    {
     "name": "stdout",
     "output_type": "stream",
     "text": [
      "Lambda solution status: 1\n",
      "V solution status: 1\n"
     ]
    },
    {
     "data": {
      "text/markdown": [
       "$ V(x)=(0.000000000 + 0.000000000x_{0} + 0.000000000x_{1} + 0.020615720x_{0} x_{1} + 8.991334957x_{0}^{2} + 0.454110153x_{1}^{2})$"
      ],
      "text/plain": [
       "<IPython.core.display.Markdown object>"
      ]
     },
     "metadata": {},
     "output_type": "display_data"
    },
    {
     "name": "stdout",
     "output_type": "stream",
     "text": [
      "Lambda solution status: 1\n",
      "V solution status: 1\n"
     ]
    },
    {
     "data": {
      "text/markdown": [
       "$ V(x)=(0.000000000 - 0.000000000x_{0} + 0.000000000x_{1} + 0.020142052x_{0} x_{1} + 8.768215349x_{0}^{2} + 0.442867016x_{1}^{2})$"
      ],
      "text/plain": [
       "<IPython.core.display.Markdown object>"
      ]
     },
     "metadata": {},
     "output_type": "display_data"
    },
    {
     "name": "stdout",
     "output_type": "stream",
     "text": [
      "Lambda solution status: 1\n",
      "V solution status: 1\n"
     ]
    },
    {
     "data": {
      "text/markdown": [
       "$ V(x)=(0.000000000 + 0.000000000x_{0} - 0.000000000x_{1} + 0.019679326x_{0} x_{1} + 8.549678618x_{0}^{2} + 0.431855288x_{1}^{2})$"
      ],
      "text/plain": [
       "<IPython.core.display.Markdown object>"
      ]
     },
     "metadata": {},
     "output_type": "display_data"
    },
    {
     "name": "stdout",
     "output_type": "stream",
     "text": [
      "Lambda solution status: 1\n",
      "V solution status: 1\n"
     ]
    },
    {
     "data": {
      "text/markdown": [
       "$ V(x)=(0.000000000 - 0.000000000x_{0} + 0.000000000x_{1} + 0.019227384x_{0} x_{1} + 8.335617397x_{0}^{2} + 0.421068978x_{1}^{2})$"
      ],
      "text/plain": [
       "<IPython.core.display.Markdown object>"
      ]
     },
     "metadata": {},
     "output_type": "display_data"
    },
    {
     "name": "stdout",
     "output_type": "stream",
     "text": [
      "Lambda solution status: 1\n",
      "V solution status: 1\n"
     ]
    },
    {
     "data": {
      "text/markdown": [
       "$ V(x)=(0.000000000 - 0.000000000x_{0} + 0.000000000x_{1} + 0.018785814x_{0} x_{1} + 8.125925767x_{0}^{2} + 0.410502354x_{1}^{2})$"
      ],
      "text/plain": [
       "<IPython.core.display.Markdown object>"
      ]
     },
     "metadata": {},
     "output_type": "display_data"
    },
    {
     "name": "stdout",
     "output_type": "stream",
     "text": [
      "Lambda solution status: 1\n",
      "V solution status: 1\n"
     ]
    },
    {
     "data": {
      "text/markdown": [
       "$ V(x)=(0.000000000 + 0.000000000x_{0} - 0.000000000x_{1} + 0.018354398x_{0} x_{1} + 7.920499970x_{0}^{2} + 0.400149999x_{1}^{2})$"
      ],
      "text/plain": [
       "<IPython.core.display.Markdown object>"
      ]
     },
     "metadata": {},
     "output_type": "display_data"
    },
    {
     "name": "stdout",
     "output_type": "stream",
     "text": [
      "Lambda solution status: 1\n",
      "V solution status: 1\n"
     ]
    },
    {
     "data": {
      "text/markdown": [
       "$ V(x)=(0.000000000 + 0.000000000x_{0} - 0.000000000x_{1} + 0.017933129x_{0} x_{1} + 7.719238837x_{0}^{2} + 0.390006766x_{1}^{2})$"
      ],
      "text/plain": [
       "<IPython.core.display.Markdown object>"
      ]
     },
     "metadata": {},
     "output_type": "display_data"
    },
    {
     "name": "stdout",
     "output_type": "stream",
     "text": [
      "Lambda solution status: 1\n",
      "V solution status: 1\n"
     ]
    },
    {
     "data": {
      "text/markdown": [
       "$ V(x)=(0.000000000 - 0.000000000x_{0} + 0.000000000x_{1} + 0.017522304x_{0} x_{1} + 7.522043545x_{0}^{2} + 0.380067751x_{1}^{2})$"
      ],
      "text/plain": [
       "<IPython.core.display.Markdown object>"
      ]
     },
     "metadata": {},
     "output_type": "display_data"
    },
    {
     "name": "stdout",
     "output_type": "stream",
     "text": [
      "Lambda solution status: 1\n",
      "V solution status: 1\n"
     ]
    },
    {
     "data": {
      "text/markdown": [
       "$ V(x)=(0.000000000 - 0.000000000x_{0} - 0.000000000x_{1} + 0.017119926x_{0} x_{1} + 7.328813612x_{0}^{2} + 0.370329734x_{1}^{2})$"
      ],
      "text/plain": [
       "<IPython.core.display.Markdown object>"
      ]
     },
     "metadata": {},
     "output_type": "display_data"
    },
    {
     "name": "stdout",
     "output_type": "stream",
     "text": [
      "Lambda solution status: 1\n",
      "V solution status: 1\n"
     ]
    },
    {
     "data": {
      "text/markdown": [
       "$ V(x)=(0.000000000 + 0.000000000x_{0} + 0.000000000x_{1} + 0.016732277x_{0} x_{1} + 7.139462429x_{0}^{2} + 0.360784786x_{1}^{2})$"
      ],
      "text/plain": [
       "<IPython.core.display.Markdown object>"
      ]
     },
     "metadata": {},
     "output_type": "display_data"
    },
    {
     "name": "stdout",
     "output_type": "stream",
     "text": [
      "Lambda solution status: 1\n",
      "V solution status: 1\n"
     ]
    },
    {
     "data": {
      "text/markdown": [
       "$ V(x)=(0.000000000 + 0.000000000x_{0} - 0.000000000x_{1} + 0.016355948x_{0} x_{1} + 6.953888888x_{0}^{2} + 0.351429912x_{1}^{2})$"
      ],
      "text/plain": [
       "<IPython.core.display.Markdown object>"
      ]
     },
     "metadata": {},
     "output_type": "display_data"
    },
    {
     "name": "stdout",
     "output_type": "stream",
     "text": [
      "Lambda solution status: 1\n",
      "V solution status: 1\n"
     ]
    },
    {
     "data": {
      "text/markdown": [
       "$ V(x)=(0.000000000 + 0.000000000x_{0} - 0.000000000x_{1} + 0.015991160x_{0} x_{1} + 6.771998287x_{0}^{2} + 0.342260427x_{1}^{2})$"
      ],
      "text/plain": [
       "<IPython.core.display.Markdown object>"
      ]
     },
     "metadata": {},
     "output_type": "display_data"
    },
    {
     "name": "stdout",
     "output_type": "stream",
     "text": [
      "Lambda solution status: 1\n",
      "V solution status: 1\n"
     ]
    },
    {
     "data": {
      "text/markdown": [
       "$ V(x)=(0.000000000 - 0.000000000x_{0} + 0.000000000x_{1} + 0.015637658x_{0} x_{1} + 6.593694899x_{0}^{2} + 0.333271507x_{1}^{2})$"
      ],
      "text/plain": [
       "<IPython.core.display.Markdown object>"
      ]
     },
     "metadata": {},
     "output_type": "display_data"
    },
    {
     "name": "stdout",
     "output_type": "stream",
     "text": [
      "Lambda solution status: 1\n",
      "V solution status: 1\n"
     ]
    },
    {
     "data": {
      "text/markdown": [
       "$ V(x)=(0.000000000 - 0.000000000x_{0} + 0.000000000x_{1} + 0.015294729x_{0} x_{1} + 6.418882231x_{0}^{2} + 0.324458209x_{1}^{2})$"
      ],
      "text/plain": [
       "<IPython.core.display.Markdown object>"
      ]
     },
     "metadata": {},
     "output_type": "display_data"
    },
    {
     "name": "stdout",
     "output_type": "stream",
     "text": [
      "Lambda solution status: 1\n",
      "V solution status: 1\n"
     ]
    },
    {
     "data": {
      "text/markdown": [
       "$ V(x)=(0.000000000 + 0.000000000x_{0} + 0.000000000x_{1} + 0.014961207x_{0} x_{1} + 6.247462956x_{0}^{2} + 0.315815489x_{1}^{2})$"
      ],
      "text/plain": [
       "<IPython.core.display.Markdown object>"
      ]
     },
     "metadata": {},
     "output_type": "display_data"
    },
    {
     "name": "stdout",
     "output_type": "stream",
     "text": [
      "Lambda solution status: 1\n",
      "V solution status: 1\n"
     ]
    },
    {
     "data": {
      "text/markdown": [
       "$ V(x)=(0.000000000 + 0.000000000x_{0} + 0.000000000x_{1} + 0.014635600x_{0} x_{1} + 6.079339173x_{0}^{2} + 0.307338252x_{1}^{2})$"
      ],
      "text/plain": [
       "<IPython.core.display.Markdown object>"
      ]
     },
     "metadata": {},
     "output_type": "display_data"
    },
    {
     "name": "stdout",
     "output_type": "stream",
     "text": [
      "Lambda solution status: 1\n",
      "V solution status: 1\n"
     ]
    },
    {
     "data": {
      "text/markdown": [
       "$ V(x)=(0.000000000 + 0.000000000x_{0} + 0.000000000x_{1} + 0.014316121x_{0} x_{1} + 5.914412950x_{0}^{2} + 0.299021365x_{1}^{2})$"
      ],
      "text/plain": [
       "<IPython.core.display.Markdown object>"
      ]
     },
     "metadata": {},
     "output_type": "display_data"
    },
    {
     "name": "stdout",
     "output_type": "stream",
     "text": [
      "Lambda solution status: 1\n",
      "V solution status: 1\n"
     ]
    },
    {
     "data": {
      "text/markdown": [
       "$ V(x)=(0.000000000 + 0.000000000x_{0} - 0.000000000x_{1} + 0.014000898x_{0} x_{1} + 5.752586699x_{0}^{2} + 0.290859733x_{1}^{2})$"
      ],
      "text/plain": [
       "<IPython.core.display.Markdown object>"
      ]
     },
     "metadata": {},
     "output_type": "display_data"
    },
    {
     "name": "stdout",
     "output_type": "stream",
     "text": [
      "Lambda solution status: 1\n",
      "V solution status: 1\n"
     ]
    },
    {
     "data": {
      "text/markdown": [
       "$ V(x)=(0.000000000 + 0.000000000x_{0} + 0.000000000x_{1} + 0.013684698x_{0} x_{1} + 5.593698448x_{0}^{2} + 0.282845202x_{1}^{2})$"
      ],
      "text/plain": [
       "<IPython.core.display.Markdown object>"
      ]
     },
     "metadata": {},
     "output_type": "display_data"
    },
    {
     "name": "stdout",
     "output_type": "stream",
     "text": [
      "Lambda solution status: 1\n",
      "V solution status: 1\n"
     ]
    },
    {
     "data": {
      "text/markdown": [
       "$ V(x)=(0.000000000 - 0.000000000x_{0} + 0.000000000x_{1} + 0.013365103x_{0} x_{1} + 5.437612517x_{0}^{2} + 0.274970856x_{1}^{2})$"
      ],
      "text/plain": [
       "<IPython.core.display.Markdown object>"
      ]
     },
     "metadata": {},
     "output_type": "display_data"
    },
    {
     "name": "stdout",
     "output_type": "stream",
     "text": [
      "Lambda solution status: 1\n",
      "V solution status: 1\n"
     ]
    },
    {
     "data": {
      "text/markdown": [
       "$ V(x)=(0.000000000 + 0.000000000x_{0} - 0.000000000x_{1} + 0.013038796x_{0} x_{1} + 5.284210864x_{0}^{2} + 0.267230267x_{1}^{2})$"
      ],
      "text/plain": [
       "<IPython.core.display.Markdown object>"
      ]
     },
     "metadata": {},
     "output_type": "display_data"
    },
    {
     "name": "stdout",
     "output_type": "stream",
     "text": [
      "Lambda solution status: 1\n",
      "V solution status: 1\n"
     ]
    },
    {
     "data": {
      "text/markdown": [
       "$ V(x)=(0.000000000 + 0.000000000x_{0} + 0.000000000x_{1} + 0.012702156x_{0} x_{1} + 5.133356143x_{0}^{2} + 0.259616074x_{1}^{2})$"
      ],
      "text/plain": [
       "<IPython.core.display.Markdown object>"
      ]
     },
     "metadata": {},
     "output_type": "display_data"
    },
    {
     "name": "stdout",
     "output_type": "stream",
     "text": [
      "Lambda solution status: 1\n",
      "V solution status: 1\n"
     ]
    },
    {
     "data": {
      "text/markdown": [
       "$ V(x)=(0.000000000 - 0.000000000x_{0} + 0.000000000x_{1} + 0.012350403x_{0} x_{1} + 4.984883001x_{0}^{2} + 0.252119420x_{1}^{2})$"
      ],
      "text/plain": [
       "<IPython.core.display.Markdown object>"
      ]
     },
     "metadata": {},
     "output_type": "display_data"
    },
    {
     "name": "stdout",
     "output_type": "stream",
     "text": [
      "Lambda solution status: 1\n",
      "V solution status: 1\n"
     ]
    },
    {
     "data": {
      "text/markdown": [
       "$ V(x)=(0.000000000 + 0.000000000x_{0} + 0.000000000x_{1} + 0.012099064x_{0} x_{1} + 4.840036081x_{0}^{2} + 0.244816697x_{1}^{2})$"
      ],
      "text/plain": [
       "<IPython.core.display.Markdown object>"
      ]
     },
     "metadata": {},
     "output_type": "display_data"
    },
    {
     "name": "stdout",
     "output_type": "stream",
     "text": [
      "Lambda solution status: 1\n",
      "V solution status: 1\n"
     ]
    },
    {
     "data": {
      "text/markdown": [
       "$ V(x)=(0.000000000 + 0.000000000x_{0} + 0.000000000x_{1} + 0.011966450x_{0} x_{1} + 4.699372127x_{0}^{2} + 0.237733835x_{1}^{2})$"
      ],
      "text/plain": [
       "<IPython.core.display.Markdown object>"
      ]
     },
     "metadata": {},
     "output_type": "display_data"
    },
    {
     "name": "stdout",
     "output_type": "stream",
     "text": [
      "Lambda solution status: 1\n",
      "V solution status: 1\n"
     ]
    },
    {
     "data": {
      "text/markdown": [
       "$ V(x)=(0.000000000 + 0.000000000x_{0} - 0.000000000x_{1} + 0.012148593x_{0} x_{1} + 4.563590657x_{0}^{2} + 0.230936736x_{1}^{2})$"
      ],
      "text/plain": [
       "<IPython.core.display.Markdown object>"
      ]
     },
     "metadata": {},
     "output_type": "display_data"
    },
    {
     "name": "stdout",
     "output_type": "stream",
     "text": [
      "Lambda solution status: 1\n",
      "V solution status: 1\n"
     ]
    },
    {
     "data": {
      "text/markdown": [
       "$ V(x)=(0.000000000 + 0.000000000x_{0} - 0.000000000x_{1} + 0.012135064x_{0} x_{1} + 4.429993373x_{0}^{2} + 0.224202374x_{1}^{2})$"
      ],
      "text/plain": [
       "<IPython.core.display.Markdown object>"
      ]
     },
     "metadata": {},
     "output_type": "display_data"
    },
    {
     "name": "stdout",
     "output_type": "stream",
     "text": [
      "Lambda solution status: 1\n",
      "V solution status: 1\n"
     ]
    },
    {
     "data": {
      "text/markdown": [
       "$ V(x)=(0.000000000 + 0.000000000x_{0} + 0.000000000x_{1} + 0.012023099x_{0} x_{1} + 4.298939328x_{0}^{2} + 0.217575319x_{1}^{2})$"
      ],
      "text/plain": [
       "<IPython.core.display.Markdown object>"
      ]
     },
     "metadata": {},
     "output_type": "display_data"
    },
    {
     "name": "stdout",
     "output_type": "stream",
     "text": [
      "Lambda solution status: 1\n",
      "V solution status: 1\n"
     ]
    },
    {
     "data": {
      "text/markdown": [
       "$ V(x)=(0.000000000 + 0.000000000x_{0} - 0.000000000x_{1} + 0.011843261x_{0} x_{1} + 4.170417850x_{0}^{2} + 0.211065052x_{1}^{2})$"
      ],
      "text/plain": [
       "<IPython.core.display.Markdown object>"
      ]
     },
     "metadata": {},
     "output_type": "display_data"
    },
    {
     "name": "stdout",
     "output_type": "stream",
     "text": [
      "Lambda solution status: 1\n",
      "V solution status: 1\n"
     ]
    },
    {
     "data": {
      "text/markdown": [
       "$ V(x)=(0.000000000 + 0.000000000x_{0} - 0.000000000x_{1} + 0.011606664x_{0} x_{1} + 4.044474226x_{0}^{2} + 0.204678223x_{1}^{2})$"
      ],
      "text/plain": [
       "<IPython.core.display.Markdown object>"
      ]
     },
     "metadata": {},
     "output_type": "display_data"
    },
    {
     "name": "stdout",
     "output_type": "stream",
     "text": [
      "Lambda solution status: 1\n",
      "V solution status: 1\n"
     ]
    },
    {
     "data": {
      "text/markdown": [
       "$ V(x)=(0.000000000 - 0.000000000x_{0} + 0.000000000x_{1} + 0.011267402x_{0} x_{1} + 3.921339974x_{0}^{2} + 0.198420361x_{1}^{2})$"
      ],
      "text/plain": [
       "<IPython.core.display.Markdown object>"
      ]
     },
     "metadata": {},
     "output_type": "display_data"
    },
    {
     "name": "stdout",
     "output_type": "stream",
     "text": [
      "Lambda solution status: 1\n",
      "V solution status: 1\n"
     ]
    },
    {
     "data": {
      "text/markdown": [
       "$ V(x)=(0.000000000 - 0.000000000x_{0} + 0.000000000x_{1} + 0.010855508x_{0} x_{1} + 3.800043777x_{0}^{2} + 0.192250644x_{1}^{2})$"
      ],
      "text/plain": [
       "<IPython.core.display.Markdown object>"
      ]
     },
     "metadata": {},
     "output_type": "display_data"
    },
    {
     "name": "stdout",
     "output_type": "stream",
     "text": [
      "Lambda solution status: 1\n",
      "V solution status: 1\n"
     ]
    },
    {
     "data": {
      "text/markdown": [
       "$ V(x)=(0.000000000 - 0.000000000x_{0} + 0.000000000x_{1} + 0.010549966x_{0} x_{1} + 3.681560564x_{0}^{2} + 0.186249505x_{1}^{2})$"
      ],
      "text/plain": [
       "<IPython.core.display.Markdown object>"
      ]
     },
     "metadata": {},
     "output_type": "display_data"
    },
    {
     "name": "stdout",
     "output_type": "stream",
     "text": [
      "Lambda solution status: 1\n",
      "V solution status: 1\n"
     ]
    },
    {
     "data": {
      "text/markdown": [
       "$ V(x)=(0.000000000 - 0.000000000x_{0} - 0.000000000x_{1} + 0.010333458x_{0} x_{1} + 3.565831329x_{0}^{2} + 0.180404157x_{1}^{2})$"
      ],
      "text/plain": [
       "<IPython.core.display.Markdown object>"
      ]
     },
     "metadata": {},
     "output_type": "display_data"
    },
    {
     "name": "stdout",
     "output_type": "stream",
     "text": [
      "Lambda solution status: 1\n",
      "V solution status: 1\n"
     ]
    },
    {
     "data": {
      "text/markdown": [
       "$ V(x)=(0.000000000 - 0.000000000x_{0} - 0.000000000x_{1} + 0.010178386x_{0} x_{1} + 3.452797806x_{0}^{2} + 0.174702766x_{1}^{2})$"
      ],
      "text/plain": [
       "<IPython.core.display.Markdown object>"
      ]
     },
     "metadata": {},
     "output_type": "display_data"
    },
    {
     "name": "stdout",
     "output_type": "stream",
     "text": [
      "Lambda solution status: 1\n",
      "V solution status: 1\n"
     ]
    },
    {
     "data": {
      "text/markdown": [
       "$ V(x)=(0.000000000 + 0.000000000x_{0} - 0.000000000x_{1} + 0.010054140x_{0} x_{1} + 3.342358717x_{0}^{2} + 0.169133271x_{1}^{2})$"
      ],
      "text/plain": [
       "<IPython.core.display.Markdown object>"
      ]
     },
     "metadata": {},
     "output_type": "display_data"
    },
    {
     "name": "stdout",
     "output_type": "stream",
     "text": [
      "Lambda solution status: 1\n",
      "V solution status: 1\n"
     ]
    },
    {
     "data": {
      "text/markdown": [
       "$ V(x)=(0.000000000 + 0.000000000x_{0} - 0.000000000x_{1} + 0.009941641x_{0} x_{1} + 3.234473440x_{0}^{2} + 0.163690371x_{1}^{2})$"
      ],
      "text/plain": [
       "<IPython.core.display.Markdown object>"
      ]
     },
     "metadata": {},
     "output_type": "display_data"
    },
    {
     "name": "stdout",
     "output_type": "stream",
     "text": [
      "Lambda solution status: 1\n",
      "V solution status: 1\n"
     ]
    },
    {
     "data": {
      "text/markdown": [
       "$ V(x)=(0.000000000 - 0.000000000x_{0} - 0.000000000x_{1} + 0.009975593x_{0} x_{1} + 3.130050801x_{0}^{2} + 0.158441892x_{1}^{2})$"
      ],
      "text/plain": [
       "<IPython.core.display.Markdown object>"
      ]
     },
     "metadata": {},
     "output_type": "display_data"
    },
    {
     "name": "stdout",
     "output_type": "stream",
     "text": [
      "Lambda solution status: 1\n",
      "V solution status: 1\n"
     ]
    },
    {
     "data": {
      "text/markdown": [
       "$ V(x)=(0.000000000 - 0.000000000x_{0} - 0.000000000x_{1} + 0.009946074x_{0} x_{1} + 3.028227903x_{0}^{2} + 0.153306381x_{1}^{2})$"
      ],
      "text/plain": [
       "<IPython.core.display.Markdown object>"
      ]
     },
     "metadata": {},
     "output_type": "display_data"
    },
    {
     "name": "stdout",
     "output_type": "stream",
     "text": [
      "Lambda solution status: 1\n",
      "V solution status: 1\n"
     ]
    },
    {
     "data": {
      "text/markdown": [
       "$ V(x)=(0.000000000 + 0.000000000x_{0} + 0.000000000x_{1} + 0.009820316x_{0} x_{1} + 2.929118349x_{0}^{2} + 0.148292068x_{1}^{2})$"
      ],
      "text/plain": [
       "<IPython.core.display.Markdown object>"
      ]
     },
     "metadata": {},
     "output_type": "display_data"
    },
    {
     "name": "stdout",
     "output_type": "stream",
     "text": [
      "Lambda solution status: 1\n",
      "V solution status: 1\n"
     ]
    },
    {
     "data": {
      "text/markdown": [
       "$ V(x)=(0.000000000 - 0.000000000x_{0} + 0.000000000x_{1} + 0.009629065x_{0} x_{1} + 2.832754005x_{0}^{2} + 0.143409642x_{1}^{2})$"
      ],
      "text/plain": [
       "<IPython.core.display.Markdown object>"
      ]
     },
     "metadata": {},
     "output_type": "display_data"
    },
    {
     "name": "stdout",
     "output_type": "stream",
     "text": [
      "Lambda solution status: 1\n",
      "V solution status: 1\n"
     ]
    },
    {
     "data": {
      "text/markdown": [
       "$ V(x)=(0.000000000 - 0.000000000x_{0} + 0.000000000x_{1} + 0.009394353x_{0} x_{1} + 2.739136562x_{0}^{2} + 0.138664237x_{1}^{2})$"
      ],
      "text/plain": [
       "<IPython.core.display.Markdown object>"
      ]
     },
     "metadata": {},
     "output_type": "display_data"
    },
    {
     "name": "stdout",
     "output_type": "stream",
     "text": [
      "Lambda solution status: 1\n",
      "V solution status: 1\n"
     ]
    },
    {
     "data": {
      "text/markdown": [
       "$ V(x)=(0.000000000 + 0.000000000x_{0} + 0.000000000x_{1} + 0.009131659x_{0} x_{1} + 2.648247172x_{0}^{2} + 0.134057468x_{1}^{2})$"
      ],
      "text/plain": [
       "<IPython.core.display.Markdown object>"
      ]
     },
     "metadata": {},
     "output_type": "display_data"
    },
    {
     "name": "stdout",
     "output_type": "stream",
     "text": [
      "Lambda solution status: 1\n",
      "V solution status: 1\n"
     ]
    },
    {
     "data": {
      "text/markdown": [
       "$ V(x)=(0.000000000 - 0.000000000x_{0} + 0.000000000x_{1} + 0.008851749x_{0} x_{1} + 2.560053399x_{0}^{2} + 0.129588811x_{1}^{2})$"
      ],
      "text/plain": [
       "<IPython.core.display.Markdown object>"
      ]
     },
     "metadata": {},
     "output_type": "display_data"
    },
    {
     "name": "stdout",
     "output_type": "stream",
     "text": [
      "Lambda solution status: 1\n",
      "V solution status: 1\n"
     ]
    },
    {
     "data": {
      "text/markdown": [
       "$ V(x)=(0.000000000 + 0.000000000x_{0} - 0.000000000x_{1} + 0.008561533x_{0} x_{1} + 2.474509410x_{0}^{2} + 0.125256176x_{1}^{2})$"
      ],
      "text/plain": [
       "<IPython.core.display.Markdown object>"
      ]
     },
     "metadata": {},
     "output_type": "display_data"
    },
    {
     "name": "stdout",
     "output_type": "stream",
     "text": [
      "Lambda solution status: 1\n",
      "V solution status: 1\n"
     ]
    },
    {
     "data": {
      "text/markdown": [
       "$ V(x)=(0.000000000 + 0.000000000x_{0} + 0.000000000x_{1} + 0.008266223x_{0} x_{1} + 2.391566981x_{0}^{2} + 0.121057055x_{1}^{2})$"
      ],
      "text/plain": [
       "<IPython.core.display.Markdown object>"
      ]
     },
     "metadata": {},
     "output_type": "display_data"
    },
    {
     "name": "stdout",
     "output_type": "stream",
     "text": [
      "Lambda solution status: 1\n",
      "V solution status: 1\n"
     ]
    },
    {
     "data": {
      "text/markdown": [
       "$ V(x)=(0.000000000 + 0.000000000x_{0} - 0.000000000x_{1} + 0.007969662x_{0} x_{1} + 2.311174193x_{0}^{2} + 0.116988590x_{1}^{2})$"
      ],
      "text/plain": [
       "<IPython.core.display.Markdown object>"
      ]
     },
     "metadata": {},
     "output_type": "display_data"
    },
    {
     "name": "stdout",
     "output_type": "stream",
     "text": [
      "Lambda solution status: 1\n",
      "V solution status: 1\n"
     ]
    },
    {
     "data": {
      "text/markdown": [
       "$ V(x)=(0.000000000 + 0.000000000x_{0} - 0.000000000x_{1} + 0.007674672x_{0} x_{1} + 2.233273581x_{0}^{2} + 0.113047572x_{1}^{2})$"
      ],
      "text/plain": [
       "<IPython.core.display.Markdown object>"
      ]
     },
     "metadata": {},
     "output_type": "display_data"
    },
    {
     "name": "stdout",
     "output_type": "stream",
     "text": [
      "Lambda solution status: 1\n",
      "V solution status: 1\n"
     ]
    },
    {
     "data": {
      "text/markdown": [
       "$ V(x)=(0.000000000 - 0.000000000x_{0} - 0.000000000x_{1} + 0.007383530x_{0} x_{1} + 2.157800040x_{0}^{2} + 0.109230421x_{1}^{2})$"
      ],
      "text/plain": [
       "<IPython.core.display.Markdown object>"
      ]
     },
     "metadata": {},
     "output_type": "display_data"
    },
    {
     "name": "stdout",
     "output_type": "stream",
     "text": [
      "Lambda solution status: 1\n",
      "V solution status: 1\n"
     ]
    },
    {
     "data": {
      "text/markdown": [
       "$ V(x)=(0.000000000 + 0.000000000x_{0} + 0.000000000x_{1} + 0.007099169x_{0} x_{1} + 2.084679304x_{0}^{2} + 0.105533243x_{1}^{2})$"
      ],
      "text/plain": [
       "<IPython.core.display.Markdown object>"
      ]
     },
     "metadata": {},
     "output_type": "display_data"
    },
    {
     "name": "stdout",
     "output_type": "stream",
     "text": [
      "Lambda solution status: 1\n",
      "V solution status: 1\n"
     ]
    },
    {
     "data": {
      "text/markdown": [
       "$ V(x)=(0.000000000 + 0.000000000x_{0} - 0.000000000x_{1} + 0.006825812x_{0} x_{1} + 2.013814416x_{0}^{2} + 0.101951170x_{1}^{2})$"
      ],
      "text/plain": [
       "<IPython.core.display.Markdown object>"
      ]
     },
     "metadata": {},
     "output_type": "display_data"
    },
    {
     "name": "stdout",
     "output_type": "stream",
     "text": [
      "Lambda solution status: 1\n",
      "V solution status: 1\n"
     ]
    },
    {
     "data": {
      "text/markdown": [
       "$ V(x)=(0.000000000 + 0.000000000x_{0} - 0.000000000x_{1} + 0.006569723x_{0} x_{1} + 1.945047147x_{0}^{2} + 0.098476348x_{1}^{2})$"
      ],
      "text/plain": [
       "<IPython.core.display.Markdown object>"
      ]
     },
     "metadata": {},
     "output_type": "display_data"
    },
    {
     "name": "stdout",
     "output_type": "stream",
     "text": [
      "Lambda solution status: 1\n",
      "V solution status: 1\n"
     ]
    },
    {
     "data": {
      "text/markdown": [
       "$ V(x)=(0.000000000 - 0.000000000x_{0} - 0.000000000x_{1} + 0.006344132x_{0} x_{1} + 1.878120915x_{0}^{2} + 0.095096557x_{1}^{2})$"
      ],
      "text/plain": [
       "<IPython.core.display.Markdown object>"
      ]
     },
     "metadata": {},
     "output_type": "display_data"
    },
    {
     "name": "stdout",
     "output_type": "stream",
     "text": [
      "Lambda solution status: 1\n",
      "V solution status: 1\n"
     ]
    },
    {
     "data": {
      "text/markdown": [
       "$ V(x)=(0.000000000 + 0.000000000x_{0} - 0.000000000x_{1} + 0.006064789x_{0} x_{1} + 1.814274805x_{0}^{2} + 0.091865260x_{1}^{2})$"
      ],
      "text/plain": [
       "<IPython.core.display.Markdown object>"
      ]
     },
     "metadata": {},
     "output_type": "display_data"
    },
    {
     "name": "stdout",
     "output_type": "stream",
     "text": [
      "Lambda solution status: 1\n",
      "V solution status: 1\n"
     ]
    },
    {
     "data": {
      "text/markdown": [
       "$ V(x)=(0.000000000 - 0.000000000x_{0} - 0.000000000x_{1} + 0.005743952x_{0} x_{1} + 1.753649731x_{0}^{2} + 0.088793259x_{1}^{2})$"
      ],
      "text/plain": [
       "<IPython.core.display.Markdown object>"
      ]
     },
     "metadata": {},
     "output_type": "display_data"
    },
    {
     "name": "stdout",
     "output_type": "stream",
     "text": [
      "Lambda solution status: 1\n",
      "V solution status: 1\n"
     ]
    },
    {
     "data": {
      "text/markdown": [
       "$ V(x)=(0.000000000 - 0.000000000x_{0} - 0.000000000x_{1} + 0.005384609x_{0} x_{1} + 1.696230216x_{0}^{2} + 0.085881386x_{1}^{2})$"
      ],
      "text/plain": [
       "<IPython.core.display.Markdown object>"
      ]
     },
     "metadata": {},
     "output_type": "display_data"
    },
    {
     "name": "stdout",
     "output_type": "stream",
     "text": [
      "Lambda solution status: 1\n",
      "V solution status: 1\n"
     ]
    },
    {
     "data": {
      "text/markdown": [
       "$ V(x)=(0.000000000 + 0.000000000x_{0} + 0.000000000x_{1} + 0.004979457x_{0} x_{1} + 1.641091998x_{0}^{2} + 0.083082949x_{1}^{2})$"
      ],
      "text/plain": [
       "<IPython.core.display.Markdown object>"
      ]
     },
     "metadata": {},
     "output_type": "display_data"
    },
    {
     "name": "stdout",
     "output_type": "stream",
     "text": [
      "Lambda solution status: 1\n",
      "V solution status: 1\n"
     ]
    },
    {
     "data": {
      "text/markdown": [
       "$ V(x)=(0.000000000 + 0.000000000x_{0} + 0.000000000x_{1} + 0.004556271x_{0} x_{1} + 1.588169506x_{0}^{2} + 0.080397152x_{1}^{2})$"
      ],
      "text/plain": [
       "<IPython.core.display.Markdown object>"
      ]
     },
     "metadata": {},
     "output_type": "display_data"
    },
    {
     "name": "stdout",
     "output_type": "stream",
     "text": [
      "Lambda solution status: 1\n",
      "V solution status: 1\n"
     ]
    },
    {
     "data": {
      "text/markdown": [
       "$ V(x)=(0.000000000 + 0.000000000x_{0} + 0.000000000x_{1} + 0.004132255x_{0} x_{1} + 1.537311240x_{0}^{2} + 0.077817496x_{1}^{2})$"
      ],
      "text/plain": [
       "<IPython.core.display.Markdown object>"
      ]
     },
     "metadata": {},
     "output_type": "display_data"
    },
    {
     "name": "stdout",
     "output_type": "stream",
     "text": [
      "Lambda solution status: 1\n",
      "V solution status: 1\n"
     ]
    },
    {
     "data": {
      "text/markdown": [
       "$ V(x)=(0.000000000 - 0.000000000x_{0} + 0.000000000x_{1} + 0.003719706x_{0} x_{1} + 1.488457355x_{0}^{2} + 0.075341535x_{1}^{2})$"
      ],
      "text/plain": [
       "<IPython.core.display.Markdown object>"
      ]
     },
     "metadata": {},
     "output_type": "display_data"
    },
    {
     "name": "stdout",
     "output_type": "stream",
     "text": [
      "Lambda solution status: 1\n",
      "V solution status: 1\n"
     ]
    },
    {
     "data": {
      "text/markdown": [
       "$ V(x)=(0.000000000 + 0.000000000x_{0} + 0.000000000x_{1} + 0.003360300x_{0} x_{1} + 1.441666565x_{0}^{2} + 0.072976167x_{1}^{2})$"
      ],
      "text/plain": [
       "<IPython.core.display.Markdown object>"
      ]
     },
     "metadata": {},
     "output_type": "display_data"
    },
    {
     "name": "stdout",
     "output_type": "stream",
     "text": [
      "Lambda solution status: 1\n",
      "V solution status: 1\n"
     ]
    },
    {
     "data": {
      "text/markdown": [
       "$ V(x)=(0.000000000 - 0.000000000x_{0} + 0.000000000x_{1} + 0.002999656x_{0} x_{1} + 1.395795933x_{0}^{2} + 0.070655367x_{1}^{2})$"
      ],
      "text/plain": [
       "<IPython.core.display.Markdown object>"
      ]
     },
     "metadata": {},
     "output_type": "display_data"
    },
    {
     "name": "stdout",
     "output_type": "stream",
     "text": [
      "Lambda solution status: 1\n",
      "V solution status: 1\n"
     ]
    },
    {
     "data": {
      "text/markdown": [
       "$ V(x)=(0.000000000 - 0.000000000x_{0} + 0.000000000x_{1} + 0.002901085x_{0} x_{1} + 1.352952609x_{0}^{2} + 0.068517083x_{1}^{2})$"
      ],
      "text/plain": [
       "<IPython.core.display.Markdown object>"
      ]
     },
     "metadata": {},
     "output_type": "display_data"
    },
    {
     "name": "stdout",
     "output_type": "stream",
     "text": [
      "Lambda solution status: 1\n",
      "V solution status: 1\n"
     ]
    },
    {
     "data": {
      "text/markdown": [
       "$ V(x)=(0.000000000 + 0.000000000x_{0} - 0.000000000x_{1} + 0.002775932x_{0} x_{1} + 1.311584104x_{0}^{2} + 0.066444398x_{1}^{2})$"
      ],
      "text/plain": [
       "<IPython.core.display.Markdown object>"
      ]
     },
     "metadata": {},
     "output_type": "display_data"
    },
    {
     "name": "stdout",
     "output_type": "stream",
     "text": [
      "Lambda solution status: 1\n",
      "V solution status: 1\n"
     ]
    },
    {
     "data": {
      "text/markdown": [
       "$ V(x)=(0.000000000 + 0.000000000x_{0} + 0.000000000x_{1} + 0.002635739x_{0} x_{1} + 1.271645992x_{0}^{2} + 0.064437901x_{1}^{2})$"
      ],
      "text/plain": [
       "<IPython.core.display.Markdown object>"
      ]
     },
     "metadata": {},
     "output_type": "display_data"
    },
    {
     "name": "stdout",
     "output_type": "stream",
     "text": [
      "Lambda solution status: 1\n",
      "V solution status: 1\n"
     ]
    },
    {
     "data": {
      "text/markdown": [
       "$ V(x)=(0.000000000 - 0.000000000x_{0} + 0.000000000x_{1} + 0.002480937x_{0} x_{1} + 1.233056137x_{0}^{2} + 0.062494417x_{1}^{2})$"
      ],
      "text/plain": [
       "<IPython.core.display.Markdown object>"
      ]
     },
     "metadata": {},
     "output_type": "display_data"
    },
    {
     "name": "stdout",
     "output_type": "stream",
     "text": [
      "Lambda solution status: 1\n",
      "V solution status: 1\n"
     ]
    },
    {
     "data": {
      "text/markdown": [
       "$ V(x)=(0.000000000 - 0.000000000x_{0} + 0.000000000x_{1} + 0.002193082x_{0} x_{1} + 1.194776911x_{0}^{2} + 0.060546790x_{1}^{2})$"
      ],
      "text/plain": [
       "<IPython.core.display.Markdown object>"
      ]
     },
     "metadata": {},
     "output_type": "display_data"
    },
    {
     "name": "stdout",
     "output_type": "stream",
     "text": [
      "Lambda solution status: 1\n",
      "V solution status: 1\n"
     ]
    },
    {
     "data": {
      "text/markdown": [
       "$ V(x)=(0.000000000 + 0.000000000x_{0} + 0.000000000x_{1} + 0.002117354x_{0} x_{1} + 1.160387386x_{0}^{2} + 0.058822681x_{1}^{2})$"
      ],
      "text/plain": [
       "<IPython.core.display.Markdown object>"
      ]
     },
     "metadata": {},
     "output_type": "display_data"
    },
    {
     "name": "stdout",
     "output_type": "stream",
     "text": [
      "Lambda solution status: 1\n",
      "V solution status: 1\n"
     ]
    },
    {
     "data": {
      "text/markdown": [
       "$ V(x)=(0.000000000 + 0.000000000x_{0} - 0.000000000x_{1} + 0.001857103x_{0} x_{1} + 1.126133563x_{0}^{2} + 0.057082428x_{1}^{2})$"
      ],
      "text/plain": [
       "<IPython.core.display.Markdown object>"
      ]
     },
     "metadata": {},
     "output_type": "display_data"
    },
    {
     "name": "stdout",
     "output_type": "stream",
     "text": [
      "Lambda solution status: 1\n",
      "V solution status: 1\n"
     ]
    },
    {
     "data": {
      "text/markdown": [
       "$ V(x)=(0.000000000 - 0.000000000x_{0} + 0.000000000x_{1} + 0.001862439x_{0} x_{1} + 1.094730649x_{0}^{2} + 0.055513236x_{1}^{2})$"
      ],
      "text/plain": [
       "<IPython.core.display.Markdown object>"
      ]
     },
     "metadata": {},
     "output_type": "display_data"
    },
    {
     "name": "stdout",
     "output_type": "stream",
     "text": [
      "Lambda solution status: 1\n",
      "V solution status: 1\n"
     ]
    },
    {
     "data": {
      "text/markdown": [
       "$ V(x)=(0.000000000 - 0.000000000x_{0} - 0.000000000x_{1} + 0.001776100x_{0} x_{1} + 1.064725891x_{0}^{2} + 0.054002218x_{1}^{2})$"
      ],
      "text/plain": [
       "<IPython.core.display.Markdown object>"
      ]
     },
     "metadata": {},
     "output_type": "display_data"
    },
    {
     "name": "stdout",
     "output_type": "stream",
     "text": [
      "Lambda solution status: 1\n",
      "V solution status: 1\n"
     ]
    },
    {
     "data": {
      "text/markdown": [
       "$ V(x)=(0.000000000 + 0.000000000x_{0} + 0.000000000x_{1} + 0.001716553x_{0} x_{1} + 1.035988622x_{0}^{2} + 0.052555956x_{1}^{2})$"
      ],
      "text/plain": [
       "<IPython.core.display.Markdown object>"
      ]
     },
     "metadata": {},
     "output_type": "display_data"
    },
    {
     "name": "stdout",
     "output_type": "stream",
     "text": [
      "Lambda solution status: 1\n",
      "V solution status: 1\n"
     ]
    },
    {
     "data": {
      "text/markdown": [
       "$ V(x)=(0.000000000 - 0.000000000x_{0} - 0.000000000x_{1} + 0.001684921x_{0} x_{1} + 1.008205567x_{0}^{2} + 0.051158157x_{1}^{2})$"
      ],
      "text/plain": [
       "<IPython.core.display.Markdown object>"
      ]
     },
     "metadata": {},
     "output_type": "display_data"
    },
    {
     "name": "stdout",
     "output_type": "stream",
     "text": [
      "Lambda solution status: 1\n",
      "V solution status: 1\n"
     ]
    },
    {
     "data": {
      "text/markdown": [
       "$ V(x)=(0.000000000 - 0.000000000x_{0} - 0.000000000x_{1} + 0.001677205x_{0} x_{1} + 0.981008821x_{0}^{2} + 0.049790309x_{1}^{2})$"
      ],
      "text/plain": [
       "<IPython.core.display.Markdown object>"
      ]
     },
     "metadata": {},
     "output_type": "display_data"
    },
    {
     "name": "stdout",
     "output_type": "stream",
     "text": [
      "Lambda solution status: 1\n",
      "V solution status: 1\n"
     ]
    },
    {
     "data": {
      "text/markdown": [
       "$ V(x)=(0.000000000 - 0.000000000x_{0} + 0.000000000x_{1} + 0.001666533x_{0} x_{1} + 0.954441706x_{0}^{2} + 0.048452106x_{1}^{2})$"
      ],
      "text/plain": [
       "<IPython.core.display.Markdown object>"
      ]
     },
     "metadata": {},
     "output_type": "display_data"
    },
    {
     "name": "stdout",
     "output_type": "stream",
     "text": [
      "Lambda solution status: 1\n",
      "V solution status: 1\n"
     ]
    },
    {
     "data": {
      "text/markdown": [
       "$ V(x)=(0.000000000 - 0.000000000x_{0} - 0.000000000x_{1} + 0.001619463x_{0} x_{1} + 0.928450211x_{0}^{2} + 0.047137858x_{1}^{2})$"
      ],
      "text/plain": [
       "<IPython.core.display.Markdown object>"
      ]
     },
     "metadata": {},
     "output_type": "display_data"
    },
    {
     "name": "stdout",
     "output_type": "stream",
     "text": [
      "Lambda solution status: 1\n",
      "V solution status: 1\n"
     ]
    },
    {
     "data": {
      "text/markdown": [
       "$ V(x)=(0.000000000 - 0.000000000x_{0} + 0.000000000x_{1} + 0.001532294x_{0} x_{1} + 0.902875734x_{0}^{2} + 0.045839757x_{1}^{2})$"
      ],
      "text/plain": [
       "<IPython.core.display.Markdown object>"
      ]
     },
     "metadata": {},
     "output_type": "display_data"
    },
    {
     "name": "stdout",
     "output_type": "stream",
     "text": [
      "Lambda solution status: 1\n",
      "V solution status: 1\n"
     ]
    },
    {
     "data": {
      "text/markdown": [
       "$ V(x)=(0.000000000 + 0.000000000x_{0} + 0.000000000x_{1} + 0.001450097x_{0} x_{1} + 0.877665534x_{0}^{2} + 0.044560460x_{1}^{2})$"
      ],
      "text/plain": [
       "<IPython.core.display.Markdown object>"
      ]
     },
     "metadata": {},
     "output_type": "display_data"
    },
    {
     "name": "stdout",
     "output_type": "stream",
     "text": [
      "Lambda solution status: 1\n",
      "V solution status: 1\n"
     ]
    },
    {
     "data": {
      "text/markdown": [
       "$ V(x)=(0.000000000 + 0.000000000x_{0} - 0.000000000x_{1} + 0.001384804x_{0} x_{1} + 0.852525017x_{0}^{2} + 0.043285580x_{1}^{2})$"
      ],
      "text/plain": [
       "<IPython.core.display.Markdown object>"
      ]
     },
     "metadata": {},
     "output_type": "display_data"
    },
    {
     "name": "stdout",
     "output_type": "stream",
     "text": [
      "Lambda solution status: 1\n",
      "V solution status: 1\n"
     ]
    },
    {
     "data": {
      "text/markdown": [
       "$ V(x)=(0.000000000 - 0.000000000x_{0} - 0.000000000x_{1} + 0.001322288x_{0} x_{1} + 0.827437816x_{0}^{2} + 0.042012939x_{1}^{2})$"
      ],
      "text/plain": [
       "<IPython.core.display.Markdown object>"
      ]
     },
     "metadata": {},
     "output_type": "display_data"
    },
    {
     "name": "stdout",
     "output_type": "stream",
     "text": [
      "Lambda solution status: 1\n",
      "V solution status: 1\n"
     ]
    },
    {
     "data": {
      "text/markdown": [
       "$ V(x)=(0.000000000 - 0.000000000x_{0} - 0.000000000x_{1} + 0.001223222x_{0} x_{1} + 0.802199824x_{0}^{2} + 0.040728217x_{1}^{2})$"
      ],
      "text/plain": [
       "<IPython.core.display.Markdown object>"
      ]
     },
     "metadata": {},
     "output_type": "display_data"
    },
    {
     "name": "stdout",
     "output_type": "stream",
     "text": [
      "Lambda solution status: 1\n",
      "V solution status: 1\n"
     ]
    },
    {
     "data": {
      "text/markdown": [
       "$ V(x)=(0.000000000 + 0.000000000x_{0} - 0.000000000x_{1} + 0.001280834x_{0} x_{1} + 0.777612551x_{0}^{2} + 0.039490456x_{1}^{2})$"
      ],
      "text/plain": [
       "<IPython.core.display.Markdown object>"
      ]
     },
     "metadata": {},
     "output_type": "display_data"
    },
    {
     "name": "stdout",
     "output_type": "stream",
     "text": [
      "Lambda solution status: 1\n",
      "V solution status: 1\n"
     ]
    },
    {
     "data": {
      "text/markdown": [
       "$ V(x)=(0.000000000 + 0.000000000x_{0} - 0.000000000x_{1} + 0.001315921x_{0} x_{1} + 0.752996308x_{0}^{2} + 0.038247905x_{1}^{2})$"
      ],
      "text/plain": [
       "<IPython.core.display.Markdown object>"
      ]
     },
     "metadata": {},
     "output_type": "display_data"
    },
    {
     "name": "stdout",
     "output_type": "stream",
     "text": [
      "Lambda solution status: 1\n",
      "V solution status: 1\n"
     ]
    },
    {
     "data": {
      "text/markdown": [
       "$ V(x)=(0.000000000 + 0.000000000x_{0} + 0.000000000x_{1} + 0.001359411x_{0} x_{1} + 0.728570215x_{0}^{2} + 0.037014950x_{1}^{2})$"
      ],
      "text/plain": [
       "<IPython.core.display.Markdown object>"
      ]
     },
     "metadata": {},
     "output_type": "display_data"
    },
    {
     "name": "stdout",
     "output_type": "stream",
     "text": [
      "Lambda solution status: 1\n",
      "V solution status: 1\n"
     ]
    },
    {
     "data": {
      "text/markdown": [
       "$ V(x)=(0.000000000 + 0.000000000x_{0} + 0.000000000x_{1} + 0.001435073x_{0} x_{1} + 0.704485766x_{0}^{2} + 0.035801587x_{1}^{2})$"
      ],
      "text/plain": [
       "<IPython.core.display.Markdown object>"
      ]
     },
     "metadata": {},
     "output_type": "display_data"
    },
    {
     "name": "stdout",
     "output_type": "stream",
     "text": [
      "Lambda solution status: 1\n",
      "V solution status: 1\n"
     ]
    },
    {
     "data": {
      "text/markdown": [
       "$ V(x)=(0.000000000 - 0.000000000x_{0} + 0.000000000x_{1} + 0.001307794x_{0} x_{1} + 0.680340902x_{0}^{2} + 0.034564454x_{1}^{2})$"
      ],
      "text/plain": [
       "<IPython.core.display.Markdown object>"
      ]
     },
     "metadata": {},
     "output_type": "display_data"
    },
    {
     "name": "stdout",
     "output_type": "stream",
     "text": [
      "Lambda solution status: 1\n",
      "V solution status: 1\n"
     ]
    },
    {
     "data": {
      "text/markdown": [
       "$ V(x)=(0.000000000 + 0.000000000x_{0} + 0.000000000x_{1} + 0.001332802x_{0} x_{1} + 0.657049686x_{0}^{2} + 0.033385954x_{1}^{2})$"
      ],
      "text/plain": [
       "<IPython.core.display.Markdown object>"
      ]
     },
     "metadata": {},
     "output_type": "display_data"
    },
    {
     "name": "stdout",
     "output_type": "stream",
     "text": [
      "Lambda solution status: 1\n",
      "V solution status: 1\n"
     ]
    },
    {
     "data": {
      "text/markdown": [
       "$ V(x)=(0.000000000 - 0.000000000x_{0} + 0.000000000x_{1} + 0.001233949x_{0} x_{1} + 0.633751278x_{0}^{2} + 0.032195208x_{1}^{2})$"
      ],
      "text/plain": [
       "<IPython.core.display.Markdown object>"
      ]
     },
     "metadata": {},
     "output_type": "display_data"
    },
    {
     "name": "stdout",
     "output_type": "stream",
     "text": [
      "Lambda solution status: 1\n",
      "V solution status: 1\n"
     ]
    },
    {
     "data": {
      "text/markdown": [
       "$ V(x)=(0.000000000 - 0.000000000x_{0} - 0.000000000x_{1} + 0.001226787x_{0} x_{1} + 0.610693000x_{0}^{2} + 0.031025182x_{1}^{2})$"
      ],
      "text/plain": [
       "<IPython.core.display.Markdown object>"
      ]
     },
     "metadata": {},
     "output_type": "display_data"
    },
    {
     "name": "stdout",
     "output_type": "stream",
     "text": [
      "Lambda solution status: 1\n",
      "V solution status: 1\n"
     ]
    },
    {
     "data": {
      "text/markdown": [
       "$ V(x)=(0.000000000 - 0.000000000x_{0} - 0.000000000x_{1} + 0.001267187x_{0} x_{1} + 0.587317195x_{0}^{2} + 0.029842796x_{1}^{2})$"
      ],
      "text/plain": [
       "<IPython.core.display.Markdown object>"
      ]
     },
     "metadata": {},
     "output_type": "display_data"
    },
    {
     "name": "stdout",
     "output_type": "stream",
     "text": [
      "Lambda solution status: 1\n",
      "V solution status: 1\n"
     ]
    },
    {
     "data": {
      "text/markdown": [
       "$ V(x)=(0.000000000 - 0.000000000x_{0} + 0.000000000x_{1} + 0.001335408x_{0} x_{1} + 0.563360833x_{0}^{2} + 0.028631428x_{1}^{2})$"
      ],
      "text/plain": [
       "<IPython.core.display.Markdown object>"
      ]
     },
     "metadata": {},
     "output_type": "display_data"
    },
    {
     "name": "stdout",
     "output_type": "stream",
     "text": [
      "Lambda solution status: 1\n",
      "V solution status: 1\n"
     ]
    },
    {
     "data": {
      "text/markdown": [
       "$ V(x)=(0.000000000 + 0.000000000x_{0} + 0.000000000x_{1} + 0.001385372x_{0} x_{1} + 0.539461308x_{0}^{2} + 0.027419767x_{1}^{2})$"
      ],
      "text/plain": [
       "<IPython.core.display.Markdown object>"
      ]
     },
     "metadata": {},
     "output_type": "display_data"
    },
    {
     "name": "stdout",
     "output_type": "stream",
     "text": [
      "Lambda solution status: 1\n",
      "V solution status: 1\n"
     ]
    },
    {
     "data": {
      "text/markdown": [
       "$ V(x)=(0.000000000 - 0.000000000x_{0} + 0.000000000x_{1} + 0.001393316x_{0} x_{1} + 0.516042893x_{0}^{2} + 0.026228080x_{1}^{2})$"
      ],
      "text/plain": [
       "<IPython.core.display.Markdown object>"
      ]
     },
     "metadata": {},
     "output_type": "display_data"
    },
    {
     "name": "stdout",
     "output_type": "stream",
     "text": [
      "Lambda solution status: 1\n",
      "V solution status: 1\n"
     ]
    },
    {
     "data": {
      "text/markdown": [
       "$ V(x)=(0.000000000 - 0.000000000x_{0} - 0.000000000x_{1} + 0.001320970x_{0} x_{1} + 0.493075644x_{0}^{2} + 0.025052369x_{1}^{2})$"
      ],
      "text/plain": [
       "<IPython.core.display.Markdown object>"
      ]
     },
     "metadata": {},
     "output_type": "display_data"
    },
    {
     "name": "stdout",
     "output_type": "stream",
     "text": [
      "Lambda solution status: 1\n",
      "V solution status: 1\n"
     ]
    },
    {
     "data": {
      "text/markdown": [
       "$ V(x)=(0.000000000 + 0.000000000x_{0} - 0.000000000x_{1} + 0.001202762x_{0} x_{1} + 0.470391808x_{0}^{2} + 0.023888833x_{1}^{2})$"
      ],
      "text/plain": [
       "<IPython.core.display.Markdown object>"
      ]
     },
     "metadata": {},
     "output_type": "display_data"
    },
    {
     "name": "stdout",
     "output_type": "stream",
     "text": [
      "Lambda solution status: 1\n",
      "V solution status: 1\n"
     ]
    },
    {
     "data": {
      "text/markdown": [
       "$ V(x)=(0.000000000 + 0.000000000x_{0} + 0.000000000x_{1} + 0.001103438x_{0} x_{1} + 0.447954493x_{0}^{2} + 0.022741966x_{1}^{2})$"
      ],
      "text/plain": [
       "<IPython.core.display.Markdown object>"
      ]
     },
     "metadata": {},
     "output_type": "display_data"
    },
    {
     "name": "stdout",
     "output_type": "stream",
     "text": [
      "Lambda solution status: 1\n",
      "V solution status: 1\n"
     ]
    },
    {
     "data": {
      "text/markdown": [
       "$ V(x)=(0.000000000 + 0.000000000x_{0} - 0.000000000x_{1} + 0.001060061x_{0} x_{1} + 0.425984745x_{0}^{2} + 0.021625175x_{1}^{2})$"
      ],
      "text/plain": [
       "<IPython.core.display.Markdown object>"
      ]
     },
     "metadata": {},
     "output_type": "display_data"
    },
    {
     "name": "stdout",
     "output_type": "stream",
     "text": [
      "Lambda solution status: 1\n",
      "V solution status: 1\n"
     ]
    },
    {
     "data": {
      "text/markdown": [
       "$ V(x)=(0.000000000 + 0.000000000x_{0} - 0.000000000x_{1} + 0.001012664x_{0} x_{1} + 0.403864197x_{0}^{2} + 0.020500873x_{1}^{2})$"
      ],
      "text/plain": [
       "<IPython.core.display.Markdown object>"
      ]
     },
     "metadata": {},
     "output_type": "display_data"
    },
    {
     "name": "stdout",
     "output_type": "stream",
     "text": [
      "Lambda solution status: 1\n",
      "V solution status: 1\n"
     ]
    },
    {
     "data": {
      "text/markdown": [
       "$ V(x)=(0.000000000 - 0.000000000x_{0} + 0.000000000x_{1} + 0.000946973x_{0} x_{1} + 0.382762940x_{0}^{2} + 0.019427408x_{1}^{2})$"
      ],
      "text/plain": [
       "<IPython.core.display.Markdown object>"
      ]
     },
     "metadata": {},
     "output_type": "display_data"
    },
    {
     "name": "stdout",
     "output_type": "stream",
     "text": [
      "Lambda solution status: 1\n",
      "V solution status: 1\n"
     ]
    },
    {
     "data": {
      "text/markdown": [
       "$ V(x)=(0.000000000 + 0.000000000x_{0} - 0.000000000x_{1} + 0.000874901x_{0} x_{1} + 0.363024023x_{0}^{2} + 0.018423595x_{1}^{2})$"
      ],
      "text/plain": [
       "<IPython.core.display.Markdown object>"
      ]
     },
     "metadata": {},
     "output_type": "display_data"
    },
    {
     "name": "stdout",
     "output_type": "stream",
     "text": [
      "Lambda solution status: 1\n",
      "V solution status: 1\n"
     ]
    },
    {
     "data": {
      "text/markdown": [
       "$ V(x)=(0.000000000 + 0.000000000x_{0} + 0.000000000x_{1} + 0.000794229x_{0} x_{1} + 0.345268861x_{0}^{2} + 0.017520991x_{1}^{2})$"
      ],
      "text/plain": [
       "<IPython.core.display.Markdown object>"
      ]
     },
     "metadata": {},
     "output_type": "display_data"
    },
    {
     "name": "stdout",
     "output_type": "stream",
     "text": [
      "Lambda solution status: 1\n",
      "V solution status: 1\n"
     ]
    },
    {
     "data": {
      "text/markdown": [
       "$ V(x)=(0.000000000 + 0.000000000x_{0} - 0.000000000x_{1} + 0.000721482x_{0} x_{1} + 0.329191490x_{0}^{2} + 0.016704651x_{1}^{2})$"
      ],
      "text/plain": [
       "<IPython.core.display.Markdown object>"
      ]
     },
     "metadata": {},
     "output_type": "display_data"
    },
    {
     "name": "stdout",
     "output_type": "stream",
     "text": [
      "Lambda solution status: 1\n",
      "V solution status: 1\n"
     ]
    },
    {
     "data": {
      "text/markdown": [
       "$ V(x)=(0.000000000 + 0.000000000x_{0} + 0.000000000x_{1} + 0.000670878x_{0} x_{1} + 0.313798483x_{0}^{2} + 0.015924662x_{1}^{2})$"
      ],
      "text/plain": [
       "<IPython.core.display.Markdown object>"
      ]
     },
     "metadata": {},
     "output_type": "display_data"
    },
    {
     "name": "stdout",
     "output_type": "stream",
     "text": [
      "Lambda solution status: 1\n",
      "V solution status: 1\n"
     ]
    },
    {
     "data": {
      "text/markdown": [
       "$ V(x)=(0.000000000 - 0.000000000x_{0} + 0.000000000x_{1} + 0.000594477x_{0} x_{1} + 0.299311728x_{0}^{2} + 0.015188758x_{1}^{2})$"
      ],
      "text/plain": [
       "<IPython.core.display.Markdown object>"
      ]
     },
     "metadata": {},
     "output_type": "display_data"
    },
    {
     "name": "stdout",
     "output_type": "stream",
     "text": [
      "Lambda solution status: 1\n",
      "V solution status: 1\n"
     ]
    },
    {
     "data": {
      "text/markdown": [
       "$ V(x)=(0.000000000 - 0.000000000x_{0} + 0.000000000x_{1} + 0.000519307x_{0} x_{1} + 0.285572663x_{0}^{2} + 0.014490827x_{1}^{2})$"
      ],
      "text/plain": [
       "<IPython.core.display.Markdown object>"
      ]
     },
     "metadata": {},
     "output_type": "display_data"
    },
    {
     "name": "stdout",
     "output_type": "stream",
     "text": [
      "Lambda solution status: 1\n",
      "V solution status: 1\n"
     ]
    },
    {
     "data": {
      "text/markdown": [
       "$ V(x)=(0.000000000 - 0.000000000x_{0} + 0.000000000x_{1} + 0.000455621x_{0} x_{1} + 0.272608583x_{0}^{2} + 0.013832805x_{1}^{2})$"
      ],
      "text/plain": [
       "<IPython.core.display.Markdown object>"
      ]
     },
     "metadata": {},
     "output_type": "display_data"
    },
    {
     "name": "stdout",
     "output_type": "stream",
     "text": [
      "Lambda solution status: 1\n",
      "V solution status: 1\n"
     ]
    },
    {
     "data": {
      "text/markdown": [
       "$ V(x)=(0.000000000 + 0.000000000x_{0} + 0.000000000x_{1} + 0.000405973x_{0} x_{1} + 0.260382335x_{0}^{2} + 0.013212866x_{1}^{2})$"
      ],
      "text/plain": [
       "<IPython.core.display.Markdown object>"
      ]
     },
     "metadata": {},
     "output_type": "display_data"
    },
    {
     "name": "stdout",
     "output_type": "stream",
     "text": [
      "Lambda solution status: 1\n",
      "V solution status: 1\n"
     ]
    },
    {
     "data": {
      "text/markdown": [
       "$ V(x)=(0.000000000 - 0.000000000x_{0} - 0.000000000x_{1} + 0.000364537x_{0} x_{1} + 0.248704135x_{0}^{2} + 0.012621018x_{1}^{2})$"
      ],
      "text/plain": [
       "<IPython.core.display.Markdown object>"
      ]
     },
     "metadata": {},
     "output_type": "display_data"
    },
    {
     "name": "stdout",
     "output_type": "stream",
     "text": [
      "Lambda solution status: 1\n",
      "V solution status: 1\n"
     ]
    },
    {
     "data": {
      "text/markdown": [
       "$ V(x)=(0.000000000 + 0.000000000x_{0} + 0.000000000x_{1} + 0.000330596x_{0} x_{1} + 0.237499855x_{0}^{2} + 0.012053380x_{1}^{2})$"
      ],
      "text/plain": [
       "<IPython.core.display.Markdown object>"
      ]
     },
     "metadata": {},
     "output_type": "display_data"
    },
    {
     "name": "stdout",
     "output_type": "stream",
     "text": [
      "Lambda solution status: 1\n",
      "V solution status: 1\n"
     ]
    },
    {
     "data": {
      "text/markdown": [
       "$ V(x)=(0.000000000 + 0.000000000x_{0} - 0.000000000x_{1} + 0.000302745x_{0} x_{1} + 0.226734020x_{0}^{2} + 0.011508016x_{1}^{2})$"
      ],
      "text/plain": [
       "<IPython.core.display.Markdown object>"
      ]
     },
     "metadata": {},
     "output_type": "display_data"
    },
    {
     "name": "stdout",
     "output_type": "stream",
     "text": [
      "Lambda solution status: 1\n",
      "V solution status: 1\n"
     ]
    },
    {
     "data": {
      "text/markdown": [
       "$ V(x)=(0.000000000 - 0.000000000x_{0} - 0.000000000x_{1} + 0.000279436x_{0} x_{1} + 0.216428918x_{0}^{2} + 0.010985898x_{1}^{2})$"
      ],
      "text/plain": [
       "<IPython.core.display.Markdown object>"
      ]
     },
     "metadata": {},
     "output_type": "display_data"
    },
    {
     "name": "stdout",
     "output_type": "stream",
     "text": [
      "Lambda solution status: 1\n",
      "V solution status: 1\n"
     ]
    },
    {
     "data": {
      "text/markdown": [
       "$ V(x)=(0.000000000 - 0.000000000x_{0} - 0.000000000x_{1} + 0.000251205x_{0} x_{1} + 0.206278470x_{0}^{2} + 0.010471338x_{1}^{2})$"
      ],
      "text/plain": [
       "<IPython.core.display.Markdown object>"
      ]
     },
     "metadata": {},
     "output_type": "display_data"
    },
    {
     "name": "stdout",
     "output_type": "stream",
     "text": [
      "Lambda solution status: 1\n",
      "V solution status: 1\n"
     ]
    },
    {
     "data": {
      "text/markdown": [
       "$ V(x)=(0.000000000 - 0.000000000x_{0} + 0.000000000x_{1} + 0.000226666x_{0} x_{1} + 0.196535310x_{0}^{2} + 0.009977489x_{1}^{2})$"
      ],
      "text/plain": [
       "<IPython.core.display.Markdown object>"
      ]
     },
     "metadata": {},
     "output_type": "display_data"
    },
    {
     "name": "stdout",
     "output_type": "stream",
     "text": [
      "Lambda solution status: 1\n",
      "V solution status: 1\n"
     ]
    },
    {
     "data": {
      "text/markdown": [
       "$ V(x)=(0.000000000 + 0.000000000x_{0} + 0.000000000x_{1} + 0.000205930x_{0} x_{1} + 0.187323639x_{0}^{2} + 0.009510540x_{1}^{2})$"
      ],
      "text/plain": [
       "<IPython.core.display.Markdown object>"
      ]
     },
     "metadata": {},
     "output_type": "display_data"
    },
    {
     "name": "stdout",
     "output_type": "stream",
     "text": [
      "Lambda solution status: 1\n",
      "V solution status: 1\n"
     ]
    },
    {
     "data": {
      "text/markdown": [
       "$ V(x)=(0.000000000 - 0.000000000x_{0} - 0.000000000x_{1} + 0.000189697x_{0} x_{1} + 0.178455748x_{0}^{2} + 0.009061085x_{1}^{2})$"
      ],
      "text/plain": [
       "<IPython.core.display.Markdown object>"
      ]
     },
     "metadata": {},
     "output_type": "display_data"
    },
    {
     "name": "stdout",
     "output_type": "stream",
     "text": [
      "Lambda solution status: 1\n",
      "V solution status: 1\n"
     ]
    },
    {
     "data": {
      "text/markdown": [
       "$ V(x)=(0.000000000 + 0.000000000x_{0} + 0.000000000x_{1} + 0.000173835x_{0} x_{1} + 0.169815685x_{0}^{2} + 0.008623124x_{1}^{2})$"
      ],
      "text/plain": [
       "<IPython.core.display.Markdown object>"
      ]
     },
     "metadata": {},
     "output_type": "display_data"
    },
    {
     "name": "stdout",
     "output_type": "stream",
     "text": [
      "Lambda solution status: 1\n",
      "V solution status: 1\n"
     ]
    },
    {
     "data": {
      "text/markdown": [
       "$ V(x)=(0.000000000 - 0.000000000x_{0} + 0.000000000x_{1} + 0.000159028x_{0} x_{1} + 0.161463444x_{0}^{2} + 0.008199689x_{1}^{2})$"
      ],
      "text/plain": [
       "<IPython.core.display.Markdown object>"
      ]
     },
     "metadata": {},
     "output_type": "display_data"
    },
    {
     "name": "stdout",
     "output_type": "stream",
     "text": [
      "Lambda solution status: 1\n",
      "V solution status: 1\n"
     ]
    },
    {
     "data": {
      "text/markdown": [
       "$ V(x)=(0.000000000 + 0.000000000x_{0} + 0.000000000x_{1} + 0.000145554x_{0} x_{1} + 0.153409301x_{0}^{2} + 0.007791304x_{1}^{2})$"
      ],
      "text/plain": [
       "<IPython.core.display.Markdown object>"
      ]
     },
     "metadata": {},
     "output_type": "display_data"
    },
    {
     "name": "stdout",
     "output_type": "stream",
     "text": [
      "Lambda solution status: 1\n",
      "V solution status: 1\n"
     ]
    },
    {
     "data": {
      "text/markdown": [
       "$ V(x)=(0.000000000 + 0.000000000x_{0} + 0.000000000x_{1} + 0.000133603x_{0} x_{1} + 0.145622949x_{0}^{2} + 0.007396443x_{1}^{2})$"
      ],
      "text/plain": [
       "<IPython.core.display.Markdown object>"
      ]
     },
     "metadata": {},
     "output_type": "display_data"
    },
    {
     "name": "stdout",
     "output_type": "stream",
     "text": [
      "Lambda solution status: 1\n",
      "V solution status: 1\n"
     ]
    },
    {
     "data": {
      "text/markdown": [
       "$ V(x)=(0.000000000 + 0.000000000x_{0} + 0.000000000x_{1} + 0.000127482x_{0} x_{1} + 0.138079331x_{0}^{2} + 0.007013925x_{1}^{2})$"
      ],
      "text/plain": [
       "<IPython.core.display.Markdown object>"
      ]
     },
     "metadata": {},
     "output_type": "display_data"
    },
    {
     "name": "stdout",
     "output_type": "stream",
     "text": [
      "Lambda solution status: 1\n",
      "V solution status: 1\n"
     ]
    },
    {
     "data": {
      "text/markdown": [
       "$ V(x)=(0.000000000 - 0.000000000x_{0} + 0.000000000x_{1} + 0.000118285x_{0} x_{1} + 0.130849674x_{0}^{2} + 0.006647126x_{1}^{2})$"
      ],
      "text/plain": [
       "<IPython.core.display.Markdown object>"
      ]
     },
     "metadata": {},
     "output_type": "display_data"
    },
    {
     "name": "stdout",
     "output_type": "stream",
     "text": [
      "Lambda solution status: 1\n",
      "V solution status: 1\n"
     ]
    },
    {
     "data": {
      "text/markdown": [
       "$ V(x)=(0.000000000 + 0.000000000x_{0} + 0.000000000x_{1} + 0.000108618x_{0} x_{1} + 0.123890726x_{0}^{2} + 0.006293976x_{1}^{2})$"
      ],
      "text/plain": [
       "<IPython.core.display.Markdown object>"
      ]
     },
     "metadata": {},
     "output_type": "display_data"
    },
    {
     "name": "stdout",
     "output_type": "stream",
     "text": [
      "Lambda solution status: 1\n",
      "V solution status: 1\n"
     ]
    },
    {
     "data": {
      "text/markdown": [
       "$ V(x)=(0.000000000 - 0.000000000x_{0} + 0.000000000x_{1} + 0.000099318x_{0} x_{1} + 0.117193038x_{0}^{2} + 0.005954038x_{1}^{2})$"
      ],
      "text/plain": [
       "<IPython.core.display.Markdown object>"
      ]
     },
     "metadata": {},
     "output_type": "display_data"
    },
    {
     "name": "stdout",
     "output_type": "stream",
     "text": [
      "Lambda solution status: 1\n",
      "V solution status: 1\n"
     ]
    },
    {
     "data": {
      "text/markdown": [
       "$ V(x)=(0.000000000 + 0.000000000x_{0} + 0.000000000x_{1} + 0.000090762x_{0} x_{1} + 0.110744208x_{0}^{2} + 0.005626701x_{1}^{2})$"
      ],
      "text/plain": [
       "<IPython.core.display.Markdown object>"
      ]
     },
     "metadata": {},
     "output_type": "display_data"
    },
    {
     "name": "stdout",
     "output_type": "stream",
     "text": [
      "Lambda solution status: 1\n",
      "V solution status: 1\n"
     ]
    },
    {
     "data": {
      "text/markdown": [
       "$ V(x)=(0.000000000 + 0.000000000x_{0} + 0.000000000x_{1} + 0.000083075x_{0} x_{1} + 0.104526785x_{0}^{2} + 0.005311087x_{1}^{2})$"
      ],
      "text/plain": [
       "<IPython.core.display.Markdown object>"
      ]
     },
     "metadata": {},
     "output_type": "display_data"
    },
    {
     "name": "stdout",
     "output_type": "stream",
     "text": [
      "Lambda solution status: 1\n",
      "V solution status: 1\n"
     ]
    },
    {
     "data": {
      "text/markdown": [
       "$ V(x)=(0.000000000 + 0.000000000x_{0} - 0.000000000x_{1} + 0.000076624x_{0} x_{1} + 0.098498474x_{0}^{2} + 0.005005063x_{1}^{2})$"
      ],
      "text/plain": [
       "<IPython.core.display.Markdown object>"
      ]
     },
     "metadata": {},
     "output_type": "display_data"
    },
    {
     "name": "stdout",
     "output_type": "stream",
     "text": [
      "Lambda solution status: 1\n",
      "V solution status: 1\n"
     ]
    },
    {
     "data": {
      "text/markdown": [
       "$ V(x)=(0.000000000 - 0.000000000x_{0} - 0.000000000x_{1} + 0.000071178x_{0} x_{1} + 0.092634099x_{0}^{2} + 0.004707345x_{1}^{2})$"
      ],
      "text/plain": [
       "<IPython.core.display.Markdown object>"
      ]
     },
     "metadata": {},
     "output_type": "display_data"
    },
    {
     "name": "stdout",
     "output_type": "stream",
     "text": [
      "Lambda solution status: 1\n",
      "V solution status: 1\n"
     ]
    },
    {
     "data": {
      "text/markdown": [
       "$ V(x)=(0.000000000 - 0.000000000x_{0} - 0.000000000x_{1} + 0.000066653x_{0} x_{1} + 0.086903837x_{0}^{2} + 0.004416418x_{1}^{2})$"
      ],
      "text/plain": [
       "<IPython.core.display.Markdown object>"
      ]
     },
     "metadata": {},
     "output_type": "display_data"
    },
    {
     "name": "stdout",
     "output_type": "stream",
     "text": [
      "Lambda solution status: 1\n",
      "V solution status: 1\n"
     ]
    },
    {
     "data": {
      "text/markdown": [
       "$ V(x)=(0.000000000 - 0.000000000x_{0} - 0.000000000x_{1} + 0.000063016x_{0} x_{1} + 0.081270267x_{0}^{2} + 0.004130382x_{1}^{2})$"
      ],
      "text/plain": [
       "<IPython.core.display.Markdown object>"
      ]
     },
     "metadata": {},
     "output_type": "display_data"
    },
    {
     "name": "stdout",
     "output_type": "stream",
     "text": [
      "Lambda solution status: 1\n",
      "V solution status: 1\n"
     ]
    },
    {
     "data": {
      "text/markdown": [
       "$ V(x)=(0.000000000 - 0.000000000x_{0} - 0.000000000x_{1} + 0.000058908x_{0} x_{1} + 0.075770503x_{0}^{2} + 0.003851110x_{1}^{2})$"
      ],
      "text/plain": [
       "<IPython.core.display.Markdown object>"
      ]
     },
     "metadata": {},
     "output_type": "display_data"
    },
    {
     "name": "stdout",
     "output_type": "stream",
     "text": [
      "Lambda solution status: 1\n",
      "V solution status: 1\n"
     ]
    },
    {
     "data": {
      "text/markdown": [
       "$ V(x)=(0.000000000 - 0.000000000x_{0} + 0.000000000x_{1} + 0.000057274x_{0} x_{1} + 0.070240877x_{0}^{2} + 0.003567023x_{1}^{2})$"
      ],
      "text/plain": [
       "<IPython.core.display.Markdown object>"
      ]
     },
     "metadata": {},
     "output_type": "display_data"
    },
    {
     "name": "stdout",
     "output_type": "stream",
     "text": [
      "Lambda solution status: 1\n",
      "V solution status: 1\n"
     ]
    },
    {
     "data": {
      "text/markdown": [
       "$ V(x)=(0.000000000 - 0.000000000x_{0} - 0.000000000x_{1} + 0.000058076x_{0} x_{1} + 0.064361959x_{0}^{2} + 0.003272662x_{1}^{2})$"
      ],
      "text/plain": [
       "<IPython.core.display.Markdown object>"
      ]
     },
     "metadata": {},
     "output_type": "display_data"
    },
    {
     "name": "stdout",
     "output_type": "stream",
     "text": [
      "Lambda solution status: 1\n",
      "V solution status: 1\n"
     ]
    },
    {
     "data": {
      "text/markdown": [
       "$ V(x)=(0.000000000 + 0.000000000x_{0} + 0.000000000x_{1} + 0.000060825x_{0} x_{1} + 0.058294614x_{0}^{2} + 0.002964426x_{1}^{2})$"
      ],
      "text/plain": [
       "<IPython.core.display.Markdown object>"
      ]
     },
     "metadata": {},
     "output_type": "display_data"
    },
    {
     "name": "stdout",
     "output_type": "stream",
     "text": [
      "Lambda solution status: 1\n",
      "V solution status: 1\n"
     ]
    },
    {
     "data": {
      "text/markdown": [
       "$ V(x)=(0.000000000 - 0.000000000x_{0} + 0.000000000x_{1} + 0.000060507x_{0} x_{1} + 0.052435859x_{0}^{2} + 0.002666644x_{1}^{2})$"
      ],
      "text/plain": [
       "<IPython.core.display.Markdown object>"
      ]
     },
     "metadata": {},
     "output_type": "display_data"
    },
    {
     "name": "stdout",
     "output_type": "stream",
     "text": [
      "Lambda solution status: 1\n",
      "V solution status: 1\n"
     ]
    },
    {
     "data": {
      "text/markdown": [
       "$ V(x)=(0.000000000 + 0.000000000x_{0} - 0.000000000x_{1} + 0.000056530x_{0} x_{1} + 0.047054635x_{0}^{2} + 0.002393008x_{1}^{2})$"
      ],
      "text/plain": [
       "<IPython.core.display.Markdown object>"
      ]
     },
     "metadata": {},
     "output_type": "display_data"
    },
    {
     "name": "stdout",
     "output_type": "stream",
     "text": [
      "Lambda solution status: 1\n",
      "V solution status: 1\n"
     ]
    },
    {
     "data": {
      "text/markdown": [
       "$ V(x)=(0.000000000 - 0.000000000x_{0} + 0.000000000x_{1} + 0.000049908x_{0} x_{1} + 0.042303483x_{0}^{2} + 0.002151331x_{1}^{2})$"
      ],
      "text/plain": [
       "<IPython.core.display.Markdown object>"
      ]
     },
     "metadata": {},
     "output_type": "display_data"
    },
    {
     "name": "stdout",
     "output_type": "stream",
     "text": [
      "Lambda solution status: 1\n",
      "V solution status: 1\n"
     ]
    },
    {
     "data": {
      "text/markdown": [
       "$ V(x)=(0.000000000 + 0.000000000x_{0} + 0.000000000x_{1} + 0.000042209x_{0} x_{1} + 0.038204893x_{0}^{2} + 0.001942813x_{1}^{2})$"
      ],
      "text/plain": [
       "<IPython.core.display.Markdown object>"
      ]
     },
     "metadata": {},
     "output_type": "display_data"
    },
    {
     "name": "stdout",
     "output_type": "stream",
     "text": [
      "Lambda solution status: 1\n",
      "V solution status: 1\n"
     ]
    },
    {
     "data": {
      "text/markdown": [
       "$ V(x)=(0.000000000 - 0.000000000x_{0} + 0.000000000x_{1} + 0.000034734x_{0} x_{1} + 0.034491964x_{0}^{2} + 0.001753955x_{1}^{2})$"
      ],
      "text/plain": [
       "<IPython.core.display.Markdown object>"
      ]
     },
     "metadata": {},
     "output_type": "display_data"
    },
    {
     "name": "stdout",
     "output_type": "stream",
     "text": [
      "Lambda solution status: 1\n",
      "V solution status: 1\n"
     ]
    },
    {
     "data": {
      "text/markdown": [
       "$ V(x)=(0.000000000 + 0.000000000x_{0} + 0.000000000x_{1} + 0.000028063x_{0} x_{1} + 0.031217333x_{0}^{2} + 0.001587402x_{1}^{2})$"
      ],
      "text/plain": [
       "<IPython.core.display.Markdown object>"
      ]
     },
     "metadata": {},
     "output_type": "display_data"
    },
    {
     "name": "stdout",
     "output_type": "stream",
     "text": [
      "Lambda solution status: 1\n",
      "V solution status: 1\n"
     ]
    },
    {
     "data": {
      "text/markdown": [
       "$ V(x)=(0.000000000 - 0.000000000x_{0} - 0.000000000x_{1} + 0.000022399x_{0} x_{1} + 0.028321596x_{0}^{2} + 0.001440134x_{1}^{2})$"
      ],
      "text/plain": [
       "<IPython.core.display.Markdown object>"
      ]
     },
     "metadata": {},
     "output_type": "display_data"
    },
    {
     "name": "stdout",
     "output_type": "stream",
     "text": [
      "Lambda solution status: 1\n",
      "V solution status: 1\n"
     ]
    },
    {
     "data": {
      "text/markdown": [
       "$ V(x)=(0.000000000 - 0.000000000x_{0} + 0.000000000x_{1} + 0.000017506x_{0} x_{1} + 0.025803038x_{0}^{2} + 0.001312052x_{1}^{2})$"
      ],
      "text/plain": [
       "<IPython.core.display.Markdown object>"
      ]
     },
     "metadata": {},
     "output_type": "display_data"
    },
    {
     "name": "stdout",
     "output_type": "stream",
     "text": [
      "Lambda solution status: 1\n",
      "V solution status: 1\n"
     ]
    },
    {
     "data": {
      "text/markdown": [
       "$ V(x)=(0.000000000 + 0.000000000x_{0} + 0.000000000x_{1} + 0.000013287x_{0} x_{1} + 0.023648981x_{0}^{2} + 0.001202509x_{1}^{2})$"
      ],
      "text/plain": [
       "<IPython.core.display.Markdown object>"
      ]
     },
     "metadata": {},
     "output_type": "display_data"
    },
    {
     "name": "stdout",
     "output_type": "stream",
     "text": [
      "Lambda solution status: 1\n",
      "V solution status: 1\n"
     ]
    },
    {
     "data": {
      "text/markdown": [
       "$ V(x)=(0.000000000 - 0.000000000x_{0} - 0.000000000x_{1} + 0.000010087x_{0} x_{1} + 0.021748206x_{0}^{2} + 0.001105852x_{1}^{2})$"
      ],
      "text/plain": [
       "<IPython.core.display.Markdown object>"
      ]
     },
     "metadata": {},
     "output_type": "display_data"
    },
    {
     "name": "stdout",
     "output_type": "stream",
     "text": [
      "Lambda solution status: 1\n",
      "V solution status: 1\n"
     ]
    },
    {
     "data": {
      "text/markdown": [
       "$ V(x)=(0.000000000 + 0.000000000x_{0} - 0.000000000x_{1} + 0.000008029x_{0} x_{1} + 0.019967100x_{0}^{2} + 0.001015297x_{1}^{2})$"
      ],
      "text/plain": [
       "<IPython.core.display.Markdown object>"
      ]
     },
     "metadata": {},
     "output_type": "display_data"
    },
    {
     "name": "stdout",
     "output_type": "stream",
     "text": [
      "Lambda solution status: 1\n",
      "V solution status: 1\n"
     ]
    },
    {
     "data": {
      "text/markdown": [
       "$ V(x)=(0.000000000 + 0.000000000x_{0} + 0.000000000x_{1} + 0.000006939x_{0} x_{1} + 0.018200931x_{0}^{2} + 0.000925516x_{1}^{2})$"
      ],
      "text/plain": [
       "<IPython.core.display.Markdown object>"
      ]
     },
     "metadata": {},
     "output_type": "display_data"
    },
    {
     "name": "stdout",
     "output_type": "stream",
     "text": [
      "Lambda solution status: 1\n",
      "V solution status: 1\n"
     ]
    },
    {
     "data": {
      "text/markdown": [
       "$ V(x)=(0.000000000 - 0.000000000x_{0} + 0.000000000x_{1} + 0.000006388x_{0} x_{1} + 0.016432667x_{0}^{2} + 0.000835633x_{1}^{2})$"
      ],
      "text/plain": [
       "<IPython.core.display.Markdown object>"
      ]
     },
     "metadata": {},
     "output_type": "display_data"
    },
    {
     "name": "stdout",
     "output_type": "stream",
     "text": [
      "Lambda solution status: 1\n",
      "V solution status: 1\n"
     ]
    },
    {
     "data": {
      "text/markdown": [
       "$ V(x)=(0.000000000 + 0.000000000x_{0} + 0.000000000x_{1} + 0.000006011x_{0} x_{1} + 0.014696382x_{0}^{2} + 0.000747373x_{1}^{2})$"
      ],
      "text/plain": [
       "<IPython.core.display.Markdown object>"
      ]
     },
     "metadata": {},
     "output_type": "display_data"
    },
    {
     "name": "stdout",
     "output_type": "stream",
     "text": [
      "Lambda solution status: 1\n",
      "V solution status: 1\n"
     ]
    },
    {
     "data": {
      "text/markdown": [
       "$ V(x)=(0.000000000 + 0.000000000x_{0} + 0.000000000x_{1} + 0.000005561x_{0} x_{1} + 0.013044562x_{0}^{2} + 0.000663399x_{1}^{2})$"
      ],
      "text/plain": [
       "<IPython.core.display.Markdown object>"
      ]
     },
     "metadata": {},
     "output_type": "display_data"
    },
    {
     "name": "stdout",
     "output_type": "stream",
     "text": [
      "Lambda solution status: 1\n",
      "V solution status: 1\n"
     ]
    },
    {
     "data": {
      "text/markdown": [
       "$ V(x)=(0.000000000 - 0.000000000x_{0} - 0.000000000x_{1} + 0.000005005x_{0} x_{1} + 0.011505552x_{0}^{2} + 0.000585152x_{1}^{2})$"
      ],
      "text/plain": [
       "<IPython.core.display.Markdown object>"
      ]
     },
     "metadata": {},
     "output_type": "display_data"
    },
    {
     "name": "stdout",
     "output_type": "stream",
     "text": [
      "Lambda solution status: 1\n",
      "V solution status: 1\n"
     ]
    },
    {
     "data": {
      "text/markdown": [
       "$ V(x)=(0.000000000 + 0.000000000x_{0} + 0.000000000x_{1} + 0.000004392x_{0} x_{1} + 0.010086446x_{0}^{2} + 0.000512994x_{1}^{2})$"
      ],
      "text/plain": [
       "<IPython.core.display.Markdown object>"
      ]
     },
     "metadata": {},
     "output_type": "display_data"
    },
    {
     "name": "stdout",
     "output_type": "stream",
     "text": [
      "Lambda solution status: 1\n",
      "V solution status: 1\n"
     ]
    },
    {
     "data": {
      "text/markdown": [
       "$ V(x)=(0.000000000 + 0.000000000x_{0} + 0.000000000x_{1} + 0.000003575x_{0} x_{1} + 0.008880619x_{0}^{2} + 0.000451673x_{1}^{2})$"
      ],
      "text/plain": [
       "<IPython.core.display.Markdown object>"
      ]
     },
     "metadata": {},
     "output_type": "display_data"
    },
    {
     "name": "stdout",
     "output_type": "stream",
     "text": [
      "Lambda solution status: 1\n",
      "V solution status: 1\n"
     ]
    },
    {
     "data": {
      "text/markdown": [
       "$ V(x)=(0.000000000 - 0.000000000x_{0} - 0.000000000x_{1} + 0.000002830x_{0} x_{1} + 0.007819807x_{0}^{2} + 0.000397725x_{1}^{2})$"
      ],
      "text/plain": [
       "<IPython.core.display.Markdown object>"
      ]
     },
     "metadata": {},
     "output_type": "display_data"
    },
    {
     "name": "stdout",
     "output_type": "stream",
     "text": [
      "Lambda solution status: 1\n",
      "V solution status: 1\n"
     ]
    },
    {
     "data": {
      "text/markdown": [
       "$ V(x)=(0.000000000 - 0.000000000x_{0} - 0.000000000x_{1} + 0.000002221x_{0} x_{1} + 0.006875427x_{0}^{2} + 0.000349697x_{1}^{2})$"
      ],
      "text/plain": [
       "<IPython.core.display.Markdown object>"
      ]
     },
     "metadata": {},
     "output_type": "display_data"
    },
    {
     "name": "stdout",
     "output_type": "stream",
     "text": [
      "Lambda solution status: 1\n",
      "V solution status: 1\n"
     ]
    },
    {
     "data": {
      "text/markdown": [
       "$ V(x)=(0.000000000 - 0.000000000x_{0} - 0.000000000x_{1} + 0.000001744x_{0} x_{1} + 0.006031873x_{0}^{2} + 0.000306796x_{1}^{2})$"
      ],
      "text/plain": [
       "<IPython.core.display.Markdown object>"
      ]
     },
     "metadata": {},
     "output_type": "display_data"
    },
    {
     "name": "stdout",
     "output_type": "stream",
     "text": [
      "Lambda solution status: 1\n",
      "V solution status: 1\n"
     ]
    },
    {
     "data": {
      "text/markdown": [
       "$ V(x)=(0.000000000 - 0.000000000x_{0} - 0.000000000x_{1} + 0.000001360x_{0} x_{1} + 0.005291324x_{0}^{2} + 0.000269132x_{1}^{2})$"
      ],
      "text/plain": [
       "<IPython.core.display.Markdown object>"
      ]
     },
     "metadata": {},
     "output_type": "display_data"
    },
    {
     "name": "stdout",
     "output_type": "stream",
     "text": [
      "Lambda solution status: 1\n",
      "V solution status: 1\n"
     ]
    },
    {
     "data": {
      "text/markdown": [
       "$ V(x)=(0.000000000 + 0.000000000x_{0} + 0.000000000x_{1} + 0.000001050x_{0} x_{1} + 0.004646298x_{0}^{2} + 0.000236327x_{1}^{2})$"
      ],
      "text/plain": [
       "<IPython.core.display.Markdown object>"
      ]
     },
     "metadata": {},
     "output_type": "display_data"
    },
    {
     "name": "stdout",
     "output_type": "stream",
     "text": [
      "Lambda solution status: 1\n",
      "V solution status: 1\n"
     ]
    },
    {
     "data": {
      "text/markdown": [
       "$ V(x)=(0.000000000 - 0.000000000x_{0} + 0.000000000x_{1} + 0.000000834x_{0} x_{1} + 0.004055590x_{0}^{2} + 0.000206284x_{1}^{2})$"
      ],
      "text/plain": [
       "<IPython.core.display.Markdown object>"
      ]
     },
     "metadata": {},
     "output_type": "display_data"
    }
   ],
   "source": [
    "#doing the van der pol oscillator implicitly\n",
    "\n",
    "from pydrake.solvers.mathematicalprogram import MathematicalProgram, SolverOptions, Solve\n",
    "from pydrake.solvers.csdp import CsdpSolver\n",
    "from pydrake.solvers.mosek import MosekSolver\n",
    "\n",
    "negative_infinity = float('-inf')\n",
    "\n",
    "def find_implicit_lambdas(x, xd, V, Vdot, g):\n",
    "    prog = MathematicalProgram()\n",
    "    prog.AddIndeterminates(x)\n",
    "    prog.AddIndeterminates(xd)\n",
    "        \n",
    "    y = np.hstack([x, xd])\n",
    "    \n",
    "    l_deg = math.ceil(V.TotalDegree()/2) * 2\n",
    "    \n",
    "    lambda_ = prog.NewSosPolynomial(Variables(y), l_deg)[0]\n",
    "    \n",
    "    lambda_g = []\n",
    "    \n",
    "    for i in range(g.size): \n",
    "        gi_deg = max(l_deg + V.TotalDegree() - g[i].TotalDegree(), 0)\n",
    "        lambda_g.append(prog.NewFreePolynomial(Variables(y), gi_deg))\n",
    "        \n",
    "    lambda_g = np.array(lambda_g)    \n",
    "  \n",
    "    prog.AddSosConstraint(-Vdot + lambda_*(V - 1) + lambda_g.dot(g))\n",
    "        \n",
    "    solver = MosekSolver()\n",
    "    result = solver.Solve(prog)\n",
    "    \n",
    "    k = result.get_solver_details().solution_status\n",
    "                \n",
    "    print(\"Lambda solution status: \" + str(k))\n",
    "    \n",
    "    assert result.is_success()\n",
    "    \n",
    "    lambda_g_results = []\n",
    "    \n",
    "    for i in range(g.size):\n",
    "        lambda_g_results.append(result.GetSolution(lambda_g[i]).RemoveTermsWithSmallCoefficients(1e-5))\n",
    "    \n",
    "    return result.GetSolution(lambda_).RemoveTermsWithSmallCoefficients(1e-5), np.array(lambda_g_results)\n",
    "\n",
    "def find_implicit_V(x, xd, lambda_, lambda_g, g, V_degree):\n",
    "    prog = MathematicalProgram()\n",
    "    prog.AddIndeterminates(x)\n",
    "    prog.AddIndeterminates(xd)\n",
    "    \n",
    "    y = np.hstack([x, xd])\n",
    "        \n",
    "    V, Q = prog.NewSosPolynomial(Variables(x), V_degree)\n",
    "    Vdot = V.Jacobian(x).dot(xd)\n",
    "    \n",
    "    prog.AddSosConstraint(-Vdot + lambda_*(V - 1) + lambda_g.dot(g))\n",
    "    \n",
    "    prog.AddLinearCost(np.trace(Q))    \n",
    "    #prog.AddLinearConstraint(V.ToExpression().Substitute({x[0]: 0, x[1]:0, xd[0]: 0, xd[1]: 0}) == 0)\n",
    "    prog.AddLinearConstraint(V.ToExpression().Substitute({x[0]: 0, x[1]:0}) == 0)\n",
    "    \n",
    "    solver = MosekSolver()\n",
    "    result = solver.Solve(prog)\n",
    "    \n",
    "    k = result.get_solver_details().solution_status\n",
    "                \n",
    "    print(\"V solution status: \" + str(k))\n",
    "    \n",
    "    assert result.is_success()\n",
    "        \n",
    "    return result.GetSolution(V), result.GetSolution(Q)\n",
    "\n",
    "\n",
    "def problem_solver_implicit(S, V_degree):\n",
    "    prog = MathematicalProgram()\n",
    "    x = prog.NewIndeterminates(2, \"x\")\n",
    "    xd = prog.NewIndeterminates(2, \"xd\")\n",
    "        \n",
    "    g0 = xd[0] - x[1]\n",
    "    g1 = m*(length**2)*xd[1] + b*x[1] + m*grav*length*x[0]\n",
    "    \n",
    "    g = np.array([g0, g1])\n",
    "    \n",
    "    V = x.T@P@x\n",
    "    Vdot = V.Jacobian(x).dot(xd)\n",
    "    \n",
    "    V = Polynomial(V)\n",
    "    Vdot = Polynomial(Vdot)\n",
    "    \n",
    "    g_poly = []\n",
    "    for i in range(g.size):\n",
    "        g_poly.append(Polynomial(g[i]))\n",
    "        \n",
    "    g_poly = np.array(g_poly)\n",
    "    \n",
    "    display(Markdown(\"$ V(x)=\"+ToLatex(V.ToExpression(), 9)+\"$\"))\n",
    "    for i in range(200):\n",
    "        lambda_, lambda_g = find_implicit_lambdas(x, xd, V, Vdot, g_poly)\n",
    "        \n",
    "#         display(Markdown(\"$ \\lambda(x)=\"+ToLatex(lambda_.ToExpression())+\"$\"))\n",
    "#         display(Markdown(\"$ \\lambda_g(x)=\"+ToLatex(lambda_g[0].ToExpression())+\"$\"))\n",
    "#         display(Markdown(\"$ \\lambda_g(x)=\"+ToLatex(lambda_g[1].ToExpression())+\"$\"))\n",
    "#         print(alpha)\n",
    "        \n",
    "        V, Q = find_implicit_V(x, xd, lambda_, lambda_g, g_poly, V_degree)\n",
    "        \n",
    "        Vdot = V.Jacobian(x).dot(xd)\n",
    "     \n",
    "        display(Markdown(\"$ V(x)=\"+ToLatex(V.ToExpression(), 9)+\"$\"))\n",
    "        \n",
    "    return V, Q\n",
    "\n",
    "V_degree = 2\n",
    "V, Q = problem_solver_implicit(P, V_degree)"
   ]
  },
  {
   "cell_type": "code",
   "execution_count": 161,
   "metadata": {},
   "outputs": [
    {
     "data": {
      "image/png": "[encoded data removed]",
      "text/html": [
       "\n",
       "\n",
       "<style>\n",
       "\n",
       "</style>\n",
       "\n",
       "<div id=\"fig_el33631403687347851521337347051\"></div>\n",
       "<script>\n",
       "function mpld3_load_lib(url, callback){\n",
       "  var s = document.createElement('script');\n",
       "  s.src = url;\n",
       "  s.async = true;\n",
       "  s.onreadystatechange = s.onload = callback;\n",
       "  s.onerror = function(){console.warn(\"failed to load library \" + url);};\n",
       "  document.getElementsByTagName(\"head\")[0].appendChild(s);\n",
       "}\n",
       "\n",
       "if(typeof(mpld3) !== \"undefined\" && mpld3._mpld3IsLoaded){\n",
       "   // already loaded: just create the figure\n",
       "   !function(mpld3){\n",
       "       \n",
       "       mpld3.draw_figure(\"fig_el33631403687347851521337347051\", {\"width\": 432.0, \"height\": 288.0, \"axes\": [{\"bbox\": [0.26083333333333336, 0.125, 0.5033333333333333, 0.755], \"xlim\": [-10.0, 10.0], \"ylim\": [-10.0, 10.0], \"xdomain\": [-10.0, 10.0], \"ydomain\": [-10.0, 10.0], \"xscale\": \"linear\", \"yscale\": \"linear\", \"axes\": [{\"position\": \"bottom\", \"nticks\": 5, \"tickvalues\": null, \"tickformat_formatter\": \"\", \"tickformat\": null, \"scale\": \"linear\", \"fontsize\": 10.0, \"grid\": {\"gridOn\": false}, \"visible\": true}, {\"position\": \"left\", \"nticks\": 9, \"tickvalues\": null, \"tickformat_formatter\": \"\", \"tickformat\": null, \"scale\": \"linear\", \"fontsize\": 10.0, \"grid\": {\"gridOn\": false}, \"visible\": true}], \"axesbg\": \"#FFFFFF\", \"axesbgalpha\": null, \"zoomable\": true, \"id\": \"el3363140368734861872\", \"lines\": [{\"data\": \"data01\", \"xindex\": 0, \"yindex\": 1, \"coordinates\": \"data\", \"id\": \"el3363140369757035008\", \"color\": \"#FF0000\", \"linewidth\": 3.0, \"dasharray\": \"none\", \"alpha\": 1, \"zorder\": 2, \"drawstyle\": \"default\"}, {\"data\": \"data02\", \"xindex\": 0, \"yindex\": 1, \"coordinates\": \"axes\", \"id\": \"el3363140368734592496\", \"color\": \"#FF0000\", \"linewidth\": 3.0, \"dasharray\": \"none\", \"alpha\": 1, \"zorder\": 1000002.0, \"drawstyle\": \"default\"}], \"paths\": [{\"data\": \"data03\", \"xindex\": 0, \"yindex\": 1, \"coordinates\": \"axes\", \"pathcodes\": [\"M\", \"L\", \"S\", \"L\", \"S\", \"L\", \"S\", \"L\", \"S\", \"Z\"], \"id\": \"el3363140368734591488\", \"dasharray\": \"none\", \"alpha\": 0.8, \"facecolor\": \"rgba(255, 255, 255, 0.8)\", \"edgecolor\": \"rgba(204, 204, 204, 0.8)\", \"edgewidth\": 1.0, \"zorder\": 1000000.0}], \"markers\": [], \"texts\": [{\"text\": \"$x_1$\", \"position\": [0.49999999999999994, -0.09657836644591611], \"coordinates\": \"axes\", \"h_anchor\": \"middle\", \"v_baseline\": \"hanging\", \"rotation\": -0.0, \"fontsize\": 10.0, \"color\": \"#000000\", \"alpha\": 1, \"zorder\": 3, \"id\": \"el3363140368734862832\"}, {\"text\": \"$x_2$\", \"position\": [-0.19200699043414277, 0.49999999999999994], \"coordinates\": \"axes\", \"h_anchor\": \"middle\", \"v_baseline\": \"auto\", \"rotation\": -90.0, \"fontsize\": 10.0, \"color\": \"#000000\", \"alpha\": 1, \"zorder\": 3, \"id\": \"el3363140368734859472\"}, {\"text\": \"$\\\\{ \\\\mathbf{x} : V(\\\\mathbf{x}) = \\\\rho \\\\}$\", \"position\": [0.6504154163217438, 0.9126195732155997], \"coordinates\": \"axes\", \"h_anchor\": \"start\", \"v_baseline\": \"auto\", \"rotation\": -0.0, \"fontsize\": 10.0, \"color\": \"#000000\", \"alpha\": 1, \"zorder\": 1000003.0, \"id\": \"el3363140368734591968\"}], \"collections\": [{\"offsets\": \"data01\", \"xindex\": 0, \"yindex\": 0, \"paths\": [[[[2.257456048380773, -10.0], [2.2448979591836746, -9.938951534475024], [2.159155149533562, -9.591836734693878], [2.062552896558283, -9.183673469387756], [1.9701716623536032, -8.775510204081632], [1.8820086626400219, -8.36734693877551], [1.8367346938775508, -8.14724164748743], [1.7883408597056325, -7.959183673469388], [1.6885735272256182, -7.551020408163265], [1.5940846437086273, -7.142857142857142], [1.5048698568045555, -6.73469387755102], [1.4285714285714288, -6.363719764800216], [1.4183614542802665, -6.326530612244898], [1.313316748427194, -5.918367346938775], [1.215314811675282, -5.5102040816326525], [1.1243479008405621, -5.1020408163265305], [1.0404082840859141, -4.6938775510204085], [1.0204081632653068, -4.587779038153016], [0.9348638094805275, -4.285714285714286], [0.829834625714953, -3.8775510204081627], [0.7353666745737195, -3.4693877551020407], [0.6514425466855059, -3.061224489795919], [0.612244897959183, -2.8433028057717635], [0.543599806979629, -2.6530612244897958], [0.4174797756135919, -2.244897959183673], [0.3125344111430636, -1.836734693877551], [0.22869392315605502, -1.4285714285714288], [0.204081632653061, -1.268725709334749], [-0.204081632653061, -1.277843393196299], [-0.2269485696200722, -1.4285714285714288], [-0.30947105239405337, -1.836734693877551], [-0.4124838850816581, -2.244897959183673], [-0.535920266645146, -2.6530612244897958], [-0.612244897959183, -2.869601274763023], [-0.6461171768876168, -3.061224489795918], [-0.7285574346017859, -3.4693877551020407], [-0.8212513228373224, -3.8775510204081627], [-0.9241821048167335, -4.285714285714286], [-1.020408163265305, -4.632796985735707], [-1.0317150109419913, -4.6938775510204085], [-1.1141400417972496, -5.1020408163265305], [-1.2034026985497834, -5.5102040816326525], [-1.29949553721932, -5.918367346938775], [-1.40241112462714, -6.326530612244898], [-1.4285714285714288, -6.423811547281802], [-1.49134328308263, -6.73469387755102], [-1.5788919050845225, -7.142857142857142], [-1.6715652588719476, -7.551020408163264], [-1.769359160243493, -7.959183673469388], [-1.8367346938775508, -8.226383768186171], [-1.8651942302202233, -8.36734693877551], [-1.951714937656143, -8.775510204081632], [-2.04233643643199, -9.183673469387756], [-2.1370560474914324, -9.591836734693878], [-2.235871094111276, -10.0]], [\"M\", \"L\", \"L\", \"L\", \"L\", \"L\", \"L\", \"L\", \"L\", \"L\", \"L\", \"L\", \"L\", \"L\", \"L\", \"L\", \"L\", \"L\", \"L\", \"L\", \"L\", \"L\", \"L\", \"L\", \"L\", \"L\", \"L\", \"L\", \"L\", \"L\", \"L\", \"L\", \"L\", \"L\", \"L\", \"L\", \"L\", \"L\", \"L\", \"L\", \"L\", \"L\", \"L\", \"L\", \"L\", \"L\", \"L\", \"L\", \"L\", \"L\", \"L\", \"L\", \"L\", \"L\", \"L\"]], [[[-2.2574560483807726, 10.0], [-2.244897959183673, 9.938951534475017], [-2.159155149533562, 9.591836734693878], [-2.062552896558283, 9.183673469387756], [-1.9701716623536036, 8.775510204081634], [-1.8820086626400219, 8.367346938775512], [-1.8367346938775508, 8.14724164748743], [-1.788340859705633, 7.95918367346939], [-1.6885735272256182, 7.551020408163264], [-1.5940846437086273, 7.142857142857142], [-1.5048698568045555, 6.73469387755102], [-1.4285714285714288, 6.363719764800216], [-1.4183614542802665, 6.326530612244898], [-1.313316748427194, 5.918367346938776], [-1.2153148116752823, 5.510204081632654], [-1.124347900840562, 5.1020408163265305], [-1.040408284085914, 4.6938775510204085], [-1.020408163265305, 4.587779038153008], [-0.934863809480528, 4.2857142857142865], [-0.8298346257149534, 3.8775510204081627], [-0.7353666745737197, 3.4693877551020407], [-0.6514425466855059, 3.0612244897959187], [-0.612244897959183, 2.8433028057717635], [-0.5435998069796293, 2.6530612244897966], [-0.4174797756135925, 2.2448979591836746], [-0.3125344111430636, 1.836734693877551], [-0.22869392315605502, 1.4285714285714288], [-0.204081632653061, 1.268725709334749], [0.20408163265306098, 1.2778433931962991], [0.2269485696200722, 1.4285714285714288], [0.30947105239405337, 1.836734693877551], [0.4124838850816587, 2.2448979591836746], [0.5359202666451462, 2.6530612244897966], [0.612244897959183, 2.8696012747630233], [0.6461171768876168, 3.061224489795918], [0.7285574346017858, 3.4693877551020407], [0.8212513228373222, 3.8775510204081627], [0.9241821048167334, 4.2857142857142865], [1.0204081632653068, 4.632796985735715], [1.0317150109419917, 4.6938775510204085], [1.11414004179725, 5.1020408163265305], [1.2034026985497839, 5.510204081632654], [1.2994955372193202, 5.918367346938776], [1.40241112462714, 6.326530612244898], [1.4285714285714288, 6.423811547281802], [1.49134328308263, 6.73469387755102], [1.5788919050845225, 7.142857142857142], [1.6715652588719474, 7.551020408163264], [1.7693591602434933, 7.95918367346939], [1.8367346938775508, 8.226383768186171], [1.8651942302202236, 8.367346938775512], [1.9517149376561433, 8.775510204081634], [2.04233643643199, 9.183673469387756], [2.1370560474914324, 9.591836734693878], [2.2358710941112765, 10.0]], [\"M\", \"L\", \"L\", \"L\", \"L\", \"L\", \"L\", \"L\", \"L\", \"L\", \"L\", \"L\", \"L\", \"L\", \"L\", \"L\", \"L\", \"L\", \"L\", \"L\", \"L\", \"L\", \"L\", \"L\", \"L\", \"L\", \"L\", \"L\", \"L\", \"L\", \"L\", \"L\", \"L\", \"L\", \"L\", \"L\", \"L\", \"L\", \"L\", \"L\", \"L\", \"L\", \"L\", \"L\", \"L\", \"L\", \"L\", \"L\", \"L\", \"L\", \"L\", \"L\", \"L\", \"L\", \"L\"]]], \"pathtransforms\": [], \"alphas\": [null], \"edgecolors\": [\"#FF0000\"], \"facecolors\": [], \"edgewidths\": [3], \"offsetcoordinates\": \"display\", \"pathcoordinates\": \"data\", \"zorder\": 3, \"id\": \"el3363140368734553904\"}, {\"offsets\": \"data01\", \"xindex\": 0, \"yindex\": 0, \"paths\": [[[[2.24864859859271, -10.0], [2.2448979591836746, -9.981767068455607], [2.1485790398935247, -9.591836734693878], [2.051979113355044, -9.183673469387756], [1.9596002045638912, -8.775510204081634], [1.871439529241239, -8.36734693877551], [1.8367346938775508, -8.19862486501816], [1.7751181770654203, -7.959183673469388], [1.6753544808427678, -7.551020408163265], [1.5808692315837365, -7.142857142857142], [1.4916580769398697, -6.7346938775510194], [1.4285714285714288, -6.427957370038756], [1.4007255509873433, -6.326530612244898], [1.2956873131493256, -5.918367346938775], [1.1976918396698841, -5.5102040816326525], [1.106731387370264, -5.1020408163265305], [1.0227982244185523, -4.6938775510204085], [1.0204081632653068, -4.68119853091368], [0.9084075279230364, -4.285714285714286], [0.8033928971919473, -3.8775510204081627], [0.7089394830833754, -3.4693877551020407], [0.6250298762523775, -3.0612244897959187], [0.612244897959183, -2.990145634548302], [0.49061433832900647, -2.6530612244897958], [0.36455264744623883, -2.244897959183673], [0.25966549512686943, -1.8367346938775508], [0.204081632653061, -1.5660466425456074], [-0.204081632653061, -1.5744798500983568], [-0.25712033997610156, -1.8367346938775508], [-0.3601901244543376, -2.244897959183673], [-0.48368333402860486, -2.6530612244897958], [-0.612244897959183, -3.017802292182477], [-0.6199204230201502, -3.0612244897959187], [-0.7023749497249775, -3.4693877551020402], [-0.7950830914154112, -3.8775510204081622], [-0.8980281113393171, -4.285714285714286], [-1.011193309150133, -4.6938775510204085], [-1.020408163265305, -4.724349404930101], [-1.096683467155676, -5.1020408163265305], [-1.1859524610771328, -5.5102040816326525], [-1.2820516323161633, -5.918367346938775], [-1.3849735476990541, -6.326530612244898], [-1.4285714285714288, -6.4886557399163625], [-1.478250257749128, -6.73469387755102], [-1.5658024450557235, -7.142857142857143], [-1.6584793622066747, -7.551020408163266], [-1.7562768250021548, -7.959183673469388], [-1.8367346938775508, -8.278266121127348], [-1.854719524643585, -8.36734693877551], [-1.9412425141230916, -8.775510204081632], [-2.0318662939483993, -9.183673469387756], [-2.1265881850638264, -9.591836734693878], [-2.2254055107468274, -10.0]], [\"M\", \"L\", \"L\", \"L\", \"L\", \"L\", \"L\", \"L\", \"L\", \"L\", \"L\", \"L\", \"L\", \"L\", \"L\", \"L\", \"L\", \"L\", \"L\", \"L\", \"L\", \"L\", \"L\", \"L\", \"L\", \"L\", \"L\", \"L\", \"L\", \"L\", \"L\", \"L\", \"L\", \"L\", \"L\", \"L\", \"L\", \"L\", \"L\", \"L\", \"L\", \"L\", \"L\", \"L\", \"L\", \"L\", \"L\", \"L\", \"L\", \"L\", \"L\", \"L\", \"L\"]], [[[-2.2486485985927094, 10.0], [-2.244897959183673, 9.981767068455598], [-2.148579039893525, 9.591836734693878], [-2.0519791133550442, 9.183673469387756], [-1.9596002045638912, 8.775510204081634], [-1.8714395292412394, 8.367346938775512], [-1.8367346938775508, 8.19862486501816], [-1.7751181770654207, 7.95918367346939], [-1.6753544808427676, 7.551020408163264], [-1.5808692315837365, 7.142857142857142], [-1.4916580769398697, 6.7346938775510194], [-1.4285714285714288, 6.427957370038756], [-1.4007255509873433, 6.326530612244898], [-1.2956873131493258, 5.918367346938776], [-1.1976918396698844, 5.510204081632654], [-1.1067313873702638, 5.1020408163265305], [-1.0227982244185518, 4.6938775510204085], [-1.020408163265305, 4.681198530913672], [-0.9084075279230369, 4.2857142857142865], [-0.8033928971919475, 3.8775510204081627], [-0.7089394830833755, 3.4693877551020407], [-0.6250298762523776, 3.0612244897959187], [-0.612244897959183, 2.9901456345483024], [-0.4906143383290067, 2.6530612244897966], [-0.3645526474462394, 2.2448979591836746], [-0.25966549512686943, 1.8367346938775508], [-0.204081632653061, 1.5660466425456074], [0.204081632653061, 1.5744798500983568], [0.25712033997610156, 1.8367346938775508], [0.3601901244543382, 2.2448979591836746], [0.4836833340286052, 2.6530612244897966], [0.612244897959183, 3.0178022921824765], [0.61992042302015, 3.0612244897959187], [0.7023749497249774, 3.4693877551020407], [0.795083091415411, 3.8775510204081627], [0.898028111339317, 4.2857142857142865], [1.0111933091501328, 4.6938775510204085], [1.0204081632653068, 4.724349404930108], [1.0966834671556764, 5.1020408163265305], [1.1859524610771333, 5.510204081632654], [1.2820516323161637, 5.918367346938776], [1.3849735476990541, 6.326530612244898], [1.4285714285714288, 6.4886557399163625], [1.478250257749128, 6.73469387755102], [1.5658024450557235, 7.142857142857143], [1.6584793622066747, 7.551020408163264], [1.756276825002155, 7.95918367346939], [1.8367346938775506, 8.278266121127348], [1.8547195246435852, 8.367346938775512], [1.9412425141230918, 8.775510204081634], [2.031866293948399, 9.183673469387756], [2.1265881850638264, 9.591836734693878], [2.225405510746827, 10.0]], [\"M\", \"L\", \"L\", \"L\", \"L\", \"L\", \"L\", \"L\", \"L\", \"L\", \"L\", \"L\", \"L\", \"L\", \"L\", \"L\", \"L\", \"L\", \"L\", \"L\", \"L\", \"L\", \"L\", \"L\", \"L\", \"L\", \"L\", \"L\", \"L\", \"L\", \"L\", \"L\", \"L\", \"L\", \"L\", \"L\", \"L\", \"L\", \"L\", \"L\", \"L\", \"L\", \"L\", \"L\", \"L\", \"L\", \"L\", \"L\", \"L\", \"L\", \"L\", \"L\", \"L\"]]], \"pathtransforms\": [], \"alphas\": [null], \"edgecolors\": [\"#FF0000\"], \"facecolors\": [], \"edgewidths\": [3], \"offsetcoordinates\": \"display\", \"pathcoordinates\": \"data\", \"zorder\": 3, \"id\": \"el3363140368734554624\"}, {\"offsets\": \"data01\", \"xindex\": 0, \"yindex\": 0, \"paths\": [[[[2.2388243338082976, -10.0], [2.1380029302534873, -9.591836734693878], [2.041405330151805, -9.183673469387756], [1.949028746774179, -8.775510204081632], [1.8608703958424566, -8.36734693877551], [1.8367346938775508, -8.250008082548893], [1.761895494425208, -7.959183673469388], [1.6621354344599173, -7.551020408163264], [1.5676538194588452, -7.142857142857142], [1.4784462970751842, -6.7346938775510194], [1.4285714285714288, -6.492194975277297], [1.38308964769442, -6.326530612244898], [1.2780578778714573, -5.918367346938775], [1.1800688676644862, -5.5102040816326525], [1.089114873899966, -5.1020408163265305], [1.0204081632653068, -4.76791962944508], [0.9975299723495721, -4.6938775510204085], [0.8819512463655452, -4.285714285714286], [0.7769511686689413, -3.8775510204081627], [0.6825122915930313, -3.4693877551020407], [0.612244897959183, -3.127555960067897], [0.5848767279251703, -3.0612244897959187], [0.43762886967838394, -2.6530612244897958], [0.3116255192788858, -2.244897959183673], [0.2067965791106753, -1.8367346938775508], [0.204081632653061, -1.823513166380636], [-0.204081632653061, -1.8333328387897936], [-0.2047696275581498, -1.8367346938775508], [-0.3078963638270171, -2.244897959183673], [-0.4314464014120638, -2.6530612244897958], [-0.5753532301392373, -3.0612244897959187], [-0.612244897959183, -3.152852988593654], [-0.676192464848169, -3.4693877551020407], [-0.7689148599935001, -3.8775510204081627], [-0.8718741178619009, -4.285714285714286], [-0.9850535381321128, -4.6938775510204085], [-1.020408163265305, -4.810788894230587], [-1.0792268925141026, -5.1020408163265305], [-1.1685022236044824, -5.5102040816326525], [-1.264607727413007, -5.918367346938775], [-1.3675359707709684, -6.326530612244898], [-1.4285714285714288, -6.553499932550924], [-1.4651572324156263, -6.73469387755102], [-1.5527129850269243, -7.142857142857142], [-1.6453934655414022, -7.551020408163265], [-1.7431944897608165, -7.959183673469388], [-1.8367346938775508, -8.330148474068524], [-1.8442448190669467, -8.36734693877551], [-1.9307700905900402, -8.775510204081632], [-2.021396151464809, -9.183673469387756], [-2.1161203226362204, -9.591836734693878], [-2.214939927382378, -10.0]], [\"M\", \"L\", \"L\", \"L\", \"L\", \"L\", \"L\", \"L\", \"L\", \"L\", \"L\", \"L\", \"L\", \"L\", \"L\", \"L\", \"L\", \"L\", \"L\", \"L\", \"L\", \"L\", \"L\", \"L\", \"L\", \"L\", \"L\", \"L\", \"L\", \"L\", \"L\", \"L\", \"L\", \"L\", \"L\", \"L\", \"L\", \"L\", \"L\", \"L\", \"L\", \"L\", \"L\", \"L\", \"L\", \"L\", \"L\", \"L\", \"L\", \"L\", \"L\", \"L\"]], [[[-2.2388243338082976, 9.999999999999998], [-2.1380029302534878, 9.591836734693878], [-2.041405330151805, 9.183673469387756], [-1.9490287467741791, 8.775510204081634], [-1.860870395842457, 8.367346938775512], [-1.8367346938775508, 8.250008082548895], [-1.7618954944252085, 7.95918367346939], [-1.6621354344599173, 7.551020408163264], [-1.5676538194588452, 7.142857142857142], [-1.4784462970751842, 6.7346938775510194], [-1.4285714285714288, 6.492194975277297], [-1.3830896476944203, 6.326530612244898], [-1.2780578778714575, 5.918367346938776], [-1.1800688676644864, 5.510204081632654], [-1.0891148738999656, 5.1020408163265305], [-1.020408163265305, 4.767919629445072], [-0.9975299723495725, 4.6938775510204085], [-0.8819512463655458, 4.2857142857142865], [-0.7769511686689415, 3.8775510204081627], [-0.6825122915930313, 3.4693877551020407], [-0.612244897959183, 3.127555960067897], [-0.5848767279251703, 3.0612244897959187], [-0.43762886967838427, 2.6530612244897966], [-0.3116255192788863, 2.2448979591836746], [-0.2067965791106753, 1.8367346938775508], [-0.204081632653061, 1.823513166380636], [0.204081632653061, 1.8333328387897936], [0.2047696275581498, 1.8367346938775508], [0.3078963638270177, 2.2448979591836746], [0.43144640141206403, 2.6530612244897966], [0.5753532301392373, 3.0612244897959187], [0.612244897959183, 3.152852988593654], [0.676192464848169, 3.4693877551020407], [0.7689148599934998, 3.8775510204081627], [0.8718741178619008, 4.2857142857142865], [0.9850535381321125, 4.6938775510204085], [1.0204081632653068, 4.810788894230594], [1.0792268925141029, 5.1020408163265305], [1.168502223604483, 5.510204081632654], [1.2646077274130072, 5.918367346938776], [1.3675359707709684, 6.326530612244898], [1.4285714285714288, 6.553499932550924], [1.4651572324156263, 6.73469387755102], [1.5527129850269243, 7.142857142857142], [1.6453934655414018, 7.551020408163264], [1.7431944897608167, 7.95918367346939], [1.8367346938775508, 8.330148474068524], [1.8442448190669471, 8.367346938775512], [1.9307700905900407, 8.775510204081634], [2.021396151464809, 9.183673469387756], [2.1161203226362204, 9.591836734693878], [2.2149399273823778, 10.0]], [\"M\", \"L\", \"L\", \"L\", \"L\", \"L\", \"L\", \"L\", \"L\", \"L\", \"L\", \"L\", \"L\", \"L\", \"L\", \"L\", \"L\", \"L\", \"L\", \"L\", \"L\", \"L\", \"L\", \"L\", \"L\", \"L\", \"L\", \"L\", \"L\", \"L\", \"L\", \"L\", \"L\", \"L\", \"L\", \"L\", \"L\", \"L\", \"L\", \"L\", \"L\", \"L\", \"L\", \"L\", \"L\", \"L\", \"L\", \"L\", \"L\", \"L\", \"L\", \"L\"]]], \"pathtransforms\": [], \"alphas\": [null], \"edgecolors\": [\"#FF0000\"], \"facecolors\": [], \"edgewidths\": [3], \"offsetcoordinates\": \"display\", \"pathcoordinates\": \"data\", \"zorder\": 3, \"id\": \"el3363140368734555344\"}, {\"offsets\": \"data01\", \"xindex\": 0, \"yindex\": 0, \"paths\": [[[[2.217667459606731, -10.0], [2.116850710973413, -9.591836734693878], [2.0202577637453274, -9.183673469387756], [1.9278858311947544, -8.775510204081632], [1.8397321290448916, -8.36734693877551], [1.8367346938775508, -8.352774517610358], [1.7354501291447835, -7.959183673469388], [1.6356973416942164, -7.551020408163265], [1.541222995209063, -7.142857142857142], [1.452022737345813, -6.73469387755102], [1.4285714285714288, -6.620670185754378], [1.3478178411085742, -6.326530612244898], [1.2427990073157207, -5.918367346938775], [1.1448229236536902, -5.5102040816326525], [1.0538818469593698, -5.1020408163265305], [1.0204081632653068, -4.939258071790472], [0.9445882711091005, -4.6938775510204085], [0.8290386832505631, -4.285714285714286], [0.7240677116229297, -3.8775510204081627], [0.6296579086123428, -3.469387755102041], [0.612244897959183, -3.3846781852617984], [0.47878885214348177, -3.0612244897959187], [0.331657932377139, -2.6530612244897958], [0.2057712629441797, -2.244897959183673], [0.204081632653061, -2.2383190060590117], [-0.07492578849734559, -2.244897959183673], [-0.204081632653061, -2.2474458685913357], [-0.32697253617898153, -2.6530612244897958], [-0.4709927741742088, -3.0612244897959187], [-0.612244897959183, -3.412054929817702], [-0.6238274950945522, -3.4693877551020407], [-0.7165783971496777, -3.8775510204081627], [-0.8195661309070683, -4.285714285714286], [-0.9327739960960723, -4.6938775510204085], [-1.020408163265305, -4.983667872831557], [-1.0443137432309557, -5.1020408163265305], [-1.1336017486591814, -5.5102040816326525], [-1.229719917606694, -5.918367346938775], [-1.3326608169147969, -6.326530612244898], [-1.4285714285714288, -6.683188317820045], [-1.4389711817486228, -6.734693877551021], [-1.5265340649693264, -7.142857142857143], [-1.6192216722108563, -7.551020408163265], [-1.7170298192781397, -7.959183673469388], [-1.819954326529902, -8.36734693877551], [-1.8367346938775508, -8.430728699680888], [-1.9098252435239376, -8.775510204081632], [-2.0004558664976284, -9.183673469387756], [-2.095184597781009, -9.591836734693878], [-2.19400876065348, -10.0]], [\"M\", \"L\", \"L\", \"L\", \"L\", \"L\", \"L\", \"L\", \"L\", \"L\", \"L\", \"L\", \"L\", \"L\", \"L\", \"L\", \"L\", \"L\", \"L\", \"L\", \"L\", \"L\", \"L\", \"L\", \"L\", \"L\", \"L\", \"L\", \"L\", \"L\", \"L\", \"L\", \"L\", \"L\", \"L\", \"L\", \"L\", \"L\", \"L\", \"L\", \"L\", \"L\", \"L\", \"L\", \"L\", \"L\", \"L\", \"L\", \"L\", \"L\"]], [[[-2.2176674596067314, 10.0], [-2.116850710973413, 9.591836734693878], [-2.0202577637453274, 9.183673469387756], [-1.9278858311947547, 8.775510204081634], [-1.839732129044892, 8.367346938775512], [-1.8367346938775508, 8.352774517610358], [-1.735450129144784, 7.95918367346939], [-1.6356973416942164, 7.551020408163264], [-1.541222995209063, 7.142857142857142], [-1.452022737345813, 6.73469387755102], [-1.4285714285714288, 6.620670185754378], [-1.3478178411085742, 6.326530612244898], [-1.242799007315721, 5.918367346938776], [-1.1448229236536904, 5.510204081632654], [-1.0538818469593696, 5.1020408163265305], [-1.020408163265305, 4.939258071790465], [-0.9445882711091009, 4.6938775510204085], [-0.8290386832505635, 4.2857142857142865], [-0.7240677116229297, 3.8775510204081627], [-0.6296579086123428, 3.4693877551020407], [-0.612244897959183, 3.3846781852617984], [-0.47878885214348177, 3.0612244897959187], [-0.33165793237713925, 2.6530612244897966], [-0.20577126294418022, 2.2448979591836746], [-0.204081632653061, 2.2383190060590117], [0.07492578849743099, 2.2448979591836746], [0.204081632653061, 2.2474458685913357], [0.3269725361789818, 2.6530612244897966], [0.4709927741742088, 3.0612244897959187], [0.612244897959183, 3.412054929817702], [0.6238274950945522, 3.4693877551020407], [0.7165783971496775, 3.8775510204081627], [0.8195661309070683, 4.2857142857142865], [0.9327739960960719, 4.6938775510204085], [1.0204081632653068, 4.983667872831565], [1.044313743230956, 5.1020408163265305], [1.1336017486591818, 5.510204081632654], [1.2297199176066944, 5.918367346938776], [1.3326608169147969, 6.326530612244898], [1.4285714285714288, 6.683188317820045], [1.4389711817486228, 6.734693877551021], [1.5265340649693264, 7.142857142857143], [1.6192216722108563, 7.551020408163264], [1.7170298192781401, 7.95918367346939], [1.8199543265299025, 8.367346938775512], [1.8367346938775508, 8.430728699680888], [1.9098252435239378, 8.775510204081634], [2.000455866497628, 9.183673469387756], [2.0951845977810084, 9.591836734693878], [2.1940087606534795, 10.0]], [\"M\", \"L\", \"L\", \"L\", \"L\", \"L\", \"L\", \"L\", \"L\", \"L\", \"L\", \"L\", \"L\", \"L\", \"L\", \"L\", \"L\", \"L\", \"L\", \"L\", \"L\", \"L\", \"L\", \"L\", \"L\", \"L\", \"L\", \"L\", \"L\", \"L\", \"L\", \"L\", \"L\", \"L\", \"L\", \"L\", \"L\", \"L\", \"L\", \"L\", \"L\", \"L\", \"L\", \"L\", \"L\", \"L\", \"L\", \"L\", \"L\", \"L\"]]], \"pathtransforms\": [], \"alphas\": [null], \"edgecolors\": [\"#FF0000\"], \"facecolors\": [], \"edgewidths\": [3], \"offsetcoordinates\": \"display\", \"pathcoordinates\": \"data\", \"zorder\": 3, \"id\": \"el3363140368734556064\"}, {\"offsets\": \"data01\", \"xindex\": 0, \"yindex\": 0, \"paths\": [[[[2.164775274102815, -10.000000000000002], [2.0639701627732263, -9.591836734693878], [1.9673888477291335, -9.183673469387756], [1.8750285422461932, -8.775510204081632], [1.8367346938775508, -8.598203310650668], [1.7743541102013771, -8.36734693877551], [1.6693367159437222, -7.959183673469388], [1.5696021097799644, -7.551020408163264], [1.4751459345846079, -7.142857142857142], [1.4285714285714288, -6.929725734415299], [1.371675299284082, -6.73469387755102], [1.2596383246439586, -6.326530612244898], [1.1546518309263794, -5.918367346938775], [1.0567080636267001, -5.5102040816326525], [1.0204081632653068, -5.3472602716722335], [0.9383067825774223, -5.1020408163265305], [0.8122340180079215, -4.6938775510204085], [0.6967572754631076, -4.285714285714286], [0.612244897959183, -3.9569082943669924], [0.5712590584385694, -3.8775510204081627], [0.381721747183582, -3.4693877551020407], [0.2135691626892604, -3.0612244897959187], [0.204081632653061, -3.034879448945193], [-0.204081632653061, -3.0442074939703816], [-0.21009163426163768, -3.0612244897959187], [-0.3746851040486372, -3.4693877551020407], [-0.5595023504808735, -3.8775510204081627], [-0.612244897959183, -3.9824917531667783], [-0.6887961635199868, -4.285714285714286], [-0.8020751410059708, -4.6938775510204085], [-0.9255575086601397, -5.1020408163265305], [-1.020408163265305, -5.391624830468146], [-1.0463505612959283, -5.5102040816326525], [-1.1425003930909114, -5.918367346938775], [-1.245472932274368, -6.326530612244898], [-1.3552607564945327, -6.73469387755102], [-1.4285714285714288, -6.991295931966743], [-1.4610867648253312, -7.142857142857142], [-1.5537921888844926, -7.551020408163265], [-1.6516181430714485, -7.959183673469388], [-1.7545604477528407, -8.36734693877551], [-1.8367346938775508, -8.677730395379976], [-1.857463125858681, -8.775510204081632], [-1.9481051540796765, -9.183673469387756], [-2.0428452856429793, -9.591836734693878], [-2.1416808438312342, -10.0]], [\"M\", \"L\", \"L\", \"L\", \"L\", \"L\", \"L\", \"L\", \"L\", \"L\", \"L\", \"L\", \"L\", \"L\", \"L\", \"L\", \"L\", \"L\", \"L\", \"L\", \"L\", \"L\", \"L\", \"L\", \"L\", \"L\", \"L\", \"L\", \"L\", \"L\", \"L\", \"L\", \"L\", \"L\", \"L\", \"L\", \"L\", \"L\", \"L\", \"L\", \"L\", \"L\", \"L\", \"L\", \"L\", \"L\"]], [[[-2.1647752741028143, 10.0], [-2.0639701627732263, 9.591836734693878], [-1.9673888477291337, 9.183673469387756], [-1.8750285422461936, 8.775510204081634], [-1.8367346938775508, 8.598203310650668], [-1.7743541102013776, 8.367346938775512], [-1.6693367159437225, 7.95918367346939], [-1.569602109779964, 7.5510204081632635], [-1.4751459345846079, 7.142857142857142], [-1.4285714285714288, 6.929725734415299], [-1.371675299284082, 6.73469387755102], [-1.2596383246439586, 6.326530612244898], [-1.1546518309263796, 5.918367346938776], [-1.0567080636267001, 5.510204081632654], [-1.020408163265305, 5.347260271672228], [-0.9383067825774226, 5.1020408163265305], [-0.8122340180079217, 4.6938775510204085], [-0.696757275463108, 4.2857142857142865], [-0.612244897959183, 3.956908294366993], [-0.5712590584385694, 3.8775510204081627], [-0.381721747183582, 3.4693877551020407], [-0.2135691626892604, 3.0612244897959187], [-0.204081632653061, 3.034879448945193], [0.204081632653061, 3.0442074939703816], [0.21009163426163768, 3.0612244897959187], [0.3746851040486372, 3.4693877551020407], [0.5595023504808735, 3.8775510204081627], [0.612244897959183, 3.9824917531667783], [0.688796163519987, 4.2857142857142865], [0.8020751410059705, 4.6938775510204085], [0.9255575086601395, 5.1020408163265305], [1.0204081632653068, 5.391624830468153], [1.046350561295929, 5.510204081632654], [1.142500393090912, 5.918367346938776], [1.2454729322743683, 6.326530612244898], [1.3552607564945327, 6.73469387755102], [1.4285714285714288, 6.991295931966743], [1.4610867648253312, 7.142857142857142], [1.5537921888844923, 7.551020408163264], [1.651618143071449, 7.95918367346939], [1.7545604477528414, 8.367346938775512], [1.8367346938775508, 8.677730395379976], [1.8574631258586813, 8.775510204081634], [1.9481051540796765, 9.183673469387756], [2.0428452856429793, 9.591836734693878], [2.1416808438312342, 10.0]], [\"M\", \"L\", \"L\", \"L\", \"L\", \"L\", \"L\", \"L\", \"L\", \"L\", \"L\", \"L\", \"L\", \"L\", \"L\", \"L\", \"L\", \"L\", \"L\", \"L\", \"L\", \"L\", \"L\", \"L\", \"L\", \"L\", \"L\", \"L\", \"L\", \"L\", \"L\", \"L\", \"L\", \"L\", \"L\", \"L\", \"L\", \"L\", \"L\", \"L\", \"L\", \"L\", \"L\", \"L\", \"L\", \"L\"]]], \"pathtransforms\": [], \"alphas\": [null], \"edgecolors\": [\"#FF0000\"], \"facecolors\": [], \"edgewidths\": [3], \"offsetcoordinates\": \"display\", \"pathcoordinates\": \"data\", \"zorder\": 3, \"id\": \"el3363140368734589616\"}], \"images\": [], \"sharex\": [], \"sharey\": []}], \"data\": {\"data01\": [[0.0, 0.0]], \"data02\": [[0.5216442610605224, 0.9287159676232524], [0.6136236576756806, 0.9287159676232524]], \"data03\": [[0.5124463213990066, 0.8758278145695364], [0.9678072111846946, 0.8758278145695364], [0.9770051508462104, 0.8758278145695364], [0.9770051508462104, 0.8850257542310522], [0.9770051508462104, 0.9678072111846947], [0.9770051508462104, 0.9770051508462105], [0.9678072111846946, 0.9770051508462105], [0.5124463213990066, 0.9770051508462105], [0.5032483817374908, 0.9770051508462105], [0.5032483817374908, 0.9678072111846947], [0.5032483817374908, 0.8850257542310522], [0.5032483817374908, 0.8758278145695364], [0.5124463213990066, 0.8758278145695364]]}, \"id\": \"el3363140368734785152\", \"plugins\": [{\"type\": \"reset\"}, {\"type\": \"zoom\", \"button\": true, \"enabled\": false}, {\"type\": \"boxzoom\", \"button\": true, \"enabled\": false}]});\n",
       "   }(mpld3);\n",
       "}else if(typeof define === \"function\" && define.amd){\n",
       "   // require.js is available: use it to load d3/mpld3\n",
       "   require.config({paths: {d3: \"https://d3js.org/d3.v5\"}});\n",
       "   require([\"d3\"], function(d3){\n",
       "      window.d3 = d3;\n",
       "      mpld3_load_lib(\"https://mpld3.github.io/js/mpld3.v0.5.8.js\", function(){\n",
       "         \n",
       "         mpld3.draw_figure(\"fig_el33631403687347851521337347051\", {\"width\": 432.0, \"height\": 288.0, \"axes\": [{\"bbox\": [0.26083333333333336, 0.125, 0.5033333333333333, 0.755], \"xlim\": [-10.0, 10.0], \"ylim\": [-10.0, 10.0], \"xdomain\": [-10.0, 10.0], \"ydomain\": [-10.0, 10.0], \"xscale\": \"linear\", \"yscale\": \"linear\", \"axes\": [{\"position\": \"bottom\", \"nticks\": 5, \"tickvalues\": null, \"tickformat_formatter\": \"\", \"tickformat\": null, \"scale\": \"linear\", \"fontsize\": 10.0, \"grid\": {\"gridOn\": false}, \"visible\": true}, {\"position\": \"left\", \"nticks\": 9, \"tickvalues\": null, \"tickformat_formatter\": \"\", \"tickformat\": null, \"scale\": \"linear\", \"fontsize\": 10.0, \"grid\": {\"gridOn\": false}, \"visible\": true}], \"axesbg\": \"#FFFFFF\", \"axesbgalpha\": null, \"zoomable\": true, \"id\": \"el3363140368734861872\", \"lines\": [{\"data\": \"data01\", \"xindex\": 0, \"yindex\": 1, \"coordinates\": \"data\", \"id\": \"el3363140369757035008\", \"color\": \"#FF0000\", \"linewidth\": 3.0, \"dasharray\": \"none\", \"alpha\": 1, \"zorder\": 2, \"drawstyle\": \"default\"}, {\"data\": \"data02\", \"xindex\": 0, \"yindex\": 1, \"coordinates\": \"axes\", \"id\": \"el3363140368734592496\", \"color\": \"#FF0000\", \"linewidth\": 3.0, \"dasharray\": \"none\", \"alpha\": 1, \"zorder\": 1000002.0, \"drawstyle\": \"default\"}], \"paths\": [{\"data\": \"data03\", \"xindex\": 0, \"yindex\": 1, \"coordinates\": \"axes\", \"pathcodes\": [\"M\", \"L\", \"S\", \"L\", \"S\", \"L\", \"S\", \"L\", \"S\", \"Z\"], \"id\": \"el3363140368734591488\", \"dasharray\": \"none\", \"alpha\": 0.8, \"facecolor\": \"rgba(255, 255, 255, 0.8)\", \"edgecolor\": \"rgba(204, 204, 204, 0.8)\", \"edgewidth\": 1.0, \"zorder\": 1000000.0}], \"markers\": [], \"texts\": [{\"text\": \"$x_1$\", \"position\": [0.49999999999999994, -0.09657836644591611], \"coordinates\": \"axes\", \"h_anchor\": \"middle\", \"v_baseline\": \"hanging\", \"rotation\": -0.0, \"fontsize\": 10.0, \"color\": \"#000000\", \"alpha\": 1, \"zorder\": 3, \"id\": \"el3363140368734862832\"}, {\"text\": \"$x_2$\", \"position\": [-0.19200699043414277, 0.49999999999999994], \"coordinates\": \"axes\", \"h_anchor\": \"middle\", \"v_baseline\": \"auto\", \"rotation\": -90.0, \"fontsize\": 10.0, \"color\": \"#000000\", \"alpha\": 1, \"zorder\": 3, \"id\": \"el3363140368734859472\"}, {\"text\": \"$\\\\{ \\\\mathbf{x} : V(\\\\mathbf{x}) = \\\\rho \\\\}$\", \"position\": [0.6504154163217438, 0.9126195732155997], \"coordinates\": \"axes\", \"h_anchor\": \"start\", \"v_baseline\": \"auto\", \"rotation\": -0.0, \"fontsize\": 10.0, \"color\": \"#000000\", \"alpha\": 1, \"zorder\": 1000003.0, \"id\": \"el3363140368734591968\"}], \"collections\": [{\"offsets\": \"data01\", \"xindex\": 0, \"yindex\": 0, \"paths\": [[[[2.257456048380773, -10.0], [2.2448979591836746, -9.938951534475024], [2.159155149533562, -9.591836734693878], [2.062552896558283, -9.183673469387756], [1.9701716623536032, -8.775510204081632], [1.8820086626400219, -8.36734693877551], [1.8367346938775508, -8.14724164748743], [1.7883408597056325, -7.959183673469388], [1.6885735272256182, -7.551020408163265], [1.5940846437086273, -7.142857142857142], [1.5048698568045555, -6.73469387755102], [1.4285714285714288, -6.363719764800216], [1.4183614542802665, -6.326530612244898], [1.313316748427194, -5.918367346938775], [1.215314811675282, -5.5102040816326525], [1.1243479008405621, -5.1020408163265305], [1.0404082840859141, -4.6938775510204085], [1.0204081632653068, -4.587779038153016], [0.9348638094805275, -4.285714285714286], [0.829834625714953, -3.8775510204081627], [0.7353666745737195, -3.4693877551020407], [0.6514425466855059, -3.061224489795919], [0.612244897959183, -2.8433028057717635], [0.543599806979629, -2.6530612244897958], [0.4174797756135919, -2.244897959183673], [0.3125344111430636, -1.836734693877551], [0.22869392315605502, -1.4285714285714288], [0.204081632653061, -1.268725709334749], [-0.204081632653061, -1.277843393196299], [-0.2269485696200722, -1.4285714285714288], [-0.30947105239405337, -1.836734693877551], [-0.4124838850816581, -2.244897959183673], [-0.535920266645146, -2.6530612244897958], [-0.612244897959183, -2.869601274763023], [-0.6461171768876168, -3.061224489795918], [-0.7285574346017859, -3.4693877551020407], [-0.8212513228373224, -3.8775510204081627], [-0.9241821048167335, -4.285714285714286], [-1.020408163265305, -4.632796985735707], [-1.0317150109419913, -4.6938775510204085], [-1.1141400417972496, -5.1020408163265305], [-1.2034026985497834, -5.5102040816326525], [-1.29949553721932, -5.918367346938775], [-1.40241112462714, -6.326530612244898], [-1.4285714285714288, -6.423811547281802], [-1.49134328308263, -6.73469387755102], [-1.5788919050845225, -7.142857142857142], [-1.6715652588719476, -7.551020408163264], [-1.769359160243493, -7.959183673469388], [-1.8367346938775508, -8.226383768186171], [-1.8651942302202233, -8.36734693877551], [-1.951714937656143, -8.775510204081632], [-2.04233643643199, -9.183673469387756], [-2.1370560474914324, -9.591836734693878], [-2.235871094111276, -10.0]], [\"M\", \"L\", \"L\", \"L\", \"L\", \"L\", \"L\", \"L\", \"L\", \"L\", \"L\", \"L\", \"L\", \"L\", \"L\", \"L\", \"L\", \"L\", \"L\", \"L\", \"L\", \"L\", \"L\", \"L\", \"L\", \"L\", \"L\", \"L\", \"L\", \"L\", \"L\", \"L\", \"L\", \"L\", \"L\", \"L\", \"L\", \"L\", \"L\", \"L\", \"L\", \"L\", \"L\", \"L\", \"L\", \"L\", \"L\", \"L\", \"L\", \"L\", \"L\", \"L\", \"L\", \"L\", \"L\"]], [[[-2.2574560483807726, 10.0], [-2.244897959183673, 9.938951534475017], [-2.159155149533562, 9.591836734693878], [-2.062552896558283, 9.183673469387756], [-1.9701716623536036, 8.775510204081634], [-1.8820086626400219, 8.367346938775512], [-1.8367346938775508, 8.14724164748743], [-1.788340859705633, 7.95918367346939], [-1.6885735272256182, 7.551020408163264], [-1.5940846437086273, 7.142857142857142], [-1.5048698568045555, 6.73469387755102], [-1.4285714285714288, 6.363719764800216], [-1.4183614542802665, 6.326530612244898], [-1.313316748427194, 5.918367346938776], [-1.2153148116752823, 5.510204081632654], [-1.124347900840562, 5.1020408163265305], [-1.040408284085914, 4.6938775510204085], [-1.020408163265305, 4.587779038153008], [-0.934863809480528, 4.2857142857142865], [-0.8298346257149534, 3.8775510204081627], [-0.7353666745737197, 3.4693877551020407], [-0.6514425466855059, 3.0612244897959187], [-0.612244897959183, 2.8433028057717635], [-0.5435998069796293, 2.6530612244897966], [-0.4174797756135925, 2.2448979591836746], [-0.3125344111430636, 1.836734693877551], [-0.22869392315605502, 1.4285714285714288], [-0.204081632653061, 1.268725709334749], [0.20408163265306098, 1.2778433931962991], [0.2269485696200722, 1.4285714285714288], [0.30947105239405337, 1.836734693877551], [0.4124838850816587, 2.2448979591836746], [0.5359202666451462, 2.6530612244897966], [0.612244897959183, 2.8696012747630233], [0.6461171768876168, 3.061224489795918], [0.7285574346017858, 3.4693877551020407], [0.8212513228373222, 3.8775510204081627], [0.9241821048167334, 4.2857142857142865], [1.0204081632653068, 4.632796985735715], [1.0317150109419917, 4.6938775510204085], [1.11414004179725, 5.1020408163265305], [1.2034026985497839, 5.510204081632654], [1.2994955372193202, 5.918367346938776], [1.40241112462714, 6.326530612244898], [1.4285714285714288, 6.423811547281802], [1.49134328308263, 6.73469387755102], [1.5788919050845225, 7.142857142857142], [1.6715652588719474, 7.551020408163264], [1.7693591602434933, 7.95918367346939], [1.8367346938775508, 8.226383768186171], [1.8651942302202236, 8.367346938775512], [1.9517149376561433, 8.775510204081634], [2.04233643643199, 9.183673469387756], [2.1370560474914324, 9.591836734693878], [2.2358710941112765, 10.0]], [\"M\", \"L\", \"L\", \"L\", \"L\", \"L\", \"L\", \"L\", \"L\", \"L\", \"L\", \"L\", \"L\", \"L\", \"L\", \"L\", \"L\", \"L\", \"L\", \"L\", \"L\", \"L\", \"L\", \"L\", \"L\", \"L\", \"L\", \"L\", \"L\", \"L\", \"L\", \"L\", \"L\", \"L\", \"L\", \"L\", \"L\", \"L\", \"L\", \"L\", \"L\", \"L\", \"L\", \"L\", \"L\", \"L\", \"L\", \"L\", \"L\", \"L\", \"L\", \"L\", \"L\", \"L\", \"L\"]]], \"pathtransforms\": [], \"alphas\": [null], \"edgecolors\": [\"#FF0000\"], \"facecolors\": [], \"edgewidths\": [3], \"offsetcoordinates\": \"display\", \"pathcoordinates\": \"data\", \"zorder\": 3, \"id\": \"el3363140368734553904\"}, {\"offsets\": \"data01\", \"xindex\": 0, \"yindex\": 0, \"paths\": [[[[2.24864859859271, -10.0], [2.2448979591836746, -9.981767068455607], [2.1485790398935247, -9.591836734693878], [2.051979113355044, -9.183673469387756], [1.9596002045638912, -8.775510204081634], [1.871439529241239, -8.36734693877551], [1.8367346938775508, -8.19862486501816], [1.7751181770654203, -7.959183673469388], [1.6753544808427678, -7.551020408163265], [1.5808692315837365, -7.142857142857142], [1.4916580769398697, -6.7346938775510194], [1.4285714285714288, -6.427957370038756], [1.4007255509873433, -6.326530612244898], [1.2956873131493256, -5.918367346938775], [1.1976918396698841, -5.5102040816326525], [1.106731387370264, -5.1020408163265305], [1.0227982244185523, -4.6938775510204085], [1.0204081632653068, -4.68119853091368], [0.9084075279230364, -4.285714285714286], [0.8033928971919473, -3.8775510204081627], [0.7089394830833754, -3.4693877551020407], [0.6250298762523775, -3.0612244897959187], [0.612244897959183, -2.990145634548302], [0.49061433832900647, -2.6530612244897958], [0.36455264744623883, -2.244897959183673], [0.25966549512686943, -1.8367346938775508], [0.204081632653061, -1.5660466425456074], [-0.204081632653061, -1.5744798500983568], [-0.25712033997610156, -1.8367346938775508], [-0.3601901244543376, -2.244897959183673], [-0.48368333402860486, -2.6530612244897958], [-0.612244897959183, -3.017802292182477], [-0.6199204230201502, -3.0612244897959187], [-0.7023749497249775, -3.4693877551020402], [-0.7950830914154112, -3.8775510204081622], [-0.8980281113393171, -4.285714285714286], [-1.011193309150133, -4.6938775510204085], [-1.020408163265305, -4.724349404930101], [-1.096683467155676, -5.1020408163265305], [-1.1859524610771328, -5.5102040816326525], [-1.2820516323161633, -5.918367346938775], [-1.3849735476990541, -6.326530612244898], [-1.4285714285714288, -6.4886557399163625], [-1.478250257749128, -6.73469387755102], [-1.5658024450557235, -7.142857142857143], [-1.6584793622066747, -7.551020408163266], [-1.7562768250021548, -7.959183673469388], [-1.8367346938775508, -8.278266121127348], [-1.854719524643585, -8.36734693877551], [-1.9412425141230916, -8.775510204081632], [-2.0318662939483993, -9.183673469387756], [-2.1265881850638264, -9.591836734693878], [-2.2254055107468274, -10.0]], [\"M\", \"L\", \"L\", \"L\", \"L\", \"L\", \"L\", \"L\", \"L\", \"L\", \"L\", \"L\", \"L\", \"L\", \"L\", \"L\", \"L\", \"L\", \"L\", \"L\", \"L\", \"L\", \"L\", \"L\", \"L\", \"L\", \"L\", \"L\", \"L\", \"L\", \"L\", \"L\", \"L\", \"L\", \"L\", \"L\", \"L\", \"L\", \"L\", \"L\", \"L\", \"L\", \"L\", \"L\", \"L\", \"L\", \"L\", \"L\", \"L\", \"L\", \"L\", \"L\", \"L\"]], [[[-2.2486485985927094, 10.0], [-2.244897959183673, 9.981767068455598], [-2.148579039893525, 9.591836734693878], [-2.0519791133550442, 9.183673469387756], [-1.9596002045638912, 8.775510204081634], [-1.8714395292412394, 8.367346938775512], [-1.8367346938775508, 8.19862486501816], [-1.7751181770654207, 7.95918367346939], [-1.6753544808427676, 7.551020408163264], [-1.5808692315837365, 7.142857142857142], [-1.4916580769398697, 6.7346938775510194], [-1.4285714285714288, 6.427957370038756], [-1.4007255509873433, 6.326530612244898], [-1.2956873131493258, 5.918367346938776], [-1.1976918396698844, 5.510204081632654], [-1.1067313873702638, 5.1020408163265305], [-1.0227982244185518, 4.6938775510204085], [-1.020408163265305, 4.681198530913672], [-0.9084075279230369, 4.2857142857142865], [-0.8033928971919475, 3.8775510204081627], [-0.7089394830833755, 3.4693877551020407], [-0.6250298762523776, 3.0612244897959187], [-0.612244897959183, 2.9901456345483024], [-0.4906143383290067, 2.6530612244897966], [-0.3645526474462394, 2.2448979591836746], [-0.25966549512686943, 1.8367346938775508], [-0.204081632653061, 1.5660466425456074], [0.204081632653061, 1.5744798500983568], [0.25712033997610156, 1.8367346938775508], [0.3601901244543382, 2.2448979591836746], [0.4836833340286052, 2.6530612244897966], [0.612244897959183, 3.0178022921824765], [0.61992042302015, 3.0612244897959187], [0.7023749497249774, 3.4693877551020407], [0.795083091415411, 3.8775510204081627], [0.898028111339317, 4.2857142857142865], [1.0111933091501328, 4.6938775510204085], [1.0204081632653068, 4.724349404930108], [1.0966834671556764, 5.1020408163265305], [1.1859524610771333, 5.510204081632654], [1.2820516323161637, 5.918367346938776], [1.3849735476990541, 6.326530612244898], [1.4285714285714288, 6.4886557399163625], [1.478250257749128, 6.73469387755102], [1.5658024450557235, 7.142857142857143], [1.6584793622066747, 7.551020408163264], [1.756276825002155, 7.95918367346939], [1.8367346938775506, 8.278266121127348], [1.8547195246435852, 8.367346938775512], [1.9412425141230918, 8.775510204081634], [2.031866293948399, 9.183673469387756], [2.1265881850638264, 9.591836734693878], [2.225405510746827, 10.0]], [\"M\", \"L\", \"L\", \"L\", \"L\", \"L\", \"L\", \"L\", \"L\", \"L\", \"L\", \"L\", \"L\", \"L\", \"L\", \"L\", \"L\", \"L\", \"L\", \"L\", \"L\", \"L\", \"L\", \"L\", \"L\", \"L\", \"L\", \"L\", \"L\", \"L\", \"L\", \"L\", \"L\", \"L\", \"L\", \"L\", \"L\", \"L\", \"L\", \"L\", \"L\", \"L\", \"L\", \"L\", \"L\", \"L\", \"L\", \"L\", \"L\", \"L\", \"L\", \"L\", \"L\"]]], \"pathtransforms\": [], \"alphas\": [null], \"edgecolors\": [\"#FF0000\"], \"facecolors\": [], \"edgewidths\": [3], \"offsetcoordinates\": \"display\", \"pathcoordinates\": \"data\", \"zorder\": 3, \"id\": \"el3363140368734554624\"}, {\"offsets\": \"data01\", \"xindex\": 0, \"yindex\": 0, \"paths\": [[[[2.2388243338082976, -10.0], [2.1380029302534873, -9.591836734693878], [2.041405330151805, -9.183673469387756], [1.949028746774179, -8.775510204081632], [1.8608703958424566, -8.36734693877551], [1.8367346938775508, -8.250008082548893], [1.761895494425208, -7.959183673469388], [1.6621354344599173, -7.551020408163264], [1.5676538194588452, -7.142857142857142], [1.4784462970751842, -6.7346938775510194], [1.4285714285714288, -6.492194975277297], [1.38308964769442, -6.326530612244898], [1.2780578778714573, -5.918367346938775], [1.1800688676644862, -5.5102040816326525], [1.089114873899966, -5.1020408163265305], [1.0204081632653068, -4.76791962944508], [0.9975299723495721, -4.6938775510204085], [0.8819512463655452, -4.285714285714286], [0.7769511686689413, -3.8775510204081627], [0.6825122915930313, -3.4693877551020407], [0.612244897959183, -3.127555960067897], [0.5848767279251703, -3.0612244897959187], [0.43762886967838394, -2.6530612244897958], [0.3116255192788858, -2.244897959183673], [0.2067965791106753, -1.8367346938775508], [0.204081632653061, -1.823513166380636], [-0.204081632653061, -1.8333328387897936], [-0.2047696275581498, -1.8367346938775508], [-0.3078963638270171, -2.244897959183673], [-0.4314464014120638, -2.6530612244897958], [-0.5753532301392373, -3.0612244897959187], [-0.612244897959183, -3.152852988593654], [-0.676192464848169, -3.4693877551020407], [-0.7689148599935001, -3.8775510204081627], [-0.8718741178619009, -4.285714285714286], [-0.9850535381321128, -4.6938775510204085], [-1.020408163265305, -4.810788894230587], [-1.0792268925141026, -5.1020408163265305], [-1.1685022236044824, -5.5102040816326525], [-1.264607727413007, -5.918367346938775], [-1.3675359707709684, -6.326530612244898], [-1.4285714285714288, -6.553499932550924], [-1.4651572324156263, -6.73469387755102], [-1.5527129850269243, -7.142857142857142], [-1.6453934655414022, -7.551020408163265], [-1.7431944897608165, -7.959183673469388], [-1.8367346938775508, -8.330148474068524], [-1.8442448190669467, -8.36734693877551], [-1.9307700905900402, -8.775510204081632], [-2.021396151464809, -9.183673469387756], [-2.1161203226362204, -9.591836734693878], [-2.214939927382378, -10.0]], [\"M\", \"L\", \"L\", \"L\", \"L\", \"L\", \"L\", \"L\", \"L\", \"L\", \"L\", \"L\", \"L\", \"L\", \"L\", \"L\", \"L\", \"L\", \"L\", \"L\", \"L\", \"L\", \"L\", \"L\", \"L\", \"L\", \"L\", \"L\", \"L\", \"L\", \"L\", \"L\", \"L\", \"L\", \"L\", \"L\", \"L\", \"L\", \"L\", \"L\", \"L\", \"L\", \"L\", \"L\", \"L\", \"L\", \"L\", \"L\", \"L\", \"L\", \"L\", \"L\"]], [[[-2.2388243338082976, 9.999999999999998], [-2.1380029302534878, 9.591836734693878], [-2.041405330151805, 9.183673469387756], [-1.9490287467741791, 8.775510204081634], [-1.860870395842457, 8.367346938775512], [-1.8367346938775508, 8.250008082548895], [-1.7618954944252085, 7.95918367346939], [-1.6621354344599173, 7.551020408163264], [-1.5676538194588452, 7.142857142857142], [-1.4784462970751842, 6.7346938775510194], [-1.4285714285714288, 6.492194975277297], [-1.3830896476944203, 6.326530612244898], [-1.2780578778714575, 5.918367346938776], [-1.1800688676644864, 5.510204081632654], [-1.0891148738999656, 5.1020408163265305], [-1.020408163265305, 4.767919629445072], [-0.9975299723495725, 4.6938775510204085], [-0.8819512463655458, 4.2857142857142865], [-0.7769511686689415, 3.8775510204081627], [-0.6825122915930313, 3.4693877551020407], [-0.612244897959183, 3.127555960067897], [-0.5848767279251703, 3.0612244897959187], [-0.43762886967838427, 2.6530612244897966], [-0.3116255192788863, 2.2448979591836746], [-0.2067965791106753, 1.8367346938775508], [-0.204081632653061, 1.823513166380636], [0.204081632653061, 1.8333328387897936], [0.2047696275581498, 1.8367346938775508], [0.3078963638270177, 2.2448979591836746], [0.43144640141206403, 2.6530612244897966], [0.5753532301392373, 3.0612244897959187], [0.612244897959183, 3.152852988593654], [0.676192464848169, 3.4693877551020407], [0.7689148599934998, 3.8775510204081627], [0.8718741178619008, 4.2857142857142865], [0.9850535381321125, 4.6938775510204085], [1.0204081632653068, 4.810788894230594], [1.0792268925141029, 5.1020408163265305], [1.168502223604483, 5.510204081632654], [1.2646077274130072, 5.918367346938776], [1.3675359707709684, 6.326530612244898], [1.4285714285714288, 6.553499932550924], [1.4651572324156263, 6.73469387755102], [1.5527129850269243, 7.142857142857142], [1.6453934655414018, 7.551020408163264], [1.7431944897608167, 7.95918367346939], [1.8367346938775508, 8.330148474068524], [1.8442448190669471, 8.367346938775512], [1.9307700905900407, 8.775510204081634], [2.021396151464809, 9.183673469387756], [2.1161203226362204, 9.591836734693878], [2.2149399273823778, 10.0]], [\"M\", \"L\", \"L\", \"L\", \"L\", \"L\", \"L\", \"L\", \"L\", \"L\", \"L\", \"L\", \"L\", \"L\", \"L\", \"L\", \"L\", \"L\", \"L\", \"L\", \"L\", \"L\", \"L\", \"L\", \"L\", \"L\", \"L\", \"L\", \"L\", \"L\", \"L\", \"L\", \"L\", \"L\", \"L\", \"L\", \"L\", \"L\", \"L\", \"L\", \"L\", \"L\", \"L\", \"L\", \"L\", \"L\", \"L\", \"L\", \"L\", \"L\", \"L\", \"L\"]]], \"pathtransforms\": [], \"alphas\": [null], \"edgecolors\": [\"#FF0000\"], \"facecolors\": [], \"edgewidths\": [3], \"offsetcoordinates\": \"display\", \"pathcoordinates\": \"data\", \"zorder\": 3, \"id\": \"el3363140368734555344\"}, {\"offsets\": \"data01\", \"xindex\": 0, \"yindex\": 0, \"paths\": [[[[2.217667459606731, -10.0], [2.116850710973413, -9.591836734693878], [2.0202577637453274, -9.183673469387756], [1.9278858311947544, -8.775510204081632], [1.8397321290448916, -8.36734693877551], [1.8367346938775508, -8.352774517610358], [1.7354501291447835, -7.959183673469388], [1.6356973416942164, -7.551020408163265], [1.541222995209063, -7.142857142857142], [1.452022737345813, -6.73469387755102], [1.4285714285714288, -6.620670185754378], [1.3478178411085742, -6.326530612244898], [1.2427990073157207, -5.918367346938775], [1.1448229236536902, -5.5102040816326525], [1.0538818469593698, -5.1020408163265305], [1.0204081632653068, -4.939258071790472], [0.9445882711091005, -4.6938775510204085], [0.8290386832505631, -4.285714285714286], [0.7240677116229297, -3.8775510204081627], [0.6296579086123428, -3.469387755102041], [0.612244897959183, -3.3846781852617984], [0.47878885214348177, -3.0612244897959187], [0.331657932377139, -2.6530612244897958], [0.2057712629441797, -2.244897959183673], [0.204081632653061, -2.2383190060590117], [-0.07492578849734559, -2.244897959183673], [-0.204081632653061, -2.2474458685913357], [-0.32697253617898153, -2.6530612244897958], [-0.4709927741742088, -3.0612244897959187], [-0.612244897959183, -3.412054929817702], [-0.6238274950945522, -3.4693877551020407], [-0.7165783971496777, -3.8775510204081627], [-0.8195661309070683, -4.285714285714286], [-0.9327739960960723, -4.6938775510204085], [-1.020408163265305, -4.983667872831557], [-1.0443137432309557, -5.1020408163265305], [-1.1336017486591814, -5.5102040816326525], [-1.229719917606694, -5.918367346938775], [-1.3326608169147969, -6.326530612244898], [-1.4285714285714288, -6.683188317820045], [-1.4389711817486228, -6.734693877551021], [-1.5265340649693264, -7.142857142857143], [-1.6192216722108563, -7.551020408163265], [-1.7170298192781397, -7.959183673469388], [-1.819954326529902, -8.36734693877551], [-1.8367346938775508, -8.430728699680888], [-1.9098252435239376, -8.775510204081632], [-2.0004558664976284, -9.183673469387756], [-2.095184597781009, -9.591836734693878], [-2.19400876065348, -10.0]], [\"M\", \"L\", \"L\", \"L\", \"L\", \"L\", \"L\", \"L\", \"L\", \"L\", \"L\", \"L\", \"L\", \"L\", \"L\", \"L\", \"L\", \"L\", \"L\", \"L\", \"L\", \"L\", \"L\", \"L\", \"L\", \"L\", \"L\", \"L\", \"L\", \"L\", \"L\", \"L\", \"L\", \"L\", \"L\", \"L\", \"L\", \"L\", \"L\", \"L\", \"L\", \"L\", \"L\", \"L\", \"L\", \"L\", \"L\", \"L\", \"L\", \"L\"]], [[[-2.2176674596067314, 10.0], [-2.116850710973413, 9.591836734693878], [-2.0202577637453274, 9.183673469387756], [-1.9278858311947547, 8.775510204081634], [-1.839732129044892, 8.367346938775512], [-1.8367346938775508, 8.352774517610358], [-1.735450129144784, 7.95918367346939], [-1.6356973416942164, 7.551020408163264], [-1.541222995209063, 7.142857142857142], [-1.452022737345813, 6.73469387755102], [-1.4285714285714288, 6.620670185754378], [-1.3478178411085742, 6.326530612244898], [-1.242799007315721, 5.918367346938776], [-1.1448229236536904, 5.510204081632654], [-1.0538818469593696, 5.1020408163265305], [-1.020408163265305, 4.939258071790465], [-0.9445882711091009, 4.6938775510204085], [-0.8290386832505635, 4.2857142857142865], [-0.7240677116229297, 3.8775510204081627], [-0.6296579086123428, 3.4693877551020407], [-0.612244897959183, 3.3846781852617984], [-0.47878885214348177, 3.0612244897959187], [-0.33165793237713925, 2.6530612244897966], [-0.20577126294418022, 2.2448979591836746], [-0.204081632653061, 2.2383190060590117], [0.07492578849743099, 2.2448979591836746], [0.204081632653061, 2.2474458685913357], [0.3269725361789818, 2.6530612244897966], [0.4709927741742088, 3.0612244897959187], [0.612244897959183, 3.412054929817702], [0.6238274950945522, 3.4693877551020407], [0.7165783971496775, 3.8775510204081627], [0.8195661309070683, 4.2857142857142865], [0.9327739960960719, 4.6938775510204085], [1.0204081632653068, 4.983667872831565], [1.044313743230956, 5.1020408163265305], [1.1336017486591818, 5.510204081632654], [1.2297199176066944, 5.918367346938776], [1.3326608169147969, 6.326530612244898], [1.4285714285714288, 6.683188317820045], [1.4389711817486228, 6.734693877551021], [1.5265340649693264, 7.142857142857143], [1.6192216722108563, 7.551020408163264], [1.7170298192781401, 7.95918367346939], [1.8199543265299025, 8.367346938775512], [1.8367346938775508, 8.430728699680888], [1.9098252435239378, 8.775510204081634], [2.000455866497628, 9.183673469387756], [2.0951845977810084, 9.591836734693878], [2.1940087606534795, 10.0]], [\"M\", \"L\", \"L\", \"L\", \"L\", \"L\", \"L\", \"L\", \"L\", \"L\", \"L\", \"L\", \"L\", \"L\", \"L\", \"L\", \"L\", \"L\", \"L\", \"L\", \"L\", \"L\", \"L\", \"L\", \"L\", \"L\", \"L\", \"L\", \"L\", \"L\", \"L\", \"L\", \"L\", \"L\", \"L\", \"L\", \"L\", \"L\", \"L\", \"L\", \"L\", \"L\", \"L\", \"L\", \"L\", \"L\", \"L\", \"L\", \"L\", \"L\"]]], \"pathtransforms\": [], \"alphas\": [null], \"edgecolors\": [\"#FF0000\"], \"facecolors\": [], \"edgewidths\": [3], \"offsetcoordinates\": \"display\", \"pathcoordinates\": \"data\", \"zorder\": 3, \"id\": \"el3363140368734556064\"}, {\"offsets\": \"data01\", \"xindex\": 0, \"yindex\": 0, \"paths\": [[[[2.164775274102815, -10.000000000000002], [2.0639701627732263, -9.591836734693878], [1.9673888477291335, -9.183673469387756], [1.8750285422461932, -8.775510204081632], [1.8367346938775508, -8.598203310650668], [1.7743541102013771, -8.36734693877551], [1.6693367159437222, -7.959183673469388], [1.5696021097799644, -7.551020408163264], [1.4751459345846079, -7.142857142857142], [1.4285714285714288, -6.929725734415299], [1.371675299284082, -6.73469387755102], [1.2596383246439586, -6.326530612244898], [1.1546518309263794, -5.918367346938775], [1.0567080636267001, -5.5102040816326525], [1.0204081632653068, -5.3472602716722335], [0.9383067825774223, -5.1020408163265305], [0.8122340180079215, -4.6938775510204085], [0.6967572754631076, -4.285714285714286], [0.612244897959183, -3.9569082943669924], [0.5712590584385694, -3.8775510204081627], [0.381721747183582, -3.4693877551020407], [0.2135691626892604, -3.0612244897959187], [0.204081632653061, -3.034879448945193], [-0.204081632653061, -3.0442074939703816], [-0.21009163426163768, -3.0612244897959187], [-0.3746851040486372, -3.4693877551020407], [-0.5595023504808735, -3.8775510204081627], [-0.612244897959183, -3.9824917531667783], [-0.6887961635199868, -4.285714285714286], [-0.8020751410059708, -4.6938775510204085], [-0.9255575086601397, -5.1020408163265305], [-1.020408163265305, -5.391624830468146], [-1.0463505612959283, -5.5102040816326525], [-1.1425003930909114, -5.918367346938775], [-1.245472932274368, -6.326530612244898], [-1.3552607564945327, -6.73469387755102], [-1.4285714285714288, -6.991295931966743], [-1.4610867648253312, -7.142857142857142], [-1.5537921888844926, -7.551020408163265], [-1.6516181430714485, -7.959183673469388], [-1.7545604477528407, -8.36734693877551], [-1.8367346938775508, -8.677730395379976], [-1.857463125858681, -8.775510204081632], [-1.9481051540796765, -9.183673469387756], [-2.0428452856429793, -9.591836734693878], [-2.1416808438312342, -10.0]], [\"M\", \"L\", \"L\", \"L\", \"L\", \"L\", \"L\", \"L\", \"L\", \"L\", \"L\", \"L\", \"L\", \"L\", \"L\", \"L\", \"L\", \"L\", \"L\", \"L\", \"L\", \"L\", \"L\", \"L\", \"L\", \"L\", \"L\", \"L\", \"L\", \"L\", \"L\", \"L\", \"L\", \"L\", \"L\", \"L\", \"L\", \"L\", \"L\", \"L\", \"L\", \"L\", \"L\", \"L\", \"L\", \"L\"]], [[[-2.1647752741028143, 10.0], [-2.0639701627732263, 9.591836734693878], [-1.9673888477291337, 9.183673469387756], [-1.8750285422461936, 8.775510204081634], [-1.8367346938775508, 8.598203310650668], [-1.7743541102013776, 8.367346938775512], [-1.6693367159437225, 7.95918367346939], [-1.569602109779964, 7.5510204081632635], [-1.4751459345846079, 7.142857142857142], [-1.4285714285714288, 6.929725734415299], [-1.371675299284082, 6.73469387755102], [-1.2596383246439586, 6.326530612244898], [-1.1546518309263796, 5.918367346938776], [-1.0567080636267001, 5.510204081632654], [-1.020408163265305, 5.347260271672228], [-0.9383067825774226, 5.1020408163265305], [-0.8122340180079217, 4.6938775510204085], [-0.696757275463108, 4.2857142857142865], [-0.612244897959183, 3.956908294366993], [-0.5712590584385694, 3.8775510204081627], [-0.381721747183582, 3.4693877551020407], [-0.2135691626892604, 3.0612244897959187], [-0.204081632653061, 3.034879448945193], [0.204081632653061, 3.0442074939703816], [0.21009163426163768, 3.0612244897959187], [0.3746851040486372, 3.4693877551020407], [0.5595023504808735, 3.8775510204081627], [0.612244897959183, 3.9824917531667783], [0.688796163519987, 4.2857142857142865], [0.8020751410059705, 4.6938775510204085], [0.9255575086601395, 5.1020408163265305], [1.0204081632653068, 5.391624830468153], [1.046350561295929, 5.510204081632654], [1.142500393090912, 5.918367346938776], [1.2454729322743683, 6.326530612244898], [1.3552607564945327, 6.73469387755102], [1.4285714285714288, 6.991295931966743], [1.4610867648253312, 7.142857142857142], [1.5537921888844923, 7.551020408163264], [1.651618143071449, 7.95918367346939], [1.7545604477528414, 8.367346938775512], [1.8367346938775508, 8.677730395379976], [1.8574631258586813, 8.775510204081634], [1.9481051540796765, 9.183673469387756], [2.0428452856429793, 9.591836734693878], [2.1416808438312342, 10.0]], [\"M\", \"L\", \"L\", \"L\", \"L\", \"L\", \"L\", \"L\", \"L\", \"L\", \"L\", \"L\", \"L\", \"L\", \"L\", \"L\", \"L\", \"L\", \"L\", \"L\", \"L\", \"L\", \"L\", \"L\", \"L\", \"L\", \"L\", \"L\", \"L\", \"L\", \"L\", \"L\", \"L\", \"L\", \"L\", \"L\", \"L\", \"L\", \"L\", \"L\", \"L\", \"L\", \"L\", \"L\", \"L\", \"L\"]]], \"pathtransforms\": [], \"alphas\": [null], \"edgecolors\": [\"#FF0000\"], \"facecolors\": [], \"edgewidths\": [3], \"offsetcoordinates\": \"display\", \"pathcoordinates\": \"data\", \"zorder\": 3, \"id\": \"el3363140368734589616\"}], \"images\": [], \"sharex\": [], \"sharey\": []}], \"data\": {\"data01\": [[0.0, 0.0]], \"data02\": [[0.5216442610605224, 0.9287159676232524], [0.6136236576756806, 0.9287159676232524]], \"data03\": [[0.5124463213990066, 0.8758278145695364], [0.9678072111846946, 0.8758278145695364], [0.9770051508462104, 0.8758278145695364], [0.9770051508462104, 0.8850257542310522], [0.9770051508462104, 0.9678072111846947], [0.9770051508462104, 0.9770051508462105], [0.9678072111846946, 0.9770051508462105], [0.5124463213990066, 0.9770051508462105], [0.5032483817374908, 0.9770051508462105], [0.5032483817374908, 0.9678072111846947], [0.5032483817374908, 0.8850257542310522], [0.5032483817374908, 0.8758278145695364], [0.5124463213990066, 0.8758278145695364]]}, \"id\": \"el3363140368734785152\", \"plugins\": [{\"type\": \"reset\"}, {\"type\": \"zoom\", \"button\": true, \"enabled\": false}, {\"type\": \"boxzoom\", \"button\": true, \"enabled\": false}]});\n",
       "      });\n",
       "    });\n",
       "}else{\n",
       "    // require.js not available: dynamically load d3 & mpld3\n",
       "    mpld3_load_lib(\"https://d3js.org/d3.v5.js\", function(){\n",
       "         mpld3_load_lib(\"https://mpld3.github.io/js/mpld3.v0.5.8.js\", function(){\n",
       "                 \n",
       "                 mpld3.draw_figure(\"fig_el33631403687347851521337347051\", {\"width\": 432.0, \"height\": 288.0, \"axes\": [{\"bbox\": [0.26083333333333336, 0.125, 0.5033333333333333, 0.755], \"xlim\": [-10.0, 10.0], \"ylim\": [-10.0, 10.0], \"xdomain\": [-10.0, 10.0], \"ydomain\": [-10.0, 10.0], \"xscale\": \"linear\", \"yscale\": \"linear\", \"axes\": [{\"position\": \"bottom\", \"nticks\": 5, \"tickvalues\": null, \"tickformat_formatter\": \"\", \"tickformat\": null, \"scale\": \"linear\", \"fontsize\": 10.0, \"grid\": {\"gridOn\": false}, \"visible\": true}, {\"position\": \"left\", \"nticks\": 9, \"tickvalues\": null, \"tickformat_formatter\": \"\", \"tickformat\": null, \"scale\": \"linear\", \"fontsize\": 10.0, \"grid\": {\"gridOn\": false}, \"visible\": true}], \"axesbg\": \"#FFFFFF\", \"axesbgalpha\": null, \"zoomable\": true, \"id\": \"el3363140368734861872\", \"lines\": [{\"data\": \"data01\", \"xindex\": 0, \"yindex\": 1, \"coordinates\": \"data\", \"id\": \"el3363140369757035008\", \"color\": \"#FF0000\", \"linewidth\": 3.0, \"dasharray\": \"none\", \"alpha\": 1, \"zorder\": 2, \"drawstyle\": \"default\"}, {\"data\": \"data02\", \"xindex\": 0, \"yindex\": 1, \"coordinates\": \"axes\", \"id\": \"el3363140368734592496\", \"color\": \"#FF0000\", \"linewidth\": 3.0, \"dasharray\": \"none\", \"alpha\": 1, \"zorder\": 1000002.0, \"drawstyle\": \"default\"}], \"paths\": [{\"data\": \"data03\", \"xindex\": 0, \"yindex\": 1, \"coordinates\": \"axes\", \"pathcodes\": [\"M\", \"L\", \"S\", \"L\", \"S\", \"L\", \"S\", \"L\", \"S\", \"Z\"], \"id\": \"el3363140368734591488\", \"dasharray\": \"none\", \"alpha\": 0.8, \"facecolor\": \"rgba(255, 255, 255, 0.8)\", \"edgecolor\": \"rgba(204, 204, 204, 0.8)\", \"edgewidth\": 1.0, \"zorder\": 1000000.0}], \"markers\": [], \"texts\": [{\"text\": \"$x_1$\", \"position\": [0.49999999999999994, -0.09657836644591611], \"coordinates\": \"axes\", \"h_anchor\": \"middle\", \"v_baseline\": \"hanging\", \"rotation\": -0.0, \"fontsize\": 10.0, \"color\": \"#000000\", \"alpha\": 1, \"zorder\": 3, \"id\": \"el3363140368734862832\"}, {\"text\": \"$x_2$\", \"position\": [-0.19200699043414277, 0.49999999999999994], \"coordinates\": \"axes\", \"h_anchor\": \"middle\", \"v_baseline\": \"auto\", \"rotation\": -90.0, \"fontsize\": 10.0, \"color\": \"#000000\", \"alpha\": 1, \"zorder\": 3, \"id\": \"el3363140368734859472\"}, {\"text\": \"$\\\\{ \\\\mathbf{x} : V(\\\\mathbf{x}) = \\\\rho \\\\}$\", \"position\": [0.6504154163217438, 0.9126195732155997], \"coordinates\": \"axes\", \"h_anchor\": \"start\", \"v_baseline\": \"auto\", \"rotation\": -0.0, \"fontsize\": 10.0, \"color\": \"#000000\", \"alpha\": 1, \"zorder\": 1000003.0, \"id\": \"el3363140368734591968\"}], \"collections\": [{\"offsets\": \"data01\", \"xindex\": 0, \"yindex\": 0, \"paths\": [[[[2.257456048380773, -10.0], [2.2448979591836746, -9.938951534475024], [2.159155149533562, -9.591836734693878], [2.062552896558283, -9.183673469387756], [1.9701716623536032, -8.775510204081632], [1.8820086626400219, -8.36734693877551], [1.8367346938775508, -8.14724164748743], [1.7883408597056325, -7.959183673469388], [1.6885735272256182, -7.551020408163265], [1.5940846437086273, -7.142857142857142], [1.5048698568045555, -6.73469387755102], [1.4285714285714288, -6.363719764800216], [1.4183614542802665, -6.326530612244898], [1.313316748427194, -5.918367346938775], [1.215314811675282, -5.5102040816326525], [1.1243479008405621, -5.1020408163265305], [1.0404082840859141, -4.6938775510204085], [1.0204081632653068, -4.587779038153016], [0.9348638094805275, -4.285714285714286], [0.829834625714953, -3.8775510204081627], [0.7353666745737195, -3.4693877551020407], [0.6514425466855059, -3.061224489795919], [0.612244897959183, -2.8433028057717635], [0.543599806979629, -2.6530612244897958], [0.4174797756135919, -2.244897959183673], [0.3125344111430636, -1.836734693877551], [0.22869392315605502, -1.4285714285714288], [0.204081632653061, -1.268725709334749], [-0.204081632653061, -1.277843393196299], [-0.2269485696200722, -1.4285714285714288], [-0.30947105239405337, -1.836734693877551], [-0.4124838850816581, -2.244897959183673], [-0.535920266645146, -2.6530612244897958], [-0.612244897959183, -2.869601274763023], [-0.6461171768876168, -3.061224489795918], [-0.7285574346017859, -3.4693877551020407], [-0.8212513228373224, -3.8775510204081627], [-0.9241821048167335, -4.285714285714286], [-1.020408163265305, -4.632796985735707], [-1.0317150109419913, -4.6938775510204085], [-1.1141400417972496, -5.1020408163265305], [-1.2034026985497834, -5.5102040816326525], [-1.29949553721932, -5.918367346938775], [-1.40241112462714, -6.326530612244898], [-1.4285714285714288, -6.423811547281802], [-1.49134328308263, -6.73469387755102], [-1.5788919050845225, -7.142857142857142], [-1.6715652588719476, -7.551020408163264], [-1.769359160243493, -7.959183673469388], [-1.8367346938775508, -8.226383768186171], [-1.8651942302202233, -8.36734693877551], [-1.951714937656143, -8.775510204081632], [-2.04233643643199, -9.183673469387756], [-2.1370560474914324, -9.591836734693878], [-2.235871094111276, -10.0]], [\"M\", \"L\", \"L\", \"L\", \"L\", \"L\", \"L\", \"L\", \"L\", \"L\", \"L\", \"L\", \"L\", \"L\", \"L\", \"L\", \"L\", \"L\", \"L\", \"L\", \"L\", \"L\", \"L\", \"L\", \"L\", \"L\", \"L\", \"L\", \"L\", \"L\", \"L\", \"L\", \"L\", \"L\", \"L\", \"L\", \"L\", \"L\", \"L\", \"L\", \"L\", \"L\", \"L\", \"L\", \"L\", \"L\", \"L\", \"L\", \"L\", \"L\", \"L\", \"L\", \"L\", \"L\", \"L\"]], [[[-2.2574560483807726, 10.0], [-2.244897959183673, 9.938951534475017], [-2.159155149533562, 9.591836734693878], [-2.062552896558283, 9.183673469387756], [-1.9701716623536036, 8.775510204081634], [-1.8820086626400219, 8.367346938775512], [-1.8367346938775508, 8.14724164748743], [-1.788340859705633, 7.95918367346939], [-1.6885735272256182, 7.551020408163264], [-1.5940846437086273, 7.142857142857142], [-1.5048698568045555, 6.73469387755102], [-1.4285714285714288, 6.363719764800216], [-1.4183614542802665, 6.326530612244898], [-1.313316748427194, 5.918367346938776], [-1.2153148116752823, 5.510204081632654], [-1.124347900840562, 5.1020408163265305], [-1.040408284085914, 4.6938775510204085], [-1.020408163265305, 4.587779038153008], [-0.934863809480528, 4.2857142857142865], [-0.8298346257149534, 3.8775510204081627], [-0.7353666745737197, 3.4693877551020407], [-0.6514425466855059, 3.0612244897959187], [-0.612244897959183, 2.8433028057717635], [-0.5435998069796293, 2.6530612244897966], [-0.4174797756135925, 2.2448979591836746], [-0.3125344111430636, 1.836734693877551], [-0.22869392315605502, 1.4285714285714288], [-0.204081632653061, 1.268725709334749], [0.20408163265306098, 1.2778433931962991], [0.2269485696200722, 1.4285714285714288], [0.30947105239405337, 1.836734693877551], [0.4124838850816587, 2.2448979591836746], [0.5359202666451462, 2.6530612244897966], [0.612244897959183, 2.8696012747630233], [0.6461171768876168, 3.061224489795918], [0.7285574346017858, 3.4693877551020407], [0.8212513228373222, 3.8775510204081627], [0.9241821048167334, 4.2857142857142865], [1.0204081632653068, 4.632796985735715], [1.0317150109419917, 4.6938775510204085], [1.11414004179725, 5.1020408163265305], [1.2034026985497839, 5.510204081632654], [1.2994955372193202, 5.918367346938776], [1.40241112462714, 6.326530612244898], [1.4285714285714288, 6.423811547281802], [1.49134328308263, 6.73469387755102], [1.5788919050845225, 7.142857142857142], [1.6715652588719474, 7.551020408163264], [1.7693591602434933, 7.95918367346939], [1.8367346938775508, 8.226383768186171], [1.8651942302202236, 8.367346938775512], [1.9517149376561433, 8.775510204081634], [2.04233643643199, 9.183673469387756], [2.1370560474914324, 9.591836734693878], [2.2358710941112765, 10.0]], [\"M\", \"L\", \"L\", \"L\", \"L\", \"L\", \"L\", \"L\", \"L\", \"L\", \"L\", \"L\", \"L\", \"L\", \"L\", \"L\", \"L\", \"L\", \"L\", \"L\", \"L\", \"L\", \"L\", \"L\", \"L\", \"L\", \"L\", \"L\", \"L\", \"L\", \"L\", \"L\", \"L\", \"L\", \"L\", \"L\", \"L\", \"L\", \"L\", \"L\", \"L\", \"L\", \"L\", \"L\", \"L\", \"L\", \"L\", \"L\", \"L\", \"L\", \"L\", \"L\", \"L\", \"L\", \"L\"]]], \"pathtransforms\": [], \"alphas\": [null], \"edgecolors\": [\"#FF0000\"], \"facecolors\": [], \"edgewidths\": [3], \"offsetcoordinates\": \"display\", \"pathcoordinates\": \"data\", \"zorder\": 3, \"id\": \"el3363140368734553904\"}, {\"offsets\": \"data01\", \"xindex\": 0, \"yindex\": 0, \"paths\": [[[[2.24864859859271, -10.0], [2.2448979591836746, -9.981767068455607], [2.1485790398935247, -9.591836734693878], [2.051979113355044, -9.183673469387756], [1.9596002045638912, -8.775510204081634], [1.871439529241239, -8.36734693877551], [1.8367346938775508, -8.19862486501816], [1.7751181770654203, -7.959183673469388], [1.6753544808427678, -7.551020408163265], [1.5808692315837365, -7.142857142857142], [1.4916580769398697, -6.7346938775510194], [1.4285714285714288, -6.427957370038756], [1.4007255509873433, -6.326530612244898], [1.2956873131493256, -5.918367346938775], [1.1976918396698841, -5.5102040816326525], [1.106731387370264, -5.1020408163265305], [1.0227982244185523, -4.6938775510204085], [1.0204081632653068, -4.68119853091368], [0.9084075279230364, -4.285714285714286], [0.8033928971919473, -3.8775510204081627], [0.7089394830833754, -3.4693877551020407], [0.6250298762523775, -3.0612244897959187], [0.612244897959183, -2.990145634548302], [0.49061433832900647, -2.6530612244897958], [0.36455264744623883, -2.244897959183673], [0.25966549512686943, -1.8367346938775508], [0.204081632653061, -1.5660466425456074], [-0.204081632653061, -1.5744798500983568], [-0.25712033997610156, -1.8367346938775508], [-0.3601901244543376, -2.244897959183673], [-0.48368333402860486, -2.6530612244897958], [-0.612244897959183, -3.017802292182477], [-0.6199204230201502, -3.0612244897959187], [-0.7023749497249775, -3.4693877551020402], [-0.7950830914154112, -3.8775510204081622], [-0.8980281113393171, -4.285714285714286], [-1.011193309150133, -4.6938775510204085], [-1.020408163265305, -4.724349404930101], [-1.096683467155676, -5.1020408163265305], [-1.1859524610771328, -5.5102040816326525], [-1.2820516323161633, -5.918367346938775], [-1.3849735476990541, -6.326530612244898], [-1.4285714285714288, -6.4886557399163625], [-1.478250257749128, -6.73469387755102], [-1.5658024450557235, -7.142857142857143], [-1.6584793622066747, -7.551020408163266], [-1.7562768250021548, -7.959183673469388], [-1.8367346938775508, -8.278266121127348], [-1.854719524643585, -8.36734693877551], [-1.9412425141230916, -8.775510204081632], [-2.0318662939483993, -9.183673469387756], [-2.1265881850638264, -9.591836734693878], [-2.2254055107468274, -10.0]], [\"M\", \"L\", \"L\", \"L\", \"L\", \"L\", \"L\", \"L\", \"L\", \"L\", \"L\", \"L\", \"L\", \"L\", \"L\", \"L\", \"L\", \"L\", \"L\", \"L\", \"L\", \"L\", \"L\", \"L\", \"L\", \"L\", \"L\", \"L\", \"L\", \"L\", \"L\", \"L\", \"L\", \"L\", \"L\", \"L\", \"L\", \"L\", \"L\", \"L\", \"L\", \"L\", \"L\", \"L\", \"L\", \"L\", \"L\", \"L\", \"L\", \"L\", \"L\", \"L\", \"L\"]], [[[-2.2486485985927094, 10.0], [-2.244897959183673, 9.981767068455598], [-2.148579039893525, 9.591836734693878], [-2.0519791133550442, 9.183673469387756], [-1.9596002045638912, 8.775510204081634], [-1.8714395292412394, 8.367346938775512], [-1.8367346938775508, 8.19862486501816], [-1.7751181770654207, 7.95918367346939], [-1.6753544808427676, 7.551020408163264], [-1.5808692315837365, 7.142857142857142], [-1.4916580769398697, 6.7346938775510194], [-1.4285714285714288, 6.427957370038756], [-1.4007255509873433, 6.326530612244898], [-1.2956873131493258, 5.918367346938776], [-1.1976918396698844, 5.510204081632654], [-1.1067313873702638, 5.1020408163265305], [-1.0227982244185518, 4.6938775510204085], [-1.020408163265305, 4.681198530913672], [-0.9084075279230369, 4.2857142857142865], [-0.8033928971919475, 3.8775510204081627], [-0.7089394830833755, 3.4693877551020407], [-0.6250298762523776, 3.0612244897959187], [-0.612244897959183, 2.9901456345483024], [-0.4906143383290067, 2.6530612244897966], [-0.3645526474462394, 2.2448979591836746], [-0.25966549512686943, 1.8367346938775508], [-0.204081632653061, 1.5660466425456074], [0.204081632653061, 1.5744798500983568], [0.25712033997610156, 1.8367346938775508], [0.3601901244543382, 2.2448979591836746], [0.4836833340286052, 2.6530612244897966], [0.612244897959183, 3.0178022921824765], [0.61992042302015, 3.0612244897959187], [0.7023749497249774, 3.4693877551020407], [0.795083091415411, 3.8775510204081627], [0.898028111339317, 4.2857142857142865], [1.0111933091501328, 4.6938775510204085], [1.0204081632653068, 4.724349404930108], [1.0966834671556764, 5.1020408163265305], [1.1859524610771333, 5.510204081632654], [1.2820516323161637, 5.918367346938776], [1.3849735476990541, 6.326530612244898], [1.4285714285714288, 6.4886557399163625], [1.478250257749128, 6.73469387755102], [1.5658024450557235, 7.142857142857143], [1.6584793622066747, 7.551020408163264], [1.756276825002155, 7.95918367346939], [1.8367346938775506, 8.278266121127348], [1.8547195246435852, 8.367346938775512], [1.9412425141230918, 8.775510204081634], [2.031866293948399, 9.183673469387756], [2.1265881850638264, 9.591836734693878], [2.225405510746827, 10.0]], [\"M\", \"L\", \"L\", \"L\", \"L\", \"L\", \"L\", \"L\", \"L\", \"L\", \"L\", \"L\", \"L\", \"L\", \"L\", \"L\", \"L\", \"L\", \"L\", \"L\", \"L\", \"L\", \"L\", \"L\", \"L\", \"L\", \"L\", \"L\", \"L\", \"L\", \"L\", \"L\", \"L\", \"L\", \"L\", \"L\", \"L\", \"L\", \"L\", \"L\", \"L\", \"L\", \"L\", \"L\", \"L\", \"L\", \"L\", \"L\", \"L\", \"L\", \"L\", \"L\", \"L\"]]], \"pathtransforms\": [], \"alphas\": [null], \"edgecolors\": [\"#FF0000\"], \"facecolors\": [], \"edgewidths\": [3], \"offsetcoordinates\": \"display\", \"pathcoordinates\": \"data\", \"zorder\": 3, \"id\": \"el3363140368734554624\"}, {\"offsets\": \"data01\", \"xindex\": 0, \"yindex\": 0, \"paths\": [[[[2.2388243338082976, -10.0], [2.1380029302534873, -9.591836734693878], [2.041405330151805, -9.183673469387756], [1.949028746774179, -8.775510204081632], [1.8608703958424566, -8.36734693877551], [1.8367346938775508, -8.250008082548893], [1.761895494425208, -7.959183673469388], [1.6621354344599173, -7.551020408163264], [1.5676538194588452, -7.142857142857142], [1.4784462970751842, -6.7346938775510194], [1.4285714285714288, -6.492194975277297], [1.38308964769442, -6.326530612244898], [1.2780578778714573, -5.918367346938775], [1.1800688676644862, -5.5102040816326525], [1.089114873899966, -5.1020408163265305], [1.0204081632653068, -4.76791962944508], [0.9975299723495721, -4.6938775510204085], [0.8819512463655452, -4.285714285714286], [0.7769511686689413, -3.8775510204081627], [0.6825122915930313, -3.4693877551020407], [0.612244897959183, -3.127555960067897], [0.5848767279251703, -3.0612244897959187], [0.43762886967838394, -2.6530612244897958], [0.3116255192788858, -2.244897959183673], [0.2067965791106753, -1.8367346938775508], [0.204081632653061, -1.823513166380636], [-0.204081632653061, -1.8333328387897936], [-0.2047696275581498, -1.8367346938775508], [-0.3078963638270171, -2.244897959183673], [-0.4314464014120638, -2.6530612244897958], [-0.5753532301392373, -3.0612244897959187], [-0.612244897959183, -3.152852988593654], [-0.676192464848169, -3.4693877551020407], [-0.7689148599935001, -3.8775510204081627], [-0.8718741178619009, -4.285714285714286], [-0.9850535381321128, -4.6938775510204085], [-1.020408163265305, -4.810788894230587], [-1.0792268925141026, -5.1020408163265305], [-1.1685022236044824, -5.5102040816326525], [-1.264607727413007, -5.918367346938775], [-1.3675359707709684, -6.326530612244898], [-1.4285714285714288, -6.553499932550924], [-1.4651572324156263, -6.73469387755102], [-1.5527129850269243, -7.142857142857142], [-1.6453934655414022, -7.551020408163265], [-1.7431944897608165, -7.959183673469388], [-1.8367346938775508, -8.330148474068524], [-1.8442448190669467, -8.36734693877551], [-1.9307700905900402, -8.775510204081632], [-2.021396151464809, -9.183673469387756], [-2.1161203226362204, -9.591836734693878], [-2.214939927382378, -10.0]], [\"M\", \"L\", \"L\", \"L\", \"L\", \"L\", \"L\", \"L\", \"L\", \"L\", \"L\", \"L\", \"L\", \"L\", \"L\", \"L\", \"L\", \"L\", \"L\", \"L\", \"L\", \"L\", \"L\", \"L\", \"L\", \"L\", \"L\", \"L\", \"L\", \"L\", \"L\", \"L\", \"L\", \"L\", \"L\", \"L\", \"L\", \"L\", \"L\", \"L\", \"L\", \"L\", \"L\", \"L\", \"L\", \"L\", \"L\", \"L\", \"L\", \"L\", \"L\", \"L\"]], [[[-2.2388243338082976, 9.999999999999998], [-2.1380029302534878, 9.591836734693878], [-2.041405330151805, 9.183673469387756], [-1.9490287467741791, 8.775510204081634], [-1.860870395842457, 8.367346938775512], [-1.8367346938775508, 8.250008082548895], [-1.7618954944252085, 7.95918367346939], [-1.6621354344599173, 7.551020408163264], [-1.5676538194588452, 7.142857142857142], [-1.4784462970751842, 6.7346938775510194], [-1.4285714285714288, 6.492194975277297], [-1.3830896476944203, 6.326530612244898], [-1.2780578778714575, 5.918367346938776], [-1.1800688676644864, 5.510204081632654], [-1.0891148738999656, 5.1020408163265305], [-1.020408163265305, 4.767919629445072], [-0.9975299723495725, 4.6938775510204085], [-0.8819512463655458, 4.2857142857142865], [-0.7769511686689415, 3.8775510204081627], [-0.6825122915930313, 3.4693877551020407], [-0.612244897959183, 3.127555960067897], [-0.5848767279251703, 3.0612244897959187], [-0.43762886967838427, 2.6530612244897966], [-0.3116255192788863, 2.2448979591836746], [-0.2067965791106753, 1.8367346938775508], [-0.204081632653061, 1.823513166380636], [0.204081632653061, 1.8333328387897936], [0.2047696275581498, 1.8367346938775508], [0.3078963638270177, 2.2448979591836746], [0.43144640141206403, 2.6530612244897966], [0.5753532301392373, 3.0612244897959187], [0.612244897959183, 3.152852988593654], [0.676192464848169, 3.4693877551020407], [0.7689148599934998, 3.8775510204081627], [0.8718741178619008, 4.2857142857142865], [0.9850535381321125, 4.6938775510204085], [1.0204081632653068, 4.810788894230594], [1.0792268925141029, 5.1020408163265305], [1.168502223604483, 5.510204081632654], [1.2646077274130072, 5.918367346938776], [1.3675359707709684, 6.326530612244898], [1.4285714285714288, 6.553499932550924], [1.4651572324156263, 6.73469387755102], [1.5527129850269243, 7.142857142857142], [1.6453934655414018, 7.551020408163264], [1.7431944897608167, 7.95918367346939], [1.8367346938775508, 8.330148474068524], [1.8442448190669471, 8.367346938775512], [1.9307700905900407, 8.775510204081634], [2.021396151464809, 9.183673469387756], [2.1161203226362204, 9.591836734693878], [2.2149399273823778, 10.0]], [\"M\", \"L\", \"L\", \"L\", \"L\", \"L\", \"L\", \"L\", \"L\", \"L\", \"L\", \"L\", \"L\", \"L\", \"L\", \"L\", \"L\", \"L\", \"L\", \"L\", \"L\", \"L\", \"L\", \"L\", \"L\", \"L\", \"L\", \"L\", \"L\", \"L\", \"L\", \"L\", \"L\", \"L\", \"L\", \"L\", \"L\", \"L\", \"L\", \"L\", \"L\", \"L\", \"L\", \"L\", \"L\", \"L\", \"L\", \"L\", \"L\", \"L\", \"L\", \"L\"]]], \"pathtransforms\": [], \"alphas\": [null], \"edgecolors\": [\"#FF0000\"], \"facecolors\": [], \"edgewidths\": [3], \"offsetcoordinates\": \"display\", \"pathcoordinates\": \"data\", \"zorder\": 3, \"id\": \"el3363140368734555344\"}, {\"offsets\": \"data01\", \"xindex\": 0, \"yindex\": 0, \"paths\": [[[[2.217667459606731, -10.0], [2.116850710973413, -9.591836734693878], [2.0202577637453274, -9.183673469387756], [1.9278858311947544, -8.775510204081632], [1.8397321290448916, -8.36734693877551], [1.8367346938775508, -8.352774517610358], [1.7354501291447835, -7.959183673469388], [1.6356973416942164, -7.551020408163265], [1.541222995209063, -7.142857142857142], [1.452022737345813, -6.73469387755102], [1.4285714285714288, -6.620670185754378], [1.3478178411085742, -6.326530612244898], [1.2427990073157207, -5.918367346938775], [1.1448229236536902, -5.5102040816326525], [1.0538818469593698, -5.1020408163265305], [1.0204081632653068, -4.939258071790472], [0.9445882711091005, -4.6938775510204085], [0.8290386832505631, -4.285714285714286], [0.7240677116229297, -3.8775510204081627], [0.6296579086123428, -3.469387755102041], [0.612244897959183, -3.3846781852617984], [0.47878885214348177, -3.0612244897959187], [0.331657932377139, -2.6530612244897958], [0.2057712629441797, -2.244897959183673], [0.204081632653061, -2.2383190060590117], [-0.07492578849734559, -2.244897959183673], [-0.204081632653061, -2.2474458685913357], [-0.32697253617898153, -2.6530612244897958], [-0.4709927741742088, -3.0612244897959187], [-0.612244897959183, -3.412054929817702], [-0.6238274950945522, -3.4693877551020407], [-0.7165783971496777, -3.8775510204081627], [-0.8195661309070683, -4.285714285714286], [-0.9327739960960723, -4.6938775510204085], [-1.020408163265305, -4.983667872831557], [-1.0443137432309557, -5.1020408163265305], [-1.1336017486591814, -5.5102040816326525], [-1.229719917606694, -5.918367346938775], [-1.3326608169147969, -6.326530612244898], [-1.4285714285714288, -6.683188317820045], [-1.4389711817486228, -6.734693877551021], [-1.5265340649693264, -7.142857142857143], [-1.6192216722108563, -7.551020408163265], [-1.7170298192781397, -7.959183673469388], [-1.819954326529902, -8.36734693877551], [-1.8367346938775508, -8.430728699680888], [-1.9098252435239376, -8.775510204081632], [-2.0004558664976284, -9.183673469387756], [-2.095184597781009, -9.591836734693878], [-2.19400876065348, -10.0]], [\"M\", \"L\", \"L\", \"L\", \"L\", \"L\", \"L\", \"L\", \"L\", \"L\", \"L\", \"L\", \"L\", \"L\", \"L\", \"L\", \"L\", \"L\", \"L\", \"L\", \"L\", \"L\", \"L\", \"L\", \"L\", \"L\", \"L\", \"L\", \"L\", \"L\", \"L\", \"L\", \"L\", \"L\", \"L\", \"L\", \"L\", \"L\", \"L\", \"L\", \"L\", \"L\", \"L\", \"L\", \"L\", \"L\", \"L\", \"L\", \"L\", \"L\"]], [[[-2.2176674596067314, 10.0], [-2.116850710973413, 9.591836734693878], [-2.0202577637453274, 9.183673469387756], [-1.9278858311947547, 8.775510204081634], [-1.839732129044892, 8.367346938775512], [-1.8367346938775508, 8.352774517610358], [-1.735450129144784, 7.95918367346939], [-1.6356973416942164, 7.551020408163264], [-1.541222995209063, 7.142857142857142], [-1.452022737345813, 6.73469387755102], [-1.4285714285714288, 6.620670185754378], [-1.3478178411085742, 6.326530612244898], [-1.242799007315721, 5.918367346938776], [-1.1448229236536904, 5.510204081632654], [-1.0538818469593696, 5.1020408163265305], [-1.020408163265305, 4.939258071790465], [-0.9445882711091009, 4.6938775510204085], [-0.8290386832505635, 4.2857142857142865], [-0.7240677116229297, 3.8775510204081627], [-0.6296579086123428, 3.4693877551020407], [-0.612244897959183, 3.3846781852617984], [-0.47878885214348177, 3.0612244897959187], [-0.33165793237713925, 2.6530612244897966], [-0.20577126294418022, 2.2448979591836746], [-0.204081632653061, 2.2383190060590117], [0.07492578849743099, 2.2448979591836746], [0.204081632653061, 2.2474458685913357], [0.3269725361789818, 2.6530612244897966], [0.4709927741742088, 3.0612244897959187], [0.612244897959183, 3.412054929817702], [0.6238274950945522, 3.4693877551020407], [0.7165783971496775, 3.8775510204081627], [0.8195661309070683, 4.2857142857142865], [0.9327739960960719, 4.6938775510204085], [1.0204081632653068, 4.983667872831565], [1.044313743230956, 5.1020408163265305], [1.1336017486591818, 5.510204081632654], [1.2297199176066944, 5.918367346938776], [1.3326608169147969, 6.326530612244898], [1.4285714285714288, 6.683188317820045], [1.4389711817486228, 6.734693877551021], [1.5265340649693264, 7.142857142857143], [1.6192216722108563, 7.551020408163264], [1.7170298192781401, 7.95918367346939], [1.8199543265299025, 8.367346938775512], [1.8367346938775508, 8.430728699680888], [1.9098252435239378, 8.775510204081634], [2.000455866497628, 9.183673469387756], [2.0951845977810084, 9.591836734693878], [2.1940087606534795, 10.0]], [\"M\", \"L\", \"L\", \"L\", \"L\", \"L\", \"L\", \"L\", \"L\", \"L\", \"L\", \"L\", \"L\", \"L\", \"L\", \"L\", \"L\", \"L\", \"L\", \"L\", \"L\", \"L\", \"L\", \"L\", \"L\", \"L\", \"L\", \"L\", \"L\", \"L\", \"L\", \"L\", \"L\", \"L\", \"L\", \"L\", \"L\", \"L\", \"L\", \"L\", \"L\", \"L\", \"L\", \"L\", \"L\", \"L\", \"L\", \"L\", \"L\", \"L\"]]], \"pathtransforms\": [], \"alphas\": [null], \"edgecolors\": [\"#FF0000\"], \"facecolors\": [], \"edgewidths\": [3], \"offsetcoordinates\": \"display\", \"pathcoordinates\": \"data\", \"zorder\": 3, \"id\": \"el3363140368734556064\"}, {\"offsets\": \"data01\", \"xindex\": 0, \"yindex\": 0, \"paths\": [[[[2.164775274102815, -10.000000000000002], [2.0639701627732263, -9.591836734693878], [1.9673888477291335, -9.183673469387756], [1.8750285422461932, -8.775510204081632], [1.8367346938775508, -8.598203310650668], [1.7743541102013771, -8.36734693877551], [1.6693367159437222, -7.959183673469388], [1.5696021097799644, -7.551020408163264], [1.4751459345846079, -7.142857142857142], [1.4285714285714288, -6.929725734415299], [1.371675299284082, -6.73469387755102], [1.2596383246439586, -6.326530612244898], [1.1546518309263794, -5.918367346938775], [1.0567080636267001, -5.5102040816326525], [1.0204081632653068, -5.3472602716722335], [0.9383067825774223, -5.1020408163265305], [0.8122340180079215, -4.6938775510204085], [0.6967572754631076, -4.285714285714286], [0.612244897959183, -3.9569082943669924], [0.5712590584385694, -3.8775510204081627], [0.381721747183582, -3.4693877551020407], [0.2135691626892604, -3.0612244897959187], [0.204081632653061, -3.034879448945193], [-0.204081632653061, -3.0442074939703816], [-0.21009163426163768, -3.0612244897959187], [-0.3746851040486372, -3.4693877551020407], [-0.5595023504808735, -3.8775510204081627], [-0.612244897959183, -3.9824917531667783], [-0.6887961635199868, -4.285714285714286], [-0.8020751410059708, -4.6938775510204085], [-0.9255575086601397, -5.1020408163265305], [-1.020408163265305, -5.391624830468146], [-1.0463505612959283, -5.5102040816326525], [-1.1425003930909114, -5.918367346938775], [-1.245472932274368, -6.326530612244898], [-1.3552607564945327, -6.73469387755102], [-1.4285714285714288, -6.991295931966743], [-1.4610867648253312, -7.142857142857142], [-1.5537921888844926, -7.551020408163265], [-1.6516181430714485, -7.959183673469388], [-1.7545604477528407, -8.36734693877551], [-1.8367346938775508, -8.677730395379976], [-1.857463125858681, -8.775510204081632], [-1.9481051540796765, -9.183673469387756], [-2.0428452856429793, -9.591836734693878], [-2.1416808438312342, -10.0]], [\"M\", \"L\", \"L\", \"L\", \"L\", \"L\", \"L\", \"L\", \"L\", \"L\", \"L\", \"L\", \"L\", \"L\", \"L\", \"L\", \"L\", \"L\", \"L\", \"L\", \"L\", \"L\", \"L\", \"L\", \"L\", \"L\", \"L\", \"L\", \"L\", \"L\", \"L\", \"L\", \"L\", \"L\", \"L\", \"L\", \"L\", \"L\", \"L\", \"L\", \"L\", \"L\", \"L\", \"L\", \"L\", \"L\"]], [[[-2.1647752741028143, 10.0], [-2.0639701627732263, 9.591836734693878], [-1.9673888477291337, 9.183673469387756], [-1.8750285422461936, 8.775510204081634], [-1.8367346938775508, 8.598203310650668], [-1.7743541102013776, 8.367346938775512], [-1.6693367159437225, 7.95918367346939], [-1.569602109779964, 7.5510204081632635], [-1.4751459345846079, 7.142857142857142], [-1.4285714285714288, 6.929725734415299], [-1.371675299284082, 6.73469387755102], [-1.2596383246439586, 6.326530612244898], [-1.1546518309263796, 5.918367346938776], [-1.0567080636267001, 5.510204081632654], [-1.020408163265305, 5.347260271672228], [-0.9383067825774226, 5.1020408163265305], [-0.8122340180079217, 4.6938775510204085], [-0.696757275463108, 4.2857142857142865], [-0.612244897959183, 3.956908294366993], [-0.5712590584385694, 3.8775510204081627], [-0.381721747183582, 3.4693877551020407], [-0.2135691626892604, 3.0612244897959187], [-0.204081632653061, 3.034879448945193], [0.204081632653061, 3.0442074939703816], [0.21009163426163768, 3.0612244897959187], [0.3746851040486372, 3.4693877551020407], [0.5595023504808735, 3.8775510204081627], [0.612244897959183, 3.9824917531667783], [0.688796163519987, 4.2857142857142865], [0.8020751410059705, 4.6938775510204085], [0.9255575086601395, 5.1020408163265305], [1.0204081632653068, 5.391624830468153], [1.046350561295929, 5.510204081632654], [1.142500393090912, 5.918367346938776], [1.2454729322743683, 6.326530612244898], [1.3552607564945327, 6.73469387755102], [1.4285714285714288, 6.991295931966743], [1.4610867648253312, 7.142857142857142], [1.5537921888844923, 7.551020408163264], [1.651618143071449, 7.95918367346939], [1.7545604477528414, 8.367346938775512], [1.8367346938775508, 8.677730395379976], [1.8574631258586813, 8.775510204081634], [1.9481051540796765, 9.183673469387756], [2.0428452856429793, 9.591836734693878], [2.1416808438312342, 10.0]], [\"M\", \"L\", \"L\", \"L\", \"L\", \"L\", \"L\", \"L\", \"L\", \"L\", \"L\", \"L\", \"L\", \"L\", \"L\", \"L\", \"L\", \"L\", \"L\", \"L\", \"L\", \"L\", \"L\", \"L\", \"L\", \"L\", \"L\", \"L\", \"L\", \"L\", \"L\", \"L\", \"L\", \"L\", \"L\", \"L\", \"L\", \"L\", \"L\", \"L\", \"L\", \"L\", \"L\", \"L\", \"L\", \"L\"]]], \"pathtransforms\": [], \"alphas\": [null], \"edgecolors\": [\"#FF0000\"], \"facecolors\": [], \"edgewidths\": [3], \"offsetcoordinates\": \"display\", \"pathcoordinates\": \"data\", \"zorder\": 3, \"id\": \"el3363140368734589616\"}], \"images\": [], \"sharex\": [], \"sharey\": []}], \"data\": {\"data01\": [[0.0, 0.0]], \"data02\": [[0.5216442610605224, 0.9287159676232524], [0.6136236576756806, 0.9287159676232524]], \"data03\": [[0.5124463213990066, 0.8758278145695364], [0.9678072111846946, 0.8758278145695364], [0.9770051508462104, 0.8758278145695364], [0.9770051508462104, 0.8850257542310522], [0.9770051508462104, 0.9678072111846947], [0.9770051508462104, 0.9770051508462105], [0.9678072111846946, 0.9770051508462105], [0.5124463213990066, 0.9770051508462105], [0.5032483817374908, 0.9770051508462105], [0.5032483817374908, 0.9678072111846947], [0.5032483817374908, 0.8850257542310522], [0.5032483817374908, 0.8758278145695364], [0.5124463213990066, 0.8758278145695364]]}, \"id\": \"el3363140368734785152\", \"plugins\": [{\"type\": \"reset\"}, {\"type\": \"zoom\", \"button\": true, \"enabled\": false}, {\"type\": \"boxzoom\", \"button\": true, \"enabled\": false}]});\n",
       "            })\n",
       "         });\n",
       "}\n",
       "</script>"
      ],
      "text/plain": [
       "<Figure size 432x288 with 1 Axes>"
      ]
     },
     "metadata": {
      "needs_background": "light"
     },
     "output_type": "display_data"
    }
   ],
   "source": [
    "xlim = (-10, 10)\n",
    "\n",
    "def plot_V(rho):\n",
    "    # grid of the state space\n",
    "    x1 = np.linspace(*xlim)\n",
    "    x2 = np.linspace(*xlim)\n",
    "    X1, X2 = np.meshgrid(x1, x2)\n",
    "    \n",
    "    # function that evaluates V(x) at a given x\n",
    "    # (looks bad, but it must accept meshgrids)\n",
    "    eval_V = lambda x: sum(sum(x[i]*x[j]*Pij for j, Pij in enumerate(Pi)) for i, Pi in enumerate(S))\n",
    "    \n",
    "    # contour plot with only the rho level set\n",
    "    cs = plt.contour(X1, X2, eval_V([X1, X2]), levels=[rho, 2, 3, 5, 10], colors='r', linewidths=3, zorder=3)\n",
    "    \n",
    "    # misc plot settings\n",
    "    plt.xlabel(r'$x_1$')\n",
    "    plt.ylabel(r'$x_2$')\n",
    "    plt.gca().set_aspect('equal')\n",
    "    \n",
    "    # fake plot for legend\n",
    "    plt.plot(0, 0, color='r', linewidth=3, label=r'$\\{ \\mathbf{x} : V(\\mathbf{x}) = \\rho \\}$')\n",
    "    plt.legend()\n",
    "    \n",
    "    return cs\n",
    "\n",
    "f = lambda x: [-x[0] + x[1], 0.1*x[0] - 2*x[1] - x[0]**2 - 0.1*x[0]**3]\n",
    "\n",
    "v = plot_V(1)\n",
    "#plot_2d_phase_portrait(f, x1lim=xlim, x2lim=xlim)"
   ]
  },
  {
   "cell_type": "code",
   "execution_count": 31,
   "metadata": {
    "scrolled": false
   },
   "outputs": [
    {
     "data": {
      "text/markdown": [
       "$V(x) = ( - 0.050968x_{0} x_{1} - 23.285194x_{0}^{2} + 1.186290x_{1}^{2})$"
      ],
      "text/plain": [
       "<IPython.core.display.Markdown object>"
      ]
     },
     "metadata": {},
     "output_type": "display_data"
    },
    {
     "name": "stdout",
     "output_type": "stream",
     "text": [
      "Status of first solver on step 0: 5\n"
     ]
    },
    {
     "ename": "AssertionError",
     "evalue": "",
     "output_type": "error",
     "traceback": [
      "\u001b[0;31m---------------------------------------------------------------------------\u001b[0m",
      "\u001b[0;31mAssertionError\u001b[0m                            Traceback (most recent call last)",
      "\u001b[0;32m<ipython-input-31-afe05de2490c>\u001b[0m in \u001b[0;36m<module>\u001b[0;34m\u001b[0m\n\u001b[1;32m     96\u001b[0m \u001b[0;34m\u001b[0m\u001b[0m\n\u001b[1;32m     97\u001b[0m \u001b[0;34m\u001b[0m\u001b[0m\n\u001b[0;32m---> 98\u001b[0;31m \u001b[0mV\u001b[0m\u001b[0;34m,\u001b[0m \u001b[0mQ\u001b[0m \u001b[0;34m=\u001b[0m \u001b[0msetup_solver\u001b[0m\u001b[0;34m(\u001b[0m\u001b[0;34m)\u001b[0m\u001b[0;34m\u001b[0m\u001b[0;34m\u001b[0m\u001b[0m\n\u001b[0m",
      "\u001b[0;32m<ipython-input-31-afe05de2490c>\u001b[0m in \u001b[0;36msetup_solver\u001b[0;34m()\u001b[0m\n\u001b[1;32m     80\u001b[0m \u001b[0;34m\u001b[0m\u001b[0m\n\u001b[1;32m     81\u001b[0m     \u001b[0;32mfor\u001b[0m \u001b[0mi\u001b[0m \u001b[0;32min\u001b[0m \u001b[0mrange\u001b[0m\u001b[0;34m(\u001b[0m\u001b[0;36m2\u001b[0m\u001b[0;34m)\u001b[0m\u001b[0;34m:\u001b[0m\u001b[0;34m\u001b[0m\u001b[0;34m\u001b[0m\u001b[0m\n\u001b[0;32m---> 82\u001b[0;31m         \u001b[0mlambda_\u001b[0m \u001b[0;34m=\u001b[0m \u001b[0mfindLambda\u001b[0m\u001b[0;34m(\u001b[0m\u001b[0mx\u001b[0m\u001b[0;34m,\u001b[0m \u001b[0mV\u001b[0m\u001b[0;34m,\u001b[0m \u001b[0mVdot\u001b[0m\u001b[0;34m,\u001b[0m \u001b[0mcount\u001b[0m\u001b[0;34m)\u001b[0m\u001b[0;34m\u001b[0m\u001b[0;34m\u001b[0m\u001b[0m\n\u001b[0m\u001b[1;32m     83\u001b[0m \u001b[0;34m\u001b[0m\u001b[0m\n\u001b[1;32m     84\u001b[0m         display(Markdown(\"$\\lambda (x) = \" + ToLatex(\n",
      "\u001b[0;32m<ipython-input-31-afe05de2490c>\u001b[0m in \u001b[0;36mfindLambda\u001b[0;34m(x, V, Vdot, count)\u001b[0m\n\u001b[1;32m     21\u001b[0m \u001b[0;34m\u001b[0m\u001b[0m\n\u001b[1;32m     22\u001b[0m     \u001b[0mprint\u001b[0m\u001b[0;34m(\u001b[0m\u001b[0;34m'Status of first solver on step '\u001b[0m \u001b[0;34m+\u001b[0m \u001b[0mstr\u001b[0m\u001b[0;34m(\u001b[0m\u001b[0mcount\u001b[0m\u001b[0;34m)\u001b[0m \u001b[0;34m+\u001b[0m \u001b[0;34m': '\u001b[0m \u001b[0;34m+\u001b[0m \u001b[0mstr\u001b[0m\u001b[0;34m(\u001b[0m\u001b[0mk\u001b[0m\u001b[0;34m)\u001b[0m\u001b[0;34m)\u001b[0m\u001b[0;34m\u001b[0m\u001b[0;34m\u001b[0m\u001b[0m\n\u001b[0;32m---> 23\u001b[0;31m     \u001b[0;32massert\u001b[0m \u001b[0mresult\u001b[0m\u001b[0;34m.\u001b[0m\u001b[0mis_success\u001b[0m\u001b[0;34m(\u001b[0m\u001b[0;34m)\u001b[0m\u001b[0;34m\u001b[0m\u001b[0;34m\u001b[0m\u001b[0m\n\u001b[0m\u001b[1;32m     24\u001b[0m \u001b[0;34m\u001b[0m\u001b[0m\n\u001b[1;32m     25\u001b[0m     \u001b[0;32mreturn\u001b[0m \u001b[0mresult\u001b[0m\u001b[0;34m.\u001b[0m\u001b[0mGetSolution\u001b[0m\u001b[0;34m(\u001b[0m\u001b[0mlambda_\u001b[0m\u001b[0;34m)\u001b[0m\u001b[0;34m\u001b[0m\u001b[0;34m\u001b[0m\u001b[0m\n",
      "\u001b[0;31mAssertionError\u001b[0m: "
     ]
    }
   ],
   "source": [
    "#THIS CODE WORKS\n",
    "from pydrake.solvers.mathematicalprogram import MathematicalProgram, SolverOptions, Solve\n",
    "from pydrake.solvers.csdp import CsdpSolver\n",
    "from pydrake.solvers.mosek import MosekSolver\n",
    "\n",
    "def findLambda(x, V, Vdot, count):\n",
    "    prog = MathematicalProgram()\n",
    "    prog.AddIndeterminates(x)\n",
    "    \n",
    "    #V = Polynomial(V).RemoveTermsWithSmallCoefficients(1e-5).ToExpression()\n",
    "    \n",
    "    lambda_ = prog.NewSosPolynomial(Variables(x), 2)[0].ToExpression()\n",
    "        \n",
    "    prog.AddSosConstraint(-Vdot - lambda_*(1 - V))\n",
    "    prog.AddSosConstraint(lambda_)\n",
    "    \n",
    "    solver = MosekSolver()\n",
    "    result = solver.Solve(prog)\n",
    "    \n",
    "    k = result.get_solver_details().solution_status\n",
    "        \n",
    "    print('Status of first solver on step ' + str(count) + ': ' + str(k))\n",
    "    assert result.is_success()\n",
    "    \n",
    "    return result.GetSolution(lambda_)\n",
    "\n",
    "\n",
    "def findV(x, lambda_, f, count):\n",
    "    prog = MathematicalProgram()\n",
    "    prog.AddIndeterminates(x)\n",
    "    \n",
    "    lambda_ = Polynomial(lambda_).RemoveTermsWithSmallCoefficients(1e-2).ToExpression()\n",
    "        \n",
    "    temp, Q = prog.NewSosPolynomial(Variables(x), 2)\n",
    "    V = temp.ToExpression()\n",
    "            \n",
    "    prog.AddLinearConstraint(V.Substitute({x[0]: 0, x[1]:0}) == 0)\n",
    "    \n",
    "    Vdot = V.Jacobian(x).dot(f)\n",
    "    \n",
    "    prog.AddSosConstraint(-Vdot - lambda_*(1 - V))\n",
    "    \n",
    "#     prog.AddSosConstraint(np.trace(Q))\n",
    "    \n",
    "    A = Q[0, 0]\n",
    "    B = 2*Q[1, 0]\n",
    "    C = Q[1, 1]\n",
    "    \n",
    "    prog.AddCost(A)\n",
    "    prog.AddCost(C)\n",
    "    prog.AddCost(-B)\n",
    "    \n",
    "    solver = MosekSolver()\n",
    "    result = solver.Solve(prog)\n",
    "        \n",
    "    k = result.get_solver_details().solution_status\n",
    "                \n",
    "    print('Status of second solver on step ' + str(count) + ': ' + str(k))\n",
    "    assert result.is_success()\n",
    "    \n",
    "    return result.GetSolution(V), result.GetSolution(Q)\n",
    "\n",
    "def setup_solver():  \n",
    "    count = 0\n",
    "    prog = MathematicalProgram()\n",
    "    x = prog.NewIndeterminates(2, \"x\")\n",
    "    \n",
    "    f0 = x[1]\n",
    "    f1 = (-b/(m*length**2))*x[1] - (grav/length)*(x[0] - (x[0]**3)/6)\n",
    "    \n",
    "    f = np.array([f0, f1])\n",
    "    \n",
    "    V = x.T@P@x\n",
    "    \n",
    "    display(Markdown(\"$V(x) = \" + ToLatex(\n",
    "    Polynomial(V).RemoveTermsWithSmallCoefficients(1e-5).ToExpression(),6) + \"$\"))\n",
    "        \n",
    "    #Vdot = x.T@P@A@x + x.T@A.T@P@x\n",
    "    Vdot = V.Jacobian(x).dot(f)\n",
    "    \n",
    "    for i in range(2): \n",
    "        lambda_ = findLambda(x, V, Vdot, count)\n",
    "        \n",
    "        display(Markdown(\"$\\lambda (x) = \" + ToLatex(\n",
    "        Polynomial(lambda_).RemoveTermsWithSmallCoefficients(1e-5).ToExpression(),6) + \"$\"))\n",
    "        \n",
    "        V, Q = findV(x, lambda_, f, count)\n",
    "        \n",
    "        display(Markdown(\"$V(x) = \" + ToLatex(\n",
    "        Polynomial(V).RemoveTermsWithSmallCoefficients(1e-5).ToExpression(),6) + \"$\"))\n",
    "        \n",
    "        Vdot = V.Jacobian(x).dot(f)\n",
    "        \n",
    "        count += 1\n",
    "    return V, Q\n",
    "    \n",
    "    \n",
    "V, Q = setup_solver()"
   ]
  },
  {
   "cell_type": "code",
   "execution_count": 96,
   "metadata": {},
   "outputs": [],
   "source": [
    "from pydrake.examples.pendulum import PendulumParams, PendulumPlant\n",
    "\n",
    "\n",
    "plant = PendulumPlant()\n",
    "context = plant.CreateDefaultContext()\n",
    "plant.get_input_port().FixValue(context, [0])\n",
    "context.SetContinuousState([0, 0])\n",
    "\n",
    "linearized_plant = Linearize(plant, context)\n",
    "\n",
    "A = linearized_plant.A()\n",
    "Q = np.eye(2)\n",
    "P = RealContinuousLyapunovEquation(A, Q)\n",
    "\n",
    "\n",
    "p = PendulumParams()\n",
    "\n",
    "b = p.damping()\n",
    "m = p.mass()\n",
    "length = p.length()\n",
    "g = p.gravity()\n",
    "grav = p.gravity()"
   ]
  },
  {
   "cell_type": "code",
   "execution_count": 99,
   "metadata": {},
   "outputs": [
    {
     "data": {
      "text/plain": [
       "array([[2.57851937e+01, 2.54841998e-02],\n",
       "       [2.54841998e-02, 1.31371050e+00]])"
      ]
     },
     "execution_count": 99,
     "metadata": {},
     "output_type": "execute_result"
    }
   ],
   "source": [
    "P"
   ]
  },
  {
   "cell_type": "code",
   "execution_count": 100,
   "metadata": {},
   "outputs": [
    {
     "name": "stdout",
     "output_type": "stream",
     "text": [
      "(7.7145366481577877 + 4.309693108347967e-17 * x(0) - 4.7275115492219172e-17 * x(1) - 6.5773710708934292 * (x(0) * x(1)) - 0.13018825820217347 * pow(x(0), 2))\n",
      "Method 3 verified rho = 6.234526607414852.\n"
     ]
    }
   ],
   "source": [
    "# initialize optimization problem\n",
    "# initialize optimization problem\n",
    "prog3 = MathematicalProgram()\n",
    "\n",
    "# SOS indeterminates\n",
    "x = prog3.NewIndeterminates(2, 'x')\n",
    "\n",
    "f0 = x[1]\n",
    "f1 = (-b/(m*length**2))*x[1] - (grav/length)*(x[0] - (x[0]**3)/6 + (x[0]**5)/120 - (x[0]**7)/5040)\n",
    "    \n",
    "f = np.array([f0, f1])\n",
    "\n",
    "# Lyapunov function\n",
    "V = x.dot(P).dot(x)\n",
    "V_dot = 2*x.dot(P).dot(f)\n",
    "\n",
    "# degree of the polynomial lambda(x)\n",
    "# no need to change it, but if you really want to,\n",
    "# keep l_deg even and do not set l_deg greater than 10\n",
    "l_deg = 2\n",
    "assert l_deg % 2 == 0\n",
    "\n",
    "# SOS Lagrange multipliers\n",
    "l = prog3.NewFreePolynomial(Variables(x), l_deg).ToExpression()\n",
    "\n",
    "# level set as optimization variable\n",
    "rho = prog3.NewContinuousVariables(1, 'rho')[0]\n",
    "\n",
    "# write here the SOS condition described in the \"Not quite there yet...\" section above\n",
    "prog3.AddSosConstraint(x.dot(x)*(V - rho) - l*V_dot)\n",
    "\n",
    "# insert here the objective function (maximize rho)\n",
    "prog3.AddLinearCost(-rho)\n",
    "\n",
    "\n",
    "# solve SOS program\n",
    "result = Solve(prog3)\n",
    "\n",
    "# get maximum rho\n",
    "assert result.is_success(), str(result.get_solver_details().solution_status)\n",
    "rho_method_3 = result.GetSolution(rho)\n",
    "print(result.GetSolution(l))\n",
    "\n",
    "\n",
    "# print maximum rho\n",
    "print(f'Method 3 verified rho = {rho_method_3}.')"
   ]
  },
  {
   "cell_type": "code",
   "execution_count": null,
   "metadata": {},
   "outputs": [],
   "source": []
  }
 ],
 "metadata": {
  "kernelspec": {
   "display_name": "Python 3",
   "language": "python",
   "name": "python3"
  },
  "language_info": {
   "codemirror_mode": {
    "name": "ipython",
    "version": 3
   },
   "file_extension": ".py",
   "mimetype": "text/x-python",
   "name": "python",
   "nbconvert_exporter": "python",
   "pygments_lexer": "ipython3",
   "version": "3.8.10"
  }
 },
 "nbformat": 4,
 "nbformat_minor": 4
}
