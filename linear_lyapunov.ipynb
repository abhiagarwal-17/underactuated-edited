{
 "cells": [
  {
   "cell_type": "markdown",
   "metadata": {},
   "source": [
    "## Pendulum Downward Using Lyapunov and Upward using LQR and Lyapunov"
   ]
  },
  {
   "cell_type": "code",
   "execution_count": 1,
   "metadata": {},
   "outputs": [],
   "source": [
    "import scipy\n",
    "import control\n",
    "import numpy as np\n",
    "import sympy as sp\n",
    "from sympy.physics.vector import dynamicsymbols as dynamicsymbols\n",
    "\n",
    "from pydrake.all import (LinearQuadraticRegulator, MathematicalProgram, Variables,\n",
    "                         Solve, RealContinuousLyapunovEquation)\n",
    "\n",
    "import matplotlib.pyplot as plt\n",
    "import mpld3\n",
    "import numpy as np\n",
    "from IPython.display import Markdown, display\n",
    "from pydrake.all import (Jacobian, MathematicalProgram, Polynomial,\n",
    "                         RegionOfAttraction, RegionOfAttractionOptions, Solve,\n",
    "                         SymbolicVectorSystem, ToLatex, Variable, Variables,\n",
    "                         plot_sublevelset_expression)\n",
    "from pydrake.examples.pendulum import PendulumParams\n",
    "from pydrake.examples.van_der_pol import VanDerPolOscillator\n",
    "from pydrake.symbolic import Polynomial\n",
    "\n",
    "from underactuated import plot_2d_phase_portrait, running_as_notebook\n",
    "\n",
    "from pydrake.all import (AddMultibodyPlantSceneGraph, ControllabilityMatrix,\n",
    "                         DiagramBuilder, Linearize, LinearQuadraticRegulator,\n",
    "                         MeshcatVisualizerCpp, Parser, Saturation, SceneGraph,\n",
    "                         Simulator, StartMeshcat, WrapToSystem)\n",
    "\n",
    "if running_as_notebook:\n",
    "    mpld3.enable_notebook()\n",
    "\n",
    "import math"
   ]
  },
  {
   "cell_type": "code",
   "execution_count": 2,
   "metadata": {},
   "outputs": [],
   "source": [
    "from pydrake.examples.pendulum import PendulumParams, PendulumPlant\n",
    "\n",
    "p = PendulumParams()\n",
    "\n",
    "b = p.damping()\n",
    "m = p.mass()\n",
    "length = p.length()\n",
    "g = p.gravity()\n",
    "grav = p.gravity()"
   ]
  },
  {
   "cell_type": "markdown",
   "metadata": {},
   "source": [
    "## Simple Pendulum Example\n",
    "\n",
    "Take the Lyapunov function at the vertical down position and verify that it will grow as the alternations converge. "
   ]
  },
  {
   "cell_type": "code",
   "execution_count": 4,
   "metadata": {},
   "outputs": [],
   "source": [
    "# explicit dynamics\n",
    "plant = PendulumPlant()\n",
    "context = plant.CreateDefaultContext()\n",
    "plant.get_input_port().FixValue(context, [0])\n",
    "context.SetContinuousState([0, 0])\n",
    "\n",
    "linearized_plant = Linearize(plant, context)\n",
    "\n",
    "A = linearized_plant.A()\n",
    "Q = np.eye(2)\n",
    "P = RealContinuousLyapunovEquation(A, Q)\n",
    "X1 = control.lyap(A.T, Q)"
   ]
  },
  {
   "cell_type": "code",
   "execution_count": 5,
   "metadata": {},
   "outputs": [
    {
     "data": {
      "text/markdown": [
       "$ V(x)=(0.050968400x_{0} x_{1} + 25.785193680x_{0}^{2} + 1.313710499x_{1}^{2})$"
      ],
      "text/plain": [
       "<IPython.core.display.Markdown object>"
      ]
     },
     "metadata": {},
     "output_type": "display_data"
    },
    {
     "name": "stdout",
     "output_type": "stream",
     "text": [
      "Lambda solution status: 1\n",
      "V solution status: 1\n"
     ]
    },
    {
     "data": {
      "text/markdown": [
       "$ V(x)=(0.000000000 - 0.000000000x_{0} - 0.000000000x_{1} + 0.058812414x_{0} x_{1} + 25.148088222x_{0}^{2} + 1.279074892x_{1}^{2})$"
      ],
      "text/plain": [
       "<IPython.core.display.Markdown object>"
      ]
     },
     "metadata": {},
     "output_type": "display_data"
    },
    {
     "name": "stdout",
     "output_type": "stream",
     "text": [
      "Lambda solution status: 1\n",
      "V solution status: 1\n"
     ]
    },
    {
     "data": {
      "text/markdown": [
       "$ V(x)=(0.000000000 - 0.000000000x_{0} - 0.000000000x_{1} + 0.063062259x_{0} x_{1} + 24.528546646x_{0}^{2} + 1.245323622x_{1}^{2})$"
      ],
      "text/plain": [
       "<IPython.core.display.Markdown object>"
      ]
     },
     "metadata": {},
     "output_type": "display_data"
    },
    {
     "name": "stdout",
     "output_type": "stream",
     "text": [
      "Lambda solution status: 1\n",
      "V solution status: 1\n"
     ]
    },
    {
     "data": {
      "text/markdown": [
       "$ V(x)=(0.000000000 + 0.000000000x_{0} - 0.000000000x_{1} + 0.064968877x_{0} x_{1} + 23.926033185x_{0}^{2} + 1.212707138x_{1}^{2})$"
      ],
      "text/plain": [
       "<IPython.core.display.Markdown object>"
      ]
     },
     "metadata": {},
     "output_type": "display_data"
    },
    {
     "name": "stdout",
     "output_type": "stream",
     "text": [
      "Lambda solution status: 1\n",
      "V solution status: 1\n"
     ]
    },
    {
     "data": {
      "text/markdown": [
       "$ V(x)=(0.000000000 + 0.000000000x_{0} + 0.000000000x_{1} + 0.065348478x_{0} x_{1} + 23.339922999x_{0}^{2} + 1.181285676x_{1}^{2})$"
      ],
      "text/plain": [
       "<IPython.core.display.Markdown object>"
      ]
     },
     "metadata": {},
     "output_type": "display_data"
    },
    {
     "name": "stdout",
     "output_type": "stream",
     "text": [
      "Lambda solution status: 1\n",
      "V solution status: 1\n"
     ]
    },
    {
     "data": {
      "text/markdown": [
       "$ V(x)=(0.000000000 - 0.000000000x_{0} + 0.000000000x_{1} + 0.064753292x_{0} x_{1} + 22.769838045x_{0}^{2} + 1.151047863x_{1}^{2})$"
      ],
      "text/plain": [
       "<IPython.core.display.Markdown object>"
      ]
     },
     "metadata": {},
     "output_type": "display_data"
    },
    {
     "name": "stdout",
     "output_type": "stream",
     "text": [
      "Lambda solution status: 1\n",
      "V solution status: 1\n"
     ]
    },
    {
     "data": {
      "text/markdown": [
       "$ V(x)=(0.000000000 - 0.000000000x_{0} - 0.000000000x_{1} + 0.063553842x_{0} x_{1} + 22.215513589x_{0}^{2} + 1.121946112x_{1}^{2})$"
      ],
      "text/plain": [
       "<IPython.core.display.Markdown object>"
      ]
     },
     "metadata": {},
     "output_type": "display_data"
    },
    {
     "name": "stdout",
     "output_type": "stream",
     "text": [
      "Lambda solution status: 1\n",
      "V solution status: 1\n"
     ]
    },
    {
     "data": {
      "text/markdown": [
       "$ V(x)=(0.000000000 - 0.000000000x_{0} - 0.000000000x_{1} + 0.061992585x_{0} x_{1} + 21.676668112x_{0}^{2} + 1.093914689x_{1}^{2})$"
      ],
      "text/plain": [
       "<IPython.core.display.Markdown object>"
      ]
     },
     "metadata": {},
     "output_type": "display_data"
    },
    {
     "name": "stdout",
     "output_type": "stream",
     "text": [
      "Lambda solution status: 1\n",
      "V solution status: 1\n"
     ]
    },
    {
     "data": {
      "text/markdown": [
       "$ V(x)=(0.000000000 - 0.000000000x_{0} + 0.000000000x_{1} + 0.060223633x_{0} x_{1} + 21.152945734x_{0}^{2} + 1.066880944x_{1}^{2})$"
      ],
      "text/plain": [
       "<IPython.core.display.Markdown object>"
      ]
     },
     "metadata": {},
     "output_type": "display_data"
    },
    {
     "name": "stdout",
     "output_type": "stream",
     "text": [
      "Lambda solution status: 1\n",
      "V solution status: 1\n"
     ]
    },
    {
     "data": {
      "text/markdown": [
       "$ V(x)=(0.000000000 + 0.000000000x_{0} + 0.000000000x_{1} + 0.058339288x_{0} x_{1} + 20.643961091x_{0}^{2} + 1.040774631x_{1}^{2})$"
      ],
      "text/plain": [
       "<IPython.core.display.Markdown object>"
      ]
     },
     "metadata": {},
     "output_type": "display_data"
    },
    {
     "name": "stdout",
     "output_type": "stream",
     "text": [
      "Lambda solution status: 1\n",
      "V solution status: 1\n"
     ]
    },
    {
     "data": {
      "text/markdown": [
       "$ V(x)=(0.000000000 - 0.000000000x_{0} - 0.000000000x_{1} + 0.056388604x_{0} x_{1} + 20.149795307x_{0}^{2} + 1.015557919x_{1}^{2})$"
      ],
      "text/plain": [
       "<IPython.core.display.Markdown object>"
      ]
     },
     "metadata": {},
     "output_type": "display_data"
    },
    {
     "name": "stdout",
     "output_type": "stream",
     "text": [
      "Lambda solution status: 1\n",
      "V solution status: 1\n"
     ]
    },
    {
     "data": {
      "text/markdown": [
       "$ V(x)=(0.000000000 + 0.000000000x_{0} + 0.000000000x_{1} + 0.054406766x_{0} x_{1} + 19.670145103x_{0}^{2} + 0.991179873x_{1}^{2})$"
      ],
      "text/plain": [
       "<IPython.core.display.Markdown object>"
      ]
     },
     "metadata": {},
     "output_type": "display_data"
    },
    {
     "name": "stdout",
     "output_type": "stream",
     "text": [
      "Lambda solution status: 1\n",
      "V solution status: 1\n"
     ]
    },
    {
     "data": {
      "text/markdown": [
       "$ V(x)=(0.000000000 - 0.000000000x_{0} + 0.000000000x_{1} + 0.052421773x_{0} x_{1} + 19.204758276x_{0}^{2} + 0.967601764x_{1}^{2})$"
      ],
      "text/plain": [
       "<IPython.core.display.Markdown object>"
      ]
     },
     "metadata": {},
     "output_type": "display_data"
    },
    {
     "name": "stdout",
     "output_type": "stream",
     "text": [
      "Lambda solution status: 1\n",
      "V solution status: 1\n"
     ]
    },
    {
     "data": {
      "text/markdown": [
       "$ V(x)=(0.000000000 - 0.000000000x_{0} - 0.000000000x_{1} + 0.050454735x_{0} x_{1} + 18.753462585x_{0}^{2} + 0.944795388x_{1}^{2})$"
      ],
      "text/plain": [
       "<IPython.core.display.Markdown object>"
      ]
     },
     "metadata": {},
     "output_type": "display_data"
    },
    {
     "name": "stdout",
     "output_type": "stream",
     "text": [
      "Lambda solution status: 1\n",
      "V solution status: 1\n"
     ]
    },
    {
     "data": {
      "text/markdown": [
       "$ V(x)=(0.000000000 - 0.000000000x_{0} - 0.000000000x_{1} + 0.048502406x_{0} x_{1} + 18.316142151x_{0}^{2} + 0.922736190x_{1}^{2})$"
      ],
      "text/plain": [
       "<IPython.core.display.Markdown object>"
      ]
     },
     "metadata": {},
     "output_type": "display_data"
    },
    {
     "name": "stdout",
     "output_type": "stream",
     "text": [
      "Lambda solution status: 1\n",
      "V solution status: 1\n"
     ]
    },
    {
     "data": {
      "text/markdown": [
       "$ V(x)=(0.000000000 + 0.000000000x_{0} - 0.000000000x_{1} + 0.046550772x_{0} x_{1} + 17.892808844x_{0}^{2} + 0.901409545x_{1}^{2})$"
      ],
      "text/plain": [
       "<IPython.core.display.Markdown object>"
      ]
     },
     "metadata": {},
     "output_type": "display_data"
    },
    {
     "name": "stdout",
     "output_type": "stream",
     "text": [
      "Lambda solution status: 1\n",
      "V solution status: 1\n"
     ]
    },
    {
     "data": {
      "text/markdown": [
       "$ V(x)=(0.000000000 + 0.000000000x_{0} + 0.000000000x_{1} + 0.044636063x_{0} x_{1} + 17.483367450x_{0}^{2} + 0.880809951x_{1}^{2})$"
      ],
      "text/plain": [
       "<IPython.core.display.Markdown object>"
      ]
     },
     "metadata": {},
     "output_type": "display_data"
    },
    {
     "name": "stdout",
     "output_type": "stream",
     "text": [
      "Lambda solution status: 1\n",
      "V solution status: 1\n"
     ]
    },
    {
     "data": {
      "text/markdown": [
       "$ V(x)=(0.000000000 - 0.000000000x_{0} + 0.000000000x_{1} + 0.042828506x_{0} x_{1} + 17.086447403x_{0}^{2} + 0.860871777x_{1}^{2})$"
      ],
      "text/plain": [
       "<IPython.core.display.Markdown object>"
      ]
     },
     "metadata": {},
     "output_type": "display_data"
    },
    {
     "name": "stdout",
     "output_type": "stream",
     "text": [
      "Lambda solution status: 1\n",
      "V solution status: 1\n"
     ]
    },
    {
     "data": {
      "text/markdown": [
       "$ V(x)=(0.000000000 + 0.000000000x_{0} + 0.000000000x_{1} + 0.041147912x_{0} x_{1} + 16.700907971x_{0}^{2} + 0.841530250x_{1}^{2})$"
      ],
      "text/plain": [
       "<IPython.core.display.Markdown object>"
      ]
     },
     "metadata": {},
     "output_type": "display_data"
    },
    {
     "name": "stdout",
     "output_type": "stream",
     "text": [
      "Lambda solution status: 1\n",
      "V solution status: 1\n"
     ]
    },
    {
     "data": {
      "text/markdown": [
       "$ V(x)=(0.000000000 + 0.000000000x_{0} + 0.000000000x_{1} + 0.039604207x_{0} x_{1} + 16.325870312x_{0}^{2} + 0.822734641x_{1}^{2})$"
      ],
      "text/plain": [
       "<IPython.core.display.Markdown object>"
      ]
     },
     "metadata": {},
     "output_type": "display_data"
    },
    {
     "name": "stdout",
     "output_type": "stream",
     "text": [
      "Lambda solution status: 1\n",
      "V solution status: 1\n"
     ]
    },
    {
     "data": {
      "text/markdown": [
       "$ V(x)=(0.000000000 + 0.000000000x_{0} + 0.000000000x_{1} + 0.038198083x_{0} x_{1} + 15.960608778x_{0}^{2} + 0.804442296x_{1}^{2})$"
      ],
      "text/plain": [
       "<IPython.core.display.Markdown object>"
      ]
     },
     "metadata": {},
     "output_type": "display_data"
    },
    {
     "name": "stdout",
     "output_type": "stream",
     "text": [
      "Lambda solution status: 1\n",
      "V solution status: 1\n"
     ]
    },
    {
     "data": {
      "text/markdown": [
       "$ V(x)=(0.000000000 + 0.000000000x_{0} - 0.000000000x_{1} + 0.036925433x_{0} x_{1} + 15.604530109x_{0}^{2} + 0.786617988x_{1}^{2})$"
      ],
      "text/plain": [
       "<IPython.core.display.Markdown object>"
      ]
     },
     "metadata": {},
     "output_type": "display_data"
    },
    {
     "name": "stdout",
     "output_type": "stream",
     "text": [
      "Lambda solution status: 1\n",
      "V solution status: 1\n"
     ]
    },
    {
     "data": {
      "text/markdown": [
       "$ V(x)=(0.000000000 - 0.000000000x_{0} - 0.000000000x_{1} + 0.035772139x_{0} x_{1} + 15.257042083x_{0}^{2} + 0.769226494x_{1}^{2})$"
      ],
      "text/plain": [
       "<IPython.core.display.Markdown object>"
      ]
     },
     "metadata": {},
     "output_type": "display_data"
    },
    {
     "name": "stdout",
     "output_type": "stream",
     "text": [
      "Lambda solution status: 1\n",
      "V solution status: 1\n"
     ]
    },
    {
     "data": {
      "text/markdown": [
       "$ V(x)=(0.000000000 + 0.000000000x_{0} + 0.000000000x_{1} + 0.034701269x_{0} x_{1} + 14.913413128x_{0}^{2} + 0.752037363x_{1}^{2})$"
      ],
      "text/plain": [
       "<IPython.core.display.Markdown object>"
      ]
     },
     "metadata": {},
     "output_type": "display_data"
    },
    {
     "name": "stdout",
     "output_type": "stream",
     "text": [
      "Lambda solution status: 1\n",
      "V solution status: 1\n"
     ]
    },
    {
     "data": {
      "text/markdown": [
       "$ V(x)=(0.000000000 + 0.000000000x_{0} + 0.000000000x_{1} + 0.033720285x_{0} x_{1} + 14.573180316x_{0}^{2} + 0.735017676x_{1}^{2})$"
      ],
      "text/plain": [
       "<IPython.core.display.Markdown object>"
      ]
     },
     "metadata": {},
     "output_type": "display_data"
    },
    {
     "name": "stdout",
     "output_type": "stream",
     "text": [
      "Lambda solution status: 1\n",
      "V solution status: 1\n"
     ]
    },
    {
     "data": {
      "text/markdown": [
       "$ V(x)=(0.000000000 + 0.000000000x_{0} + 0.000000000x_{1} + 0.032826816x_{0} x_{1} + 14.237446677x_{0}^{2} + 0.718212557x_{1}^{2})$"
      ],
      "text/plain": [
       "<IPython.core.display.Markdown object>"
      ]
     },
     "metadata": {},
     "output_type": "display_data"
    },
    {
     "name": "stdout",
     "output_type": "stream",
     "text": [
      "Lambda solution status: 1\n",
      "V solution status: 1\n"
     ]
    },
    {
     "data": {
      "text/markdown": [
       "$ V(x)=(0.000000000 - 0.000000000x_{0} - 0.000000000x_{1} + 0.032002292x_{0} x_{1} + 13.907117504x_{0}^{2} + 0.701661190x_{1}^{2})$"
      ],
      "text/plain": [
       "<IPython.core.display.Markdown object>"
      ]
     },
     "metadata": {},
     "output_type": "display_data"
    },
    {
     "name": "stdout",
     "output_type": "stream",
     "text": [
      "Lambda solution status: 1\n",
      "V solution status: 1\n"
     ]
    },
    {
     "data": {
      "text/markdown": [
       "$ V(x)=(0.000000000 + 0.000000000x_{0} + 0.000000000x_{1} + 0.031224626x_{0} x_{1} + 13.582843811x_{0}^{2} + 0.685393846x_{1}^{2})$"
      ],
      "text/plain": [
       "<IPython.core.display.Markdown object>"
      ]
     },
     "metadata": {},
     "output_type": "display_data"
    },
    {
     "name": "stdout",
     "output_type": "stream",
     "text": [
      "Lambda solution status: 1\n",
      "V solution status: 1\n"
     ]
    },
    {
     "data": {
      "text/markdown": [
       "$ V(x)=(0.000000000 + 0.000000000x_{0} + 0.000000000x_{1} + 0.030475419x_{0} x_{1} + 13.265006543x_{0}^{2} + 0.669430315x_{1}^{2})$"
      ],
      "text/plain": [
       "<IPython.core.display.Markdown object>"
      ]
     },
     "metadata": {},
     "output_type": "display_data"
    },
    {
     "name": "stdout",
     "output_type": "stream",
     "text": [
      "Lambda solution status: 1\n",
      "V solution status: 1\n"
     ]
    },
    {
     "data": {
      "text/markdown": [
       "$ V(x)=(0.000000000 - 0.000000000x_{0} + 0.000000000x_{1} + 0.029742875x_{0} x_{1} + 12.953754952x_{0}^{2} + 0.653780828x_{1}^{2})$"
      ],
      "text/plain": [
       "<IPython.core.display.Markdown object>"
      ]
     },
     "metadata": {},
     "output_type": "display_data"
    },
    {
     "name": "stdout",
     "output_type": "stream",
     "text": [
      "Lambda solution status: 1\n",
      "V solution status: 1\n"
     ]
    },
    {
     "data": {
      "text/markdown": [
       "$ V(x)=(0.000000000 + 0.000000000x_{0} - 0.000000000x_{1} + 0.029021052x_{0} x_{1} + 12.649074979x_{0}^{2} + 0.638448301x_{1}^{2})$"
      ],
      "text/plain": [
       "<IPython.core.display.Markdown object>"
      ]
     },
     "metadata": {},
     "output_type": "display_data"
    },
    {
     "name": "stdout",
     "output_type": "stream",
     "text": [
      "Lambda solution status: 1\n",
      "V solution status: 1\n"
     ]
    },
    {
     "data": {
      "text/markdown": [
       "$ V(x)=(0.000000000 + 0.000000000x_{0} - 0.000000000x_{1} + 0.028308617x_{0} x_{1} + 12.350856852x_{0}^{2} + 0.623430974x_{1}^{2})$"
      ],
      "text/plain": [
       "<IPython.core.display.Markdown object>"
      ]
     },
     "metadata": {},
     "output_type": "display_data"
    },
    {
     "name": "stdout",
     "output_type": "stream",
     "text": [
      "Lambda solution status: 1\n",
      "V solution status: 1\n"
     ]
    },
    {
     "data": {
      "text/markdown": [
       "$ V(x)=(0.000000000 - 0.000000000x_{0} - 0.000000000x_{1} + 0.027607012x_{0} x_{1} + 12.058944681x_{0}^{2} + 0.608724382x_{1}^{2})$"
      ],
      "text/plain": [
       "<IPython.core.display.Markdown object>"
      ]
     },
     "metadata": {},
     "output_type": "display_data"
    },
    {
     "name": "stdout",
     "output_type": "stream",
     "text": [
      "Lambda solution status: 1\n",
      "V solution status: 1\n"
     ]
    },
    {
     "data": {
      "text/markdown": [
       "$ V(x)=(0.000000000 + 0.000000000x_{0} + 0.000000000x_{1} + 0.026918866x_{0} x_{1} + 11.773166981x_{0}^{2} + 0.594322609x_{1}^{2})$"
      ],
      "text/plain": [
       "<IPython.core.display.Markdown object>"
      ]
     },
     "metadata": {},
     "output_type": "display_data"
    },
    {
     "name": "stdout",
     "output_type": "stream",
     "text": [
      "Lambda solution status: 1\n",
      "V solution status: 1\n"
     ]
    },
    {
     "data": {
      "text/markdown": [
       "$ V(x)=(0.000000000 + 0.000000000x_{0} + 0.000000000x_{1} + 0.026246928x_{0} x_{1} + 11.493352623x_{0}^{2} + 0.580219039x_{1}^{2})$"
      ],
      "text/plain": [
       "<IPython.core.display.Markdown object>"
      ]
     },
     "metadata": {},
     "output_type": "display_data"
    },
    {
     "name": "stdout",
     "output_type": "stream",
     "text": [
      "Lambda solution status: 1\n",
      "V solution status: 1\n"
     ]
    },
    {
     "data": {
      "text/markdown": [
       "$ V(x)=(0.000000000 + 0.000000000x_{0} - 0.000000000x_{1} + 0.025593606x_{0} x_{1} + 11.219337707x_{0}^{2} + 0.566406816x_{1}^{2})$"
      ],
      "text/plain": [
       "<IPython.core.display.Markdown object>"
      ]
     },
     "metadata": {},
     "output_type": "display_data"
    },
    {
     "name": "stdout",
     "output_type": "stream",
     "text": [
      "Lambda solution status: 1\n",
      "V solution status: 1\n"
     ]
    },
    {
     "data": {
      "text/markdown": [
       "$ V(x)=(0.000000000 - 0.000000000x_{0} + 0.000000000x_{1} + 0.024960469x_{0} x_{1} + 10.950968160x_{0}^{2} + 0.552878978x_{1}^{2})$"
      ],
      "text/plain": [
       "<IPython.core.display.Markdown object>"
      ]
     },
     "metadata": {},
     "output_type": "display_data"
    },
    {
     "name": "stdout",
     "output_type": "stream",
     "text": [
      "Lambda solution status: 1\n",
      "V solution status: 1\n"
     ]
    },
    {
     "data": {
      "text/markdown": [
       "$ V(x)=(0.000000000 - 0.000000000x_{0} + 0.000000000x_{1} + 0.024348432x_{0} x_{1} + 10.688099028x_{0}^{2} + 0.539628684x_{1}^{2})$"
      ],
      "text/plain": [
       "<IPython.core.display.Markdown object>"
      ]
     },
     "metadata": {},
     "output_type": "display_data"
    },
    {
     "name": "stdout",
     "output_type": "stream",
     "text": [
      "Lambda solution status: 1\n",
      "V solution status: 1\n"
     ]
    },
    {
     "data": {
      "text/markdown": [
       "$ V(x)=(0.000000000 + 0.000000000x_{0} - 0.000000000x_{1} + 0.023757648x_{0} x_{1} + 10.430594662x_{0}^{2} + 0.526649260x_{1}^{2})$"
      ],
      "text/plain": [
       "<IPython.core.display.Markdown object>"
      ]
     },
     "metadata": {},
     "output_type": "display_data"
    },
    {
     "name": "stdout",
     "output_type": "stream",
     "text": [
      "Lambda solution status: 1\n",
      "V solution status: 1\n"
     ]
    },
    {
     "data": {
      "text/markdown": [
       "$ V(x)=(0.000000000 + 0.000000000x_{0} + 0.000000000x_{1} + 0.023187837x_{0} x_{1} + 10.178325238x_{0}^{2} + 0.513934156x_{1}^{2})$"
      ],
      "text/plain": [
       "<IPython.core.display.Markdown object>"
      ]
     },
     "metadata": {},
     "output_type": "display_data"
    },
    {
     "name": "stdout",
     "output_type": "stream",
     "text": [
      "Lambda solution status: 1\n",
      "V solution status: 1\n"
     ]
    },
    {
     "data": {
      "text/markdown": [
       "$ V(x)=(0.000000000 - 0.000000000x_{0} - 0.000000000x_{1} + 0.022638275x_{0} x_{1} + 9.931165462x_{0}^{2} + 0.501476970x_{1}^{2})$"
      ],
      "text/plain": [
       "<IPython.core.display.Markdown object>"
      ]
     },
     "metadata": {},
     "output_type": "display_data"
    },
    {
     "name": "stdout",
     "output_type": "stream",
     "text": [
      "Lambda solution status: 1\n",
      "V solution status: 1\n"
     ]
    },
    {
     "data": {
      "text/markdown": [
       "$ V(x)=(0.000000000 - 0.000000000x_{0} + 0.000000000x_{1} + 0.022107885x_{0} x_{1} + 9.688993945x_{0}^{2} + 0.489271417x_{1}^{2})$"
      ],
      "text/plain": [
       "<IPython.core.display.Markdown object>"
      ]
     },
     "metadata": {},
     "output_type": "display_data"
    },
    {
     "name": "stdout",
     "output_type": "stream",
     "text": [
      "Lambda solution status: 1\n",
      "V solution status: 1\n"
     ]
    },
    {
     "data": {
      "text/markdown": [
       "$ V(x)=(0.000000000 + 0.000000000x_{0} - 0.000000000x_{1} + 0.021595431x_{0} x_{1} + 9.451692346x_{0}^{2} + 0.477311367x_{1}^{2})$"
      ],
      "text/plain": [
       "<IPython.core.display.Markdown object>"
      ]
     },
     "metadata": {},
     "output_type": "display_data"
    },
    {
     "name": "stdout",
     "output_type": "stream",
     "text": [
      "Lambda solution status: 1\n",
      "V solution status: 1\n"
     ]
    },
    {
     "data": {
      "text/markdown": [
       "$ V(x)=(0.000000000 + 0.000000000x_{0} - 0.000000000x_{1} + 0.021099692x_{0} x_{1} + 9.219144886x_{0}^{2} + 0.465590855x_{1}^{2})$"
      ],
      "text/plain": [
       "<IPython.core.display.Markdown object>"
      ]
     },
     "metadata": {},
     "output_type": "display_data"
    },
    {
     "name": "stdout",
     "output_type": "stream",
     "text": [
      "Lambda solution status: 1\n",
      "V solution status: 1\n"
     ]
    },
    {
     "data": {
      "text/markdown": [
       "$ V(x)=(0.000000000 + 0.000000000x_{0} + 0.000000000x_{1} + 0.020615720x_{0} x_{1} + 8.991334957x_{0}^{2} + 0.454110153x_{1}^{2})$"
      ],
      "text/plain": [
       "<IPython.core.display.Markdown object>"
      ]
     },
     "metadata": {},
     "output_type": "display_data"
    },
    {
     "name": "stdout",
     "output_type": "stream",
     "text": [
      "Lambda solution status: 1\n",
      "V solution status: 1\n"
     ]
    },
    {
     "data": {
      "text/markdown": [
       "$ V(x)=(0.000000000 - 0.000000000x_{0} + 0.000000000x_{1} + 0.020142052x_{0} x_{1} + 8.768215349x_{0}^{2} + 0.442867016x_{1}^{2})$"
      ],
      "text/plain": [
       "<IPython.core.display.Markdown object>"
      ]
     },
     "metadata": {},
     "output_type": "display_data"
    },
    {
     "name": "stdout",
     "output_type": "stream",
     "text": [
      "Lambda solution status: 1\n",
      "V solution status: 1\n"
     ]
    },
    {
     "data": {
      "text/markdown": [
       "$ V(x)=(0.000000000 + 0.000000000x_{0} - 0.000000000x_{1} + 0.019679326x_{0} x_{1} + 8.549678618x_{0}^{2} + 0.431855288x_{1}^{2})$"
      ],
      "text/plain": [
       "<IPython.core.display.Markdown object>"
      ]
     },
     "metadata": {},
     "output_type": "display_data"
    },
    {
     "name": "stdout",
     "output_type": "stream",
     "text": [
      "Lambda solution status: 1\n",
      "V solution status: 1\n"
     ]
    },
    {
     "data": {
      "text/markdown": [
       "$ V(x)=(0.000000000 - 0.000000000x_{0} + 0.000000000x_{1} + 0.019227384x_{0} x_{1} + 8.335617397x_{0}^{2} + 0.421068978x_{1}^{2})$"
      ],
      "text/plain": [
       "<IPython.core.display.Markdown object>"
      ]
     },
     "metadata": {},
     "output_type": "display_data"
    },
    {
     "name": "stdout",
     "output_type": "stream",
     "text": [
      "Lambda solution status: 1\n",
      "V solution status: 1\n"
     ]
    },
    {
     "data": {
      "text/markdown": [
       "$ V(x)=(0.000000000 - 0.000000000x_{0} + 0.000000000x_{1} + 0.018785814x_{0} x_{1} + 8.125925767x_{0}^{2} + 0.410502354x_{1}^{2})$"
      ],
      "text/plain": [
       "<IPython.core.display.Markdown object>"
      ]
     },
     "metadata": {},
     "output_type": "display_data"
    },
    {
     "name": "stdout",
     "output_type": "stream",
     "text": [
      "Lambda solution status: 1\n",
      "V solution status: 1\n"
     ]
    },
    {
     "data": {
      "text/markdown": [
       "$ V(x)=(0.000000000 + 0.000000000x_{0} - 0.000000000x_{1} + 0.018354398x_{0} x_{1} + 7.920499970x_{0}^{2} + 0.400149999x_{1}^{2})$"
      ],
      "text/plain": [
       "<IPython.core.display.Markdown object>"
      ]
     },
     "metadata": {},
     "output_type": "display_data"
    },
    {
     "name": "stdout",
     "output_type": "stream",
     "text": [
      "Lambda solution status: 1\n",
      "V solution status: 1\n"
     ]
    },
    {
     "data": {
      "text/markdown": [
       "$ V(x)=(0.000000000 + 0.000000000x_{0} - 0.000000000x_{1} + 0.017933129x_{0} x_{1} + 7.719238837x_{0}^{2} + 0.390006766x_{1}^{2})$"
      ],
      "text/plain": [
       "<IPython.core.display.Markdown object>"
      ]
     },
     "metadata": {},
     "output_type": "display_data"
    },
    {
     "name": "stdout",
     "output_type": "stream",
     "text": [
      "Lambda solution status: 1\n",
      "V solution status: 1\n"
     ]
    },
    {
     "data": {
      "text/markdown": [
       "$ V(x)=(0.000000000 - 0.000000000x_{0} + 0.000000000x_{1} + 0.017522304x_{0} x_{1} + 7.522043545x_{0}^{2} + 0.380067751x_{1}^{2})$"
      ],
      "text/plain": [
       "<IPython.core.display.Markdown object>"
      ]
     },
     "metadata": {},
     "output_type": "display_data"
    },
    {
     "name": "stdout",
     "output_type": "stream",
     "text": [
      "Lambda solution status: 1\n",
      "V solution status: 1\n"
     ]
    },
    {
     "data": {
      "text/markdown": [
       "$ V(x)=(0.000000000 - 0.000000000x_{0} - 0.000000000x_{1} + 0.017119926x_{0} x_{1} + 7.328813612x_{0}^{2} + 0.370329734x_{1}^{2})$"
      ],
      "text/plain": [
       "<IPython.core.display.Markdown object>"
      ]
     },
     "metadata": {},
     "output_type": "display_data"
    },
    {
     "name": "stdout",
     "output_type": "stream",
     "text": [
      "Lambda solution status: 1\n",
      "V solution status: 1\n"
     ]
    },
    {
     "data": {
      "text/markdown": [
       "$ V(x)=(0.000000000 + 0.000000000x_{0} + 0.000000000x_{1} + 0.016732277x_{0} x_{1} + 7.139462429x_{0}^{2} + 0.360784786x_{1}^{2})$"
      ],
      "text/plain": [
       "<IPython.core.display.Markdown object>"
      ]
     },
     "metadata": {},
     "output_type": "display_data"
    },
    {
     "name": "stdout",
     "output_type": "stream",
     "text": [
      "Lambda solution status: 1\n",
      "V solution status: 1\n"
     ]
    },
    {
     "data": {
      "text/markdown": [
       "$ V(x)=(0.000000000 + 0.000000000x_{0} - 0.000000000x_{1} + 0.016355948x_{0} x_{1} + 6.953888888x_{0}^{2} + 0.351429912x_{1}^{2})$"
      ],
      "text/plain": [
       "<IPython.core.display.Markdown object>"
      ]
     },
     "metadata": {},
     "output_type": "display_data"
    },
    {
     "name": "stdout",
     "output_type": "stream",
     "text": [
      "Lambda solution status: 1\n",
      "V solution status: 1\n"
     ]
    },
    {
     "data": {
      "text/markdown": [
       "$ V(x)=(0.000000000 + 0.000000000x_{0} - 0.000000000x_{1} + 0.015991160x_{0} x_{1} + 6.771998287x_{0}^{2} + 0.342260427x_{1}^{2})$"
      ],
      "text/plain": [
       "<IPython.core.display.Markdown object>"
      ]
     },
     "metadata": {},
     "output_type": "display_data"
    },
    {
     "name": "stdout",
     "output_type": "stream",
     "text": [
      "Lambda solution status: 1\n",
      "V solution status: 1\n"
     ]
    },
    {
     "data": {
      "text/markdown": [
       "$ V(x)=(0.000000000 - 0.000000000x_{0} + 0.000000000x_{1} + 0.015637658x_{0} x_{1} + 6.593694899x_{0}^{2} + 0.333271507x_{1}^{2})$"
      ],
      "text/plain": [
       "<IPython.core.display.Markdown object>"
      ]
     },
     "metadata": {},
     "output_type": "display_data"
    },
    {
     "name": "stdout",
     "output_type": "stream",
     "text": [
      "Lambda solution status: 1\n",
      "V solution status: 1\n"
     ]
    },
    {
     "data": {
      "text/markdown": [
       "$ V(x)=(0.000000000 - 0.000000000x_{0} + 0.000000000x_{1} + 0.015294729x_{0} x_{1} + 6.418882231x_{0}^{2} + 0.324458209x_{1}^{2})$"
      ],
      "text/plain": [
       "<IPython.core.display.Markdown object>"
      ]
     },
     "metadata": {},
     "output_type": "display_data"
    },
    {
     "name": "stdout",
     "output_type": "stream",
     "text": [
      "Lambda solution status: 1\n",
      "V solution status: 1\n"
     ]
    },
    {
     "data": {
      "text/markdown": [
       "$ V(x)=(0.000000000 + 0.000000000x_{0} + 0.000000000x_{1} + 0.014961207x_{0} x_{1} + 6.247462956x_{0}^{2} + 0.315815489x_{1}^{2})$"
      ],
      "text/plain": [
       "<IPython.core.display.Markdown object>"
      ]
     },
     "metadata": {},
     "output_type": "display_data"
    },
    {
     "name": "stdout",
     "output_type": "stream",
     "text": [
      "Lambda solution status: 1\n",
      "V solution status: 1\n"
     ]
    },
    {
     "data": {
      "text/markdown": [
       "$ V(x)=(0.000000000 + 0.000000000x_{0} + 0.000000000x_{1} + 0.014635600x_{0} x_{1} + 6.079339173x_{0}^{2} + 0.307338252x_{1}^{2})$"
      ],
      "text/plain": [
       "<IPython.core.display.Markdown object>"
      ]
     },
     "metadata": {},
     "output_type": "display_data"
    },
    {
     "name": "stdout",
     "output_type": "stream",
     "text": [
      "Lambda solution status: 1\n",
      "V solution status: 1\n"
     ]
    },
    {
     "data": {
      "text/markdown": [
       "$ V(x)=(0.000000000 + 0.000000000x_{0} + 0.000000000x_{1} + 0.014316121x_{0} x_{1} + 5.914412950x_{0}^{2} + 0.299021365x_{1}^{2})$"
      ],
      "text/plain": [
       "<IPython.core.display.Markdown object>"
      ]
     },
     "metadata": {},
     "output_type": "display_data"
    },
    {
     "name": "stdout",
     "output_type": "stream",
     "text": [
      "Lambda solution status: 1\n",
      "V solution status: 1\n"
     ]
    },
    {
     "data": {
      "text/markdown": [
       "$ V(x)=(0.000000000 + 0.000000000x_{0} - 0.000000000x_{1} + 0.014000898x_{0} x_{1} + 5.752586699x_{0}^{2} + 0.290859733x_{1}^{2})$"
      ],
      "text/plain": [
       "<IPython.core.display.Markdown object>"
      ]
     },
     "metadata": {},
     "output_type": "display_data"
    },
    {
     "name": "stdout",
     "output_type": "stream",
     "text": [
      "Lambda solution status: 1\n",
      "V solution status: 1\n"
     ]
    },
    {
     "data": {
      "text/markdown": [
       "$ V(x)=(0.000000000 + 0.000000000x_{0} + 0.000000000x_{1} + 0.013684698x_{0} x_{1} + 5.593698448x_{0}^{2} + 0.282845202x_{1}^{2})$"
      ],
      "text/plain": [
       "<IPython.core.display.Markdown object>"
      ]
     },
     "metadata": {},
     "output_type": "display_data"
    },
    {
     "name": "stdout",
     "output_type": "stream",
     "text": [
      "Lambda solution status: 1\n",
      "V solution status: 1\n"
     ]
    },
    {
     "data": {
      "text/markdown": [
       "$ V(x)=(0.000000000 - 0.000000000x_{0} + 0.000000000x_{1} + 0.013365103x_{0} x_{1} + 5.437612517x_{0}^{2} + 0.274970856x_{1}^{2})$"
      ],
      "text/plain": [
       "<IPython.core.display.Markdown object>"
      ]
     },
     "metadata": {},
     "output_type": "display_data"
    },
    {
     "name": "stdout",
     "output_type": "stream",
     "text": [
      "Lambda solution status: 1\n",
      "V solution status: 1\n"
     ]
    },
    {
     "data": {
      "text/markdown": [
       "$ V(x)=(0.000000000 + 0.000000000x_{0} - 0.000000000x_{1} + 0.013038796x_{0} x_{1} + 5.284210864x_{0}^{2} + 0.267230267x_{1}^{2})$"
      ],
      "text/plain": [
       "<IPython.core.display.Markdown object>"
      ]
     },
     "metadata": {},
     "output_type": "display_data"
    },
    {
     "name": "stdout",
     "output_type": "stream",
     "text": [
      "Lambda solution status: 1\n",
      "V solution status: 1\n"
     ]
    },
    {
     "data": {
      "text/markdown": [
       "$ V(x)=(0.000000000 + 0.000000000x_{0} + 0.000000000x_{1} + 0.012702156x_{0} x_{1} + 5.133356143x_{0}^{2} + 0.259616074x_{1}^{2})$"
      ],
      "text/plain": [
       "<IPython.core.display.Markdown object>"
      ]
     },
     "metadata": {},
     "output_type": "display_data"
    },
    {
     "name": "stdout",
     "output_type": "stream",
     "text": [
      "Lambda solution status: 1\n",
      "V solution status: 1\n"
     ]
    },
    {
     "data": {
      "text/markdown": [
       "$ V(x)=(0.000000000 - 0.000000000x_{0} + 0.000000000x_{1} + 0.012350403x_{0} x_{1} + 4.984883001x_{0}^{2} + 0.252119420x_{1}^{2})$"
      ],
      "text/plain": [
       "<IPython.core.display.Markdown object>"
      ]
     },
     "metadata": {},
     "output_type": "display_data"
    },
    {
     "name": "stdout",
     "output_type": "stream",
     "text": [
      "Lambda solution status: 1\n",
      "V solution status: 1\n"
     ]
    },
    {
     "data": {
      "text/markdown": [
       "$ V(x)=(0.000000000 + 0.000000000x_{0} + 0.000000000x_{1} + 0.012099064x_{0} x_{1} + 4.840036081x_{0}^{2} + 0.244816697x_{1}^{2})$"
      ],
      "text/plain": [
       "<IPython.core.display.Markdown object>"
      ]
     },
     "metadata": {},
     "output_type": "display_data"
    },
    {
     "name": "stdout",
     "output_type": "stream",
     "text": [
      "Lambda solution status: 1\n",
      "V solution status: 1\n"
     ]
    },
    {
     "data": {
      "text/markdown": [
       "$ V(x)=(0.000000000 + 0.000000000x_{0} + 0.000000000x_{1} + 0.011966450x_{0} x_{1} + 4.699372127x_{0}^{2} + 0.237733835x_{1}^{2})$"
      ],
      "text/plain": [
       "<IPython.core.display.Markdown object>"
      ]
     },
     "metadata": {},
     "output_type": "display_data"
    },
    {
     "name": "stdout",
     "output_type": "stream",
     "text": [
      "Lambda solution status: 1\n",
      "V solution status: 1\n"
     ]
    },
    {
     "data": {
      "text/markdown": [
       "$ V(x)=(0.000000000 + 0.000000000x_{0} - 0.000000000x_{1} + 0.012148593x_{0} x_{1} + 4.563590657x_{0}^{2} + 0.230936736x_{1}^{2})$"
      ],
      "text/plain": [
       "<IPython.core.display.Markdown object>"
      ]
     },
     "metadata": {},
     "output_type": "display_data"
    },
    {
     "name": "stdout",
     "output_type": "stream",
     "text": [
      "Lambda solution status: 1\n",
      "V solution status: 1\n"
     ]
    },
    {
     "data": {
      "text/markdown": [
       "$ V(x)=(0.000000000 + 0.000000000x_{0} - 0.000000000x_{1} + 0.012135064x_{0} x_{1} + 4.429993373x_{0}^{2} + 0.224202374x_{1}^{2})$"
      ],
      "text/plain": [
       "<IPython.core.display.Markdown object>"
      ]
     },
     "metadata": {},
     "output_type": "display_data"
    },
    {
     "name": "stdout",
     "output_type": "stream",
     "text": [
      "Lambda solution status: 1\n",
      "V solution status: 1\n"
     ]
    },
    {
     "data": {
      "text/markdown": [
       "$ V(x)=(0.000000000 + 0.000000000x_{0} + 0.000000000x_{1} + 0.012023099x_{0} x_{1} + 4.298939328x_{0}^{2} + 0.217575319x_{1}^{2})$"
      ],
      "text/plain": [
       "<IPython.core.display.Markdown object>"
      ]
     },
     "metadata": {},
     "output_type": "display_data"
    },
    {
     "name": "stdout",
     "output_type": "stream",
     "text": [
      "Lambda solution status: 1\n",
      "V solution status: 1\n"
     ]
    },
    {
     "data": {
      "text/markdown": [
       "$ V(x)=(0.000000000 + 0.000000000x_{0} - 0.000000000x_{1} + 0.011843261x_{0} x_{1} + 4.170417850x_{0}^{2} + 0.211065052x_{1}^{2})$"
      ],
      "text/plain": [
       "<IPython.core.display.Markdown object>"
      ]
     },
     "metadata": {},
     "output_type": "display_data"
    },
    {
     "name": "stdout",
     "output_type": "stream",
     "text": [
      "Lambda solution status: 1\n",
      "V solution status: 1\n"
     ]
    },
    {
     "data": {
      "text/markdown": [
       "$ V(x)=(0.000000000 + 0.000000000x_{0} - 0.000000000x_{1} + 0.011606664x_{0} x_{1} + 4.044474226x_{0}^{2} + 0.204678223x_{1}^{2})$"
      ],
      "text/plain": [
       "<IPython.core.display.Markdown object>"
      ]
     },
     "metadata": {},
     "output_type": "display_data"
    },
    {
     "name": "stdout",
     "output_type": "stream",
     "text": [
      "Lambda solution status: 1\n",
      "V solution status: 1\n"
     ]
    },
    {
     "data": {
      "text/markdown": [
       "$ V(x)=(0.000000000 - 0.000000000x_{0} + 0.000000000x_{1} + 0.011267402x_{0} x_{1} + 3.921339974x_{0}^{2} + 0.198420361x_{1}^{2})$"
      ],
      "text/plain": [
       "<IPython.core.display.Markdown object>"
      ]
     },
     "metadata": {},
     "output_type": "display_data"
    },
    {
     "name": "stdout",
     "output_type": "stream",
     "text": [
      "Lambda solution status: 1\n",
      "V solution status: 1\n"
     ]
    },
    {
     "data": {
      "text/markdown": [
       "$ V(x)=(0.000000000 - 0.000000000x_{0} + 0.000000000x_{1} + 0.010855508x_{0} x_{1} + 3.800043777x_{0}^{2} + 0.192250644x_{1}^{2})$"
      ],
      "text/plain": [
       "<IPython.core.display.Markdown object>"
      ]
     },
     "metadata": {},
     "output_type": "display_data"
    },
    {
     "name": "stdout",
     "output_type": "stream",
     "text": [
      "Lambda solution status: 1\n",
      "V solution status: 1\n"
     ]
    },
    {
     "data": {
      "text/markdown": [
       "$ V(x)=(0.000000000 - 0.000000000x_{0} + 0.000000000x_{1} + 0.010549966x_{0} x_{1} + 3.681560564x_{0}^{2} + 0.186249505x_{1}^{2})$"
      ],
      "text/plain": [
       "<IPython.core.display.Markdown object>"
      ]
     },
     "metadata": {},
     "output_type": "display_data"
    },
    {
     "name": "stdout",
     "output_type": "stream",
     "text": [
      "Lambda solution status: 1\n",
      "V solution status: 1\n"
     ]
    },
    {
     "data": {
      "text/markdown": [
       "$ V(x)=(0.000000000 - 0.000000000x_{0} - 0.000000000x_{1} + 0.010333458x_{0} x_{1} + 3.565831329x_{0}^{2} + 0.180404157x_{1}^{2})$"
      ],
      "text/plain": [
       "<IPython.core.display.Markdown object>"
      ]
     },
     "metadata": {},
     "output_type": "display_data"
    },
    {
     "name": "stdout",
     "output_type": "stream",
     "text": [
      "Lambda solution status: 1\n",
      "V solution status: 1\n"
     ]
    },
    {
     "data": {
      "text/markdown": [
       "$ V(x)=(0.000000000 - 0.000000000x_{0} - 0.000000000x_{1} + 0.010178386x_{0} x_{1} + 3.452797806x_{0}^{2} + 0.174702766x_{1}^{2})$"
      ],
      "text/plain": [
       "<IPython.core.display.Markdown object>"
      ]
     },
     "metadata": {},
     "output_type": "display_data"
    },
    {
     "name": "stdout",
     "output_type": "stream",
     "text": [
      "Lambda solution status: 1\n",
      "V solution status: 1\n"
     ]
    },
    {
     "data": {
      "text/markdown": [
       "$ V(x)=(0.000000000 + 0.000000000x_{0} - 0.000000000x_{1} + 0.010054140x_{0} x_{1} + 3.342358717x_{0}^{2} + 0.169133271x_{1}^{2})$"
      ],
      "text/plain": [
       "<IPython.core.display.Markdown object>"
      ]
     },
     "metadata": {},
     "output_type": "display_data"
    },
    {
     "name": "stdout",
     "output_type": "stream",
     "text": [
      "Lambda solution status: 1\n",
      "V solution status: 1\n"
     ]
    },
    {
     "data": {
      "text/markdown": [
       "$ V(x)=(0.000000000 + 0.000000000x_{0} - 0.000000000x_{1} + 0.009941641x_{0} x_{1} + 3.234473440x_{0}^{2} + 0.163690371x_{1}^{2})$"
      ],
      "text/plain": [
       "<IPython.core.display.Markdown object>"
      ]
     },
     "metadata": {},
     "output_type": "display_data"
    },
    {
     "name": "stdout",
     "output_type": "stream",
     "text": [
      "Lambda solution status: 1\n",
      "V solution status: 1\n"
     ]
    },
    {
     "data": {
      "text/markdown": [
       "$ V(x)=(0.000000000 - 0.000000000x_{0} - 0.000000000x_{1} + 0.009975593x_{0} x_{1} + 3.130050801x_{0}^{2} + 0.158441892x_{1}^{2})$"
      ],
      "text/plain": [
       "<IPython.core.display.Markdown object>"
      ]
     },
     "metadata": {},
     "output_type": "display_data"
    },
    {
     "name": "stdout",
     "output_type": "stream",
     "text": [
      "Lambda solution status: 1\n",
      "V solution status: 1\n"
     ]
    },
    {
     "data": {
      "text/markdown": [
       "$ V(x)=(0.000000000 - 0.000000000x_{0} - 0.000000000x_{1} + 0.009946074x_{0} x_{1} + 3.028227903x_{0}^{2} + 0.153306381x_{1}^{2})$"
      ],
      "text/plain": [
       "<IPython.core.display.Markdown object>"
      ]
     },
     "metadata": {},
     "output_type": "display_data"
    },
    {
     "name": "stdout",
     "output_type": "stream",
     "text": [
      "Lambda solution status: 1\n",
      "V solution status: 1\n"
     ]
    },
    {
     "data": {
      "text/markdown": [
       "$ V(x)=(0.000000000 + 0.000000000x_{0} + 0.000000000x_{1} + 0.009820316x_{0} x_{1} + 2.929118349x_{0}^{2} + 0.148292068x_{1}^{2})$"
      ],
      "text/plain": [
       "<IPython.core.display.Markdown object>"
      ]
     },
     "metadata": {},
     "output_type": "display_data"
    },
    {
     "name": "stdout",
     "output_type": "stream",
     "text": [
      "Lambda solution status: 1\n",
      "V solution status: 1\n"
     ]
    },
    {
     "data": {
      "text/markdown": [
       "$ V(x)=(0.000000000 - 0.000000000x_{0} + 0.000000000x_{1} + 0.009629065x_{0} x_{1} + 2.832754005x_{0}^{2} + 0.143409642x_{1}^{2})$"
      ],
      "text/plain": [
       "<IPython.core.display.Markdown object>"
      ]
     },
     "metadata": {},
     "output_type": "display_data"
    },
    {
     "name": "stdout",
     "output_type": "stream",
     "text": [
      "Lambda solution status: 1\n",
      "V solution status: 1\n"
     ]
    },
    {
     "data": {
      "text/markdown": [
       "$ V(x)=(0.000000000 - 0.000000000x_{0} + 0.000000000x_{1} + 0.009394353x_{0} x_{1} + 2.739136562x_{0}^{2} + 0.138664237x_{1}^{2})$"
      ],
      "text/plain": [
       "<IPython.core.display.Markdown object>"
      ]
     },
     "metadata": {},
     "output_type": "display_data"
    },
    {
     "name": "stdout",
     "output_type": "stream",
     "text": [
      "Lambda solution status: 1\n",
      "V solution status: 1\n"
     ]
    },
    {
     "data": {
      "text/markdown": [
       "$ V(x)=(0.000000000 + 0.000000000x_{0} + 0.000000000x_{1} + 0.009131659x_{0} x_{1} + 2.648247172x_{0}^{2} + 0.134057468x_{1}^{2})$"
      ],
      "text/plain": [
       "<IPython.core.display.Markdown object>"
      ]
     },
     "metadata": {},
     "output_type": "display_data"
    },
    {
     "name": "stdout",
     "output_type": "stream",
     "text": [
      "Lambda solution status: 1\n",
      "V solution status: 1\n"
     ]
    },
    {
     "data": {
      "text/markdown": [
       "$ V(x)=(0.000000000 - 0.000000000x_{0} + 0.000000000x_{1} + 0.008851749x_{0} x_{1} + 2.560053399x_{0}^{2} + 0.129588811x_{1}^{2})$"
      ],
      "text/plain": [
       "<IPython.core.display.Markdown object>"
      ]
     },
     "metadata": {},
     "output_type": "display_data"
    },
    {
     "name": "stdout",
     "output_type": "stream",
     "text": [
      "Lambda solution status: 1\n",
      "V solution status: 1\n"
     ]
    },
    {
     "data": {
      "text/markdown": [
       "$ V(x)=(0.000000000 + 0.000000000x_{0} - 0.000000000x_{1} + 0.008561533x_{0} x_{1} + 2.474509410x_{0}^{2} + 0.125256176x_{1}^{2})$"
      ],
      "text/plain": [
       "<IPython.core.display.Markdown object>"
      ]
     },
     "metadata": {},
     "output_type": "display_data"
    },
    {
     "name": "stdout",
     "output_type": "stream",
     "text": [
      "Lambda solution status: 1\n",
      "V solution status: 1\n"
     ]
    },
    {
     "data": {
      "text/markdown": [
       "$ V(x)=(0.000000000 + 0.000000000x_{0} + 0.000000000x_{1} + 0.008266223x_{0} x_{1} + 2.391566981x_{0}^{2} + 0.121057055x_{1}^{2})$"
      ],
      "text/plain": [
       "<IPython.core.display.Markdown object>"
      ]
     },
     "metadata": {},
     "output_type": "display_data"
    },
    {
     "name": "stdout",
     "output_type": "stream",
     "text": [
      "Lambda solution status: 1\n",
      "V solution status: 1\n"
     ]
    },
    {
     "data": {
      "text/markdown": [
       "$ V(x)=(0.000000000 + 0.000000000x_{0} - 0.000000000x_{1} + 0.007969662x_{0} x_{1} + 2.311174193x_{0}^{2} + 0.116988590x_{1}^{2})$"
      ],
      "text/plain": [
       "<IPython.core.display.Markdown object>"
      ]
     },
     "metadata": {},
     "output_type": "display_data"
    },
    {
     "name": "stdout",
     "output_type": "stream",
     "text": [
      "Lambda solution status: 1\n",
      "V solution status: 1\n"
     ]
    },
    {
     "data": {
      "text/markdown": [
       "$ V(x)=(0.000000000 + 0.000000000x_{0} - 0.000000000x_{1} + 0.007674672x_{0} x_{1} + 2.233273581x_{0}^{2} + 0.113047572x_{1}^{2})$"
      ],
      "text/plain": [
       "<IPython.core.display.Markdown object>"
      ]
     },
     "metadata": {},
     "output_type": "display_data"
    },
    {
     "name": "stdout",
     "output_type": "stream",
     "text": [
      "Lambda solution status: 1\n",
      "V solution status: 1\n"
     ]
    },
    {
     "data": {
      "text/markdown": [
       "$ V(x)=(0.000000000 - 0.000000000x_{0} - 0.000000000x_{1} + 0.007383530x_{0} x_{1} + 2.157800040x_{0}^{2} + 0.109230421x_{1}^{2})$"
      ],
      "text/plain": [
       "<IPython.core.display.Markdown object>"
      ]
     },
     "metadata": {},
     "output_type": "display_data"
    },
    {
     "name": "stdout",
     "output_type": "stream",
     "text": [
      "Lambda solution status: 1\n",
      "V solution status: 1\n"
     ]
    },
    {
     "data": {
      "text/markdown": [
       "$ V(x)=(0.000000000 + 0.000000000x_{0} + 0.000000000x_{1} + 0.007099169x_{0} x_{1} + 2.084679304x_{0}^{2} + 0.105533243x_{1}^{2})$"
      ],
      "text/plain": [
       "<IPython.core.display.Markdown object>"
      ]
     },
     "metadata": {},
     "output_type": "display_data"
    },
    {
     "name": "stdout",
     "output_type": "stream",
     "text": [
      "Lambda solution status: 1\n",
      "V solution status: 1\n"
     ]
    },
    {
     "data": {
      "text/markdown": [
       "$ V(x)=(0.000000000 + 0.000000000x_{0} - 0.000000000x_{1} + 0.006825812x_{0} x_{1} + 2.013814416x_{0}^{2} + 0.101951170x_{1}^{2})$"
      ],
      "text/plain": [
       "<IPython.core.display.Markdown object>"
      ]
     },
     "metadata": {},
     "output_type": "display_data"
    },
    {
     "name": "stdout",
     "output_type": "stream",
     "text": [
      "Lambda solution status: 1\n",
      "V solution status: 1\n"
     ]
    },
    {
     "data": {
      "text/markdown": [
       "$ V(x)=(0.000000000 + 0.000000000x_{0} - 0.000000000x_{1} + 0.006569723x_{0} x_{1} + 1.945047147x_{0}^{2} + 0.098476348x_{1}^{2})$"
      ],
      "text/plain": [
       "<IPython.core.display.Markdown object>"
      ]
     },
     "metadata": {},
     "output_type": "display_data"
    },
    {
     "name": "stdout",
     "output_type": "stream",
     "text": [
      "Lambda solution status: 1\n",
      "V solution status: 1\n"
     ]
    },
    {
     "data": {
      "text/markdown": [
       "$ V(x)=(0.000000000 - 0.000000000x_{0} - 0.000000000x_{1} + 0.006344132x_{0} x_{1} + 1.878120915x_{0}^{2} + 0.095096557x_{1}^{2})$"
      ],
      "text/plain": [
       "<IPython.core.display.Markdown object>"
      ]
     },
     "metadata": {},
     "output_type": "display_data"
    },
    {
     "name": "stdout",
     "output_type": "stream",
     "text": [
      "Lambda solution status: 1\n",
      "V solution status: 1\n"
     ]
    },
    {
     "data": {
      "text/markdown": [
       "$ V(x)=(0.000000000 + 0.000000000x_{0} - 0.000000000x_{1} + 0.006064789x_{0} x_{1} + 1.814274805x_{0}^{2} + 0.091865260x_{1}^{2})$"
      ],
      "text/plain": [
       "<IPython.core.display.Markdown object>"
      ]
     },
     "metadata": {},
     "output_type": "display_data"
    },
    {
     "name": "stdout",
     "output_type": "stream",
     "text": [
      "Lambda solution status: 1\n",
      "V solution status: 1\n"
     ]
    },
    {
     "data": {
      "text/markdown": [
       "$ V(x)=(0.000000000 - 0.000000000x_{0} - 0.000000000x_{1} + 0.005743952x_{0} x_{1} + 1.753649731x_{0}^{2} + 0.088793259x_{1}^{2})$"
      ],
      "text/plain": [
       "<IPython.core.display.Markdown object>"
      ]
     },
     "metadata": {},
     "output_type": "display_data"
    },
    {
     "name": "stdout",
     "output_type": "stream",
     "text": [
      "Lambda solution status: 1\n",
      "V solution status: 1\n"
     ]
    },
    {
     "data": {
      "text/markdown": [
       "$ V(x)=(0.000000000 - 0.000000000x_{0} - 0.000000000x_{1} + 0.005384609x_{0} x_{1} + 1.696230216x_{0}^{2} + 0.085881386x_{1}^{2})$"
      ],
      "text/plain": [
       "<IPython.core.display.Markdown object>"
      ]
     },
     "metadata": {},
     "output_type": "display_data"
    },
    {
     "name": "stdout",
     "output_type": "stream",
     "text": [
      "Lambda solution status: 1\n",
      "V solution status: 1\n"
     ]
    },
    {
     "data": {
      "text/markdown": [
       "$ V(x)=(0.000000000 + 0.000000000x_{0} + 0.000000000x_{1} + 0.004979457x_{0} x_{1} + 1.641091998x_{0}^{2} + 0.083082949x_{1}^{2})$"
      ],
      "text/plain": [
       "<IPython.core.display.Markdown object>"
      ]
     },
     "metadata": {},
     "output_type": "display_data"
    },
    {
     "name": "stdout",
     "output_type": "stream",
     "text": [
      "Lambda solution status: 1\n",
      "V solution status: 1\n"
     ]
    },
    {
     "data": {
      "text/markdown": [
       "$ V(x)=(0.000000000 + 0.000000000x_{0} + 0.000000000x_{1} + 0.004556271x_{0} x_{1} + 1.588169506x_{0}^{2} + 0.080397152x_{1}^{2})$"
      ],
      "text/plain": [
       "<IPython.core.display.Markdown object>"
      ]
     },
     "metadata": {},
     "output_type": "display_data"
    },
    {
     "name": "stdout",
     "output_type": "stream",
     "text": [
      "Lambda solution status: 1\n",
      "V solution status: 1\n"
     ]
    },
    {
     "data": {
      "text/markdown": [
       "$ V(x)=(0.000000000 + 0.000000000x_{0} + 0.000000000x_{1} + 0.004132255x_{0} x_{1} + 1.537311240x_{0}^{2} + 0.077817496x_{1}^{2})$"
      ],
      "text/plain": [
       "<IPython.core.display.Markdown object>"
      ]
     },
     "metadata": {},
     "output_type": "display_data"
    },
    {
     "name": "stdout",
     "output_type": "stream",
     "text": [
      "Lambda solution status: 1\n",
      "V solution status: 1\n"
     ]
    },
    {
     "data": {
      "text/markdown": [
       "$ V(x)=(0.000000000 - 0.000000000x_{0} + 0.000000000x_{1} + 0.003719706x_{0} x_{1} + 1.488457355x_{0}^{2} + 0.075341535x_{1}^{2})$"
      ],
      "text/plain": [
       "<IPython.core.display.Markdown object>"
      ]
     },
     "metadata": {},
     "output_type": "display_data"
    },
    {
     "name": "stdout",
     "output_type": "stream",
     "text": [
      "Lambda solution status: 1\n",
      "V solution status: 1\n"
     ]
    },
    {
     "data": {
      "text/markdown": [
       "$ V(x)=(0.000000000 + 0.000000000x_{0} + 0.000000000x_{1} + 0.003360300x_{0} x_{1} + 1.441666565x_{0}^{2} + 0.072976167x_{1}^{2})$"
      ],
      "text/plain": [
       "<IPython.core.display.Markdown object>"
      ]
     },
     "metadata": {},
     "output_type": "display_data"
    },
    {
     "name": "stdout",
     "output_type": "stream",
     "text": [
      "Lambda solution status: 1\n",
      "V solution status: 1\n"
     ]
    },
    {
     "data": {
      "text/markdown": [
       "$ V(x)=(0.000000000 - 0.000000000x_{0} + 0.000000000x_{1} + 0.002999656x_{0} x_{1} + 1.395795933x_{0}^{2} + 0.070655367x_{1}^{2})$"
      ],
      "text/plain": [
       "<IPython.core.display.Markdown object>"
      ]
     },
     "metadata": {},
     "output_type": "display_data"
    },
    {
     "name": "stdout",
     "output_type": "stream",
     "text": [
      "Lambda solution status: 1\n",
      "V solution status: 1\n"
     ]
    },
    {
     "data": {
      "text/markdown": [
       "$ V(x)=(0.000000000 - 0.000000000x_{0} + 0.000000000x_{1} + 0.002901085x_{0} x_{1} + 1.352952609x_{0}^{2} + 0.068517083x_{1}^{2})$"
      ],
      "text/plain": [
       "<IPython.core.display.Markdown object>"
      ]
     },
     "metadata": {},
     "output_type": "display_data"
    },
    {
     "name": "stdout",
     "output_type": "stream",
     "text": [
      "Lambda solution status: 1\n",
      "V solution status: 1\n"
     ]
    },
    {
     "data": {
      "text/markdown": [
       "$ V(x)=(0.000000000 + 0.000000000x_{0} - 0.000000000x_{1} + 0.002775932x_{0} x_{1} + 1.311584104x_{0}^{2} + 0.066444398x_{1}^{2})$"
      ],
      "text/plain": [
       "<IPython.core.display.Markdown object>"
      ]
     },
     "metadata": {},
     "output_type": "display_data"
    },
    {
     "name": "stdout",
     "output_type": "stream",
     "text": [
      "Lambda solution status: 1\n",
      "V solution status: 1\n"
     ]
    },
    {
     "data": {
      "text/markdown": [
       "$ V(x)=(0.000000000 + 0.000000000x_{0} + 0.000000000x_{1} + 0.002635739x_{0} x_{1} + 1.271645992x_{0}^{2} + 0.064437901x_{1}^{2})$"
      ],
      "text/plain": [
       "<IPython.core.display.Markdown object>"
      ]
     },
     "metadata": {},
     "output_type": "display_data"
    },
    {
     "name": "stdout",
     "output_type": "stream",
     "text": [
      "Lambda solution status: 1\n",
      "V solution status: 1\n"
     ]
    },
    {
     "data": {
      "text/markdown": [
       "$ V(x)=(0.000000000 - 0.000000000x_{0} + 0.000000000x_{1} + 0.002480937x_{0} x_{1} + 1.233056137x_{0}^{2} + 0.062494417x_{1}^{2})$"
      ],
      "text/plain": [
       "<IPython.core.display.Markdown object>"
      ]
     },
     "metadata": {},
     "output_type": "display_data"
    },
    {
     "name": "stdout",
     "output_type": "stream",
     "text": [
      "Lambda solution status: 1\n",
      "V solution status: 1\n"
     ]
    },
    {
     "data": {
      "text/markdown": [
       "$ V(x)=(0.000000000 - 0.000000000x_{0} + 0.000000000x_{1} + 0.002193082x_{0} x_{1} + 1.194776911x_{0}^{2} + 0.060546790x_{1}^{2})$"
      ],
      "text/plain": [
       "<IPython.core.display.Markdown object>"
      ]
     },
     "metadata": {},
     "output_type": "display_data"
    },
    {
     "name": "stdout",
     "output_type": "stream",
     "text": [
      "Lambda solution status: 1\n",
      "V solution status: 1\n"
     ]
    },
    {
     "data": {
      "text/markdown": [
       "$ V(x)=(0.000000000 + 0.000000000x_{0} + 0.000000000x_{1} + 0.002117354x_{0} x_{1} + 1.160387386x_{0}^{2} + 0.058822681x_{1}^{2})$"
      ],
      "text/plain": [
       "<IPython.core.display.Markdown object>"
      ]
     },
     "metadata": {},
     "output_type": "display_data"
    },
    {
     "name": "stdout",
     "output_type": "stream",
     "text": [
      "Lambda solution status: 1\n",
      "V solution status: 1\n"
     ]
    },
    {
     "data": {
      "text/markdown": [
       "$ V(x)=(0.000000000 + 0.000000000x_{0} - 0.000000000x_{1} + 0.001857103x_{0} x_{1} + 1.126133563x_{0}^{2} + 0.057082428x_{1}^{2})$"
      ],
      "text/plain": [
       "<IPython.core.display.Markdown object>"
      ]
     },
     "metadata": {},
     "output_type": "display_data"
    },
    {
     "name": "stdout",
     "output_type": "stream",
     "text": [
      "Lambda solution status: 1\n",
      "V solution status: 1\n"
     ]
    },
    {
     "data": {
      "text/markdown": [
       "$ V(x)=(0.000000000 - 0.000000000x_{0} + 0.000000000x_{1} + 0.001862439x_{0} x_{1} + 1.094730649x_{0}^{2} + 0.055513236x_{1}^{2})$"
      ],
      "text/plain": [
       "<IPython.core.display.Markdown object>"
      ]
     },
     "metadata": {},
     "output_type": "display_data"
    },
    {
     "name": "stdout",
     "output_type": "stream",
     "text": [
      "Lambda solution status: 1\n",
      "V solution status: 1\n"
     ]
    },
    {
     "data": {
      "text/markdown": [
       "$ V(x)=(0.000000000 - 0.000000000x_{0} - 0.000000000x_{1} + 0.001776100x_{0} x_{1} + 1.064725891x_{0}^{2} + 0.054002218x_{1}^{2})$"
      ],
      "text/plain": [
       "<IPython.core.display.Markdown object>"
      ]
     },
     "metadata": {},
     "output_type": "display_data"
    },
    {
     "name": "stdout",
     "output_type": "stream",
     "text": [
      "Lambda solution status: 1\n",
      "V solution status: 1\n"
     ]
    },
    {
     "data": {
      "text/markdown": [
       "$ V(x)=(0.000000000 + 0.000000000x_{0} + 0.000000000x_{1} + 0.001716553x_{0} x_{1} + 1.035988622x_{0}^{2} + 0.052555956x_{1}^{2})$"
      ],
      "text/plain": [
       "<IPython.core.display.Markdown object>"
      ]
     },
     "metadata": {},
     "output_type": "display_data"
    },
    {
     "name": "stdout",
     "output_type": "stream",
     "text": [
      "Lambda solution status: 1\n",
      "V solution status: 1\n"
     ]
    },
    {
     "data": {
      "text/markdown": [
       "$ V(x)=(0.000000000 - 0.000000000x_{0} - 0.000000000x_{1} + 0.001684921x_{0} x_{1} + 1.008205567x_{0}^{2} + 0.051158157x_{1}^{2})$"
      ],
      "text/plain": [
       "<IPython.core.display.Markdown object>"
      ]
     },
     "metadata": {},
     "output_type": "display_data"
    },
    {
     "name": "stdout",
     "output_type": "stream",
     "text": [
      "Lambda solution status: 1\n",
      "V solution status: 1\n"
     ]
    },
    {
     "data": {
      "text/markdown": [
       "$ V(x)=(0.000000000 - 0.000000000x_{0} - 0.000000000x_{1} + 0.001677205x_{0} x_{1} + 0.981008821x_{0}^{2} + 0.049790309x_{1}^{2})$"
      ],
      "text/plain": [
       "<IPython.core.display.Markdown object>"
      ]
     },
     "metadata": {},
     "output_type": "display_data"
    },
    {
     "name": "stdout",
     "output_type": "stream",
     "text": [
      "Lambda solution status: 1\n",
      "V solution status: 1\n"
     ]
    },
    {
     "data": {
      "text/markdown": [
       "$ V(x)=(0.000000000 - 0.000000000x_{0} + 0.000000000x_{1} + 0.001666533x_{0} x_{1} + 0.954441706x_{0}^{2} + 0.048452106x_{1}^{2})$"
      ],
      "text/plain": [
       "<IPython.core.display.Markdown object>"
      ]
     },
     "metadata": {},
     "output_type": "display_data"
    },
    {
     "name": "stdout",
     "output_type": "stream",
     "text": [
      "Lambda solution status: 1\n",
      "V solution status: 1\n"
     ]
    },
    {
     "data": {
      "text/markdown": [
       "$ V(x)=(0.000000000 - 0.000000000x_{0} - 0.000000000x_{1} + 0.001619463x_{0} x_{1} + 0.928450211x_{0}^{2} + 0.047137858x_{1}^{2})$"
      ],
      "text/plain": [
       "<IPython.core.display.Markdown object>"
      ]
     },
     "metadata": {},
     "output_type": "display_data"
    },
    {
     "name": "stdout",
     "output_type": "stream",
     "text": [
      "Lambda solution status: 1\n",
      "V solution status: 1\n"
     ]
    },
    {
     "data": {
      "text/markdown": [
       "$ V(x)=(0.000000000 - 0.000000000x_{0} + 0.000000000x_{1} + 0.001532294x_{0} x_{1} + 0.902875734x_{0}^{2} + 0.045839757x_{1}^{2})$"
      ],
      "text/plain": [
       "<IPython.core.display.Markdown object>"
      ]
     },
     "metadata": {},
     "output_type": "display_data"
    },
    {
     "name": "stdout",
     "output_type": "stream",
     "text": [
      "Lambda solution status: 1\n",
      "V solution status: 1\n"
     ]
    },
    {
     "data": {
      "text/markdown": [
       "$ V(x)=(0.000000000 + 0.000000000x_{0} + 0.000000000x_{1} + 0.001450097x_{0} x_{1} + 0.877665534x_{0}^{2} + 0.044560460x_{1}^{2})$"
      ],
      "text/plain": [
       "<IPython.core.display.Markdown object>"
      ]
     },
     "metadata": {},
     "output_type": "display_data"
    },
    {
     "name": "stdout",
     "output_type": "stream",
     "text": [
      "Lambda solution status: 1\n",
      "V solution status: 1\n"
     ]
    },
    {
     "data": {
      "text/markdown": [
       "$ V(x)=(0.000000000 + 0.000000000x_{0} - 0.000000000x_{1} + 0.001384804x_{0} x_{1} + 0.852525017x_{0}^{2} + 0.043285580x_{1}^{2})$"
      ],
      "text/plain": [
       "<IPython.core.display.Markdown object>"
      ]
     },
     "metadata": {},
     "output_type": "display_data"
    },
    {
     "name": "stdout",
     "output_type": "stream",
     "text": [
      "Lambda solution status: 1\n",
      "V solution status: 1\n"
     ]
    },
    {
     "data": {
      "text/markdown": [
       "$ V(x)=(0.000000000 - 0.000000000x_{0} - 0.000000000x_{1} + 0.001322288x_{0} x_{1} + 0.827437816x_{0}^{2} + 0.042012939x_{1}^{2})$"
      ],
      "text/plain": [
       "<IPython.core.display.Markdown object>"
      ]
     },
     "metadata": {},
     "output_type": "display_data"
    },
    {
     "name": "stdout",
     "output_type": "stream",
     "text": [
      "Lambda solution status: 1\n",
      "V solution status: 1\n"
     ]
    },
    {
     "data": {
      "text/markdown": [
       "$ V(x)=(0.000000000 - 0.000000000x_{0} - 0.000000000x_{1} + 0.001223222x_{0} x_{1} + 0.802199824x_{0}^{2} + 0.040728217x_{1}^{2})$"
      ],
      "text/plain": [
       "<IPython.core.display.Markdown object>"
      ]
     },
     "metadata": {},
     "output_type": "display_data"
    },
    {
     "name": "stdout",
     "output_type": "stream",
     "text": [
      "Lambda solution status: 1\n",
      "V solution status: 1\n"
     ]
    },
    {
     "data": {
      "text/markdown": [
       "$ V(x)=(0.000000000 + 0.000000000x_{0} - 0.000000000x_{1} + 0.001280834x_{0} x_{1} + 0.777612551x_{0}^{2} + 0.039490456x_{1}^{2})$"
      ],
      "text/plain": [
       "<IPython.core.display.Markdown object>"
      ]
     },
     "metadata": {},
     "output_type": "display_data"
    },
    {
     "name": "stdout",
     "output_type": "stream",
     "text": [
      "Lambda solution status: 1\n",
      "V solution status: 1\n"
     ]
    },
    {
     "data": {
      "text/markdown": [
       "$ V(x)=(0.000000000 + 0.000000000x_{0} - 0.000000000x_{1} + 0.001315921x_{0} x_{1} + 0.752996308x_{0}^{2} + 0.038247905x_{1}^{2})$"
      ],
      "text/plain": [
       "<IPython.core.display.Markdown object>"
      ]
     },
     "metadata": {},
     "output_type": "display_data"
    },
    {
     "name": "stdout",
     "output_type": "stream",
     "text": [
      "Lambda solution status: 1\n",
      "V solution status: 1\n"
     ]
    },
    {
     "data": {
      "text/markdown": [
       "$ V(x)=(0.000000000 + 0.000000000x_{0} + 0.000000000x_{1} + 0.001359411x_{0} x_{1} + 0.728570215x_{0}^{2} + 0.037014950x_{1}^{2})$"
      ],
      "text/plain": [
       "<IPython.core.display.Markdown object>"
      ]
     },
     "metadata": {},
     "output_type": "display_data"
    },
    {
     "name": "stdout",
     "output_type": "stream",
     "text": [
      "Lambda solution status: 1\n",
      "V solution status: 1\n"
     ]
    },
    {
     "data": {
      "text/markdown": [
       "$ V(x)=(0.000000000 + 0.000000000x_{0} + 0.000000000x_{1} + 0.001435073x_{0} x_{1} + 0.704485766x_{0}^{2} + 0.035801587x_{1}^{2})$"
      ],
      "text/plain": [
       "<IPython.core.display.Markdown object>"
      ]
     },
     "metadata": {},
     "output_type": "display_data"
    },
    {
     "name": "stdout",
     "output_type": "stream",
     "text": [
      "Lambda solution status: 1\n",
      "V solution status: 1\n"
     ]
    },
    {
     "data": {
      "text/markdown": [
       "$ V(x)=(0.000000000 - 0.000000000x_{0} + 0.000000000x_{1} + 0.001307794x_{0} x_{1} + 0.680340902x_{0}^{2} + 0.034564454x_{1}^{2})$"
      ],
      "text/plain": [
       "<IPython.core.display.Markdown object>"
      ]
     },
     "metadata": {},
     "output_type": "display_data"
    },
    {
     "name": "stdout",
     "output_type": "stream",
     "text": [
      "Lambda solution status: 1\n",
      "V solution status: 1\n"
     ]
    },
    {
     "data": {
      "text/markdown": [
       "$ V(x)=(0.000000000 + 0.000000000x_{0} + 0.000000000x_{1} + 0.001332802x_{0} x_{1} + 0.657049686x_{0}^{2} + 0.033385954x_{1}^{2})$"
      ],
      "text/plain": [
       "<IPython.core.display.Markdown object>"
      ]
     },
     "metadata": {},
     "output_type": "display_data"
    },
    {
     "name": "stdout",
     "output_type": "stream",
     "text": [
      "Lambda solution status: 1\n",
      "V solution status: 1\n"
     ]
    },
    {
     "data": {
      "text/markdown": [
       "$ V(x)=(0.000000000 - 0.000000000x_{0} + 0.000000000x_{1} + 0.001233949x_{0} x_{1} + 0.633751278x_{0}^{2} + 0.032195208x_{1}^{2})$"
      ],
      "text/plain": [
       "<IPython.core.display.Markdown object>"
      ]
     },
     "metadata": {},
     "output_type": "display_data"
    },
    {
     "name": "stdout",
     "output_type": "stream",
     "text": [
      "Lambda solution status: 1\n",
      "V solution status: 1\n"
     ]
    },
    {
     "data": {
      "text/markdown": [
       "$ V(x)=(0.000000000 - 0.000000000x_{0} - 0.000000000x_{1} + 0.001226787x_{0} x_{1} + 0.610693000x_{0}^{2} + 0.031025182x_{1}^{2})$"
      ],
      "text/plain": [
       "<IPython.core.display.Markdown object>"
      ]
     },
     "metadata": {},
     "output_type": "display_data"
    },
    {
     "name": "stdout",
     "output_type": "stream",
     "text": [
      "Lambda solution status: 1\n",
      "V solution status: 1\n"
     ]
    },
    {
     "data": {
      "text/markdown": [
       "$ V(x)=(0.000000000 - 0.000000000x_{0} - 0.000000000x_{1} + 0.001267187x_{0} x_{1} + 0.587317195x_{0}^{2} + 0.029842796x_{1}^{2})$"
      ],
      "text/plain": [
       "<IPython.core.display.Markdown object>"
      ]
     },
     "metadata": {},
     "output_type": "display_data"
    },
    {
     "name": "stdout",
     "output_type": "stream",
     "text": [
      "Lambda solution status: 1\n",
      "V solution status: 1\n"
     ]
    },
    {
     "data": {
      "text/markdown": [
       "$ V(x)=(0.000000000 - 0.000000000x_{0} + 0.000000000x_{1} + 0.001335408x_{0} x_{1} + 0.563360833x_{0}^{2} + 0.028631428x_{1}^{2})$"
      ],
      "text/plain": [
       "<IPython.core.display.Markdown object>"
      ]
     },
     "metadata": {},
     "output_type": "display_data"
    },
    {
     "name": "stdout",
     "output_type": "stream",
     "text": [
      "Lambda solution status: 1\n",
      "V solution status: 1\n"
     ]
    },
    {
     "data": {
      "text/markdown": [
       "$ V(x)=(0.000000000 + 0.000000000x_{0} + 0.000000000x_{1} + 0.001385372x_{0} x_{1} + 0.539461308x_{0}^{2} + 0.027419767x_{1}^{2})$"
      ],
      "text/plain": [
       "<IPython.core.display.Markdown object>"
      ]
     },
     "metadata": {},
     "output_type": "display_data"
    },
    {
     "name": "stdout",
     "output_type": "stream",
     "text": [
      "Lambda solution status: 1\n",
      "V solution status: 1\n"
     ]
    },
    {
     "data": {
      "text/markdown": [
       "$ V(x)=(0.000000000 - 0.000000000x_{0} + 0.000000000x_{1} + 0.001393316x_{0} x_{1} + 0.516042893x_{0}^{2} + 0.026228080x_{1}^{2})$"
      ],
      "text/plain": [
       "<IPython.core.display.Markdown object>"
      ]
     },
     "metadata": {},
     "output_type": "display_data"
    },
    {
     "name": "stdout",
     "output_type": "stream",
     "text": [
      "Lambda solution status: 1\n",
      "V solution status: 1\n"
     ]
    },
    {
     "data": {
      "text/markdown": [
       "$ V(x)=(0.000000000 - 0.000000000x_{0} - 0.000000000x_{1} + 0.001320970x_{0} x_{1} + 0.493075644x_{0}^{2} + 0.025052369x_{1}^{2})$"
      ],
      "text/plain": [
       "<IPython.core.display.Markdown object>"
      ]
     },
     "metadata": {},
     "output_type": "display_data"
    },
    {
     "name": "stdout",
     "output_type": "stream",
     "text": [
      "Lambda solution status: 1\n",
      "V solution status: 1\n"
     ]
    },
    {
     "data": {
      "text/markdown": [
       "$ V(x)=(0.000000000 + 0.000000000x_{0} - 0.000000000x_{1} + 0.001202762x_{0} x_{1} + 0.470391808x_{0}^{2} + 0.023888833x_{1}^{2})$"
      ],
      "text/plain": [
       "<IPython.core.display.Markdown object>"
      ]
     },
     "metadata": {},
     "output_type": "display_data"
    },
    {
     "name": "stdout",
     "output_type": "stream",
     "text": [
      "Lambda solution status: 1\n",
      "V solution status: 1\n"
     ]
    },
    {
     "data": {
      "text/markdown": [
       "$ V(x)=(0.000000000 + 0.000000000x_{0} + 0.000000000x_{1} + 0.001103438x_{0} x_{1} + 0.447954493x_{0}^{2} + 0.022741966x_{1}^{2})$"
      ],
      "text/plain": [
       "<IPython.core.display.Markdown object>"
      ]
     },
     "metadata": {},
     "output_type": "display_data"
    },
    {
     "name": "stdout",
     "output_type": "stream",
     "text": [
      "Lambda solution status: 1\n",
      "V solution status: 1\n"
     ]
    },
    {
     "data": {
      "text/markdown": [
       "$ V(x)=(0.000000000 + 0.000000000x_{0} - 0.000000000x_{1} + 0.001060061x_{0} x_{1} + 0.425984745x_{0}^{2} + 0.021625175x_{1}^{2})$"
      ],
      "text/plain": [
       "<IPython.core.display.Markdown object>"
      ]
     },
     "metadata": {},
     "output_type": "display_data"
    },
    {
     "name": "stdout",
     "output_type": "stream",
     "text": [
      "Lambda solution status: 1\n",
      "V solution status: 1\n"
     ]
    },
    {
     "data": {
      "text/markdown": [
       "$ V(x)=(0.000000000 + 0.000000000x_{0} - 0.000000000x_{1} + 0.001012664x_{0} x_{1} + 0.403864197x_{0}^{2} + 0.020500873x_{1}^{2})$"
      ],
      "text/plain": [
       "<IPython.core.display.Markdown object>"
      ]
     },
     "metadata": {},
     "output_type": "display_data"
    },
    {
     "name": "stdout",
     "output_type": "stream",
     "text": [
      "Lambda solution status: 1\n",
      "V solution status: 1\n"
     ]
    },
    {
     "data": {
      "text/markdown": [
       "$ V(x)=(0.000000000 - 0.000000000x_{0} + 0.000000000x_{1} + 0.000946973x_{0} x_{1} + 0.382762940x_{0}^{2} + 0.019427408x_{1}^{2})$"
      ],
      "text/plain": [
       "<IPython.core.display.Markdown object>"
      ]
     },
     "metadata": {},
     "output_type": "display_data"
    },
    {
     "name": "stdout",
     "output_type": "stream",
     "text": [
      "Lambda solution status: 1\n",
      "V solution status: 1\n"
     ]
    },
    {
     "data": {
      "text/markdown": [
       "$ V(x)=(0.000000000 + 0.000000000x_{0} - 0.000000000x_{1} + 0.000874901x_{0} x_{1} + 0.363024023x_{0}^{2} + 0.018423595x_{1}^{2})$"
      ],
      "text/plain": [
       "<IPython.core.display.Markdown object>"
      ]
     },
     "metadata": {},
     "output_type": "display_data"
    },
    {
     "name": "stdout",
     "output_type": "stream",
     "text": [
      "Lambda solution status: 1\n",
      "V solution status: 1\n"
     ]
    },
    {
     "data": {
      "text/markdown": [
       "$ V(x)=(0.000000000 + 0.000000000x_{0} + 0.000000000x_{1} + 0.000794229x_{0} x_{1} + 0.345268861x_{0}^{2} + 0.017520991x_{1}^{2})$"
      ],
      "text/plain": [
       "<IPython.core.display.Markdown object>"
      ]
     },
     "metadata": {},
     "output_type": "display_data"
    },
    {
     "name": "stdout",
     "output_type": "stream",
     "text": [
      "Lambda solution status: 1\n",
      "V solution status: 1\n"
     ]
    },
    {
     "data": {
      "text/markdown": [
       "$ V(x)=(0.000000000 + 0.000000000x_{0} - 0.000000000x_{1} + 0.000721482x_{0} x_{1} + 0.329191490x_{0}^{2} + 0.016704651x_{1}^{2})$"
      ],
      "text/plain": [
       "<IPython.core.display.Markdown object>"
      ]
     },
     "metadata": {},
     "output_type": "display_data"
    },
    {
     "name": "stdout",
     "output_type": "stream",
     "text": [
      "Lambda solution status: 1\n",
      "V solution status: 1\n"
     ]
    },
    {
     "data": {
      "text/markdown": [
       "$ V(x)=(0.000000000 + 0.000000000x_{0} + 0.000000000x_{1} + 0.000670878x_{0} x_{1} + 0.313798483x_{0}^{2} + 0.015924662x_{1}^{2})$"
      ],
      "text/plain": [
       "<IPython.core.display.Markdown object>"
      ]
     },
     "metadata": {},
     "output_type": "display_data"
    },
    {
     "name": "stdout",
     "output_type": "stream",
     "text": [
      "Lambda solution status: 1\n",
      "V solution status: 1\n"
     ]
    },
    {
     "data": {
      "text/markdown": [
       "$ V(x)=(0.000000000 - 0.000000000x_{0} + 0.000000000x_{1} + 0.000594477x_{0} x_{1} + 0.299311728x_{0}^{2} + 0.015188758x_{1}^{2})$"
      ],
      "text/plain": [
       "<IPython.core.display.Markdown object>"
      ]
     },
     "metadata": {},
     "output_type": "display_data"
    },
    {
     "name": "stdout",
     "output_type": "stream",
     "text": [
      "Lambda solution status: 1\n",
      "V solution status: 1\n"
     ]
    },
    {
     "data": {
      "text/markdown": [
       "$ V(x)=(0.000000000 - 0.000000000x_{0} + 0.000000000x_{1} + 0.000519307x_{0} x_{1} + 0.285572663x_{0}^{2} + 0.014490827x_{1}^{2})$"
      ],
      "text/plain": [
       "<IPython.core.display.Markdown object>"
      ]
     },
     "metadata": {},
     "output_type": "display_data"
    },
    {
     "name": "stdout",
     "output_type": "stream",
     "text": [
      "Lambda solution status: 1\n",
      "V solution status: 1\n"
     ]
    },
    {
     "data": {
      "text/markdown": [
       "$ V(x)=(0.000000000 - 0.000000000x_{0} + 0.000000000x_{1} + 0.000455621x_{0} x_{1} + 0.272608583x_{0}^{2} + 0.013832805x_{1}^{2})$"
      ],
      "text/plain": [
       "<IPython.core.display.Markdown object>"
      ]
     },
     "metadata": {},
     "output_type": "display_data"
    },
    {
     "name": "stdout",
     "output_type": "stream",
     "text": [
      "Lambda solution status: 1\n",
      "V solution status: 1\n"
     ]
    },
    {
     "data": {
      "text/markdown": [
       "$ V(x)=(0.000000000 + 0.000000000x_{0} + 0.000000000x_{1} + 0.000405973x_{0} x_{1} + 0.260382335x_{0}^{2} + 0.013212866x_{1}^{2})$"
      ],
      "text/plain": [
       "<IPython.core.display.Markdown object>"
      ]
     },
     "metadata": {},
     "output_type": "display_data"
    },
    {
     "name": "stdout",
     "output_type": "stream",
     "text": [
      "Lambda solution status: 1\n",
      "V solution status: 1\n"
     ]
    },
    {
     "data": {
      "text/markdown": [
       "$ V(x)=(0.000000000 - 0.000000000x_{0} - 0.000000000x_{1} + 0.000364537x_{0} x_{1} + 0.248704135x_{0}^{2} + 0.012621018x_{1}^{2})$"
      ],
      "text/plain": [
       "<IPython.core.display.Markdown object>"
      ]
     },
     "metadata": {},
     "output_type": "display_data"
    },
    {
     "name": "stdout",
     "output_type": "stream",
     "text": [
      "Lambda solution status: 1\n",
      "V solution status: 1\n"
     ]
    },
    {
     "data": {
      "text/markdown": [
       "$ V(x)=(0.000000000 + 0.000000000x_{0} + 0.000000000x_{1} + 0.000330596x_{0} x_{1} + 0.237499855x_{0}^{2} + 0.012053380x_{1}^{2})$"
      ],
      "text/plain": [
       "<IPython.core.display.Markdown object>"
      ]
     },
     "metadata": {},
     "output_type": "display_data"
    },
    {
     "name": "stdout",
     "output_type": "stream",
     "text": [
      "Lambda solution status: 1\n",
      "V solution status: 1\n"
     ]
    },
    {
     "data": {
      "text/markdown": [
       "$ V(x)=(0.000000000 + 0.000000000x_{0} - 0.000000000x_{1} + 0.000302745x_{0} x_{1} + 0.226734020x_{0}^{2} + 0.011508016x_{1}^{2})$"
      ],
      "text/plain": [
       "<IPython.core.display.Markdown object>"
      ]
     },
     "metadata": {},
     "output_type": "display_data"
    },
    {
     "name": "stdout",
     "output_type": "stream",
     "text": [
      "Lambda solution status: 1\n",
      "V solution status: 1\n"
     ]
    },
    {
     "data": {
      "text/markdown": [
       "$ V(x)=(0.000000000 - 0.000000000x_{0} - 0.000000000x_{1} + 0.000279436x_{0} x_{1} + 0.216428918x_{0}^{2} + 0.010985898x_{1}^{2})$"
      ],
      "text/plain": [
       "<IPython.core.display.Markdown object>"
      ]
     },
     "metadata": {},
     "output_type": "display_data"
    },
    {
     "name": "stdout",
     "output_type": "stream",
     "text": [
      "Lambda solution status: 1\n",
      "V solution status: 1\n"
     ]
    },
    {
     "data": {
      "text/markdown": [
       "$ V(x)=(0.000000000 - 0.000000000x_{0} - 0.000000000x_{1} + 0.000251205x_{0} x_{1} + 0.206278470x_{0}^{2} + 0.010471338x_{1}^{2})$"
      ],
      "text/plain": [
       "<IPython.core.display.Markdown object>"
      ]
     },
     "metadata": {},
     "output_type": "display_data"
    },
    {
     "name": "stdout",
     "output_type": "stream",
     "text": [
      "Lambda solution status: 1\n",
      "V solution status: 1\n"
     ]
    },
    {
     "data": {
      "text/markdown": [
       "$ V(x)=(0.000000000 - 0.000000000x_{0} + 0.000000000x_{1} + 0.000226666x_{0} x_{1} + 0.196535310x_{0}^{2} + 0.009977489x_{1}^{2})$"
      ],
      "text/plain": [
       "<IPython.core.display.Markdown object>"
      ]
     },
     "metadata": {},
     "output_type": "display_data"
    },
    {
     "name": "stdout",
     "output_type": "stream",
     "text": [
      "Lambda solution status: 1\n",
      "V solution status: 1\n"
     ]
    },
    {
     "data": {
      "text/markdown": [
       "$ V(x)=(0.000000000 + 0.000000000x_{0} + 0.000000000x_{1} + 0.000205930x_{0} x_{1} + 0.187323639x_{0}^{2} + 0.009510540x_{1}^{2})$"
      ],
      "text/plain": [
       "<IPython.core.display.Markdown object>"
      ]
     },
     "metadata": {},
     "output_type": "display_data"
    },
    {
     "name": "stdout",
     "output_type": "stream",
     "text": [
      "Lambda solution status: 1\n",
      "V solution status: 1\n"
     ]
    },
    {
     "data": {
      "text/markdown": [
       "$ V(x)=(0.000000000 - 0.000000000x_{0} - 0.000000000x_{1} + 0.000189697x_{0} x_{1} + 0.178455748x_{0}^{2} + 0.009061085x_{1}^{2})$"
      ],
      "text/plain": [
       "<IPython.core.display.Markdown object>"
      ]
     },
     "metadata": {},
     "output_type": "display_data"
    },
    {
     "name": "stdout",
     "output_type": "stream",
     "text": [
      "Lambda solution status: 1\n",
      "V solution status: 1\n"
     ]
    },
    {
     "data": {
      "text/markdown": [
       "$ V(x)=(0.000000000 + 0.000000000x_{0} + 0.000000000x_{1} + 0.000173835x_{0} x_{1} + 0.169815685x_{0}^{2} + 0.008623124x_{1}^{2})$"
      ],
      "text/plain": [
       "<IPython.core.display.Markdown object>"
      ]
     },
     "metadata": {},
     "output_type": "display_data"
    },
    {
     "name": "stdout",
     "output_type": "stream",
     "text": [
      "Lambda solution status: 1\n",
      "V solution status: 1\n"
     ]
    },
    {
     "data": {
      "text/markdown": [
       "$ V(x)=(0.000000000 - 0.000000000x_{0} + 0.000000000x_{1} + 0.000159028x_{0} x_{1} + 0.161463444x_{0}^{2} + 0.008199689x_{1}^{2})$"
      ],
      "text/plain": [
       "<IPython.core.display.Markdown object>"
      ]
     },
     "metadata": {},
     "output_type": "display_data"
    },
    {
     "name": "stdout",
     "output_type": "stream",
     "text": [
      "Lambda solution status: 1\n",
      "V solution status: 1\n"
     ]
    },
    {
     "data": {
      "text/markdown": [
       "$ V(x)=(0.000000000 + 0.000000000x_{0} + 0.000000000x_{1} + 0.000145554x_{0} x_{1} + 0.153409301x_{0}^{2} + 0.007791304x_{1}^{2})$"
      ],
      "text/plain": [
       "<IPython.core.display.Markdown object>"
      ]
     },
     "metadata": {},
     "output_type": "display_data"
    },
    {
     "name": "stdout",
     "output_type": "stream",
     "text": [
      "Lambda solution status: 1\n",
      "V solution status: 1\n"
     ]
    },
    {
     "data": {
      "text/markdown": [
       "$ V(x)=(0.000000000 + 0.000000000x_{0} + 0.000000000x_{1} + 0.000133603x_{0} x_{1} + 0.145622949x_{0}^{2} + 0.007396443x_{1}^{2})$"
      ],
      "text/plain": [
       "<IPython.core.display.Markdown object>"
      ]
     },
     "metadata": {},
     "output_type": "display_data"
    },
    {
     "name": "stdout",
     "output_type": "stream",
     "text": [
      "Lambda solution status: 1\n",
      "V solution status: 1\n"
     ]
    },
    {
     "data": {
      "text/markdown": [
       "$ V(x)=(0.000000000 + 0.000000000x_{0} + 0.000000000x_{1} + 0.000127482x_{0} x_{1} + 0.138079331x_{0}^{2} + 0.007013925x_{1}^{2})$"
      ],
      "text/plain": [
       "<IPython.core.display.Markdown object>"
      ]
     },
     "metadata": {},
     "output_type": "display_data"
    },
    {
     "name": "stdout",
     "output_type": "stream",
     "text": [
      "Lambda solution status: 1\n",
      "V solution status: 1\n"
     ]
    },
    {
     "data": {
      "text/markdown": [
       "$ V(x)=(0.000000000 - 0.000000000x_{0} + 0.000000000x_{1} + 0.000118285x_{0} x_{1} + 0.130849674x_{0}^{2} + 0.006647126x_{1}^{2})$"
      ],
      "text/plain": [
       "<IPython.core.display.Markdown object>"
      ]
     },
     "metadata": {},
     "output_type": "display_data"
    },
    {
     "name": "stdout",
     "output_type": "stream",
     "text": [
      "Lambda solution status: 1\n",
      "V solution status: 1\n"
     ]
    },
    {
     "data": {
      "text/markdown": [
       "$ V(x)=(0.000000000 + 0.000000000x_{0} + 0.000000000x_{1} + 0.000108618x_{0} x_{1} + 0.123890726x_{0}^{2} + 0.006293976x_{1}^{2})$"
      ],
      "text/plain": [
       "<IPython.core.display.Markdown object>"
      ]
     },
     "metadata": {},
     "output_type": "display_data"
    },
    {
     "name": "stdout",
     "output_type": "stream",
     "text": [
      "Lambda solution status: 1\n",
      "V solution status: 1\n"
     ]
    },
    {
     "data": {
      "text/markdown": [
       "$ V(x)=(0.000000000 - 0.000000000x_{0} + 0.000000000x_{1} + 0.000099318x_{0} x_{1} + 0.117193038x_{0}^{2} + 0.005954038x_{1}^{2})$"
      ],
      "text/plain": [
       "<IPython.core.display.Markdown object>"
      ]
     },
     "metadata": {},
     "output_type": "display_data"
    },
    {
     "name": "stdout",
     "output_type": "stream",
     "text": [
      "Lambda solution status: 1\n",
      "V solution status: 1\n"
     ]
    },
    {
     "data": {
      "text/markdown": [
       "$ V(x)=(0.000000000 + 0.000000000x_{0} + 0.000000000x_{1} + 0.000090762x_{0} x_{1} + 0.110744208x_{0}^{2} + 0.005626701x_{1}^{2})$"
      ],
      "text/plain": [
       "<IPython.core.display.Markdown object>"
      ]
     },
     "metadata": {},
     "output_type": "display_data"
    },
    {
     "name": "stdout",
     "output_type": "stream",
     "text": [
      "Lambda solution status: 1\n",
      "V solution status: 1\n"
     ]
    },
    {
     "data": {
      "text/markdown": [
       "$ V(x)=(0.000000000 + 0.000000000x_{0} + 0.000000000x_{1} + 0.000083075x_{0} x_{1} + 0.104526785x_{0}^{2} + 0.005311087x_{1}^{2})$"
      ],
      "text/plain": [
       "<IPython.core.display.Markdown object>"
      ]
     },
     "metadata": {},
     "output_type": "display_data"
    },
    {
     "name": "stdout",
     "output_type": "stream",
     "text": [
      "Lambda solution status: 1\n",
      "V solution status: 1\n"
     ]
    },
    {
     "data": {
      "text/markdown": [
       "$ V(x)=(0.000000000 + 0.000000000x_{0} - 0.000000000x_{1} + 0.000076624x_{0} x_{1} + 0.098498474x_{0}^{2} + 0.005005063x_{1}^{2})$"
      ],
      "text/plain": [
       "<IPython.core.display.Markdown object>"
      ]
     },
     "metadata": {},
     "output_type": "display_data"
    },
    {
     "name": "stdout",
     "output_type": "stream",
     "text": [
      "Lambda solution status: 1\n",
      "V solution status: 1\n"
     ]
    },
    {
     "data": {
      "text/markdown": [
       "$ V(x)=(0.000000000 - 0.000000000x_{0} - 0.000000000x_{1} + 0.000071178x_{0} x_{1} + 0.092634099x_{0}^{2} + 0.004707345x_{1}^{2})$"
      ],
      "text/plain": [
       "<IPython.core.display.Markdown object>"
      ]
     },
     "metadata": {},
     "output_type": "display_data"
    },
    {
     "name": "stdout",
     "output_type": "stream",
     "text": [
      "Lambda solution status: 1\n",
      "V solution status: 1\n"
     ]
    },
    {
     "data": {
      "text/markdown": [
       "$ V(x)=(0.000000000 - 0.000000000x_{0} - 0.000000000x_{1} + 0.000066653x_{0} x_{1} + 0.086903837x_{0}^{2} + 0.004416418x_{1}^{2})$"
      ],
      "text/plain": [
       "<IPython.core.display.Markdown object>"
      ]
     },
     "metadata": {},
     "output_type": "display_data"
    },
    {
     "name": "stdout",
     "output_type": "stream",
     "text": [
      "Lambda solution status: 1\n",
      "V solution status: 1\n"
     ]
    },
    {
     "data": {
      "text/markdown": [
       "$ V(x)=(0.000000000 - 0.000000000x_{0} - 0.000000000x_{1} + 0.000063016x_{0} x_{1} + 0.081270267x_{0}^{2} + 0.004130382x_{1}^{2})$"
      ],
      "text/plain": [
       "<IPython.core.display.Markdown object>"
      ]
     },
     "metadata": {},
     "output_type": "display_data"
    },
    {
     "name": "stdout",
     "output_type": "stream",
     "text": [
      "Lambda solution status: 1\n",
      "V solution status: 1\n"
     ]
    },
    {
     "data": {
      "text/markdown": [
       "$ V(x)=(0.000000000 - 0.000000000x_{0} - 0.000000000x_{1} + 0.000058908x_{0} x_{1} + 0.075770503x_{0}^{2} + 0.003851110x_{1}^{2})$"
      ],
      "text/plain": [
       "<IPython.core.display.Markdown object>"
      ]
     },
     "metadata": {},
     "output_type": "display_data"
    },
    {
     "name": "stdout",
     "output_type": "stream",
     "text": [
      "Lambda solution status: 1\n",
      "V solution status: 1\n"
     ]
    },
    {
     "data": {
      "text/markdown": [
       "$ V(x)=(0.000000000 - 0.000000000x_{0} + 0.000000000x_{1} + 0.000057274x_{0} x_{1} + 0.070240877x_{0}^{2} + 0.003567023x_{1}^{2})$"
      ],
      "text/plain": [
       "<IPython.core.display.Markdown object>"
      ]
     },
     "metadata": {},
     "output_type": "display_data"
    },
    {
     "name": "stdout",
     "output_type": "stream",
     "text": [
      "Lambda solution status: 1\n",
      "V solution status: 1\n"
     ]
    },
    {
     "data": {
      "text/markdown": [
       "$ V(x)=(0.000000000 - 0.000000000x_{0} - 0.000000000x_{1} + 0.000058076x_{0} x_{1} + 0.064361959x_{0}^{2} + 0.003272662x_{1}^{2})$"
      ],
      "text/plain": [
       "<IPython.core.display.Markdown object>"
      ]
     },
     "metadata": {},
     "output_type": "display_data"
    },
    {
     "name": "stdout",
     "output_type": "stream",
     "text": [
      "Lambda solution status: 1\n",
      "V solution status: 1\n"
     ]
    },
    {
     "data": {
      "text/markdown": [
       "$ V(x)=(0.000000000 + 0.000000000x_{0} + 0.000000000x_{1} + 0.000060825x_{0} x_{1} + 0.058294614x_{0}^{2} + 0.002964426x_{1}^{2})$"
      ],
      "text/plain": [
       "<IPython.core.display.Markdown object>"
      ]
     },
     "metadata": {},
     "output_type": "display_data"
    },
    {
     "name": "stdout",
     "output_type": "stream",
     "text": [
      "Lambda solution status: 1\n",
      "V solution status: 1\n"
     ]
    },
    {
     "data": {
      "text/markdown": [
       "$ V(x)=(0.000000000 - 0.000000000x_{0} + 0.000000000x_{1} + 0.000060507x_{0} x_{1} + 0.052435859x_{0}^{2} + 0.002666644x_{1}^{2})$"
      ],
      "text/plain": [
       "<IPython.core.display.Markdown object>"
      ]
     },
     "metadata": {},
     "output_type": "display_data"
    },
    {
     "name": "stdout",
     "output_type": "stream",
     "text": [
      "Lambda solution status: 1\n",
      "V solution status: 1\n"
     ]
    },
    {
     "data": {
      "text/markdown": [
       "$ V(x)=(0.000000000 + 0.000000000x_{0} - 0.000000000x_{1} + 0.000056530x_{0} x_{1} + 0.047054635x_{0}^{2} + 0.002393008x_{1}^{2})$"
      ],
      "text/plain": [
       "<IPython.core.display.Markdown object>"
      ]
     },
     "metadata": {},
     "output_type": "display_data"
    },
    {
     "name": "stdout",
     "output_type": "stream",
     "text": [
      "Lambda solution status: 1\n",
      "V solution status: 1\n"
     ]
    },
    {
     "data": {
      "text/markdown": [
       "$ V(x)=(0.000000000 - 0.000000000x_{0} + 0.000000000x_{1} + 0.000049908x_{0} x_{1} + 0.042303483x_{0}^{2} + 0.002151331x_{1}^{2})$"
      ],
      "text/plain": [
       "<IPython.core.display.Markdown object>"
      ]
     },
     "metadata": {},
     "output_type": "display_data"
    },
    {
     "name": "stdout",
     "output_type": "stream",
     "text": [
      "Lambda solution status: 1\n",
      "V solution status: 1\n"
     ]
    },
    {
     "data": {
      "text/markdown": [
       "$ V(x)=(0.000000000 + 0.000000000x_{0} + 0.000000000x_{1} + 0.000042209x_{0} x_{1} + 0.038204893x_{0}^{2} + 0.001942813x_{1}^{2})$"
      ],
      "text/plain": [
       "<IPython.core.display.Markdown object>"
      ]
     },
     "metadata": {},
     "output_type": "display_data"
    },
    {
     "name": "stdout",
     "output_type": "stream",
     "text": [
      "Lambda solution status: 1\n",
      "V solution status: 1\n"
     ]
    },
    {
     "data": {
      "text/markdown": [
       "$ V(x)=(0.000000000 - 0.000000000x_{0} + 0.000000000x_{1} + 0.000034734x_{0} x_{1} + 0.034491964x_{0}^{2} + 0.001753955x_{1}^{2})$"
      ],
      "text/plain": [
       "<IPython.core.display.Markdown object>"
      ]
     },
     "metadata": {},
     "output_type": "display_data"
    },
    {
     "name": "stdout",
     "output_type": "stream",
     "text": [
      "Lambda solution status: 1\n",
      "V solution status: 1\n"
     ]
    },
    {
     "data": {
      "text/markdown": [
       "$ V(x)=(0.000000000 + 0.000000000x_{0} + 0.000000000x_{1} + 0.000028063x_{0} x_{1} + 0.031217333x_{0}^{2} + 0.001587402x_{1}^{2})$"
      ],
      "text/plain": [
       "<IPython.core.display.Markdown object>"
      ]
     },
     "metadata": {},
     "output_type": "display_data"
    },
    {
     "name": "stdout",
     "output_type": "stream",
     "text": [
      "Lambda solution status: 1\n",
      "V solution status: 1\n"
     ]
    },
    {
     "data": {
      "text/markdown": [
       "$ V(x)=(0.000000000 - 0.000000000x_{0} - 0.000000000x_{1} + 0.000022399x_{0} x_{1} + 0.028321596x_{0}^{2} + 0.001440134x_{1}^{2})$"
      ],
      "text/plain": [
       "<IPython.core.display.Markdown object>"
      ]
     },
     "metadata": {},
     "output_type": "display_data"
    },
    {
     "name": "stdout",
     "output_type": "stream",
     "text": [
      "Lambda solution status: 1\n",
      "V solution status: 1\n"
     ]
    },
    {
     "data": {
      "text/markdown": [
       "$ V(x)=(0.000000000 - 0.000000000x_{0} + 0.000000000x_{1} + 0.000017506x_{0} x_{1} + 0.025803038x_{0}^{2} + 0.001312052x_{1}^{2})$"
      ],
      "text/plain": [
       "<IPython.core.display.Markdown object>"
      ]
     },
     "metadata": {},
     "output_type": "display_data"
    },
    {
     "name": "stdout",
     "output_type": "stream",
     "text": [
      "Lambda solution status: 1\n",
      "V solution status: 1\n"
     ]
    },
    {
     "data": {
      "text/markdown": [
       "$ V(x)=(0.000000000 + 0.000000000x_{0} + 0.000000000x_{1} + 0.000013287x_{0} x_{1} + 0.023648981x_{0}^{2} + 0.001202509x_{1}^{2})$"
      ],
      "text/plain": [
       "<IPython.core.display.Markdown object>"
      ]
     },
     "metadata": {},
     "output_type": "display_data"
    },
    {
     "name": "stdout",
     "output_type": "stream",
     "text": [
      "Lambda solution status: 1\n",
      "V solution status: 1\n"
     ]
    },
    {
     "data": {
      "text/markdown": [
       "$ V(x)=(0.000000000 - 0.000000000x_{0} - 0.000000000x_{1} + 0.000010087x_{0} x_{1} + 0.021748206x_{0}^{2} + 0.001105852x_{1}^{2})$"
      ],
      "text/plain": [
       "<IPython.core.display.Markdown object>"
      ]
     },
     "metadata": {},
     "output_type": "display_data"
    },
    {
     "name": "stdout",
     "output_type": "stream",
     "text": [
      "Lambda solution status: 1\n"
     ]
    },
    {
     "ename": "KeyboardInterrupt",
     "evalue": "",
     "output_type": "error",
     "traceback": [
      "\u001b[0;31m---------------------------------------------------------------------------\u001b[0m",
      "\u001b[0;31mKeyboardInterrupt\u001b[0m                         Traceback (most recent call last)",
      "\u001b[0;32m<ipython-input-5-89f64d5328ec>\u001b[0m in \u001b[0;36m<module>\u001b[0;34m\u001b[0m\n\u001b[1;32m    112\u001b[0m \u001b[0;34m\u001b[0m\u001b[0m\n\u001b[1;32m    113\u001b[0m \u001b[0mV_degree\u001b[0m \u001b[0;34m=\u001b[0m \u001b[0;36m2\u001b[0m\u001b[0;34m\u001b[0m\u001b[0;34m\u001b[0m\u001b[0m\n\u001b[0;32m--> 114\u001b[0;31m \u001b[0mV\u001b[0m\u001b[0;34m,\u001b[0m \u001b[0mQ\u001b[0m \u001b[0;34m=\u001b[0m \u001b[0mproblem_solver_implicit\u001b[0m\u001b[0;34m(\u001b[0m\u001b[0mP\u001b[0m\u001b[0;34m,\u001b[0m \u001b[0mV_degree\u001b[0m\u001b[0;34m)\u001b[0m\u001b[0;34m\u001b[0m\u001b[0;34m\u001b[0m\u001b[0m\n\u001b[0m",
      "\u001b[0;32m<ipython-input-5-89f64d5328ec>\u001b[0m in \u001b[0;36mproblem_solver_implicit\u001b[0;34m(S, V_degree)\u001b[0m\n\u001b[1;32m    103\u001b[0m \u001b[0;31m#         print(alpha)\u001b[0m\u001b[0;34m\u001b[0m\u001b[0;34m\u001b[0m\u001b[0;34m\u001b[0m\u001b[0m\n\u001b[1;32m    104\u001b[0m \u001b[0;34m\u001b[0m\u001b[0m\n\u001b[0;32m--> 105\u001b[0;31m         \u001b[0mV\u001b[0m\u001b[0;34m,\u001b[0m \u001b[0mQ\u001b[0m \u001b[0;34m=\u001b[0m \u001b[0mfind_implicit_V\u001b[0m\u001b[0;34m(\u001b[0m\u001b[0mx\u001b[0m\u001b[0;34m,\u001b[0m \u001b[0mxd\u001b[0m\u001b[0;34m,\u001b[0m \u001b[0mlambda_\u001b[0m\u001b[0;34m,\u001b[0m \u001b[0mlambda_g\u001b[0m\u001b[0;34m,\u001b[0m \u001b[0mg_poly\u001b[0m\u001b[0;34m,\u001b[0m \u001b[0mV_degree\u001b[0m\u001b[0;34m)\u001b[0m\u001b[0;34m\u001b[0m\u001b[0;34m\u001b[0m\u001b[0m\n\u001b[0m\u001b[1;32m    106\u001b[0m \u001b[0;34m\u001b[0m\u001b[0m\n\u001b[1;32m    107\u001b[0m         \u001b[0mVdot\u001b[0m \u001b[0;34m=\u001b[0m \u001b[0mV\u001b[0m\u001b[0;34m.\u001b[0m\u001b[0mJacobian\u001b[0m\u001b[0;34m(\u001b[0m\u001b[0mx\u001b[0m\u001b[0;34m)\u001b[0m\u001b[0;34m.\u001b[0m\u001b[0mdot\u001b[0m\u001b[0;34m(\u001b[0m\u001b[0mxd\u001b[0m\u001b[0;34m)\u001b[0m\u001b[0;34m\u001b[0m\u001b[0;34m\u001b[0m\u001b[0m\n",
      "\u001b[0;32m<ipython-input-5-89f64d5328ec>\u001b[0m in \u001b[0;36mfind_implicit_V\u001b[0;34m(x, xd, lambda_, lambda_g, g, V_degree)\u001b[0m\n\u001b[1;32m     61\u001b[0m \u001b[0;34m\u001b[0m\u001b[0m\n\u001b[1;32m     62\u001b[0m     \u001b[0msolver\u001b[0m \u001b[0;34m=\u001b[0m \u001b[0mMosekSolver\u001b[0m\u001b[0;34m(\u001b[0m\u001b[0;34m)\u001b[0m\u001b[0;34m\u001b[0m\u001b[0;34m\u001b[0m\u001b[0m\n\u001b[0;32m---> 63\u001b[0;31m     \u001b[0mresult\u001b[0m \u001b[0;34m=\u001b[0m \u001b[0msolver\u001b[0m\u001b[0;34m.\u001b[0m\u001b[0mSolve\u001b[0m\u001b[0;34m(\u001b[0m\u001b[0mprog\u001b[0m\u001b[0;34m)\u001b[0m\u001b[0;34m\u001b[0m\u001b[0;34m\u001b[0m\u001b[0m\n\u001b[0m\u001b[1;32m     64\u001b[0m \u001b[0;34m\u001b[0m\u001b[0m\n\u001b[1;32m     65\u001b[0m     \u001b[0mk\u001b[0m \u001b[0;34m=\u001b[0m \u001b[0mresult\u001b[0m\u001b[0;34m.\u001b[0m\u001b[0mget_solver_details\u001b[0m\u001b[0;34m(\u001b[0m\u001b[0;34m)\u001b[0m\u001b[0;34m.\u001b[0m\u001b[0msolution_status\u001b[0m\u001b[0;34m\u001b[0m\u001b[0;34m\u001b[0m\u001b[0m\n",
      "\u001b[0;31mKeyboardInterrupt\u001b[0m: "
     ]
    }
   ],
   "source": [
    "#doing the van der pol oscillator implicitly\n",
    "\n",
    "from pydrake.solvers.mathematicalprogram import MathematicalProgram, SolverOptions, Solve\n",
    "from pydrake.solvers.csdp import CsdpSolver\n",
    "from pydrake.solvers.mosek import MosekSolver\n",
    "\n",
    "negative_infinity = float('-inf')\n",
    "\n",
    "def find_implicit_lambdas(x, xd, V, Vdot, g):\n",
    "    prog = MathematicalProgram()\n",
    "    prog.AddIndeterminates(x)\n",
    "    prog.AddIndeterminates(xd)\n",
    "        \n",
    "    y = np.hstack([x, xd])\n",
    "    \n",
    "    l_deg = math.ceil(V.TotalDegree()/2) * 2\n",
    "    \n",
    "    lambda_ = prog.NewSosPolynomial(Variables(y), l_deg)[0]\n",
    "    \n",
    "    lambda_g = []\n",
    "    \n",
    "    for i in range(g.size): \n",
    "        gi_deg = max(l_deg + V.TotalDegree() - g[i].TotalDegree(), 0)\n",
    "        lambda_g.append(prog.NewFreePolynomial(Variables(y), gi_deg))\n",
    "        \n",
    "    lambda_g = np.array(lambda_g)    \n",
    "  \n",
    "    prog.AddSosConstraint(-Vdot + lambda_*(V - 1) + lambda_g.dot(g))\n",
    "        \n",
    "    solver = MosekSolver()\n",
    "    result = solver.Solve(prog)\n",
    "    \n",
    "    k = result.get_solver_details().solution_status\n",
    "                \n",
    "    print(\"Lambda solution status: \" + str(k))\n",
    "    \n",
    "    assert result.is_success()\n",
    "    \n",
    "    lambda_g_results = []\n",
    "    \n",
    "    for i in range(g.size):\n",
    "        lambda_g_results.append(result.GetSolution(lambda_g[i]).RemoveTermsWithSmallCoefficients(1e-5))\n",
    "    \n",
    "    return result.GetSolution(lambda_).RemoveTermsWithSmallCoefficients(1e-5), np.array(lambda_g_results)\n",
    "\n",
    "def find_implicit_V(x, xd, lambda_, lambda_g, g, V_degree):\n",
    "    prog = MathematicalProgram()\n",
    "    prog.AddIndeterminates(x)\n",
    "    prog.AddIndeterminates(xd)\n",
    "    \n",
    "    y = np.hstack([x, xd])\n",
    "        \n",
    "    V, Q = prog.NewSosPolynomial(Variables(x), V_degree)\n",
    "    Vdot = V.Jacobian(x).dot(xd)\n",
    "    \n",
    "    prog.AddSosConstraint(-Vdot + lambda_*(V - 1) + lambda_g.dot(g))\n",
    "    \n",
    "    prog.AddLinearCost(np.trace(Q))    \n",
    "    #prog.AddLinearConstraint(V.ToExpression().Substitute({x[0]: 0, x[1]:0, xd[0]: 0, xd[1]: 0}) == 0)\n",
    "    prog.AddLinearConstraint(V.ToExpression().Substitute({x[0]: 0, x[1]:0}) == 0)\n",
    "    \n",
    "    solver = MosekSolver()\n",
    "    result = solver.Solve(prog)\n",
    "    \n",
    "    k = result.get_solver_details().solution_status\n",
    "                \n",
    "    print(\"V solution status: \" + str(k))\n",
    "    \n",
    "    assert result.is_success()\n",
    "        \n",
    "    return result.GetSolution(V), result.GetSolution(Q)\n",
    "\n",
    "\n",
    "def problem_solver_implicit(S, V_degree):\n",
    "    prog = MathematicalProgram()\n",
    "    x = prog.NewIndeterminates(2, \"x\")\n",
    "    xd = prog.NewIndeterminates(2, \"xd\")\n",
    "        \n",
    "    g0 = xd[0] - x[1]\n",
    "    g1 = m*(length**2)*xd[1] + b*x[1] + m*grav*length*x[0]\n",
    "    \n",
    "    g = np.array([g0, g1])\n",
    "    \n",
    "    V = x.T@P@x\n",
    "    Vdot = V.Jacobian(x).dot(xd)\n",
    "    \n",
    "    V = Polynomial(V)\n",
    "    Vdot = Polynomial(Vdot)\n",
    "    \n",
    "    g_poly = []\n",
    "    for i in range(g.size):\n",
    "        g_poly.append(Polynomial(g[i]))\n",
    "        \n",
    "    g_poly = np.array(g_poly)\n",
    "    \n",
    "    display(Markdown(\"$ V(x)=\"+ToLatex(V.ToExpression(), 9)+\"$\"))\n",
    "    for i in range(200):\n",
    "        lambda_, lambda_g = find_implicit_lambdas(x, xd, V, Vdot, g_poly)\n",
    "        \n",
    "#         display(Markdown(\"$ \\lambda(x)=\"+ToLatex(lambda_.ToExpression())+\"$\"))\n",
    "#         display(Markdown(\"$ \\lambda_g(x)=\"+ToLatex(lambda_g[0].ToExpression())+\"$\"))\n",
    "#         display(Markdown(\"$ \\lambda_g(x)=\"+ToLatex(lambda_g[1].ToExpression())+\"$\"))\n",
    "#         print(alpha)\n",
    "        \n",
    "        V, Q = find_implicit_V(x, xd, lambda_, lambda_g, g_poly, V_degree)\n",
    "        \n",
    "        Vdot = V.Jacobian(x).dot(xd)\n",
    "     \n",
    "        display(Markdown(\"$ V(x)=\"+ToLatex(V.ToExpression(), 9)+\"$\"))\n",
    "        \n",
    "    return V, Q\n",
    "\n",
    "V_degree = 2\n",
    "V, Q = problem_solver_implicit(P, V_degree)"
   ]
  },
  {
   "cell_type": "code",
   "execution_count": 57,
   "metadata": {
    "scrolled": true
   },
   "outputs": [
    {
     "data": {
      "text/markdown": [
       "$V(x) = (0.050968x_{0} x_{1} + 25.785194x_{0}^{2} + 1.313710x_{1}^{2})$"
      ],
      "text/plain": [
       "<IPython.core.display.Markdown object>"
      ]
     },
     "metadata": {},
     "output_type": "display_data"
    },
    {
     "name": "stdout",
     "output_type": "stream",
     "text": [
      "Status of first solver on step 0: 1\n",
      "Status of second solver on step 0: 1\n"
     ]
    },
    {
     "data": {
      "text/markdown": [
       "$V(x) = (0.004926x_{0} x_{1} + 3.587715x_{0}^{2} + 0.182810x_{1}^{2})$"
      ],
      "text/plain": [
       "<IPython.core.display.Markdown object>"
      ]
     },
     "metadata": {},
     "output_type": "display_data"
    },
    {
     "name": "stdout",
     "output_type": "stream",
     "text": [
      "Status of first solver on step 1: 1\n",
      "Status of second solver on step 1: 1\n"
     ]
    },
    {
     "data": {
      "text/markdown": [
       "$V(x) = (0.002776x_{0} x_{1} + 2.291521x_{0}^{2} + 0.116767x_{1}^{2})$"
      ],
      "text/plain": [
       "<IPython.core.display.Markdown object>"
      ]
     },
     "metadata": {},
     "output_type": "display_data"
    },
    {
     "name": "stdout",
     "output_type": "stream",
     "text": [
      "Status of first solver on step 2: 1\n",
      "Status of second solver on step 2: 1\n"
     ]
    },
    {
     "data": {
      "text/markdown": [
       "$V(x) = (0.001750x_{0} x_{1} + 1.805002x_{0}^{2} + 0.091980x_{1}^{2})$"
      ],
      "text/plain": [
       "<IPython.core.display.Markdown object>"
      ]
     },
     "metadata": {},
     "output_type": "display_data"
    },
    {
     "name": "stdout",
     "output_type": "stream",
     "text": [
      "Status of first solver on step 3: 1\n",
      "Status of second solver on step 3: 1\n"
     ]
    },
    {
     "data": {
      "text/markdown": [
       "$V(x) = (0.001158x_{0} x_{1} + 1.559421x_{0}^{2} + 0.079469x_{1}^{2})$"
      ],
      "text/plain": [
       "<IPython.core.display.Markdown object>"
      ]
     },
     "metadata": {},
     "output_type": "display_data"
    },
    {
     "name": "stdout",
     "output_type": "stream",
     "text": [
      "Status of first solver on step 4: 1\n",
      "Status of second solver on step 4: 1\n"
     ]
    },
    {
     "data": {
      "text/markdown": [
       "$V(x) = (0.000805x_{0} x_{1} + 1.375743x_{0}^{2} + 0.070111x_{1}^{2})$"
      ],
      "text/plain": [
       "<IPython.core.display.Markdown object>"
      ]
     },
     "metadata": {},
     "output_type": "display_data"
    },
    {
     "name": "stdout",
     "output_type": "stream",
     "text": [
      "Status of first solver on step 5: 1\n",
      "Status of second solver on step 5: 1\n"
     ]
    },
    {
     "data": {
      "text/markdown": [
       "$V(x) = (0.000602x_{0} x_{1} + 1.223411x_{0}^{2} + 0.062349x_{1}^{2})$"
      ],
      "text/plain": [
       "<IPython.core.display.Markdown object>"
      ]
     },
     "metadata": {},
     "output_type": "display_data"
    },
    {
     "name": "stdout",
     "output_type": "stream",
     "text": [
      "Status of first solver on step 6: 1\n",
      "Status of second solver on step 6: 1\n"
     ]
    },
    {
     "data": {
      "text/markdown": [
       "$V(x) = (1.099266x_{0}^{2} + 0.056028x_{1}^{2})$"
      ],
      "text/plain": [
       "<IPython.core.display.Markdown object>"
      ]
     },
     "metadata": {},
     "output_type": "display_data"
    },
    {
     "name": "stdout",
     "output_type": "stream",
     "text": [
      "Status of first solver on step 7: 1\n",
      "Status of second solver on step 7: 1\n"
     ]
    },
    {
     "data": {
      "text/markdown": [
       "$V(x) = (0.994957x_{0}^{2} + 0.050711x_{1}^{2})$"
      ],
      "text/plain": [
       "<IPython.core.display.Markdown object>"
      ]
     },
     "metadata": {},
     "output_type": "display_data"
    },
    {
     "name": "stdout",
     "output_type": "stream",
     "text": [
      "Status of first solver on step 8: 1\n",
      "Status of second solver on step 8: 1\n"
     ]
    },
    {
     "data": {
      "text/markdown": [
       "$V(x) = (0.896997x_{0}^{2} + 0.045719x_{1}^{2})$"
      ],
      "text/plain": [
       "<IPython.core.display.Markdown object>"
      ]
     },
     "metadata": {},
     "output_type": "display_data"
    },
    {
     "name": "stdout",
     "output_type": "stream",
     "text": [
      "Status of first solver on step 9: 1\n",
      "Status of second solver on step 9: 1\n"
     ]
    },
    {
     "data": {
      "text/markdown": [
       "$V(x) = (0.797317x_{0}^{2} + 0.040638x_{1}^{2})$"
      ],
      "text/plain": [
       "<IPython.core.display.Markdown object>"
      ]
     },
     "metadata": {},
     "output_type": "display_data"
    },
    {
     "name": "stdout",
     "output_type": "stream",
     "text": [
      "Status of first solver on step 10: 1\n",
      "Status of second solver on step 10: 1\n"
     ]
    },
    {
     "data": {
      "text/markdown": [
       "$V(x) = (0.691967x_{0}^{2} + 0.035268x_{1}^{2})$"
      ],
      "text/plain": [
       "<IPython.core.display.Markdown object>"
      ]
     },
     "metadata": {},
     "output_type": "display_data"
    },
    {
     "name": "stdout",
     "output_type": "stream",
     "text": [
      "Status of first solver on step 11: 1\n",
      "Status of second solver on step 11: 1\n"
     ]
    },
    {
     "data": {
      "text/markdown": [
       "$V(x) = (0.603885x_{0}^{2} + 0.030779x_{1}^{2})$"
      ],
      "text/plain": [
       "<IPython.core.display.Markdown object>"
      ]
     },
     "metadata": {},
     "output_type": "display_data"
    },
    {
     "name": "stdout",
     "output_type": "stream",
     "text": [
      "Status of first solver on step 12: 1\n",
      "Status of second solver on step 12: 1\n"
     ]
    },
    {
     "data": {
      "text/markdown": [
       "$V(x) = (0.532581x_{0}^{2} + 0.027145x_{1}^{2})$"
      ],
      "text/plain": [
       "<IPython.core.display.Markdown object>"
      ]
     },
     "metadata": {},
     "output_type": "display_data"
    },
    {
     "name": "stdout",
     "output_type": "stream",
     "text": [
      "Status of first solver on step 13: 1\n",
      "Status of second solver on step 13: 1\n"
     ]
    },
    {
     "data": {
      "text/markdown": [
       "$V(x) = (0.474302x_{0}^{2} + 0.024174x_{1}^{2})$"
      ],
      "text/plain": [
       "<IPython.core.display.Markdown object>"
      ]
     },
     "metadata": {},
     "output_type": "display_data"
    },
    {
     "name": "stdout",
     "output_type": "stream",
     "text": [
      "Status of first solver on step 14: 1\n",
      "Status of second solver on step 14: 1\n"
     ]
    },
    {
     "data": {
      "text/markdown": [
       "$V(x) = (0.423681x_{0}^{2} + 0.021594x_{1}^{2})$"
      ],
      "text/plain": [
       "<IPython.core.display.Markdown object>"
      ]
     },
     "metadata": {},
     "output_type": "display_data"
    },
    {
     "name": "stdout",
     "output_type": "stream",
     "text": [
      "Status of first solver on step 15: 1\n",
      "Status of second solver on step 15: 1\n"
     ]
    },
    {
     "data": {
      "text/markdown": [
       "$V(x) = (0.373772x_{0}^{2} + 0.019051x_{1}^{2})$"
      ],
      "text/plain": [
       "<IPython.core.display.Markdown object>"
      ]
     },
     "metadata": {},
     "output_type": "display_data"
    },
    {
     "name": "stdout",
     "output_type": "stream",
     "text": [
      "Status of first solver on step 16: 1\n",
      "Status of second solver on step 16: 1\n"
     ]
    },
    {
     "data": {
      "text/markdown": [
       "$V(x) = (0.332566x_{0}^{2} + 0.016950x_{1}^{2})$"
      ],
      "text/plain": [
       "<IPython.core.display.Markdown object>"
      ]
     },
     "metadata": {},
     "output_type": "display_data"
    },
    {
     "name": "stdout",
     "output_type": "stream",
     "text": [
      "Status of first solver on step 17: 1\n",
      "Status of second solver on step 17: 1\n"
     ]
    },
    {
     "data": {
      "text/markdown": [
       "$V(x) = (0.297182x_{0}^{2} + 0.015147x_{1}^{2})$"
      ],
      "text/plain": [
       "<IPython.core.display.Markdown object>"
      ]
     },
     "metadata": {},
     "output_type": "display_data"
    },
    {
     "name": "stdout",
     "output_type": "stream",
     "text": [
      "Status of first solver on step 18: 1\n",
      "Status of second solver on step 18: 1\n"
     ]
    },
    {
     "data": {
      "text/markdown": [
       "$V(x) = (0.266463x_{0}^{2} + 0.013581x_{1}^{2})$"
      ],
      "text/plain": [
       "<IPython.core.display.Markdown object>"
      ]
     },
     "metadata": {},
     "output_type": "display_data"
    },
    {
     "name": "stdout",
     "output_type": "stream",
     "text": [
      "Status of first solver on step 19: 1\n",
      "Status of second solver on step 19: 1\n"
     ]
    },
    {
     "data": {
      "text/markdown": [
       "$V(x) = 0$"
      ],
      "text/plain": [
       "<IPython.core.display.Markdown object>"
      ]
     },
     "metadata": {},
     "output_type": "display_data"
    }
   ],
   "source": [
    "#THIS CODE WORKS\n",
    "from pydrake.solvers.mathematicalprogram import MathematicalProgram, SolverOptions, Solve\n",
    "from pydrake.solvers.csdp import CsdpSolver\n",
    "from pydrake.solvers.mosek import MosekSolver\n",
    "\n",
    "def findLambda(x, V, Vdot, count):\n",
    "    prog = MathematicalProgram()\n",
    "    prog.AddIndeterminates(x)\n",
    "    \n",
    "    #V = Polynomial(V).RemoveTermsWithSmallCoefficients(1e-5).ToExpression()\n",
    "    \n",
    "    lambda_ = prog.NewSosPolynomial(Variables(x), 2)[0].ToExpression()\n",
    "        \n",
    "    prog.AddSosConstraint(-Vdot - lambda_*(1 - V))\n",
    "    prog.AddSosConstraint(lambda_)\n",
    "    \n",
    "    solver = MosekSolver()\n",
    "    result = solver.Solve(prog)\n",
    "    \n",
    "    k = result.get_solver_details().solution_status\n",
    "        \n",
    "    print('Status of first solver on step ' + str(count) + ': ' + str(k))\n",
    "    assert result.is_success()\n",
    "    \n",
    "    return result.GetSolution(lambda_)\n",
    "\n",
    "\n",
    "def findV(x, lambda_, f, count):\n",
    "    prog = MathematicalProgram()\n",
    "    prog.AddIndeterminates(x)\n",
    "    \n",
    "    lambda_ = Polynomial(lambda_).RemoveTermsWithSmallCoefficients(1e-2).ToExpression()\n",
    "        \n",
    "    temp, Q = prog.NewSosPolynomial(Variables(x), 2)\n",
    "    V = temp.ToExpression()\n",
    "            \n",
    "    prog.AddLinearConstraint(V.Substitute({x[0]: 0, x[1]:0}) == 0)\n",
    "    \n",
    "    Vdot = V.Jacobian(x).dot(f)\n",
    "    \n",
    "    prog.AddSosConstraint(-Vdot - lambda_*(1 - V))\n",
    "    \n",
    "#     prog.AddSosConstraint(np.trace(Q))\n",
    "    \n",
    "    A = Q[0, 0]\n",
    "    B = 2*Q[1, 0]\n",
    "    C = Q[1, 1]\n",
    "    \n",
    "    prog.AddCost(A)\n",
    "    prog.AddCost(C)\n",
    "    prog.AddCost(-B)\n",
    "    \n",
    "    solver = MosekSolver()\n",
    "    result = solver.Solve(prog)\n",
    "        \n",
    "    k = result.get_solver_details().solution_status\n",
    "                \n",
    "    print('Status of second solver on step ' + str(count) + ': ' + str(k))\n",
    "    assert result.is_success()\n",
    "    \n",
    "    return result.GetSolution(V), result.GetSolution(Q)\n",
    "\n",
    "def setup_solver():  \n",
    "    count = 0\n",
    "    prog = MathematicalProgram()\n",
    "    x = prog.NewIndeterminates(2, \"x\")\n",
    "    \n",
    "    f0 = x[1]\n",
    "    f1 = (-b/(m*length**2))*x[1] - (grav/length)*(x[0])\n",
    "    \n",
    "    f = np.array([f0, f1])\n",
    "    \n",
    "    V = x.T@P@x\n",
    "    \n",
    "    display(Markdown(\"$V(x) = \" + ToLatex(\n",
    "    Polynomial(V).RemoveTermsWithSmallCoefficients(1e-5).ToExpression(),6) + \"$\"))\n",
    "        \n",
    "    #Vdot = x.T@P@A@x + x.T@A.T@P@x\n",
    "    Vdot = V.Jacobian(x).dot(f)\n",
    "    \n",
    "    for i in range(20): \n",
    "        lambda_ = findLambda(x, V, Vdot, count)\n",
    "        \n",
    "#         display(Markdown(\"$\\lambda (x) = \" + ToLatex(\n",
    "#         Polynomial(lambda_).RemoveTermsWithSmallCoefficients(1e-5).ToExpression(),6) + \"$\"))\n",
    "        \n",
    "        V, Q = findV(x, lambda_, f, count)\n",
    "        \n",
    "        display(Markdown(\"$V(x) = \" + ToLatex(\n",
    "        Polynomial(V).RemoveTermsWithSmallCoefficients(1e-5).ToExpression(),6) + \"$\"))\n",
    "        \n",
    "        Vdot = V.Jacobian(x).dot(f)\n",
    "        \n",
    "        count += 1\n",
    "    return V, Q\n",
    "    \n",
    "    \n",
    "V, Q = setup_solver()"
   ]
  },
  {
   "cell_type": "markdown",
   "metadata": {},
   "source": [
    "### Pendulum Upright Example\n",
    "Goal is to stabalize the pendulum in the upward position and certify the region of stability using Lyapunov analysis after we have found the controller.  \n",
    "\n",
    "For this we first need to do a change or coordinates: $\\tilde{\\theta} = \\theta - \\pi$ \n",
    "\n",
    "The dynamics now become: \n",
    "$ml^2\\ddot{\\tilde{\\theta}} + b\\dot{\\tilde{\\theta}} - mgl\\sin{\\tilde{\\theta}} = 0$\n",
    "\n",
    "Here $\\theta$ is the angle with the vertical when in the downward position as defined by default in Drake"
   ]
  },
  {
   "cell_type": "code",
   "execution_count": 5,
   "metadata": {},
   "outputs": [],
   "source": [
    "p = PendulumParams()\n",
    "\n",
    "# Add the Linearization\n",
    "A = np.array([[0, 1], [p.mass()*p.gravity()*p.length(), -p.damping()]])\n",
    "B = np.array([[0], [1]])\n",
    "E = np.array([[1, 0], [0, p.mass()*p.length()*p.length()]])\n",
    "\n",
    "# Add LQR Costs\n",
    "Q = np.diag([10, 1])\n",
    "R = [1]\n",
    "\n",
    "# matrix needed for algorithm\n",
    "S = np.array([[0], [0]])"
   ]
  },
  {
   "cell_type": "code",
   "execution_count": 6,
   "metadata": {},
   "outputs": [],
   "source": [
    "# solve the generalized care\n",
    "X, L, G = control.care(A, B, Q, R, S, E)"
   ]
  },
  {
   "cell_type": "code",
   "execution_count": 7,
   "metadata": {},
   "outputs": [
    {
     "data": {
      "text/plain": [
       "array([[10.74101105,  2.42596626]])"
      ]
     },
     "execution_count": 7,
     "metadata": {},
     "output_type": "execute_result"
    }
   ],
   "source": [
    "# G = R^-1B^TXE is the gain matrix to become A - BG for closed loop\n",
    "G"
   ]
  },
  {
   "cell_type": "code",
   "execution_count": 8,
   "metadata": {},
   "outputs": [
    {
     "data": {
      "text/plain": [
       "array([10.74101105,  0.        ,  2.42596626])"
      ]
     },
     "execution_count": 8,
     "metadata": {},
     "output_type": "execute_result"
    }
   ],
   "source": [
    "G_casted = np.insert(G, 1, 0)\n",
    "G_casted"
   ]
  },
  {
   "cell_type": "markdown",
   "metadata": {},
   "source": [
    "To do Lyapunov analysis: close the loop and solve the linear Lyapunov equation. Then, use the dynamics to find the ROA"
   ]
  },
  {
   "cell_type": "code",
   "execution_count": 9,
   "metadata": {},
   "outputs": [],
   "source": [
    "A_closed = A - B@G\n",
    "\n",
    "Q_ly = np.eye(2)\n",
    "P = control.lyap(A_closed.T, Q_ly, E = E.T)\n",
    "candidate_matrix = E.T@P@E"
   ]
  },
  {
   "cell_type": "markdown",
   "metadata": {},
   "source": [
    "u = -Gx. Remember to add this to the dynamics equations in the SOS program"
   ]
  },
  {
   "cell_type": "code",
   "execution_count": 12,
   "metadata": {},
   "outputs": [
    {
     "data": {
      "text/markdown": [
       "$ V(x)=(0.042837479x_{0} x_{1} + 1.421101750x_{0}^{2} + 0.051605869x_{1}^{2})$"
      ],
      "text/plain": [
       "<IPython.core.display.Markdown object>"
      ]
     },
     "metadata": {},
     "output_type": "display_data"
    },
    {
     "name": "stdout",
     "output_type": "stream",
     "text": [
      "Lambda solution status: 1\n",
      "V solution status: 1\n"
     ]
    },
    {
     "data": {
      "text/markdown": [
       "$ V(x)=(0.000000000 - 0.000000000x_{0} - 0.000000000x_{1} + 0.047357625x_{0} x_{1} + 1.205675635x_{0}^{2} + 0.043871794x_{1}^{2})$"
      ],
      "text/plain": [
       "<IPython.core.display.Markdown object>"
      ]
     },
     "metadata": {},
     "output_type": "display_data"
    },
    {
     "name": "stdout",
     "output_type": "stream",
     "text": [
      "Lambda solution status: 1\n",
      "V solution status: 1\n"
     ]
    },
    {
     "data": {
      "text/markdown": [
       "$ V(x)=(0.000000000 - 0.000000000x_{0} + 0.000000000x_{1} + 0.048533584x_{0} x_{1} + 1.019652540x_{0}^{2} + 0.036714577x_{1}^{2})$"
      ],
      "text/plain": [
       "<IPython.core.display.Markdown object>"
      ]
     },
     "metadata": {},
     "output_type": "display_data"
    },
    {
     "name": "stdout",
     "output_type": "stream",
     "text": [
      "Lambda solution status: 1\n",
      "V solution status: 1\n"
     ]
    },
    {
     "data": {
      "text/markdown": [
       "$ V(x)=(0.000000000 + 0.000000000x_{0} + 0.000000000x_{1} + 0.047610659x_{0} x_{1} + 0.855844675x_{0}^{2} + 0.030523051x_{1}^{2})$"
      ],
      "text/plain": [
       "<IPython.core.display.Markdown object>"
      ]
     },
     "metadata": {},
     "output_type": "display_data"
    },
    {
     "name": "stdout",
     "output_type": "stream",
     "text": [
      "Lambda solution status: 1\n",
      "V solution status: 1\n"
     ]
    },
    {
     "data": {
      "text/markdown": [
       "$ V(x)=(0.000000000 + 0.000000000x_{0} + 0.000000000x_{1} + 0.045095254x_{0} x_{1} + 0.714325033x_{0}^{2} + 0.025243582x_{1}^{2})$"
      ],
      "text/plain": [
       "<IPython.core.display.Markdown object>"
      ]
     },
     "metadata": {},
     "output_type": "display_data"
    },
    {
     "name": "stdout",
     "output_type": "stream",
     "text": [
      "Lambda solution status: 1\n",
      "V solution status: 1\n"
     ]
    },
    {
     "data": {
      "text/markdown": [
       "$ V(x)=(0.000000000 - 0.000000000x_{0} + 0.000000000x_{1} + 0.040755836x_{0} x_{1} + 0.588159968x_{0}^{2} + 0.020762609x_{1}^{2})$"
      ],
      "text/plain": [
       "<IPython.core.display.Markdown object>"
      ]
     },
     "metadata": {},
     "output_type": "display_data"
    },
    {
     "name": "stdout",
     "output_type": "stream",
     "text": [
      "Lambda solution status: 1\n",
      "V solution status: 1\n"
     ]
    },
    {
     "data": {
      "text/markdown": [
       "$ V(x)=(0.000000000 + 0.000000000x_{0} - 0.000000000x_{1} + 0.036765067x_{0} x_{1} + 0.495894193x_{0}^{2} + 0.017257504x_{1}^{2})$"
      ],
      "text/plain": [
       "<IPython.core.display.Markdown object>"
      ]
     },
     "metadata": {},
     "output_type": "display_data"
    },
    {
     "name": "stdout",
     "output_type": "stream",
     "text": [
      "Lambda solution status: 1\n",
      "V solution status: 1\n"
     ]
    },
    {
     "data": {
      "text/markdown": [
       "$ V(x)=(0.000000000 + 0.000000000x_{0} - 0.000000000x_{1} + 0.032201380x_{0} x_{1} + 0.420800966x_{0}^{2} + 0.014172528x_{1}^{2})$"
      ],
      "text/plain": [
       "<IPython.core.display.Markdown object>"
      ]
     },
     "metadata": {},
     "output_type": "display_data"
    },
    {
     "name": "stdout",
     "output_type": "stream",
     "text": [
      "Lambda solution status: 1\n",
      "V solution status: 1\n"
     ]
    },
    {
     "data": {
      "text/markdown": [
       "$ V(x)=(0.000000000 + 0.000000000x_{0} - 0.000000000x_{1} + 0.027171476x_{0} x_{1} + 0.352614294x_{0}^{2} + 0.011303443x_{1}^{2})$"
      ],
      "text/plain": [
       "<IPython.core.display.Markdown object>"
      ]
     },
     "metadata": {},
     "output_type": "display_data"
    },
    {
     "name": "stdout",
     "output_type": "stream",
     "text": [
      "Lambda solution status: 1\n",
      "V solution status: 1\n"
     ]
    },
    {
     "data": {
      "text/markdown": [
       "$ V(x)=(0.000000000 - 0.000000000x_{0} - 0.000000000x_{1} + 0.022631136x_{0} x_{1} + 0.295438403x_{0}^{2} + 0.009037607x_{1}^{2})$"
      ],
      "text/plain": [
       "<IPython.core.display.Markdown object>"
      ]
     },
     "metadata": {},
     "output_type": "display_data"
    },
    {
     "name": "stdout",
     "output_type": "stream",
     "text": [
      "Lambda solution status: 1\n",
      "V solution status: 1\n"
     ]
    },
    {
     "data": {
      "text/markdown": [
       "$ V(x)=(0.000000000 - 0.000000000x_{0} - 0.000000000x_{1} + 0.018165323x_{0} x_{1} + 0.242495173x_{0}^{2} + 0.007189290x_{1}^{2})$"
      ],
      "text/plain": [
       "<IPython.core.display.Markdown object>"
      ]
     },
     "metadata": {},
     "output_type": "display_data"
    },
    {
     "name": "stdout",
     "output_type": "stream",
     "text": [
      "Lambda solution status: 1\n",
      "V solution status: 1\n"
     ]
    },
    {
     "data": {
      "text/markdown": [
       "$ V(x)=(0.000000000 + 0.000000000x_{0} + 0.000000000x_{1} + 0.014428247x_{0} x_{1} + 0.199457960x_{0}^{2} + 0.005685727x_{1}^{2})$"
      ],
      "text/plain": [
       "<IPython.core.display.Markdown object>"
      ]
     },
     "metadata": {},
     "output_type": "display_data"
    },
    {
     "name": "stdout",
     "output_type": "stream",
     "text": [
      "Lambda solution status: 1\n",
      "V solution status: 1\n"
     ]
    },
    {
     "data": {
      "text/markdown": [
       "$ V(x)=(0.000000000 + 0.000000000x_{0} + 0.000000000x_{1} + 0.011315623x_{0} x_{1} + 0.164429424x_{0}^{2} + 0.004442596x_{1}^{2})$"
      ],
      "text/plain": [
       "<IPython.core.display.Markdown object>"
      ]
     },
     "metadata": {},
     "output_type": "display_data"
    },
    {
     "name": "stdout",
     "output_type": "stream",
     "text": [
      "Lambda solution status: 1\n",
      "V solution status: 1\n"
     ]
    },
    {
     "data": {
      "text/markdown": [
       "$ V(x)=(0.000000000 + 0.000000000x_{0} + 0.000000000x_{1} + 0.008911707x_{0} x_{1} + 0.134994071x_{0}^{2} + 0.003533408x_{1}^{2})$"
      ],
      "text/plain": [
       "<IPython.core.display.Markdown object>"
      ]
     },
     "metadata": {},
     "output_type": "display_data"
    },
    {
     "name": "stdout",
     "output_type": "stream",
     "text": [
      "Lambda solution status: 1\n",
      "V solution status: 1\n"
     ]
    },
    {
     "data": {
      "text/markdown": [
       "$ V(x)=(0.000000000 - 0.000000000x_{0} - 0.000000000x_{1} + 0.006919296x_{0} x_{1} + 0.107146047x_{0}^{2} + 0.002805545x_{1}^{2})$"
      ],
      "text/plain": [
       "<IPython.core.display.Markdown object>"
      ]
     },
     "metadata": {},
     "output_type": "display_data"
    },
    {
     "name": "stdout",
     "output_type": "stream",
     "text": [
      "Lambda solution status: 1\n",
      "V solution status: 1\n"
     ]
    },
    {
     "data": {
      "text/markdown": [
       "$ V(x)=(0.000000000 + 0.000000000x_{0} - 0.000000000x_{1} + 0.005196581x_{0} x_{1} + 0.081258249x_{0}^{2} + 0.002240269x_{1}^{2})$"
      ],
      "text/plain": [
       "<IPython.core.display.Markdown object>"
      ]
     },
     "metadata": {},
     "output_type": "display_data"
    },
    {
     "name": "stdout",
     "output_type": "stream",
     "text": [
      "Lambda solution status: 1\n",
      "V solution status: 1\n"
     ]
    },
    {
     "data": {
      "text/markdown": [
       "$ V(x)=(0.000000000 + 0.000000000x_{0} + 0.000000000x_{1} + 0.003817531x_{0} x_{1} + 0.066511605x_{0}^{2} + 0.001680244x_{1}^{2})$"
      ],
      "text/plain": [
       "<IPython.core.display.Markdown object>"
      ]
     },
     "metadata": {},
     "output_type": "display_data"
    },
    {
     "name": "stdout",
     "output_type": "stream",
     "text": [
      "Lambda solution status: 1\n",
      "V solution status: 1\n"
     ]
    },
    {
     "data": {
      "text/markdown": [
       "$ V(x)=(0.000000000 + 0.000000000x_{0} + 0.000000000x_{1} + 0.002801920x_{0} x_{1} + 0.055395027x_{0}^{2} + 0.001271286x_{1}^{2})$"
      ],
      "text/plain": [
       "<IPython.core.display.Markdown object>"
      ]
     },
     "metadata": {},
     "output_type": "display_data"
    },
    {
     "name": "stdout",
     "output_type": "stream",
     "text": [
      "Lambda solution status: 1\n",
      "V solution status: 1\n"
     ]
    },
    {
     "data": {
      "text/markdown": [
       "$ V(x)=(0.000000000 + 0.000000000x_{0} + 0.000000000x_{1} + 0.002110180x_{0} x_{1} + 0.047481902x_{0}^{2} + 0.000988053x_{1}^{2})$"
      ],
      "text/plain": [
       "<IPython.core.display.Markdown object>"
      ]
     },
     "metadata": {},
     "output_type": "display_data"
    },
    {
     "name": "stdout",
     "output_type": "stream",
     "text": [
      "Lambda solution status: 1\n",
      "V solution status: 1\n"
     ]
    },
    {
     "data": {
      "text/markdown": [
       "$ V(x)=(0.000000000 - 0.000000000x_{0} - 0.000000000x_{1} + 0.001597174x_{0} x_{1} + 0.040731571x_{0}^{2} + 0.000782375x_{1}^{2})$"
      ],
      "text/plain": [
       "<IPython.core.display.Markdown object>"
      ]
     },
     "metadata": {},
     "output_type": "display_data"
    },
    {
     "name": "stdout",
     "output_type": "stream",
     "text": [
      "Lambda solution status: 1\n",
      "V solution status: 1\n"
     ]
    },
    {
     "data": {
      "text/markdown": [
       "$ V(x)=(0.000000000 + 0.000000000x_{0} + 0.000000000x_{1} + 0.001212771x_{0} x_{1} + 0.033613972x_{0}^{2} + 0.000615058x_{1}^{2})$"
      ],
      "text/plain": [
       "<IPython.core.display.Markdown object>"
      ]
     },
     "metadata": {},
     "output_type": "display_data"
    },
    {
     "name": "stdout",
     "output_type": "stream",
     "text": [
      "Lambda solution status: 1\n",
      "V solution status: 1\n"
     ]
    },
    {
     "data": {
      "text/markdown": [
       "$ V(x)=(0.000000000 + 0.000000000x_{0} - 0.000000000x_{1} + 0.000893115x_{0} x_{1} + 0.025873369x_{0}^{2} + 0.000462124x_{1}^{2})$"
      ],
      "text/plain": [
       "<IPython.core.display.Markdown object>"
      ]
     },
     "metadata": {},
     "output_type": "display_data"
    },
    {
     "name": "stdout",
     "output_type": "stream",
     "text": [
      "Lambda solution status: 1\n",
      "V solution status: 1\n"
     ]
    },
    {
     "data": {
      "text/markdown": [
       "$ V(x)=(0.000000000 + 0.000000000x_{0} - 0.000000000x_{1} + 0.000676189x_{0} x_{1} + 0.020347703x_{0}^{2} + 0.000356673x_{1}^{2})$"
      ],
      "text/plain": [
       "<IPython.core.display.Markdown object>"
      ]
     },
     "metadata": {},
     "output_type": "display_data"
    },
    {
     "name": "stdout",
     "output_type": "stream",
     "text": [
      "Lambda solution status: 1\n",
      "V solution status: 1\n"
     ]
    },
    {
     "data": {
      "text/markdown": [
       "$ V(x)=(0.000000000 + 0.000000000x_{0} - 0.000000000x_{1} + 0.000530214x_{0} x_{1} + 0.016525897x_{0}^{2} + 0.000285153x_{1}^{2})$"
      ],
      "text/plain": [
       "<IPython.core.display.Markdown object>"
      ]
     },
     "metadata": {},
     "output_type": "display_data"
    },
    {
     "name": "stdout",
     "output_type": "stream",
     "text": [
      "Lambda solution status: 1\n",
      "V solution status: 1\n"
     ]
    },
    {
     "data": {
      "text/markdown": [
       "$ V(x)=(0.000000000 + 0.000000000x_{0} + 0.000000000x_{1} + 0.000437610x_{0} x_{1} + 0.014038165x_{0}^{2} + 0.000239396x_{1}^{2})$"
      ],
      "text/plain": [
       "<IPython.core.display.Markdown object>"
      ]
     },
     "metadata": {},
     "output_type": "display_data"
    },
    {
     "name": "stdout",
     "output_type": "stream",
     "text": [
      "Lambda solution status: 1\n",
      "V solution status: 1\n"
     ]
    },
    {
     "data": {
      "text/markdown": [
       "$ V(x)=(0.000000000 + 0.000000000x_{0} + 0.000000000x_{1} + 0.000365328x_{0} x_{1} + 0.011948962x_{0}^{2} + 0.000202444x_{1}^{2})$"
      ],
      "text/plain": [
       "<IPython.core.display.Markdown object>"
      ]
     },
     "metadata": {},
     "output_type": "display_data"
    },
    {
     "name": "stdout",
     "output_type": "stream",
     "text": [
      "Lambda solution status: 1\n",
      "V solution status: 1\n"
     ]
    },
    {
     "data": {
      "text/markdown": [
       "$ V(x)=(0.000000000 - 0.000000000x_{0} + 0.000000000x_{1} + 0.000303818x_{0} x_{1} + 0.010055926x_{0}^{2} + 0.000169930x_{1}^{2})$"
      ],
      "text/plain": [
       "<IPython.core.display.Markdown object>"
      ]
     },
     "metadata": {},
     "output_type": "display_data"
    },
    {
     "name": "stdout",
     "output_type": "stream",
     "text": [
      "Lambda solution status: 1\n",
      "V solution status: 1\n"
     ]
    },
    {
     "data": {
      "text/markdown": [
       "$ V(x)=(0.000000000 - 0.000000000x_{0} - 0.000000000x_{1} + 0.000254964x_{0} x_{1} + 0.008521712x_{0}^{2} + 0.000143728x_{1}^{2})$"
      ],
      "text/plain": [
       "<IPython.core.display.Markdown object>"
      ]
     },
     "metadata": {},
     "output_type": "display_data"
    },
    {
     "name": "stdout",
     "output_type": "stream",
     "text": [
      "Lambda solution status: 1\n",
      "V solution status: 1\n"
     ]
    },
    {
     "data": {
      "text/markdown": [
       "$ V(x)=(0.000000016 - 0.000000000x_{0} - 0.000000000x_{1} + 0.000216112x_{0} x_{1} + 0.007303550x_{0}^{2} + 0.000122900x_{1}^{2})$"
      ],
      "text/plain": [
       "<IPython.core.display.Markdown object>"
      ]
     },
     "metadata": {},
     "output_type": "display_data"
    },
    {
     "name": "stdout",
     "output_type": "stream",
     "text": [
      "Lambda solution status: 1\n",
      "V solution status: 1\n"
     ]
    },
    {
     "data": {
      "text/markdown": [
       "$ V(x)=(0.000000012 - 0.000000000x_{0} + 0.000000000x_{1} + 0.000183588x_{0} x_{1} + 0.006246481x_{0}^{2} + 0.000105027x_{1}^{2})$"
      ],
      "text/plain": [
       "<IPython.core.display.Markdown object>"
      ]
     },
     "metadata": {},
     "output_type": "display_data"
    },
    {
     "name": "stdout",
     "output_type": "stream",
     "text": [
      "Lambda solution status: 1\n",
      "V solution status: 1\n"
     ]
    },
    {
     "data": {
      "text/markdown": [
       "$ V(x)=(0.000000009 + 0.000000000x_{0} + 0.000000000x_{1} + 0.000155658x_{0} x_{1} + 0.005318554x_{0}^{2} + 0.000089414x_{1}^{2})$"
      ],
      "text/plain": [
       "<IPython.core.display.Markdown object>"
      ]
     },
     "metadata": {},
     "output_type": "display_data"
    },
    {
     "name": "stdout",
     "output_type": "stream",
     "text": [
      "Lambda solution status: 1\n",
      "V solution status: 1\n"
     ]
    },
    {
     "data": {
      "text/markdown": [
       "$ V(x)=(0.000000018 + 0.000000000x_{0} + 0.000000000x_{1} + 0.000130151x_{0} x_{1} + 0.004475486x_{0}^{2} + 0.000075159x_{1}^{2})$"
      ],
      "text/plain": [
       "<IPython.core.display.Markdown object>"
      ]
     },
     "metadata": {},
     "output_type": "display_data"
    },
    {
     "name": "stdout",
     "output_type": "stream",
     "text": [
      "Lambda solution status: 1\n",
      "V solution status: 1\n"
     ]
    },
    {
     "data": {
      "text/markdown": [
       "$ V(x)=(0.000000007 + 0.000000000x_{0} + 0.000000000x_{1} + 0.000101537x_{0} x_{1} + 0.003488302x_{0}^{2} + 0.000058647x_{1}^{2})$"
      ],
      "text/plain": [
       "<IPython.core.display.Markdown object>"
      ]
     },
     "metadata": {},
     "output_type": "display_data"
    },
    {
     "name": "stdout",
     "output_type": "stream",
     "text": [
      "Lambda solution status: 1\n",
      "V solution status: 1\n"
     ]
    },
    {
     "data": {
      "text/markdown": [
       "$ V(x)=(0.000000009 - 0.000000000x_{0} - 0.000000000x_{1} + 0.000081289x_{0} x_{1} + 0.002801147x_{0}^{2} + 0.000047112x_{1}^{2})$"
      ],
      "text/plain": [
       "<IPython.core.display.Markdown object>"
      ]
     },
     "metadata": {},
     "output_type": "display_data"
    },
    {
     "name": "stdout",
     "output_type": "stream",
     "text": [
      "Lambda solution status: 1\n",
      "V solution status: 1\n"
     ]
    },
    {
     "data": {
      "text/markdown": [
       "$ V(x)=(0.000000003 - 0.000000000x_{0} - 0.000000000x_{1} + 0.000071136x_{0} x_{1} + 0.002447499x_{0}^{2} + 0.000041230x_{1}^{2})$"
      ],
      "text/plain": [
       "<IPython.core.display.Markdown object>"
      ]
     },
     "metadata": {},
     "output_type": "display_data"
    },
    {
     "name": "stdout",
     "output_type": "stream",
     "text": [
      "Lambda solution status: 1\n",
      "V solution status: 1\n"
     ]
    },
    {
     "data": {
      "text/markdown": [
       "$ V(x)=(0.000000004 + 0.000000000x_{0} + 0.000000000x_{1} + 0.000058445x_{0} x_{1} + 0.002012799x_{0}^{2} + 0.000033936x_{1}^{2})$"
      ],
      "text/plain": [
       "<IPython.core.display.Markdown object>"
      ]
     },
     "metadata": {},
     "output_type": "display_data"
    },
    {
     "name": "stdout",
     "output_type": "stream",
     "text": [
      "Lambda solution status: 1\n",
      "V solution status: 1\n"
     ]
    },
    {
     "data": {
      "text/markdown": [
       "$ V(x)=(0.000000003 + 0.000000000x_{0} + 0.000000000x_{1} + 0.000048029x_{0} x_{1} + 0.001654202x_{0}^{2} + 0.000027936x_{1}^{2})$"
      ],
      "text/plain": [
       "<IPython.core.display.Markdown object>"
      ]
     },
     "metadata": {},
     "output_type": "display_data"
    },
    {
     "name": "stdout",
     "output_type": "stream",
     "text": [
      "Lambda solution status: 1\n",
      "V solution status: 1\n"
     ]
    },
    {
     "data": {
      "text/markdown": [
       "$ V(x)=(0.000000002 + 0.000000000x_{0} + 0.000000000x_{1} + 0.000039598x_{0} x_{1} + 0.001364754x_{0}^{2} + 0.000023085x_{1}^{2})$"
      ],
      "text/plain": [
       "<IPython.core.display.Markdown object>"
      ]
     },
     "metadata": {},
     "output_type": "display_data"
    },
    {
     "name": "stdout",
     "output_type": "stream",
     "text": [
      "Lambda solution status: 1\n",
      "V solution status: 1\n"
     ]
    },
    {
     "data": {
      "text/markdown": [
       "$ V(x)=(0.000000001 - 0.000000000x_{0} - 0.000000000x_{1} + 0.000032399x_{0} x_{1} + 0.001118083x_{0}^{2} + 0.000018942x_{1}^{2})$"
      ],
      "text/plain": [
       "<IPython.core.display.Markdown object>"
      ]
     },
     "metadata": {},
     "output_type": "display_data"
    },
    {
     "name": "stdout",
     "output_type": "stream",
     "text": [
      "Lambda solution status: 1\n",
      "V solution status: 1\n"
     ]
    },
    {
     "data": {
      "text/markdown": [
       "$ V(x)=(0.000000001 + 0.000000000x_{0} + 0.000000000x_{1} + 0.000026189x_{0} x_{1} + 0.000905357x_{0}^{2} + 0.000015361x_{1}^{2})$"
      ],
      "text/plain": [
       "<IPython.core.display.Markdown object>"
      ]
     },
     "metadata": {},
     "output_type": "display_data"
    },
    {
     "name": "stdout",
     "output_type": "stream",
     "text": [
      "Lambda solution status: 1\n",
      "V solution status: 1\n"
     ]
    },
    {
     "data": {
      "text/markdown": [
       "$ V(x)=(0.000000003 + 0.000000000x_{0} + 0.000000000x_{1} + 0.000021086x_{0} x_{1} + 0.000733670x_{0}^{2} + 0.000012448x_{1}^{2})$"
      ],
      "text/plain": [
       "<IPython.core.display.Markdown object>"
      ]
     },
     "metadata": {},
     "output_type": "display_data"
    },
    {
     "name": "stdout",
     "output_type": "stream",
     "text": [
      "Lambda solution status: 1\n",
      "V solution status: 1\n"
     ]
    },
    {
     "data": {
      "text/markdown": [
       "$ V(x)=(0.000000002 - 0.000000000x_{0} + 0.000000000x_{1} + 0.000017151x_{0} x_{1} + 0.000599201x_{0}^{2} + 0.000010170x_{1}^{2})$"
      ],
      "text/plain": [
       "<IPython.core.display.Markdown object>"
      ]
     },
     "metadata": {},
     "output_type": "display_data"
    },
    {
     "name": "stdout",
     "output_type": "stream",
     "text": [
      "Lambda solution status: 1\n",
      "V solution status: 1\n"
     ]
    },
    {
     "data": {
      "text/markdown": [
       "$ V(x)=(0.000000002 - 0.000000000x_{0} - 0.000000000x_{1} + 0.000013188x_{0} x_{1} + 0.000456889x_{0}^{2} + 0.000007838x_{1}^{2})$"
      ],
      "text/plain": [
       "<IPython.core.display.Markdown object>"
      ]
     },
     "metadata": {},
     "output_type": "display_data"
    },
    {
     "name": "stdout",
     "output_type": "stream",
     "text": [
      "Lambda solution status: 1\n",
      "V solution status: 1\n"
     ]
    },
    {
     "data": {
      "text/markdown": [
       "$ V(x)=(0.000000001 + 0.000000000x_{0} + 0.000000000x_{1} + 0.000009972x_{0} x_{1} + 0.000344452x_{0}^{2} + 0.000005961x_{1}^{2})$"
      ],
      "text/plain": [
       "<IPython.core.display.Markdown object>"
      ]
     },
     "metadata": {},
     "output_type": "display_data"
    },
    {
     "name": "stdout",
     "output_type": "stream",
     "text": [
      "Lambda solution status: 1\n",
      "V solution status: 1\n"
     ]
    },
    {
     "data": {
      "text/markdown": [
       "$ V(x)=(0.000000001 - 0.000000000x_{0} - 0.000000000x_{1} + 0.000007640x_{0} x_{1} + 0.000264407x_{0}^{2} + 0.000004611x_{1}^{2})$"
      ],
      "text/plain": [
       "<IPython.core.display.Markdown object>"
      ]
     },
     "metadata": {},
     "output_type": "display_data"
    },
    {
     "name": "stdout",
     "output_type": "stream",
     "text": [
      "Lambda solution status: 1\n",
      "V solution status: 1\n"
     ]
    },
    {
     "data": {
      "text/markdown": [
       "$ V(x)=(0.000000004 + 0.000000000x_{0} - 0.000000000x_{1} + 0.000005642x_{0} x_{1} + 0.000201509x_{0}^{2} + 0.000003505x_{1}^{2})$"
      ],
      "text/plain": [
       "<IPython.core.display.Markdown object>"
      ]
     },
     "metadata": {},
     "output_type": "display_data"
    },
    {
     "name": "stdout",
     "output_type": "stream",
     "text": [
      "Lambda solution status: 1\n",
      "V solution status: 1\n"
     ]
    },
    {
     "data": {
      "text/markdown": [
       "$ V(x)=(0.000000002 - 0.000000000x_{0} - 0.000000000x_{1} + 0.000003079x_{0} x_{1} + 0.000102878x_{0}^{2} + 0.000001849x_{1}^{2})$"
      ],
      "text/plain": [
       "<IPython.core.display.Markdown object>"
      ]
     },
     "metadata": {},
     "output_type": "display_data"
    },
    {
     "name": "stdout",
     "output_type": "stream",
     "text": [
      "Lambda solution status: 1\n",
      "V solution status: 1\n"
     ]
    },
    {
     "data": {
      "text/markdown": [
       "$ V(x)=(0.000000002 - 0.000000000x_{0} - 0.000000000x_{1} + 0.000001703x_{0} x_{1} + 0.000051948x_{0}^{2} + 0.000000980x_{1}^{2})$"
      ],
      "text/plain": [
       "<IPython.core.display.Markdown object>"
      ]
     },
     "metadata": {},
     "output_type": "display_data"
    },
    {
     "name": "stdout",
     "output_type": "stream",
     "text": [
      "Lambda solution status: 1\n",
      "V solution status: 1\n"
     ]
    },
    {
     "data": {
      "text/markdown": [
       "$ V(x)=(0.000000001 - 0.000000000x_{0} - 0.000000000x_{1} + 0.000000866x_{0} x_{1} + 0.000027327x_{0}^{2} + 0.000000511x_{1}^{2})$"
      ],
      "text/plain": [
       "<IPython.core.display.Markdown object>"
      ]
     },
     "metadata": {},
     "output_type": "display_data"
    },
    {
     "name": "stdout",
     "output_type": "stream",
     "text": [
      "Lambda solution status: 1\n",
      "V solution status: 1\n"
     ]
    },
    {
     "data": {
      "text/markdown": [
       "$ V(x)=(0.000000000 - 0.000000000x_{0} + 0.000000000x_{1} + 0.000000572x_{0} x_{1} + 0.000013832x_{0}^{2} + 0.000000294x_{1}^{2})$"
      ],
      "text/plain": [
       "<IPython.core.display.Markdown object>"
      ]
     },
     "metadata": {},
     "output_type": "display_data"
    },
    {
     "name": "stdout",
     "output_type": "stream",
     "text": [
      "Lambda solution status: 1\n",
      "V solution status: 1\n"
     ]
    },
    {
     "data": {
      "text/markdown": [
       "$ V(x)=(0.000000000 - 0.000000000x_{0} - 0.000000000x_{1} + 0.000000312x_{0} x_{1} + 0.000007017x_{0}^{2} + 0.000000156x_{1}^{2})$"
      ],
      "text/plain": [
       "<IPython.core.display.Markdown object>"
      ]
     },
     "metadata": {},
     "output_type": "display_data"
    },
    {
     "name": "stdout",
     "output_type": "stream",
     "text": [
      "Lambda solution status: 1\n",
      "V solution status: 1\n"
     ]
    },
    {
     "data": {
      "text/markdown": [
       "$ V(x)=(0.000000008 - 0.000000000x_{0} + 0.000000000x_{1} - 0.000000153x_{0} x_{1} + 0.000003201x_{0}^{2} + 0.000000006x_{1}^{2})$"
      ],
      "text/plain": [
       "<IPython.core.display.Markdown object>"
      ]
     },
     "metadata": {},
     "output_type": "display_data"
    },
    {
     "name": "stdout",
     "output_type": "stream",
     "text": [
      "Lambda solution status: 1\n",
      "V solution status: 1\n"
     ]
    },
    {
     "data": {
      "text/markdown": [
       "$ V(x)=(0.000000004 - 0.000000000x_{0} + 0.000000000x_{1} - 0.000000107x_{0} x_{1} + 0.000001589x_{0}^{2} + 0.000000002x_{1}^{2})$"
      ],
      "text/plain": [
       "<IPython.core.display.Markdown object>"
      ]
     },
     "metadata": {},
     "output_type": "display_data"
    },
    {
     "name": "stdout",
     "output_type": "stream",
     "text": [
      "Lambda solution status: 1\n",
      "V solution status: 1\n"
     ]
    },
    {
     "data": {
      "text/markdown": [
       "$ V(x)=(0.000000004 + 0.000000000x_{0} + 0.000000000x_{1} - 0.000000073x_{0} x_{1} + 0.000000800x_{0}^{2} + 0.000000003x_{1}^{2})$"
      ],
      "text/plain": [
       "<IPython.core.display.Markdown object>"
      ]
     },
     "metadata": {},
     "output_type": "display_data"
    },
    {
     "name": "stdout",
     "output_type": "stream",
     "text": [
      "Lambda solution status: 1\n",
      "V solution status: 1\n"
     ]
    },
    {
     "data": {
      "text/markdown": [
       "$ V(x)=(0.000000005 + 0.000000000x_{0} - 0.000000000x_{1} - 0.000000086x_{0} x_{1} + 0.000000366x_{0}^{2} + 0.000000006x_{1}^{2})$"
      ],
      "text/plain": [
       "<IPython.core.display.Markdown object>"
      ]
     },
     "metadata": {},
     "output_type": "display_data"
    },
    {
     "name": "stdout",
     "output_type": "stream",
     "text": [
      "Lambda solution status: 1\n",
      "V solution status: 1\n"
     ]
    },
    {
     "data": {
      "text/markdown": [
       "$ V(x)=(0.000000003 + 0.000000000x_{0} + 0.000000000x_{1} - 0.000000062x_{0} x_{1} + 0.000000165x_{0}^{2} + 0.000000007x_{1}^{2})$"
      ],
      "text/plain": [
       "<IPython.core.display.Markdown object>"
      ]
     },
     "metadata": {},
     "output_type": "display_data"
    },
    {
     "name": "stdout",
     "output_type": "stream",
     "text": [
      "Lambda solution status: 1\n",
      "V solution status: 1\n"
     ]
    },
    {
     "data": {
      "text/markdown": [
       "$ V(x)=(0.000000007 + 0.000000000x_{0} + 0.000000000x_{1} - 0.000000024x_{0} x_{1} + 0.000000104x_{0}^{2} + 0.000000006x_{1}^{2})$"
      ],
      "text/plain": [
       "<IPython.core.display.Markdown object>"
      ]
     },
     "metadata": {},
     "output_type": "display_data"
    },
    {
     "name": "stdout",
     "output_type": "stream",
     "text": [
      "Lambda solution status: 1\n",
      "V solution status: 1\n"
     ]
    },
    {
     "data": {
      "text/markdown": [
       "$ V(x)=(0.000000004 - 0.000000000x_{0} + 0.000000000x_{1} + 0.000000144x_{0} x_{1} + 0.000000209x_{0}^{2} + 0.000000041x_{1}^{2})$"
      ],
      "text/plain": [
       "<IPython.core.display.Markdown object>"
      ]
     },
     "metadata": {},
     "output_type": "display_data"
    },
    {
     "name": "stdout",
     "output_type": "stream",
     "text": [
      "Lambda solution status: 1\n",
      "V solution status: 1\n"
     ]
    },
    {
     "data": {
      "text/markdown": [
       "$ V(x)=(0.000000005 - 0.000000000x_{0} + 0.000000000x_{1} - 0.000000001x_{0} x_{1} + 0.000000032x_{0}^{2} + 0.000000005x_{1}^{2})$"
      ],
      "text/plain": [
       "<IPython.core.display.Markdown object>"
      ]
     },
     "metadata": {},
     "output_type": "display_data"
    },
    {
     "name": "stdout",
     "output_type": "stream",
     "text": [
      "Lambda solution status: 1\n",
      "V solution status: 1\n"
     ]
    },
    {
     "data": {
      "text/markdown": [
       "$ V(x)=(0.000000003 - 0.000000000x_{0} + 0.000000000x_{1} - 0.000000005x_{0} x_{1} + 0.000000010x_{0}^{2} + 0.000000004x_{1}^{2})$"
      ],
      "text/plain": [
       "<IPython.core.display.Markdown object>"
      ]
     },
     "metadata": {},
     "output_type": "display_data"
    },
    {
     "name": "stdout",
     "output_type": "stream",
     "text": [
      "Lambda solution status: 1\n",
      "V solution status: 1\n"
     ]
    },
    {
     "data": {
      "text/markdown": [
       "$ V(x)=(0.000000002 - 0.000000000x_{0} + 0.000000000x_{1} - 0.000000001x_{0} x_{1} + 0.000000008x_{0}^{2} + 0.000000003x_{1}^{2})$"
      ],
      "text/plain": [
       "<IPython.core.display.Markdown object>"
      ]
     },
     "metadata": {},
     "output_type": "display_data"
    },
    {
     "name": "stdout",
     "output_type": "stream",
     "text": [
      "Lambda solution status: 1\n",
      "V solution status: 1\n"
     ]
    },
    {
     "data": {
      "text/markdown": [
       "$ V(x)=(0.000000002 - 0.000000000x_{0} - 0.000000000x_{1} - 0.000000001x_{0} x_{1} + 0.000000005x_{0}^{2} + 0.000000003x_{1}^{2})$"
      ],
      "text/plain": [
       "<IPython.core.display.Markdown object>"
      ]
     },
     "metadata": {},
     "output_type": "display_data"
    },
    {
     "name": "stdout",
     "output_type": "stream",
     "text": [
      "Lambda solution status: 1\n",
      "V solution status: 1\n"
     ]
    },
    {
     "data": {
      "text/markdown": [
       "$ V(x)=(0.000000001 - 0.000000000x_{0} - 0.000000000x_{1} - 0.000000002x_{0} x_{1} + 0.000000004x_{0}^{2} + 0.000000002x_{1}^{2})$"
      ],
      "text/plain": [
       "<IPython.core.display.Markdown object>"
      ]
     },
     "metadata": {},
     "output_type": "display_data"
    },
    {
     "name": "stdout",
     "output_type": "stream",
     "text": [
      "Lambda solution status: 1\n",
      "V solution status: 1\n"
     ]
    },
    {
     "data": {
      "text/markdown": [
       "$ V(x)=(0.000000001 - 0.000000000x_{0} + 0.000000000x_{1} - 0.000000002x_{0} x_{1} + 0.000000003x_{0}^{2} + 0.000000002x_{1}^{2})$"
      ],
      "text/plain": [
       "<IPython.core.display.Markdown object>"
      ]
     },
     "metadata": {},
     "output_type": "display_data"
    },
    {
     "name": "stdout",
     "output_type": "stream",
     "text": [
      "Lambda solution status: 1\n",
      "V solution status: 1\n"
     ]
    },
    {
     "data": {
      "text/markdown": [
       "$ V(x)=(0.000000001 - 0.000000000x_{0} + 0.000000000x_{1} - 0.000000002x_{0} x_{1} + 0.000000003x_{0}^{2} + 0.000000002x_{1}^{2})$"
      ],
      "text/plain": [
       "<IPython.core.display.Markdown object>"
      ]
     },
     "metadata": {},
     "output_type": "display_data"
    },
    {
     "name": "stdout",
     "output_type": "stream",
     "text": [
      "Lambda solution status: 1\n",
      "V solution status: 1\n"
     ]
    },
    {
     "data": {
      "text/markdown": [
       "$ V(x)=(0.000000001 + 0.000000000x_{0} + 0.000000000x_{1} - 0.000000002x_{0} x_{1} + 0.000000003x_{0}^{2} + 0.000000002x_{1}^{2})$"
      ],
      "text/plain": [
       "<IPython.core.display.Markdown object>"
      ]
     },
     "metadata": {},
     "output_type": "display_data"
    },
    {
     "name": "stdout",
     "output_type": "stream",
     "text": [
      "Lambda solution status: 1\n",
      "V solution status: 1\n"
     ]
    },
    {
     "data": {
      "text/markdown": [
       "$ V(x)=(0.000000003 - 0.000000000x_{0} - 0.000000000x_{1} - 0.000000003x_{0} x_{1} + 0.000000005x_{0}^{2} + 0.000000004x_{1}^{2})$"
      ],
      "text/plain": [
       "<IPython.core.display.Markdown object>"
      ]
     },
     "metadata": {},
     "output_type": "display_data"
    },
    {
     "name": "stdout",
     "output_type": "stream",
     "text": [
      "Lambda solution status: 1\n",
      "V solution status: 1\n"
     ]
    },
    {
     "data": {
      "text/markdown": [
       "$ V(x)=(0.000000002 - 0.000000000x_{0} + 0.000000000x_{1} - 0.000000002x_{0} x_{1} + 0.000000004x_{0}^{2} + 0.000000002x_{1}^{2})$"
      ],
      "text/plain": [
       "<IPython.core.display.Markdown object>"
      ]
     },
     "metadata": {},
     "output_type": "display_data"
    },
    {
     "name": "stdout",
     "output_type": "stream",
     "text": [
      "Lambda solution status: 1\n",
      "V solution status: 1\n"
     ]
    },
    {
     "data": {
      "text/markdown": [
       "$ V(x)=(0.000000001 + 0.000000000x_{0} + 0.000000000x_{1} - 0.000000002x_{0} x_{1} + 0.000000004x_{0}^{2} + 0.000000002x_{1}^{2})$"
      ],
      "text/plain": [
       "<IPython.core.display.Markdown object>"
      ]
     },
     "metadata": {},
     "output_type": "display_data"
    },
    {
     "name": "stdout",
     "output_type": "stream",
     "text": [
      "Lambda solution status: 1\n",
      "V solution status: 1\n"
     ]
    },
    {
     "data": {
      "text/markdown": [
       "$ V(x)=(0.000000001 + 0.000000000x_{0} + 0.000000000x_{1} - 0.000000002x_{0} x_{1} + 0.000000003x_{0}^{2} + 0.000000002x_{1}^{2})$"
      ],
      "text/plain": [
       "<IPython.core.display.Markdown object>"
      ]
     },
     "metadata": {},
     "output_type": "display_data"
    },
    {
     "name": "stdout",
     "output_type": "stream",
     "text": [
      "Lambda solution status: 1\n",
      "V solution status: 1\n"
     ]
    },
    {
     "data": {
      "text/markdown": [
       "$ V(x)=(0.000000001 - 0.000000000x_{0} - 0.000000000x_{1} - 0.000000002x_{0} x_{1} + 0.000000003x_{0}^{2} + 0.000000002x_{1}^{2})$"
      ],
      "text/plain": [
       "<IPython.core.display.Markdown object>"
      ]
     },
     "metadata": {},
     "output_type": "display_data"
    },
    {
     "name": "stdout",
     "output_type": "stream",
     "text": [
      "Lambda solution status: 1\n",
      "V solution status: 1\n"
     ]
    },
    {
     "data": {
      "text/markdown": [
       "$ V(x)=(0.000000001 - 0.000000000x_{0} + 0.000000000x_{1} - 0.000000001x_{0} x_{1} + 0.000000003x_{0}^{2} + 0.000000002x_{1}^{2})$"
      ],
      "text/plain": [
       "<IPython.core.display.Markdown object>"
      ]
     },
     "metadata": {},
     "output_type": "display_data"
    },
    {
     "name": "stdout",
     "output_type": "stream",
     "text": [
      "Lambda solution status: 1\n",
      "V solution status: 1\n"
     ]
    },
    {
     "data": {
      "text/markdown": [
       "$ V(x)=(0.000000003 - 0.000000000x_{0} + 0.000000000x_{1} - 0.000000003x_{0} x_{1} + 0.000000005x_{0}^{2} + 0.000000003x_{1}^{2})$"
      ],
      "text/plain": [
       "<IPython.core.display.Markdown object>"
      ]
     },
     "metadata": {},
     "output_type": "display_data"
    },
    {
     "name": "stdout",
     "output_type": "stream",
     "text": [
      "Lambda solution status: 1\n",
      "V solution status: 1\n"
     ]
    },
    {
     "data": {
      "text/markdown": [
       "$ V(x)=(0.000000002 - 0.000000000x_{0} - 0.000000000x_{1} - 0.000000002x_{0} x_{1} + 0.000000004x_{0}^{2} + 0.000000002x_{1}^{2})$"
      ],
      "text/plain": [
       "<IPython.core.display.Markdown object>"
      ]
     },
     "metadata": {},
     "output_type": "display_data"
    },
    {
     "name": "stdout",
     "output_type": "stream",
     "text": [
      "Lambda solution status: 1\n",
      "V solution status: 1\n"
     ]
    },
    {
     "data": {
      "text/markdown": [
       "$ V(x)=(0.000000001 - 0.000000000x_{0} - 0.000000000x_{1} - 0.000000002x_{0} x_{1} + 0.000000003x_{0}^{2} + 0.000000002x_{1}^{2})$"
      ],
      "text/plain": [
       "<IPython.core.display.Markdown object>"
      ]
     },
     "metadata": {},
     "output_type": "display_data"
    },
    {
     "name": "stdout",
     "output_type": "stream",
     "text": [
      "Lambda solution status: 1\n",
      "V solution status: 1\n"
     ]
    },
    {
     "data": {
      "text/markdown": [
       "$ V(x)=(0.000000001 + 0.000000000x_{0} - 0.000000000x_{1} - 0.000000002x_{0} x_{1} + 0.000000003x_{0}^{2} + 0.000000002x_{1}^{2})$"
      ],
      "text/plain": [
       "<IPython.core.display.Markdown object>"
      ]
     },
     "metadata": {},
     "output_type": "display_data"
    },
    {
     "name": "stdout",
     "output_type": "stream",
     "text": [
      "Lambda solution status: 1\n",
      "V solution status: 1\n"
     ]
    },
    {
     "data": {
      "text/markdown": [
       "$ V(x)=(0.000000001 - 0.000000000x_{0} + 0.000000000x_{1} - 0.000000002x_{0} x_{1} + 0.000000003x_{0}^{2} + 0.000000002x_{1}^{2})$"
      ],
      "text/plain": [
       "<IPython.core.display.Markdown object>"
      ]
     },
     "metadata": {},
     "output_type": "display_data"
    },
    {
     "name": "stdout",
     "output_type": "stream",
     "text": [
      "Lambda solution status: 1\n",
      "V solution status: 1\n"
     ]
    },
    {
     "data": {
      "text/markdown": [
       "$ V(x)=(0.000000001 + 0.000000000x_{0} + 0.000000000x_{1} - 0.000000001x_{0} x_{1} + 0.000000003x_{0}^{2} + 0.000000002x_{1}^{2})$"
      ],
      "text/plain": [
       "<IPython.core.display.Markdown object>"
      ]
     },
     "metadata": {},
     "output_type": "display_data"
    },
    {
     "name": "stdout",
     "output_type": "stream",
     "text": [
      "Lambda solution status: 1\n",
      "V solution status: 1\n"
     ]
    },
    {
     "data": {
      "text/markdown": [
       "$ V(x)=(0.000000003 + 0.000000000x_{0} + 0.000000000x_{1} - 0.000000003x_{0} x_{1} + 0.000000004x_{0}^{2} + 0.000000003x_{1}^{2})$"
      ],
      "text/plain": [
       "<IPython.core.display.Markdown object>"
      ]
     },
     "metadata": {},
     "output_type": "display_data"
    },
    {
     "name": "stdout",
     "output_type": "stream",
     "text": [
      "Lambda solution status: 1\n",
      "V solution status: 1\n"
     ]
    },
    {
     "data": {
      "text/markdown": [
       "$ V(x)=(0.000000002 - 0.000000000x_{0} + 0.000000000x_{1} - 0.000000002x_{0} x_{1} + 0.000000004x_{0}^{2} + 0.000000002x_{1}^{2})$"
      ],
      "text/plain": [
       "<IPython.core.display.Markdown object>"
      ]
     },
     "metadata": {},
     "output_type": "display_data"
    },
    {
     "name": "stdout",
     "output_type": "stream",
     "text": [
      "Lambda solution status: 1\n",
      "V solution status: 1\n"
     ]
    },
    {
     "data": {
      "text/markdown": [
       "$ V(x)=(0.000000001 - 0.000000000x_{0} + 0.000000000x_{1} - 0.000000002x_{0} x_{1} + 0.000000003x_{0}^{2} + 0.000000002x_{1}^{2})$"
      ],
      "text/plain": [
       "<IPython.core.display.Markdown object>"
      ]
     },
     "metadata": {},
     "output_type": "display_data"
    },
    {
     "name": "stdout",
     "output_type": "stream",
     "text": [
      "Lambda solution status: 1\n",
      "V solution status: 1\n"
     ]
    },
    {
     "data": {
      "text/markdown": [
       "$ V(x)=(0.000000001 - 0.000000000x_{0} + 0.000000000x_{1} - 0.000000002x_{0} x_{1} + 0.000000003x_{0}^{2} + 0.000000002x_{1}^{2})$"
      ],
      "text/plain": [
       "<IPython.core.display.Markdown object>"
      ]
     },
     "metadata": {},
     "output_type": "display_data"
    },
    {
     "name": "stdout",
     "output_type": "stream",
     "text": [
      "Lambda solution status: 1\n",
      "V solution status: 1\n"
     ]
    },
    {
     "data": {
      "text/markdown": [
       "$ V(x)=(0.000000001 + 0.000000000x_{0} + 0.000000000x_{1} - 0.000000002x_{0} x_{1} + 0.000000003x_{0}^{2} + 0.000000002x_{1}^{2})$"
      ],
      "text/plain": [
       "<IPython.core.display.Markdown object>"
      ]
     },
     "metadata": {},
     "output_type": "display_data"
    },
    {
     "name": "stdout",
     "output_type": "stream",
     "text": [
      "Lambda solution status: 1\n",
      "V solution status: 1\n"
     ]
    },
    {
     "data": {
      "text/markdown": [
       "$ V(x)=(0.000000003 - 0.000000000x_{0} - 0.000000000x_{1} - 0.000000003x_{0} x_{1} + 0.000000005x_{0}^{2} + 0.000000004x_{1}^{2})$"
      ],
      "text/plain": [
       "<IPython.core.display.Markdown object>"
      ]
     },
     "metadata": {},
     "output_type": "display_data"
    },
    {
     "name": "stdout",
     "output_type": "stream",
     "text": [
      "Lambda solution status: 1\n",
      "V solution status: 1\n"
     ]
    },
    {
     "data": {
      "text/markdown": [
       "$ V(x)=(0.000000002 + 0.000000000x_{0} - 0.000000000x_{1} - 0.000000002x_{0} x_{1} + 0.000000004x_{0}^{2} + 0.000000002x_{1}^{2})$"
      ],
      "text/plain": [
       "<IPython.core.display.Markdown object>"
      ]
     },
     "metadata": {},
     "output_type": "display_data"
    },
    {
     "name": "stdout",
     "output_type": "stream",
     "text": [
      "Lambda solution status: 1\n",
      "V solution status: 1\n"
     ]
    },
    {
     "data": {
      "text/markdown": [
       "$ V(x)=(0.000000001 - 0.000000000x_{0} - 0.000000000x_{1} - 0.000000002x_{0} x_{1} + 0.000000004x_{0}^{2} + 0.000000002x_{1}^{2})$"
      ],
      "text/plain": [
       "<IPython.core.display.Markdown object>"
      ]
     },
     "metadata": {},
     "output_type": "display_data"
    },
    {
     "name": "stdout",
     "output_type": "stream",
     "text": [
      "Lambda solution status: 1\n",
      "V solution status: 1\n"
     ]
    },
    {
     "data": {
      "text/markdown": [
       "$ V(x)=(0.000000001 + 0.000000000x_{0} - 0.000000000x_{1} - 0.000000002x_{0} x_{1} + 0.000000003x_{0}^{2} + 0.000000002x_{1}^{2})$"
      ],
      "text/plain": [
       "<IPython.core.display.Markdown object>"
      ]
     },
     "metadata": {},
     "output_type": "display_data"
    },
    {
     "name": "stdout",
     "output_type": "stream",
     "text": [
      "Lambda solution status: 1\n",
      "V solution status: 1\n"
     ]
    },
    {
     "data": {
      "text/markdown": [
       "$ V(x)=(0.000000001 - 0.000000000x_{0} - 0.000000000x_{1} - 0.000000002x_{0} x_{1} + 0.000000003x_{0}^{2} + 0.000000002x_{1}^{2})$"
      ],
      "text/plain": [
       "<IPython.core.display.Markdown object>"
      ]
     },
     "metadata": {},
     "output_type": "display_data"
    },
    {
     "name": "stdout",
     "output_type": "stream",
     "text": [
      "Lambda solution status: 1\n",
      "V solution status: 1\n"
     ]
    },
    {
     "data": {
      "text/markdown": [
       "$ V(x)=(0.000000001 - 0.000000000x_{0} - 0.000000000x_{1} - 0.000000001x_{0} x_{1} + 0.000000003x_{0}^{2} + 0.000000002x_{1}^{2})$"
      ],
      "text/plain": [
       "<IPython.core.display.Markdown object>"
      ]
     },
     "metadata": {},
     "output_type": "display_data"
    },
    {
     "name": "stdout",
     "output_type": "stream",
     "text": [
      "Lambda solution status: 1\n",
      "V solution status: 1\n"
     ]
    },
    {
     "data": {
      "text/markdown": [
       "$ V(x)=(0.000000003 + 0.000000000x_{0} + 0.000000000x_{1} - 0.000000003x_{0} x_{1} + 0.000000005x_{0}^{2} + 0.000000003x_{1}^{2})$"
      ],
      "text/plain": [
       "<IPython.core.display.Markdown object>"
      ]
     },
     "metadata": {},
     "output_type": "display_data"
    },
    {
     "name": "stdout",
     "output_type": "stream",
     "text": [
      "Lambda solution status: 1\n",
      "V solution status: 1\n"
     ]
    },
    {
     "data": {
      "text/markdown": [
       "$ V(x)=(0.000000002 + 0.000000000x_{0} - 0.000000000x_{1} - 0.000000002x_{0} x_{1} + 0.000000004x_{0}^{2} + 0.000000002x_{1}^{2})$"
      ],
      "text/plain": [
       "<IPython.core.display.Markdown object>"
      ]
     },
     "metadata": {},
     "output_type": "display_data"
    },
    {
     "name": "stdout",
     "output_type": "stream",
     "text": [
      "Lambda solution status: 1\n",
      "V solution status: 1\n"
     ]
    },
    {
     "data": {
      "text/markdown": [
       "$ V(x)=(0.000000001 + 0.000000000x_{0} - 0.000000000x_{1} - 0.000000002x_{0} x_{1} + 0.000000004x_{0}^{2} + 0.000000002x_{1}^{2})$"
      ],
      "text/plain": [
       "<IPython.core.display.Markdown object>"
      ]
     },
     "metadata": {},
     "output_type": "display_data"
    },
    {
     "name": "stdout",
     "output_type": "stream",
     "text": [
      "Lambda solution status: 1\n",
      "V solution status: 1\n"
     ]
    },
    {
     "data": {
      "text/markdown": [
       "$ V(x)=(0.000000001 + 0.000000000x_{0} - 0.000000000x_{1} - 0.000000002x_{0} x_{1} + 0.000000003x_{0}^{2} + 0.000000002x_{1}^{2})$"
      ],
      "text/plain": [
       "<IPython.core.display.Markdown object>"
      ]
     },
     "metadata": {},
     "output_type": "display_data"
    },
    {
     "name": "stdout",
     "output_type": "stream",
     "text": [
      "Lambda solution status: 1\n",
      "V solution status: 1\n"
     ]
    },
    {
     "data": {
      "text/markdown": [
       "$ V(x)=(0.000000001 + 0.000000000x_{0} - 0.000000000x_{1} - 0.000000002x_{0} x_{1} + 0.000000003x_{0}^{2} + 0.000000002x_{1}^{2})$"
      ],
      "text/plain": [
       "<IPython.core.display.Markdown object>"
      ]
     },
     "metadata": {},
     "output_type": "display_data"
    },
    {
     "name": "stdout",
     "output_type": "stream",
     "text": [
      "Lambda solution status: 1\n",
      "V solution status: 1\n"
     ]
    },
    {
     "data": {
      "text/markdown": [
       "$ V(x)=(0.000000001 - 0.000000000x_{0} - 0.000000000x_{1} - 0.000000001x_{0} x_{1} + 0.000000003x_{0}^{2} + 0.000000002x_{1}^{2})$"
      ],
      "text/plain": [
       "<IPython.core.display.Markdown object>"
      ]
     },
     "metadata": {},
     "output_type": "display_data"
    },
    {
     "name": "stdout",
     "output_type": "stream",
     "text": [
      "Lambda solution status: 1\n",
      "V solution status: 1\n"
     ]
    },
    {
     "data": {
      "text/markdown": [
       "$ V(x)=(0.000000003 - 0.000000000x_{0} - 0.000000000x_{1} - 0.000000003x_{0} x_{1} + 0.000000005x_{0}^{2} + 0.000000003x_{1}^{2})$"
      ],
      "text/plain": [
       "<IPython.core.display.Markdown object>"
      ]
     },
     "metadata": {},
     "output_type": "display_data"
    },
    {
     "name": "stdout",
     "output_type": "stream",
     "text": [
      "Lambda solution status: 1\n",
      "V solution status: 1\n"
     ]
    },
    {
     "data": {
      "text/markdown": [
       "$ V(x)=(0.000000002 - 0.000000000x_{0} + 0.000000000x_{1} - 0.000000002x_{0} x_{1} + 0.000000004x_{0}^{2} + 0.000000002x_{1}^{2})$"
      ],
      "text/plain": [
       "<IPython.core.display.Markdown object>"
      ]
     },
     "metadata": {},
     "output_type": "display_data"
    },
    {
     "name": "stdout",
     "output_type": "stream",
     "text": [
      "Lambda solution status: 1\n",
      "V solution status: 1\n"
     ]
    },
    {
     "data": {
      "text/markdown": [
       "$ V(x)=(0.000000001 + 0.000000000x_{0} + 0.000000000x_{1} - 0.000000002x_{0} x_{1} + 0.000000003x_{0}^{2} + 0.000000002x_{1}^{2})$"
      ],
      "text/plain": [
       "<IPython.core.display.Markdown object>"
      ]
     },
     "metadata": {},
     "output_type": "display_data"
    },
    {
     "name": "stdout",
     "output_type": "stream",
     "text": [
      "Lambda solution status: 1\n",
      "V solution status: 1\n"
     ]
    },
    {
     "data": {
      "text/markdown": [
       "$ V(x)=(0.000000001 + 0.000000000x_{0} - 0.000000000x_{1} - 0.000000002x_{0} x_{1} + 0.000000003x_{0}^{2} + 0.000000002x_{1}^{2})$"
      ],
      "text/plain": [
       "<IPython.core.display.Markdown object>"
      ]
     },
     "metadata": {},
     "output_type": "display_data"
    },
    {
     "name": "stdout",
     "output_type": "stream",
     "text": [
      "Lambda solution status: 1\n",
      "V solution status: 1\n"
     ]
    },
    {
     "data": {
      "text/markdown": [
       "$ V(x)=(0.000000001 + 0.000000000x_{0} - 0.000000000x_{1} - 0.000000002x_{0} x_{1} + 0.000000003x_{0}^{2} + 0.000000002x_{1}^{2})$"
      ],
      "text/plain": [
       "<IPython.core.display.Markdown object>"
      ]
     },
     "metadata": {},
     "output_type": "display_data"
    },
    {
     "name": "stdout",
     "output_type": "stream",
     "text": [
      "Lambda solution status: 1\n",
      "V solution status: 1\n"
     ]
    },
    {
     "data": {
      "text/markdown": [
       "$ V(x)=(0.000000001 + 0.000000000x_{0} + 0.000000000x_{1} - 0.000000001x_{0} x_{1} + 0.000000003x_{0}^{2} + 0.000000002x_{1}^{2})$"
      ],
      "text/plain": [
       "<IPython.core.display.Markdown object>"
      ]
     },
     "metadata": {},
     "output_type": "display_data"
    },
    {
     "name": "stdout",
     "output_type": "stream",
     "text": [
      "Lambda solution status: 1\n",
      "V solution status: 1\n"
     ]
    },
    {
     "data": {
      "text/markdown": [
       "$ V(x)=(0.000000003 + 0.000000000x_{0} - 0.000000000x_{1} - 0.000000003x_{0} x_{1} + 0.000000004x_{0}^{2} + 0.000000003x_{1}^{2})$"
      ],
      "text/plain": [
       "<IPython.core.display.Markdown object>"
      ]
     },
     "metadata": {},
     "output_type": "display_data"
    },
    {
     "name": "stdout",
     "output_type": "stream",
     "text": [
      "Lambda solution status: 1\n",
      "V solution status: 1\n"
     ]
    },
    {
     "data": {
      "text/markdown": [
       "$ V(x)=(0.000000001 + 0.000000000x_{0} - 0.000000000x_{1} - 0.000000002x_{0} x_{1} + 0.000000004x_{0}^{2} + 0.000000002x_{1}^{2})$"
      ],
      "text/plain": [
       "<IPython.core.display.Markdown object>"
      ]
     },
     "metadata": {},
     "output_type": "display_data"
    },
    {
     "name": "stdout",
     "output_type": "stream",
     "text": [
      "Lambda solution status: 1\n",
      "V solution status: 1\n"
     ]
    },
    {
     "data": {
      "text/markdown": [
       "$ V(x)=(0.000000001 + 0.000000000x_{0} - 0.000000000x_{1} - 0.000000002x_{0} x_{1} + 0.000000003x_{0}^{2} + 0.000000002x_{1}^{2})$"
      ],
      "text/plain": [
       "<IPython.core.display.Markdown object>"
      ]
     },
     "metadata": {},
     "output_type": "display_data"
    },
    {
     "name": "stdout",
     "output_type": "stream",
     "text": [
      "Lambda solution status: 1\n",
      "V solution status: 1\n"
     ]
    },
    {
     "data": {
      "text/markdown": [
       "$ V(x)=(0.000000001 - 0.000000000x_{0} - 0.000000000x_{1} - 0.000000002x_{0} x_{1} + 0.000000003x_{0}^{2} + 0.000000002x_{1}^{2})$"
      ],
      "text/plain": [
       "<IPython.core.display.Markdown object>"
      ]
     },
     "metadata": {},
     "output_type": "display_data"
    },
    {
     "name": "stdout",
     "output_type": "stream",
     "text": [
      "Lambda solution status: 1\n",
      "V solution status: 1\n"
     ]
    },
    {
     "data": {
      "text/markdown": [
       "$ V(x)=(0.000000001 + 0.000000000x_{0} - 0.000000000x_{1} - 0.000000002x_{0} x_{1} + 0.000000003x_{0}^{2} + 0.000000002x_{1}^{2})$"
      ],
      "text/plain": [
       "<IPython.core.display.Markdown object>"
      ]
     },
     "metadata": {},
     "output_type": "display_data"
    },
    {
     "name": "stdout",
     "output_type": "stream",
     "text": [
      "Lambda solution status: 1\n",
      "V solution status: 1\n"
     ]
    },
    {
     "data": {
      "text/markdown": [
       "$ V(x)=(0.000000003 - 0.000000000x_{0} - 0.000000000x_{1} - 0.000000003x_{0} x_{1} + 0.000000005x_{0}^{2} + 0.000000004x_{1}^{2})$"
      ],
      "text/plain": [
       "<IPython.core.display.Markdown object>"
      ]
     },
     "metadata": {},
     "output_type": "display_data"
    },
    {
     "name": "stdout",
     "output_type": "stream",
     "text": [
      "Lambda solution status: 1\n",
      "V solution status: 1\n"
     ]
    },
    {
     "data": {
      "text/markdown": [
       "$ V(x)=(0.000000002 + 0.000000000x_{0} - 0.000000000x_{1} - 0.000000002x_{0} x_{1} + 0.000000004x_{0}^{2} + 0.000000002x_{1}^{2})$"
      ],
      "text/plain": [
       "<IPython.core.display.Markdown object>"
      ]
     },
     "metadata": {},
     "output_type": "display_data"
    },
    {
     "name": "stdout",
     "output_type": "stream",
     "text": [
      "Lambda solution status: 1\n",
      "V solution status: 1\n"
     ]
    },
    {
     "data": {
      "text/markdown": [
       "$ V(x)=(0.000000001 - 0.000000000x_{0} - 0.000000000x_{1} - 0.000000002x_{0} x_{1} + 0.000000004x_{0}^{2} + 0.000000002x_{1}^{2})$"
      ],
      "text/plain": [
       "<IPython.core.display.Markdown object>"
      ]
     },
     "metadata": {},
     "output_type": "display_data"
    },
    {
     "name": "stdout",
     "output_type": "stream",
     "text": [
      "Lambda solution status: 1\n",
      "V solution status: 1\n"
     ]
    },
    {
     "data": {
      "text/markdown": [
       "$ V(x)=(0.000000001 - 0.000000000x_{0} + 0.000000000x_{1} - 0.000000002x_{0} x_{1} + 0.000000003x_{0}^{2} + 0.000000002x_{1}^{2})$"
      ],
      "text/plain": [
       "<IPython.core.display.Markdown object>"
      ]
     },
     "metadata": {},
     "output_type": "display_data"
    },
    {
     "name": "stdout",
     "output_type": "stream",
     "text": [
      "Lambda solution status: 1\n",
      "V solution status: 1\n"
     ]
    },
    {
     "data": {
      "text/markdown": [
       "$ V(x)=(0.000000001 - 0.000000000x_{0} - 0.000000000x_{1} - 0.000000002x_{0} x_{1} + 0.000000003x_{0}^{2} + 0.000000002x_{1}^{2})$"
      ],
      "text/plain": [
       "<IPython.core.display.Markdown object>"
      ]
     },
     "metadata": {},
     "output_type": "display_data"
    },
    {
     "name": "stdout",
     "output_type": "stream",
     "text": [
      "Lambda solution status: 1\n",
      "V solution status: 1\n"
     ]
    },
    {
     "data": {
      "text/markdown": [
       "$ V(x)=(0.000000001 - 0.000000000x_{0} + 0.000000000x_{1} - 0.000000001x_{0} x_{1} + 0.000000003x_{0}^{2} + 0.000000002x_{1}^{2})$"
      ],
      "text/plain": [
       "<IPython.core.display.Markdown object>"
      ]
     },
     "metadata": {},
     "output_type": "display_data"
    },
    {
     "name": "stdout",
     "output_type": "stream",
     "text": [
      "Lambda solution status: 1\n",
      "V solution status: 1\n"
     ]
    },
    {
     "data": {
      "text/markdown": [
       "$ V(x)=(0.000000003 - 0.000000000x_{0} - 0.000000000x_{1} - 0.000000003x_{0} x_{1} + 0.000000005x_{0}^{2} + 0.000000003x_{1}^{2})$"
      ],
      "text/plain": [
       "<IPython.core.display.Markdown object>"
      ]
     },
     "metadata": {},
     "output_type": "display_data"
    },
    {
     "name": "stdout",
     "output_type": "stream",
     "text": [
      "Lambda solution status: 1\n",
      "V solution status: 1\n"
     ]
    },
    {
     "data": {
      "text/markdown": [
       "$ V(x)=(0.000000002 + 0.000000000x_{0} + 0.000000000x_{1} - 0.000000002x_{0} x_{1} + 0.000000004x_{0}^{2} + 0.000000002x_{1}^{2})$"
      ],
      "text/plain": [
       "<IPython.core.display.Markdown object>"
      ]
     },
     "metadata": {},
     "output_type": "display_data"
    },
    {
     "name": "stdout",
     "output_type": "stream",
     "text": [
      "Lambda solution status: 1\n",
      "V solution status: 1\n"
     ]
    },
    {
     "data": {
      "text/markdown": [
       "$ V(x)=(0.000000001 + 0.000000000x_{0} - 0.000000000x_{1} - 0.000000002x_{0} x_{1} + 0.000000004x_{0}^{2} + 0.000000002x_{1}^{2})$"
      ],
      "text/plain": [
       "<IPython.core.display.Markdown object>"
      ]
     },
     "metadata": {},
     "output_type": "display_data"
    },
    {
     "name": "stdout",
     "output_type": "stream",
     "text": [
      "Lambda solution status: 1\n",
      "V solution status: 1\n"
     ]
    },
    {
     "data": {
      "text/markdown": [
       "$ V(x)=(0.000000001 - 0.000000000x_{0} + 0.000000000x_{1} - 0.000000002x_{0} x_{1} + 0.000000003x_{0}^{2} + 0.000000002x_{1}^{2})$"
      ],
      "text/plain": [
       "<IPython.core.display.Markdown object>"
      ]
     },
     "metadata": {},
     "output_type": "display_data"
    },
    {
     "name": "stdout",
     "output_type": "stream",
     "text": [
      "Lambda solution status: 1\n",
      "V solution status: 1\n"
     ]
    },
    {
     "data": {
      "text/markdown": [
       "$ V(x)=(0.000000001 + 0.000000000x_{0} - 0.000000000x_{1} - 0.000000002x_{0} x_{1} + 0.000000003x_{0}^{2} + 0.000000002x_{1}^{2})$"
      ],
      "text/plain": [
       "<IPython.core.display.Markdown object>"
      ]
     },
     "metadata": {},
     "output_type": "display_data"
    },
    {
     "name": "stdout",
     "output_type": "stream",
     "text": [
      "Lambda solution status: 1\n",
      "V solution status: 1\n"
     ]
    },
    {
     "data": {
      "text/markdown": [
       "$ V(x)=(0.000000001 + 0.000000000x_{0} + 0.000000000x_{1} - 0.000000001x_{0} x_{1} + 0.000000003x_{0}^{2} + 0.000000002x_{1}^{2})$"
      ],
      "text/plain": [
       "<IPython.core.display.Markdown object>"
      ]
     },
     "metadata": {},
     "output_type": "display_data"
    },
    {
     "name": "stdout",
     "output_type": "stream",
     "text": [
      "Lambda solution status: 1\n",
      "V solution status: 1\n"
     ]
    },
    {
     "data": {
      "text/markdown": [
       "$ V(x)=(0.000000003 + 0.000000000x_{0} - 0.000000000x_{1} - 0.000000003x_{0} x_{1} + 0.000000005x_{0}^{2} + 0.000000003x_{1}^{2})$"
      ],
      "text/plain": [
       "<IPython.core.display.Markdown object>"
      ]
     },
     "metadata": {},
     "output_type": "display_data"
    },
    {
     "name": "stdout",
     "output_type": "stream",
     "text": [
      "Lambda solution status: 1\n",
      "V solution status: 1\n"
     ]
    },
    {
     "data": {
      "text/markdown": [
       "$ V(x)=(0.000000002 - 0.000000000x_{0} - 0.000000000x_{1} - 0.000000002x_{0} x_{1} + 0.000000004x_{0}^{2} + 0.000000002x_{1}^{2})$"
      ],
      "text/plain": [
       "<IPython.core.display.Markdown object>"
      ]
     },
     "metadata": {},
     "output_type": "display_data"
    },
    {
     "name": "stdout",
     "output_type": "stream",
     "text": [
      "Lambda solution status: 1\n",
      "V solution status: 1\n"
     ]
    },
    {
     "data": {
      "text/markdown": [
       "$ V(x)=(0.000000001 - 0.000000000x_{0} - 0.000000000x_{1} - 0.000000002x_{0} x_{1} + 0.000000003x_{0}^{2} + 0.000000002x_{1}^{2})$"
      ],
      "text/plain": [
       "<IPython.core.display.Markdown object>"
      ]
     },
     "metadata": {},
     "output_type": "display_data"
    },
    {
     "name": "stdout",
     "output_type": "stream",
     "text": [
      "Lambda solution status: 1\n",
      "V solution status: 1\n"
     ]
    },
    {
     "data": {
      "text/markdown": [
       "$ V(x)=(0.000000001 + 0.000000000x_{0} - 0.000000000x_{1} - 0.000000002x_{0} x_{1} + 0.000000003x_{0}^{2} + 0.000000002x_{1}^{2})$"
      ],
      "text/plain": [
       "<IPython.core.display.Markdown object>"
      ]
     },
     "metadata": {},
     "output_type": "display_data"
    },
    {
     "name": "stdout",
     "output_type": "stream",
     "text": [
      "Lambda solution status: 1\n",
      "V solution status: 1\n"
     ]
    },
    {
     "data": {
      "text/markdown": [
       "$ V(x)=(0.000000001 + 0.000000000x_{0} - 0.000000000x_{1} - 0.000000002x_{0} x_{1} + 0.000000003x_{0}^{2} + 0.000000002x_{1}^{2})$"
      ],
      "text/plain": [
       "<IPython.core.display.Markdown object>"
      ]
     },
     "metadata": {},
     "output_type": "display_data"
    },
    {
     "name": "stdout",
     "output_type": "stream",
     "text": [
      "Lambda solution status: 1\n",
      "V solution status: 1\n"
     ]
    },
    {
     "data": {
      "text/markdown": [
       "$ V(x)=(0.000000001 - 0.000000000x_{0} + 0.000000000x_{1} - 0.000000001x_{0} x_{1} + 0.000000003x_{0}^{2} + 0.000000002x_{1}^{2})$"
      ],
      "text/plain": [
       "<IPython.core.display.Markdown object>"
      ]
     },
     "metadata": {},
     "output_type": "display_data"
    },
    {
     "name": "stdout",
     "output_type": "stream",
     "text": [
      "Lambda solution status: 1\n",
      "V solution status: 1\n"
     ]
    },
    {
     "data": {
      "text/markdown": [
       "$ V(x)=(0.000000003 + 0.000000000x_{0} - 0.000000000x_{1} - 0.000000003x_{0} x_{1} + 0.000000004x_{0}^{2} + 0.000000003x_{1}^{2})$"
      ],
      "text/plain": [
       "<IPython.core.display.Markdown object>"
      ]
     },
     "metadata": {},
     "output_type": "display_data"
    },
    {
     "name": "stdout",
     "output_type": "stream",
     "text": [
      "Lambda solution status: 1\n",
      "V solution status: 1\n"
     ]
    },
    {
     "data": {
      "text/markdown": [
       "$ V(x)=(0.000000002 + 0.000000000x_{0} - 0.000000000x_{1} - 0.000000002x_{0} x_{1} + 0.000000004x_{0}^{2} + 0.000000002x_{1}^{2})$"
      ],
      "text/plain": [
       "<IPython.core.display.Markdown object>"
      ]
     },
     "metadata": {},
     "output_type": "display_data"
    },
    {
     "name": "stdout",
     "output_type": "stream",
     "text": [
      "Lambda solution status: 1\n",
      "V solution status: 1\n"
     ]
    },
    {
     "data": {
      "text/markdown": [
       "$ V(x)=(0.000000001 - 0.000000000x_{0} + 0.000000000x_{1} - 0.000000002x_{0} x_{1} + 0.000000003x_{0}^{2} + 0.000000002x_{1}^{2})$"
      ],
      "text/plain": [
       "<IPython.core.display.Markdown object>"
      ]
     },
     "metadata": {},
     "output_type": "display_data"
    },
    {
     "name": "stdout",
     "output_type": "stream",
     "text": [
      "Lambda solution status: 1\n",
      "V solution status: 1\n"
     ]
    },
    {
     "data": {
      "text/markdown": [
       "$ V(x)=(0.000000001 - 0.000000000x_{0} - 0.000000000x_{1} - 0.000000002x_{0} x_{1} + 0.000000003x_{0}^{2} + 0.000000002x_{1}^{2})$"
      ],
      "text/plain": [
       "<IPython.core.display.Markdown object>"
      ]
     },
     "metadata": {},
     "output_type": "display_data"
    },
    {
     "name": "stdout",
     "output_type": "stream",
     "text": [
      "Lambda solution status: 1\n",
      "V solution status: 1\n"
     ]
    },
    {
     "data": {
      "text/markdown": [
       "$ V(x)=(0.000000001 - 0.000000000x_{0} + 0.000000000x_{1} - 0.000000002x_{0} x_{1} + 0.000000003x_{0}^{2} + 0.000000002x_{1}^{2})$"
      ],
      "text/plain": [
       "<IPython.core.display.Markdown object>"
      ]
     },
     "metadata": {},
     "output_type": "display_data"
    },
    {
     "name": "stdout",
     "output_type": "stream",
     "text": [
      "Lambda solution status: 1\n",
      "V solution status: 1\n"
     ]
    },
    {
     "data": {
      "text/markdown": [
       "$ V(x)=(0.000000003 - 0.000000000x_{0} + 0.000000000x_{1} - 0.000000003x_{0} x_{1} + 0.000000005x_{0}^{2} + 0.000000004x_{1}^{2})$"
      ],
      "text/plain": [
       "<IPython.core.display.Markdown object>"
      ]
     },
     "metadata": {},
     "output_type": "display_data"
    },
    {
     "name": "stdout",
     "output_type": "stream",
     "text": [
      "Lambda solution status: 1\n",
      "V solution status: 1\n"
     ]
    },
    {
     "data": {
      "text/markdown": [
       "$ V(x)=(0.000000002 - 0.000000000x_{0} - 0.000000000x_{1} - 0.000000002x_{0} x_{1} + 0.000000004x_{0}^{2} + 0.000000002x_{1}^{2})$"
      ],
      "text/plain": [
       "<IPython.core.display.Markdown object>"
      ]
     },
     "metadata": {},
     "output_type": "display_data"
    },
    {
     "name": "stdout",
     "output_type": "stream",
     "text": [
      "Lambda solution status: 1\n",
      "V solution status: 1\n"
     ]
    },
    {
     "data": {
      "text/markdown": [
       "$ V(x)=(0.000000001 + 0.000000000x_{0} + 0.000000000x_{1} - 0.000000002x_{0} x_{1} + 0.000000004x_{0}^{2} + 0.000000002x_{1}^{2})$"
      ],
      "text/plain": [
       "<IPython.core.display.Markdown object>"
      ]
     },
     "metadata": {},
     "output_type": "display_data"
    },
    {
     "name": "stdout",
     "output_type": "stream",
     "text": [
      "Lambda solution status: 1\n",
      "V solution status: 1\n"
     ]
    },
    {
     "data": {
      "text/markdown": [
       "$ V(x)=(0.000000001 - 0.000000000x_{0} + 0.000000000x_{1} - 0.000000002x_{0} x_{1} + 0.000000003x_{0}^{2} + 0.000000002x_{1}^{2})$"
      ],
      "text/plain": [
       "<IPython.core.display.Markdown object>"
      ]
     },
     "metadata": {},
     "output_type": "display_data"
    },
    {
     "name": "stdout",
     "output_type": "stream",
     "text": [
      "Lambda solution status: 1\n",
      "V solution status: 1\n"
     ]
    },
    {
     "data": {
      "text/markdown": [
       "$ V(x)=(0.000000001 - 0.000000000x_{0} - 0.000000000x_{1} - 0.000000002x_{0} x_{1} + 0.000000003x_{0}^{2} + 0.000000002x_{1}^{2})$"
      ],
      "text/plain": [
       "<IPython.core.display.Markdown object>"
      ]
     },
     "metadata": {},
     "output_type": "display_data"
    },
    {
     "name": "stdout",
     "output_type": "stream",
     "text": [
      "Lambda solution status: 1\n",
      "V solution status: 1\n"
     ]
    },
    {
     "data": {
      "text/markdown": [
       "$ V(x)=(0.000000001 - 0.000000000x_{0} + 0.000000000x_{1} - 0.000000001x_{0} x_{1} + 0.000000003x_{0}^{2} + 0.000000002x_{1}^{2})$"
      ],
      "text/plain": [
       "<IPython.core.display.Markdown object>"
      ]
     },
     "metadata": {},
     "output_type": "display_data"
    },
    {
     "name": "stdout",
     "output_type": "stream",
     "text": [
      "Lambda solution status: 1\n",
      "V solution status: 1\n"
     ]
    },
    {
     "data": {
      "text/markdown": [
       "$ V(x)=(0.000000003 + 0.000000000x_{0} - 0.000000000x_{1} - 0.000000003x_{0} x_{1} + 0.000000005x_{0}^{2} + 0.000000003x_{1}^{2})$"
      ],
      "text/plain": [
       "<IPython.core.display.Markdown object>"
      ]
     },
     "metadata": {},
     "output_type": "display_data"
    },
    {
     "name": "stdout",
     "output_type": "stream",
     "text": [
      "Lambda solution status: 1\n",
      "V solution status: 1\n"
     ]
    },
    {
     "data": {
      "text/markdown": [
       "$ V(x)=(0.000000002 + 0.000000000x_{0} + 0.000000000x_{1} - 0.000000002x_{0} x_{1} + 0.000000004x_{0}^{2} + 0.000000002x_{1}^{2})$"
      ],
      "text/plain": [
       "<IPython.core.display.Markdown object>"
      ]
     },
     "metadata": {},
     "output_type": "display_data"
    },
    {
     "name": "stdout",
     "output_type": "stream",
     "text": [
      "Lambda solution status: 1\n",
      "V solution status: 1\n"
     ]
    },
    {
     "data": {
      "text/markdown": [
       "$ V(x)=(0.000000001 + 0.000000000x_{0} + 0.000000000x_{1} - 0.000000002x_{0} x_{1} + 0.000000004x_{0}^{2} + 0.000000002x_{1}^{2})$"
      ],
      "text/plain": [
       "<IPython.core.display.Markdown object>"
      ]
     },
     "metadata": {},
     "output_type": "display_data"
    },
    {
     "name": "stdout",
     "output_type": "stream",
     "text": [
      "Lambda solution status: 1\n",
      "V solution status: 1\n"
     ]
    },
    {
     "data": {
      "text/markdown": [
       "$ V(x)=(0.000000001 + 0.000000000x_{0} + 0.000000000x_{1} - 0.000000002x_{0} x_{1} + 0.000000003x_{0}^{2} + 0.000000002x_{1}^{2})$"
      ],
      "text/plain": [
       "<IPython.core.display.Markdown object>"
      ]
     },
     "metadata": {},
     "output_type": "display_data"
    },
    {
     "name": "stdout",
     "output_type": "stream",
     "text": [
      "Lambda solution status: 1\n",
      "V solution status: 1\n"
     ]
    },
    {
     "data": {
      "text/markdown": [
       "$ V(x)=(0.000000001 + 0.000000000x_{0} - 0.000000000x_{1} - 0.000000002x_{0} x_{1} + 0.000000003x_{0}^{2} + 0.000000002x_{1}^{2})$"
      ],
      "text/plain": [
       "<IPython.core.display.Markdown object>"
      ]
     },
     "metadata": {},
     "output_type": "display_data"
    },
    {
     "name": "stdout",
     "output_type": "stream",
     "text": [
      "Lambda solution status: 1\n",
      "V solution status: 1\n"
     ]
    },
    {
     "data": {
      "text/markdown": [
       "$ V(x)=(0.000000001 - 0.000000000x_{0} + 0.000000000x_{1} - 0.000000001x_{0} x_{1} + 0.000000003x_{0}^{2} + 0.000000002x_{1}^{2})$"
      ],
      "text/plain": [
       "<IPython.core.display.Markdown object>"
      ]
     },
     "metadata": {},
     "output_type": "display_data"
    },
    {
     "name": "stdout",
     "output_type": "stream",
     "text": [
      "Lambda solution status: 1\n",
      "V solution status: 1\n"
     ]
    },
    {
     "data": {
      "text/markdown": [
       "$ V(x)=(0.000000003 + 0.000000000x_{0} - 0.000000000x_{1} - 0.000000003x_{0} x_{1} + 0.000000005x_{0}^{2} + 0.000000003x_{1}^{2})$"
      ],
      "text/plain": [
       "<IPython.core.display.Markdown object>"
      ]
     },
     "metadata": {},
     "output_type": "display_data"
    },
    {
     "name": "stdout",
     "output_type": "stream",
     "text": [
      "Lambda solution status: 1\n",
      "V solution status: 1\n"
     ]
    },
    {
     "data": {
      "text/markdown": [
       "$ V(x)=(0.000000002 + 0.000000000x_{0} - 0.000000000x_{1} - 0.000000002x_{0} x_{1} + 0.000000004x_{0}^{2} + 0.000000002x_{1}^{2})$"
      ],
      "text/plain": [
       "<IPython.core.display.Markdown object>"
      ]
     },
     "metadata": {},
     "output_type": "display_data"
    },
    {
     "name": "stdout",
     "output_type": "stream",
     "text": [
      "Lambda solution status: 1\n",
      "V solution status: 1\n"
     ]
    },
    {
     "data": {
      "text/markdown": [
       "$ V(x)=(0.000000001 - 0.000000000x_{0} - 0.000000000x_{1} - 0.000000002x_{0} x_{1} + 0.000000003x_{0}^{2} + 0.000000002x_{1}^{2})$"
      ],
      "text/plain": [
       "<IPython.core.display.Markdown object>"
      ]
     },
     "metadata": {},
     "output_type": "display_data"
    },
    {
     "name": "stdout",
     "output_type": "stream",
     "text": [
      "Lambda solution status: 1\n",
      "V solution status: 1\n"
     ]
    },
    {
     "data": {
      "text/markdown": [
       "$ V(x)=(0.000000001 - 0.000000000x_{0} - 0.000000000x_{1} - 0.000000002x_{0} x_{1} + 0.000000003x_{0}^{2} + 0.000000002x_{1}^{2})$"
      ],
      "text/plain": [
       "<IPython.core.display.Markdown object>"
      ]
     },
     "metadata": {},
     "output_type": "display_data"
    },
    {
     "name": "stdout",
     "output_type": "stream",
     "text": [
      "Lambda solution status: 1\n",
      "V solution status: 1\n"
     ]
    },
    {
     "data": {
      "text/markdown": [
       "$ V(x)=(0.000000001 + 0.000000000x_{0} - 0.000000000x_{1} - 0.000000002x_{0} x_{1} + 0.000000003x_{0}^{2} + 0.000000002x_{1}^{2})$"
      ],
      "text/plain": [
       "<IPython.core.display.Markdown object>"
      ]
     },
     "metadata": {},
     "output_type": "display_data"
    },
    {
     "name": "stdout",
     "output_type": "stream",
     "text": [
      "Lambda solution status: 1\n",
      "V solution status: 1\n"
     ]
    },
    {
     "data": {
      "text/markdown": [
       "$ V(x)=(0.000000001 + 0.000000000x_{0} - 0.000000000x_{1} - 0.000000001x_{0} x_{1} + 0.000000003x_{0}^{2} + 0.000000002x_{1}^{2})$"
      ],
      "text/plain": [
       "<IPython.core.display.Markdown object>"
      ]
     },
     "metadata": {},
     "output_type": "display_data"
    },
    {
     "name": "stdout",
     "output_type": "stream",
     "text": [
      "Lambda solution status: 1\n",
      "V solution status: 1\n"
     ]
    },
    {
     "data": {
      "text/markdown": [
       "$ V(x)=(0.000000003 - 0.000000000x_{0} + 0.000000000x_{1} - 0.000000003x_{0} x_{1} + 0.000000005x_{0}^{2} + 0.000000003x_{1}^{2})$"
      ],
      "text/plain": [
       "<IPython.core.display.Markdown object>"
      ]
     },
     "metadata": {},
     "output_type": "display_data"
    },
    {
     "name": "stdout",
     "output_type": "stream",
     "text": [
      "Lambda solution status: 1\n",
      "V solution status: 1\n"
     ]
    },
    {
     "data": {
      "text/markdown": [
       "$ V(x)=(0.000000002 + 0.000000000x_{0} + 0.000000000x_{1} - 0.000000002x_{0} x_{1} + 0.000000004x_{0}^{2} + 0.000000002x_{1}^{2})$"
      ],
      "text/plain": [
       "<IPython.core.display.Markdown object>"
      ]
     },
     "metadata": {},
     "output_type": "display_data"
    },
    {
     "name": "stdout",
     "output_type": "stream",
     "text": [
      "Lambda solution status: 1\n",
      "V solution status: 1\n"
     ]
    },
    {
     "data": {
      "text/markdown": [
       "$ V(x)=(0.000000001 + 0.000000000x_{0} - 0.000000000x_{1} - 0.000000002x_{0} x_{1} + 0.000000003x_{0}^{2} + 0.000000002x_{1}^{2})$"
      ],
      "text/plain": [
       "<IPython.core.display.Markdown object>"
      ]
     },
     "metadata": {},
     "output_type": "display_data"
    },
    {
     "name": "stdout",
     "output_type": "stream",
     "text": [
      "Lambda solution status: 1\n",
      "V solution status: 1\n"
     ]
    },
    {
     "data": {
      "text/markdown": [
       "$ V(x)=(0.000000001 + 0.000000000x_{0} + 0.000000000x_{1} - 0.000000002x_{0} x_{1} + 0.000000003x_{0}^{2} + 0.000000002x_{1}^{2})$"
      ],
      "text/plain": [
       "<IPython.core.display.Markdown object>"
      ]
     },
     "metadata": {},
     "output_type": "display_data"
    },
    {
     "name": "stdout",
     "output_type": "stream",
     "text": [
      "Lambda solution status: 1\n",
      "V solution status: 1\n"
     ]
    },
    {
     "data": {
      "text/markdown": [
       "$ V(x)=(0.000000001 - 0.000000000x_{0} + 0.000000000x_{1} - 0.000000002x_{0} x_{1} + 0.000000003x_{0}^{2} + 0.000000002x_{1}^{2})$"
      ],
      "text/plain": [
       "<IPython.core.display.Markdown object>"
      ]
     },
     "metadata": {},
     "output_type": "display_data"
    },
    {
     "name": "stdout",
     "output_type": "stream",
     "text": [
      "Lambda solution status: 1\n",
      "V solution status: 1\n"
     ]
    },
    {
     "data": {
      "text/markdown": [
       "$ V(x)=(0.000000001 + 0.000000000x_{0} - 0.000000000x_{1} - 0.000000001x_{0} x_{1} + 0.000000003x_{0}^{2} + 0.000000002x_{1}^{2})$"
      ],
      "text/plain": [
       "<IPython.core.display.Markdown object>"
      ]
     },
     "metadata": {},
     "output_type": "display_data"
    },
    {
     "name": "stdout",
     "output_type": "stream",
     "text": [
      "Lambda solution status: 1\n",
      "V solution status: 1\n"
     ]
    },
    {
     "data": {
      "text/markdown": [
       "$ V(x)=(0.000000003 - 0.000000000x_{0} - 0.000000000x_{1} - 0.000000003x_{0} x_{1} + 0.000000004x_{0}^{2} + 0.000000003x_{1}^{2})$"
      ],
      "text/plain": [
       "<IPython.core.display.Markdown object>"
      ]
     },
     "metadata": {},
     "output_type": "display_data"
    },
    {
     "name": "stdout",
     "output_type": "stream",
     "text": [
      "Lambda solution status: 1\n",
      "V solution status: 1\n"
     ]
    },
    {
     "data": {
      "text/markdown": [
       "$ V(x)=(0.000000002 + 0.000000000x_{0} + 0.000000000x_{1} - 0.000000002x_{0} x_{1} + 0.000000004x_{0}^{2} + 0.000000002x_{1}^{2})$"
      ],
      "text/plain": [
       "<IPython.core.display.Markdown object>"
      ]
     },
     "metadata": {},
     "output_type": "display_data"
    },
    {
     "name": "stdout",
     "output_type": "stream",
     "text": [
      "Lambda solution status: 1\n",
      "V solution status: 1\n"
     ]
    },
    {
     "data": {
      "text/markdown": [
       "$ V(x)=(0.000000001 - 0.000000000x_{0} - 0.000000000x_{1} - 0.000000002x_{0} x_{1} + 0.000000003x_{0}^{2} + 0.000000002x_{1}^{2})$"
      ],
      "text/plain": [
       "<IPython.core.display.Markdown object>"
      ]
     },
     "metadata": {},
     "output_type": "display_data"
    },
    {
     "name": "stdout",
     "output_type": "stream",
     "text": [
      "Lambda solution status: 1\n",
      "V solution status: 1\n"
     ]
    },
    {
     "data": {
      "text/markdown": [
       "$ V(x)=(0.000000001 - 0.000000000x_{0} - 0.000000000x_{1} - 0.000000002x_{0} x_{1} + 0.000000003x_{0}^{2} + 0.000000002x_{1}^{2})$"
      ],
      "text/plain": [
       "<IPython.core.display.Markdown object>"
      ]
     },
     "metadata": {},
     "output_type": "display_data"
    },
    {
     "name": "stdout",
     "output_type": "stream",
     "text": [
      "Lambda solution status: 1\n",
      "V solution status: 1\n"
     ]
    },
    {
     "data": {
      "text/markdown": [
       "$ V(x)=(0.000000001 - 0.000000000x_{0} - 0.000000000x_{1} - 0.000000002x_{0} x_{1} + 0.000000003x_{0}^{2} + 0.000000002x_{1}^{2})$"
      ],
      "text/plain": [
       "<IPython.core.display.Markdown object>"
      ]
     },
     "metadata": {},
     "output_type": "display_data"
    },
    {
     "name": "stdout",
     "output_type": "stream",
     "text": [
      "Lambda solution status: 1\n",
      "V solution status: 1\n"
     ]
    },
    {
     "data": {
      "text/markdown": [
       "$ V(x)=(0.000000001 - 0.000000000x_{0} + 0.000000000x_{1} - 0.000000001x_{0} x_{1} + 0.000000003x_{0}^{2} + 0.000000002x_{1}^{2})$"
      ],
      "text/plain": [
       "<IPython.core.display.Markdown object>"
      ]
     },
     "metadata": {},
     "output_type": "display_data"
    },
    {
     "name": "stdout",
     "output_type": "stream",
     "text": [
      "Lambda solution status: 1\n",
      "V solution status: 1\n"
     ]
    },
    {
     "data": {
      "text/markdown": [
       "$ V(x)=(0.000000003 + 0.000000000x_{0} - 0.000000000x_{1} - 0.000000003x_{0} x_{1} + 0.000000004x_{0}^{2} + 0.000000003x_{1}^{2})$"
      ],
      "text/plain": [
       "<IPython.core.display.Markdown object>"
      ]
     },
     "metadata": {},
     "output_type": "display_data"
    },
    {
     "name": "stdout",
     "output_type": "stream",
     "text": [
      "Lambda solution status: 1\n",
      "V solution status: 1\n"
     ]
    },
    {
     "data": {
      "text/markdown": [
       "$ V(x)=(0.000000001 + 0.000000000x_{0} + 0.000000000x_{1} - 0.000000002x_{0} x_{1} + 0.000000004x_{0}^{2} + 0.000000002x_{1}^{2})$"
      ],
      "text/plain": [
       "<IPython.core.display.Markdown object>"
      ]
     },
     "metadata": {},
     "output_type": "display_data"
    },
    {
     "name": "stdout",
     "output_type": "stream",
     "text": [
      "Lambda solution status: 1\n",
      "V solution status: 1\n"
     ]
    },
    {
     "data": {
      "text/markdown": [
       "$ V(x)=(0.000000001 + 0.000000000x_{0} - 0.000000000x_{1} - 0.000000002x_{0} x_{1} + 0.000000003x_{0}^{2} + 0.000000002x_{1}^{2})$"
      ],
      "text/plain": [
       "<IPython.core.display.Markdown object>"
      ]
     },
     "metadata": {},
     "output_type": "display_data"
    },
    {
     "name": "stdout",
     "output_type": "stream",
     "text": [
      "Lambda solution status: 1\n",
      "V solution status: 1\n"
     ]
    },
    {
     "data": {
      "text/markdown": [
       "$ V(x)=(0.000000001 - 0.000000000x_{0} + 0.000000000x_{1} - 0.000000002x_{0} x_{1} + 0.000000003x_{0}^{2} + 0.000000002x_{1}^{2})$"
      ],
      "text/plain": [
       "<IPython.core.display.Markdown object>"
      ]
     },
     "metadata": {},
     "output_type": "display_data"
    },
    {
     "name": "stdout",
     "output_type": "stream",
     "text": [
      "Lambda solution status: 1\n",
      "V solution status: 1\n"
     ]
    },
    {
     "data": {
      "text/markdown": [
       "$ V(x)=(0.000000001 - 0.000000000x_{0} - 0.000000000x_{1} - 0.000000002x_{0} x_{1} + 0.000000003x_{0}^{2} + 0.000000002x_{1}^{2})$"
      ],
      "text/plain": [
       "<IPython.core.display.Markdown object>"
      ]
     },
     "metadata": {},
     "output_type": "display_data"
    },
    {
     "name": "stdout",
     "output_type": "stream",
     "text": [
      "Lambda solution status: 1\n",
      "V solution status: 1\n"
     ]
    },
    {
     "data": {
      "text/markdown": [
       "$ V(x)=(0.000000001 - 0.000000000x_{0} + 0.000000000x_{1} - 0.000000001x_{0} x_{1} + 0.000000003x_{0}^{2} + 0.000000002x_{1}^{2})$"
      ],
      "text/plain": [
       "<IPython.core.display.Markdown object>"
      ]
     },
     "metadata": {},
     "output_type": "display_data"
    },
    {
     "name": "stdout",
     "output_type": "stream",
     "text": [
      "Lambda solution status: 1\n",
      "V solution status: 1\n"
     ]
    },
    {
     "data": {
      "text/markdown": [
       "$ V(x)=(0.000000003 + 0.000000000x_{0} + 0.000000000x_{1} - 0.000000003x_{0} x_{1} + 0.000000004x_{0}^{2} + 0.000000003x_{1}^{2})$"
      ],
      "text/plain": [
       "<IPython.core.display.Markdown object>"
      ]
     },
     "metadata": {},
     "output_type": "display_data"
    },
    {
     "name": "stdout",
     "output_type": "stream",
     "text": [
      "Lambda solution status: 1\n",
      "V solution status: 1\n"
     ]
    },
    {
     "data": {
      "text/markdown": [
       "$ V(x)=(0.000000002 - 0.000000000x_{0} - 0.000000000x_{1} - 0.000000002x_{0} x_{1} + 0.000000004x_{0}^{2} + 0.000000002x_{1}^{2})$"
      ],
      "text/plain": [
       "<IPython.core.display.Markdown object>"
      ]
     },
     "metadata": {},
     "output_type": "display_data"
    },
    {
     "name": "stdout",
     "output_type": "stream",
     "text": [
      "Lambda solution status: 1\n",
      "V solution status: 1\n"
     ]
    },
    {
     "data": {
      "text/markdown": [
       "$ V(x)=(0.000000001 + 0.000000000x_{0} - 0.000000000x_{1} - 0.000000002x_{0} x_{1} + 0.000000003x_{0}^{2} + 0.000000002x_{1}^{2})$"
      ],
      "text/plain": [
       "<IPython.core.display.Markdown object>"
      ]
     },
     "metadata": {},
     "output_type": "display_data"
    },
    {
     "name": "stdout",
     "output_type": "stream",
     "text": [
      "Lambda solution status: 1\n",
      "V solution status: 1\n"
     ]
    },
    {
     "data": {
      "text/markdown": [
       "$ V(x)=(0.000000001 + 0.000000000x_{0} - 0.000000000x_{1} - 0.000000002x_{0} x_{1} + 0.000000003x_{0}^{2} + 0.000000002x_{1}^{2})$"
      ],
      "text/plain": [
       "<IPython.core.display.Markdown object>"
      ]
     },
     "metadata": {},
     "output_type": "display_data"
    },
    {
     "name": "stdout",
     "output_type": "stream",
     "text": [
      "Lambda solution status: 1\n",
      "V solution status: 1\n"
     ]
    },
    {
     "data": {
      "text/markdown": [
       "$ V(x)=(0.000000001 - 0.000000000x_{0} - 0.000000000x_{1} - 0.000000002x_{0} x_{1} + 0.000000003x_{0}^{2} + 0.000000002x_{1}^{2})$"
      ],
      "text/plain": [
       "<IPython.core.display.Markdown object>"
      ]
     },
     "metadata": {},
     "output_type": "display_data"
    },
    {
     "name": "stdout",
     "output_type": "stream",
     "text": [
      "Lambda solution status: 1\n",
      "V solution status: 1\n"
     ]
    },
    {
     "data": {
      "text/markdown": [
       "$ V(x)=(0.000000001 + 0.000000000x_{0} + 0.000000000x_{1} - 0.000000001x_{0} x_{1} + 0.000000003x_{0}^{2} + 0.000000002x_{1}^{2})$"
      ],
      "text/plain": [
       "<IPython.core.display.Markdown object>"
      ]
     },
     "metadata": {},
     "output_type": "display_data"
    },
    {
     "name": "stdout",
     "output_type": "stream",
     "text": [
      "Lambda solution status: 1\n",
      "V solution status: 1\n"
     ]
    },
    {
     "data": {
      "text/markdown": [
       "$ V(x)=(0.000000003 - 0.000000000x_{0} + 0.000000000x_{1} - 0.000000003x_{0} x_{1} + 0.000000004x_{0}^{2} + 0.000000003x_{1}^{2})$"
      ],
      "text/plain": [
       "<IPython.core.display.Markdown object>"
      ]
     },
     "metadata": {},
     "output_type": "display_data"
    },
    {
     "name": "stdout",
     "output_type": "stream",
     "text": [
      "Lambda solution status: 1\n",
      "V solution status: 1\n"
     ]
    },
    {
     "data": {
      "text/markdown": [
       "$ V(x)=(0.000000002 - 0.000000000x_{0} + 0.000000000x_{1} - 0.000000002x_{0} x_{1} + 0.000000004x_{0}^{2} + 0.000000002x_{1}^{2})$"
      ],
      "text/plain": [
       "<IPython.core.display.Markdown object>"
      ]
     },
     "metadata": {},
     "output_type": "display_data"
    },
    {
     "name": "stdout",
     "output_type": "stream",
     "text": [
      "Lambda solution status: 1\n",
      "V solution status: 1\n"
     ]
    },
    {
     "data": {
      "text/markdown": [
       "$ V(x)=(0.000000001 + 0.000000000x_{0} + 0.000000000x_{1} - 0.000000002x_{0} x_{1} + 0.000000003x_{0}^{2} + 0.000000002x_{1}^{2})$"
      ],
      "text/plain": [
       "<IPython.core.display.Markdown object>"
      ]
     },
     "metadata": {},
     "output_type": "display_data"
    },
    {
     "name": "stdout",
     "output_type": "stream",
     "text": [
      "Lambda solution status: 1\n",
      "V solution status: 1\n"
     ]
    },
    {
     "data": {
      "text/markdown": [
       "$ V(x)=(0.000000001 + 0.000000000x_{0} - 0.000000000x_{1} - 0.000000002x_{0} x_{1} + 0.000000003x_{0}^{2} + 0.000000002x_{1}^{2})$"
      ],
      "text/plain": [
       "<IPython.core.display.Markdown object>"
      ]
     },
     "metadata": {},
     "output_type": "display_data"
    },
    {
     "name": "stdout",
     "output_type": "stream",
     "text": [
      "Lambda solution status: 1\n",
      "V solution status: 1\n"
     ]
    },
    {
     "data": {
      "text/markdown": [
       "$ V(x)=(0.000000001 + 0.000000000x_{0} - 0.000000000x_{1} - 0.000000002x_{0} x_{1} + 0.000000003x_{0}^{2} + 0.000000002x_{1}^{2})$"
      ],
      "text/plain": [
       "<IPython.core.display.Markdown object>"
      ]
     },
     "metadata": {},
     "output_type": "display_data"
    },
    {
     "name": "stdout",
     "output_type": "stream",
     "text": [
      "Lambda solution status: 1\n",
      "V solution status: 1\n"
     ]
    },
    {
     "data": {
      "text/markdown": [
       "$ V(x)=(0.000000001 + 0.000000000x_{0} + 0.000000000x_{1} - 0.000000001x_{0} x_{1} + 0.000000003x_{0}^{2} + 0.000000002x_{1}^{2})$"
      ],
      "text/plain": [
       "<IPython.core.display.Markdown object>"
      ]
     },
     "metadata": {},
     "output_type": "display_data"
    },
    {
     "name": "stdout",
     "output_type": "stream",
     "text": [
      "Lambda solution status: 1\n",
      "V solution status: 1\n"
     ]
    },
    {
     "data": {
      "text/markdown": [
       "$ V(x)=(0.000000003 + 0.000000000x_{0} - 0.000000000x_{1} - 0.000000003x_{0} x_{1} + 0.000000004x_{0}^{2} + 0.000000003x_{1}^{2})$"
      ],
      "text/plain": [
       "<IPython.core.display.Markdown object>"
      ]
     },
     "metadata": {},
     "output_type": "display_data"
    },
    {
     "name": "stdout",
     "output_type": "stream",
     "text": [
      "Lambda solution status: 1\n",
      "V solution status: 1\n"
     ]
    },
    {
     "data": {
      "text/markdown": [
       "$ V(x)=(0.000000002 + 0.000000000x_{0} + 0.000000000x_{1} - 0.000000002x_{0} x_{1} + 0.000000004x_{0}^{2} + 0.000000002x_{1}^{2})$"
      ],
      "text/plain": [
       "<IPython.core.display.Markdown object>"
      ]
     },
     "metadata": {},
     "output_type": "display_data"
    },
    {
     "name": "stdout",
     "output_type": "stream",
     "text": [
      "Lambda solution status: 1\n",
      "V solution status: 1\n"
     ]
    },
    {
     "data": {
      "text/markdown": [
       "$ V(x)=(0.000000001 - 0.000000000x_{0} + 0.000000000x_{1} - 0.000000002x_{0} x_{1} + 0.000000003x_{0}^{2} + 0.000000002x_{1}^{2})$"
      ],
      "text/plain": [
       "<IPython.core.display.Markdown object>"
      ]
     },
     "metadata": {},
     "output_type": "display_data"
    },
    {
     "name": "stdout",
     "output_type": "stream",
     "text": [
      "Lambda solution status: 1\n",
      "V solution status: 1\n"
     ]
    },
    {
     "data": {
      "text/markdown": [
       "$ V(x)=(0.000000001 + 0.000000000x_{0} - 0.000000000x_{1} - 0.000000002x_{0} x_{1} + 0.000000003x_{0}^{2} + 0.000000002x_{1}^{2})$"
      ],
      "text/plain": [
       "<IPython.core.display.Markdown object>"
      ]
     },
     "metadata": {},
     "output_type": "display_data"
    },
    {
     "name": "stdout",
     "output_type": "stream",
     "text": [
      "Lambda solution status: 1\n",
      "V solution status: 1\n"
     ]
    },
    {
     "data": {
      "text/markdown": [
       "$ V(x)=(0.000000001 - 0.000000000x_{0} + 0.000000000x_{1} - 0.000000002x_{0} x_{1} + 0.000000003x_{0}^{2} + 0.000000002x_{1}^{2})$"
      ],
      "text/plain": [
       "<IPython.core.display.Markdown object>"
      ]
     },
     "metadata": {},
     "output_type": "display_data"
    },
    {
     "name": "stdout",
     "output_type": "stream",
     "text": [
      "Lambda solution status: 1\n",
      "V solution status: 1\n"
     ]
    },
    {
     "data": {
      "text/markdown": [
       "$ V(x)=(0.000000001 + 0.000000000x_{0} + 0.000000000x_{1} - 0.000000001x_{0} x_{1} + 0.000000003x_{0}^{2} + 0.000000002x_{1}^{2})$"
      ],
      "text/plain": [
       "<IPython.core.display.Markdown object>"
      ]
     },
     "metadata": {},
     "output_type": "display_data"
    },
    {
     "name": "stdout",
     "output_type": "stream",
     "text": [
      "Lambda solution status: 1\n",
      "V solution status: 1\n"
     ]
    },
    {
     "data": {
      "text/markdown": [
       "$ V(x)=(0.000000003 - 0.000000000x_{0} + 0.000000000x_{1} - 0.000000003x_{0} x_{1} + 0.000000005x_{0}^{2} + 0.000000003x_{1}^{2})$"
      ],
      "text/plain": [
       "<IPython.core.display.Markdown object>"
      ]
     },
     "metadata": {},
     "output_type": "display_data"
    },
    {
     "name": "stdout",
     "output_type": "stream",
     "text": [
      "Lambda solution status: 1\n",
      "V solution status: 1\n"
     ]
    },
    {
     "data": {
      "text/markdown": [
       "$ V(x)=(0.000000002 - 0.000000000x_{0} + 0.000000000x_{1} - 0.000000002x_{0} x_{1} + 0.000000004x_{0}^{2} + 0.000000002x_{1}^{2})$"
      ],
      "text/plain": [
       "<IPython.core.display.Markdown object>"
      ]
     },
     "metadata": {},
     "output_type": "display_data"
    },
    {
     "name": "stdout",
     "output_type": "stream",
     "text": [
      "Lambda solution status: 1\n",
      "V solution status: 1\n"
     ]
    },
    {
     "data": {
      "text/markdown": [
       "$ V(x)=(0.000000001 - 0.000000000x_{0} - 0.000000000x_{1} - 0.000000002x_{0} x_{1} + 0.000000003x_{0}^{2} + 0.000000002x_{1}^{2})$"
      ],
      "text/plain": [
       "<IPython.core.display.Markdown object>"
      ]
     },
     "metadata": {},
     "output_type": "display_data"
    },
    {
     "name": "stdout",
     "output_type": "stream",
     "text": [
      "Lambda solution status: 1\n",
      "V solution status: 1\n"
     ]
    },
    {
     "data": {
      "text/markdown": [
       "$ V(x)=(0.000000001 - 0.000000000x_{0} - 0.000000000x_{1} - 0.000000002x_{0} x_{1} + 0.000000003x_{0}^{2} + 0.000000002x_{1}^{2})$"
      ],
      "text/plain": [
       "<IPython.core.display.Markdown object>"
      ]
     },
     "metadata": {},
     "output_type": "display_data"
    },
    {
     "name": "stdout",
     "output_type": "stream",
     "text": [
      "Lambda solution status: 1\n",
      "V solution status: 1\n"
     ]
    },
    {
     "data": {
      "text/markdown": [
       "$ V(x)=(0.000000001 - 0.000000000x_{0} + 0.000000000x_{1} - 0.000000002x_{0} x_{1} + 0.000000003x_{0}^{2} + 0.000000002x_{1}^{2})$"
      ],
      "text/plain": [
       "<IPython.core.display.Markdown object>"
      ]
     },
     "metadata": {},
     "output_type": "display_data"
    },
    {
     "name": "stdout",
     "output_type": "stream",
     "text": [
      "Lambda solution status: 1\n",
      "V solution status: 1\n"
     ]
    },
    {
     "data": {
      "text/markdown": [
       "$ V(x)=(0.000000001 - 0.000000000x_{0} + 0.000000000x_{1} - 0.000000001x_{0} x_{1} + 0.000000003x_{0}^{2} + 0.000000002x_{1}^{2})$"
      ],
      "text/plain": [
       "<IPython.core.display.Markdown object>"
      ]
     },
     "metadata": {},
     "output_type": "display_data"
    },
    {
     "name": "stdout",
     "output_type": "stream",
     "text": [
      "Lambda solution status: 1\n",
      "V solution status: 1\n"
     ]
    },
    {
     "data": {
      "text/markdown": [
       "$ V(x)=(0.000000003 + 0.000000000x_{0} - 0.000000000x_{1} - 0.000000003x_{0} x_{1} + 0.000000004x_{0}^{2} + 0.000000003x_{1}^{2})$"
      ],
      "text/plain": [
       "<IPython.core.display.Markdown object>"
      ]
     },
     "metadata": {},
     "output_type": "display_data"
    },
    {
     "name": "stdout",
     "output_type": "stream",
     "text": [
      "Lambda solution status: 1\n",
      "V solution status: 1\n"
     ]
    },
    {
     "data": {
      "text/markdown": [
       "$ V(x)=(0.000000002 + 0.000000000x_{0} + 0.000000000x_{1} - 0.000000002x_{0} x_{1} + 0.000000004x_{0}^{2} + 0.000000002x_{1}^{2})$"
      ],
      "text/plain": [
       "<IPython.core.display.Markdown object>"
      ]
     },
     "metadata": {},
     "output_type": "display_data"
    },
    {
     "name": "stdout",
     "output_type": "stream",
     "text": [
      "Lambda solution status: 1\n",
      "V solution status: 1\n"
     ]
    },
    {
     "data": {
      "text/markdown": [
       "$ V(x)=(0.000000001 - 0.000000000x_{0} + 0.000000000x_{1} - 0.000000002x_{0} x_{1} + 0.000000003x_{0}^{2} + 0.000000002x_{1}^{2})$"
      ],
      "text/plain": [
       "<IPython.core.display.Markdown object>"
      ]
     },
     "metadata": {},
     "output_type": "display_data"
    },
    {
     "name": "stdout",
     "output_type": "stream",
     "text": [
      "Lambda solution status: 1\n",
      "V solution status: 1\n"
     ]
    },
    {
     "data": {
      "text/markdown": [
       "$ V(x)=(0.000000001 + 0.000000000x_{0} + 0.000000000x_{1} - 0.000000002x_{0} x_{1} + 0.000000003x_{0}^{2} + 0.000000002x_{1}^{2})$"
      ],
      "text/plain": [
       "<IPython.core.display.Markdown object>"
      ]
     },
     "metadata": {},
     "output_type": "display_data"
    },
    {
     "name": "stdout",
     "output_type": "stream",
     "text": [
      "Lambda solution status: 1\n",
      "V solution status: 1\n"
     ]
    },
    {
     "data": {
      "text/markdown": [
       "$ V(x)=(0.000000001 - 0.000000000x_{0} - 0.000000000x_{1} - 0.000000002x_{0} x_{1} + 0.000000003x_{0}^{2} + 0.000000002x_{1}^{2})$"
      ],
      "text/plain": [
       "<IPython.core.display.Markdown object>"
      ]
     },
     "metadata": {},
     "output_type": "display_data"
    },
    {
     "name": "stdout",
     "output_type": "stream",
     "text": [
      "Lambda solution status: 1\n",
      "V solution status: 1\n"
     ]
    },
    {
     "data": {
      "text/markdown": [
       "$ V(x)=(0.000000001 - 0.000000000x_{0} - 0.000000000x_{1} - 0.000000001x_{0} x_{1} + 0.000000003x_{0}^{2} + 0.000000002x_{1}^{2})$"
      ],
      "text/plain": [
       "<IPython.core.display.Markdown object>"
      ]
     },
     "metadata": {},
     "output_type": "display_data"
    },
    {
     "name": "stdout",
     "output_type": "stream",
     "text": [
      "Lambda solution status: 1\n",
      "V solution status: 1\n"
     ]
    },
    {
     "data": {
      "text/markdown": [
       "$ V(x)=(0.000000003 - 0.000000000x_{0} + 0.000000000x_{1} - 0.000000003x_{0} x_{1} + 0.000000004x_{0}^{2} + 0.000000003x_{1}^{2})$"
      ],
      "text/plain": [
       "<IPython.core.display.Markdown object>"
      ]
     },
     "metadata": {},
     "output_type": "display_data"
    },
    {
     "name": "stdout",
     "output_type": "stream",
     "text": [
      "Lambda solution status: 1\n",
      "V solution status: 1\n"
     ]
    },
    {
     "data": {
      "text/markdown": [
       "$ V(x)=(0.000000001 + 0.000000000x_{0} + 0.000000000x_{1} - 0.000000002x_{0} x_{1} + 0.000000004x_{0}^{2} + 0.000000002x_{1}^{2})$"
      ],
      "text/plain": [
       "<IPython.core.display.Markdown object>"
      ]
     },
     "metadata": {},
     "output_type": "display_data"
    },
    {
     "name": "stdout",
     "output_type": "stream",
     "text": [
      "Lambda solution status: 1\n",
      "V solution status: 1\n"
     ]
    },
    {
     "data": {
      "text/markdown": [
       "$ V(x)=(0.000000001 - 0.000000000x_{0} + 0.000000000x_{1} - 0.000000002x_{0} x_{1} + 0.000000003x_{0}^{2} + 0.000000002x_{1}^{2})$"
      ],
      "text/plain": [
       "<IPython.core.display.Markdown object>"
      ]
     },
     "metadata": {},
     "output_type": "display_data"
    },
    {
     "name": "stdout",
     "output_type": "stream",
     "text": [
      "Lambda solution status: 1\n",
      "V solution status: 1\n"
     ]
    },
    {
     "data": {
      "text/markdown": [
       "$ V(x)=(0.000000001 - 0.000000000x_{0} + 0.000000000x_{1} - 0.000000002x_{0} x_{1} + 0.000000003x_{0}^{2} + 0.000000002x_{1}^{2})$"
      ],
      "text/plain": [
       "<IPython.core.display.Markdown object>"
      ]
     },
     "metadata": {},
     "output_type": "display_data"
    },
    {
     "name": "stdout",
     "output_type": "stream",
     "text": [
      "Lambda solution status: 1\n",
      "V solution status: 1\n"
     ]
    },
    {
     "data": {
      "text/markdown": [
       "$ V(x)=(0.000000001 - 0.000000000x_{0} - 0.000000000x_{1} - 0.000000002x_{0} x_{1} + 0.000000003x_{0}^{2} + 0.000000002x_{1}^{2})$"
      ],
      "text/plain": [
       "<IPython.core.display.Markdown object>"
      ]
     },
     "metadata": {},
     "output_type": "display_data"
    },
    {
     "name": "stdout",
     "output_type": "stream",
     "text": [
      "Lambda solution status: 1\n",
      "V solution status: 1\n"
     ]
    },
    {
     "data": {
      "text/markdown": [
       "$ V(x)=(0.000000003 + 0.000000000x_{0} + 0.000000000x_{1} - 0.000000003x_{0} x_{1} + 0.000000005x_{0}^{2} + 0.000000004x_{1}^{2})$"
      ],
      "text/plain": [
       "<IPython.core.display.Markdown object>"
      ]
     },
     "metadata": {},
     "output_type": "display_data"
    }
   ],
   "source": [
    "# Use this as a starting candidate for ROA study\n",
    "\n",
    "#doing the van der pol oscillator implicitly\n",
    "\n",
    "from pydrake.solvers.mathematicalprogram import MathematicalProgram, SolverOptions, Solve\n",
    "from pydrake.solvers.csdp import CsdpSolver\n",
    "from pydrake.solvers.mosek import MosekSolver\n",
    "\n",
    "negative_infinity = float('-inf')\n",
    "\n",
    "def find_implicit_lambdas(x, xd, V, Vdot, g):\n",
    "    prog = MathematicalProgram()\n",
    "    prog.AddIndeterminates(x)\n",
    "    prog.AddIndeterminates(xd)\n",
    "        \n",
    "    y = np.hstack([x, xd])\n",
    "    \n",
    "    l_deg = math.ceil(V.TotalDegree()/2) * 2\n",
    "    \n",
    "    lambda_ = prog.NewSosPolynomial(Variables(y), l_deg)[0]\n",
    "    \n",
    "    lambda_g = []\n",
    "    \n",
    "    for i in range(g.size): \n",
    "        gi_deg = max(l_deg + V.TotalDegree() - g[i].TotalDegree(), 0)\n",
    "        lambda_g.append(prog.NewFreePolynomial(Variables(y), gi_deg))\n",
    "        \n",
    "    lambda_g = np.array(lambda_g)    \n",
    "  \n",
    "    prog.AddSosConstraint(-Vdot + lambda_*(V - 1) + lambda_g.dot(g))\n",
    "        \n",
    "    solver = MosekSolver()\n",
    "    result = solver.Solve(prog)\n",
    "    \n",
    "    k = result.get_solver_details().solution_status\n",
    "                \n",
    "    print(\"Lambda solution status: \" + str(k))\n",
    "    \n",
    "    assert result.is_success()\n",
    "    \n",
    "    lambda_g_results = []\n",
    "    \n",
    "    for i in range(g.size):\n",
    "        lambda_g_results.append(result.GetSolution(lambda_g[i]).RemoveTermsWithSmallCoefficients(1e-5))\n",
    "    \n",
    "    return result.GetSolution(lambda_).RemoveTermsWithSmallCoefficients(1e-5), np.array(lambda_g_results)\n",
    "\n",
    "def find_implicit_V(x, xd, lambda_, lambda_g, g, V_degree):\n",
    "    prog = MathematicalProgram()\n",
    "    prog.AddIndeterminates(x)\n",
    "    prog.AddIndeterminates(xd)\n",
    "    \n",
    "    y = np.hstack([x, xd])\n",
    "        \n",
    "    V, Q = prog.NewSosPolynomial(Variables(x), V_degree)\n",
    "    Vdot = V.Jacobian(x).dot(xd)\n",
    "    \n",
    "    prog.AddSosConstraint(-Vdot + lambda_*(V - 1) + lambda_g.dot(g))\n",
    "    \n",
    "    prog.AddLinearCost(np.trace(Q))    \n",
    "    #prog.AddLinearConstraint(V.ToExpression().Substitute({x[0]: 0, x[1]:0, xd[0]: 0, xd[1]: 0}) == 0)\n",
    "    prog.AddLinearConstraint(V.ToExpression().Substitute({x[0]: 0, x[1]:0}) == 0)\n",
    "    \n",
    "    solver = MosekSolver()\n",
    "    result = solver.Solve(prog)\n",
    "    \n",
    "    k = result.get_solver_details().solution_status\n",
    "                \n",
    "    print(\"V solution status: \" + str(k))\n",
    "    \n",
    "    assert result.is_success()\n",
    "        \n",
    "    return result.GetSolution(V), result.GetSolution(Q)\n",
    "\n",
    "\n",
    "def problem_solver_implicit(S, V_degree, G):\n",
    "    prog = MathematicalProgram()\n",
    "    x = prog.NewIndeterminates(2, \"x\")\n",
    "    xd = prog.NewIndeterminates(2, \"xd\")\n",
    "    \n",
    "    u = -G@x\n",
    "    sinx = x[0]\n",
    "    \n",
    "    g0 = xd[0] - x[1]\n",
    "    g1 = p.mass()*(p.length()**2)*xd[1] + p.damping()*x[1] - p.mass()*p.gravity()*p.length()*sinx - u[0]\n",
    "    \n",
    "    g = np.array([g0, g1])\n",
    "    \n",
    "    V = x.T@S@x\n",
    "    Vdot = V.Jacobian(x).dot(xd)\n",
    "    \n",
    "    V = Polynomial(V)\n",
    "    Vdot = Polynomial(Vdot)\n",
    "    \n",
    "    g_poly = []\n",
    "    for i in range(g.size):\n",
    "        g_poly.append(Polynomial(g[i]))\n",
    "        \n",
    "    g_poly = np.array(g_poly)\n",
    "    \n",
    "    display(Markdown(\"$ V(x)=\"+ToLatex(V.ToExpression(), 9)+\"$\"))\n",
    "    for i in range(200):\n",
    "        lambda_, lambda_g = find_implicit_lambdas(x, xd, V, Vdot, g_poly)\n",
    "        \n",
    "#         display(Markdown(\"$ \\lambda(x)=\"+ToLatex(lambda_.ToExpression())+\"$\"))\n",
    "#         display(Markdown(\"$ \\lambda_g(x)=\"+ToLatex(lambda_g[0].ToExpression())+\"$\"))\n",
    "#         display(Markdown(\"$ \\lambda_g(x)=\"+ToLatex(lambda_g[1].ToExpression())+\"$\"))\n",
    "#         print(alpha)\n",
    "        \n",
    "        V, Q = find_implicit_V(x, xd, lambda_, lambda_g, g_poly, V_degree)\n",
    "        \n",
    "        Vdot = V.Jacobian(x).dot(xd)\n",
    "     \n",
    "        display(Markdown(\"$ V(x)=\"+ToLatex(V.ToExpression(), 9)+\"$\"))\n",
    "        \n",
    "    return V, Q\n",
    "\n",
    "V_degree = 2\n",
    "V, Q = problem_solver_implicit(candidate_matrix, V_degree, G)"
   ]
  },
  {
   "cell_type": "code",
   "execution_count": 13,
   "metadata": {},
   "outputs": [],
   "source": [
    "# now the states become sin(theta), theta_dot\n",
    "# the controller K gets multiplies by K and the new state\n",
    "# input this U in the equations of motion\n",
    "# now linearize\n",
    "# feed this linearization into the "
   ]
  },
  {
   "cell_type": "code",
   "execution_count": 14,
   "metadata": {},
   "outputs": [],
   "source": [
    "import sympy as sp\n",
    "from sympy.physics.mechanics import dynamicsymbols as dynamicsymbols\n",
    "from sympy import sin as symsin\n",
    "from sympy import cos as symcos"
   ]
  },
  {
   "cell_type": "code",
   "execution_count": 15,
   "metadata": {},
   "outputs": [
    {
     "name": "stdout",
     "output_type": "stream",
     "text": [
      "<class 'sympy.core.add.Add'>\n",
      "1.42110175013269*theta(t)**2 + 0.0428374788479707*theta(t)*theta_dot_initial(t) + 0.0516058694571062*theta_dot_initial(t)**2\n"
     ]
    }
   ],
   "source": [
    "theta, s, c = dynamicsymbols('theta s c')\n",
    "t = sp.symbols('t')\n",
    "theta_dot_initial = dynamicsymbols('theta_dot_initial')\n",
    "\n",
    "theta_dot = sp.diff(theta, t)\n",
    "\n",
    "m = p.mass()\n",
    "grav = p.gravity()\n",
    "length = p.length()\n",
    "b = p.damping()\n",
    "\n",
    "state = np.array([theta, theta_dot_initial])\n",
    "\n",
    "V = state.T@candidate_matrix@state\n",
    "print(type(V))\n",
    "V = sp.simplify(V)\n",
    "\n",
    "print(V)\n",
    "\n",
    "subs_dict = {theta**2: (2-2*c), theta: s}\n",
    "V = V.subs(subs_dict)\n",
    "\n",
    "subs_dict_2 = {theta_dot_initial: theta_dot}\n",
    "V = V.subs(subs_dict_2)"
   ]
  },
  {
   "cell_type": "code",
   "execution_count": 16,
   "metadata": {},
   "outputs": [
    {
     "data": {
      "text/latex": [
       "$\\displaystyle - 2.84220350026538 c{\\left(t \\right)} + 0.0428374788479707 s{\\left(t \\right)} \\frac{d}{d t} \\theta{\\left(t \\right)} + 0.0516058694571062 \\left(\\frac{d}{d t} \\theta{\\left(t \\right)}\\right)^{2} + 2.84220350026538$"
      ],
      "text/plain": [
       "-2.84220350026538*c(t) + 0.0428374788479707*s(t)*Derivative(theta(t), t) + 0.0516058694571062*Derivative(theta(t), t)**2 + 2.84220350026538"
      ]
     },
     "execution_count": 16,
     "metadata": {},
     "output_type": "execute_result"
    }
   ],
   "source": [
    "V"
   ]
  },
  {
   "cell_type": "code",
   "execution_count": 17,
   "metadata": {},
   "outputs": [
    {
     "name": "stdout",
     "output_type": "stream",
     "text": [
      "[ 0.0590662  -0.0074662  -0.58786123  3.43006123]\n",
      "[1.42143665 0.05127097]\n"
     ]
    }
   ],
   "source": [
    "candidate_matrix_new = np.array([[0.0516, 0, 0.021, 0], [0, 0, 0, -1.42], [0.021, 0, 0, 0], [0, -1.42, 0, 2.8422]])\n",
    "\n",
    "print(np.linalg.eigvals(candidate_matrix_new))\n",
    "print(np.linalg.eigvals(candidate_matrix))"
   ]
  },
  {
   "cell_type": "code",
   "execution_count": 18,
   "metadata": {
    "scrolled": true
   },
   "outputs": [
    {
     "data": {
      "text/markdown": [
       "$ V(x)=(2.842200000 - 2.840000000c_{0} + 0.042000000s_{0} theta_dot_{0} + 0.051600000theta_dot_{0}^{2})$"
      ],
      "text/plain": [
       "<IPython.core.display.Markdown object>"
      ]
     },
     "metadata": {},
     "output_type": "display_data"
    },
    {
     "name": "stdout",
     "output_type": "stream",
     "text": [
      "Lambda solution status: 1\n",
      "V solution status: 1\n"
     ]
    },
    {
     "data": {
      "text/markdown": [
       "$ V(x)=(6.631793360 - 3.387416523s_{0} - 9.876103091c_{0} - 0.251230409theta_dot_{0} + 2.522214577s_{0} c_{0} + 0.063035176s_{0} theta_dot_{0} + 0.188193977c_{0} theta_dot_{0} + 0.432592411s_{0}^{2} + 3.676919265c_{0}^{2} + 0.016355774theta_dot_{0}^{2})$"
      ],
      "text/plain": [
       "<IPython.core.display.Markdown object>"
      ]
     },
     "metadata": {},
     "output_type": "display_data"
    },
    {
     "name": "stdout",
     "output_type": "stream",
     "text": [
      "Lambda solution status: 1\n",
      "V solution status: 1\n"
     ]
    },
    {
     "data": {
      "text/markdown": [
       "$ V(x)=(4.827050655 - 3.249087412s_{0} - 6.404994502c_{0} - 0.781835261theta_dot_{0} + 2.153058722s_{0} c_{0} + 0.244560905s_{0} theta_dot_{0} + 0.537272752c_{0} theta_dot_{0} + 0.548011083s_{0}^{2} + 2.125961453c_{0}^{2} + 0.099469906theta_dot_{0}^{2})$"
      ],
      "text/plain": [
       "<IPython.core.display.Markdown object>"
      ]
     },
     "metadata": {},
     "output_type": "display_data"
    },
    {
     "name": "stdout",
     "output_type": "stream",
     "text": [
      "Lambda solution status: 1\n",
      "V solution status: 1\n"
     ]
    },
    {
     "data": {
      "text/markdown": [
       "$ V(x)=(3.385157712 - 2.828007488s_{0} - 3.942289902c_{0} - 0.916412576theta_dot_{0} + 1.643554950s_{0} c_{0} + 0.353840973s_{0} theta_dot_{0} + 0.562569566c_{0} theta_dot_{0} + 0.592222481s_{0}^{2} + 1.149362248c_{0}^{2} + 0.194369965theta_dot_{0}^{2})$"
      ],
      "text/plain": [
       "<IPython.core.display.Markdown object>"
      ]
     },
     "metadata": {},
     "output_type": "display_data"
    },
    {
     "name": "stdout",
     "output_type": "stream",
     "text": [
      "Lambda solution status: 1\n",
      "V solution status: 1\n"
     ]
    },
    {
     "data": {
      "text/markdown": [
       "$ V(x)=(2.348022709 - 2.305007373s_{0} - 2.390999328c_{0} - 0.719790985theta_dot_{0} + 1.172656128s_{0} c_{0} + 0.335402959s_{0} theta_dot_{0} + 0.384383149c_{0} theta_dot_{0} + 0.566166093s_{0}^{2} + 0.609161772c_{0}^{2} + 0.225200997theta_dot_{0}^{2})$"
      ],
      "text/plain": [
       "<IPython.core.display.Markdown object>"
      ]
     },
     "metadata": {},
     "output_type": "display_data"
    },
    {
     "name": "stdout",
     "output_type": "stream",
     "text": [
      "Lambda solution status: 1\n",
      "V solution status: 1\n"
     ]
    },
    {
     "data": {
      "text/markdown": [
       "$ V(x)=(1.638172640 - 1.775554339s_{0} - 1.500766198c_{0} - 0.434242009theta_dot_{0} + 0.813290871s_{0} c_{0} + 0.237747839s_{0} theta_dot_{0} + 0.196491885c_{0} theta_dot_{0} + 0.481125035s_{0}^{2} + 0.343731993c_{0}^{2} + 0.165369266theta_dot_{0}^{2})$"
      ],
      "text/plain": [
       "<IPython.core.display.Markdown object>"
      ]
     },
     "metadata": {},
     "output_type": "display_data"
    },
    {
     "name": "stdout",
     "output_type": "stream",
     "text": [
      "Lambda solution status: 1\n",
      "V solution status: 1\n"
     ]
    },
    {
     "data": {
      "text/markdown": [
       "$ V(x)=(1.153300173 - 1.312227672s_{0} - 0.994349928c_{0} - 0.256414199theta_dot_{0} + 0.565291128s_{0} c_{0} + 0.154054283s_{0} theta_dot_{0} + 0.102358227c_{0} theta_dot_{0} + 0.373461822s_{0}^{2} + 0.214524476c_{0}^{2} + 0.098790769theta_dot_{0}^{2})$"
      ],
      "text/plain": [
       "<IPython.core.display.Markdown object>"
      ]
     },
     "metadata": {},
     "output_type": "display_data"
    },
    {
     "name": "stdout",
     "output_type": "stream",
     "text": [
      "Lambda solution status: 1\n",
      "V solution status: 1\n"
     ]
    },
    {
     "data": {
      "text/markdown": [
       "$ V(x)=(0.816006385 - 0.943357596s_{0} - 0.688639323c_{0} - 0.152988628theta_dot_{0} + 0.397685385s_{0} c_{0} + 0.094727423s_{0} theta_dot_{0} + 0.058260102c_{0} theta_dot_{0} + 0.272831536s_{0}^{2} + 0.145473613c_{0}^{2} + 0.060571315theta_dot_{0}^{2})$"
      ],
      "text/plain": [
       "<IPython.core.display.Markdown object>"
      ]
     },
     "metadata": {},
     "output_type": "display_data"
    },
    {
     "name": "stdout",
     "output_type": "stream",
     "text": [
      "Lambda solution status: 1\n",
      "V solution status: 1\n"
     ]
    },
    {
     "data": {
      "text/markdown": [
       "$ V(x)=(0.573681725 - 0.660027414s_{0} - 0.487327991c_{0} - 0.088606366theta_dot_{0} + 0.280136405s_{0} c_{0} + 0.054691704s_{0} theta_dot_{0} + 0.033914261c_{0} theta_dot_{0} + 0.189943196s_{0}^{2} + 0.103594078c_{0}^{2} + 0.037714015theta_dot_{0}^{2})$"
      ],
      "text/plain": [
       "<IPython.core.display.Markdown object>"
      ]
     },
     "metadata": {},
     "output_type": "display_data"
    },
    {
     "name": "stdout",
     "output_type": "stream",
     "text": [
      "Lambda solution status: 1\n",
      "V solution status: 1\n"
     ]
    },
    {
     "data": {
      "text/markdown": [
       "$ V(x)=(0.397950900 - 0.448144998s_{0} - 0.347746164c_{0} - 0.046459485theta_dot_{0} + 0.195747010s_{0} c_{0} + 0.027710197s_{0} theta_dot_{0} + 0.018748774c_{0} theta_dot_{0} + 0.126196001s_{0}^{2} + 0.075997251c_{0}^{2} + 0.022474402theta_dot_{0}^{2})$"
      ],
      "text/plain": [
       "<IPython.core.display.Markdown object>"
      ]
     },
     "metadata": {},
     "output_type": "display_data"
    },
    {
     "name": "stdout",
     "output_type": "stream",
     "text": [
      "Lambda solution status: 1\n",
      "V solution status: 1\n"
     ]
    },
    {
     "data": {
      "text/markdown": [
       "$ V(x)=(0.274789469 - 0.299580356s_{0} - 0.249994604c_{0} - 0.019688411theta_dot_{0} + 0.136271603s_{0} c_{0} + 0.010981833s_{0} theta_dot_{0} + 0.008706470c_{0} theta_dot_{0} + 0.081653292s_{0}^{2} + 0.056860595c_{0}^{2} + 0.012058276theta_dot_{0}^{2})$"
      ],
      "text/plain": [
       "<IPython.core.display.Markdown object>"
      ]
     },
     "metadata": {},
     "output_type": "display_data"
    },
    {
     "name": "stdout",
     "output_type": "stream",
     "text": [
      "Lambda solution status: 1\n",
      "V solution status: 1\n"
     ]
    },
    {
     "data": {
      "text/markdown": [
       "$ V(x)=(0.187367055 - 0.197945325s_{0} - 0.176787292c_{0} - 0.005458629theta_dot_{0} + 0.093380852s_{0} c_{0} + 0.002720274s_{0} theta_dot_{0} + 0.002738335c_{0} theta_dot_{0} + 0.052281842s_{0}^{2} + 0.041702868c_{0}^{2} + 0.004124260theta_dot_{0}^{2})$"
      ],
      "text/plain": [
       "<IPython.core.display.Markdown object>"
      ]
     },
     "metadata": {},
     "output_type": "display_data"
    },
    {
     "name": "stdout",
     "output_type": "stream",
     "text": [
      "Lambda solution status: 1\n",
      "V solution status: 1\n"
     ]
    },
    {
     "data": {
      "text/markdown": [
       "$ V(x)=(0.127545235 - 0.132639119s_{0} - 0.122448845c_{0} - 0.000349593theta_dot_{0} + 0.063669284s_{0} c_{0} + 0.000195288s_{0} theta_dot_{0} + 0.000154283c_{0} theta_dot_{0} + 0.034484266s_{0}^{2} + 0.029389179c_{0}^{2} + 0.000300368theta_dot_{0}^{2})$"
      ],
      "text/plain": [
       "<IPython.core.display.Markdown object>"
      ]
     },
     "metadata": {},
     "output_type": "display_data"
    },
    {
     "name": "stdout",
     "output_type": "stream",
     "text": [
      "Lambda solution status: 1\n",
      "V solution status: 1\n"
     ]
    },
    {
     "data": {
      "text/markdown": [
       "$ V(x)=(0.090593235 - 0.092657025s_{0} - 0.088529048c_{0} + 0.000227048theta_dot_{0} + 0.045272906s_{0} c_{0} - 0.000115949s_{0} theta_dot_{0} - 0.000111098c_{0} theta_dot_{0} + 0.023691958s_{0}^{2} + 0.021627973c_{0}^{2} + 0.000033919theta_dot_{0}^{2})$"
      ],
      "text/plain": [
       "<IPython.core.display.Markdown object>"
      ]
     },
     "metadata": {},
     "output_type": "display_data"
    },
    {
     "name": "stdout",
     "output_type": "stream",
     "text": [
      "Lambda solution status: 1\n",
      "V solution status: 1\n"
     ]
    },
    {
     "data": {
      "text/markdown": [
       "$ V(x)=(0.064310325 - 0.065117208s_{0} - 0.063501740c_{0} + 0.000272427theta_dot_{0} + 0.032149235s_{0} c_{0} - 0.000137828s_{0} theta_dot_{0} - 0.000134596c_{0} theta_dot_{0} + 0.016483556s_{0}^{2} + 0.015675833c_{0}^{2} + 0.000027748theta_dot_{0}^{2})$"
      ],
      "text/plain": [
       "<IPython.core.display.Markdown object>"
      ]
     },
     "metadata": {},
     "output_type": "display_data"
    },
    {
     "name": "stdout",
     "output_type": "stream",
     "text": [
      "Lambda solution status: 1\n",
      "V solution status: 1\n"
     ]
    },
    {
     "data": {
      "text/markdown": [
       "$ V(x)=(0.045370403 - 0.045617609s_{0} - 0.045122611c_{0} + 0.000280491theta_dot_{0} + 0.022684233s_{0} c_{0} - 0.000140839s_{0} theta_dot_{0} - 0.000139650c_{0} theta_dot_{0} + 0.011466541s_{0}^{2} + 0.011219044c_{0}^{2} + 0.000028296theta_dot_{0}^{2})$"
      ],
      "text/plain": [
       "<IPython.core.display.Markdown object>"
      ]
     },
     "metadata": {},
     "output_type": "display_data"
    },
    {
     "name": "stdout",
     "output_type": "stream",
     "text": [
      "Lambda solution status: 1\n",
      "V solution status: 1\n"
     ]
    },
    {
     "data": {
      "text/markdown": [
       "$ V(x)=(0.032037975 - 0.032043805s_{0} - 0.032031514c_{0} + 0.000251104theta_dot_{0} + 0.016018664s_{0} c_{0} - 0.000125415s_{0} theta_dot_{0} - 0.000125687c_{0} theta_dot_{0} + 0.008012412s_{0}^{2} + 0.008006267c_{0}^{2} + 0.000023891theta_dot_{0}^{2})$"
      ],
      "text/plain": [
       "<IPython.core.display.Markdown object>"
      ]
     },
     "metadata": {},
     "output_type": "display_data"
    },
    {
     "name": "stdout",
     "output_type": "stream",
     "text": [
      "Lambda solution status: 1\n",
      "V solution status: 1\n"
     ]
    },
    {
     "data": {
      "text/markdown": [
       "$ V(x)=(0.023145530 - 0.023050454s_{0} - 0.023240221c_{0} + 0.000197315theta_dot_{0} + 0.011572369s_{0} c_{0} - 0.000098159s_{0} theta_dot_{0} - 0.000099154c_{0} theta_dot_{0} + 0.005738947s_{0}^{2} + 0.005833829c_{0}^{2} + 0.000016315theta_dot_{0}^{2})$"
      ],
      "text/plain": [
       "<IPython.core.display.Markdown object>"
      ]
     },
     "metadata": {},
     "output_type": "display_data"
    },
    {
     "name": "stdout",
     "output_type": "stream",
     "text": [
      "Lambda solution status: 1\n",
      "V solution status: 1\n"
     ]
    },
    {
     "data": {
      "text/markdown": [
       "$ V(x)=(0.017253922 - 0.017163356s_{0} - 0.017344164c_{0} + 0.000131987theta_dot_{0} + 0.008626555s_{0} c_{0} - 0.000065613s_{0} theta_dot_{0} - 0.000066375c_{0} theta_dot_{0} + 0.004268320s_{0}^{2} + 0.004358723c_{0}^{2} + 0.000009476theta_dot_{0}^{2})$"
      ],
      "text/plain": [
       "<IPython.core.display.Markdown object>"
      ]
     },
     "metadata": {},
     "output_type": "display_data"
    },
    {
     "name": "stdout",
     "output_type": "stream",
     "text": [
      "Lambda solution status: 1\n",
      "V solution status: 1\n"
     ]
    },
    {
     "data": {
      "text/markdown": [
       "$ V(x)=(0.013731464 - 0.013680461s_{0} - 0.013781735c_{0} + 0.000064161theta_dot_{0} + 0.006865268s_{0} c_{0} - 0.000031942s_{0} theta_dot_{0} - 0.000032217c_{0} theta_dot_{0} + 0.003407414s_{0}^{2} + 0.003458049c_{0}^{2} + 0.000003864theta_dot_{0}^{2})$"
      ],
      "text/plain": [
       "<IPython.core.display.Markdown object>"
      ]
     },
     "metadata": {},
     "output_type": "display_data"
    },
    {
     "name": "stdout",
     "output_type": "stream",
     "text": [
      "Lambda solution status: 1\n",
      "V solution status: 1\n"
     ]
    },
    {
     "data": {
      "text/markdown": [
       "$ V(x)=(0.012076781 - 0.012066482s_{0} - 0.012086717c_{0} + 0.000014675theta_dot_{0} + 0.006038198s_{0} c_{0} - 0.000007331s_{0} theta_dot_{0} - 0.000007344c_{0} theta_dot_{0} + 0.003014051s_{0}^{2} + 0.003024168c_{0}^{2} + 0.000000745theta_dot_{0}^{2})$"
      ],
      "text/plain": [
       "<IPython.core.display.Markdown object>"
      ]
     },
     "metadata": {},
     "output_type": "display_data"
    },
    {
     "name": "stdout",
     "output_type": "stream",
     "text": [
      "Lambda solution status: 1\n",
      "V solution status: 1\n"
     ]
    },
    {
     "data": {
      "text/markdown": [
       "$ V(x)=(0.011681885 - 0.011682666s_{0} - 0.011680798c_{0} + 0.000000714theta_dot_{0} + 0.005840777s_{0} c_{0} - 0.000000392s_{0} theta_dot_{0} - 0.000000322c_{0} theta_dot_{0} + 0.002920868s_{0}^{2} + 0.002919934c_{0}^{2} + 0.000000914theta_dot_{0}^{2})$"
      ],
      "text/plain": [
       "<IPython.core.display.Markdown object>"
      ]
     },
     "metadata": {},
     "output_type": "display_data"
    },
    {
     "name": "stdout",
     "output_type": "stream",
     "text": [
      "Lambda solution status: 1\n",
      "V solution status: 1\n"
     ]
    },
    {
     "data": {
      "text/markdown": [
       "$ V(x)=(0.011656501 - 0.011656487s_{0} - 0.011656153c_{0} + 0.000000032theta_dot_{0} + 0.005828068s_{0} c_{0} - 0.000000013s_{0} theta_dot_{0} - 0.000000018c_{0} theta_dot_{0} + 0.002914119s_{0}^{2} + 0.002913952c_{0}^{2} + 0.000000548theta_dot_{0}^{2})$"
      ],
      "text/plain": [
       "<IPython.core.display.Markdown object>"
      ]
     },
     "metadata": {},
     "output_type": "display_data"
    },
    {
     "name": "stdout",
     "output_type": "stream",
     "text": [
      "Lambda solution status: 1\n",
      "V solution status: 1\n"
     ]
    },
    {
     "data": {
      "text/markdown": [
       "$ V(x)=(0.011656351 - 0.011656244s_{0} - 0.011656180c_{0} - 0.000000004theta_dot_{0} + 0.005828027s_{0} c_{0} + 0.000000001s_{0} theta_dot_{0} + 0.000000002c_{0} theta_dot_{0} + 0.002914039s_{0}^{2} + 0.002914007c_{0}^{2} + 0.000000277theta_dot_{0}^{2})$"
      ],
      "text/plain": [
       "<IPython.core.display.Markdown object>"
      ]
     },
     "metadata": {},
     "output_type": "display_data"
    },
    {
     "name": "stdout",
     "output_type": "stream",
     "text": [
      "Lambda solution status: 1\n",
      "V solution status: 1\n"
     ]
    },
    {
     "data": {
      "text/markdown": [
       "$ V(x)=(0.011656532 - 0.011657358s_{0} - 0.011655502c_{0} + 0.000000007theta_dot_{0} + 0.005828151s_{0} c_{0} - 0.000000010s_{0} theta_dot_{0} + 0.000000003c_{0} theta_dot_{0} + 0.002914553s_{0}^{2} + 0.002913625c_{0}^{2} + 0.000000154theta_dot_{0}^{2})$"
      ],
      "text/plain": [
       "<IPython.core.display.Markdown object>"
      ]
     },
     "metadata": {},
     "output_type": "display_data"
    },
    {
     "name": "stdout",
     "output_type": "stream",
     "text": [
      "Lambda solution status: 1\n",
      "V solution status: 1\n"
     ]
    },
    {
     "data": {
      "text/markdown": [
       "$ V(x)=(0.011656576 - 0.011656897s_{0} - 0.011656141c_{0} + 0.000000001theta_dot_{0} + 0.005828220s_{0} c_{0} - 0.000000007s_{0} theta_dot_{0} + 0.000000005c_{0} theta_dot_{0} + 0.002914310s_{0}^{2} + 0.002913932c_{0}^{2} + 0.000000104theta_dot_{0}^{2})$"
      ],
      "text/plain": [
       "<IPython.core.display.Markdown object>"
      ]
     },
     "metadata": {},
     "output_type": "display_data"
    },
    {
     "name": "stdout",
     "output_type": "stream",
     "text": [
      "Lambda solution status: 1\n",
      "V solution status: 1\n"
     ]
    },
    {
     "data": {
      "text/markdown": [
       "$ V(x)=(0.011656442 - 0.011656371s_{0} - 0.011656329c_{0} - 0.000000001theta_dot_{0} + 0.005828120s_{0} c_{0} + 0.000000003s_{0} theta_dot_{0} - 0.000000003c_{0} theta_dot_{0} + 0.002914080s_{0}^{2} + 0.002914058c_{0}^{2} + 0.000000090theta_dot_{0}^{2})$"
      ],
      "text/plain": [
       "<IPython.core.display.Markdown object>"
      ]
     },
     "metadata": {},
     "output_type": "display_data"
    },
    {
     "name": "stdout",
     "output_type": "stream",
     "text": [
      "Lambda solution status: 1\n",
      "V solution status: 1\n"
     ]
    },
    {
     "data": {
      "text/markdown": [
       "$ V(x)=(0.011656428 - 0.011656338s_{0} - 0.011656328c_{0} + 0.000000008theta_dot_{0} + 0.005828100s_{0} c_{0} - 0.000000017s_{0} theta_dot_{0} + 0.000000009c_{0} theta_dot_{0} + 0.002914071s_{0}^{2} + 0.002914067c_{0}^{2} + 0.000000073theta_dot_{0}^{2})$"
      ],
      "text/plain": [
       "<IPython.core.display.Markdown object>"
      ]
     },
     "metadata": {},
     "output_type": "display_data"
    },
    {
     "name": "stdout",
     "output_type": "stream",
     "text": [
      "Lambda solution status: 1\n",
      "V solution status: 1\n"
     ]
    },
    {
     "data": {
      "text/markdown": [
       "$ V(x)=(0.011656540 - 0.011654401s_{0} - 0.011658547c_{0} - 0.000000003theta_dot_{0} + 0.005828197s_{0} c_{0} + 0.000000000s_{0} theta_dot_{0} + 0.000000002c_{0} theta_dot_{0} + 0.002913069s_{0}^{2} + 0.002915141c_{0}^{2} + 0.000000040theta_dot_{0}^{2})$"
      ],
      "text/plain": [
       "<IPython.core.display.Markdown object>"
      ]
     },
     "metadata": {},
     "output_type": "display_data"
    },
    {
     "name": "stdout",
     "output_type": "stream",
     "text": [
      "Lambda solution status: 1\n",
      "V solution status: 1\n"
     ]
    },
    {
     "data": {
      "text/markdown": [
       "$ V(x)=(0.011656515 - 0.011655974s_{0} - 0.011656923c_{0} - 0.000000005theta_dot_{0} + 0.005828177s_{0} c_{0} - 0.000000012s_{0} theta_dot_{0} + 0.000000017c_{0} theta_dot_{0} + 0.002913865s_{0}^{2} + 0.002914340c_{0}^{2} + 0.000000073theta_dot_{0}^{2})$"
      ],
      "text/plain": [
       "<IPython.core.display.Markdown object>"
      ]
     },
     "metadata": {},
     "output_type": "display_data"
    },
    {
     "name": "stdout",
     "output_type": "stream",
     "text": [
      "Lambda solution status: 1\n",
      "V solution status: 1\n"
     ]
    },
    {
     "data": {
      "text/markdown": [
       "$ V(x)=(0.011656421 - 0.011656232s_{0} - 0.011656429c_{0} + 0.000000001theta_dot_{0} + 0.005828103s_{0} c_{0} - 0.000000004s_{0} theta_dot_{0} + 0.000000003c_{0} theta_dot_{0} + 0.002914019s_{0}^{2} + 0.002914118c_{0}^{2} + 0.000000065theta_dot_{0}^{2})$"
      ],
      "text/plain": [
       "<IPython.core.display.Markdown object>"
      ]
     },
     "metadata": {},
     "output_type": "display_data"
    },
    {
     "name": "stdout",
     "output_type": "stream",
     "text": [
      "Lambda solution status: 1\n",
      "V solution status: 1\n"
     ]
    },
    {
     "data": {
      "text/markdown": [
       "$ V(x)=(0.011656586 - 0.011656609s_{0} - 0.011656451c_{0} - 0.000000003theta_dot_{0} + 0.005828229s_{0} c_{0} + 0.000000005s_{0} theta_dot_{0} - 0.000000002c_{0} theta_dot_{0} + 0.002914161s_{0}^{2} + 0.002914082c_{0}^{2} + 0.000000047theta_dot_{0}^{2})$"
      ],
      "text/plain": [
       "<IPython.core.display.Markdown object>"
      ]
     },
     "metadata": {},
     "output_type": "display_data"
    },
    {
     "name": "stdout",
     "output_type": "stream",
     "text": [
      "Lambda solution status: 1\n",
      "V solution status: 1\n"
     ]
    },
    {
     "data": {
      "text/markdown": [
       "$ V(x)=(0.011656551 - 0.011656369s_{0} - 0.011656607c_{0} - 0.000000002theta_dot_{0} + 0.005828203s_{0} c_{0} + 0.000000005s_{0} theta_dot_{0} - 0.000000003c_{0} theta_dot_{0} + 0.002914051s_{0}^{2} + 0.002914170c_{0}^{2} + 0.000000052theta_dot_{0}^{2})$"
      ],
      "text/plain": [
       "<IPython.core.display.Markdown object>"
      ]
     },
     "metadata": {},
     "output_type": "display_data"
    },
    {
     "name": "stdout",
     "output_type": "stream",
     "text": [
      "Lambda solution status: 1\n",
      "V solution status: 1\n"
     ]
    },
    {
     "data": {
      "text/markdown": [
       "$ V(x)=(0.011656467 - 0.011656331s_{0} - 0.011656385c_{0} + 0.000000030theta_dot_{0} + 0.005828113s_{0} c_{0} - 0.000000011s_{0} theta_dot_{0} - 0.000000019c_{0} theta_dot_{0} + 0.002914054s_{0}^{2} + 0.002914081c_{0}^{2} + 0.000000063theta_dot_{0}^{2})$"
      ],
      "text/plain": [
       "<IPython.core.display.Markdown object>"
      ]
     },
     "metadata": {},
     "output_type": "display_data"
    },
    {
     "name": "stdout",
     "output_type": "stream",
     "text": [
      "Lambda solution status: 1\n",
      "V solution status: 1\n"
     ]
    },
    {
     "data": {
      "text/markdown": [
       "$ V(x)=(0.011656484 - 0.011656397s_{0} - 0.011656408c_{0} + 0.000000000theta_dot_{0} + 0.005828152s_{0} c_{0} + 0.000000002s_{0} theta_dot_{0} - 0.000000002c_{0} theta_dot_{0} + 0.002914082s_{0}^{2} + 0.002914088c_{0}^{2} + 0.000000058theta_dot_{0}^{2})$"
      ],
      "text/plain": [
       "<IPython.core.display.Markdown object>"
      ]
     },
     "metadata": {},
     "output_type": "display_data"
    },
    {
     "name": "stdout",
     "output_type": "stream",
     "text": [
      "Lambda solution status: 1\n",
      "V solution status: 1\n"
     ]
    },
    {
     "data": {
      "text/markdown": [
       "$ V(x)=(0.011656531 - 0.011657342s_{0} - 0.011655576c_{0} - 0.000000010theta_dot_{0} + 0.005828175s_{0} c_{0} - 0.000000011s_{0} theta_dot_{0} + 0.000000022c_{0} theta_dot_{0} + 0.002914548s_{0}^{2} + 0.002913665c_{0}^{2} + 0.000000065theta_dot_{0}^{2})$"
      ],
      "text/plain": [
       "<IPython.core.display.Markdown object>"
      ]
     },
     "metadata": {},
     "output_type": "display_data"
    },
    {
     "name": "stdout",
     "output_type": "stream",
     "text": [
      "Lambda solution status: 1\n",
      "V solution status: 1\n"
     ]
    },
    {
     "data": {
      "text/markdown": [
       "$ V(x)=(0.011656545 - 0.011656523s_{0} - 0.011656443c_{0} - 0.000000005theta_dot_{0} + 0.005828203s_{0} c_{0} + 0.000000004s_{0} theta_dot_{0} + 0.000000001c_{0} theta_dot_{0} + 0.002914129s_{0}^{2} + 0.002914089c_{0}^{2} + 0.000000059theta_dot_{0}^{2})$"
      ],
      "text/plain": [
       "<IPython.core.display.Markdown object>"
      ]
     },
     "metadata": {},
     "output_type": "display_data"
    },
    {
     "name": "stdout",
     "output_type": "stream",
     "text": [
      "Lambda solution status: 1\n",
      "V solution status: 1\n"
     ]
    },
    {
     "data": {
      "text/markdown": [
       "$ V(x)=(0.011656423 - 0.011656363s_{0} - 0.011656296c_{0} + 0.000000000theta_dot_{0} + 0.005828109s_{0} c_{0} - 0.000000001s_{0} theta_dot_{0} + 0.000000001c_{0} theta_dot_{0} + 0.002914080s_{0}^{2} + 0.002914047c_{0}^{2} + 0.000000068theta_dot_{0}^{2})$"
      ],
      "text/plain": [
       "<IPython.core.display.Markdown object>"
      ]
     },
     "metadata": {},
     "output_type": "display_data"
    },
    {
     "name": "stdout",
     "output_type": "stream",
     "text": [
      "Lambda solution status: 1\n",
      "V solution status: 1\n"
     ]
    },
    {
     "data": {
      "text/markdown": [
       "$ V(x)=(0.011656428 - 0.011656457s_{0} - 0.011656238c_{0} - 0.000000001theta_dot_{0} + 0.005828123s_{0} c_{0} + 0.000000002s_{0} theta_dot_{0} - 0.000000001c_{0} theta_dot_{0} + 0.002914127s_{0}^{2} + 0.002914018c_{0}^{2} + 0.000000081theta_dot_{0}^{2})$"
      ],
      "text/plain": [
       "<IPython.core.display.Markdown object>"
      ]
     },
     "metadata": {},
     "output_type": "display_data"
    },
    {
     "name": "stdout",
     "output_type": "stream",
     "text": [
      "Lambda solution status: 1\n",
      "V solution status: 1\n"
     ]
    },
    {
     "data": {
      "text/markdown": [
       "$ V(x)=(0.011656513 - 0.011656339s_{0} - 0.011656512c_{0} + 0.000000020theta_dot_{0} + 0.005828162s_{0} c_{0} - 0.000000015s_{0} theta_dot_{0} - 0.000000006c_{0} theta_dot_{0} + 0.002914045s_{0}^{2} + 0.002914132c_{0}^{2} + 0.000000070theta_dot_{0}^{2})$"
      ],
      "text/plain": [
       "<IPython.core.display.Markdown object>"
      ]
     },
     "metadata": {},
     "output_type": "display_data"
    },
    {
     "name": "stdout",
     "output_type": "stream",
     "text": [
      "Lambda solution status: 1\n",
      "V solution status: 1\n"
     ]
    },
    {
     "data": {
      "text/markdown": [
       "$ V(x)=(0.011656517 - 0.011656916s_{0} - 0.011655972c_{0} + 0.000000005theta_dot_{0} + 0.005828171s_{0} c_{0} - 0.000000005s_{0} theta_dot_{0} + 0.000000000c_{0} theta_dot_{0} + 0.002914337s_{0}^{2} + 0.002913864c_{0}^{2} + 0.000000054theta_dot_{0}^{2})$"
      ],
      "text/plain": [
       "<IPython.core.display.Markdown object>"
      ]
     },
     "metadata": {},
     "output_type": "display_data"
    },
    {
     "name": "stdout",
     "output_type": "stream",
     "text": [
      "Lambda solution status: 1\n",
      "V solution status: 1\n"
     ]
    },
    {
     "data": {
      "text/markdown": [
       "$ V(x)=(0.011656505 - 0.011656408s_{0} - 0.011656441c_{0} - 0.000000003theta_dot_{0} + 0.005828163s_{0} c_{0} + 0.000000001s_{0} theta_dot_{0} + 0.000000002c_{0} theta_dot_{0} + 0.002914082s_{0}^{2} + 0.002914099c_{0}^{2} + 0.000000064theta_dot_{0}^{2})$"
      ],
      "text/plain": [
       "<IPython.core.display.Markdown object>"
      ]
     },
     "metadata": {},
     "output_type": "display_data"
    },
    {
     "name": "stdout",
     "output_type": "stream",
     "text": [
      "Lambda solution status: 1\n",
      "V solution status: 1\n"
     ]
    },
    {
     "data": {
      "text/markdown": [
       "$ V(x)=(0.011656412 - 0.011656256s_{0} - 0.011656380c_{0} - 0.000000002theta_dot_{0} + 0.005828096s_{0} c_{0} + 0.000000001s_{0} theta_dot_{0} + 0.000000001c_{0} theta_dot_{0} + 0.002914033s_{0}^{2} + 0.002914095c_{0}^{2} + 0.000000069theta_dot_{0}^{2})$"
      ],
      "text/plain": [
       "<IPython.core.display.Markdown object>"
      ]
     },
     "metadata": {},
     "output_type": "display_data"
    },
    {
     "name": "stdout",
     "output_type": "stream",
     "text": [
      "Lambda solution status: 1\n",
      "V solution status: 1\n"
     ]
    },
    {
     "data": {
      "text/markdown": [
       "$ V(x)=(0.011656518 - 0.011656698s_{0} - 0.011656203c_{0} - 0.000000011theta_dot_{0} + 0.005828179s_{0} c_{0} + 0.000000013s_{0} theta_dot_{0} - 0.000000002c_{0} theta_dot_{0} + 0.002914226s_{0}^{2} + 0.002913978c_{0}^{2} + 0.000000056theta_dot_{0}^{2})$"
      ],
      "text/plain": [
       "<IPython.core.display.Markdown object>"
      ]
     },
     "metadata": {},
     "output_type": "display_data"
    },
    {
     "name": "stdout",
     "output_type": "stream",
     "text": [
      "Lambda solution status: 1\n",
      "V solution status: 1\n"
     ]
    },
    {
     "data": {
      "text/markdown": [
       "$ V(x)=(0.011656405 - 0.011656313s_{0} - 0.011656303c_{0} - 0.000000003theta_dot_{0} + 0.005828096s_{0} c_{0} + 0.000000000s_{0} theta_dot_{0} + 0.000000003c_{0} theta_dot_{0} + 0.002914060s_{0}^{2} + 0.002914055c_{0}^{2} + 0.000000065theta_dot_{0}^{2})$"
      ],
      "text/plain": [
       "<IPython.core.display.Markdown object>"
      ]
     },
     "metadata": {},
     "output_type": "display_data"
    },
    {
     "name": "stdout",
     "output_type": "stream",
     "text": [
      "Lambda solution status: 1\n",
      "V solution status: 1\n"
     ]
    },
    {
     "data": {
      "text/markdown": [
       "$ V(x)=(0.011656421 - 0.011656118s_{0} - 0.011656526c_{0} + 0.000000015theta_dot_{0} + 0.005828101s_{0} c_{0} - 0.000000003s_{0} theta_dot_{0} - 0.000000012c_{0} theta_dot_{0} + 0.002913959s_{0}^{2} + 0.002914163c_{0}^{2} + 0.000000072theta_dot_{0}^{2})$"
      ],
      "text/plain": [
       "<IPython.core.display.Markdown object>"
      ]
     },
     "metadata": {},
     "output_type": "display_data"
    },
    {
     "name": "stdout",
     "output_type": "stream",
     "text": [
      "Lambda solution status: 1\n",
      "V solution status: 1\n"
     ]
    },
    {
     "data": {
      "text/markdown": [
       "$ V(x)=(0.011656597 - 0.011656542s_{0} - 0.011656541c_{0} - 0.000000004theta_dot_{0} + 0.005828238s_{0} c_{0} + 0.000000002s_{0} theta_dot_{0} + 0.000000001c_{0} theta_dot_{0} + 0.002914125s_{0}^{2} + 0.002914124c_{0}^{2} + 0.000000048theta_dot_{0}^{2})$"
      ],
      "text/plain": [
       "<IPython.core.display.Markdown object>"
      ]
     },
     "metadata": {},
     "output_type": "display_data"
    },
    {
     "name": "stdout",
     "output_type": "stream",
     "text": [
      "Lambda solution status: 1\n",
      "V solution status: 1\n"
     ]
    },
    {
     "data": {
      "text/markdown": [
       "$ V(x)=(0.011656468 - 0.011656517s_{0} - 0.011656249c_{0} - 0.000000001theta_dot_{0} + 0.005828137s_{0} c_{0} + 0.000000005s_{0} theta_dot_{0} - 0.000000004c_{0} theta_dot_{0} + 0.002914147s_{0}^{2} + 0.002914013c_{0}^{2} + 0.000000060theta_dot_{0}^{2})$"
      ],
      "text/plain": [
       "<IPython.core.display.Markdown object>"
      ]
     },
     "metadata": {},
     "output_type": "display_data"
    },
    {
     "name": "stdout",
     "output_type": "stream",
     "text": [
      "Lambda solution status: 1\n",
      "V solution status: 1\n"
     ]
    },
    {
     "data": {
      "text/markdown": [
       "$ V(x)=(0.011656397 - 0.011656188s_{0} - 0.011656411c_{0} + 0.000000000theta_dot_{0} + 0.005828085s_{0} c_{0} - 0.000000004s_{0} theta_dot_{0} + 0.000000004c_{0} theta_dot_{0} + 0.002914003s_{0}^{2} + 0.002914114c_{0}^{2} + 0.000000061theta_dot_{0}^{2})$"
      ],
      "text/plain": [
       "<IPython.core.display.Markdown object>"
      ]
     },
     "metadata": {},
     "output_type": "display_data"
    },
    {
     "name": "stdout",
     "output_type": "stream",
     "text": [
      "Lambda solution status: 1\n",
      "V solution status: 1\n"
     ]
    },
    {
     "data": {
      "text/markdown": [
       "$ V(x)=(0.011656395 - 0.011656420s_{0} - 0.011656178c_{0} - 0.000000001theta_dot_{0} + 0.005828086s_{0} c_{0} - 0.000000006s_{0} theta_dot_{0} + 0.000000007c_{0} theta_dot_{0} + 0.002914119s_{0}^{2} + 0.002913998c_{0}^{2} + 0.000000059theta_dot_{0}^{2})$"
      ],
      "text/plain": [
       "<IPython.core.display.Markdown object>"
      ]
     },
     "metadata": {},
     "output_type": "display_data"
    },
    {
     "name": "stdout",
     "output_type": "stream",
     "text": [
      "Lambda solution status: 1\n",
      "V solution status: 1\n"
     ]
    },
    {
     "data": {
      "text/markdown": [
       "$ V(x)=(0.011656553 - 0.011656815s_{0} - 0.011656164c_{0} - 0.000000003theta_dot_{0} + 0.005828201s_{0} c_{0} - 0.000000001s_{0} theta_dot_{0} + 0.000000004c_{0} theta_dot_{0} + 0.002914275s_{0}^{2} + 0.002913950c_{0}^{2} + 0.000000044theta_dot_{0}^{2})$"
      ],
      "text/plain": [
       "<IPython.core.display.Markdown object>"
      ]
     },
     "metadata": {},
     "output_type": "display_data"
    },
    {
     "name": "stdout",
     "output_type": "stream",
     "text": [
      "Lambda solution status: 1\n",
      "V solution status: 1\n"
     ]
    },
    {
     "data": {
      "text/markdown": [
       "$ V(x)=(0.011656471 - 0.011656715s_{0} - 0.011656052c_{0} + 0.000000010theta_dot_{0} + 0.005828138s_{0} c_{0} + 0.000000003s_{0} theta_dot_{0} - 0.000000013c_{0} theta_dot_{0} + 0.002914244s_{0}^{2} + 0.002913913c_{0}^{2} + 0.000000054theta_dot_{0}^{2})$"
      ],
      "text/plain": [
       "<IPython.core.display.Markdown object>"
      ]
     },
     "metadata": {},
     "output_type": "display_data"
    },
    {
     "name": "stdout",
     "output_type": "stream",
     "text": [
      "Lambda solution status: 1\n",
      "V solution status: 1\n"
     ]
    },
    {
     "data": {
      "text/markdown": [
       "$ V(x)=(0.011656449 - 0.011656529s_{0} - 0.011656196c_{0} + 0.000000003theta_dot_{0} + 0.005828125s_{0} c_{0} + 0.000000004s_{0} theta_dot_{0} - 0.000000007c_{0} theta_dot_{0} + 0.002914158s_{0}^{2} + 0.002913992c_{0}^{2} + 0.000000058theta_dot_{0}^{2})$"
      ],
      "text/plain": [
       "<IPython.core.display.Markdown object>"
      ]
     },
     "metadata": {},
     "output_type": "display_data"
    },
    {
     "name": "stdout",
     "output_type": "stream",
     "text": [
      "Lambda solution status: 1\n",
      "V solution status: 1\n"
     ]
    },
    {
     "data": {
      "text/markdown": [
       "$ V(x)=(0.011656570 - 0.011656028s_{0} - 0.011656926c_{0} + 0.000000058theta_dot_{0} + 0.005828181s_{0} c_{0} - 0.000000030s_{0} theta_dot_{0} - 0.000000028c_{0} theta_dot_{0} + 0.002913877s_{0}^{2} + 0.002914326c_{0}^{2} + 0.000000038theta_dot_{0}^{2})$"
      ],
      "text/plain": [
       "<IPython.core.display.Markdown object>"
      ]
     },
     "metadata": {},
     "output_type": "display_data"
    },
    {
     "name": "stdout",
     "output_type": "stream",
     "text": [
      "Lambda solution status: 1\n",
      "V solution status: 1\n"
     ]
    },
    {
     "data": {
      "text/markdown": [
       "$ V(x)=(0.011656596 - 0.011656648s_{0} - 0.011656435c_{0} - 0.000000004theta_dot_{0} + 0.005828236s_{0} c_{0} + 0.000000005s_{0} theta_dot_{0} - 0.000000000c_{0} theta_dot_{0} + 0.002914179s_{0}^{2} + 0.002914072c_{0}^{2} + 0.000000041theta_dot_{0}^{2})$"
      ],
      "text/plain": [
       "<IPython.core.display.Markdown object>"
      ]
     },
     "metadata": {},
     "output_type": "display_data"
    },
    {
     "name": "stdout",
     "output_type": "stream",
     "text": [
      "Lambda solution status: 1\n",
      "V solution status: 1\n"
     ]
    },
    {
     "data": {
      "text/markdown": [
       "$ V(x)=(0.011656322 - 0.011655761s_{0} - 0.011656653c_{0} - 0.000000002theta_dot_{0} + 0.005828031s_{0} c_{0} + 0.000000018s_{0} theta_dot_{0} - 0.000000015c_{0} theta_dot_{0} + 0.002913808s_{0}^{2} + 0.002914254c_{0}^{2} + 0.000000084theta_dot_{0}^{2})$"
      ],
      "text/plain": [
       "<IPython.core.display.Markdown object>"
      ]
     },
     "metadata": {},
     "output_type": "display_data"
    },
    {
     "name": "stdout",
     "output_type": "stream",
     "text": [
      "Lambda solution status: 1\n",
      "V solution status: 1\n"
     ]
    },
    {
     "data": {
      "text/markdown": [
       "$ V(x)=(0.011656232 - 0.011656137s_{0} - 0.011656083c_{0} - 0.000000002theta_dot_{0} + 0.005827986s_{0} c_{0} + 0.000000003s_{0} theta_dot_{0} - 0.000000001c_{0} theta_dot_{0} + 0.002914015s_{0}^{2} + 0.002913988c_{0}^{2} + 0.000000064theta_dot_{0}^{2})$"
      ],
      "text/plain": [
       "<IPython.core.display.Markdown object>"
      ]
     },
     "metadata": {},
     "output_type": "display_data"
    },
    {
     "name": "stdout",
     "output_type": "stream",
     "text": [
      "Lambda solution status: 1\n",
      "V solution status: 1\n"
     ]
    },
    {
     "data": {
      "text/markdown": [
       "$ V(x)=(0.011656506 - 0.011656422s_{0} - 0.011656444c_{0} + 0.000000006theta_dot_{0} + 0.005828169s_{0} c_{0} - 0.000000004s_{0} theta_dot_{0} - 0.000000002c_{0} theta_dot_{0} + 0.002914090s_{0}^{2} + 0.002914101c_{0}^{2} + 0.000000055theta_dot_{0}^{2})$"
      ],
      "text/plain": [
       "<IPython.core.display.Markdown object>"
      ]
     },
     "metadata": {},
     "output_type": "display_data"
    },
    {
     "name": "stdout",
     "output_type": "stream",
     "text": [
      "Lambda solution status: 1\n",
      "V solution status: 1\n"
     ]
    },
    {
     "data": {
      "text/markdown": [
       "$ V(x)=(0.011656540 - 0.011656503s_{0} - 0.011656434c_{0} + 0.000000011theta_dot_{0} + 0.005828192s_{0} c_{0} - 0.000000003s_{0} theta_dot_{0} - 0.000000008c_{0} theta_dot_{0} + 0.002914120s_{0}^{2} + 0.002914085c_{0}^{2} + 0.000000048theta_dot_{0}^{2})$"
      ],
      "text/plain": [
       "<IPython.core.display.Markdown object>"
      ]
     },
     "metadata": {},
     "output_type": "display_data"
    },
    {
     "name": "stdout",
     "output_type": "stream",
     "text": [
      "Lambda solution status: 1\n",
      "V solution status: 1\n"
     ]
    },
    {
     "data": {
      "text/markdown": [
       "$ V(x)=(0.011656527 - 0.011656652s_{0} - 0.011656238c_{0} + 0.000000006theta_dot_{0} + 0.005828172s_{0} c_{0} - 0.000000004s_{0} theta_dot_{0} - 0.000000001c_{0} theta_dot_{0} + 0.002914199s_{0}^{2} + 0.002913992c_{0}^{2} + 0.000000044theta_dot_{0}^{2})$"
      ],
      "text/plain": [
       "<IPython.core.display.Markdown object>"
      ]
     },
     "metadata": {},
     "output_type": "display_data"
    },
    {
     "name": "stdout",
     "output_type": "stream",
     "text": [
      "Lambda solution status: 1\n",
      "V solution status: 1\n"
     ]
    },
    {
     "data": {
      "text/markdown": [
       "$ V(x)=(0.011656562 - 0.011656992s_{0} - 0.011656004c_{0} - 0.000000001theta_dot_{0} + 0.005828201s_{0} c_{0} - 0.000000004s_{0} theta_dot_{0} + 0.000000005c_{0} theta_dot_{0} + 0.002914363s_{0}^{2} + 0.002913869c_{0}^{2} + 0.000000043theta_dot_{0}^{2})$"
      ],
      "text/plain": [
       "<IPython.core.display.Markdown object>"
      ]
     },
     "metadata": {},
     "output_type": "display_data"
    },
    {
     "name": "stdout",
     "output_type": "stream",
     "text": [
      "Lambda solution status: 1\n",
      "V solution status: 1\n"
     ]
    },
    {
     "data": {
      "text/markdown": [
       "$ V(x)=(0.011656587 - 0.011656633s_{0} - 0.011656409c_{0} + 0.000000013theta_dot_{0} + 0.005828221s_{0} c_{0} - 0.000000009s_{0} theta_dot_{0} - 0.000000004c_{0} theta_dot_{0} + 0.002914173s_{0}^{2} + 0.002914061c_{0}^{2} + 0.000000035theta_dot_{0}^{2})$"
      ],
      "text/plain": [
       "<IPython.core.display.Markdown object>"
      ]
     },
     "metadata": {},
     "output_type": "display_data"
    },
    {
     "name": "stdout",
     "output_type": "stream",
     "text": [
      "Lambda solution status: 1\n",
      "V solution status: 1\n"
     ]
    },
    {
     "data": {
      "text/markdown": [
       "$ V(x)=(0.011656455 - 0.011656366s_{0} - 0.011656372c_{0} - 0.000000008theta_dot_{0} + 0.005828129s_{0} c_{0} + 0.000000005s_{0} theta_dot_{0} + 0.000000003c_{0} theta_dot_{0} + 0.002914075s_{0}^{2} + 0.002914079c_{0}^{2} + 0.000000061theta_dot_{0}^{2})$"
      ],
      "text/plain": [
       "<IPython.core.display.Markdown object>"
      ]
     },
     "metadata": {},
     "output_type": "display_data"
    },
    {
     "name": "stdout",
     "output_type": "stream",
     "text": [
      "Lambda solution status: 1\n",
      "V solution status: 1\n"
     ]
    },
    {
     "data": {
      "text/markdown": [
       "$ V(x)=(0.011656495 - 0.011656506s_{0} - 0.011656319c_{0} + 0.000000005theta_dot_{0} + 0.005828156s_{0} c_{0} + 0.000000000s_{0} theta_dot_{0} - 0.000000005c_{0} theta_dot_{0} + 0.002914134s_{0}^{2} + 0.002914040c_{0}^{2} + 0.000000052theta_dot_{0}^{2})$"
      ],
      "text/plain": [
       "<IPython.core.display.Markdown object>"
      ]
     },
     "metadata": {},
     "output_type": "display_data"
    },
    {
     "name": "stdout",
     "output_type": "stream",
     "text": [
      "Lambda solution status: 1\n",
      "V solution status: 1\n"
     ]
    },
    {
     "data": {
      "text/markdown": [
       "$ V(x)=(0.011656575 - 0.011656610s_{0} - 0.011656364c_{0} + 0.000000048theta_dot_{0} + 0.005828195s_{0} c_{0} - 0.000000025s_{0} theta_dot_{0} - 0.000000023c_{0} theta_dot_{0} + 0.002914163s_{0}^{2} + 0.002914041c_{0}^{2} + 0.000000034theta_dot_{0}^{2})$"
      ],
      "text/plain": [
       "<IPython.core.display.Markdown object>"
      ]
     },
     "metadata": {},
     "output_type": "display_data"
    },
    {
     "name": "stdout",
     "output_type": "stream",
     "text": [
      "Lambda solution status: 1\n",
      "V solution status: 1\n"
     ]
    },
    {
     "data": {
      "text/markdown": [
       "$ V(x)=(0.011656619 - 0.011656710s_{0} - 0.011656408c_{0} + 0.000000021theta_dot_{0} + 0.005828244s_{0} c_{0} - 0.000000008s_{0} theta_dot_{0} - 0.000000012c_{0} theta_dot_{0} + 0.002914202s_{0}^{2} + 0.002914051c_{0}^{2} + 0.000000031theta_dot_{0}^{2})$"
      ],
      "text/plain": [
       "<IPython.core.display.Markdown object>"
      ]
     },
     "metadata": {},
     "output_type": "display_data"
    },
    {
     "name": "stdout",
     "output_type": "stream",
     "text": [
      "Lambda solution status: 1\n",
      "V solution status: 1\n"
     ]
    },
    {
     "data": {
      "text/markdown": [
       "$ V(x)=(0.011656572 - 0.011656755s_{0} - 0.011656271c_{0} + 0.000000000theta_dot_{0} + 0.005828217s_{0} c_{0} - 0.000000004s_{0} theta_dot_{0} + 0.000000004c_{0} theta_dot_{0} + 0.002914240s_{0}^{2} + 0.002913998c_{0}^{2} + 0.000000043theta_dot_{0}^{2})$"
      ],
      "text/plain": [
       "<IPython.core.display.Markdown object>"
      ]
     },
     "metadata": {},
     "output_type": "display_data"
    },
    {
     "name": "stdout",
     "output_type": "stream",
     "text": [
      "Lambda solution status: 1\n",
      "V solution status: 1\n"
     ]
    },
    {
     "data": {
      "text/markdown": [
       "$ V(x)=(0.011656412 - 0.011656318s_{0} - 0.011656320c_{0} - 0.000000002theta_dot_{0} + 0.005828102s_{0} c_{0} + 0.000000003s_{0} theta_dot_{0} - 0.000000001c_{0} theta_dot_{0} + 0.002914061s_{0}^{2} + 0.002914062c_{0}^{2} + 0.000000064theta_dot_{0}^{2})$"
      ],
      "text/plain": [
       "<IPython.core.display.Markdown object>"
      ]
     },
     "metadata": {},
     "output_type": "display_data"
    },
    {
     "name": "stdout",
     "output_type": "stream",
     "text": [
      "Lambda solution status: 1\n",
      "V solution status: 1\n"
     ]
    },
    {
     "data": {
      "text/markdown": [
       "$ V(x)=(0.011656437 - 0.011656224s_{0} - 0.011656473c_{0} - 0.000000009theta_dot_{0} + 0.005828121s_{0} c_{0} + 0.000000008s_{0} theta_dot_{0} + 0.000000001c_{0} theta_dot_{0} + 0.002914008s_{0}^{2} + 0.002914133c_{0}^{2} + 0.000000066theta_dot_{0}^{2})$"
      ],
      "text/plain": [
       "<IPython.core.display.Markdown object>"
      ]
     },
     "metadata": {},
     "output_type": "display_data"
    },
    {
     "name": "stdout",
     "output_type": "stream",
     "text": [
      "Lambda solution status: 1\n",
      "V solution status: 1\n"
     ]
    },
    {
     "data": {
      "text/markdown": [
       "$ V(x)=(0.011656571 - 0.011656535s_{0} - 0.011656481c_{0} + 0.000000000theta_dot_{0} + 0.005828216s_{0} c_{0} + 0.000000001s_{0} theta_dot_{0} - 0.000000001c_{0} theta_dot_{0} + 0.002914128s_{0}^{2} + 0.002914101c_{0}^{2} + 0.000000050theta_dot_{0}^{2})$"
      ],
      "text/plain": [
       "<IPython.core.display.Markdown object>"
      ]
     },
     "metadata": {},
     "output_type": "display_data"
    },
    {
     "name": "stdout",
     "output_type": "stream",
     "text": [
      "Lambda solution status: 1\n",
      "V solution status: 1\n"
     ]
    },
    {
     "data": {
      "text/markdown": [
       "$ V(x)=(0.011656495 - 0.011656871s_{0} - 0.011655966c_{0} - 0.000000001theta_dot_{0} + 0.005828154s_{0} c_{0} - 0.000000004s_{0} theta_dot_{0} + 0.000000006c_{0} theta_dot_{0} + 0.002914320s_{0}^{2} + 0.002913868c_{0}^{2} + 0.000000052theta_dot_{0}^{2})$"
      ],
      "text/plain": [
       "<IPython.core.display.Markdown object>"
      ]
     },
     "metadata": {},
     "output_type": "display_data"
    },
    {
     "name": "stdout",
     "output_type": "stream",
     "text": [
      "Lambda solution status: 1\n",
      "V solution status: 1\n"
     ]
    },
    {
     "data": {
      "text/markdown": [
       "$ V(x)=(0.011656447 - 0.011656416s_{0} - 0.011656287c_{0} + 0.000000009theta_dot_{0} + 0.005828120s_{0} c_{0} - 0.000000007s_{0} theta_dot_{0} - 0.000000002c_{0} theta_dot_{0} + 0.002914100s_{0}^{2} + 0.002914036c_{0}^{2} + 0.000000053theta_dot_{0}^{2})$"
      ],
      "text/plain": [
       "<IPython.core.display.Markdown object>"
      ]
     },
     "metadata": {},
     "output_type": "display_data"
    },
    {
     "name": "stdout",
     "output_type": "stream",
     "text": [
      "Lambda solution status: 1\n",
      "V solution status: 1\n"
     ]
    },
    {
     "data": {
      "text/markdown": [
       "$ V(x)=(0.011656423 - 0.011656290s_{0} - 0.011656362c_{0} - 0.000000003theta_dot_{0} + 0.005828105s_{0} c_{0} - 0.000000001s_{0} theta_dot_{0} + 0.000000004c_{0} theta_dot_{0} + 0.002914044s_{0}^{2} + 0.002914080c_{0}^{2} + 0.000000061theta_dot_{0}^{2})$"
      ],
      "text/plain": [
       "<IPython.core.display.Markdown object>"
      ]
     },
     "metadata": {},
     "output_type": "display_data"
    },
    {
     "name": "stdout",
     "output_type": "stream",
     "text": [
      "Lambda solution status: 1\n",
      "V solution status: 1\n"
     ]
    },
    {
     "data": {
      "text/markdown": [
       "$ V(x)=(0.011656586 - 0.011656532s_{0} - 0.011656496c_{0} + 0.000000002theta_dot_{0} + 0.005828216s_{0} c_{0} - 0.000000001s_{0} theta_dot_{0} - 0.000000001c_{0} theta_dot_{0} + 0.002914122s_{0}^{2} + 0.002914104c_{0}^{2} + 0.000000039theta_dot_{0}^{2})$"
      ],
      "text/plain": [
       "<IPython.core.display.Markdown object>"
      ]
     },
     "metadata": {},
     "output_type": "display_data"
    },
    {
     "name": "stdout",
     "output_type": "stream",
     "text": [
      "Lambda solution status: 1\n",
      "V solution status: 1\n"
     ]
    },
    {
     "data": {
      "text/markdown": [
       "$ V(x)=(0.011656611 - 0.011656573s_{0} - 0.011656541c_{0} - 0.000000000theta_dot_{0} + 0.005828246s_{0} c_{0} + 0.000000000s_{0} theta_dot_{0} + 0.000000000c_{0} theta_dot_{0} + 0.002914136s_{0}^{2} + 0.002914120c_{0}^{2} + 0.000000037theta_dot_{0}^{2})$"
      ],
      "text/plain": [
       "<IPython.core.display.Markdown object>"
      ]
     },
     "metadata": {},
     "output_type": "display_data"
    },
    {
     "name": "stdout",
     "output_type": "stream",
     "text": [
      "Lambda solution status: 1\n",
      "V solution status: 1\n"
     ]
    },
    {
     "data": {
      "text/markdown": [
       "$ V(x)=(0.011656471 - 0.011656662s_{0} - 0.011656122c_{0} - 0.000000004theta_dot_{0} + 0.005828139s_{0} c_{0} - 0.000000009s_{0} theta_dot_{0} + 0.000000012c_{0} theta_dot_{0} + 0.002914222s_{0}^{2} + 0.002913953c_{0}^{2} + 0.000000052theta_dot_{0}^{2})$"
      ],
      "text/plain": [
       "<IPython.core.display.Markdown object>"
      ]
     },
     "metadata": {},
     "output_type": "display_data"
    },
    {
     "name": "stdout",
     "output_type": "stream",
     "text": [
      "Lambda solution status: 1\n",
      "V solution status: 1\n"
     ]
    },
    {
     "data": {
      "text/markdown": [
       "$ V(x)=(0.011656617 - 0.011656724s_{0} - 0.011656396c_{0} + 0.000000007theta_dot_{0} + 0.005828245s_{0} c_{0} + 0.000000002s_{0} theta_dot_{0} - 0.000000009c_{0} theta_dot_{0} + 0.002914211s_{0}^{2} + 0.002914047c_{0}^{2} + 0.000000041theta_dot_{0}^{2})$"
      ],
      "text/plain": [
       "<IPython.core.display.Markdown object>"
      ]
     },
     "metadata": {},
     "output_type": "display_data"
    },
    {
     "name": "stdout",
     "output_type": "stream",
     "text": [
      "Lambda solution status: 1\n",
      "V solution status: 1\n"
     ]
    },
    {
     "data": {
      "text/markdown": [
       "$ V(x)=(0.011656443 - 0.011656501s_{0} - 0.011656211c_{0} - 0.000000000theta_dot_{0} + 0.005828122s_{0} c_{0} + 0.000000005s_{0} theta_dot_{0} - 0.000000005c_{0} theta_dot_{0} + 0.002914146s_{0}^{2} + 0.002914001c_{0}^{2} + 0.000000061theta_dot_{0}^{2})$"
      ],
      "text/plain": [
       "<IPython.core.display.Markdown object>"
      ]
     },
     "metadata": {},
     "output_type": "display_data"
    },
    {
     "name": "stdout",
     "output_type": "stream",
     "text": [
      "Lambda solution status: 1\n",
      "V solution status: 1\n"
     ]
    },
    {
     "data": {
      "text/markdown": [
       "$ V(x)=(0.011656467 - 0.011656160s_{0} - 0.011656615c_{0} + 0.000000001theta_dot_{0} + 0.005828141s_{0} c_{0} - 0.000000005s_{0} theta_dot_{0} + 0.000000004c_{0} theta_dot_{0} + 0.002913970s_{0}^{2} + 0.002914197c_{0}^{2} + 0.000000065theta_dot_{0}^{2})$"
      ],
      "text/plain": [
       "<IPython.core.display.Markdown object>"
      ]
     },
     "metadata": {},
     "output_type": "display_data"
    },
    {
     "name": "stdout",
     "output_type": "stream",
     "text": [
      "Lambda solution status: 1\n",
      "V solution status: 1\n"
     ]
    },
    {
     "data": {
      "text/markdown": [
       "$ V(x)=(0.011656448 - 0.011656241s_{0} - 0.011656484c_{0} - 0.000000005theta_dot_{0} + 0.005828127s_{0} c_{0} - 0.000000002s_{0} theta_dot_{0} + 0.000000007c_{0} theta_dot_{0} + 0.002914014s_{0}^{2} + 0.002914135c_{0}^{2} + 0.000000063theta_dot_{0}^{2})$"
      ],
      "text/plain": [
       "<IPython.core.display.Markdown object>"
      ]
     },
     "metadata": {},
     "output_type": "display_data"
    },
    {
     "name": "stdout",
     "output_type": "stream",
     "text": [
      "Lambda solution status: 1\n",
      "V solution status: 1\n"
     ]
    },
    {
     "data": {
      "text/markdown": [
       "$ V(x)=(0.011656469 - 0.011656500s_{0} - 0.011656207c_{0} + 0.000000055theta_dot_{0} + 0.005828111s_{0} c_{0} - 0.000000024s_{0} theta_dot_{0} - 0.000000030c_{0} theta_dot_{0} + 0.002914137s_{0}^{2} + 0.002913991c_{0}^{2} + 0.000000043theta_dot_{0}^{2})$"
      ],
      "text/plain": [
       "<IPython.core.display.Markdown object>"
      ]
     },
     "metadata": {},
     "output_type": "display_data"
    },
    {
     "name": "stdout",
     "output_type": "stream",
     "text": [
      "Lambda solution status: 1\n",
      "V solution status: 1\n"
     ]
    },
    {
     "data": {
      "text/markdown": [
       "$ V(x)=(0.011656469 - 0.011656186s_{0} - 0.011656532c_{0} + 0.000000046theta_dot_{0} + 0.005828114s_{0} c_{0} - 0.000000023s_{0} theta_dot_{0} - 0.000000023c_{0} theta_dot_{0} + 0.002913981s_{0}^{2} + 0.002914154c_{0}^{2} + 0.000000043theta_dot_{0}^{2})$"
      ],
      "text/plain": [
       "<IPython.core.display.Markdown object>"
      ]
     },
     "metadata": {},
     "output_type": "display_data"
    },
    {
     "name": "stdout",
     "output_type": "stream",
     "text": [
      "Lambda solution status: 1\n",
      "V solution status: 1\n"
     ]
    },
    {
     "data": {
      "text/markdown": [
       "$ V(x)=(0.011656656 - 0.011655870s_{0} - 0.011657311c_{0} + 0.000000045theta_dot_{0} + 0.005828258s_{0} c_{0} - 0.000000025s_{0} theta_dot_{0} - 0.000000020c_{0} theta_dot_{0} + 0.002913774s_{0}^{2} + 0.002914494c_{0}^{2} + 0.000000028theta_dot_{0}^{2})$"
      ],
      "text/plain": [
       "<IPython.core.display.Markdown object>"
      ]
     },
     "metadata": {},
     "output_type": "display_data"
    },
    {
     "name": "stdout",
     "output_type": "stream",
     "text": [
      "Lambda solution status: 1\n",
      "V solution status: 1\n"
     ]
    },
    {
     "data": {
      "text/markdown": [
       "$ V(x)=(0.011656580 - 0.011656196s_{0} - 0.011656849c_{0} - 0.000000002theta_dot_{0} + 0.005828224s_{0} c_{0} + 0.000000002s_{0} theta_dot_{0} + 0.000000001c_{0} theta_dot_{0} + 0.002913957s_{0}^{2} + 0.002914284c_{0}^{2} + 0.000000049theta_dot_{0}^{2})$"
      ],
      "text/plain": [
       "<IPython.core.display.Markdown object>"
      ]
     },
     "metadata": {},
     "output_type": "display_data"
    },
    {
     "name": "stdout",
     "output_type": "stream",
     "text": [
      "Lambda solution status: 1\n",
      "V solution status: 1\n"
     ]
    },
    {
     "data": {
      "text/markdown": [
       "$ V(x)=(0.011656460 - 0.011656542s_{0} - 0.011656211c_{0} - 0.000000002theta_dot_{0} + 0.005828138s_{0} c_{0} - 0.000000002s_{0} theta_dot_{0} + 0.000000004c_{0} theta_dot_{0} + 0.002914161s_{0}^{2} + 0.002913995c_{0}^{2} + 0.000000061theta_dot_{0}^{2})$"
      ],
      "text/plain": [
       "<IPython.core.display.Markdown object>"
      ]
     },
     "metadata": {},
     "output_type": "display_data"
    },
    {
     "name": "stdout",
     "output_type": "stream",
     "text": [
      "Lambda solution status: 1\n",
      "V solution status: 1\n"
     ]
    },
    {
     "data": {
      "text/markdown": [
       "$ V(x)=(0.011656454 - 0.011656290s_{0} - 0.011656440c_{0} + 0.000000003theta_dot_{0} + 0.005828125s_{0} c_{0} + 0.000000002s_{0} theta_dot_{0} - 0.000000005c_{0} theta_dot_{0} + 0.002914038s_{0}^{2} + 0.002914113c_{0}^{2} + 0.000000055theta_dot_{0}^{2})$"
      ],
      "text/plain": [
       "<IPython.core.display.Markdown object>"
      ]
     },
     "metadata": {},
     "output_type": "display_data"
    },
    {
     "name": "stdout",
     "output_type": "stream",
     "text": [
      "Lambda solution status: 1\n",
      "V solution status: 1\n"
     ]
    },
    {
     "data": {
      "text/markdown": [
       "$ V(x)=(0.011656610 - 0.011656458s_{0} - 0.011656606c_{0} + 0.000000048theta_dot_{0} + 0.005828223s_{0} c_{0} - 0.000000024s_{0} theta_dot_{0} - 0.000000024c_{0} theta_dot_{0} + 0.002914078s_{0}^{2} + 0.002914153c_{0}^{2} + 0.000000039theta_dot_{0}^{2})$"
      ],
      "text/plain": [
       "<IPython.core.display.Markdown object>"
      ]
     },
     "metadata": {},
     "output_type": "display_data"
    },
    {
     "name": "stdout",
     "output_type": "stream",
     "text": [
      "Lambda solution status: 1\n",
      "V solution status: 1\n"
     ]
    },
    {
     "data": {
      "text/markdown": [
       "$ V(x)=(0.011656445 - 0.011656042s_{0} - 0.011656664c_{0} + 0.000000003theta_dot_{0} + 0.005828119s_{0} c_{0} - 0.000000010s_{0} theta_dot_{0} + 0.000000007c_{0} theta_dot_{0} + 0.002913916s_{0}^{2} + 0.002914227c_{0}^{2} + 0.000000053theta_dot_{0}^{2})$"
      ],
      "text/plain": [
       "<IPython.core.display.Markdown object>"
      ]
     },
     "metadata": {},
     "output_type": "display_data"
    },
    {
     "name": "stdout",
     "output_type": "stream",
     "text": [
      "Lambda solution status: 1\n",
      "V solution status: 1\n"
     ]
    },
    {
     "data": {
      "text/markdown": [
       "$ V(x)=(0.011656450 - 0.011656293s_{0} - 0.011656436c_{0} - 0.000000002theta_dot_{0} + 0.005828124s_{0} c_{0} + 0.000000009s_{0} theta_dot_{0} - 0.000000007c_{0} theta_dot_{0} + 0.002914042s_{0}^{2} + 0.002914114c_{0}^{2} + 0.000000059theta_dot_{0}^{2})$"
      ],
      "text/plain": [
       "<IPython.core.display.Markdown object>"
      ]
     },
     "metadata": {},
     "output_type": "display_data"
    },
    {
     "name": "stdout",
     "output_type": "stream",
     "text": [
      "Lambda solution status: 1\n",
      "V solution status: 1\n"
     ]
    },
    {
     "data": {
      "text/markdown": [
       "$ V(x)=(0.011656479 - 0.011656369s_{0} - 0.011656427c_{0} - 0.000000012theta_dot_{0} + 0.005828150s_{0} c_{0} + 0.000000007s_{0} theta_dot_{0} + 0.000000005c_{0} theta_dot_{0} + 0.002914069s_{0}^{2} + 0.002914098c_{0}^{2} + 0.000000059theta_dot_{0}^{2})$"
      ],
      "text/plain": [
       "<IPython.core.display.Markdown object>"
      ]
     },
     "metadata": {},
     "output_type": "display_data"
    },
    {
     "name": "stdout",
     "output_type": "stream",
     "text": [
      "Lambda solution status: 1\n",
      "V solution status: 1\n"
     ]
    },
    {
     "data": {
      "text/markdown": [
       "$ V(x)=(0.011656537 - 0.011656670s_{0} - 0.011656271c_{0} - 0.000000002theta_dot_{0} + 0.005828193s_{0} c_{0} + 0.000000006s_{0} theta_dot_{0} - 0.000000005c_{0} theta_dot_{0} + 0.002914205s_{0}^{2} + 0.002914005c_{0}^{2} + 0.000000053theta_dot_{0}^{2})$"
      ],
      "text/plain": [
       "<IPython.core.display.Markdown object>"
      ]
     },
     "metadata": {},
     "output_type": "display_data"
    },
    {
     "name": "stdout",
     "output_type": "stream",
     "text": [
      "Lambda solution status: 1\n",
      "V solution status: 1\n"
     ]
    },
    {
     "data": {
      "text/markdown": [
       "$ V(x)=(0.011656484 - 0.011656754s_{0} - 0.011656041c_{0} + 0.000000002theta_dot_{0} + 0.005828143s_{0} c_{0} - 0.000000008s_{0} theta_dot_{0} + 0.000000006c_{0} theta_dot_{0} + 0.002914262s_{0}^{2} + 0.002913906c_{0}^{2} + 0.000000048theta_dot_{0}^{2})$"
      ],
      "text/plain": [
       "<IPython.core.display.Markdown object>"
      ]
     },
     "metadata": {},
     "output_type": "display_data"
    },
    {
     "name": "stdout",
     "output_type": "stream",
     "text": [
      "Lambda solution status: 1\n",
      "V solution status: 1\n"
     ]
    },
    {
     "data": {
      "text/markdown": [
       "$ V(x)=(0.011656554 - 0.011656497s_{0} - 0.011656481c_{0} + 0.000000001theta_dot_{0} + 0.005828205s_{0} c_{0} + 0.000000000s_{0} theta_dot_{0} - 0.000000001c_{0} theta_dot_{0} + 0.002914113s_{0}^{2} + 0.002914105c_{0}^{2} + 0.000000048theta_dot_{0}^{2})$"
      ],
      "text/plain": [
       "<IPython.core.display.Markdown object>"
      ]
     },
     "metadata": {},
     "output_type": "display_data"
    },
    {
     "name": "stdout",
     "output_type": "stream",
     "text": [
      "Lambda solution status: 1\n",
      "V solution status: 1\n"
     ]
    },
    {
     "data": {
      "text/markdown": [
       "$ V(x)=(0.011656463 - 0.011655822s_{0} - 0.011656812c_{0} + 0.000000098theta_dot_{0} + 0.005828080s_{0} c_{0} - 0.000000055s_{0} theta_dot_{0} - 0.000000044c_{0} theta_dot_{0} + 0.002913798s_{0}^{2} + 0.002914293c_{0}^{2} + 0.000000039theta_dot_{0}^{2})$"
      ],
      "text/plain": [
       "<IPython.core.display.Markdown object>"
      ]
     },
     "metadata": {},
     "output_type": "display_data"
    },
    {
     "name": "stdout",
     "output_type": "stream",
     "text": [
      "Lambda solution status: 1\n",
      "V solution status: 1\n"
     ]
    },
    {
     "data": {
      "text/markdown": [
       "$ V(x)=(0.011656524 - 0.011656187s_{0} - 0.011656721c_{0} - 0.000000003theta_dot_{0} + 0.005828180s_{0} c_{0} + 0.000000005s_{0} theta_dot_{0} - 0.000000002c_{0} theta_dot_{0} + 0.002913969s_{0}^{2} + 0.002914236c_{0}^{2} + 0.000000044theta_dot_{0}^{2})$"
      ],
      "text/plain": [
       "<IPython.core.display.Markdown object>"
      ]
     },
     "metadata": {},
     "output_type": "display_data"
    },
    {
     "name": "stdout",
     "output_type": "stream",
     "text": [
      "Lambda solution status: 1\n",
      "V solution status: 1\n"
     ]
    },
    {
     "data": {
      "text/markdown": [
       "$ V(x)=(0.011656495 - 0.011656083s_{0} - 0.011656747c_{0} + 0.000000001theta_dot_{0} + 0.005828156s_{0} c_{0} - 0.000000006s_{0} theta_dot_{0} + 0.000000005c_{0} theta_dot_{0} + 0.002913923s_{0}^{2} + 0.002914255c_{0}^{2} + 0.000000050theta_dot_{0}^{2})$"
      ],
      "text/plain": [
       "<IPython.core.display.Markdown object>"
      ]
     },
     "metadata": {},
     "output_type": "display_data"
    },
    {
     "name": "stdout",
     "output_type": "stream",
     "text": [
      "Lambda solution status: 1\n",
      "V solution status: 1\n"
     ]
    },
    {
     "data": {
      "text/markdown": [
       "$ V(x)=(0.011656487 - 0.011656551s_{0} - 0.011656255c_{0} + 0.000000005theta_dot_{0} + 0.005828150s_{0} c_{0} - 0.000000007s_{0} theta_dot_{0} + 0.000000002c_{0} theta_dot_{0} + 0.002914158s_{0}^{2} + 0.002914010c_{0}^{2} + 0.000000052theta_dot_{0}^{2})$"
      ],
      "text/plain": [
       "<IPython.core.display.Markdown object>"
      ]
     },
     "metadata": {},
     "output_type": "display_data"
    },
    {
     "name": "stdout",
     "output_type": "stream",
     "text": [
      "Lambda solution status: 1\n",
      "V solution status: 1\n"
     ]
    },
    {
     "data": {
      "text/markdown": [
       "$ V(x)=(0.011656398 - 0.011657060s_{0} - 0.011655541c_{0} - 0.000000003theta_dot_{0} + 0.005828083s_{0} c_{0} - 0.000000016s_{0} theta_dot_{0} + 0.000000019c_{0} theta_dot_{0} + 0.002914440s_{0}^{2} + 0.002913681c_{0}^{2} + 0.000000067theta_dot_{0}^{2})$"
      ],
      "text/plain": [
       "<IPython.core.display.Markdown object>"
      ]
     },
     "metadata": {},
     "output_type": "display_data"
    },
    {
     "name": "stdout",
     "output_type": "stream",
     "text": [
      "Lambda solution status: 1\n",
      "V solution status: 1\n"
     ]
    },
    {
     "data": {
      "text/markdown": [
       "$ V(x)=(0.011656410 - 0.011656652s_{0} - 0.011655968c_{0} + 0.000000012theta_dot_{0} + 0.005828092s_{0} c_{0} + 0.000000002s_{0} theta_dot_{0} - 0.000000014c_{0} theta_dot_{0} + 0.002914230s_{0}^{2} + 0.002913887c_{0}^{2} + 0.000000066theta_dot_{0}^{2})$"
      ],
      "text/plain": [
       "<IPython.core.display.Markdown object>"
      ]
     },
     "metadata": {},
     "output_type": "display_data"
    },
    {
     "name": "stdout",
     "output_type": "stream",
     "text": [
      "Lambda solution status: 1\n",
      "V solution status: 1\n"
     ]
    },
    {
     "data": {
      "text/markdown": [
       "$ V(x)=(0.011656447 - 0.011656257s_{0} - 0.011656472c_{0} - 0.000000002theta_dot_{0} + 0.005828128s_{0} c_{0} + 0.000000006s_{0} theta_dot_{0} - 0.000000004c_{0} theta_dot_{0} + 0.002914023s_{0}^{2} + 0.002914131c_{0}^{2} + 0.000000061theta_dot_{0}^{2})$"
      ],
      "text/plain": [
       "<IPython.core.display.Markdown object>"
      ]
     },
     "metadata": {},
     "output_type": "display_data"
    },
    {
     "name": "stdout",
     "output_type": "stream",
     "text": [
      "Lambda solution status: 1\n",
      "V solution status: 1\n"
     ]
    },
    {
     "data": {
      "text/markdown": [
       "$ V(x)=(0.011656402 - 0.011656106s_{0} - 0.011656405c_{0} + 0.000000084theta_dot_{0} + 0.005828039s_{0} c_{0} - 0.000000043s_{0} theta_dot_{0} - 0.000000041c_{0} theta_dot_{0} + 0.002913960s_{0}^{2} + 0.002914110c_{0}^{2} + 0.000000048theta_dot_{0}^{2})$"
      ],
      "text/plain": [
       "<IPython.core.display.Markdown object>"
      ]
     },
     "metadata": {},
     "output_type": "display_data"
    }
   ],
   "source": [
    "# Use this as a starting candidate for ROA study\n",
    "\n",
    "#doing the van der pol oscillator implicitly\n",
    "\n",
    "from pydrake.solvers.mathematicalprogram import MathematicalProgram, SolverOptions, Solve\n",
    "from pydrake.solvers.csdp import CsdpSolver\n",
    "from pydrake.solvers.mosek import MosekSolver\n",
    "\n",
    "negative_infinity = float('-inf')\n",
    "coeff = 1e-5\n",
    "\n",
    "def find_implicit_lambdas(x, xd, V, Vdot, g):\n",
    "    prog = MathematicalProgram()\n",
    "    prog.AddIndeterminates(x)\n",
    "    prog.AddIndeterminates(xd)\n",
    "        \n",
    "    y = np.hstack([x, xd])\n",
    "    \n",
    "    l_deg = math.ceil(V.TotalDegree()/2) * 2\n",
    "    \n",
    "    lambda_ = prog.NewSosPolynomial(Variables(y), l_deg)[0]\n",
    "    \n",
    "    lambda_g = []\n",
    "    \n",
    "    for i in range(g.size): \n",
    "        gi_deg = max(l_deg + V.TotalDegree() - g[i].TotalDegree(), 0)\n",
    "        lambda_g.append(prog.NewFreePolynomial(Variables(y), gi_deg))\n",
    "        \n",
    "    lambda_g = np.array(lambda_g)    \n",
    "    \n",
    "    s_deg = max(l_deg + V.TotalDegree() - 2, 0)\n",
    "    lambda_s = prog.NewFreePolynomial(Variables(y), s_deg)\n",
    "    \n",
    "    trig = Polynomial(x[0]**2 + x[1]**2 - 1)\n",
    "  \n",
    "    prog.AddSosConstraint(-Vdot + lambda_*(V - 0.001) + lambda_g.dot(g) - lambda_s*trig)\n",
    "        \n",
    "    solver = MosekSolver()\n",
    "    result = solver.Solve(prog)\n",
    "    \n",
    "    k = result.get_solver_details().solution_status\n",
    "                \n",
    "    print(\"Lambda solution status: \" + str(k))\n",
    "    \n",
    "    assert result.is_success()\n",
    "    \n",
    "    lambda_g_results = []\n",
    "    \n",
    "    for i in range(g.size):\n",
    "        lambda_g_results.append(result.GetSolution(lambda_g[i]).RemoveTermsWithSmallCoefficients(coeff))\n",
    "    \n",
    "    return result.GetSolution(lambda_).RemoveTermsWithSmallCoefficients(coeff), np.array(lambda_g_results), \\\n",
    "result.GetSolution(lambda_s).RemoveTermsWithSmallCoefficients(coeff)\n",
    "\n",
    "def find_implicit_V(x, xd, lambda_, lambda_g, lambda_s, g, V_degree):\n",
    "    prog = MathematicalProgram()\n",
    "    prog.AddIndeterminates(x)\n",
    "    prog.AddIndeterminates(xd)\n",
    "            \n",
    "    V, Q = prog.NewSosPolynomial(Variables(x), V_degree)\n",
    "    Vdot = V.Jacobian(x).dot(xd)\n",
    "    \n",
    "    trig = Polynomial(x[0]**2 + x[1]**2 - 1)\n",
    "    prog.AddSosConstraint(-Vdot + lambda_*(V - 0.001) + lambda_g.dot(g) - lambda_s*trig)\n",
    "    \n",
    "    mgl = p.mass()*p.length()*p.gravity()\n",
    "    \n",
    "    prog.AddLinearCost(np.trace(Q))    \n",
    "    prog.AddLinearConstraint(V.ToExpression().Substitute({x[0]: 1, x[1]:1, x[2]:0}) == 0)\n",
    "    \n",
    "    solver = MosekSolver()\n",
    "    result = solver.Solve(prog)\n",
    "    \n",
    "    k = result.get_solver_details().solution_status\n",
    "                \n",
    "    print(\"V solution status: \" + str(k))\n",
    "    \n",
    "    assert result.is_success()\n",
    "        \n",
    "    return result.GetSolution(V), result.GetSolution(Q)\n",
    "\n",
    "\n",
    "def problem_solver_implicit(S, V_degree, G):\n",
    "    prog = MathematicalProgram()\n",
    "    s = prog.NewIndeterminates(1, \"s\")\n",
    "    c = prog.NewIndeterminates(1, \"c\")\n",
    "    theta_dot = prog.NewIndeterminates(1, \"theta_dot\")\n",
    "    \n",
    "    xd = prog.NewIndeterminates(3, 'xd')\n",
    "    \n",
    "    state_V = np.hstack([theta_dot, c, s, [1]])\n",
    "    \n",
    "    x = np.hstack([s, c, theta_dot])\n",
    "    \n",
    "    u = -G@x\n",
    "        \n",
    "    g0 = xd[0] - c[0]*theta_dot[0]\n",
    "    g1 = xd[1] + s[0]*theta_dot[0]\n",
    "    g2 = p.mass()*(p.length()**2)*xd[2] + p.damping()*theta_dot[0] - p.mass()*p.gravity()*p.length()*s[0] - u\n",
    "    \n",
    "    g = np.array([g0, g1, g2])\n",
    "    \n",
    "    V = state_V.T@S@state_V\n",
    "    Vdot = V.Jacobian(x).dot(xd)\n",
    "    \n",
    "    V = Polynomial(V)\n",
    "    Vdot = Polynomial(Vdot)\n",
    "    \n",
    "    g_poly = []\n",
    "    for i in range(g.size):\n",
    "        g_poly.append(Polynomial(g[i]))\n",
    "        \n",
    "    g_poly = np.array(g_poly)\n",
    "    \n",
    "    display(Markdown(\"$ V(x)=\"+ToLatex(V.ToExpression(), 9)+\"$\"))\n",
    "    for i in range(100):\n",
    "        lambda_, lambda_g, lambda_s = find_implicit_lambdas(x, xd, V, Vdot, g_poly)\n",
    "        \n",
    "#         display(Markdown(\"$ \\lambda(x)=\"+ToLatex(lambda_s.ToExpression())+\"$\"))\n",
    "#         display(Markdown(\"$ \\lambda_g(x)=\"+ToLatex(lambda_g[0].ToExpression())+\"$\"))\n",
    "#         display(Markdown(\"$ \\lambda_g(x)=\"+ToLatex(lambda_g[1].ToExpression())+\"$\"))\n",
    "        \n",
    "        V, Q = find_implicit_V(x, xd, lambda_, lambda_g, lambda_s, g_poly, V_degree)\n",
    "        \n",
    "        Vdot = V.Jacobian(x).dot(xd)\n",
    "     \n",
    "        display(Markdown(\"$ V(x)=\"+ToLatex(V.ToExpression(), 9)+\"$\"))\n",
    "        \n",
    "    return V, Q\n",
    "\n",
    "V_degree = 2\n",
    "V, Q = problem_solver_implicit(candidate_matrix_new, V_degree, G_casted)"
   ]
  },
  {
   "cell_type": "code",
   "execution_count": 45,
   "metadata": {},
   "outputs": [
    {
     "data": {
      "text/markdown": [
       "$ V(x)=(2.842200000 - 2.840000000c_{0} + 0.042000000s_{0} theta_dot_{0} + 0.051600000theta_dot_{0}^{2})$"
      ],
      "text/plain": [
       "<IPython.core.display.Markdown object>"
      ]
     },
     "metadata": {},
     "output_type": "display_data"
    },
    {
     "name": "stdout",
     "output_type": "stream",
     "text": [
      "0.25*xd(2) + 2.5259662559187128*theta_dot(0) + 5.8360110520799973*s(0)\n",
      "Lambda solution status: 1\n",
      "V solution status: 1\n"
     ]
    },
    {
     "data": {
      "text/markdown": [
       "$ V(x)=(4.115838798 - 3.043749965s_{0} - 5.187773415c_{0} + 0.646126512theta_dot_{0} + 1.912004561s_{0} c_{0} - 0.208852596s_{0} theta_dot_{0} - 0.437262844c_{0} theta_dot_{0} + 0.565844074s_{0}^{2} + 1.637835948c_{0}^{2} + 0.097994607theta_dot_{0}^{2})$"
      ],
      "text/plain": [
       "<IPython.core.display.Markdown object>"
      ]
     },
     "metadata": {},
     "output_type": "display_data"
    },
    {
     "data": {
      "text/markdown": [
       "$ u(x)=(4.265839193 - 7.895268924s_{0} - 2.631571825c_{0} - 1.633031763theta_dot_{0})$"
      ],
      "text/plain": [
       "<IPython.core.display.Markdown object>"
      ]
     },
     "metadata": {},
     "output_type": "display_data"
    },
    {
     "name": "stdout",
     "output_type": "stream",
     "text": [
      "-4.2658391926383619*1 + 0.25*xd(2) + 1.7330317632312897*theta_dot(0) + 2.6315718254680505*c(0) + 2.9902689243741225*s(0)\n",
      "Lambda solution status: 1\n",
      "V solution status: 1\n"
     ]
    },
    {
     "data": {
      "text/markdown": [
       "$ V(x)=(1.856012689 - 1.680752094s_{0} - 2.031093193c_{0} - 0.120119558theta_dot_{0} + 0.918374557s_{0} c_{0} + 0.073894958s_{0} theta_dot_{0} + 0.046212920c_{0} theta_dot_{0} + 0.381147815s_{0}^{2} + 0.556310231c_{0}^{2} + 0.151898160theta_dot_{0}^{2})$"
      ],
      "text/plain": [
       "<IPython.core.display.Markdown object>"
      ]
     },
     "metadata": {},
     "output_type": "display_data"
    },
    {
     "data": {
      "text/markdown": [
       "$ u(x)=(-2.805842352 - 4.432979261s_{0} + 2.646306921c_{0} - 1.767166298theta_dot_{0})$"
      ],
      "text/plain": [
       "<IPython.core.display.Markdown object>"
      ]
     },
     "metadata": {},
     "output_type": "display_data"
    },
    {
     "name": "stdout",
     "output_type": "stream",
     "text": [
      "2.8058423515251798*1 + 0.25*xd(2) + 1.8671662980723105*theta_dot(0) + -2.646306920571309*c(0) + -0.47202073874917083*s(0)\n",
      "Lambda solution status: 1\n",
      "V solution status: 1\n"
     ]
    },
    {
     "data": {
      "text/markdown": [
       "$ V(x)=(1.065362655 - 1.089273881s_{0} - 1.041381645c_{0} - 0.090351494theta_dot_{0} + 0.532373749s_{0} c_{0} + 0.046394420s_{0} theta_dot_{0} + 0.043955050c_{0} theta_dot_{0} + 0.278432233s_{0}^{2} + 0.254486891c_{0}^{2} + 0.012766049theta_dot_{0}^{2})$"
      ],
      "text/plain": [
       "<IPython.core.display.Markdown object>"
      ]
     },
     "metadata": {},
     "output_type": "display_data"
    },
    {
     "data": {
      "text/markdown": [
       "$ u(x)=(0.951325570 - 6.670392089s_{0} - 0.265395108c_{0} - 1.373060684theta_dot_{0})$"
      ],
      "text/plain": [
       "<IPython.core.display.Markdown object>"
      ]
     },
     "metadata": {},
     "output_type": "display_data"
    },
    {
     "name": "stdout",
     "output_type": "stream",
     "text": [
      "-0.95132556966426407*1 + 0.25*xd(2) + 1.4730606838736868*theta_dot(0) + 0.26539510840075703*c(0) + 1.7653920894428046*s(0)\n",
      "Lambda solution status: 1\n",
      "V solution status: 1\n"
     ]
    },
    {
     "data": {
      "text/markdown": [
       "$ V(x)=(0.605915696 - 0.569926390s_{0} - 0.641857888c_{0} - 0.076882413theta_dot_{0} + 0.301388169s_{0} c_{0} + 0.030334638s_{0} theta_dot_{0} + 0.046544822c_{0} theta_dot_{0} + 0.134258029s_{0}^{2} + 0.170222384c_{0}^{2} + 0.037989413theta_dot_{0}^{2})$"
      ],
      "text/plain": [
       "<IPython.core.display.Markdown object>"
      ]
     },
     "metadata": {},
     "output_type": "display_data"
    },
    {
     "data": {
      "text/markdown": [
       "$ u(x)=(-1.620048689 - 4.544350636s_{0} + 1.179685139c_{0} - 1.334123401theta_dot_{0})$"
      ],
      "text/plain": [
       "<IPython.core.display.Markdown object>"
      ]
     },
     "metadata": {},
     "output_type": "display_data"
    },
    {
     "name": "stdout",
     "output_type": "stream",
     "text": [
      "1.6200486889819004*1 + 0.25*xd(2) + 1.4341234011592572*theta_dot(0) + -1.1796851391787844*c(0) + -0.36064936368761291*s(0)\n",
      "Lambda solution status: 1\n",
      "V solution status: 1\n"
     ]
    },
    {
     "data": {
      "text/markdown": [
       "$ V(x)=(0.394091342 - 0.386114565s_{0} - 0.402045978c_{0} - 0.061131204theta_dot_{0} + 0.196937303s_{0} c_{0} + 0.029174139s_{0} theta_dot_{0} + 0.031955263c_{0} theta_dot_{0} + 0.094583208s_{0}^{2} + 0.102548689c_{0}^{2} + 0.020800338theta_dot_{0}^{2})$"
      ],
      "text/plain": [
       "<IPython.core.display.Markdown object>"
      ]
     },
     "metadata": {},
     "output_type": "display_data"
    },
    {
     "data": {
      "text/markdown": [
       "$ u(x)=(-0.570651935 - 4.948757182s_{0} - 0.002667528c_{0} - 0.809110900theta_dot_{0})$"
      ],
      "text/plain": [
       "<IPython.core.display.Markdown object>"
      ]
     },
     "metadata": {},
     "output_type": "display_data"
    },
    {
     "name": "stdout",
     "output_type": "stream",
     "text": [
      "0.57065193466820119*1 + 0.25*xd(2) + 0.90911089962920422*theta_dot(0) + 0.0026675277916991934*c(0) + 0.04375718179921062*s(0)\n",
      "Lambda solution status: 1\n",
      "V solution status: 1\n"
     ]
    },
    {
     "data": {
      "text/markdown": [
       "$ V(x)=(0.239826674 - 0.234422899s_{0} - 0.245212237c_{0} - 0.029137842theta_dot_{0} + 0.119797964s_{0} c_{0} + 0.012896443s_{0} theta_dot_{0} + 0.016240659c_{0} theta_dot_{0} + 0.057308011s_{0}^{2} + 0.062702487c_{0}^{2} + 0.020914393theta_dot_{0}^{2})$"
      ],
      "text/plain": [
       "<IPython.core.display.Markdown object>"
      ]
     },
     "metadata": {},
     "output_type": "display_data"
    },
    {
     "data": {
      "text/markdown": [
       "$ u(x)=(-0.624464241 - 4.824148501s_{0} + 0.046929919c_{0} - 0.539723773theta_dot_{0})$"
      ],
      "text/plain": [
       "<IPython.core.display.Markdown object>"
      ]
     },
     "metadata": {},
     "output_type": "display_data"
    },
    {
     "name": "stdout",
     "output_type": "stream",
     "text": [
      "0.62446424137752776*1 + 0.25*xd(2) + 0.63972377257935653*theta_dot(0) + -0.046929919368312492*c(0) + -0.080851498860972981*s(0)\n",
      "Lambda solution status: 1\n",
      "V solution status: 1\n"
     ]
    },
    {
     "data": {
      "text/markdown": [
       "$ V(x)=(0.148815213 - 0.146316079s_{0} - 0.151294223c_{0} - 0.003255465theta_dot_{0} + 0.074357015s_{0} c_{0} + 0.000973962s_{0} theta_dot_{0} + 0.002281426c_{0} theta_dot_{0} + 0.035974583s_{0}^{2} + 0.038463491c_{0}^{2} + 0.010258675theta_dot_{0}^{2})$"
      ],
      "text/plain": [
       "<IPython.core.display.Markdown object>"
      ]
     },
     "metadata": {},
     "output_type": "display_data"
    },
    {
     "data": {
      "text/markdown": [
       "$ u(x)=(-0.502623925 - 4.880678815s_{0} - 0.013750844c_{0} - 0.381461229theta_dot_{0})$"
      ],
      "text/plain": [
       "<IPython.core.display.Markdown object>"
      ]
     },
     "metadata": {},
     "output_type": "display_data"
    },
    {
     "name": "stdout",
     "output_type": "stream",
     "text": [
      "0.50262392512600473*1 + 0.25*xd(2) + 0.48146122927109425*theta_dot(0) + 0.013750843706320622*c(0) + -0.024321184842341026*s(0)\n",
      "Lambda solution status: 1\n",
      "V solution status: 1\n"
     ]
    },
    {
     "data": {
      "text/markdown": [
       "$ V(x)=(0.091240645 - 0.090236425s_{0} - 0.092231572c_{0} + 0.008735517theta_dot_{0} + 0.045601202s_{0} c_{0} - 0.004555615s_{0} theta_dot_{0} - 0.004179167c_{0} theta_dot_{0} + 0.022314324s_{0}^{2} + 0.023311827c_{0}^{2} + 0.004416683theta_dot_{0}^{2})$"
      ],
      "text/plain": [
       "<IPython.core.display.Markdown object>"
      ]
     },
     "metadata": {},
     "output_type": "display_data"
    },
    {
     "data": {
      "text/markdown": [
       "$ u(x)=(-0.434723941 - 4.925200068s_{0} - 0.053868942c_{0} - 0.326386507theta_dot_{0})$"
      ],
      "text/plain": [
       "<IPython.core.display.Markdown object>"
      ]
     },
     "metadata": {},
     "output_type": "display_data"
    },
    {
     "name": "stdout",
     "output_type": "stream",
     "text": [
      "0.43472394078610127*1 + 0.25*xd(2) + 0.42638650657722277*theta_dot(0) + 0.053868941888798552*c(0) + 0.020200067689061463*s(0)\n",
      "Lambda solution status: 1\n",
      "V solution status: 1\n"
     ]
    },
    {
     "data": {
      "text/markdown": [
       "$ V(x)=(0.054935977 - 0.054598787s_{0} - 0.055265045c_{0} + 0.010528269theta_dot_{0} + 0.027460885s_{0} c_{0} - 0.005305996s_{0} theta_dot_{0} - 0.005221521c_{0} theta_dot_{0} + 0.013566933s_{0}^{2} + 0.013900037c_{0}^{2} + 0.002026282theta_dot_{0}^{2})$"
      ],
      "text/plain": [
       "<IPython.core.display.Markdown object>"
      ]
     },
     "metadata": {},
     "output_type": "display_data"
    },
    {
     "data": {
      "text/markdown": [
       "$ u(x)=(-0.401271404 - 4.954682733s_{0} - 0.080079387c_{0} - 0.306472586theta_dot_{0})$"
      ],
      "text/plain": [
       "<IPython.core.display.Markdown object>"
      ]
     },
     "metadata": {},
     "output_type": "display_data"
    },
    {
     "name": "stdout",
     "output_type": "stream",
     "text": [
      "0.40127140423399765*1 + 0.25*xd(2) + 0.40647258561358812*theta_dot(0) + 0.080079387486830744*c(0) + 0.049682732523818274*s(0)\n",
      "Lambda solution status: 1\n",
      "V solution status: 1\n"
     ]
    },
    {
     "data": {
      "text/markdown": [
       "$ V(x)=(0.030820300 - 0.030713580s_{0} - 0.030914143c_{0} + 0.006306965theta_dot_{0} + 0.015403008s_{0} c_{0} - 0.003148120s_{0} theta_dot_{0} - 0.003157587c_{0} theta_dot_{0} + 0.007652078s_{0}^{2} + 0.007752338c_{0}^{2} + 0.000736378theta_dot_{0}^{2})$"
      ],
      "text/plain": [
       "<IPython.core.display.Markdown object>"
      ]
     },
     "metadata": {},
     "output_type": "display_data"
    },
    {
     "data": {
      "text/markdown": [
       "$ u(x)=(-0.404605702 - 4.958068268s_{0} - 0.079626595c_{0} - 0.302022588theta_dot_{0})$"
      ],
      "text/plain": [
       "<IPython.core.display.Markdown object>"
      ]
     },
     "metadata": {},
     "output_type": "display_data"
    },
    {
     "name": "stdout",
     "output_type": "stream",
     "text": [
      "0.40460570183955696*1 + 0.25*xd(2) + 0.40202258848734385*theta_dot(0) + 0.079626595417961188*c(0) + 0.053068267520763435*s(0)\n",
      "Lambda solution status: 1\n",
      "V solution status: 1\n"
     ]
    },
    {
     "data": {
      "text/markdown": [
       "$ V(x)=(0.016654431 - 0.016610664s_{0} - 0.016689887c_{0} + 0.001636858theta_dot_{0} + 0.008322517s_{0} c_{0} - 0.000815993s_{0} theta_dot_{0} - 0.000820444c_{0} theta_dot_{0} + 0.004142002s_{0}^{2} + 0.004181603c_{0}^{2} + 0.000143842theta_dot_{0}^{2})$"
      ],
      "text/plain": [
       "<IPython.core.display.Markdown object>"
      ]
     },
     "metadata": {},
     "output_type": "display_data"
    },
    {
     "data": {
      "text/markdown": [
       "$ u(x)=(-0.427620710 - 4.943545148s_{0} - 0.060659482c_{0} - 0.299887423theta_dot_{0})$"
      ],
      "text/plain": [
       "<IPython.core.display.Markdown object>"
      ]
     },
     "metadata": {},
     "output_type": "display_data"
    },
    {
     "name": "stdout",
     "output_type": "stream",
     "text": [
      "0.42762070973926863*1 + 0.25*xd(2) + 0.39988742251262022*theta_dot(0) + 0.060659482173013909*c(0) + 0.038545148319395039*s(0)\n",
      "Lambda solution status: 1\n",
      "V solution status: 1\n"
     ]
    },
    {
     "data": {
      "text/markdown": [
       "$ V(x)=(0.012121180 - 0.012104477s_{0} - 0.012122466c_{0} + 0.000171759theta_dot_{0} + 0.006052085s_{0} c_{0} - 0.000085766s_{0} theta_dot_{0} - 0.000085926c_{0} theta_dot_{0} + 0.003022347s_{0}^{2} + 0.003031336c_{0}^{2} + 0.000017209theta_dot_{0}^{2})$"
      ],
      "text/plain": [
       "<IPython.core.display.Markdown object>"
      ]
     },
     "metadata": {},
     "output_type": "display_data"
    },
    {
     "data": {
      "text/markdown": [
       "$ u(x)=(-0.450665695 - 4.932693984s_{0} - 0.040387295c_{0} - 0.299987796theta_dot_{0})$"
      ],
      "text/plain": [
       "<IPython.core.display.Markdown object>"
      ]
     },
     "metadata": {},
     "output_type": "display_data"
    },
    {
     "name": "stdout",
     "output_type": "stream",
     "text": [
      "0.45066569542199991*1 + 0.25*xd(2) + 0.39998779610418844*theta_dot(0) + 0.040387294806636047*c(0) + 0.027693983925695775*s(0)\n",
      "Lambda solution status: 1\n",
      "V solution status: 1\n"
     ]
    },
    {
     "data": {
      "text/markdown": [
       "$ V(x)=(0.011629279 - 0.011620710s_{0} - 0.011621819c_{0} + 0.000004345theta_dot_{0} + 0.005805802s_{0} c_{0} - 0.000002139s_{0} theta_dot_{0} - 0.000002143c_{0} theta_dot_{0} + 0.002903450s_{0}^{2} + 0.002904004c_{0}^{2} + 0.000005485theta_dot_{0}^{2})$"
      ],
      "text/plain": [
       "<IPython.core.display.Markdown object>"
      ]
     },
     "metadata": {},
     "output_type": "display_data"
    },
    {
     "data": {
      "text/markdown": [
       "$ u(x)=(-0.466265553 - 4.923570005s_{0} - 0.028430424c_{0} - 0.299931545theta_dot_{0})$"
      ],
      "text/plain": [
       "<IPython.core.display.Markdown object>"
      ]
     },
     "metadata": {},
     "output_type": "display_data"
    },
    {
     "name": "stdout",
     "output_type": "stream",
     "text": [
      "0.46626555300529099*1 + 0.25*xd(2) + 0.39993154488485738*theta_dot(0) + 0.028430424391553778*c(0) + 0.018570004665085627*s(0)\n",
      "Lambda solution status: 1\n",
      "V solution status: 1\n"
     ]
    },
    {
     "data": {
      "text/markdown": [
       "$ V(x)=(0.011625760 - 0.011618781s_{0} - 0.011618817c_{0} - 0.000000127theta_dot_{0} + 0.005805315s_{0} c_{0} + 0.000000071s_{0} theta_dot_{0} + 0.000000066c_{0} theta_dot_{0} + 0.002903255s_{0}^{2} + 0.002903273c_{0}^{2} + 0.000004078theta_dot_{0}^{2})$"
      ],
      "text/plain": [
       "<IPython.core.display.Markdown object>"
      ]
     },
     "metadata": {},
     "output_type": "display_data"
    },
    {
     "data": {
      "text/markdown": [
       "$ u(x)=(-0.481501127 - 4.913042836s_{0} - 0.017454867c_{0} - 0.299944084theta_dot_{0})$"
      ],
      "text/plain": [
       "<IPython.core.display.Markdown object>"
      ]
     },
     "metadata": {},
     "output_type": "display_data"
    },
    {
     "name": "stdout",
     "output_type": "stream",
     "text": [
      "0.48150112677250662*1 + 0.25*xd(2) + 0.39994408448094365*theta_dot(0) + 0.017454867390520587*c(0) + 0.0080428364710893874*s(0)\n",
      "Lambda solution status: 1\n",
      "V solution status: 1\n"
     ]
    },
    {
     "data": {
      "text/markdown": [
       "$ V(x)=(0.011608073 - 0.011597723s_{0} - 0.011597731c_{0} - 0.000000471theta_dot_{0} + 0.005792152s_{0} c_{0} + 0.000000238s_{0} theta_dot_{0} + 0.000000237c_{0} theta_dot_{0} + 0.002897618s_{0}^{2} + 0.002897622c_{0}^{2} + 0.000007965theta_dot_{0}^{2})$"
      ],
      "text/plain": [
       "<IPython.core.display.Markdown object>"
      ]
     },
     "metadata": {},
     "output_type": "display_data"
    },
    {
     "data": {
      "text/markdown": [
       "$ u(x)=(-0.495190702 - 4.903427597s_{0} - 0.007722770c_{0} - 0.299987193theta_dot_{0})$"
      ],
      "text/plain": [
       "<IPython.core.display.Markdown object>"
      ]
     },
     "metadata": {},
     "output_type": "display_data"
    },
    {
     "name": "stdout",
     "output_type": "stream",
     "text": [
      "0.49519070185400627*1 + 0.25*xd(2) + 0.39998719348136613*theta_dot(0) + 0.0077227704378256727*c(0) + -0.0015724029000372397*s(0)\n",
      "Lambda solution status: 1\n",
      "V solution status: 1\n"
     ]
    },
    {
     "data": {
      "text/markdown": [
       "$ V(x)=(0.011605498 - 0.011594673s_{0} - 0.011594696c_{0} - 0.000000612theta_dot_{0} + 0.005790759s_{0} c_{0} + 0.000000336s_{0} theta_dot_{0} + 0.000000338c_{0} theta_dot_{0} + 0.002896556s_{0}^{2} + 0.002896568c_{0}^{2} + 0.000006405theta_dot_{0}^{2})$"
      ],
      "text/plain": [
       "<IPython.core.display.Markdown object>"
      ]
     },
     "metadata": {},
     "output_type": "display_data"
    },
    {
     "data": {
      "text/markdown": [
       "$ u(x)=(-0.506915935 - 4.895117230s_{0} + 0.000553052c_{0} - 0.300009818theta_dot_{0})$"
      ],
      "text/plain": [
       "<IPython.core.display.Markdown object>"
      ]
     },
     "metadata": {},
     "output_type": "display_data"
    },
    {
     "name": "stdout",
     "output_type": "stream",
     "text": [
      "0.50691593542005697*1 + 0.25*xd(2) + 0.40000981837642891*theta_dot(0) + -0.00055305151777499089*c(0) + -0.0098827696706589307*s(0)\n",
      "Lambda solution status: 1\n",
      "V solution status: 1\n"
     ]
    },
    {
     "data": {
      "text/markdown": [
       "$ V(x)=(0.011623256 - 0.011616050s_{0} - 0.011616228c_{0} - 0.000000381theta_dot_{0} + 0.005803600s_{0} c_{0} + 0.000000201s_{0} theta_dot_{0} + 0.000000191c_{0} theta_dot_{0} + 0.002902669s_{0}^{2} + 0.002902758c_{0}^{2} + 0.000005671theta_dot_{0}^{2})$"
      ],
      "text/plain": [
       "<IPython.core.display.Markdown object>"
      ]
     },
     "metadata": {},
     "output_type": "display_data"
    },
    {
     "data": {
      "text/markdown": [
       "$ u(x)=(-0.518162206 - 4.887131774s_{0} + 0.008489209c_{0} - 0.300032070theta_dot_{0})$"
      ],
      "text/plain": [
       "<IPython.core.display.Markdown object>"
      ]
     },
     "metadata": {},
     "output_type": "display_data"
    },
    {
     "name": "stdout",
     "output_type": "stream",
     "text": [
      "0.51816220591401174*1 + 0.25*xd(2) + 0.40003206965831739*theta_dot(0) + -0.0084892090178973999*c(0) + -0.017868225963172613*s(0)\n",
      "Lambda solution status: 1\n",
      "V solution status: 1\n"
     ]
    },
    {
     "data": {
      "text/markdown": [
       "$ V(x)=(0.011617755 - 0.011609519s_{0} - 0.011609537c_{0} - 0.000000287theta_dot_{0} + 0.005799829s_{0} c_{0} + 0.000000155s_{0} theta_dot_{0} + 0.000000152c_{0} theta_dot_{0} + 0.002900735s_{0}^{2} + 0.002900744c_{0}^{2} + 0.000005463theta_dot_{0}^{2})$"
      ],
      "text/plain": [
       "<IPython.core.display.Markdown object>"
      ]
     },
     "metadata": {},
     "output_type": "display_data"
    },
    {
     "data": {
      "text/markdown": [
       "$ u(x)=(-0.527551471 - 4.880474402s_{0} + 0.015112596c_{0} - 0.300058224theta_dot_{0})$"
      ],
      "text/plain": [
       "<IPython.core.display.Markdown object>"
      ]
     },
     "metadata": {},
     "output_type": "display_data"
    },
    {
     "name": "stdout",
     "output_type": "stream",
     "text": [
      "0.52755147138222225*1 + 0.25*xd(2) + 0.40005822419340364*theta_dot(0) + -0.015112595593747308*c(0) + -0.024525597822839806*s(0)\n",
      "Lambda solution status: 1\n",
      "V solution status: 1\n"
     ]
    },
    {
     "data": {
      "text/markdown": [
       "$ V(x)=(0.011615919 - 0.011606874s_{0} - 0.011606899c_{0} - 0.000000128theta_dot_{0} + 0.005797998s_{0} c_{0} + 0.000000044s_{0} theta_dot_{0} + 0.000000041c_{0} theta_dot_{0} + 0.002899926s_{0}^{2} + 0.002899938c_{0}^{2} + 0.000005136theta_dot_{0}^{2})$"
      ],
      "text/plain": [
       "<IPython.core.display.Markdown object>"
      ]
     },
     "metadata": {},
     "output_type": "display_data"
    },
    {
     "data": {
      "text/markdown": [
       "$ u(x)=(-0.535582875 - 4.874789375s_{0} + 0.020789781c_{0} - 0.300087829theta_dot_{0})$"
      ],
      "text/plain": [
       "<IPython.core.display.Markdown object>"
      ]
     },
     "metadata": {},
     "output_type": "display_data"
    },
    {
     "name": "stdout",
     "output_type": "stream",
     "text": [
      "0.53558287545108552*1 + 0.25*xd(2) + 0.40008782856764658*theta_dot(0) + -0.02078978110498083*c(0) + -0.030210624633329353*s(0)\n",
      "Lambda solution status: 1\n",
      "V solution status: 1\n"
     ]
    },
    {
     "data": {
      "text/markdown": [
       "$ V(x)=(0.011621123 - 0.011613247s_{0} - 0.011613164c_{0} - 0.000000319theta_dot_{0} + 0.005801803s_{0} c_{0} + 0.000000176s_{0} theta_dot_{0} + 0.000000167c_{0} theta_dot_{0} + 0.002901767s_{0}^{2} + 0.002901725c_{0}^{2} + 0.000005130theta_dot_{0}^{2})$"
      ],
      "text/plain": [
       "<IPython.core.display.Markdown object>"
      ]
     },
     "metadata": {},
     "output_type": "display_data"
    },
    {
     "data": {
      "text/markdown": [
       "$ u(x)=(-0.542595144 - 4.869807721s_{0} + 0.025736725c_{0} - 0.300121471theta_dot_{0})$"
      ],
      "text/plain": [
       "<IPython.core.display.Markdown object>"
      ]
     },
     "metadata": {},
     "output_type": "display_data"
    },
    {
     "name": "stdout",
     "output_type": "stream",
     "text": [
      "0.54259514418015165*1 + 0.25*xd(2) + 0.40012147108231255*theta_dot(0) + -0.025736725090414692*c(0) + -0.035192278555596701*s(0)\n",
      "Lambda solution status: 1\n",
      "V solution status: 1\n"
     ]
    },
    {
     "data": {
      "text/markdown": [
       "$ V(x)=(0.011619354 - 0.011611308s_{0} - 0.011611515c_{0} - 0.000000377theta_dot_{0} + 0.005800724s_{0} c_{0} + 0.000000158s_{0} theta_dot_{0} + 0.000000189c_{0} theta_dot_{0} + 0.002901325s_{0}^{2} + 0.002901428c_{0}^{2} + 0.000006085theta_dot_{0}^{2})$"
      ],
      "text/plain": [
       "<IPython.core.display.Markdown object>"
      ]
     },
     "metadata": {},
     "output_type": "display_data"
    },
    {
     "data": {
      "text/markdown": [
       "$ u(x)=(-0.549616356 - 4.864834449s_{0} + 0.030700045c_{0} - 0.300164283theta_dot_{0})$"
      ],
      "text/plain": [
       "<IPython.core.display.Markdown object>"
      ]
     },
     "metadata": {},
     "output_type": "display_data"
    },
    {
     "name": "stdout",
     "output_type": "stream",
     "text": [
      "0.54961635643591877*1 + 0.25*xd(2) + 0.4001642831507306*theta_dot(0) + -0.03070004458776664*c(0) + -0.040165551495744189*s(0)\n",
      "Lambda solution status: 1\n",
      "V solution status: 1\n"
     ]
    },
    {
     "data": {
      "text/markdown": [
       "$ V(x)=(0.011619137 - 0.011611217s_{0} - 0.011611189c_{0} - 0.000000196theta_dot_{0} + 0.005800826s_{0} c_{0} + 0.000000085s_{0} theta_dot_{0} + 0.000000057c_{0} theta_dot_{0} + 0.002901231s_{0}^{2} + 0.002901218c_{0}^{2} + 0.000005159theta_dot_{0}^{2})$"
      ],
      "text/plain": [
       "<IPython.core.display.Markdown object>"
      ]
     },
     "metadata": {},
     "output_type": "display_data"
    },
    {
     "data": {
      "text/markdown": [
       "$ u(x)=(-0.554777297 - 4.861152424s_{0} + 0.034323118c_{0} - 0.300199188theta_dot_{0})$"
      ],
      "text/plain": [
       "<IPython.core.display.Markdown object>"
      ]
     },
     "metadata": {},
     "output_type": "display_data"
    },
    {
     "name": "stdout",
     "output_type": "stream",
     "text": [
      "0.55477729688083954*1 + 0.25*xd(2) + 0.40019918754146455*theta_dot(0) + -0.034323118010619498*c(0) + -0.043847575752849366*s(0)\n",
      "Lambda solution status: 1\n",
      "V solution status: 1\n"
     ]
    },
    {
     "data": {
      "text/markdown": [
       "$ V(x)=(0.011617253 - 0.011608883s_{0} - 0.011608887c_{0} - 0.000000226theta_dot_{0} + 0.005799254s_{0} c_{0} + 0.000000100s_{0} theta_dot_{0} + 0.000000074c_{0} theta_dot_{0} + 0.002900634s_{0}^{2} + 0.002900636c_{0}^{2} + 0.000006447theta_dot_{0}^{2})$"
      ],
      "text/plain": [
       "<IPython.core.display.Markdown object>"
      ]
     },
     "metadata": {},
     "output_type": "display_data"
    },
    {
     "data": {
      "text/markdown": [
       "$ u(x)=(-0.559992321 - 4.857460667s_{0} + 0.038011551c_{0} - 0.300247656theta_dot_{0})$"
      ],
      "text/plain": [
       "<IPython.core.display.Markdown object>"
      ]
     },
     "metadata": {},
     "output_type": "display_data"
    },
    {
     "name": "stdout",
     "output_type": "stream",
     "text": [
      "0.55999232142128819*1 + 0.25*xd(2) + 0.40024765600518919*theta_dot(0) + -0.038011551295471513*c(0) + -0.047539332508175214*s(0)\n",
      "Lambda solution status: 1\n",
      "V solution status: 1\n"
     ]
    },
    {
     "data": {
      "text/markdown": [
       "$ V(x)=(0.011620132 - 0.011612052s_{0} - 0.011612024c_{0} - 0.000000006theta_dot_{0} + 0.005801214s_{0} c_{0} - 0.000000012s_{0} theta_dot_{0} - 0.000000038c_{0} theta_dot_{0} + 0.002901375s_{0}^{2} + 0.002901361c_{0}^{2} + 0.000004890theta_dot_{0}^{2})$"
      ],
      "text/plain": [
       "<IPython.core.display.Markdown object>"
      ]
     },
     "metadata": {},
     "output_type": "display_data"
    },
    {
     "data": {
      "text/markdown": [
       "$ u(x)=(-0.563919545 - 4.854650032s_{0} + 0.040764085c_{0} - 0.300282796theta_dot_{0})$"
      ],
      "text/plain": [
       "<IPython.core.display.Markdown object>"
      ]
     },
     "metadata": {},
     "output_type": "display_data"
    },
    {
     "name": "stdout",
     "output_type": "stream",
     "text": [
      "0.5639195449531248*1 + 0.25*xd(2) + 0.40028279644146325*theta_dot(0) + -0.040764084951423786*c(0) + -0.05034996810961001*s(0)\n",
      "Lambda solution status: 1\n",
      "V solution status: 1\n"
     ]
    },
    {
     "data": {
      "text/markdown": [
       "$ V(x)=(0.011612769 - 0.011603122s_{0} - 0.011603083c_{0} - 0.000000210theta_dot_{0} + 0.005795644s_{0} c_{0} + 0.000000115s_{0} theta_dot_{0} + 0.000000116c_{0} theta_dot_{0} + 0.002898910s_{0}^{2} + 0.002898890c_{0}^{2} + 0.000005860theta_dot_{0}^{2})$"
      ],
      "text/plain": [
       "<IPython.core.display.Markdown object>"
      ]
     },
     "metadata": {},
     "output_type": "display_data"
    },
    {
     "data": {
      "text/markdown": [
       "$ u(x)=(-0.567507411 - 4.852078513s_{0} + 0.043274454c_{0} - 0.300330644theta_dot_{0})$"
      ],
      "text/plain": [
       "<IPython.core.display.Markdown object>"
      ]
     },
     "metadata": {},
     "output_type": "display_data"
    },
    {
     "name": "stdout",
     "output_type": "stream",
     "text": [
      "0.56750741149847395*1 + 0.25*xd(2) + 0.40033064429670551*theta_dot(0) + -0.04327445363994871*c(0) + -0.052921486530924433*s(0)\n",
      "Lambda solution status: 1\n",
      "V solution status: 1\n"
     ]
    },
    {
     "data": {
      "text/markdown": [
       "$ V(x)=(0.011615876 - 0.011607238s_{0} - 0.011607255c_{0} - 0.000000460theta_dot_{0} + 0.005798444s_{0} c_{0} + 0.000000245s_{0} theta_dot_{0} + 0.000000250c_{0} theta_dot_{0} + 0.002900085s_{0}^{2} + 0.002900095c_{0}^{2} + 0.000005587theta_dot_{0}^{2})$"
      ],
      "text/plain": [
       "<IPython.core.display.Markdown object>"
      ]
     },
     "metadata": {},
     "output_type": "display_data"
    },
    {
     "data": {
      "text/markdown": [
       "$ u(x)=(-0.571233391 - 4.849417396s_{0} + 0.045896373c_{0} - 0.300374890theta_dot_{0})$"
      ],
      "text/plain": [
       "<IPython.core.display.Markdown object>"
      ]
     },
     "metadata": {},
     "output_type": "display_data"
    },
    {
     "name": "stdout",
     "output_type": "stream",
     "text": [
      "0.57123339137762108*1 + 0.25*xd(2) + 0.40037489017815298*theta_dot(0) + -0.045896373021025269*c(0) + -0.055582603522910112*s(0)\n",
      "Lambda solution status: 1\n",
      "V solution status: 1\n"
     ]
    },
    {
     "data": {
      "text/markdown": [
       "$ V(x)=(0.011625054 - 0.011618342s_{0} - 0.011618326c_{0} - 0.000000201theta_dot_{0} + 0.005805099s_{0} c_{0} + 0.000000070s_{0} theta_dot_{0} + 0.000000067c_{0} theta_dot_{0} + 0.002903263s_{0}^{2} + 0.002903256c_{0}^{2} + 0.000004835theta_dot_{0}^{2})$"
      ],
      "text/plain": [
       "<IPython.core.display.Markdown object>"
      ]
     },
     "metadata": {},
     "output_type": "display_data"
    },
    {
     "data": {
      "text/markdown": [
       "$ u(x)=(-0.574348171 - 4.847183990s_{0} + 0.048079958c_{0} - 0.300411725theta_dot_{0})$"
      ],
      "text/plain": [
       "<IPython.core.display.Markdown object>"
      ]
     },
     "metadata": {},
     "output_type": "display_data"
    },
    {
     "name": "stdout",
     "output_type": "stream",
     "text": [
      "0.57434817070686428*1 + 0.25*xd(2) + 0.40041172474999664*theta_dot(0) + -0.048079958370726324*c(0) + -0.057816009804494861*s(0)\n",
      "Lambda solution status: 1\n",
      "V solution status: 1\n"
     ]
    },
    {
     "data": {
      "text/markdown": [
       "$ V(x)=(0.011619619 - 0.011611773s_{0} - 0.011611793c_{0} - 0.000000396theta_dot_{0} + 0.005801192s_{0} c_{0} + 0.000000214s_{0} theta_dot_{0} + 0.000000211c_{0} theta_dot_{0} + 0.002901376s_{0}^{2} + 0.002901386c_{0}^{2} + 0.000005106theta_dot_{0}^{2})$"
      ],
      "text/plain": [
       "<IPython.core.display.Markdown object>"
      ]
     },
     "metadata": {},
     "output_type": "display_data"
    },
    {
     "data": {
      "text/markdown": [
       "$ u(x)=(-0.577403848 - 4.845025364s_{0} + 0.050249760c_{0} - 0.300452930theta_dot_{0})$"
      ],
      "text/plain": [
       "<IPython.core.display.Markdown object>"
      ]
     },
     "metadata": {},
     "output_type": "display_data"
    },
    {
     "name": "stdout",
     "output_type": "stream",
     "text": [
      "0.57740384792404209*1 + 0.25*xd(2) + 0.40045292960256651*theta_dot(0) + -0.050249760337455381*c(0) + -0.059974635886096195*s(0)\n",
      "Lambda solution status: 1\n",
      "V solution status: 1\n"
     ]
    },
    {
     "data": {
      "text/markdown": [
       "$ V(x)=(0.011615592 - 0.011606485s_{0} - 0.011606546c_{0} - 0.000000274theta_dot_{0} + 0.005797769s_{0} c_{0} + 0.000000163s_{0} theta_dot_{0} + 0.000000163c_{0} theta_dot_{0} + 0.002899824s_{0}^{2} + 0.002899854c_{0}^{2} + 0.000006361theta_dot_{0}^{2})$"
      ],
      "text/plain": [
       "<IPython.core.display.Markdown object>"
      ]
     },
     "metadata": {},
     "output_type": "display_data"
    },
    {
     "data": {
      "text/markdown": [
       "$ u(x)=(-0.579970876 - 4.843198825s_{0} + 0.052059949c_{0} - 0.300502834theta_dot_{0})$"
      ],
      "text/plain": [
       "<IPython.core.display.Markdown object>"
      ]
     },
     "metadata": {},
     "output_type": "display_data"
    },
    {
     "name": "stdout",
     "output_type": "stream",
     "text": [
      "0.57997087583727958*1 + 0.25*xd(2) + 0.40050283386924734*theta_dot(0) + -0.052059949333374572*c(0) + -0.061801174532514658*s(0)\n",
      "Lambda solution status: 1\n",
      "V solution status: 1\n"
     ]
    },
    {
     "data": {
      "text/markdown": [
       "$ V(x)=(0.011621767 - 0.011613820s_{0} - 0.011614242c_{0} - 0.000000406theta_dot_{0} + 0.005802203s_{0} c_{0} + 0.000000199s_{0} theta_dot_{0} + 0.000000213c_{0} theta_dot_{0} + 0.002901944s_{0}^{2} + 0.002902155c_{0}^{2} + 0.000006197theta_dot_{0}^{2})$"
      ],
      "text/plain": [
       "<IPython.core.display.Markdown object>"
      ]
     },
     "metadata": {},
     "output_type": "display_data"
    },
    {
     "data": {
      "text/markdown": [
       "$ u(x)=(-0.582859000 - 4.841129079s_{0} + 0.054091285c_{0} - 0.300550798theta_dot_{0})$"
      ],
      "text/plain": [
       "<IPython.core.display.Markdown object>"
      ]
     },
     "metadata": {},
     "output_type": "display_data"
    },
    {
     "name": "stdout",
     "output_type": "stream",
     "text": [
      "0.58285899984583212*1 + 0.25*xd(2) + 0.40055079806006455*theta_dot(0) + -0.054091285091811256*c(0) + -0.063870920920167329*s(0)\n",
      "Lambda solution status: 1\n",
      "V solution status: 1\n"
     ]
    },
    {
     "data": {
      "text/markdown": [
       "$ V(x)=(0.011619168 - 0.011610878s_{0} - 0.011610771c_{0} - 0.000000339theta_dot_{0} + 0.005800350s_{0} c_{0} + 0.000000186s_{0} theta_dot_{0} + 0.000000179c_{0} theta_dot_{0} + 0.002901095s_{0}^{2} + 0.002901042c_{0}^{2} + 0.000005592theta_dot_{0}^{2})$"
      ],
      "text/plain": [
       "<IPython.core.display.Markdown object>"
      ]
     },
     "metadata": {},
     "output_type": "display_data"
    },
    {
     "data": {
      "text/markdown": [
       "$ u(x)=(-0.584313749 - 4.840060134s_{0} + 0.055091921c_{0} - 0.300595581theta_dot_{0})$"
      ],
      "text/plain": [
       "<IPython.core.display.Markdown object>"
      ]
     },
     "metadata": {},
     "output_type": "display_data"
    },
    {
     "name": "stdout",
     "output_type": "stream",
     "text": [
      "0.58431374877605746*1 + 0.25*xd(2) + 0.40059558148471019*theta_dot(0) + -0.05509192057631955*c(0) + -0.064939866140610647*s(0)\n",
      "Lambda solution status: 1\n",
      "V solution status: 1\n"
     ]
    },
    {
     "data": {
      "text/markdown": [
       "$ V(x)=(0.011619032 - 0.011611183s_{0} - 0.011610924c_{0} - 0.000000400theta_dot_{0} + 0.005800559s_{0} c_{0} + 0.000000219s_{0} theta_dot_{0} + 0.000000160c_{0} theta_dot_{0} + 0.002901326s_{0}^{2} + 0.002901197c_{0}^{2} + 0.000006274theta_dot_{0}^{2})$"
      ],
      "text/plain": [
       "<IPython.core.display.Markdown object>"
      ]
     },
     "metadata": {},
     "output_type": "display_data"
    },
    {
     "data": {
      "text/markdown": [
       "$ u(x)=(-0.585521474 - 4.839154662s_{0} + 0.055906928c_{0} - 0.300646194theta_dot_{0})$"
      ],
      "text/plain": [
       "<IPython.core.display.Markdown object>"
      ]
     },
     "metadata": {},
     "output_type": "display_data"
    },
    {
     "name": "stdout",
     "output_type": "stream",
     "text": [
      "0.58552147424655465*1 + 0.25*xd(2) + 0.40064619396330825*theta_dot(0) + -0.05590692773047979*c(0) + -0.065845338318861302*s(0)\n",
      "Lambda solution status: 1\n",
      "V solution status: 1\n"
     ]
    },
    {
     "data": {
      "text/markdown": [
       "$ V(x)=(0.011618124 - 0.011609883s_{0} - 0.011609966c_{0} - 0.000000460theta_dot_{0} + 0.005799750s_{0} c_{0} + 0.000000229s_{0} theta_dot_{0} + 0.000000229c_{0} theta_dot_{0} + 0.002900971s_{0}^{2} + 0.002901012c_{0}^{2} + 0.000007729theta_dot_{0}^{2})$"
      ],
      "text/plain": [
       "<IPython.core.display.Markdown object>"
      ]
     },
     "metadata": {},
     "output_type": "display_data"
    },
    {
     "data": {
      "text/markdown": [
       "$ u(x)=(-0.586700136 - 4.838289829s_{0} + 0.056715341c_{0} - 0.300706491theta_dot_{0})$"
      ],
      "text/plain": [
       "<IPython.core.display.Markdown object>"
      ]
     },
     "metadata": {},
     "output_type": "display_data"
    },
    {
     "name": "stdout",
     "output_type": "stream",
     "text": [
      "0.58670013617765748*1 + 0.25*xd(2) + 0.40070649092080779*theta_dot(0) + -0.056715340671850314*c(0) + -0.066710170841005834*s(0)\n",
      "Lambda solution status: 1\n",
      "V solution status: 1\n"
     ]
    },
    {
     "data": {
      "text/markdown": [
       "$ V(x)=(0.011629486 - 0.011623300s_{0} - 0.011623344c_{0} - 0.000000508theta_dot_{0} + 0.005808010s_{0} c_{0} + 0.000000276s_{0} theta_dot_{0} + 0.000000274c_{0} theta_dot_{0} + 0.002904565s_{0}^{2} + 0.002904587c_{0}^{2} + 0.000003897theta_dot_{0}^{2})$"
      ],
      "text/plain": [
       "<IPython.core.display.Markdown object>"
      ]
     },
     "metadata": {},
     "output_type": "display_data"
    },
    {
     "data": {
      "text/markdown": [
       "$ u(x)=(-0.588665751 - 4.836954330s_{0} + 0.058175393c_{0} - 0.300736922theta_dot_{0})$"
      ],
      "text/plain": [
       "<IPython.core.display.Markdown object>"
      ]
     },
     "metadata": {},
     "output_type": "display_data"
    },
    {
     "name": "stdout",
     "output_type": "stream",
     "text": [
      "0.58866575113441333*1 + 0.25*xd(2) + 0.4007369217781902*theta_dot(0) + -0.058175393015327759*c(0) + -0.068045670270792336*s(0)\n",
      "Lambda solution status: 1\n",
      "V solution status: 1\n"
     ]
    },
    {
     "data": {
      "text/markdown": [
       "$ V(x)=(0.011615200 - 0.011606473s_{0} - 0.011606305c_{0} - 0.000000255theta_dot_{0} + 0.005797779s_{0} c_{0} + 0.000000115s_{0} theta_dot_{0} + 0.000000116c_{0} theta_dot_{0} + 0.002899945s_{0}^{2} + 0.002899861c_{0}^{2} + 0.000006736theta_dot_{0}^{2})$"
      ],
      "text/plain": [
       "<IPython.core.display.Markdown object>"
      ]
     },
     "metadata": {},
     "output_type": "display_data"
    },
    {
     "data": {
      "text/markdown": [
       "$ u(x)=(-0.590208095 - 4.835846456s_{0} + 0.059262142c_{0} - 0.300792136theta_dot_{0})$"
      ],
      "text/plain": [
       "<IPython.core.display.Markdown object>"
      ]
     },
     "metadata": {},
     "output_type": "display_data"
    },
    {
     "name": "stdout",
     "output_type": "stream",
     "text": [
      "0.59020809459833745*1 + 0.25*xd(2) + 0.40079213614221143*theta_dot(0) + -0.059262141648781082*c(0) + -0.069153544235721398*s(0)\n",
      "Lambda solution status: 1\n",
      "V solution status: 1\n"
     ]
    },
    {
     "data": {
      "text/markdown": [
       "$ V(x)=(0.011614351 - 0.011605375s_{0} - 0.011605396c_{0} - 0.000000129theta_dot_{0} + 0.005797225s_{0} c_{0} + 0.000000017s_{0} theta_dot_{0} + 0.000000013c_{0} theta_dot_{0} + 0.002899596s_{0}^{2} + 0.002899606c_{0}^{2} + 0.000006039theta_dot_{0}^{2})$"
      ],
      "text/plain": [
       "<IPython.core.display.Markdown object>"
      ]
     },
     "metadata": {},
     "output_type": "display_data"
    },
    {
     "data": {
      "text/markdown": [
       "$ u(x)=(-0.590381938 - 4.835679741s_{0} + 0.059347035c_{0} - 0.300840382theta_dot_{0})$"
      ],
      "text/plain": [
       "<IPython.core.display.Markdown object>"
      ]
     },
     "metadata": {},
     "output_type": "display_data"
    },
    {
     "name": "stdout",
     "output_type": "stream",
     "text": [
      "0.59038193754061086*1 + 0.25*xd(2) + 0.40084038165858538*theta_dot(0) + -0.059347034639812099*c(0) + -0.069320259438090837*s(0)\n",
      "Lambda solution status: 1\n",
      "V solution status: 1\n"
     ]
    },
    {
     "data": {
      "text/markdown": [
       "$ V(x)=(0.011617995 - 0.011609855s_{0} - 0.011609802c_{0} - 0.000000375theta_dot_{0} + 0.005800024s_{0} c_{0} + 0.000000188s_{0} theta_dot_{0} + 0.000000190c_{0} theta_dot_{0} + 0.002900835s_{0}^{2} + 0.002900808c_{0}^{2} + 0.000005264theta_dot_{0}^{2})$"
      ],
      "text/plain": [
       "<IPython.core.display.Markdown object>"
      ]
     },
     "metadata": {},
     "output_type": "display_data"
    },
    {
     "data": {
      "text/markdown": [
       "$ u(x)=(-0.591039335 - 4.835178013s_{0} + 0.059786254c_{0} - 0.300883831theta_dot_{0})$"
      ],
      "text/plain": [
       "<IPython.core.display.Markdown object>"
      ]
     },
     "metadata": {},
     "output_type": "display_data"
    },
    {
     "name": "stdout",
     "output_type": "stream",
     "text": [
      "0.59103933533444886*1 + 0.25*xd(2) + 0.40088383054476806*theta_dot(0) + -0.059786254186999011*c(0) + -0.069821986508757483*s(0)\n",
      "Lambda solution status: 1\n",
      "V solution status: 1\n"
     ]
    },
    {
     "data": {
      "text/markdown": [
       "$ V(x)=(0.011616595 - 0.011608078s_{0} - 0.011608127c_{0} - 0.000000437theta_dot_{0} + 0.005798964s_{0} c_{0} + 0.000000238s_{0} theta_dot_{0} + 0.000000241c_{0} theta_dot_{0} + 0.002900314s_{0}^{2} + 0.002900339c_{0}^{2} + 0.000005316theta_dot_{0}^{2})$"
      ],
      "text/plain": [
       "<IPython.core.display.Markdown object>"
      ]
     },
     "metadata": {},
     "output_type": "display_data"
    },
    {
     "data": {
      "text/markdown": [
       "$ u(x)=(-0.592112614 - 4.834408311s_{0} + 0.060543566c_{0} - 0.300927572theta_dot_{0})$"
      ],
      "text/plain": [
       "<IPython.core.display.Markdown object>"
      ]
     },
     "metadata": {},
     "output_type": "display_data"
    },
    {
     "name": "stdout",
     "output_type": "stream",
     "text": [
      "0.59211261358496425*1 + 0.25*xd(2) + 0.40092757196091344*theta_dot(0) + -0.060543565642965064*c(0) + -0.070591688996305635*s(0)\n",
      "Lambda solution status: 1\n",
      "V solution status: 1\n"
     ]
    },
    {
     "data": {
      "text/markdown": [
       "$ V(x)=(0.011616608 - 0.011607757s_{0} - 0.011607721c_{0} + 0.000000007theta_dot_{0} + 0.005798529s_{0} c_{0} - 0.000000034s_{0} theta_dot_{0} - 0.000000047c_{0} theta_dot_{0} + 0.002900183s_{0}^{2} + 0.002900165c_{0}^{2} + 0.000005880theta_dot_{0}^{2})$"
      ],
      "text/plain": [
       "<IPython.core.display.Markdown object>"
      ]
     },
     "metadata": {},
     "output_type": "display_data"
    },
    {
     "data": {
      "text/markdown": [
       "$ u(x)=(-0.593061612 - 4.833721566s_{0} + 0.061209714c_{0} - 0.300976618theta_dot_{0})$"
      ],
      "text/plain": [
       "<IPython.core.display.Markdown object>"
      ]
     },
     "metadata": {},
     "output_type": "display_data"
    },
    {
     "name": "stdout",
     "output_type": "stream",
     "text": [
      "0.59306161227320486*1 + 0.25*xd(2) + 0.40097661809742835*theta_dot(0) + -0.061209713749026208*c(0) + -0.071278433777627548*s(0)\n",
      "Lambda solution status: 1\n",
      "V solution status: 1\n"
     ]
    },
    {
     "data": {
      "text/markdown": [
       "$ V(x)=(0.011621088 - 0.011614204s_{0} - 0.011612810c_{0} - 0.000000436theta_dot_{0} + 0.005801930s_{0} c_{0} + 0.000000233s_{0} theta_dot_{0} + 0.000000202c_{0} theta_dot_{0} + 0.002902349s_{0}^{2} + 0.002901652c_{0}^{2} + 0.000006479theta_dot_{0}^{2})$"
      ],
      "text/plain": [
       "<IPython.core.display.Markdown object>"
      ]
     },
     "metadata": {},
     "output_type": "display_data"
    },
    {
     "data": {
      "text/markdown": [
       "$ u(x)=(-0.594216313 - 4.832880505s_{0} + 0.062016244c_{0} - 0.301029561theta_dot_{0})$"
      ],
      "text/plain": [
       "<IPython.core.display.Markdown object>"
      ]
     },
     "metadata": {},
     "output_type": "display_data"
    },
    {
     "name": "stdout",
     "output_type": "stream",
     "text": [
      "0.59421631340933656*1 + 0.25*xd(2) + 0.40102956130034062*theta_dot(0) + -0.062016243681502263*c(0) + -0.072119495076919726*s(0)\n",
      "Lambda solution status: 1\n",
      "V solution status: 1\n"
     ]
    },
    {
     "data": {
      "text/markdown": [
       "$ V(x)=(0.011617347 - 0.011608689s_{0} - 0.011608706c_{0} - 0.000000185theta_dot_{0} + 0.005799073s_{0} c_{0} + 0.000000083s_{0} theta_dot_{0} + 0.000000081c_{0} theta_dot_{0} + 0.002900487s_{0}^{2} + 0.002900496c_{0}^{2} + 0.000006533theta_dot_{0}^{2})$"
      ],
      "text/plain": [
       "<IPython.core.display.Markdown object>"
      ]
     },
     "metadata": {},
     "output_type": "display_data"
    },
    {
     "data": {
      "text/markdown": [
       "$ u(x)=(-0.594221277 - 4.832851530s_{0} + 0.062001313c_{0} - 0.301082796theta_dot_{0})$"
      ],
      "text/plain": [
       "<IPython.core.display.Markdown object>"
      ]
     },
     "metadata": {},
     "output_type": "display_data"
    },
    {
     "name": "stdout",
     "output_type": "stream",
     "text": [
      "0.59422127742091901*1 + 0.25*xd(2) + 0.4010827955838977*theta_dot(0) + -0.062001312975039934*c(0) + -0.072148470356809824*s(0)\n",
      "Lambda solution status: 1\n",
      "V solution status: 1\n"
     ]
    },
    {
     "data": {
      "text/markdown": [
       "$ V(x)=(0.011625284 - 0.011618676s_{0} - 0.011618580c_{0} - 0.000000298theta_dot_{0} + 0.005805313s_{0} c_{0} + 0.000000149s_{0} theta_dot_{0} + 0.000000124c_{0} theta_dot_{0} + 0.002903355s_{0}^{2} + 0.002903308c_{0}^{2} + 0.000004232theta_dot_{0}^{2})$"
      ],
      "text/plain": [
       "<IPython.core.display.Markdown object>"
      ]
     },
     "metadata": {},
     "output_type": "display_data"
    },
    {
     "data": {
      "text/markdown": [
       "$ u(x)=(-0.594551174 - 4.832581271s_{0} + 0.062213432c_{0} - 0.301117357theta_dot_{0})$"
      ],
      "text/plain": [
       "<IPython.core.display.Markdown object>"
      ]
     },
     "metadata": {},
     "output_type": "display_data"
    },
    {
     "name": "stdout",
     "output_type": "stream",
     "text": [
      "0.59455117359654253*1 + 0.25*xd(2) + 0.4011173568343297*theta_dot(0) + -0.062213431671171056*c(0) + -0.072418729448227914*s(0)\n",
      "Lambda solution status: 1\n",
      "V solution status: 1\n"
     ]
    },
    {
     "data": {
      "text/markdown": [
       "$ V(x)=(0.011631630 - 0.011625940s_{0} - 0.011625971c_{0} - 0.000000324theta_dot_{0} + 0.005809624s_{0} c_{0} + 0.000000183s_{0} theta_dot_{0} + 0.000000176c_{0} theta_dot_{0} + 0.002905322s_{0}^{2} + 0.002905338c_{0}^{2} + 0.000003478theta_dot_{0}^{2})$"
      ],
      "text/plain": [
       "<IPython.core.display.Markdown object>"
      ]
     },
     "metadata": {},
     "output_type": "display_data"
    },
    {
     "data": {
      "text/markdown": [
       "$ u(x)=(-0.595941107 - 4.831611909s_{0} + 0.063224722c_{0} - 0.301146656theta_dot_{0})$"
      ],
      "text/plain": [
       "<IPython.core.display.Markdown object>"
      ]
     },
     "metadata": {},
     "output_type": "display_data"
    },
    {
     "name": "stdout",
     "output_type": "stream",
     "text": [
      "0.5959411069923477*1 + 0.25*xd(2) + 0.40114665602074284*theta_dot(0) + -0.063224721639753664*c(0) + -0.073388090602063194*s(0)\n",
      "Lambda solution status: 1\n",
      "V solution status: 1\n"
     ]
    },
    {
     "data": {
      "text/markdown": [
       "$ V(x)=(0.011617797 - 0.011609613s_{0} - 0.011609556c_{0} - 0.000000419theta_dot_{0} + 0.005799866s_{0} c_{0} + 0.000000236s_{0} theta_dot_{0} + 0.000000222c_{0} theta_dot_{0} + 0.002900771s_{0}^{2} + 0.002900742c_{0}^{2} + 0.000005980theta_dot_{0}^{2})$"
      ],
      "text/plain": [
       "<IPython.core.display.Markdown object>"
      ]
     },
     "metadata": {},
     "output_type": "display_data"
    },
    {
     "data": {
      "text/markdown": [
       "$ u(x)=(-0.596391369 - 4.831297093s_{0} + 0.063560228c_{0} - 0.301195348theta_dot_{0})$"
      ],
      "text/plain": [
       "<IPython.core.display.Markdown object>"
      ]
     },
     "metadata": {},
     "output_type": "display_data"
    },
    {
     "name": "stdout",
     "output_type": "stream",
     "text": [
      "0.59639136888174371*1 + 0.25*xd(2) + 0.40119534756689879*theta_dot(0) + -0.063560228499172311*c(0) + -0.073702907477832369*s(0)\n",
      "Lambda solution status: 1\n",
      "V solution status: 1\n"
     ]
    },
    {
     "data": {
      "text/markdown": [
       "$ V(x)=(0.011617134 - 0.011608760s_{0} - 0.011608742c_{0} - 0.000000247theta_dot_{0} + 0.005799198s_{0} c_{0} + 0.000000102s_{0} theta_dot_{0} + 0.000000087c_{0} theta_dot_{0} + 0.002900593s_{0}^{2} + 0.002900584c_{0}^{2} + 0.000006442theta_dot_{0}^{2})$"
      ],
      "text/plain": [
       "<IPython.core.display.Markdown object>"
      ]
     },
     "metadata": {},
     "output_type": "display_data"
    },
    {
     "data": {
      "text/markdown": [
       "$ u(x)=(-0.596810982 - 4.830989197s_{0} + 0.063853241c_{0} - 0.301248333theta_dot_{0})$"
      ],
      "text/plain": [
       "<IPython.core.display.Markdown object>"
      ]
     },
     "metadata": {},
     "output_type": "display_data"
    },
    {
     "name": "stdout",
     "output_type": "stream",
     "text": [
      "0.59681098202909355*1 + 0.25*xd(2) + 0.40124833303531493*theta_dot(0) + -0.063853240986886273*c(0) + -0.07401080298538254*s(0)\n",
      "Lambda solution status: 1\n",
      "V solution status: 1\n"
     ]
    },
    {
     "data": {
      "text/markdown": [
       "$ V(x)=(0.011621068 - 0.011613120s_{0} - 0.011613189c_{0} - 0.000000287theta_dot_{0} + 0.005801745s_{0} c_{0} + 0.000000137s_{0} theta_dot_{0} + 0.000000127c_{0} theta_dot_{0} + 0.002901734s_{0}^{2} + 0.002901768c_{0}^{2} + 0.000005081theta_dot_{0}^{2})$"
      ],
      "text/plain": [
       "<IPython.core.display.Markdown object>"
      ]
     },
     "metadata": {},
     "output_type": "display_data"
    },
    {
     "data": {
      "text/markdown": [
       "$ u(x)=(-0.596707431 - 4.831046946s_{0} + 0.063775777c_{0} - 0.301291079theta_dot_{0})$"
      ],
      "text/plain": [
       "<IPython.core.display.Markdown object>"
      ]
     },
     "metadata": {},
     "output_type": "display_data"
    },
    {
     "name": "stdout",
     "output_type": "stream",
     "text": [
      "0.5967074308645548*1 + 0.25*xd(2) + 0.40129107873489822*theta_dot(0) + -0.063775776915885249*c(0) + -0.073953054448836042*s(0)\n",
      "Lambda solution status: 1\n",
      "V solution status: 1\n"
     ]
    },
    {
     "data": {
      "text/markdown": [
       "$ V(x)=(0.011622436 - 0.011615205s_{0} - 0.011615169c_{0} - 0.000000321theta_dot_{0} + 0.005803223s_{0} c_{0} + 0.000000149s_{0} theta_dot_{0} + 0.000000147c_{0} theta_dot_{0} + 0.002902369s_{0}^{2} + 0.002902351c_{0}^{2} + 0.000004974theta_dot_{0}^{2})$"
      ],
      "text/plain": [
       "<IPython.core.display.Markdown object>"
      ]
     },
     "metadata": {},
     "output_type": "display_data"
    },
    {
     "data": {
      "text/markdown": [
       "$ u(x)=(-0.596724651 - 4.830989738s_{0} + 0.063759591c_{0} - 0.301334282theta_dot_{0})$"
      ],
      "text/plain": [
       "<IPython.core.display.Markdown object>"
      ]
     },
     "metadata": {},
     "output_type": "display_data"
    },
    {
     "name": "stdout",
     "output_type": "stream",
     "text": [
      "0.59672465120385609*1 + 0.25*xd(2) + 0.40133428183289876*theta_dot(0) + -0.063759591482763958*c(0) + -0.074010261941752198*s(0)\n",
      "Lambda solution status: 1\n",
      "V solution status: 1\n"
     ]
    },
    {
     "data": {
      "text/markdown": [
       "$ V(x)=(0.011626273 - 0.011619778s_{0} - 0.011619829c_{0} - 0.000000339theta_dot_{0} + 0.005805840s_{0} c_{0} + 0.000000173s_{0} theta_dot_{0} + 0.000000174c_{0} theta_dot_{0} + 0.002903737s_{0}^{2} + 0.002903762c_{0}^{2} + 0.000005223theta_dot_{0}^{2})$"
      ],
      "text/plain": [
       "<IPython.core.display.Markdown object>"
      ]
     },
     "metadata": {},
     "output_type": "display_data"
    },
    {
     "data": {
      "text/markdown": [
       "$ u(x)=(-0.597311811 - 4.830570881s_{0} + 0.064183957c_{0} - 0.301376843theta_dot_{0})$"
      ],
      "text/plain": [
       "<IPython.core.display.Markdown object>"
      ]
     },
     "metadata": {},
     "output_type": "display_data"
    },
    {
     "name": "stdout",
     "output_type": "stream",
     "text": [
      "0.59731181071916339*1 + 0.25*xd(2) + 0.40137684250673467*theta_dot(0) + -0.064183957174608022*c(0) + -0.074429119258025089*s(0)\n",
      "Lambda solution status: 1\n",
      "V solution status: 1\n"
     ]
    },
    {
     "data": {
      "text/markdown": [
       "$ V(x)=(0.011617804 - 0.011609173s_{0} - 0.011609206c_{0} - 0.000000244theta_dot_{0} + 0.005799513s_{0} c_{0} + 0.000000136s_{0} theta_dot_{0} + 0.000000141c_{0} theta_dot_{0} + 0.002900526s_{0}^{2} + 0.002900543c_{0}^{2} + 0.000004850theta_dot_{0}^{2})$"
      ],
      "text/plain": [
       "<IPython.core.display.Markdown object>"
      ]
     },
     "metadata": {},
     "output_type": "display_data"
    },
    {
     "data": {
      "text/markdown": [
       "$ u(x)=(-0.597645536 - 4.830332561s_{0} + 0.064423930c_{0} - 0.301417902theta_dot_{0})$"
      ],
      "text/plain": [
       "<IPython.core.display.Markdown object>"
      ]
     },
     "metadata": {},
     "output_type": "display_data"
    },
    {
     "name": "stdout",
     "output_type": "stream",
     "text": [
      "0.59764553600553827*1 + 0.25*xd(2) + 0.40141790192146054*theta_dot(0) + -0.064423930130103196*c(0) + -0.074667439470176511*s(0)\n",
      "Lambda solution status: 1\n",
      "V solution status: 1\n"
     ]
    },
    {
     "data": {
      "text/markdown": [
       "$ V(x)=(0.011618108 - 0.011609989s_{0} - 0.011609929c_{0} - 0.000000271theta_dot_{0} + 0.005800105s_{0} c_{0} + 0.000000116s_{0} theta_dot_{0} + 0.000000097c_{0} theta_dot_{0} + 0.002900870s_{0}^{2} + 0.002900840c_{0}^{2} + 0.000005495theta_dot_{0}^{2})$"
      ],
      "text/plain": [
       "<IPython.core.display.Markdown object>"
      ]
     },
     "metadata": {},
     "output_type": "display_data"
    },
    {
     "data": {
      "text/markdown": [
       "$ u(x)=(-0.597731798 - 4.830232084s_{0} + 0.064460729c_{0} - 0.301466133theta_dot_{0})$"
      ],
      "text/plain": [
       "<IPython.core.display.Markdown object>"
      ]
     },
     "metadata": {},
     "output_type": "display_data"
    }
   ],
   "source": [
    "# finding the control input itself using alternations\n",
    "\n",
    "from pydrake.solvers.mathematicalprogram import MathematicalProgram, SolverOptions, Solve\n",
    "from pydrake.solvers.csdp import CsdpSolver\n",
    "from pydrake.solvers.mosek import MosekSolver\n",
    "\n",
    "negative_infinity = float('-inf')\n",
    "coeff = 1e-5\n",
    "\n",
    "def find_implicit_lambdas(x, xd, V, Vdot, g):\n",
    "    prog = MathematicalProgram()\n",
    "    prog.AddIndeterminates(x)\n",
    "    prog.AddIndeterminates(xd)\n",
    "    \n",
    "    \n",
    "    print(g[2])\n",
    "        \n",
    "    y = np.hstack([x, xd])\n",
    "    \n",
    "    l_deg = math.ceil(V.TotalDegree()/2) * 2\n",
    "    \n",
    "    lambda_ = prog.NewSosPolynomial(Variables(y), l_deg)[0]\n",
    "        \n",
    "    lambda_g = []\n",
    "    \n",
    "    for i in range(g.size): \n",
    "        gi_deg = max(l_deg + V.TotalDegree() - g[i].TotalDegree(), 0)\n",
    "        lambda_g.append(prog.NewFreePolynomial(Variables(y), gi_deg))\n",
    "        \n",
    "    lambda_g = np.array(lambda_g)    \n",
    "    \n",
    "    s_deg = max(l_deg + V.TotalDegree() - 2, 0)\n",
    "    lambda_s = prog.NewFreePolynomial(Variables(y), s_deg)\n",
    "    \n",
    "    trig = Polynomial(x[0]**2 + x[1]**2 - 1)\n",
    "  \n",
    "    prog.AddSosConstraint(-Vdot + lambda_*(V - 0.001) + lambda_g.dot(g) - lambda_s*trig)\n",
    "        \n",
    "    solver = MosekSolver()\n",
    "    result = solver.Solve(prog)\n",
    "    \n",
    "    k = result.get_solver_details().solution_status\n",
    "                \n",
    "    print(\"Lambda solution status: \" + str(k))\n",
    "    \n",
    "    assert result.is_success()\n",
    "    \n",
    "    lambda_g_results = []\n",
    "    \n",
    "    for i in range(g.size):\n",
    "        lambda_g_results.append(result.GetSolution(lambda_g[i]).RemoveTermsWithSmallCoefficients(coeff))\n",
    "    \n",
    "    return result.GetSolution(lambda_).RemoveTermsWithSmallCoefficients(coeff), np.array(lambda_g_results), \\\n",
    "result.GetSolution(lambda_s).RemoveTermsWithSmallCoefficients(coeff)\n",
    "\n",
    "def find_implicit_V(x, xd, lambda_, lambda_g, lambda_s, g, V_degree):\n",
    "    prog = MathematicalProgram()\n",
    "    prog.AddIndeterminates(x)\n",
    "    prog.AddIndeterminates(xd)\n",
    "            \n",
    "    V, Q = prog.NewSosPolynomial(Variables(x), V_degree)\n",
    "    Vdot = V.Jacobian(x).dot(xd)\n",
    "    \n",
    "    # the u business\n",
    "    u = prog.NewFreePolynomial(Variables(x), 1)\n",
    "    \n",
    "    g2 = Polynomial(p.mass()*(p.length()**2)*xd[2] + p.damping()*x[2] \\\n",
    "                    - p.mass()*p.gravity()*p.length()*x[0]) - u\n",
    "    g[2] = g2\n",
    "    \n",
    "    trig = Polynomial(x[0]**2 + x[1]**2 - 1)\n",
    "    prog.AddSosConstraint(-Vdot + lambda_*(V - 0.001) + lambda_g.dot(g) - lambda_s*trig)\n",
    "    \n",
    "    mgl = p.mass()*p.length()*p.gravity()\n",
    "    \n",
    "    prog.AddLinearCost(np.trace(Q))    \n",
    "    prog.AddLinearConstraint(V.ToExpression().Substitute({x[0]: 1, x[1]:1, x[2]:0}) == 0)\n",
    "    \n",
    "    solver = MosekSolver()\n",
    "    result = solver.Solve(prog)\n",
    "    \n",
    "    k = result.get_solver_details().solution_status\n",
    "                \n",
    "    print(\"V solution status: \" + str(k))\n",
    "    \n",
    "    assert result.is_success()\n",
    "        \n",
    "    return result.GetSolution(V), result.GetSolution(Q), result.GetSolution(u)\n",
    "\n",
    "\n",
    "def problem_solver_implicit(S, V_degree, G):\n",
    "    prog = MathematicalProgram()\n",
    "    s = prog.NewIndeterminates(1, \"s\")\n",
    "    c = prog.NewIndeterminates(1, \"c\")\n",
    "    theta_dot = prog.NewIndeterminates(1, \"theta_dot\")\n",
    "    \n",
    "    xd = prog.NewIndeterminates(3, 'xd')\n",
    "    \n",
    "    state_V = np.hstack([theta_dot, c, s, [1]])\n",
    "    \n",
    "    x = np.hstack([s, c, theta_dot])\n",
    "    \n",
    "    u = -G@x\n",
    "        \n",
    "    g0 = xd[0] - x[1]*x[2]\n",
    "    g1 = xd[1] + x[0]*x[2]\n",
    "    g2 = p.mass()*(p.length()**2)*xd[2] + p.damping()*x[2] - p.mass()*p.gravity()*p.length()*x[0] - u\n",
    "    \n",
    "    g = np.array([g0, g1, g2])\n",
    "    \n",
    "    V = state_V.T@S@state_V\n",
    "    Vdot = V.Jacobian(x).dot(xd)\n",
    "    \n",
    "    V = Polynomial(V)\n",
    "    Vdot = Polynomial(Vdot)\n",
    "    \n",
    "    g_poly = []\n",
    "    for i in range(g.size):\n",
    "        g_poly.append(Polynomial(g[i]))\n",
    "        \n",
    "    g_poly = np.array(g_poly)\n",
    "    \n",
    "    display(Markdown(\"$ V(x)=\"+ToLatex(V.ToExpression(), 9)+\"$\"))\n",
    "    for i in range(50):\n",
    "        lambda_, lambda_g, lambda_s = find_implicit_lambdas(x, xd, V, Vdot, g_poly)\n",
    "        \n",
    "#         display(Markdown(\"$ \\lambda(x)=\"+ToLatex(lambda_s.ToExpression())+\"$\"))\n",
    "#         display(Markdown(\"$ \\lambda_g(x)=\"+ToLatex(lambda_g[0].ToExpression())+\"$\"))\n",
    "#         display(Markdown(\"$ \\lambda_g(x)=\"+ToLatex(lambda_g[1].ToExpression())+\"$\"))\n",
    "        \n",
    "        V, Q, u = find_implicit_V(x, xd, lambda_, lambda_g, lambda_s, g_poly, V_degree)\n",
    "        \n",
    "        g2 = Polynomial(p.mass()*(p.length()**2)*xd[2] + p.damping()*x[2] \\\n",
    "                    - p.mass()*p.gravity()*p.length()*x[0]) - u\n",
    "        g_poly[2] = g2\n",
    "        \n",
    "        Vdot = V.Jacobian(x).dot(xd)\n",
    "     \n",
    "        display(Markdown(\"$ V(x)=\"+ToLatex(V.ToExpression(), 9)+\"$\"))\n",
    "        \n",
    "        display(Markdown(\"$ u(x)=\"+ToLatex(u.ToExpression(), 9)+\"$\"))\n",
    "        \n",
    "    return V, Q, u, x\n",
    "\n",
    "V_degree = 2\n",
    "V, Q, u, x = problem_solver_implicit(candidate_matrix_new, V_degree, G_casted)"
   ]
  },
  {
   "cell_type": "code",
   "execution_count": 100,
   "metadata": {},
   "outputs": [
    {
     "data": {
      "text/plain": [
       "<Polynomial \"-0.59773179827160239*1 + -0.3014661331948062*theta_dot(0) + 0.064460728667436365*c(0) + -4.8302320842011817*s(0)\">"
      ]
     },
     "execution_count": 100,
     "metadata": {},
     "output_type": "execute_result"
    }
   ],
   "source": [
    "u"
   ]
  },
  {
   "cell_type": "code",
   "execution_count": 101,
   "metadata": {},
   "outputs": [
    {
     "data": {
      "text/plain": [
       "{<Monomial \"1\">: <Expression \"-0.59773179827160239\">,\n",
       " <Monomial \"theta_dot(0)\">: <Expression \"-0.3014661331948062\">,\n",
       " <Monomial \"c(0)\">: <Expression \"0.064460728667436365\">,\n",
       " <Monomial \"s(0)\">: <Expression \"-4.8302320842011817\">}"
      ]
     },
     "execution_count": 101,
     "metadata": {},
     "output_type": "execute_result"
    }
   ],
   "source": [
    "u.monomial_to_coefficient_map()"
   ]
  },
  {
   "cell_type": "code",
   "execution_count": 102,
   "metadata": {},
   "outputs": [
    {
     "data": {
      "text/plain": [
       "array([[10.74101105,  2.42596626]])"
      ]
     },
     "execution_count": 102,
     "metadata": {},
     "output_type": "execute_result"
    }
   ],
   "source": [
    "G"
   ]
  },
  {
   "cell_type": "code",
   "execution_count": 51,
   "metadata": {},
   "outputs": [],
   "source": [
    "dv_0 = x[1]*x[2]\n",
    "dv_1 = -x[0]*x[2]\n",
    "dv_2 = (-p.damping()/(p.mass()*p.length()**2))*x[2] + (p.gravity()/p.length())*x[0] + u.ToExpression()\n",
    "\n",
    "x_dot = np.array([dv_0, dv_1, dv_2])"
   ]
  },
  {
   "cell_type": "code",
   "execution_count": 96,
   "metadata": {},
   "outputs": [],
   "source": [
    "from pydrake.symbolic import Variable\n",
    "from pydrake.systems.primitives import SymbolicVectorSystem\n",
    "import pydrake.forwarddiff"
   ]
  },
  {
   "cell_type": "code",
   "execution_count": 148,
   "metadata": {},
   "outputs": [
    {
     "data": {
      "image/png": "[encoded data removed]",
      "text/html": [
       "\n",
       "\n",
       "<style>\n",
       "\n",
       "</style>\n",
       "\n",
       "<div id=\"fig_el1393441400031961420648443194997\"></div>\n",
       "<script>\n",
       "function mpld3_load_lib(url, callback){\n",
       "  var s = document.createElement('script');\n",
       "  s.src = url;\n",
       "  s.async = true;\n",
       "  s.onreadystatechange = s.onload = callback;\n",
       "  s.onerror = function(){console.warn(\"failed to load library \" + url);};\n",
       "  document.getElementsByTagName(\"head\")[0].appendChild(s);\n",
       "}\n",
       "\n",
       "if(typeof(mpld3) !== \"undefined\" && mpld3._mpld3IsLoaded){\n",
       "   // already loaded: just create the figure\n",
       "   !function(mpld3){\n",
       "       \n",
       "       mpld3.draw_figure(\"fig_el1393441400031961420648443194997\", {\"width\": 432.0, \"height\": 288.0, \"axes\": [{\"bbox\": [0.125, 0.125, 0.775, 0.755], \"xlim\": [-1.0, 21.0], \"ylim\": [-9.56153279270675, 7.630516893544083], \"xdomain\": [-1.0, 21.0], \"ydomain\": [-9.56153279270675, 7.630516893544083], \"xscale\": \"linear\", \"yscale\": \"linear\", \"axes\": [{\"position\": \"bottom\", \"nticks\": 11, \"tickvalues\": null, \"tickformat_formatter\": \"\", \"tickformat\": null, \"scale\": \"linear\", \"fontsize\": 10.0, \"grid\": {\"gridOn\": false}, \"visible\": true}, {\"position\": \"left\", \"nticks\": 10, \"tickvalues\": null, \"tickformat_formatter\": \"\", \"tickformat\": null, \"scale\": \"linear\", \"fontsize\": 10.0, \"grid\": {\"gridOn\": false}, \"visible\": true}], \"axesbg\": \"#FFFFFF\", \"axesbgalpha\": null, \"zoomable\": true, \"id\": \"el139344140003196143936\", \"lines\": [{\"data\": \"data01\", \"xindex\": 0, \"yindex\": 1, \"coordinates\": \"data\", \"id\": \"el139344140003196264992\", \"color\": \"#1F77B4\", \"linewidth\": 1.5, \"dasharray\": \"none\", \"alpha\": 1, \"zorder\": 2, \"drawstyle\": \"default\"}, {\"data\": \"data01\", \"xindex\": 0, \"yindex\": 2, \"coordinates\": \"data\", \"id\": \"el139344140003196265520\", \"color\": \"#FF7F0E\", \"linewidth\": 1.5, \"dasharray\": \"none\", \"alpha\": 1, \"zorder\": 2, \"drawstyle\": \"default\"}], \"paths\": [], \"markers\": [], \"texts\": [{\"text\": \"t\", \"position\": [0.49999999999999994, -0.09657836644591611], \"coordinates\": \"axes\", \"h_anchor\": \"middle\", \"v_baseline\": \"hanging\", \"rotation\": -0.0, \"fontsize\": 10.0, \"color\": \"#000000\", \"alpha\": 1, \"zorder\": 3, \"id\": \"el139344140003196157088\"}, {\"text\": \"y(t)\", \"position\": [-0.0769115890083632, 0.49999999999999994], \"coordinates\": \"axes\", \"h_anchor\": \"middle\", \"v_baseline\": \"auto\", \"rotation\": -90.0, \"fontsize\": 10.0, \"color\": \"#000000\", \"alpha\": 1, \"zorder\": 3, \"id\": \"el139344140003196154784\"}], \"collections\": [], \"images\": [], \"sharex\": [], \"sharey\": []}], \"data\": {\"data01\": [[0.0, 3.141592653589793, 0.0], [0.0001, 3.1415926502788705, -6.6217680086299e-05], [0.0006000000000000001, 3.1415925344104703, -0.0003972369785465341], [0.0031000000000000003, 3.141589473988661, -0.0020506698754818756], [0.015600000000000001, 3.1415123471360955, -0.010284213944478718], [0.04544865433980611, 3.1409136534527513, -0.029871824288507938], [0.07529730867961222, 3.139727776275738, -0.049697896354537544], [0.10514596301941834, 3.137941295194742, -0.07018567396132547], [0.13499461735922444, 3.135528097017582, -0.09176389206801555], [0.16484327169903054, 3.1324490758862993, -0.11487590794506561], [0.19469192603883664, 3.1286515596058684, -0.13998894643314055], [0.22454058037864275, 3.124068455946921, -0.16760364897918872], [0.2543892347184489, 3.1186171070513593, -0.19826411450014922], [0.2808390927429597, 3.112980988410018, -0.2284589087698022], [0.30728895076747054, 3.1065034260008795, -0.2619734311356463], [0.33373880879198137, 3.09909003638751, -0.29931410124165625], [0.3601886668164922, 3.090632333688443, -0.3410422041766808], [0.38325317367678813, 3.0823079801876903, -0.38149745424822357], [0.40631768053708406, 3.073002289334245, -0.4262208891274129], [0.42938218739738, 3.0626110979657333, -0.47571705062973757], [0.4524466942576759, 3.0510180222637078, -0.5305420218512014], [0.4726786241471595, 3.0397568027498876, -0.5835046755739165], [0.4929105540366431, 3.027374046501681, -0.641492148717924], [0.5131424839261266, 3.013763169177197, -0.7049983688713221], [0.5333744138156101, 2.9988071571666897, -0.774560947633747], [0.5513837700556864, 2.9842586407576426, -0.8420499759610833], [0.5693931262957627, 2.9684440194073867, -0.9152460964886643], [0.5874024825358389, 2.951256252607319, -0.9946282268661776], [0.6054118387759152, 2.9325793637166604, -1.080710085210507], [0.6234211950159915, 2.912287801003228, -1.1740414928078449], [0.6393256115559881, 2.892916915944764, -1.2629610888411928], [0.6552300280959847, 2.872080414642213, -1.3584202929993885], [0.6711344446359814, 2.849670732214505, -1.460870146557329], [0.687038861175978, 2.8255729544426478, -1.570783633927185], [0.7029432777159746, 2.7996644777972572, -1.688654429365542], [0.7188476942559713, 2.7718146953184113, -1.8149948673198897], [0.7330559799463475, 2.7451799549206637, -1.935455582436346], [0.7472642656367238, 2.7167804021613824, -2.0634813987283467], [0.7614725513271, 2.6865057929718956, -2.1994607452898642], [0.7756808370174763, 2.654240359034432, -2.343781998686191], [0.7898891227078525, 2.6198628443051684, -2.496828241178406], [0.8040974083982287, 2.583246625001382, -2.6589707179482014], [0.818305694088605, 2.5442599330832496, -2.830560772360424], [0.8325139797789812, 2.5027662065389977, -3.011920019538087], [0.8467222654693575, 2.458624593290501, -3.2033285054659584], [0.8609305511597337, 2.4116906391677775, -3.4050105953687164], [0.87513883685011, 2.361817193983946, -3.61711834639413], [0.8893471225404862, 2.3088555730221474, -3.839712152304934], [0.9035554082308624, 2.2526570138623785, -4.072738510145869], [0.9177636939212387, 2.193074469941501, -4.31600486039486], [0.9319719796116149, 2.1299647819197536, -4.569151603733134], [0.9461802653019912, 2.0631912650309965, -4.8316216103603455], [0.9648750993769039, 1.9695387734877912, -5.189808858776236], [0.9835699334518165, 1.8690707926740755, -5.560244991156393], [0.9990499489381105, 1.7805773730691132, -5.87384831885932], [1.0145299644244044, 1.6871978703012027, -6.191055995790303], [1.0270034467613784, 1.6083754632620921, -6.4472669738534245], [1.0394769290983525, 1.5263639138965512, -6.702077433533597], [1.0505616635498498, 1.4508305051121397, -6.92570459263452], [1.061646398001347, 1.3728404402974421, -7.145052470817156], [1.0727311324528443, 1.2924504236940009, -7.358429607932201], [1.0838158669043416, 1.2097365175046684, -7.564037912495024], [1.0936772478868806, 1.1342755714046537, -7.738901496576268], [1.1035386288694196, 1.0571334937877166, -7.904759624601302], [1.1134000098519585, 0.9784059197704212, -8.060226132634726], [1.1232613908344975, 0.898202168010331, -8.203915614743645], [1.1331227718170365, 0.8166451248269782, -8.33446571113308], [1.1429841527995754, 0.7338709001081316, -8.450561003249303], [1.1528455337821144, 0.6500282422693939, -8.55095786200779], [1.1627069147646534, 0.5652777066150412, -8.634509471604327], [1.1725682957471923, 0.4797905796043626, -8.700190158730068], [1.1844542018471516, 0.37603134417232686, -8.754362004650051], [1.1963401079471108, 0.27179637065051654, -8.780075988786257], [1.20822601404707, 0.16742928307245297, -8.776495356837074], [1.2201119201470292, 0.0632811998313866, -8.74319897987604], [1.2319978262469884, -0.040294302219438166, -8.680194850571953], [1.2438837323469476, -0.14294628988031466, -8.587917691166188], [1.2538525491046681, -0.22807862901658504, -8.488557799900933], [1.2638213658623887, -0.31212358818601327, -8.3698962343677], [1.2737901826201092, -0.3948929672418982, -8.232804252089103], [1.2827139930442806, -0.4677573026030095, -8.095280178185408], [1.291637803468452, -0.539335127097339, -7.944614099141797], [1.3005616138926233, -0.6095130353279428, -7.781682536498504], [1.3094854243167946, -0.6781856688986965, -7.60740991353366], [1.318409234740966, -0.7452560758148777, -7.422753359536666], [1.3273330451651373, -0.8106359361588791, -7.228687994794872], [1.3362568555893086, -0.8742456598827156, -7.026193033945382], [1.34518066601348, -0.9360143652950301, -6.816238982320283], [1.3541044764376513, -0.9958797489726275, -6.599776132827116], [1.3630282868618226, -1.053787859377571, -6.377724503839282], [1.371952097285994, -1.1096927874266602, -6.150965294970604], [1.3808759077101653, -1.1635562876841399, -5.9203338801420236], [1.3897997181343367, -1.215347343794298, -5.686614307853633], [1.398723528558508, -1.2650416913145417, -5.450535238087432], [1.4076473389826794, -1.312621310333843, -5.212767214107597], [1.4183934334195425, -1.3670932433045584, -4.925065234222384], [1.4291395278564056, -1.4184694235037483, -4.636747992983201], [1.4398856222932688, -1.4667477892285599, -4.348641966197468], [1.4529875267671395, -1.5214285375729335, -3.998675184401942], [1.4660894312410102, -1.571538833893209, -3.6511118608473314], [1.4833733253879058, -1.6307163596103982, -3.197626435831691], [1.5053764786975763, -1.6948123815608536, -2.6303661364770594], [1.5224594152260331, -1.7360478939986133, -2.1985508516460968], [1.53954235175449, -1.7699727879202007, -1.7744584551177145], [1.554306510326517, -1.7935039620381128, -1.4140305822822465], [1.569070668898544, -1.8117538530258015, -1.0589826879840485], [1.5838348274705711, -1.8247992367815244, -0.7089408797075302], [1.5985989860425982, -1.8327107744672486, -0.3634557992863423], [1.6133631446146253, -1.8355521214707073, -0.022032491911598284], [1.6281273031866523, -1.8333794617571941, 0.31584177015334225], [1.6428914617586794, -1.8262414404911107, 0.6506712876943084], [1.6576556203307065, -1.8141794741822082, 0.9829269232760649], [1.6724197789027335, -1.797228423891574, 1.313021869029261], [1.6871839374747606, -1.7754176226736467, 1.641287844323154], [1.7019480960467877, -1.748772252939573, 1.9679514670129041], [1.7167122546188147, -1.7173150723285486, 2.2931106669735146], [1.7359019948337435, -1.6692742920038715, 2.713373353206117], [1.7609778398821285, -1.594398222718112, 3.257510731642609], [1.7780866934488009, -1.5355224517375046, 3.62423071389681], [1.7951955470154732, -1.4704150703540422, 3.9856921860188708], [1.8090569983943958, -1.4131672315146855, 4.27342655942597], [1.8229184497733184, -1.351970217330494, 4.555272887325899], [1.8352821533251769, -1.2941272885301098, 4.800542098443717], [1.8476458568770353, -1.2332937118511589, 5.038846981144869], [1.8600095604288938, -1.1695633094074962, 5.268920384996066], [1.8723732639807522, -1.1030462541263042, 5.48938688917963], [1.883400389197, -1.0414725136918925, 5.676723488363204], [1.8944275144132476, -0.9778865445657303, 5.854161307221151], [1.9054546396294954, -0.9124036654997019, 6.020579023287649], [1.916481764845743, -0.8451516572687103, 6.174840690608481], [1.9275088900619908, -0.7762708234870788, 6.315814255047747], [1.9385360152782385, -0.7059138377649811, 6.442391714930985], [1.9495631404944862, -0.6342453616830728, 6.553510431493598], [1.960590265710734, -0.5614414241780454, 6.648174978513584], [1.9716173909269816, -0.4876885602115049, 6.725478826005188], [1.9826445161432293, -0.4131827147558407, 6.784625089032323], [1.9968095222532656, -0.31669918042414014, 6.8328983472833205], [2.0109745283633016, -0.2197583746258835, 6.849060089623591], [2.025139534473338, -0.12282009997080905, 6.832489099485921], [2.039304540583374, -0.02634967532427175, 6.783030102188745], [2.051644497929234, 0.056947878201008856, 6.713376942075854], [2.0639844552750937, 0.13923573992044064, 6.619495481685468], [2.074657126045094, 0.20936412278361577, 6.519329970582271], [2.0853297968150946, 0.2783324186772397, 6.40221830397378], [2.096002467585095, 0.3459636016124942, 6.268896326452231], [2.1066751383550955, 0.41208903673315844, 6.120197825917872], [2.1162104346446022, 0.4697638542405092, 5.975085124511031], [2.125745730934109, 0.5260026825344153, 5.819122734716505], [2.135281027223616, 0.58070550331554, 5.653035261576661], [2.1448163235131226, 0.633779307683337, 5.477566643062629], [2.1543516198026293, 0.6851382334364021, 5.293470375433504], [2.163886916092136, 0.7347036119682192, 5.10150035463814], [2.173422212381643, 0.7824039314274222, 4.90240249387902], [2.1829575086711497, 0.8281747241486, 4.6969072376171965], [2.1924928049606565, 0.871958387317833, 4.485723053010382], [2.2020281012501632, 0.9137039464304915, 4.269530942790887], [2.21156339753967, 0.9533667713560326, 4.0489799902471155], [2.221098693829177, 0.9909082547850306, 3.824683918188737], [2.2306339901186836, 1.0262954625436815, 3.5972186200634937], [2.2401692864081904, 1.0595007647698895, 3.3671206029047065], [2.249704582697697, 1.0905014563020505, 3.1348862683759444], [2.259239878987204, 1.1192793738835738, 2.900971949466866], [2.2687751752767107, 1.1458205169753695, 2.6657946158458605], [2.2783104715662175, 1.170114678131719, 2.4297331598595724], [2.289866058098739, 1.196535078919216, 2.1429598957103857], [2.3014216446312608, 1.219639700324271, 1.8559325811123382], [2.3129772311637824, 1.2394284182969904, 1.569127533222308], [2.324532817696304, 1.2559062623909725, 1.282961715962437], [2.3360884042288257, 1.2690827759676213, 0.9978007840433809], [2.3476439907613473, 1.2789714716610616, 0.7139674966972631], [2.359199577293869, 1.2855893853763314, 0.4317503329257705], [2.3707551638263906, 1.288956730312354, 0.15141216746205538], [2.3847885786506655, 1.2887087641452912, -0.18615766021836988], [2.3988219934749404, 1.2837480168685393, -0.5201687249910564], [2.4128554082992153, 1.2741274156352702, -0.8501927570364242], [2.42688882312349, 1.2599060399152173, -1.1757779614345911], [2.440922237947765, 1.2411495875858412, -1.4964299107058106], [2.45495565277204, 1.2179310975064463, -1.8115941550790144], [2.468989067596315, 1.1903319020532233, -2.1206409017206753], [2.4830224824205898, 1.1584427778654418, -2.4228521577011404], [2.495379959135588, 1.1268905004471468, -2.682666605568918], [2.5077374358505864, 1.0921673957737283, -2.9359251025236963], [2.5200949125655847, 1.0543586698199037, -3.181938666023204], [2.532452389280583, 1.0135584410195269, -3.4199541600254055], [2.5448098659955813, 0.9698705189402941, -3.6491569634744927], [2.5571673427105797, 0.9234091354670858, -3.868676010028488], [2.569524819425578, 0.8742995984285031, -4.077591312451643], [2.5818822961405763, 0.8226788365924468, -4.274944018290972], [2.5942397728555746, 0.7686958048919653, -4.459748957666317], [2.606597249570573, 0.7125117198472528, -4.631009541081194], [2.6189547262855712, 0.654300097613446, -4.787734749007346], [2.6313122030005696, 0.594246571035053, -4.928957831658824], [2.643669679715568, 0.5325484675672508, -5.053756214907565], [2.656027156430566, 0.4694141368628148, -5.161271996326217], [2.6683846331455645, 0.4050620250270208, -5.250732324317314], [2.680742109860563, 0.33971950168846904, -5.321468893437613], [2.695961475168857, 0.25823137410095526, -5.382057363054683], [2.7111808404771516, 0.17604842704284304, -5.412696612692971], [2.726400205785446, 0.09362982250884944, -5.413006867260597], [2.7416195710937403, 0.011437698768568275, -5.382978528473964], [2.7568389364020347, -0.07006852641592021, -5.322977941383041], [2.7692872388458767, -0.1359093786943637, -5.2521219681478595], [2.7817355412897187, -0.2007492678069431, -5.162271874651408], [2.7941838437335607, -0.26435606116817917, -5.054142172018939], [2.8050386892621457, -0.3186403825891637, -4.945588277968424], [2.815893534790731, -0.37167717114897914, -4.8243955174503235], [2.826748380319316, -0.42333285917700086, -4.69123923903947], [2.837603225847901, -0.4734814428114983, -4.5468359578370015], [2.848458071376486, -0.5220048714453329, -4.3919327975990194], [2.859312916905071, -0.5687933234457186, -4.227297139549095], [2.870167762433656, -0.6137453718242575, -4.053706735721584], [2.881022607962241, -0.6567680461276919, -3.8719405060504677], [2.8918774534908263, -0.6977767989670949, -3.6827701951767655], [2.9027322990194113, -0.7366953872688355, -3.486953019878043], [2.9135871445479964, -0.7734556795085986, -3.2852253936072966], [2.9244419900765815, -0.8079974008986679, -3.078297772916002], [2.9352968356051665, -0.8402678287768246, -2.8668506330756993], [2.9461516811337516, -0.8702214503447716, -2.6515315480333226], [2.9570065266623367, -0.8978195944856202, -2.432953323474839], [2.9678613721909217, -0.9230300487177515, -2.2116931113352214], [2.978716217719507, -0.9458266714795199, -1.9882924193340488], [2.989571063248092, -0.9661890089448493, -1.7632579195255262], [3.000425908776677, -0.9841019244962758, -1.5370629547440307], [3.011280754305262, -0.9995552478738757, -1.3101496404198643], [3.022135599833847, -1.012543449911551, -1.082931460724789], [3.032990445362432, -1.023065347693407, -0.8557962615982136], [3.043845290891017, -1.0311238439313244, -0.6291095481822614], [3.0547001364196023, -1.0367257033918393, -0.40321799992780294], [3.0655549819481873, -1.039881368291358, -0.1784531226003785], [3.0764098274767724, -1.0406048137337625, 0.044865037796285645], [3.0872646730053575, -1.0389134434799367, 0.2664241888495099], [3.0981195185339425, -1.0348280256083644, 0.4859161583458527], [3.1089743640625276, -1.028372666941893, 0.7030333947987433], [3.1198292095911127, -1.0195748244697151, 0.9174656599077214], [3.1306840551196977, -1.0084653513777486, 1.1288969685074752], [3.141538900648283, -0.9950785747083805, 1.3370028296299696], [3.152393746176868, -0.9794524010974378, 1.54144784066984], [3.163248591705453, -0.9616284464804479, 1.7418836850433117], [3.174103437234038, -0.9416521851229934, 1.937947581856234], [3.184958282762623, -0.9195731128160652, 2.1292612336134993], [3.195813128291208, -0.8954449185952217, 2.3154303145661115], [3.206667973819793, -0.8693256589042792, 2.4960445375676086], [3.2175228193483782, -0.8412779277458601, 2.6706783309919073], [3.2283776648769633, -0.8113690160611776, 2.838892149096476], [3.2392325104055484, -0.7796710533810335, 3.000234429023178], [3.2500873559341334, -0.7462611247116071, 3.1542441953439817], [3.2609422014627185, -0.7112213556847499, 3.300454298739201], [3.2717970469913036, -0.6746389592342659, 3.4383952592515974], [3.2826518925198886, -0.6366062374749831, 3.567599666964721], [3.2935067380484737, -0.597220533073248, 3.6876070744521554], [3.304361583577059, -0.5565841252119559, 3.7979692966415066], [3.315216429105644, -0.5148040662680639, 3.8982560156789847], [3.328392822533497, -0.46271262880971437, 4.0058684967058635], [3.34156921596135, -0.40930872960307296, 4.097369630632851], [3.354745609389203, -0.3548086338988596, 4.1721708241502435], [3.367922002817056, -0.29943576214034445, 4.22977681744944], [3.384299585387272, -0.22973937776568193, 4.276829690660628], [3.400677167957488, -0.15949846225523712, 4.296231116444747], [3.417054750527704, -0.08916787092152151, 4.287790070722571], [3.4334323330979197, -0.01920301275811384, 4.251630807895927], [3.4478072897002177, 0.041548855331026466, 4.197394873132867], [3.4621822463025156, 0.10137280516297519, 4.122634064884856], [3.4746977181818144, 0.15247606816894482, 4.041345873669134], [3.487213190061113, 0.20247048499875575, 3.945538656060965], [3.499728661940412, 0.2511781348174179, 3.8358306371551776], [3.512244133819711, 0.29842928887327597, 3.7129108708596954], [3.5233418544363984, 0.33897998192684836, 3.593465896099563], [3.534439575053086, 0.37815327077122796, 3.464774959214746], [3.5455372956697735, 0.41584973318594415, 3.32741552516814], [3.556635016286461, 0.45197645627908667, 3.1819822113261873], [3.5677327369031486, 0.4864471935286599, 3.029080845674659], [3.578830457519836, 0.5191824580133415, 2.8693229262278654], [3.5899281781365238, 0.550109556845326, 2.7033205787861805], [3.6010258987532113, 0.5791625727683105, 2.531682087103777], [3.612123619369899, 0.6062822995767326, 2.3550080464145133], [3.6232213399865865, 0.6314161384532494, 2.1738881690653065], [3.634319060603274, 0.6545179625245979, 1.9888987504637199], [3.6454167812199616, 0.6755479569229431, 1.8006007851929635], [3.656514501836649, 0.6944724414368921, 1.6095387073137544], [3.6676122224533367, 0.7112636824724781, 1.4162397157051358], [3.6787099430700243, 0.7258997005492422, 1.2212136347858047], [3.689807663686712, 0.7383640789589216, 1.0249532529706504], [3.7009053843033994, 0.7486457785410048, 0.8279350755322167], [3.712003104920087, 0.7567389628046002, 0.6306204248764351], [3.7231008255367746, 0.762642836870462, 0.4334568193040705], [3.734198546153462, 0.7663615029380646, 0.23687956081239972], [3.7452962667701497, 0.7679038342145001, 0.04131346311569109], [3.7563939873868373, 0.7672833684859576, -0.1528253474153413], [3.767491708003525, 0.7645182217774549, -0.3451276229723811], [3.7785894286202124, 0.75963102183926, -0.5351892399848668], [3.7896871492369, 0.7526488605246789, -0.7226095583055443], [3.8007848698535875, 0.7436032634885061, -0.9069899492899194], [3.811882590470275, 0.7325301750431412, -1.087932544052393], [3.8229803110869627, 0.7194699554651635, -1.2650392486071116], [3.8340780317036502, 0.7044673875546579, -1.4379110674829567], [3.845175752320338, 0.6875716888193001, -1.6061477716546042], [3.8562734729370254, 0.6688365252926001, -1.7693479401685144], [3.867371193553713, 0.6483200227091515, -1.927109397590092], [3.8784689141704005, 0.6260847705582896, -2.0790300613092816], [3.889566634787088, 0.6021978144305821, -2.224709203811102], [3.9006643554037757, 0.5767306320681934, -2.3637491252936735], [3.911762076020463, 0.5497590886386194, -2.4957572216123136], [3.922859796637151, 0.5213633669781641, -2.620348421628961], [3.9339575172538384, 0.491627868900965, -2.7371479569102966], [3.945055237870526, 0.4606410841422155, -2.845794415675493], [3.9561529584872135, 0.4284954240973191, -2.9459430223376257], [3.9695432592339572, 0.38830332612529345, -3.0550065610911776], [3.982933559980701, 0.346739802744712, -3.150703218396455], [3.9963238607274447, 0.30398702641645803, -3.2325680187173718], [4.0097141614741885, 0.26023295240232364, -3.300203566128509], [4.0264171219396685, 0.20454373163431977, -3.364142712084308], [4.0431200824051485, 0.147978914726523, -3.40500338756003], [4.059823042870629, 0.09092618755291818, -3.422558771674386], [4.076526003336109, 0.033775136657884286, -3.4168091236084144], [4.093228963801589, -0.02308658894440587, -3.387986061199366], [4.109931924267069, -0.07927712983295462, -3.3365499403471075], [4.124116918203998, -0.12619206103723563, -3.2756141959125484], [4.1383019121409275, -0.17213344542602882, -3.199388524917248], [4.152486906077857, -0.21688875506171063, -3.1085024683632962], [4.164954143125302, -0.255084037384751, -3.0170836693742253], [4.1774213801727464, -0.29207516269567746, -2.9154259724366343], [4.189888617220191, -0.3277380110604625, -2.8041012663332125], [4.202355854267636, -0.3619557938504839, -2.683712635773782], [4.214823091315081, -0.39461940110387755, -2.554887722866955], [4.227290328362526, -0.42562766735053664, -2.418272311074913], [4.23975756540997, -0.45488755960926247, -2.2745242776775663], [4.252224802457415, -0.4823142929365442, -2.124308036306469], [4.26469203950486, -0.5078313802561594, -1.968289564290224], [4.277159276552305, -0.5313706242071712, -1.8071320818417282], [4.28962651359975, -0.5528720594121034, -1.6414924228071106], [4.302093750647194, -0.5722838538990256, -1.4720181108569945], [4.314560987694639, -0.5895621784346962, -1.299345131450371], [4.327028224742084, -0.6046710522730693, -1.1240963692007686], [4.339495461789529, -0.6175821733321448, -0.9468806627442121], [4.3519626988369735, -0.6282747401227284, -0.7682924149608815], [4.364429935884418, -0.6367352719059081, -0.5889116853822108], [4.376897172931863, -0.6429574325911583, -0.4093046836447769], [4.389364409979308, -0.6469418628404423, -0.23002457767608955], [4.401831647026753, -0.6486960237485094, -0.05161252762206994], [4.4142988840741975, -0.6482340543551023, 0.1254011439453537], [4.426766121121642, -0.6455766441367082, 0.3004957335440251], [4.439233358169087, -0.6407509205463744, 0.4731589748711435], [4.451700595216532, -0.6337903506398657, 0.6428859736540499], [4.464167832263977, -0.6247346548630228, 0.8091783334106157], [4.476635069311421, -0.6136297301951434, 0.9715435389410323], [4.489102306358866, -0.6005275790622401, 1.1294946558124819], [4.501569543406311, -0.5854862397672959, 1.2825503943393401], [4.514036780453756, -0.5685697136468634, 1.4302355756396061], [4.526504017501201, -0.5498478837687317, 1.5720820253193732], [4.538971254548645, -0.5293964197471626, 1.7076299072987609], [4.55143849159609, -0.5072966631820528, 1.8364294964021064], [4.563905728643535, -0.48363548833557846, 1.958043373824393], [4.57637296569098, -0.458505132950266, 2.0720490147708497], [4.5888402027384245, -0.4320029945873967, 2.1780417228493665], [4.601307439785869, -0.40423138852002927, 2.2756378516571316], [4.613774676833314, -0.37529726404016267, 2.3644782409883454], [4.626241913880759, -0.34531187701702937, 2.4442317837816794], [4.64136253817639, -0.30769977603057397, 2.5283364063010447], [4.65648316247202, -0.2689233511774272, 2.5981721990988973], [4.671603786767651, -0.2292013365855541, 2.653360083550255], [4.690554966040814, -0.1784241286825286, 2.701411596042979], [4.709506145313977, -0.1269615698274072, 2.725669673302548], [4.72845732458714, -0.07526576960398584, 2.726052473230625], [4.747408503860303, -0.023787858870682056, 2.702745403228915], [4.764311697034033, 0.021581076796614466, 2.662333237209872], [4.781214890207764, 0.0661139348335281, 2.6039259466620166], [4.795738964719142, 0.10348325548663487, 2.5398578988294984], [4.81026303923052, 0.13983196260598632, 2.4634789840959974], [4.824787113741898, 0.17498530377755298, 2.375358013321972], [4.837812380748671, 0.20535785004295715, 2.28686243843432], [4.850837647755444, 0.23452217207704373, 2.1899254948858964], [4.863862914762217, 0.26237171099888923, 2.085072546460966], [4.87688818176899, 0.28880692565423205, 1.972854963883662], [4.889913448775763, 0.3137355995811272, 1.8538452736285524], [4.902938715782536, 0.33707308598459906, 1.7286325060991632], [4.915963982789309, 0.3587424939095518, 1.5978178312174875], [4.928989249796082, 0.37867481983240253, 1.4620105514850623], [4.942014516802855, 0.3968090296805349, 1.3218245034677298], [4.955039783809628, 0.41309209682604936, 1.1778748993242774], [4.968065050816401, 0.4274790018888146, 1.0307756212387318], [4.981090317823174, 0.4399327002354099, 0.881136964087806], [4.994115584829947, 0.45042406289474946, 0.7295638058930042], [5.00714085183672, 0.4589317962532914, 0.5766541719398088], [5.020166118843493, 0.46544234537196844, 0.42299814712829553], [5.033191385850266, 0.4699497851148017, 0.2691770822680192], [5.046216652857039, 0.472455702527939, 0.11576303366793186], [5.059241919863812, 0.472969073089763, -0.03668162854979215], [5.072267186870585, 0.47150613259891017, -0.18760450956500102], [5.085292453877358, 0.468090245607173, -0.3364634419319293], [5.098317720884131, 0.4627517704660789, -0.4827267634580264], [5.111342987890904, 0.45552792026514627, -0.625873679170427], [5.124368254897677, 0.4464626182199018, -0.7653947593657626], [5.13739352190445, 0.43560634543991283, -0.9007926179171052], [5.150418788911223, 0.42301597849010475, -1.0315828058474439], [5.163444055917996, 0.408754613768623, -1.1572949448858436], [5.176469322924769, 0.39289137547462966, -1.2774741145409845], [5.189494589931542, 0.37550120383951807, -1.3916824944315562], [5.202519856938315, 0.35666462035108815, -1.4995012515166255], [5.215545123945088, 0.3364674669139184, -1.6005326498233863], [5.228570390951861, 0.31500061625735315, -1.6944023486618411], [5.241595657958634, 0.2923596514168147, -1.7807618445594144], [5.254620924965407, 0.2686445127606915, -1.8592910026684635], [5.2676461919721795, 0.24395911179447877, -1.9297006156132994], [5.283610801985667, 0.21253744608074043, -2.004550706874386], [5.299575411999154, 0.18002399181953882, -2.066424237608952], [5.315540022012641, 0.14662851015159165, -2.1150112376462937], [5.335847086292955, 0.10321221830952085, -2.157277155725289], [5.3561541505732695, 0.05916169519876067, -2.1774782324515076], [5.376461214853584, 0.014925084515643623, -2.175650921452198], [5.396768279133898, -0.029052862977808437, -2.1520922673570513], [5.414482577753859, -0.06686341508517825, -2.114223074826667], [5.432196876373821, -0.10386400221449811, -2.0607519460135655], [5.447583701798655, -0.13513546288737235, -2.0021471892734803], [5.462970527223488, -0.16542150575374073, -1.9327595499346126], [5.478357352648322, -0.19456047052984507, -1.853151399874692], [5.493744178073156, -0.22239978428580467, -1.7639403340702031], [5.507307661265756, -0.2457485784269363, -1.6778670262261464], [5.520871144458356, -0.2678855166760927, -1.5853305537545888], [5.534434627650956, -0.2887263262187743, -1.4868337003823866], [5.547998110843556, -0.30819367159305233, -1.3828960123582894], [5.5615615940361565, -0.3262173573403157, -1.274050192556036], [5.575125077228757, -0.34273448328950173, -1.1608387290585511], [5.588688560421357, -0.3576895559318978, -1.0438107967402475], [5.602252043613957, -0.3710345597731058, -0.9235194566758571], [5.615815526806557, -0.3827289927936046, -0.800519164751327], [5.629379009999157, -0.39273987021621865, -0.6753635881363222], [5.642942493191757, -0.40104170068060263, -0.5486037167111358], [5.6565059763843575, -0.40761643867944025, -0.4207862464423383], [5.670069459576958, -0.41245341673998226, -0.29245220329922195], [5.683632942769558, -0.41554926036189704, -0.1641357697409308], [5.697196425962158, -0.41690778817367047, -0.03636327115224486], [5.710759909154758, -0.41653989917100737, 0.0903477231278298], [5.724323392347358, -0.4144634482776201, 0.21548923039922693], [5.737886875539958, -0.4107031108463482, 0.3385636620977158], [5.7514503587325585, -0.4052902361202733, 0.45908465087015377], [5.765013841925159, -0.39826268912114604, 0.576577935764252], [5.778577325117759, -0.38966467994568, 0.6905823385668217], [5.792140808310359, -0.37954657904633093, 0.8006508576483887], [5.805704291502959, -0.3679647167665709, 0.9063518980343654], [5.819267774695559, -0.35498116520286305, 1.007270648058899], [5.832831257888159, -0.34066350038466686, 1.1030106041254877], [5.8463947410807595, -0.32508454280432414, 1.1931952360790385], [5.85995822427336, -0.30832207449111837, 1.2774697767868317], [5.87352170746596, -0.290458531104531, 1.355503111043841], [5.88708519065856, -0.27158066791280966, 1.4269897311788315], [5.90064867385116, -0.25177919901221335, 1.491651720052647], [5.917224856601376, -0.2264629962116397, 1.5610484077377678], [5.933801039351591, -0.20008678935194724, 1.6194938058200827], [5.950377222101807, -0.17283482118122265, 1.6666737604732662], [5.970849492554585, -0.13824999077523442, 1.7090484167949562], [5.991321763007363, -0.10297976971051495, 1.7336185994492324], [6.011794033460141, -0.06738970868387334, 1.7403150602751603], [6.03226630391292, -0.03184471138939046, 1.7292701527228405], [6.052738574365698, 0.0032950857772278824, 1.7008164326883792], [6.070922049217436, 0.033882727179830804, 1.661368771489807], [6.089105524069174, 0.0636355316502042, 1.609092318311134], [6.105171028378434, 0.08904569418000098, 1.5527087440878757], [6.1212365326876945, 0.11347645782116009, 1.4872554881677977], [6.137302036996955, 0.13678632766843982, 1.4132654878241913], [6.153367541306215, 0.1588427729236156, 1.3313207355580696], [6.167650134428981, 0.17729951398303592, 1.2522954585713744], [6.181932727551747, 0.194588928990215, 1.167940261604007], [6.196215320674512, 0.21063832546259764, 1.0787385774589038], [6.210497913797278, 0.2253820357313647, 0.985190114553075], [6.224780506920044, 0.23876162624900235, 0.8878076395795036], [6.239063100042809, 0.2507260619945183, 0.7871139118004639], [6.253345693165575, 0.2612318283311915, 0.6836387937263367], [6.267628286288341, 0.27024301295109937, 0.5779165525951714], [6.2819108794111065, 0.27773135067493454, 0.47048335715993395], [6.296193472533872, 0.28367623387387, 0.3618749652092315], [6.310476065656638, 0.2880646911566832, 0.2526245893196697], [6.324758658779404, 0.29089133673837314, 0.14326092181477823], [6.339041251902169, 0.29215829259748843, 0.034306294961250525], [6.353323845024935, 0.29187508516169086, -0.07372505083103352], [6.367606438147701, 0.2900585178590016, -0.18032861959122637], [6.381889031270466, 0.28673252046001796, -0.28501126180990105], [6.396171624393232, 0.28192797573757855, -0.387292752838693], [6.410454217515998, 0.2756825236067166, -0.48670737142882053], [6.4247368106387635, 0.26804034259878995, -0.5828054977223666], [6.439019403761529, 0.2590519082860554, -0.6751552445108395], [6.453301996884295, 0.24877372811990112, -0.7633441292776492], [6.4675845900070605, 0.23726805208690832, -0.84698078772402], [6.481867183129826, 0.22460255862717718, -0.9256967224399028], [6.496149776252592, 0.2108500153998752, -0.9991480734318733], [6.510432369375358, 0.19608791471826176, -1.0670173906692901], [6.524714962498123, 0.18039808380264563, -1.1290153829587362], [6.538997555620889, 0.1638662704028245, -1.1848826125835443], [6.556624752519239, 0.14243508798441237, -1.2450425725828538], [6.574251949417589, 0.1200315514369637, -1.2951600641090875], [6.591879146315939, 0.09683526139096003, -1.334956155455456], [6.614094675299033, 0.06675653801056733, -1.3701111602680014], [6.636310204282127, 0.03608454317575338, -1.3883687612133493], [6.658525733265221, 0.005194854082863531, -1.3897478993918844], [6.680741262248315, -0.025539787978597527, -1.374484108314649], [6.702956791231409, -0.055754234974326966, -1.3430238928716307], [6.72173432330806, -0.08062583994506296, -1.3042777005888604], [6.740511855384711, -0.10466929914656023, -1.2549154357471346], [6.757361266774256, -0.12537935941271466, -1.2020644054507998], [6.774210678163802, -0.14513413561764255, -1.1416123025046327], [6.791060089553347, -0.16380991086780788, -1.074083240898708], [6.807909500942892, -0.1812921547801295, -1.0000425894013343], [6.824758912332437, -0.19747617154597125, -0.9200913799066998], [6.839692077588763, -0.210658490171552, -0.8447996224807046], [6.854625242845089, -0.2226883150015342, -0.7658161557573082], [6.869558408101415, -0.23351399845469978, -0.683608808471319], [6.884491573357741, -0.24309095244871345, -0.5986547704379661], [6.8994247386140675, -0.2513817678037084, -0.5114378852154329], [6.9143579038703935, -0.2583562942289224, -0.42244607931416106], [6.9292910691267195, -0.26399168296874126, -0.33216893179523627], [6.944224234383046, -0.2682723941912597, -0.24109538147076648], [6.959157399639372, -0.2711901711171893, -0.14971156325713236], [6.974090564895698, -0.27274398272556777, -0.058498760727018886], [6.989023730152024, -0.27293993665356203, 0.032068541314657514], [7.00395689540835, -0.27179116365044476, 0.12152452227720482], [7.018890060664676, -0.2693176746708302, 0.20941382781517404], [7.033823225921002, -0.26554619141941777, 0.29529332621544274], [7.048756391177328, -0.2605099509076442, 0.37873383491341145], [7.063689556433654, -0.2542484843688025, 0.4593218298480711], [7.07862272168998, -0.24680737071694417, 0.5366611464183884], [7.093555886946306, -0.2382379646378885, 0.6103746761840511], [7.108489052202632, -0.22859709937621794, 0.6801060583978165], [7.123422217458958, -0.21794676433489724, 0.7455213602159814], [7.138355382715284, -0.20635375773494163, 0.8063107342662639], [7.15328854797161, -0.19388931478836263, 0.8621900374145128], [7.168221713227936, -0.18062871211167497, 0.9129023903062355], [7.186600623657044, -0.16333216386070282, 0.9678873445277507], [7.204979534086151, -0.1451030162581472, 1.0143396629994152], [7.2233584445152585, -0.12610086909384666, 1.0519694397549215], [7.24592780556157, -0.10195063236516824, 1.0857969151482558], [7.268497166607882, -0.07719322654065233, 1.1057639214809216], [7.291066527654194, -0.05214246841361848, 1.1118123335627637], [7.313635888700506, -0.027111456018003792, 1.104063545607714], [7.3362052497468175, -0.00240854351671535, 1.0828155846467293], [7.358774610793129, 0.02166658244242381, 1.0485370264195435], [7.37803328278818, 0.04149747934507304, 1.0094547096721465], [7.39729195478323, 0.06049244635940684, 0.9618184578919986], [7.416550626778281, 0.07849194597033785, 0.9061794025275187], [7.4335186390755625, 0.09340750171818071, 0.851016904915665], [7.450486651372844, 0.10734161497902575, 0.7905800741033508], [7.467454663670126, 0.12020891701892339, 0.7253597468712717], [7.484422675967408, 0.13193259969516727, 0.6558733756746968], [7.5013906882646895, 0.14244482997316274, 0.5826606575801228], [7.518358700561971, 0.15168709034801867, 0.5062791799752467], [7.535326712859253, 0.15961044585787387, 0.42730012874427625], [7.552294725156535, 0.1661757390628457, 0.34630409413933144], [7.569262737453816, 0.17135371487166307, 0.26387699908905354], [7.586230749751098, 0.17512507743267478, 0.18060616481835068], [7.60319876204838, 0.1774804814824856, 0.09707651997011699], [7.620166774345662, 0.17842046058802996, 0.01386695236697899], [7.637134786642943, 0.17795529465696827, -0.06845320255734867], [7.654102798940225, 0.1761048189615508, -0.14932754561790426], [7.671070811237507, 0.17289817675895539, -0.22821587982915323], [7.6880388235347885, 0.16837351743240364, -0.30459736703346185], [7.70500683583207, 0.16257764195518531, -0.37797358075125975], [7.721974848129352, 0.1555655974225003, -0.4478714562481822], [7.738942860426634, 0.14740022242594272, -0.5138461331678879], [7.755910872723915, 0.13815164517723774, -0.5754836798005333], [7.772878885021197, 0.12789673652801878, -0.6324036816435901], [7.789846897318479, 0.11671852037901134, -0.684261670864735], [7.806814909615761, 0.10470554441465522, -0.7307513680714633], [7.823782921913042, 0.09195121461998097, -0.7716067038509272], [7.844482997446165, 0.07552968293606523, -0.813494455841782], [7.8651830729792875, 0.058334206427223124, -0.8463467740047598], [7.88588314851241, 0.04055426883593019, -0.8699438709894763], [7.9131299911811475, 0.01658550423797292, -0.8867015800114878], [7.940376833849885, -0.007618030931060699, -0.8872262768039125], [7.967623676518622, -0.03161742895719947, -0.8718156126743113], [7.99071700298525, -0.05148106541596176, -0.8467095249482359], [8.013810329451879, -0.07064221226959205, -0.8110839995776041], [8.033625328153581, -0.08634401321289557, -0.7726158735689341], [8.053440326855284, -0.10121531762174248, -0.7273483452035167], [8.073255325556987, -0.1151265929639249, -0.675814681899166], [8.091086982611866, -0.12672674531828285, -0.6245650939906048], [8.108918639666745, -0.13737535916020002, -0.569170810492645], [8.126750296721625, -0.1470027935889924, -0.5101137543461406], [8.144581953776504, -0.15554819126562694, -0.447896444284694], [8.162413610831383, -0.16295980741674693, -0.38303771114900387], [8.180245267886262, -0.16919526277597544, -0.31606845620155033], [8.198076924941141, -0.17422172151221688, -0.24752748374567402], [8.21590858199602, -0.17801599569515267, -0.17795743196640584], [8.2337402390509, -0.18056457820432367, -0.10790081819422583], [8.251571896105778, -0.18186360621620715, -0.037896208194770034], [8.269403553160657, -0.1819187575266727, 0.031525486052987634], [8.287235210215536, -0.18074508201226436, 0.09984457909228987], [8.305066867270416, -0.17836677053378636, 0.1665560559380544], [8.322898524325295, -0.17481686357104823, 0.2311728879055186], [8.340730181380174, -0.1701369018780714, 0.29322921936570623], [8.358561838435053, -0.16437652148968315, 0.35228342152661707], [8.376393495489932, -0.15759299551408376, 0.4079210053931786], [8.394225152544811, -0.14985072532600344, 0.45975738150925005], [8.41205680959969, -0.14122068403845076, 0.5074404493581838], [8.42988846665457, -0.13177981547707013, 0.5506529948279066], [8.447720123709448, -0.1216103923014654, 0.5891148703444755], [8.465551780764327, -0.11079933739724113, 0.622584929509609], [8.488075336497584, -0.0963680088420898, 0.6574172033462751], [8.51059889223084, -0.08124848531820467, 0.6836606211207144], [8.537926335757101, -0.06226208357439077, 0.7036889615133308], [8.565253779283362, -0.042907061108068745, 0.7106568359192802], [8.592581222809622, -0.02353937826245157, 0.7046734324926828], [8.619908666335883, -0.004508760921182516, 0.6860841521141468], [8.64347100389854, 0.011370783183901906, 0.6603703555278582], [8.667033341461197, 0.026543620493412752, 0.6261987799009072], [8.687689452861264, 0.03911173126689166, 0.589756921727022], [8.70834556426133, 0.050868628938026, 0.547740950085201], [8.729001675661397, 0.061704441109399724, 0.500668378536574], [8.749657787061464, 0.07152045966992016, 0.4491015113481939], [8.768096844451756, 0.07935067421390271, 0.3997613677983338], [8.786535901842049, 0.0862459045192595, 0.3477657414241181], [8.804974959232341, 0.09216144256866068, 0.29357824909107294], [8.823414016622634, 0.09706124123784399, 0.23767399703892328], [8.841853074012926, 0.10091808859178567, 0.18053551526112538], [8.860292131403218, 0.10371370759778986, 0.1226487378688949], [8.87873118879351, 0.10543878234241064, 0.06449905459891268], [8.897170246183803, 0.10609291226243997, 0.006567454354850295], [8.915609303574096, 0.1056844962524344, -0.05067322173807686], [8.934048360964388, 0.10423054880975571, -0.10676190269034916], [8.95248741835468, 0.10175645064206582, -0.161252771686588], [8.970926475744973, 0.09829563641092788, -0.21371859840169044], [8.989365533135265, 0.093889222536326, -0.2637539056289139], [9.007804590525557, 0.08858557825515997, -0.3109779550036317], [9.02624364791585, 0.08243984342249772, -0.35503753492343315], [9.044682705306142, 0.0755133968729068, -0.3956095319392877], [9.063121762696435, 0.06787327952039388, -0.43240326522428746], [9.081560820086727, 0.059591576763744325, -0.465162562504664], [9.104172727067258, 0.048672308147260736, -0.49950689001004106], [9.12678463404779, 0.03705200570529804, -0.5271281797991659], [9.14939654102832, 0.024885563672303285, -0.5477874463859225], [9.179141165303127, 0.008317871064027885, -0.5641168333470205], [9.208885789577934, -0.008550807936745373, -0.568054507556031], [9.238630413852741, -0.02535380146157314, -0.5597732605968393], [9.268375038127548, -0.041733494149118956, -0.5397067102774085], [9.292795110051172, -0.05462460321964709, -0.5148962557716042], [9.317215181974795, -0.06682316811761972, -0.48308546426723087], [9.338930920101653, -0.07695624028660146, -0.44938766396243224], [9.36064665822851, -0.08630654280133641, -0.41107870380659145], [9.382362396355369, -0.09477940837286647, -0.3686685629078123], [9.404078134482226, -0.10229167266284211, -0.3227054880455356], [9.425793872609084, -0.10877242917755268, -0.27376895657497374], [9.445211699495417, -0.11364628037789051, -0.22798551972832146], [9.46462952638175, -0.11761628579408365, -0.18074991373062976], [9.484047353268082, -0.120658609544392, -0.13251183516133652], [9.503465180154414, -0.1227581786498616, -0.08372347358259896], [9.522883007040747, -0.12390869218709998, -0.034835485054959515], [9.54230083392708, -0.12411255315215709, 0.013706938235387399], [9.561718660813412, -0.1233807251193735, 0.06146788022941078], [9.581136487699744, -0.12173251618494753, 0.10802437518431504], [9.600554314586077, -0.1191952930592355, 0.1529699250550747], [9.61997214147241, -0.11580412853071172, 0.19591784172553398], [9.639389968358742, -0.11160138588233565, 0.23650439548897714], [9.658807795245075, -0.10663624420869706, 0.27439175046449243], [9.678225622131407, -0.10096416896628083, 0.3092706667088723], [9.69764344901774, -0.09464633249109317, 0.340862947907859], [9.717061275904072, -0.08774898963417045, 0.36892361296679205], [9.74124038669313, -0.07845738050437157, 0.3986122795862921], [9.765419497482188, -0.06852149148360723, 0.42217663521066007], [9.789598608271247, -0.058092420548811474, 0.43938280549483427], [9.821845965980536, -0.04368514857077458, 0.45219985399170226], [9.854093323689826, -0.02905250783548649, 0.4533981288290153], [9.886340681399115, -0.014566332808425723, 0.4432016672105244], [9.91464969499666, -0.0022549382203070293, 0.42525590601159036], [9.942958708594205, 0.009435284582081833, 0.3994270855593135], [9.966900166895334, 0.01867825743155257, 0.37191399587758966], [9.990841625196463, 0.027205166463329697, 0.33969765588071005], [10.014783083497592, 0.034909610662537505, 0.30330441262230545], [10.038724541798722, 0.041698397829199235, 0.2633098313819822], [10.059893568696515, 0.04687492168873742, 0.22543947171724552], [10.081062595594307, 0.05122896023872577, 0.18568050360258273], [10.1022316224921, 0.0547253857290075, 0.14449278038068863], [10.123400649389893, 0.05733890433883657, 0.10234466268117837], [10.144569676287686, 0.05905418119140256, 0.05970782642640837], [10.165738703185479, 0.05986585607461835, 0.01705213708646936], [10.186907730083272, 0.059778451779635436, -0.025159362367656306], [10.208076756981065, 0.05880617793488291, -0.06647530587174902], [10.229245783878858, 0.056972634111487945, -0.10646066002682288], [10.25041481077665, 0.05431041681846188, -0.14470114252160537], [10.271583837674443, 0.05086063580526468, -0.18080736632326655], [10.292752864572236, 0.04667234585492704, -0.21441867416600838], [10.313921891470029, 0.04180190098816893, -0.2452066291599909], [10.335090918367822, 0.03631223870787623, -0.27287812877369333], [10.356259945265615, 0.030272102588024326, -0.2971781112862793], [10.382296916088135, 0.022197122511595148, -0.32212702274833155], [10.408333886910656, 0.013546739699094605, -0.3413413891554648], [10.434370857733176, 0.004473245612782782, -0.35460931666072476], [10.470699065516778, -0.00859745244258919, -0.362985555844298], [10.507027273300379, -0.021757883418858655, -0.3596183478533966], [10.54335548108398, -0.03458772075995123, -0.3449137993456669], [10.57170151839761, -0.04411148878544937, -0.32604739603771243], [10.60004755571124, -0.05301466467191705, -0.3012283851449938], [10.624907539237016, -0.060185256182558225, -0.27503571343996697], [10.649767522762792, -0.0666582206927087, -0.24518976177620969], [10.674627506288568, -0.07234900349143826, -0.21220094128464384], [10.699487489814343, -0.07718622496934706, -0.17661728438173632], [10.724347473340119, -0.08111250562612173, -0.13901553898817332], [10.746681414509911, -0.08382763034264906, -0.10400479161455392], [10.769015355679704, -0.0857520945254017, -0.06828613762269486], [10.791349296849496, -0.08687502336570756, -0.0323009027030772], [10.813683238019289, -0.08719536546485361, 0.003513414303329798], [10.836017179189081, -0.0867217498222056, 0.03872826170975581], [10.858351120358874, -0.08547223051593505, 0.07292896394454197], [10.880685061528666, -0.08347392387868538, 0.10571941230280832], [10.903019002698459, -0.08076254398682911, 0.1367264732824081], [10.925352943868251, -0.07738184324260884, 0.1656040726521826], [10.947686885038044, -0.07338296573827364, 0.19203691563385242], [10.970020826207836, -0.06882372195049213, 0.21574380592246287], [10.992354767377629, -0.06376779411659989, 0.2364805289721283], [11.020248236375766, -0.0568604662974335, 0.2578982888144486], [11.048141705373903, -0.04942857226514123, 0.27405841185913765], [11.07603517437204, -0.04162185393061685, 0.2847574113882475], [11.115659032929372, -0.030189636577869116, 0.29038692822808626], [11.155282891486705, -0.01875611880020879, 0.28490970031108753], [11.188957358301971, -0.00936068134812759, 0.27189878121876426], [11.218761801154617, -0.0015045782151220533, 0.2544179896260931], [11.248566244007263, 0.005753095835883568, 0.23184135212675433], [11.274875564073099, 0.011547755601557543, 0.208147737881868], [11.301184884138936, 0.01667779659498606, 0.18140273960392364], [11.327494204204772, 0.02106949314523234, 0.15211021807001435], [11.353803524270608, 0.02466283665696775, 0.12080743964137708], [11.380112844336445, 0.027412287911562704, 0.0880554212323279], [11.406422164402281, 0.029287272412967705, 0.05442908055503394], [11.432731484468118, 0.030272415885505926, 0.020507359926044202], [11.459040804533954, 0.03036752136807459, -0.013136515198530471], [11.48535012459979, 0.02958729347932002, -0.04594449031546724], [11.511659444665627, 0.02796081932276422, -0.07738270526907977], [11.537968764731463, 0.025530819143739458, -0.1069499534012674], [11.5642780847973, 0.022352683230484494, -0.13418545309704], [11.590587404863136, 0.018493314657041533, -0.15867581915220208], [11.616896724928973, 0.014029800275400042, -0.18006113313379807], [11.643206044994809, 0.009047934847902502, -0.19804002502693963], [11.669515365060645, 0.0036406253267633575, -0.21237369334043688], [11.703292464533384, -0.0037672141606187454, -0.22515728269759774], [11.737069564006122, -0.011497260046203764, -0.23144872180623483], [11.779555329452243, -0.021338402817618056, -0.23012122990588085], [11.822041094898365, -0.030909442250184823, -0.21886749953324855], [11.85452476619425, -0.037791680084620985, -0.2040464727162411], [11.887008437490136, -0.044111951654799114, -0.1843710570734965], [11.915307309663957, -0.04904423759388007, -0.16374933062306232], [11.943606181837778, -0.053352701445213244, -0.14036842352542542], [11.971905054011598, -0.05696635424706512, -0.1147352148960647], [12.000203926185419, -0.05982904852644329, -0.08738986208214726], [12.02850279835924, -0.06190026336712705, -0.058894699739248], [12.05680167053306, -0.06315557239961948, -0.029822968049970686], [12.085100542706881, -0.06358679294430733, -0.000747585083778951], [12.113399414880702, -0.06320182049159216, 0.027769831376522724], [12.141698287054522, -0.06202415835180824, 0.05518949886455712], [12.169997159228343, -0.0600921576069438, 0.08100338145123961], [12.198296031402164, -0.057457987411556825, 0.10474431059753274], [12.226594903575984, -0.05418636019081052, 0.12599416432917254], [12.254893775749805, -0.05035304033319585, 0.14439097010391622], [12.283192647923626, -0.04604316852807747, 0.15963481525857162], [12.311491520097446, -0.04134943689603308, 0.1714924696594347], [12.348309936461586, -0.034830208106187296, 0.18158637841154937], [12.385128352825726, -0.0280531761489378, 0.18550146716576313], [12.430868130165116, -0.019617443557849584, 0.18181185902968], [12.469728754106539, -0.012731118194289669, 0.17158586554621313], [12.503715979819027, -0.007122970315539747, 0.15774069272413213], [12.537703205531516, -0.0020561638106671356, 0.13983104087225126], [12.567630590838549, 0.0018549670005443076, 0.12116705665125238], [12.597557976145582, 0.0051728695742157575, 0.10027069724196544], [12.627485361452615, 0.007838125048067423, 0.07764042146763142], [12.657412746759649, 0.0098066684523746, 0.05380182835289231], [12.687340132066682, 0.011050422273253717, 0.02929570545577641], [12.717267517373715, 0.011557570658035757, 0.004666009160024558], [12.747194902680748, 0.011332476138233771, -0.019551963699122196], [12.777122287987781, 0.010395248342851066, -0.04284296520428347], [12.807049673294815, 0.008780981362407316, -0.0647225146178684], [12.836977058601848, 0.006538683094552314, -0.08474673236104255], [12.866904443908881, 0.003729925959756011, -0.10252109853357486], [12.896831829215914, 0.00042725373041142866, -0.11770796975084039], [12.926759214522948, -0.0032876162188597863, -0.13003271592758894], [12.963215919081582, -0.008240756747791794, -0.14088217739459075], [12.999672623640217, -0.013502486072126436, -0.1469494626189102], [13.049166159555812, -0.02082399851824019, -0.14741514699221392], [13.098659695471406, -0.0279512697099177, -0.13923418916806268], [13.136116827355547, -0.032964485310617644, -0.1277611933884025], [13.173573959239688, -0.03747082399596356, -0.11227653959333445], [13.2058801166434, -0.04084363677907671, -0.0961786457054], [13.238186274047111, -0.04366177669934564, -0.07802315618288755], [13.270492431450823, -0.045866822281649386, -0.05831319303489979], [13.302798588854534, -0.04741709066326947, -0.03757952150407405], [13.335104746258246, -0.04828830528104432, -0.016366597551720242], [13.367410903661957, -0.04847381172149307, 0.004781393567454571], [13.399717061065669, -0.04798434704448721, 0.025334164249992113], [13.43202321846938, -0.0468473787054326, 0.04478829189652406], [13.464329375873092, -0.04510603932863945, 0.06267922565596673], [13.496635533276804, -0.04281769284937745, 0.07859206078081285], [13.528941690680515, -0.04005217578521539, 0.09217084277257126], [13.561247848084227, -0.036889764470585264, 0.10312620190657756], [13.593554005487938, -0.03341892485245953, 0.11124116131029574], [13.637021000342576, -0.02842848708333696, 0.11743573188194434], [13.689531647952789, -0.022223023252798336, 0.11757303341370255], [13.742042295563001, -0.016217104885055712, 0.10997050554950266], [13.781709321187039, -0.012049557793275866, 0.09956324171551624], [13.821376346811077, -0.008365912304116744, 0.08567812868080767], [13.85573610525336, -0.005663834345015644, 0.07131780427548323], [13.890095863695644, -0.0034855852325274142, 0.055271504776611136], [13.924455622137927, -0.001880624590329871, 0.038035976684432586], [13.95881538058021, -0.0008809215777053393, 0.020129958991909464], [13.993175139022494, -0.0005004625165817271, 0.002078888609391278], [14.027534897464777, -0.0007352821990364747, -0.015600215250554689], [14.06189465590706, -0.0015640053531610024, -0.03241326338754535], [14.096254414349344, -0.0029488706196583547, -0.0479026093742998], [14.130614172791628, -0.004837196399012235, -0.06165920416624074], [14.164973931233911, -0.007163236378942029, -0.07333308007074385], [14.199333689676195, -0.009850362715985335, -0.08264190506016271], [14.240907291264472, -0.013462475038957793, -0.09044797744456867], [14.28248089285275, -0.017316571261021124, -0.09427565958072542], [14.339906014065358, -0.022728718735384634, -0.09295299623046327], [14.389009008491717, -0.027143689584410637, -0.08605655373183713], [14.430682364721969, -0.030540581629432514, -0.07647098299123219], [14.472355720952221, -0.03347523957494957, -0.06397627177526514], [14.508853079477563, -0.035579646714401336, -0.05111930158656977], [14.545350438002904, -0.037189356888040655, -0.03695042530711173], [14.581847796528246, -0.038265339401220934, -0.021957002985128253], [14.618345155053587, -0.038786656978360076, -0.00664038122814797], [14.654842513578929, -0.038750675510931205, 0.008500500497096152], [14.69133987210427, -0.03817268309996742, 0.02298500281295225], [14.727837230629612, -0.03708494573387566, 0.03636568943097734], [14.764334589154954, -0.03553524403295028, 0.04824179482344292], [14.800831947680296, -0.03358495076537173, 0.05827086666847035], [14.837329306205637, -0.0313067218983097, 0.06617825875609992], [14.881980118866197, -0.028192645430856273, 0.07267771827171642], [14.926630931526757, -0.024870287613079165, 0.07550387503090625], [14.988467696269943, -0.02023295616857962, 0.0733268598043464], [15.038888879310184, -0.016687059889983244, 0.06666435913918409], [15.082529176999826, -0.013962486790620296, 0.057794565391569824], [15.126169474689467, -0.01167890432121394, 0.04655429604717587], [15.164925901964992, -0.01009428779772782, 0.03505599793896795], [15.203682329240516, -0.008975405813576288, 0.022601345979276107], [15.24243875651604, -0.008350123331371534, 0.009665872323795208], [15.281195183791565, -0.008227729119529325, -0.003270317923845573], [15.31995161106709, -0.008599100168498047, -0.0157400175087012], [15.358708038342614, -0.00943752693777234, -0.027305450623362218], [15.397464465618139, -0.010700151803162031, -0.03757329766346691], [15.436220892893664, -0.01232995221677303, -0.04620770915754879], [15.474977320169188, -0.014258182253195029, -0.05294089242761379], [15.52286818295317, -0.01693708874645622, -0.05835227720838719], [15.570759045737152, -0.01979416646690567, -0.060381734587133765], [15.637349797103063, -0.023757487309592294, -0.05760188181732321], [15.689433634332925, -0.026606541771602814, -0.05126504107362107], [15.735250360550927, -0.028776182968481404, -0.04311668992784995], [15.781067086768928, -0.030526564885667573, -0.03306067797259469], [15.82688381298693, -0.03178306284608322, -0.02166327835460411], [15.86741091576852, -0.03244451135589204, -0.010956718272329278], [15.90793801855011, -0.03266791843056205, -0.00011960903176479361], [15.9484651213317, -0.0324568100133178, 0.01041704006933296], [15.988992224113291, -0.03183174666599022, 0.020246205216936933], [16.02951932689488, -0.03082903347489213, 0.029000205207461376], [16.070046429676474, -0.029498846037653785, 0.03636408056582404], [16.110573532458066, -0.027902862577182094, 0.04208652528631655], [16.161735958603646, -0.025618179736549458, 0.04669145142059248], [16.212898384749227, -0.023176793693071206, 0.048214519185323636], [16.284661843167783, -0.019790390864841904, 0.045202505039474344], [16.339062209997557, -0.017479446409611, 0.03931406772514068], [16.38741011969671, -0.015750985352665406, 0.031921848083004044], [16.435758029395863, -0.014419353055329707, 0.02299338056335544], [16.484105939095016, -0.013545662227317266, 0.013079454430423614], [16.53245384879417, -0.01316336896191232, 0.002767474009220519], [16.580801758493322, -0.01327733061254175, -0.007352627320829785], [16.629149668192476, -0.013864494982892018, -0.016721469945762603], [16.67749757789163, -0.01487612746375989, -0.024840489505147223], [16.72584548759078, -0.016241399807147724, -0.031297778164943786], [16.774193397289935, -0.017872093937960163, -0.0357882076249766], [16.832578098404287, -0.020052173997224063, -0.03833008706711462], [16.906329557103664, -0.022859403063574535, -0.036955275747436234], [16.967954285078537, -0.025005010052903457, -0.032203431398927077], [17.02080204821953, -0.02654866520456711, -0.02595491846187326], [17.07364981136052, -0.027719869962939483, -0.018207203465785988], [17.121166553428278, -0.028401547024405546, -0.010431835134657959], [17.168683295496034, -0.028704652821689932, -0.0023498556123163553], [17.21620003756379, -0.02862532079162088, 0.005592086555300652], [17.263716779631547, -0.02818046801143727, 0.012969664078731374], [17.311233521699304, -0.027406195126523883, 0.019403037801154103], [17.35875026376706, -0.026355203583949452, 0.0245758931300723], [17.406267005834817, -0.025093401836103948, 0.02825042398261119], [17.468367142083878, -0.023251764356253975, 0.030551953083889305], [17.545230371670463, -0.020919901205947097, 0.029393451673400395], [17.61126681325966, -0.01910431465349489, 0.025166268538975342], [17.667663253647913, -0.01783491006793767, 0.019628874009195083], [17.724059694036164, -0.016916348822461087, 0.012822674456253621], [17.780456134424416, -0.01640440459589757, 0.005312862413100129], [17.83121024460712, -0.016310498016191704, -0.001554352100625757], [17.881964354789826, -0.016558263349529836, -0.008083518433086793], [17.93271846497253, -0.01712039496176817, -0.013884838688587321], [17.983472575155236, -0.01795120876430557, -0.018627066933325078], [18.03422668533794, -0.018990102416816593, -0.02205582752973197], [18.09876919050101, -0.02049914174025311, -0.024264496247025855], [18.177331133142893, -0.022402973387824418, -0.02358613892806308], [18.255893075784776, -0.02411532510930688, -0.019528400648767413], [18.316017714569153, -0.025147342649480802, -0.014615806364671934], [18.37614235335353, -0.02584953287794895, -0.008654338761769792], [18.436266992137906, -0.026175438896208506, -0.002199829986988958], [18.496391630922282, -0.026112858702912474, 0.004172887476087743], [18.55651626970666, -0.025683455527251372, 0.009920113896999375], [18.616640908491036, -0.024939478019869996, 0.014574639667754576], [18.676765547275412, -0.02395799286904623, 0.0177826407418167], [18.73689018605979, -0.02283322874100629, 0.01932930323613436], [18.82434845259963, -0.021152494817073, 0.018499624295141816], [18.899933180174482, -0.019868259431206455, 0.015143453222269104], [18.964160127393658, -0.01902999108884552, 0.010806284459027317], [19.028387074612834, -0.018501052242187285, 0.005607537576949574], [19.09261402183201, -0.01831926028626327, 9.40064063761634e-05], [19.156840969051185, -0.01848680468784725, -0.0051812749899311115], [19.22106791627036, -0.018971631530054954, -0.00971337878131548], [19.285294863489536, -0.019712113665327432, -0.01309268724738375], [19.349521810708712, -0.020624402314580216, -0.01504065691153389], [19.4318556628823, -0.021889815364952776, -0.015250890188457503], [19.5318556628823, -0.02329100128934905, -0.012260417286255494], [19.601710181466117, -0.02402290033170313, -0.008549282019705597], [19.671564700049935, -0.02446402816347276, -0.004035040794516669], [19.74141921863375, -0.024577808175372702, 0.000722950511126536], [19.81127373721757, -0.02436716392968772, 0.005164660708514809], [19.881128255801386, -0.023872247717782104, 0.008793915495872572], [19.950982774385203, -0.023163992670334862, 0.011232416782864468], [20.0, -0.02258885298813063, 0.01210932290006745]]}, \"id\": \"el139344140003196142064\", \"plugins\": [{\"type\": \"reset\"}, {\"type\": \"zoom\", \"button\": true, \"enabled\": false}, {\"type\": \"boxzoom\", \"button\": true, \"enabled\": false}]});\n",
       "   }(mpld3);\n",
       "}else if(typeof define === \"function\" && define.amd){\n",
       "   // require.js is available: use it to load d3/mpld3\n",
       "   require.config({paths: {d3: \"https://d3js.org/d3.v5\"}});\n",
       "   require([\"d3\"], function(d3){\n",
       "      window.d3 = d3;\n",
       "      mpld3_load_lib(\"https://mpld3.github.io/js/mpld3.v0.5.8.js\", function(){\n",
       "         \n",
       "         mpld3.draw_figure(\"fig_el1393441400031961420648443194997\", {\"width\": 432.0, \"height\": 288.0, \"axes\": [{\"bbox\": [0.125, 0.125, 0.775, 0.755], \"xlim\": [-1.0, 21.0], \"ylim\": [-9.56153279270675, 7.630516893544083], \"xdomain\": [-1.0, 21.0], \"ydomain\": [-9.56153279270675, 7.630516893544083], \"xscale\": \"linear\", \"yscale\": \"linear\", \"axes\": [{\"position\": \"bottom\", \"nticks\": 11, \"tickvalues\": null, \"tickformat_formatter\": \"\", \"tickformat\": null, \"scale\": \"linear\", \"fontsize\": 10.0, \"grid\": {\"gridOn\": false}, \"visible\": true}, {\"position\": \"left\", \"nticks\": 10, \"tickvalues\": null, \"tickformat_formatter\": \"\", \"tickformat\": null, \"scale\": \"linear\", \"fontsize\": 10.0, \"grid\": {\"gridOn\": false}, \"visible\": true}], \"axesbg\": \"#FFFFFF\", \"axesbgalpha\": null, \"zoomable\": true, \"id\": \"el139344140003196143936\", \"lines\": [{\"data\": \"data01\", \"xindex\": 0, \"yindex\": 1, \"coordinates\": \"data\", \"id\": \"el139344140003196264992\", \"color\": \"#1F77B4\", \"linewidth\": 1.5, \"dasharray\": \"none\", \"alpha\": 1, \"zorder\": 2, \"drawstyle\": \"default\"}, {\"data\": \"data01\", \"xindex\": 0, \"yindex\": 2, \"coordinates\": \"data\", \"id\": \"el139344140003196265520\", \"color\": \"#FF7F0E\", \"linewidth\": 1.5, \"dasharray\": \"none\", \"alpha\": 1, \"zorder\": 2, \"drawstyle\": \"default\"}], \"paths\": [], \"markers\": [], \"texts\": [{\"text\": \"t\", \"position\": [0.49999999999999994, -0.09657836644591611], \"coordinates\": \"axes\", \"h_anchor\": \"middle\", \"v_baseline\": \"hanging\", \"rotation\": -0.0, \"fontsize\": 10.0, \"color\": \"#000000\", \"alpha\": 1, \"zorder\": 3, \"id\": \"el139344140003196157088\"}, {\"text\": \"y(t)\", \"position\": [-0.0769115890083632, 0.49999999999999994], \"coordinates\": \"axes\", \"h_anchor\": \"middle\", \"v_baseline\": \"auto\", \"rotation\": -90.0, \"fontsize\": 10.0, \"color\": \"#000000\", \"alpha\": 1, \"zorder\": 3, \"id\": \"el139344140003196154784\"}], \"collections\": [], \"images\": [], \"sharex\": [], \"sharey\": []}], \"data\": {\"data01\": [[0.0, 3.141592653589793, 0.0], [0.0001, 3.1415926502788705, -6.6217680086299e-05], [0.0006000000000000001, 3.1415925344104703, -0.0003972369785465341], [0.0031000000000000003, 3.141589473988661, -0.0020506698754818756], [0.015600000000000001, 3.1415123471360955, -0.010284213944478718], [0.04544865433980611, 3.1409136534527513, -0.029871824288507938], [0.07529730867961222, 3.139727776275738, -0.049697896354537544], [0.10514596301941834, 3.137941295194742, -0.07018567396132547], [0.13499461735922444, 3.135528097017582, -0.09176389206801555], [0.16484327169903054, 3.1324490758862993, -0.11487590794506561], [0.19469192603883664, 3.1286515596058684, -0.13998894643314055], [0.22454058037864275, 3.124068455946921, -0.16760364897918872], [0.2543892347184489, 3.1186171070513593, -0.19826411450014922], [0.2808390927429597, 3.112980988410018, -0.2284589087698022], [0.30728895076747054, 3.1065034260008795, -0.2619734311356463], [0.33373880879198137, 3.09909003638751, -0.29931410124165625], [0.3601886668164922, 3.090632333688443, -0.3410422041766808], [0.38325317367678813, 3.0823079801876903, -0.38149745424822357], [0.40631768053708406, 3.073002289334245, -0.4262208891274129], [0.42938218739738, 3.0626110979657333, -0.47571705062973757], [0.4524466942576759, 3.0510180222637078, -0.5305420218512014], [0.4726786241471595, 3.0397568027498876, -0.5835046755739165], [0.4929105540366431, 3.027374046501681, -0.641492148717924], [0.5131424839261266, 3.013763169177197, -0.7049983688713221], [0.5333744138156101, 2.9988071571666897, -0.774560947633747], [0.5513837700556864, 2.9842586407576426, -0.8420499759610833], [0.5693931262957627, 2.9684440194073867, -0.9152460964886643], [0.5874024825358389, 2.951256252607319, -0.9946282268661776], [0.6054118387759152, 2.9325793637166604, -1.080710085210507], [0.6234211950159915, 2.912287801003228, -1.1740414928078449], [0.6393256115559881, 2.892916915944764, -1.2629610888411928], [0.6552300280959847, 2.872080414642213, -1.3584202929993885], [0.6711344446359814, 2.849670732214505, -1.460870146557329], [0.687038861175978, 2.8255729544426478, -1.570783633927185], [0.7029432777159746, 2.7996644777972572, -1.688654429365542], [0.7188476942559713, 2.7718146953184113, -1.8149948673198897], [0.7330559799463475, 2.7451799549206637, -1.935455582436346], [0.7472642656367238, 2.7167804021613824, -2.0634813987283467], [0.7614725513271, 2.6865057929718956, -2.1994607452898642], [0.7756808370174763, 2.654240359034432, -2.343781998686191], [0.7898891227078525, 2.6198628443051684, -2.496828241178406], [0.8040974083982287, 2.583246625001382, -2.6589707179482014], [0.818305694088605, 2.5442599330832496, -2.830560772360424], [0.8325139797789812, 2.5027662065389977, -3.011920019538087], [0.8467222654693575, 2.458624593290501, -3.2033285054659584], [0.8609305511597337, 2.4116906391677775, -3.4050105953687164], [0.87513883685011, 2.361817193983946, -3.61711834639413], [0.8893471225404862, 2.3088555730221474, -3.839712152304934], [0.9035554082308624, 2.2526570138623785, -4.072738510145869], [0.9177636939212387, 2.193074469941501, -4.31600486039486], [0.9319719796116149, 2.1299647819197536, -4.569151603733134], [0.9461802653019912, 2.0631912650309965, -4.8316216103603455], [0.9648750993769039, 1.9695387734877912, -5.189808858776236], [0.9835699334518165, 1.8690707926740755, -5.560244991156393], [0.9990499489381105, 1.7805773730691132, -5.87384831885932], [1.0145299644244044, 1.6871978703012027, -6.191055995790303], [1.0270034467613784, 1.6083754632620921, -6.4472669738534245], [1.0394769290983525, 1.5263639138965512, -6.702077433533597], [1.0505616635498498, 1.4508305051121397, -6.92570459263452], [1.061646398001347, 1.3728404402974421, -7.145052470817156], [1.0727311324528443, 1.2924504236940009, -7.358429607932201], [1.0838158669043416, 1.2097365175046684, -7.564037912495024], [1.0936772478868806, 1.1342755714046537, -7.738901496576268], [1.1035386288694196, 1.0571334937877166, -7.904759624601302], [1.1134000098519585, 0.9784059197704212, -8.060226132634726], [1.1232613908344975, 0.898202168010331, -8.203915614743645], [1.1331227718170365, 0.8166451248269782, -8.33446571113308], [1.1429841527995754, 0.7338709001081316, -8.450561003249303], [1.1528455337821144, 0.6500282422693939, -8.55095786200779], [1.1627069147646534, 0.5652777066150412, -8.634509471604327], [1.1725682957471923, 0.4797905796043626, -8.700190158730068], [1.1844542018471516, 0.37603134417232686, -8.754362004650051], [1.1963401079471108, 0.27179637065051654, -8.780075988786257], [1.20822601404707, 0.16742928307245297, -8.776495356837074], [1.2201119201470292, 0.0632811998313866, -8.74319897987604], [1.2319978262469884, -0.040294302219438166, -8.680194850571953], [1.2438837323469476, -0.14294628988031466, -8.587917691166188], [1.2538525491046681, -0.22807862901658504, -8.488557799900933], [1.2638213658623887, -0.31212358818601327, -8.3698962343677], [1.2737901826201092, -0.3948929672418982, -8.232804252089103], [1.2827139930442806, -0.4677573026030095, -8.095280178185408], [1.291637803468452, -0.539335127097339, -7.944614099141797], [1.3005616138926233, -0.6095130353279428, -7.781682536498504], [1.3094854243167946, -0.6781856688986965, -7.60740991353366], [1.318409234740966, -0.7452560758148777, -7.422753359536666], [1.3273330451651373, -0.8106359361588791, -7.228687994794872], [1.3362568555893086, -0.8742456598827156, -7.026193033945382], [1.34518066601348, -0.9360143652950301, -6.816238982320283], [1.3541044764376513, -0.9958797489726275, -6.599776132827116], [1.3630282868618226, -1.053787859377571, -6.377724503839282], [1.371952097285994, -1.1096927874266602, -6.150965294970604], [1.3808759077101653, -1.1635562876841399, -5.9203338801420236], [1.3897997181343367, -1.215347343794298, -5.686614307853633], [1.398723528558508, -1.2650416913145417, -5.450535238087432], [1.4076473389826794, -1.312621310333843, -5.212767214107597], [1.4183934334195425, -1.3670932433045584, -4.925065234222384], [1.4291395278564056, -1.4184694235037483, -4.636747992983201], [1.4398856222932688, -1.4667477892285599, -4.348641966197468], [1.4529875267671395, -1.5214285375729335, -3.998675184401942], [1.4660894312410102, -1.571538833893209, -3.6511118608473314], [1.4833733253879058, -1.6307163596103982, -3.197626435831691], [1.5053764786975763, -1.6948123815608536, -2.6303661364770594], [1.5224594152260331, -1.7360478939986133, -2.1985508516460968], [1.53954235175449, -1.7699727879202007, -1.7744584551177145], [1.554306510326517, -1.7935039620381128, -1.4140305822822465], [1.569070668898544, -1.8117538530258015, -1.0589826879840485], [1.5838348274705711, -1.8247992367815244, -0.7089408797075302], [1.5985989860425982, -1.8327107744672486, -0.3634557992863423], [1.6133631446146253, -1.8355521214707073, -0.022032491911598284], [1.6281273031866523, -1.8333794617571941, 0.31584177015334225], [1.6428914617586794, -1.8262414404911107, 0.6506712876943084], [1.6576556203307065, -1.8141794741822082, 0.9829269232760649], [1.6724197789027335, -1.797228423891574, 1.313021869029261], [1.6871839374747606, -1.7754176226736467, 1.641287844323154], [1.7019480960467877, -1.748772252939573, 1.9679514670129041], [1.7167122546188147, -1.7173150723285486, 2.2931106669735146], [1.7359019948337435, -1.6692742920038715, 2.713373353206117], [1.7609778398821285, -1.594398222718112, 3.257510731642609], [1.7780866934488009, -1.5355224517375046, 3.62423071389681], [1.7951955470154732, -1.4704150703540422, 3.9856921860188708], [1.8090569983943958, -1.4131672315146855, 4.27342655942597], [1.8229184497733184, -1.351970217330494, 4.555272887325899], [1.8352821533251769, -1.2941272885301098, 4.800542098443717], [1.8476458568770353, -1.2332937118511589, 5.038846981144869], [1.8600095604288938, -1.1695633094074962, 5.268920384996066], [1.8723732639807522, -1.1030462541263042, 5.48938688917963], [1.883400389197, -1.0414725136918925, 5.676723488363204], [1.8944275144132476, -0.9778865445657303, 5.854161307221151], [1.9054546396294954, -0.9124036654997019, 6.020579023287649], [1.916481764845743, -0.8451516572687103, 6.174840690608481], [1.9275088900619908, -0.7762708234870788, 6.315814255047747], [1.9385360152782385, -0.7059138377649811, 6.442391714930985], [1.9495631404944862, -0.6342453616830728, 6.553510431493598], [1.960590265710734, -0.5614414241780454, 6.648174978513584], [1.9716173909269816, -0.4876885602115049, 6.725478826005188], [1.9826445161432293, -0.4131827147558407, 6.784625089032323], [1.9968095222532656, -0.31669918042414014, 6.8328983472833205], [2.0109745283633016, -0.2197583746258835, 6.849060089623591], [2.025139534473338, -0.12282009997080905, 6.832489099485921], [2.039304540583374, -0.02634967532427175, 6.783030102188745], [2.051644497929234, 0.056947878201008856, 6.713376942075854], [2.0639844552750937, 0.13923573992044064, 6.619495481685468], [2.074657126045094, 0.20936412278361577, 6.519329970582271], [2.0853297968150946, 0.2783324186772397, 6.40221830397378], [2.096002467585095, 0.3459636016124942, 6.268896326452231], [2.1066751383550955, 0.41208903673315844, 6.120197825917872], [2.1162104346446022, 0.4697638542405092, 5.975085124511031], [2.125745730934109, 0.5260026825344153, 5.819122734716505], [2.135281027223616, 0.58070550331554, 5.653035261576661], [2.1448163235131226, 0.633779307683337, 5.477566643062629], [2.1543516198026293, 0.6851382334364021, 5.293470375433504], [2.163886916092136, 0.7347036119682192, 5.10150035463814], [2.173422212381643, 0.7824039314274222, 4.90240249387902], [2.1829575086711497, 0.8281747241486, 4.6969072376171965], [2.1924928049606565, 0.871958387317833, 4.485723053010382], [2.2020281012501632, 0.9137039464304915, 4.269530942790887], [2.21156339753967, 0.9533667713560326, 4.0489799902471155], [2.221098693829177, 0.9909082547850306, 3.824683918188737], [2.2306339901186836, 1.0262954625436815, 3.5972186200634937], [2.2401692864081904, 1.0595007647698895, 3.3671206029047065], [2.249704582697697, 1.0905014563020505, 3.1348862683759444], [2.259239878987204, 1.1192793738835738, 2.900971949466866], [2.2687751752767107, 1.1458205169753695, 2.6657946158458605], [2.2783104715662175, 1.170114678131719, 2.4297331598595724], [2.289866058098739, 1.196535078919216, 2.1429598957103857], [2.3014216446312608, 1.219639700324271, 1.8559325811123382], [2.3129772311637824, 1.2394284182969904, 1.569127533222308], [2.324532817696304, 1.2559062623909725, 1.282961715962437], [2.3360884042288257, 1.2690827759676213, 0.9978007840433809], [2.3476439907613473, 1.2789714716610616, 0.7139674966972631], [2.359199577293869, 1.2855893853763314, 0.4317503329257705], [2.3707551638263906, 1.288956730312354, 0.15141216746205538], [2.3847885786506655, 1.2887087641452912, -0.18615766021836988], [2.3988219934749404, 1.2837480168685393, -0.5201687249910564], [2.4128554082992153, 1.2741274156352702, -0.8501927570364242], [2.42688882312349, 1.2599060399152173, -1.1757779614345911], [2.440922237947765, 1.2411495875858412, -1.4964299107058106], [2.45495565277204, 1.2179310975064463, -1.8115941550790144], [2.468989067596315, 1.1903319020532233, -2.1206409017206753], [2.4830224824205898, 1.1584427778654418, -2.4228521577011404], [2.495379959135588, 1.1268905004471468, -2.682666605568918], [2.5077374358505864, 1.0921673957737283, -2.9359251025236963], [2.5200949125655847, 1.0543586698199037, -3.181938666023204], [2.532452389280583, 1.0135584410195269, -3.4199541600254055], [2.5448098659955813, 0.9698705189402941, -3.6491569634744927], [2.5571673427105797, 0.9234091354670858, -3.868676010028488], [2.569524819425578, 0.8742995984285031, -4.077591312451643], [2.5818822961405763, 0.8226788365924468, -4.274944018290972], [2.5942397728555746, 0.7686958048919653, -4.459748957666317], [2.606597249570573, 0.7125117198472528, -4.631009541081194], [2.6189547262855712, 0.654300097613446, -4.787734749007346], [2.6313122030005696, 0.594246571035053, -4.928957831658824], [2.643669679715568, 0.5325484675672508, -5.053756214907565], [2.656027156430566, 0.4694141368628148, -5.161271996326217], [2.6683846331455645, 0.4050620250270208, -5.250732324317314], [2.680742109860563, 0.33971950168846904, -5.321468893437613], [2.695961475168857, 0.25823137410095526, -5.382057363054683], [2.7111808404771516, 0.17604842704284304, -5.412696612692971], [2.726400205785446, 0.09362982250884944, -5.413006867260597], [2.7416195710937403, 0.011437698768568275, -5.382978528473964], [2.7568389364020347, -0.07006852641592021, -5.322977941383041], [2.7692872388458767, -0.1359093786943637, -5.2521219681478595], [2.7817355412897187, -0.2007492678069431, -5.162271874651408], [2.7941838437335607, -0.26435606116817917, -5.054142172018939], [2.8050386892621457, -0.3186403825891637, -4.945588277968424], [2.815893534790731, -0.37167717114897914, -4.8243955174503235], [2.826748380319316, -0.42333285917700086, -4.69123923903947], [2.837603225847901, -0.4734814428114983, -4.5468359578370015], [2.848458071376486, -0.5220048714453329, -4.3919327975990194], [2.859312916905071, -0.5687933234457186, -4.227297139549095], [2.870167762433656, -0.6137453718242575, -4.053706735721584], [2.881022607962241, -0.6567680461276919, -3.8719405060504677], [2.8918774534908263, -0.6977767989670949, -3.6827701951767655], [2.9027322990194113, -0.7366953872688355, -3.486953019878043], [2.9135871445479964, -0.7734556795085986, -3.2852253936072966], [2.9244419900765815, -0.8079974008986679, -3.078297772916002], [2.9352968356051665, -0.8402678287768246, -2.8668506330756993], [2.9461516811337516, -0.8702214503447716, -2.6515315480333226], [2.9570065266623367, -0.8978195944856202, -2.432953323474839], [2.9678613721909217, -0.9230300487177515, -2.2116931113352214], [2.978716217719507, -0.9458266714795199, -1.9882924193340488], [2.989571063248092, -0.9661890089448493, -1.7632579195255262], [3.000425908776677, -0.9841019244962758, -1.5370629547440307], [3.011280754305262, -0.9995552478738757, -1.3101496404198643], [3.022135599833847, -1.012543449911551, -1.082931460724789], [3.032990445362432, -1.023065347693407, -0.8557962615982136], [3.043845290891017, -1.0311238439313244, -0.6291095481822614], [3.0547001364196023, -1.0367257033918393, -0.40321799992780294], [3.0655549819481873, -1.039881368291358, -0.1784531226003785], [3.0764098274767724, -1.0406048137337625, 0.044865037796285645], [3.0872646730053575, -1.0389134434799367, 0.2664241888495099], [3.0981195185339425, -1.0348280256083644, 0.4859161583458527], [3.1089743640625276, -1.028372666941893, 0.7030333947987433], [3.1198292095911127, -1.0195748244697151, 0.9174656599077214], [3.1306840551196977, -1.0084653513777486, 1.1288969685074752], [3.141538900648283, -0.9950785747083805, 1.3370028296299696], [3.152393746176868, -0.9794524010974378, 1.54144784066984], [3.163248591705453, -0.9616284464804479, 1.7418836850433117], [3.174103437234038, -0.9416521851229934, 1.937947581856234], [3.184958282762623, -0.9195731128160652, 2.1292612336134993], [3.195813128291208, -0.8954449185952217, 2.3154303145661115], [3.206667973819793, -0.8693256589042792, 2.4960445375676086], [3.2175228193483782, -0.8412779277458601, 2.6706783309919073], [3.2283776648769633, -0.8113690160611776, 2.838892149096476], [3.2392325104055484, -0.7796710533810335, 3.000234429023178], [3.2500873559341334, -0.7462611247116071, 3.1542441953439817], [3.2609422014627185, -0.7112213556847499, 3.300454298739201], [3.2717970469913036, -0.6746389592342659, 3.4383952592515974], [3.2826518925198886, -0.6366062374749831, 3.567599666964721], [3.2935067380484737, -0.597220533073248, 3.6876070744521554], [3.304361583577059, -0.5565841252119559, 3.7979692966415066], [3.315216429105644, -0.5148040662680639, 3.8982560156789847], [3.328392822533497, -0.46271262880971437, 4.0058684967058635], [3.34156921596135, -0.40930872960307296, 4.097369630632851], [3.354745609389203, -0.3548086338988596, 4.1721708241502435], [3.367922002817056, -0.29943576214034445, 4.22977681744944], [3.384299585387272, -0.22973937776568193, 4.276829690660628], [3.400677167957488, -0.15949846225523712, 4.296231116444747], [3.417054750527704, -0.08916787092152151, 4.287790070722571], [3.4334323330979197, -0.01920301275811384, 4.251630807895927], [3.4478072897002177, 0.041548855331026466, 4.197394873132867], [3.4621822463025156, 0.10137280516297519, 4.122634064884856], [3.4746977181818144, 0.15247606816894482, 4.041345873669134], [3.487213190061113, 0.20247048499875575, 3.945538656060965], [3.499728661940412, 0.2511781348174179, 3.8358306371551776], [3.512244133819711, 0.29842928887327597, 3.7129108708596954], [3.5233418544363984, 0.33897998192684836, 3.593465896099563], [3.534439575053086, 0.37815327077122796, 3.464774959214746], [3.5455372956697735, 0.41584973318594415, 3.32741552516814], [3.556635016286461, 0.45197645627908667, 3.1819822113261873], [3.5677327369031486, 0.4864471935286599, 3.029080845674659], [3.578830457519836, 0.5191824580133415, 2.8693229262278654], [3.5899281781365238, 0.550109556845326, 2.7033205787861805], [3.6010258987532113, 0.5791625727683105, 2.531682087103777], [3.612123619369899, 0.6062822995767326, 2.3550080464145133], [3.6232213399865865, 0.6314161384532494, 2.1738881690653065], [3.634319060603274, 0.6545179625245979, 1.9888987504637199], [3.6454167812199616, 0.6755479569229431, 1.8006007851929635], [3.656514501836649, 0.6944724414368921, 1.6095387073137544], [3.6676122224533367, 0.7112636824724781, 1.4162397157051358], [3.6787099430700243, 0.7258997005492422, 1.2212136347858047], [3.689807663686712, 0.7383640789589216, 1.0249532529706504], [3.7009053843033994, 0.7486457785410048, 0.8279350755322167], [3.712003104920087, 0.7567389628046002, 0.6306204248764351], [3.7231008255367746, 0.762642836870462, 0.4334568193040705], [3.734198546153462, 0.7663615029380646, 0.23687956081239972], [3.7452962667701497, 0.7679038342145001, 0.04131346311569109], [3.7563939873868373, 0.7672833684859576, -0.1528253474153413], [3.767491708003525, 0.7645182217774549, -0.3451276229723811], [3.7785894286202124, 0.75963102183926, -0.5351892399848668], [3.7896871492369, 0.7526488605246789, -0.7226095583055443], [3.8007848698535875, 0.7436032634885061, -0.9069899492899194], [3.811882590470275, 0.7325301750431412, -1.087932544052393], [3.8229803110869627, 0.7194699554651635, -1.2650392486071116], [3.8340780317036502, 0.7044673875546579, -1.4379110674829567], [3.845175752320338, 0.6875716888193001, -1.6061477716546042], [3.8562734729370254, 0.6688365252926001, -1.7693479401685144], [3.867371193553713, 0.6483200227091515, -1.927109397590092], [3.8784689141704005, 0.6260847705582896, -2.0790300613092816], [3.889566634787088, 0.6021978144305821, -2.224709203811102], [3.9006643554037757, 0.5767306320681934, -2.3637491252936735], [3.911762076020463, 0.5497590886386194, -2.4957572216123136], [3.922859796637151, 0.5213633669781641, -2.620348421628961], [3.9339575172538384, 0.491627868900965, -2.7371479569102966], [3.945055237870526, 0.4606410841422155, -2.845794415675493], [3.9561529584872135, 0.4284954240973191, -2.9459430223376257], [3.9695432592339572, 0.38830332612529345, -3.0550065610911776], [3.982933559980701, 0.346739802744712, -3.150703218396455], [3.9963238607274447, 0.30398702641645803, -3.2325680187173718], [4.0097141614741885, 0.26023295240232364, -3.300203566128509], [4.0264171219396685, 0.20454373163431977, -3.364142712084308], [4.0431200824051485, 0.147978914726523, -3.40500338756003], [4.059823042870629, 0.09092618755291818, -3.422558771674386], [4.076526003336109, 0.033775136657884286, -3.4168091236084144], [4.093228963801589, -0.02308658894440587, -3.387986061199366], [4.109931924267069, -0.07927712983295462, -3.3365499403471075], [4.124116918203998, -0.12619206103723563, -3.2756141959125484], [4.1383019121409275, -0.17213344542602882, -3.199388524917248], [4.152486906077857, -0.21688875506171063, -3.1085024683632962], [4.164954143125302, -0.255084037384751, -3.0170836693742253], [4.1774213801727464, -0.29207516269567746, -2.9154259724366343], [4.189888617220191, -0.3277380110604625, -2.8041012663332125], [4.202355854267636, -0.3619557938504839, -2.683712635773782], [4.214823091315081, -0.39461940110387755, -2.554887722866955], [4.227290328362526, -0.42562766735053664, -2.418272311074913], [4.23975756540997, -0.45488755960926247, -2.2745242776775663], [4.252224802457415, -0.4823142929365442, -2.124308036306469], [4.26469203950486, -0.5078313802561594, -1.968289564290224], [4.277159276552305, -0.5313706242071712, -1.8071320818417282], [4.28962651359975, -0.5528720594121034, -1.6414924228071106], [4.302093750647194, -0.5722838538990256, -1.4720181108569945], [4.314560987694639, -0.5895621784346962, -1.299345131450371], [4.327028224742084, -0.6046710522730693, -1.1240963692007686], [4.339495461789529, -0.6175821733321448, -0.9468806627442121], [4.3519626988369735, -0.6282747401227284, -0.7682924149608815], [4.364429935884418, -0.6367352719059081, -0.5889116853822108], [4.376897172931863, -0.6429574325911583, -0.4093046836447769], [4.389364409979308, -0.6469418628404423, -0.23002457767608955], [4.401831647026753, -0.6486960237485094, -0.05161252762206994], [4.4142988840741975, -0.6482340543551023, 0.1254011439453537], [4.426766121121642, -0.6455766441367082, 0.3004957335440251], [4.439233358169087, -0.6407509205463744, 0.4731589748711435], [4.451700595216532, -0.6337903506398657, 0.6428859736540499], [4.464167832263977, -0.6247346548630228, 0.8091783334106157], [4.476635069311421, -0.6136297301951434, 0.9715435389410323], [4.489102306358866, -0.6005275790622401, 1.1294946558124819], [4.501569543406311, -0.5854862397672959, 1.2825503943393401], [4.514036780453756, -0.5685697136468634, 1.4302355756396061], [4.526504017501201, -0.5498478837687317, 1.5720820253193732], [4.538971254548645, -0.5293964197471626, 1.7076299072987609], [4.55143849159609, -0.5072966631820528, 1.8364294964021064], [4.563905728643535, -0.48363548833557846, 1.958043373824393], [4.57637296569098, -0.458505132950266, 2.0720490147708497], [4.5888402027384245, -0.4320029945873967, 2.1780417228493665], [4.601307439785869, -0.40423138852002927, 2.2756378516571316], [4.613774676833314, -0.37529726404016267, 2.3644782409883454], [4.626241913880759, -0.34531187701702937, 2.4442317837816794], [4.64136253817639, -0.30769977603057397, 2.5283364063010447], [4.65648316247202, -0.2689233511774272, 2.5981721990988973], [4.671603786767651, -0.2292013365855541, 2.653360083550255], [4.690554966040814, -0.1784241286825286, 2.701411596042979], [4.709506145313977, -0.1269615698274072, 2.725669673302548], [4.72845732458714, -0.07526576960398584, 2.726052473230625], [4.747408503860303, -0.023787858870682056, 2.702745403228915], [4.764311697034033, 0.021581076796614466, 2.662333237209872], [4.781214890207764, 0.0661139348335281, 2.6039259466620166], [4.795738964719142, 0.10348325548663487, 2.5398578988294984], [4.81026303923052, 0.13983196260598632, 2.4634789840959974], [4.824787113741898, 0.17498530377755298, 2.375358013321972], [4.837812380748671, 0.20535785004295715, 2.28686243843432], [4.850837647755444, 0.23452217207704373, 2.1899254948858964], [4.863862914762217, 0.26237171099888923, 2.085072546460966], [4.87688818176899, 0.28880692565423205, 1.972854963883662], [4.889913448775763, 0.3137355995811272, 1.8538452736285524], [4.902938715782536, 0.33707308598459906, 1.7286325060991632], [4.915963982789309, 0.3587424939095518, 1.5978178312174875], [4.928989249796082, 0.37867481983240253, 1.4620105514850623], [4.942014516802855, 0.3968090296805349, 1.3218245034677298], [4.955039783809628, 0.41309209682604936, 1.1778748993242774], [4.968065050816401, 0.4274790018888146, 1.0307756212387318], [4.981090317823174, 0.4399327002354099, 0.881136964087806], [4.994115584829947, 0.45042406289474946, 0.7295638058930042], [5.00714085183672, 0.4589317962532914, 0.5766541719398088], [5.020166118843493, 0.46544234537196844, 0.42299814712829553], [5.033191385850266, 0.4699497851148017, 0.2691770822680192], [5.046216652857039, 0.472455702527939, 0.11576303366793186], [5.059241919863812, 0.472969073089763, -0.03668162854979215], [5.072267186870585, 0.47150613259891017, -0.18760450956500102], [5.085292453877358, 0.468090245607173, -0.3364634419319293], [5.098317720884131, 0.4627517704660789, -0.4827267634580264], [5.111342987890904, 0.45552792026514627, -0.625873679170427], [5.124368254897677, 0.4464626182199018, -0.7653947593657626], [5.13739352190445, 0.43560634543991283, -0.9007926179171052], [5.150418788911223, 0.42301597849010475, -1.0315828058474439], [5.163444055917996, 0.408754613768623, -1.1572949448858436], [5.176469322924769, 0.39289137547462966, -1.2774741145409845], [5.189494589931542, 0.37550120383951807, -1.3916824944315562], [5.202519856938315, 0.35666462035108815, -1.4995012515166255], [5.215545123945088, 0.3364674669139184, -1.6005326498233863], [5.228570390951861, 0.31500061625735315, -1.6944023486618411], [5.241595657958634, 0.2923596514168147, -1.7807618445594144], [5.254620924965407, 0.2686445127606915, -1.8592910026684635], [5.2676461919721795, 0.24395911179447877, -1.9297006156132994], [5.283610801985667, 0.21253744608074043, -2.004550706874386], [5.299575411999154, 0.18002399181953882, -2.066424237608952], [5.315540022012641, 0.14662851015159165, -2.1150112376462937], [5.335847086292955, 0.10321221830952085, -2.157277155725289], [5.3561541505732695, 0.05916169519876067, -2.1774782324515076], [5.376461214853584, 0.014925084515643623, -2.175650921452198], [5.396768279133898, -0.029052862977808437, -2.1520922673570513], [5.414482577753859, -0.06686341508517825, -2.114223074826667], [5.432196876373821, -0.10386400221449811, -2.0607519460135655], [5.447583701798655, -0.13513546288737235, -2.0021471892734803], [5.462970527223488, -0.16542150575374073, -1.9327595499346126], [5.478357352648322, -0.19456047052984507, -1.853151399874692], [5.493744178073156, -0.22239978428580467, -1.7639403340702031], [5.507307661265756, -0.2457485784269363, -1.6778670262261464], [5.520871144458356, -0.2678855166760927, -1.5853305537545888], [5.534434627650956, -0.2887263262187743, -1.4868337003823866], [5.547998110843556, -0.30819367159305233, -1.3828960123582894], [5.5615615940361565, -0.3262173573403157, -1.274050192556036], [5.575125077228757, -0.34273448328950173, -1.1608387290585511], [5.588688560421357, -0.3576895559318978, -1.0438107967402475], [5.602252043613957, -0.3710345597731058, -0.9235194566758571], [5.615815526806557, -0.3827289927936046, -0.800519164751327], [5.629379009999157, -0.39273987021621865, -0.6753635881363222], [5.642942493191757, -0.40104170068060263, -0.5486037167111358], [5.6565059763843575, -0.40761643867944025, -0.4207862464423383], [5.670069459576958, -0.41245341673998226, -0.29245220329922195], [5.683632942769558, -0.41554926036189704, -0.1641357697409308], [5.697196425962158, -0.41690778817367047, -0.03636327115224486], [5.710759909154758, -0.41653989917100737, 0.0903477231278298], [5.724323392347358, -0.4144634482776201, 0.21548923039922693], [5.737886875539958, -0.4107031108463482, 0.3385636620977158], [5.7514503587325585, -0.4052902361202733, 0.45908465087015377], [5.765013841925159, -0.39826268912114604, 0.576577935764252], [5.778577325117759, -0.38966467994568, 0.6905823385668217], [5.792140808310359, -0.37954657904633093, 0.8006508576483887], [5.805704291502959, -0.3679647167665709, 0.9063518980343654], [5.819267774695559, -0.35498116520286305, 1.007270648058899], [5.832831257888159, -0.34066350038466686, 1.1030106041254877], [5.8463947410807595, -0.32508454280432414, 1.1931952360790385], [5.85995822427336, -0.30832207449111837, 1.2774697767868317], [5.87352170746596, -0.290458531104531, 1.355503111043841], [5.88708519065856, -0.27158066791280966, 1.4269897311788315], [5.90064867385116, -0.25177919901221335, 1.491651720052647], [5.917224856601376, -0.2264629962116397, 1.5610484077377678], [5.933801039351591, -0.20008678935194724, 1.6194938058200827], [5.950377222101807, -0.17283482118122265, 1.6666737604732662], [5.970849492554585, -0.13824999077523442, 1.7090484167949562], [5.991321763007363, -0.10297976971051495, 1.7336185994492324], [6.011794033460141, -0.06738970868387334, 1.7403150602751603], [6.03226630391292, -0.03184471138939046, 1.7292701527228405], [6.052738574365698, 0.0032950857772278824, 1.7008164326883792], [6.070922049217436, 0.033882727179830804, 1.661368771489807], [6.089105524069174, 0.0636355316502042, 1.609092318311134], [6.105171028378434, 0.08904569418000098, 1.5527087440878757], [6.1212365326876945, 0.11347645782116009, 1.4872554881677977], [6.137302036996955, 0.13678632766843982, 1.4132654878241913], [6.153367541306215, 0.1588427729236156, 1.3313207355580696], [6.167650134428981, 0.17729951398303592, 1.2522954585713744], [6.181932727551747, 0.194588928990215, 1.167940261604007], [6.196215320674512, 0.21063832546259764, 1.0787385774589038], [6.210497913797278, 0.2253820357313647, 0.985190114553075], [6.224780506920044, 0.23876162624900235, 0.8878076395795036], [6.239063100042809, 0.2507260619945183, 0.7871139118004639], [6.253345693165575, 0.2612318283311915, 0.6836387937263367], [6.267628286288341, 0.27024301295109937, 0.5779165525951714], [6.2819108794111065, 0.27773135067493454, 0.47048335715993395], [6.296193472533872, 0.28367623387387, 0.3618749652092315], [6.310476065656638, 0.2880646911566832, 0.2526245893196697], [6.324758658779404, 0.29089133673837314, 0.14326092181477823], [6.339041251902169, 0.29215829259748843, 0.034306294961250525], [6.353323845024935, 0.29187508516169086, -0.07372505083103352], [6.367606438147701, 0.2900585178590016, -0.18032861959122637], [6.381889031270466, 0.28673252046001796, -0.28501126180990105], [6.396171624393232, 0.28192797573757855, -0.387292752838693], [6.410454217515998, 0.2756825236067166, -0.48670737142882053], [6.4247368106387635, 0.26804034259878995, -0.5828054977223666], [6.439019403761529, 0.2590519082860554, -0.6751552445108395], [6.453301996884295, 0.24877372811990112, -0.7633441292776492], [6.4675845900070605, 0.23726805208690832, -0.84698078772402], [6.481867183129826, 0.22460255862717718, -0.9256967224399028], [6.496149776252592, 0.2108500153998752, -0.9991480734318733], [6.510432369375358, 0.19608791471826176, -1.0670173906692901], [6.524714962498123, 0.18039808380264563, -1.1290153829587362], [6.538997555620889, 0.1638662704028245, -1.1848826125835443], [6.556624752519239, 0.14243508798441237, -1.2450425725828538], [6.574251949417589, 0.1200315514369637, -1.2951600641090875], [6.591879146315939, 0.09683526139096003, -1.334956155455456], [6.614094675299033, 0.06675653801056733, -1.3701111602680014], [6.636310204282127, 0.03608454317575338, -1.3883687612133493], [6.658525733265221, 0.005194854082863531, -1.3897478993918844], [6.680741262248315, -0.025539787978597527, -1.374484108314649], [6.702956791231409, -0.055754234974326966, -1.3430238928716307], [6.72173432330806, -0.08062583994506296, -1.3042777005888604], [6.740511855384711, -0.10466929914656023, -1.2549154357471346], [6.757361266774256, -0.12537935941271466, -1.2020644054507998], [6.774210678163802, -0.14513413561764255, -1.1416123025046327], [6.791060089553347, -0.16380991086780788, -1.074083240898708], [6.807909500942892, -0.1812921547801295, -1.0000425894013343], [6.824758912332437, -0.19747617154597125, -0.9200913799066998], [6.839692077588763, -0.210658490171552, -0.8447996224807046], [6.854625242845089, -0.2226883150015342, -0.7658161557573082], [6.869558408101415, -0.23351399845469978, -0.683608808471319], [6.884491573357741, -0.24309095244871345, -0.5986547704379661], [6.8994247386140675, -0.2513817678037084, -0.5114378852154329], [6.9143579038703935, -0.2583562942289224, -0.42244607931416106], [6.9292910691267195, -0.26399168296874126, -0.33216893179523627], [6.944224234383046, -0.2682723941912597, -0.24109538147076648], [6.959157399639372, -0.2711901711171893, -0.14971156325713236], [6.974090564895698, -0.27274398272556777, -0.058498760727018886], [6.989023730152024, -0.27293993665356203, 0.032068541314657514], [7.00395689540835, -0.27179116365044476, 0.12152452227720482], [7.018890060664676, -0.2693176746708302, 0.20941382781517404], [7.033823225921002, -0.26554619141941777, 0.29529332621544274], [7.048756391177328, -0.2605099509076442, 0.37873383491341145], [7.063689556433654, -0.2542484843688025, 0.4593218298480711], [7.07862272168998, -0.24680737071694417, 0.5366611464183884], [7.093555886946306, -0.2382379646378885, 0.6103746761840511], [7.108489052202632, -0.22859709937621794, 0.6801060583978165], [7.123422217458958, -0.21794676433489724, 0.7455213602159814], [7.138355382715284, -0.20635375773494163, 0.8063107342662639], [7.15328854797161, -0.19388931478836263, 0.8621900374145128], [7.168221713227936, -0.18062871211167497, 0.9129023903062355], [7.186600623657044, -0.16333216386070282, 0.9678873445277507], [7.204979534086151, -0.1451030162581472, 1.0143396629994152], [7.2233584445152585, -0.12610086909384666, 1.0519694397549215], [7.24592780556157, -0.10195063236516824, 1.0857969151482558], [7.268497166607882, -0.07719322654065233, 1.1057639214809216], [7.291066527654194, -0.05214246841361848, 1.1118123335627637], [7.313635888700506, -0.027111456018003792, 1.104063545607714], [7.3362052497468175, -0.00240854351671535, 1.0828155846467293], [7.358774610793129, 0.02166658244242381, 1.0485370264195435], [7.37803328278818, 0.04149747934507304, 1.0094547096721465], [7.39729195478323, 0.06049244635940684, 0.9618184578919986], [7.416550626778281, 0.07849194597033785, 0.9061794025275187], [7.4335186390755625, 0.09340750171818071, 0.851016904915665], [7.450486651372844, 0.10734161497902575, 0.7905800741033508], [7.467454663670126, 0.12020891701892339, 0.7253597468712717], [7.484422675967408, 0.13193259969516727, 0.6558733756746968], [7.5013906882646895, 0.14244482997316274, 0.5826606575801228], [7.518358700561971, 0.15168709034801867, 0.5062791799752467], [7.535326712859253, 0.15961044585787387, 0.42730012874427625], [7.552294725156535, 0.1661757390628457, 0.34630409413933144], [7.569262737453816, 0.17135371487166307, 0.26387699908905354], [7.586230749751098, 0.17512507743267478, 0.18060616481835068], [7.60319876204838, 0.1774804814824856, 0.09707651997011699], [7.620166774345662, 0.17842046058802996, 0.01386695236697899], [7.637134786642943, 0.17795529465696827, -0.06845320255734867], [7.654102798940225, 0.1761048189615508, -0.14932754561790426], [7.671070811237507, 0.17289817675895539, -0.22821587982915323], [7.6880388235347885, 0.16837351743240364, -0.30459736703346185], [7.70500683583207, 0.16257764195518531, -0.37797358075125975], [7.721974848129352, 0.1555655974225003, -0.4478714562481822], [7.738942860426634, 0.14740022242594272, -0.5138461331678879], [7.755910872723915, 0.13815164517723774, -0.5754836798005333], [7.772878885021197, 0.12789673652801878, -0.6324036816435901], [7.789846897318479, 0.11671852037901134, -0.684261670864735], [7.806814909615761, 0.10470554441465522, -0.7307513680714633], [7.823782921913042, 0.09195121461998097, -0.7716067038509272], [7.844482997446165, 0.07552968293606523, -0.813494455841782], [7.8651830729792875, 0.058334206427223124, -0.8463467740047598], [7.88588314851241, 0.04055426883593019, -0.8699438709894763], [7.9131299911811475, 0.01658550423797292, -0.8867015800114878], [7.940376833849885, -0.007618030931060699, -0.8872262768039125], [7.967623676518622, -0.03161742895719947, -0.8718156126743113], [7.99071700298525, -0.05148106541596176, -0.8467095249482359], [8.013810329451879, -0.07064221226959205, -0.8110839995776041], [8.033625328153581, -0.08634401321289557, -0.7726158735689341], [8.053440326855284, -0.10121531762174248, -0.7273483452035167], [8.073255325556987, -0.1151265929639249, -0.675814681899166], [8.091086982611866, -0.12672674531828285, -0.6245650939906048], [8.108918639666745, -0.13737535916020002, -0.569170810492645], [8.126750296721625, -0.1470027935889924, -0.5101137543461406], [8.144581953776504, -0.15554819126562694, -0.447896444284694], [8.162413610831383, -0.16295980741674693, -0.38303771114900387], [8.180245267886262, -0.16919526277597544, -0.31606845620155033], [8.198076924941141, -0.17422172151221688, -0.24752748374567402], [8.21590858199602, -0.17801599569515267, -0.17795743196640584], [8.2337402390509, -0.18056457820432367, -0.10790081819422583], [8.251571896105778, -0.18186360621620715, -0.037896208194770034], [8.269403553160657, -0.1819187575266727, 0.031525486052987634], [8.287235210215536, -0.18074508201226436, 0.09984457909228987], [8.305066867270416, -0.17836677053378636, 0.1665560559380544], [8.322898524325295, -0.17481686357104823, 0.2311728879055186], [8.340730181380174, -0.1701369018780714, 0.29322921936570623], [8.358561838435053, -0.16437652148968315, 0.35228342152661707], [8.376393495489932, -0.15759299551408376, 0.4079210053931786], [8.394225152544811, -0.14985072532600344, 0.45975738150925005], [8.41205680959969, -0.14122068403845076, 0.5074404493581838], [8.42988846665457, -0.13177981547707013, 0.5506529948279066], [8.447720123709448, -0.1216103923014654, 0.5891148703444755], [8.465551780764327, -0.11079933739724113, 0.622584929509609], [8.488075336497584, -0.0963680088420898, 0.6574172033462751], [8.51059889223084, -0.08124848531820467, 0.6836606211207144], [8.537926335757101, -0.06226208357439077, 0.7036889615133308], [8.565253779283362, -0.042907061108068745, 0.7106568359192802], [8.592581222809622, -0.02353937826245157, 0.7046734324926828], [8.619908666335883, -0.004508760921182516, 0.6860841521141468], [8.64347100389854, 0.011370783183901906, 0.6603703555278582], [8.667033341461197, 0.026543620493412752, 0.6261987799009072], [8.687689452861264, 0.03911173126689166, 0.589756921727022], [8.70834556426133, 0.050868628938026, 0.547740950085201], [8.729001675661397, 0.061704441109399724, 0.500668378536574], [8.749657787061464, 0.07152045966992016, 0.4491015113481939], [8.768096844451756, 0.07935067421390271, 0.3997613677983338], [8.786535901842049, 0.0862459045192595, 0.3477657414241181], [8.804974959232341, 0.09216144256866068, 0.29357824909107294], [8.823414016622634, 0.09706124123784399, 0.23767399703892328], [8.841853074012926, 0.10091808859178567, 0.18053551526112538], [8.860292131403218, 0.10371370759778986, 0.1226487378688949], [8.87873118879351, 0.10543878234241064, 0.06449905459891268], [8.897170246183803, 0.10609291226243997, 0.006567454354850295], [8.915609303574096, 0.1056844962524344, -0.05067322173807686], [8.934048360964388, 0.10423054880975571, -0.10676190269034916], [8.95248741835468, 0.10175645064206582, -0.161252771686588], [8.970926475744973, 0.09829563641092788, -0.21371859840169044], [8.989365533135265, 0.093889222536326, -0.2637539056289139], [9.007804590525557, 0.08858557825515997, -0.3109779550036317], [9.02624364791585, 0.08243984342249772, -0.35503753492343315], [9.044682705306142, 0.0755133968729068, -0.3956095319392877], [9.063121762696435, 0.06787327952039388, -0.43240326522428746], [9.081560820086727, 0.059591576763744325, -0.465162562504664], [9.104172727067258, 0.048672308147260736, -0.49950689001004106], [9.12678463404779, 0.03705200570529804, -0.5271281797991659], [9.14939654102832, 0.024885563672303285, -0.5477874463859225], [9.179141165303127, 0.008317871064027885, -0.5641168333470205], [9.208885789577934, -0.008550807936745373, -0.568054507556031], [9.238630413852741, -0.02535380146157314, -0.5597732605968393], [9.268375038127548, -0.041733494149118956, -0.5397067102774085], [9.292795110051172, -0.05462460321964709, -0.5148962557716042], [9.317215181974795, -0.06682316811761972, -0.48308546426723087], [9.338930920101653, -0.07695624028660146, -0.44938766396243224], [9.36064665822851, -0.08630654280133641, -0.41107870380659145], [9.382362396355369, -0.09477940837286647, -0.3686685629078123], [9.404078134482226, -0.10229167266284211, -0.3227054880455356], [9.425793872609084, -0.10877242917755268, -0.27376895657497374], [9.445211699495417, -0.11364628037789051, -0.22798551972832146], [9.46462952638175, -0.11761628579408365, -0.18074991373062976], [9.484047353268082, -0.120658609544392, -0.13251183516133652], [9.503465180154414, -0.1227581786498616, -0.08372347358259896], [9.522883007040747, -0.12390869218709998, -0.034835485054959515], [9.54230083392708, -0.12411255315215709, 0.013706938235387399], [9.561718660813412, -0.1233807251193735, 0.06146788022941078], [9.581136487699744, -0.12173251618494753, 0.10802437518431504], [9.600554314586077, -0.1191952930592355, 0.1529699250550747], [9.61997214147241, -0.11580412853071172, 0.19591784172553398], [9.639389968358742, -0.11160138588233565, 0.23650439548897714], [9.658807795245075, -0.10663624420869706, 0.27439175046449243], [9.678225622131407, -0.10096416896628083, 0.3092706667088723], [9.69764344901774, -0.09464633249109317, 0.340862947907859], [9.717061275904072, -0.08774898963417045, 0.36892361296679205], [9.74124038669313, -0.07845738050437157, 0.3986122795862921], [9.765419497482188, -0.06852149148360723, 0.42217663521066007], [9.789598608271247, -0.058092420548811474, 0.43938280549483427], [9.821845965980536, -0.04368514857077458, 0.45219985399170226], [9.854093323689826, -0.02905250783548649, 0.4533981288290153], [9.886340681399115, -0.014566332808425723, 0.4432016672105244], [9.91464969499666, -0.0022549382203070293, 0.42525590601159036], [9.942958708594205, 0.009435284582081833, 0.3994270855593135], [9.966900166895334, 0.01867825743155257, 0.37191399587758966], [9.990841625196463, 0.027205166463329697, 0.33969765588071005], [10.014783083497592, 0.034909610662537505, 0.30330441262230545], [10.038724541798722, 0.041698397829199235, 0.2633098313819822], [10.059893568696515, 0.04687492168873742, 0.22543947171724552], [10.081062595594307, 0.05122896023872577, 0.18568050360258273], [10.1022316224921, 0.0547253857290075, 0.14449278038068863], [10.123400649389893, 0.05733890433883657, 0.10234466268117837], [10.144569676287686, 0.05905418119140256, 0.05970782642640837], [10.165738703185479, 0.05986585607461835, 0.01705213708646936], [10.186907730083272, 0.059778451779635436, -0.025159362367656306], [10.208076756981065, 0.05880617793488291, -0.06647530587174902], [10.229245783878858, 0.056972634111487945, -0.10646066002682288], [10.25041481077665, 0.05431041681846188, -0.14470114252160537], [10.271583837674443, 0.05086063580526468, -0.18080736632326655], [10.292752864572236, 0.04667234585492704, -0.21441867416600838], [10.313921891470029, 0.04180190098816893, -0.2452066291599909], [10.335090918367822, 0.03631223870787623, -0.27287812877369333], [10.356259945265615, 0.030272102588024326, -0.2971781112862793], [10.382296916088135, 0.022197122511595148, -0.32212702274833155], [10.408333886910656, 0.013546739699094605, -0.3413413891554648], [10.434370857733176, 0.004473245612782782, -0.35460931666072476], [10.470699065516778, -0.00859745244258919, -0.362985555844298], [10.507027273300379, -0.021757883418858655, -0.3596183478533966], [10.54335548108398, -0.03458772075995123, -0.3449137993456669], [10.57170151839761, -0.04411148878544937, -0.32604739603771243], [10.60004755571124, -0.05301466467191705, -0.3012283851449938], [10.624907539237016, -0.060185256182558225, -0.27503571343996697], [10.649767522762792, -0.0666582206927087, -0.24518976177620969], [10.674627506288568, -0.07234900349143826, -0.21220094128464384], [10.699487489814343, -0.07718622496934706, -0.17661728438173632], [10.724347473340119, -0.08111250562612173, -0.13901553898817332], [10.746681414509911, -0.08382763034264906, -0.10400479161455392], [10.769015355679704, -0.0857520945254017, -0.06828613762269486], [10.791349296849496, -0.08687502336570756, -0.0323009027030772], [10.813683238019289, -0.08719536546485361, 0.003513414303329798], [10.836017179189081, -0.0867217498222056, 0.03872826170975581], [10.858351120358874, -0.08547223051593505, 0.07292896394454197], [10.880685061528666, -0.08347392387868538, 0.10571941230280832], [10.903019002698459, -0.08076254398682911, 0.1367264732824081], [10.925352943868251, -0.07738184324260884, 0.1656040726521826], [10.947686885038044, -0.07338296573827364, 0.19203691563385242], [10.970020826207836, -0.06882372195049213, 0.21574380592246287], [10.992354767377629, -0.06376779411659989, 0.2364805289721283], [11.020248236375766, -0.0568604662974335, 0.2578982888144486], [11.048141705373903, -0.04942857226514123, 0.27405841185913765], [11.07603517437204, -0.04162185393061685, 0.2847574113882475], [11.115659032929372, -0.030189636577869116, 0.29038692822808626], [11.155282891486705, -0.01875611880020879, 0.28490970031108753], [11.188957358301971, -0.00936068134812759, 0.27189878121876426], [11.218761801154617, -0.0015045782151220533, 0.2544179896260931], [11.248566244007263, 0.005753095835883568, 0.23184135212675433], [11.274875564073099, 0.011547755601557543, 0.208147737881868], [11.301184884138936, 0.01667779659498606, 0.18140273960392364], [11.327494204204772, 0.02106949314523234, 0.15211021807001435], [11.353803524270608, 0.02466283665696775, 0.12080743964137708], [11.380112844336445, 0.027412287911562704, 0.0880554212323279], [11.406422164402281, 0.029287272412967705, 0.05442908055503394], [11.432731484468118, 0.030272415885505926, 0.020507359926044202], [11.459040804533954, 0.03036752136807459, -0.013136515198530471], [11.48535012459979, 0.02958729347932002, -0.04594449031546724], [11.511659444665627, 0.02796081932276422, -0.07738270526907977], [11.537968764731463, 0.025530819143739458, -0.1069499534012674], [11.5642780847973, 0.022352683230484494, -0.13418545309704], [11.590587404863136, 0.018493314657041533, -0.15867581915220208], [11.616896724928973, 0.014029800275400042, -0.18006113313379807], [11.643206044994809, 0.009047934847902502, -0.19804002502693963], [11.669515365060645, 0.0036406253267633575, -0.21237369334043688], [11.703292464533384, -0.0037672141606187454, -0.22515728269759774], [11.737069564006122, -0.011497260046203764, -0.23144872180623483], [11.779555329452243, -0.021338402817618056, -0.23012122990588085], [11.822041094898365, -0.030909442250184823, -0.21886749953324855], [11.85452476619425, -0.037791680084620985, -0.2040464727162411], [11.887008437490136, -0.044111951654799114, -0.1843710570734965], [11.915307309663957, -0.04904423759388007, -0.16374933062306232], [11.943606181837778, -0.053352701445213244, -0.14036842352542542], [11.971905054011598, -0.05696635424706512, -0.1147352148960647], [12.000203926185419, -0.05982904852644329, -0.08738986208214726], [12.02850279835924, -0.06190026336712705, -0.058894699739248], [12.05680167053306, -0.06315557239961948, -0.029822968049970686], [12.085100542706881, -0.06358679294430733, -0.000747585083778951], [12.113399414880702, -0.06320182049159216, 0.027769831376522724], [12.141698287054522, -0.06202415835180824, 0.05518949886455712], [12.169997159228343, -0.0600921576069438, 0.08100338145123961], [12.198296031402164, -0.057457987411556825, 0.10474431059753274], [12.226594903575984, -0.05418636019081052, 0.12599416432917254], [12.254893775749805, -0.05035304033319585, 0.14439097010391622], [12.283192647923626, -0.04604316852807747, 0.15963481525857162], [12.311491520097446, -0.04134943689603308, 0.1714924696594347], [12.348309936461586, -0.034830208106187296, 0.18158637841154937], [12.385128352825726, -0.0280531761489378, 0.18550146716576313], [12.430868130165116, -0.019617443557849584, 0.18181185902968], [12.469728754106539, -0.012731118194289669, 0.17158586554621313], [12.503715979819027, -0.007122970315539747, 0.15774069272413213], [12.537703205531516, -0.0020561638106671356, 0.13983104087225126], [12.567630590838549, 0.0018549670005443076, 0.12116705665125238], [12.597557976145582, 0.0051728695742157575, 0.10027069724196544], [12.627485361452615, 0.007838125048067423, 0.07764042146763142], [12.657412746759649, 0.0098066684523746, 0.05380182835289231], [12.687340132066682, 0.011050422273253717, 0.02929570545577641], [12.717267517373715, 0.011557570658035757, 0.004666009160024558], [12.747194902680748, 0.011332476138233771, -0.019551963699122196], [12.777122287987781, 0.010395248342851066, -0.04284296520428347], [12.807049673294815, 0.008780981362407316, -0.0647225146178684], [12.836977058601848, 0.006538683094552314, -0.08474673236104255], [12.866904443908881, 0.003729925959756011, -0.10252109853357486], [12.896831829215914, 0.00042725373041142866, -0.11770796975084039], [12.926759214522948, -0.0032876162188597863, -0.13003271592758894], [12.963215919081582, -0.008240756747791794, -0.14088217739459075], [12.999672623640217, -0.013502486072126436, -0.1469494626189102], [13.049166159555812, -0.02082399851824019, -0.14741514699221392], [13.098659695471406, -0.0279512697099177, -0.13923418916806268], [13.136116827355547, -0.032964485310617644, -0.1277611933884025], [13.173573959239688, -0.03747082399596356, -0.11227653959333445], [13.2058801166434, -0.04084363677907671, -0.0961786457054], [13.238186274047111, -0.04366177669934564, -0.07802315618288755], [13.270492431450823, -0.045866822281649386, -0.05831319303489979], [13.302798588854534, -0.04741709066326947, -0.03757952150407405], [13.335104746258246, -0.04828830528104432, -0.016366597551720242], [13.367410903661957, -0.04847381172149307, 0.004781393567454571], [13.399717061065669, -0.04798434704448721, 0.025334164249992113], [13.43202321846938, -0.0468473787054326, 0.04478829189652406], [13.464329375873092, -0.04510603932863945, 0.06267922565596673], [13.496635533276804, -0.04281769284937745, 0.07859206078081285], [13.528941690680515, -0.04005217578521539, 0.09217084277257126], [13.561247848084227, -0.036889764470585264, 0.10312620190657756], [13.593554005487938, -0.03341892485245953, 0.11124116131029574], [13.637021000342576, -0.02842848708333696, 0.11743573188194434], [13.689531647952789, -0.022223023252798336, 0.11757303341370255], [13.742042295563001, -0.016217104885055712, 0.10997050554950266], [13.781709321187039, -0.012049557793275866, 0.09956324171551624], [13.821376346811077, -0.008365912304116744, 0.08567812868080767], [13.85573610525336, -0.005663834345015644, 0.07131780427548323], [13.890095863695644, -0.0034855852325274142, 0.055271504776611136], [13.924455622137927, -0.001880624590329871, 0.038035976684432586], [13.95881538058021, -0.0008809215777053393, 0.020129958991909464], [13.993175139022494, -0.0005004625165817271, 0.002078888609391278], [14.027534897464777, -0.0007352821990364747, -0.015600215250554689], [14.06189465590706, -0.0015640053531610024, -0.03241326338754535], [14.096254414349344, -0.0029488706196583547, -0.0479026093742998], [14.130614172791628, -0.004837196399012235, -0.06165920416624074], [14.164973931233911, -0.007163236378942029, -0.07333308007074385], [14.199333689676195, -0.009850362715985335, -0.08264190506016271], [14.240907291264472, -0.013462475038957793, -0.09044797744456867], [14.28248089285275, -0.017316571261021124, -0.09427565958072542], [14.339906014065358, -0.022728718735384634, -0.09295299623046327], [14.389009008491717, -0.027143689584410637, -0.08605655373183713], [14.430682364721969, -0.030540581629432514, -0.07647098299123219], [14.472355720952221, -0.03347523957494957, -0.06397627177526514], [14.508853079477563, -0.035579646714401336, -0.05111930158656977], [14.545350438002904, -0.037189356888040655, -0.03695042530711173], [14.581847796528246, -0.038265339401220934, -0.021957002985128253], [14.618345155053587, -0.038786656978360076, -0.00664038122814797], [14.654842513578929, -0.038750675510931205, 0.008500500497096152], [14.69133987210427, -0.03817268309996742, 0.02298500281295225], [14.727837230629612, -0.03708494573387566, 0.03636568943097734], [14.764334589154954, -0.03553524403295028, 0.04824179482344292], [14.800831947680296, -0.03358495076537173, 0.05827086666847035], [14.837329306205637, -0.0313067218983097, 0.06617825875609992], [14.881980118866197, -0.028192645430856273, 0.07267771827171642], [14.926630931526757, -0.024870287613079165, 0.07550387503090625], [14.988467696269943, -0.02023295616857962, 0.0733268598043464], [15.038888879310184, -0.016687059889983244, 0.06666435913918409], [15.082529176999826, -0.013962486790620296, 0.057794565391569824], [15.126169474689467, -0.01167890432121394, 0.04655429604717587], [15.164925901964992, -0.01009428779772782, 0.03505599793896795], [15.203682329240516, -0.008975405813576288, 0.022601345979276107], [15.24243875651604, -0.008350123331371534, 0.009665872323795208], [15.281195183791565, -0.008227729119529325, -0.003270317923845573], [15.31995161106709, -0.008599100168498047, -0.0157400175087012], [15.358708038342614, -0.00943752693777234, -0.027305450623362218], [15.397464465618139, -0.010700151803162031, -0.03757329766346691], [15.436220892893664, -0.01232995221677303, -0.04620770915754879], [15.474977320169188, -0.014258182253195029, -0.05294089242761379], [15.52286818295317, -0.01693708874645622, -0.05835227720838719], [15.570759045737152, -0.01979416646690567, -0.060381734587133765], [15.637349797103063, -0.023757487309592294, -0.05760188181732321], [15.689433634332925, -0.026606541771602814, -0.05126504107362107], [15.735250360550927, -0.028776182968481404, -0.04311668992784995], [15.781067086768928, -0.030526564885667573, -0.03306067797259469], [15.82688381298693, -0.03178306284608322, -0.02166327835460411], [15.86741091576852, -0.03244451135589204, -0.010956718272329278], [15.90793801855011, -0.03266791843056205, -0.00011960903176479361], [15.9484651213317, -0.0324568100133178, 0.01041704006933296], [15.988992224113291, -0.03183174666599022, 0.020246205216936933], [16.02951932689488, -0.03082903347489213, 0.029000205207461376], [16.070046429676474, -0.029498846037653785, 0.03636408056582404], [16.110573532458066, -0.027902862577182094, 0.04208652528631655], [16.161735958603646, -0.025618179736549458, 0.04669145142059248], [16.212898384749227, -0.023176793693071206, 0.048214519185323636], [16.284661843167783, -0.019790390864841904, 0.045202505039474344], [16.339062209997557, -0.017479446409611, 0.03931406772514068], [16.38741011969671, -0.015750985352665406, 0.031921848083004044], [16.435758029395863, -0.014419353055329707, 0.02299338056335544], [16.484105939095016, -0.013545662227317266, 0.013079454430423614], [16.53245384879417, -0.01316336896191232, 0.002767474009220519], [16.580801758493322, -0.01327733061254175, -0.007352627320829785], [16.629149668192476, -0.013864494982892018, -0.016721469945762603], [16.67749757789163, -0.01487612746375989, -0.024840489505147223], [16.72584548759078, -0.016241399807147724, -0.031297778164943786], [16.774193397289935, -0.017872093937960163, -0.0357882076249766], [16.832578098404287, -0.020052173997224063, -0.03833008706711462], [16.906329557103664, -0.022859403063574535, -0.036955275747436234], [16.967954285078537, -0.025005010052903457, -0.032203431398927077], [17.02080204821953, -0.02654866520456711, -0.02595491846187326], [17.07364981136052, -0.027719869962939483, -0.018207203465785988], [17.121166553428278, -0.028401547024405546, -0.010431835134657959], [17.168683295496034, -0.028704652821689932, -0.0023498556123163553], [17.21620003756379, -0.02862532079162088, 0.005592086555300652], [17.263716779631547, -0.02818046801143727, 0.012969664078731374], [17.311233521699304, -0.027406195126523883, 0.019403037801154103], [17.35875026376706, -0.026355203583949452, 0.0245758931300723], [17.406267005834817, -0.025093401836103948, 0.02825042398261119], [17.468367142083878, -0.023251764356253975, 0.030551953083889305], [17.545230371670463, -0.020919901205947097, 0.029393451673400395], [17.61126681325966, -0.01910431465349489, 0.025166268538975342], [17.667663253647913, -0.01783491006793767, 0.019628874009195083], [17.724059694036164, -0.016916348822461087, 0.012822674456253621], [17.780456134424416, -0.01640440459589757, 0.005312862413100129], [17.83121024460712, -0.016310498016191704, -0.001554352100625757], [17.881964354789826, -0.016558263349529836, -0.008083518433086793], [17.93271846497253, -0.01712039496176817, -0.013884838688587321], [17.983472575155236, -0.01795120876430557, -0.018627066933325078], [18.03422668533794, -0.018990102416816593, -0.02205582752973197], [18.09876919050101, -0.02049914174025311, -0.024264496247025855], [18.177331133142893, -0.022402973387824418, -0.02358613892806308], [18.255893075784776, -0.02411532510930688, -0.019528400648767413], [18.316017714569153, -0.025147342649480802, -0.014615806364671934], [18.37614235335353, -0.02584953287794895, -0.008654338761769792], [18.436266992137906, -0.026175438896208506, -0.002199829986988958], [18.496391630922282, -0.026112858702912474, 0.004172887476087743], [18.55651626970666, -0.025683455527251372, 0.009920113896999375], [18.616640908491036, -0.024939478019869996, 0.014574639667754576], [18.676765547275412, -0.02395799286904623, 0.0177826407418167], [18.73689018605979, -0.02283322874100629, 0.01932930323613436], [18.82434845259963, -0.021152494817073, 0.018499624295141816], [18.899933180174482, -0.019868259431206455, 0.015143453222269104], [18.964160127393658, -0.01902999108884552, 0.010806284459027317], [19.028387074612834, -0.018501052242187285, 0.005607537576949574], [19.09261402183201, -0.01831926028626327, 9.40064063761634e-05], [19.156840969051185, -0.01848680468784725, -0.0051812749899311115], [19.22106791627036, -0.018971631530054954, -0.00971337878131548], [19.285294863489536, -0.019712113665327432, -0.01309268724738375], [19.349521810708712, -0.020624402314580216, -0.01504065691153389], [19.4318556628823, -0.021889815364952776, -0.015250890188457503], [19.5318556628823, -0.02329100128934905, -0.012260417286255494], [19.601710181466117, -0.02402290033170313, -0.008549282019705597], [19.671564700049935, -0.02446402816347276, -0.004035040794516669], [19.74141921863375, -0.024577808175372702, 0.000722950511126536], [19.81127373721757, -0.02436716392968772, 0.005164660708514809], [19.881128255801386, -0.023872247717782104, 0.008793915495872572], [19.950982774385203, -0.023163992670334862, 0.011232416782864468], [20.0, -0.02258885298813063, 0.01210932290006745]]}, \"id\": \"el139344140003196142064\", \"plugins\": [{\"type\": \"reset\"}, {\"type\": \"zoom\", \"button\": true, \"enabled\": false}, {\"type\": \"boxzoom\", \"button\": true, \"enabled\": false}]});\n",
       "      });\n",
       "    });\n",
       "}else{\n",
       "    // require.js not available: dynamically load d3 & mpld3\n",
       "    mpld3_load_lib(\"https://d3js.org/d3.v5.js\", function(){\n",
       "         mpld3_load_lib(\"https://mpld3.github.io/js/mpld3.v0.5.8.js\", function(){\n",
       "                 \n",
       "                 mpld3.draw_figure(\"fig_el1393441400031961420648443194997\", {\"width\": 432.0, \"height\": 288.0, \"axes\": [{\"bbox\": [0.125, 0.125, 0.775, 0.755], \"xlim\": [-1.0, 21.0], \"ylim\": [-9.56153279270675, 7.630516893544083], \"xdomain\": [-1.0, 21.0], \"ydomain\": [-9.56153279270675, 7.630516893544083], \"xscale\": \"linear\", \"yscale\": \"linear\", \"axes\": [{\"position\": \"bottom\", \"nticks\": 11, \"tickvalues\": null, \"tickformat_formatter\": \"\", \"tickformat\": null, \"scale\": \"linear\", \"fontsize\": 10.0, \"grid\": {\"gridOn\": false}, \"visible\": true}, {\"position\": \"left\", \"nticks\": 10, \"tickvalues\": null, \"tickformat_formatter\": \"\", \"tickformat\": null, \"scale\": \"linear\", \"fontsize\": 10.0, \"grid\": {\"gridOn\": false}, \"visible\": true}], \"axesbg\": \"#FFFFFF\", \"axesbgalpha\": null, \"zoomable\": true, \"id\": \"el139344140003196143936\", \"lines\": [{\"data\": \"data01\", \"xindex\": 0, \"yindex\": 1, \"coordinates\": \"data\", \"id\": \"el139344140003196264992\", \"color\": \"#1F77B4\", \"linewidth\": 1.5, \"dasharray\": \"none\", \"alpha\": 1, \"zorder\": 2, \"drawstyle\": \"default\"}, {\"data\": \"data01\", \"xindex\": 0, \"yindex\": 2, \"coordinates\": \"data\", \"id\": \"el139344140003196265520\", \"color\": \"#FF7F0E\", \"linewidth\": 1.5, \"dasharray\": \"none\", \"alpha\": 1, \"zorder\": 2, \"drawstyle\": \"default\"}], \"paths\": [], \"markers\": [], \"texts\": [{\"text\": \"t\", \"position\": [0.49999999999999994, -0.09657836644591611], \"coordinates\": \"axes\", \"h_anchor\": \"middle\", \"v_baseline\": \"hanging\", \"rotation\": -0.0, \"fontsize\": 10.0, \"color\": \"#000000\", \"alpha\": 1, \"zorder\": 3, \"id\": \"el139344140003196157088\"}, {\"text\": \"y(t)\", \"position\": [-0.0769115890083632, 0.49999999999999994], \"coordinates\": \"axes\", \"h_anchor\": \"middle\", \"v_baseline\": \"auto\", \"rotation\": -90.0, \"fontsize\": 10.0, \"color\": \"#000000\", \"alpha\": 1, \"zorder\": 3, \"id\": \"el139344140003196154784\"}], \"collections\": [], \"images\": [], \"sharex\": [], \"sharey\": []}], \"data\": {\"data01\": [[0.0, 3.141592653589793, 0.0], [0.0001, 3.1415926502788705, -6.6217680086299e-05], [0.0006000000000000001, 3.1415925344104703, -0.0003972369785465341], [0.0031000000000000003, 3.141589473988661, -0.0020506698754818756], [0.015600000000000001, 3.1415123471360955, -0.010284213944478718], [0.04544865433980611, 3.1409136534527513, -0.029871824288507938], [0.07529730867961222, 3.139727776275738, -0.049697896354537544], [0.10514596301941834, 3.137941295194742, -0.07018567396132547], [0.13499461735922444, 3.135528097017582, -0.09176389206801555], [0.16484327169903054, 3.1324490758862993, -0.11487590794506561], [0.19469192603883664, 3.1286515596058684, -0.13998894643314055], [0.22454058037864275, 3.124068455946921, -0.16760364897918872], [0.2543892347184489, 3.1186171070513593, -0.19826411450014922], [0.2808390927429597, 3.112980988410018, -0.2284589087698022], [0.30728895076747054, 3.1065034260008795, -0.2619734311356463], [0.33373880879198137, 3.09909003638751, -0.29931410124165625], [0.3601886668164922, 3.090632333688443, -0.3410422041766808], [0.38325317367678813, 3.0823079801876903, -0.38149745424822357], [0.40631768053708406, 3.073002289334245, -0.4262208891274129], [0.42938218739738, 3.0626110979657333, -0.47571705062973757], [0.4524466942576759, 3.0510180222637078, -0.5305420218512014], [0.4726786241471595, 3.0397568027498876, -0.5835046755739165], [0.4929105540366431, 3.027374046501681, -0.641492148717924], [0.5131424839261266, 3.013763169177197, -0.7049983688713221], [0.5333744138156101, 2.9988071571666897, -0.774560947633747], [0.5513837700556864, 2.9842586407576426, -0.8420499759610833], [0.5693931262957627, 2.9684440194073867, -0.9152460964886643], [0.5874024825358389, 2.951256252607319, -0.9946282268661776], [0.6054118387759152, 2.9325793637166604, -1.080710085210507], [0.6234211950159915, 2.912287801003228, -1.1740414928078449], [0.6393256115559881, 2.892916915944764, -1.2629610888411928], [0.6552300280959847, 2.872080414642213, -1.3584202929993885], [0.6711344446359814, 2.849670732214505, -1.460870146557329], [0.687038861175978, 2.8255729544426478, -1.570783633927185], [0.7029432777159746, 2.7996644777972572, -1.688654429365542], [0.7188476942559713, 2.7718146953184113, -1.8149948673198897], [0.7330559799463475, 2.7451799549206637, -1.935455582436346], [0.7472642656367238, 2.7167804021613824, -2.0634813987283467], [0.7614725513271, 2.6865057929718956, -2.1994607452898642], [0.7756808370174763, 2.654240359034432, -2.343781998686191], [0.7898891227078525, 2.6198628443051684, -2.496828241178406], [0.8040974083982287, 2.583246625001382, -2.6589707179482014], [0.818305694088605, 2.5442599330832496, -2.830560772360424], [0.8325139797789812, 2.5027662065389977, -3.011920019538087], [0.8467222654693575, 2.458624593290501, -3.2033285054659584], [0.8609305511597337, 2.4116906391677775, -3.4050105953687164], [0.87513883685011, 2.361817193983946, -3.61711834639413], [0.8893471225404862, 2.3088555730221474, -3.839712152304934], [0.9035554082308624, 2.2526570138623785, -4.072738510145869], [0.9177636939212387, 2.193074469941501, -4.31600486039486], [0.9319719796116149, 2.1299647819197536, -4.569151603733134], [0.9461802653019912, 2.0631912650309965, -4.8316216103603455], [0.9648750993769039, 1.9695387734877912, -5.189808858776236], [0.9835699334518165, 1.8690707926740755, -5.560244991156393], [0.9990499489381105, 1.7805773730691132, -5.87384831885932], [1.0145299644244044, 1.6871978703012027, -6.191055995790303], [1.0270034467613784, 1.6083754632620921, -6.4472669738534245], [1.0394769290983525, 1.5263639138965512, -6.702077433533597], [1.0505616635498498, 1.4508305051121397, -6.92570459263452], [1.061646398001347, 1.3728404402974421, -7.145052470817156], [1.0727311324528443, 1.2924504236940009, -7.358429607932201], [1.0838158669043416, 1.2097365175046684, -7.564037912495024], [1.0936772478868806, 1.1342755714046537, -7.738901496576268], [1.1035386288694196, 1.0571334937877166, -7.904759624601302], [1.1134000098519585, 0.9784059197704212, -8.060226132634726], [1.1232613908344975, 0.898202168010331, -8.203915614743645], [1.1331227718170365, 0.8166451248269782, -8.33446571113308], [1.1429841527995754, 0.7338709001081316, -8.450561003249303], [1.1528455337821144, 0.6500282422693939, -8.55095786200779], [1.1627069147646534, 0.5652777066150412, -8.634509471604327], [1.1725682957471923, 0.4797905796043626, -8.700190158730068], [1.1844542018471516, 0.37603134417232686, -8.754362004650051], [1.1963401079471108, 0.27179637065051654, -8.780075988786257], [1.20822601404707, 0.16742928307245297, -8.776495356837074], [1.2201119201470292, 0.0632811998313866, -8.74319897987604], [1.2319978262469884, -0.040294302219438166, -8.680194850571953], [1.2438837323469476, -0.14294628988031466, -8.587917691166188], [1.2538525491046681, -0.22807862901658504, -8.488557799900933], [1.2638213658623887, -0.31212358818601327, -8.3698962343677], [1.2737901826201092, -0.3948929672418982, -8.232804252089103], [1.2827139930442806, -0.4677573026030095, -8.095280178185408], [1.291637803468452, -0.539335127097339, -7.944614099141797], [1.3005616138926233, -0.6095130353279428, -7.781682536498504], [1.3094854243167946, -0.6781856688986965, -7.60740991353366], [1.318409234740966, -0.7452560758148777, -7.422753359536666], [1.3273330451651373, -0.8106359361588791, -7.228687994794872], [1.3362568555893086, -0.8742456598827156, -7.026193033945382], [1.34518066601348, -0.9360143652950301, -6.816238982320283], [1.3541044764376513, -0.9958797489726275, -6.599776132827116], [1.3630282868618226, -1.053787859377571, -6.377724503839282], [1.371952097285994, -1.1096927874266602, -6.150965294970604], [1.3808759077101653, -1.1635562876841399, -5.9203338801420236], [1.3897997181343367, -1.215347343794298, -5.686614307853633], [1.398723528558508, -1.2650416913145417, -5.450535238087432], [1.4076473389826794, -1.312621310333843, -5.212767214107597], [1.4183934334195425, -1.3670932433045584, -4.925065234222384], [1.4291395278564056, -1.4184694235037483, -4.636747992983201], [1.4398856222932688, -1.4667477892285599, -4.348641966197468], [1.4529875267671395, -1.5214285375729335, -3.998675184401942], [1.4660894312410102, -1.571538833893209, -3.6511118608473314], [1.4833733253879058, -1.6307163596103982, -3.197626435831691], [1.5053764786975763, -1.6948123815608536, -2.6303661364770594], [1.5224594152260331, -1.7360478939986133, -2.1985508516460968], [1.53954235175449, -1.7699727879202007, -1.7744584551177145], [1.554306510326517, -1.7935039620381128, -1.4140305822822465], [1.569070668898544, -1.8117538530258015, -1.0589826879840485], [1.5838348274705711, -1.8247992367815244, -0.7089408797075302], [1.5985989860425982, -1.8327107744672486, -0.3634557992863423], [1.6133631446146253, -1.8355521214707073, -0.022032491911598284], [1.6281273031866523, -1.8333794617571941, 0.31584177015334225], [1.6428914617586794, -1.8262414404911107, 0.6506712876943084], [1.6576556203307065, -1.8141794741822082, 0.9829269232760649], [1.6724197789027335, -1.797228423891574, 1.313021869029261], [1.6871839374747606, -1.7754176226736467, 1.641287844323154], [1.7019480960467877, -1.748772252939573, 1.9679514670129041], [1.7167122546188147, -1.7173150723285486, 2.2931106669735146], [1.7359019948337435, -1.6692742920038715, 2.713373353206117], [1.7609778398821285, -1.594398222718112, 3.257510731642609], [1.7780866934488009, -1.5355224517375046, 3.62423071389681], [1.7951955470154732, -1.4704150703540422, 3.9856921860188708], [1.8090569983943958, -1.4131672315146855, 4.27342655942597], [1.8229184497733184, -1.351970217330494, 4.555272887325899], [1.8352821533251769, -1.2941272885301098, 4.800542098443717], [1.8476458568770353, -1.2332937118511589, 5.038846981144869], [1.8600095604288938, -1.1695633094074962, 5.268920384996066], [1.8723732639807522, -1.1030462541263042, 5.48938688917963], [1.883400389197, -1.0414725136918925, 5.676723488363204], [1.8944275144132476, -0.9778865445657303, 5.854161307221151], [1.9054546396294954, -0.9124036654997019, 6.020579023287649], [1.916481764845743, -0.8451516572687103, 6.174840690608481], [1.9275088900619908, -0.7762708234870788, 6.315814255047747], [1.9385360152782385, -0.7059138377649811, 6.442391714930985], [1.9495631404944862, -0.6342453616830728, 6.553510431493598], [1.960590265710734, -0.5614414241780454, 6.648174978513584], [1.9716173909269816, -0.4876885602115049, 6.725478826005188], [1.9826445161432293, -0.4131827147558407, 6.784625089032323], [1.9968095222532656, -0.31669918042414014, 6.8328983472833205], [2.0109745283633016, -0.2197583746258835, 6.849060089623591], [2.025139534473338, -0.12282009997080905, 6.832489099485921], [2.039304540583374, -0.02634967532427175, 6.783030102188745], [2.051644497929234, 0.056947878201008856, 6.713376942075854], [2.0639844552750937, 0.13923573992044064, 6.619495481685468], [2.074657126045094, 0.20936412278361577, 6.519329970582271], [2.0853297968150946, 0.2783324186772397, 6.40221830397378], [2.096002467585095, 0.3459636016124942, 6.268896326452231], [2.1066751383550955, 0.41208903673315844, 6.120197825917872], [2.1162104346446022, 0.4697638542405092, 5.975085124511031], [2.125745730934109, 0.5260026825344153, 5.819122734716505], [2.135281027223616, 0.58070550331554, 5.653035261576661], [2.1448163235131226, 0.633779307683337, 5.477566643062629], [2.1543516198026293, 0.6851382334364021, 5.293470375433504], [2.163886916092136, 0.7347036119682192, 5.10150035463814], [2.173422212381643, 0.7824039314274222, 4.90240249387902], [2.1829575086711497, 0.8281747241486, 4.6969072376171965], [2.1924928049606565, 0.871958387317833, 4.485723053010382], [2.2020281012501632, 0.9137039464304915, 4.269530942790887], [2.21156339753967, 0.9533667713560326, 4.0489799902471155], [2.221098693829177, 0.9909082547850306, 3.824683918188737], [2.2306339901186836, 1.0262954625436815, 3.5972186200634937], [2.2401692864081904, 1.0595007647698895, 3.3671206029047065], [2.249704582697697, 1.0905014563020505, 3.1348862683759444], [2.259239878987204, 1.1192793738835738, 2.900971949466866], [2.2687751752767107, 1.1458205169753695, 2.6657946158458605], [2.2783104715662175, 1.170114678131719, 2.4297331598595724], [2.289866058098739, 1.196535078919216, 2.1429598957103857], [2.3014216446312608, 1.219639700324271, 1.8559325811123382], [2.3129772311637824, 1.2394284182969904, 1.569127533222308], [2.324532817696304, 1.2559062623909725, 1.282961715962437], [2.3360884042288257, 1.2690827759676213, 0.9978007840433809], [2.3476439907613473, 1.2789714716610616, 0.7139674966972631], [2.359199577293869, 1.2855893853763314, 0.4317503329257705], [2.3707551638263906, 1.288956730312354, 0.15141216746205538], [2.3847885786506655, 1.2887087641452912, -0.18615766021836988], [2.3988219934749404, 1.2837480168685393, -0.5201687249910564], [2.4128554082992153, 1.2741274156352702, -0.8501927570364242], [2.42688882312349, 1.2599060399152173, -1.1757779614345911], [2.440922237947765, 1.2411495875858412, -1.4964299107058106], [2.45495565277204, 1.2179310975064463, -1.8115941550790144], [2.468989067596315, 1.1903319020532233, -2.1206409017206753], [2.4830224824205898, 1.1584427778654418, -2.4228521577011404], [2.495379959135588, 1.1268905004471468, -2.682666605568918], [2.5077374358505864, 1.0921673957737283, -2.9359251025236963], [2.5200949125655847, 1.0543586698199037, -3.181938666023204], [2.532452389280583, 1.0135584410195269, -3.4199541600254055], [2.5448098659955813, 0.9698705189402941, -3.6491569634744927], [2.5571673427105797, 0.9234091354670858, -3.868676010028488], [2.569524819425578, 0.8742995984285031, -4.077591312451643], [2.5818822961405763, 0.8226788365924468, -4.274944018290972], [2.5942397728555746, 0.7686958048919653, -4.459748957666317], [2.606597249570573, 0.7125117198472528, -4.631009541081194], [2.6189547262855712, 0.654300097613446, -4.787734749007346], [2.6313122030005696, 0.594246571035053, -4.928957831658824], [2.643669679715568, 0.5325484675672508, -5.053756214907565], [2.656027156430566, 0.4694141368628148, -5.161271996326217], [2.6683846331455645, 0.4050620250270208, -5.250732324317314], [2.680742109860563, 0.33971950168846904, -5.321468893437613], [2.695961475168857, 0.25823137410095526, -5.382057363054683], [2.7111808404771516, 0.17604842704284304, -5.412696612692971], [2.726400205785446, 0.09362982250884944, -5.413006867260597], [2.7416195710937403, 0.011437698768568275, -5.382978528473964], [2.7568389364020347, -0.07006852641592021, -5.322977941383041], [2.7692872388458767, -0.1359093786943637, -5.2521219681478595], [2.7817355412897187, -0.2007492678069431, -5.162271874651408], [2.7941838437335607, -0.26435606116817917, -5.054142172018939], [2.8050386892621457, -0.3186403825891637, -4.945588277968424], [2.815893534790731, -0.37167717114897914, -4.8243955174503235], [2.826748380319316, -0.42333285917700086, -4.69123923903947], [2.837603225847901, -0.4734814428114983, -4.5468359578370015], [2.848458071376486, -0.5220048714453329, -4.3919327975990194], [2.859312916905071, -0.5687933234457186, -4.227297139549095], [2.870167762433656, -0.6137453718242575, -4.053706735721584], [2.881022607962241, -0.6567680461276919, -3.8719405060504677], [2.8918774534908263, -0.6977767989670949, -3.6827701951767655], [2.9027322990194113, -0.7366953872688355, -3.486953019878043], [2.9135871445479964, -0.7734556795085986, -3.2852253936072966], [2.9244419900765815, -0.8079974008986679, -3.078297772916002], [2.9352968356051665, -0.8402678287768246, -2.8668506330756993], [2.9461516811337516, -0.8702214503447716, -2.6515315480333226], [2.9570065266623367, -0.8978195944856202, -2.432953323474839], [2.9678613721909217, -0.9230300487177515, -2.2116931113352214], [2.978716217719507, -0.9458266714795199, -1.9882924193340488], [2.989571063248092, -0.9661890089448493, -1.7632579195255262], [3.000425908776677, -0.9841019244962758, -1.5370629547440307], [3.011280754305262, -0.9995552478738757, -1.3101496404198643], [3.022135599833847, -1.012543449911551, -1.082931460724789], [3.032990445362432, -1.023065347693407, -0.8557962615982136], [3.043845290891017, -1.0311238439313244, -0.6291095481822614], [3.0547001364196023, -1.0367257033918393, -0.40321799992780294], [3.0655549819481873, -1.039881368291358, -0.1784531226003785], [3.0764098274767724, -1.0406048137337625, 0.044865037796285645], [3.0872646730053575, -1.0389134434799367, 0.2664241888495099], [3.0981195185339425, -1.0348280256083644, 0.4859161583458527], [3.1089743640625276, -1.028372666941893, 0.7030333947987433], [3.1198292095911127, -1.0195748244697151, 0.9174656599077214], [3.1306840551196977, -1.0084653513777486, 1.1288969685074752], [3.141538900648283, -0.9950785747083805, 1.3370028296299696], [3.152393746176868, -0.9794524010974378, 1.54144784066984], [3.163248591705453, -0.9616284464804479, 1.7418836850433117], [3.174103437234038, -0.9416521851229934, 1.937947581856234], [3.184958282762623, -0.9195731128160652, 2.1292612336134993], [3.195813128291208, -0.8954449185952217, 2.3154303145661115], [3.206667973819793, -0.8693256589042792, 2.4960445375676086], [3.2175228193483782, -0.8412779277458601, 2.6706783309919073], [3.2283776648769633, -0.8113690160611776, 2.838892149096476], [3.2392325104055484, -0.7796710533810335, 3.000234429023178], [3.2500873559341334, -0.7462611247116071, 3.1542441953439817], [3.2609422014627185, -0.7112213556847499, 3.300454298739201], [3.2717970469913036, -0.6746389592342659, 3.4383952592515974], [3.2826518925198886, -0.6366062374749831, 3.567599666964721], [3.2935067380484737, -0.597220533073248, 3.6876070744521554], [3.304361583577059, -0.5565841252119559, 3.7979692966415066], [3.315216429105644, -0.5148040662680639, 3.8982560156789847], [3.328392822533497, -0.46271262880971437, 4.0058684967058635], [3.34156921596135, -0.40930872960307296, 4.097369630632851], [3.354745609389203, -0.3548086338988596, 4.1721708241502435], [3.367922002817056, -0.29943576214034445, 4.22977681744944], [3.384299585387272, -0.22973937776568193, 4.276829690660628], [3.400677167957488, -0.15949846225523712, 4.296231116444747], [3.417054750527704, -0.08916787092152151, 4.287790070722571], [3.4334323330979197, -0.01920301275811384, 4.251630807895927], [3.4478072897002177, 0.041548855331026466, 4.197394873132867], [3.4621822463025156, 0.10137280516297519, 4.122634064884856], [3.4746977181818144, 0.15247606816894482, 4.041345873669134], [3.487213190061113, 0.20247048499875575, 3.945538656060965], [3.499728661940412, 0.2511781348174179, 3.8358306371551776], [3.512244133819711, 0.29842928887327597, 3.7129108708596954], [3.5233418544363984, 0.33897998192684836, 3.593465896099563], [3.534439575053086, 0.37815327077122796, 3.464774959214746], [3.5455372956697735, 0.41584973318594415, 3.32741552516814], [3.556635016286461, 0.45197645627908667, 3.1819822113261873], [3.5677327369031486, 0.4864471935286599, 3.029080845674659], [3.578830457519836, 0.5191824580133415, 2.8693229262278654], [3.5899281781365238, 0.550109556845326, 2.7033205787861805], [3.6010258987532113, 0.5791625727683105, 2.531682087103777], [3.612123619369899, 0.6062822995767326, 2.3550080464145133], [3.6232213399865865, 0.6314161384532494, 2.1738881690653065], [3.634319060603274, 0.6545179625245979, 1.9888987504637199], [3.6454167812199616, 0.6755479569229431, 1.8006007851929635], [3.656514501836649, 0.6944724414368921, 1.6095387073137544], [3.6676122224533367, 0.7112636824724781, 1.4162397157051358], [3.6787099430700243, 0.7258997005492422, 1.2212136347858047], [3.689807663686712, 0.7383640789589216, 1.0249532529706504], [3.7009053843033994, 0.7486457785410048, 0.8279350755322167], [3.712003104920087, 0.7567389628046002, 0.6306204248764351], [3.7231008255367746, 0.762642836870462, 0.4334568193040705], [3.734198546153462, 0.7663615029380646, 0.23687956081239972], [3.7452962667701497, 0.7679038342145001, 0.04131346311569109], [3.7563939873868373, 0.7672833684859576, -0.1528253474153413], [3.767491708003525, 0.7645182217774549, -0.3451276229723811], [3.7785894286202124, 0.75963102183926, -0.5351892399848668], [3.7896871492369, 0.7526488605246789, -0.7226095583055443], [3.8007848698535875, 0.7436032634885061, -0.9069899492899194], [3.811882590470275, 0.7325301750431412, -1.087932544052393], [3.8229803110869627, 0.7194699554651635, -1.2650392486071116], [3.8340780317036502, 0.7044673875546579, -1.4379110674829567], [3.845175752320338, 0.6875716888193001, -1.6061477716546042], [3.8562734729370254, 0.6688365252926001, -1.7693479401685144], [3.867371193553713, 0.6483200227091515, -1.927109397590092], [3.8784689141704005, 0.6260847705582896, -2.0790300613092816], [3.889566634787088, 0.6021978144305821, -2.224709203811102], [3.9006643554037757, 0.5767306320681934, -2.3637491252936735], [3.911762076020463, 0.5497590886386194, -2.4957572216123136], [3.922859796637151, 0.5213633669781641, -2.620348421628961], [3.9339575172538384, 0.491627868900965, -2.7371479569102966], [3.945055237870526, 0.4606410841422155, -2.845794415675493], [3.9561529584872135, 0.4284954240973191, -2.9459430223376257], [3.9695432592339572, 0.38830332612529345, -3.0550065610911776], [3.982933559980701, 0.346739802744712, -3.150703218396455], [3.9963238607274447, 0.30398702641645803, -3.2325680187173718], [4.0097141614741885, 0.26023295240232364, -3.300203566128509], [4.0264171219396685, 0.20454373163431977, -3.364142712084308], [4.0431200824051485, 0.147978914726523, -3.40500338756003], [4.059823042870629, 0.09092618755291818, -3.422558771674386], [4.076526003336109, 0.033775136657884286, -3.4168091236084144], [4.093228963801589, -0.02308658894440587, -3.387986061199366], [4.109931924267069, -0.07927712983295462, -3.3365499403471075], [4.124116918203998, -0.12619206103723563, -3.2756141959125484], [4.1383019121409275, -0.17213344542602882, -3.199388524917248], [4.152486906077857, -0.21688875506171063, -3.1085024683632962], [4.164954143125302, -0.255084037384751, -3.0170836693742253], [4.1774213801727464, -0.29207516269567746, -2.9154259724366343], [4.189888617220191, -0.3277380110604625, -2.8041012663332125], [4.202355854267636, -0.3619557938504839, -2.683712635773782], [4.214823091315081, -0.39461940110387755, -2.554887722866955], [4.227290328362526, -0.42562766735053664, -2.418272311074913], [4.23975756540997, -0.45488755960926247, -2.2745242776775663], [4.252224802457415, -0.4823142929365442, -2.124308036306469], [4.26469203950486, -0.5078313802561594, -1.968289564290224], [4.277159276552305, -0.5313706242071712, -1.8071320818417282], [4.28962651359975, -0.5528720594121034, -1.6414924228071106], [4.302093750647194, -0.5722838538990256, -1.4720181108569945], [4.314560987694639, -0.5895621784346962, -1.299345131450371], [4.327028224742084, -0.6046710522730693, -1.1240963692007686], [4.339495461789529, -0.6175821733321448, -0.9468806627442121], [4.3519626988369735, -0.6282747401227284, -0.7682924149608815], [4.364429935884418, -0.6367352719059081, -0.5889116853822108], [4.376897172931863, -0.6429574325911583, -0.4093046836447769], [4.389364409979308, -0.6469418628404423, -0.23002457767608955], [4.401831647026753, -0.6486960237485094, -0.05161252762206994], [4.4142988840741975, -0.6482340543551023, 0.1254011439453537], [4.426766121121642, -0.6455766441367082, 0.3004957335440251], [4.439233358169087, -0.6407509205463744, 0.4731589748711435], [4.451700595216532, -0.6337903506398657, 0.6428859736540499], [4.464167832263977, -0.6247346548630228, 0.8091783334106157], [4.476635069311421, -0.6136297301951434, 0.9715435389410323], [4.489102306358866, -0.6005275790622401, 1.1294946558124819], [4.501569543406311, -0.5854862397672959, 1.2825503943393401], [4.514036780453756, -0.5685697136468634, 1.4302355756396061], [4.526504017501201, -0.5498478837687317, 1.5720820253193732], [4.538971254548645, -0.5293964197471626, 1.7076299072987609], [4.55143849159609, -0.5072966631820528, 1.8364294964021064], [4.563905728643535, -0.48363548833557846, 1.958043373824393], [4.57637296569098, -0.458505132950266, 2.0720490147708497], [4.5888402027384245, -0.4320029945873967, 2.1780417228493665], [4.601307439785869, -0.40423138852002927, 2.2756378516571316], [4.613774676833314, -0.37529726404016267, 2.3644782409883454], [4.626241913880759, -0.34531187701702937, 2.4442317837816794], [4.64136253817639, -0.30769977603057397, 2.5283364063010447], [4.65648316247202, -0.2689233511774272, 2.5981721990988973], [4.671603786767651, -0.2292013365855541, 2.653360083550255], [4.690554966040814, -0.1784241286825286, 2.701411596042979], [4.709506145313977, -0.1269615698274072, 2.725669673302548], [4.72845732458714, -0.07526576960398584, 2.726052473230625], [4.747408503860303, -0.023787858870682056, 2.702745403228915], [4.764311697034033, 0.021581076796614466, 2.662333237209872], [4.781214890207764, 0.0661139348335281, 2.6039259466620166], [4.795738964719142, 0.10348325548663487, 2.5398578988294984], [4.81026303923052, 0.13983196260598632, 2.4634789840959974], [4.824787113741898, 0.17498530377755298, 2.375358013321972], [4.837812380748671, 0.20535785004295715, 2.28686243843432], [4.850837647755444, 0.23452217207704373, 2.1899254948858964], [4.863862914762217, 0.26237171099888923, 2.085072546460966], [4.87688818176899, 0.28880692565423205, 1.972854963883662], [4.889913448775763, 0.3137355995811272, 1.8538452736285524], [4.902938715782536, 0.33707308598459906, 1.7286325060991632], [4.915963982789309, 0.3587424939095518, 1.5978178312174875], [4.928989249796082, 0.37867481983240253, 1.4620105514850623], [4.942014516802855, 0.3968090296805349, 1.3218245034677298], [4.955039783809628, 0.41309209682604936, 1.1778748993242774], [4.968065050816401, 0.4274790018888146, 1.0307756212387318], [4.981090317823174, 0.4399327002354099, 0.881136964087806], [4.994115584829947, 0.45042406289474946, 0.7295638058930042], [5.00714085183672, 0.4589317962532914, 0.5766541719398088], [5.020166118843493, 0.46544234537196844, 0.42299814712829553], [5.033191385850266, 0.4699497851148017, 0.2691770822680192], [5.046216652857039, 0.472455702527939, 0.11576303366793186], [5.059241919863812, 0.472969073089763, -0.03668162854979215], [5.072267186870585, 0.47150613259891017, -0.18760450956500102], [5.085292453877358, 0.468090245607173, -0.3364634419319293], [5.098317720884131, 0.4627517704660789, -0.4827267634580264], [5.111342987890904, 0.45552792026514627, -0.625873679170427], [5.124368254897677, 0.4464626182199018, -0.7653947593657626], [5.13739352190445, 0.43560634543991283, -0.9007926179171052], [5.150418788911223, 0.42301597849010475, -1.0315828058474439], [5.163444055917996, 0.408754613768623, -1.1572949448858436], [5.176469322924769, 0.39289137547462966, -1.2774741145409845], [5.189494589931542, 0.37550120383951807, -1.3916824944315562], [5.202519856938315, 0.35666462035108815, -1.4995012515166255], [5.215545123945088, 0.3364674669139184, -1.6005326498233863], [5.228570390951861, 0.31500061625735315, -1.6944023486618411], [5.241595657958634, 0.2923596514168147, -1.7807618445594144], [5.254620924965407, 0.2686445127606915, -1.8592910026684635], [5.2676461919721795, 0.24395911179447877, -1.9297006156132994], [5.283610801985667, 0.21253744608074043, -2.004550706874386], [5.299575411999154, 0.18002399181953882, -2.066424237608952], [5.315540022012641, 0.14662851015159165, -2.1150112376462937], [5.335847086292955, 0.10321221830952085, -2.157277155725289], [5.3561541505732695, 0.05916169519876067, -2.1774782324515076], [5.376461214853584, 0.014925084515643623, -2.175650921452198], [5.396768279133898, -0.029052862977808437, -2.1520922673570513], [5.414482577753859, -0.06686341508517825, -2.114223074826667], [5.432196876373821, -0.10386400221449811, -2.0607519460135655], [5.447583701798655, -0.13513546288737235, -2.0021471892734803], [5.462970527223488, -0.16542150575374073, -1.9327595499346126], [5.478357352648322, -0.19456047052984507, -1.853151399874692], [5.493744178073156, -0.22239978428580467, -1.7639403340702031], [5.507307661265756, -0.2457485784269363, -1.6778670262261464], [5.520871144458356, -0.2678855166760927, -1.5853305537545888], [5.534434627650956, -0.2887263262187743, -1.4868337003823866], [5.547998110843556, -0.30819367159305233, -1.3828960123582894], [5.5615615940361565, -0.3262173573403157, -1.274050192556036], [5.575125077228757, -0.34273448328950173, -1.1608387290585511], [5.588688560421357, -0.3576895559318978, -1.0438107967402475], [5.602252043613957, -0.3710345597731058, -0.9235194566758571], [5.615815526806557, -0.3827289927936046, -0.800519164751327], [5.629379009999157, -0.39273987021621865, -0.6753635881363222], [5.642942493191757, -0.40104170068060263, -0.5486037167111358], [5.6565059763843575, -0.40761643867944025, -0.4207862464423383], [5.670069459576958, -0.41245341673998226, -0.29245220329922195], [5.683632942769558, -0.41554926036189704, -0.1641357697409308], [5.697196425962158, -0.41690778817367047, -0.03636327115224486], [5.710759909154758, -0.41653989917100737, 0.0903477231278298], [5.724323392347358, -0.4144634482776201, 0.21548923039922693], [5.737886875539958, -0.4107031108463482, 0.3385636620977158], [5.7514503587325585, -0.4052902361202733, 0.45908465087015377], [5.765013841925159, -0.39826268912114604, 0.576577935764252], [5.778577325117759, -0.38966467994568, 0.6905823385668217], [5.792140808310359, -0.37954657904633093, 0.8006508576483887], [5.805704291502959, -0.3679647167665709, 0.9063518980343654], [5.819267774695559, -0.35498116520286305, 1.007270648058899], [5.832831257888159, -0.34066350038466686, 1.1030106041254877], [5.8463947410807595, -0.32508454280432414, 1.1931952360790385], [5.85995822427336, -0.30832207449111837, 1.2774697767868317], [5.87352170746596, -0.290458531104531, 1.355503111043841], [5.88708519065856, -0.27158066791280966, 1.4269897311788315], [5.90064867385116, -0.25177919901221335, 1.491651720052647], [5.917224856601376, -0.2264629962116397, 1.5610484077377678], [5.933801039351591, -0.20008678935194724, 1.6194938058200827], [5.950377222101807, -0.17283482118122265, 1.6666737604732662], [5.970849492554585, -0.13824999077523442, 1.7090484167949562], [5.991321763007363, -0.10297976971051495, 1.7336185994492324], [6.011794033460141, -0.06738970868387334, 1.7403150602751603], [6.03226630391292, -0.03184471138939046, 1.7292701527228405], [6.052738574365698, 0.0032950857772278824, 1.7008164326883792], [6.070922049217436, 0.033882727179830804, 1.661368771489807], [6.089105524069174, 0.0636355316502042, 1.609092318311134], [6.105171028378434, 0.08904569418000098, 1.5527087440878757], [6.1212365326876945, 0.11347645782116009, 1.4872554881677977], [6.137302036996955, 0.13678632766843982, 1.4132654878241913], [6.153367541306215, 0.1588427729236156, 1.3313207355580696], [6.167650134428981, 0.17729951398303592, 1.2522954585713744], [6.181932727551747, 0.194588928990215, 1.167940261604007], [6.196215320674512, 0.21063832546259764, 1.0787385774589038], [6.210497913797278, 0.2253820357313647, 0.985190114553075], [6.224780506920044, 0.23876162624900235, 0.8878076395795036], [6.239063100042809, 0.2507260619945183, 0.7871139118004639], [6.253345693165575, 0.2612318283311915, 0.6836387937263367], [6.267628286288341, 0.27024301295109937, 0.5779165525951714], [6.2819108794111065, 0.27773135067493454, 0.47048335715993395], [6.296193472533872, 0.28367623387387, 0.3618749652092315], [6.310476065656638, 0.2880646911566832, 0.2526245893196697], [6.324758658779404, 0.29089133673837314, 0.14326092181477823], [6.339041251902169, 0.29215829259748843, 0.034306294961250525], [6.353323845024935, 0.29187508516169086, -0.07372505083103352], [6.367606438147701, 0.2900585178590016, -0.18032861959122637], [6.381889031270466, 0.28673252046001796, -0.28501126180990105], [6.396171624393232, 0.28192797573757855, -0.387292752838693], [6.410454217515998, 0.2756825236067166, -0.48670737142882053], [6.4247368106387635, 0.26804034259878995, -0.5828054977223666], [6.439019403761529, 0.2590519082860554, -0.6751552445108395], [6.453301996884295, 0.24877372811990112, -0.7633441292776492], [6.4675845900070605, 0.23726805208690832, -0.84698078772402], [6.481867183129826, 0.22460255862717718, -0.9256967224399028], [6.496149776252592, 0.2108500153998752, -0.9991480734318733], [6.510432369375358, 0.19608791471826176, -1.0670173906692901], [6.524714962498123, 0.18039808380264563, -1.1290153829587362], [6.538997555620889, 0.1638662704028245, -1.1848826125835443], [6.556624752519239, 0.14243508798441237, -1.2450425725828538], [6.574251949417589, 0.1200315514369637, -1.2951600641090875], [6.591879146315939, 0.09683526139096003, -1.334956155455456], [6.614094675299033, 0.06675653801056733, -1.3701111602680014], [6.636310204282127, 0.03608454317575338, -1.3883687612133493], [6.658525733265221, 0.005194854082863531, -1.3897478993918844], [6.680741262248315, -0.025539787978597527, -1.374484108314649], [6.702956791231409, -0.055754234974326966, -1.3430238928716307], [6.72173432330806, -0.08062583994506296, -1.3042777005888604], [6.740511855384711, -0.10466929914656023, -1.2549154357471346], [6.757361266774256, -0.12537935941271466, -1.2020644054507998], [6.774210678163802, -0.14513413561764255, -1.1416123025046327], [6.791060089553347, -0.16380991086780788, -1.074083240898708], [6.807909500942892, -0.1812921547801295, -1.0000425894013343], [6.824758912332437, -0.19747617154597125, -0.9200913799066998], [6.839692077588763, -0.210658490171552, -0.8447996224807046], [6.854625242845089, -0.2226883150015342, -0.7658161557573082], [6.869558408101415, -0.23351399845469978, -0.683608808471319], [6.884491573357741, -0.24309095244871345, -0.5986547704379661], [6.8994247386140675, -0.2513817678037084, -0.5114378852154329], [6.9143579038703935, -0.2583562942289224, -0.42244607931416106], [6.9292910691267195, -0.26399168296874126, -0.33216893179523627], [6.944224234383046, -0.2682723941912597, -0.24109538147076648], [6.959157399639372, -0.2711901711171893, -0.14971156325713236], [6.974090564895698, -0.27274398272556777, -0.058498760727018886], [6.989023730152024, -0.27293993665356203, 0.032068541314657514], [7.00395689540835, -0.27179116365044476, 0.12152452227720482], [7.018890060664676, -0.2693176746708302, 0.20941382781517404], [7.033823225921002, -0.26554619141941777, 0.29529332621544274], [7.048756391177328, -0.2605099509076442, 0.37873383491341145], [7.063689556433654, -0.2542484843688025, 0.4593218298480711], [7.07862272168998, -0.24680737071694417, 0.5366611464183884], [7.093555886946306, -0.2382379646378885, 0.6103746761840511], [7.108489052202632, -0.22859709937621794, 0.6801060583978165], [7.123422217458958, -0.21794676433489724, 0.7455213602159814], [7.138355382715284, -0.20635375773494163, 0.8063107342662639], [7.15328854797161, -0.19388931478836263, 0.8621900374145128], [7.168221713227936, -0.18062871211167497, 0.9129023903062355], [7.186600623657044, -0.16333216386070282, 0.9678873445277507], [7.204979534086151, -0.1451030162581472, 1.0143396629994152], [7.2233584445152585, -0.12610086909384666, 1.0519694397549215], [7.24592780556157, -0.10195063236516824, 1.0857969151482558], [7.268497166607882, -0.07719322654065233, 1.1057639214809216], [7.291066527654194, -0.05214246841361848, 1.1118123335627637], [7.313635888700506, -0.027111456018003792, 1.104063545607714], [7.3362052497468175, -0.00240854351671535, 1.0828155846467293], [7.358774610793129, 0.02166658244242381, 1.0485370264195435], [7.37803328278818, 0.04149747934507304, 1.0094547096721465], [7.39729195478323, 0.06049244635940684, 0.9618184578919986], [7.416550626778281, 0.07849194597033785, 0.9061794025275187], [7.4335186390755625, 0.09340750171818071, 0.851016904915665], [7.450486651372844, 0.10734161497902575, 0.7905800741033508], [7.467454663670126, 0.12020891701892339, 0.7253597468712717], [7.484422675967408, 0.13193259969516727, 0.6558733756746968], [7.5013906882646895, 0.14244482997316274, 0.5826606575801228], [7.518358700561971, 0.15168709034801867, 0.5062791799752467], [7.535326712859253, 0.15961044585787387, 0.42730012874427625], [7.552294725156535, 0.1661757390628457, 0.34630409413933144], [7.569262737453816, 0.17135371487166307, 0.26387699908905354], [7.586230749751098, 0.17512507743267478, 0.18060616481835068], [7.60319876204838, 0.1774804814824856, 0.09707651997011699], [7.620166774345662, 0.17842046058802996, 0.01386695236697899], [7.637134786642943, 0.17795529465696827, -0.06845320255734867], [7.654102798940225, 0.1761048189615508, -0.14932754561790426], [7.671070811237507, 0.17289817675895539, -0.22821587982915323], [7.6880388235347885, 0.16837351743240364, -0.30459736703346185], [7.70500683583207, 0.16257764195518531, -0.37797358075125975], [7.721974848129352, 0.1555655974225003, -0.4478714562481822], [7.738942860426634, 0.14740022242594272, -0.5138461331678879], [7.755910872723915, 0.13815164517723774, -0.5754836798005333], [7.772878885021197, 0.12789673652801878, -0.6324036816435901], [7.789846897318479, 0.11671852037901134, -0.684261670864735], [7.806814909615761, 0.10470554441465522, -0.7307513680714633], [7.823782921913042, 0.09195121461998097, -0.7716067038509272], [7.844482997446165, 0.07552968293606523, -0.813494455841782], [7.8651830729792875, 0.058334206427223124, -0.8463467740047598], [7.88588314851241, 0.04055426883593019, -0.8699438709894763], [7.9131299911811475, 0.01658550423797292, -0.8867015800114878], [7.940376833849885, -0.007618030931060699, -0.8872262768039125], [7.967623676518622, -0.03161742895719947, -0.8718156126743113], [7.99071700298525, -0.05148106541596176, -0.8467095249482359], [8.013810329451879, -0.07064221226959205, -0.8110839995776041], [8.033625328153581, -0.08634401321289557, -0.7726158735689341], [8.053440326855284, -0.10121531762174248, -0.7273483452035167], [8.073255325556987, -0.1151265929639249, -0.675814681899166], [8.091086982611866, -0.12672674531828285, -0.6245650939906048], [8.108918639666745, -0.13737535916020002, -0.569170810492645], [8.126750296721625, -0.1470027935889924, -0.5101137543461406], [8.144581953776504, -0.15554819126562694, -0.447896444284694], [8.162413610831383, -0.16295980741674693, -0.38303771114900387], [8.180245267886262, -0.16919526277597544, -0.31606845620155033], [8.198076924941141, -0.17422172151221688, -0.24752748374567402], [8.21590858199602, -0.17801599569515267, -0.17795743196640584], [8.2337402390509, -0.18056457820432367, -0.10790081819422583], [8.251571896105778, -0.18186360621620715, -0.037896208194770034], [8.269403553160657, -0.1819187575266727, 0.031525486052987634], [8.287235210215536, -0.18074508201226436, 0.09984457909228987], [8.305066867270416, -0.17836677053378636, 0.1665560559380544], [8.322898524325295, -0.17481686357104823, 0.2311728879055186], [8.340730181380174, -0.1701369018780714, 0.29322921936570623], [8.358561838435053, -0.16437652148968315, 0.35228342152661707], [8.376393495489932, -0.15759299551408376, 0.4079210053931786], [8.394225152544811, -0.14985072532600344, 0.45975738150925005], [8.41205680959969, -0.14122068403845076, 0.5074404493581838], [8.42988846665457, -0.13177981547707013, 0.5506529948279066], [8.447720123709448, -0.1216103923014654, 0.5891148703444755], [8.465551780764327, -0.11079933739724113, 0.622584929509609], [8.488075336497584, -0.0963680088420898, 0.6574172033462751], [8.51059889223084, -0.08124848531820467, 0.6836606211207144], [8.537926335757101, -0.06226208357439077, 0.7036889615133308], [8.565253779283362, -0.042907061108068745, 0.7106568359192802], [8.592581222809622, -0.02353937826245157, 0.7046734324926828], [8.619908666335883, -0.004508760921182516, 0.6860841521141468], [8.64347100389854, 0.011370783183901906, 0.6603703555278582], [8.667033341461197, 0.026543620493412752, 0.6261987799009072], [8.687689452861264, 0.03911173126689166, 0.589756921727022], [8.70834556426133, 0.050868628938026, 0.547740950085201], [8.729001675661397, 0.061704441109399724, 0.500668378536574], [8.749657787061464, 0.07152045966992016, 0.4491015113481939], [8.768096844451756, 0.07935067421390271, 0.3997613677983338], [8.786535901842049, 0.0862459045192595, 0.3477657414241181], [8.804974959232341, 0.09216144256866068, 0.29357824909107294], [8.823414016622634, 0.09706124123784399, 0.23767399703892328], [8.841853074012926, 0.10091808859178567, 0.18053551526112538], [8.860292131403218, 0.10371370759778986, 0.1226487378688949], [8.87873118879351, 0.10543878234241064, 0.06449905459891268], [8.897170246183803, 0.10609291226243997, 0.006567454354850295], [8.915609303574096, 0.1056844962524344, -0.05067322173807686], [8.934048360964388, 0.10423054880975571, -0.10676190269034916], [8.95248741835468, 0.10175645064206582, -0.161252771686588], [8.970926475744973, 0.09829563641092788, -0.21371859840169044], [8.989365533135265, 0.093889222536326, -0.2637539056289139], [9.007804590525557, 0.08858557825515997, -0.3109779550036317], [9.02624364791585, 0.08243984342249772, -0.35503753492343315], [9.044682705306142, 0.0755133968729068, -0.3956095319392877], [9.063121762696435, 0.06787327952039388, -0.43240326522428746], [9.081560820086727, 0.059591576763744325, -0.465162562504664], [9.104172727067258, 0.048672308147260736, -0.49950689001004106], [9.12678463404779, 0.03705200570529804, -0.5271281797991659], [9.14939654102832, 0.024885563672303285, -0.5477874463859225], [9.179141165303127, 0.008317871064027885, -0.5641168333470205], [9.208885789577934, -0.008550807936745373, -0.568054507556031], [9.238630413852741, -0.02535380146157314, -0.5597732605968393], [9.268375038127548, -0.041733494149118956, -0.5397067102774085], [9.292795110051172, -0.05462460321964709, -0.5148962557716042], [9.317215181974795, -0.06682316811761972, -0.48308546426723087], [9.338930920101653, -0.07695624028660146, -0.44938766396243224], [9.36064665822851, -0.08630654280133641, -0.41107870380659145], [9.382362396355369, -0.09477940837286647, -0.3686685629078123], [9.404078134482226, -0.10229167266284211, -0.3227054880455356], [9.425793872609084, -0.10877242917755268, -0.27376895657497374], [9.445211699495417, -0.11364628037789051, -0.22798551972832146], [9.46462952638175, -0.11761628579408365, -0.18074991373062976], [9.484047353268082, -0.120658609544392, -0.13251183516133652], [9.503465180154414, -0.1227581786498616, -0.08372347358259896], [9.522883007040747, -0.12390869218709998, -0.034835485054959515], [9.54230083392708, -0.12411255315215709, 0.013706938235387399], [9.561718660813412, -0.1233807251193735, 0.06146788022941078], [9.581136487699744, -0.12173251618494753, 0.10802437518431504], [9.600554314586077, -0.1191952930592355, 0.1529699250550747], [9.61997214147241, -0.11580412853071172, 0.19591784172553398], [9.639389968358742, -0.11160138588233565, 0.23650439548897714], [9.658807795245075, -0.10663624420869706, 0.27439175046449243], [9.678225622131407, -0.10096416896628083, 0.3092706667088723], [9.69764344901774, -0.09464633249109317, 0.340862947907859], [9.717061275904072, -0.08774898963417045, 0.36892361296679205], [9.74124038669313, -0.07845738050437157, 0.3986122795862921], [9.765419497482188, -0.06852149148360723, 0.42217663521066007], [9.789598608271247, -0.058092420548811474, 0.43938280549483427], [9.821845965980536, -0.04368514857077458, 0.45219985399170226], [9.854093323689826, -0.02905250783548649, 0.4533981288290153], [9.886340681399115, -0.014566332808425723, 0.4432016672105244], [9.91464969499666, -0.0022549382203070293, 0.42525590601159036], [9.942958708594205, 0.009435284582081833, 0.3994270855593135], [9.966900166895334, 0.01867825743155257, 0.37191399587758966], [9.990841625196463, 0.027205166463329697, 0.33969765588071005], [10.014783083497592, 0.034909610662537505, 0.30330441262230545], [10.038724541798722, 0.041698397829199235, 0.2633098313819822], [10.059893568696515, 0.04687492168873742, 0.22543947171724552], [10.081062595594307, 0.05122896023872577, 0.18568050360258273], [10.1022316224921, 0.0547253857290075, 0.14449278038068863], [10.123400649389893, 0.05733890433883657, 0.10234466268117837], [10.144569676287686, 0.05905418119140256, 0.05970782642640837], [10.165738703185479, 0.05986585607461835, 0.01705213708646936], [10.186907730083272, 0.059778451779635436, -0.025159362367656306], [10.208076756981065, 0.05880617793488291, -0.06647530587174902], [10.229245783878858, 0.056972634111487945, -0.10646066002682288], [10.25041481077665, 0.05431041681846188, -0.14470114252160537], [10.271583837674443, 0.05086063580526468, -0.18080736632326655], [10.292752864572236, 0.04667234585492704, -0.21441867416600838], [10.313921891470029, 0.04180190098816893, -0.2452066291599909], [10.335090918367822, 0.03631223870787623, -0.27287812877369333], [10.356259945265615, 0.030272102588024326, -0.2971781112862793], [10.382296916088135, 0.022197122511595148, -0.32212702274833155], [10.408333886910656, 0.013546739699094605, -0.3413413891554648], [10.434370857733176, 0.004473245612782782, -0.35460931666072476], [10.470699065516778, -0.00859745244258919, -0.362985555844298], [10.507027273300379, -0.021757883418858655, -0.3596183478533966], [10.54335548108398, -0.03458772075995123, -0.3449137993456669], [10.57170151839761, -0.04411148878544937, -0.32604739603771243], [10.60004755571124, -0.05301466467191705, -0.3012283851449938], [10.624907539237016, -0.060185256182558225, -0.27503571343996697], [10.649767522762792, -0.0666582206927087, -0.24518976177620969], [10.674627506288568, -0.07234900349143826, -0.21220094128464384], [10.699487489814343, -0.07718622496934706, -0.17661728438173632], [10.724347473340119, -0.08111250562612173, -0.13901553898817332], [10.746681414509911, -0.08382763034264906, -0.10400479161455392], [10.769015355679704, -0.0857520945254017, -0.06828613762269486], [10.791349296849496, -0.08687502336570756, -0.0323009027030772], [10.813683238019289, -0.08719536546485361, 0.003513414303329798], [10.836017179189081, -0.0867217498222056, 0.03872826170975581], [10.858351120358874, -0.08547223051593505, 0.07292896394454197], [10.880685061528666, -0.08347392387868538, 0.10571941230280832], [10.903019002698459, -0.08076254398682911, 0.1367264732824081], [10.925352943868251, -0.07738184324260884, 0.1656040726521826], [10.947686885038044, -0.07338296573827364, 0.19203691563385242], [10.970020826207836, -0.06882372195049213, 0.21574380592246287], [10.992354767377629, -0.06376779411659989, 0.2364805289721283], [11.020248236375766, -0.0568604662974335, 0.2578982888144486], [11.048141705373903, -0.04942857226514123, 0.27405841185913765], [11.07603517437204, -0.04162185393061685, 0.2847574113882475], [11.115659032929372, -0.030189636577869116, 0.29038692822808626], [11.155282891486705, -0.01875611880020879, 0.28490970031108753], [11.188957358301971, -0.00936068134812759, 0.27189878121876426], [11.218761801154617, -0.0015045782151220533, 0.2544179896260931], [11.248566244007263, 0.005753095835883568, 0.23184135212675433], [11.274875564073099, 0.011547755601557543, 0.208147737881868], [11.301184884138936, 0.01667779659498606, 0.18140273960392364], [11.327494204204772, 0.02106949314523234, 0.15211021807001435], [11.353803524270608, 0.02466283665696775, 0.12080743964137708], [11.380112844336445, 0.027412287911562704, 0.0880554212323279], [11.406422164402281, 0.029287272412967705, 0.05442908055503394], [11.432731484468118, 0.030272415885505926, 0.020507359926044202], [11.459040804533954, 0.03036752136807459, -0.013136515198530471], [11.48535012459979, 0.02958729347932002, -0.04594449031546724], [11.511659444665627, 0.02796081932276422, -0.07738270526907977], [11.537968764731463, 0.025530819143739458, -0.1069499534012674], [11.5642780847973, 0.022352683230484494, -0.13418545309704], [11.590587404863136, 0.018493314657041533, -0.15867581915220208], [11.616896724928973, 0.014029800275400042, -0.18006113313379807], [11.643206044994809, 0.009047934847902502, -0.19804002502693963], [11.669515365060645, 0.0036406253267633575, -0.21237369334043688], [11.703292464533384, -0.0037672141606187454, -0.22515728269759774], [11.737069564006122, -0.011497260046203764, -0.23144872180623483], [11.779555329452243, -0.021338402817618056, -0.23012122990588085], [11.822041094898365, -0.030909442250184823, -0.21886749953324855], [11.85452476619425, -0.037791680084620985, -0.2040464727162411], [11.887008437490136, -0.044111951654799114, -0.1843710570734965], [11.915307309663957, -0.04904423759388007, -0.16374933062306232], [11.943606181837778, -0.053352701445213244, -0.14036842352542542], [11.971905054011598, -0.05696635424706512, -0.1147352148960647], [12.000203926185419, -0.05982904852644329, -0.08738986208214726], [12.02850279835924, -0.06190026336712705, -0.058894699739248], [12.05680167053306, -0.06315557239961948, -0.029822968049970686], [12.085100542706881, -0.06358679294430733, -0.000747585083778951], [12.113399414880702, -0.06320182049159216, 0.027769831376522724], [12.141698287054522, -0.06202415835180824, 0.05518949886455712], [12.169997159228343, -0.0600921576069438, 0.08100338145123961], [12.198296031402164, -0.057457987411556825, 0.10474431059753274], [12.226594903575984, -0.05418636019081052, 0.12599416432917254], [12.254893775749805, -0.05035304033319585, 0.14439097010391622], [12.283192647923626, -0.04604316852807747, 0.15963481525857162], [12.311491520097446, -0.04134943689603308, 0.1714924696594347], [12.348309936461586, -0.034830208106187296, 0.18158637841154937], [12.385128352825726, -0.0280531761489378, 0.18550146716576313], [12.430868130165116, -0.019617443557849584, 0.18181185902968], [12.469728754106539, -0.012731118194289669, 0.17158586554621313], [12.503715979819027, -0.007122970315539747, 0.15774069272413213], [12.537703205531516, -0.0020561638106671356, 0.13983104087225126], [12.567630590838549, 0.0018549670005443076, 0.12116705665125238], [12.597557976145582, 0.0051728695742157575, 0.10027069724196544], [12.627485361452615, 0.007838125048067423, 0.07764042146763142], [12.657412746759649, 0.0098066684523746, 0.05380182835289231], [12.687340132066682, 0.011050422273253717, 0.02929570545577641], [12.717267517373715, 0.011557570658035757, 0.004666009160024558], [12.747194902680748, 0.011332476138233771, -0.019551963699122196], [12.777122287987781, 0.010395248342851066, -0.04284296520428347], [12.807049673294815, 0.008780981362407316, -0.0647225146178684], [12.836977058601848, 0.006538683094552314, -0.08474673236104255], [12.866904443908881, 0.003729925959756011, -0.10252109853357486], [12.896831829215914, 0.00042725373041142866, -0.11770796975084039], [12.926759214522948, -0.0032876162188597863, -0.13003271592758894], [12.963215919081582, -0.008240756747791794, -0.14088217739459075], [12.999672623640217, -0.013502486072126436, -0.1469494626189102], [13.049166159555812, -0.02082399851824019, -0.14741514699221392], [13.098659695471406, -0.0279512697099177, -0.13923418916806268], [13.136116827355547, -0.032964485310617644, -0.1277611933884025], [13.173573959239688, -0.03747082399596356, -0.11227653959333445], [13.2058801166434, -0.04084363677907671, -0.0961786457054], [13.238186274047111, -0.04366177669934564, -0.07802315618288755], [13.270492431450823, -0.045866822281649386, -0.05831319303489979], [13.302798588854534, -0.04741709066326947, -0.03757952150407405], [13.335104746258246, -0.04828830528104432, -0.016366597551720242], [13.367410903661957, -0.04847381172149307, 0.004781393567454571], [13.399717061065669, -0.04798434704448721, 0.025334164249992113], [13.43202321846938, -0.0468473787054326, 0.04478829189652406], [13.464329375873092, -0.04510603932863945, 0.06267922565596673], [13.496635533276804, -0.04281769284937745, 0.07859206078081285], [13.528941690680515, -0.04005217578521539, 0.09217084277257126], [13.561247848084227, -0.036889764470585264, 0.10312620190657756], [13.593554005487938, -0.03341892485245953, 0.11124116131029574], [13.637021000342576, -0.02842848708333696, 0.11743573188194434], [13.689531647952789, -0.022223023252798336, 0.11757303341370255], [13.742042295563001, -0.016217104885055712, 0.10997050554950266], [13.781709321187039, -0.012049557793275866, 0.09956324171551624], [13.821376346811077, -0.008365912304116744, 0.08567812868080767], [13.85573610525336, -0.005663834345015644, 0.07131780427548323], [13.890095863695644, -0.0034855852325274142, 0.055271504776611136], [13.924455622137927, -0.001880624590329871, 0.038035976684432586], [13.95881538058021, -0.0008809215777053393, 0.020129958991909464], [13.993175139022494, -0.0005004625165817271, 0.002078888609391278], [14.027534897464777, -0.0007352821990364747, -0.015600215250554689], [14.06189465590706, -0.0015640053531610024, -0.03241326338754535], [14.096254414349344, -0.0029488706196583547, -0.0479026093742998], [14.130614172791628, -0.004837196399012235, -0.06165920416624074], [14.164973931233911, -0.007163236378942029, -0.07333308007074385], [14.199333689676195, -0.009850362715985335, -0.08264190506016271], [14.240907291264472, -0.013462475038957793, -0.09044797744456867], [14.28248089285275, -0.017316571261021124, -0.09427565958072542], [14.339906014065358, -0.022728718735384634, -0.09295299623046327], [14.389009008491717, -0.027143689584410637, -0.08605655373183713], [14.430682364721969, -0.030540581629432514, -0.07647098299123219], [14.472355720952221, -0.03347523957494957, -0.06397627177526514], [14.508853079477563, -0.035579646714401336, -0.05111930158656977], [14.545350438002904, -0.037189356888040655, -0.03695042530711173], [14.581847796528246, -0.038265339401220934, -0.021957002985128253], [14.618345155053587, -0.038786656978360076, -0.00664038122814797], [14.654842513578929, -0.038750675510931205, 0.008500500497096152], [14.69133987210427, -0.03817268309996742, 0.02298500281295225], [14.727837230629612, -0.03708494573387566, 0.03636568943097734], [14.764334589154954, -0.03553524403295028, 0.04824179482344292], [14.800831947680296, -0.03358495076537173, 0.05827086666847035], [14.837329306205637, -0.0313067218983097, 0.06617825875609992], [14.881980118866197, -0.028192645430856273, 0.07267771827171642], [14.926630931526757, -0.024870287613079165, 0.07550387503090625], [14.988467696269943, -0.02023295616857962, 0.0733268598043464], [15.038888879310184, -0.016687059889983244, 0.06666435913918409], [15.082529176999826, -0.013962486790620296, 0.057794565391569824], [15.126169474689467, -0.01167890432121394, 0.04655429604717587], [15.164925901964992, -0.01009428779772782, 0.03505599793896795], [15.203682329240516, -0.008975405813576288, 0.022601345979276107], [15.24243875651604, -0.008350123331371534, 0.009665872323795208], [15.281195183791565, -0.008227729119529325, -0.003270317923845573], [15.31995161106709, -0.008599100168498047, -0.0157400175087012], [15.358708038342614, -0.00943752693777234, -0.027305450623362218], [15.397464465618139, -0.010700151803162031, -0.03757329766346691], [15.436220892893664, -0.01232995221677303, -0.04620770915754879], [15.474977320169188, -0.014258182253195029, -0.05294089242761379], [15.52286818295317, -0.01693708874645622, -0.05835227720838719], [15.570759045737152, -0.01979416646690567, -0.060381734587133765], [15.637349797103063, -0.023757487309592294, -0.05760188181732321], [15.689433634332925, -0.026606541771602814, -0.05126504107362107], [15.735250360550927, -0.028776182968481404, -0.04311668992784995], [15.781067086768928, -0.030526564885667573, -0.03306067797259469], [15.82688381298693, -0.03178306284608322, -0.02166327835460411], [15.86741091576852, -0.03244451135589204, -0.010956718272329278], [15.90793801855011, -0.03266791843056205, -0.00011960903176479361], [15.9484651213317, -0.0324568100133178, 0.01041704006933296], [15.988992224113291, -0.03183174666599022, 0.020246205216936933], [16.02951932689488, -0.03082903347489213, 0.029000205207461376], [16.070046429676474, -0.029498846037653785, 0.03636408056582404], [16.110573532458066, -0.027902862577182094, 0.04208652528631655], [16.161735958603646, -0.025618179736549458, 0.04669145142059248], [16.212898384749227, -0.023176793693071206, 0.048214519185323636], [16.284661843167783, -0.019790390864841904, 0.045202505039474344], [16.339062209997557, -0.017479446409611, 0.03931406772514068], [16.38741011969671, -0.015750985352665406, 0.031921848083004044], [16.435758029395863, -0.014419353055329707, 0.02299338056335544], [16.484105939095016, -0.013545662227317266, 0.013079454430423614], [16.53245384879417, -0.01316336896191232, 0.002767474009220519], [16.580801758493322, -0.01327733061254175, -0.007352627320829785], [16.629149668192476, -0.013864494982892018, -0.016721469945762603], [16.67749757789163, -0.01487612746375989, -0.024840489505147223], [16.72584548759078, -0.016241399807147724, -0.031297778164943786], [16.774193397289935, -0.017872093937960163, -0.0357882076249766], [16.832578098404287, -0.020052173997224063, -0.03833008706711462], [16.906329557103664, -0.022859403063574535, -0.036955275747436234], [16.967954285078537, -0.025005010052903457, -0.032203431398927077], [17.02080204821953, -0.02654866520456711, -0.02595491846187326], [17.07364981136052, -0.027719869962939483, -0.018207203465785988], [17.121166553428278, -0.028401547024405546, -0.010431835134657959], [17.168683295496034, -0.028704652821689932, -0.0023498556123163553], [17.21620003756379, -0.02862532079162088, 0.005592086555300652], [17.263716779631547, -0.02818046801143727, 0.012969664078731374], [17.311233521699304, -0.027406195126523883, 0.019403037801154103], [17.35875026376706, -0.026355203583949452, 0.0245758931300723], [17.406267005834817, -0.025093401836103948, 0.02825042398261119], [17.468367142083878, -0.023251764356253975, 0.030551953083889305], [17.545230371670463, -0.020919901205947097, 0.029393451673400395], [17.61126681325966, -0.01910431465349489, 0.025166268538975342], [17.667663253647913, -0.01783491006793767, 0.019628874009195083], [17.724059694036164, -0.016916348822461087, 0.012822674456253621], [17.780456134424416, -0.01640440459589757, 0.005312862413100129], [17.83121024460712, -0.016310498016191704, -0.001554352100625757], [17.881964354789826, -0.016558263349529836, -0.008083518433086793], [17.93271846497253, -0.01712039496176817, -0.013884838688587321], [17.983472575155236, -0.01795120876430557, -0.018627066933325078], [18.03422668533794, -0.018990102416816593, -0.02205582752973197], [18.09876919050101, -0.02049914174025311, -0.024264496247025855], [18.177331133142893, -0.022402973387824418, -0.02358613892806308], [18.255893075784776, -0.02411532510930688, -0.019528400648767413], [18.316017714569153, -0.025147342649480802, -0.014615806364671934], [18.37614235335353, -0.02584953287794895, -0.008654338761769792], [18.436266992137906, -0.026175438896208506, -0.002199829986988958], [18.496391630922282, -0.026112858702912474, 0.004172887476087743], [18.55651626970666, -0.025683455527251372, 0.009920113896999375], [18.616640908491036, -0.024939478019869996, 0.014574639667754576], [18.676765547275412, -0.02395799286904623, 0.0177826407418167], [18.73689018605979, -0.02283322874100629, 0.01932930323613436], [18.82434845259963, -0.021152494817073, 0.018499624295141816], [18.899933180174482, -0.019868259431206455, 0.015143453222269104], [18.964160127393658, -0.01902999108884552, 0.010806284459027317], [19.028387074612834, -0.018501052242187285, 0.005607537576949574], [19.09261402183201, -0.01831926028626327, 9.40064063761634e-05], [19.156840969051185, -0.01848680468784725, -0.0051812749899311115], [19.22106791627036, -0.018971631530054954, -0.00971337878131548], [19.285294863489536, -0.019712113665327432, -0.01309268724738375], [19.349521810708712, -0.020624402314580216, -0.01504065691153389], [19.4318556628823, -0.021889815364952776, -0.015250890188457503], [19.5318556628823, -0.02329100128934905, -0.012260417286255494], [19.601710181466117, -0.02402290033170313, -0.008549282019705597], [19.671564700049935, -0.02446402816347276, -0.004035040794516669], [19.74141921863375, -0.024577808175372702, 0.000722950511126536], [19.81127373721757, -0.02436716392968772, 0.005164660708514809], [19.881128255801386, -0.023872247717782104, 0.008793915495872572], [19.950982774385203, -0.023163992670334862, 0.011232416782864468], [20.0, -0.02258885298813063, 0.01210932290006745]]}, \"id\": \"el139344140003196142064\", \"plugins\": [{\"type\": \"reset\"}, {\"type\": \"zoom\", \"button\": true, \"enabled\": false}, {\"type\": \"boxzoom\", \"button\": true, \"enabled\": false}]});\n",
       "            })\n",
       "         });\n",
       "}\n",
       "</script>"
      ],
      "text/plain": [
       "<Figure size 432x288 with 1 Axes>"
      ]
     },
     "metadata": {
      "needs_background": "light"
     },
     "output_type": "display_data"
    }
   ],
   "source": [
    "import matplotlib.pyplot as plt\n",
    "from pydrake.systems.analysis import Simulator\n",
    "from pydrake.systems.framework import DiagramBuilder\n",
    "from pydrake.systems.primitives import LogVectorOutput\n",
    "\n",
    "t = Variable(\"t\")\n",
    "td = Variable(\"td\")\n",
    "\n",
    "x = np.hstack([t, td])\n",
    "u_new = G@x\n",
    "\n",
    "#u_new = [39.5*t + 8.5*td]\n",
    "\n",
    "dv_0 = td\n",
    "dv_1 = (-p.damping()/(p.mass()*p.length()**2))*td - (p.gravity()/p.length())*pydrake.forwarddiff.sin(t) \\\n",
    "+ (-0.5977 - 0.3015*td + 0.0645*pydrake.forwarddiff.cos(t) - 4.8302*pydrake.forwarddiff.sin(t))\n",
    "\n",
    "# dv_1 = (-p.damping()/(p.mass()*p.length()**2))*td + (p.gravity()/p.length())*pydrake.forwarddiff.sin(t) - u_new[0]\n",
    "\n",
    "x_dot = np.array([dv_0, dv_1])\n",
    "\n",
    "continuous_vector_system = SymbolicVectorSystem(state=x, dynamics=x_dot, output=x)\n",
    "# Create a simple block diagram containing our system.\n",
    "builder = DiagramBuilder()\n",
    "system = builder.AddSystem(continuous_vector_system)\n",
    "logger = LogVectorOutput(system.get_output_port(0), builder)\n",
    "diagram = builder.Build()\n",
    "\n",
    "# Set the initial conditions, x(0).\n",
    "context = diagram.CreateDefaultContext()\n",
    "context.SetContinuousState([np.pi, 0])\n",
    "\n",
    "# Create the simulator, and simulate for 10 seconds.\n",
    "simulator = Simulator(diagram, context)\n",
    "simulator.AdvanceTo(20)\n",
    "\n",
    "# Plot the results.\n",
    "log = logger.FindLog(context)\n",
    "plt.figure()\n",
    "plt.plot(log.sample_times(), log.data().transpose())\n",
    "plt.xlabel('t')\n",
    "plt.ylabel('y(t)');"
   ]
  },
  {
   "cell_type": "code",
   "execution_count": 112,
   "metadata": {},
   "outputs": [],
   "source": [
    "d = log.data()"
   ]
  },
  {
   "cell_type": "code",
   "execution_count": 113,
   "metadata": {},
   "outputs": [
    {
     "data": {
      "text/plain": [
       "102.2687372313661"
      ]
     },
     "execution_count": 113,
     "metadata": {},
     "output_type": "execute_result"
    }
   ],
   "source": [
    "np.rad2deg(d.view()[0][-1])"
   ]
  },
  {
   "cell_type": "code",
   "execution_count": 129,
   "metadata": {},
   "outputs": [
    {
     "data": {
      "text/plain": [
       "array([[10.74101105,  2.42596626]])"
      ]
     },
     "execution_count": 129,
     "metadata": {},
     "output_type": "execute_result"
    }
   ],
   "source": [
    "G"
   ]
  },
  {
   "cell_type": "code",
   "execution_count": 125,
   "metadata": {},
   "outputs": [
    {
     "data": {
      "text/plain": [
       "[1]"
      ]
     },
     "execution_count": 125,
     "metadata": {},
     "output_type": "execute_result"
    }
   ],
   "source": [
    "R"
   ]
  },
  {
   "cell_type": "code",
   "execution_count": 126,
   "metadata": {},
   "outputs": [
    {
     "data": {
      "text/plain": [
       "array([[0],\n",
       "       [1]])"
      ]
     },
     "execution_count": 126,
     "metadata": {},
     "output_type": "execute_result"
    }
   ],
   "source": [
    "B"
   ]
  },
  {
   "cell_type": "code",
   "execution_count": 127,
   "metadata": {},
   "outputs": [
    {
     "data": {
      "text/plain": [
       "array([[15.23206699, 10.74101105],\n",
       "       [10.74101105,  9.70386502]])"
      ]
     },
     "execution_count": 127,
     "metadata": {},
     "output_type": "execute_result"
    }
   ],
   "source": [
    "X"
   ]
  },
  {
   "cell_type": "code",
   "execution_count": 128,
   "metadata": {},
   "outputs": [
    {
     "data": {
      "text/plain": [
       "array([[10.74101105,  2.42596626]])"
      ]
     },
     "execution_count": 128,
     "metadata": {},
     "output_type": "execute_result"
    }
   ],
   "source": [
    "B.T@X@E"
   ]
  },
  {
   "cell_type": "code",
   "execution_count": 115,
   "metadata": {},
   "outputs": [
    {
     "data": {
      "text/markdown": [
       "$ V(x)=(2.842200000 - 2.840000000c_{0} + 0.042000000s_{0} theta_dot_{0} + 0.051600000theta_dot_{0}^{2})$"
      ],
      "text/plain": [
       "<IPython.core.display.Markdown object>"
      ]
     },
     "metadata": {},
     "output_type": "display_data"
    },
    {
     "name": "stdout",
     "output_type": "stream",
     "text": [
      "Lambda solution status: 1\n",
      "0.0021999878517211164\n"
     ]
    },
    {
     "data": {
      "text/markdown": [
       "$ V(x)=(2.842200000 - 2.840000000c_{0} + 0.042000000s_{0} theta_dot_{0} + 0.051600000theta_dot_{0}^{2})$"
      ],
      "text/plain": [
       "<IPython.core.display.Markdown object>"
      ]
     },
     "metadata": {},
     "output_type": "display_data"
    }
   ],
   "source": [
    "# finding the bound\n",
    "\n",
    "from pydrake.solvers.mathematicalprogram import MathematicalProgram, SolverOptions, Solve\n",
    "from pydrake.solvers.csdp import CsdpSolver\n",
    "from pydrake.solvers.mosek import MosekSolver\n",
    "\n",
    "negative_infinity = float('-inf')\n",
    "coeff = 1e-2\n",
    "\n",
    "def find_implicit_lambdas(x, xd, V, Vdot, g):\n",
    "    prog = MathematicalProgram()\n",
    "    prog.AddIndeterminates(x)\n",
    "    prog.AddIndeterminates(xd)\n",
    "    rho = prog.NewContinuousVariables(1, 'rho')[0]\n",
    "        \n",
    "    y = np.hstack([x, xd])\n",
    "    \n",
    "    l_deg = math.ceil(Vdot.TotalDegree()/2) * 2\n",
    "    \n",
    "    lambda_ = prog.NewSosPolynomial(Variables(y), l_deg)[0]\n",
    "    \n",
    "    lambda_g = []\n",
    "    \n",
    "    for i in range(g.size): \n",
    "        gi_deg = max(l_deg + Vdot.TotalDegree() - g[i].TotalDegree(), 0)\n",
    "        lambda_g.append(prog.NewFreePolynomial(Variables(y), gi_deg))\n",
    "        \n",
    "    lambda_g = np.array(lambda_g)    \n",
    "    \n",
    "    s_deg = max(l_deg + Vdot.TotalDegree() - 2, 0)\n",
    "    lambda_s = prog.NewFreePolynomial(Variables(y), s_deg)\n",
    "    \n",
    "    trig = Polynomial(x[0]**2 + x[1]**2 - 1)    \n",
    "    # level set as optimization variable\n",
    "    prog.AddSosConstraint(Polynomial(x.dot(x))*(V - rho) -lambda_*Vdot + lambda_g.dot(g) + lambda_s*trig)\n",
    "    \n",
    "    prog.AddLinearCost(-rho)\n",
    "        \n",
    "    solver = MosekSolver()\n",
    "    result = solver.Solve(prog)\n",
    "    \n",
    "    k = result.get_solver_details().solution_status\n",
    "                \n",
    "    print(\"Lambda solution status: \" + str(k))\n",
    "    \n",
    "    assert result.is_success()\n",
    "    \n",
    "    lambda_g_results = []\n",
    "    \n",
    "    for i in range(g.size):\n",
    "        lambda_g_results.append(result.GetSolution(lambda_g[i]).RemoveTermsWithSmallCoefficients(coeff))\n",
    "    \n",
    "    return result.GetSolution(lambda_).RemoveTermsWithSmallCoefficients(coeff), np.array(lambda_g_results), \\\n",
    "result.GetSolution(lambda_s).RemoveTermsWithSmallCoefficients(coeff), result.GetSolution(rho)\n",
    "\n",
    "\n",
    "def problem_solver_implicit(S, V_degree, G):\n",
    "    prog = MathematicalProgram()\n",
    "    s = prog.NewIndeterminates(1, \"s\")\n",
    "    c = prog.NewIndeterminates(1, \"c\")\n",
    "    theta_dot = prog.NewIndeterminates(1, \"theta_dot\")\n",
    "    \n",
    "    xd = prog.NewIndeterminates(3, 'xd')\n",
    "    \n",
    "    state_V = np.hstack([theta_dot, c, s, [1]])\n",
    "    \n",
    "    x = np.hstack([s, c, theta_dot])\n",
    "    \n",
    "    u = -G@x\n",
    "        \n",
    "    g0 = xd[0] - c[0]*theta_dot[0]\n",
    "    g1 = xd[1] + s[0]*theta_dot[0]\n",
    "    g2 = p.mass()*(p.length()**2)*xd[2] + p.damping()*theta_dot[0] - p.mass()*p.gravity()*p.length()*s[0] - u\n",
    "    \n",
    "    g = np.array([g0, g1, g2])\n",
    "    \n",
    "    V = state_V.T@S@state_V\n",
    "    Vdot = V.Jacobian(x).dot(xd)\n",
    "    \n",
    "    V = Polynomial(V)\n",
    "    Vdot = Polynomial(Vdot)\n",
    "    \n",
    "    g_poly = []\n",
    "    for i in range(g.size):\n",
    "        g_poly.append(Polynomial(g[i]))\n",
    "        \n",
    "    g_poly = np.array(g_poly)\n",
    "    \n",
    "    display(Markdown(\"$ V(x)=\"+ToLatex(V.ToExpression(), 9)+\"$\"))\n",
    "    for i in range(1):\n",
    "        lambda_, lambda_g, lambda_s, rho = find_implicit_lambdas(x, xd, V, Vdot, g_poly)\n",
    "        \n",
    "#         display(Markdown(\"$ \\lambda(x)=\"+ToLatex(lambda_s.ToExpression())+\"$\"))\n",
    "#         display(Markdown(\"$ \\lambda_g(x)=\"+ToLatex(lambda_g[0].ToExpression())+\"$\"))\n",
    "#         display(Markdown(\"$ \\lambda_g(x)=\"+ToLatex(lambda_g[1].ToExpression())+\"$\"))\n",
    "        \n",
    "        #V, Q = find_implicit_V(x, xd, lambda_, lambda_g, lambda_s, g_poly, V_degree)\n",
    "        print(rho)\n",
    "        \n",
    "        Vdot = V.Jacobian(x).dot(xd)\n",
    "     \n",
    "        display(Markdown(\"$ V(x)=\"+ToLatex(V.ToExpression(), 9)+\"$\"))\n",
    "        \n",
    "    return V, Q\n",
    "\n",
    "V_degree = 2\n",
    "V, Q = problem_solver_implicit(candidate_matrix_new, V_degree, G_casted)"
   ]
  },
  {
   "cell_type": "code",
   "execution_count": 199,
   "metadata": {},
   "outputs": [],
   "source": [
    "var_list = list(V.indeterminates())\n",
    "s = var_list[0]\n",
    "c = var_list[1]\n",
    "theta_dot = var_list[2]"
   ]
  },
  {
   "cell_type": "code",
   "execution_count": 200,
   "metadata": {
    "scrolled": false
   },
   "outputs": [
    {
     "ename": "AttributeError",
     "evalue": "'pydrake.examples.acrobot.AcrobotParams' object has no attribute 'mass'",
     "output_type": "error",
     "traceback": [
      "\u001b[0;31m---------------------------------------------------------------------------\u001b[0m",
      "\u001b[0;31mAttributeError\u001b[0m                            Traceback (most recent call last)",
      "\u001b[0;32m<ipython-input-200-777521286b2b>\u001b[0m in \u001b[0;36m<module>\u001b[0;34m\u001b[0m\n\u001b[1;32m      3\u001b[0m \u001b[0mnqd\u001b[0m \u001b[0;34m=\u001b[0m \u001b[0;36m151\u001b[0m\u001b[0;34m\u001b[0m\u001b[0;34m\u001b[0m\u001b[0m\n\u001b[1;32m      4\u001b[0m \u001b[0mq\u001b[0m \u001b[0;34m=\u001b[0m \u001b[0mnp\u001b[0m\u001b[0;34m.\u001b[0m\u001b[0mlinspace\u001b[0m\u001b[0;34m(\u001b[0m\u001b[0;34m-\u001b[0m\u001b[0;36m2\u001b[0m \u001b[0;34m*\u001b[0m \u001b[0mnp\u001b[0m\u001b[0;34m.\u001b[0m\u001b[0mpi\u001b[0m\u001b[0;34m,\u001b[0m \u001b[0;36m2\u001b[0m \u001b[0;34m*\u001b[0m \u001b[0mnp\u001b[0m\u001b[0;34m.\u001b[0m\u001b[0mpi\u001b[0m\u001b[0;34m,\u001b[0m \u001b[0mnq\u001b[0m\u001b[0;34m)\u001b[0m\u001b[0;34m\u001b[0m\u001b[0;34m\u001b[0m\u001b[0m\n\u001b[0;32m----> 5\u001b[0;31m \u001b[0mqd\u001b[0m \u001b[0;34m=\u001b[0m \u001b[0mnp\u001b[0m\u001b[0;34m.\u001b[0m\u001b[0mlinspace\u001b[0m\u001b[0;34m(\u001b[0m\u001b[0;34m-\u001b[0m\u001b[0;36m50\u001b[0m \u001b[0;34m*\u001b[0m \u001b[0mp\u001b[0m\u001b[0;34m.\u001b[0m\u001b[0mmass\u001b[0m\u001b[0;34m(\u001b[0m\u001b[0;34m)\u001b[0m\u001b[0;34m*\u001b[0m\u001b[0mp\u001b[0m\u001b[0;34m.\u001b[0m\u001b[0mgravity\u001b[0m\u001b[0;34m(\u001b[0m\u001b[0;34m)\u001b[0m\u001b[0;34m*\u001b[0m\u001b[0mp\u001b[0m\u001b[0;34m.\u001b[0m\u001b[0mlength\u001b[0m\u001b[0;34m(\u001b[0m\u001b[0;34m)\u001b[0m\u001b[0;34m,\u001b[0m \u001b[0;36m50\u001b[0m \u001b[0;34m*\u001b[0m \u001b[0mp\u001b[0m\u001b[0;34m.\u001b[0m\u001b[0mmass\u001b[0m\u001b[0;34m(\u001b[0m\u001b[0;34m)\u001b[0m\u001b[0;34m*\u001b[0m\u001b[0mp\u001b[0m\u001b[0;34m.\u001b[0m\u001b[0mgravity\u001b[0m\u001b[0;34m(\u001b[0m\u001b[0;34m)\u001b[0m\u001b[0;34m*\u001b[0m\u001b[0mp\u001b[0m\u001b[0;34m.\u001b[0m\u001b[0mlength\u001b[0m\u001b[0;34m(\u001b[0m\u001b[0;34m)\u001b[0m\u001b[0;34m,\u001b[0m \u001b[0mnqd\u001b[0m\u001b[0;34m)\u001b[0m\u001b[0;34m\u001b[0m\u001b[0;34m\u001b[0m\u001b[0m\n\u001b[0m\u001b[1;32m      6\u001b[0m \u001b[0mQ\u001b[0m\u001b[0;34m,\u001b[0m \u001b[0mQD\u001b[0m \u001b[0;34m=\u001b[0m \u001b[0mnp\u001b[0m\u001b[0;34m.\u001b[0m\u001b[0mmeshgrid\u001b[0m\u001b[0;34m(\u001b[0m\u001b[0mq\u001b[0m\u001b[0;34m,\u001b[0m \u001b[0mqd\u001b[0m\u001b[0;34m)\u001b[0m\u001b[0;34m\u001b[0m\u001b[0;34m\u001b[0m\u001b[0m\n\u001b[1;32m      7\u001b[0m \u001b[0mEnergy\u001b[0m \u001b[0;34m=\u001b[0m \u001b[0;36m.5\u001b[0m \u001b[0;34m*\u001b[0m \u001b[0mp\u001b[0m\u001b[0;34m.\u001b[0m\u001b[0mmass\u001b[0m\u001b[0;34m(\u001b[0m\u001b[0;34m)\u001b[0m \u001b[0;34m*\u001b[0m \u001b[0mp\u001b[0m\u001b[0;34m.\u001b[0m\u001b[0mlength\u001b[0m\u001b[0;34m(\u001b[0m\u001b[0;34m)\u001b[0m\u001b[0;34m**\u001b[0m\u001b[0;36m2\u001b[0m \u001b[0;34m*\u001b[0m \u001b[0mQD\u001b[0m\u001b[0;34m**\u001b[0m\u001b[0;36m2\u001b[0m \u001b[0;34m+\u001b[0m \u001b[0mp\u001b[0m\u001b[0;34m.\u001b[0m\u001b[0mmass\u001b[0m\u001b[0;34m(\u001b[0m\u001b[0;34m)\u001b[0m\u001b[0;34m*\u001b[0m\u001b[0mp\u001b[0m\u001b[0;34m.\u001b[0m\u001b[0mgravity\u001b[0m\u001b[0;34m(\u001b[0m\u001b[0;34m)\u001b[0m\u001b[0;34m*\u001b[0m\u001b[0mp\u001b[0m\u001b[0;34m.\u001b[0m\u001b[0mlength\u001b[0m\u001b[0;34m(\u001b[0m\u001b[0;34m)\u001b[0m \u001b[0;34m*\u001b[0m \u001b[0;34m(\u001b[0m\u001b[0;36m1\u001b[0m \u001b[0;34m-\u001b[0m \u001b[0mnp\u001b[0m\u001b[0;34m.\u001b[0m\u001b[0mcos\u001b[0m\u001b[0;34m(\u001b[0m\u001b[0mQ\u001b[0m\u001b[0;34m)\u001b[0m\u001b[0;34m)\u001b[0m\u001b[0;34m\u001b[0m\u001b[0;34m\u001b[0m\u001b[0m\n",
      "\u001b[0;31mAttributeError\u001b[0m: 'pydrake.examples.acrobot.AcrobotParams' object has no attribute 'mass'"
     ]
    }
   ],
   "source": [
    "# Plot the results as contour plots.\n",
    "nq = 151\n",
    "nqd = 151\n",
    "q = np.linspace(-2 * np.pi, 2 * np.pi, nq)\n",
    "qd = np.linspace(-50 * p.mass()*p.gravity()*p.length(), 50 * p.mass()*p.gravity()*p.length(), nqd)\n",
    "Q, QD = np.meshgrid(q, qd)\n",
    "Energy = .5 * p.mass() * p.length()**2 * QD**2 + p.mass()*p.gravity()*p.length() * (1 - np.cos(Q))\n",
    "Vplot = Q.copy()\n",
    "env = {s: 0., c: 1., theta_dot: 0}\n",
    "for i in range(nq):\n",
    "    for j in range(nqd):\n",
    "        env[s] = np.sin(Q[i, j])\n",
    "        env[c] = np.cos(Q[i, j])\n",
    "        env[theta_dot] = QD[i, j]\n",
    "        Vplot[i, j] = V.Evaluate(env)\n",
    "\n",
    "# plt.rc(\"text\", usetex=True)\n",
    "fig, ax = plt.subplots()\n",
    "ax.contour(Q, QD, Vplot)\n",
    "ax.contour(Q, QD, Vplot, levels = [0.009], colors = 'r')\n",
    "ax.contour(Q, QD, Energy, alpha=0.5, linestyles=\"dashed\")\n",
    "ax.set_xlabel(\"theta\")\n",
    "ax.set_ylabel(\"thetadot\")\n",
    "ax.set_title(\"V (solid) and Mechanical Energy (dashed)\")"
   ]
  },
  {
   "cell_type": "code",
   "execution_count": 40,
   "metadata": {},
   "outputs": [
    {
     "data": {
      "text/plain": [
       "array([[10.74101105,  2.42596626]])"
      ]
     },
     "execution_count": 40,
     "metadata": {},
     "output_type": "execute_result"
    }
   ],
   "source": [
    "G"
   ]
  },
  {
   "cell_type": "code",
   "execution_count": 225,
   "metadata": {},
   "outputs": [
    {
     "data": {
      "text/markdown": [
       "$\\begin{bmatrix} S_{0,0} & S_{1,0} & S_{2,0} & S_{3,0} \\\\ S_{1,0} & S_{1,1} & S_{2,1} & S_{3,1} \\\\ S_{2,0} & S_{2,1} & S_{2,2} & S_{3,2} \\\\ S_{3,0} & S_{3,1} & S_{3,2} & S_{3,3} \\end{bmatrix}$"
      ],
      "text/plain": [
       "<IPython.core.display.Markdown object>"
      ]
     },
     "metadata": {},
     "output_type": "display_data"
    }
   ],
   "source": [
    "prog = MathematicalProgram()\n",
    "s = prog.NewIndeterminates(1, 's')\n",
    "c = prog.NewIndeterminates(1, 'c')\n",
    "theta = prog.NewIndeterminates(1, 'theta')\n",
    "\n",
    "state = np.hstack([s, c, theta])\n",
    "\n",
    "V, Q = prog.NewSosPolynomial(Variables(state), 2)\n",
    "\n",
    "display(Markdown(\"$\"+ToLatex(Q)+\"$\"))"
   ]
  },
  {
   "cell_type": "code",
   "execution_count": 29,
   "metadata": {},
   "outputs": [
    {
     "ename": "AttributeError",
     "evalue": "'Add' object has no attribute 'ToExpression'",
     "output_type": "error",
     "traceback": [
      "\u001b[0;31m---------------------------------------------------------------------------\u001b[0m",
      "\u001b[0;31mAttributeError\u001b[0m                            Traceback (most recent call last)",
      "\u001b[0;32m<ipython-input-29-d592cbab032e>\u001b[0m in \u001b[0;36m<module>\u001b[0;34m\u001b[0m\n\u001b[0;32m----> 1\u001b[0;31m \u001b[0mdisplay\u001b[0m\u001b[0;34m(\u001b[0m\u001b[0mMarkdown\u001b[0m\u001b[0;34m(\u001b[0m\u001b[0;34m\"$\"\u001b[0m\u001b[0;34m+\u001b[0m\u001b[0mToLatex\u001b[0m\u001b[0;34m(\u001b[0m\u001b[0mV\u001b[0m\u001b[0;34m.\u001b[0m\u001b[0mToExpression\u001b[0m\u001b[0;34m(\u001b[0m\u001b[0;34m)\u001b[0m\u001b[0;34m)\u001b[0m\u001b[0;34m+\u001b[0m\u001b[0;34m\"$\"\u001b[0m\u001b[0;34m)\u001b[0m\u001b[0;34m)\u001b[0m\u001b[0;34m\u001b[0m\u001b[0;34m\u001b[0m\u001b[0m\n\u001b[0m",
      "\u001b[0;31mAttributeError\u001b[0m: 'Add' object has no attribute 'ToExpression'"
     ]
    }
   ],
   "source": [
    "display(Markdown(\"$\"+ToLatex(V.ToExpression())+\"$\"))"
   ]
  },
  {
   "cell_type": "code",
   "execution_count": null,
   "metadata": {},
   "outputs": [],
   "source": [
    "\n",
    "\n",
    "\n",
    "\n",
    "\n",
    "\n",
    "\n",
    "\n",
    "\n",
    "\n",
    "\n",
    "\n",
    "\n",
    "\n",
    "\n",
    "\n",
    "\n",
    "\n",
    "\n",
    "\n",
    "\n",
    "\n",
    "\n",
    "\n",
    "\n",
    "\n",
    "\n",
    "\n",
    "\n",
    "\n",
    "\n",
    "\n",
    "\n",
    "\n",
    "\n",
    "\n",
    "\n",
    "\n",
    "\n",
    "\n",
    "\n",
    "\n",
    "\n",
    "\n",
    "\n",
    "\n",
    "\n",
    "\n",
    "\n",
    "\n",
    "\n",
    "\n",
    "\n",
    "\n",
    "\n",
    "\n",
    "\n",
    "\n"
   ]
  },
  {
   "cell_type": "code",
   "execution_count": 36,
   "metadata": {},
   "outputs": [
    {
     "data": {
      "text/plain": [
       "array([[39.4932081 ,  8.55245308]])"
      ]
     },
     "execution_count": 36,
     "metadata": {},
     "output_type": "execute_result"
    }
   ],
   "source": [
    "G_explicit"
   ]
  },
  {
   "cell_type": "code",
   "execution_count": null,
   "metadata": {},
   "outputs": [],
   "source": []
  },
  {
   "cell_type": "markdown",
   "metadata": {},
   "source": [
    "## Acrobot Example"
   ]
  },
  {
   "cell_type": "code",
   "execution_count": 192,
   "metadata": {},
   "outputs": [],
   "source": [
    "from pydrake.examples.acrobot import (AcrobotGeometry, AcrobotInput,\n",
    "                                      AcrobotPlant, AcrobotState, AcrobotParams)"
   ]
  },
  {
   "cell_type": "code",
   "execution_count": 193,
   "metadata": {},
   "outputs": [],
   "source": [
    "p = AcrobotParams()"
   ]
  },
  {
   "cell_type": "code",
   "execution_count": 194,
   "metadata": {},
   "outputs": [
    {
     "data": {
      "text/plain": [
       "<bound method PyCapsule.m2 of AcrobotParams([1.0, 1.0, 1.0, 2.0, 0.5, 1.0, 0.083, 0.33, 0.1, 0.1, 9.81])>"
      ]
     },
     "execution_count": 194,
     "metadata": {},
     "output_type": "execute_result"
    }
   ],
   "source": [
    "p.m2"
   ]
  },
  {
   "cell_type": "code",
   "execution_count": 195,
   "metadata": {},
   "outputs": [
    {
     "data": {
      "text/plain": [
       "pydrake.examples.acrobot.AcrobotPlant"
      ]
     },
     "execution_count": 195,
     "metadata": {},
     "output_type": "execute_result"
    }
   ],
   "source": [
    "plant = AcrobotPlant()\n",
    "context = plant.CreateDefaultContext()\n",
    "type(plant)"
   ]
  },
  {
   "cell_type": "code",
   "execution_count": 196,
   "metadata": {},
   "outputs": [
    {
     "data": {
      "text/plain": [
       "array([[4.663, 2.33 ],\n",
       "       [2.33 , 1.33 ]])"
      ]
     },
     "execution_count": 196,
     "metadata": {},
     "output_type": "execute_result"
    }
   ],
   "source": [
    "plant.MassMatrix(context)"
   ]
  },
  {
   "cell_type": "code",
   "execution_count": 197,
   "metadata": {},
   "outputs": [
    {
     "data": {
      "text/plain": [
       "array([0., 0.])"
      ]
     },
     "execution_count": 197,
     "metadata": {},
     "output_type": "execute_result"
    }
   ],
   "source": [
    "plant.DynamicsBiasTerm(context)\n",
    "\n",
    "\n",
    "\n",
    "\n",
    "\n",
    "\n",
    "\n",
    "\n",
    "\n",
    "\n",
    "\n",
    "\n",
    "\n",
    "\n",
    "\n",
    "\n"
   ]
  },
  {
   "cell_type": "markdown",
   "metadata": {},
   "source": [
    "## Searching for Pendulum Control Input Explicitly"
   ]
  },
  {
   "cell_type": "code",
   "execution_count": 7,
   "metadata": {},
   "outputs": [],
   "source": [
    "# explicit linearization\n",
    "A_explicit = np.array([[0, 1], [p.gravity()/p.length(), -p.damping()/(p.mass()*p.length()*p.length())]])\n",
    "B_explicit = np.array([[0], [1]])\n",
    "\n",
    "Q_explicit = np.diag([10, 1])\n",
    "R_explicit = [1]\n",
    "\n",
    "X_explicit, L_explicit, G_explicit = control.care(A_explicit, B_explicit, Q_explicit, R_explicit)"
   ]
  },
  {
   "cell_type": "code",
   "execution_count": 14,
   "metadata": {},
   "outputs": [
    {
     "data": {
      "text/plain": [
       "array([39.4932081 ,  0.        ,  8.55245308])"
      ]
     },
     "execution_count": 14,
     "metadata": {},
     "output_type": "execute_result"
    }
   ],
   "source": [
    "G_explicit\n",
    "G_explicit_casted = np.insert(G_explicit, 1, 0)\n",
    "G_explicit_casted"
   ]
  },
  {
   "cell_type": "code",
   "execution_count": 12,
   "metadata": {},
   "outputs": [],
   "source": [
    "A_cl_ex = A_explicit - B_explicit@G_explicit\n",
    "Q_ly_ex = np.eye(2)\n",
    "P_ex = control.lyap(A_cl_ex.T, Q_ly_ex)"
   ]
  },
  {
   "cell_type": "code",
   "execution_count": 13,
   "metadata": {},
   "outputs": [
    {
     "data": {
      "text/plain": [
       "array([[1.39102074, 0.0251595 ],\n",
       "       [0.0251595 , 0.05866096]])"
      ]
     },
     "execution_count": 13,
     "metadata": {},
     "output_type": "execute_result"
    }
   ],
   "source": [
    "P_ex"
   ]
  },
  {
   "cell_type": "code",
   "execution_count": 51,
   "metadata": {},
   "outputs": [
    {
     "data": {
      "text/markdown": [
       "$V(x) = (2.780000 - 2.780000c_{0} + 0.053000s_{0} \\dot{O}_{0} + 0.058600\\dot{O}_{0}^{2})$"
      ],
      "text/plain": [
       "<IPython.core.display.Markdown object>"
      ]
     },
     "metadata": {},
     "output_type": "display_data"
    },
    {
     "name": "stdout",
     "output_type": "stream",
     "text": [
      "Status of first solver on step 0: 1\n",
      "Status of second solver on step 0: 7\n"
     ]
    },
    {
     "ename": "AssertionError",
     "evalue": "",
     "output_type": "error",
     "traceback": [
      "\u001b[0;31m---------------------------------------------------------------------------\u001b[0m",
      "\u001b[0;31mAssertionError\u001b[0m                            Traceback (most recent call last)",
      "\u001b[0;32m<ipython-input-51-7d92df86ecd5>\u001b[0m in \u001b[0;36m<module>\u001b[0;34m\u001b[0m\n\u001b[1;32m    112\u001b[0m \u001b[0;34m\u001b[0m\u001b[0m\n\u001b[1;32m    113\u001b[0m \u001b[0;34m\u001b[0m\u001b[0m\n\u001b[0;32m--> 114\u001b[0;31m \u001b[0mV\u001b[0m\u001b[0;34m,\u001b[0m \u001b[0mQ\u001b[0m \u001b[0;34m=\u001b[0m \u001b[0msetup_solver\u001b[0m\u001b[0;34m(\u001b[0m\u001b[0mP_ex\u001b[0m\u001b[0;34m,\u001b[0m \u001b[0mG_explicit_casted\u001b[0m\u001b[0;34m)\u001b[0m\u001b[0;34m\u001b[0m\u001b[0;34m\u001b[0m\u001b[0m\n\u001b[0m",
      "\u001b[0;32m<ipython-input-51-7d92df86ecd5>\u001b[0m in \u001b[0;36msetup_solver\u001b[0;34m(P, G)\u001b[0m\n\u001b[1;32m    101\u001b[0m \u001b[0;31m#         Polynomial(lambda_).RemoveTermsWithSmallCoefficients(1e-5).ToExpression(),6) + \"$\"))\u001b[0m\u001b[0;34m\u001b[0m\u001b[0;34m\u001b[0m\u001b[0;34m\u001b[0m\u001b[0m\n\u001b[1;32m    102\u001b[0m \u001b[0;34m\u001b[0m\u001b[0m\n\u001b[0;32m--> 103\u001b[0;31m         \u001b[0mV\u001b[0m\u001b[0;34m,\u001b[0m \u001b[0mQ\u001b[0m \u001b[0;34m=\u001b[0m \u001b[0mfindV\u001b[0m\u001b[0;34m(\u001b[0m\u001b[0mx\u001b[0m\u001b[0;34m,\u001b[0m \u001b[0mlambda_\u001b[0m\u001b[0;34m,\u001b[0m \u001b[0mlambda_s\u001b[0m\u001b[0;34m,\u001b[0m \u001b[0mu\u001b[0m\u001b[0;34m,\u001b[0m \u001b[0mf\u001b[0m\u001b[0;34m,\u001b[0m \u001b[0mcount\u001b[0m\u001b[0;34m)\u001b[0m\u001b[0;34m\u001b[0m\u001b[0;34m\u001b[0m\u001b[0m\n\u001b[0m\u001b[1;32m    104\u001b[0m \u001b[0;34m\u001b[0m\u001b[0m\n\u001b[1;32m    105\u001b[0m         \u001b[0mdisplay\u001b[0m\u001b[0;34m(\u001b[0m\u001b[0mMarkdown\u001b[0m\u001b[0;34m(\u001b[0m\u001b[0;34m\"$V(x) = \"\u001b[0m \u001b[0;34m+\u001b[0m \u001b[0mToLatex\u001b[0m\u001b[0;34m(\u001b[0m\u001b[0mV\u001b[0m\u001b[0;34m.\u001b[0m\u001b[0mRemoveTermsWithSmallCoefficients\u001b[0m\u001b[0;34m(\u001b[0m\u001b[0;36m1e-5\u001b[0m\u001b[0;34m)\u001b[0m\u001b[0;34m.\u001b[0m\u001b[0mToExpression\u001b[0m\u001b[0;34m(\u001b[0m\u001b[0;34m)\u001b[0m\u001b[0;34m,\u001b[0m\u001b[0;36m6\u001b[0m\u001b[0;34m)\u001b[0m \u001b[0;34m+\u001b[0m \u001b[0;34m\"$\"\u001b[0m\u001b[0;34m)\u001b[0m\u001b[0;34m)\u001b[0m\u001b[0;34m\u001b[0m\u001b[0;34m\u001b[0m\u001b[0m\n",
      "\u001b[0;32m<ipython-input-51-7d92df86ecd5>\u001b[0m in \u001b[0;36mfindV\u001b[0;34m(x, lambda_, lambda_s, u, f, count)\u001b[0m\n\u001b[1;32m     68\u001b[0m \u001b[0;34m\u001b[0m\u001b[0m\n\u001b[1;32m     69\u001b[0m     \u001b[0mprint\u001b[0m\u001b[0;34m(\u001b[0m\u001b[0;34m'Status of second solver on step '\u001b[0m \u001b[0;34m+\u001b[0m \u001b[0mstr\u001b[0m\u001b[0;34m(\u001b[0m\u001b[0mcount\u001b[0m\u001b[0;34m)\u001b[0m \u001b[0;34m+\u001b[0m \u001b[0;34m': '\u001b[0m \u001b[0;34m+\u001b[0m \u001b[0mstr\u001b[0m\u001b[0;34m(\u001b[0m\u001b[0mk\u001b[0m\u001b[0;34m)\u001b[0m\u001b[0;34m)\u001b[0m\u001b[0;34m\u001b[0m\u001b[0;34m\u001b[0m\u001b[0m\n\u001b[0;32m---> 70\u001b[0;31m     \u001b[0;32massert\u001b[0m \u001b[0mresult\u001b[0m\u001b[0;34m.\u001b[0m\u001b[0mis_success\u001b[0m\u001b[0;34m(\u001b[0m\u001b[0;34m)\u001b[0m\u001b[0;34m\u001b[0m\u001b[0;34m\u001b[0m\u001b[0m\n\u001b[0m\u001b[1;32m     71\u001b[0m \u001b[0;34m\u001b[0m\u001b[0m\n\u001b[1;32m     72\u001b[0m     \u001b[0;32mreturn\u001b[0m \u001b[0mresult\u001b[0m\u001b[0;34m.\u001b[0m\u001b[0mGetSolution\u001b[0m\u001b[0;34m(\u001b[0m\u001b[0mV\u001b[0m\u001b[0;34m)\u001b[0m\u001b[0;34m,\u001b[0m \u001b[0mresult\u001b[0m\u001b[0;34m.\u001b[0m\u001b[0mGetSolution\u001b[0m\u001b[0;34m(\u001b[0m\u001b[0mQ\u001b[0m\u001b[0;34m)\u001b[0m\u001b[0;34m\u001b[0m\u001b[0;34m\u001b[0m\u001b[0m\n",
      "\u001b[0;31mAssertionError\u001b[0m: "
     ]
    }
   ],
   "source": [
    "#THIS CODE WORKS\n",
    "from pydrake.solvers.mathematicalprogram import MathematicalProgram, SolverOptions, Solve\n",
    "from pydrake.solvers.csdp import CsdpSolver\n",
    "from pydrake.solvers.mosek import MosekSolver\n",
    "\n",
    "def findLambda(x, V, Vdot, count, f):\n",
    "    prog = MathematicalProgram()\n",
    "    prog.AddIndeterminates(x)\n",
    "        \n",
    "    l_deg = math.ceil(V.TotalDegree()/2) * 2\n",
    "    \n",
    "    lambda_, Q_l = prog.NewSosPolynomial(Variables(x), l_deg)\n",
    "    \n",
    "    s_deg = max(l_deg + V.TotalDegree() - 2, 0)\n",
    "    \n",
    "    lambda_s = prog.NewFreePolynomial(Variables(x), s_deg)\n",
    "    \n",
    "    u = prog.NewFreePolynomial(Variables(x), 1)\n",
    "    f2 = Polynomial((-b/(m*length**2))*x[2] + (grav/length)*x[0]) + u\n",
    "    f[2] = f2\n",
    "    \n",
    "    Vdot = V.Jacobian(x).dot(f)\n",
    "    \n",
    "    trig = Polynomial(x[0]**2 + x[1]**2 - 1)\n",
    "    prog.AddSosConstraint(-Vdot - lambda_*(1 - V) + lambda_s*trig)\n",
    "    \n",
    "    solver = MosekSolver()\n",
    "    result = solver.Solve(prog)\n",
    "    \n",
    "    k = result.get_solver_details().solution_status\n",
    "        \n",
    "    print('Status of first solver on step ' + str(count) + ': ' + str(k))\n",
    "    assert result.is_success()\n",
    "    \n",
    "    return result.GetSolution(lambda_), result.GetSolution(lambda_s), result.GetSolution(u)\n",
    "\n",
    "\n",
    "def findV(x, lambda_, lambda_s, u, f, count):\n",
    "    prog = MathematicalProgram()\n",
    "    prog.AddIndeterminates(x)    \n",
    "    \n",
    "    V, Q = prog.NewSosPolynomial(Variables(x), 2)\n",
    "            \n",
    "    prog.AddLinearConstraint(V.ToExpression().Substitute({x[0]: 0, x[1]:1, x[2]: 0}) == 0)\n",
    "    \n",
    "    f2 = Polynomial((-b/(m*length**2))*x[2] + (grav/length)*x[0]) + u\n",
    "    f[2] = f2\n",
    "    \n",
    "    Vdot = V.Jacobian(x).dot(f)\n",
    "    \n",
    "    trig = Polynomial(x[0]**2 + x[1]**2 - 1)\n",
    "    prog.AddSosConstraint(-Vdot - lambda_*(1 - V) + lambda_s*trig)\n",
    "    \n",
    "    prog.AddLinearCost(np.trace(Q))\n",
    "    \n",
    "#     A = Q[0, 0]\n",
    "#     B = 2*Q[1, 0]\n",
    "#     C = Q[1, 1]\n",
    "    \n",
    "#     prog.AddCost(A)\n",
    "#     prog.AddCost(C)\n",
    "#     prog.AddCost(-B)\n",
    "    \n",
    "    solver = MosekSolver()\n",
    "    result = solver.Solve(prog)\n",
    "        \n",
    "    k = result.get_solver_details().solution_status\n",
    "                \n",
    "    print('Status of second solver on step ' + str(count) + ': ' + str(k))\n",
    "    assert result.is_success()\n",
    "    \n",
    "    return result.GetSolution(V), result.GetSolution(Q)\n",
    "\n",
    "def setup_solver(P, G):  \n",
    "    count = 0\n",
    "    prog = MathematicalProgram()\n",
    "    s = prog.NewIndeterminates(1, \"s\")\n",
    "    c = prog.NewIndeterminates(1, \"c\")\n",
    "    theta_dot = prog.NewIndeterminates(1, \"\\dot{O}\")\n",
    "    \n",
    "    x = np.hstack([s, c, theta_dot])\n",
    "    \n",
    "    f0 = Polynomial(x[1] * x[2])\n",
    "    f1 = Polynomial(-x[0] * x[2])\n",
    "    f2 = Polynomial((-b/(m*length**2))*x[2] + (grav/length)*x[0] - G@x)\n",
    "    \n",
    "    f = np.array([f0, f1, f2])\n",
    "    \n",
    "    V = 2.78 - 2.78*c[0] + 0.0586*theta_dot[0]**2 + 0.053*s[0]*theta_dot[0]\n",
    "    \n",
    "    V = Polynomial(V)\n",
    "    \n",
    "    display(Markdown(\"$V(x) = \" + ToLatex(V.RemoveTermsWithSmallCoefficients(1e-5).ToExpression(),6) + \"$\"))\n",
    "        \n",
    "    Vdot = V.Jacobian(x).dot(f)\n",
    "    \n",
    "    for i in range(1): \n",
    "        lambda_, lambda_s, u = findLambda(x, V, Vdot, count, f)\n",
    "        \n",
    "#         display(Markdown(\"$\\lambda (x) = \" + ToLatex(\n",
    "#         Polynomial(lambda_).RemoveTermsWithSmallCoefficients(1e-5).ToExpression(),6) + \"$\"))\n",
    "        \n",
    "        V, Q = findV(x, lambda_, lambda_s, u, f, count)\n",
    "        \n",
    "        display(Markdown(\"$V(x) = \" + ToLatex(V.RemoveTermsWithSmallCoefficients(1e-5).ToExpression(),6) + \"$\"))\n",
    "        display(Markdown(\"$u(x) = \" + ToLatex(u.RemoveTermsWithSmallCoefficients(1e-5).ToExpression(),6) + \"$\"))\n",
    "        \n",
    "        Vdot = V.Jacobian(x).dot(f)\n",
    "        \n",
    "        count += 1\n",
    "    return V, Q\n",
    "    \n",
    "    \n",
    "V, Q = setup_solver(P_ex, G_explicit_casted)"
   ]
  },
  {
   "cell_type": "code",
   "execution_count": null,
   "metadata": {},
   "outputs": [],
   "source": []
  }
 ],
 "metadata": {
  "kernelspec": {
   "display_name": "Python 3",
   "language": "python",
   "name": "python3"
  },
  "language_info": {
   "codemirror_mode": {
    "name": "ipython",
    "version": 3
   },
   "file_extension": ".py",
   "mimetype": "text/x-python",
   "name": "python",
   "nbconvert_exporter": "python",
   "pygments_lexer": "ipython3",
   "version": "3.8.10"
  }
 },
 "nbformat": 4,
 "nbformat_minor": 4
}
