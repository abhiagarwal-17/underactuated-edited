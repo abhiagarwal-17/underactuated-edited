{
 "cells": [
  {
   "cell_type": "code",
   "execution_count": 21,
   "id": "f7c6757f",
   "metadata": {},
   "outputs": [],
   "source": [
    "from pydrake.examples.acrobot import (AcrobotGeometry, AcrobotInput,\n",
    "                                      AcrobotPlant, AcrobotState, AcrobotParams)\n",
    "from pydrake.all import Linearize, LinearQuadraticRegulator, SymbolicVectorSystem, Variable, Saturation, \\\n",
    "WrapToSystem, Simulator, Polynomial\n",
    "\n",
    "from pydrake.systems.framework import DiagramBuilder\n",
    "from pydrake.systems.primitives import LogVectorOutput\n",
    "\n",
    "from IPython.display import SVG, display\n",
    "import pydot\n",
    "import numpy as np\n",
    "import math\n",
    "import control\n",
    "\n",
    "import matplotlib.pyplot as plt\n",
    "from mpl_toolkits.mplot3d import Axes3D\n",
    "%matplotlib notebook\n",
    "\n",
    "import pydrake.forwarddiff as pf\n",
    "import time\n",
    "\n",
    "from IPython.display import display, Math, Markdown\n",
    "from pydrake.examples.pendulum import PendulumPlant\n",
    "from pydrake.examples.acrobot import AcrobotPlant\n",
    "from pydrake.all import MultibodyPlant, Parser, SinCos, MakeVectorVariable, ToLatex, Substitute, Box\n",
    "from underactuated import FindResource\n",
    "from underactuated.scenarios import AddShape\n",
    "\n",
    "from pydrake.all import (Jacobian, MathematicalProgram, Polynomial,\n",
    "                         RegionOfAttraction, RegionOfAttractionOptions, Solve,\n",
    "                         SymbolicVectorSystem, ToLatex, Variable, Variables,\n",
    "                         plot_sublevelset_expression, AddMultibodyPlantSceneGraph, SolverOptions, \n",
    "                         CommonSolverOption)\n",
    "\n",
    "from pydrake.solvers.mosek import MosekSolver\n",
    "import sympy as sp\n",
    "from sympy.physics.vector import dynamicsymbols as dynamicsymbols\n",
    "\n",
    "from pydrake.all import (LinearQuadraticRegulator, MathematicalProgram, Variables,\n",
    "                         Solve, RealContinuousLyapunovEquation)"
   ]
  },
  {
   "cell_type": "code",
   "execution_count": 17,
   "id": "d4cd56d1",
   "metadata": {},
   "outputs": [],
   "source": [
    "from pydrake.examples.pendulum import PendulumParams\n",
    "from pydrake.systems.controllers import LinearQuadraticRegulator\n",
    "import scipy"
   ]
  },
  {
   "cell_type": "code",
   "execution_count": 3,
   "id": "1ab7605a",
   "metadata": {},
   "outputs": [],
   "source": [
    "p = PendulumParams()"
   ]
  },
  {
   "cell_type": "code",
   "execution_count": 4,
   "id": "a890234c",
   "metadata": {},
   "outputs": [],
   "source": [
    "b = p.damping()\n",
    "m = p.mass()\n",
    "l = p.length()\n",
    "g = p.gravity()"
   ]
  },
  {
   "cell_type": "code",
   "execution_count": 9,
   "id": "b0d5949f",
   "metadata": {},
   "outputs": [],
   "source": [
    "A = np.zeros([3, 3])\n",
    "A[0,2] = -1\n",
    "A[2,0] = -g/l\n",
    "A[2,2] = -b/(m*l**2)\n",
    "\n",
    "B = np.zeros([3, 1])\n",
    "B[2,0] = 1\n",
    "\n",
    "F = np.zeros([1, 3])\n",
    "F[0, 1] = -2"
   ]
  },
  {
   "cell_type": "code",
   "execution_count": 13,
   "id": "d2bc14e9",
   "metadata": {},
   "outputs": [],
   "source": [
    "Q = np.diag([10, 0, 10])\n",
    "R = [1]"
   ]
  },
  {
   "cell_type": "code",
   "execution_count": 14,
   "id": "eea6cc04",
   "metadata": {},
   "outputs": [],
   "source": [
    "controller = LinearQuadraticRegulator(A=A, B=B, Q=Q, R=R, F=F)"
   ]
  },
  {
   "cell_type": "code",
   "execution_count": 16,
   "id": "54f8c9e9",
   "metadata": {},
   "outputs": [
    {
     "data": {
      "text/plain": [
       "(array([[-39.4932081 ,   0.        ,   9.04173799]]),\n",
       " array([[195.48562377,   0.        , -39.4932081 ],\n",
       "        [  0.        ,   0.        ,   0.        ],\n",
       "        [-39.4932081 ,   0.        ,   9.04173799]]))"
      ]
     },
     "execution_count": 16,
     "metadata": {},
     "output_type": "execute_result"
    }
   ],
   "source": [
    "controller"
   ]
  },
  {
   "cell_type": "code",
   "execution_count": 18,
   "id": "ed4309f3",
   "metadata": {},
   "outputs": [],
   "source": [
    "A_cloop = A - B@controller[0]"
   ]
  },
  {
   "cell_type": "code",
   "execution_count": 19,
   "id": "cbf110da",
   "metadata": {},
   "outputs": [
    {
     "data": {
      "text/plain": [
       "array([[ 0.        ,  0.        , -1.        ],\n",
       "       [ 0.        ,  0.        ,  0.        ],\n",
       "       [19.8732081 ,  0.        , -9.44173799]])"
      ]
     },
     "execution_count": 19,
     "metadata": {},
     "output_type": "execute_result"
    }
   ],
   "source": [
    "A_cloop"
   ]
  },
  {
   "cell_type": "code",
   "execution_count": 20,
   "id": "79c6a75e",
   "metadata": {},
   "outputs": [],
   "source": [
    "P_proj = scipy.linalg.null_space(F)"
   ]
  },
  {
   "cell_type": "code",
   "execution_count": 27,
   "id": "de008466",
   "metadata": {},
   "outputs": [],
   "source": [
    "P = RealContinuousLyapunovEquation(P_proj.T@A_cloop@P_proj, np.eye(2))"
   ]
  },
  {
   "cell_type": "code",
   "execution_count": 36,
   "id": "7206578d",
   "metadata": {},
   "outputs": [],
   "source": [
    "P = P_proj@P@P_proj.T"
   ]
  },
  {
   "cell_type": "code",
   "execution_count": null,
   "id": "7f6c9608",
   "metadata": {},
   "outputs": [],
   "source": []
  },
  {
   "cell_type": "code",
   "execution_count": 30,
   "id": "6354ed46",
   "metadata": {},
   "outputs": [
    {
     "data": {
      "text/plain": [
       "array([[ 0., -2.,  0.]])"
      ]
     },
     "execution_count": 30,
     "metadata": {},
     "output_type": "execute_result"
    }
   ],
   "source": [
    "F"
   ]
  },
  {
   "cell_type": "code",
   "execution_count": 37,
   "id": "fa2c040c",
   "metadata": {},
   "outputs": [
    {
     "name": "stderr",
     "output_type": "stream",
     "text": [
      "/tmp/ipykernel_10052/3870630733.py:7: RuntimeWarning: invalid value encountered in matmul\n",
      "  f3 = (-b/(m*l**2))*x[2] - (g/l)*x[0] - controller[0]@x\n",
      "/tmp/ipykernel_10052/3870630733.py:7: RuntimeWarning: invalid value encountered in subtract\n",
      "  f3 = (-b/(m*l**2))*x[2] - (g/l)*x[0] - controller[0]@x\n",
      "/tmp/ipykernel_10052/3870630733.py:11: RuntimeWarning: invalid value encountered in matmul\n",
      "  V = x.T@P@x\n"
     ]
    }
   ],
   "source": [
    "prog = MathematicalProgram()\n",
    "\n",
    "x = prog.NewContinuousVariables(3, 'x')\n",
    "\n",
    "f1 = x[1]*x[2]\n",
    "f2 = -x[0]*x[2]\n",
    "f3 = (-b/(m*l**2))*x[2] - (g/l)*x[0] - controller[0]@x\n",
    "\n",
    "f = np.hstack([f1, f2, f3])\n",
    "\n",
    "V = x.T@P@x\n",
    "Vdot = V.Jacobian(x).dot(f)\n",
    "\n",
    "lambda_ = prog.NewSosPolynomial(Variables(x), 2)\n",
    "lambda_s = prog.NewFree"
   ]
  },
  {
   "cell_type": "code",
   "execution_count": 35,
   "id": "b01b1ce2",
   "metadata": {},
   "outputs": [
    {
     "data": {
      "text/plain": [
       "array([[ 1.34291837, -0.0251595 ],\n",
       "       [-0.0251595 ,  0.05562106]])"
      ]
     },
     "execution_count": 35,
     "metadata": {},
     "output_type": "execute_result"
    }
   ],
   "source": [
    "P"
   ]
  },
  {
   "cell_type": "code",
   "execution_count": null,
   "id": "06484777",
   "metadata": {},
   "outputs": [],
   "source": []
  }
 ],
 "metadata": {
  "kernelspec": {
   "display_name": "implicit",
   "language": "python",
   "name": "implicit"
  },
  "language_info": {
   "codemirror_mode": {
    "name": "ipython",
    "version": 3
   },
   "file_extension": ".py",
   "mimetype": "text/x-python",
   "name": "python",
   "nbconvert_exporter": "python",
   "pygments_lexer": "ipython3",
   "version": "3.8.10"
  }
 },
 "nbformat": 4,
 "nbformat_minor": 5
}
