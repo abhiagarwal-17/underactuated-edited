{
 "cells": [
  {
   "cell_type": "code",
   "execution_count": 2,
   "metadata": {},
   "outputs": [],
   "source": [
    "from pydrake.all import *\n",
    "import sympy as sp"
   ]
  },
  {
   "cell_type": "code",
   "execution_count": 3,
   "metadata": {},
   "outputs": [],
   "source": [
    "x, y = sp.symbols('x y')"
   ]
  },
  {
   "cell_type": "code",
   "execution_count": 4,
   "metadata": {},
   "outputs": [],
   "source": [
    "F = 10 - x**2 - y"
   ]
  },
  {
   "cell_type": "code",
   "execution_count": 5,
   "metadata": {},
   "outputs": [],
   "source": [
    "G = x**2 + y**2 - 1"
   ]
  },
  {
   "cell_type": "code",
   "execution_count": 8,
   "metadata": {},
   "outputs": [],
   "source": [
    "res = sp.groebner([G], x, y, order='grlex')"
   ]
  },
  {
   "cell_type": "code",
   "execution_count": 9,
   "metadata": {},
   "outputs": [
    {
     "data": {
      "text/latex": [
       "$\\displaystyle \\operatorname{GroebnerBasis}\\left(\\left( x^{2} + y^{2} - 1,\\right), \\left( x, \\  y\\right)\\right)$"
      ],
      "text/plain": [
       "GroebnerBasis([x**2 + y**2 - 1], x, y, domain='ZZ', order='grlex')"
      ]
     },
     "execution_count": 9,
     "metadata": {},
     "output_type": "execute_result"
    }
   ],
   "source": [
    "res"
   ]
  },
  {
   "cell_type": "code",
   "execution_count": 29,
   "metadata": {},
   "outputs": [],
   "source": [
    "Q = sp.MatrixSymbol('Q', 3, 3)\n",
    "Q = sp.Matrix(Q)"
   ]
  },
  {
   "cell_type": "code",
   "execution_count": 30,
   "metadata": {},
   "outputs": [],
   "source": [
    "mx = sp.Matrix([1, x, y])"
   ]
  },
  {
   "cell_type": "code",
   "execution_count": 31,
   "metadata": {},
   "outputs": [],
   "source": [
    "temp = mx.T@Q@mx"
   ]
  },
  {
   "cell_type": "code",
   "execution_count": 32,
   "metadata": {},
   "outputs": [
    {
     "data": {
      "text/latex": [
       "$\\displaystyle \\left[\\begin{matrix}x \\left(x Q_{1, 1} + y Q_{2, 1} + Q_{0, 1}\\right) + x Q_{1, 0} + y \\left(x Q_{1, 2} + y Q_{2, 2} + Q_{0, 2}\\right) + y Q_{2, 0} + Q_{0, 0}\\end{matrix}\\right]$"
      ],
      "text/plain": [
       "Matrix([[x*(x*Q[1, 1] + y*Q[2, 1] + Q[0, 1]) + x*Q[1, 0] + y*(x*Q[1, 2] + y*Q[2, 2] + Q[0, 2]) + y*Q[2, 0] + Q[0, 0]]])"
      ]
     },
     "execution_count": 32,
     "metadata": {},
     "output_type": "execute_result"
    }
   ],
   "source": [
    "sp.simplify(temp)"
   ]
  },
  {
   "cell_type": "code",
   "execution_count": 79,
   "metadata": {},
   "outputs": [],
   "source": [
    "prog = MathematicalProgram()\n",
    "\n",
    "x = prog.NewIndeterminates(1, 'x')[0]\n",
    "y = prog.NewIndeterminates(1, 'y')[0]\n",
    "Q = prog.NewSymmetricContinuousVariables(6, 'Q')\n",
    "\n",
    "mx = np.hstack([x, y, x**2, x*y, y**2, y*x**2])\n",
    "\n",
    "expression = Polynomial(mx.T@Q@mx)\n",
    "\n",
    "original_expression = Polynomial(x**2 + y**2)\n",
    "\n",
    "prog.AddEqualityConstraintBetweenPolynomials(expression, original_expression)\n",
    "result = solver.Solve(prog)"
   ]
  },
  {
   "cell_type": "code",
   "execution_count": 80,
   "metadata": {},
   "outputs": [
    {
     "data": {
      "text/plain": [
       "array([[1., 0., 0., 0., 0., 0.],\n",
       "       [0., 1., 0., 0., 0., 0.],\n",
       "       [0., 0., 0., 0., 0., 0.],\n",
       "       [0., 0., 0., 0., 0., 0.],\n",
       "       [0., 0., 0., 0., 0., 0.],\n",
       "       [0., 0., 0., 0., 0., 0.]])"
      ]
     },
     "execution_count": 80,
     "metadata": {},
     "output_type": "execute_result"
    }
   ],
   "source": [
    "result.GetSolution(Q)"
   ]
  },
  {
   "cell_type": "code",
   "execution_count": null,
   "metadata": {},
   "outputs": [],
   "source": []
  },
  {
   "cell_type": "code",
   "execution_count": 73,
   "metadata": {},
   "outputs": [
    {
     "ename": "TypeError",
     "evalue": "'pydrake.symbolic.Variable' object is not subscriptable",
     "output_type": "error",
     "traceback": [
      "\u001b[0;31m---------------------------------------------------------------------------\u001b[0m",
      "\u001b[0;31mTypeError\u001b[0m                                 Traceback (most recent call last)",
      "Input \u001b[0;32mIn [73]\u001b[0m, in \u001b[0;36m<cell line: 11>\u001b[0;34m()\u001b[0m\n\u001b[1;32m      7\u001b[0m mx \u001b[38;5;241m=\u001b[39m np\u001b[38;5;241m.\u001b[39mhstack([x, y, x\u001b[38;5;241m*\u001b[39m\u001b[38;5;241m*\u001b[39m\u001b[38;5;241m2\u001b[39m, x\u001b[38;5;241m*\u001b[39my, y\u001b[38;5;241m*\u001b[39m\u001b[38;5;241m*\u001b[39m\u001b[38;5;241m2\u001b[39m, y\u001b[38;5;241m*\u001b[39mx\u001b[38;5;241m*\u001b[39m\u001b[38;5;241m*\u001b[39m\u001b[38;5;241m2\u001b[39m])\n\u001b[1;32m      9\u001b[0m expression \u001b[38;5;241m=\u001b[39m Polynomial(mx\u001b[38;5;241m.\u001b[39mT\u001b[38;5;129m@Q\u001b[39m\u001b[38;5;129m@mx\u001b[39m)\n\u001b[0;32m---> 11\u001b[0m original_expression \u001b[38;5;241m=\u001b[39m Polynomial(\u001b[38;5;241m10\u001b[39m \u001b[38;5;241m-\u001b[39m \u001b[43mx\u001b[49m\u001b[43m[\u001b[49m\u001b[38;5;241;43m0\u001b[39;49m\u001b[43m]\u001b[49m\u001b[38;5;241m*\u001b[39m\u001b[38;5;241m*\u001b[39m\u001b[38;5;241m2\u001b[39m \u001b[38;5;241m-\u001b[39m y[\u001b[38;5;241m0\u001b[39m])\n\u001b[1;32m     13\u001b[0m prog\u001b[38;5;241m.\u001b[39mAddEqualityConstraintBetweenPolynomials(expression, original_expression)\n\u001b[1;32m     14\u001b[0m \u001b[38;5;66;03m#prog.AddPositiveSemidefiniteConstraint(Q)\u001b[39;00m\n",
      "\u001b[0;31mTypeError\u001b[0m: 'pydrake.symbolic.Variable' object is not subscriptable"
     ]
    }
   ],
   "source": [
    "expression = Polynomial(mx.T@Q@mx)\n",
    "\n",
    "original_expression = Polynomial(10 - x[0]**2 - y[0])\n",
    "\n",
    "prog.AddEqualityConstraintBetweenPolynomials(expression, original_expression)\n",
    "#prog.AddPositiveSemidefiniteConstraint(Q)\n",
    "solver = MosekSolver()\n",
    "\n",
    "result = solver.Solve(prog)"
   ]
  },
  {
   "cell_type": "code",
   "execution_count": 63,
   "metadata": {},
   "outputs": [
    {
     "data": {
      "text/plain": [
       "array([[10. ,  0. , -0.5],\n",
       "       [ 0. , -1. ,  0. ],\n",
       "       [-0.5,  0. ,  0. ]])"
      ]
     },
     "execution_count": 63,
     "metadata": {},
     "output_type": "execute_result"
    }
   ],
   "source": [
    "result.GetSolution(Q)"
   ]
  },
  {
   "cell_type": "code",
   "execution_count": 64,
   "metadata": {},
   "outputs": [
    {
     "data": {
      "text/plain": [
       "<Expression \"(10 - y(0) - pow(x(0), 2))\">"
      ]
     },
     "execution_count": 64,
     "metadata": {},
     "output_type": "execute_result"
    }
   ],
   "source": [
    "mx.T@result.GetSolution(Q)@mx"
   ]
  },
  {
   "cell_type": "code",
   "execution_count": 65,
   "metadata": {},
   "outputs": [
    {
     "data": {
      "text/plain": [
       "array([10.02493781, -0.02493781, -1.        ])"
      ]
     },
     "execution_count": 65,
     "metadata": {},
     "output_type": "execute_result"
    }
   ],
   "source": [
    "np.linalg.eigvals(result.GetSolution(Q))"
   ]
  },
  {
   "cell_type": "code",
   "execution_count": 68,
   "metadata": {},
   "outputs": [],
   "source": [
    "Q_test = np.array([[9, 0, -1/2], [0, 0, 0], [-1/2, 0, 1]])"
   ]
  },
  {
   "cell_type": "code",
   "execution_count": 69,
   "metadata": {},
   "outputs": [
    {
     "data": {
      "text/plain": [
       "<Polynomial \"9*1 + -1*y(0) + 1*y(0)^2\">"
      ]
     },
     "execution_count": 69,
     "metadata": {},
     "output_type": "execute_result"
    }
   ],
   "source": [
    "Polynomial(mx.T@Q_test@mx)"
   ]
  },
  {
   "cell_type": "code",
   "execution_count": null,
   "metadata": {},
   "outputs": [],
   "source": []
  },
  {
   "cell_type": "code",
   "execution_count": 88,
   "metadata": {},
   "outputs": [],
   "source": [
    "prog = MathematicalProgram()\n",
    "S = prog.NewSymmetricContinuousVariables(2, \"S\")\n",
    "psd_constraint = prog.AddPositiveSemidefiniteConstraint(S)\n",
    "\n",
    "#prog.AddBoundingBoxConstraint(1, 1, S[1, 0])\n",
    "#prog.AddLinearCost(np.trace(S))\n",
    "result = Solve(prog)\n",
    "\n",
    "S_value = result.GetSolution(S)"
   ]
  },
  {
   "cell_type": "code",
   "execution_count": 89,
   "metadata": {},
   "outputs": [
    {
     "data": {
      "text/plain": [
       "array([0.70710678, 0.70710678])"
      ]
     },
     "execution_count": 89,
     "metadata": {},
     "output_type": "execute_result"
    }
   ],
   "source": [
    "np.linalg.eigvalsh(S_value)"
   ]
  },
  {
   "cell_type": "code",
   "execution_count": 90,
   "metadata": {},
   "outputs": [
    {
     "data": {
      "text/plain": [
       "array([[0.70710678, 0.        ],\n",
       "       [0.        , 0.70710678]])"
      ]
     },
     "execution_count": 90,
     "metadata": {},
     "output_type": "execute_result"
    }
   ],
   "source": [
    "S_value"
   ]
  },
  {
   "cell_type": "code",
   "execution_count": null,
   "metadata": {},
   "outputs": [],
   "source": []
  }
 ],
 "metadata": {
  "kernelspec": {
   "display_name": "Python 3 (ipykernel)",
   "language": "python",
   "name": "python3"
  },
  "language_info": {
   "codemirror_mode": {
    "name": "ipython",
    "version": 3
   },
   "file_extension": ".py",
   "mimetype": "text/x-python",
   "name": "python",
   "nbconvert_exporter": "python",
   "pygments_lexer": "ipython3",
   "version": "3.8.10"
  }
 },
 "nbformat": 4,
 "nbformat_minor": 4
}
