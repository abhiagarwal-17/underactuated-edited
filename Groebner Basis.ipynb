{
 "cells": [
  {
   "cell_type": "code",
   "execution_count": 2,
   "metadata": {},
   "outputs": [],
   "source": [
    "from pydrake.all import *\n",
    "import sympy as sp"
   ]
  },
  {
   "cell_type": "code",
   "execution_count": 3,
   "metadata": {},
   "outputs": [],
   "source": [
    "x, y = sp.symbols('x y')"
   ]
  },
  {
   "cell_type": "code",
   "execution_count": 4,
   "metadata": {},
   "outputs": [],
   "source": [
    "F = 10 - x**2 - y"
   ]
  },
  {
   "cell_type": "code",
   "execution_count": 5,
   "metadata": {},
   "outputs": [],
   "source": [
    "G = x**2 + y**2 - 1"
   ]
  },
  {
   "cell_type": "code",
   "execution_count": 8,
   "metadata": {},
   "outputs": [],
   "source": [
    "res = sp.groebner([G], x, y, order='grlex')"
   ]
  },
  {
   "cell_type": "code",
   "execution_count": 9,
   "metadata": {},
   "outputs": [
    {
     "data": {
      "text/latex": [
       "$\\displaystyle \\operatorname{GroebnerBasis}\\left(\\left( x^{2} + y^{2} - 1,\\right), \\left( x, \\  y\\right)\\right)$"
      ],
      "text/plain": [
       "GroebnerBasis([x**2 + y**2 - 1], x, y, domain='ZZ', order='grlex')"
      ]
     },
     "execution_count": 9,
     "metadata": {},
     "output_type": "execute_result"
    }
   ],
   "source": [
    "res"
   ]
  },
  {
   "cell_type": "code",
   "execution_count": 29,
   "metadata": {},
   "outputs": [],
   "source": [
    "Q = sp.MatrixSymbol('Q', 3, 3)\n",
    "Q = sp.Matrix(Q)"
   ]
  },
  {
   "cell_type": "code",
   "execution_count": 30,
   "metadata": {},
   "outputs": [],
   "source": [
    "mx = sp.Matrix([1, x, y])"
   ]
  },
  {
   "cell_type": "code",
   "execution_count": 31,
   "metadata": {},
   "outputs": [],
   "source": [
    "temp = mx.T@Q@mx"
   ]
  },
  {
   "cell_type": "code",
   "execution_count": 32,
   "metadata": {},
   "outputs": [
    {
     "data": {
      "text/latex": [
       "$\\displaystyle \\left[\\begin{matrix}x \\left(x Q_{1, 1} + y Q_{2, 1} + Q_{0, 1}\\right) + x Q_{1, 0} + y \\left(x Q_{1, 2} + y Q_{2, 2} + Q_{0, 2}\\right) + y Q_{2, 0} + Q_{0, 0}\\end{matrix}\\right]$"
      ],
      "text/plain": [
       "Matrix([[x*(x*Q[1, 1] + y*Q[2, 1] + Q[0, 1]) + x*Q[1, 0] + y*(x*Q[1, 2] + y*Q[2, 2] + Q[0, 2]) + y*Q[2, 0] + Q[0, 0]]])"
      ]
     },
     "execution_count": 32,
     "metadata": {},
     "output_type": "execute_result"
    }
   ],
   "source": [
    "sp.simplify(temp)"
   ]
  },
  {
   "cell_type": "code",
   "execution_count": 79,
   "metadata": {},
   "outputs": [],
   "source": [
    "prog = MathematicalProgram()\n",
    "\n",
    "x = prog.NewIndeterminates(1, 'x')[0]\n",
    "y = prog.NewIndeterminates(1, 'y')[0]\n",
    "Q = prog.NewSymmetricContinuousVariables(6, 'Q')\n",
    "\n",
    "mx = np.hstack([x, y, x**2, x*y, y**2, y*x**2])\n",
    "\n",
    "expression = Polynomial(mx.T@Q@mx)\n",
    "\n",
    "original_expression = Polynomial(x**2 + y**2)\n",
    "\n",
    "prog.AddEqualityConstraintBetweenPolynomials(expression, original_expression)\n",
    "result = solver.Solve(prog)"
   ]
  },
  {
   "cell_type": "code",
   "execution_count": 80,
   "metadata": {},
   "outputs": [
    {
     "data": {
      "text/plain": [
       "array([[1., 0., 0., 0., 0., 0.],\n",
       "       [0., 1., 0., 0., 0., 0.],\n",
       "       [0., 0., 0., 0., 0., 0.],\n",
       "       [0., 0., 0., 0., 0., 0.],\n",
       "       [0., 0., 0., 0., 0., 0.],\n",
       "       [0., 0., 0., 0., 0., 0.]])"
      ]
     },
     "execution_count": 80,
     "metadata": {},
     "output_type": "execute_result"
    }
   ],
   "source": [
    "result.GetSolution(Q)"
   ]
  },
  {
   "cell_type": "code",
   "execution_count": null,
   "metadata": {},
   "outputs": [],
   "source": []
  },
  {
   "cell_type": "code",
   "execution_count": 73,
   "metadata": {},
   "outputs": [
    {
     "ename": "TypeError",
     "evalue": "'pydrake.symbolic.Variable' object is not subscriptable",
     "output_type": "error",
     "traceback": [
      "\u001b[0;31m---------------------------------------------------------------------------\u001b[0m",
      "\u001b[0;31mTypeError\u001b[0m                                 Traceback (most recent call last)",
      "Input \u001b[0;32mIn [73]\u001b[0m, in \u001b[0;36m<cell line: 11>\u001b[0;34m()\u001b[0m\n\u001b[1;32m      7\u001b[0m mx \u001b[38;5;241m=\u001b[39m np\u001b[38;5;241m.\u001b[39mhstack([x, y, x\u001b[38;5;241m*\u001b[39m\u001b[38;5;241m*\u001b[39m\u001b[38;5;241m2\u001b[39m, x\u001b[38;5;241m*\u001b[39my, y\u001b[38;5;241m*\u001b[39m\u001b[38;5;241m*\u001b[39m\u001b[38;5;241m2\u001b[39m, y\u001b[38;5;241m*\u001b[39mx\u001b[38;5;241m*\u001b[39m\u001b[38;5;241m*\u001b[39m\u001b[38;5;241m2\u001b[39m])\n\u001b[1;32m      9\u001b[0m expression \u001b[38;5;241m=\u001b[39m Polynomial(mx\u001b[38;5;241m.\u001b[39mT\u001b[38;5;129m@Q\u001b[39m\u001b[38;5;129m@mx\u001b[39m)\n\u001b[0;32m---> 11\u001b[0m original_expression \u001b[38;5;241m=\u001b[39m Polynomial(\u001b[38;5;241m10\u001b[39m \u001b[38;5;241m-\u001b[39m \u001b[43mx\u001b[49m\u001b[43m[\u001b[49m\u001b[38;5;241;43m0\u001b[39;49m\u001b[43m]\u001b[49m\u001b[38;5;241m*\u001b[39m\u001b[38;5;241m*\u001b[39m\u001b[38;5;241m2\u001b[39m \u001b[38;5;241m-\u001b[39m y[\u001b[38;5;241m0\u001b[39m])\n\u001b[1;32m     13\u001b[0m prog\u001b[38;5;241m.\u001b[39mAddEqualityConstraintBetweenPolynomials(expression, original_expression)\n\u001b[1;32m     14\u001b[0m \u001b[38;5;66;03m#prog.AddPositiveSemidefiniteConstraint(Q)\u001b[39;00m\n",
      "\u001b[0;31mTypeError\u001b[0m: 'pydrake.symbolic.Variable' object is not subscriptable"
     ]
    }
   ],
   "source": [
    "expression = Polynomial(mx.T@Q@mx)\n",
    "\n",
    "original_expression = Polynomial(10 - x[0]**2 - y[0])\n",
    "\n",
    "prog.AddEqualityConstraintBetweenPolynomials(expression, original_expression)\n",
    "#prog.AddPositiveSemidefiniteConstraint(Q)\n",
    "solver = MosekSolver()\n",
    "\n",
    "result = solver.Solve(prog)"
   ]
  },
  {
   "cell_type": "code",
   "execution_count": 63,
   "metadata": {},
   "outputs": [
    {
     "data": {
      "text/plain": [
       "array([[10. ,  0. , -0.5],\n",
       "       [ 0. , -1. ,  0. ],\n",
       "       [-0.5,  0. ,  0. ]])"
      ]
     },
     "execution_count": 63,
     "metadata": {},
     "output_type": "execute_result"
    }
   ],
   "source": [
    "result.GetSolution(Q)"
   ]
  },
  {
   "cell_type": "code",
   "execution_count": 64,
   "metadata": {},
   "outputs": [
    {
     "data": {
      "text/plain": [
       "<Expression \"(10 - y(0) - pow(x(0), 2))\">"
      ]
     },
     "execution_count": 64,
     "metadata": {},
     "output_type": "execute_result"
    }
   ],
   "source": [
    "mx.T@result.GetSolution(Q)@mx"
   ]
  },
  {
   "cell_type": "code",
   "execution_count": 65,
   "metadata": {},
   "outputs": [
    {
     "data": {
      "text/plain": [
       "array([10.02493781, -0.02493781, -1.        ])"
      ]
     },
     "execution_count": 65,
     "metadata": {},
     "output_type": "execute_result"
    }
   ],
   "source": [
    "np.linalg.eigvals(result.GetSolution(Q))"
   ]
  },
  {
   "cell_type": "code",
   "execution_count": 68,
   "metadata": {},
   "outputs": [],
   "source": [
    "Q_test = np.array([[9, 0, -1/2], [0, 0, 0], [-1/2, 0, 1]])"
   ]
  },
  {
   "cell_type": "code",
   "execution_count": 69,
   "metadata": {},
   "outputs": [
    {
     "data": {
      "text/plain": [
       "<Polynomial \"9*1 + -1*y(0) + 1*y(0)^2\">"
      ]
     },
     "execution_count": 69,
     "metadata": {},
     "output_type": "execute_result"
    }
   ],
   "source": [
    "Polynomial(mx.T@Q_test@mx)"
   ]
  },
  {
   "cell_type": "code",
   "execution_count": null,
   "metadata": {},
   "outputs": [],
   "source": []
  },
  {
   "cell_type": "code",
   "execution_count": 88,
   "metadata": {},
   "outputs": [],
   "source": [
    "prog = MathematicalProgram()\n",
    "S = prog.NewSymmetricContinuousVariables(2, \"S\")\n",
    "psd_constraint = prog.AddPositiveSemidefiniteConstraint(S)\n",
    "\n",
    "#prog.AddBoundingBoxConstraint(1, 1, S[1, 0])\n",
    "#prog.AddLinearCost(np.trace(S))\n",
    "result = Solve(prog)\n",
    "\n",
    "S_value = result.GetSolution(S)"
   ]
  },
  {
   "cell_type": "code",
   "execution_count": 89,
   "metadata": {},
   "outputs": [
    {
     "data": {
      "text/plain": [
       "array([0.70710678, 0.70710678])"
      ]
     },
     "execution_count": 89,
     "metadata": {},
     "output_type": "execute_result"
    }
   ],
   "source": [
    "np.linalg.eigvalsh(S_value)"
   ]
  },
  {
   "cell_type": "code",
   "execution_count": 90,
   "metadata": {},
   "outputs": [
    {
     "data": {
      "text/plain": [
       "array([[0.70710678, 0.        ],\n",
       "       [0.        , 0.70710678]])"
      ]
     },
     "execution_count": 90,
     "metadata": {},
     "output_type": "execute_result"
    }
   ],
   "source": [
    "S_value"
   ]
  },
  {
   "cell_type": "markdown",
   "metadata": {},
   "source": [
    "Try Groebner basis for Van der Pol oscillator"
   ]
  },
  {
   "cell_type": "code",
   "execution_count": 98,
   "metadata": {},
   "outputs": [],
   "source": [
    "x0, x1, xd0, xd1 = sp.symbols('x_0 x_1 xdot_0 xdot_1')\n",
    "g0 = xd0 + x1\n",
    "g1 = xd1 - x0 - (x0**2 - 1)*x1\n",
    "\n",
    "f = [- x1, x0 + (x0**2 - 1) * x1]\n",
    "\n",
    "V = 1.5*x0**2 + x1**2 - x0*x1\n",
    "Vdot = sp.Matrix([V]).jacobian(sp.Matrix([x0, x1])).dot(f)\n",
    "\n",
    "G = [g0, g1, Vdot]"
   ]
  },
  {
   "cell_type": "code",
   "execution_count": 118,
   "metadata": {},
   "outputs": [],
   "source": [
    "res = sp.groebner(G, x0, xd0, x1, xd1, order='grlex')"
   ]
  },
  {
   "cell_type": "code",
   "execution_count": 119,
   "metadata": {},
   "outputs": [
    {
     "data": {
      "text/latex": [
       "$\\displaystyle \\operatorname{GroebnerBasis}\\left(\\left( x_{1}^{5} + 4 x_{1}^{4} \\dot{x}_{1} + 4 x_{1}^{3} \\dot{x}_{1}^{2} - 6 x_{1}^{3} - 8 x_{1}^{2} \\dot{x}_{1} - 5 x_{1} \\dot{x}_{1}^{2} - \\dot{x}_{1}^{3}, \\  5 x_{0} \\dot{x}_{1}^{3} + 9 x_{1}^{4} + 33 x_{1}^{3} \\dot{x}_{1} + 25 x_{1}^{2} \\dot{x}_{1}^{2} - 54 x_{1}^{2} - 10 x_{1} \\dot{x}_{1}^{3} - 54 x_{1} \\dot{x}_{1} - 27 \\dot{x}_{1}^{2}, \\  9 x_{0}^{2} \\dot{x}_{1} + 5 x_{0} \\dot{x}_{1}^{2} - 27 x_{0} - 3 x_{1}^{3} - 11 x_{1}^{2} \\dot{x}_{1} - 10 x_{1} \\dot{x}_{1}^{2} + 27 x_{1} + 27 \\dot{x}_{1}, \\  3 x_{0} x_{1} + x_{0} \\dot{x}_{1} - x_{1}^{2} - 2 x_{1} \\dot{x}_{1}, \\  x_{1} + \\dot{x}_{0}\\right), \\left( x_{0}, \\  \\dot{x}_{0}, \\  x_{1}, \\  \\dot{x}_{1}\\right)\\right)$"
      ],
      "text/plain": [
       "GroebnerBasis([x_1**5 + 4*x_1**4*xdot_1 + 4*x_1**3*xdot_1**2 - 6*x_1**3 - 8*x_1**2*xdot_1 - 5*x_1*xdot_1**2 - xdot_1**3, 5*x_0*xdot_1**3 + 9*x_1**4 + 33*x_1**3*xdot_1 + 25*x_1**2*xdot_1**2 - 10*x_1*xdot_1**3 - 54*x_1**2 - 54*x_1*xdot_1 - 27*xdot_1**2, 9*x_0**2*xdot_1 + 5*x_0*xdot_1**2 - 3*x_1**3 - 11*x_1**2*xdot_1 - 10*x_1*xdot_1**2 - 27*x_0 + 27*x_1 + 27*xdot_1, 3*x_0*x_1 + x_0*xdot_1 - x_1**2 - 2*x_1*xdot_1, x_1 + xdot_0], x_0, xdot_0, x_1, xdot_1, domain='ZZ', order='grlex')"
      ]
     },
     "execution_count": 119,
     "metadata": {},
     "output_type": "execute_result"
    }
   ],
   "source": [
    "res"
   ]
  },
  {
   "cell_type": "code",
   "execution_count": 120,
   "metadata": {},
   "outputs": [],
   "source": [
    "ahem = list(res)"
   ]
  },
  {
   "cell_type": "code",
   "execution_count": 121,
   "metadata": {},
   "outputs": [
    {
     "name": "stdout",
     "output_type": "stream",
     "text": [
      "x_1**5\n",
      "5*x_0*xdot_1**3\n",
      "9*x_0**2*xdot_1\n",
      "3*x_0*x_1\n",
      "xdot_0\n"
     ]
    }
   ],
   "source": [
    "for element in ahem: \n",
    "    print(sp.LT(element, x0, xd0, x1, xd1, order='grlex'))"
   ]
  },
  {
   "cell_type": "code",
   "execution_count": 122,
   "metadata": {},
   "outputs": [],
   "source": [
    "a, b = sp.symbols('a b')"
   ]
  },
  {
   "cell_type": "code",
   "execution_count": 180,
   "metadata": {},
   "outputs": [],
   "source": [
    "import sympy as sp\n",
    "import numpy as np"
   ]
  },
  {
   "cell_type": "code",
   "execution_count": 361,
   "metadata": {},
   "outputs": [],
   "source": [
    "def find_support(f, Supp): \n",
    "    terms_f = f.terms()\n",
    "    for term in terms_f:\n",
    "        Supp.append(term[0])\n",
    "    return Supp\n",
    "# define the variables\n",
    "x, y = sp.symbols('x y')\n",
    "\n",
    "#define the max term (upper bound)\n",
    "max_x = 12\n",
    "max_y = 0\n",
    "max_term = x**max_x*y**max_y\n",
    "\n",
    "# define the polynomail f\n",
    "f = sp.Poly(-x**3, (x, y))\n",
    "    \n",
    "#define the ideal and find the Groebner basis\n",
    "I = [x**3 + y**6, x**2 - y**5]\n",
    "G = sp.groebner(I, x, y, order='grlex')\n",
    "G = list(G)\n",
    "\n",
    "#finding the support of f \n",
    "f_bar = sp.reduced(f, G)[1]\n",
    "Supp = []\n",
    "Supp = find_support(f_bar, Supp)\n",
    "\n",
    "#define x and y degree matrices for looping \n",
    "x_deg = np.linspace(0, 15, 16)\n",
    "y_deg = np.linspace(0, 15, 16)\n",
    "\n",
    "x_deg, y_deg = np.meshgrid(x_deg, y_deg)\n",
    "\n",
    "# for g in G: \n",
    "#     b1 = 3\n",
    "#     b2 = 3\n",
    "#     curr_term = x**b1*y**b2\n",
    "#     print(curr_term)\n",
    "#     comp_poly = sp.Poly(curr_term+max_term, (x, y))\n",
    "#     comp_LT = sp.LT(comp_poly, order='grlex')\n",
    "#     if comp_LT-max_term == 0: \n",
    "#         print('HERE')\n",
    "#         check_poly = sp.Poly(curr_term*g, (x, y))\n",
    "#         new_LT = sp.LT(check_poly, order='grlex')\n",
    "#         comp_poly = sp.Poly(new_LT+max_term, (x, y))\n",
    "#         comp_LT = sp.LT(comp_poly, order='grlex')\n",
    "#         if comp_LT-max_term==0: \n",
    "#             print('HERE')\n",
    "#             Supp = find_support(check_poly, Supp)\n",
    "            \n",
    "for g in G: \n",
    "    for i in range(len(x_deg)): \n",
    "        for j in range(len(y_deg)): \n",
    "            b1 = int(x_deg[i, j])\n",
    "            b2 = int(y_deg[i, j])\n",
    "            curr_term = x**b1*y**b2\n",
    "            comp_poly = sp.Poly(curr_term+max_term, (x, y))\n",
    "            comp_LT = sp.LT(comp_poly, order='grlex')\n",
    "            if comp_LT-max_term == 0 or max_x+max_y==b1+b2: \n",
    "                check_poly = sp.Poly(curr_term*g, (x, y))\n",
    "                new_LT = sp.LT(check_poly, order='grlex')\n",
    "                comp_poly = sp.Poly(new_LT+max_term, (x, y))\n",
    "                comp_LT = sp.LT(comp_poly, order='grlex')\n",
    "                if comp_LT-max_term==0 or sum(sp.degree_list(new_LT))==max_x+max_y: \n",
    "                    Supp = find_support(check_poly, Supp)\n"
   ]
  },
  {
   "cell_type": "code",
   "execution_count": 362,
   "metadata": {
    "scrolled": true
   },
   "outputs": [
    {
     "data": {
      "text/plain": [
       "[(1, 5),\n",
       " (2, 0),\n",
       " (0, 5),\n",
       " (3, 0),\n",
       " (1, 5),\n",
       " (4, 0),\n",
       " (2, 5),\n",
       " (5, 0),\n",
       " (3, 5),\n",
       " (6, 0),\n",
       " (4, 5),\n",
       " (7, 0),\n",
       " (5, 5),\n",
       " (8, 0),\n",
       " (6, 5),\n",
       " (9, 0),\n",
       " (7, 5),\n",
       " (2, 1),\n",
       " (0, 6),\n",
       " (3, 1),\n",
       " (1, 6),\n",
       " (4, 1),\n",
       " (2, 6),\n",
       " (5, 1),\n",
       " (3, 6),\n",
       " (6, 1),\n",
       " (4, 6),\n",
       " (7, 1),\n",
       " (5, 6),\n",
       " (8, 1),\n",
       " (6, 6),\n",
       " (2, 2),\n",
       " (0, 7),\n",
       " (3, 2),\n",
       " (1, 7),\n",
       " (4, 2),\n",
       " (2, 7),\n",
       " (5, 2),\n",
       " (3, 7),\n",
       " (6, 2),\n",
       " (4, 7),\n",
       " (7, 2),\n",
       " (5, 7),\n",
       " (2, 3),\n",
       " (0, 8),\n",
       " (3, 3),\n",
       " (1, 8),\n",
       " (4, 3),\n",
       " (2, 8),\n",
       " (5, 3),\n",
       " (3, 8),\n",
       " (6, 3),\n",
       " (4, 8),\n",
       " (2, 4),\n",
       " (0, 9),\n",
       " (3, 4),\n",
       " (1, 9),\n",
       " (4, 4),\n",
       " (2, 9),\n",
       " (5, 4),\n",
       " (3, 9),\n",
       " (2, 5),\n",
       " (0, 10),\n",
       " (3, 5),\n",
       " (1, 10),\n",
       " (4, 5),\n",
       " (2, 10),\n",
       " (2, 6),\n",
       " (0, 11),\n",
       " (3, 6),\n",
       " (1, 11),\n",
       " (2, 7),\n",
       " (0, 12),\n",
       " (3, 0),\n",
       " (2, 1),\n",
       " (4, 0),\n",
       " (3, 1),\n",
       " (5, 0),\n",
       " (4, 1),\n",
       " (6, 0),\n",
       " (5, 1),\n",
       " (7, 0),\n",
       " (6, 1),\n",
       " (8, 0),\n",
       " (7, 1),\n",
       " (9, 0),\n",
       " (8, 1),\n",
       " (10, 0),\n",
       " (9, 1),\n",
       " (11, 0),\n",
       " (10, 1),\n",
       " (12, 0),\n",
       " (11, 1),\n",
       " (3, 1),\n",
       " (2, 2),\n",
       " (4, 1),\n",
       " (3, 2),\n",
       " (5, 1),\n",
       " (4, 2),\n",
       " (6, 1),\n",
       " (5, 2),\n",
       " (7, 1),\n",
       " (6, 2),\n",
       " (8, 1),\n",
       " (7, 2),\n",
       " (9, 1),\n",
       " (8, 2),\n",
       " (10, 1),\n",
       " (9, 2),\n",
       " (11, 1),\n",
       " (10, 2),\n",
       " (3, 2),\n",
       " (2, 3),\n",
       " (4, 2),\n",
       " (3, 3),\n",
       " (5, 2),\n",
       " (4, 3),\n",
       " (6, 2),\n",
       " (5, 3),\n",
       " (7, 2),\n",
       " (6, 3),\n",
       " (8, 2),\n",
       " (7, 3),\n",
       " (9, 2),\n",
       " (8, 3),\n",
       " (10, 2),\n",
       " (9, 3),\n",
       " (3, 3),\n",
       " (2, 4),\n",
       " (4, 3),\n",
       " (3, 4),\n",
       " (5, 3),\n",
       " (4, 4),\n",
       " (6, 3),\n",
       " (5, 4),\n",
       " (7, 3),\n",
       " (6, 4),\n",
       " (8, 3),\n",
       " (7, 4),\n",
       " (9, 3),\n",
       " (8, 4),\n",
       " (3, 4),\n",
       " (2, 5),\n",
       " (4, 4),\n",
       " (3, 5),\n",
       " (5, 4),\n",
       " (4, 5),\n",
       " (6, 4),\n",
       " (5, 5),\n",
       " (7, 4),\n",
       " (6, 5),\n",
       " (8, 4),\n",
       " (7, 5),\n",
       " (3, 5),\n",
       " (2, 6),\n",
       " (4, 5),\n",
       " (3, 6),\n",
       " (5, 5),\n",
       " (4, 6),\n",
       " (6, 5),\n",
       " (5, 6),\n",
       " (7, 5),\n",
       " (6, 6),\n",
       " (3, 6),\n",
       " (2, 7),\n",
       " (4, 6),\n",
       " (3, 7),\n",
       " (5, 6),\n",
       " (4, 7),\n",
       " (6, 6),\n",
       " (5, 7),\n",
       " (3, 7),\n",
       " (2, 8),\n",
       " (4, 7),\n",
       " (3, 8),\n",
       " (5, 7),\n",
       " (4, 8),\n",
       " (3, 8),\n",
       " (2, 9),\n",
       " (4, 8),\n",
       " (3, 9),\n",
       " (3, 9),\n",
       " (2, 10)]"
      ]
     },
     "execution_count": 362,
     "metadata": {},
     "output_type": "execute_result"
    }
   ],
   "source": [
    "Supp"
   ]
  },
  {
   "cell_type": "code",
   "execution_count": 363,
   "metadata": {},
   "outputs": [],
   "source": [
    "xs = []\n",
    "ys = []\n",
    "for elem in Supp: \n",
    "    xs.append(elem[0])\n",
    "    ys.append(elem[1])"
   ]
  },
  {
   "cell_type": "code",
   "execution_count": 364,
   "metadata": {},
   "outputs": [],
   "source": [
    "points = np.array([xs, ys]).T"
   ]
  },
  {
   "cell_type": "code",
   "execution_count": 366,
   "metadata": {},
   "outputs": [
    {
     "data": {
      "text/plain": [
       "(183, 2)"
      ]
     },
     "execution_count": 366,
     "metadata": {},
     "output_type": "execute_result"
    }
   ],
   "source": [
    "np.shape(points)"
   ]
  },
  {
   "cell_type": "code",
   "execution_count": 367,
   "metadata": {},
   "outputs": [],
   "source": [
    "points_new = points/2"
   ]
  },
  {
   "cell_type": "code",
   "execution_count": 368,
   "metadata": {},
   "outputs": [],
   "source": [
    "import scipy.spatial"
   ]
  },
  {
   "cell_type": "code",
   "execution_count": 369,
   "metadata": {},
   "outputs": [
    {
     "data": {
      "text/plain": [
       "array([[0.5, 2.5],\n",
       "       [1. , 0. ],\n",
       "       [0. , 2.5],\n",
       "       [1.5, 0. ],\n",
       "       [0.5, 2.5],\n",
       "       [2. , 0. ],\n",
       "       [1. , 2.5],\n",
       "       [2.5, 0. ],\n",
       "       [1.5, 2.5],\n",
       "       [3. , 0. ],\n",
       "       [2. , 2.5],\n",
       "       [3.5, 0. ],\n",
       "       [2.5, 2.5],\n",
       "       [4. , 0. ],\n",
       "       [3. , 2.5],\n",
       "       [4.5, 0. ],\n",
       "       [3.5, 2.5],\n",
       "       [1. , 0.5],\n",
       "       [0. , 3. ],\n",
       "       [1.5, 0.5],\n",
       "       [0.5, 3. ],\n",
       "       [2. , 0.5],\n",
       "       [1. , 3. ],\n",
       "       [2.5, 0.5],\n",
       "       [1.5, 3. ],\n",
       "       [3. , 0.5],\n",
       "       [2. , 3. ],\n",
       "       [3.5, 0.5],\n",
       "       [2.5, 3. ],\n",
       "       [4. , 0.5],\n",
       "       [3. , 3. ],\n",
       "       [1. , 1. ],\n",
       "       [0. , 3.5],\n",
       "       [1.5, 1. ],\n",
       "       [0.5, 3.5],\n",
       "       [2. , 1. ],\n",
       "       [1. , 3.5],\n",
       "       [2.5, 1. ],\n",
       "       [1.5, 3.5],\n",
       "       [3. , 1. ],\n",
       "       [2. , 3.5],\n",
       "       [3.5, 1. ],\n",
       "       [2.5, 3.5],\n",
       "       [1. , 1.5],\n",
       "       [0. , 4. ],\n",
       "       [1.5, 1.5],\n",
       "       [0.5, 4. ],\n",
       "       [2. , 1.5],\n",
       "       [1. , 4. ],\n",
       "       [2.5, 1.5],\n",
       "       [1.5, 4. ],\n",
       "       [3. , 1.5],\n",
       "       [2. , 4. ],\n",
       "       [1. , 2. ],\n",
       "       [0. , 4.5],\n",
       "       [1.5, 2. ],\n",
       "       [0.5, 4.5],\n",
       "       [2. , 2. ],\n",
       "       [1. , 4.5],\n",
       "       [2.5, 2. ],\n",
       "       [1.5, 4.5],\n",
       "       [1. , 2.5],\n",
       "       [0. , 5. ],\n",
       "       [1.5, 2.5],\n",
       "       [0.5, 5. ],\n",
       "       [2. , 2.5],\n",
       "       [1. , 5. ],\n",
       "       [1. , 3. ],\n",
       "       [0. , 5.5],\n",
       "       [1.5, 3. ],\n",
       "       [0.5, 5.5],\n",
       "       [1. , 3.5],\n",
       "       [0. , 6. ],\n",
       "       [1.5, 0. ],\n",
       "       [1. , 0.5],\n",
       "       [2. , 0. ],\n",
       "       [1.5, 0.5],\n",
       "       [2.5, 0. ],\n",
       "       [2. , 0.5],\n",
       "       [3. , 0. ],\n",
       "       [2.5, 0.5],\n",
       "       [3.5, 0. ],\n",
       "       [3. , 0.5],\n",
       "       [4. , 0. ],\n",
       "       [3.5, 0.5],\n",
       "       [4.5, 0. ],\n",
       "       [4. , 0.5],\n",
       "       [5. , 0. ],\n",
       "       [4.5, 0.5],\n",
       "       [5.5, 0. ],\n",
       "       [5. , 0.5],\n",
       "       [6. , 0. ],\n",
       "       [5.5, 0.5],\n",
       "       [1.5, 0.5],\n",
       "       [1. , 1. ],\n",
       "       [2. , 0.5],\n",
       "       [1.5, 1. ],\n",
       "       [2.5, 0.5],\n",
       "       [2. , 1. ],\n",
       "       [3. , 0.5],\n",
       "       [2.5, 1. ],\n",
       "       [3.5, 0.5],\n",
       "       [3. , 1. ],\n",
       "       [4. , 0.5],\n",
       "       [3.5, 1. ],\n",
       "       [4.5, 0.5],\n",
       "       [4. , 1. ],\n",
       "       [5. , 0.5],\n",
       "       [4.5, 1. ],\n",
       "       [5.5, 0.5],\n",
       "       [5. , 1. ],\n",
       "       [1.5, 1. ],\n",
       "       [1. , 1.5],\n",
       "       [2. , 1. ],\n",
       "       [1.5, 1.5],\n",
       "       [2.5, 1. ],\n",
       "       [2. , 1.5],\n",
       "       [3. , 1. ],\n",
       "       [2.5, 1.5],\n",
       "       [3.5, 1. ],\n",
       "       [3. , 1.5],\n",
       "       [4. , 1. ],\n",
       "       [3.5, 1.5],\n",
       "       [4.5, 1. ],\n",
       "       [4. , 1.5],\n",
       "       [5. , 1. ],\n",
       "       [4.5, 1.5],\n",
       "       [1.5, 1.5],\n",
       "       [1. , 2. ],\n",
       "       [2. , 1.5],\n",
       "       [1.5, 2. ],\n",
       "       [2.5, 1.5],\n",
       "       [2. , 2. ],\n",
       "       [3. , 1.5],\n",
       "       [2.5, 2. ],\n",
       "       [3.5, 1.5],\n",
       "       [3. , 2. ],\n",
       "       [4. , 1.5],\n",
       "       [3.5, 2. ],\n",
       "       [4.5, 1.5],\n",
       "       [4. , 2. ],\n",
       "       [1.5, 2. ],\n",
       "       [1. , 2.5],\n",
       "       [2. , 2. ],\n",
       "       [1.5, 2.5],\n",
       "       [2.5, 2. ],\n",
       "       [2. , 2.5],\n",
       "       [3. , 2. ],\n",
       "       [2.5, 2.5],\n",
       "       [3.5, 2. ],\n",
       "       [3. , 2.5],\n",
       "       [4. , 2. ],\n",
       "       [3.5, 2.5],\n",
       "       [1.5, 2.5],\n",
       "       [1. , 3. ],\n",
       "       [2. , 2.5],\n",
       "       [1.5, 3. ],\n",
       "       [2.5, 2.5],\n",
       "       [2. , 3. ],\n",
       "       [3. , 2.5],\n",
       "       [2.5, 3. ],\n",
       "       [3.5, 2.5],\n",
       "       [3. , 3. ],\n",
       "       [1.5, 3. ],\n",
       "       [1. , 3.5],\n",
       "       [2. , 3. ],\n",
       "       [1.5, 3.5],\n",
       "       [2.5, 3. ],\n",
       "       [2. , 3.5],\n",
       "       [3. , 3. ],\n",
       "       [2.5, 3.5],\n",
       "       [1.5, 3.5],\n",
       "       [1. , 4. ],\n",
       "       [2. , 3.5],\n",
       "       [1.5, 4. ],\n",
       "       [2.5, 3.5],\n",
       "       [2. , 4. ],\n",
       "       [1.5, 4. ],\n",
       "       [1. , 4.5],\n",
       "       [2. , 4. ],\n",
       "       [1.5, 4.5],\n",
       "       [1.5, 4.5],\n",
       "       [1. , 5. ]])"
      ]
     },
     "execution_count": 369,
     "metadata": {},
     "output_type": "execute_result"
    }
   ],
   "source": [
    "points_new"
   ]
  },
  {
   "cell_type": "code",
   "execution_count": 370,
   "metadata": {},
   "outputs": [
    {
     "name": "stdout",
     "output_type": "stream",
     "text": [
      "2\n",
      "[0 2]\n",
      "[0.5 2.5]\n",
      "[False False]\n",
      "2\n",
      "[1 0]\n",
      "[1. 0.]\n",
      "[ True  True]\n",
      "2\n",
      "[0 2]\n",
      "[0.  2.5]\n",
      "[ True False]\n",
      "2\n",
      "[1 0]\n",
      "[1.5 0. ]\n",
      "[False  True]\n",
      "2\n",
      "[0 2]\n",
      "[0.5 2.5]\n",
      "[False False]\n",
      "2\n",
      "[2 0]\n",
      "[2. 0.]\n",
      "[ True  True]\n",
      "2\n",
      "[1 2]\n",
      "[1.  2.5]\n",
      "[ True False]\n",
      "2\n",
      "[2 0]\n",
      "[2.5 0. ]\n",
      "[False  True]\n",
      "2\n",
      "[1 2]\n",
      "[1.5 2.5]\n",
      "[False False]\n",
      "2\n",
      "[3 0]\n",
      "[3. 0.]\n",
      "[ True  True]\n",
      "2\n",
      "[2 2]\n",
      "[2.  2.5]\n",
      "[ True False]\n",
      "2\n",
      "[3 0]\n",
      "[3.5 0. ]\n",
      "[False  True]\n",
      "2\n",
      "[2 2]\n",
      "[2.5 2.5]\n",
      "[False False]\n",
      "2\n",
      "[4 0]\n",
      "[4. 0.]\n",
      "[ True  True]\n",
      "2\n",
      "[3 2]\n",
      "[3.  2.5]\n",
      "[ True False]\n",
      "2\n",
      "[4 0]\n",
      "[4.5 0. ]\n",
      "[False  True]\n",
      "2\n",
      "[3 2]\n",
      "[3.5 2.5]\n",
      "[False False]\n",
      "2\n",
      "[1 0]\n",
      "[1.  0.5]\n",
      "[ True False]\n",
      "2\n",
      "[0 3]\n",
      "[0. 3.]\n",
      "[ True  True]\n",
      "2\n",
      "[1 0]\n",
      "[1.5 0.5]\n",
      "[False False]\n",
      "2\n",
      "[0 3]\n",
      "[0.5 3. ]\n",
      "[False  True]\n",
      "2\n",
      "[2 0]\n",
      "[2.  0.5]\n",
      "[ True False]\n",
      "2\n",
      "[1 3]\n",
      "[1. 3.]\n",
      "[ True  True]\n",
      "2\n",
      "[2 0]\n",
      "[2.5 0.5]\n",
      "[False False]\n",
      "2\n",
      "[1 3]\n",
      "[1.5 3. ]\n",
      "[False  True]\n",
      "2\n",
      "[3 0]\n",
      "[3.  0.5]\n",
      "[ True False]\n",
      "2\n",
      "[2 3]\n",
      "[2. 3.]\n",
      "[ True  True]\n",
      "2\n",
      "[3 0]\n",
      "[3.5 0.5]\n",
      "[False False]\n",
      "2\n",
      "[2 3]\n",
      "[2.5 3. ]\n",
      "[False  True]\n",
      "2\n",
      "[4 0]\n",
      "[4.  0.5]\n",
      "[ True False]\n",
      "2\n",
      "[3 3]\n",
      "[3. 3.]\n",
      "[ True  True]\n",
      "2\n",
      "[1 1]\n",
      "[1. 1.]\n",
      "[ True  True]\n",
      "2\n",
      "[0 3]\n",
      "[0.  3.5]\n",
      "[ True False]\n",
      "2\n",
      "[1 1]\n",
      "[1.5 1. ]\n",
      "[False  True]\n",
      "2\n",
      "[0 3]\n",
      "[0.5 3.5]\n",
      "[False False]\n",
      "2\n",
      "[2 1]\n",
      "[2. 1.]\n",
      "[ True  True]\n",
      "2\n",
      "[1 3]\n",
      "[1.  3.5]\n",
      "[ True False]\n",
      "2\n",
      "[2 1]\n",
      "[2.5 1. ]\n",
      "[False  True]\n",
      "2\n",
      "[1 3]\n",
      "[1.5 3.5]\n",
      "[False False]\n",
      "2\n",
      "[3 1]\n",
      "[3. 1.]\n",
      "[ True  True]\n",
      "2\n",
      "[2 3]\n",
      "[2.  3.5]\n",
      "[ True False]\n",
      "2\n",
      "[3 1]\n",
      "[3.5 1. ]\n",
      "[False  True]\n",
      "2\n",
      "[2 3]\n",
      "[2.5 3.5]\n",
      "[False False]\n",
      "2\n",
      "[1 1]\n",
      "[1.  1.5]\n",
      "[ True False]\n",
      "2\n",
      "[0 4]\n",
      "[0. 4.]\n",
      "[ True  True]\n",
      "2\n",
      "[1 1]\n",
      "[1.5 1.5]\n",
      "[False False]\n",
      "2\n",
      "[0 4]\n",
      "[0.5 4. ]\n",
      "[False  True]\n",
      "2\n",
      "[2 1]\n",
      "[2.  1.5]\n",
      "[ True False]\n",
      "2\n",
      "[1 4]\n",
      "[1. 4.]\n",
      "[ True  True]\n",
      "2\n",
      "[2 1]\n",
      "[2.5 1.5]\n",
      "[False False]\n",
      "2\n",
      "[1 4]\n",
      "[1.5 4. ]\n",
      "[False  True]\n",
      "2\n",
      "[3 1]\n",
      "[3.  1.5]\n",
      "[ True False]\n",
      "2\n",
      "[2 4]\n",
      "[2. 4.]\n",
      "[ True  True]\n",
      "2\n",
      "[1 2]\n",
      "[1. 2.]\n",
      "[ True  True]\n",
      "2\n",
      "[0 4]\n",
      "[0.  4.5]\n",
      "[ True False]\n",
      "2\n",
      "[1 2]\n",
      "[1.5 2. ]\n",
      "[False  True]\n",
      "2\n",
      "[0 4]\n",
      "[0.5 4.5]\n",
      "[False False]\n",
      "2\n",
      "[2 2]\n",
      "[2. 2.]\n",
      "[ True  True]\n",
      "2\n",
      "[1 4]\n",
      "[1.  4.5]\n",
      "[ True False]\n",
      "2\n",
      "[2 2]\n",
      "[2.5 2. ]\n",
      "[False  True]\n",
      "2\n",
      "[1 4]\n",
      "[1.5 4.5]\n",
      "[False False]\n",
      "2\n",
      "[1 2]\n",
      "[1.  2.5]\n",
      "[ True False]\n",
      "2\n",
      "[0 5]\n",
      "[0. 5.]\n",
      "[ True  True]\n",
      "2\n",
      "[1 2]\n",
      "[1.5 2.5]\n",
      "[False False]\n",
      "2\n",
      "[0 5]\n",
      "[0.5 5. ]\n",
      "[False  True]\n",
      "2\n",
      "[2 2]\n",
      "[2.  2.5]\n",
      "[ True False]\n",
      "2\n",
      "[1 5]\n",
      "[1. 5.]\n",
      "[ True  True]\n",
      "2\n",
      "[1 3]\n",
      "[1. 3.]\n",
      "[ True  True]\n",
      "2\n",
      "[0 5]\n",
      "[0.  5.5]\n",
      "[ True False]\n",
      "2\n",
      "[1 3]\n",
      "[1.5 3. ]\n",
      "[False  True]\n",
      "2\n",
      "[0 5]\n",
      "[0.5 5.5]\n",
      "[False False]\n",
      "2\n",
      "[1 3]\n",
      "[1.  3.5]\n",
      "[ True False]\n",
      "2\n",
      "[0 6]\n",
      "[0. 6.]\n",
      "[ True  True]\n",
      "2\n",
      "[1 0]\n",
      "[1.5 0. ]\n",
      "[False  True]\n",
      "2\n",
      "[1 0]\n",
      "[1.  0.5]\n",
      "[ True False]\n",
      "2\n",
      "[2 0]\n",
      "[2. 0.]\n",
      "[ True  True]\n",
      "2\n",
      "[1 0]\n",
      "[1.5 0.5]\n",
      "[False False]\n",
      "2\n",
      "[2 0]\n",
      "[2.5 0. ]\n",
      "[False  True]\n",
      "2\n",
      "[2 0]\n",
      "[2.  0.5]\n",
      "[ True False]\n",
      "2\n",
      "[3 0]\n",
      "[3. 0.]\n",
      "[ True  True]\n",
      "2\n",
      "[2 0]\n",
      "[2.5 0.5]\n",
      "[False False]\n",
      "2\n",
      "[3 0]\n",
      "[3.5 0. ]\n",
      "[False  True]\n",
      "2\n",
      "[3 0]\n",
      "[3.  0.5]\n",
      "[ True False]\n",
      "2\n",
      "[4 0]\n",
      "[4. 0.]\n",
      "[ True  True]\n",
      "2\n",
      "[3 0]\n",
      "[3.5 0.5]\n",
      "[False False]\n",
      "2\n",
      "[4 0]\n",
      "[4.5 0. ]\n",
      "[False  True]\n",
      "2\n",
      "[4 0]\n",
      "[4.  0.5]\n",
      "[ True False]\n",
      "2\n",
      "[5 0]\n",
      "[5. 0.]\n",
      "[ True  True]\n",
      "2\n",
      "[4 0]\n",
      "[4.5 0.5]\n",
      "[False False]\n",
      "2\n",
      "[5 0]\n",
      "[5.5 0. ]\n",
      "[False  True]\n",
      "2\n",
      "[5 0]\n",
      "[5.  0.5]\n",
      "[ True False]\n",
      "2\n",
      "[6 0]\n",
      "[6. 0.]\n",
      "[ True  True]\n",
      "2\n",
      "[5 0]\n",
      "[5.5 0.5]\n",
      "[False False]\n",
      "2\n",
      "[1 0]\n",
      "[1.5 0.5]\n",
      "[False False]\n",
      "2\n",
      "[1 1]\n",
      "[1. 1.]\n",
      "[ True  True]\n",
      "2\n",
      "[2 0]\n",
      "[2.  0.5]\n",
      "[ True False]\n",
      "2\n",
      "[1 1]\n",
      "[1.5 1. ]\n",
      "[False  True]\n",
      "2\n",
      "[2 0]\n",
      "[2.5 0.5]\n",
      "[False False]\n",
      "2\n",
      "[2 1]\n",
      "[2. 1.]\n",
      "[ True  True]\n",
      "2\n",
      "[3 0]\n",
      "[3.  0.5]\n",
      "[ True False]\n",
      "2\n",
      "[2 1]\n",
      "[2.5 1. ]\n",
      "[False  True]\n",
      "2\n",
      "[3 0]\n",
      "[3.5 0.5]\n",
      "[False False]\n",
      "2\n",
      "[3 1]\n",
      "[3. 1.]\n",
      "[ True  True]\n",
      "2\n",
      "[4 0]\n",
      "[4.  0.5]\n",
      "[ True False]\n",
      "2\n",
      "[3 1]\n",
      "[3.5 1. ]\n",
      "[False  True]\n",
      "2\n",
      "[4 0]\n",
      "[4.5 0.5]\n",
      "[False False]\n",
      "2\n",
      "[4 1]\n",
      "[4. 1.]\n",
      "[ True  True]\n",
      "2\n",
      "[5 0]\n",
      "[5.  0.5]\n",
      "[ True False]\n",
      "2\n",
      "[4 1]\n",
      "[4.5 1. ]\n",
      "[False  True]\n",
      "2\n",
      "[5 0]\n",
      "[5.5 0.5]\n",
      "[False False]\n",
      "2\n",
      "[5 1]\n",
      "[5. 1.]\n",
      "[ True  True]\n",
      "2\n",
      "[1 1]\n",
      "[1.5 1. ]\n",
      "[False  True]\n",
      "2\n",
      "[1 1]\n",
      "[1.  1.5]\n",
      "[ True False]\n",
      "2\n",
      "[2 1]\n",
      "[2. 1.]\n",
      "[ True  True]\n",
      "2\n",
      "[1 1]\n",
      "[1.5 1.5]\n",
      "[False False]\n",
      "2\n",
      "[2 1]\n",
      "[2.5 1. ]\n",
      "[False  True]\n",
      "2\n",
      "[2 1]\n",
      "[2.  1.5]\n",
      "[ True False]\n",
      "2\n",
      "[3 1]\n",
      "[3. 1.]\n",
      "[ True  True]\n",
      "2\n",
      "[2 1]\n",
      "[2.5 1.5]\n",
      "[False False]\n",
      "2\n",
      "[3 1]\n",
      "[3.5 1. ]\n",
      "[False  True]\n",
      "2\n",
      "[3 1]\n",
      "[3.  1.5]\n",
      "[ True False]\n",
      "2\n",
      "[4 1]\n",
      "[4. 1.]\n",
      "[ True  True]\n",
      "2\n",
      "[3 1]\n",
      "[3.5 1.5]\n",
      "[False False]\n",
      "2\n",
      "[4 1]\n",
      "[4.5 1. ]\n",
      "[False  True]\n",
      "2\n",
      "[4 1]\n",
      "[4.  1.5]\n",
      "[ True False]\n",
      "2\n",
      "[5 1]\n",
      "[5. 1.]\n",
      "[ True  True]\n",
      "2\n",
      "[4 1]\n",
      "[4.5 1.5]\n",
      "[False False]\n",
      "2\n",
      "[1 1]\n",
      "[1.5 1.5]\n",
      "[False False]\n",
      "2\n",
      "[1 2]\n",
      "[1. 2.]\n",
      "[ True  True]\n",
      "2\n",
      "[2 1]\n",
      "[2.  1.5]\n",
      "[ True False]\n",
      "2\n",
      "[1 2]\n",
      "[1.5 2. ]\n",
      "[False  True]\n",
      "2\n",
      "[2 1]\n",
      "[2.5 1.5]\n",
      "[False False]\n",
      "2\n",
      "[2 2]\n",
      "[2. 2.]\n",
      "[ True  True]\n",
      "2\n",
      "[3 1]\n",
      "[3.  1.5]\n",
      "[ True False]\n",
      "2\n",
      "[2 2]\n",
      "[2.5 2. ]\n",
      "[False  True]\n",
      "2\n",
      "[3 1]\n",
      "[3.5 1.5]\n",
      "[False False]\n",
      "2\n",
      "[3 2]\n",
      "[3. 2.]\n",
      "[ True  True]\n",
      "2\n",
      "[4 1]\n",
      "[4.  1.5]\n",
      "[ True False]\n",
      "2\n",
      "[3 2]\n",
      "[3.5 2. ]\n",
      "[False  True]\n",
      "2\n",
      "[4 1]\n",
      "[4.5 1.5]\n",
      "[False False]\n",
      "2\n",
      "[4 2]\n",
      "[4. 2.]\n",
      "[ True  True]\n",
      "2\n",
      "[1 2]\n",
      "[1.5 2. ]\n",
      "[False  True]\n",
      "2\n",
      "[1 2]\n",
      "[1.  2.5]\n",
      "[ True False]\n",
      "2\n",
      "[2 2]\n",
      "[2. 2.]\n",
      "[ True  True]\n",
      "2\n",
      "[1 2]\n",
      "[1.5 2.5]\n",
      "[False False]\n",
      "2\n",
      "[2 2]\n",
      "[2.5 2. ]\n",
      "[False  True]\n",
      "2\n",
      "[2 2]\n",
      "[2.  2.5]\n",
      "[ True False]\n",
      "2\n",
      "[3 2]\n",
      "[3. 2.]\n",
      "[ True  True]\n",
      "2\n",
      "[2 2]\n",
      "[2.5 2.5]\n",
      "[False False]\n",
      "2\n",
      "[3 2]\n",
      "[3.5 2. ]\n",
      "[False  True]\n",
      "2\n",
      "[3 2]\n",
      "[3.  2.5]\n",
      "[ True False]\n",
      "2\n",
      "[4 2]\n",
      "[4. 2.]\n",
      "[ True  True]\n",
      "2\n",
      "[3 2]\n",
      "[3.5 2.5]\n",
      "[False False]\n",
      "2\n",
      "[1 2]\n",
      "[1.5 2.5]\n",
      "[False False]\n",
      "2\n",
      "[1 3]\n",
      "[1. 3.]\n",
      "[ True  True]\n",
      "2\n",
      "[2 2]\n",
      "[2.  2.5]\n",
      "[ True False]\n",
      "2\n",
      "[1 3]\n",
      "[1.5 3. ]\n",
      "[False  True]\n",
      "2\n",
      "[2 2]\n",
      "[2.5 2.5]\n",
      "[False False]\n",
      "2\n",
      "[2 3]\n",
      "[2. 3.]\n",
      "[ True  True]\n",
      "2\n",
      "[3 2]\n",
      "[3.  2.5]\n",
      "[ True False]\n",
      "2\n",
      "[2 3]\n",
      "[2.5 3. ]\n",
      "[False  True]\n",
      "2\n",
      "[3 2]\n",
      "[3.5 2.5]\n",
      "[False False]\n",
      "2\n",
      "[3 3]\n",
      "[3. 3.]\n",
      "[ True  True]\n",
      "2\n",
      "[1 3]\n",
      "[1.5 3. ]\n",
      "[False  True]\n",
      "2\n",
      "[1 3]\n",
      "[1.  3.5]\n",
      "[ True False]\n",
      "2\n",
      "[2 3]\n",
      "[2. 3.]\n",
      "[ True  True]\n",
      "2\n",
      "[1 3]\n",
      "[1.5 3.5]\n",
      "[False False]\n",
      "2\n",
      "[2 3]\n",
      "[2.5 3. ]\n",
      "[False  True]\n",
      "2\n",
      "[2 3]\n",
      "[2.  3.5]\n",
      "[ True False]\n",
      "2\n",
      "[3 3]\n",
      "[3. 3.]\n",
      "[ True  True]\n",
      "2\n",
      "[2 3]\n",
      "[2.5 3.5]\n",
      "[False False]\n",
      "2\n",
      "[1 3]\n",
      "[1.5 3.5]\n",
      "[False False]\n",
      "2\n",
      "[1 4]\n",
      "[1. 4.]\n",
      "[ True  True]\n",
      "2\n",
      "[2 3]\n",
      "[2.  3.5]\n",
      "[ True False]\n",
      "2\n",
      "[1 4]\n",
      "[1.5 4. ]\n",
      "[False  True]\n",
      "2\n",
      "[2 3]\n",
      "[2.5 3.5]\n",
      "[False False]\n",
      "2\n",
      "[2 4]\n",
      "[2. 4.]\n",
      "[ True  True]\n",
      "2\n",
      "[1 4]\n",
      "[1.5 4. ]\n",
      "[False  True]\n",
      "2\n",
      "[1 4]\n",
      "[1.  4.5]\n",
      "[ True False]\n",
      "2\n",
      "[2 4]\n",
      "[2. 4.]\n",
      "[ True  True]\n",
      "2\n",
      "[1 4]\n",
      "[1.5 4.5]\n",
      "[False False]\n",
      "2\n",
      "[1 4]\n",
      "[1.5 4.5]\n",
      "[False False]\n",
      "2\n",
      "[1 5]\n",
      "[1. 5.]\n",
      "[ True  True]\n"
     ]
    }
   ],
   "source": [
    "conv_points = []\n",
    "for point in points_new: \n",
    "    print(len(point))\n",
    "    int_point = np.array(point, dtype='int')\n",
    "    compare = int_point == point\n",
    "    print(int_point)\n",
    "    print(point)\n",
    "    print(compare)\n",
    "    if sum(compare) == len(point): \n",
    "        conv_points.append(point)\n",
    "conv_points = np.array(conv_points)"
   ]
  },
  {
   "cell_type": "code",
   "execution_count": 327,
   "metadata": {},
   "outputs": [
    {
     "data": {
      "text/plain": [
       "array([[0., 1.],\n",
       "       [0., 1.],\n",
       "       [2., 0.],\n",
       "       [1., 1.],\n",
       "       [3., 0.],\n",
       "       [2., 1.],\n",
       "       [4., 0.],\n",
       "       [0., 2.],\n",
       "       [2., 1.],\n",
       "       [1., 2.],\n",
       "       [3., 1.],\n",
       "       [0., 3.],\n",
       "       [2., 2.]])"
      ]
     },
     "execution_count": 327,
     "metadata": {},
     "output_type": "execute_result"
    }
   ],
   "source": []
  },
  {
   "cell_type": "code",
   "execution_count": 371,
   "metadata": {},
   "outputs": [],
   "source": [
    "hull = scipy.spatial.ConvexHull(conv_points)"
   ]
  },
  {
   "cell_type": "code",
   "execution_count": 378,
   "metadata": {},
   "outputs": [
    {
     "data": {
      "image/png": "[encoded data removed]",
      "text/plain": [
       "<Figure size 432x288 with 1 Axes>"
      ]
     },
     "metadata": {
      "needs_background": "light"
     },
     "output_type": "display_data"
    }
   ],
   "source": [
    "import matplotlib.pyplot as plt\n",
    "\n",
    "plt.plot(conv_points[:,0], conv_points[:,1], 'o')\n",
    "\n",
    "for simplex in hull.simplices:\n",
    "\n",
    "    plt.plot(conv_points[simplex, 0], conv_points[simplex, 1], 'k-')"
   ]
  },
  {
   "cell_type": "code",
   "execution_count": 373,
   "metadata": {},
   "outputs": [
    {
     "data": {
      "text/plain": [
       "<matplotlib.collections.PathCollection at 0x7f879d086430>"
      ]
     },
     "execution_count": 373,
     "metadata": {},
     "output_type": "execute_result"
    },
    {
     "data": {
      "image/png": "[encoded data removed]",
      "text/plain": [
       "<Figure size 432x288 with 1 Axes>"
      ]
     },
     "metadata": {
      "needs_background": "light"
     },
     "output_type": "display_data"
    }
   ],
   "source": [
    "plt.scatter(xs, ys)"
   ]
  },
  {
   "cell_type": "code",
   "execution_count": 401,
   "metadata": {},
   "outputs": [
    {
     "name": "stdout",
     "output_type": "stream",
     "text": [
      "Poly(x, x, y, domain='ZZ')\n",
      "Poly(x, x, y, domain='ZZ')\n",
      "Poly(x**2, x, y, domain='ZZ')\n",
      "Poly(x**2, x, y, domain='ZZ')\n",
      "Poly(x**3, x, y, domain='ZZ')\n",
      "Poly(-x**2*y, x, y, domain='ZZ')\n",
      "Poly(x**4, x, y, domain='ZZ')\n",
      "Poly(x**2*y**2, x, y, domain='ZZ')\n",
      "Poly(y**3, x, y, domain='ZZ')\n",
      "Poly(y**3, x, y, domain='ZZ')\n",
      "Poly(x*y**3, x, y, domain='ZZ')\n",
      "Poly(x*y**3, x, y, domain='ZZ')\n",
      "Poly(x**2*y**3, x, y, domain='ZZ')\n",
      "Poly(x**2*y**3, x, y, domain='ZZ')\n",
      "Poly(x**3*y**3, x, y, domain='ZZ')\n",
      "Poly(-x**2*y**4, x, y, domain='ZZ')\n",
      "Poly(x*y, x, y, domain='ZZ')\n",
      "Poly(x*y, x, y, domain='ZZ')\n",
      "Poly(x**2*y, x, y, domain='ZZ')\n",
      "Poly(x**2*y, x, y, domain='ZZ')\n",
      "Poly(x**3*y, x, y, domain='ZZ')\n",
      "Poly(-x**2*y**2, x, y, domain='ZZ')\n",
      "Poly(y**4, x, y, domain='ZZ')\n",
      "Poly(y**4, x, y, domain='ZZ')\n",
      "Poly(x*y**4, x, y, domain='ZZ')\n",
      "Poly(x*y**4, x, y, domain='ZZ')\n",
      "Poly(x**2*y**4, x, y, domain='ZZ')\n",
      "Poly(x**2*y**4, x, y, domain='ZZ')\n",
      "Poly(x*y**2, x, y, domain='ZZ')\n",
      "Poly(x*y**2, x, y, domain='ZZ')\n",
      "Poly(x**2*y**2, x, y, domain='ZZ')\n",
      "Poly(x**2*y**2, x, y, domain='ZZ')\n",
      "Poly(y**5, x, y, domain='ZZ')\n",
      "Poly(x**2, x, y, domain='ZZ')\n",
      "Poly(x*y**5, x, y, domain='ZZ')\n",
      "Poly(-x**2*y, x, y, domain='ZZ')\n",
      "Poly(x*y**3, x, y, domain='ZZ')\n",
      "Poly(x*y**3, x, y, domain='ZZ')\n",
      "Poly(y**6, x, y, domain='ZZ')\n",
      "Poly(x**2*y, x, y, domain='ZZ')\n",
      "Poly(x**2, x, y, domain='ZZ')\n",
      "Poly(x**2, x, y, domain='ZZ')\n",
      "Poly(x**3, x, y, domain='ZZ')\n",
      "Poly(-x**2*y, x, y, domain='ZZ')\n",
      "Poly(x**4, x, y, domain='ZZ')\n",
      "Poly(x**2*y**2, x, y, domain='ZZ')\n",
      "Poly(x**5, x, y, domain='ZZ')\n",
      "Poly(-x**2*y**3, x, y, domain='ZZ')\n",
      "Poly(x**6, x, y, domain='ZZ')\n",
      "Poly(x**2*y**4, x, y, domain='ZZ')\n",
      "Poly(x*y, x, y, domain='ZZ')\n",
      "Poly(x*y, x, y, domain='ZZ')\n",
      "Poly(x**2*y, x, y, domain='ZZ')\n",
      "Poly(x**2*y, x, y, domain='ZZ')\n",
      "Poly(x**3*y, x, y, domain='ZZ')\n",
      "Poly(-x**2*y**2, x, y, domain='ZZ')\n",
      "Poly(x**4*y, x, y, domain='ZZ')\n",
      "Poly(x**2*y**3, x, y, domain='ZZ')\n",
      "Poly(x**5*y, x, y, domain='ZZ')\n",
      "Poly(-x**2*y**4, x, y, domain='ZZ')\n",
      "Poly(x**2*y, x, y, domain='ZZ')\n",
      "Poly(x**2*y, x, y, domain='ZZ')\n",
      "Poly(x**3*y, x, y, domain='ZZ')\n",
      "Poly(-x**2*y**2, x, y, domain='ZZ')\n",
      "Poly(x**4*y, x, y, domain='ZZ')\n",
      "Poly(x**2*y**3, x, y, domain='ZZ')\n",
      "Poly(x**5*y, x, y, domain='ZZ')\n",
      "Poly(-x**2*y**4, x, y, domain='ZZ')\n",
      "Poly(x*y**2, x, y, domain='ZZ')\n",
      "Poly(x*y**2, x, y, domain='ZZ')\n",
      "Poly(x**2*y**2, x, y, domain='ZZ')\n",
      "Poly(x**2*y**2, x, y, domain='ZZ')\n",
      "Poly(x**3*y**2, x, y, domain='ZZ')\n",
      "Poly(-x**2*y**3, x, y, domain='ZZ')\n",
      "Poly(x**4*y**2, x, y, domain='ZZ')\n",
      "Poly(x**2*y**4, x, y, domain='ZZ')\n",
      "Poly(x**2*y**2, x, y, domain='ZZ')\n",
      "Poly(x**2*y**2, x, y, domain='ZZ')\n",
      "Poly(x**3*y**2, x, y, domain='ZZ')\n",
      "Poly(-x**2*y**3, x, y, domain='ZZ')\n",
      "Poly(x**4*y**2, x, y, domain='ZZ')\n",
      "Poly(x**2*y**4, x, y, domain='ZZ')\n",
      "Poly(x*y**3, x, y, domain='ZZ')\n",
      "Poly(x*y**3, x, y, domain='ZZ')\n",
      "Poly(x**2*y**3, x, y, domain='ZZ')\n",
      "Poly(x**2*y**3, x, y, domain='ZZ')\n",
      "Poly(x**3*y**3, x, y, domain='ZZ')\n",
      "Poly(-x**2*y**4, x, y, domain='ZZ')\n",
      "Poly(x**2*y**3, x, y, domain='ZZ')\n",
      "Poly(x**2*y**3, x, y, domain='ZZ')\n",
      "Poly(x**3*y**3, x, y, domain='ZZ')\n",
      "Poly(-x**2*y**4, x, y, domain='ZZ')\n",
      "Poly(x*y**4, x, y, domain='ZZ')\n",
      "Poly(x*y**4, x, y, domain='ZZ')\n",
      "Poly(x**2*y**4, x, y, domain='ZZ')\n",
      "Poly(x**2*y**4, x, y, domain='ZZ')\n",
      "Poly(x**2*y**4, x, y, domain='ZZ')\n",
      "Poly(x**2*y**4, x, y, domain='ZZ')\n",
      "Poly(x*y**5, x, y, domain='ZZ')\n",
      "Poly(-x**2*y, x, y, domain='ZZ')\n"
     ]
    }
   ],
   "source": [
    "Nupp = []\n",
    "for point in conv_points: \n",
    "    b1 = int(point[0])\n",
    "    b2 = int(point[1])\n",
    "    \n",
    "    monomial = sp.Poly(x**b1*y**b2, (x, y))\n",
    "    print(monomial)\n",
    "    monomial_bar = sp.reduced(monomial, G, order='grlex')[1]\n",
    "    print(monomial_bar)\n",
    "    Nupp = find_support(monomial_bar, Nupp)"
   ]
  },
  {
   "cell_type": "code",
   "execution_count": 393,
   "metadata": {},
   "outputs": [
    {
     "data": {
      "text/plain": [
       "([0, 0], -x*y**5)"
      ]
     },
     "execution_count": 393,
     "metadata": {},
     "output_type": "execute_result"
    }
   ],
   "source": [
    "sp.reduced(-x*y**5, G)"
   ]
  },
  {
   "cell_type": "code",
   "execution_count": 389,
   "metadata": {},
   "outputs": [
    {
     "data": {
      "text/plain": [
       "[-x**2 + y**5, x**3 + x**2*y]"
      ]
     },
     "execution_count": 389,
     "metadata": {},
     "output_type": "execute_result"
    }
   ],
   "source": [
    "G"
   ]
  },
  {
   "cell_type": "code",
   "execution_count": 375,
   "metadata": {
    "scrolled": true
   },
   "outputs": [
    {
     "data": {
      "text/plain": [
       "[(1, 0),\n",
       " (0, 5),\n",
       " (1, 5),\n",
       " (0, 10),\n",
       " (0, 3),\n",
       " (1, 3),\n",
       " (0, 8),\n",
       " (1, 8),\n",
       " (1, 1),\n",
       " (0, 6),\n",
       " (1, 6),\n",
       " (0, 4),\n",
       " (1, 4),\n",
       " (0, 9),\n",
       " (1, 2),\n",
       " (0, 7),\n",
       " (0, 5),\n",
       " (1, 5),\n",
       " (1, 3),\n",
       " (0, 6),\n",
       " (0, 5),\n",
       " (1, 5),\n",
       " (0, 10),\n",
       " (1, 10),\n",
       " (0, 15),\n",
       " (1, 1),\n",
       " (0, 6),\n",
       " (1, 6),\n",
       " (0, 11),\n",
       " (1, 11),\n",
       " (0, 6),\n",
       " (1, 6),\n",
       " (0, 11),\n",
       " (1, 11),\n",
       " (1, 2),\n",
       " (0, 7),\n",
       " (1, 7),\n",
       " (0, 12),\n",
       " (0, 7),\n",
       " (1, 7),\n",
       " (0, 12),\n",
       " (1, 3),\n",
       " (0, 8),\n",
       " (1, 8),\n",
       " (0, 8),\n",
       " (1, 8),\n",
       " (1, 4),\n",
       " (0, 9),\n",
       " (0, 9),\n",
       " (1, 5)]"
      ]
     },
     "execution_count": 375,
     "metadata": {},
     "output_type": "execute_result"
    }
   ],
   "source": [
    "Nupp"
   ]
  },
  {
   "cell_type": "code",
   "execution_count": 402,
   "metadata": {},
   "outputs": [],
   "source": [
    "xns = []\n",
    "yns = []\n",
    "for elem in Nupp: \n",
    "    xns.append(elem[0])\n",
    "    yns.append(elem[1])"
   ]
  },
  {
   "cell_type": "code",
   "execution_count": 403,
   "metadata": {},
   "outputs": [
    {
     "data": {
      "text/plain": [
       "<matplotlib.collections.PathCollection at 0x7f87bc2d0f40>"
      ]
     },
     "execution_count": 403,
     "metadata": {},
     "output_type": "execute_result"
    },
    {
     "data": {
      "image/png": "[encoded data removed]",
      "text/plain": [
       "<Figure size 432x288 with 1 Axes>"
      ]
     },
     "metadata": {
      "needs_background": "light"
     },
     "output_type": "display_data"
    }
   ],
   "source": [
    "plt.scatter(xns, yns)"
   ]
  },
  {
   "cell_type": "code",
   "execution_count": 398,
   "metadata": {},
   "outputs": [
    {
     "data": {
      "text/plain": [
       "([0, 1], -x**2*y)"
      ]
     },
     "execution_count": 398,
     "metadata": {},
     "output_type": "execute_result"
    }
   ],
   "source": [
    "sp.reduced(x**3, G, order='grlex')"
   ]
  },
  {
   "cell_type": "code",
   "execution_count": null,
   "metadata": {},
   "outputs": [],
   "source": []
  },
  {
   "cell_type": "code",
   "execution_count": 249,
   "metadata": {},
   "outputs": [
    {
     "data": {
      "text/latex": [
       "$\\displaystyle \\operatorname{Poly}{\\left( -xy^{2} + y^{2}, x, y, domain=\\mathbb{Z} \\right)}$"
      ],
      "text/plain": [
       "Poly(-x*y**2 + y**2, x, y, domain='ZZ')"
      ]
     },
     "execution_count": 249,
     "metadata": {},
     "output_type": "execute_result"
    }
   ],
   "source": [
    "sp.reduced(f, G)[1]"
   ]
  },
  {
   "cell_type": "code",
   "execution_count": 268,
   "metadata": {},
   "outputs": [
    {
     "data": {
      "text/latex": [
       "$\\displaystyle 3$"
      ],
      "text/plain": [
       "3"
      ]
     },
     "execution_count": 268,
     "metadata": {},
     "output_type": "execute_result"
    }
   ],
   "source": [
    "sum(sp.degree_list(x**2*y))"
   ]
  },
  {
   "cell_type": "code",
   "execution_count": 219,
   "metadata": {},
   "outputs": [
    {
     "name": "stdout",
     "output_type": "stream",
     "text": [
      "x**4*y**4\n"
     ]
    }
   ],
   "source": [
    "curr_term = x**4*y**4\n",
    "print(curr_term)\n",
    "comp_poly = sp.Poly(curr_term+max_term, (y, x))\n",
    "comp_LT = sp.LT(comp_poly, order='grlex')"
   ]
  },
  {
   "cell_type": "code",
   "execution_count": 220,
   "metadata": {},
   "outputs": [
    {
     "data": {
      "text/latex": [
       "$\\displaystyle y^{8}$"
      ],
      "text/plain": [
       "y**8"
      ]
     },
     "execution_count": 220,
     "metadata": {},
     "output_type": "execute_result"
    }
   ],
   "source": [
    "comp_LT"
   ]
  },
  {
   "cell_type": "code",
   "execution_count": null,
   "metadata": {},
   "outputs": [],
   "source": []
  },
  {
   "cell_type": "code",
   "execution_count": 131,
   "metadata": {},
   "outputs": [],
   "source": [
    "import numpy as np"
   ]
  },
  {
   "cell_type": "code",
   "execution_count": 135,
   "metadata": {},
   "outputs": [],
   "source": [
    "x_deg = np.linspace(0, 10, 11)\n",
    "y_deg = np.linspace(0, 10, 11)\n",
    "\n",
    "x_deg, y_deg = np.meshgrid(x_deg, y_deg)"
   ]
  },
  {
   "cell_type": "code",
   "execution_count": 143,
   "metadata": {},
   "outputs": [],
   "source": [
    "x_max = 0\n",
    "y_max = 3"
   ]
  },
  {
   "cell_type": "code",
   "execution_count": null,
   "metadata": {},
   "outputs": [],
   "source": [
    "# finding the support of a polynomial f"
   ]
  },
  {
   "cell_type": "code",
   "execution_count": 179,
   "metadata": {},
   "outputs": [
    {
     "name": "stdout",
     "output_type": "stream",
     "text": [
      "1\n",
      "x\n",
      "x**2\n",
      "y\n",
      "x*y\n",
      "y**2\n"
     ]
    }
   ],
   "source": [
    "max_term = x**x_max*y**y_max\n",
    "for i in range(len(x_deg)): \n",
    "    for j in range(len(y_deg)): \n",
    "        b1 = int(x_deg[i, j])\n",
    "        b2 = int(y_deg[i, j])\n",
    "        curr_term = x**b1*y**b2\n",
    "        comp_poly = sp.Poly(curr_term+max_term, (x, y))\n",
    "        comp_LT = sp.LT(comp_poly, order='grlex')\n",
    "        if comp_LT - max_term == 0: \n",
    "            print(curr_term)"
   ]
  },
  {
   "cell_type": "code",
   "execution_count": 172,
   "metadata": {},
   "outputs": [],
   "source": [
    "x1, x2 = sp.symbols('x_1 x_2')"
   ]
  },
  {
   "cell_type": "code",
   "execution_count": 177,
   "metadata": {},
   "outputs": [],
   "source": [
    "fff = sp.Poly(x1**2 + x2**2, (x2, x1))"
   ]
  },
  {
   "cell_type": "code",
   "execution_count": 178,
   "metadata": {},
   "outputs": [
    {
     "data": {
      "text/latex": [
       "$\\displaystyle x_{2}^{2}$"
      ],
      "text/plain": [
       "x_2**2"
      ]
     },
     "execution_count": 178,
     "metadata": {},
     "output_type": "execute_result"
    }
   ],
   "source": [
    "sp.LT(fff, order='lex')"
   ]
  },
  {
   "cell_type": "code",
   "execution_count": 175,
   "metadata": {},
   "outputs": [],
   "source": [
    "fff = sp.Poly(x1**2 + x2**2)"
   ]
  },
  {
   "cell_type": "code",
   "execution_count": 176,
   "metadata": {},
   "outputs": [
    {
     "data": {
      "text/latex": [
       "$\\displaystyle x_{1}^{2}$"
      ],
      "text/plain": [
       "x_1**2"
      ]
     },
     "execution_count": 176,
     "metadata": {},
     "output_type": "execute_result"
    }
   ],
   "source": [
    "sp.LT(fff, order='grevlex')"
   ]
  },
  {
   "cell_type": "code",
   "execution_count": null,
   "metadata": {},
   "outputs": [],
   "source": [
    "fff = sp.Poly(x1**2 + x2**2, (x2, x1))"
   ]
  }
 ],
 "metadata": {
  "kernelspec": {
   "display_name": "Python 3 (ipykernel)",
   "language": "python",
   "name": "python3"
  },
  "language_info": {
   "codemirror_mode": {
    "name": "ipython",
    "version": 3
   },
   "file_extension": ".py",
   "mimetype": "text/x-python",
   "name": "python",
   "nbconvert_exporter": "python",
   "pygments_lexer": "ipython3",
   "version": "3.8.10"
  }
 },
 "nbformat": 4,
 "nbformat_minor": 4
}
