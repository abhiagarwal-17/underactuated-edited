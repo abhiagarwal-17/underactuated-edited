{
 "cells": [
  {
   "cell_type": "code",
   "execution_count": 2,
   "metadata": {},
   "outputs": [],
   "source": [
    "from pydrake.all import *\n",
    "import sympy as sp"
   ]
  },
  {
   "cell_type": "code",
   "execution_count": 3,
   "metadata": {},
   "outputs": [],
   "source": [
    "x, y = sp.symbols('x y')"
   ]
  },
  {
   "cell_type": "code",
   "execution_count": 4,
   "metadata": {},
   "outputs": [],
   "source": [
    "F = 10 - x**2 - y"
   ]
  },
  {
   "cell_type": "code",
   "execution_count": 5,
   "metadata": {},
   "outputs": [],
   "source": [
    "G = x**2 + y**2 - 1"
   ]
  },
  {
   "cell_type": "code",
   "execution_count": 8,
   "metadata": {},
   "outputs": [],
   "source": [
    "res = sp.groebner([G], x, y, order='grlex')"
   ]
  },
  {
   "cell_type": "code",
   "execution_count": 9,
   "metadata": {},
   "outputs": [
    {
     "data": {
      "text/latex": [
       "$\\displaystyle \\operatorname{GroebnerBasis}\\left(\\left( x^{2} + y^{2} - 1,\\right), \\left( x, \\  y\\right)\\right)$"
      ],
      "text/plain": [
       "GroebnerBasis([x**2 + y**2 - 1], x, y, domain='ZZ', order='grlex')"
      ]
     },
     "execution_count": 9,
     "metadata": {},
     "output_type": "execute_result"
    }
   ],
   "source": [
    "res"
   ]
  },
  {
   "cell_type": "code",
   "execution_count": 29,
   "metadata": {},
   "outputs": [],
   "source": [
    "Q = sp.MatrixSymbol('Q', 3, 3)\n",
    "Q = sp.Matrix(Q)"
   ]
  },
  {
   "cell_type": "code",
   "execution_count": 30,
   "metadata": {},
   "outputs": [],
   "source": [
    "mx = sp.Matrix([1, x, y])"
   ]
  },
  {
   "cell_type": "code",
   "execution_count": 31,
   "metadata": {},
   "outputs": [],
   "source": [
    "temp = mx.T@Q@mx"
   ]
  },
  {
   "cell_type": "code",
   "execution_count": 32,
   "metadata": {},
   "outputs": [
    {
     "data": {
      "text/latex": [
       "$\\displaystyle \\left[\\begin{matrix}x \\left(x Q_{1, 1} + y Q_{2, 1} + Q_{0, 1}\\right) + x Q_{1, 0} + y \\left(x Q_{1, 2} + y Q_{2, 2} + Q_{0, 2}\\right) + y Q_{2, 0} + Q_{0, 0}\\end{matrix}\\right]$"
      ],
      "text/plain": [
       "Matrix([[x*(x*Q[1, 1] + y*Q[2, 1] + Q[0, 1]) + x*Q[1, 0] + y*(x*Q[1, 2] + y*Q[2, 2] + Q[0, 2]) + y*Q[2, 0] + Q[0, 0]]])"
      ]
     },
     "execution_count": 32,
     "metadata": {},
     "output_type": "execute_result"
    }
   ],
   "source": [
    "sp.simplify(temp)"
   ]
  },
  {
   "cell_type": "code",
   "execution_count": 79,
   "metadata": {},
   "outputs": [],
   "source": [
    "prog = MathematicalProgram()\n",
    "\n",
    "x = prog.NewIndeterminates(1, 'x')[0]\n",
    "y = prog.NewIndeterminates(1, 'y')[0]\n",
    "Q = prog.NewSymmetricContinuousVariables(6, 'Q')\n",
    "\n",
    "mx = np.hstack([x, y, x**2, x*y, y**2, y*x**2])\n",
    "\n",
    "expression = Polynomial(mx.T@Q@mx)\n",
    "\n",
    "original_expression = Polynomial(x**2 + y**2)\n",
    "\n",
    "prog.AddEqualityConstraintBetweenPolynomials(expression, original_expression)\n",
    "result = solver.Solve(prog)"
   ]
  },
  {
   "cell_type": "code",
   "execution_count": 80,
   "metadata": {},
   "outputs": [
    {
     "data": {
      "text/plain": [
       "array([[1., 0., 0., 0., 0., 0.],\n",
       "       [0., 1., 0., 0., 0., 0.],\n",
       "       [0., 0., 0., 0., 0., 0.],\n",
       "       [0., 0., 0., 0., 0., 0.],\n",
       "       [0., 0., 0., 0., 0., 0.],\n",
       "       [0., 0., 0., 0., 0., 0.]])"
      ]
     },
     "execution_count": 80,
     "metadata": {},
     "output_type": "execute_result"
    }
   ],
   "source": [
    "result.GetSolution(Q)"
   ]
  },
  {
   "cell_type": "code",
   "execution_count": null,
   "metadata": {},
   "outputs": [],
   "source": []
  },
  {
   "cell_type": "code",
   "execution_count": 73,
   "metadata": {},
   "outputs": [
    {
     "ename": "TypeError",
     "evalue": "'pydrake.symbolic.Variable' object is not subscriptable",
     "output_type": "error",
     "traceback": [
      "\u001b[0;31m---------------------------------------------------------------------------\u001b[0m",
      "\u001b[0;31mTypeError\u001b[0m                                 Traceback (most recent call last)",
      "Input \u001b[0;32mIn [73]\u001b[0m, in \u001b[0;36m<cell line: 11>\u001b[0;34m()\u001b[0m\n\u001b[1;32m      7\u001b[0m mx \u001b[38;5;241m=\u001b[39m np\u001b[38;5;241m.\u001b[39mhstack([x, y, x\u001b[38;5;241m*\u001b[39m\u001b[38;5;241m*\u001b[39m\u001b[38;5;241m2\u001b[39m, x\u001b[38;5;241m*\u001b[39my, y\u001b[38;5;241m*\u001b[39m\u001b[38;5;241m*\u001b[39m\u001b[38;5;241m2\u001b[39m, y\u001b[38;5;241m*\u001b[39mx\u001b[38;5;241m*\u001b[39m\u001b[38;5;241m*\u001b[39m\u001b[38;5;241m2\u001b[39m])\n\u001b[1;32m      9\u001b[0m expression \u001b[38;5;241m=\u001b[39m Polynomial(mx\u001b[38;5;241m.\u001b[39mT\u001b[38;5;129m@Q\u001b[39m\u001b[38;5;129m@mx\u001b[39m)\n\u001b[0;32m---> 11\u001b[0m original_expression \u001b[38;5;241m=\u001b[39m Polynomial(\u001b[38;5;241m10\u001b[39m \u001b[38;5;241m-\u001b[39m \u001b[43mx\u001b[49m\u001b[43m[\u001b[49m\u001b[38;5;241;43m0\u001b[39;49m\u001b[43m]\u001b[49m\u001b[38;5;241m*\u001b[39m\u001b[38;5;241m*\u001b[39m\u001b[38;5;241m2\u001b[39m \u001b[38;5;241m-\u001b[39m y[\u001b[38;5;241m0\u001b[39m])\n\u001b[1;32m     13\u001b[0m prog\u001b[38;5;241m.\u001b[39mAddEqualityConstraintBetweenPolynomials(expression, original_expression)\n\u001b[1;32m     14\u001b[0m \u001b[38;5;66;03m#prog.AddPositiveSemidefiniteConstraint(Q)\u001b[39;00m\n",
      "\u001b[0;31mTypeError\u001b[0m: 'pydrake.symbolic.Variable' object is not subscriptable"
     ]
    }
   ],
   "source": [
    "expression = Polynomial(mx.T@Q@mx)\n",
    "\n",
    "original_expression = Polynomial(10 - x[0]**2 - y[0])\n",
    "\n",
    "prog.AddEqualityConstraintBetweenPolynomials(expression, original_expression)\n",
    "#prog.AddPositiveSemidefiniteConstraint(Q)\n",
    "solver = MosekSolver()\n",
    "\n",
    "result = solver.Solve(prog)"
   ]
  },
  {
   "cell_type": "code",
   "execution_count": 63,
   "metadata": {},
   "outputs": [
    {
     "data": {
      "text/plain": [
       "array([[10. ,  0. , -0.5],\n",
       "       [ 0. , -1. ,  0. ],\n",
       "       [-0.5,  0. ,  0. ]])"
      ]
     },
     "execution_count": 63,
     "metadata": {},
     "output_type": "execute_result"
    }
   ],
   "source": [
    "result.GetSolution(Q)"
   ]
  },
  {
   "cell_type": "code",
   "execution_count": 64,
   "metadata": {},
   "outputs": [
    {
     "data": {
      "text/plain": [
       "<Expression \"(10 - y(0) - pow(x(0), 2))\">"
      ]
     },
     "execution_count": 64,
     "metadata": {},
     "output_type": "execute_result"
    }
   ],
   "source": [
    "mx.T@result.GetSolution(Q)@mx"
   ]
  },
  {
   "cell_type": "code",
   "execution_count": 65,
   "metadata": {},
   "outputs": [
    {
     "data": {
      "text/plain": [
       "array([10.02493781, -0.02493781, -1.        ])"
      ]
     },
     "execution_count": 65,
     "metadata": {},
     "output_type": "execute_result"
    }
   ],
   "source": [
    "np.linalg.eigvals(result.GetSolution(Q))"
   ]
  },
  {
   "cell_type": "code",
   "execution_count": 68,
   "metadata": {},
   "outputs": [],
   "source": [
    "Q_test = np.array([[9, 0, -1/2], [0, 0, 0], [-1/2, 0, 1]])"
   ]
  },
  {
   "cell_type": "code",
   "execution_count": 69,
   "metadata": {},
   "outputs": [
    {
     "data": {
      "text/plain": [
       "<Polynomial \"9*1 + -1*y(0) + 1*y(0)^2\">"
      ]
     },
     "execution_count": 69,
     "metadata": {},
     "output_type": "execute_result"
    }
   ],
   "source": [
    "Polynomial(mx.T@Q_test@mx)"
   ]
  },
  {
   "cell_type": "code",
   "execution_count": null,
   "metadata": {},
   "outputs": [],
   "source": []
  },
  {
   "cell_type": "code",
   "execution_count": 88,
   "metadata": {},
   "outputs": [],
   "source": [
    "prog = MathematicalProgram()\n",
    "S = prog.NewSymmetricContinuousVariables(2, \"S\")\n",
    "psd_constraint = prog.AddPositiveSemidefiniteConstraint(S)\n",
    "\n",
    "#prog.AddBoundingBoxConstraint(1, 1, S[1, 0])\n",
    "#prog.AddLinearCost(np.trace(S))\n",
    "result = Solve(prog)\n",
    "\n",
    "S_value = result.GetSolution(S)"
   ]
  },
  {
   "cell_type": "code",
   "execution_count": 89,
   "metadata": {},
   "outputs": [
    {
     "data": {
      "text/plain": [
       "array([0.70710678, 0.70710678])"
      ]
     },
     "execution_count": 89,
     "metadata": {},
     "output_type": "execute_result"
    }
   ],
   "source": [
    "np.linalg.eigvalsh(S_value)"
   ]
  },
  {
   "cell_type": "code",
   "execution_count": 90,
   "metadata": {},
   "outputs": [
    {
     "data": {
      "text/plain": [
       "array([[0.70710678, 0.        ],\n",
       "       [0.        , 0.70710678]])"
      ]
     },
     "execution_count": 90,
     "metadata": {},
     "output_type": "execute_result"
    }
   ],
   "source": [
    "S_value"
   ]
  },
  {
   "cell_type": "markdown",
   "metadata": {},
   "source": [
    "Try Groebner basis for Van der Pol oscillator"
   ]
  },
  {
   "cell_type": "code",
   "execution_count": 98,
   "metadata": {},
   "outputs": [],
   "source": [
    "x0, x1, xd0, xd1 = sp.symbols('x_0 x_1 xdot_0 xdot_1')\n",
    "g0 = xd0 + x1\n",
    "g1 = xd1 - x0 - (x0**2 - 1)*x1\n",
    "\n",
    "f = [- x1, x0 + (x0**2 - 1) * x1]\n",
    "\n",
    "V = 1.5*x0**2 + x1**2 - x0*x1\n",
    "Vdot = sp.Matrix([V]).jacobian(sp.Matrix([x0, x1])).dot(f)\n",
    "\n",
    "G = [g0, g1, Vdot]"
   ]
  },
  {
   "cell_type": "code",
   "execution_count": 118,
   "metadata": {},
   "outputs": [],
   "source": [
    "res = sp.groebner(G, x0, xd0, x1, xd1, order='grlex')"
   ]
  },
  {
   "cell_type": "code",
   "execution_count": 119,
   "metadata": {},
   "outputs": [
    {
     "data": {
      "text/latex": [
       "$\\displaystyle \\operatorname{GroebnerBasis}\\left(\\left( x_{1}^{5} + 4 x_{1}^{4} \\dot{x}_{1} + 4 x_{1}^{3} \\dot{x}_{1}^{2} - 6 x_{1}^{3} - 8 x_{1}^{2} \\dot{x}_{1} - 5 x_{1} \\dot{x}_{1}^{2} - \\dot{x}_{1}^{3}, \\  5 x_{0} \\dot{x}_{1}^{3} + 9 x_{1}^{4} + 33 x_{1}^{3} \\dot{x}_{1} + 25 x_{1}^{2} \\dot{x}_{1}^{2} - 54 x_{1}^{2} - 10 x_{1} \\dot{x}_{1}^{3} - 54 x_{1} \\dot{x}_{1} - 27 \\dot{x}_{1}^{2}, \\  9 x_{0}^{2} \\dot{x}_{1} + 5 x_{0} \\dot{x}_{1}^{2} - 27 x_{0} - 3 x_{1}^{3} - 11 x_{1}^{2} \\dot{x}_{1} - 10 x_{1} \\dot{x}_{1}^{2} + 27 x_{1} + 27 \\dot{x}_{1}, \\  3 x_{0} x_{1} + x_{0} \\dot{x}_{1} - x_{1}^{2} - 2 x_{1} \\dot{x}_{1}, \\  x_{1} + \\dot{x}_{0}\\right), \\left( x_{0}, \\  \\dot{x}_{0}, \\  x_{1}, \\  \\dot{x}_{1}\\right)\\right)$"
      ],
      "text/plain": [
       "GroebnerBasis([x_1**5 + 4*x_1**4*xdot_1 + 4*x_1**3*xdot_1**2 - 6*x_1**3 - 8*x_1**2*xdot_1 - 5*x_1*xdot_1**2 - xdot_1**3, 5*x_0*xdot_1**3 + 9*x_1**4 + 33*x_1**3*xdot_1 + 25*x_1**2*xdot_1**2 - 10*x_1*xdot_1**3 - 54*x_1**2 - 54*x_1*xdot_1 - 27*xdot_1**2, 9*x_0**2*xdot_1 + 5*x_0*xdot_1**2 - 3*x_1**3 - 11*x_1**2*xdot_1 - 10*x_1*xdot_1**2 - 27*x_0 + 27*x_1 + 27*xdot_1, 3*x_0*x_1 + x_0*xdot_1 - x_1**2 - 2*x_1*xdot_1, x_1 + xdot_0], x_0, xdot_0, x_1, xdot_1, domain='ZZ', order='grlex')"
      ]
     },
     "execution_count": 119,
     "metadata": {},
     "output_type": "execute_result"
    }
   ],
   "source": [
    "res"
   ]
  },
  {
   "cell_type": "code",
   "execution_count": 120,
   "metadata": {},
   "outputs": [],
   "source": [
    "ahem = list(res)"
   ]
  },
  {
   "cell_type": "code",
   "execution_count": 121,
   "metadata": {},
   "outputs": [
    {
     "name": "stdout",
     "output_type": "stream",
     "text": [
      "x_1**5\n",
      "5*x_0*xdot_1**3\n",
      "9*x_0**2*xdot_1\n",
      "3*x_0*x_1\n",
      "xdot_0\n"
     ]
    }
   ],
   "source": [
    "for element in ahem: \n",
    "    print(sp.LT(element, x0, xd0, x1, xd1, order='grlex'))"
   ]
  },
  {
   "cell_type": "code",
   "execution_count": 122,
   "metadata": {},
   "outputs": [],
   "source": [
    "a, b = sp.symbols('a b')"
   ]
  },
  {
   "cell_type": "code",
   "execution_count": 180,
   "metadata": {},
   "outputs": [],
   "source": [
    "import sympy as sp\n",
    "import numpy as np"
   ]
  },
  {
   "cell_type": "code",
   "execution_count": 409,
   "metadata": {},
   "outputs": [],
   "source": [
    "# implementing algorithm 1 in 2 dimensional indeterminates\n",
    "def find_support(f, Supp): \n",
    "    terms_f = f.terms()\n",
    "    for term in terms_f:\n",
    "        Supp.append(term[0])\n",
    "    return Supp\n",
    "# define the variables\n",
    "x, y = sp.symbols('x y')\n",
    "\n",
    "#define the max term (upper bound)\n",
    "max_x = 12\n",
    "max_y = 0\n",
    "max_term = x**max_x*y**max_y\n",
    "\n",
    "# define the polynomail f\n",
    "f = sp.Poly(-x**3, (x, y))\n",
    "    \n",
    "#define the ideal and find the Groebner basis\n",
    "I = [x**3 + y**6, x**2 - y**5]\n",
    "G = sp.groebner(I, x, y, order='grlex')\n",
    "G = list(G)\n",
    "\n",
    "#finding the support of f \n",
    "f_bar = sp.reduced(f, G, order='grlex')[1]\n",
    "Supp = []\n",
    "Supp = find_support(f_bar, Supp)\n",
    "\n",
    "#define x and y degree matrices for looping \n",
    "x_deg = np.linspace(0, 15, 16)\n",
    "y_deg = np.linspace(0, 15, 16)\n",
    "\n",
    "x_deg, y_deg = np.meshgrid(x_deg, y_deg)\n",
    "\n",
    "# for g in G: \n",
    "#     b1 = 3\n",
    "#     b2 = 3\n",
    "#     curr_term = x**b1*y**b2\n",
    "#     print(curr_term)\n",
    "#     comp_poly = sp.Poly(curr_term+max_term, (x, y))\n",
    "#     comp_LT = sp.LT(comp_poly, order='grlex')\n",
    "#     if comp_LT-max_term == 0: \n",
    "#         print('HERE')\n",
    "#         check_poly = sp.Poly(curr_term*g, (x, y))\n",
    "#         new_LT = sp.LT(check_poly, order='grlex')\n",
    "#         comp_poly = sp.Poly(new_LT+max_term, (x, y))\n",
    "#         comp_LT = sp.LT(comp_poly, order='grlex')\n",
    "#         if comp_LT-max_term==0: \n",
    "#             print('HERE')\n",
    "#             Supp = find_support(check_poly, Supp)\n",
    "            \n",
    "for g in G: \n",
    "    for i in range(len(x_deg)): \n",
    "        for j in range(len(y_deg)): \n",
    "            b1 = int(x_deg[i, j])\n",
    "            b2 = int(y_deg[i, j])\n",
    "            curr_term = x**b1*y**b2\n",
    "            comp_poly = sp.Poly(curr_term+max_term, (x, y))\n",
    "            comp_LT = sp.LT(comp_poly, order='grlex')\n",
    "            if comp_LT-max_term == 0 or max_x+max_y==b1+b2: \n",
    "                check_poly = sp.Poly(curr_term*g, (x, y))\n",
    "                new_LT = sp.LT(check_poly, order='grlex')\n",
    "                comp_poly = sp.Poly(new_LT+max_term, (x, y))\n",
    "                comp_LT = sp.LT(comp_poly, order='grlex')\n",
    "                if comp_LT-max_term==0 or sum(sp.degree_list(new_LT))==max_x+max_y: \n",
    "                    Supp = find_support(check_poly, Supp)\n",
    "\n",
    "xs = []\n",
    "ys = []\n",
    "for elem in Supp: \n",
    "    xs.append(elem[0])\n",
    "    ys.append(elem[1])\n",
    "    \n",
    "points = np.array([xs, ys]).T\n",
    "\n",
    "points_new = points/2\n",
    "\n",
    "conv_points = []\n",
    "for point in points_new: \n",
    "    int_point = np.array(point, dtype='int')\n",
    "    compare = int_point == point\n",
    "    if sum(compare) == len(point): \n",
    "        conv_points.append(point)\n",
    "conv_points = np.array(conv_points)\n",
    "\n",
    "hull = scipy.spatial.ConvexHull(conv_points)\n",
    "\n",
    "Nupp = []\n",
    "for point in conv_points: \n",
    "    b1 = int(point[0])\n",
    "    b2 = int(point[1])\n",
    "    \n",
    "    monomial = sp.Poly(x**b1*y**b2, (x, y))\n",
    "   \n",
    "    monomial_bar = sp.reduced(monomial, G, order='grlex')[1]\n",
    "\n",
    "    Nupp = find_support(monomial_bar, Nupp)\n",
    "    \n",
    "xns = []\n",
    "yns = []\n",
    "for elem in Nupp: \n",
    "    xns.append(elem[0])\n",
    "    yns.append(elem[1])"
   ]
  },
  {
   "cell_type": "code",
   "execution_count": 410,
   "metadata": {},
   "outputs": [
    {
     "data": {
      "image/png": "[encoded data removed]",
      "text/plain": [
       "<Figure size 432x288 with 1 Axes>"
      ]
     },
     "metadata": {
      "needs_background": "light"
     },
     "output_type": "display_data"
    }
   ],
   "source": [
    "import matplotlib.pyplot as plt\n",
    "\n",
    "plt.plot(conv_points[:,0], conv_points[:,1], 'o')\n",
    "\n",
    "for simplex in hull.simplices:\n",
    "\n",
    "    plt.plot(conv_points[simplex, 0], conv_points[simplex, 1], 'k-')"
   ]
  },
  {
   "cell_type": "code",
   "execution_count": 411,
   "metadata": {},
   "outputs": [
    {
     "data": {
      "text/plain": [
       "<matplotlib.collections.PathCollection at 0x7f879d00dee0>"
      ]
     },
     "execution_count": 411,
     "metadata": {},
     "output_type": "execute_result"
    },
    {
     "data": {
      "image/png": "[encoded data removed]",
      "text/plain": [
       "<Figure size 432x288 with 1 Axes>"
      ]
     },
     "metadata": {
      "needs_background": "light"
     },
     "output_type": "display_data"
    }
   ],
   "source": [
    "plt.scatter(xs, ys)"
   ]
  },
  {
   "cell_type": "code",
   "execution_count": 412,
   "metadata": {},
   "outputs": [
    {
     "data": {
      "text/plain": [
       "<matplotlib.collections.PathCollection at 0x7f879cf6bdc0>"
      ]
     },
     "execution_count": 412,
     "metadata": {},
     "output_type": "execute_result"
    },
    {
     "data": {
      "image/png": "[encoded data removed]",
      "text/plain": [
       "<Figure size 432x288 with 1 Axes>"
      ]
     },
     "metadata": {
      "needs_background": "light"
     },
     "output_type": "display_data"
    }
   ],
   "source": [
    "plt.scatter(xns, yns)"
   ]
  },
  {
   "cell_type": "code",
   "execution_count": 481,
   "metadata": {},
   "outputs": [],
   "source": [
    "# implementing algorithm 1 in 2 dimensional indeterminates in a faster/ generalized way\n",
    "def find_support(f, Supp): \n",
    "    terms_f = f.terms()\n",
    "    for term in terms_f:\n",
    "        Supp.append(term[0])\n",
    "    return Supp\n",
    "\n",
    "# define the variables\n",
    "x, y = sp.symbols('x y')\n",
    "syms_list = [x, y]\n",
    "\n",
    "#define the max term (upper bound)\n",
    "ordering = (x, y)\n",
    "max_degs = np.array([0, 8])\n",
    "max_term = np.prod(syms_list**max_degs)\n",
    "\n",
    "# define the polynomail f\n",
    "f = sp.Poly(-x**3 - x*y**2, (x, y))\n",
    "    \n",
    "#define the ideal and find the Groebner basis\n",
    "I = [x**3 + y**2]\n",
    "G = sp.groebner(I, x, y, order='grlex')\n",
    "G = list(G)\n",
    "\n",
    "#finding the support of f \n",
    "f_bar = sp.reduced(f, G, order='grlex')[1]\n",
    "Supp = []\n",
    "Supp = find_support(f_bar, Supp)\n",
    "\n",
    "#define x and y degree matrices for looping \n",
    "degree_lists = []\n",
    "for a_symbol in syms_list: \n",
    "    degree_lists.append(np.linspace(0, 15, 16))\n",
    "\n",
    "all_beta = np.array(np.meshgrid(*degree_lists)).T.reshape(-1, len(degree_lists))\n",
    "\n",
    "            \n",
    "for g in G: \n",
    "    for beta_i in all_beta: \n",
    "        beta = np.array(beta_i, dtype='int')\n",
    "        assert len(beta) == len(syms_list)\n",
    "        curr_term = np.prod(syms_list**beta)\n",
    "        comp_poly = sp.Poly(curr_term+max_term, ordering)\n",
    "        comp_LT = sp.LT(comp_poly, order='grlex')\n",
    "        \n",
    "        if comp_LT-max_term == 0 or np.sum(max_degs)==np.sum(beta): \n",
    "            check_poly = sp.Poly(curr_term*g, ordering)\n",
    "            new_LT = sp.LT(check_poly, order='grlex')\n",
    "            comp_poly = sp.Poly(new_LT+max_term, ordering)\n",
    "            comp_LT = sp.LT(comp_poly, order='grlex')\n",
    "            if comp_LT-max_term==0 or sum(sp.degree_list(new_LT))==np.sum(max_degs): \n",
    "                Supp = find_support(check_poly, Supp)\n",
    "\n",
    "xs = []\n",
    "ys = []\n",
    "for elem in Supp: \n",
    "    xs.append(elem[0])\n",
    "    ys.append(elem[1])\n",
    "    \n",
    "points = np.array([xs, ys]).T\n",
    "\n",
    "points_new = points/2\n",
    "\n",
    "conv_points = []\n",
    "for point in points_new: \n",
    "    int_point = np.array(point, dtype='int')\n",
    "    compare = int_point == point\n",
    "    if sum(compare) == len(point): \n",
    "        conv_points.append(point)\n",
    "conv_points = np.array(conv_points)\n",
    "\n",
    "hull = scipy.spatial.ConvexHull(conv_points)\n",
    "\n",
    "Nupp = []\n",
    "for point in conv_points: \n",
    "    b1 = int(point[0])\n",
    "    b2 = int(point[1])\n",
    "    \n",
    "    monomial = sp.Poly(x**b1*y**b2, (x, y))\n",
    "   \n",
    "    monomial_bar = sp.reduced(monomial, G, order='grlex')[1]\n",
    "\n",
    "    Nupp = find_support(monomial_bar, Nupp)\n",
    "    \n",
    "xns = []\n",
    "yns = []\n",
    "for elem in Nupp: \n",
    "    xns.append(elem[0])\n",
    "    yns.append(elem[1])"
   ]
  },
  {
   "cell_type": "code",
   "execution_count": 482,
   "metadata": {},
   "outputs": [
    {
     "data": {
      "text/plain": [
       "<matplotlib.collections.PathCollection at 0x7f879c53c430>"
      ]
     },
     "execution_count": 482,
     "metadata": {},
     "output_type": "execute_result"
    },
    {
     "data": {
      "image/png": "[encoded data removed]",
      "text/plain": [
       "<Figure size 432x288 with 1 Axes>"
      ]
     },
     "metadata": {
      "needs_background": "light"
     },
     "output_type": "display_data"
    }
   ],
   "source": [
    "plt.scatter(xs, ys)"
   ]
  },
  {
   "cell_type": "code",
   "execution_count": 483,
   "metadata": {},
   "outputs": [
    {
     "data": {
      "image/png": "[encoded data removed]",
      "text/plain": [
       "<Figure size 432x288 with 1 Axes>"
      ]
     },
     "metadata": {
      "needs_background": "light"
     },
     "output_type": "display_data"
    }
   ],
   "source": [
    "import matplotlib.pyplot as plt\n",
    "\n",
    "plt.plot(conv_points[:,0], conv_points[:,1], 'o')\n",
    "\n",
    "for simplex in hull.simplices:\n",
    "\n",
    "    plt.plot(conv_points[simplex, 0], conv_points[simplex, 1], 'k-')"
   ]
  },
  {
   "cell_type": "code",
   "execution_count": 484,
   "metadata": {},
   "outputs": [
    {
     "data": {
      "text/plain": [
       "<matplotlib.collections.PathCollection at 0x7f879c440100>"
      ]
     },
     "execution_count": 484,
     "metadata": {},
     "output_type": "execute_result"
    },
    {
     "data": {
      "image/png": "[encoded data removed]",
      "text/plain": [
       "<Figure size 432x288 with 1 Axes>"
      ]
     },
     "metadata": {
      "needs_background": "light"
     },
     "output_type": "display_data"
    }
   ],
   "source": [
    "plt.scatter(xns, yns)"
   ]
  },
  {
   "cell_type": "code",
   "execution_count": 500,
   "metadata": {},
   "outputs": [],
   "source": [
    "fin_points = np.array([xns, yns]).T"
   ]
  },
  {
   "cell_type": "code",
   "execution_count": 505,
   "metadata": {},
   "outputs": [
    {
     "data": {
      "text/plain": [
       "array([[0, 1],\n",
       "       [0, 1],\n",
       "       [0, 2],\n",
       "       [0, 3],\n",
       "       [2, 0],\n",
       "       [2, 1],\n",
       "       [2, 2],\n",
       "       [1, 1],\n",
       "       [1, 2],\n",
       "       [0, 2],\n",
       "       [0, 3],\n",
       "       [2, 1],\n",
       "       [1, 2]])"
      ]
     },
     "execution_count": 505,
     "metadata": {},
     "output_type": "execute_result"
    }
   ],
   "source": [
    "fin_points"
   ]
  },
  {
   "cell_type": "code",
   "execution_count": 506,
   "metadata": {},
   "outputs": [
    {
     "data": {
      "text/plain": [
       "array([[0, 1],\n",
       "       [0, 2],\n",
       "       [0, 3],\n",
       "       [1, 1],\n",
       "       [1, 2],\n",
       "       [2, 0],\n",
       "       [2, 1],\n",
       "       [2, 2]])"
      ]
     },
     "execution_count": 506,
     "metadata": {},
     "output_type": "execute_result"
    }
   ],
   "source": [
    "fin_points = np.unique(fin_points, axis=0)\n",
    "fin_points"
   ]
  },
  {
   "cell_type": "code",
   "execution_count": 507,
   "metadata": {},
   "outputs": [],
   "source": [
    "monomial_vec = []\n",
    "for i in range(len(fin_points)): \n",
    "    monomial_vec.append(x**fin_points[i, 0]*y**fin_points[i, 1])\n",
    "monomial_vec = sp.Matrix(monomial_vec)"
   ]
  },
  {
   "cell_type": "code",
   "execution_count": 508,
   "metadata": {},
   "outputs": [],
   "source": [
    "Q = sp.MatrixSymbol('Q', len(monomial_vec), len(monomial_vec))"
   ]
  },
  {
   "cell_type": "code",
   "execution_count": 509,
   "metadata": {},
   "outputs": [],
   "source": [
    "eqn = monomial_vec.T@sp.Matrix(Q)@monomial_vec"
   ]
  },
  {
   "cell_type": "code",
   "execution_count": 512,
   "metadata": {},
   "outputs": [],
   "source": [
    "eeee = eqn[0]"
   ]
  },
  {
   "cell_type": "code",
   "execution_count": 516,
   "metadata": {},
   "outputs": [
    {
     "data": {
      "text/latex": [
       "$\\displaystyle \\left[\\begin{matrix}y\\\\y^{2}\\\\y^{3}\\\\x y\\\\x y^{2}\\\\x^{2}\\\\x^{2} y\\\\x^{2} y^{2}\\end{matrix}\\right]$"
      ],
      "text/plain": [
       "Matrix([\n",
       "[        y],\n",
       "[     y**2],\n",
       "[     y**3],\n",
       "[      x*y],\n",
       "[   x*y**2],\n",
       "[     x**2],\n",
       "[   x**2*y],\n",
       "[x**2*y**2]])"
      ]
     },
     "execution_count": 516,
     "metadata": {},
     "output_type": "execute_result"
    }
   ],
   "source": [
    "monomial_vec"
   ]
  },
  {
   "cell_type": "code",
   "execution_count": 513,
   "metadata": {},
   "outputs": [
    {
     "data": {
      "text/latex": [
       "$\\displaystyle x^{2} y^{2} \\left(x^{2} y^{2} Q_{7, 7} + x^{2} y Q_{6, 7} + x^{2} Q_{5, 7} + x y^{2} Q_{4, 7} + x y Q_{3, 7} + y^{3} Q_{2, 7} + y^{2} Q_{1, 7} + y Q_{0, 7}\\right) + x^{2} y \\left(x^{2} y^{2} Q_{7, 6} + x^{2} y Q_{6, 6} + x^{2} Q_{5, 6} + x y^{2} Q_{4, 6} + x y Q_{3, 6} + y^{3} Q_{2, 6} + y^{2} Q_{1, 6} + y Q_{0, 6}\\right) + x^{2} \\left(x^{2} y^{2} Q_{7, 5} + x^{2} y Q_{6, 5} + x^{2} Q_{5, 5} + x y^{2} Q_{4, 5} + x y Q_{3, 5} + y^{3} Q_{2, 5} + y^{2} Q_{1, 5} + y Q_{0, 5}\\right) + x y^{2} \\left(x^{2} y^{2} Q_{7, 4} + x^{2} y Q_{6, 4} + x^{2} Q_{5, 4} + x y^{2} Q_{4, 4} + x y Q_{3, 4} + y^{3} Q_{2, 4} + y^{2} Q_{1, 4} + y Q_{0, 4}\\right) + x y \\left(x^{2} y^{2} Q_{7, 3} + x^{2} y Q_{6, 3} + x^{2} Q_{5, 3} + x y^{2} Q_{4, 3} + x y Q_{3, 3} + y^{3} Q_{2, 3} + y^{2} Q_{1, 3} + y Q_{0, 3}\\right) + y^{3} \\left(x^{2} y^{2} Q_{7, 2} + x^{2} y Q_{6, 2} + x^{2} Q_{5, 2} + x y^{2} Q_{4, 2} + x y Q_{3, 2} + y^{3} Q_{2, 2} + y^{2} Q_{1, 2} + y Q_{0, 2}\\right) + y^{2} \\left(x^{2} y^{2} Q_{7, 1} + x^{2} y Q_{6, 1} + x^{2} Q_{5, 1} + x y^{2} Q_{4, 1} + x y Q_{3, 1} + y^{3} Q_{2, 1} + y^{2} Q_{1, 1} + y Q_{0, 1}\\right) + y \\left(x^{2} y^{2} Q_{7, 0} + x^{2} y Q_{6, 0} + x^{2} Q_{5, 0} + x y^{2} Q_{4, 0} + x y Q_{3, 0} + y^{3} Q_{2, 0} + y^{2} Q_{1, 0} + y Q_{0, 0}\\right)$"
      ],
      "text/plain": [
       "x**2*y**2*(x**2*y**2*Q[7, 7] + x**2*y*Q[6, 7] + x**2*Q[5, 7] + x*y**2*Q[4, 7] + x*y*Q[3, 7] + y**3*Q[2, 7] + y**2*Q[1, 7] + y*Q[0, 7]) + x**2*y*(x**2*y**2*Q[7, 6] + x**2*y*Q[6, 6] + x**2*Q[5, 6] + x*y**2*Q[4, 6] + x*y*Q[3, 6] + y**3*Q[2, 6] + y**2*Q[1, 6] + y*Q[0, 6]) + x**2*(x**2*y**2*Q[7, 5] + x**2*y*Q[6, 5] + x**2*Q[5, 5] + x*y**2*Q[4, 5] + x*y*Q[3, 5] + y**3*Q[2, 5] + y**2*Q[1, 5] + y*Q[0, 5]) + x*y**2*(x**2*y**2*Q[7, 4] + x**2*y*Q[6, 4] + x**2*Q[5, 4] + x*y**2*Q[4, 4] + x*y*Q[3, 4] + y**3*Q[2, 4] + y**2*Q[1, 4] + y*Q[0, 4]) + x*y*(x**2*y**2*Q[7, 3] + x**2*y*Q[6, 3] + x**2*Q[5, 3] + x*y**2*Q[4, 3] + x*y*Q[3, 3] + y**3*Q[2, 3] + y**2*Q[1, 3] + y*Q[0, 3]) + y**3*(x**2*y**2*Q[7, 2] + x**2*y*Q[6, 2] + x**2*Q[5, 2] + x*y**2*Q[4, 2] + x*y*Q[3, 2] + y**3*Q[2, 2] + y**2*Q[1, 2] + y*Q[0, 2]) + y**2*(x**2*y**2*Q[7, 1] + x**2*y*Q[6, 1] + x**2*Q[5, 1] + x*y**2*Q[4, 1] + x*y*Q[3, 1] + y**3*Q[2, 1] + y**2*Q[1, 1] + y*Q[0, 1]) + y*(x**2*y**2*Q[7, 0] + x**2*y*Q[6, 0] + x**2*Q[5, 0] + x*y**2*Q[4, 0] + x*y*Q[3, 0] + y**3*Q[2, 0] + y**2*Q[1, 0] + y*Q[0, 0])"
      ]
     },
     "execution_count": 513,
     "metadata": {},
     "output_type": "execute_result"
    }
   ],
   "source": [
    "sp.simplify(eeee)"
   ]
  },
  {
   "cell_type": "code",
   "execution_count": 514,
   "metadata": {},
   "outputs": [
    {
     "data": {
      "text/latex": [
       "$\\displaystyle \\operatorname{Poly}{\\left( -xy^{2} + y^{2}, x, y, domain=\\mathbb{Z} \\right)}$"
      ],
      "text/plain": [
       "Poly(-x*y**2 + y**2, x, y, domain='ZZ')"
      ]
     },
     "execution_count": 514,
     "metadata": {},
     "output_type": "execute_result"
    }
   ],
   "source": [
    "f_bar"
   ]
  },
  {
   "cell_type": "code",
   "execution_count": 535,
   "metadata": {},
   "outputs": [],
   "source": [
    "prog = MathematicalProgram()\n",
    "x = prog.NewIndeterminates(1, 'x')[0]\n",
    "y = prog.NewIndeterminates(1, 'y')[0]\n",
    "\n",
    "monomial_vec = np.array([y, y**2, y**3, x*y, x*y**2, x**2, x**2*y, x**2*y**2])\n",
    "\n",
    "Q = prog.NewContinuousVariables(8, 8, 'Q')\n",
    "\n",
    "polynom = monomial_vec.T@Q@monomial_vec\n",
    "\n",
    "fb = -x*y**2 + y**2\n",
    "\n",
    "prog.AddEqualityConstraintBetweenPolynomials(Polynomial(polynom), Polynomial(fb))\n",
    "\n",
    "prog.AddPositiveSemidefiniteConstraint(Q)\n",
    "result = Solve(prog)\n"
   ]
  },
  {
   "cell_type": "code",
   "execution_count": 536,
   "metadata": {},
   "outputs": [
    {
     "data": {
      "text/plain": [
       "array([-4.31597404e-02+0.j       ,  1.39217152e+00+0.j       ,\n",
       "        6.16178547e-01+0.j       ,  7.80769673e-01+0.j       ,\n",
       "        7.42252962e-01+0.j       ,  9.24513179e-01+0.j       ,\n",
       "        1.63253971e-06+0.0015505j,  1.63253971e-06-0.0015505j])"
      ]
     },
     "execution_count": 536,
     "metadata": {},
     "output_type": "execute_result"
    }
   ],
   "source": [
    "np.linalg.eigvals(result.GetSolution(Q))"
   ]
  },
  {
   "cell_type": "code",
   "execution_count": 537,
   "metadata": {},
   "outputs": [
    {
     "name": "stdout",
     "output_type": "stream",
     "text": [
      "[[ 1.00000000e+00  2.97473259e-16 -7.42244628e-01 -8.06281992e-01\n",
      "   5.17566445e-16  3.89166107e-20 -4.38988283e-01  1.02607076e-16]\n",
      " [-2.28439273e-16  7.42239672e-01  9.53144988e-20  5.17566445e-16\n",
      "  -1.23045668e-03 -4.38988283e-01  1.02607076e-16 -4.62268886e-01]\n",
      " [ 4.95823202e-06 -6.39839838e-20  1.87422001e-09 -1.23045668e-03\n",
      "  -2.98556397e-20  1.02607076e-16 -4.62268886e-01  2.00787649e-25]\n",
      " [-1.93718006e-01 -1.05183916e-15  7.16953758e-06  9.64502235e-01\n",
      "   1.02607076e-16  3.55320562e-20  1.02724311e-03  2.76336298e-17]\n",
      " [-3.75827748e-17  2.45374382e-03  2.92770725e-20 -3.00291093e-17\n",
      "   9.24529731e-01  1.02724311e-03  2.76336298e-17  1.02237416e-06]\n",
      " [-3.41799056e-20  5.50870567e-06  1.17578516e-24 -4.47558937e-20\n",
      "  -1.85517342e-06  1.87422001e-09 -4.29531607e-20 -7.81457767e-01]\n",
      " [-8.65311755e-02 -4.15575541e-16  2.84658075e-06 -2.05263105e-03\n",
      "  -5.05293937e-17  3.31960966e-20  7.81457768e-01 -4.29900800e-20]\n",
      " [-4.27792850e-20  5.19634283e-06  2.13852974e-24 -1.31148048e-20\n",
      "  -1.02237416e-06  3.25637626e-10  3.33711304e-20  1.87422001e-09]]\n"
     ]
    }
   ],
   "source": [
    "print(result.GetSolution(Q))"
   ]
  },
  {
   "cell_type": "code",
   "execution_count": null,
   "metadata": {},
   "outputs": [],
   "source": []
  },
  {
   "cell_type": "code",
   "execution_count": 518,
   "metadata": {},
   "outputs": [
    {
     "data": {
      "text/plain": [
       "<Expression \"((x(0) * y(0) * ((x(0) * y(0) * Q(3,3)) + (x(0) * pow(y(0), 2) * Q(4,3)) + (pow(x(0), 2) * y(0) * Q(6,3)) + (pow(x(0), 2) * pow(y(0), 2) * Q(7,3)) + (pow(x(0), 2) * Q(5,3)) + (y(0) * Q(0,3)) + (pow(y(0), 2) * Q(1,3)) + (pow(y(0), 3) * Q(2,3)))) + (x(0) * pow(y(0), 2) * ((x(0) * y(0) * Q(3,4)) + (x(0) * pow(y(0), 2) * Q(4,4)) + (pow(x(0), 2) * y(0) * Q(6,4)) + (pow(x(0), 2) * pow(y(0), 2) * Q(7,4)) + (pow(x(0), 2) * Q(5,4)) + (y(0) * Q(0,4)) + (pow(y(0), 2) * Q(1,4)) + (pow(y(0), 3) * Q(2,4)))) + (pow(x(0), 2) * y(0) * ((x(0) * y(0) * Q(3,6)) + (x(0) * pow(y(0), 2) * Q(4,6)) + (pow(x(0), 2) * y(0) * Q(6,6)) + (pow(x(0), 2) * pow(y(0), 2) * Q(7,6)) + (pow(x(0), 2) * Q(5,6)) + (y(0) * Q(0,6)) + (pow(y(0), 2) * Q(1,6)) + (pow(y(0), 3) * Q(2,6)))) + (pow(x(0), 2) * pow(y(0), 2) * ((x(0) * y(0) * Q(3,7)) + (x(0) * pow(y(0), 2) * Q(4,7)) + (pow(x(0), 2) * y(0) * Q(6,7)) + (pow(x(0), 2) * pow(y(0), 2) * Q(7,7)) + (pow(x(0), 2) * Q(5,7)) + (y(0) * Q(0,7)) + (pow(y(0), 2) * Q(1,7)) + (pow(y(0), 3) * Q(2,7)))) + (pow(x(0), 2) * ((x(0) * y(0) * Q(3,5)) + (x(0) * pow(y(0), 2) * Q(4,5)) + (pow(x(0), 2) * y(0) * Q(6,5)) + (pow(x(0), 2) * pow(y(0), 2) * Q(7,5)) + (pow(x(0), 2) * Q(5,5)) + (y(0) * Q(0,5)) + (pow(y(0), 2) * Q(1,5)) + (pow(y(0), 3) * Q(2,5)))) + (y(0) * ((x(0) * y(0) * Q(3,0)) + (x(0) * pow(y(0), 2) * Q(4,0)) + (pow(x(0), 2) * y(0) * Q(6,0)) + (pow(x(0), 2) * pow(y(0), 2) * Q(7,0)) + (pow(x(0), 2) * Q(5,0)) + (y(0) * Q(0,0)) + (pow(y(0), 2) * Q(1,0)) + (pow(y(0), 3) * Q(2,0)))) + (pow(y(0), 2) * ((x(0) * y(0) * Q(3,1)) + (x(0) * pow(y(0), 2) * Q(4,1)) + (pow(x(0), 2) * y(0) * Q(6,1)) + (pow(x(0), 2) * pow(y(0), 2) * Q(7,1)) + (pow(x(0), 2) * Q(5,1)) + (y(0) * Q(0,1)) + (pow(y(0), 2) * Q(1,1)) + (pow(y(0), 3) * Q(2,1)))) + (pow(y(0), 3) * ((x(0) * y(0) * Q(3,2)) + (x(0) * pow(y(0), 2) * Q(4,2)) + (pow(x(0), 2) * y(0) * Q(6,2)) + (pow(x(0), 2) * pow(y(0), 2) * Q(7,2)) + (pow(x(0), 2) * Q(5,2)) + (y(0) * Q(0,2)) + (pow(y(0), 2) * Q(1,2)) + (pow(y(0), 3) * Q(2,2)))))\">"
      ]
     },
     "execution_count": 518,
     "metadata": {},
     "output_type": "execute_result"
    }
   ],
   "source": [
    "polynom"
   ]
  },
  {
   "cell_type": "code",
   "execution_count": 463,
   "metadata": {},
   "outputs": [],
   "source": [
    "a = np.array([1, 2])\n",
    "b = np.array([3, 4])\n",
    "c = np.array([5, 6])\n",
    "\n",
    "e = [a, b, c]\n",
    "\n",
    "d = np.array(np.meshgrid(*e)).T.reshape(-1, 3)"
   ]
  },
  {
   "cell_type": "code",
   "execution_count": 470,
   "metadata": {},
   "outputs": [],
   "source": [
    "llll = [x, y]**d[0][0:2]"
   ]
  },
  {
   "cell_type": "code",
   "execution_count": 475,
   "metadata": {},
   "outputs": [
    {
     "data": {
      "text/latex": [
       "$\\displaystyle x y^{3}$"
      ],
      "text/plain": [
       "x*y**3"
      ]
     },
     "execution_count": 475,
     "metadata": {},
     "output_type": "execute_result"
    }
   ],
   "source": [
    "np.prod(llll)"
   ]
  },
  {
   "cell_type": "code",
   "execution_count": 469,
   "metadata": {},
   "outputs": [
    {
     "data": {
      "text/plain": [
       "array([1, 3, 5])"
      ]
     },
     "execution_count": 469,
     "metadata": {},
     "output_type": "execute_result"
    }
   ],
   "source": [
    "d[0]"
   ]
  },
  {
   "cell_type": "code",
   "execution_count": 425,
   "metadata": {},
   "outputs": [],
   "source": [
    "ll = [1, 2, 3, 4]"
   ]
  },
  {
   "cell_type": "code",
   "execution_count": 434,
   "metadata": {},
   "outputs": [],
   "source": [
    "pp = [k*1 for k in ll]"
   ]
  },
  {
   "cell_type": "code",
   "execution_count": 435,
   "metadata": {},
   "outputs": [
    {
     "data": {
      "text/plain": [
       "[1, 2, 3, 4]"
      ]
     },
     "execution_count": 435,
     "metadata": {},
     "output_type": "execute_result"
    }
   ],
   "source": [
    "pp"
   ]
  },
  {
   "cell_type": "code",
   "execution_count": null,
   "metadata": {},
   "outputs": [],
   "source": []
  }
 ],
 "metadata": {
  "kernelspec": {
   "display_name": "Python 3 (ipykernel)",
   "language": "python",
   "name": "python3"
  },
  "language_info": {
   "codemirror_mode": {
    "name": "ipython",
    "version": 3
   },
   "file_extension": ".py",
   "mimetype": "text/x-python",
   "name": "python",
   "nbconvert_exporter": "python",
   "pygments_lexer": "ipython3",
   "version": "3.8.10"
  }
 },
 "nbformat": 4,
 "nbformat_minor": 4
}
