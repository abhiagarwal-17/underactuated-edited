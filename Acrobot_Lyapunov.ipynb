{
 "cells": [
  {
   "cell_type": "code",
   "execution_count": 114,
   "metadata": {},
   "outputs": [],
   "source": [
    "from pydrake.examples.acrobot import (AcrobotGeometry, AcrobotInput,\n",
    "                                      AcrobotPlant, AcrobotState, AcrobotParams)\n",
    "from pydrake.all import Linearize, LinearQuadraticRegulator, SymbolicVectorSystem, Variable, Saturation, \\\n",
    "WrapToSystem, Simulator\n",
    "\n",
    "from pydrake.systems.framework import DiagramBuilder\n",
    "from pydrake.systems.primitives import LogVectorOutput\n",
    "\n",
    "from IPython.display import SVG, display\n",
    "import pydot\n",
    "import numpy as np\n",
    "import math\n",
    "import control\n",
    "\n",
    "import matplotlib.pyplot as plt"
   ]
  },
  {
   "cell_type": "code",
   "execution_count": 2,
   "metadata": {},
   "outputs": [],
   "source": [
    "p = AcrobotParams()"
   ]
  },
  {
   "cell_type": "code",
   "execution_count": 4,
   "metadata": {},
   "outputs": [],
   "source": [
    "m1 = p.m1()\n",
    "m2 = p.m2()\n",
    "l1 = p.l1()\n",
    "lc1 = p.lc1()\n",
    "lc2 = p.lc2()\n",
    "Ic1 = p.Ic1()\n",
    "Ic2 = p.Ic2()\n",
    "b1 = p.b1()\n",
    "b2 = p.b2()\n",
    "gravity = p.gravity()"
   ]
  },
  {
   "cell_type": "code",
   "execution_count": 5,
   "metadata": {},
   "outputs": [],
   "source": [
    "I1 = Ic1 + m1*lc1**2\n",
    "I2 = Ic2 + m2*lc2**2"
   ]
  },
  {
   "cell_type": "code",
   "execution_count": 8,
   "metadata": {},
   "outputs": [],
   "source": [
    "# enter the linearized matrices\n",
    "E = np.array([[1, 0, 0, 0], \\\n",
    "              [0, 1, 0, 0], \\\n",
    "              [0, 0, I1 + I2 + m2*l1**2 + 2*m2*l1*lc2, I2 + m2*l1*lc2], \\\n",
    "              [0, 0, I2 + m2*l1*lc2, I2]])\n",
    "\n",
    "A = np.array([[0, 0, -1, 0], \\\n",
    "              [0, 0, 0, -1], \\\n",
    "              [-m1*gravity*lc1+m2*gravity*(-l1-lc2), -m2*gravity*lc2, b1, 0], \\\n",
    "              [-m2*gravity*lc2, -m2*gravity*lc2, 0, b2]])\n",
    "\n",
    "B = np.array([[0], [0], [0], [-1]])\n",
    "\n",
    "A = -A\n",
    "B = -B"
   ]
  },
  {
   "cell_type": "code",
   "execution_count": 11,
   "metadata": {},
   "outputs": [],
   "source": [
    "Q = np.diag([10, 10, 1, 1])\n",
    "R = [1]\n",
    "\n",
    "X, L, K = control.care(A, B, Q, R, E=E)"
   ]
  },
  {
   "cell_type": "code",
   "execution_count": 12,
   "metadata": {},
   "outputs": [
    {
     "data": {
      "text/plain": [
       "array([[-278.44223126, -112.29125985, -119.72457377,  -56.82824017]])"
      ]
     },
     "execution_count": 12,
     "metadata": {},
     "output_type": "execute_result"
    }
   ],
   "source": [
    "K"
   ]
  },
  {
   "cell_type": "code",
   "execution_count": 32,
   "metadata": {},
   "outputs": [
    {
     "data": {
      "text/plain": [
       "array([2.10360973e+03, 2.05043095e+00, 9.98528759e-01, 7.65896243e-03])"
      ]
     },
     "execution_count": 32,
     "metadata": {},
     "output_type": "execute_result"
    }
   ],
   "source": [
    "A_cloop = A-B@K\n",
    "Q_lyap = np.eye(4)\n",
    "\n",
    "P = control.lyap(A_cloop.T, Q_lyap, E = E.T)\n",
    "\n",
    "np.linalg.eigvals(P)"
   ]
  },
  {
   "cell_type": "code",
   "execution_count": 115,
   "metadata": {},
   "outputs": [
    {
     "data": {
      "image/png": "[encoded data removed]",
      "text/plain": [
       "<Figure size 432x288 with 1 Axes>"
      ]
     },
     "metadata": {
      "needs_background": "light"
     },
     "output_type": "display_data"
    }
   ],
   "source": [
    "# try out the controller\n",
    "t1 = Variable(\"t1\")\n",
    "t2 = Variable(\"t2\")\n",
    "td1 = Variable(\"td1\")\n",
    "td2 = Variable(\"td2\")\n",
    "garbage = Variable(\"garbage\")\n",
    "\n",
    "x = np.hstack([t1, t2, td1, td2])\n",
    "u = -K@(x  - UprightState().CopyToVector())\n",
    "\n",
    "own_controller = SymbolicVectorSystem(state=[garbage], input=x, dynamics=np.array([0]), output=u)\n",
    "\n",
    "def acrobot_balancing_example():\n",
    "\n",
    "    builder = DiagramBuilder()\n",
    "    acrobot = builder.AddSystem(AcrobotPlant())\n",
    "\n",
    "    saturation = builder.AddSystem(Saturation(min_value=[-10], max_value=[10]))\n",
    "    builder.Connect(saturation.get_output_port(0), acrobot.get_input_port(0))\n",
    "    wrapangles = WrapToSystem(4)\n",
    "    wrapangles.set_interval(0, 0, 2. * np.pi)\n",
    "    wrapangles.set_interval(1, -np.pi, np.pi)\n",
    "    wrapto = builder.AddSystem(wrapangles)\n",
    "    builder.Connect(acrobot.get_output_port(0), wrapto.get_input_port(0))\n",
    "    controller = builder.AddSystem(own_controller)\n",
    "    builder.Connect(wrapto.get_output_port(0), controller.get_input_port(0))\n",
    "    builder.Connect(controller.get_output_port(0), saturation.get_input_port(0))\n",
    "    \n",
    "    logger = LogVectorOutput(wrapto.get_output_port(0), builder)\n",
    "\n",
    "#     # Setup visualization\n",
    "#     scene_graph = builder.AddSystem(SceneGraph())\n",
    "#     AcrobotGeometry.AddToBuilder(builder, acrobot.get_output_port(0), scene_graph)\n",
    "#     meshcat.Delete()\n",
    "#     meshcat.Set2dRenderMode(xmin=-4, xmax=4, ymin=-4, ymax=4)\n",
    "#     MeshcatVisualizerCpp.AddToBuilder(builder, scene_graph, meshcat)\n",
    "\n",
    "    diagram = builder.Build()\n",
    "    \n",
    "#     simulator = Simulator(diagram)\n",
    "#     context = simulator.get_mutable_context()\n",
    "#     print(context)\n",
    "#     display(SVG(pydot.graph_from_dot_data(\n",
    "#     diagram.GetGraphvizString(max_depth=2))[0].create_svg()))\n",
    "\n",
    "    # Set up a simulator to run this diagram\n",
    "    simulator = Simulator(diagram)\n",
    "    context = simulator.get_mutable_context()\n",
    "\n",
    "    # Simulate\n",
    "    simulator.set_target_realtime_rate(0.0)\n",
    "    duration = 4.0 \n",
    "    for i in range(1):\n",
    "        context.SetTime(0.)\n",
    "        context.SetContinuousState(np.append(UprightState().CopyToVector(), 0) +\n",
    "                                0.05 * np.random.randn(5,))\n",
    "        simulator.Initialize()\n",
    "        simulator.AdvanceTo(duration)\n",
    "        \n",
    "        log = logger.FindLog(context)\n",
    "        plt.figure()\n",
    "        plt.plot(log.sample_times(), log.data().transpose())\n",
    "        plt.xlabel('t')\n",
    "        plt.ylabel('y(t)');\n",
    "\n",
    "acrobot_balancing_example()"
   ]
  },
  {
   "cell_type": "code",
   "execution_count": 103,
   "metadata": {},
   "outputs": [
    {
     "data": {
      "text/plain": [
       "array([ 3.09582565,  0.00313207, -0.08825696,  0.07258637])"
      ]
     },
     "execution_count": 103,
     "metadata": {},
     "output_type": "execute_result"
    }
   ],
   "source": [
    "UprightState().CopyToVector() + 0.05 * np.random.randn(4,)"
   ]
  },
  {
   "cell_type": "code",
   "execution_count": 15,
   "metadata": {},
   "outputs": [],
   "source": [
    "ACRO = AcrobotPlant()"
   ]
  },
  {
   "cell_type": "code",
   "execution_count": 93,
   "metadata": {},
   "outputs": [],
   "source": [
    "def UprightState():\n",
    "    state = AcrobotState()\n",
    "    state.set_theta1(np.pi)\n",
    "    state.set_theta2(0.)\n",
    "    state.set_theta1dot(0.)\n",
    "    state.set_theta2dot(0.)\n",
    "    return state\n",
    "\n",
    "context = ACRO.CreateDefaultContext()\n",
    "input = AcrobotInput()\n",
    "input.set_tau(0)\n",
    "ACRO.get_input_port(0).FixValue(context, input)\n",
    "\n",
    "context.get_mutable_continuous_state_vector().SetFromVector(UprightState().CopyToVector())"
   ]
  },
  {
   "cell_type": "code",
   "execution_count": 57,
   "metadata": {},
   "outputs": [],
   "source": [
    "linearized_acro = Linearize(ACRO, context)\n",
    "\n",
    "LQR = LinearQuadraticRegulator(linearized_acro.A(), linearized_acro.B(), Q, R)"
   ]
  },
  {
   "cell_type": "code",
   "execution_count": 58,
   "metadata": {},
   "outputs": [
    {
     "data": {
      "text/plain": [
       "(array([[-278.44223126, -112.29125985, -119.72457377,  -56.82824017]]),\n",
       " array([[16620.60660543,  7470.1873401 ,  7240.12368147,  3571.58116271],\n",
       "        [ 7470.1873401 ,  3374.43640793,  3256.40272521,  1608.54161654],\n",
       "        [ 7240.12368147,  3256.40272521,  3154.73036214,  1556.50607291],\n",
       "        [ 3571.58116271,  1608.54161654,  1556.50607291,   768.33308414]]))"
      ]
     },
     "execution_count": 58,
     "metadata": {},
     "output_type": "execute_result"
    }
   ],
   "source": [
    "LQR"
   ]
  },
  {
   "cell_type": "code",
   "execution_count": 45,
   "metadata": {},
   "outputs": [],
   "source": [
    "c = ACRO.get_mutable_state(context)"
   ]
  },
  {
   "cell_type": "code",
   "execution_count": 49,
   "metadata": {},
   "outputs": [],
   "source": [
    "d = ACRO.get_state(context)"
   ]
  },
  {
   "cell_type": "code",
   "execution_count": 52,
   "metadata": {},
   "outputs": [
    {
     "data": {
      "text/plain": [
       "pydrake.examples.acrobot.AcrobotState"
      ]
     },
     "execution_count": 52,
     "metadata": {},
     "output_type": "execute_result"
    }
   ],
   "source": [
    "type(d)"
   ]
  },
  {
   "cell_type": "code",
   "execution_count": 53,
   "metadata": {},
   "outputs": [
    {
     "data": {
      "text/plain": [
       "pydrake.examples.acrobot.AcrobotState"
      ]
     },
     "execution_count": 53,
     "metadata": {},
     "output_type": "execute_result"
    }
   ],
   "source": [
    "type(c)"
   ]
  },
  {
   "cell_type": "code",
   "execution_count": null,
   "metadata": {},
   "outputs": [],
   "source": []
  }
 ],
 "metadata": {
  "kernelspec": {
   "display_name": "Python 3",
   "language": "python",
   "name": "python3"
  },
  "language_info": {
   "codemirror_mode": {
    "name": "ipython",
    "version": 3
   },
   "file_extension": ".py",
   "mimetype": "text/x-python",
   "name": "python",
   "nbconvert_exporter": "python",
   "pygments_lexer": "ipython3",
   "version": "3.8.10"
  }
 },
 "nbformat": 4,
 "nbformat_minor": 4
}
