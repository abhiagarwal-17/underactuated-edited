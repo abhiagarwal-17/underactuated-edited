{
 "cells": [
  {
   "cell_type": "code",
   "execution_count": 10,
   "metadata": {},
   "outputs": [],
   "source": [
    "from pydrake.examples.acrobot import (AcrobotGeometry, AcrobotInput,\n",
    "                                      AcrobotPlant, AcrobotState, AcrobotParams)\n",
    "from pydrake.all import Linearize, LinearQuadraticRegulator, SymbolicVectorSystem, Variable, Saturation, \\\n",
    "WrapToSystem, Simulator, Polynomial\n",
    "\n",
    "from pydrake.systems.framework import DiagramBuilder\n",
    "from pydrake.systems.primitives import LogVectorOutput\n",
    "\n",
    "from IPython.display import SVG, display\n",
    "import pydot\n",
    "import numpy as np\n",
    "import math\n",
    "import control\n",
    "\n",
    "import matplotlib.pyplot as plt\n",
    "from mpl_toolkits.mplot3d import Axes3D\n",
    "%matplotlib notebook\n",
    "\n",
    "import pydrake.forwarddiff as pf\n",
    "import time\n",
    "\n",
    "from IPython.display import display, Math, Markdown\n",
    "from pydrake.examples.pendulum import PendulumPlant\n",
    "from pydrake.examples.acrobot import AcrobotPlant\n",
    "from pydrake.all import MultibodyPlant, Parser, SinCos, MakeVectorVariable, ToLatex, Substitute, Box\n",
    "from underactuated import FindResource\n",
    "from underactuated.scenarios import AddShape\n",
    "\n",
    "from pydrake.all import (Jacobian, MathematicalProgram, Polynomial,\n",
    "                         RegionOfAttraction, RegionOfAttractionOptions, Solve,\n",
    "                         SymbolicVectorSystem, ToLatex, Variable, Variables,\n",
    "                         plot_sublevelset_expression, AddMultibodyPlantSceneGraph, SolverOptions, \n",
    "                         CommonSolverOption)\n",
    "\n",
    "from pydrake.solvers.mosek import MosekSolver\n",
    "import sympy as sp\n",
    "from sympy.physics.vector import dynamicsymbols as dynamicsymbols\n",
    "\n",
    "from IPython.display import display, Math\n",
    "from pydrake.examples.pendulum import PendulumPlant\n",
    "from pydrake.examples.acrobot import AcrobotPlant\n",
    "from pydrake.all import MultibodyPlant, Parser, SinCos, MakeVectorVariable, ToLatex, Substitute, Box\n",
    "from underactuated import FindResource\n",
    "from underactuated.scenarios import AddShape\n",
    "\n",
    "from pydrake.examples.quadrotor import (QuadrotorGeometry, QuadrotorPlant,\n",
    "                                        StabilizingLQRController)\n",
    "\n",
    "from underactuated.quadrotor2d import Quadrotor2D, Quadrotor2DVisualizer\n"
   ]
  },
  {
   "cell_type": "code",
   "execution_count": 12,
   "metadata": {},
   "outputs": [
    {
     "data": {
      "text/markdown": [
       "$\\begin{bmatrix} ( - v_{0} + \\dot{q}_{0}) \\\\ ( - v_{1} + \\dot{q}_{1}) \\\\ ( - v_{2} + \\dot{q}_{2}) \\\\ \\dot{v}_{0} \\\\ (9.81 + \\dot{v}_{1}) \\\\ \\dot{v}_{2} \\end{bmatrix}= 0$"
      ],
      "text/plain": [
       "<IPython.core.display.Markdown object>"
      ]
     },
     "metadata": {},
     "output_type": "display_data"
    },
    {
     "data": {
      "text/plain": [
       "(array([<Expression \"( - v(0) + \\dot{q}(0))\">,\n",
       "        <Expression \"( - v(1) + \\dot{q}(1))\">,\n",
       "        <Expression \"( - v(2) + \\dot{q}(2))\">, <Expression \"\\dot{v}(0)\">,\n",
       "        <Expression \"(9.8100000000000005 + \\dot{v}(1))\">,\n",
       "        <Expression \"\\dot{v}(2)\">], dtype=object),\n",
       " array([Variable('q(0)', Continuous), Variable('q(1)', Continuous),\n",
       "        Variable('q(2)', Continuous)], dtype=object),\n",
       " array([Variable('v(0)', Continuous), Variable('v(1)', Continuous),\n",
       "        Variable('v(2)', Continuous)], dtype=object),\n",
       " array([Variable('\\dot{q}(0)', Continuous),\n",
       "        Variable('\\dot{q}(1)', Continuous),\n",
       "        Variable('\\dot{q}(2)', Continuous)], dtype=object),\n",
       " array([Variable('\\dot{v}(0)', Continuous),\n",
       "        Variable('\\dot{v}(1)', Continuous),\n",
       "        Variable('\\dot{v}(2)', Continuous)], dtype=object),\n",
       " array([Variable('s(0)', Continuous), Variable('s(1)', Continuous),\n",
       "        Variable('s(2)', Continuous)], dtype=object),\n",
       " array([Variable('c(0)', Continuous), Variable('c(1)', Continuous),\n",
       "        Variable('c(2)', Continuous)], dtype=object))"
      ]
     },
     "execution_count": 12,
     "metadata": {},
     "output_type": "execute_result"
    }
   ],
   "source": [
    "def PrintImplicitPolynomialDynamics(plant,\n",
    "                                    context,\n",
    "                                    sincos_indices):\n",
    "    sym_plant = plant.ToSymbolic()\n",
    "    sym_context = sym_plant.CreateDefaultContext()\n",
    "    sym_context.SetTimeStateAndParametersFrom(context)\n",
    "    sym_plant.FixInputPortsFrom(plant, context, sym_context)\n",
    "\n",
    "    state = sym_context.get_continuous_state()\n",
    "    derivatives = sym_context.Clone().get_mutable_continuous_state()\n",
    "\n",
    "    q = MakeVectorVariable(state.num_q(), \"q\")\n",
    "    v = MakeVectorVariable(state.num_v(), \"v\")\n",
    "    qd = MakeVectorVariable(state.num_q(), \"\\dot{q}\")\n",
    "    vd = MakeVectorVariable(state.num_v(), \"\\dot{v}\")\n",
    "\n",
    "    state.SetFromVector(np.hstack((q, v)))\n",
    "    derivatives.SetFromVector(np.hstack((qd, vd)))\n",
    "    residual = sym_plant.CalcImplicitTimeDerivativesResidual(\n",
    "        sym_context, derivatives)\n",
    "        \n",
    "    s = MakeVectorVariable(state.num_q(), \"s\")\n",
    "    c = MakeVectorVariable(state.num_q(), \"c\")\n",
    "    subs = {}\n",
    "    for i in sincos_indices:\n",
    "        subs[q[i]] = SinCos(s[i], c[i])\n",
    "    \n",
    "    dynamics = Substitute(residual, subs)\n",
    "    dynamics = residual\n",
    "\n",
    "    display(Markdown(\"$\"+ToLatex(dynamics, 2) + \"= 0$\"))\n",
    "    \n",
    "    return dynamics, q, v, qd, vd, s, c\n",
    "\n",
    "\n",
    "plant = Quadrotor2D()\n",
    "context = plant.CreateDefaultContext()\n",
    "plant.get_input_port().FixValue(context, [0, 0])\n",
    "indices = [0, 1]\n",
    "PrintImplicitPolynomialDynamics(plant, context, indices)"
   ]
  },
  {
   "cell_type": "code",
   "execution_count": null,
   "metadata": {},
   "outputs": [],
   "source": []
  },
  {
   "cell_type": "code",
   "execution_count": 20,
   "metadata": {},
   "outputs": [],
   "source": [
    "plant = QuadrotorPlant()\n",
    "context = plant.CreateDefaultContext()\n",
    "plant.get_input_port().FixValue(context, [0, 0, 0, 0])\n",
    "context.get_mutable_continuous_state_vector()\\\n",
    "       .SetFromVector(np.array([0.0, 0.0, 2, 0.0, 0.0, 0.0, 0.0, 0.0, 0.0, 0.0, 0.0, 0.0]))"
   ]
  },
  {
   "cell_type": "code",
   "execution_count": 21,
   "metadata": {},
   "outputs": [
    {
     "ename": "RuntimeError",
     "evalue": "The nominal operating point (x0,u0) is not an equilibrium point of the system.  Without additional information, a time-invariant linearization of this system is not well defined.",
     "output_type": "error",
     "traceback": [
      "\u001b[0;31m---------------------------------------------------------------------------\u001b[0m",
      "\u001b[0;31mRuntimeError\u001b[0m                              Traceback (most recent call last)",
      "Input \u001b[0;32mIn [21]\u001b[0m, in \u001b[0;36m<cell line: 1>\u001b[0;34m()\u001b[0m\n\u001b[0;32m----> 1\u001b[0m lin \u001b[38;5;241m=\u001b[39m \u001b[43mLinearize\u001b[49m\u001b[43m(\u001b[49m\u001b[43mplant\u001b[49m\u001b[43m,\u001b[49m\u001b[43m \u001b[49m\u001b[43mcontext\u001b[49m\u001b[43m)\u001b[49m\n",
      "\u001b[0;31mRuntimeError\u001b[0m: The nominal operating point (x0,u0) is not an equilibrium point of the system.  Without additional information, a time-invariant linearization of this system is not well defined."
     ]
    }
   ],
   "source": [
    "lin = Linearize(plant, context)"
   ]
  },
  {
   "cell_type": "code",
   "execution_count": null,
   "metadata": {},
   "outputs": [],
   "source": []
  }
 ],
 "metadata": {
  "kernelspec": {
   "display_name": "Python 3 (ipykernel)",
   "language": "python",
   "name": "python3"
  },
  "language_info": {
   "codemirror_mode": {
    "name": "ipython",
    "version": 3
   },
   "file_extension": ".py",
   "mimetype": "text/x-python",
   "name": "python",
   "nbconvert_exporter": "python",
   "pygments_lexer": "ipython3",
   "version": "3.8.10"
  }
 },
 "nbformat": 4,
 "nbformat_minor": 4
}
